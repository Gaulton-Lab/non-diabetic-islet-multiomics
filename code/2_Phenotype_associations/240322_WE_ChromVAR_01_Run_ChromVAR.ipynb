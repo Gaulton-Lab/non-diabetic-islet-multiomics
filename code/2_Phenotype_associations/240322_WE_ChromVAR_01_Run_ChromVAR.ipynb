{
 "cells": [
  {
   "cell_type": "markdown",
   "id": "370bc681",
   "metadata": {},
   "source": [
    "# ChromVAR  \n",
    "  \n",
    "This is a notebook to run chromvar on peaks derived from scATAC-seq stored in a Seurat object. This can be reworked to use peaks not entered into a Seurat object. ChromVAR needs 3 inputs. 1) A count matrix that is barcode x peak or sample x peak 2) GRanges identifying peaks and 3) motifs. Motifs can be a custom set, or downloaded from JASPAR. I have code in another location to pull and save JASPAR motifs into a usable format. JASPAR seems to update yearly. The motifs I pulled are all human.  \n",
    "\n",
    "From here there are follow-up notebooks to compare cell types and disease states.\n",
    "\n",
    "A reference for ChromVAR can be found here: https://greenleaflab.github.io/chromVAR/articles/Introduction.html"
   ]
  },
  {
   "cell_type": "code",
   "execution_count": 1,
   "id": "e5c6cf68",
   "metadata": {
    "scrolled": true
   },
   "outputs": [
    {
     "name": "stderr",
     "output_type": "stream",
     "text": [
      "Signac built for for SeuratObject v4 was just loaded with SeuratObject\n",
      "v5; disabling v5 assays and validation routines, and ensuring assays\n",
      "work in strict v3/v4 compatibility mode\n",
      "\n",
      "Loading required package: SeuratObject\n",
      "\n",
      "Loading required package: sp\n",
      "\n",
      "\n",
      "Attaching package: ‘sp’\n",
      "\n",
      "\n",
      "The following object is masked from ‘package:IRanges’:\n",
      "\n",
      "    %over%\n",
      "\n",
      "\n",
      "\n",
      "Attaching package: ‘SeuratObject’\n",
      "\n",
      "\n",
      "The following object is masked from ‘package:SummarizedExperiment’:\n",
      "\n",
      "    Assays\n",
      "\n",
      "\n",
      "The following object is masked from ‘package:GenomicRanges’:\n",
      "\n",
      "    intersect\n",
      "\n",
      "\n",
      "The following object is masked from ‘package:GenomeInfoDb’:\n",
      "\n",
      "    intersect\n",
      "\n",
      "\n",
      "The following object is masked from ‘package:IRanges’:\n",
      "\n",
      "    intersect\n",
      "\n",
      "\n",
      "The following object is masked from ‘package:S4Vectors’:\n",
      "\n",
      "    intersect\n",
      "\n",
      "\n",
      "The following object is masked from ‘package:BiocGenerics’:\n",
      "\n",
      "    intersect\n",
      "\n",
      "\n",
      "The following object is masked from ‘package:base’:\n",
      "\n",
      "    intersect\n",
      "\n",
      "\n",
      "\n",
      "Attaching package: ‘Seurat’\n",
      "\n",
      "\n",
      "The following object is masked from ‘package:SummarizedExperiment’:\n",
      "\n",
      "    Assays\n",
      "\n",
      "\n",
      "Loading required package: BSgenome\n",
      "\n",
      "Loading required package: Biostrings\n",
      "\n",
      "Loading required package: XVector\n",
      "\n",
      "\n",
      "Attaching package: ‘Biostrings’\n",
      "\n",
      "\n",
      "The following object is masked from ‘package:base’:\n",
      "\n",
      "    strsplit\n",
      "\n",
      "\n",
      "Loading required package: rtracklayer\n",
      "\n",
      "\n",
      "Attaching package: ‘dplyr’\n",
      "\n",
      "\n",
      "The following objects are masked from ‘package:Biostrings’:\n",
      "\n",
      "    collapse, intersect, setdiff, setequal, union\n",
      "\n",
      "\n",
      "The following object is masked from ‘package:XVector’:\n",
      "\n",
      "    slice\n",
      "\n",
      "\n",
      "The following object is masked from ‘package:Biobase’:\n",
      "\n",
      "    combine\n",
      "\n",
      "\n",
      "The following objects are masked from ‘package:GenomicRanges’:\n",
      "\n",
      "    intersect, setdiff, union\n",
      "\n",
      "\n",
      "The following object is masked from ‘package:GenomeInfoDb’:\n",
      "\n",
      "    intersect\n",
      "\n",
      "\n",
      "The following objects are masked from ‘package:IRanges’:\n",
      "\n",
      "    collapse, desc, intersect, setdiff, slice, union\n",
      "\n",
      "\n",
      "The following objects are masked from ‘package:S4Vectors’:\n",
      "\n",
      "    first, intersect, rename, setdiff, setequal, union\n",
      "\n",
      "\n",
      "The following objects are masked from ‘package:BiocGenerics’:\n",
      "\n",
      "    combine, intersect, setdiff, union\n",
      "\n",
      "\n",
      "The following object is masked from ‘package:matrixStats’:\n",
      "\n",
      "    count\n",
      "\n",
      "\n",
      "The following objects are masked from ‘package:stats’:\n",
      "\n",
      "    filter, lag\n",
      "\n",
      "\n",
      "The following objects are masked from ‘package:base’:\n",
      "\n",
      "    intersect, setdiff, setequal, union\n",
      "\n",
      "\n",
      "\n",
      "Attaching package: ‘Matrix’\n",
      "\n",
      "\n",
      "The following object is masked from ‘package:TFBSTools’:\n",
      "\n",
      "    Matrix\n",
      "\n",
      "\n",
      "The following object is masked from ‘package:S4Vectors’:\n",
      "\n",
      "    expand\n",
      "\n",
      "\n"
     ]
    }
   ],
   "source": [
    "suppressMessages(library(chromVAR))\n",
    "suppressMessages(library(motifmatchr))\n",
    "suppressMessages(library(SummarizedExperiment))\n",
    "\n",
    "library(Signac)\n",
    "library(Seurat)\n",
    "library(JASPAR2020)\n",
    "library(TFBSTools)\n",
    "library(BSgenome.Hsapiens.UCSC.hg38)\n",
    "library(patchwork)\n",
    "library(readr)\n",
    "library(stringr)\n",
    "library(dplyr)\n",
    "set.seed(1234)\n",
    "library(ggplot2)\n",
    "\n",
    "library(Matrix)\n",
    "library(BiocParallel)\n",
    "register(MulticoreParam(8))\n",
    "\n",
    "#### Send to channel code\n",
    "library(parallel)\n",
    "library(qvalue)"
   ]
  },
  {
   "cell_type": "code",
   "execution_count": 2,
   "id": "a77587fb",
   "metadata": {},
   "outputs": [
    {
     "data": {
      "text/plain": [
       "R version 4.1.1 (2021-08-10)\n",
       "Platform: x86_64-pc-linux-gnu (64-bit)\n",
       "Running under: Ubuntu 20.04.2 LTS\n",
       "\n",
       "Matrix products: default\n",
       "BLAS:   /usr/lib/x86_64-linux-gnu/blas/libblas.so.3.9.0\n",
       "LAPACK: /usr/lib/x86_64-linux-gnu/lapack/liblapack.so.3.9.0\n",
       "\n",
       "locale:\n",
       " [1] LC_CTYPE=en_US.UTF-8       LC_NUMERIC=C              \n",
       " [3] LC_TIME=en_US.UTF-8        LC_COLLATE=en_US.UTF-8    \n",
       " [5] LC_MONETARY=en_US.UTF-8    LC_MESSAGES=en_US.UTF-8   \n",
       " [7] LC_PAPER=en_US.UTF-8       LC_NAME=C                 \n",
       " [9] LC_ADDRESS=C               LC_TELEPHONE=C            \n",
       "[11] LC_MEASUREMENT=en_US.UTF-8 LC_IDENTIFICATION=C       \n",
       "\n",
       "attached base packages:\n",
       "[1] parallel  stats4    stats     graphics  grDevices utils     datasets \n",
       "[8] methods   base     \n",
       "\n",
       "other attached packages:\n",
       " [1] qvalue_2.26.0                     BiocParallel_1.28.3              \n",
       " [3] Matrix_1.6-3                      ggplot2_3.5.0                    \n",
       " [5] dplyr_1.1.4                       stringr_1.5.1                    \n",
       " [7] readr_2.1.4                       patchwork_1.2.0                  \n",
       " [9] BSgenome.Hsapiens.UCSC.hg38_1.4.4 BSgenome_1.62.0                  \n",
       "[11] rtracklayer_1.54.0                Biostrings_2.62.0                \n",
       "[13] XVector_0.34.0                    TFBSTools_1.32.0                 \n",
       "[15] JASPAR2020_0.99.10                Seurat_5.0.3                     \n",
       "[17] SeuratObject_5.0.1                sp_2.1-3                         \n",
       "[19] Signac_1.12.0                     SummarizedExperiment_1.24.0      \n",
       "[21] Biobase_2.54.0                    GenomicRanges_1.46.1             \n",
       "[23] GenomeInfoDb_1.30.1               IRanges_2.28.0                   \n",
       "[25] S4Vectors_0.32.4                  BiocGenerics_0.40.0              \n",
       "[27] MatrixGenerics_1.6.0              matrixStats_1.2.0                \n",
       "[29] motifmatchr_1.16.0                chromVAR_1.16.0                  \n",
       "\n",
       "loaded via a namespace (and not attached):\n",
       "  [1] utf8_1.2.4                  spatstat.explore_3.2-7     \n",
       "  [3] reticulate_1.35.0           R.utils_2.12.3             \n",
       "  [5] tidyselect_1.2.1            poweRlaw_0.70.6            \n",
       "  [7] RSQLite_2.3.4               AnnotationDbi_1.56.2       \n",
       "  [9] htmlwidgets_1.6.4           grid_4.1.1                 \n",
       " [11] Rtsne_0.17                  munsell_0.5.1              \n",
       " [13] codetools_0.2-18            ica_1.0-3                  \n",
       " [15] DT_0.30                     pbdZMQ_0.3-8               \n",
       " [17] future_1.33.2               miniUI_0.1.1.1             \n",
       " [19] withr_3.0.0                 spatstat.random_3.2-3      \n",
       " [21] colorspace_2.1-0            progressr_0.14.0           \n",
       " [23] uuid_1.1-1                  ROCR_1.0-11                \n",
       " [25] tensor_1.5                  listenv_0.9.1              \n",
       " [27] repr_1.1.4                  GenomeInfoDbData_1.2.7     \n",
       " [29] polyclip_1.10-6             bit64_4.0.5                \n",
       " [31] parallelly_1.37.1           vctrs_0.6.5                \n",
       " [33] generics_0.1.3              R6_2.5.1                   \n",
       " [35] bitops_1.0-7                spatstat.utils_3.0-4       \n",
       " [37] cachem_1.0.8                DelayedArray_0.20.0        \n",
       " [39] promises_1.3.0              BiocIO_1.4.0               \n",
       " [41] scales_1.3.0                gtable_0.3.4               \n",
       " [43] globals_0.16.3              goftest_1.2-3              \n",
       " [45] spam_2.10-0                 seqLogo_1.60.0             \n",
       " [47] rlang_1.1.3                 RcppRoll_0.3.0             \n",
       " [49] splines_4.1.1               lazyeval_0.2.2             \n",
       " [51] spatstat.geom_3.2-9         yaml_2.3.8                 \n",
       " [53] reshape2_1.4.4              abind_1.4-5                \n",
       " [55] httpuv_1.6.12               tools_4.1.1                \n",
       " [57] RColorBrewer_1.1-3          ggridges_0.5.6             \n",
       " [59] Rcpp_1.0.12                 plyr_1.8.9                 \n",
       " [61] base64enc_0.1-3             zlibbioc_1.40.0            \n",
       " [63] purrr_1.0.2                 RCurl_1.98-1.13            \n",
       " [65] deldir_2.0-4                pbapply_1.7-2              \n",
       " [67] cowplot_1.1.3               zoo_1.8-12                 \n",
       " [69] ggrepel_0.9.5               cluster_2.1.4              \n",
       " [71] magrittr_2.0.3              data.table_1.15.4          \n",
       " [73] RSpectra_0.16-1             scattermore_1.2            \n",
       " [75] lmtest_0.9-40               RANN_2.6.1                 \n",
       " [77] fitdistrplus_1.1-11         hms_1.1.3                  \n",
       " [79] mime_0.12                   evaluate_0.23              \n",
       " [81] xtable_1.8-4                XML_3.99-0.16              \n",
       " [83] fastDummies_1.7.3           gridExtra_2.3              \n",
       " [85] compiler_4.1.1              tibble_3.2.1               \n",
       " [87] KernSmooth_2.23-20          crayon_1.5.2               \n",
       " [89] R.oo_1.25.0                 htmltools_0.5.8.1          \n",
       " [91] later_1.3.2                 tzdb_0.4.0                 \n",
       " [93] tidyr_1.3.1                 DBI_1.1.3                  \n",
       " [95] MASS_7.3-58.1               cli_3.6.2                  \n",
       " [97] R.methodsS3_1.8.2           dotCall64_1.1-1            \n",
       " [99] igraph_1.5.1                pkgconfig_2.0.3            \n",
       "[101] GenomicAlignments_1.30.0    TFMPvalue_0.0.9            \n",
       "[103] IRdisplay_1.1               plotly_4.10.4              \n",
       "[105] spatstat.sparse_3.0-3       annotate_1.72.0            \n",
       "[107] DirichletMultinomial_1.36.0 digest_0.6.35              \n",
       "[109] sctransform_0.4.1           RcppAnnoy_0.0.22           \n",
       "[111] pracma_2.4.4                CNEr_1.30.0                \n",
       "[113] spatstat.data_3.0-4         leiden_0.4.3.1             \n",
       "[115] fastmatch_1.1-4             uwot_0.1.16                \n",
       "[117] restfulr_0.0.15             shiny_1.8.1.1              \n",
       "[119] Rsamtools_2.10.0            gtools_3.9.5               \n",
       "[121] rjson_0.2.21                nlme_3.1-160               \n",
       "[123] lifecycle_1.0.4             jsonlite_1.8.8             \n",
       "[125] viridisLite_0.4.2           fansi_1.0.6                \n",
       "[127] pillar_1.9.0                lattice_0.20-45            \n",
       "[129] KEGGREST_1.34.0             fastmap_1.1.1              \n",
       "[131] httr_1.4.7                  survival_3.4-0             \n",
       "[133] GO.db_3.14.0                glue_1.7.0                 \n",
       "[135] png_0.1-8                   bit_4.0.5                  \n",
       "[137] stringi_1.8.3               blob_1.2.4                 \n",
       "[139] RcppHNSW_0.6.0              caTools_1.18.2             \n",
       "[141] memoise_2.0.1               IRkernel_1.3.2             \n",
       "[143] irlba_2.3.5.1               future.apply_1.11.2        "
      ]
     },
     "metadata": {},
     "output_type": "display_data"
    }
   ],
   "source": [
    "sessionInfo()"
   ]
  },
  {
   "cell_type": "code",
   "execution_count": 4,
   "id": "5508ad68",
   "metadata": {},
   "outputs": [
    {
     "data": {
      "text/plain": [
       "An object of class Seurat \n",
       "571775 features across 174819 samples within 4 assays \n",
       "Active assay: ATAC_CTpeaks (291821 features, 0 variable features)\n",
       " 2 layers present: counts, data\n",
       " 3 other assays present: RNA, ATAC, SCT\n",
       " 7 dimensional reductions calculated: pca, harmony.rna, umap.rna, lsi, harmony.atac, umap.atac, umap.wnn"
      ]
     },
     "metadata": {},
     "output_type": "display_data"
    }
   ],
   "source": [
    "#Load in Seurat ATAC object\n",
    "\n",
    "atac <- readRDS('/nfs/lab/hmummey/multiomic_islet/intermediates/240308_28sample_combined.noDoublets.QCfilters.ATAC_peaks.FINAL_v2.w_union_peaks.rds')\n",
    "DefaultAssay(atac) <- 'ATAC_CTpeaks'\n",
    "\n",
    "atac"
   ]
  },
  {
   "cell_type": "code",
   "execution_count": 5,
   "id": "26f7fef6",
   "metadata": {},
   "outputs": [
    {
     "data": {
      "text/plain": [
       "An object of class Seurat \n",
       "291821 features across 174819 samples within 1 assay \n",
       "Active assay: ATAC_CTpeaks (291821 features, 0 variable features)\n",
       " 2 layers present: counts, data\n",
       " 7 dimensional reductions calculated: pca, harmony.rna, umap.rna, lsi, harmony.atac, umap.atac, umap.wnn"
      ]
     },
     "metadata": {},
     "output_type": "display_data"
    },
    {
     "data": {
      "text/html": [
       "<table class=\"dataframe\">\n",
       "<caption>A matrix: 2 × 6 of type dbl</caption>\n",
       "<thead>\n",
       "\t<tr><th></th><th scope=col>used</th><th scope=col>(Mb)</th><th scope=col>gc trigger</th><th scope=col>(Mb)</th><th scope=col>max used</th><th scope=col>(Mb)</th></tr>\n",
       "</thead>\n",
       "<tbody>\n",
       "\t<tr><th scope=row>Ncells</th><td>  13078290</td><td>  698.5</td><td>   22796968</td><td> 1217.5</td><td>   17250390</td><td>  921.3</td></tr>\n",
       "\t<tr><th scope=row>Vcells</th><td>3889176942</td><td>29672.1</td><td>12799906380</td><td>97655.6</td><td>10790228178</td><td>82323.0</td></tr>\n",
       "</tbody>\n",
       "</table>\n"
      ],
      "text/latex": [
       "A matrix: 2 × 6 of type dbl\n",
       "\\begin{tabular}{r|llllll}\n",
       "  & used & (Mb) & gc trigger & (Mb) & max used & (Mb)\\\\\n",
       "\\hline\n",
       "\tNcells &   13078290 &   698.5 &    22796968 &  1217.5 &    17250390 &   921.3\\\\\n",
       "\tVcells & 3889176942 & 29672.1 & 12799906380 & 97655.6 & 10790228178 & 82323.0\\\\\n",
       "\\end{tabular}\n"
      ],
      "text/markdown": [
       "\n",
       "A matrix: 2 × 6 of type dbl\n",
       "\n",
       "| <!--/--> | used | (Mb) | gc trigger | (Mb) | max used | (Mb) |\n",
       "|---|---|---|---|---|---|---|\n",
       "| Ncells |   13078290 |   698.5 |    22796968 |  1217.5 |    17250390 |   921.3 |\n",
       "| Vcells | 3889176942 | 29672.1 | 12799906380 | 97655.6 | 10790228178 | 82323.0 |\n",
       "\n"
      ],
      "text/plain": [
       "       used       (Mb)    gc trigger  (Mb)    max used    (Mb)   \n",
       "Ncells   13078290   698.5    22796968  1217.5    17250390   921.3\n",
       "Vcells 3889176942 29672.1 12799906380 97655.6 10790228178 82323.0"
      ]
     },
     "metadata": {},
     "output_type": "display_data"
    }
   ],
   "source": [
    "atac[['RNA']] <- NULL\n",
    "atac[['SCT']] <- NULL\n",
    "atac[['ATAC']] <- NULL\n",
    "\n",
    "atac\n",
    "gc()"
   ]
  },
  {
   "cell_type": "code",
   "execution_count": 6,
   "id": "f146a08c",
   "metadata": {},
   "outputs": [
    {
     "name": "stderr",
     "output_type": "stream",
     "text": [
      "Warning message:\n",
      "“\u001b[1m\u001b[22mThe `slot` argument of `GetAssayData()` is deprecated as of SeuratObject 5.0.0.\n",
      "\u001b[36mℹ\u001b[39m Please use the `layer` argument instead.”\n"
     ]
    }
   ],
   "source": [
    "#Prep inputs for SummarizedExperiment\n",
    "\n",
    "#Extract matrix from Seurat object\n",
    "sc.data <- GetAssayData(atac,slot='data', assay=\"ATAC_CTpeaks\")\n",
    "sc.data.stored <- sc.data\n",
    "\n",
    "# Extract peak locations and reformat into GRanges object\n",
    "bed = str_split_fixed(rownames(sc.data), \"\\\\-\", 3) #This may need to be modified depending on your peak naming convention\n",
    "\n",
    "gr= GRanges(seqnames = bed[,1], ranges = IRanges(start = as.numeric(bed[,2]), end = as.numeric(bed[,3])))"
   ]
  },
  {
   "cell_type": "code",
   "execution_count": 7,
   "id": "44338c7a",
   "metadata": {},
   "outputs": [
    {
     "data": {
      "text/html": [
       "<style>\n",
       ".list-inline {list-style: none; margin:0; padding: 0}\n",
       ".list-inline>li {display: inline-block}\n",
       ".list-inline>li:not(:last-child)::after {content: \"\\00b7\"; padding: 0 .5ex}\n",
       "</style>\n",
       "<ol class=list-inline><li>38</li><li>6</li></ol>\n"
      ],
      "text/latex": [
       "\\begin{enumerate*}\n",
       "\\item 38\n",
       "\\item 6\n",
       "\\end{enumerate*}\n"
      ],
      "text/markdown": [
       "1. 38\n",
       "2. 6\n",
       "\n",
       "\n"
      ],
      "text/plain": [
       "[1] 38  6"
      ]
     },
     "metadata": {},
     "output_type": "display_data"
    },
    {
     "data": {
      "text/html": [
       "<table class=\"dataframe\">\n",
       "<caption>A data.frame: 6 × 6</caption>\n",
       "<thead>\n",
       "\t<tr><th></th><th scope=col>Record ID</th><th scope=col># vials sent</th><th scope=col>Age</th><th scope=col>Sex</th><th scope=col>BMI</th><th scope=col>HbA1c</th></tr>\n",
       "\t<tr><th></th><th scope=col>&lt;chr&gt;</th><th scope=col>&lt;int&gt;</th><th scope=col>&lt;int&gt;</th><th scope=col>&lt;chr&gt;</th><th scope=col>&lt;dbl&gt;</th><th scope=col>&lt;chr&gt;</th></tr>\n",
       "</thead>\n",
       "<tbody>\n",
       "\t<tr><th scope=row>1</th><td>R119</td><td>1</td><td>27</td><td>Male  </td><td>18.60000</td><td>no data</td></tr>\n",
       "\t<tr><th scope=row>2</th><td>R207</td><td>2</td><td>50</td><td>Female</td><td>22.20000</td><td>no data</td></tr>\n",
       "\t<tr><th scope=row>3</th><td>R216</td><td>2</td><td>38</td><td>Male  </td><td>42.59259</td><td>5.6    </td></tr>\n",
       "\t<tr><th scope=row>4</th><td>R217</td><td>2</td><td>71</td><td>Female</td><td>35.53497</td><td>6.3    </td></tr>\n",
       "\t<tr><th scope=row>5</th><td>R218</td><td>1</td><td>73</td><td>Female</td><td>28.35938</td><td>5.9    </td></tr>\n",
       "\t<tr><th scope=row>6</th><td>R221</td><td>1</td><td>44</td><td>Male  </td><td>30.48316</td><td>5.3    </td></tr>\n",
       "</tbody>\n",
       "</table>\n"
      ],
      "text/latex": [
       "A data.frame: 6 × 6\n",
       "\\begin{tabular}{r|llllll}\n",
       "  & Record ID & \\# vials sent & Age & Sex & BMI & HbA1c\\\\\n",
       "  & <chr> & <int> & <int> & <chr> & <dbl> & <chr>\\\\\n",
       "\\hline\n",
       "\t1 & R119 & 1 & 27 & Male   & 18.60000 & no data\\\\\n",
       "\t2 & R207 & 2 & 50 & Female & 22.20000 & no data\\\\\n",
       "\t3 & R216 & 2 & 38 & Male   & 42.59259 & 5.6    \\\\\n",
       "\t4 & R217 & 2 & 71 & Female & 35.53497 & 6.3    \\\\\n",
       "\t5 & R218 & 1 & 73 & Female & 28.35938 & 5.9    \\\\\n",
       "\t6 & R221 & 1 & 44 & Male   & 30.48316 & 5.3    \\\\\n",
       "\\end{tabular}\n"
      ],
      "text/markdown": [
       "\n",
       "A data.frame: 6 × 6\n",
       "\n",
       "| <!--/--> | Record ID &lt;chr&gt; | # vials sent &lt;int&gt; | Age &lt;int&gt; | Sex &lt;chr&gt; | BMI &lt;dbl&gt; | HbA1c &lt;chr&gt; |\n",
       "|---|---|---|---|---|---|---|\n",
       "| 1 | R119 | 1 | 27 | Male   | 18.60000 | no data |\n",
       "| 2 | R207 | 2 | 50 | Female | 22.20000 | no data |\n",
       "| 3 | R216 | 2 | 38 | Male   | 42.59259 | 5.6     |\n",
       "| 4 | R217 | 2 | 71 | Female | 35.53497 | 6.3     |\n",
       "| 5 | R218 | 1 | 73 | Female | 28.35938 | 5.9     |\n",
       "| 6 | R221 | 1 | 44 | Male   | 30.48316 | 5.3     |\n",
       "\n"
      ],
      "text/plain": [
       "  Record ID # vials sent Age Sex    BMI      HbA1c  \n",
       "1 R119      1            27  Male   18.60000 no data\n",
       "2 R207      2            50  Female 22.20000 no data\n",
       "3 R216      2            38  Male   42.59259 5.6    \n",
       "4 R217      2            71  Female 35.53497 6.3    \n",
       "5 R218      1            73  Female 28.35938 5.9    \n",
       "6 R221      1            44  Male   30.48316 5.3    "
      ]
     },
     "metadata": {},
     "output_type": "display_data"
    }
   ],
   "source": [
    "ptx <- readRDS(\"/nfs/lab/welison/islet_multiome/intermediates/PTX_data.RDS\")\n",
    "\n",
    "dim(ptx)\n",
    "head(ptx)"
   ]
  },
  {
   "cell_type": "code",
   "execution_count": 8,
   "id": "5cf4b065",
   "metadata": {},
   "outputs": [
    {
     "data": {
      "text/html": [
       "<style>\n",
       ".list-inline {list-style: none; margin:0; padding: 0}\n",
       ".list-inline>li {display: inline-block}\n",
       ".list-inline>li:not(:last-child)::after {content: \"\\00b7\"; padding: 0 .5ex}\n",
       "</style>\n",
       "<ol class=list-inline><li>'orig.ident'</li><li>'nCount_RNA'</li><li>'nFeature_RNA'</li><li>'percent.mt'</li><li>'nCount_ATAC'</li><li>'nFeature_ATAC'</li><li>'gex_raw_reads'</li><li>'gex_mapped_reads'</li><li>'gex_conf_intergenic_reads'</li><li>'gex_conf_exonic_reads'</li><li>'gex_conf_intronic_reads'</li><li>'gex_conf_exonic_unique_reads'</li><li>'gex_conf_exonic_antisense_reads'</li><li>'gex_conf_exonic_dup_reads'</li><li>'gex_exonic_umis'</li><li>'gex_conf_intronic_unique_reads'</li><li>'gex_conf_intronic_antisense_reads'</li><li>'gex_conf_intronic_dup_reads'</li><li>'gex_intronic_umis'</li><li>'gex_conf_txomic_unique_reads'</li><li>'gex_umis_count'</li><li>'gex_genes_count'</li><li>'atac_raw_reads'</li><li>'atac_unmapped_reads'</li><li>'atac_lowmapq'</li><li>'atac_dup_reads'</li><li>'atac_chimeric_reads'</li><li>'atac_mitochondrial_reads'</li><li>'atac_fragments'</li><li>'atac_TSS_fragments'</li><li>'atac_peak_region_fragments'</li><li>'atac_peak_region_cutsites'</li><li>'TSS.enrichment'</li><li>'TSS.percentile'</li><li>'nCount_SCT'</li><li>'nFeature_SCT'</li><li>'SCT.weight'</li><li>'ATAC.weight'</li><li>'wsnn_res.0.2'</li><li>'seurat_clusters'</li><li>'log_nCount_ATAC'</li><li>'log_nCount_SCT'</li><li>'log_nFeature_ATAC'</li><li>'log_nFeature_SCT'</li><li>'library'</li><li>'keep_barcodes'</li><li>'wsnn_res.0.25'</li><li>'value'</li><li>'assigned_celltype1'</li><li>'sub.cluster'</li><li>'assigned_celltype2'</li><li>'above100'</li><li>'major_celltypes'</li><li>'subpop_celltypes'</li><li>'nCount_ATAC_CTpeaks'</li><li>'nFeature_ATAC_CTpeaks'</li></ol>\n"
      ],
      "text/latex": [
       "\\begin{enumerate*}\n",
       "\\item 'orig.ident'\n",
       "\\item 'nCount\\_RNA'\n",
       "\\item 'nFeature\\_RNA'\n",
       "\\item 'percent.mt'\n",
       "\\item 'nCount\\_ATAC'\n",
       "\\item 'nFeature\\_ATAC'\n",
       "\\item 'gex\\_raw\\_reads'\n",
       "\\item 'gex\\_mapped\\_reads'\n",
       "\\item 'gex\\_conf\\_intergenic\\_reads'\n",
       "\\item 'gex\\_conf\\_exonic\\_reads'\n",
       "\\item 'gex\\_conf\\_intronic\\_reads'\n",
       "\\item 'gex\\_conf\\_exonic\\_unique\\_reads'\n",
       "\\item 'gex\\_conf\\_exonic\\_antisense\\_reads'\n",
       "\\item 'gex\\_conf\\_exonic\\_dup\\_reads'\n",
       "\\item 'gex\\_exonic\\_umis'\n",
       "\\item 'gex\\_conf\\_intronic\\_unique\\_reads'\n",
       "\\item 'gex\\_conf\\_intronic\\_antisense\\_reads'\n",
       "\\item 'gex\\_conf\\_intronic\\_dup\\_reads'\n",
       "\\item 'gex\\_intronic\\_umis'\n",
       "\\item 'gex\\_conf\\_txomic\\_unique\\_reads'\n",
       "\\item 'gex\\_umis\\_count'\n",
       "\\item 'gex\\_genes\\_count'\n",
       "\\item 'atac\\_raw\\_reads'\n",
       "\\item 'atac\\_unmapped\\_reads'\n",
       "\\item 'atac\\_lowmapq'\n",
       "\\item 'atac\\_dup\\_reads'\n",
       "\\item 'atac\\_chimeric\\_reads'\n",
       "\\item 'atac\\_mitochondrial\\_reads'\n",
       "\\item 'atac\\_fragments'\n",
       "\\item 'atac\\_TSS\\_fragments'\n",
       "\\item 'atac\\_peak\\_region\\_fragments'\n",
       "\\item 'atac\\_peak\\_region\\_cutsites'\n",
       "\\item 'TSS.enrichment'\n",
       "\\item 'TSS.percentile'\n",
       "\\item 'nCount\\_SCT'\n",
       "\\item 'nFeature\\_SCT'\n",
       "\\item 'SCT.weight'\n",
       "\\item 'ATAC.weight'\n",
       "\\item 'wsnn\\_res.0.2'\n",
       "\\item 'seurat\\_clusters'\n",
       "\\item 'log\\_nCount\\_ATAC'\n",
       "\\item 'log\\_nCount\\_SCT'\n",
       "\\item 'log\\_nFeature\\_ATAC'\n",
       "\\item 'log\\_nFeature\\_SCT'\n",
       "\\item 'library'\n",
       "\\item 'keep\\_barcodes'\n",
       "\\item 'wsnn\\_res.0.25'\n",
       "\\item 'value'\n",
       "\\item 'assigned\\_celltype1'\n",
       "\\item 'sub.cluster'\n",
       "\\item 'assigned\\_celltype2'\n",
       "\\item 'above100'\n",
       "\\item 'major\\_celltypes'\n",
       "\\item 'subpop\\_celltypes'\n",
       "\\item 'nCount\\_ATAC\\_CTpeaks'\n",
       "\\item 'nFeature\\_ATAC\\_CTpeaks'\n",
       "\\end{enumerate*}\n"
      ],
      "text/markdown": [
       "1. 'orig.ident'\n",
       "2. 'nCount_RNA'\n",
       "3. 'nFeature_RNA'\n",
       "4. 'percent.mt'\n",
       "5. 'nCount_ATAC'\n",
       "6. 'nFeature_ATAC'\n",
       "7. 'gex_raw_reads'\n",
       "8. 'gex_mapped_reads'\n",
       "9. 'gex_conf_intergenic_reads'\n",
       "10. 'gex_conf_exonic_reads'\n",
       "11. 'gex_conf_intronic_reads'\n",
       "12. 'gex_conf_exonic_unique_reads'\n",
       "13. 'gex_conf_exonic_antisense_reads'\n",
       "14. 'gex_conf_exonic_dup_reads'\n",
       "15. 'gex_exonic_umis'\n",
       "16. 'gex_conf_intronic_unique_reads'\n",
       "17. 'gex_conf_intronic_antisense_reads'\n",
       "18. 'gex_conf_intronic_dup_reads'\n",
       "19. 'gex_intronic_umis'\n",
       "20. 'gex_conf_txomic_unique_reads'\n",
       "21. 'gex_umis_count'\n",
       "22. 'gex_genes_count'\n",
       "23. 'atac_raw_reads'\n",
       "24. 'atac_unmapped_reads'\n",
       "25. 'atac_lowmapq'\n",
       "26. 'atac_dup_reads'\n",
       "27. 'atac_chimeric_reads'\n",
       "28. 'atac_mitochondrial_reads'\n",
       "29. 'atac_fragments'\n",
       "30. 'atac_TSS_fragments'\n",
       "31. 'atac_peak_region_fragments'\n",
       "32. 'atac_peak_region_cutsites'\n",
       "33. 'TSS.enrichment'\n",
       "34. 'TSS.percentile'\n",
       "35. 'nCount_SCT'\n",
       "36. 'nFeature_SCT'\n",
       "37. 'SCT.weight'\n",
       "38. 'ATAC.weight'\n",
       "39. 'wsnn_res.0.2'\n",
       "40. 'seurat_clusters'\n",
       "41. 'log_nCount_ATAC'\n",
       "42. 'log_nCount_SCT'\n",
       "43. 'log_nFeature_ATAC'\n",
       "44. 'log_nFeature_SCT'\n",
       "45. 'library'\n",
       "46. 'keep_barcodes'\n",
       "47. 'wsnn_res.0.25'\n",
       "48. 'value'\n",
       "49. 'assigned_celltype1'\n",
       "50. 'sub.cluster'\n",
       "51. 'assigned_celltype2'\n",
       "52. 'above100'\n",
       "53. 'major_celltypes'\n",
       "54. 'subpop_celltypes'\n",
       "55. 'nCount_ATAC_CTpeaks'\n",
       "56. 'nFeature_ATAC_CTpeaks'\n",
       "\n",
       "\n"
      ],
      "text/plain": [
       " [1] \"orig.ident\"                        \"nCount_RNA\"                       \n",
       " [3] \"nFeature_RNA\"                      \"percent.mt\"                       \n",
       " [5] \"nCount_ATAC\"                       \"nFeature_ATAC\"                    \n",
       " [7] \"gex_raw_reads\"                     \"gex_mapped_reads\"                 \n",
       " [9] \"gex_conf_intergenic_reads\"         \"gex_conf_exonic_reads\"            \n",
       "[11] \"gex_conf_intronic_reads\"           \"gex_conf_exonic_unique_reads\"     \n",
       "[13] \"gex_conf_exonic_antisense_reads\"   \"gex_conf_exonic_dup_reads\"        \n",
       "[15] \"gex_exonic_umis\"                   \"gex_conf_intronic_unique_reads\"   \n",
       "[17] \"gex_conf_intronic_antisense_reads\" \"gex_conf_intronic_dup_reads\"      \n",
       "[19] \"gex_intronic_umis\"                 \"gex_conf_txomic_unique_reads\"     \n",
       "[21] \"gex_umis_count\"                    \"gex_genes_count\"                  \n",
       "[23] \"atac_raw_reads\"                    \"atac_unmapped_reads\"              \n",
       "[25] \"atac_lowmapq\"                      \"atac_dup_reads\"                   \n",
       "[27] \"atac_chimeric_reads\"               \"atac_mitochondrial_reads\"         \n",
       "[29] \"atac_fragments\"                    \"atac_TSS_fragments\"               \n",
       "[31] \"atac_peak_region_fragments\"        \"atac_peak_region_cutsites\"        \n",
       "[33] \"TSS.enrichment\"                    \"TSS.percentile\"                   \n",
       "[35] \"nCount_SCT\"                        \"nFeature_SCT\"                     \n",
       "[37] \"SCT.weight\"                        \"ATAC.weight\"                      \n",
       "[39] \"wsnn_res.0.2\"                      \"seurat_clusters\"                  \n",
       "[41] \"log_nCount_ATAC\"                   \"log_nCount_SCT\"                   \n",
       "[43] \"log_nFeature_ATAC\"                 \"log_nFeature_SCT\"                 \n",
       "[45] \"library\"                           \"keep_barcodes\"                    \n",
       "[47] \"wsnn_res.0.25\"                     \"value\"                            \n",
       "[49] \"assigned_celltype1\"                \"sub.cluster\"                      \n",
       "[51] \"assigned_celltype2\"                \"above100\"                         \n",
       "[53] \"major_celltypes\"                   \"subpop_celltypes\"                 \n",
       "[55] \"nCount_ATAC_CTpeaks\"               \"nFeature_ATAC_CTpeaks\"            "
      ]
     },
     "metadata": {},
     "output_type": "display_data"
    }
   ],
   "source": [
    "colnames(atac[[]])"
   ]
  },
  {
   "cell_type": "code",
   "execution_count": 9,
   "id": "c0a72163",
   "metadata": {},
   "outputs": [
    {
     "name": "stdout",
     "output_type": "stream",
     "text": [
      "[1] \"Success adding meta data\"\n"
     ]
    },
    {
     "data": {
      "text/plain": [
       "class: RangedSummarizedExperiment \n",
       "dim: 291821 174819 \n",
       "metadata(0):\n",
       "assays(1): counts\n",
       "rownames(291821): chr1-1000073-1000373 chr1-100036794-100037094 ...\n",
       "  chrY-9652738-9653038 chrY-9812080-9812380\n",
       "rowData names(1): bias\n",
       "colnames(174819): R207_AAACAGCCAAACGGGC-1 R207_AAACAGCCACAAAGAC-1 ...\n",
       "  R364_TTTGTTGGTTAGGCGT-1 R364_TTTGTTGGTTCCGGCT-1\n",
       "colData names(13): orig.ident nCount_ATAC ... BMI HbA1c"
      ]
     },
     "metadata": {},
     "output_type": "display_data"
    }
   ],
   "source": [
    "#Use the matrix and GRanges to make a SummarizedExperiment to put into chromvar and add metadata\n",
    "\n",
    "fragment.counts <- SummarizedExperiment(assays=list(counts=sc.data), rowRanges=gr)\n",
    "fragment.counts.stored <- fragment.counts\n",
    "\n",
    "# Adjust to include any columns from the Seurat object metadata you will use downstream. Easier to include more now.\n",
    "metrics <- select(atac[[]], orig.ident, nCount_ATAC, nFeature_ATAC, TSS.enrichment, library, \n",
    "                  major_celltypes, subpop_celltypes, seurat_clusters) \n",
    "\n",
    "metrics_rownames <- rownames(metrics)\n",
    "metrics <- left_join(metrics, ptx, by=join_by(library=='Record ID'))\n",
    "rownames(metrics) <- metrics_rownames\n",
    "\n",
    "if (length(rownames(metrics)) == sum(rownames(colData(fragment.counts)) == rownames(metrics))) {\n",
    "    print(\"Success adding meta data\")\n",
    "    colData(fragment.counts) <- cbind(colData(fragment.counts), metrics[rownames(colData(fragment.counts)),])\n",
    "} else {\n",
    "    print(\"Failed to add meta data, check column names.\")\n",
    "}\n",
    "\n",
    "fragment.counts <- addGCBias(fragment.counts, genome=BSgenome.Hsapiens.UCSC.hg38)\n",
    "fragment.counts"
   ]
  },
  {
   "cell_type": "code",
   "execution_count": 10,
   "id": "8f9febf8",
   "metadata": {},
   "outputs": [
    {
     "data": {
      "text/plain": [
       "class: RangedSummarizedExperiment \n",
       "dim: 291821 692 \n",
       "metadata(0):\n",
       "assays(1): motifMatches\n",
       "rownames(291821): chr1-1000073-1000373 chr1-100036794-100037094 ...\n",
       "  chrY-9652738-9653038 chrY-9812080-9812380\n",
       "rowData names(1): bias\n",
       "colnames(692): MA0030.1_FOXF2 MA0031.1_FOXD1 ... MA1633.2_BACH1\n",
       "  MA0597.2_THAP1\n",
       "colData names(1): name"
      ]
     },
     "metadata": {},
     "output_type": "display_data"
    }
   ],
   "source": [
    "#Load in motifs\n",
    "jaspar.motifs <- readRDS(file ='/nfs/lab/welison/multiome/chromvar/jaspar_2022_object.Rdata')\n",
    "motif.ix <- matchMotifs(jaspar.motifs, fragment.counts, genome=BSgenome.Hsapiens.UCSC.hg38)\n",
    "\n",
    "motif.ix"
   ]
  },
  {
   "cell_type": "code",
   "execution_count": 12,
   "id": "ce0bec4f",
   "metadata": {},
   "outputs": [],
   "source": [
    "saveRDS(motif.ix, '/nfs/lab/welison/islet_multiome/intermediates/chromVAR/240322_WE_MotifMatches_Union_Peaks.RDS')"
   ]
  },
  {
   "cell_type": "code",
   "execution_count": null,
   "id": "b1b841b9",
   "metadata": {},
   "outputs": [],
   "source": [
    "# Run chromVAR\n",
    "dev <- computeDeviations(object=fragment.counts, annotations=motif.ix)#, expectation=expected)#\n",
    "head(dev)"
   ]
  },
  {
   "cell_type": "code",
   "execution_count": 13,
   "id": "9d9454d9",
   "metadata": {},
   "outputs": [],
   "source": [
    "saveRDS(dev, \"/nfs/lab/welison/islet_multiome/intermediates/chromVAR/240322_WE_ChromVAR_Object_Union_Peaks.RDS\")"
   ]
  },
  {
   "cell_type": "markdown",
   "id": "b5fe1191",
   "metadata": {},
   "source": [
    "# Collect details for downstream analysis"
   ]
  },
  {
   "cell_type": "code",
   "execution_count": 9,
   "id": "2abd02b9",
   "metadata": {},
   "outputs": [],
   "source": [
    "# Reload chromVAR object and motifs if picking up again\n",
    "dev <- readRDS(\"/nfs/lab/welison/islet_multiome/intermediates/chromVAR/240322_WE_ChromVAR_Object_Union_Peaks.RDS\")\n",
    "jaspar.motifs <- readRDS(file ='/nfs/lab/welison/multiome/chromvar/jaspar_2022_object.Rdata')"
   ]
  },
  {
   "cell_type": "code",
   "execution_count": 14,
   "id": "98e16210",
   "metadata": {},
   "outputs": [
    {
     "data": {
      "text/plain": [
       "class: chromVARDeviations \n",
       "dim: 692 174819 \n",
       "metadata(0):\n",
       "assays(2): deviations z\n",
       "rownames(692): MA0030.1_FOXF2 MA0031.1_FOXD1 ... MA1633.2_BACH1\n",
       "  MA0597.2_THAP1\n",
       "rowData names(3): name fractionMatches fractionBackgroundOverlap\n",
       "colnames(174819): R207_AAACAGCCAAACGGGC-1 R207_AAACAGCCACAAAGAC-1 ...\n",
       "  R364_TTTGTTGGTTAGGCGT-1 R364_TTTGTTGGTTCCGGCT-1\n",
       "colData names(13): orig.ident nCount_ATAC ... BMI HbA1c"
      ]
     },
     "metadata": {},
     "output_type": "display_data"
    },
    {
     "data": {
      "text/plain": [
       "PFMatrixList of length 692\n",
       "names(692): MA0030.1_FOXF2 MA0031.1_FOXD1 ... MA1633.2_BACH1 MA0597.2_THAP1"
      ]
     },
     "metadata": {},
     "output_type": "display_data"
    }
   ],
   "source": [
    "dev\n",
    "jaspar.motifs"
   ]
  },
  {
   "cell_type": "code",
   "execution_count": 15,
   "id": "d02f5d56",
   "metadata": {
    "scrolled": true
   },
   "outputs": [
    {
     "data": {
      "text/html": [
       "<table class=\"dataframe\">\n",
       "<caption>A matrix: 6 × 174819 of type dbl</caption>\n",
       "<thead>\n",
       "\t<tr><th></th><th scope=col>R207_AAACAGCCAAACGGGC-1</th><th scope=col>R207_AAACAGCCACAAAGAC-1</th><th scope=col>R207_AAACAGCCAGCAAGTG-1</th><th scope=col>R207_AAACAGCCAGTTATCG-1</th><th scope=col>R207_AAACAGCCATAATCCG-1</th><th scope=col>R207_AAACAGCCATACCCGG-1</th><th scope=col>R207_AAACAGCCATCGTTCT-1</th><th scope=col>R207_AAACAGCCATGGAGGC-1</th><th scope=col>R207_AAACAGCCATTGTGTG-1</th><th scope=col>R207_AAACATGCAAGCTTTG-1</th><th scope=col>⋯</th><th scope=col>R364_TTTGTGAAGGACCTTG-1</th><th scope=col>R364_TTTGTGAAGGCTGTGC-1</th><th scope=col>R364_TTTGTGAAGTGCACGC-1</th><th scope=col>R364_TTTGTGGCAAACTGTT-1</th><th scope=col>R364_TTTGTGGCAACCCTAA-1</th><th scope=col>R364_TTTGTGGCATCCAGGT-1</th><th scope=col>R364_TTTGTTGGTACTTAGG-1</th><th scope=col>R364_TTTGTTGGTCCTAATC-1</th><th scope=col>R364_TTTGTTGGTTAGGCGT-1</th><th scope=col>R364_TTTGTTGGTTCCGGCT-1</th></tr>\n",
       "</thead>\n",
       "<tbody>\n",
       "\t<tr><th scope=row>MA0030.1_FOXF2</th><td> 1.4913928</td><td>-0.63687513</td><td>-0.7251524</td><td>-1.9781767</td><td>-1.06062116</td><td> 0.6735748</td><td> 0.4653425</td><td>-1.6394920</td><td> 0.08687405</td><td>-1.61979764</td><td>⋯</td><td> 0.96854476</td><td>-0.9464179</td><td> 0.3128129</td><td>-0.4413636</td><td>-1.00060548</td><td>-1.1609709</td><td> 1.2485583</td><td>-0.7343543</td><td>-1.6629496</td><td>-1.67087773</td></tr>\n",
       "\t<tr><th scope=row>MA0031.1_FOXD1</th><td> 2.1366843</td><td>-0.06833677</td><td>-1.6660413</td><td>-0.6905277</td><td> 0.69676912</td><td>-0.3088647</td><td>-0.2730008</td><td>-2.1297876</td><td>-1.20554191</td><td>-0.77197582</td><td>⋯</td><td>-0.01568962</td><td>-0.8192722</td><td>-0.2635907</td><td>-0.7313307</td><td>-1.01280811</td><td> 0.0734881</td><td> 0.2890207</td><td>-0.8936817</td><td> 0.4225188</td><td>-0.55875580</td></tr>\n",
       "\t<tr><th scope=row>MA0051.1_IRF2</th><td> 0.3267445</td><td>-1.63373814</td><td> 0.1281970</td><td>-0.1633872</td><td>-0.66625663</td><td>-0.5171653</td><td> 0.7678222</td><td>-0.8765477</td><td> 0.58831617</td><td>-2.02809260</td><td>⋯</td><td>-1.57717893</td><td> 0.1495934</td><td>-1.3612273</td><td>-0.5355550</td><td>-0.07276363</td><td> 0.1793229</td><td> 1.4997652</td><td> 6.4088942</td><td> 1.3183272</td><td>-0.15725917</td></tr>\n",
       "\t<tr><th scope=row>MA0059.1_MAX::MYC</th><td>-1.7614053</td><td> 0.36148943</td><td> 0.3164493</td><td> 0.9097604</td><td> 1.51316034</td><td>-1.3490867</td><td> 1.1332382</td><td> 0.3003517</td><td>-1.39356517</td><td>-0.03300761</td><td>⋯</td><td>-0.98803030</td><td>-0.9794375</td><td>-0.5733284</td><td> 0.1467239</td><td>-0.26865381</td><td> 2.6778550</td><td>-1.1103465</td><td>-2.4022479</td><td> 0.8260518</td><td>-0.21811304</td></tr>\n",
       "\t<tr><th scope=row>MA0066.1_PPARG</th><td> 0.6744202</td><td> 0.35832783</td><td> 0.1990813</td><td>-0.7782567</td><td> 0.09207387</td><td>-0.4960674</td><td> 1.5114329</td><td>-0.7344358</td><td>-0.94289536</td><td> 0.55215427</td><td>⋯</td><td> 2.00140074</td><td> 0.5137450</td><td>-0.3491802</td><td>-1.4467311</td><td>-0.87469969</td><td>-0.6354837</td><td>-1.6573802</td><td> 1.7430765</td><td> 0.6659324</td><td>-0.17862643</td></tr>\n",
       "\t<tr><th scope=row>MA0069.1_PAX6</th><td> 2.4793413</td><td>-1.12134214</td><td>-0.5317226</td><td> 0.2022025</td><td>-0.80478336</td><td>-0.6638515</td><td>-2.2768646</td><td>-0.4631433</td><td> 1.32748715</td><td> 0.16668896</td><td>⋯</td><td> 1.43328850</td><td> 1.5876968</td><td> 1.5354982</td><td>-0.1865182</td><td> 1.54490247</td><td> 0.9846010</td><td>-1.3841573</td><td>-1.2962602</td><td>-0.8383061</td><td> 0.09024474</td></tr>\n",
       "</tbody>\n",
       "</table>\n"
      ],
      "text/latex": [
       "A matrix: 6 × 174819 of type dbl\n",
       "\\begin{tabular}{r|lllllllllllllllllllll}\n",
       "  & R207\\_AAACAGCCAAACGGGC-1 & R207\\_AAACAGCCACAAAGAC-1 & R207\\_AAACAGCCAGCAAGTG-1 & R207\\_AAACAGCCAGTTATCG-1 & R207\\_AAACAGCCATAATCCG-1 & R207\\_AAACAGCCATACCCGG-1 & R207\\_AAACAGCCATCGTTCT-1 & R207\\_AAACAGCCATGGAGGC-1 & R207\\_AAACAGCCATTGTGTG-1 & R207\\_AAACATGCAAGCTTTG-1 & ⋯ & R364\\_TTTGTGAAGGACCTTG-1 & R364\\_TTTGTGAAGGCTGTGC-1 & R364\\_TTTGTGAAGTGCACGC-1 & R364\\_TTTGTGGCAAACTGTT-1 & R364\\_TTTGTGGCAACCCTAA-1 & R364\\_TTTGTGGCATCCAGGT-1 & R364\\_TTTGTTGGTACTTAGG-1 & R364\\_TTTGTTGGTCCTAATC-1 & R364\\_TTTGTTGGTTAGGCGT-1 & R364\\_TTTGTTGGTTCCGGCT-1\\\\\n",
       "\\hline\n",
       "\tMA0030.1\\_FOXF2 &  1.4913928 & -0.63687513 & -0.7251524 & -1.9781767 & -1.06062116 &  0.6735748 &  0.4653425 & -1.6394920 &  0.08687405 & -1.61979764 & ⋯ &  0.96854476 & -0.9464179 &  0.3128129 & -0.4413636 & -1.00060548 & -1.1609709 &  1.2485583 & -0.7343543 & -1.6629496 & -1.67087773\\\\\n",
       "\tMA0031.1\\_FOXD1 &  2.1366843 & -0.06833677 & -1.6660413 & -0.6905277 &  0.69676912 & -0.3088647 & -0.2730008 & -2.1297876 & -1.20554191 & -0.77197582 & ⋯ & -0.01568962 & -0.8192722 & -0.2635907 & -0.7313307 & -1.01280811 &  0.0734881 &  0.2890207 & -0.8936817 &  0.4225188 & -0.55875580\\\\\n",
       "\tMA0051.1\\_IRF2 &  0.3267445 & -1.63373814 &  0.1281970 & -0.1633872 & -0.66625663 & -0.5171653 &  0.7678222 & -0.8765477 &  0.58831617 & -2.02809260 & ⋯ & -1.57717893 &  0.1495934 & -1.3612273 & -0.5355550 & -0.07276363 &  0.1793229 &  1.4997652 &  6.4088942 &  1.3183272 & -0.15725917\\\\\n",
       "\tMA0059.1\\_MAX::MYC & -1.7614053 &  0.36148943 &  0.3164493 &  0.9097604 &  1.51316034 & -1.3490867 &  1.1332382 &  0.3003517 & -1.39356517 & -0.03300761 & ⋯ & -0.98803030 & -0.9794375 & -0.5733284 &  0.1467239 & -0.26865381 &  2.6778550 & -1.1103465 & -2.4022479 &  0.8260518 & -0.21811304\\\\\n",
       "\tMA0066.1\\_PPARG &  0.6744202 &  0.35832783 &  0.1990813 & -0.7782567 &  0.09207387 & -0.4960674 &  1.5114329 & -0.7344358 & -0.94289536 &  0.55215427 & ⋯ &  2.00140074 &  0.5137450 & -0.3491802 & -1.4467311 & -0.87469969 & -0.6354837 & -1.6573802 &  1.7430765 &  0.6659324 & -0.17862643\\\\\n",
       "\tMA0069.1\\_PAX6 &  2.4793413 & -1.12134214 & -0.5317226 &  0.2022025 & -0.80478336 & -0.6638515 & -2.2768646 & -0.4631433 &  1.32748715 &  0.16668896 & ⋯ &  1.43328850 &  1.5876968 &  1.5354982 & -0.1865182 &  1.54490247 &  0.9846010 & -1.3841573 & -1.2962602 & -0.8383061 &  0.09024474\\\\\n",
       "\\end{tabular}\n"
      ],
      "text/markdown": [
       "\n",
       "A matrix: 6 × 174819 of type dbl\n",
       "\n",
       "| <!--/--> | R207_AAACAGCCAAACGGGC-1 | R207_AAACAGCCACAAAGAC-1 | R207_AAACAGCCAGCAAGTG-1 | R207_AAACAGCCAGTTATCG-1 | R207_AAACAGCCATAATCCG-1 | R207_AAACAGCCATACCCGG-1 | R207_AAACAGCCATCGTTCT-1 | R207_AAACAGCCATGGAGGC-1 | R207_AAACAGCCATTGTGTG-1 | R207_AAACATGCAAGCTTTG-1 | ⋯ | R364_TTTGTGAAGGACCTTG-1 | R364_TTTGTGAAGGCTGTGC-1 | R364_TTTGTGAAGTGCACGC-1 | R364_TTTGTGGCAAACTGTT-1 | R364_TTTGTGGCAACCCTAA-1 | R364_TTTGTGGCATCCAGGT-1 | R364_TTTGTTGGTACTTAGG-1 | R364_TTTGTTGGTCCTAATC-1 | R364_TTTGTTGGTTAGGCGT-1 | R364_TTTGTTGGTTCCGGCT-1 |\n",
       "|---|---|---|---|---|---|---|---|---|---|---|---|---|---|---|---|---|---|---|---|---|---|\n",
       "| MA0030.1_FOXF2 |  1.4913928 | -0.63687513 | -0.7251524 | -1.9781767 | -1.06062116 |  0.6735748 |  0.4653425 | -1.6394920 |  0.08687405 | -1.61979764 | ⋯ |  0.96854476 | -0.9464179 |  0.3128129 | -0.4413636 | -1.00060548 | -1.1609709 |  1.2485583 | -0.7343543 | -1.6629496 | -1.67087773 |\n",
       "| MA0031.1_FOXD1 |  2.1366843 | -0.06833677 | -1.6660413 | -0.6905277 |  0.69676912 | -0.3088647 | -0.2730008 | -2.1297876 | -1.20554191 | -0.77197582 | ⋯ | -0.01568962 | -0.8192722 | -0.2635907 | -0.7313307 | -1.01280811 |  0.0734881 |  0.2890207 | -0.8936817 |  0.4225188 | -0.55875580 |\n",
       "| MA0051.1_IRF2 |  0.3267445 | -1.63373814 |  0.1281970 | -0.1633872 | -0.66625663 | -0.5171653 |  0.7678222 | -0.8765477 |  0.58831617 | -2.02809260 | ⋯ | -1.57717893 |  0.1495934 | -1.3612273 | -0.5355550 | -0.07276363 |  0.1793229 |  1.4997652 |  6.4088942 |  1.3183272 | -0.15725917 |\n",
       "| MA0059.1_MAX::MYC | -1.7614053 |  0.36148943 |  0.3164493 |  0.9097604 |  1.51316034 | -1.3490867 |  1.1332382 |  0.3003517 | -1.39356517 | -0.03300761 | ⋯ | -0.98803030 | -0.9794375 | -0.5733284 |  0.1467239 | -0.26865381 |  2.6778550 | -1.1103465 | -2.4022479 |  0.8260518 | -0.21811304 |\n",
       "| MA0066.1_PPARG |  0.6744202 |  0.35832783 |  0.1990813 | -0.7782567 |  0.09207387 | -0.4960674 |  1.5114329 | -0.7344358 | -0.94289536 |  0.55215427 | ⋯ |  2.00140074 |  0.5137450 | -0.3491802 | -1.4467311 | -0.87469969 | -0.6354837 | -1.6573802 |  1.7430765 |  0.6659324 | -0.17862643 |\n",
       "| MA0069.1_PAX6 |  2.4793413 | -1.12134214 | -0.5317226 |  0.2022025 | -0.80478336 | -0.6638515 | -2.2768646 | -0.4631433 |  1.32748715 |  0.16668896 | ⋯ |  1.43328850 |  1.5876968 |  1.5354982 | -0.1865182 |  1.54490247 |  0.9846010 | -1.3841573 | -1.2962602 | -0.8383061 |  0.09024474 |\n",
       "\n"
      ],
      "text/plain": [
       "                  R207_AAACAGCCAAACGGGC-1 R207_AAACAGCCACAAAGAC-1\n",
       "MA0030.1_FOXF2     1.4913928              -0.63687513            \n",
       "MA0031.1_FOXD1     2.1366843              -0.06833677            \n",
       "MA0051.1_IRF2      0.3267445              -1.63373814            \n",
       "MA0059.1_MAX::MYC -1.7614053               0.36148943            \n",
       "MA0066.1_PPARG     0.6744202               0.35832783            \n",
       "MA0069.1_PAX6      2.4793413              -1.12134214            \n",
       "                  R207_AAACAGCCAGCAAGTG-1 R207_AAACAGCCAGTTATCG-1\n",
       "MA0030.1_FOXF2    -0.7251524              -1.9781767             \n",
       "MA0031.1_FOXD1    -1.6660413              -0.6905277             \n",
       "MA0051.1_IRF2      0.1281970              -0.1633872             \n",
       "MA0059.1_MAX::MYC  0.3164493               0.9097604             \n",
       "MA0066.1_PPARG     0.1990813              -0.7782567             \n",
       "MA0069.1_PAX6     -0.5317226               0.2022025             \n",
       "                  R207_AAACAGCCATAATCCG-1 R207_AAACAGCCATACCCGG-1\n",
       "MA0030.1_FOXF2    -1.06062116              0.6735748             \n",
       "MA0031.1_FOXD1     0.69676912             -0.3088647             \n",
       "MA0051.1_IRF2     -0.66625663             -0.5171653             \n",
       "MA0059.1_MAX::MYC  1.51316034             -1.3490867             \n",
       "MA0066.1_PPARG     0.09207387             -0.4960674             \n",
       "MA0069.1_PAX6     -0.80478336             -0.6638515             \n",
       "                  R207_AAACAGCCATCGTTCT-1 R207_AAACAGCCATGGAGGC-1\n",
       "MA0030.1_FOXF2     0.4653425              -1.6394920             \n",
       "MA0031.1_FOXD1    -0.2730008              -2.1297876             \n",
       "MA0051.1_IRF2      0.7678222              -0.8765477             \n",
       "MA0059.1_MAX::MYC  1.1332382               0.3003517             \n",
       "MA0066.1_PPARG     1.5114329              -0.7344358             \n",
       "MA0069.1_PAX6     -2.2768646              -0.4631433             \n",
       "                  R207_AAACAGCCATTGTGTG-1 R207_AAACATGCAAGCTTTG-1 ⋯\n",
       "MA0030.1_FOXF2     0.08687405             -1.61979764             ⋯\n",
       "MA0031.1_FOXD1    -1.20554191             -0.77197582             ⋯\n",
       "MA0051.1_IRF2      0.58831617             -2.02809260             ⋯\n",
       "MA0059.1_MAX::MYC -1.39356517             -0.03300761             ⋯\n",
       "MA0066.1_PPARG    -0.94289536              0.55215427             ⋯\n",
       "MA0069.1_PAX6      1.32748715              0.16668896             ⋯\n",
       "                  R364_TTTGTGAAGGACCTTG-1 R364_TTTGTGAAGGCTGTGC-1\n",
       "MA0030.1_FOXF2     0.96854476             -0.9464179             \n",
       "MA0031.1_FOXD1    -0.01568962             -0.8192722             \n",
       "MA0051.1_IRF2     -1.57717893              0.1495934             \n",
       "MA0059.1_MAX::MYC -0.98803030             -0.9794375             \n",
       "MA0066.1_PPARG     2.00140074              0.5137450             \n",
       "MA0069.1_PAX6      1.43328850              1.5876968             \n",
       "                  R364_TTTGTGAAGTGCACGC-1 R364_TTTGTGGCAAACTGTT-1\n",
       "MA0030.1_FOXF2     0.3128129              -0.4413636             \n",
       "MA0031.1_FOXD1    -0.2635907              -0.7313307             \n",
       "MA0051.1_IRF2     -1.3612273              -0.5355550             \n",
       "MA0059.1_MAX::MYC -0.5733284               0.1467239             \n",
       "MA0066.1_PPARG    -0.3491802              -1.4467311             \n",
       "MA0069.1_PAX6      1.5354982              -0.1865182             \n",
       "                  R364_TTTGTGGCAACCCTAA-1 R364_TTTGTGGCATCCAGGT-1\n",
       "MA0030.1_FOXF2    -1.00060548             -1.1609709             \n",
       "MA0031.1_FOXD1    -1.01280811              0.0734881             \n",
       "MA0051.1_IRF2     -0.07276363              0.1793229             \n",
       "MA0059.1_MAX::MYC -0.26865381              2.6778550             \n",
       "MA0066.1_PPARG    -0.87469969             -0.6354837             \n",
       "MA0069.1_PAX6      1.54490247              0.9846010             \n",
       "                  R364_TTTGTTGGTACTTAGG-1 R364_TTTGTTGGTCCTAATC-1\n",
       "MA0030.1_FOXF2     1.2485583              -0.7343543             \n",
       "MA0031.1_FOXD1     0.2890207              -0.8936817             \n",
       "MA0051.1_IRF2      1.4997652               6.4088942             \n",
       "MA0059.1_MAX::MYC -1.1103465              -2.4022479             \n",
       "MA0066.1_PPARG    -1.6573802               1.7430765             \n",
       "MA0069.1_PAX6     -1.3841573              -1.2962602             \n",
       "                  R364_TTTGTTGGTTAGGCGT-1 R364_TTTGTTGGTTCCGGCT-1\n",
       "MA0030.1_FOXF2    -1.6629496              -1.67087773            \n",
       "MA0031.1_FOXD1     0.4225188              -0.55875580            \n",
       "MA0051.1_IRF2      1.3183272              -0.15725917            \n",
       "MA0059.1_MAX::MYC  0.8260518              -0.21811304            \n",
       "MA0066.1_PPARG     0.6659324              -0.17862643            \n",
       "MA0069.1_PAX6     -0.8383061               0.09024474            "
      ]
     },
     "metadata": {},
     "output_type": "display_data"
    }
   ],
   "source": [
    "#This is a cell by motif deviation score (aka accessibility) matrix\n",
    "devtab = deviationScores(dev)\n",
    "head(devtab)"
   ]
  },
  {
   "cell_type": "code",
   "execution_count": 16,
   "id": "796f6bcf",
   "metadata": {},
   "outputs": [
    {
     "data": {
      "text/html": [
       "<table class=\"dataframe\">\n",
       "<caption>A data.frame: 6 × 6</caption>\n",
       "<thead>\n",
       "\t<tr><th></th><th scope=col>name</th><th scope=col>variability</th><th scope=col>bootstrap_lower_bound</th><th scope=col>bootstrap_upper_bound</th><th scope=col>p_value</th><th scope=col>p_value_adj</th></tr>\n",
       "\t<tr><th></th><th scope=col>&lt;chr&gt;</th><th scope=col>&lt;dbl&gt;</th><th scope=col>&lt;dbl&gt;</th><th scope=col>&lt;dbl&gt;</th><th scope=col>&lt;dbl&gt;</th><th scope=col>&lt;dbl&gt;</th></tr>\n",
       "</thead>\n",
       "<tbody>\n",
       "\t<tr><th scope=row>MA0030.1_FOXF2</th><td>FOXF2   </td><td>1.204100</td><td>1.199900</td><td>1.208402</td><td>0</td><td>0</td></tr>\n",
       "\t<tr><th scope=row>MA0031.1_FOXD1</th><td>FOXD1   </td><td>1.274818</td><td>1.269922</td><td>1.279448</td><td>0</td><td>0</td></tr>\n",
       "\t<tr><th scope=row>MA0051.1_IRF2</th><td>IRF2    </td><td>1.272636</td><td>1.266963</td><td>1.278789</td><td>0</td><td>0</td></tr>\n",
       "\t<tr><th scope=row>MA0059.1_MAX::MYC</th><td>MAX::MYC</td><td>1.104175</td><td>1.100410</td><td>1.107867</td><td>0</td><td>0</td></tr>\n",
       "\t<tr><th scope=row>MA0066.1_PPARG</th><td>PPARG   </td><td>1.087314</td><td>1.083687</td><td>1.090665</td><td>0</td><td>0</td></tr>\n",
       "\t<tr><th scope=row>MA0069.1_PAX6</th><td>PAX6    </td><td>1.184479</td><td>1.180886</td><td>1.188369</td><td>0</td><td>0</td></tr>\n",
       "</tbody>\n",
       "</table>\n"
      ],
      "text/latex": [
       "A data.frame: 6 × 6\n",
       "\\begin{tabular}{r|llllll}\n",
       "  & name & variability & bootstrap\\_lower\\_bound & bootstrap\\_upper\\_bound & p\\_value & p\\_value\\_adj\\\\\n",
       "  & <chr> & <dbl> & <dbl> & <dbl> & <dbl> & <dbl>\\\\\n",
       "\\hline\n",
       "\tMA0030.1\\_FOXF2 & FOXF2    & 1.204100 & 1.199900 & 1.208402 & 0 & 0\\\\\n",
       "\tMA0031.1\\_FOXD1 & FOXD1    & 1.274818 & 1.269922 & 1.279448 & 0 & 0\\\\\n",
       "\tMA0051.1\\_IRF2 & IRF2     & 1.272636 & 1.266963 & 1.278789 & 0 & 0\\\\\n",
       "\tMA0059.1\\_MAX::MYC & MAX::MYC & 1.104175 & 1.100410 & 1.107867 & 0 & 0\\\\\n",
       "\tMA0066.1\\_PPARG & PPARG    & 1.087314 & 1.083687 & 1.090665 & 0 & 0\\\\\n",
       "\tMA0069.1\\_PAX6 & PAX6     & 1.184479 & 1.180886 & 1.188369 & 0 & 0\\\\\n",
       "\\end{tabular}\n"
      ],
      "text/markdown": [
       "\n",
       "A data.frame: 6 × 6\n",
       "\n",
       "| <!--/--> | name &lt;chr&gt; | variability &lt;dbl&gt; | bootstrap_lower_bound &lt;dbl&gt; | bootstrap_upper_bound &lt;dbl&gt; | p_value &lt;dbl&gt; | p_value_adj &lt;dbl&gt; |\n",
       "|---|---|---|---|---|---|---|\n",
       "| MA0030.1_FOXF2 | FOXF2    | 1.204100 | 1.199900 | 1.208402 | 0 | 0 |\n",
       "| MA0031.1_FOXD1 | FOXD1    | 1.274818 | 1.269922 | 1.279448 | 0 | 0 |\n",
       "| MA0051.1_IRF2 | IRF2     | 1.272636 | 1.266963 | 1.278789 | 0 | 0 |\n",
       "| MA0059.1_MAX::MYC | MAX::MYC | 1.104175 | 1.100410 | 1.107867 | 0 | 0 |\n",
       "| MA0066.1_PPARG | PPARG    | 1.087314 | 1.083687 | 1.090665 | 0 | 0 |\n",
       "| MA0069.1_PAX6 | PAX6     | 1.184479 | 1.180886 | 1.188369 | 0 | 0 |\n",
       "\n"
      ],
      "text/plain": [
       "                  name     variability bootstrap_lower_bound\n",
       "MA0030.1_FOXF2    FOXF2    1.204100    1.199900             \n",
       "MA0031.1_FOXD1    FOXD1    1.274818    1.269922             \n",
       "MA0051.1_IRF2     IRF2     1.272636    1.266963             \n",
       "MA0059.1_MAX::MYC MAX::MYC 1.104175    1.100410             \n",
       "MA0066.1_PPARG    PPARG    1.087314    1.083687             \n",
       "MA0069.1_PAX6     PAX6     1.184479    1.180886             \n",
       "                  bootstrap_upper_bound p_value p_value_adj\n",
       "MA0030.1_FOXF2    1.208402              0       0          \n",
       "MA0031.1_FOXD1    1.279448              0       0          \n",
       "MA0051.1_IRF2     1.278789              0       0          \n",
       "MA0059.1_MAX::MYC 1.107867              0       0          \n",
       "MA0066.1_PPARG    1.090665              0       0          \n",
       "MA0069.1_PAX6     1.188369              0       0          "
      ]
     },
     "metadata": {},
     "output_type": "display_data"
    }
   ],
   "source": [
    "# Variation of accessibiility across deviation scores, basically the standard errror. Null is about 1\n",
    "variability <- computeVariability(dev)\n",
    "head(variability)"
   ]
  },
  {
   "cell_type": "code",
   "execution_count": 17,
   "id": "e0e1c4cd",
   "metadata": {
    "scrolled": true
   },
   "outputs": [
    {
     "data": {
      "text/html": [
       "<table class=\"dataframe\">\n",
       "<caption>A matrix: 692 × 2</caption>\n",
       "<tbody>\n",
       "\t<tr><th scope=row>MA0030.1_FOXF2</th><td>FOXF2</td><td>Fork head/winged helix factors</td></tr>\n",
       "\t<tr><th scope=row>MA0031.1_FOXD1</th><td>FOXD1</td><td>Fork head/winged helix factors</td></tr>\n",
       "\t<tr><th scope=row>MA0051.1_IRF2</th><td>IRF2</td><td>Tryptophan cluster factors</td></tr>\n",
       "\t<tr><th scope=row>MA0059.1_MAX::MYC</th><td>MAX::MYC</td><td>Basic helix-loop-helix factors (bHLH)</td></tr>\n",
       "\t<tr><th scope=row>MA0066.1_PPARG</th><td>PPARG</td><td>Nuclear receptors with C4 zinc fingers</td></tr>\n",
       "\t<tr><th scope=row>MA0069.1_PAX6</th><td>PAX6</td><td>Paired box factors</td></tr>\n",
       "\t<tr><th scope=row>MA0070.1_PBX1</th><td>PBX1</td><td>Homeo domain factors</td></tr>\n",
       "\t<tr><th scope=row>MA0071.1_RORA</th><td>RORA</td><td>Nuclear receptors with C4 zinc fingers</td></tr>\n",
       "\t<tr><th scope=row>MA0072.1_RORA</th><td>RORA</td><td>Nuclear receptors with C4 zinc fingers</td></tr>\n",
       "\t<tr><th scope=row>MA0073.1_RREB1</th><td>RREB1</td><td>C2H2 zinc finger factors</td></tr>\n",
       "\t<tr><th scope=row>MA0074.1_RXRA::VDR</th><td>RXRA::VDR</td><td>Nuclear receptors with C4 zinc fingers</td></tr>\n",
       "\t<tr><th scope=row>MA0077.1_SOX9</th><td>SOX9</td><td>High-mobility group (HMG) domain factors</td></tr>\n",
       "\t<tr><th scope=row>MA0084.1_SRY</th><td>SRY</td><td>High-mobility group (HMG) domain factors</td></tr>\n",
       "\t<tr><th scope=row>MA0091.1_TAL1::TCF3</th><td>TAL1::TCF3</td><td>Basic helix-loop-helix factors (bHLH)</td></tr>\n",
       "\t<tr><th scope=row>MA0101.1_REL</th><td>REL</td><td>Rel homology region (RHR) factors</td></tr>\n",
       "\t<tr><th scope=row>MA0107.1_RELA</th><td>RELA</td><td>Rel homology region (RHR) factors</td></tr>\n",
       "\t<tr><th scope=row>MA0115.1_NR1H2::RXRA</th><td>NR1H2::RXRA</td><td>Nuclear receptors with C4 zinc fingers</td></tr>\n",
       "\t<tr><th scope=row>MA0119.1_NFIC::TLX1</th><td>NFIC::TLX1</td><td>SMAD/NF-1 DNA-binding domain factors, Homeo domain factors                </td></tr>\n",
       "\t<tr><th scope=row>MA0130.1_ZNF354C</th><td>ZNF354C</td><td>C2H2 zinc finger factors</td></tr>\n",
       "\t<tr><th scope=row>MA0139.1_CTCF</th><td>CTCF</td><td>C2H2 zinc finger factors</td></tr>\n",
       "\t<tr><th scope=row>MA0149.1_EWSR1-FLI1</th><td>EWSR1-FLI1</td><td>Tryptophan cluster factors</td></tr>\n",
       "\t<tr><th scope=row>MA0138.2_REST</th><td>REST</td><td>C2H2 zinc finger factors</td></tr>\n",
       "\t<tr><th scope=row>MA0155.1_INSM1</th><td>INSM1</td><td>C2H2 zinc finger factors</td></tr>\n",
       "\t<tr><th scope=row>MA0159.1_RARA::RXRA</th><td>RARA::RXRA</td><td>Nuclear receptors with C4 zinc fingers</td></tr>\n",
       "\t<tr><th scope=row>MA0163.1_PLAG1</th><td>PLAG1</td><td>C2H2 zinc finger factors</td></tr>\n",
       "\t<tr><th scope=row>MA0259.1_ARNT::HIF1A</th><td>ARNT::HIF1A</td><td>Basic helix-loop-helix factors (bHLH)</td></tr>\n",
       "\t<tr><th scope=row>MA0468.1_DUX4</th><td>DUX4</td><td>Homeo domain factors</td></tr>\n",
       "\t<tr><th scope=row>MA0476.1_FOS</th><td>FOS</td><td>Basic leucine zipper factors (bZIP)</td></tr>\n",
       "\t<tr><th scope=row>MA0478.1_FOSL2</th><td>FOSL2</td><td>Basic leucine zipper factors (bZIP)</td></tr>\n",
       "\t<tr><th scope=row>MA0479.1_FOXH1</th><td>FOXH1</td><td>Fork head/winged helix factors</td></tr>\n",
       "\t<tr><th scope=row>⋮</th><td>⋮</td><td>⋮</td></tr>\n",
       "\t<tr><th scope=row>MA0765.3_ETV5</th><td>ETV5</td><td>Tryptophan cluster factors</td></tr>\n",
       "\t<tr><th scope=row>MA0784.2_POU1F1</th><td>POU1F1</td><td>Homeo domain factors</td></tr>\n",
       "\t<tr><th scope=row>MA0798.3_RFX3</th><td>RFX3</td><td>Fork head/winged helix factors</td></tr>\n",
       "\t<tr><th scope=row>MA0799.2_RFX4</th><td>RFX4</td><td>Fork head/winged helix factors</td></tr>\n",
       "\t<tr><th scope=row>MA0818.2_BHLHE22</th><td>BHLHE22</td><td>Basic helix-loop-helix factors (bHLH)</td></tr>\n",
       "\t<tr><th scope=row>MA0819.2_CLOCK</th><td>CLOCK</td><td>Basic helix-loop-helix factors (bHLH)</td></tr>\n",
       "\t<tr><th scope=row>MA0821.2_HES5</th><td>HES5</td><td>Basic helix-loop-helix factors (bHLH)</td></tr>\n",
       "\t<tr><th scope=row>MA0828.2_SREBF2</th><td>SREBF2</td><td>Basic helix-loop-helix factors (bHLH)</td></tr>\n",
       "\t<tr><th scope=row>MA0831.3_TFE3</th><td>TFE3</td><td>Basic helix-loop-helix factors (bHLH)</td></tr>\n",
       "\t<tr><th scope=row>MA0837.2_CEBPE</th><td>CEBPE</td><td>Basic leucine zipper factors (bZIP)</td></tr>\n",
       "\t<tr><th scope=row>MA0847.3_FOXD2</th><td>FOXD2</td><td>Fork head/winged helix factors</td></tr>\n",
       "\t<tr><th scope=row>MA0865.2_E2F8</th><td>E2F8</td><td>Fork head/winged helix factors</td></tr>\n",
       "\t<tr><th scope=row>MA0877.3_BARHL1</th><td>BARHL1</td><td>Homeo domain factors</td></tr>\n",
       "\t<tr><th scope=row>MA0878.3_CDX1</th><td>CDX1</td><td>Homeo domain factors</td></tr>\n",
       "\t<tr><th scope=row>MA0879.2_DLX1</th><td>DLX1</td><td>Homeo domain factors</td></tr>\n",
       "\t<tr><th scope=row>MA0884.2_DUXA</th><td>DUXA</td><td>Homeo domain factors</td></tr>\n",
       "\t<tr><th scope=row>MA1483.2_ELF2</th><td>ELF2</td><td>Tryptophan cluster factors</td></tr>\n",
       "\t<tr><th scope=row>MA1487.2_FOXE1</th><td>FOXE1</td><td>Fork head/winged helix factors</td></tr>\n",
       "\t<tr><th scope=row>MA1491.2_GLI3</th><td>GLI3</td><td>C2H2 zinc finger factors</td></tr>\n",
       "\t<tr><th scope=row>MA1498.2_HOXA7</th><td>HOXA7</td><td>Homeo domain factors</td></tr>\n",
       "\t<tr><th scope=row>MA1511.2_KLF10</th><td>KLF10</td><td>C2H2 zinc finger factors</td></tr>\n",
       "\t<tr><th scope=row>MA1525.2_NFATC4</th><td>NFATC4</td><td>Rel homology region (RHR) factors</td></tr>\n",
       "\t<tr><th scope=row>MA1532.2_NR1D2</th><td>NR1D2</td><td>Nuclear receptors with C4 zinc fingers</td></tr>\n",
       "\t<tr><th scope=row>MA1547.2_PITX2</th><td>PITX2</td><td>Homeo domain factors</td></tr>\n",
       "\t<tr><th scope=row>MA1563.2_SOX18</th><td>SOX18</td><td>High-mobility group (HMG) domain factors</td></tr>\n",
       "\t<tr><th scope=row>MA1566.2_TBX3</th><td>TBX3</td><td>T-Box factors</td></tr>\n",
       "\t<tr><th scope=row>MA1601.2_ZNF75D</th><td>ZNF75D</td><td>C2H2 zinc finger factors</td></tr>\n",
       "\t<tr><th scope=row>MA1630.2_ZNF281</th><td>ZNF281</td><td>C2H2 zinc finger factors</td></tr>\n",
       "\t<tr><th scope=row>MA1633.2_BACH1</th><td>BACH1</td><td>Basic leucine zipper factors (bZIP)</td></tr>\n",
       "\t<tr><th scope=row>MA0597.2_THAP1</th><td>THAP1</td><td>C2CH THAP-type zinc finger factors</td></tr>\n",
       "</tbody>\n",
       "</table>\n"
      ],
      "text/latex": [
       "A matrix: 692 × 2\n",
       "\\begin{tabular}{r|ll}\n",
       "\tMA0030.1\\_FOXF2 & FOXF2 & Fork head/winged helix factors\\\\\n",
       "\tMA0031.1\\_FOXD1 & FOXD1 & Fork head/winged helix factors\\\\\n",
       "\tMA0051.1\\_IRF2 & IRF2 & Tryptophan cluster factors\\\\\n",
       "\tMA0059.1\\_MAX::MYC & MAX::MYC & Basic helix-loop-helix factors (bHLH)\\\\\n",
       "\tMA0066.1\\_PPARG & PPARG & Nuclear receptors with C4 zinc fingers\\\\\n",
       "\tMA0069.1\\_PAX6 & PAX6 & Paired box factors\\\\\n",
       "\tMA0070.1\\_PBX1 & PBX1 & Homeo domain factors\\\\\n",
       "\tMA0071.1\\_RORA & RORA & Nuclear receptors with C4 zinc fingers\\\\\n",
       "\tMA0072.1\\_RORA & RORA & Nuclear receptors with C4 zinc fingers\\\\\n",
       "\tMA0073.1\\_RREB1 & RREB1 & C2H2 zinc finger factors\\\\\n",
       "\tMA0074.1\\_RXRA::VDR & RXRA::VDR & Nuclear receptors with C4 zinc fingers\\\\\n",
       "\tMA0077.1\\_SOX9 & SOX9 & High-mobility group (HMG) domain factors\\\\\n",
       "\tMA0084.1\\_SRY & SRY & High-mobility group (HMG) domain factors\\\\\n",
       "\tMA0091.1\\_TAL1::TCF3 & TAL1::TCF3 & Basic helix-loop-helix factors (bHLH)\\\\\n",
       "\tMA0101.1\\_REL & REL & Rel homology region (RHR) factors\\\\\n",
       "\tMA0107.1\\_RELA & RELA & Rel homology region (RHR) factors\\\\\n",
       "\tMA0115.1\\_NR1H2::RXRA & NR1H2::RXRA & Nuclear receptors with C4 zinc fingers\\\\\n",
       "\tMA0119.1\\_NFIC::TLX1 & NFIC::TLX1 & SMAD/NF-1 DNA-binding domain factors, Homeo domain factors                \\\\\n",
       "\tMA0130.1\\_ZNF354C & ZNF354C & C2H2 zinc finger factors\\\\\n",
       "\tMA0139.1\\_CTCF & CTCF & C2H2 zinc finger factors\\\\\n",
       "\tMA0149.1\\_EWSR1-FLI1 & EWSR1-FLI1 & Tryptophan cluster factors\\\\\n",
       "\tMA0138.2\\_REST & REST & C2H2 zinc finger factors\\\\\n",
       "\tMA0155.1\\_INSM1 & INSM1 & C2H2 zinc finger factors\\\\\n",
       "\tMA0159.1\\_RARA::RXRA & RARA::RXRA & Nuclear receptors with C4 zinc fingers\\\\\n",
       "\tMA0163.1\\_PLAG1 & PLAG1 & C2H2 zinc finger factors\\\\\n",
       "\tMA0259.1\\_ARNT::HIF1A & ARNT::HIF1A & Basic helix-loop-helix factors (bHLH)\\\\\n",
       "\tMA0468.1\\_DUX4 & DUX4 & Homeo domain factors\\\\\n",
       "\tMA0476.1\\_FOS & FOS & Basic leucine zipper factors (bZIP)\\\\\n",
       "\tMA0478.1\\_FOSL2 & FOSL2 & Basic leucine zipper factors (bZIP)\\\\\n",
       "\tMA0479.1\\_FOXH1 & FOXH1 & Fork head/winged helix factors\\\\\n",
       "\t⋮ & ⋮ & ⋮\\\\\n",
       "\tMA0765.3\\_ETV5 & ETV5 & Tryptophan cluster factors\\\\\n",
       "\tMA0784.2\\_POU1F1 & POU1F1 & Homeo domain factors\\\\\n",
       "\tMA0798.3\\_RFX3 & RFX3 & Fork head/winged helix factors\\\\\n",
       "\tMA0799.2\\_RFX4 & RFX4 & Fork head/winged helix factors\\\\\n",
       "\tMA0818.2\\_BHLHE22 & BHLHE22 & Basic helix-loop-helix factors (bHLH)\\\\\n",
       "\tMA0819.2\\_CLOCK & CLOCK & Basic helix-loop-helix factors (bHLH)\\\\\n",
       "\tMA0821.2\\_HES5 & HES5 & Basic helix-loop-helix factors (bHLH)\\\\\n",
       "\tMA0828.2\\_SREBF2 & SREBF2 & Basic helix-loop-helix factors (bHLH)\\\\\n",
       "\tMA0831.3\\_TFE3 & TFE3 & Basic helix-loop-helix factors (bHLH)\\\\\n",
       "\tMA0837.2\\_CEBPE & CEBPE & Basic leucine zipper factors (bZIP)\\\\\n",
       "\tMA0847.3\\_FOXD2 & FOXD2 & Fork head/winged helix factors\\\\\n",
       "\tMA0865.2\\_E2F8 & E2F8 & Fork head/winged helix factors\\\\\n",
       "\tMA0877.3\\_BARHL1 & BARHL1 & Homeo domain factors\\\\\n",
       "\tMA0878.3\\_CDX1 & CDX1 & Homeo domain factors\\\\\n",
       "\tMA0879.2\\_DLX1 & DLX1 & Homeo domain factors\\\\\n",
       "\tMA0884.2\\_DUXA & DUXA & Homeo domain factors\\\\\n",
       "\tMA1483.2\\_ELF2 & ELF2 & Tryptophan cluster factors\\\\\n",
       "\tMA1487.2\\_FOXE1 & FOXE1 & Fork head/winged helix factors\\\\\n",
       "\tMA1491.2\\_GLI3 & GLI3 & C2H2 zinc finger factors\\\\\n",
       "\tMA1498.2\\_HOXA7 & HOXA7 & Homeo domain factors\\\\\n",
       "\tMA1511.2\\_KLF10 & KLF10 & C2H2 zinc finger factors\\\\\n",
       "\tMA1525.2\\_NFATC4 & NFATC4 & Rel homology region (RHR) factors\\\\\n",
       "\tMA1532.2\\_NR1D2 & NR1D2 & Nuclear receptors with C4 zinc fingers\\\\\n",
       "\tMA1547.2\\_PITX2 & PITX2 & Homeo domain factors\\\\\n",
       "\tMA1563.2\\_SOX18 & SOX18 & High-mobility group (HMG) domain factors\\\\\n",
       "\tMA1566.2\\_TBX3 & TBX3 & T-Box factors\\\\\n",
       "\tMA1601.2\\_ZNF75D & ZNF75D & C2H2 zinc finger factors\\\\\n",
       "\tMA1630.2\\_ZNF281 & ZNF281 & C2H2 zinc finger factors\\\\\n",
       "\tMA1633.2\\_BACH1 & BACH1 & Basic leucine zipper factors (bZIP)\\\\\n",
       "\tMA0597.2\\_THAP1 & THAP1 & C2CH THAP-type zinc finger factors\\\\\n",
       "\\end{tabular}\n"
      ],
      "text/markdown": [
       "\n",
       "A matrix: 692 × 2\n",
       "\n",
       "| MA0030.1_FOXF2 | FOXF2 | Fork head/winged helix factors |\n",
       "| MA0031.1_FOXD1 | FOXD1 | Fork head/winged helix factors |\n",
       "| MA0051.1_IRF2 | IRF2 | Tryptophan cluster factors |\n",
       "| MA0059.1_MAX::MYC | MAX::MYC | Basic helix-loop-helix factors (bHLH) |\n",
       "| MA0066.1_PPARG | PPARG | Nuclear receptors with C4 zinc fingers |\n",
       "| MA0069.1_PAX6 | PAX6 | Paired box factors |\n",
       "| MA0070.1_PBX1 | PBX1 | Homeo domain factors |\n",
       "| MA0071.1_RORA | RORA | Nuclear receptors with C4 zinc fingers |\n",
       "| MA0072.1_RORA | RORA | Nuclear receptors with C4 zinc fingers |\n",
       "| MA0073.1_RREB1 | RREB1 | C2H2 zinc finger factors |\n",
       "| MA0074.1_RXRA::VDR | RXRA::VDR | Nuclear receptors with C4 zinc fingers |\n",
       "| MA0077.1_SOX9 | SOX9 | High-mobility group (HMG) domain factors |\n",
       "| MA0084.1_SRY | SRY | High-mobility group (HMG) domain factors |\n",
       "| MA0091.1_TAL1::TCF3 | TAL1::TCF3 | Basic helix-loop-helix factors (bHLH) |\n",
       "| MA0101.1_REL | REL | Rel homology region (RHR) factors |\n",
       "| MA0107.1_RELA | RELA | Rel homology region (RHR) factors |\n",
       "| MA0115.1_NR1H2::RXRA | NR1H2::RXRA | Nuclear receptors with C4 zinc fingers |\n",
       "| MA0119.1_NFIC::TLX1 | NFIC::TLX1 | SMAD/NF-1 DNA-binding domain factors, Homeo domain factors                 |\n",
       "| MA0130.1_ZNF354C | ZNF354C | C2H2 zinc finger factors |\n",
       "| MA0139.1_CTCF | CTCF | C2H2 zinc finger factors |\n",
       "| MA0149.1_EWSR1-FLI1 | EWSR1-FLI1 | Tryptophan cluster factors |\n",
       "| MA0138.2_REST | REST | C2H2 zinc finger factors |\n",
       "| MA0155.1_INSM1 | INSM1 | C2H2 zinc finger factors |\n",
       "| MA0159.1_RARA::RXRA | RARA::RXRA | Nuclear receptors with C4 zinc fingers |\n",
       "| MA0163.1_PLAG1 | PLAG1 | C2H2 zinc finger factors |\n",
       "| MA0259.1_ARNT::HIF1A | ARNT::HIF1A | Basic helix-loop-helix factors (bHLH) |\n",
       "| MA0468.1_DUX4 | DUX4 | Homeo domain factors |\n",
       "| MA0476.1_FOS | FOS | Basic leucine zipper factors (bZIP) |\n",
       "| MA0478.1_FOSL2 | FOSL2 | Basic leucine zipper factors (bZIP) |\n",
       "| MA0479.1_FOXH1 | FOXH1 | Fork head/winged helix factors |\n",
       "| ⋮ | ⋮ | ⋮ |\n",
       "| MA0765.3_ETV5 | ETV5 | Tryptophan cluster factors |\n",
       "| MA0784.2_POU1F1 | POU1F1 | Homeo domain factors |\n",
       "| MA0798.3_RFX3 | RFX3 | Fork head/winged helix factors |\n",
       "| MA0799.2_RFX4 | RFX4 | Fork head/winged helix factors |\n",
       "| MA0818.2_BHLHE22 | BHLHE22 | Basic helix-loop-helix factors (bHLH) |\n",
       "| MA0819.2_CLOCK | CLOCK | Basic helix-loop-helix factors (bHLH) |\n",
       "| MA0821.2_HES5 | HES5 | Basic helix-loop-helix factors (bHLH) |\n",
       "| MA0828.2_SREBF2 | SREBF2 | Basic helix-loop-helix factors (bHLH) |\n",
       "| MA0831.3_TFE3 | TFE3 | Basic helix-loop-helix factors (bHLH) |\n",
       "| MA0837.2_CEBPE | CEBPE | Basic leucine zipper factors (bZIP) |\n",
       "| MA0847.3_FOXD2 | FOXD2 | Fork head/winged helix factors |\n",
       "| MA0865.2_E2F8 | E2F8 | Fork head/winged helix factors |\n",
       "| MA0877.3_BARHL1 | BARHL1 | Homeo domain factors |\n",
       "| MA0878.3_CDX1 | CDX1 | Homeo domain factors |\n",
       "| MA0879.2_DLX1 | DLX1 | Homeo domain factors |\n",
       "| MA0884.2_DUXA | DUXA | Homeo domain factors |\n",
       "| MA1483.2_ELF2 | ELF2 | Tryptophan cluster factors |\n",
       "| MA1487.2_FOXE1 | FOXE1 | Fork head/winged helix factors |\n",
       "| MA1491.2_GLI3 | GLI3 | C2H2 zinc finger factors |\n",
       "| MA1498.2_HOXA7 | HOXA7 | Homeo domain factors |\n",
       "| MA1511.2_KLF10 | KLF10 | C2H2 zinc finger factors |\n",
       "| MA1525.2_NFATC4 | NFATC4 | Rel homology region (RHR) factors |\n",
       "| MA1532.2_NR1D2 | NR1D2 | Nuclear receptors with C4 zinc fingers |\n",
       "| MA1547.2_PITX2 | PITX2 | Homeo domain factors |\n",
       "| MA1563.2_SOX18 | SOX18 | High-mobility group (HMG) domain factors |\n",
       "| MA1566.2_TBX3 | TBX3 | T-Box factors |\n",
       "| MA1601.2_ZNF75D | ZNF75D | C2H2 zinc finger factors |\n",
       "| MA1630.2_ZNF281 | ZNF281 | C2H2 zinc finger factors |\n",
       "| MA1633.2_BACH1 | BACH1 | Basic leucine zipper factors (bZIP) |\n",
       "| MA0597.2_THAP1 | THAP1 | C2CH THAP-type zinc finger factors |\n",
       "\n"
      ],
      "text/plain": [
       "                     [,1]       \n",
       "MA0030.1_FOXF2       FOXF2      \n",
       "MA0031.1_FOXD1       FOXD1      \n",
       "MA0051.1_IRF2        IRF2       \n",
       "MA0059.1_MAX::MYC    MAX::MYC   \n",
       "MA0066.1_PPARG       PPARG      \n",
       "MA0069.1_PAX6        PAX6       \n",
       "MA0070.1_PBX1        PBX1       \n",
       "MA0071.1_RORA        RORA       \n",
       "MA0072.1_RORA        RORA       \n",
       "MA0073.1_RREB1       RREB1      \n",
       "MA0074.1_RXRA::VDR   RXRA::VDR  \n",
       "MA0077.1_SOX9        SOX9       \n",
       "MA0084.1_SRY         SRY        \n",
       "MA0091.1_TAL1::TCF3  TAL1::TCF3 \n",
       "MA0101.1_REL         REL        \n",
       "MA0107.1_RELA        RELA       \n",
       "MA0115.1_NR1H2::RXRA NR1H2::RXRA\n",
       "MA0119.1_NFIC::TLX1  NFIC::TLX1 \n",
       "MA0130.1_ZNF354C     ZNF354C    \n",
       "MA0139.1_CTCF        CTCF       \n",
       "MA0149.1_EWSR1-FLI1  EWSR1-FLI1 \n",
       "MA0138.2_REST        REST       \n",
       "MA0155.1_INSM1       INSM1      \n",
       "MA0159.1_RARA::RXRA  RARA::RXRA \n",
       "MA0163.1_PLAG1       PLAG1      \n",
       "MA0259.1_ARNT::HIF1A ARNT::HIF1A\n",
       "MA0468.1_DUX4        DUX4       \n",
       "MA0476.1_FOS         FOS        \n",
       "MA0478.1_FOSL2       FOSL2      \n",
       "MA0479.1_FOXH1       FOXH1      \n",
       "⋮                    ⋮          \n",
       "MA0765.3_ETV5        ETV5       \n",
       "MA0784.2_POU1F1      POU1F1     \n",
       "MA0798.3_RFX3        RFX3       \n",
       "MA0799.2_RFX4        RFX4       \n",
       "MA0818.2_BHLHE22     BHLHE22    \n",
       "MA0819.2_CLOCK       CLOCK      \n",
       "MA0821.2_HES5        HES5       \n",
       "MA0828.2_SREBF2      SREBF2     \n",
       "MA0831.3_TFE3        TFE3       \n",
       "MA0837.2_CEBPE       CEBPE      \n",
       "MA0847.3_FOXD2       FOXD2      \n",
       "MA0865.2_E2F8        E2F8       \n",
       "MA0877.3_BARHL1      BARHL1     \n",
       "MA0878.3_CDX1        CDX1       \n",
       "MA0879.2_DLX1        DLX1       \n",
       "MA0884.2_DUXA        DUXA       \n",
       "MA1483.2_ELF2        ELF2       \n",
       "MA1487.2_FOXE1       FOXE1      \n",
       "MA1491.2_GLI3        GLI3       \n",
       "MA1498.2_HOXA7       HOXA7      \n",
       "MA1511.2_KLF10       KLF10      \n",
       "MA1525.2_NFATC4      NFATC4     \n",
       "MA1532.2_NR1D2       NR1D2      \n",
       "MA1547.2_PITX2       PITX2      \n",
       "MA1563.2_SOX18       SOX18      \n",
       "MA1566.2_TBX3        TBX3       \n",
       "MA1601.2_ZNF75D      ZNF75D     \n",
       "MA1630.2_ZNF281      ZNF281     \n",
       "MA1633.2_BACH1       BACH1      \n",
       "MA0597.2_THAP1       THAP1      \n",
       "                     [,2]                                                                      \n",
       "MA0030.1_FOXF2       Fork head/winged helix factors                                            \n",
       "MA0031.1_FOXD1       Fork head/winged helix factors                                            \n",
       "MA0051.1_IRF2        Tryptophan cluster factors                                                \n",
       "MA0059.1_MAX::MYC    Basic helix-loop-helix factors (bHLH)                                     \n",
       "MA0066.1_PPARG       Nuclear receptors with C4 zinc fingers                                    \n",
       "MA0069.1_PAX6        Paired box factors                                                        \n",
       "MA0070.1_PBX1        Homeo domain factors                                                      \n",
       "MA0071.1_RORA        Nuclear receptors with C4 zinc fingers                                    \n",
       "MA0072.1_RORA        Nuclear receptors with C4 zinc fingers                                    \n",
       "MA0073.1_RREB1       C2H2 zinc finger factors                                                  \n",
       "MA0074.1_RXRA::VDR   Nuclear receptors with C4 zinc fingers                                    \n",
       "MA0077.1_SOX9        High-mobility group (HMG) domain factors                                  \n",
       "MA0084.1_SRY         High-mobility group (HMG) domain factors                                  \n",
       "MA0091.1_TAL1::TCF3  Basic helix-loop-helix factors (bHLH)                                     \n",
       "MA0101.1_REL         Rel homology region (RHR) factors                                         \n",
       "MA0107.1_RELA        Rel homology region (RHR) factors                                         \n",
       "MA0115.1_NR1H2::RXRA Nuclear receptors with C4 zinc fingers                                    \n",
       "MA0119.1_NFIC::TLX1  SMAD/NF-1 DNA-binding domain factors, Homeo domain factors                \n",
       "MA0130.1_ZNF354C     C2H2 zinc finger factors                                                  \n",
       "MA0139.1_CTCF        C2H2 zinc finger factors                                                  \n",
       "MA0149.1_EWSR1-FLI1  Tryptophan cluster factors                                                \n",
       "MA0138.2_REST        C2H2 zinc finger factors                                                  \n",
       "MA0155.1_INSM1       C2H2 zinc finger factors                                                  \n",
       "MA0159.1_RARA::RXRA  Nuclear receptors with C4 zinc fingers                                    \n",
       "MA0163.1_PLAG1       C2H2 zinc finger factors                                                  \n",
       "MA0259.1_ARNT::HIF1A Basic helix-loop-helix factors (bHLH)                                     \n",
       "MA0468.1_DUX4        Homeo domain factors                                                      \n",
       "MA0476.1_FOS         Basic leucine zipper factors (bZIP)                                       \n",
       "MA0478.1_FOSL2       Basic leucine zipper factors (bZIP)                                       \n",
       "MA0479.1_FOXH1       Fork head/winged helix factors                                            \n",
       "⋮                    ⋮                                                                         \n",
       "MA0765.3_ETV5        Tryptophan cluster factors                                                \n",
       "MA0784.2_POU1F1      Homeo domain factors                                                      \n",
       "MA0798.3_RFX3        Fork head/winged helix factors                                            \n",
       "MA0799.2_RFX4        Fork head/winged helix factors                                            \n",
       "MA0818.2_BHLHE22     Basic helix-loop-helix factors (bHLH)                                     \n",
       "MA0819.2_CLOCK       Basic helix-loop-helix factors (bHLH)                                     \n",
       "MA0821.2_HES5        Basic helix-loop-helix factors (bHLH)                                     \n",
       "MA0828.2_SREBF2      Basic helix-loop-helix factors (bHLH)                                     \n",
       "MA0831.3_TFE3        Basic helix-loop-helix factors (bHLH)                                     \n",
       "MA0837.2_CEBPE       Basic leucine zipper factors (bZIP)                                       \n",
       "MA0847.3_FOXD2       Fork head/winged helix factors                                            \n",
       "MA0865.2_E2F8        Fork head/winged helix factors                                            \n",
       "MA0877.3_BARHL1      Homeo domain factors                                                      \n",
       "MA0878.3_CDX1        Homeo domain factors                                                      \n",
       "MA0879.2_DLX1        Homeo domain factors                                                      \n",
       "MA0884.2_DUXA        Homeo domain factors                                                      \n",
       "MA1483.2_ELF2        Tryptophan cluster factors                                                \n",
       "MA1487.2_FOXE1       Fork head/winged helix factors                                            \n",
       "MA1491.2_GLI3        C2H2 zinc finger factors                                                  \n",
       "MA1498.2_HOXA7       Homeo domain factors                                                      \n",
       "MA1511.2_KLF10       C2H2 zinc finger factors                                                  \n",
       "MA1525.2_NFATC4      Rel homology region (RHR) factors                                         \n",
       "MA1532.2_NR1D2       Nuclear receptors with C4 zinc fingers                                    \n",
       "MA1547.2_PITX2       Homeo domain factors                                                      \n",
       "MA1563.2_SOX18       High-mobility group (HMG) domain factors                                  \n",
       "MA1566.2_TBX3        T-Box factors                                                             \n",
       "MA1601.2_ZNF75D      C2H2 zinc finger factors                                                  \n",
       "MA1630.2_ZNF281      C2H2 zinc finger factors                                                  \n",
       "MA1633.2_BACH1       Basic leucine zipper factors (bZIP)                                       \n",
       "MA0597.2_THAP1       C2CH THAP-type zinc finger factors                                        "
      ]
     },
     "metadata": {},
     "output_type": "display_data"
    }
   ],
   "source": [
    "motifdata = cbind(sapply(jaspar.motifs, function(x) unlist(x@name)),sapply(jaspar.motifs, function(x) unlist(x@matrixClass )))                                                  \n",
    "motifdata             #  sapply(pfm, function(x) x@tags$symbol )  ,     sapply(pfm, function(x) x@tags$family ))"
   ]
  },
  {
   "cell_type": "code",
   "execution_count": 18,
   "id": "ac37e48c",
   "metadata": {},
   "outputs": [
    {
     "data": {
      "text/html": [
       "<table class=\"dataframe\">\n",
       "<caption>A data.frame: 6 × 5</caption>\n",
       "<thead>\n",
       "\t<tr><th></th><th scope=col>def</th><th scope=col>cluster</th><th scope=col>subcluster</th><th scope=col>samples</th><th scope=col>cells</th></tr>\n",
       "\t<tr><th></th><th scope=col>&lt;chr&gt;</th><th scope=col>&lt;chr&gt;</th><th scope=col>&lt;chr&gt;</th><th scope=col>&lt;chr&gt;</th><th scope=col>&lt;chr&gt;</th></tr>\n",
       "</thead>\n",
       "<tbody>\n",
       "\t<tr><th scope=row>R207_AAACAGCCAAACGGGC-1</th><td>R207</td><td>beta  </td><td>beta_1 </td><td>R207</td><td>R207_AAACAGCCAAACGGGC-1</td></tr>\n",
       "\t<tr><th scope=row>R207_AAACAGCCACAAAGAC-1</th><td>R207</td><td>alpha </td><td>alpha_1</td><td>R207</td><td>R207_AAACAGCCACAAAGAC-1</td></tr>\n",
       "\t<tr><th scope=row>R207_AAACAGCCAGCAAGTG-1</th><td>R207</td><td>acinar</td><td>acinar </td><td>R207</td><td>R207_AAACAGCCAGCAAGTG-1</td></tr>\n",
       "\t<tr><th scope=row>R207_AAACAGCCAGTTATCG-1</th><td>R207</td><td>alpha </td><td>alpha_1</td><td>R207</td><td>R207_AAACAGCCAGTTATCG-1</td></tr>\n",
       "\t<tr><th scope=row>R207_AAACAGCCATAATCCG-1</th><td>R207</td><td>beta  </td><td>beta_1 </td><td>R207</td><td>R207_AAACAGCCATAATCCG-1</td></tr>\n",
       "\t<tr><th scope=row>R207_AAACAGCCATACCCGG-1</th><td>R207</td><td>alpha </td><td>alpha_2</td><td>R207</td><td>R207_AAACAGCCATACCCGG-1</td></tr>\n",
       "</tbody>\n",
       "</table>\n"
      ],
      "text/latex": [
       "A data.frame: 6 × 5\n",
       "\\begin{tabular}{r|lllll}\n",
       "  & def & cluster & subcluster & samples & cells\\\\\n",
       "  & <chr> & <chr> & <chr> & <chr> & <chr>\\\\\n",
       "\\hline\n",
       "\tR207\\_AAACAGCCAAACGGGC-1 & R207 & beta   & beta\\_1  & R207 & R207\\_AAACAGCCAAACGGGC-1\\\\\n",
       "\tR207\\_AAACAGCCACAAAGAC-1 & R207 & alpha  & alpha\\_1 & R207 & R207\\_AAACAGCCACAAAGAC-1\\\\\n",
       "\tR207\\_AAACAGCCAGCAAGTG-1 & R207 & acinar & acinar  & R207 & R207\\_AAACAGCCAGCAAGTG-1\\\\\n",
       "\tR207\\_AAACAGCCAGTTATCG-1 & R207 & alpha  & alpha\\_1 & R207 & R207\\_AAACAGCCAGTTATCG-1\\\\\n",
       "\tR207\\_AAACAGCCATAATCCG-1 & R207 & beta   & beta\\_1  & R207 & R207\\_AAACAGCCATAATCCG-1\\\\\n",
       "\tR207\\_AAACAGCCATACCCGG-1 & R207 & alpha  & alpha\\_2 & R207 & R207\\_AAACAGCCATACCCGG-1\\\\\n",
       "\\end{tabular}\n"
      ],
      "text/markdown": [
       "\n",
       "A data.frame: 6 × 5\n",
       "\n",
       "| <!--/--> | def &lt;chr&gt; | cluster &lt;chr&gt; | subcluster &lt;chr&gt; | samples &lt;chr&gt; | cells &lt;chr&gt; |\n",
       "|---|---|---|---|---|---|\n",
       "| R207_AAACAGCCAAACGGGC-1 | R207 | beta   | beta_1  | R207 | R207_AAACAGCCAAACGGGC-1 |\n",
       "| R207_AAACAGCCACAAAGAC-1 | R207 | alpha  | alpha_1 | R207 | R207_AAACAGCCACAAAGAC-1 |\n",
       "| R207_AAACAGCCAGCAAGTG-1 | R207 | acinar | acinar  | R207 | R207_AAACAGCCAGCAAGTG-1 |\n",
       "| R207_AAACAGCCAGTTATCG-1 | R207 | alpha  | alpha_1 | R207 | R207_AAACAGCCAGTTATCG-1 |\n",
       "| R207_AAACAGCCATAATCCG-1 | R207 | beta   | beta_1  | R207 | R207_AAACAGCCATAATCCG-1 |\n",
       "| R207_AAACAGCCATACCCGG-1 | R207 | alpha  | alpha_2 | R207 | R207_AAACAGCCATACCCGG-1 |\n",
       "\n"
      ],
      "text/plain": [
       "                        def  cluster subcluster samples cells                  \n",
       "R207_AAACAGCCAAACGGGC-1 R207 beta    beta_1     R207    R207_AAACAGCCAAACGGGC-1\n",
       "R207_AAACAGCCACAAAGAC-1 R207 alpha   alpha_1    R207    R207_AAACAGCCACAAAGAC-1\n",
       "R207_AAACAGCCAGCAAGTG-1 R207 acinar  acinar     R207    R207_AAACAGCCAGCAAGTG-1\n",
       "R207_AAACAGCCAGTTATCG-1 R207 alpha   alpha_1    R207    R207_AAACAGCCAGTTATCG-1\n",
       "R207_AAACAGCCATAATCCG-1 R207 beta    beta_1     R207    R207_AAACAGCCATAATCCG-1\n",
       "R207_AAACAGCCATACCCGG-1 R207 alpha   alpha_2    R207    R207_AAACAGCCATACCCGG-1"
      ]
     },
     "metadata": {},
     "output_type": "display_data"
    }
   ],
   "source": [
    "#Pull in some metadata\n",
    "info <- select(metrics,\n",
    "             def=library, cluster=major_celltypes, subcluster=subpop_celltypes,\n",
    "             samples=library)\n",
    "info$cells <- rownames(metrics)\n",
    "\n",
    "head(info)\n",
    "#write.table(info, file='/nfs/lab/welison/islet_multiome/intermediates/chromVAR/info_table.txt',quote = FALSE, sep='\\t')"
   ]
  },
  {
   "cell_type": "code",
   "execution_count": 19,
   "id": "c1791cbc",
   "metadata": {},
   "outputs": [],
   "source": [
    "output_dir <- '/nfs/lab/welison/islet_multiome/intermediates/chromVAR/'\n",
    "#dir.create(output_dir)"
   ]
  },
  {
   "cell_type": "code",
   "execution_count": 20,
   "id": "8bfeb35d",
   "metadata": {},
   "outputs": [],
   "source": [
    "#Save devscores, motifdata, and info\n",
    "write.table(devtab, file=paste0(output_dir,'devscores_Union_Peaks.txt'),quote = FALSE, col.names = TRUE, row.names = TRUE)\n",
    "write.table(motifdata, file=paste0(output_dir,'motifdata_Union_Peaks.txt'),quote = FALSE, col.names = FALSE,sep='\\t')\n",
    "write.table(info, file=paste0(output_dir,'info_table_Union_Peaks.txt'),quote = FALSE, sep='\\t')\n",
    "write.table(variability, file=paste0(output_dir,'variability_Union_Peaks.txt'),quote = FALSE, col.names = TRUE, row.names = TRUE, sep='\\t')"
   ]
  },
  {
   "cell_type": "code",
   "execution_count": 23,
   "id": "aaee6345",
   "metadata": {},
   "outputs": [
    {
     "name": "stderr",
     "output_type": "stream",
     "text": [
      "\u001b[1m\u001b[22m`stat_bin()` using `bins = 30`. Pick better value with `binwidth`.\n"
     ]
    },
    {
     "data": {
      "image/png": "[encoded data removed]",
      "text/plain": [
       "plot without title"
      ]
     },
     "metadata": {
      "image/png": {
       "height": 420,
       "width": 420
      }
     },
     "output_type": "display_data"
    }
   ],
   "source": [
    "# Variability distirbution\n",
    "ggplot(variability, aes(x=variability)) +\n",
    "geom_histogram() + geom_vline(xintercept = 1.5)"
   ]
  },
  {
   "cell_type": "code",
   "execution_count": 42,
   "id": "063f09ad",
   "metadata": {},
   "outputs": [
    {
     "name": "stderr",
     "output_type": "stream",
     "text": [
      "\u001b[1m\u001b[22m`stat_bin()` using `bins = 30`. Pick better value with `binwidth`.\n"
     ]
    },
    {
     "data": {
      "image/png": "[encoded data removed]",
      "text/plain": [
       "plot without title"
      ]
     },
     "metadata": {
      "image/png": {
       "height": 420,
       "width": 420
      }
     },
     "output_type": "display_data"
    }
   ],
   "source": [
    "# Variability distirbution\n",
    "ggplot(variability, aes(x=variability)) +\n",
    "geom_histogram() + geom_vline(xintercept = 1.5)"
   ]
  },
  {
   "cell_type": "code",
   "execution_count": null,
   "id": "b0aa6bd5",
   "metadata": {},
   "outputs": [],
   "source": []
  },
  {
   "cell_type": "code",
   "execution_count": null,
   "id": "2a9acdd7",
   "metadata": {},
   "outputs": [],
   "source": []
  },
  {
   "cell_type": "markdown",
   "id": "7cd26dbe",
   "metadata": {},
   "source": [
    "# Run on HPAP"
   ]
  },
  {
   "cell_type": "code",
   "execution_count": 1,
   "id": "1e631f17",
   "metadata": {},
   "outputs": [
    {
     "name": "stderr",
     "output_type": "stream",
     "text": [
      "Signac built for for SeuratObject v4 was just loaded with SeuratObject\n",
      "v5; disabling v5 assays and validation routines, and ensuring assays\n",
      "work in strict v3/v4 compatibility mode\n",
      "\n",
      "Loading required package: SeuratObject\n",
      "\n",
      "Loading required package: sp\n",
      "\n",
      "\n",
      "Attaching package: ‘sp’\n",
      "\n",
      "\n",
      "The following object is masked from ‘package:IRanges’:\n",
      "\n",
      "    %over%\n",
      "\n",
      "\n",
      "\n",
      "Attaching package: ‘SeuratObject’\n",
      "\n",
      "\n",
      "The following object is masked from ‘package:SummarizedExperiment’:\n",
      "\n",
      "    Assays\n",
      "\n",
      "\n",
      "The following object is masked from ‘package:GenomicRanges’:\n",
      "\n",
      "    intersect\n",
      "\n",
      "\n",
      "The following object is masked from ‘package:GenomeInfoDb’:\n",
      "\n",
      "    intersect\n",
      "\n",
      "\n",
      "The following object is masked from ‘package:IRanges’:\n",
      "\n",
      "    intersect\n",
      "\n",
      "\n",
      "The following object is masked from ‘package:S4Vectors’:\n",
      "\n",
      "    intersect\n",
      "\n",
      "\n",
      "The following object is masked from ‘package:BiocGenerics’:\n",
      "\n",
      "    intersect\n",
      "\n",
      "\n",
      "The following object is masked from ‘package:base’:\n",
      "\n",
      "    intersect\n",
      "\n",
      "\n",
      "\n",
      "Attaching package: ‘Seurat’\n",
      "\n",
      "\n",
      "The following object is masked from ‘package:SummarizedExperiment’:\n",
      "\n",
      "    Assays\n",
      "\n",
      "\n",
      "Loading required package: BSgenome\n",
      "\n",
      "Loading required package: Biostrings\n",
      "\n",
      "Loading required package: XVector\n",
      "\n",
      "\n",
      "Attaching package: ‘Biostrings’\n",
      "\n",
      "\n",
      "The following object is masked from ‘package:base’:\n",
      "\n",
      "    strsplit\n",
      "\n",
      "\n",
      "Loading required package: rtracklayer\n",
      "\n",
      "\n",
      "Attaching package: ‘dplyr’\n",
      "\n",
      "\n",
      "The following objects are masked from ‘package:Biostrings’:\n",
      "\n",
      "    collapse, intersect, setdiff, setequal, union\n",
      "\n",
      "\n",
      "The following object is masked from ‘package:XVector’:\n",
      "\n",
      "    slice\n",
      "\n",
      "\n",
      "The following object is masked from ‘package:Biobase’:\n",
      "\n",
      "    combine\n",
      "\n",
      "\n",
      "The following objects are masked from ‘package:GenomicRanges’:\n",
      "\n",
      "    intersect, setdiff, union\n",
      "\n",
      "\n",
      "The following object is masked from ‘package:GenomeInfoDb’:\n",
      "\n",
      "    intersect\n",
      "\n",
      "\n",
      "The following objects are masked from ‘package:IRanges’:\n",
      "\n",
      "    collapse, desc, intersect, setdiff, slice, union\n",
      "\n",
      "\n",
      "The following objects are masked from ‘package:S4Vectors’:\n",
      "\n",
      "    first, intersect, rename, setdiff, setequal, union\n",
      "\n",
      "\n",
      "The following objects are masked from ‘package:BiocGenerics’:\n",
      "\n",
      "    combine, intersect, setdiff, union\n",
      "\n",
      "\n",
      "The following object is masked from ‘package:matrixStats’:\n",
      "\n",
      "    count\n",
      "\n",
      "\n",
      "The following objects are masked from ‘package:stats’:\n",
      "\n",
      "    filter, lag\n",
      "\n",
      "\n",
      "The following objects are masked from ‘package:base’:\n",
      "\n",
      "    intersect, setdiff, setequal, union\n",
      "\n",
      "\n",
      "\n",
      "Attaching package: ‘Matrix’\n",
      "\n",
      "\n",
      "The following object is masked from ‘package:TFBSTools’:\n",
      "\n",
      "    Matrix\n",
      "\n",
      "\n",
      "The following object is masked from ‘package:S4Vectors’:\n",
      "\n",
      "    expand\n",
      "\n",
      "\n"
     ]
    }
   ],
   "source": [
    "suppressMessages(library(chromVAR))\n",
    "suppressMessages(library(motifmatchr))\n",
    "suppressMessages(library(SummarizedExperiment))\n",
    "\n",
    "library(Signac)\n",
    "library(Seurat)\n",
    "library(JASPAR2020)\n",
    "library(TFBSTools)\n",
    "library(BSgenome.Hsapiens.UCSC.hg38)\n",
    "library(patchwork)\n",
    "library(readr)\n",
    "library(stringr)\n",
    "library(dplyr)\n",
    "set.seed(1234)\n",
    "library(ggplot2)\n",
    "\n",
    "library(Matrix)\n",
    "library(BiocParallel)\n",
    "register(MulticoreParam(8))\n",
    "\n",
    "#### Send to channel code\n",
    "library(parallel)\n",
    "library(qvalue)"
   ]
  },
  {
   "cell_type": "code",
   "execution_count": 2,
   "id": "759db13c",
   "metadata": {},
   "outputs": [],
   "source": [
    "motif.ix <- readRDS('/nfs/lab/welison/islet_multiome/intermediates/chromVAR/240322_WE_MotifMatches_Union_Peaks.RDS')"
   ]
  },
  {
   "cell_type": "code",
   "execution_count": 6,
   "id": "9b6e3cf6",
   "metadata": {},
   "outputs": [
    {
     "data": {
      "text/html": [
       "<style>\n",
       ".list-inline {list-style: none; margin:0; padding: 0}\n",
       ".list-inline>li {display: inline-block}\n",
       ".list-inline>li:not(:last-child)::after {content: \"\\00b7\"; padding: 0 .5ex}\n",
       "</style>\n",
       "<ol class=list-inline><li>'chr1-1000073-1000373'</li><li>'chr1-100036794-100037094'</li><li>'chr1-100037929-100038229'</li><li>'chr1-100046138-100046438'</li><li>'chr1-100046907-100047207'</li><li>'chr1-100050188-100050403'</li></ol>\n"
      ],
      "text/latex": [
       "\\begin{enumerate*}\n",
       "\\item 'chr1-1000073-1000373'\n",
       "\\item 'chr1-100036794-100037094'\n",
       "\\item 'chr1-100037929-100038229'\n",
       "\\item 'chr1-100046138-100046438'\n",
       "\\item 'chr1-100046907-100047207'\n",
       "\\item 'chr1-100050188-100050403'\n",
       "\\end{enumerate*}\n"
      ],
      "text/markdown": [
       "1. 'chr1-1000073-1000373'\n",
       "2. 'chr1-100036794-100037094'\n",
       "3. 'chr1-100037929-100038229'\n",
       "4. 'chr1-100046138-100046438'\n",
       "5. 'chr1-100046907-100047207'\n",
       "6. 'chr1-100050188-100050403'\n",
       "\n",
       "\n"
      ],
      "text/plain": [
       "[1] \"chr1-1000073-1000373\"     \"chr1-100036794-100037094\"\n",
       "[3] \"chr1-100037929-100038229\" \"chr1-100046138-100046438\"\n",
       "[5] \"chr1-100046907-100047207\" \"chr1-100050188-100050403\""
      ]
     },
     "metadata": {},
     "output_type": "display_data"
    }
   ],
   "source": [
    "head(rownames(motif.ix))"
   ]
  },
  {
   "cell_type": "code",
   "execution_count": 10,
   "id": "55b8669e",
   "metadata": {},
   "outputs": [
    {
     "data": {
      "text/html": [
       "<style>\n",
       ".list-inline {list-style: none; margin:0; padding: 0}\n",
       ".list-inline>li {display: inline-block}\n",
       ".list-inline>li:not(:last-child)::after {content: \"\\00b7\"; padding: 0 .5ex}\n",
       "</style>\n",
       "<ol class=list-inline><li>'HPAP-035'</li><li>'HPAP-036'</li><li>'HPAP-039'</li><li>'HPAP-040'</li><li>'HPAP-044'</li><li>'HPAP-045'</li><li>'HPAP-047'</li><li>'HPAP-049'</li><li>'HPAP-050'</li><li>'HPAP-052'</li><li>'HPAP-053'</li><li>'HPAP-054'</li><li>'HPAP-056'</li><li>'HPAP-059'</li><li>'HPAP-063'</li><li>'HPAP-067'</li><li>'HPAP-069'</li><li>'HPAP-072'</li><li>'HPAP-075'</li><li>'HPAP-077'</li><li>'HPAP-080'</li><li>'HPAP-092'</li><li>'HPAP-099'</li><li>'HPAP-101'</li><li>'HPAP-103'</li><li>'HPAP-104'</li><li>'HPAP-105'</li></ol>\n"
      ],
      "text/latex": [
       "\\begin{enumerate*}\n",
       "\\item 'HPAP-035'\n",
       "\\item 'HPAP-036'\n",
       "\\item 'HPAP-039'\n",
       "\\item 'HPAP-040'\n",
       "\\item 'HPAP-044'\n",
       "\\item 'HPAP-045'\n",
       "\\item 'HPAP-047'\n",
       "\\item 'HPAP-049'\n",
       "\\item 'HPAP-050'\n",
       "\\item 'HPAP-052'\n",
       "\\item 'HPAP-053'\n",
       "\\item 'HPAP-054'\n",
       "\\item 'HPAP-056'\n",
       "\\item 'HPAP-059'\n",
       "\\item 'HPAP-063'\n",
       "\\item 'HPAP-067'\n",
       "\\item 'HPAP-069'\n",
       "\\item 'HPAP-072'\n",
       "\\item 'HPAP-075'\n",
       "\\item 'HPAP-077'\n",
       "\\item 'HPAP-080'\n",
       "\\item 'HPAP-092'\n",
       "\\item 'HPAP-099'\n",
       "\\item 'HPAP-101'\n",
       "\\item 'HPAP-103'\n",
       "\\item 'HPAP-104'\n",
       "\\item 'HPAP-105'\n",
       "\\end{enumerate*}\n"
      ],
      "text/markdown": [
       "1. 'HPAP-035'\n",
       "2. 'HPAP-036'\n",
       "3. 'HPAP-039'\n",
       "4. 'HPAP-040'\n",
       "5. 'HPAP-044'\n",
       "6. 'HPAP-045'\n",
       "7. 'HPAP-047'\n",
       "8. 'HPAP-049'\n",
       "9. 'HPAP-050'\n",
       "10. 'HPAP-052'\n",
       "11. 'HPAP-053'\n",
       "12. 'HPAP-054'\n",
       "13. 'HPAP-056'\n",
       "14. 'HPAP-059'\n",
       "15. 'HPAP-063'\n",
       "16. 'HPAP-067'\n",
       "17. 'HPAP-069'\n",
       "18. 'HPAP-072'\n",
       "19. 'HPAP-075'\n",
       "20. 'HPAP-077'\n",
       "21. 'HPAP-080'\n",
       "22. 'HPAP-092'\n",
       "23. 'HPAP-099'\n",
       "24. 'HPAP-101'\n",
       "25. 'HPAP-103'\n",
       "26. 'HPAP-104'\n",
       "27. 'HPAP-105'\n",
       "\n",
       "\n"
      ],
      "text/plain": [
       " [1] \"HPAP-035\" \"HPAP-036\" \"HPAP-039\" \"HPAP-040\" \"HPAP-044\" \"HPAP-045\"\n",
       " [7] \"HPAP-047\" \"HPAP-049\" \"HPAP-050\" \"HPAP-052\" \"HPAP-053\" \"HPAP-054\"\n",
       "[13] \"HPAP-056\" \"HPAP-059\" \"HPAP-063\" \"HPAP-067\" \"HPAP-069\" \"HPAP-072\"\n",
       "[19] \"HPAP-075\" \"HPAP-077\" \"HPAP-080\" \"HPAP-092\" \"HPAP-099\" \"HPAP-101\"\n",
       "[25] \"HPAP-103\" \"HPAP-104\" \"HPAP-105\""
      ]
     },
     "metadata": {},
     "output_type": "display_data"
    }
   ],
   "source": [
    "list.files('/nfs/lab/projects/multiomic_islet/outputs/multiome/generate_peaks_matrix/240403_HPAP_ND_union_peaks/lfms/')"
   ]
  },
  {
   "cell_type": "code",
   "execution_count": 20,
   "id": "75916fe6",
   "metadata": {},
   "outputs": [
    {
     "name": "stdout",
     "output_type": "stream",
     "text": [
      "[1] \"3.7037037037037% - HPAP-035\"\n",
      "[1] 40967967        3\n",
      "[1] \"Adding missing windows\"\n",
      "[1] \"Using filler BC: HPAP-035_AAACTCGCAACTAGAA\"\n"
     ]
    },
    {
     "name": "stderr",
     "output_type": "stream",
     "text": [
      "Warning message in as.data.frame.vector(x, ..., nm = nm):\n",
      "“'row.names' is not a character vector of length 1 -- omitting it. Will be an error!”\n"
     ]
    },
    {
     "name": "stdout",
     "output_type": "stream",
     "text": [
      "[1] 40968162        3\n",
      "[1] 291821   2849\n",
      "[1] \"7.40740740740741% - HPAP-036\"\n",
      "[1] 41443867        3\n",
      "[1] \"Adding missing windows\"\n",
      "[1] \"Using filler BC: HPAP-036_AAACGAACATCCGTAA\"\n"
     ]
    },
    {
     "name": "stderr",
     "output_type": "stream",
     "text": [
      "Warning message in as.data.frame.vector(x, ..., nm = nm):\n",
      "“'row.names' is not a character vector of length 1 -- omitting it. Will be an error!”\n"
     ]
    },
    {
     "name": "stdout",
     "output_type": "stream",
     "text": [
      "[1] 41444608        3\n",
      "[1] 291821   5780\n",
      "[1] \"11.1111111111111% - HPAP-039\"\n",
      "[1] 23540054        3\n",
      "[1] \"Adding missing windows\"\n",
      "[1] \"Using filler BC: HPAP-039_AAACGAAAGTCCTTCC\"\n"
     ]
    },
    {
     "name": "stderr",
     "output_type": "stream",
     "text": [
      "Warning message in as.data.frame.vector(x, ..., nm = nm):\n",
      "“'row.names' is not a character vector of length 1 -- omitting it. Will be an error!”\n"
     ]
    },
    {
     "name": "stdout",
     "output_type": "stream",
     "text": [
      "[1] 23541192        3\n",
      "[1] 291821   3029\n",
      "[1] \"14.8148148148148% - HPAP-040\"\n",
      "[1] 50088003        3\n",
      "[1] \"Adding missing windows\"\n",
      "[1] \"Using filler BC: HPAP-040_AAACGAAAGGATGTCG\"\n"
     ]
    },
    {
     "name": "stderr",
     "output_type": "stream",
     "text": [
      "Warning message in as.data.frame.vector(x, ..., nm = nm):\n",
      "“'row.names' is not a character vector of length 1 -- omitting it. Will be an error!”\n"
     ]
    },
    {
     "name": "stdout",
     "output_type": "stream",
     "text": [
      "[1] 50088492        3\n",
      "[1] 291821   3097\n",
      "[1] \"18.5185185185185% - HPAP-044\"\n",
      "[1] 4538632       3\n",
      "[1] \"Adding missing windows\"\n",
      "[1] \"Using filler BC: HPAP-044_AAACTCGTCGTGGTAT\"\n"
     ]
    },
    {
     "name": "stderr",
     "output_type": "stream",
     "text": [
      "Warning message in as.data.frame.vector(x, ..., nm = nm):\n",
      "“'row.names' is not a character vector of length 1 -- omitting it. Will be an error!”\n"
     ]
    },
    {
     "name": "stdout",
     "output_type": "stream",
     "text": [
      "[1] 4565483       3\n",
      "[1] 291821    817\n",
      "[1] \"22.2222222222222% - HPAP-045\"\n",
      "[1] 16598129        3\n",
      "[1] \"Adding missing windows\"\n",
      "[1] \"Using filler BC: HPAP-045_AAATGCCCAGTTCGGC\"\n"
     ]
    },
    {
     "name": "stderr",
     "output_type": "stream",
     "text": [
      "Warning message in as.data.frame.vector(x, ..., nm = nm):\n",
      "“'row.names' is not a character vector of length 1 -- omitting it. Will be an error!”\n"
     ]
    },
    {
     "name": "stdout",
     "output_type": "stream",
     "text": [
      "[1] 16603914        3\n",
      "[1] 291821   2085\n",
      "[1] \"25.9259259259259% - HPAP-047\"\n",
      "[1] 4945528       3\n",
      "[1] \"Adding missing windows\"\n",
      "[1] \"Using filler BC: HPAP-047_AACAGTCGTGGAAGCT\"\n"
     ]
    },
    {
     "name": "stderr",
     "output_type": "stream",
     "text": [
      "Warning message in as.data.frame.vector(x, ..., nm = nm):\n",
      "“'row.names' is not a character vector of length 1 -- omitting it. Will be an error!”\n"
     ]
    },
    {
     "name": "stdout",
     "output_type": "stream",
     "text": [
      "[1] 4967643       3\n",
      "[1] 291821    913\n",
      "[1] \"29.6296296296296% - HPAP-049\"\n",
      "[1] 40731671        3\n",
      "[1] \"Adding missing windows\"\n",
      "[1] \"Using filler BC: HPAP-049_AAACGAAGTAGCCATT\"\n"
     ]
    },
    {
     "name": "stderr",
     "output_type": "stream",
     "text": [
      "Warning message in as.data.frame.vector(x, ..., nm = nm):\n",
      "“'row.names' is not a character vector of length 1 -- omitting it. Will be an error!”\n"
     ]
    },
    {
     "name": "stdout",
     "output_type": "stream",
     "text": [
      "[1] 40732409        3\n",
      "[1] 291821   3148\n",
      "[1] \"33.3333333333333% - HPAP-050\"\n",
      "[1] 18478898        3\n",
      "[1] \"Adding missing windows\"\n",
      "[1] \"Using filler BC: HPAP-050_AAACGAAAGGAGACTC\"\n"
     ]
    },
    {
     "name": "stderr",
     "output_type": "stream",
     "text": [
      "Warning message in as.data.frame.vector(x, ..., nm = nm):\n",
      "“'row.names' is not a character vector of length 1 -- omitting it. Will be an error!”\n"
     ]
    },
    {
     "name": "stdout",
     "output_type": "stream",
     "text": [
      "[1] 18482540        3\n",
      "[1] 291821   1213\n",
      "[1] \"37.037037037037% - HPAP-052\"\n",
      "[1] 20643630        3\n",
      "[1] \"Adding missing windows\"\n",
      "[1] \"Using filler BC: HPAP-052_AAACGAAGTATCACAC\"\n"
     ]
    },
    {
     "name": "stderr",
     "output_type": "stream",
     "text": [
      "Warning message in as.data.frame.vector(x, ..., nm = nm):\n",
      "“'row.names' is not a character vector of length 1 -- omitting it. Will be an error!”\n"
     ]
    },
    {
     "name": "stdout",
     "output_type": "stream",
     "text": [
      "[1] 20645754        3\n",
      "[1] 291821   1248\n",
      "[1] \"40.7407407407407% - HPAP-053\"\n",
      "[1] 12685480        3\n",
      "[1] \"Adding missing windows\"\n",
      "[1] \"Using filler BC: HPAP-053_AAATGCCAGTCATCTG\"\n"
     ]
    },
    {
     "name": "stderr",
     "output_type": "stream",
     "text": [
      "Warning message in as.data.frame.vector(x, ..., nm = nm):\n",
      "“'row.names' is not a character vector of length 1 -- omitting it. Will be an error!”\n"
     ]
    },
    {
     "name": "stdout",
     "output_type": "stream",
     "text": [
      "[1] 12693190        3\n",
      "[1] 291821   1548\n",
      "[1] \"44.4444444444444% - HPAP-054\"\n",
      "[1] 18608309        3\n",
      "[1] \"Adding missing windows\"\n",
      "[1] \"Using filler BC: HPAP-054_AAACTCGAGTCGCCTG\"\n"
     ]
    },
    {
     "name": "stderr",
     "output_type": "stream",
     "text": [
      "Warning message in as.data.frame.vector(x, ..., nm = nm):\n",
      "“'row.names' is not a character vector of length 1 -- omitting it. Will be an error!”\n"
     ]
    },
    {
     "name": "stdout",
     "output_type": "stream",
     "text": [
      "[1] 18610442        3\n",
      "[1] 291821   3196\n",
      "[1] \"48.1481481481481% - HPAP-056\"\n",
      "[1] 16757756        3\n",
      "[1] \"Adding missing windows\"\n",
      "[1] \"Using filler BC: HPAP-056_AAACTGCGTAGGTAAT\"\n"
     ]
    },
    {
     "name": "stderr",
     "output_type": "stream",
     "text": [
      "Warning message in as.data.frame.vector(x, ..., nm = nm):\n",
      "“'row.names' is not a character vector of length 1 -- omitting it. Will be an error!”\n"
     ]
    },
    {
     "name": "stdout",
     "output_type": "stream",
     "text": [
      "[1] 16762213        3\n",
      "[1] 291821   2309\n",
      "[1] \"51.8518518518519% - HPAP-059\"\n",
      "[1] 12047306        3\n",
      "[1] \"Adding missing windows\"\n",
      "[1] \"Using filler BC: HPAP-059_AAACGAAGTCATGAGG\"\n"
     ]
    },
    {
     "name": "stderr",
     "output_type": "stream",
     "text": [
      "Warning message in as.data.frame.vector(x, ..., nm = nm):\n",
      "“'row.names' is not a character vector of length 1 -- omitting it. Will be an error!”\n"
     ]
    },
    {
     "name": "stdout",
     "output_type": "stream",
     "text": [
      "[1] 12051175        3\n",
      "[1] 291821   1567\n",
      "[1] \"55.5555555555556% - HPAP-063\"\n",
      "[1] 10411330        3\n",
      "[1] \"Adding missing windows\"\n",
      "[1] \"Using filler BC: HPAP-063_AAATGCCAGTGAGTTA\"\n"
     ]
    },
    {
     "name": "stderr",
     "output_type": "stream",
     "text": [
      "Warning message in as.data.frame.vector(x, ..., nm = nm):\n",
      "“'row.names' is not a character vector of length 1 -- omitting it. Will be an error!”\n"
     ]
    },
    {
     "name": "stdout",
     "output_type": "stream",
     "text": [
      "[1] 10419814        3\n",
      "[1] 291821   1116\n",
      "[1] \"59.2592592592593% - HPAP-067\"\n",
      "[1] 9489082       3\n",
      "[1] \"Adding missing windows\"\n",
      "[1] \"Using filler BC: HPAP-067_AAATGCCTCCCAGCGA\"\n"
     ]
    },
    {
     "name": "stderr",
     "output_type": "stream",
     "text": [
      "Warning message in as.data.frame.vector(x, ..., nm = nm):\n",
      "“'row.names' is not a character vector of length 1 -- omitting it. Will be an error!”\n"
     ]
    },
    {
     "name": "stdout",
     "output_type": "stream",
     "text": [
      "[1] 9502407       3\n",
      "[1] 291821   1812\n",
      "[1] \"62.962962962963% - HPAP-069\"\n",
      "[1] 14648736        3\n",
      "[1] \"Adding missing windows\"\n",
      "[1] \"Using filler BC: HPAP-069_AAACGAAAGACCATAA\"\n"
     ]
    },
    {
     "name": "stderr",
     "output_type": "stream",
     "text": [
      "Warning message in as.data.frame.vector(x, ..., nm = nm):\n",
      "“'row.names' is not a character vector of length 1 -- omitting it. Will be an error!”\n"
     ]
    },
    {
     "name": "stdout",
     "output_type": "stream",
     "text": [
      "[1] 14653715        3\n",
      "[1] 291821   2247\n",
      "[1] \"66.6666666666667% - HPAP-072\"\n",
      "[1] 28673649        3\n",
      "[1] \"Adding missing windows\"\n",
      "[1] \"Using filler BC: HPAP-072_AAACGAAAGCTAGTTC\"\n"
     ]
    },
    {
     "name": "stderr",
     "output_type": "stream",
     "text": [
      "Warning message in as.data.frame.vector(x, ..., nm = nm):\n",
      "“'row.names' is not a character vector of length 1 -- omitting it. Will be an error!”\n"
     ]
    },
    {
     "name": "stdout",
     "output_type": "stream",
     "text": [
      "[1] 28674058        3\n",
      "[1] 291821   2263\n",
      "[1] \"70.3703703703704% - HPAP-075\"\n",
      "[1] 23600690        3\n",
      "[1] \"Adding missing windows\"\n",
      "[1] \"Using filler BC: HPAP-075_AAACGAAGTGCATCAT\"\n"
     ]
    },
    {
     "name": "stderr",
     "output_type": "stream",
     "text": [
      "Warning message in as.data.frame.vector(x, ..., nm = nm):\n",
      "“'row.names' is not a character vector of length 1 -- omitting it. Will be an error!”\n"
     ]
    },
    {
     "name": "stdout",
     "output_type": "stream",
     "text": [
      "[1] 23602003        3\n",
      "[1] 291821   1817\n",
      "[1] \"74.0740740740741% - HPAP-077\"\n",
      "[1] 34080906        3\n",
      "[1] \"Adding missing windows\"\n",
      "[1] \"Using filler BC: HPAP-077_AAACGAATCGGTCTCT\"\n"
     ]
    },
    {
     "name": "stderr",
     "output_type": "stream",
     "text": [
      "Warning message in as.data.frame.vector(x, ..., nm = nm):\n",
      "“'row.names' is not a character vector of length 1 -- omitting it. Will be an error!”\n"
     ]
    },
    {
     "name": "stdout",
     "output_type": "stream",
     "text": [
      "[1] 34082497        3\n",
      "[1] 291821   2316\n",
      "[1] \"77.7777777777778% - HPAP-080\"\n",
      "[1] 27028918        3\n",
      "[1] \"Adding missing windows\"\n",
      "[1] \"Using filler BC: HPAP-080_AAACTCGAGAGCCTGA\"\n"
     ]
    },
    {
     "name": "stderr",
     "output_type": "stream",
     "text": [
      "Warning message in as.data.frame.vector(x, ..., nm = nm):\n",
      "“'row.names' is not a character vector of length 1 -- omitting it. Will be an error!”\n"
     ]
    },
    {
     "name": "stdout",
     "output_type": "stream",
     "text": [
      "[1] 27031555        3\n",
      "[1] 291821   2952\n",
      "[1] \"81.4814814814815% - HPAP-092\"\n",
      "[1] 44826836        3\n",
      "[1] \"Adding missing windows\"\n",
      "[1] \"Using filler BC: HPAP-092_AAACTCGTCTATATCC\"\n"
     ]
    },
    {
     "name": "stderr",
     "output_type": "stream",
     "text": [
      "Warning message in as.data.frame.vector(x, ..., nm = nm):\n",
      "“'row.names' is not a character vector of length 1 -- omitting it. Will be an error!”\n"
     ]
    },
    {
     "name": "stdout",
     "output_type": "stream",
     "text": [
      "[1] 44827697        3\n",
      "[1] 291821   3811\n",
      "[1] \"85.1851851851852% - HPAP-099\"\n",
      "[1] 37729254        3\n",
      "[1] \"Adding missing windows\"\n",
      "[1] \"Using filler BC: HPAP-099_AAACGAAAGTACAGTA\"\n"
     ]
    },
    {
     "name": "stderr",
     "output_type": "stream",
     "text": [
      "Warning message in as.data.frame.vector(x, ..., nm = nm):\n",
      "“'row.names' is not a character vector of length 1 -- omitting it. Will be an error!”\n"
     ]
    },
    {
     "name": "stdout",
     "output_type": "stream",
     "text": [
      "[1] 37731109        3\n",
      "[1] 291821   5149\n",
      "[1] \"88.8888888888889% - HPAP-101\"\n",
      "[1] 26963606        3\n",
      "[1] \"Adding missing windows\"\n",
      "[1] \"Using filler BC: HPAP-101_AAACGAAAGCTCCATA\"\n"
     ]
    },
    {
     "name": "stderr",
     "output_type": "stream",
     "text": [
      "Warning message in as.data.frame.vector(x, ..., nm = nm):\n",
      "“'row.names' is not a character vector of length 1 -- omitting it. Will be an error!”\n"
     ]
    },
    {
     "name": "stdout",
     "output_type": "stream",
     "text": [
      "[1] 26967388        3\n",
      "[1] 291821   3489\n",
      "[1] \"92.5925925925926% - HPAP-103\"\n",
      "[1] 32842019        3\n",
      "[1] \"Adding missing windows\"\n",
      "[1] \"Using filler BC: HPAP-103_AAACTGCTCGTGGTAT\"\n"
     ]
    },
    {
     "name": "stderr",
     "output_type": "stream",
     "text": [
      "Warning message in as.data.frame.vector(x, ..., nm = nm):\n",
      "“'row.names' is not a character vector of length 1 -- omitting it. Will be an error!”\n"
     ]
    },
    {
     "name": "stdout",
     "output_type": "stream",
     "text": [
      "[1] 32843191        3\n",
      "[1] 291821   4114\n",
      "[1] \"96.2962962962963% - HPAP-104\"\n",
      "[1] 40914736        3\n",
      "[1] \"Adding missing windows\"\n",
      "[1] \"Using filler BC: HPAP-104_AAACTCGGTCCAAGAG\"\n"
     ]
    },
    {
     "name": "stderr",
     "output_type": "stream",
     "text": [
      "Warning message in as.data.frame.vector(x, ..., nm = nm):\n",
      "“'row.names' is not a character vector of length 1 -- omitting it. Will be an error!”\n"
     ]
    },
    {
     "name": "stdout",
     "output_type": "stream",
     "text": [
      "[1] 40915103        3\n",
      "[1] 291821   3668\n",
      "[1] \"100% - HPAP-105\"\n",
      "[1] 55009268        3\n",
      "[1] \"Adding missing windows\"\n",
      "[1] \"Using filler BC: HPAP-105_AAACGAACAGAGAGAA\"\n"
     ]
    },
    {
     "name": "stderr",
     "output_type": "stream",
     "text": [
      "Warning message in as.data.frame.vector(x, ..., nm = nm):\n",
      "“'row.names' is not a character vector of length 1 -- omitting it. Will be an error!”\n"
     ]
    },
    {
     "name": "stdout",
     "output_type": "stream",
     "text": [
      "[1] 55009872        3\n",
      "[1] 291821   3861\n"
     ]
    },
    {
     "data": {
      "text/html": [
       "<table class=\"dataframe\">\n",
       "<caption>A matrix: 2 × 6 of type dbl</caption>\n",
       "<thead>\n",
       "\t<tr><th></th><th scope=col>used</th><th scope=col>(Mb)</th><th scope=col>gc trigger</th><th scope=col>(Mb)</th><th scope=col>max used</th><th scope=col>(Mb)</th></tr>\n",
       "</thead>\n",
       "<tbody>\n",
       "\t<tr><th scope=row>Ncells</th><td>  12003752</td><td>  641.1</td><td>  17818672</td><td>  951.7</td><td>  17818672</td><td>  951.7</td></tr>\n",
       "\t<tr><th scope=row>Vcells</th><td>1519702245</td><td>11594.5</td><td>2621003771</td><td>19996.7</td><td>3034568608</td><td>23152.0</td></tr>\n",
       "</tbody>\n",
       "</table>\n"
      ],
      "text/latex": [
       "A matrix: 2 × 6 of type dbl\n",
       "\\begin{tabular}{r|llllll}\n",
       "  & used & (Mb) & gc trigger & (Mb) & max used & (Mb)\\\\\n",
       "\\hline\n",
       "\tNcells &   12003752 &   641.1 &   17818672 &   951.7 &   17818672 &   951.7\\\\\n",
       "\tVcells & 1519702245 & 11594.5 & 2621003771 & 19996.7 & 3034568608 & 23152.0\\\\\n",
       "\\end{tabular}\n"
      ],
      "text/markdown": [
       "\n",
       "A matrix: 2 × 6 of type dbl\n",
       "\n",
       "| <!--/--> | used | (Mb) | gc trigger | (Mb) | max used | (Mb) |\n",
       "|---|---|---|---|---|---|---|\n",
       "| Ncells |   12003752 |   641.1 |   17818672 |   951.7 |   17818672 |   951.7 |\n",
       "| Vcells | 1519702245 | 11594.5 | 2621003771 | 19996.7 | 3034568608 | 23152.0 |\n",
       "\n"
      ],
      "text/plain": [
       "       used       (Mb)    gc trigger (Mb)    max used   (Mb)   \n",
       "Ncells   12003752   641.1   17818672   951.7   17818672   951.7\n",
       "Vcells 1519702245 11594.5 2621003771 19996.7 3034568608 23152.0"
      ]
     },
     "metadata": {},
     "output_type": "display_data"
    },
    {
     "data": {
      "text/plain": [
       "         Length     Class     Mode\n",
       "HPAP-035  831398029 dgCMatrix S4  \n",
       "HPAP-036 1686725380 dgCMatrix S4  \n",
       "HPAP-039  883925809 dgCMatrix S4  \n",
       "HPAP-040  903769637 dgCMatrix S4  \n",
       "HPAP-044  238417757 dgCMatrix S4  \n",
       "HPAP-045  608446785 dgCMatrix S4  \n",
       "HPAP-047  266432573 dgCMatrix S4  \n",
       "HPAP-049  918652508 dgCMatrix S4  \n",
       "HPAP-050  353978873 dgCMatrix S4  \n",
       "HPAP-052  364192608 dgCMatrix S4  \n",
       "HPAP-053  451738908 dgCMatrix S4  \n",
       "HPAP-054  932659916 dgCMatrix S4  \n",
       "HPAP-056  673814689 dgCMatrix S4  \n",
       "HPAP-059  457283507 dgCMatrix S4  \n",
       "HPAP-063  325672236 dgCMatrix S4  \n",
       "HPAP-067  528779652 dgCMatrix S4  \n",
       "HPAP-069  655721787 dgCMatrix S4  \n",
       "HPAP-072  660390923 dgCMatrix S4  \n",
       "HPAP-075  530238757 dgCMatrix S4  \n",
       "HPAP-077  675857436 dgCMatrix S4  \n",
       "HPAP-080  861455592 dgCMatrix S4  \n",
       "HPAP-092 1112129831 dgCMatrix S4  \n",
       "HPAP-099 1502586329 dgCMatrix S4  \n",
       "HPAP-101 1018163469 dgCMatrix S4  \n",
       "HPAP-103 1200551594 dgCMatrix S4  \n",
       "HPAP-104 1070399428 dgCMatrix S4  \n",
       "HPAP-105 1126720881 dgCMatrix S4  "
      ]
     },
     "metadata": {},
     "output_type": "display_data"
    }
   ],
   "source": [
    "#for (samp in samples[1]) {\n",
    "\n",
    "#annotation <- GetGRangesFromEnsDb(ensdb = EnsDb.Hsapiens.v86)\n",
    "#seqlevelsStyle(annotation) <- 'UCSC'\n",
    "\n",
    "lfms <- list()\n",
    "\n",
    "hvws <- rownames(motif.ix)\n",
    "\n",
    "window_dir <- '/nfs/lab/projects/multiomic_islet/outputs/multiome/generate_peaks_matrix/240403_HPAP_ND_union_peaks/lfms/'\n",
    "\n",
    "samples <- list.files(window_dir)\n",
    "\n",
    "for (samp in samples) {\n",
    "    print(paste0(which(samples %in% samp) * 100 /length(samples),\"% - \", samp))\n",
    "\n",
    "    #Read in the atac lfm matrix\n",
    "    lfm_in <- read.table(paste0(window_dir, samp,'/',samp,'.long_fmt_mtx.txt.gz'), col.names=c('Window','Barcode','Count'))\n",
    "    lfm_in$Window <- as.factor(lfm_in$Window)\n",
    "    lfm_in$Barcode <- as.factor(lfm_in$Barcode)\n",
    "    \n",
    "    lfm_in_filt <- filter(lfm_in, Window %in% hvws)\n",
    "\n",
    "    print(dim(lfm_in_filt))\n",
    "\n",
    "    mis_windows <- hvws[!hvws %in% levels(lfm_in_filt$Window)]\n",
    "    length(mis_windows)\n",
    "\n",
    "    #make sure there are missing_windows\n",
    "    if (length(mis_windows) > 0){\n",
    "        print('Adding missing windows')\n",
    "        #create a new long format matrix (sm) with the missing windows added as 0 counts\n",
    "        filler_bc <- as.character(lfm_in_filt$Barcode[[1]])\n",
    "        print(paste(\"Using filler BC:\",filler_bc,sep=\" \"))\n",
    "        new_rows <- cbind(as.data.frame(mis_windows),\n",
    "                          as.data.frame(rep(filler_bc),length(mis_windows)),\n",
    "                          as.data.frame(rep(0,length(mis_windows))))\n",
    "        colnames(new_rows) <- c(\"Window\",\"Barcode\",\"Count\")\n",
    "        lfm_in_fix <- rbind(lfm_in_filt,new_rows)\n",
    "    #if there aren't, set lfm to df\n",
    "    } else {\n",
    "        print('No windows were missing')\n",
    "        lfm_in_fix <- lfm_in_filt\n",
    "    }\n",
    "\n",
    "    print(dim(lfm_in_fix))\n",
    "    \n",
    "    lfm_in_fix$Window <- factor(lfm_in_fix$Window, levels=hvws)\n",
    "    lfm_in_sort <- lfm_in_fix[order(lfm_in_fix$Window),]\n",
    "    lfm_in_sort$Barcode <- as.factor(lfm_in_sort$Barcode)\n",
    "\n",
    "    lfms[[samp]] <- with(lfm_in_sort, sparseMatrix(i=as.numeric(Window), j=as.numeric(Barcode), x=Count, dimnames=list(levels(Window), levels(Barcode))))\n",
    "\n",
    "    print(dim(lfms[[samp]]))\n",
    "    \n",
    "    gc()\n",
    "}\n",
    "\n",
    "gc()\n",
    "\n",
    "summary(lfms)"
   ]
  },
  {
   "cell_type": "code",
   "execution_count": 28,
   "id": "5237beb6",
   "metadata": {},
   "outputs": [
    {
     "data": {
      "text/html": [
       "<style>\n",
       ".list-inline {list-style: none; margin:0; padding: 0}\n",
       ".list-inline>li {display: inline-block}\n",
       ".list-inline>li:not(:last-child)::after {content: \"\\00b7\"; padding: 0 .5ex}\n",
       "</style>\n",
       "<ol class=list-inline><li>291821</li><li>71414</li></ol>\n"
      ],
      "text/latex": [
       "\\begin{enumerate*}\n",
       "\\item 291821\n",
       "\\item 71414\n",
       "\\end{enumerate*}\n"
      ],
      "text/markdown": [
       "1. 291821\n",
       "2. 71414\n",
       "\n",
       "\n"
      ],
      "text/plain": [
       "[1] 291821  71414"
      ]
     },
     "metadata": {},
     "output_type": "display_data"
    },
    {
     "name": "stderr",
     "output_type": "stream",
     "text": [
      "  [[ suppressing 34 column names ‘HPAP-035_AAACGAAAGAGAGTTT’, ‘HPAP-035_AAACGAAAGGGTAGTC’, ‘HPAP-035_AAACGAACATTTGGCA’ ... ]]\n",
      "\n"
     ]
    },
    {
     "data": {
      "text/plain": [
       "6 x 71414 sparse Matrix of class \"dgCMatrix\"\n",
       "                                                                              \n",
       "chr1-1000073-1000373     . . . . . . . . . 5 . . . . 2 . . . . . . . . . . 2 .\n",
       "chr1-100036794-100037094 . . . . . . 2 2 . 2 . . . . . . . . . . . . . . . . .\n",
       "chr1-100037929-100038229 . . 3 3 5 2 . . . . . . . . . . 3 . 4 . . . . . . . .\n",
       "chr1-100046138-100046438 . . . . . . . . . . . . . . . . . . . . . . . . . . .\n",
       "chr1-100046907-100047207 . . . . . . . . . . . . . . . . . . . 2 . . . . . . .\n",
       "chr1-100050188-100050403 . . . . . . . . . . . . . . . . . . . . . . . . 2 . .\n",
       "                                             \n",
       "chr1-1000073-1000373     . . . . . . . ......\n",
       "chr1-100036794-100037094 . . . . . . . ......\n",
       "chr1-100037929-100038229 . . . . 2 2 2 ......\n",
       "chr1-100046138-100046438 . . . . . . . ......\n",
       "chr1-100046907-100047207 . . . . . . . ......\n",
       "chr1-100050188-100050403 . . . . . . . ......\n",
       "\n",
       " .....suppressing 71380 columns in show(); maybe adjust options(max.print=, width=)\n",
       " .............................."
      ]
     },
     "metadata": {},
     "output_type": "display_data"
    }
   ],
   "source": [
    "lfm <- do.call(cbind, lfms)\n",
    "\n",
    "dim(lfm)\n",
    "head(lfm)"
   ]
  },
  {
   "cell_type": "code",
   "execution_count": 41,
   "id": "bf013df9",
   "metadata": {},
   "outputs": [
    {
     "data": {
      "text/html": [
       "<style>\n",
       ".list-inline {list-style: none; margin:0; padding: 0}\n",
       ".list-inline>li {display: inline-block}\n",
       ".list-inline>li:not(:last-child)::after {content: \"\\00b7\"; padding: 0 .5ex}\n",
       "</style>\n",
       "<ol class=list-inline><li>'chr22-16354601-16354870'</li><li>'chrM-11303-11603'</li><li>'chrM-16221-16521'</li><li>'chrM-31-331'</li><li>'chrM-3345-3645'</li><li>'chrM-6181-6481'</li><li>'chrM-7955-8255'</li><li>'chrM-9124-9424'</li><li>'chrY-56685464-56685764'</li></ol>\n"
      ],
      "text/latex": [
       "\\begin{enumerate*}\n",
       "\\item 'chr22-16354601-16354870'\n",
       "\\item 'chrM-11303-11603'\n",
       "\\item 'chrM-16221-16521'\n",
       "\\item 'chrM-31-331'\n",
       "\\item 'chrM-3345-3645'\n",
       "\\item 'chrM-6181-6481'\n",
       "\\item 'chrM-7955-8255'\n",
       "\\item 'chrM-9124-9424'\n",
       "\\item 'chrY-56685464-56685764'\n",
       "\\end{enumerate*}\n"
      ],
      "text/markdown": [
       "1. 'chr22-16354601-16354870'\n",
       "2. 'chrM-11303-11603'\n",
       "3. 'chrM-16221-16521'\n",
       "4. 'chrM-31-331'\n",
       "5. 'chrM-3345-3645'\n",
       "6. 'chrM-6181-6481'\n",
       "7. 'chrM-7955-8255'\n",
       "8. 'chrM-9124-9424'\n",
       "9. 'chrY-56685464-56685764'\n",
       "\n",
       "\n"
      ],
      "text/plain": [
       "[1] \"chr22-16354601-16354870\" \"chrM-11303-11603\"       \n",
       "[3] \"chrM-16221-16521\"        \"chrM-31-331\"            \n",
       "[5] \"chrM-3345-3645\"          \"chrM-6181-6481\"         \n",
       "[7] \"chrM-7955-8255\"          \"chrM-9124-9424\"         \n",
       "[9] \"chrY-56685464-56685764\" "
      ]
     },
     "metadata": {},
     "output_type": "display_data"
    }
   ],
   "source": [
    "names(which(rowSums(lfm) != 0))"
   ]
  },
  {
   "cell_type": "code",
   "execution_count": null,
   "id": "56187166",
   "metadata": {},
   "outputs": [],
   "source": []
  },
  {
   "cell_type": "code",
   "execution_count": null,
   "id": "1339e503",
   "metadata": {},
   "outputs": [],
   "source": [
    "motif.ix()"
   ]
  },
  {
   "cell_type": "code",
   "execution_count": 29,
   "id": "1d26821e",
   "metadata": {},
   "outputs": [],
   "source": [
    "#Prep inputs for SummarizedExperiment\n",
    "\n",
    "#Extract matrix from Seurat object\n",
    "sc.data <- lfm\n",
    "sc.data.stored <- sc.data\n",
    "\n",
    "# Extract peak locations and reformat into GRanges object\n",
    "bed = str_split_fixed(rownames(sc.data), \"\\\\-\", 3) #This may need to be modified depending on your peak naming convention\n",
    "\n",
    "gr= GRanges(seqnames = bed[,1], ranges = IRanges(start = as.numeric(bed[,2]), end = as.numeric(bed[,3])))"
   ]
  },
  {
   "cell_type": "code",
   "execution_count": 30,
   "id": "2c094823",
   "metadata": {},
   "outputs": [
    {
     "data": {
      "text/plain": [
       "class: RangedSummarizedExperiment \n",
       "dim: 291821 71414 \n",
       "metadata(0):\n",
       "assays(1): counts\n",
       "rownames(291821): chr1-1000073-1000373 chr1-100036794-100037094 ...\n",
       "  chrY-9652738-9653038 chrY-9812080-9812380\n",
       "rowData names(1): bias\n",
       "colnames(71414): HPAP-035_AAACGAAAGAGAGTTT HPAP-035_AAACGAAAGGGTAGTC\n",
       "  ... HPAP-105_TTTGTGTGTACCAAGG HPAP-105_TTTGTGTGTTAGAGAT\n",
       "colData names(0):"
      ]
     },
     "metadata": {},
     "output_type": "display_data"
    }
   ],
   "source": [
    "#Use the matrix and GRanges to make a SummarizedExperiment to put into chromvar and add metadata\n",
    "\n",
    "fragment.counts <- SummarizedExperiment(assays=list(counts=sc.data), rowRanges=gr)\n",
    "fragment.counts.stored <- fragment.counts\n",
    "\n",
    "fragment.counts <- addGCBias(fragment.counts, genome=BSgenome.Hsapiens.UCSC.hg38)\n",
    "fragment.counts"
   ]
  },
  {
   "cell_type": "code",
   "execution_count": 44,
   "id": "48216199",
   "metadata": {},
   "outputs": [
    {
     "data": {
      "text/plain": [
       "class: RangedSummarizedExperiment \n",
       "dim: 291812 71414 \n",
       "metadata(0):\n",
       "assays(1): counts\n",
       "rownames(291812): chr1-1000073-1000373 chr1-100036794-100037094 ...\n",
       "  chrY-9652738-9653038 chrY-9812080-9812380\n",
       "rowData names(1): bias\n",
       "colnames(71414): HPAP-035_AAACGAAAGAGAGTTT HPAP-035_AAACGAAAGGGTAGTC\n",
       "  ... HPAP-105_TTTGTGTGTACCAAGG HPAP-105_TTTGTGTGTTAGAGAT\n",
       "colData names(0):"
      ]
     },
     "metadata": {},
     "output_type": "display_data"
    }
   ],
   "source": [
    "fragment.counts.sub <- fragment.counts[names(which(rowSums(lfm) != 0)),]\n",
    "fragment.counts.sub"
   ]
  },
  {
   "cell_type": "code",
   "execution_count": 45,
   "id": "035d6335",
   "metadata": {},
   "outputs": [
    {
     "data": {
      "text/plain": [
       "class: RangedSummarizedExperiment \n",
       "dim: 291812 692 \n",
       "metadata(0):\n",
       "assays(1): motifMatches\n",
       "rownames(291812): chr1-1000073-1000373 chr1-100036794-100037094 ...\n",
       "  chrY-9652738-9653038 chrY-9812080-9812380\n",
       "rowData names(1): bias\n",
       "colnames(692): MA0030.1_FOXF2 MA0031.1_FOXD1 ... MA1633.2_BACH1\n",
       "  MA0597.2_THAP1\n",
       "colData names(1): name"
      ]
     },
     "metadata": {},
     "output_type": "display_data"
    }
   ],
   "source": [
    "motif.ix.sub <- motif.ix[names(which(rowSums(lfm) != 0)),]\n",
    "motif.ix.sub"
   ]
  },
  {
   "cell_type": "code",
   "execution_count": 46,
   "id": "c022664c",
   "metadata": {},
   "outputs": [
    {
     "data": {
      "text/plain": [
       "class: chromVARDeviations \n",
       "dim: 6 71414 \n",
       "metadata(0):\n",
       "assays(2): deviations z\n",
       "rownames(6): MA0030.1_FOXF2 MA0031.1_FOXD1 ... MA0066.1_PPARG\n",
       "  MA0069.1_PAX6\n",
       "rowData names(3): name fractionMatches fractionBackgroundOverlap\n",
       "colnames(71414): HPAP-035_AAACGAAAGAGAGTTT HPAP-035_AAACGAAAGGGTAGTC\n",
       "  ... HPAP-105_TTTGTGTGTACCAAGG HPAP-105_TTTGTGTGTTAGAGAT\n",
       "colData names(0):"
      ]
     },
     "metadata": {},
     "output_type": "display_data"
    }
   ],
   "source": [
    "# Run chromVAR\n",
    "dev <- computeDeviations(object=fragment.counts.sub, annotations=motif.ix.sub)#, expectation=expected)#\n",
    "head(dev)"
   ]
  },
  {
   "cell_type": "code",
   "execution_count": 47,
   "id": "cd7fb09f",
   "metadata": {},
   "outputs": [],
   "source": [
    "saveRDS(dev, \"/nfs/lab/welison/islet_multiome/intermediates/chromVAR/240322_WE_ChromVAR_Object_Union_Peaks_HPAP.RDS\")"
   ]
  },
  {
   "cell_type": "markdown",
   "id": "5a149696",
   "metadata": {},
   "source": [
    "# Collect details for downstream analysis"
   ]
  },
  {
   "cell_type": "code",
   "execution_count": 48,
   "id": "1d3aa210",
   "metadata": {},
   "outputs": [],
   "source": [
    "# Reload chromVAR object and motifs if picking up again\n",
    "dev <- readRDS(\"/nfs/lab/welison/islet_multiome/intermediates/chromVAR/240322_WE_ChromVAR_Object_Union_Peaks_HPAP.RDS\")\n",
    "jaspar.motifs <- readRDS(file ='/nfs/lab/welison/multiome/chromvar/jaspar_2022_object.Rdata')"
   ]
  },
  {
   "cell_type": "code",
   "execution_count": 49,
   "id": "27600ea8",
   "metadata": {},
   "outputs": [
    {
     "data": {
      "text/plain": [
       "class: chromVARDeviations \n",
       "dim: 692 71414 \n",
       "metadata(0):\n",
       "assays(2): deviations z\n",
       "rownames(692): MA0030.1_FOXF2 MA0031.1_FOXD1 ... MA1633.2_BACH1\n",
       "  MA0597.2_THAP1\n",
       "rowData names(3): name fractionMatches fractionBackgroundOverlap\n",
       "colnames(71414): HPAP-035_AAACGAAAGAGAGTTT HPAP-035_AAACGAAAGGGTAGTC\n",
       "  ... HPAP-105_TTTGTGTGTACCAAGG HPAP-105_TTTGTGTGTTAGAGAT\n",
       "colData names(0):"
      ]
     },
     "metadata": {},
     "output_type": "display_data"
    },
    {
     "data": {
      "text/plain": [
       "PFMatrixList of length 692\n",
       "names(692): MA0030.1_FOXF2 MA0031.1_FOXD1 ... MA1633.2_BACH1 MA0597.2_THAP1"
      ]
     },
     "metadata": {},
     "output_type": "display_data"
    }
   ],
   "source": [
    "dev\n",
    "jaspar.motifs"
   ]
  },
  {
   "cell_type": "code",
   "execution_count": 50,
   "id": "76f02586",
   "metadata": {
    "scrolled": true
   },
   "outputs": [
    {
     "data": {
      "text/html": [
       "<table class=\"dataframe\">\n",
       "<caption>A matrix: 6 × 71414 of type dbl</caption>\n",
       "<thead>\n",
       "\t<tr><th></th><th scope=col>HPAP-035_AAACGAAAGAGAGTTT</th><th scope=col>HPAP-035_AAACGAAAGGGTAGTC</th><th scope=col>HPAP-035_AAACGAACATTTGGCA</th><th scope=col>HPAP-035_AAACGAAGTAGAAAGG</th><th scope=col>HPAP-035_AAACGAAGTGTTAGAA</th><th scope=col>HPAP-035_AAACGAATCCATTGAG</th><th scope=col>HPAP-035_AAACGAATCGAGGTCC</th><th scope=col>HPAP-035_AAACGAATCTCTATCA</th><th scope=col>HPAP-035_AAACTCGAGACGTCAG</th><th scope=col>HPAP-035_AAACTCGCAACTAGAA</th><th scope=col>⋯</th><th scope=col>HPAP-105_TTTGGTTCAGAGAGAA</th><th scope=col>HPAP-105_TTTGGTTCATTCTCGC</th><th scope=col>HPAP-105_TTTGGTTGTAGAACGC</th><th scope=col>HPAP-105_TTTGGTTGTTCTTTCA</th><th scope=col>HPAP-105_TTTGGTTTCGTGTGCG</th><th scope=col>HPAP-105_TTTGTGTAGACACTTC</th><th scope=col>HPAP-105_TTTGTGTAGGCTTTAC</th><th scope=col>HPAP-105_TTTGTGTCAGTAAGAT</th><th scope=col>HPAP-105_TTTGTGTGTACCAAGG</th><th scope=col>HPAP-105_TTTGTGTGTTAGAGAT</th></tr>\n",
       "</thead>\n",
       "<tbody>\n",
       "\t<tr><th scope=row>MA0030.1_FOXF2</th><td> 0.4110235</td><td>-2.2466023</td><td> 0.4994183</td><td>-1.5292301</td><td>-1.7146833</td><td>-0.6919612</td><td>-2.9399106</td><td>-0.7975196</td><td>0.5105827</td><td>-3.5968995</td><td>⋯</td><td> 2.00580990</td><td> 1.2681924</td><td> 1.8960060</td><td> 1.82322358</td><td> 1.9646631</td><td> 1.7403391</td><td>-0.397416182</td><td> 3.1626487</td><td> 1.8714928</td><td> 0.8987203</td></tr>\n",
       "\t<tr><th scope=row>MA0031.1_FOXD1</th><td> 0.6215934</td><td>-2.1892645</td><td>-0.8988423</td><td>-1.5389502</td><td>-0.8112179</td><td>-0.5220922</td><td>-2.4825019</td><td>-2.0059123</td><td>1.5878922</td><td>-3.6713462</td><td>⋯</td><td> 0.08752599</td><td> 0.3260774</td><td>-0.3708923</td><td> 0.89398947</td><td> 2.4657506</td><td> 1.2938397</td><td> 0.169278858</td><td> 0.9728386</td><td> 0.9554917</td><td>-1.2175132</td></tr>\n",
       "\t<tr><th scope=row>MA0051.1_IRF2</th><td> 0.1558243</td><td> 1.5312479</td><td> 0.1209592</td><td>-2.0540741</td><td>-0.0282015</td><td>-0.4244030</td><td> 0.1078591</td><td> 1.6894956</td><td>1.2432349</td><td> 0.8918917</td><td>⋯</td><td>-3.16689974</td><td> 0.1715135</td><td>-0.2727399</td><td> 0.02613013</td><td>-1.6138135</td><td>-0.5546000</td><td> 1.095427915</td><td>-0.3268551</td><td> 0.2292729</td><td> 1.4667138</td></tr>\n",
       "\t<tr><th scope=row>MA0059.1_MAX::MYC</th><td>-1.6449995</td><td>-2.8604461</td><td> 2.1255383</td><td>-1.1170332</td><td>-1.8716565</td><td> 1.6542892</td><td>-1.2050095</td><td>-1.8158865</td><td>0.0583148</td><td>-3.0814519</td><td>⋯</td><td> 0.17282733</td><td>-1.1952290</td><td> 0.5537114</td><td> 1.62260564</td><td> 1.8295354</td><td>-0.2482226</td><td> 0.525653840</td><td> 0.5281819</td><td>-0.7283575</td><td> 1.6599786</td></tr>\n",
       "\t<tr><th scope=row>MA0066.1_PPARG</th><td>-0.6838186</td><td> 0.4206531</td><td> 0.3736456</td><td> 0.6541631</td><td> 0.1454583</td><td>-0.2204830</td><td>-0.9553245</td><td> 2.0338884</td><td>1.0870040</td><td> 1.0721670</td><td>⋯</td><td> 1.79897242</td><td> 0.6956100</td><td>-1.8101150</td><td>-0.97424185</td><td> 0.2384596</td><td> 0.2941571</td><td>-2.024672396</td><td>-1.0917269</td><td>-0.9670213</td><td> 0.6722861</td></tr>\n",
       "\t<tr><th scope=row>MA0069.1_PAX6</th><td>-1.0757529</td><td>-2.1265548</td><td>-0.7889080</td><td>-0.1372047</td><td>-4.0116725</td><td> 0.4760245</td><td>-1.3316233</td><td>-1.8570831</td><td>0.3816542</td><td>-5.9050210</td><td>⋯</td><td>-0.71851202</td><td>-0.2581124</td><td>-0.3231095</td><td> 1.17005522</td><td> 0.5514249</td><td> 0.1453184</td><td>-0.007414741</td><td> 0.1666301</td><td> 0.9801364</td><td>-0.0214014</td></tr>\n",
       "</tbody>\n",
       "</table>\n"
      ],
      "text/latex": [
       "A matrix: 6 × 71414 of type dbl\n",
       "\\begin{tabular}{r|lllllllllllllllllllll}\n",
       "  & HPAP-035\\_AAACGAAAGAGAGTTT & HPAP-035\\_AAACGAAAGGGTAGTC & HPAP-035\\_AAACGAACATTTGGCA & HPAP-035\\_AAACGAAGTAGAAAGG & HPAP-035\\_AAACGAAGTGTTAGAA & HPAP-035\\_AAACGAATCCATTGAG & HPAP-035\\_AAACGAATCGAGGTCC & HPAP-035\\_AAACGAATCTCTATCA & HPAP-035\\_AAACTCGAGACGTCAG & HPAP-035\\_AAACTCGCAACTAGAA & ⋯ & HPAP-105\\_TTTGGTTCAGAGAGAA & HPAP-105\\_TTTGGTTCATTCTCGC & HPAP-105\\_TTTGGTTGTAGAACGC & HPAP-105\\_TTTGGTTGTTCTTTCA & HPAP-105\\_TTTGGTTTCGTGTGCG & HPAP-105\\_TTTGTGTAGACACTTC & HPAP-105\\_TTTGTGTAGGCTTTAC & HPAP-105\\_TTTGTGTCAGTAAGAT & HPAP-105\\_TTTGTGTGTACCAAGG & HPAP-105\\_TTTGTGTGTTAGAGAT\\\\\n",
       "\\hline\n",
       "\tMA0030.1\\_FOXF2 &  0.4110235 & -2.2466023 &  0.4994183 & -1.5292301 & -1.7146833 & -0.6919612 & -2.9399106 & -0.7975196 & 0.5105827 & -3.5968995 & ⋯ &  2.00580990 &  1.2681924 &  1.8960060 &  1.82322358 &  1.9646631 &  1.7403391 & -0.397416182 &  3.1626487 &  1.8714928 &  0.8987203\\\\\n",
       "\tMA0031.1\\_FOXD1 &  0.6215934 & -2.1892645 & -0.8988423 & -1.5389502 & -0.8112179 & -0.5220922 & -2.4825019 & -2.0059123 & 1.5878922 & -3.6713462 & ⋯ &  0.08752599 &  0.3260774 & -0.3708923 &  0.89398947 &  2.4657506 &  1.2938397 &  0.169278858 &  0.9728386 &  0.9554917 & -1.2175132\\\\\n",
       "\tMA0051.1\\_IRF2 &  0.1558243 &  1.5312479 &  0.1209592 & -2.0540741 & -0.0282015 & -0.4244030 &  0.1078591 &  1.6894956 & 1.2432349 &  0.8918917 & ⋯ & -3.16689974 &  0.1715135 & -0.2727399 &  0.02613013 & -1.6138135 & -0.5546000 &  1.095427915 & -0.3268551 &  0.2292729 &  1.4667138\\\\\n",
       "\tMA0059.1\\_MAX::MYC & -1.6449995 & -2.8604461 &  2.1255383 & -1.1170332 & -1.8716565 &  1.6542892 & -1.2050095 & -1.8158865 & 0.0583148 & -3.0814519 & ⋯ &  0.17282733 & -1.1952290 &  0.5537114 &  1.62260564 &  1.8295354 & -0.2482226 &  0.525653840 &  0.5281819 & -0.7283575 &  1.6599786\\\\\n",
       "\tMA0066.1\\_PPARG & -0.6838186 &  0.4206531 &  0.3736456 &  0.6541631 &  0.1454583 & -0.2204830 & -0.9553245 &  2.0338884 & 1.0870040 &  1.0721670 & ⋯ &  1.79897242 &  0.6956100 & -1.8101150 & -0.97424185 &  0.2384596 &  0.2941571 & -2.024672396 & -1.0917269 & -0.9670213 &  0.6722861\\\\\n",
       "\tMA0069.1\\_PAX6 & -1.0757529 & -2.1265548 & -0.7889080 & -0.1372047 & -4.0116725 &  0.4760245 & -1.3316233 & -1.8570831 & 0.3816542 & -5.9050210 & ⋯ & -0.71851202 & -0.2581124 & -0.3231095 &  1.17005522 &  0.5514249 &  0.1453184 & -0.007414741 &  0.1666301 &  0.9801364 & -0.0214014\\\\\n",
       "\\end{tabular}\n"
      ],
      "text/markdown": [
       "\n",
       "A matrix: 6 × 71414 of type dbl\n",
       "\n",
       "| <!--/--> | HPAP-035_AAACGAAAGAGAGTTT | HPAP-035_AAACGAAAGGGTAGTC | HPAP-035_AAACGAACATTTGGCA | HPAP-035_AAACGAAGTAGAAAGG | HPAP-035_AAACGAAGTGTTAGAA | HPAP-035_AAACGAATCCATTGAG | HPAP-035_AAACGAATCGAGGTCC | HPAP-035_AAACGAATCTCTATCA | HPAP-035_AAACTCGAGACGTCAG | HPAP-035_AAACTCGCAACTAGAA | ⋯ | HPAP-105_TTTGGTTCAGAGAGAA | HPAP-105_TTTGGTTCATTCTCGC | HPAP-105_TTTGGTTGTAGAACGC | HPAP-105_TTTGGTTGTTCTTTCA | HPAP-105_TTTGGTTTCGTGTGCG | HPAP-105_TTTGTGTAGACACTTC | HPAP-105_TTTGTGTAGGCTTTAC | HPAP-105_TTTGTGTCAGTAAGAT | HPAP-105_TTTGTGTGTACCAAGG | HPAP-105_TTTGTGTGTTAGAGAT |\n",
       "|---|---|---|---|---|---|---|---|---|---|---|---|---|---|---|---|---|---|---|---|---|---|\n",
       "| MA0030.1_FOXF2 |  0.4110235 | -2.2466023 |  0.4994183 | -1.5292301 | -1.7146833 | -0.6919612 | -2.9399106 | -0.7975196 | 0.5105827 | -3.5968995 | ⋯ |  2.00580990 |  1.2681924 |  1.8960060 |  1.82322358 |  1.9646631 |  1.7403391 | -0.397416182 |  3.1626487 |  1.8714928 |  0.8987203 |\n",
       "| MA0031.1_FOXD1 |  0.6215934 | -2.1892645 | -0.8988423 | -1.5389502 | -0.8112179 | -0.5220922 | -2.4825019 | -2.0059123 | 1.5878922 | -3.6713462 | ⋯ |  0.08752599 |  0.3260774 | -0.3708923 |  0.89398947 |  2.4657506 |  1.2938397 |  0.169278858 |  0.9728386 |  0.9554917 | -1.2175132 |\n",
       "| MA0051.1_IRF2 |  0.1558243 |  1.5312479 |  0.1209592 | -2.0540741 | -0.0282015 | -0.4244030 |  0.1078591 |  1.6894956 | 1.2432349 |  0.8918917 | ⋯ | -3.16689974 |  0.1715135 | -0.2727399 |  0.02613013 | -1.6138135 | -0.5546000 |  1.095427915 | -0.3268551 |  0.2292729 |  1.4667138 |\n",
       "| MA0059.1_MAX::MYC | -1.6449995 | -2.8604461 |  2.1255383 | -1.1170332 | -1.8716565 |  1.6542892 | -1.2050095 | -1.8158865 | 0.0583148 | -3.0814519 | ⋯ |  0.17282733 | -1.1952290 |  0.5537114 |  1.62260564 |  1.8295354 | -0.2482226 |  0.525653840 |  0.5281819 | -0.7283575 |  1.6599786 |\n",
       "| MA0066.1_PPARG | -0.6838186 |  0.4206531 |  0.3736456 |  0.6541631 |  0.1454583 | -0.2204830 | -0.9553245 |  2.0338884 | 1.0870040 |  1.0721670 | ⋯ |  1.79897242 |  0.6956100 | -1.8101150 | -0.97424185 |  0.2384596 |  0.2941571 | -2.024672396 | -1.0917269 | -0.9670213 |  0.6722861 |\n",
       "| MA0069.1_PAX6 | -1.0757529 | -2.1265548 | -0.7889080 | -0.1372047 | -4.0116725 |  0.4760245 | -1.3316233 | -1.8570831 | 0.3816542 | -5.9050210 | ⋯ | -0.71851202 | -0.2581124 | -0.3231095 |  1.17005522 |  0.5514249 |  0.1453184 | -0.007414741 |  0.1666301 |  0.9801364 | -0.0214014 |\n",
       "\n"
      ],
      "text/plain": [
       "                  HPAP-035_AAACGAAAGAGAGTTT HPAP-035_AAACGAAAGGGTAGTC\n",
       "MA0030.1_FOXF2     0.4110235                -2.2466023               \n",
       "MA0031.1_FOXD1     0.6215934                -2.1892645               \n",
       "MA0051.1_IRF2      0.1558243                 1.5312479               \n",
       "MA0059.1_MAX::MYC -1.6449995                -2.8604461               \n",
       "MA0066.1_PPARG    -0.6838186                 0.4206531               \n",
       "MA0069.1_PAX6     -1.0757529                -2.1265548               \n",
       "                  HPAP-035_AAACGAACATTTGGCA HPAP-035_AAACGAAGTAGAAAGG\n",
       "MA0030.1_FOXF2     0.4994183                -1.5292301               \n",
       "MA0031.1_FOXD1    -0.8988423                -1.5389502               \n",
       "MA0051.1_IRF2      0.1209592                -2.0540741               \n",
       "MA0059.1_MAX::MYC  2.1255383                -1.1170332               \n",
       "MA0066.1_PPARG     0.3736456                 0.6541631               \n",
       "MA0069.1_PAX6     -0.7889080                -0.1372047               \n",
       "                  HPAP-035_AAACGAAGTGTTAGAA HPAP-035_AAACGAATCCATTGAG\n",
       "MA0030.1_FOXF2    -1.7146833                -0.6919612               \n",
       "MA0031.1_FOXD1    -0.8112179                -0.5220922               \n",
       "MA0051.1_IRF2     -0.0282015                -0.4244030               \n",
       "MA0059.1_MAX::MYC -1.8716565                 1.6542892               \n",
       "MA0066.1_PPARG     0.1454583                -0.2204830               \n",
       "MA0069.1_PAX6     -4.0116725                 0.4760245               \n",
       "                  HPAP-035_AAACGAATCGAGGTCC HPAP-035_AAACGAATCTCTATCA\n",
       "MA0030.1_FOXF2    -2.9399106                -0.7975196               \n",
       "MA0031.1_FOXD1    -2.4825019                -2.0059123               \n",
       "MA0051.1_IRF2      0.1078591                 1.6894956               \n",
       "MA0059.1_MAX::MYC -1.2050095                -1.8158865               \n",
       "MA0066.1_PPARG    -0.9553245                 2.0338884               \n",
       "MA0069.1_PAX6     -1.3316233                -1.8570831               \n",
       "                  HPAP-035_AAACTCGAGACGTCAG HPAP-035_AAACTCGCAACTAGAA ⋯\n",
       "MA0030.1_FOXF2    0.5105827                 -3.5968995                ⋯\n",
       "MA0031.1_FOXD1    1.5878922                 -3.6713462                ⋯\n",
       "MA0051.1_IRF2     1.2432349                  0.8918917                ⋯\n",
       "MA0059.1_MAX::MYC 0.0583148                 -3.0814519                ⋯\n",
       "MA0066.1_PPARG    1.0870040                  1.0721670                ⋯\n",
       "MA0069.1_PAX6     0.3816542                 -5.9050210                ⋯\n",
       "                  HPAP-105_TTTGGTTCAGAGAGAA HPAP-105_TTTGGTTCATTCTCGC\n",
       "MA0030.1_FOXF2     2.00580990                1.2681924               \n",
       "MA0031.1_FOXD1     0.08752599                0.3260774               \n",
       "MA0051.1_IRF2     -3.16689974                0.1715135               \n",
       "MA0059.1_MAX::MYC  0.17282733               -1.1952290               \n",
       "MA0066.1_PPARG     1.79897242                0.6956100               \n",
       "MA0069.1_PAX6     -0.71851202               -0.2581124               \n",
       "                  HPAP-105_TTTGGTTGTAGAACGC HPAP-105_TTTGGTTGTTCTTTCA\n",
       "MA0030.1_FOXF2     1.8960060                 1.82322358              \n",
       "MA0031.1_FOXD1    -0.3708923                 0.89398947              \n",
       "MA0051.1_IRF2     -0.2727399                 0.02613013              \n",
       "MA0059.1_MAX::MYC  0.5537114                 1.62260564              \n",
       "MA0066.1_PPARG    -1.8101150                -0.97424185              \n",
       "MA0069.1_PAX6     -0.3231095                 1.17005522              \n",
       "                  HPAP-105_TTTGGTTTCGTGTGCG HPAP-105_TTTGTGTAGACACTTC\n",
       "MA0030.1_FOXF2     1.9646631                 1.7403391               \n",
       "MA0031.1_FOXD1     2.4657506                 1.2938397               \n",
       "MA0051.1_IRF2     -1.6138135                -0.5546000               \n",
       "MA0059.1_MAX::MYC  1.8295354                -0.2482226               \n",
       "MA0066.1_PPARG     0.2384596                 0.2941571               \n",
       "MA0069.1_PAX6      0.5514249                 0.1453184               \n",
       "                  HPAP-105_TTTGTGTAGGCTTTAC HPAP-105_TTTGTGTCAGTAAGAT\n",
       "MA0030.1_FOXF2    -0.397416182               3.1626487               \n",
       "MA0031.1_FOXD1     0.169278858               0.9728386               \n",
       "MA0051.1_IRF2      1.095427915              -0.3268551               \n",
       "MA0059.1_MAX::MYC  0.525653840               0.5281819               \n",
       "MA0066.1_PPARG    -2.024672396              -1.0917269               \n",
       "MA0069.1_PAX6     -0.007414741               0.1666301               \n",
       "                  HPAP-105_TTTGTGTGTACCAAGG HPAP-105_TTTGTGTGTTAGAGAT\n",
       "MA0030.1_FOXF2     1.8714928                 0.8987203               \n",
       "MA0031.1_FOXD1     0.9554917                -1.2175132               \n",
       "MA0051.1_IRF2      0.2292729                 1.4667138               \n",
       "MA0059.1_MAX::MYC -0.7283575                 1.6599786               \n",
       "MA0066.1_PPARG    -0.9670213                 0.6722861               \n",
       "MA0069.1_PAX6      0.9801364                -0.0214014               "
      ]
     },
     "metadata": {},
     "output_type": "display_data"
    }
   ],
   "source": [
    "#This is a cell by motif deviation score (aka accessibility) matrix\n",
    "devtab = deviationScores(dev)\n",
    "head(devtab)"
   ]
  },
  {
   "cell_type": "code",
   "execution_count": 51,
   "id": "c3a3d9d4",
   "metadata": {},
   "outputs": [
    {
     "data": {
      "text/html": [
       "<table class=\"dataframe\">\n",
       "<caption>A data.frame: 6 × 6</caption>\n",
       "<thead>\n",
       "\t<tr><th></th><th scope=col>name</th><th scope=col>variability</th><th scope=col>bootstrap_lower_bound</th><th scope=col>bootstrap_upper_bound</th><th scope=col>p_value</th><th scope=col>p_value_adj</th></tr>\n",
       "\t<tr><th></th><th scope=col>&lt;chr&gt;</th><th scope=col>&lt;dbl&gt;</th><th scope=col>&lt;dbl&gt;</th><th scope=col>&lt;dbl&gt;</th><th scope=col>&lt;dbl&gt;</th><th scope=col>&lt;dbl&gt;</th></tr>\n",
       "</thead>\n",
       "<tbody>\n",
       "\t<tr><th scope=row>MA0030.1_FOXF2</th><td>FOXF2   </td><td>1.693341</td><td>1.682550</td><td>1.703470</td><td>0</td><td>0</td></tr>\n",
       "\t<tr><th scope=row>MA0031.1_FOXD1</th><td>FOXD1   </td><td>1.774747</td><td>1.762893</td><td>1.786564</td><td>0</td><td>0</td></tr>\n",
       "\t<tr><th scope=row>MA0051.1_IRF2</th><td>IRF2    </td><td>1.591066</td><td>1.578550</td><td>1.602822</td><td>0</td><td>0</td></tr>\n",
       "\t<tr><th scope=row>MA0059.1_MAX::MYC</th><td>MAX::MYC</td><td>1.194091</td><td>1.188227</td><td>1.200607</td><td>0</td><td>0</td></tr>\n",
       "\t<tr><th scope=row>MA0066.1_PPARG</th><td>PPARG   </td><td>1.194302</td><td>1.187975</td><td>1.201412</td><td>0</td><td>0</td></tr>\n",
       "\t<tr><th scope=row>MA0069.1_PAX6</th><td>PAX6    </td><td>1.490371</td><td>1.482693</td><td>1.498685</td><td>0</td><td>0</td></tr>\n",
       "</tbody>\n",
       "</table>\n"
      ],
      "text/latex": [
       "A data.frame: 6 × 6\n",
       "\\begin{tabular}{r|llllll}\n",
       "  & name & variability & bootstrap\\_lower\\_bound & bootstrap\\_upper\\_bound & p\\_value & p\\_value\\_adj\\\\\n",
       "  & <chr> & <dbl> & <dbl> & <dbl> & <dbl> & <dbl>\\\\\n",
       "\\hline\n",
       "\tMA0030.1\\_FOXF2 & FOXF2    & 1.693341 & 1.682550 & 1.703470 & 0 & 0\\\\\n",
       "\tMA0031.1\\_FOXD1 & FOXD1    & 1.774747 & 1.762893 & 1.786564 & 0 & 0\\\\\n",
       "\tMA0051.1\\_IRF2 & IRF2     & 1.591066 & 1.578550 & 1.602822 & 0 & 0\\\\\n",
       "\tMA0059.1\\_MAX::MYC & MAX::MYC & 1.194091 & 1.188227 & 1.200607 & 0 & 0\\\\\n",
       "\tMA0066.1\\_PPARG & PPARG    & 1.194302 & 1.187975 & 1.201412 & 0 & 0\\\\\n",
       "\tMA0069.1\\_PAX6 & PAX6     & 1.490371 & 1.482693 & 1.498685 & 0 & 0\\\\\n",
       "\\end{tabular}\n"
      ],
      "text/markdown": [
       "\n",
       "A data.frame: 6 × 6\n",
       "\n",
       "| <!--/--> | name &lt;chr&gt; | variability &lt;dbl&gt; | bootstrap_lower_bound &lt;dbl&gt; | bootstrap_upper_bound &lt;dbl&gt; | p_value &lt;dbl&gt; | p_value_adj &lt;dbl&gt; |\n",
       "|---|---|---|---|---|---|---|\n",
       "| MA0030.1_FOXF2 | FOXF2    | 1.693341 | 1.682550 | 1.703470 | 0 | 0 |\n",
       "| MA0031.1_FOXD1 | FOXD1    | 1.774747 | 1.762893 | 1.786564 | 0 | 0 |\n",
       "| MA0051.1_IRF2 | IRF2     | 1.591066 | 1.578550 | 1.602822 | 0 | 0 |\n",
       "| MA0059.1_MAX::MYC | MAX::MYC | 1.194091 | 1.188227 | 1.200607 | 0 | 0 |\n",
       "| MA0066.1_PPARG | PPARG    | 1.194302 | 1.187975 | 1.201412 | 0 | 0 |\n",
       "| MA0069.1_PAX6 | PAX6     | 1.490371 | 1.482693 | 1.498685 | 0 | 0 |\n",
       "\n"
      ],
      "text/plain": [
       "                  name     variability bootstrap_lower_bound\n",
       "MA0030.1_FOXF2    FOXF2    1.693341    1.682550             \n",
       "MA0031.1_FOXD1    FOXD1    1.774747    1.762893             \n",
       "MA0051.1_IRF2     IRF2     1.591066    1.578550             \n",
       "MA0059.1_MAX::MYC MAX::MYC 1.194091    1.188227             \n",
       "MA0066.1_PPARG    PPARG    1.194302    1.187975             \n",
       "MA0069.1_PAX6     PAX6     1.490371    1.482693             \n",
       "                  bootstrap_upper_bound p_value p_value_adj\n",
       "MA0030.1_FOXF2    1.703470              0       0          \n",
       "MA0031.1_FOXD1    1.786564              0       0          \n",
       "MA0051.1_IRF2     1.602822              0       0          \n",
       "MA0059.1_MAX::MYC 1.200607              0       0          \n",
       "MA0066.1_PPARG    1.201412              0       0          \n",
       "MA0069.1_PAX6     1.498685              0       0          "
      ]
     },
     "metadata": {},
     "output_type": "display_data"
    }
   ],
   "source": [
    "# Variation of accessibiility across deviation scores, basically the standard errror. Null is about 1\n",
    "variability <- computeVariability(dev)\n",
    "head(variability)"
   ]
  },
  {
   "cell_type": "code",
   "execution_count": 52,
   "id": "2d3c5844",
   "metadata": {
    "scrolled": true
   },
   "outputs": [
    {
     "data": {
      "text/html": [
       "<table class=\"dataframe\">\n",
       "<caption>A matrix: 692 × 2</caption>\n",
       "<tbody>\n",
       "\t<tr><th scope=row>MA0030.1_FOXF2</th><td>FOXF2</td><td>Fork head/winged helix factors</td></tr>\n",
       "\t<tr><th scope=row>MA0031.1_FOXD1</th><td>FOXD1</td><td>Fork head/winged helix factors</td></tr>\n",
       "\t<tr><th scope=row>MA0051.1_IRF2</th><td>IRF2</td><td>Tryptophan cluster factors</td></tr>\n",
       "\t<tr><th scope=row>MA0059.1_MAX::MYC</th><td>MAX::MYC</td><td>Basic helix-loop-helix factors (bHLH)</td></tr>\n",
       "\t<tr><th scope=row>MA0066.1_PPARG</th><td>PPARG</td><td>Nuclear receptors with C4 zinc fingers</td></tr>\n",
       "\t<tr><th scope=row>MA0069.1_PAX6</th><td>PAX6</td><td>Paired box factors</td></tr>\n",
       "\t<tr><th scope=row>MA0070.1_PBX1</th><td>PBX1</td><td>Homeo domain factors</td></tr>\n",
       "\t<tr><th scope=row>MA0071.1_RORA</th><td>RORA</td><td>Nuclear receptors with C4 zinc fingers</td></tr>\n",
       "\t<tr><th scope=row>MA0072.1_RORA</th><td>RORA</td><td>Nuclear receptors with C4 zinc fingers</td></tr>\n",
       "\t<tr><th scope=row>MA0073.1_RREB1</th><td>RREB1</td><td>C2H2 zinc finger factors</td></tr>\n",
       "\t<tr><th scope=row>MA0074.1_RXRA::VDR</th><td>RXRA::VDR</td><td>Nuclear receptors with C4 zinc fingers</td></tr>\n",
       "\t<tr><th scope=row>MA0077.1_SOX9</th><td>SOX9</td><td>High-mobility group (HMG) domain factors</td></tr>\n",
       "\t<tr><th scope=row>MA0084.1_SRY</th><td>SRY</td><td>High-mobility group (HMG) domain factors</td></tr>\n",
       "\t<tr><th scope=row>MA0091.1_TAL1::TCF3</th><td>TAL1::TCF3</td><td>Basic helix-loop-helix factors (bHLH)</td></tr>\n",
       "\t<tr><th scope=row>MA0101.1_REL</th><td>REL</td><td>Rel homology region (RHR) factors</td></tr>\n",
       "\t<tr><th scope=row>MA0107.1_RELA</th><td>RELA</td><td>Rel homology region (RHR) factors</td></tr>\n",
       "\t<tr><th scope=row>MA0115.1_NR1H2::RXRA</th><td>NR1H2::RXRA</td><td>Nuclear receptors with C4 zinc fingers</td></tr>\n",
       "\t<tr><th scope=row>MA0119.1_NFIC::TLX1</th><td>NFIC::TLX1</td><td>SMAD/NF-1 DNA-binding domain factors, Homeo domain factors                </td></tr>\n",
       "\t<tr><th scope=row>MA0130.1_ZNF354C</th><td>ZNF354C</td><td>C2H2 zinc finger factors</td></tr>\n",
       "\t<tr><th scope=row>MA0139.1_CTCF</th><td>CTCF</td><td>C2H2 zinc finger factors</td></tr>\n",
       "\t<tr><th scope=row>MA0149.1_EWSR1-FLI1</th><td>EWSR1-FLI1</td><td>Tryptophan cluster factors</td></tr>\n",
       "\t<tr><th scope=row>MA0138.2_REST</th><td>REST</td><td>C2H2 zinc finger factors</td></tr>\n",
       "\t<tr><th scope=row>MA0155.1_INSM1</th><td>INSM1</td><td>C2H2 zinc finger factors</td></tr>\n",
       "\t<tr><th scope=row>MA0159.1_RARA::RXRA</th><td>RARA::RXRA</td><td>Nuclear receptors with C4 zinc fingers</td></tr>\n",
       "\t<tr><th scope=row>MA0163.1_PLAG1</th><td>PLAG1</td><td>C2H2 zinc finger factors</td></tr>\n",
       "\t<tr><th scope=row>MA0259.1_ARNT::HIF1A</th><td>ARNT::HIF1A</td><td>Basic helix-loop-helix factors (bHLH)</td></tr>\n",
       "\t<tr><th scope=row>MA0468.1_DUX4</th><td>DUX4</td><td>Homeo domain factors</td></tr>\n",
       "\t<tr><th scope=row>MA0476.1_FOS</th><td>FOS</td><td>Basic leucine zipper factors (bZIP)</td></tr>\n",
       "\t<tr><th scope=row>MA0478.1_FOSL2</th><td>FOSL2</td><td>Basic leucine zipper factors (bZIP)</td></tr>\n",
       "\t<tr><th scope=row>MA0479.1_FOXH1</th><td>FOXH1</td><td>Fork head/winged helix factors</td></tr>\n",
       "\t<tr><th scope=row>⋮</th><td>⋮</td><td>⋮</td></tr>\n",
       "\t<tr><th scope=row>MA0765.3_ETV5</th><td>ETV5</td><td>Tryptophan cluster factors</td></tr>\n",
       "\t<tr><th scope=row>MA0784.2_POU1F1</th><td>POU1F1</td><td>Homeo domain factors</td></tr>\n",
       "\t<tr><th scope=row>MA0798.3_RFX3</th><td>RFX3</td><td>Fork head/winged helix factors</td></tr>\n",
       "\t<tr><th scope=row>MA0799.2_RFX4</th><td>RFX4</td><td>Fork head/winged helix factors</td></tr>\n",
       "\t<tr><th scope=row>MA0818.2_BHLHE22</th><td>BHLHE22</td><td>Basic helix-loop-helix factors (bHLH)</td></tr>\n",
       "\t<tr><th scope=row>MA0819.2_CLOCK</th><td>CLOCK</td><td>Basic helix-loop-helix factors (bHLH)</td></tr>\n",
       "\t<tr><th scope=row>MA0821.2_HES5</th><td>HES5</td><td>Basic helix-loop-helix factors (bHLH)</td></tr>\n",
       "\t<tr><th scope=row>MA0828.2_SREBF2</th><td>SREBF2</td><td>Basic helix-loop-helix factors (bHLH)</td></tr>\n",
       "\t<tr><th scope=row>MA0831.3_TFE3</th><td>TFE3</td><td>Basic helix-loop-helix factors (bHLH)</td></tr>\n",
       "\t<tr><th scope=row>MA0837.2_CEBPE</th><td>CEBPE</td><td>Basic leucine zipper factors (bZIP)</td></tr>\n",
       "\t<tr><th scope=row>MA0847.3_FOXD2</th><td>FOXD2</td><td>Fork head/winged helix factors</td></tr>\n",
       "\t<tr><th scope=row>MA0865.2_E2F8</th><td>E2F8</td><td>Fork head/winged helix factors</td></tr>\n",
       "\t<tr><th scope=row>MA0877.3_BARHL1</th><td>BARHL1</td><td>Homeo domain factors</td></tr>\n",
       "\t<tr><th scope=row>MA0878.3_CDX1</th><td>CDX1</td><td>Homeo domain factors</td></tr>\n",
       "\t<tr><th scope=row>MA0879.2_DLX1</th><td>DLX1</td><td>Homeo domain factors</td></tr>\n",
       "\t<tr><th scope=row>MA0884.2_DUXA</th><td>DUXA</td><td>Homeo domain factors</td></tr>\n",
       "\t<tr><th scope=row>MA1483.2_ELF2</th><td>ELF2</td><td>Tryptophan cluster factors</td></tr>\n",
       "\t<tr><th scope=row>MA1487.2_FOXE1</th><td>FOXE1</td><td>Fork head/winged helix factors</td></tr>\n",
       "\t<tr><th scope=row>MA1491.2_GLI3</th><td>GLI3</td><td>C2H2 zinc finger factors</td></tr>\n",
       "\t<tr><th scope=row>MA1498.2_HOXA7</th><td>HOXA7</td><td>Homeo domain factors</td></tr>\n",
       "\t<tr><th scope=row>MA1511.2_KLF10</th><td>KLF10</td><td>C2H2 zinc finger factors</td></tr>\n",
       "\t<tr><th scope=row>MA1525.2_NFATC4</th><td>NFATC4</td><td>Rel homology region (RHR) factors</td></tr>\n",
       "\t<tr><th scope=row>MA1532.2_NR1D2</th><td>NR1D2</td><td>Nuclear receptors with C4 zinc fingers</td></tr>\n",
       "\t<tr><th scope=row>MA1547.2_PITX2</th><td>PITX2</td><td>Homeo domain factors</td></tr>\n",
       "\t<tr><th scope=row>MA1563.2_SOX18</th><td>SOX18</td><td>High-mobility group (HMG) domain factors</td></tr>\n",
       "\t<tr><th scope=row>MA1566.2_TBX3</th><td>TBX3</td><td>T-Box factors</td></tr>\n",
       "\t<tr><th scope=row>MA1601.2_ZNF75D</th><td>ZNF75D</td><td>C2H2 zinc finger factors</td></tr>\n",
       "\t<tr><th scope=row>MA1630.2_ZNF281</th><td>ZNF281</td><td>C2H2 zinc finger factors</td></tr>\n",
       "\t<tr><th scope=row>MA1633.2_BACH1</th><td>BACH1</td><td>Basic leucine zipper factors (bZIP)</td></tr>\n",
       "\t<tr><th scope=row>MA0597.2_THAP1</th><td>THAP1</td><td>C2CH THAP-type zinc finger factors</td></tr>\n",
       "</tbody>\n",
       "</table>\n"
      ],
      "text/latex": [
       "A matrix: 692 × 2\n",
       "\\begin{tabular}{r|ll}\n",
       "\tMA0030.1\\_FOXF2 & FOXF2 & Fork head/winged helix factors\\\\\n",
       "\tMA0031.1\\_FOXD1 & FOXD1 & Fork head/winged helix factors\\\\\n",
       "\tMA0051.1\\_IRF2 & IRF2 & Tryptophan cluster factors\\\\\n",
       "\tMA0059.1\\_MAX::MYC & MAX::MYC & Basic helix-loop-helix factors (bHLH)\\\\\n",
       "\tMA0066.1\\_PPARG & PPARG & Nuclear receptors with C4 zinc fingers\\\\\n",
       "\tMA0069.1\\_PAX6 & PAX6 & Paired box factors\\\\\n",
       "\tMA0070.1\\_PBX1 & PBX1 & Homeo domain factors\\\\\n",
       "\tMA0071.1\\_RORA & RORA & Nuclear receptors with C4 zinc fingers\\\\\n",
       "\tMA0072.1\\_RORA & RORA & Nuclear receptors with C4 zinc fingers\\\\\n",
       "\tMA0073.1\\_RREB1 & RREB1 & C2H2 zinc finger factors\\\\\n",
       "\tMA0074.1\\_RXRA::VDR & RXRA::VDR & Nuclear receptors with C4 zinc fingers\\\\\n",
       "\tMA0077.1\\_SOX9 & SOX9 & High-mobility group (HMG) domain factors\\\\\n",
       "\tMA0084.1\\_SRY & SRY & High-mobility group (HMG) domain factors\\\\\n",
       "\tMA0091.1\\_TAL1::TCF3 & TAL1::TCF3 & Basic helix-loop-helix factors (bHLH)\\\\\n",
       "\tMA0101.1\\_REL & REL & Rel homology region (RHR) factors\\\\\n",
       "\tMA0107.1\\_RELA & RELA & Rel homology region (RHR) factors\\\\\n",
       "\tMA0115.1\\_NR1H2::RXRA & NR1H2::RXRA & Nuclear receptors with C4 zinc fingers\\\\\n",
       "\tMA0119.1\\_NFIC::TLX1 & NFIC::TLX1 & SMAD/NF-1 DNA-binding domain factors, Homeo domain factors                \\\\\n",
       "\tMA0130.1\\_ZNF354C & ZNF354C & C2H2 zinc finger factors\\\\\n",
       "\tMA0139.1\\_CTCF & CTCF & C2H2 zinc finger factors\\\\\n",
       "\tMA0149.1\\_EWSR1-FLI1 & EWSR1-FLI1 & Tryptophan cluster factors\\\\\n",
       "\tMA0138.2\\_REST & REST & C2H2 zinc finger factors\\\\\n",
       "\tMA0155.1\\_INSM1 & INSM1 & C2H2 zinc finger factors\\\\\n",
       "\tMA0159.1\\_RARA::RXRA & RARA::RXRA & Nuclear receptors with C4 zinc fingers\\\\\n",
       "\tMA0163.1\\_PLAG1 & PLAG1 & C2H2 zinc finger factors\\\\\n",
       "\tMA0259.1\\_ARNT::HIF1A & ARNT::HIF1A & Basic helix-loop-helix factors (bHLH)\\\\\n",
       "\tMA0468.1\\_DUX4 & DUX4 & Homeo domain factors\\\\\n",
       "\tMA0476.1\\_FOS & FOS & Basic leucine zipper factors (bZIP)\\\\\n",
       "\tMA0478.1\\_FOSL2 & FOSL2 & Basic leucine zipper factors (bZIP)\\\\\n",
       "\tMA0479.1\\_FOXH1 & FOXH1 & Fork head/winged helix factors\\\\\n",
       "\t⋮ & ⋮ & ⋮\\\\\n",
       "\tMA0765.3\\_ETV5 & ETV5 & Tryptophan cluster factors\\\\\n",
       "\tMA0784.2\\_POU1F1 & POU1F1 & Homeo domain factors\\\\\n",
       "\tMA0798.3\\_RFX3 & RFX3 & Fork head/winged helix factors\\\\\n",
       "\tMA0799.2\\_RFX4 & RFX4 & Fork head/winged helix factors\\\\\n",
       "\tMA0818.2\\_BHLHE22 & BHLHE22 & Basic helix-loop-helix factors (bHLH)\\\\\n",
       "\tMA0819.2\\_CLOCK & CLOCK & Basic helix-loop-helix factors (bHLH)\\\\\n",
       "\tMA0821.2\\_HES5 & HES5 & Basic helix-loop-helix factors (bHLH)\\\\\n",
       "\tMA0828.2\\_SREBF2 & SREBF2 & Basic helix-loop-helix factors (bHLH)\\\\\n",
       "\tMA0831.3\\_TFE3 & TFE3 & Basic helix-loop-helix factors (bHLH)\\\\\n",
       "\tMA0837.2\\_CEBPE & CEBPE & Basic leucine zipper factors (bZIP)\\\\\n",
       "\tMA0847.3\\_FOXD2 & FOXD2 & Fork head/winged helix factors\\\\\n",
       "\tMA0865.2\\_E2F8 & E2F8 & Fork head/winged helix factors\\\\\n",
       "\tMA0877.3\\_BARHL1 & BARHL1 & Homeo domain factors\\\\\n",
       "\tMA0878.3\\_CDX1 & CDX1 & Homeo domain factors\\\\\n",
       "\tMA0879.2\\_DLX1 & DLX1 & Homeo domain factors\\\\\n",
       "\tMA0884.2\\_DUXA & DUXA & Homeo domain factors\\\\\n",
       "\tMA1483.2\\_ELF2 & ELF2 & Tryptophan cluster factors\\\\\n",
       "\tMA1487.2\\_FOXE1 & FOXE1 & Fork head/winged helix factors\\\\\n",
       "\tMA1491.2\\_GLI3 & GLI3 & C2H2 zinc finger factors\\\\\n",
       "\tMA1498.2\\_HOXA7 & HOXA7 & Homeo domain factors\\\\\n",
       "\tMA1511.2\\_KLF10 & KLF10 & C2H2 zinc finger factors\\\\\n",
       "\tMA1525.2\\_NFATC4 & NFATC4 & Rel homology region (RHR) factors\\\\\n",
       "\tMA1532.2\\_NR1D2 & NR1D2 & Nuclear receptors with C4 zinc fingers\\\\\n",
       "\tMA1547.2\\_PITX2 & PITX2 & Homeo domain factors\\\\\n",
       "\tMA1563.2\\_SOX18 & SOX18 & High-mobility group (HMG) domain factors\\\\\n",
       "\tMA1566.2\\_TBX3 & TBX3 & T-Box factors\\\\\n",
       "\tMA1601.2\\_ZNF75D & ZNF75D & C2H2 zinc finger factors\\\\\n",
       "\tMA1630.2\\_ZNF281 & ZNF281 & C2H2 zinc finger factors\\\\\n",
       "\tMA1633.2\\_BACH1 & BACH1 & Basic leucine zipper factors (bZIP)\\\\\n",
       "\tMA0597.2\\_THAP1 & THAP1 & C2CH THAP-type zinc finger factors\\\\\n",
       "\\end{tabular}\n"
      ],
      "text/markdown": [
       "\n",
       "A matrix: 692 × 2\n",
       "\n",
       "| MA0030.1_FOXF2 | FOXF2 | Fork head/winged helix factors |\n",
       "| MA0031.1_FOXD1 | FOXD1 | Fork head/winged helix factors |\n",
       "| MA0051.1_IRF2 | IRF2 | Tryptophan cluster factors |\n",
       "| MA0059.1_MAX::MYC | MAX::MYC | Basic helix-loop-helix factors (bHLH) |\n",
       "| MA0066.1_PPARG | PPARG | Nuclear receptors with C4 zinc fingers |\n",
       "| MA0069.1_PAX6 | PAX6 | Paired box factors |\n",
       "| MA0070.1_PBX1 | PBX1 | Homeo domain factors |\n",
       "| MA0071.1_RORA | RORA | Nuclear receptors with C4 zinc fingers |\n",
       "| MA0072.1_RORA | RORA | Nuclear receptors with C4 zinc fingers |\n",
       "| MA0073.1_RREB1 | RREB1 | C2H2 zinc finger factors |\n",
       "| MA0074.1_RXRA::VDR | RXRA::VDR | Nuclear receptors with C4 zinc fingers |\n",
       "| MA0077.1_SOX9 | SOX9 | High-mobility group (HMG) domain factors |\n",
       "| MA0084.1_SRY | SRY | High-mobility group (HMG) domain factors |\n",
       "| MA0091.1_TAL1::TCF3 | TAL1::TCF3 | Basic helix-loop-helix factors (bHLH) |\n",
       "| MA0101.1_REL | REL | Rel homology region (RHR) factors |\n",
       "| MA0107.1_RELA | RELA | Rel homology region (RHR) factors |\n",
       "| MA0115.1_NR1H2::RXRA | NR1H2::RXRA | Nuclear receptors with C4 zinc fingers |\n",
       "| MA0119.1_NFIC::TLX1 | NFIC::TLX1 | SMAD/NF-1 DNA-binding domain factors, Homeo domain factors                 |\n",
       "| MA0130.1_ZNF354C | ZNF354C | C2H2 zinc finger factors |\n",
       "| MA0139.1_CTCF | CTCF | C2H2 zinc finger factors |\n",
       "| MA0149.1_EWSR1-FLI1 | EWSR1-FLI1 | Tryptophan cluster factors |\n",
       "| MA0138.2_REST | REST | C2H2 zinc finger factors |\n",
       "| MA0155.1_INSM1 | INSM1 | C2H2 zinc finger factors |\n",
       "| MA0159.1_RARA::RXRA | RARA::RXRA | Nuclear receptors with C4 zinc fingers |\n",
       "| MA0163.1_PLAG1 | PLAG1 | C2H2 zinc finger factors |\n",
       "| MA0259.1_ARNT::HIF1A | ARNT::HIF1A | Basic helix-loop-helix factors (bHLH) |\n",
       "| MA0468.1_DUX4 | DUX4 | Homeo domain factors |\n",
       "| MA0476.1_FOS | FOS | Basic leucine zipper factors (bZIP) |\n",
       "| MA0478.1_FOSL2 | FOSL2 | Basic leucine zipper factors (bZIP) |\n",
       "| MA0479.1_FOXH1 | FOXH1 | Fork head/winged helix factors |\n",
       "| ⋮ | ⋮ | ⋮ |\n",
       "| MA0765.3_ETV5 | ETV5 | Tryptophan cluster factors |\n",
       "| MA0784.2_POU1F1 | POU1F1 | Homeo domain factors |\n",
       "| MA0798.3_RFX3 | RFX3 | Fork head/winged helix factors |\n",
       "| MA0799.2_RFX4 | RFX4 | Fork head/winged helix factors |\n",
       "| MA0818.2_BHLHE22 | BHLHE22 | Basic helix-loop-helix factors (bHLH) |\n",
       "| MA0819.2_CLOCK | CLOCK | Basic helix-loop-helix factors (bHLH) |\n",
       "| MA0821.2_HES5 | HES5 | Basic helix-loop-helix factors (bHLH) |\n",
       "| MA0828.2_SREBF2 | SREBF2 | Basic helix-loop-helix factors (bHLH) |\n",
       "| MA0831.3_TFE3 | TFE3 | Basic helix-loop-helix factors (bHLH) |\n",
       "| MA0837.2_CEBPE | CEBPE | Basic leucine zipper factors (bZIP) |\n",
       "| MA0847.3_FOXD2 | FOXD2 | Fork head/winged helix factors |\n",
       "| MA0865.2_E2F8 | E2F8 | Fork head/winged helix factors |\n",
       "| MA0877.3_BARHL1 | BARHL1 | Homeo domain factors |\n",
       "| MA0878.3_CDX1 | CDX1 | Homeo domain factors |\n",
       "| MA0879.2_DLX1 | DLX1 | Homeo domain factors |\n",
       "| MA0884.2_DUXA | DUXA | Homeo domain factors |\n",
       "| MA1483.2_ELF2 | ELF2 | Tryptophan cluster factors |\n",
       "| MA1487.2_FOXE1 | FOXE1 | Fork head/winged helix factors |\n",
       "| MA1491.2_GLI3 | GLI3 | C2H2 zinc finger factors |\n",
       "| MA1498.2_HOXA7 | HOXA7 | Homeo domain factors |\n",
       "| MA1511.2_KLF10 | KLF10 | C2H2 zinc finger factors |\n",
       "| MA1525.2_NFATC4 | NFATC4 | Rel homology region (RHR) factors |\n",
       "| MA1532.2_NR1D2 | NR1D2 | Nuclear receptors with C4 zinc fingers |\n",
       "| MA1547.2_PITX2 | PITX2 | Homeo domain factors |\n",
       "| MA1563.2_SOX18 | SOX18 | High-mobility group (HMG) domain factors |\n",
       "| MA1566.2_TBX3 | TBX3 | T-Box factors |\n",
       "| MA1601.2_ZNF75D | ZNF75D | C2H2 zinc finger factors |\n",
       "| MA1630.2_ZNF281 | ZNF281 | C2H2 zinc finger factors |\n",
       "| MA1633.2_BACH1 | BACH1 | Basic leucine zipper factors (bZIP) |\n",
       "| MA0597.2_THAP1 | THAP1 | C2CH THAP-type zinc finger factors |\n",
       "\n"
      ],
      "text/plain": [
       "                     [,1]       \n",
       "MA0030.1_FOXF2       FOXF2      \n",
       "MA0031.1_FOXD1       FOXD1      \n",
       "MA0051.1_IRF2        IRF2       \n",
       "MA0059.1_MAX::MYC    MAX::MYC   \n",
       "MA0066.1_PPARG       PPARG      \n",
       "MA0069.1_PAX6        PAX6       \n",
       "MA0070.1_PBX1        PBX1       \n",
       "MA0071.1_RORA        RORA       \n",
       "MA0072.1_RORA        RORA       \n",
       "MA0073.1_RREB1       RREB1      \n",
       "MA0074.1_RXRA::VDR   RXRA::VDR  \n",
       "MA0077.1_SOX9        SOX9       \n",
       "MA0084.1_SRY         SRY        \n",
       "MA0091.1_TAL1::TCF3  TAL1::TCF3 \n",
       "MA0101.1_REL         REL        \n",
       "MA0107.1_RELA        RELA       \n",
       "MA0115.1_NR1H2::RXRA NR1H2::RXRA\n",
       "MA0119.1_NFIC::TLX1  NFIC::TLX1 \n",
       "MA0130.1_ZNF354C     ZNF354C    \n",
       "MA0139.1_CTCF        CTCF       \n",
       "MA0149.1_EWSR1-FLI1  EWSR1-FLI1 \n",
       "MA0138.2_REST        REST       \n",
       "MA0155.1_INSM1       INSM1      \n",
       "MA0159.1_RARA::RXRA  RARA::RXRA \n",
       "MA0163.1_PLAG1       PLAG1      \n",
       "MA0259.1_ARNT::HIF1A ARNT::HIF1A\n",
       "MA0468.1_DUX4        DUX4       \n",
       "MA0476.1_FOS         FOS        \n",
       "MA0478.1_FOSL2       FOSL2      \n",
       "MA0479.1_FOXH1       FOXH1      \n",
       "⋮                    ⋮          \n",
       "MA0765.3_ETV5        ETV5       \n",
       "MA0784.2_POU1F1      POU1F1     \n",
       "MA0798.3_RFX3        RFX3       \n",
       "MA0799.2_RFX4        RFX4       \n",
       "MA0818.2_BHLHE22     BHLHE22    \n",
       "MA0819.2_CLOCK       CLOCK      \n",
       "MA0821.2_HES5        HES5       \n",
       "MA0828.2_SREBF2      SREBF2     \n",
       "MA0831.3_TFE3        TFE3       \n",
       "MA0837.2_CEBPE       CEBPE      \n",
       "MA0847.3_FOXD2       FOXD2      \n",
       "MA0865.2_E2F8        E2F8       \n",
       "MA0877.3_BARHL1      BARHL1     \n",
       "MA0878.3_CDX1        CDX1       \n",
       "MA0879.2_DLX1        DLX1       \n",
       "MA0884.2_DUXA        DUXA       \n",
       "MA1483.2_ELF2        ELF2       \n",
       "MA1487.2_FOXE1       FOXE1      \n",
       "MA1491.2_GLI3        GLI3       \n",
       "MA1498.2_HOXA7       HOXA7      \n",
       "MA1511.2_KLF10       KLF10      \n",
       "MA1525.2_NFATC4      NFATC4     \n",
       "MA1532.2_NR1D2       NR1D2      \n",
       "MA1547.2_PITX2       PITX2      \n",
       "MA1563.2_SOX18       SOX18      \n",
       "MA1566.2_TBX3        TBX3       \n",
       "MA1601.2_ZNF75D      ZNF75D     \n",
       "MA1630.2_ZNF281      ZNF281     \n",
       "MA1633.2_BACH1       BACH1      \n",
       "MA0597.2_THAP1       THAP1      \n",
       "                     [,2]                                                                      \n",
       "MA0030.1_FOXF2       Fork head/winged helix factors                                            \n",
       "MA0031.1_FOXD1       Fork head/winged helix factors                                            \n",
       "MA0051.1_IRF2        Tryptophan cluster factors                                                \n",
       "MA0059.1_MAX::MYC    Basic helix-loop-helix factors (bHLH)                                     \n",
       "MA0066.1_PPARG       Nuclear receptors with C4 zinc fingers                                    \n",
       "MA0069.1_PAX6        Paired box factors                                                        \n",
       "MA0070.1_PBX1        Homeo domain factors                                                      \n",
       "MA0071.1_RORA        Nuclear receptors with C4 zinc fingers                                    \n",
       "MA0072.1_RORA        Nuclear receptors with C4 zinc fingers                                    \n",
       "MA0073.1_RREB1       C2H2 zinc finger factors                                                  \n",
       "MA0074.1_RXRA::VDR   Nuclear receptors with C4 zinc fingers                                    \n",
       "MA0077.1_SOX9        High-mobility group (HMG) domain factors                                  \n",
       "MA0084.1_SRY         High-mobility group (HMG) domain factors                                  \n",
       "MA0091.1_TAL1::TCF3  Basic helix-loop-helix factors (bHLH)                                     \n",
       "MA0101.1_REL         Rel homology region (RHR) factors                                         \n",
       "MA0107.1_RELA        Rel homology region (RHR) factors                                         \n",
       "MA0115.1_NR1H2::RXRA Nuclear receptors with C4 zinc fingers                                    \n",
       "MA0119.1_NFIC::TLX1  SMAD/NF-1 DNA-binding domain factors, Homeo domain factors                \n",
       "MA0130.1_ZNF354C     C2H2 zinc finger factors                                                  \n",
       "MA0139.1_CTCF        C2H2 zinc finger factors                                                  \n",
       "MA0149.1_EWSR1-FLI1  Tryptophan cluster factors                                                \n",
       "MA0138.2_REST        C2H2 zinc finger factors                                                  \n",
       "MA0155.1_INSM1       C2H2 zinc finger factors                                                  \n",
       "MA0159.1_RARA::RXRA  Nuclear receptors with C4 zinc fingers                                    \n",
       "MA0163.1_PLAG1       C2H2 zinc finger factors                                                  \n",
       "MA0259.1_ARNT::HIF1A Basic helix-loop-helix factors (bHLH)                                     \n",
       "MA0468.1_DUX4        Homeo domain factors                                                      \n",
       "MA0476.1_FOS         Basic leucine zipper factors (bZIP)                                       \n",
       "MA0478.1_FOSL2       Basic leucine zipper factors (bZIP)                                       \n",
       "MA0479.1_FOXH1       Fork head/winged helix factors                                            \n",
       "⋮                    ⋮                                                                         \n",
       "MA0765.3_ETV5        Tryptophan cluster factors                                                \n",
       "MA0784.2_POU1F1      Homeo domain factors                                                      \n",
       "MA0798.3_RFX3        Fork head/winged helix factors                                            \n",
       "MA0799.2_RFX4        Fork head/winged helix factors                                            \n",
       "MA0818.2_BHLHE22     Basic helix-loop-helix factors (bHLH)                                     \n",
       "MA0819.2_CLOCK       Basic helix-loop-helix factors (bHLH)                                     \n",
       "MA0821.2_HES5        Basic helix-loop-helix factors (bHLH)                                     \n",
       "MA0828.2_SREBF2      Basic helix-loop-helix factors (bHLH)                                     \n",
       "MA0831.3_TFE3        Basic helix-loop-helix factors (bHLH)                                     \n",
       "MA0837.2_CEBPE       Basic leucine zipper factors (bZIP)                                       \n",
       "MA0847.3_FOXD2       Fork head/winged helix factors                                            \n",
       "MA0865.2_E2F8        Fork head/winged helix factors                                            \n",
       "MA0877.3_BARHL1      Homeo domain factors                                                      \n",
       "MA0878.3_CDX1        Homeo domain factors                                                      \n",
       "MA0879.2_DLX1        Homeo domain factors                                                      \n",
       "MA0884.2_DUXA        Homeo domain factors                                                      \n",
       "MA1483.2_ELF2        Tryptophan cluster factors                                                \n",
       "MA1487.2_FOXE1       Fork head/winged helix factors                                            \n",
       "MA1491.2_GLI3        C2H2 zinc finger factors                                                  \n",
       "MA1498.2_HOXA7       Homeo domain factors                                                      \n",
       "MA1511.2_KLF10       C2H2 zinc finger factors                                                  \n",
       "MA1525.2_NFATC4      Rel homology region (RHR) factors                                         \n",
       "MA1532.2_NR1D2       Nuclear receptors with C4 zinc fingers                                    \n",
       "MA1547.2_PITX2       Homeo domain factors                                                      \n",
       "MA1563.2_SOX18       High-mobility group (HMG) domain factors                                  \n",
       "MA1566.2_TBX3        T-Box factors                                                             \n",
       "MA1601.2_ZNF75D      C2H2 zinc finger factors                                                  \n",
       "MA1630.2_ZNF281      C2H2 zinc finger factors                                                  \n",
       "MA1633.2_BACH1       Basic leucine zipper factors (bZIP)                                       \n",
       "MA0597.2_THAP1       C2CH THAP-type zinc finger factors                                        "
      ]
     },
     "metadata": {},
     "output_type": "display_data"
    }
   ],
   "source": [
    "motifdata = cbind(sapply(jaspar.motifs, function(x) unlist(x@name)),sapply(jaspar.motifs, function(x) unlist(x@matrixClass )))                                                  \n",
    "motifdata             #  sapply(pfm, function(x) x@tags$symbol )  ,     sapply(pfm, function(x) x@tags$family ))"
   ]
  },
  {
   "cell_type": "code",
   "execution_count": 53,
   "id": "3b84c4e7",
   "metadata": {},
   "outputs": [],
   "source": [
    "output_dir <- '/nfs/lab/welison/islet_multiome/intermediates/chromVAR/'\n",
    "#dir.create(output_dir)"
   ]
  },
  {
   "cell_type": "code",
   "execution_count": 54,
   "id": "1b9f57f9",
   "metadata": {},
   "outputs": [],
   "source": [
    "#Save devscores, motifdata, and info\n",
    "write.table(devtab, file=paste0(output_dir,'devscores_Union_Peaks_HPAP.txt'),quote = FALSE, col.names = TRUE, row.names = TRUE)\n",
    "write.table(motifdata, file=paste0(output_dir,'motifdata_Union_Peaks_HPAP.txt'),quote = FALSE, col.names = FALSE,sep='\\t')\n",
    "write.table(variability, file=paste0(output_dir,'variability_Union_Peaks_HPAP.txt'),quote = FALSE, col.names = TRUE, row.names = TRUE, sep='\\t')"
   ]
  },
  {
   "cell_type": "code",
   "execution_count": 55,
   "id": "e6d2d0a7",
   "metadata": {},
   "outputs": [
    {
     "name": "stderr",
     "output_type": "stream",
     "text": [
      "\u001b[1m\u001b[22m`stat_bin()` using `bins = 30`. Pick better value with `binwidth`.\n"
     ]
    },
    {
     "data": {
      "image/png": "[encoded data removed]",
      "text/plain": [
       "plot without title"
      ]
     },
     "metadata": {
      "image/png": {
       "height": 420,
       "width": 420
      }
     },
     "output_type": "display_data"
    }
   ],
   "source": [
    "# Variability distirbution\n",
    "ggplot(variability, aes(x=variability)) +\n",
    "geom_histogram() + geom_vline(xintercept = 1.5)"
   ]
  },
  {
   "cell_type": "code",
   "execution_count": 56,
   "id": "66535123",
   "metadata": {},
   "outputs": [
    {
     "name": "stderr",
     "output_type": "stream",
     "text": [
      "\u001b[1m\u001b[22m`stat_bin()` using `bins = 30`. Pick better value with `binwidth`.\n"
     ]
    },
    {
     "data": {
      "image/png": "[encoded data removed]",
      "text/plain": [
       "plot without title"
      ]
     },
     "metadata": {
      "image/png": {
       "height": 420,
       "width": 420
      }
     },
     "output_type": "display_data"
    }
   ],
   "source": [
    "# Variability distirbution\n",
    "ggplot(variability, aes(x=variability)) +\n",
    "geom_histogram() + geom_vline(xintercept = 1.5)"
   ]
  },
  {
   "cell_type": "code",
   "execution_count": null,
   "id": "6db50662",
   "metadata": {},
   "outputs": [],
   "source": []
  },
  {
   "cell_type": "code",
   "execution_count": null,
   "id": "5a98615e",
   "metadata": {},
   "outputs": [],
   "source": []
  }
 ],
 "metadata": {
  "kernelspec": {
   "display_name": "R 4.1\n",
   "language": "R",
   "name": "ir41"
  },
  "language_info": {
   "codemirror_mode": "r",
   "file_extension": ".r",
   "mimetype": "text/x-r-source",
   "name": "R",
   "pygments_lexer": "r",
   "version": "4.1.1"
  }
 },
 "nbformat": 4,
 "nbformat_minor": 5
}
