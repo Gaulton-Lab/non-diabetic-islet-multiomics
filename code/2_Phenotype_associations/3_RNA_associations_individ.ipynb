{
 "cells": [
  {
   "cell_type": "markdown",
   "id": "656ad93a-5213-4313-9e6b-ff050b8796f7",
   "metadata": {},
   "source": [
    "#### Summary:\n",
    "In this notebook I'll run the DESeq RNA trait associations on Alberta and HPAP datasets separately before later combining these using Random Effects Model meta-analysis in the next notebook. All required inputs should have been made in the previous notebook 2a (except per cell type lists of expressed genes, TPM>1). This notebook runs DESeq on one dataset at a time, you'll need to adjust the dataset variable at the top and then rerun the code to run DESeq on both."
   ]
  },
  {
   "cell_type": "code",
   "execution_count": 1,
   "id": "d5cb32b1-2922-4575-8f5a-b8443a6c386f",
   "metadata": {
    "tags": []
   },
   "outputs": [],
   "source": [
    "suppressMessages(library(dplyr)) \n",
    "suppressMessages(library(Matrix)) \n",
    "suppressMessages(library(data.table))\n",
    "suppressMessages(library(future)) \n",
    "suppressMessages(library(stringr))\n",
    "suppressMessages(library(stringi))\n",
    "suppressMessages(library(readr))\n",
    "suppressMessages(library(meta))\n",
    "\n",
    "suppressMessages(library(ggplot2))\n",
    "suppressMessages(library(ggpubr)) \n",
    "suppressMessages(library(ggrepel))\n",
    "suppressMessages(library(RColorBrewer))\n",
    "suppressMessages(library(shadowtext))\n",
    "suppressMessages(library(forcats))\n",
    "\n",
    "suppressMessages(library(DESeq2))\n",
    "suppressMessages(library(fgsea))\n",
    "suppressMessages(library(parallel))\n",
    "suppressMessages(library(bettermc))\n",
    "suppressMessages(library(qvalue))"
   ]
  },
  {
   "cell_type": "markdown",
   "id": "d9744d25-1425-41ce-9164-2d350a7bb9d4",
   "metadata": {},
   "source": [
    "# Basic Inputs"
   ]
  },
  {
   "cell_type": "code",
   "execution_count": 2,
   "id": "e6d6cfe8",
   "metadata": {
    "tags": []
   },
   "outputs": [],
   "source": [
    "alberta_samples <- c('R207','R217','R218','R221','R223',\n",
    "                      'R226','R228','R234','R237','R238',\n",
    "                      'R246', 'R247', 'R275', 'R284', \n",
    "                      'R290', 'R292', 'R316', 'R317', 'R319',\n",
    "                      'R325','R326','R327','R332',\n",
    "                      'R353','R354','R362','R363','R364')\n",
    "\n",
    "hpap_samples_rna <- c('HPAP-022','HPAP-026','HPAP-034','HPAP-035','HPAP-036',\n",
    "                  'HPAP-037','HPAP-039','HPAP-040','HPAP-042','HPAP-044',\n",
    "                  'HPAP-047','HPAP-052','HPAP-053','HPAP-054','HPAP-056',\n",
    "                  'HPAP-059','HPAP-063','HPAP-074','HPAP-075','HPAP-077',\n",
    "                  'HPAP-080','HPAP-082','HPAP-099','HPAP-101','HPAP-103',\n",
    "                  'HPAP-104','HPAP-105')"
   ]
  },
  {
   "cell_type": "code",
   "execution_count": 3,
   "id": "a5dab655",
   "metadata": {
    "tags": []
   },
   "outputs": [],
   "source": [
    "outdir <- '/overall/dir/to/save/phenotype/association/outputs/to'"
   ]
  },
  {
   "cell_type": "code",
   "execution_count": 4,
   "id": "e6352898",
   "metadata": {
    "tags": []
   },
   "outputs": [],
   "source": [
    "joint_celltypes <- c('beta', 'alpha', 'delta', 'gamma', 'acinar','ductal', 'endothelial', 'immune','stellate')"
   ]
  },
  {
   "cell_type": "code",
   "execution_count": null,
   "id": "b1201b6c-c861-48c3-94ed-8f7b0f17b768",
   "metadata": {
    "scrolled": true,
    "tags": []
   },
   "outputs": [],
   "source": [
    "colors <- c('#3F98E0', '#F51646', '#E39E14', '#A1D99B', '#09850B',\n",
    "            '#F5DE6C', '#752BBA', '#F598C9','#FDBB84')\n",
    "names(colors) <- joint_celltypes"
   ]
  },
  {
   "cell_type": "code",
   "execution_count": 5,
   "id": "271b5859-493c-4cdf-9270-0dfc0056cf89",
   "metadata": {
    "tags": []
   },
   "outputs": [],
   "source": [
    "#SET WHICH DATASET TO RUN DESEQ ON HERE!!!!\n",
    "# dataset <- 'Alberta'\n",
    "dataset <- 'HPAP'"
   ]
  },
  {
   "cell_type": "markdown",
   "id": "66dbfb96-d87e-470f-9915-21b39eff0285",
   "metadata": {},
   "source": [
    "# 1. Read in inputs previously generated (metadata df, gene TPM/cell type values)"
   ]
  },
  {
   "cell_type": "markdown",
   "id": "9b14a8da-fcff-44d0-8dc2-464840d1f815",
   "metadata": {},
   "source": [
    "## Donor metadata"
   ]
  },
  {
   "cell_type": "code",
   "execution_count": 6,
   "id": "2b1094b5-6005-473c-8cb7-1ad4c1957d93",
   "metadata": {
    "tags": []
   },
   "outputs": [
    {
     "data": {
      "text/html": [
       "<style>\n",
       ".list-inline {list-style: none; margin:0; padding: 0}\n",
       ".list-inline>li {display: inline-block}\n",
       ".list-inline>li:not(:last-child)::after {content: \"\\00b7\"; padding: 0 .5ex}\n",
       "</style>\n",
       "<ol class=list-inline><li>62</li><li>56</li></ol>\n"
      ],
      "text/latex": [
       "\\begin{enumerate*}\n",
       "\\item 62\n",
       "\\item 56\n",
       "\\end{enumerate*}\n"
      ],
      "text/markdown": [
       "1. 62\n",
       "2. 56\n",
       "\n",
       "\n"
      ],
      "text/plain": [
       "[1] 62 56"
      ]
     },
     "metadata": {},
     "output_type": "display_data"
    },
    {
     "data": {
      "text/html": [
       "<table class=\"dataframe\">\n",
       "<caption>A data.frame: 6 × 56</caption>\n",
       "<thead>\n",
       "\t<tr><th></th><th scope=col>age</th><th scope=col>scaled_age</th><th scope=col>sex</th><th scope=col>BMI</th><th scope=col>scaled_BMI</th><th scope=col>HbA1c</th><th scope=col>scaled_HbA1c</th><th scope=col>dataset</th><th scope=col>culture_time</th><th scope=col>scaled_culture_time</th><th scope=col>⋯</th><th scope=col>ductal_mean_genes</th><th scope=col>scaled_ductal_mean_genes</th><th scope=col>endothelial_mean_genes</th><th scope=col>scaled_endothelial_mean_genes</th><th scope=col>immune_mean_genes</th><th scope=col>scaled_immune_mean_genes</th><th scope=col>stellate_mean_genes</th><th scope=col>scaled_stellate_mean_genes</th><th scope=col>tsse</th><th scope=col>scaled_tsse</th></tr>\n",
       "\t<tr><th></th><th scope=col>&lt;int&gt;</th><th scope=col>&lt;dbl&gt;</th><th scope=col>&lt;chr&gt;</th><th scope=col>&lt;dbl&gt;</th><th scope=col>&lt;dbl&gt;</th><th scope=col>&lt;dbl&gt;</th><th scope=col>&lt;dbl&gt;</th><th scope=col>&lt;chr&gt;</th><th scope=col>&lt;dbl&gt;</th><th scope=col>&lt;dbl&gt;</th><th scope=col>⋯</th><th scope=col>&lt;dbl&gt;</th><th scope=col>&lt;dbl&gt;</th><th scope=col>&lt;dbl&gt;</th><th scope=col>&lt;dbl&gt;</th><th scope=col>&lt;dbl&gt;</th><th scope=col>&lt;dbl&gt;</th><th scope=col>&lt;dbl&gt;</th><th scope=col>&lt;dbl&gt;</th><th scope=col>&lt;dbl&gt;</th><th scope=col>&lt;dbl&gt;</th></tr>\n",
       "</thead>\n",
       "<tbody>\n",
       "\t<tr><th scope=row>R207</th><td>50</td><td> 0.4825992</td><td>Female</td><td>22.2</td><td>-0.93547849</td><td> NA</td><td>        NA</td><td>Alberta</td><td> 70</td><td> 0.07402343</td><td>⋯</td><td>1842.333</td><td>-0.7227589</td><td>1304.000</td><td>-0.69291246</td><td>1118.606</td><td>-0.869054467</td><td>1314.583</td><td>-0.9386930</td><td>3.450389</td><td>-1.2548308</td></tr>\n",
       "\t<tr><th scope=row>R217</th><td>71</td><td> 1.5811029</td><td>Female</td><td>35.5</td><td> 1.15230857</td><td>6.3</td><td> 1.6527657</td><td>Alberta</td><td> 15</td><td>-1.34420328</td><td>⋯</td><td>1868.313</td><td>-0.6980603</td><td>1578.500</td><td>-0.11854077</td><td>1458.000</td><td> 0.009333767</td><td>1771.000</td><td>-0.3702339</td><td>3.530508</td><td>-1.1219687</td></tr>\n",
       "\t<tr><th scope=row>R218</th><td>73</td><td> 1.6857223</td><td>Female</td><td>28.4</td><td> 0.03777563</td><td>5.9</td><td> 0.8536262</td><td>Alberta</td><td> 70</td><td> 0.07402343</td><td>⋯</td><td>1384.827</td><td>-1.1577107</td><td>1503.500</td><td>-0.27547292</td><td> 910.250</td><td>-1.408302494</td><td>1505.200</td><td>-0.7012832</td><td>3.641667</td><td>-0.9376335</td></tr>\n",
       "\t<tr><th scope=row>R221</th><td>44</td><td> 0.1687410</td><td>Male  </td><td>30.5</td><td> 0.36742622</td><td>5.3</td><td>-0.3450829</td><td>Alberta</td><td>136</td><td> 1.77589549</td><td>⋯</td><td>1625.554</td><td>-0.9288509</td><td>1376.625</td><td>-0.54094982</td><td>1460.600</td><td> 0.016062849</td><td>1243.706</td><td>-1.0269696</td><td>3.792649</td><td>-0.6872598</td></tr>\n",
       "\t<tr><th scope=row>R223</th><td>54</td><td> 0.6918380</td><td>Male  </td><td>27.0</td><td>-0.18199143</td><td>5.8</td><td> 0.6538414</td><td>Alberta</td><td> 64</td><td>-0.08069221</td><td>⋯</td><td>1854.044</td><td>-0.7116253</td><td>1592.143</td><td>-0.08999406</td><td>1568.125</td><td> 0.294349182</td><td>1826.053</td><td>-0.3016668</td><td>2.992320</td><td>-2.0144478</td></tr>\n",
       "\t<tr><th scope=row>R226</th><td>30</td><td>-0.5635948</td><td>Female</td><td>32.3</td><td> 0.64998386</td><td>4.9</td><td>-1.1442224</td><td>Alberta</td><td> 16</td><td>-1.31841734</td><td>⋯</td><td>2238.235</td><td>-0.3463746</td><td>1328.000</td><td>-0.64269417</td><td>2198.750</td><td> 1.926474909</td><td>1739.250</td><td>-0.4097780</td><td>3.864731</td><td>-0.5677271</td></tr>\n",
       "</tbody>\n",
       "</table>\n"
      ],
      "text/latex": [
       "A data.frame: 6 × 56\n",
       "\\begin{tabular}{r|lllllllllllllllllllll}\n",
       "  & age & scaled\\_age & sex & BMI & scaled\\_BMI & HbA1c & scaled\\_HbA1c & dataset & culture\\_time & scaled\\_culture\\_time & ⋯ & ductal\\_mean\\_genes & scaled\\_ductal\\_mean\\_genes & endothelial\\_mean\\_genes & scaled\\_endothelial\\_mean\\_genes & immune\\_mean\\_genes & scaled\\_immune\\_mean\\_genes & stellate\\_mean\\_genes & scaled\\_stellate\\_mean\\_genes & tsse & scaled\\_tsse\\\\\n",
       "  & <int> & <dbl> & <chr> & <dbl> & <dbl> & <dbl> & <dbl> & <chr> & <dbl> & <dbl> & ⋯ & <dbl> & <dbl> & <dbl> & <dbl> & <dbl> & <dbl> & <dbl> & <dbl> & <dbl> & <dbl>\\\\\n",
       "\\hline\n",
       "\tR207 & 50 &  0.4825992 & Female & 22.2 & -0.93547849 &  NA &         NA & Alberta &  70 &  0.07402343 & ⋯ & 1842.333 & -0.7227589 & 1304.000 & -0.69291246 & 1118.606 & -0.869054467 & 1314.583 & -0.9386930 & 3.450389 & -1.2548308\\\\\n",
       "\tR217 & 71 &  1.5811029 & Female & 35.5 &  1.15230857 & 6.3 &  1.6527657 & Alberta &  15 & -1.34420328 & ⋯ & 1868.313 & -0.6980603 & 1578.500 & -0.11854077 & 1458.000 &  0.009333767 & 1771.000 & -0.3702339 & 3.530508 & -1.1219687\\\\\n",
       "\tR218 & 73 &  1.6857223 & Female & 28.4 &  0.03777563 & 5.9 &  0.8536262 & Alberta &  70 &  0.07402343 & ⋯ & 1384.827 & -1.1577107 & 1503.500 & -0.27547292 &  910.250 & -1.408302494 & 1505.200 & -0.7012832 & 3.641667 & -0.9376335\\\\\n",
       "\tR221 & 44 &  0.1687410 & Male   & 30.5 &  0.36742622 & 5.3 & -0.3450829 & Alberta & 136 &  1.77589549 & ⋯ & 1625.554 & -0.9288509 & 1376.625 & -0.54094982 & 1460.600 &  0.016062849 & 1243.706 & -1.0269696 & 3.792649 & -0.6872598\\\\\n",
       "\tR223 & 54 &  0.6918380 & Male   & 27.0 & -0.18199143 & 5.8 &  0.6538414 & Alberta &  64 & -0.08069221 & ⋯ & 1854.044 & -0.7116253 & 1592.143 & -0.08999406 & 1568.125 &  0.294349182 & 1826.053 & -0.3016668 & 2.992320 & -2.0144478\\\\\n",
       "\tR226 & 30 & -0.5635948 & Female & 32.3 &  0.64998386 & 4.9 & -1.1442224 & Alberta &  16 & -1.31841734 & ⋯ & 2238.235 & -0.3463746 & 1328.000 & -0.64269417 & 2198.750 &  1.926474909 & 1739.250 & -0.4097780 & 3.864731 & -0.5677271\\\\\n",
       "\\end{tabular}\n"
      ],
      "text/markdown": [
       "\n",
       "A data.frame: 6 × 56\n",
       "\n",
       "| <!--/--> | age &lt;int&gt; | scaled_age &lt;dbl&gt; | sex &lt;chr&gt; | BMI &lt;dbl&gt; | scaled_BMI &lt;dbl&gt; | HbA1c &lt;dbl&gt; | scaled_HbA1c &lt;dbl&gt; | dataset &lt;chr&gt; | culture_time &lt;dbl&gt; | scaled_culture_time &lt;dbl&gt; | ⋯ ⋯ | ductal_mean_genes &lt;dbl&gt; | scaled_ductal_mean_genes &lt;dbl&gt; | endothelial_mean_genes &lt;dbl&gt; | scaled_endothelial_mean_genes &lt;dbl&gt; | immune_mean_genes &lt;dbl&gt; | scaled_immune_mean_genes &lt;dbl&gt; | stellate_mean_genes &lt;dbl&gt; | scaled_stellate_mean_genes &lt;dbl&gt; | tsse &lt;dbl&gt; | scaled_tsse &lt;dbl&gt; |\n",
       "|---|---|---|---|---|---|---|---|---|---|---|---|---|---|---|---|---|---|---|---|---|---|\n",
       "| R207 | 50 |  0.4825992 | Female | 22.2 | -0.93547849 |  NA |         NA | Alberta |  70 |  0.07402343 | ⋯ | 1842.333 | -0.7227589 | 1304.000 | -0.69291246 | 1118.606 | -0.869054467 | 1314.583 | -0.9386930 | 3.450389 | -1.2548308 |\n",
       "| R217 | 71 |  1.5811029 | Female | 35.5 |  1.15230857 | 6.3 |  1.6527657 | Alberta |  15 | -1.34420328 | ⋯ | 1868.313 | -0.6980603 | 1578.500 | -0.11854077 | 1458.000 |  0.009333767 | 1771.000 | -0.3702339 | 3.530508 | -1.1219687 |\n",
       "| R218 | 73 |  1.6857223 | Female | 28.4 |  0.03777563 | 5.9 |  0.8536262 | Alberta |  70 |  0.07402343 | ⋯ | 1384.827 | -1.1577107 | 1503.500 | -0.27547292 |  910.250 | -1.408302494 | 1505.200 | -0.7012832 | 3.641667 | -0.9376335 |\n",
       "| R221 | 44 |  0.1687410 | Male   | 30.5 |  0.36742622 | 5.3 | -0.3450829 | Alberta | 136 |  1.77589549 | ⋯ | 1625.554 | -0.9288509 | 1376.625 | -0.54094982 | 1460.600 |  0.016062849 | 1243.706 | -1.0269696 | 3.792649 | -0.6872598 |\n",
       "| R223 | 54 |  0.6918380 | Male   | 27.0 | -0.18199143 | 5.8 |  0.6538414 | Alberta |  64 | -0.08069221 | ⋯ | 1854.044 | -0.7116253 | 1592.143 | -0.08999406 | 1568.125 |  0.294349182 | 1826.053 | -0.3016668 | 2.992320 | -2.0144478 |\n",
       "| R226 | 30 | -0.5635948 | Female | 32.3 |  0.64998386 | 4.9 | -1.1442224 | Alberta |  16 | -1.31841734 | ⋯ | 2238.235 | -0.3463746 | 1328.000 | -0.64269417 | 2198.750 |  1.926474909 | 1739.250 | -0.4097780 | 3.864731 | -0.5677271 |\n",
       "\n"
      ],
      "text/plain": [
       "     age scaled_age sex    BMI  scaled_BMI  HbA1c scaled_HbA1c dataset\n",
       "R207 50   0.4825992 Female 22.2 -0.93547849  NA           NA   Alberta\n",
       "R217 71   1.5811029 Female 35.5  1.15230857 6.3    1.6527657   Alberta\n",
       "R218 73   1.6857223 Female 28.4  0.03777563 5.9    0.8536262   Alberta\n",
       "R221 44   0.1687410 Male   30.5  0.36742622 5.3   -0.3450829   Alberta\n",
       "R223 54   0.6918380 Male   27.0 -0.18199143 5.8    0.6538414   Alberta\n",
       "R226 30  -0.5635948 Female 32.3  0.64998386 4.9   -1.1442224   Alberta\n",
       "     culture_time scaled_culture_time ⋯ ductal_mean_genes\n",
       "R207  70           0.07402343         ⋯ 1842.333         \n",
       "R217  15          -1.34420328         ⋯ 1868.313         \n",
       "R218  70           0.07402343         ⋯ 1384.827         \n",
       "R221 136           1.77589549         ⋯ 1625.554         \n",
       "R223  64          -0.08069221         ⋯ 1854.044         \n",
       "R226  16          -1.31841734         ⋯ 2238.235         \n",
       "     scaled_ductal_mean_genes endothelial_mean_genes\n",
       "R207 -0.7227589               1304.000              \n",
       "R217 -0.6980603               1578.500              \n",
       "R218 -1.1577107               1503.500              \n",
       "R221 -0.9288509               1376.625              \n",
       "R223 -0.7116253               1592.143              \n",
       "R226 -0.3463746               1328.000              \n",
       "     scaled_endothelial_mean_genes immune_mean_genes scaled_immune_mean_genes\n",
       "R207 -0.69291246                   1118.606          -0.869054467            \n",
       "R217 -0.11854077                   1458.000           0.009333767            \n",
       "R218 -0.27547292                    910.250          -1.408302494            \n",
       "R221 -0.54094982                   1460.600           0.016062849            \n",
       "R223 -0.08999406                   1568.125           0.294349182            \n",
       "R226 -0.64269417                   2198.750           1.926474909            \n",
       "     stellate_mean_genes scaled_stellate_mean_genes tsse     scaled_tsse\n",
       "R207 1314.583            -0.9386930                 3.450389 -1.2548308 \n",
       "R217 1771.000            -0.3702339                 3.530508 -1.1219687 \n",
       "R218 1505.200            -0.7012832                 3.641667 -0.9376335 \n",
       "R221 1243.706            -1.0269696                 3.792649 -0.6872598 \n",
       "R223 1826.053            -0.3016668                 2.992320 -2.0144478 \n",
       "R226 1739.250            -0.4097780                 3.864731 -0.5677271 "
      ]
     },
     "metadata": {},
     "output_type": "display_data"
    },
    {
     "data": {
      "text/html": [
       "<table class=\"dataframe\">\n",
       "<caption>A data.frame: 6 × 56</caption>\n",
       "<thead>\n",
       "\t<tr><th></th><th scope=col>age</th><th scope=col>scaled_age</th><th scope=col>sex</th><th scope=col>BMI</th><th scope=col>scaled_BMI</th><th scope=col>HbA1c</th><th scope=col>scaled_HbA1c</th><th scope=col>dataset</th><th scope=col>culture_time</th><th scope=col>scaled_culture_time</th><th scope=col>⋯</th><th scope=col>ductal_mean_genes</th><th scope=col>scaled_ductal_mean_genes</th><th scope=col>endothelial_mean_genes</th><th scope=col>scaled_endothelial_mean_genes</th><th scope=col>immune_mean_genes</th><th scope=col>scaled_immune_mean_genes</th><th scope=col>stellate_mean_genes</th><th scope=col>scaled_stellate_mean_genes</th><th scope=col>tsse</th><th scope=col>scaled_tsse</th></tr>\n",
       "\t<tr><th></th><th scope=col>&lt;int&gt;</th><th scope=col>&lt;dbl&gt;</th><th scope=col>&lt;chr&gt;</th><th scope=col>&lt;dbl&gt;</th><th scope=col>&lt;dbl&gt;</th><th scope=col>&lt;dbl&gt;</th><th scope=col>&lt;dbl&gt;</th><th scope=col>&lt;chr&gt;</th><th scope=col>&lt;dbl&gt;</th><th scope=col>&lt;dbl&gt;</th><th scope=col>⋯</th><th scope=col>&lt;dbl&gt;</th><th scope=col>&lt;dbl&gt;</th><th scope=col>&lt;dbl&gt;</th><th scope=col>&lt;dbl&gt;</th><th scope=col>&lt;dbl&gt;</th><th scope=col>&lt;dbl&gt;</th><th scope=col>&lt;dbl&gt;</th><th scope=col>&lt;dbl&gt;</th><th scope=col>&lt;dbl&gt;</th><th scope=col>&lt;dbl&gt;</th></tr>\n",
       "</thead>\n",
       "<tbody>\n",
       "\t<tr><th scope=row>HPAP-092</th><td>21</td><td>-1.0343821</td><td>Male  </td><td>25.59</td><td>-0.403328254</td><td>5.6</td><td> 0.2542716</td><td>HPAP</td><td> 48</td><td>-0.4932673</td><td>⋯</td><td>      NA</td><td>        NA</td><td>      NA</td><td>        NA</td><td>      NA</td><td>        NA</td><td>      NA</td><td>        NA</td><td>4.745936</td><td>0.8935767</td></tr>\n",
       "\t<tr><th scope=row>HPAP-099</th><td>28</td><td>-0.6682142</td><td>Female</td><td>24.70</td><td>-0.543037312</td><td>5.0</td><td>-0.9444375</td><td>HPAP</td><td> NA</td><td>        NA</td><td>⋯</td><td>3359.227</td><td> 0.7193535</td><td>1974.645</td><td> 0.7103648</td><td>1335.750</td><td>-0.3070625</td><td>3244.049</td><td> 1.4644225</td><td>5.502476</td><td>2.1481485</td></tr>\n",
       "\t<tr><th scope=row>HPAP-101</th><td>55</td><td> 0.7441477</td><td>Female</td><td>38.01</td><td> 1.546319508</td><td>5.0</td><td>-0.9444375</td><td>HPAP</td><td> 96</td><td> 0.7444579</td><td>⋯</td><td>2145.525</td><td>-0.4345142</td><td>1192.085</td><td>-0.9270865</td><td>1007.828</td><td>-1.1557611</td><td>1543.082</td><td>-0.6541014</td><td>5.359599</td><td>1.9112167</td></tr>\n",
       "\t<tr><th scope=row>HPAP-103</th><td>48</td><td> 0.3779798</td><td>Female</td><td>36.44</td><td> 1.299866450</td><td>6.0</td><td> 1.0534111</td><td>HPAP</td><td>144</td><td> 1.9821830</td><td>⋯</td><td>2772.062</td><td> 0.1611346</td><td>1754.500</td><td> 0.2497267</td><td>1233.333</td><td>-0.5721279</td><td>1936.127</td><td>-0.1645711</td><td>5.255340</td><td>1.7383224</td></tr>\n",
       "\t<tr><th scope=row>HPAP-104</th><td> 4</td><td>-1.9236470</td><td>Male  </td><td>20.63</td><td>-1.181931547</td><td>4.9</td><td>-1.1442224</td><td>HPAP</td><td>144</td><td> 1.9821830</td><td>⋯</td><td>2889.504</td><td> 0.2727869</td><td>1691.813</td><td> 0.1185594</td><td>1325.455</td><td>-0.3337082</td><td>2231.083</td><td> 0.2027913</td><td>4.768235</td><td>0.9305564</td></tr>\n",
       "\t<tr><th scope=row>HPAP-105</th><td>51</td><td> 0.5349089</td><td>Female</td><td>28.10</td><td>-0.009317313</td><td>5.2</td><td>-0.5448678</td><td>HPAP</td><td> 48</td><td>-0.4932673</td><td>⋯</td><td>2729.804</td><td> 0.1209606</td><td>1512.557</td><td>-0.2565211</td><td>1097.302</td><td>-0.9241927</td><td>1979.730</td><td>-0.1102645</td><td>4.832792</td><td>1.0376113</td></tr>\n",
       "</tbody>\n",
       "</table>\n"
      ],
      "text/latex": [
       "A data.frame: 6 × 56\n",
       "\\begin{tabular}{r|lllllllllllllllllllll}\n",
       "  & age & scaled\\_age & sex & BMI & scaled\\_BMI & HbA1c & scaled\\_HbA1c & dataset & culture\\_time & scaled\\_culture\\_time & ⋯ & ductal\\_mean\\_genes & scaled\\_ductal\\_mean\\_genes & endothelial\\_mean\\_genes & scaled\\_endothelial\\_mean\\_genes & immune\\_mean\\_genes & scaled\\_immune\\_mean\\_genes & stellate\\_mean\\_genes & scaled\\_stellate\\_mean\\_genes & tsse & scaled\\_tsse\\\\\n",
       "  & <int> & <dbl> & <chr> & <dbl> & <dbl> & <dbl> & <dbl> & <chr> & <dbl> & <dbl> & ⋯ & <dbl> & <dbl> & <dbl> & <dbl> & <dbl> & <dbl> & <dbl> & <dbl> & <dbl> & <dbl>\\\\\n",
       "\\hline\n",
       "\tHPAP-092 & 21 & -1.0343821 & Male   & 25.59 & -0.403328254 & 5.6 &  0.2542716 & HPAP &  48 & -0.4932673 & ⋯ &       NA &         NA &       NA &         NA &       NA &         NA &       NA &         NA & 4.745936 & 0.8935767\\\\\n",
       "\tHPAP-099 & 28 & -0.6682142 & Female & 24.70 & -0.543037312 & 5.0 & -0.9444375 & HPAP &  NA &         NA & ⋯ & 3359.227 &  0.7193535 & 1974.645 &  0.7103648 & 1335.750 & -0.3070625 & 3244.049 &  1.4644225 & 5.502476 & 2.1481485\\\\\n",
       "\tHPAP-101 & 55 &  0.7441477 & Female & 38.01 &  1.546319508 & 5.0 & -0.9444375 & HPAP &  96 &  0.7444579 & ⋯ & 2145.525 & -0.4345142 & 1192.085 & -0.9270865 & 1007.828 & -1.1557611 & 1543.082 & -0.6541014 & 5.359599 & 1.9112167\\\\\n",
       "\tHPAP-103 & 48 &  0.3779798 & Female & 36.44 &  1.299866450 & 6.0 &  1.0534111 & HPAP & 144 &  1.9821830 & ⋯ & 2772.062 &  0.1611346 & 1754.500 &  0.2497267 & 1233.333 & -0.5721279 & 1936.127 & -0.1645711 & 5.255340 & 1.7383224\\\\\n",
       "\tHPAP-104 &  4 & -1.9236470 & Male   & 20.63 & -1.181931547 & 4.9 & -1.1442224 & HPAP & 144 &  1.9821830 & ⋯ & 2889.504 &  0.2727869 & 1691.813 &  0.1185594 & 1325.455 & -0.3337082 & 2231.083 &  0.2027913 & 4.768235 & 0.9305564\\\\\n",
       "\tHPAP-105 & 51 &  0.5349089 & Female & 28.10 & -0.009317313 & 5.2 & -0.5448678 & HPAP &  48 & -0.4932673 & ⋯ & 2729.804 &  0.1209606 & 1512.557 & -0.2565211 & 1097.302 & -0.9241927 & 1979.730 & -0.1102645 & 4.832792 & 1.0376113\\\\\n",
       "\\end{tabular}\n"
      ],
      "text/markdown": [
       "\n",
       "A data.frame: 6 × 56\n",
       "\n",
       "| <!--/--> | age &lt;int&gt; | scaled_age &lt;dbl&gt; | sex &lt;chr&gt; | BMI &lt;dbl&gt; | scaled_BMI &lt;dbl&gt; | HbA1c &lt;dbl&gt; | scaled_HbA1c &lt;dbl&gt; | dataset &lt;chr&gt; | culture_time &lt;dbl&gt; | scaled_culture_time &lt;dbl&gt; | ⋯ ⋯ | ductal_mean_genes &lt;dbl&gt; | scaled_ductal_mean_genes &lt;dbl&gt; | endothelial_mean_genes &lt;dbl&gt; | scaled_endothelial_mean_genes &lt;dbl&gt; | immune_mean_genes &lt;dbl&gt; | scaled_immune_mean_genes &lt;dbl&gt; | stellate_mean_genes &lt;dbl&gt; | scaled_stellate_mean_genes &lt;dbl&gt; | tsse &lt;dbl&gt; | scaled_tsse &lt;dbl&gt; |\n",
       "|---|---|---|---|---|---|---|---|---|---|---|---|---|---|---|---|---|---|---|---|---|---|\n",
       "| HPAP-092 | 21 | -1.0343821 | Male   | 25.59 | -0.403328254 | 5.6 |  0.2542716 | HPAP |  48 | -0.4932673 | ⋯ |       NA |         NA |       NA |         NA |       NA |         NA |       NA |         NA | 4.745936 | 0.8935767 |\n",
       "| HPAP-099 | 28 | -0.6682142 | Female | 24.70 | -0.543037312 | 5.0 | -0.9444375 | HPAP |  NA |         NA | ⋯ | 3359.227 |  0.7193535 | 1974.645 |  0.7103648 | 1335.750 | -0.3070625 | 3244.049 |  1.4644225 | 5.502476 | 2.1481485 |\n",
       "| HPAP-101 | 55 |  0.7441477 | Female | 38.01 |  1.546319508 | 5.0 | -0.9444375 | HPAP |  96 |  0.7444579 | ⋯ | 2145.525 | -0.4345142 | 1192.085 | -0.9270865 | 1007.828 | -1.1557611 | 1543.082 | -0.6541014 | 5.359599 | 1.9112167 |\n",
       "| HPAP-103 | 48 |  0.3779798 | Female | 36.44 |  1.299866450 | 6.0 |  1.0534111 | HPAP | 144 |  1.9821830 | ⋯ | 2772.062 |  0.1611346 | 1754.500 |  0.2497267 | 1233.333 | -0.5721279 | 1936.127 | -0.1645711 | 5.255340 | 1.7383224 |\n",
       "| HPAP-104 |  4 | -1.9236470 | Male   | 20.63 | -1.181931547 | 4.9 | -1.1442224 | HPAP | 144 |  1.9821830 | ⋯ | 2889.504 |  0.2727869 | 1691.813 |  0.1185594 | 1325.455 | -0.3337082 | 2231.083 |  0.2027913 | 4.768235 | 0.9305564 |\n",
       "| HPAP-105 | 51 |  0.5349089 | Female | 28.10 | -0.009317313 | 5.2 | -0.5448678 | HPAP |  48 | -0.4932673 | ⋯ | 2729.804 |  0.1209606 | 1512.557 | -0.2565211 | 1097.302 | -0.9241927 | 1979.730 | -0.1102645 | 4.832792 | 1.0376113 |\n",
       "\n"
      ],
      "text/plain": [
       "         age scaled_age sex    BMI   scaled_BMI   HbA1c scaled_HbA1c dataset\n",
       "HPAP-092 21  -1.0343821 Male   25.59 -0.403328254 5.6    0.2542716   HPAP   \n",
       "HPAP-099 28  -0.6682142 Female 24.70 -0.543037312 5.0   -0.9444375   HPAP   \n",
       "HPAP-101 55   0.7441477 Female 38.01  1.546319508 5.0   -0.9444375   HPAP   \n",
       "HPAP-103 48   0.3779798 Female 36.44  1.299866450 6.0    1.0534111   HPAP   \n",
       "HPAP-104  4  -1.9236470 Male   20.63 -1.181931547 4.9   -1.1442224   HPAP   \n",
       "HPAP-105 51   0.5349089 Female 28.10 -0.009317313 5.2   -0.5448678   HPAP   \n",
       "         culture_time scaled_culture_time ⋯ ductal_mean_genes\n",
       "HPAP-092  48          -0.4932673          ⋯       NA         \n",
       "HPAP-099  NA                  NA          ⋯ 3359.227         \n",
       "HPAP-101  96           0.7444579          ⋯ 2145.525         \n",
       "HPAP-103 144           1.9821830          ⋯ 2772.062         \n",
       "HPAP-104 144           1.9821830          ⋯ 2889.504         \n",
       "HPAP-105  48          -0.4932673          ⋯ 2729.804         \n",
       "         scaled_ductal_mean_genes endothelial_mean_genes\n",
       "HPAP-092         NA                     NA              \n",
       "HPAP-099  0.7193535               1974.645              \n",
       "HPAP-101 -0.4345142               1192.085              \n",
       "HPAP-103  0.1611346               1754.500              \n",
       "HPAP-104  0.2727869               1691.813              \n",
       "HPAP-105  0.1209606               1512.557              \n",
       "         scaled_endothelial_mean_genes immune_mean_genes\n",
       "HPAP-092         NA                          NA         \n",
       "HPAP-099  0.7103648                    1335.750         \n",
       "HPAP-101 -0.9270865                    1007.828         \n",
       "HPAP-103  0.2497267                    1233.333         \n",
       "HPAP-104  0.1185594                    1325.455         \n",
       "HPAP-105 -0.2565211                    1097.302         \n",
       "         scaled_immune_mean_genes stellate_mean_genes\n",
       "HPAP-092         NA                     NA           \n",
       "HPAP-099 -0.3070625               3244.049           \n",
       "HPAP-101 -1.1557611               1543.082           \n",
       "HPAP-103 -0.5721279               1936.127           \n",
       "HPAP-104 -0.3337082               2231.083           \n",
       "HPAP-105 -0.9241927               1979.730           \n",
       "         scaled_stellate_mean_genes tsse     scaled_tsse\n",
       "HPAP-092         NA                 4.745936 0.8935767  \n",
       "HPAP-099  1.4644225                 5.502476 2.1481485  \n",
       "HPAP-101 -0.6541014                 5.359599 1.9112167  \n",
       "HPAP-103 -0.1645711                 5.255340 1.7383224  \n",
       "HPAP-104  0.2027913                 4.768235 0.9305564  \n",
       "HPAP-105 -0.1102645                 4.832792 1.0376113  "
      ]
     },
     "metadata": {},
     "output_type": "display_data"
    }
   ],
   "source": [
    "meta_fp <- file.path(outdir, 'Alberta_HPAP_combined_metadata_all.tsv')\n",
    "meta <- read.table(meta_fp, sep='\\t')\n",
    "dim(meta)\n",
    "head(meta)\n",
    "tail(meta)"
   ]
  },
  {
   "cell_type": "code",
   "execution_count": 7,
   "id": "70cfe96d-fce2-42b3-bbf9-d0e4e4e6b1fb",
   "metadata": {
    "tags": []
   },
   "outputs": [
    {
     "data": {
      "text/html": [
       "<style>\n",
       ".list-inline {list-style: none; margin:0; padding: 0}\n",
       ".list-inline>li {display: inline-block}\n",
       ".list-inline>li:not(:last-child)::after {content: \"\\00b7\"; padding: 0 .5ex}\n",
       "</style>\n",
       "<ol class=list-inline><li>25</li><li>56</li></ol>\n"
      ],
      "text/latex": [
       "\\begin{enumerate*}\n",
       "\\item 25\n",
       "\\item 56\n",
       "\\end{enumerate*}\n"
      ],
      "text/markdown": [
       "1. 25\n",
       "2. 56\n",
       "\n",
       "\n"
      ],
      "text/plain": [
       "[1] 25 56"
      ]
     },
     "metadata": {},
     "output_type": "display_data"
    }
   ],
   "source": [
    "#subset down to samples in dataset and remove any with NA culture time \n",
    "if(dataset=='Alberta') fin_samples <- alberta_samples\n",
    "if(dataset=='HPAP') fin_samples <- hpap_samples_rna\n",
    "meta_fin <- meta[fin_samples,] %>% subset(!is.na(culture_time))\n",
    "dim(meta_fin)"
   ]
  },
  {
   "cell_type": "code",
   "execution_count": 8,
   "id": "ce7f8f68-4441-4b49-a6a6-bb4791caed28",
   "metadata": {
    "tags": []
   },
   "outputs": [
    {
     "data": {
      "text/html": [
       "<table class=\"dataframe\">\n",
       "<caption>A data.frame: 6 × 59</caption>\n",
       "<thead>\n",
       "\t<tr><th></th><th scope=col>age</th><th scope=col>scaled_age</th><th scope=col>sex</th><th scope=col>BMI</th><th scope=col>scaled_BMI</th><th scope=col>HbA1c</th><th scope=col>scaled_HbA1c</th><th scope=col>dataset</th><th scope=col>culture_time</th><th scope=col>scaled_culture_time</th><th scope=col>⋯</th><th scope=col>scaled_endothelial_mean_genes</th><th scope=col>immune_mean_genes</th><th scope=col>scaled_immune_mean_genes</th><th scope=col>stellate_mean_genes</th><th scope=col>scaled_stellate_mean_genes</th><th scope=col>tsse</th><th scope=col>scaled_tsse</th><th scope=col>race</th><th scope=col>tissue_source</th><th scope=col>chemistry</th></tr>\n",
       "\t<tr><th></th><th scope=col>&lt;int&gt;</th><th scope=col>&lt;dbl&gt;</th><th scope=col>&lt;chr&gt;</th><th scope=col>&lt;dbl&gt;</th><th scope=col>&lt;dbl&gt;</th><th scope=col>&lt;dbl&gt;</th><th scope=col>&lt;dbl&gt;</th><th scope=col>&lt;chr&gt;</th><th scope=col>&lt;dbl&gt;</th><th scope=col>&lt;dbl&gt;</th><th scope=col>⋯</th><th scope=col>&lt;dbl&gt;</th><th scope=col>&lt;dbl&gt;</th><th scope=col>&lt;dbl&gt;</th><th scope=col>&lt;dbl&gt;</th><th scope=col>&lt;dbl&gt;</th><th scope=col>&lt;dbl&gt;</th><th scope=col>&lt;dbl&gt;</th><th scope=col>&lt;chr&gt;</th><th scope=col>&lt;chr&gt;</th><th scope=col>&lt;chr&gt;</th></tr>\n",
       "</thead>\n",
       "<tbody>\n",
       "\t<tr><th scope=row>HPAP-022</th><td>39</td><td>-0.09280753</td><td>Female</td><td>34.70</td><td> 1.0267274</td><td>4.7</td><td>-1.5437921</td><td>HPAP</td><td>72</td><td> 0.1255953</td><td>⋯</td><td> 1.00907239</td><td>1812.945</td><td> 0.92797036</td><td>3147.311</td><td> 1.3439381</td><td>      NA</td><td>       NA</td><td>Caucasian</td><td>UPenn</td><td>10Xv2</td></tr>\n",
       "\t<tr><th scope=row>HPAP-026</th><td>24</td><td>-0.87745303</td><td>Male  </td><td>20.80</td><td>-1.1552455</td><td>4.9</td><td>-1.1442224</td><td>HPAP</td><td>48</td><td>-0.4932673</td><td>⋯</td><td>-0.93851128</td><td>1298.500</td><td>-0.40346949</td><td>1753.125</td><td>-0.3924969</td><td>      NA</td><td>       NA</td><td>Caucasian</td><td>nPOD </td><td>10Xv2</td></tr>\n",
       "\t<tr><th scope=row>HPAP-034</th><td>13</td><td>-1.45285974</td><td>Male  </td><td>18.60</td><td>-1.5005938</td><td>5.2</td><td>-0.5448678</td><td>HPAP</td><td>72</td><td> 0.1255953</td><td>⋯</td><td>-0.41671186</td><td>1102.333</td><td>-0.91117005</td><td>2342.769</td><td> 0.3418948</td><td>      NA</td><td>       NA</td><td>Caucasian</td><td>UPenn</td><td>10Xv2</td></tr>\n",
       "\t<tr><th scope=row>HPAP-035</th><td>35</td><td>-0.30204633</td><td>Male  </td><td>26.91</td><td>-0.1961193</td><td>5.2</td><td>-0.5448678</td><td>HPAP</td><td>72</td><td> 0.1255953</td><td>⋯</td><td>-0.56223077</td><td>1295.737</td><td>-0.41062084</td><td>1923.038</td><td>-0.1808726</td><td>4.301869</td><td>0.1571798</td><td>Caucasian</td><td>UPenn</td><td>10Xv2</td></tr>\n",
       "\t<tr><th scope=row>HPAP-036</th><td>23</td><td>-0.92976273</td><td>Female</td><td>16.00</td><td>-1.9087326</td><td>5.2</td><td>-0.5448678</td><td>HPAP</td><td>48</td><td>-0.4932673</td><td>⋯</td><td> 0.71629646</td><td>1480.143</td><td> 0.06664188</td><td>2347.103</td><td> 0.3472930</td><td>4.297375</td><td>0.1497275</td><td>Caucasian</td><td>nPOD </td><td>10Xv2</td></tr>\n",
       "\t<tr><th scope=row>HPAP-037</th><td>35</td><td>-0.30204633</td><td>Female</td><td>21.90</td><td>-0.9825714</td><td>5.3</td><td>-0.3450829</td><td>HPAP</td><td>96</td><td> 0.7444579</td><td>⋯</td><td>-0.01765581</td><td>1346.077</td><td>-0.28033526</td><td>1856.314</td><td>-0.2639771</td><td>      NA</td><td>       NA</td><td>Caucasian</td><td>UPenn</td><td>10Xv2</td></tr>\n",
       "</tbody>\n",
       "</table>\n"
      ],
      "text/latex": [
       "A data.frame: 6 × 59\n",
       "\\begin{tabular}{r|lllllllllllllllllllll}\n",
       "  & age & scaled\\_age & sex & BMI & scaled\\_BMI & HbA1c & scaled\\_HbA1c & dataset & culture\\_time & scaled\\_culture\\_time & ⋯ & scaled\\_endothelial\\_mean\\_genes & immune\\_mean\\_genes & scaled\\_immune\\_mean\\_genes & stellate\\_mean\\_genes & scaled\\_stellate\\_mean\\_genes & tsse & scaled\\_tsse & race & tissue\\_source & chemistry\\\\\n",
       "  & <int> & <dbl> & <chr> & <dbl> & <dbl> & <dbl> & <dbl> & <chr> & <dbl> & <dbl> & ⋯ & <dbl> & <dbl> & <dbl> & <dbl> & <dbl> & <dbl> & <dbl> & <chr> & <chr> & <chr>\\\\\n",
       "\\hline\n",
       "\tHPAP-022 & 39 & -0.09280753 & Female & 34.70 &  1.0267274 & 4.7 & -1.5437921 & HPAP & 72 &  0.1255953 & ⋯ &  1.00907239 & 1812.945 &  0.92797036 & 3147.311 &  1.3439381 &       NA &        NA & Caucasian & UPenn & 10Xv2\\\\\n",
       "\tHPAP-026 & 24 & -0.87745303 & Male   & 20.80 & -1.1552455 & 4.9 & -1.1442224 & HPAP & 48 & -0.4932673 & ⋯ & -0.93851128 & 1298.500 & -0.40346949 & 1753.125 & -0.3924969 &       NA &        NA & Caucasian & nPOD  & 10Xv2\\\\\n",
       "\tHPAP-034 & 13 & -1.45285974 & Male   & 18.60 & -1.5005938 & 5.2 & -0.5448678 & HPAP & 72 &  0.1255953 & ⋯ & -0.41671186 & 1102.333 & -0.91117005 & 2342.769 &  0.3418948 &       NA &        NA & Caucasian & UPenn & 10Xv2\\\\\n",
       "\tHPAP-035 & 35 & -0.30204633 & Male   & 26.91 & -0.1961193 & 5.2 & -0.5448678 & HPAP & 72 &  0.1255953 & ⋯ & -0.56223077 & 1295.737 & -0.41062084 & 1923.038 & -0.1808726 & 4.301869 & 0.1571798 & Caucasian & UPenn & 10Xv2\\\\\n",
       "\tHPAP-036 & 23 & -0.92976273 & Female & 16.00 & -1.9087326 & 5.2 & -0.5448678 & HPAP & 48 & -0.4932673 & ⋯ &  0.71629646 & 1480.143 &  0.06664188 & 2347.103 &  0.3472930 & 4.297375 & 0.1497275 & Caucasian & nPOD  & 10Xv2\\\\\n",
       "\tHPAP-037 & 35 & -0.30204633 & Female & 21.90 & -0.9825714 & 5.3 & -0.3450829 & HPAP & 96 &  0.7444579 & ⋯ & -0.01765581 & 1346.077 & -0.28033526 & 1856.314 & -0.2639771 &       NA &        NA & Caucasian & UPenn & 10Xv2\\\\\n",
       "\\end{tabular}\n"
      ],
      "text/markdown": [
       "\n",
       "A data.frame: 6 × 59\n",
       "\n",
       "| <!--/--> | age &lt;int&gt; | scaled_age &lt;dbl&gt; | sex &lt;chr&gt; | BMI &lt;dbl&gt; | scaled_BMI &lt;dbl&gt; | HbA1c &lt;dbl&gt; | scaled_HbA1c &lt;dbl&gt; | dataset &lt;chr&gt; | culture_time &lt;dbl&gt; | scaled_culture_time &lt;dbl&gt; | ⋯ ⋯ | scaled_endothelial_mean_genes &lt;dbl&gt; | immune_mean_genes &lt;dbl&gt; | scaled_immune_mean_genes &lt;dbl&gt; | stellate_mean_genes &lt;dbl&gt; | scaled_stellate_mean_genes &lt;dbl&gt; | tsse &lt;dbl&gt; | scaled_tsse &lt;dbl&gt; | race &lt;chr&gt; | tissue_source &lt;chr&gt; | chemistry &lt;chr&gt; |\n",
       "|---|---|---|---|---|---|---|---|---|---|---|---|---|---|---|---|---|---|---|---|---|---|\n",
       "| HPAP-022 | 39 | -0.09280753 | Female | 34.70 |  1.0267274 | 4.7 | -1.5437921 | HPAP | 72 |  0.1255953 | ⋯ |  1.00907239 | 1812.945 |  0.92797036 | 3147.311 |  1.3439381 |       NA |        NA | Caucasian | UPenn | 10Xv2 |\n",
       "| HPAP-026 | 24 | -0.87745303 | Male   | 20.80 | -1.1552455 | 4.9 | -1.1442224 | HPAP | 48 | -0.4932673 | ⋯ | -0.93851128 | 1298.500 | -0.40346949 | 1753.125 | -0.3924969 |       NA |        NA | Caucasian | nPOD  | 10Xv2 |\n",
       "| HPAP-034 | 13 | -1.45285974 | Male   | 18.60 | -1.5005938 | 5.2 | -0.5448678 | HPAP | 72 |  0.1255953 | ⋯ | -0.41671186 | 1102.333 | -0.91117005 | 2342.769 |  0.3418948 |       NA |        NA | Caucasian | UPenn | 10Xv2 |\n",
       "| HPAP-035 | 35 | -0.30204633 | Male   | 26.91 | -0.1961193 | 5.2 | -0.5448678 | HPAP | 72 |  0.1255953 | ⋯ | -0.56223077 | 1295.737 | -0.41062084 | 1923.038 | -0.1808726 | 4.301869 | 0.1571798 | Caucasian | UPenn | 10Xv2 |\n",
       "| HPAP-036 | 23 | -0.92976273 | Female | 16.00 | -1.9087326 | 5.2 | -0.5448678 | HPAP | 48 | -0.4932673 | ⋯ |  0.71629646 | 1480.143 |  0.06664188 | 2347.103 |  0.3472930 | 4.297375 | 0.1497275 | Caucasian | nPOD  | 10Xv2 |\n",
       "| HPAP-037 | 35 | -0.30204633 | Female | 21.90 | -0.9825714 | 5.3 | -0.3450829 | HPAP | 96 |  0.7444579 | ⋯ | -0.01765581 | 1346.077 | -0.28033526 | 1856.314 | -0.2639771 |       NA |        NA | Caucasian | UPenn | 10Xv2 |\n",
       "\n"
      ],
      "text/plain": [
       "         age scaled_age  sex    BMI   scaled_BMI HbA1c scaled_HbA1c dataset\n",
       "HPAP-022 39  -0.09280753 Female 34.70  1.0267274 4.7   -1.5437921   HPAP   \n",
       "HPAP-026 24  -0.87745303 Male   20.80 -1.1552455 4.9   -1.1442224   HPAP   \n",
       "HPAP-034 13  -1.45285974 Male   18.60 -1.5005938 5.2   -0.5448678   HPAP   \n",
       "HPAP-035 35  -0.30204633 Male   26.91 -0.1961193 5.2   -0.5448678   HPAP   \n",
       "HPAP-036 23  -0.92976273 Female 16.00 -1.9087326 5.2   -0.5448678   HPAP   \n",
       "HPAP-037 35  -0.30204633 Female 21.90 -0.9825714 5.3   -0.3450829   HPAP   \n",
       "         culture_time scaled_culture_time ⋯ scaled_endothelial_mean_genes\n",
       "HPAP-022 72            0.1255953          ⋯  1.00907239                  \n",
       "HPAP-026 48           -0.4932673          ⋯ -0.93851128                  \n",
       "HPAP-034 72            0.1255953          ⋯ -0.41671186                  \n",
       "HPAP-035 72            0.1255953          ⋯ -0.56223077                  \n",
       "HPAP-036 48           -0.4932673          ⋯  0.71629646                  \n",
       "HPAP-037 96            0.7444579          ⋯ -0.01765581                  \n",
       "         immune_mean_genes scaled_immune_mean_genes stellate_mean_genes\n",
       "HPAP-022 1812.945           0.92797036              3147.311           \n",
       "HPAP-026 1298.500          -0.40346949              1753.125           \n",
       "HPAP-034 1102.333          -0.91117005              2342.769           \n",
       "HPAP-035 1295.737          -0.41062084              1923.038           \n",
       "HPAP-036 1480.143           0.06664188              2347.103           \n",
       "HPAP-037 1346.077          -0.28033526              1856.314           \n",
       "         scaled_stellate_mean_genes tsse     scaled_tsse race     \n",
       "HPAP-022  1.3439381                       NA        NA   Caucasian\n",
       "HPAP-026 -0.3924969                       NA        NA   Caucasian\n",
       "HPAP-034  0.3418948                       NA        NA   Caucasian\n",
       "HPAP-035 -0.1808726                 4.301869 0.1571798   Caucasian\n",
       "HPAP-036  0.3472930                 4.297375 0.1497275   Caucasian\n",
       "HPAP-037 -0.2639771                       NA        NA   Caucasian\n",
       "         tissue_source chemistry\n",
       "HPAP-022 UPenn         10Xv2    \n",
       "HPAP-026 nPOD          10Xv2    \n",
       "HPAP-034 UPenn         10Xv2    \n",
       "HPAP-035 UPenn         10Xv2    \n",
       "HPAP-036 nPOD          10Xv2    \n",
       "HPAP-037 UPenn         10Xv2    "
      ]
     },
     "metadata": {},
     "output_type": "display_data"
    }
   ],
   "source": [
    "# IF we're doing HPAP only, add in additional HPAP metadata\n",
    "if (dataset=='HPAP'){\n",
    "    meta2 <- as.data.frame(fread('/path/to/full/HPAP/metadata.csv'))\n",
    "\n",
    "    #Ruth's function: Diabetes_Status_w_AAB + tissue_source + chemistry + gender + scaled_culture_time + scaled_bmi + race + scaled_age_years\n",
    "    meta2_cut <- select(meta2, race, donor_ID)\n",
    "    row.names(meta2_cut) <- meta2_cut$donor_ID\n",
    "\n",
    "    #manually set a few metadata vars, based on Ruth's code from github\n",
    "    penn <- c('HPAP-022','HPAP-027','HPAP-034','HPAP-035','HPAP-037','HPAP-040','HPAP-047','HPAP-051','HPAP-052','HPAP-053','HPAP-054','HPAP-055','HPAP-056','HPAP-057','HPAP-059','HPAP-061','HPAP-063','HPAP-064','HPAP-074','HPAP-075','HPAP-077','HPAP-083','HPAP-085','HPAP-099','HPAP-103','HPAP-104','HPAP-106')\n",
    "    v2 <- c('HPAP-019','HPAP-020','HPAP-021','HPAP-022','HPAP-023','HPAP-024','HPAP-026','HPAP-027','HPAP-028','HPAP-029','HPAP-032','HPAP-034','HPAP-035','HPAP-036','HPAP-037')\n",
    "\n",
    "    meta2_cut$tissue_source <- ifelse(meta2_cut$donor_ID %in% penn, 'UPenn', 'nPOD')\n",
    "    meta2_cut$chemistry <- ifelse(meta2_cut$donor_ID %in% v2, '10Xv2', '10Xv3')\n",
    "\n",
    "    # merge back with meta_fin for correct samples\n",
    "    meta_fin2 <- cbind(meta_fin, meta2_cut[row.names(meta_fin),-2])\n",
    "    meta_fin <- meta_fin2    \n",
    "}\n",
    "head(meta_fin)"
   ]
  },
  {
   "cell_type": "markdown",
   "id": "c4392ee3-e173-4ee6-91ab-84805fe6cf06",
   "metadata": {},
   "source": [
    "## Cell type level TPM tables (for \"expressed genes\")"
   ]
  },
  {
   "cell_type": "code",
   "execution_count": 9,
   "id": "178d3876-bc09-47f8-8869-bab7d1a625fc",
   "metadata": {
    "tags": []
   },
   "outputs": [],
   "source": [
    "# Read in TPM matrices by cell type\n",
    "tpm_dir <- '/dir/with/per/celltype/TPM/matrices'\n",
    "tpm_tables <- list()\n",
    "for (celltype in joint_celltypes){\n",
    "    fp <- file.path(tpm_dir, sprintf('%s_genes_values.ALL_GENES.txt', celltype))\n",
    "    df <- read.table(fp, sep='\\t')\n",
    "    colnames(df) <- c('gene', 'TPM')\n",
    "    tpm_tables[[celltype]] <- df\n",
    "}"
   ]
  },
  {
   "cell_type": "code",
   "execution_count": 10,
   "id": "34946fa4-e515-4d01-b399-4bb365c5c731",
   "metadata": {
    "tags": []
   },
   "outputs": [
    {
     "data": {
      "text/html": [
       "<table class=\"dataframe\">\n",
       "<caption>A data.frame: 6 × 2</caption>\n",
       "<thead>\n",
       "\t<tr><th></th><th scope=col>gene</th><th scope=col>TPM</th></tr>\n",
       "\t<tr><th></th><th scope=col>&lt;chr&gt;</th><th scope=col>&lt;dbl&gt;</th></tr>\n",
       "</thead>\n",
       "<tbody>\n",
       "\t<tr><th scope=row>1</th><td>MALAT1    </td><td>46915.751</td></tr>\n",
       "\t<tr><th scope=row>2</th><td>INS       </td><td>34436.004</td></tr>\n",
       "\t<tr><th scope=row>3</th><td>PAM       </td><td> 3521.636</td></tr>\n",
       "\t<tr><th scope=row>4</th><td>LINC01099 </td><td> 2897.259</td></tr>\n",
       "\t<tr><th scope=row>5</th><td>RGS7      </td><td> 2688.381</td></tr>\n",
       "\t<tr><th scope=row>6</th><td>AC096759.1</td><td> 2250.007</td></tr>\n",
       "</tbody>\n",
       "</table>\n"
      ],
      "text/latex": [
       "A data.frame: 6 × 2\n",
       "\\begin{tabular}{r|ll}\n",
       "  & gene & TPM\\\\\n",
       "  & <chr> & <dbl>\\\\\n",
       "\\hline\n",
       "\t1 & MALAT1     & 46915.751\\\\\n",
       "\t2 & INS        & 34436.004\\\\\n",
       "\t3 & PAM        &  3521.636\\\\\n",
       "\t4 & LINC01099  &  2897.259\\\\\n",
       "\t5 & RGS7       &  2688.381\\\\\n",
       "\t6 & AC096759.1 &  2250.007\\\\\n",
       "\\end{tabular}\n"
      ],
      "text/markdown": [
       "\n",
       "A data.frame: 6 × 2\n",
       "\n",
       "| <!--/--> | gene &lt;chr&gt; | TPM &lt;dbl&gt; |\n",
       "|---|---|---|\n",
       "| 1 | MALAT1     | 46915.751 |\n",
       "| 2 | INS        | 34436.004 |\n",
       "| 3 | PAM        |  3521.636 |\n",
       "| 4 | LINC01099  |  2897.259 |\n",
       "| 5 | RGS7       |  2688.381 |\n",
       "| 6 | AC096759.1 |  2250.007 |\n",
       "\n"
      ],
      "text/plain": [
       "  gene       TPM      \n",
       "1 MALAT1     46915.751\n",
       "2 INS        34436.004\n",
       "3 PAM         3521.636\n",
       "4 LINC01099   2897.259\n",
       "5 RGS7        2688.381\n",
       "6 AC096759.1  2250.007"
      ]
     },
     "metadata": {},
     "output_type": "display_data"
    }
   ],
   "source": [
    "head(tpm_tables[['beta']])"
   ]
  },
  {
   "cell_type": "markdown",
   "id": "76b7ace6-d971-4190-923a-4710da65029f",
   "metadata": {},
   "source": [
    "# 2. Calculate Trait Associations with Genes"
   ]
  },
  {
   "cell_type": "markdown",
   "id": "a0c0b66d-d3de-48d9-98e0-c1834fc1c2c7",
   "metadata": {},
   "source": [
    "## Run DESeq for all variables (age, BMI, HbA1c, sex)\n",
    "Function design: `~main variable + other metadata + scaled_culture_time + scaled_beta_prop_rna + scaled_ct_mean_genes`"
   ]
  },
  {
   "cell_type": "code",
   "execution_count": 11,
   "id": "490adec8",
   "metadata": {
    "tags": []
   },
   "outputs": [
    {
     "data": {
      "text/html": [
       "<style>\n",
       ".list-inline {list-style: none; margin:0; padding: 0}\n",
       ".list-inline>li {display: inline-block}\n",
       ".list-inline>li:not(:last-child)::after {content: \"\\00b7\"; padding: 0 .5ex}\n",
       "</style>\n",
       "<ol class=list-inline><li>'acinar_sample_RNA_total_counts.txt'</li><li>'alpha_sample_RNA_total_counts.txt'</li><li>'beta_sample_RNA_total_counts.txt'</li><li>'delta_sample_RNA_total_counts.txt'</li><li>'ductal_sample_RNA_total_counts.txt'</li><li>'endothelial_sample_RNA_total_counts.txt'</li><li>'gamma_sample_RNA_total_counts.txt'</li><li>'immune_sample_RNA_total_counts.txt'</li><li>'stellate_sample_RNA_total_counts.txt'</li></ol>\n"
      ],
      "text/latex": [
       "\\begin{enumerate*}\n",
       "\\item 'acinar\\_sample\\_RNA\\_total\\_counts.txt'\n",
       "\\item 'alpha\\_sample\\_RNA\\_total\\_counts.txt'\n",
       "\\item 'beta\\_sample\\_RNA\\_total\\_counts.txt'\n",
       "\\item 'delta\\_sample\\_RNA\\_total\\_counts.txt'\n",
       "\\item 'ductal\\_sample\\_RNA\\_total\\_counts.txt'\n",
       "\\item 'endothelial\\_sample\\_RNA\\_total\\_counts.txt'\n",
       "\\item 'gamma\\_sample\\_RNA\\_total\\_counts.txt'\n",
       "\\item 'immune\\_sample\\_RNA\\_total\\_counts.txt'\n",
       "\\item 'stellate\\_sample\\_RNA\\_total\\_counts.txt'\n",
       "\\end{enumerate*}\n"
      ],
      "text/markdown": [
       "1. 'acinar_sample_RNA_total_counts.txt'\n",
       "2. 'alpha_sample_RNA_total_counts.txt'\n",
       "3. 'beta_sample_RNA_total_counts.txt'\n",
       "4. 'delta_sample_RNA_total_counts.txt'\n",
       "5. 'ductal_sample_RNA_total_counts.txt'\n",
       "6. 'endothelial_sample_RNA_total_counts.txt'\n",
       "7. 'gamma_sample_RNA_total_counts.txt'\n",
       "8. 'immune_sample_RNA_total_counts.txt'\n",
       "9. 'stellate_sample_RNA_total_counts.txt'\n",
       "\n",
       "\n"
      ],
      "text/plain": [
       "[1] \"acinar_sample_RNA_total_counts.txt\"     \n",
       "[2] \"alpha_sample_RNA_total_counts.txt\"      \n",
       "[3] \"beta_sample_RNA_total_counts.txt\"       \n",
       "[4] \"delta_sample_RNA_total_counts.txt\"      \n",
       "[5] \"ductal_sample_RNA_total_counts.txt\"     \n",
       "[6] \"endothelial_sample_RNA_total_counts.txt\"\n",
       "[7] \"gamma_sample_RNA_total_counts.txt\"      \n",
       "[8] \"immune_sample_RNA_total_counts.txt\"     \n",
       "[9] \"stellate_sample_RNA_total_counts.txt\"   "
      ]
     },
     "metadata": {},
     "output_type": "display_data"
    }
   ],
   "source": [
    "mat_dir <- file.path(outdir, 'RNA','merged_sample_matrices')\n",
    "files <- list.files(mat_dir)\n",
    "files\n",
    "\n",
    "#exclude cell types that we don't have many donors with lots of cells in (endothelial)\n",
    "fin_files <- files"
   ]
  },
  {
   "cell_type": "code",
   "execution_count": 12,
   "id": "8438b6f2",
   "metadata": {
    "scrolled": true,
    "tags": []
   },
   "outputs": [],
   "source": [
    "### Function which runs the default DESeq analysis on each cell type total counts sample matrix\n",
    "### focusing on one input variable (var), and including other_vars as covariates\n",
    "### then sorts results by pvalue and writes to a file.\n",
    "### Samples with NA values for the variable of interest (var) are removed, as well as samples with \n",
    "### no gex (eg some samples don't have schwann cells).\n",
    "### Also filter out genes with pseudobulk TPM < set cutoff, option to include scaled_mean_genes covar, and \n",
    "### only use samples with a certain number of cells in the cell type, also don't use samples with min_cells_rna < 1000\n",
    "\n",
    "run_deseq_one_main_variable_RNA <- function(files, var, other_vars, meta, out_prefix, log_fp, tpm_cutoff=0, min_cells_per_sample=20){\n",
    "    write(sprintf('Starting DESeq run for %s: %s', var, Sys.time()), file=log_fp, append=TRUE)\n",
    "    \n",
    "    for (FILE in files) {\n",
    "        # Read in cell type counts file (sample pseudobulk)\n",
    "        cell <- gsub('_sample_RNA_total_counts.txt', '', FILE)\n",
    "        print(FILE)\n",
    "        raw_counts <- read.table(file.path(mat_dir, FILE), row.names=1)\n",
    "        raw_counts <- raw_counts[,(colSums(raw_counts != 0) > 0)]\n",
    "        colnames(raw_counts) <- gsub('\\\\.','-',colnames(raw_counts))\n",
    "        meta_cell <- meta\n",
    "        \n",
    "        # Identify which samples we have gene expression and enough cells from and cut down matrices accordingly\n",
    "        samples <- row.names(meta_cell)\n",
    "        samples_meta <- row.names(meta_cell[!is.na(meta_cell[,var]),])\n",
    "        cell_col <- paste0(cell,'_cells_rna')\n",
    "        samples_w_cells <- row.names(meta %>% subset(meta[[cell_col]] >= min_cells_per_sample & num_cells_rna > 1000))\n",
    "        samples_fin <- samples[samples %in% samples_meta & samples %in% samples_w_cells]\n",
    "        meta_fin <- meta_cell[samples_fin,]\n",
    "        raw_counts_fin <- raw_counts[,samples_fin]\n",
    "        write(paste(cell, Sys.time(), length(samples_fin), 'samples to use'), file=log_fp, append=TRUE)\n",
    "        write(paste(cell, Sys.time(), paste(samples_fin, collapse=',')), file=log_fp, append=TRUE)\n",
    "\n",
    "        # If there are at least 10 samples with metadata, proceed with DESeq\n",
    "        if (length(meta_fin[,var]) > 10){            \n",
    "            # Light pre-filtering\n",
    "            counts <- raw_counts_fin[rowSums(raw_counts_fin) >= 10,]\n",
    "            write(paste(dim(counts)[1], 'genes pass light pre-filtering (>= 10 counts across samples)'), file=log_fp, append=TRUE)\n",
    "            \n",
    "            # Filter genes (raw_counts_fin) by >= TPM cutoff (default is 0)\n",
    "            tpm_df <- tpm_tables[[cell]]\n",
    "            pass_genes <- tpm_df[tpm_df$TPM >= tpm_cutoff,]$gene\n",
    "            counts_fin <- counts[row.names(counts) %in% pass_genes,]\n",
    "            write(paste(dim(counts_fin)[1], 'genes pass celltype pseudobulk TPM cutoff', tpm_cutoff), file=log_fp, append=TRUE)\n",
    "\n",
    "            # Make function for DESeq using in the format: ~var + other_vars\n",
    "            my_design <- as.formula(paste0(sprintf('~ %s',var),paste0(rep(' + ',length(other_vars)), c(other_vars, paste0('scaled_',cell,'_mean_genes')),collapse='')))\n",
    "            write(as.character(my_design), file=log_fp, append=TRUE)\n",
    "            print(my_design)\n",
    "            \n",
    "            # Run DESeq            \n",
    "            dds  <- DESeqDataSetFromMatrix(round(counts_fin), colData = meta_fin, design = my_design) #colData is where design columns are found\n",
    "            rld <- vst(dds)\n",
    "            print(plotPCA(rld, intgroup = var)+ ggtitle(paste(cell,var)))\n",
    "            dds <- DESeq(dds)\n",
    "            \n",
    "            # Extract results for variable of interest\n",
    "            if (var == 'sex'){\n",
    "                fin_var <- 'sex_Male_vs_Female'\n",
    "            } else{\n",
    "                fin_var <- var\n",
    "            }\n",
    "            res <- results(dds, name=fin_var)\n",
    "            df <- as.data.frame(res)\n",
    "            df <- df[order(df$pvalue),]\n",
    "            fp <- paste0(out_prefix, cell, '.tsv')\n",
    "            write.table(df, fp, sep=\"\\t\", quote=FALSE)\n",
    "            write('\\n', file=log_fp, append=TRUE)\n",
    "        } else {\n",
    "            write(paste(cell, Sys.time(), 'not enough samples to proceed!'), file=log_fp, append=TRUE)\n",
    "        }\n",
    "    }\n",
    "    write(paste('Done', Sys.time()), file=log_fp, append=TRUE)\n",
    "}"
   ]
  },
  {
   "cell_type": "code",
   "execution_count": null,
   "id": "7ac71617-6db4-418b-ac27-6a2eb3af5bf2",
   "metadata": {
    "scrolled": true,
    "tags": []
   },
   "outputs": [],
   "source": [
    "# Use function to run deseq on all cell types for each variable of interest\n",
    "variables <- c('scaled_age', 'scaled_BMI', 'scaled_HbA1c', 'sex')\n",
    "if(dataset == 'Alberta') add_variables <- c('scaled_culture_time', 'scaled_beta_prop_rna')\n",
    "if(dataset == 'HPAP') add_variables <- c('scaled_beta_prop_rna', 'tissue_source', 'chemistry', 'race')\n",
    "\n",
    "deseq_outdir <- file.path(outdir,'RNA',paste0(dataset,'_DESeq'))\n",
    "dir.create(deseq_outdir, showWarnings=FALSE)\n",
    "\n",
    "for (var in variables){\n",
    "    print(paste(var, Sys.time()))\n",
    "    \n",
    "    # Make subdir in the outdir for the specific variable\n",
    "    outdir_var <- file.path(deseq_outdir, var)\n",
    "    dir.create(outdir_var, showWarnings = F)\n",
    "    out_prefix <- file.path(outdir_var, sprintf('RNA_deseq_v4.%s.',var))\n",
    "    log_fp <- file.path(deseq_outdir, sprintf('log_%s.txt', var))\n",
    "    \n",
    "    # Set other metadata variables to include in functions\n",
    "    # removing HbA1c from other analyses for now since has NA values\n",
    "    other_vars <- c(variables[variables != var & variables != 'scaled_HbA1c'] ,add_variables)\n",
    "    print(other_vars)\n",
    "\n",
    "    # Run DESeq\n",
    "    run_deseq_one_main_variable_RNA(fin_files, var, other_vars, meta_fin, out_prefix, log_fp, tpm_cutoff=1, min_cells_per_sample=20)\n",
    "    print('')\n",
    "}"
   ]
  },
  {
   "cell_type": "markdown",
   "id": "7db6cf7b-9d5b-466c-9c2b-ddbd048a76bb",
   "metadata": {},
   "source": [
    "## 3b. Visualize summaries of DESeq results"
   ]
  },
  {
   "cell_type": "code",
   "execution_count": 15,
   "id": "837e5cea",
   "metadata": {
    "tags": []
   },
   "outputs": [],
   "source": [
    "### Function to make a barplot comparing the # of significant DEGs for a list of cell types and variables\n",
    "summarize_DEGs <- function(deseq_outdir, variables, celltypes, plot_col, colors){\n",
    "    # Organize list of all outputs (celltype and variable)\n",
    "    prefixes <- paste(rep(variables, each = length(celltypes)), celltypes, sep='-')\n",
    "    \n",
    "    # Read in all deseq_output files, save summary info to a list\n",
    "    data <- data.frame()\n",
    "    for (prefix in prefixes){\n",
    "        var <- str_split(prefix, '-')[[1]][1]\n",
    "        cell <- str_split(prefix, '-')[[1]][2]\n",
    "        fp <- file.path(deseq_outdir, var, sprintf('RNA_deseq_v4.%s.%s.tsv',var, cell))\n",
    "        df <- read.table(fp, sep='\\t', header=TRUE)\n",
    "        \n",
    "        # Collect summary information into a vector\n",
    "        num_tested <- dim(df)[1]\n",
    "        num_sig <- dim(df[df$padj <= 0.1 & !is.na(df$padj),])[1]\n",
    "        num_sig_pos <- dim(df[df$padj <= 0.1 & !is.na(df$padj) & df$log2FoldChange > 0,])[1]\n",
    "        num_sig_neg <- dim(df[df$padj <= 0.1 & !is.na(df$padj) & df$log2FoldChange < 0,])[1]\n",
    "        data <- rbind(data, c(num_tested, num_sig, num_sig_pos, num_sig_neg))\n",
    "    }\n",
    "    \n",
    "    # Clean up dataframe\n",
    "    row.names(data) <- prefixes\n",
    "    colnames(data) <- c('genes_tested', 'sig_genes', 'pos_sig_genes', 'neg_sig_genes')\n",
    "    data$variable <- str_split_fixed(prefixes, '-', 2)[,1]\n",
    "    data$celltype <- str_split_fixed(prefixes, '-', 2)[,2]\n",
    "    #print(data)\n",
    "    \n",
    "    # replace column name of plot_col with literally \"plot_col\" and make colors vector\n",
    "    data$plot_col <- data[,plot_col]\n",
    "    \n",
    "    # Make grouped barplot of desired metadata\n",
    "    options(repr.plot.width=30, repr.plot.height=8)\n",
    "    theme_set(\n",
    "        theme_classic())\n",
    "    \n",
    "    p1 <- ggplot(data, aes(fill=celltype, y=plot_col, x=variable)) + \n",
    "            geom_bar(position=\"dodge\", stat=\"identity\", width=0.7) + \n",
    "            labs(x = \"Celltype\", y = plot_col, color=\"Cell Type\") + \n",
    "            scale_fill_manual(values=colors) + \n",
    "            theme(axis.text.x=element_text(size=20, vjust=0.5),\n",
    "            axis.text.y=element_text(size=20, vjust=0.5),\n",
    "            axis.title.x = element_text(size=25, vjust=-0.35),\n",
    "            axis.title.y = element_text(size=25, vjust=0.5),\n",
    "            legend.title = element_blank(),\n",
    "            legend.text = element_text(size=15),\n",
    "            plot.title = element_text(size=25, hjust=0.5, face=\"bold\"))\n",
    "    print(p1)\n",
    "    \n",
    "}"
   ]
  },
  {
   "cell_type": "code",
   "execution_count": 19,
   "id": "df32edcf-3c64-42c8-a628-d377e79c341b",
   "metadata": {
    "tags": []
   },
   "outputs": [],
   "source": [
    "#Alberta: don't look at endothelial cells bc weren't enough to run tests\n",
    "#joint_celltypes2 <- joint_celltypes[-7]\n",
    "#HPAP: not enough gamma cells to run tests\n",
    "joint_celltypes2 <- joint_celltypes[-4]"
   ]
  },
  {
   "cell_type": "code",
   "execution_count": 20,
   "id": "8dea5899",
   "metadata": {
    "tags": []
   },
   "outputs": [
    {
     "data": {
      "image/png": "[encoded data removed]",
      "text/plain": [
       "plot without title"
      ]
     },
     "metadata": {
      "image/png": {
       "height": 480,
       "width": 1800
      }
     },
     "output_type": "display_data"
    }
   ],
   "source": [
    "#I moved the outputs to the project directory so updating outdir\n",
    "variables <- c('scaled_age', 'scaled_BMI', 'scaled_HbA1c', 'sex')\n",
    "summarize_DEGs(deseq_outdir, variables, joint_celltypes2, 'sig_genes', colors)"
   ]
  },
  {
   "cell_type": "code",
   "execution_count": 2,
   "id": "a1cc0dff-acbd-487b-b6ed-affd57884447",
   "metadata": {},
   "outputs": [
    {
     "data": {
      "text/plain": [
       "R version 4.1.1 (2021-08-10)\n",
       "Platform: x86_64-pc-linux-gnu (64-bit)\n",
       "Running under: Ubuntu 20.04.2 LTS\n",
       "\n",
       "Matrix products: default\n",
       "BLAS:   /usr/lib/x86_64-linux-gnu/blas/libblas.so.3.9.0\n",
       "LAPACK: /usr/lib/x86_64-linux-gnu/lapack/liblapack.so.3.9.0\n",
       "\n",
       "locale:\n",
       " [1] LC_CTYPE=en_US.UTF-8       LC_NUMERIC=C              \n",
       " [3] LC_TIME=en_US.UTF-8        LC_COLLATE=en_US.UTF-8    \n",
       " [5] LC_MONETARY=en_US.UTF-8    LC_MESSAGES=en_US.UTF-8   \n",
       " [7] LC_PAPER=en_US.UTF-8       LC_NAME=C                 \n",
       " [9] LC_ADDRESS=C               LC_TELEPHONE=C            \n",
       "[11] LC_MEASUREMENT=en_US.UTF-8 LC_IDENTIFICATION=C       \n",
       "\n",
       "attached base packages:\n",
       "[1] parallel  stats4    stats     graphics  grDevices utils     datasets \n",
       "[8] methods   base     \n",
       "\n",
       "other attached packages:\n",
       " [1] qvalue_2.26.0               bettermc_1.1.2             \n",
       " [3] fgsea_1.20.0                DESeq2_1.34.0              \n",
       " [5] SummarizedExperiment_1.24.0 Biobase_2.54.0             \n",
       " [7] MatrixGenerics_1.6.0        matrixStats_1.3.0          \n",
       " [9] GenomicRanges_1.46.1        GenomeInfoDb_1.30.1        \n",
       "[11] IRanges_2.28.0              S4Vectors_0.32.4           \n",
       "[13] BiocGenerics_0.40.0         forcats_0.5.2              \n",
       "[15] shadowtext_0.1.2            RColorBrewer_1.1-3         \n",
       "[17] ggrepel_0.9.4               ggpubr_0.5.0               \n",
       "[19] ggplot2_3.4.4               meta_6.5-0                 \n",
       "[21] readr_2.1.1                 stringi_1.8.2              \n",
       "[23] stringr_1.4.1               future_1.34.0              \n",
       "[25] data.table_1.14.8           Matrix_1.5-1               \n",
       "[27] dplyr_1.0.10               \n",
       "\n",
       "loaded via a namespace (and not attached):\n",
       " [1] minqa_1.2.5            colorspace_2.1-1       ggsignif_0.6.4        \n",
       " [4] ellipsis_0.3.2         IRdisplay_1.1          XVector_0.34.0        \n",
       " [7] base64enc_0.1-3        listenv_0.9.1          bit64_4.0.5           \n",
       "[10] AnnotationDbi_1.56.2   fansi_1.0.6            mathjaxr_1.6-0        \n",
       "[13] xml2_1.3.3             codetools_0.2-18       splines_4.1.1         \n",
       "[16] cachem_1.1.0           geneplotter_1.72.0     IRkernel_1.3.1        \n",
       "[19] jsonlite_1.8.8         nloptr_1.2.2.3         broom_1.0.0           \n",
       "[22] annotate_1.72.0        png_0.1-8              compiler_4.1.1        \n",
       "[25] httr_1.4.4             backports_1.4.1        assertthat_0.2.1      \n",
       "[28] fastmap_1.2.0          cli_3.6.3              htmltools_0.5.8.1     \n",
       "[31] tools_4.1.1            gtable_0.3.1           glue_1.7.0            \n",
       "[34] GenomeInfoDbData_1.2.7 reshape2_1.4.4         fastmatch_1.1-3       \n",
       "[37] Rcpp_1.0.13            carData_3.0-5          vctrs_0.5.1           \n",
       "[40] Biostrings_2.62.0      nlme_3.1-160           globals_0.16.3        \n",
       "[43] lme4_1.1-30            CompQuadForm_1.4.3     lifecycle_1.0.4       \n",
       "[46] rstatix_0.7.1          XML_3.99-0.16          zlibbioc_1.40.0       \n",
       "[49] MASS_7.3-58.1          scales_1.2.1           hms_1.1.2             \n",
       "[52] metafor_3.8-1          gridExtra_2.3          memoise_2.0.1         \n",
       "[55] RSQLite_2.2.9          genefilter_1.76.0      boot_1.3-28.1         \n",
       "[58] BiocParallel_1.28.3    repr_1.1.4             rlang_1.1.4           \n",
       "[61] pkgconfig_2.0.3        bitops_1.0-8           evaluate_0.24.0       \n",
       "[64] lattice_0.20-45        purrr_0.3.5            bit_4.0.5             \n",
       "[67] tidyselect_1.2.0       parallelly_1.38.0      plyr_1.8.9            \n",
       "[70] magrittr_2.0.3         R6_2.5.1               generics_0.1.3        \n",
       "[73] pbdZMQ_0.3-8           DelayedArray_0.20.0    DBI_1.1.3             \n",
       "[76] pillar_1.8.1           withr_3.0.1            survival_3.4-0        \n",
       "[79] KEGGREST_1.34.0        abind_1.4-5            RCurl_1.98-1.13       \n",
       "[82] tibble_3.1.8           crayon_1.5.3           car_3.1-1             \n",
       "[85] uuid_1.1-0             utf8_1.2.4             tzdb_0.3.0            \n",
       "[88] locfit_1.5-9.6         grid_4.1.1             metadat_1.2-0         \n",
       "[91] blob_1.2.3             digest_0.6.36          xtable_1.8-4          \n",
       "[94] tidyr_1.2.1            munsell_0.5.1         "
      ]
     },
     "metadata": {},
     "output_type": "display_data"
    }
   ],
   "source": [
    "sessionInfo()"
   ]
  }
 ],
 "metadata": {
  "kernelspec": {
   "display_name": "R 4.1",
   "language": "R",
   "name": "ir411"
  },
  "language_info": {
   "codemirror_mode": "r",
   "file_extension": ".r",
   "mimetype": "text/x-r-source",
   "name": "R",
   "pygments_lexer": "r",
   "version": "4.1.1"
  }
 },
 "nbformat": 4,
 "nbformat_minor": 5
}
