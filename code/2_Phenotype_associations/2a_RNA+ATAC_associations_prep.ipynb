{
 "cells": [
  {
   "cell_type": "markdown",
   "id": "582f1d3d",
   "metadata": {},
   "source": [
    "#### Summary:\n",
    "In this notebook I'll prepare the inputs for both modality (RNA, ATAC) associations, metadata inputs, etc. Then further notebooks will perform the associations and necessary meta-analyses.\n",
    "\n",
    "Required inputs:\n",
    "- Final Seurat object with metadata columns for donor ID (library here) and cell type (major_celltypes_fin here)"
   ]
  },
  {
   "cell_type": "code",
   "execution_count": 1,
   "id": "e0d21f20",
   "metadata": {
    "scrolled": true,
    "tags": []
   },
   "outputs": [],
   "source": [
    "suppressMessages(library(hdf5r)) \n",
    "suppressMessages(library(Seurat))\n",
    "suppressMessages(library(DESeq2))\n",
    "\n",
    "suppressMessages(library(dplyr)) \n",
    "suppressMessages(library(ggplot2))\n",
    "suppressMessages(library(ggpubr)) \n",
    "\n",
    "suppressMessages(library(Matrix)) \n",
    "suppressMessages(library(data.table))\n",
    "suppressMessages(library(future)) \n",
    "suppressMessages(library(stringr))\n",
    "suppressMessages(library(stringi))\n",
    "suppressPackageStartupMessages(library(parallel))\n",
    "suppressPackageStartupMessages(library(readr))\n",
    "\n",
    "suppressMessages(library(enrichR))\n",
    "suppressMessages(library(fgsea))\n",
    "suppressMessages(library(ggrepel))\n",
    "suppressMessages(library(RColorBrewer))\n",
    "suppressMessages(library(shadowtext))\n",
    "suppressMessages(library(forcats))"
   ]
  },
  {
   "cell_type": "code",
   "execution_count": 2,
   "id": "11f24da5",
   "metadata": {
    "tags": []
   },
   "outputs": [],
   "source": [
    "suppressMessages(library(ggplot2))\n",
    "suppressMessages(library(tidyverse))"
   ]
  },
  {
   "cell_type": "markdown",
   "id": "d80f000d",
   "metadata": {},
   "source": [
    "# Basic Inputs"
   ]
  },
  {
   "cell_type": "code",
   "execution_count": 3,
   "id": "0cd356b4",
   "metadata": {
    "tags": []
   },
   "outputs": [
    {
     "data": {
      "text/html": [
       "27"
      ],
      "text/latex": [
       "27"
      ],
      "text/markdown": [
       "27"
      ],
      "text/plain": [
       "[1] 27"
      ]
     },
     "metadata": {},
     "output_type": "display_data"
    },
    {
     "data": {
      "text/html": [
       "27"
      ],
      "text/latex": [
       "27"
      ],
      "text/markdown": [
       "27"
      ],
      "text/plain": [
       "[1] 27"
      ]
     },
     "metadata": {},
     "output_type": "display_data"
    }
   ],
   "source": [
    "alberta_samples <- c('R207','R217','R218','R221','R223',\n",
    "                      'R226','R228','R234','R237','R238',\n",
    "                      'R246', 'R247', 'R275', 'R284', \n",
    "                      'R290', 'R292', 'R316', 'R317', 'R319',\n",
    "                      'R325','R326','R327','R332',\n",
    "                      'R353','R354','R362','R363','R364')\n",
    "\n",
    "hpap_samples_rna <- c('HPAP-022','HPAP-026','HPAP-034','HPAP-035','HPAP-036',\n",
    "                  'HPAP-037','HPAP-039','HPAP-040','HPAP-042','HPAP-044',\n",
    "                  'HPAP-047','HPAP-052','HPAP-053','HPAP-054','HPAP-056',\n",
    "                  'HPAP-059','HPAP-063','HPAP-074','HPAP-075','HPAP-077',\n",
    "                  'HPAP-080','HPAP-082','HPAP-099','HPAP-101','HPAP-103',\n",
    "                  'HPAP-104','HPAP-105')\n",
    "length(hpap_samples_rna)\n",
    "\n",
    "hpap_samples_atac <- c('HPAP-035','HPAP-036','HPAP-039','HPAP-040','HPAP-044',\n",
    "                       'HPAP-045','HPAP-047','HPAP-049','HPAP-050','HPAP-052',\n",
    "                       'HPAP-053','HPAP-054','HPAP-056','HPAP-059','HPAP-063',\n",
    "                       'HPAP-067','HPAP-069','HPAP-072','HPAP-075','HPAP-077',\n",
    "                       'HPAP-080','HPAP-092','HPAP-099','HPAP-101','HPAP-103',\n",
    "                       'HPAP-104','HPAP-105')\n",
    "length(hpap_samples_atac)"
   ]
  },
  {
   "cell_type": "code",
   "execution_count": 4,
   "id": "50487c3a",
   "metadata": {
    "tags": []
   },
   "outputs": [
    {
     "data": {
      "text/html": [
       "34"
      ],
      "text/latex": [
       "34"
      ],
      "text/markdown": [
       "34"
      ],
      "text/plain": [
       "[1] 34"
      ]
     },
     "metadata": {},
     "output_type": "display_data"
    }
   ],
   "source": [
    "hpap_samples_all <- sort(unique(c(hpap_samples_rna,hpap_samples_atac)))\n",
    "length(hpap_samples_all)"
   ]
  },
  {
   "cell_type": "code",
   "execution_count": 29,
   "id": "3eaab1b8",
   "metadata": {
    "tags": []
   },
   "outputs": [],
   "source": [
    "outdir <- '/overall/dir/to/save/phenotype/association/outputs/to'"
   ]
  },
  {
   "cell_type": "code",
   "execution_count": 30,
   "id": "89c59095",
   "metadata": {
    "tags": []
   },
   "outputs": [],
   "source": [
    "joint_celltypes <- c('beta', 'alpha', 'delta', 'gamma', 'acinar','ductal', 'endothelial', 'immune','stellate')"
   ]
  },
  {
   "cell_type": "markdown",
   "id": "2eeb42f5",
   "metadata": {
    "tags": []
   },
   "source": [
    "# 1. Read in Seurat objects (Alberta and HPAP)"
   ]
  },
  {
   "cell_type": "markdown",
   "id": "93ed5df1",
   "metadata": {
    "tags": []
   },
   "source": [
    "## Alberta"
   ]
  },
  {
   "cell_type": "code",
   "execution_count": 6,
   "id": "a4062f93",
   "metadata": {
    "tags": []
   },
   "outputs": [
    {
     "name": "stderr",
     "output_type": "stream",
     "text": [
      "Loading required package: Signac\n",
      "\n"
     ]
    },
    {
     "data": {
      "text/plain": [
       "An object of class Seurat \n",
       "571775 features across 174819 samples within 4 assays \n",
       "Active assay: ATAC (210485 features, 210485 variable features)\n",
       " 3 other assays present: RNA, SCT, ATAC_CTpeaks\n",
       " 7 dimensional reductions calculated: pca, harmony.rna, umap.rna, lsi, harmony.atac, umap.atac, umap.wnn"
      ]
     },
     "metadata": {},
     "output_type": "display_data"
    }
   ],
   "source": [
    "#read in the adata object \n",
    "rds_fp = '/path/to/Alberta/multiome/final_object.rds'\n",
    "adata1 = readRDS(rds_fp)\n",
    "adata1"
   ]
  },
  {
   "cell_type": "code",
   "execution_count": 8,
   "id": "57984799",
   "metadata": {
    "tags": []
   },
   "outputs": [
    {
     "data": {
      "text/plain": [
       "\n",
       "     acinar       alpha        beta       delta      ductal endothelial \n",
       "      27387       44500       81100        8911        5452         342 \n",
       "      gamma      immune    stellate \n",
       "       5504         633         990 "
      ]
     },
     "metadata": {},
     "output_type": "display_data"
    }
   ],
   "source": [
    "table(adata1$major_celltypes_fin)"
   ]
  },
  {
   "cell_type": "markdown",
   "id": "e70dd9b7",
   "metadata": {
    "tags": []
   },
   "source": [
    "### HPAP RNA"
   ]
  },
  {
   "cell_type": "code",
   "execution_count": 42,
   "id": "95150e62",
   "metadata": {
    "tags": []
   },
   "outputs": [
    {
     "data": {
      "text/plain": [
       "An object of class Seurat \n",
       "36601 features across 192203 samples within 1 assay \n",
       "Active assay: RNA (36601 features, 2000 variable features)\n",
       " 3 dimensional reductions calculated: pca, harmony, umap"
      ]
     },
     "metadata": {},
     "output_type": "display_data"
    }
   ],
   "source": [
    "#read in hpap object\n",
    "rds_fp2 <- '/path/to/HPAP/RNA/final_object.rds'\n",
    "adata2 <- readRDS(rds_fp2)\n",
    "adata2"
   ]
  },
  {
   "cell_type": "code",
   "execution_count": 43,
   "id": "93f686db",
   "metadata": {
    "tags": []
   },
   "outputs": [
    {
     "data": {
      "text/plain": [
       "An object of class Seurat \n",
       "36601 features across 71871 samples within 1 assay \n",
       "Active assay: RNA (36601 features, 2000 variable features)\n",
       " 3 dimensional reductions calculated: pca, harmony, umap"
      ]
     },
     "metadata": {},
     "output_type": "display_data"
    }
   ],
   "source": [
    "# subset down to the ND samples\n",
    "adata2_nd <- subset(adata2, subset=Diabetes_Status_w_AAB=='ND')\n",
    "adata2_nd"
   ]
  },
  {
   "cell_type": "code",
   "execution_count": 44,
   "id": "fe44486d",
   "metadata": {
    "scrolled": true,
    "tags": []
   },
   "outputs": [],
   "source": [
    "#rename celltypes to match the alberta ones -- combine mast and macrophage into immune\n",
    "celltype_map <- unique(adata2_nd$cell_type)\n",
    "new_celltypes <- c('alpha','alpha+beta','stellate','stellate','endothelial','delta',\n",
    "                   'beta','gamma','immune', 'ductal','acinar','alpha','ductal','immune')\n",
    "names(celltype_map) <- new_celltypes\n",
    "adata2_nd$matched_celltype <- plyr::mapvalues(adata2_nd$cell_type, from=celltype_map, to=names(celltype_map))"
   ]
  },
  {
   "cell_type": "code",
   "execution_count": 45,
   "id": "69dfc87d",
   "metadata": {
    "tags": []
   },
   "outputs": [
    {
     "data": {
      "text/plain": [
       "\n",
       "TRUE \n",
       "  27 "
      ]
     },
     "metadata": {},
     "output_type": "display_data"
    }
   ],
   "source": [
    "table(unique(adata2_nd$library) %in% hpap_samples_rna)"
   ]
  },
  {
   "cell_type": "markdown",
   "id": "0670965e",
   "metadata": {
    "tags": []
   },
   "source": [
    "### HPAP ATAC"
   ]
  },
  {
   "cell_type": "code",
   "execution_count": 46,
   "id": "2cd6632e",
   "metadata": {
    "tags": []
   },
   "outputs": [
    {
     "data": {
      "text/plain": [
       "An object of class Seurat \n",
       "1303997 features across 97837 samples within 4 assays \n",
       "Active assay: ATAC_peaks (481311 features, 481311 variable features)\n",
       " 3 other assays present: RNA, Final_Peaks, Unified_Peaks\n",
       " 3 dimensional reductions calculated: lsi, harmony.atac, umap.atac"
      ]
     },
     "metadata": {},
     "output_type": "display_data"
    }
   ],
   "source": [
    "#read in hpap object\n",
    "rds_fp3 <- '/path/to/HPAP/ATAC/final_object.rds'\n",
    "adata3 <- readRDS(rds_fp3)\n",
    "adata3"
   ]
  },
  {
   "cell_type": "code",
   "execution_count": 47,
   "id": "3351e125",
   "metadata": {
    "tags": []
   },
   "outputs": [
    {
     "data": {
      "text/plain": [
       "An object of class Seurat \n",
       "1303997 features across 66872 samples within 4 assays \n",
       "Active assay: ATAC_peaks (481311 features, 481311 variable features)\n",
       " 3 other assays present: RNA, Final_Peaks, Unified_Peaks\n",
       " 3 dimensional reductions calculated: lsi, harmony.atac, umap.atac"
      ]
     },
     "metadata": {},
     "output_type": "display_data"
    }
   ],
   "source": [
    "# subset down to the ND samples\n",
    "adata3_nd <- subset(adata3, subset=condition=='Control')\n",
    "adata3_nd"
   ]
  },
  {
   "cell_type": "code",
   "execution_count": 48,
   "id": "be3fb769",
   "metadata": {
    "tags": []
   },
   "outputs": [],
   "source": [
    "#rename celltypes to match the alberta ones -- combine mast and macrophage into immune\n",
    "celltype_map <- unique(adata3_nd$Cell.Type)\n",
    "new_celltypes <- c('acinar','ductal','alpha','beta','delta','immune','gamma',\n",
    "                   'stellate','stellate','stellate','endothelial','ductal')\n",
    "names(celltype_map) <- new_celltypes\n",
    "adata3_nd$matched_celltype <- plyr::mapvalues(adata3_nd$Cell.Type, from=celltype_map, to=names(celltype_map))"
   ]
  },
  {
   "cell_type": "code",
   "execution_count": 50,
   "id": "d85a2600",
   "metadata": {
    "tags": []
   },
   "outputs": [
    {
     "data": {
      "text/plain": [
       "\n",
       "TRUE \n",
       "  27 "
      ]
     },
     "metadata": {},
     "output_type": "display_data"
    }
   ],
   "source": [
    "table(unique(adata3_nd$library) %in% hpap_samples_atac)"
   ]
  },
  {
   "cell_type": "markdown",
   "id": "594c491d",
   "metadata": {
    "tags": []
   },
   "source": [
    "# 2. Metadata Preparation for each dataset"
   ]
  },
  {
   "cell_type": "markdown",
   "id": "0c5b1475",
   "metadata": {
    "tags": []
   },
   "source": [
    "## Alberta samples"
   ]
  },
  {
   "cell_type": "markdown",
   "id": "47d8f22e",
   "metadata": {},
   "source": [
    "### Read in phenotype metadata"
   ]
  },
  {
   "cell_type": "code",
   "execution_count": 97,
   "id": "ffdda10d",
   "metadata": {
    "tags": []
   },
   "outputs": [
    {
     "data": {
      "text/html": [
       "<table class=\"dataframe\">\n",
       "<caption>A data.frame: 6 × 5</caption>\n",
       "<thead>\n",
       "\t<tr><th></th><th scope=col>age</th><th scope=col>sex</th><th scope=col>BMI</th><th scope=col>HbA1c</th><th scope=col>culture_time</th></tr>\n",
       "\t<tr><th></th><th scope=col>&lt;int&gt;</th><th scope=col>&lt;chr&gt;</th><th scope=col>&lt;dbl&gt;</th><th scope=col>&lt;dbl&gt;</th><th scope=col>&lt;dbl&gt;</th></tr>\n",
       "</thead>\n",
       "<tbody>\n",
       "\t<tr><th scope=row>R207</th><td>50</td><td>Female</td><td>22.2</td><td> NA</td><td> 70</td></tr>\n",
       "\t<tr><th scope=row>R217</th><td>71</td><td>Female</td><td>35.5</td><td>6.3</td><td> 15</td></tr>\n",
       "\t<tr><th scope=row>R218</th><td>73</td><td>Female</td><td>28.4</td><td>5.9</td><td> 70</td></tr>\n",
       "\t<tr><th scope=row>R221</th><td>44</td><td>Male  </td><td>30.5</td><td>5.3</td><td>136</td></tr>\n",
       "\t<tr><th scope=row>R223</th><td>54</td><td>Male  </td><td>27.0</td><td>5.8</td><td> 64</td></tr>\n",
       "\t<tr><th scope=row>R226</th><td>30</td><td>Female</td><td>32.3</td><td>4.9</td><td> 16</td></tr>\n",
       "</tbody>\n",
       "</table>\n"
      ],
      "text/latex": [
       "A data.frame: 6 × 5\n",
       "\\begin{tabular}{r|lllll}\n",
       "  & age & sex & BMI & HbA1c & culture\\_time\\\\\n",
       "  & <int> & <chr> & <dbl> & <dbl> & <dbl>\\\\\n",
       "\\hline\n",
       "\tR207 & 50 & Female & 22.2 &  NA &  70\\\\\n",
       "\tR217 & 71 & Female & 35.5 & 6.3 &  15\\\\\n",
       "\tR218 & 73 & Female & 28.4 & 5.9 &  70\\\\\n",
       "\tR221 & 44 & Male   & 30.5 & 5.3 & 136\\\\\n",
       "\tR223 & 54 & Male   & 27.0 & 5.8 &  64\\\\\n",
       "\tR226 & 30 & Female & 32.3 & 4.9 &  16\\\\\n",
       "\\end{tabular}\n"
      ],
      "text/markdown": [
       "\n",
       "A data.frame: 6 × 5\n",
       "\n",
       "| <!--/--> | age &lt;int&gt; | sex &lt;chr&gt; | BMI &lt;dbl&gt; | HbA1c &lt;dbl&gt; | culture_time &lt;dbl&gt; |\n",
       "|---|---|---|---|---|---|\n",
       "| R207 | 50 | Female | 22.2 |  NA |  70 |\n",
       "| R217 | 71 | Female | 35.5 | 6.3 |  15 |\n",
       "| R218 | 73 | Female | 28.4 | 5.9 |  70 |\n",
       "| R221 | 44 | Male   | 30.5 | 5.3 | 136 |\n",
       "| R223 | 54 | Male   | 27.0 | 5.8 |  64 |\n",
       "| R226 | 30 | Female | 32.3 | 4.9 |  16 |\n",
       "\n"
      ],
      "text/plain": [
       "     age sex    BMI  HbA1c culture_time\n",
       "R207 50  Female 22.2  NA    70         \n",
       "R217 71  Female 35.5 6.3    15         \n",
       "R218 73  Female 28.4 5.9    70         \n",
       "R221 44  Male   30.5 5.3   136         \n",
       "R223 54  Male   27.0 5.8    64         \n",
       "R226 30  Female 32.3 4.9    16         "
      ]
     },
     "metadata": {},
     "output_type": "display_data"
    }
   ],
   "source": [
    "#read in extended Alberta donor metadata\n",
    "meta_dir <- '/path/to/alberta/sample/metadata'\n",
    "fp <- file.path(meta_dir, 'donor_metadata_combined.tsv')\n",
    "meta <- as.data.frame(fread(fp, sep='\\t', header=TRUE))\n",
    "\n",
    "#change colnames to be more R friendly\n",
    "init_names <- colnames(meta)\n",
    "colnames(meta) <- tolower(stri_replace_all_regex(gsub(r\"{\\s*\\([^\\)]+\\)}\",\"\",colnames(meta)),\n",
    "                                                 pattern=c(' ', '%', ',', ':','-','/'), \n",
    "                                                 replacement=c('_','pct','','','_','_div_'), vectorize=FALSE))\n",
    "meta_names <- init_names\n",
    "names(meta_names) <- colnames(meta)\n",
    "\n",
    "#remove rows for samples we removed\n",
    "meta2 <- meta[meta$record_id %in% alberta_samples,]\n",
    "\n",
    "#remove unnecessary columns from meta\n",
    "rm_cols <- c('rrid','known_medical_condition', 'was_the_tissue_purified?', \n",
    "             'excellent_pct','good_pct','fair_pct','poor_pct', \n",
    "             'ieq_per_cryopreservation_tube','number_of_cryopreserved_tubes_remaining',\n",
    "             'ieq_per_cryopreservation_tube.1','number_of_snap_frozen_tubes_remaining',\n",
    "             'is_an_embedded_biopsy_available_for_this_donor?', 'are_embedded_islets_available_for_this_donor?')\n",
    "meta_cut <- meta2[,!colnames(meta2) %in% rm_cols]\n",
    "\n",
    "meta1 <- meta_cut[,-1]\n",
    "row.names(meta1) <- meta_cut$record_id\n",
    "meta1$library <- row.names(meta1)\n",
    "\n",
    "#shorten names for bmi and hba1c\n",
    "colnames(meta1)[6] <- 'BMI'\n",
    "colnames(meta1)[7] <- 'HbA1c'\n",
    "\n",
    "#cut down to measurements of interest\n",
    "meta1_cut <- select(meta1, age, sex, BMI, HbA1c, culture_time)\n",
    "head(meta1_cut)"
   ]
  },
  {
   "cell_type": "markdown",
   "id": "03fea79b",
   "metadata": {},
   "source": [
    "### Calculate additional sample level covariates for Alberta samples\n",
    "- For both\n",
    "    - Proportion of beta cells \n",
    "    - Total cells per donor\n",
    "    - Number of cells per cell type\n",
    "- RNA\n",
    "    - Mean genes per cell type\n",
    "- ATAC\n",
    "    - Average TSSe"
   ]
  },
  {
   "cell_type": "code",
   "execution_count": 98,
   "id": "0439dade",
   "metadata": {
    "tags": []
   },
   "outputs": [
    {
     "data": {
      "text/html": [
       "<table class=\"dataframe\">\n",
       "<caption>A data.frame: 6 × 4</caption>\n",
       "<thead>\n",
       "\t<tr><th></th><th scope=col>beta_prop_rna</th><th scope=col>beta_prop_atac</th><th scope=col>num_cells_rna</th><th scope=col>num_cells_atac</th></tr>\n",
       "\t<tr><th></th><th scope=col>&lt;dbl&gt;</th><th scope=col>&lt;dbl&gt;</th><th scope=col>&lt;int&gt;</th><th scope=col>&lt;int&gt;</th></tr>\n",
       "</thead>\n",
       "<tbody>\n",
       "\t<tr><th scope=row>R207</th><td>0.5168054</td><td>0.5168054</td><td>6248</td><td>6248</td></tr>\n",
       "\t<tr><th scope=row>R217</th><td>0.2546716</td><td>0.2546716</td><td>5619</td><td>5619</td></tr>\n",
       "\t<tr><th scope=row>R218</th><td>0.6887661</td><td>0.6887661</td><td>2172</td><td>2172</td></tr>\n",
       "\t<tr><th scope=row>R221</th><td>0.2156263</td><td>0.2156263</td><td>4902</td><td>4902</td></tr>\n",
       "\t<tr><th scope=row>R223</th><td>0.5443796</td><td>0.5443796</td><td>6343</td><td>6343</td></tr>\n",
       "\t<tr><th scope=row>R226</th><td>0.5523939</td><td>0.5523939</td><td>5869</td><td>5869</td></tr>\n",
       "</tbody>\n",
       "</table>\n"
      ],
      "text/latex": [
       "A data.frame: 6 × 4\n",
       "\\begin{tabular}{r|llll}\n",
       "  & beta\\_prop\\_rna & beta\\_prop\\_atac & num\\_cells\\_rna & num\\_cells\\_atac\\\\\n",
       "  & <dbl> & <dbl> & <int> & <int>\\\\\n",
       "\\hline\n",
       "\tR207 & 0.5168054 & 0.5168054 & 6248 & 6248\\\\\n",
       "\tR217 & 0.2546716 & 0.2546716 & 5619 & 5619\\\\\n",
       "\tR218 & 0.6887661 & 0.6887661 & 2172 & 2172\\\\\n",
       "\tR221 & 0.2156263 & 0.2156263 & 4902 & 4902\\\\\n",
       "\tR223 & 0.5443796 & 0.5443796 & 6343 & 6343\\\\\n",
       "\tR226 & 0.5523939 & 0.5523939 & 5869 & 5869\\\\\n",
       "\\end{tabular}\n"
      ],
      "text/markdown": [
       "\n",
       "A data.frame: 6 × 4\n",
       "\n",
       "| <!--/--> | beta_prop_rna &lt;dbl&gt; | beta_prop_atac &lt;dbl&gt; | num_cells_rna &lt;int&gt; | num_cells_atac &lt;int&gt; |\n",
       "|---|---|---|---|---|\n",
       "| R207 | 0.5168054 | 0.5168054 | 6248 | 6248 |\n",
       "| R217 | 0.2546716 | 0.2546716 | 5619 | 5619 |\n",
       "| R218 | 0.6887661 | 0.6887661 | 2172 | 2172 |\n",
       "| R221 | 0.2156263 | 0.2156263 | 4902 | 4902 |\n",
       "| R223 | 0.5443796 | 0.5443796 | 6343 | 6343 |\n",
       "| R226 | 0.5523939 | 0.5523939 | 5869 | 5869 |\n",
       "\n"
      ],
      "text/plain": [
       "     beta_prop_rna beta_prop_atac num_cells_rna num_cells_atac\n",
       "R207 0.5168054     0.5168054      6248          6248          \n",
       "R217 0.2546716     0.2546716      5619          5619          \n",
       "R218 0.6887661     0.6887661      2172          2172          \n",
       "R221 0.2156263     0.2156263      4902          4902          \n",
       "R223 0.5443796     0.5443796      6343          6343          \n",
       "R226 0.5523939     0.5523939      5869          5869          "
      ]
     },
     "metadata": {},
     "output_type": "display_data"
    }
   ],
   "source": [
    "#calculate proportion of beta cells\n",
    "raw_cts <- as.data.frame(table(adata1@meta.data$major_celltypes_fin, adata1@meta.data$library)) %>%\n",
    "            reshape(idvar='Var1', timevar='Var2', direction='wide')\n",
    "row.names(raw_cts) <- raw_cts$Var1\n",
    "raw_cts <- raw_cts[,-1]\n",
    "prop_cts <- sweep(raw_cts, 2, colSums(raw_cts), `/`)\n",
    "colnames(prop_cts) <- gsub('Freq.','',colnames(prop_cts))\n",
    "\n",
    "#now convert this to a long format\n",
    "long_prop_cts <- tibble::rownames_to_column(prop_cts, var='ct') %>% tidyr::pivot_longer(-ct, names_to='library', values_to='prop')\n",
    "long_prop_cts$pc <- 100 * long_prop_cts$prop\n",
    "\n",
    "#arrange into a dataframe with other info\n",
    "beta_prop <- unlist(prop_cts['beta',])\n",
    "num_cells <- as.vector(table(adata1$library))\n",
    "prop_data1 <- data.frame(beta_prop_rna=beta_prop, beta_prop_atac=beta_prop, num_cells_rna=num_cells, num_cells_atac=num_cells)\n",
    "head(prop_data1)"
   ]
  },
  {
   "cell_type": "code",
   "execution_count": 99,
   "id": "aee6e98e",
   "metadata": {
    "tags": []
   },
   "outputs": [
    {
     "data": {
      "text/html": [
       "<table class=\"dataframe\">\n",
       "<caption>A data.frame: 6 × 9</caption>\n",
       "<thead>\n",
       "\t<tr><th></th><th scope=col>beta_cells</th><th scope=col>alpha_cells</th><th scope=col>delta_cells</th><th scope=col>gamma_cells</th><th scope=col>acinar_cells</th><th scope=col>ductal_cells</th><th scope=col>endothelial_cells</th><th scope=col>immune_cells</th><th scope=col>stellate_cells</th></tr>\n",
       "\t<tr><th></th><th scope=col>&lt;int&gt;</th><th scope=col>&lt;int&gt;</th><th scope=col>&lt;int&gt;</th><th scope=col>&lt;int&gt;</th><th scope=col>&lt;int&gt;</th><th scope=col>&lt;int&gt;</th><th scope=col>&lt;int&gt;</th><th scope=col>&lt;int&gt;</th><th scope=col>&lt;int&gt;</th></tr>\n",
       "</thead>\n",
       "<tbody>\n",
       "\t<tr><th scope=row>R207</th><td>3229</td><td>2025</td><td>217</td><td> 99</td><td> 580</td><td> 45</td><td>8</td><td>33</td><td>12</td></tr>\n",
       "\t<tr><th scope=row>R217</th><td>1431</td><td> 348</td><td>150</td><td>569</td><td>2489</td><td>614</td><td>2</td><td>10</td><td> 6</td></tr>\n",
       "\t<tr><th scope=row>R218</th><td>1496</td><td> 227</td><td>133</td><td> 83</td><td> 165</td><td> 52</td><td>2</td><td> 4</td><td>10</td></tr>\n",
       "\t<tr><th scope=row>R221</th><td>1057</td><td> 905</td><td>183</td><td> 44</td><td>2389</td><td>294</td><td>8</td><td> 5</td><td>17</td></tr>\n",
       "\t<tr><th scope=row>R223</th><td>3453</td><td>1616</td><td>225</td><td>101</td><td> 711</td><td>203</td><td>7</td><td> 8</td><td>19</td></tr>\n",
       "\t<tr><th scope=row>R226</th><td>3242</td><td>1492</td><td>193</td><td> 79</td><td> 815</td><td> 34</td><td>2</td><td> 4</td><td> 8</td></tr>\n",
       "</tbody>\n",
       "</table>\n"
      ],
      "text/latex": [
       "A data.frame: 6 × 9\n",
       "\\begin{tabular}{r|lllllllll}\n",
       "  & beta\\_cells & alpha\\_cells & delta\\_cells & gamma\\_cells & acinar\\_cells & ductal\\_cells & endothelial\\_cells & immune\\_cells & stellate\\_cells\\\\\n",
       "  & <int> & <int> & <int> & <int> & <int> & <int> & <int> & <int> & <int>\\\\\n",
       "\\hline\n",
       "\tR207 & 3229 & 2025 & 217 &  99 &  580 &  45 & 8 & 33 & 12\\\\\n",
       "\tR217 & 1431 &  348 & 150 & 569 & 2489 & 614 & 2 & 10 &  6\\\\\n",
       "\tR218 & 1496 &  227 & 133 &  83 &  165 &  52 & 2 &  4 & 10\\\\\n",
       "\tR221 & 1057 &  905 & 183 &  44 & 2389 & 294 & 8 &  5 & 17\\\\\n",
       "\tR223 & 3453 & 1616 & 225 & 101 &  711 & 203 & 7 &  8 & 19\\\\\n",
       "\tR226 & 3242 & 1492 & 193 &  79 &  815 &  34 & 2 &  4 &  8\\\\\n",
       "\\end{tabular}\n"
      ],
      "text/markdown": [
       "\n",
       "A data.frame: 6 × 9\n",
       "\n",
       "| <!--/--> | beta_cells &lt;int&gt; | alpha_cells &lt;int&gt; | delta_cells &lt;int&gt; | gamma_cells &lt;int&gt; | acinar_cells &lt;int&gt; | ductal_cells &lt;int&gt; | endothelial_cells &lt;int&gt; | immune_cells &lt;int&gt; | stellate_cells &lt;int&gt; |\n",
       "|---|---|---|---|---|---|---|---|---|---|\n",
       "| R207 | 3229 | 2025 | 217 |  99 |  580 |  45 | 8 | 33 | 12 |\n",
       "| R217 | 1431 |  348 | 150 | 569 | 2489 | 614 | 2 | 10 |  6 |\n",
       "| R218 | 1496 |  227 | 133 |  83 |  165 |  52 | 2 |  4 | 10 |\n",
       "| R221 | 1057 |  905 | 183 |  44 | 2389 | 294 | 8 |  5 | 17 |\n",
       "| R223 | 3453 | 1616 | 225 | 101 |  711 | 203 | 7 |  8 | 19 |\n",
       "| R226 | 3242 | 1492 | 193 |  79 |  815 |  34 | 2 |  4 |  8 |\n",
       "\n"
      ],
      "text/plain": [
       "     beta_cells alpha_cells delta_cells gamma_cells acinar_cells ductal_cells\n",
       "R207 3229       2025        217          99          580          45         \n",
       "R217 1431        348        150         569         2489         614         \n",
       "R218 1496        227        133          83          165          52         \n",
       "R221 1057        905        183          44         2389         294         \n",
       "R223 3453       1616        225         101          711         203         \n",
       "R226 3242       1492        193          79          815          34         \n",
       "     endothelial_cells immune_cells stellate_cells\n",
       "R207 8                 33           12            \n",
       "R217 2                 10            6            \n",
       "R218 2                  4           10            \n",
       "R221 8                  5           17            \n",
       "R223 7                  8           19            \n",
       "R226 2                  4            8            "
      ]
     },
     "metadata": {},
     "output_type": "display_data"
    }
   ],
   "source": [
    "#add in # cells per cell type info to metadata\n",
    "results <- as.data.frame(table(adata1$library, adata1$major_celltypes_fin)) %>%\n",
    "                reshape(idvar='Var1', timevar='Var2', direction='wide')\n",
    "row.names(results) <- results$Var1\n",
    "results <- results %>% select(-Var1)\n",
    "colnames(results) <- paste0(gsub('Freq.','',colnames(results)),'_cells')\n",
    "col_order <- paste0(joint_celltypes, '_cells')\n",
    "results <- results %>% select(all_of(col_order))\n",
    "head(results)\n",
    "\n",
    "results1 <- copy(results)\n",
    "colnames(results1) <- paste0(colnames(results1),'_rna')\n",
    "\n",
    "results2 <- copy(results)\n",
    "colnames(results2) <- paste0(colnames(results2),'_atac')"
   ]
  },
  {
   "cell_type": "code",
   "execution_count": 100,
   "id": "e2d83f47",
   "metadata": {
    "tags": []
   },
   "outputs": [],
   "source": [
    "### Function to calculate mean_genes per sample for a cell type in an adata object\n",
    "### Basically just average of nFeature_RNA for a celltype and sample pair\n",
    "calc_mean_genes <- function(adata, celltypes, samples, celltype_col){\n",
    "    # Collect mean of nFeature_RNA across samples and cell types\n",
    "    mean_genes <- list()\n",
    "    for (celltype in celltypes){\n",
    "        gene_number <- c()\n",
    "        for (sample in samples){\n",
    "            cut_df <- adata@meta.data[adata@meta.data[,celltype_col] == celltype & adata@meta.data$library == sample,]\n",
    "            gene_number <- c(gene_number, mean(cut_df$nFeature_RNA))\n",
    "        }\n",
    "        mean_genes[[celltype]] <- gene_number\n",
    "    }\n",
    "\n",
    "    # Format results as a df\n",
    "    mean_genes_df <- as.data.frame(do.call(cbind, mean_genes))\n",
    "    row.names(mean_genes_df) <- samples\n",
    "    colnames(mean_genes_df) <- paste0(celltypes, '_mean_genes')\n",
    "    return(mean_genes_df)\n",
    "}"
   ]
  },
  {
   "cell_type": "code",
   "execution_count": 101,
   "id": "5b3ffecf",
   "metadata": {
    "tags": []
   },
   "outputs": [
    {
     "data": {
      "text/html": [
       "<table class=\"dataframe\">\n",
       "<caption>A data.frame: 6 × 9</caption>\n",
       "<thead>\n",
       "\t<tr><th></th><th scope=col>beta_mean_genes</th><th scope=col>alpha_mean_genes</th><th scope=col>delta_mean_genes</th><th scope=col>gamma_mean_genes</th><th scope=col>acinar_mean_genes</th><th scope=col>ductal_mean_genes</th><th scope=col>endothelial_mean_genes</th><th scope=col>immune_mean_genes</th><th scope=col>stellate_mean_genes</th></tr>\n",
       "\t<tr><th></th><th scope=col>&lt;dbl&gt;</th><th scope=col>&lt;dbl&gt;</th><th scope=col>&lt;dbl&gt;</th><th scope=col>&lt;dbl&gt;</th><th scope=col>&lt;dbl&gt;</th><th scope=col>&lt;dbl&gt;</th><th scope=col>&lt;dbl&gt;</th><th scope=col>&lt;dbl&gt;</th><th scope=col>&lt;dbl&gt;</th></tr>\n",
       "</thead>\n",
       "<tbody>\n",
       "\t<tr><th scope=row>R207</th><td>2461.714</td><td>2194.071</td><td>2378.373</td><td>2086.808</td><td>1462.876</td><td>1842.333</td><td>1304.000</td><td>1118.606</td><td>1314.583</td></tr>\n",
       "\t<tr><th scope=row>R217</th><td>2545.581</td><td>2296.241</td><td>2301.960</td><td>2353.497</td><td>1800.699</td><td>1868.313</td><td>1578.500</td><td>1458.000</td><td>1771.000</td></tr>\n",
       "\t<tr><th scope=row>R218</th><td>1960.642</td><td>1809.938</td><td>1901.744</td><td>1472.627</td><td>1199.855</td><td>1384.827</td><td>1503.500</td><td> 910.250</td><td>1505.200</td></tr>\n",
       "\t<tr><th scope=row>R221</th><td>1951.037</td><td>1973.824</td><td>2066.421</td><td>1581.727</td><td>1315.754</td><td>1625.554</td><td>1376.625</td><td>1460.600</td><td>1243.706</td></tr>\n",
       "\t<tr><th scope=row>R223</th><td>2690.103</td><td>2312.497</td><td>2464.196</td><td>2330.564</td><td>1562.639</td><td>1854.044</td><td>1592.143</td><td>1568.125</td><td>1826.053</td></tr>\n",
       "\t<tr><th scope=row>R226</th><td>2923.349</td><td>2535.351</td><td>2881.332</td><td>2677.658</td><td>1516.972</td><td>2238.235</td><td>1328.000</td><td>2198.750</td><td>1739.250</td></tr>\n",
       "</tbody>\n",
       "</table>\n"
      ],
      "text/latex": [
       "A data.frame: 6 × 9\n",
       "\\begin{tabular}{r|lllllllll}\n",
       "  & beta\\_mean\\_genes & alpha\\_mean\\_genes & delta\\_mean\\_genes & gamma\\_mean\\_genes & acinar\\_mean\\_genes & ductal\\_mean\\_genes & endothelial\\_mean\\_genes & immune\\_mean\\_genes & stellate\\_mean\\_genes\\\\\n",
       "  & <dbl> & <dbl> & <dbl> & <dbl> & <dbl> & <dbl> & <dbl> & <dbl> & <dbl>\\\\\n",
       "\\hline\n",
       "\tR207 & 2461.714 & 2194.071 & 2378.373 & 2086.808 & 1462.876 & 1842.333 & 1304.000 & 1118.606 & 1314.583\\\\\n",
       "\tR217 & 2545.581 & 2296.241 & 2301.960 & 2353.497 & 1800.699 & 1868.313 & 1578.500 & 1458.000 & 1771.000\\\\\n",
       "\tR218 & 1960.642 & 1809.938 & 1901.744 & 1472.627 & 1199.855 & 1384.827 & 1503.500 &  910.250 & 1505.200\\\\\n",
       "\tR221 & 1951.037 & 1973.824 & 2066.421 & 1581.727 & 1315.754 & 1625.554 & 1376.625 & 1460.600 & 1243.706\\\\\n",
       "\tR223 & 2690.103 & 2312.497 & 2464.196 & 2330.564 & 1562.639 & 1854.044 & 1592.143 & 1568.125 & 1826.053\\\\\n",
       "\tR226 & 2923.349 & 2535.351 & 2881.332 & 2677.658 & 1516.972 & 2238.235 & 1328.000 & 2198.750 & 1739.250\\\\\n",
       "\\end{tabular}\n"
      ],
      "text/markdown": [
       "\n",
       "A data.frame: 6 × 9\n",
       "\n",
       "| <!--/--> | beta_mean_genes &lt;dbl&gt; | alpha_mean_genes &lt;dbl&gt; | delta_mean_genes &lt;dbl&gt; | gamma_mean_genes &lt;dbl&gt; | acinar_mean_genes &lt;dbl&gt; | ductal_mean_genes &lt;dbl&gt; | endothelial_mean_genes &lt;dbl&gt; | immune_mean_genes &lt;dbl&gt; | stellate_mean_genes &lt;dbl&gt; |\n",
       "|---|---|---|---|---|---|---|---|---|---|\n",
       "| R207 | 2461.714 | 2194.071 | 2378.373 | 2086.808 | 1462.876 | 1842.333 | 1304.000 | 1118.606 | 1314.583 |\n",
       "| R217 | 2545.581 | 2296.241 | 2301.960 | 2353.497 | 1800.699 | 1868.313 | 1578.500 | 1458.000 | 1771.000 |\n",
       "| R218 | 1960.642 | 1809.938 | 1901.744 | 1472.627 | 1199.855 | 1384.827 | 1503.500 |  910.250 | 1505.200 |\n",
       "| R221 | 1951.037 | 1973.824 | 2066.421 | 1581.727 | 1315.754 | 1625.554 | 1376.625 | 1460.600 | 1243.706 |\n",
       "| R223 | 2690.103 | 2312.497 | 2464.196 | 2330.564 | 1562.639 | 1854.044 | 1592.143 | 1568.125 | 1826.053 |\n",
       "| R226 | 2923.349 | 2535.351 | 2881.332 | 2677.658 | 1516.972 | 2238.235 | 1328.000 | 2198.750 | 1739.250 |\n",
       "\n"
      ],
      "text/plain": [
       "     beta_mean_genes alpha_mean_genes delta_mean_genes gamma_mean_genes\n",
       "R207 2461.714        2194.071         2378.373         2086.808        \n",
       "R217 2545.581        2296.241         2301.960         2353.497        \n",
       "R218 1960.642        1809.938         1901.744         1472.627        \n",
       "R221 1951.037        1973.824         2066.421         1581.727        \n",
       "R223 2690.103        2312.497         2464.196         2330.564        \n",
       "R226 2923.349        2535.351         2881.332         2677.658        \n",
       "     acinar_mean_genes ductal_mean_genes endothelial_mean_genes\n",
       "R207 1462.876          1842.333          1304.000              \n",
       "R217 1800.699          1868.313          1578.500              \n",
       "R218 1199.855          1384.827          1503.500              \n",
       "R221 1315.754          1625.554          1376.625              \n",
       "R223 1562.639          1854.044          1592.143              \n",
       "R226 1516.972          2238.235          1328.000              \n",
       "     immune_mean_genes stellate_mean_genes\n",
       "R207 1118.606          1314.583           \n",
       "R217 1458.000          1771.000           \n",
       "R218  910.250          1505.200           \n",
       "R221 1460.600          1243.706           \n",
       "R223 1568.125          1826.053           \n",
       "R226 2198.750          1739.250           "
      ]
     },
     "metadata": {},
     "output_type": "display_data"
    }
   ],
   "source": [
    "#calculate mean genes for alberta samples\n",
    "alberta_mean_genes <- calc_mean_genes(adata1, joint_celltypes, alberta_samples, 'major_celltypes_fin')\n",
    "head(alberta_mean_genes)"
   ]
  },
  {
   "cell_type": "code",
   "execution_count": 102,
   "id": "284a16f1",
   "metadata": {
    "tags": []
   },
   "outputs": [],
   "source": [
    "### Function to calculate the average of a metadata col per sample (all cell types!)\n",
    "calc_sample_mean <- function(adata, samples, feature_col){\n",
    "    # Collect mean of relevant column across samples and cell types\n",
    "    means <- c()\n",
    "    for(sample in samples){\n",
    "        cut_df <- adata@meta.data[adata@meta.data$library == sample,]\n",
    "        means <- c(means, mean(cut_df[,feature_col]))\n",
    "    }\n",
    "   \n",
    "    #Return the vector\n",
    "    names(means) <- samples\n",
    "    return(means)\n",
    "}"
   ]
  },
  {
   "cell_type": "code",
   "execution_count": 103,
   "id": "1bf26398",
   "metadata": {
    "tags": []
   },
   "outputs": [
    {
     "data": {
      "text/html": [
       "<style>\n",
       ".dl-inline {width: auto; margin:0; padding: 0}\n",
       ".dl-inline>dt, .dl-inline>dd {float: none; width: auto; display: inline-block}\n",
       ".dl-inline>dt::after {content: \":\\0020\"; padding-right: .5ex}\n",
       ".dl-inline>dt:not(:first-of-type) {padding-left: .5ex}\n",
       "</style><dl class=dl-inline><dt>R207</dt><dd>3.45038880246762</dd><dt>R217</dt><dd>3.53050819436901</dd><dt>R218</dt><dd>3.64166721031115</dd><dt>R221</dt><dd>3.79264921240534</dd><dt>R223</dt><dd>2.99231965562187</dd><dt>R226</dt><dd>3.86473056843536</dd></dl>\n"
      ],
      "text/latex": [
       "\\begin{description*}\n",
       "\\item[R207] 3.45038880246762\n",
       "\\item[R217] 3.53050819436901\n",
       "\\item[R218] 3.64166721031115\n",
       "\\item[R221] 3.79264921240534\n",
       "\\item[R223] 2.99231965562187\n",
       "\\item[R226] 3.86473056843536\n",
       "\\end{description*}\n"
      ],
      "text/markdown": [
       "R207\n",
       ":   3.45038880246762R217\n",
       ":   3.53050819436901R218\n",
       ":   3.64166721031115R221\n",
       ":   3.79264921240534R223\n",
       ":   2.99231965562187R226\n",
       ":   3.86473056843536\n",
       "\n"
      ],
      "text/plain": [
       "    R207     R217     R218     R221     R223     R226 \n",
       "3.450389 3.530508 3.641667 3.792649 2.992320 3.864731 "
      ]
     },
     "metadata": {},
     "output_type": "display_data"
    }
   ],
   "source": [
    "#calculate sample level means for TSSe\n",
    "tsse1 <- calc_sample_mean(adata1, alberta_samples, 'TSS.enrichment')\n",
    "head(tsse1)"
   ]
  },
  {
   "cell_type": "code",
   "execution_count": 104,
   "id": "19d88152",
   "metadata": {
    "tags": []
   },
   "outputs": [
    {
     "data": {
      "text/html": [
       "<table class=\"dataframe\">\n",
       "<caption>A data.frame: 6 × 38</caption>\n",
       "<thead>\n",
       "\t<tr><th></th><th scope=col>age</th><th scope=col>sex</th><th scope=col>BMI</th><th scope=col>HbA1c</th><th scope=col>dataset</th><th scope=col>culture_time</th><th scope=col>beta_prop_rna</th><th scope=col>beta_prop_atac</th><th scope=col>num_cells_rna</th><th scope=col>num_cells_atac</th><th scope=col>⋯</th><th scope=col>beta_mean_genes</th><th scope=col>alpha_mean_genes</th><th scope=col>delta_mean_genes</th><th scope=col>gamma_mean_genes</th><th scope=col>acinar_mean_genes</th><th scope=col>ductal_mean_genes</th><th scope=col>endothelial_mean_genes</th><th scope=col>immune_mean_genes</th><th scope=col>stellate_mean_genes</th><th scope=col>tsse</th></tr>\n",
       "\t<tr><th></th><th scope=col>&lt;int&gt;</th><th scope=col>&lt;chr&gt;</th><th scope=col>&lt;dbl&gt;</th><th scope=col>&lt;dbl&gt;</th><th scope=col>&lt;chr&gt;</th><th scope=col>&lt;dbl&gt;</th><th scope=col>&lt;dbl&gt;</th><th scope=col>&lt;dbl&gt;</th><th scope=col>&lt;int&gt;</th><th scope=col>&lt;int&gt;</th><th scope=col>⋯</th><th scope=col>&lt;dbl&gt;</th><th scope=col>&lt;dbl&gt;</th><th scope=col>&lt;dbl&gt;</th><th scope=col>&lt;dbl&gt;</th><th scope=col>&lt;dbl&gt;</th><th scope=col>&lt;dbl&gt;</th><th scope=col>&lt;dbl&gt;</th><th scope=col>&lt;dbl&gt;</th><th scope=col>&lt;dbl&gt;</th><th scope=col>&lt;dbl&gt;</th></tr>\n",
       "</thead>\n",
       "<tbody>\n",
       "\t<tr><th scope=row>R207</th><td>50</td><td>Female</td><td>22.2</td><td> NA</td><td>Alberta</td><td> 70</td><td>0.5168054</td><td>0.5168054</td><td>6248</td><td>6248</td><td>⋯</td><td>2461.714</td><td>2194.071</td><td>2378.373</td><td>2086.808</td><td>1462.876</td><td>1842.333</td><td>1304.000</td><td>1118.606</td><td>1314.583</td><td>3.450389</td></tr>\n",
       "\t<tr><th scope=row>R217</th><td>71</td><td>Female</td><td>35.5</td><td>6.3</td><td>Alberta</td><td> 15</td><td>0.2546716</td><td>0.2546716</td><td>5619</td><td>5619</td><td>⋯</td><td>2545.581</td><td>2296.241</td><td>2301.960</td><td>2353.497</td><td>1800.699</td><td>1868.313</td><td>1578.500</td><td>1458.000</td><td>1771.000</td><td>3.530508</td></tr>\n",
       "\t<tr><th scope=row>R218</th><td>73</td><td>Female</td><td>28.4</td><td>5.9</td><td>Alberta</td><td> 70</td><td>0.6887661</td><td>0.6887661</td><td>2172</td><td>2172</td><td>⋯</td><td>1960.642</td><td>1809.938</td><td>1901.744</td><td>1472.627</td><td>1199.855</td><td>1384.827</td><td>1503.500</td><td> 910.250</td><td>1505.200</td><td>3.641667</td></tr>\n",
       "\t<tr><th scope=row>R221</th><td>44</td><td>Male  </td><td>30.5</td><td>5.3</td><td>Alberta</td><td>136</td><td>0.2156263</td><td>0.2156263</td><td>4902</td><td>4902</td><td>⋯</td><td>1951.037</td><td>1973.824</td><td>2066.421</td><td>1581.727</td><td>1315.754</td><td>1625.554</td><td>1376.625</td><td>1460.600</td><td>1243.706</td><td>3.792649</td></tr>\n",
       "\t<tr><th scope=row>R223</th><td>54</td><td>Male  </td><td>27.0</td><td>5.8</td><td>Alberta</td><td> 64</td><td>0.5443796</td><td>0.5443796</td><td>6343</td><td>6343</td><td>⋯</td><td>2690.103</td><td>2312.497</td><td>2464.196</td><td>2330.564</td><td>1562.639</td><td>1854.044</td><td>1592.143</td><td>1568.125</td><td>1826.053</td><td>2.992320</td></tr>\n",
       "\t<tr><th scope=row>R226</th><td>30</td><td>Female</td><td>32.3</td><td>4.9</td><td>Alberta</td><td> 16</td><td>0.5523939</td><td>0.5523939</td><td>5869</td><td>5869</td><td>⋯</td><td>2923.349</td><td>2535.351</td><td>2881.332</td><td>2677.658</td><td>1516.972</td><td>2238.235</td><td>1328.000</td><td>2198.750</td><td>1739.250</td><td>3.864731</td></tr>\n",
       "</tbody>\n",
       "</table>\n"
      ],
      "text/latex": [
       "A data.frame: 6 × 38\n",
       "\\begin{tabular}{r|lllllllllllllllllllll}\n",
       "  & age & sex & BMI & HbA1c & dataset & culture\\_time & beta\\_prop\\_rna & beta\\_prop\\_atac & num\\_cells\\_rna & num\\_cells\\_atac & ⋯ & beta\\_mean\\_genes & alpha\\_mean\\_genes & delta\\_mean\\_genes & gamma\\_mean\\_genes & acinar\\_mean\\_genes & ductal\\_mean\\_genes & endothelial\\_mean\\_genes & immune\\_mean\\_genes & stellate\\_mean\\_genes & tsse\\\\\n",
       "  & <int> & <chr> & <dbl> & <dbl> & <chr> & <dbl> & <dbl> & <dbl> & <int> & <int> & ⋯ & <dbl> & <dbl> & <dbl> & <dbl> & <dbl> & <dbl> & <dbl> & <dbl> & <dbl> & <dbl>\\\\\n",
       "\\hline\n",
       "\tR207 & 50 & Female & 22.2 &  NA & Alberta &  70 & 0.5168054 & 0.5168054 & 6248 & 6248 & ⋯ & 2461.714 & 2194.071 & 2378.373 & 2086.808 & 1462.876 & 1842.333 & 1304.000 & 1118.606 & 1314.583 & 3.450389\\\\\n",
       "\tR217 & 71 & Female & 35.5 & 6.3 & Alberta &  15 & 0.2546716 & 0.2546716 & 5619 & 5619 & ⋯ & 2545.581 & 2296.241 & 2301.960 & 2353.497 & 1800.699 & 1868.313 & 1578.500 & 1458.000 & 1771.000 & 3.530508\\\\\n",
       "\tR218 & 73 & Female & 28.4 & 5.9 & Alberta &  70 & 0.6887661 & 0.6887661 & 2172 & 2172 & ⋯ & 1960.642 & 1809.938 & 1901.744 & 1472.627 & 1199.855 & 1384.827 & 1503.500 &  910.250 & 1505.200 & 3.641667\\\\\n",
       "\tR221 & 44 & Male   & 30.5 & 5.3 & Alberta & 136 & 0.2156263 & 0.2156263 & 4902 & 4902 & ⋯ & 1951.037 & 1973.824 & 2066.421 & 1581.727 & 1315.754 & 1625.554 & 1376.625 & 1460.600 & 1243.706 & 3.792649\\\\\n",
       "\tR223 & 54 & Male   & 27.0 & 5.8 & Alberta &  64 & 0.5443796 & 0.5443796 & 6343 & 6343 & ⋯ & 2690.103 & 2312.497 & 2464.196 & 2330.564 & 1562.639 & 1854.044 & 1592.143 & 1568.125 & 1826.053 & 2.992320\\\\\n",
       "\tR226 & 30 & Female & 32.3 & 4.9 & Alberta &  16 & 0.5523939 & 0.5523939 & 5869 & 5869 & ⋯ & 2923.349 & 2535.351 & 2881.332 & 2677.658 & 1516.972 & 2238.235 & 1328.000 & 2198.750 & 1739.250 & 3.864731\\\\\n",
       "\\end{tabular}\n"
      ],
      "text/markdown": [
       "\n",
       "A data.frame: 6 × 38\n",
       "\n",
       "| <!--/--> | age &lt;int&gt; | sex &lt;chr&gt; | BMI &lt;dbl&gt; | HbA1c &lt;dbl&gt; | dataset &lt;chr&gt; | culture_time &lt;dbl&gt; | beta_prop_rna &lt;dbl&gt; | beta_prop_atac &lt;dbl&gt; | num_cells_rna &lt;int&gt; | num_cells_atac &lt;int&gt; | ⋯ ⋯ | beta_mean_genes &lt;dbl&gt; | alpha_mean_genes &lt;dbl&gt; | delta_mean_genes &lt;dbl&gt; | gamma_mean_genes &lt;dbl&gt; | acinar_mean_genes &lt;dbl&gt; | ductal_mean_genes &lt;dbl&gt; | endothelial_mean_genes &lt;dbl&gt; | immune_mean_genes &lt;dbl&gt; | stellate_mean_genes &lt;dbl&gt; | tsse &lt;dbl&gt; |\n",
       "|---|---|---|---|---|---|---|---|---|---|---|---|---|---|---|---|---|---|---|---|---|---|\n",
       "| R207 | 50 | Female | 22.2 |  NA | Alberta |  70 | 0.5168054 | 0.5168054 | 6248 | 6248 | ⋯ | 2461.714 | 2194.071 | 2378.373 | 2086.808 | 1462.876 | 1842.333 | 1304.000 | 1118.606 | 1314.583 | 3.450389 |\n",
       "| R217 | 71 | Female | 35.5 | 6.3 | Alberta |  15 | 0.2546716 | 0.2546716 | 5619 | 5619 | ⋯ | 2545.581 | 2296.241 | 2301.960 | 2353.497 | 1800.699 | 1868.313 | 1578.500 | 1458.000 | 1771.000 | 3.530508 |\n",
       "| R218 | 73 | Female | 28.4 | 5.9 | Alberta |  70 | 0.6887661 | 0.6887661 | 2172 | 2172 | ⋯ | 1960.642 | 1809.938 | 1901.744 | 1472.627 | 1199.855 | 1384.827 | 1503.500 |  910.250 | 1505.200 | 3.641667 |\n",
       "| R221 | 44 | Male   | 30.5 | 5.3 | Alberta | 136 | 0.2156263 | 0.2156263 | 4902 | 4902 | ⋯ | 1951.037 | 1973.824 | 2066.421 | 1581.727 | 1315.754 | 1625.554 | 1376.625 | 1460.600 | 1243.706 | 3.792649 |\n",
       "| R223 | 54 | Male   | 27.0 | 5.8 | Alberta |  64 | 0.5443796 | 0.5443796 | 6343 | 6343 | ⋯ | 2690.103 | 2312.497 | 2464.196 | 2330.564 | 1562.639 | 1854.044 | 1592.143 | 1568.125 | 1826.053 | 2.992320 |\n",
       "| R226 | 30 | Female | 32.3 | 4.9 | Alberta |  16 | 0.5523939 | 0.5523939 | 5869 | 5869 | ⋯ | 2923.349 | 2535.351 | 2881.332 | 2677.658 | 1516.972 | 2238.235 | 1328.000 | 2198.750 | 1739.250 | 3.864731 |\n",
       "\n"
      ],
      "text/plain": [
       "     age sex    BMI  HbA1c dataset culture_time beta_prop_rna beta_prop_atac\n",
       "R207 50  Female 22.2  NA   Alberta  70          0.5168054     0.5168054     \n",
       "R217 71  Female 35.5 6.3   Alberta  15          0.2546716     0.2546716     \n",
       "R218 73  Female 28.4 5.9   Alberta  70          0.6887661     0.6887661     \n",
       "R221 44  Male   30.5 5.3   Alberta 136          0.2156263     0.2156263     \n",
       "R223 54  Male   27.0 5.8   Alberta  64          0.5443796     0.5443796     \n",
       "R226 30  Female 32.3 4.9   Alberta  16          0.5523939     0.5523939     \n",
       "     num_cells_rna num_cells_atac ⋯ beta_mean_genes alpha_mean_genes\n",
       "R207 6248          6248           ⋯ 2461.714        2194.071        \n",
       "R217 5619          5619           ⋯ 2545.581        2296.241        \n",
       "R218 2172          2172           ⋯ 1960.642        1809.938        \n",
       "R221 4902          4902           ⋯ 1951.037        1973.824        \n",
       "R223 6343          6343           ⋯ 2690.103        2312.497        \n",
       "R226 5869          5869           ⋯ 2923.349        2535.351        \n",
       "     delta_mean_genes gamma_mean_genes acinar_mean_genes ductal_mean_genes\n",
       "R207 2378.373         2086.808         1462.876          1842.333         \n",
       "R217 2301.960         2353.497         1800.699          1868.313         \n",
       "R218 1901.744         1472.627         1199.855          1384.827         \n",
       "R221 2066.421         1581.727         1315.754          1625.554         \n",
       "R223 2464.196         2330.564         1562.639          1854.044         \n",
       "R226 2881.332         2677.658         1516.972          2238.235         \n",
       "     endothelial_mean_genes immune_mean_genes stellate_mean_genes tsse    \n",
       "R207 1304.000               1118.606          1314.583            3.450389\n",
       "R217 1578.500               1458.000          1771.000            3.530508\n",
       "R218 1503.500                910.250          1505.200            3.641667\n",
       "R221 1376.625               1460.600          1243.706            3.792649\n",
       "R223 1592.143               1568.125          1826.053            2.992320\n",
       "R226 1328.000               2198.750          1739.250            3.864731"
      ]
     },
     "metadata": {},
     "output_type": "display_data"
    }
   ],
   "source": [
    "#combine info into one df\n",
    "meta1_cut$dataset <- 'Alberta'\n",
    "meta1_fin <- cbind(meta1_cut, prop_data1, results1, results2, alberta_mean_genes) %>% relocate(dataset, .after=HbA1c)\n",
    "meta1_fin$tsse <- tsse1\n",
    "head(meta1_fin)\n",
    "\n",
    "#save out df!\n",
    "out_fp1 <- file.path(outdir, 'Alberta_metadata_all.tsv')\n",
    "write.table(meta1_fin, out_fp1, sep='\\t', quote=FALSE)"
   ]
  },
  {
   "cell_type": "markdown",
   "id": "f93fc0c7",
   "metadata": {
    "tags": []
   },
   "source": [
    "## HPAP samples"
   ]
  },
  {
   "cell_type": "markdown",
   "id": "1f6b4e07",
   "metadata": {},
   "source": [
    "### Read in phenotype metadata"
   ]
  },
  {
   "cell_type": "code",
   "execution_count": 170,
   "id": "14c52887",
   "metadata": {
    "tags": []
   },
   "outputs": [
    {
     "data": {
      "text/html": [
       "<style>\n",
       ".list-inline {list-style: none; margin:0; padding: 0}\n",
       ".list-inline>li {display: inline-block}\n",
       ".list-inline>li:not(:last-child)::after {content: \"\\00b7\"; padding: 0 .5ex}\n",
       "</style>\n",
       "<ol class=list-inline><li>127</li><li>83</li></ol>\n"
      ],
      "text/latex": [
       "\\begin{enumerate*}\n",
       "\\item 127\n",
       "\\item 83\n",
       "\\end{enumerate*}\n"
      ],
      "text/markdown": [
       "1. 127\n",
       "2. 83\n",
       "\n",
       "\n"
      ],
      "text/plain": [
       "[1] 127  83"
      ]
     },
     "metadata": {},
     "output_type": "display_data"
    },
    {
     "data": {
      "text/html": [
       "<style>\n",
       ".list-inline {list-style: none; margin:0; padding: 0}\n",
       ".list-inline>li {display: inline-block}\n",
       ".list-inline>li:not(:last-child)::after {content: \"\\00b7\"; padding: 0 .5ex}\n",
       "</style>\n",
       "<ol class=list-inline><li>34</li><li>7</li></ol>\n"
      ],
      "text/latex": [
       "\\begin{enumerate*}\n",
       "\\item 34\n",
       "\\item 7\n",
       "\\end{enumerate*}\n"
      ],
      "text/markdown": [
       "1. 34\n",
       "2. 7\n",
       "\n",
       "\n"
      ],
      "text/plain": [
       "[1] 34  7"
      ]
     },
     "metadata": {},
     "output_type": "display_data"
    },
    {
     "data": {
      "text/html": [
       "<table class=\"dataframe\">\n",
       "<caption>A data.frame: 6 × 7</caption>\n",
       "<thead>\n",
       "\t<tr><th></th><th scope=col>library</th><th scope=col>age</th><th scope=col>sex</th><th scope=col>BMI</th><th scope=col>HbA1c</th><th scope=col>dataset</th><th scope=col>culture_time</th></tr>\n",
       "\t<tr><th></th><th scope=col>&lt;chr&gt;</th><th scope=col>&lt;int&gt;</th><th scope=col>&lt;chr&gt;</th><th scope=col>&lt;dbl&gt;</th><th scope=col>&lt;dbl&gt;</th><th scope=col>&lt;chr&gt;</th><th scope=col>&lt;dbl&gt;</th></tr>\n",
       "</thead>\n",
       "<tbody>\n",
       "\t<tr><th scope=row>1</th><td>HPAP-022</td><td>39</td><td>Female</td><td>34.70</td><td>4.7</td><td>HPAP</td><td>72</td></tr>\n",
       "\t<tr><th scope=row>2</th><td>HPAP-026</td><td>24</td><td>Male  </td><td>20.80</td><td>4.9</td><td>HPAP</td><td>48</td></tr>\n",
       "\t<tr><th scope=row>3</th><td>HPAP-034</td><td>13</td><td>Male  </td><td>18.60</td><td>5.2</td><td>HPAP</td><td>72</td></tr>\n",
       "\t<tr><th scope=row>4</th><td>HPAP-035</td><td>35</td><td>Male  </td><td>26.91</td><td>5.2</td><td>HPAP</td><td>72</td></tr>\n",
       "\t<tr><th scope=row>5</th><td>HPAP-036</td><td>23</td><td>Female</td><td>16.00</td><td>5.2</td><td>HPAP</td><td>48</td></tr>\n",
       "\t<tr><th scope=row>6</th><td>HPAP-037</td><td>35</td><td>Female</td><td>21.90</td><td>5.3</td><td>HPAP</td><td>96</td></tr>\n",
       "</tbody>\n",
       "</table>\n"
      ],
      "text/latex": [
       "A data.frame: 6 × 7\n",
       "\\begin{tabular}{r|lllllll}\n",
       "  & library & age & sex & BMI & HbA1c & dataset & culture\\_time\\\\\n",
       "  & <chr> & <int> & <chr> & <dbl> & <dbl> & <chr> & <dbl>\\\\\n",
       "\\hline\n",
       "\t1 & HPAP-022 & 39 & Female & 34.70 & 4.7 & HPAP & 72\\\\\n",
       "\t2 & HPAP-026 & 24 & Male   & 20.80 & 4.9 & HPAP & 48\\\\\n",
       "\t3 & HPAP-034 & 13 & Male   & 18.60 & 5.2 & HPAP & 72\\\\\n",
       "\t4 & HPAP-035 & 35 & Male   & 26.91 & 5.2 & HPAP & 72\\\\\n",
       "\t5 & HPAP-036 & 23 & Female & 16.00 & 5.2 & HPAP & 48\\\\\n",
       "\t6 & HPAP-037 & 35 & Female & 21.90 & 5.3 & HPAP & 96\\\\\n",
       "\\end{tabular}\n"
      ],
      "text/markdown": [
       "\n",
       "A data.frame: 6 × 7\n",
       "\n",
       "| <!--/--> | library &lt;chr&gt; | age &lt;int&gt; | sex &lt;chr&gt; | BMI &lt;dbl&gt; | HbA1c &lt;dbl&gt; | dataset &lt;chr&gt; | culture_time &lt;dbl&gt; |\n",
       "|---|---|---|---|---|---|---|---|\n",
       "| 1 | HPAP-022 | 39 | Female | 34.70 | 4.7 | HPAP | 72 |\n",
       "| 2 | HPAP-026 | 24 | Male   | 20.80 | 4.9 | HPAP | 48 |\n",
       "| 3 | HPAP-034 | 13 | Male   | 18.60 | 5.2 | HPAP | 72 |\n",
       "| 4 | HPAP-035 | 35 | Male   | 26.91 | 5.2 | HPAP | 72 |\n",
       "| 5 | HPAP-036 | 23 | Female | 16.00 | 5.2 | HPAP | 48 |\n",
       "| 6 | HPAP-037 | 35 | Female | 21.90 | 5.3 | HPAP | 96 |\n",
       "\n"
      ],
      "text/plain": [
       "  library  age sex    BMI   HbA1c dataset culture_time\n",
       "1 HPAP-022 39  Female 34.70 4.7   HPAP    72          \n",
       "2 HPAP-026 24  Male   20.80 4.9   HPAP    48          \n",
       "3 HPAP-034 13  Male   18.60 5.2   HPAP    72          \n",
       "4 HPAP-035 35  Male   26.91 5.2   HPAP    72          \n",
       "5 HPAP-036 23  Female 16.00 5.2   HPAP    48          \n",
       "6 HPAP-037 35  Female 21.90 5.3   HPAP    96          "
      ]
     },
     "metadata": {},
     "output_type": "display_data"
    }
   ],
   "source": [
    "# Read in Ruth's HPAP metadata table\n",
    "meta2 <- as.data.frame(fread('/path/to/HPAP/donor/metadata.csv'))\n",
    "dim(meta2)\n",
    "#head(meta2)\n",
    "\n",
    "# Cut down to comparable measurements and rename/reorder columns to match\n",
    "row.names(meta2) <- meta2$donor_ID\n",
    "meta2_cut <- meta2[hpap_samples_all,c('age_years','gender','bmi','hba1c')]\n",
    "colnames(meta2_cut) <- c('age','sex','BMI','HbA1c')\n",
    "\n",
    "# Add in dataset and culture time\n",
    "meta2_cut$dataset <- 'HPAP'\n",
    "culture_time_days <- c(3,2,3,3,2,4,4,4,5,5,5,2,5,4,4,2,6,2,5,3,NA,NA,3,4,2,5,2,NA,2,NA,4,6,6,2) #manually collect culture time from dates (ex: 12/7/17-12/4/17 = 3days)\n",
    "meta2_cut$culture_time <- 24 * culture_time_days\n",
    "meta2_cut <- meta2_cut %>% rownames_to_column(var='library')\n",
    "\n",
    "dim(meta2_cut)\n",
    "head(meta2_cut)"
   ]
  },
  {
   "cell_type": "code",
   "execution_count": 171,
   "id": "3d894bb0",
   "metadata": {
    "tags": []
   },
   "outputs": [],
   "source": [
    "#calculate proportion of beta cells -- RNA\n",
    "raw_cts <- as.data.frame(table(adata2_nd@meta.data$matched_celltype, adata2_nd@meta.data$library)) %>%\n",
    "            reshape(idvar='Var1', timevar='Var2', direction='wide')\n",
    "row.names(raw_cts) <- raw_cts$Var1\n",
    "raw_cts <- raw_cts[,-1]\n",
    "prop_cts <- sweep(raw_cts, 2, colSums(raw_cts), `/`)\n",
    "colnames(prop_cts) <- gsub('Freq.','',colnames(prop_cts))\n",
    "\n",
    "#now convert this to a long format\n",
    "long_prop_cts <- tibble::rownames_to_column(prop_cts, var='ct') %>% tidyr::pivot_longer(-ct, names_to='library', values_to='prop')\n",
    "long_prop_cts$pc <- 100 * long_prop_cts$prop\n",
    "\n",
    "#arrange into a dataframe with other info\n",
    "beta_prop <- unlist(prop_cts['beta',])\n",
    "num_cells <- as.vector(table(adata2_nd$library))\n",
    "prop_data1 <- data.frame(beta_prop_rna=beta_prop, num_cells_rna=num_cells)\n",
    "#head(prop_data1)"
   ]
  },
  {
   "cell_type": "code",
   "execution_count": 172,
   "id": "ffb7ea92",
   "metadata": {
    "tags": []
   },
   "outputs": [],
   "source": [
    "#calculate proportion of beta cells -- ATAC\n",
    "raw_cts <- as.data.frame(table(adata3_nd@meta.data$matched_celltype, adata3_nd@meta.data$library)) %>%\n",
    "            reshape(idvar='Var1', timevar='Var2', direction='wide')\n",
    "row.names(raw_cts) <- raw_cts$Var1\n",
    "raw_cts <- raw_cts[,-1]\n",
    "prop_cts <- sweep(raw_cts, 2, colSums(raw_cts), `/`)\n",
    "colnames(prop_cts) <- gsub('Freq.','',colnames(prop_cts))\n",
    "\n",
    "#now convert this to a long format\n",
    "long_prop_cts <- tibble::rownames_to_column(prop_cts, var='ct') %>% tidyr::pivot_longer(-ct, names_to='library', values_to='prop')\n",
    "long_prop_cts$pc <- 100 * long_prop_cts$prop\n",
    "\n",
    "#arrange into a dataframe with other info\n",
    "beta_prop <- unlist(prop_cts['beta',])\n",
    "num_cells <- as.vector(table(adata3_nd$library))\n",
    "prop_data2 <- data.frame(beta_prop_atac=beta_prop, num_cells_atac=num_cells)\n",
    "#head(prop_data2)"
   ]
  },
  {
   "cell_type": "code",
   "execution_count": 173,
   "id": "38855569",
   "metadata": {
    "tags": []
   },
   "outputs": [
    {
     "data": {
      "text/html": [
       "<style>\n",
       ".list-inline {list-style: none; margin:0; padding: 0}\n",
       ".list-inline>li {display: inline-block}\n",
       ".list-inline>li:not(:last-child)::after {content: \"\\00b7\"; padding: 0 .5ex}\n",
       "</style>\n",
       "<ol class=list-inline><li>34</li><li>5</li></ol>\n"
      ],
      "text/latex": [
       "\\begin{enumerate*}\n",
       "\\item 34\n",
       "\\item 5\n",
       "\\end{enumerate*}\n"
      ],
      "text/markdown": [
       "1. 34\n",
       "2. 5\n",
       "\n",
       "\n"
      ],
      "text/plain": [
       "[1] 34  5"
      ]
     },
     "metadata": {},
     "output_type": "display_data"
    },
    {
     "data": {
      "text/html": [
       "<table class=\"dataframe\">\n",
       "<caption>A data.frame: 6 × 5</caption>\n",
       "<thead>\n",
       "\t<tr><th></th><th scope=col>library</th><th scope=col>beta_prop_rna</th><th scope=col>beta_prop_atac</th><th scope=col>num_cells_rna</th><th scope=col>num_cells_atac</th></tr>\n",
       "\t<tr><th></th><th scope=col>&lt;chr&gt;</th><th scope=col>&lt;dbl&gt;</th><th scope=col>&lt;dbl&gt;</th><th scope=col>&lt;int&gt;</th><th scope=col>&lt;int&gt;</th></tr>\n",
       "</thead>\n",
       "<tbody>\n",
       "\t<tr><th scope=row>1</th><td>HPAP-022</td><td>0.17037251</td><td>       NA</td><td>3463</td><td>  NA</td></tr>\n",
       "\t<tr><th scope=row>2</th><td>HPAP-026</td><td>0.22222222</td><td>       NA</td><td> 414</td><td>  NA</td></tr>\n",
       "\t<tr><th scope=row>3</th><td>HPAP-034</td><td>0.08055556</td><td>       NA</td><td> 360</td><td>  NA</td></tr>\n",
       "\t<tr><th scope=row>4</th><td>HPAP-035</td><td>0.22299465</td><td>0.2517033</td><td>1870</td><td>2642</td></tr>\n",
       "\t<tr><th scope=row>5</th><td>HPAP-036</td><td>0.18008107</td><td>0.2229767</td><td>1727</td><td>5449</td></tr>\n",
       "\t<tr><th scope=row>6</th><td>HPAP-037</td><td>0.11766504</td><td>       NA</td><td>3272</td><td>  NA</td></tr>\n",
       "</tbody>\n",
       "</table>\n"
      ],
      "text/latex": [
       "A data.frame: 6 × 5\n",
       "\\begin{tabular}{r|lllll}\n",
       "  & library & beta\\_prop\\_rna & beta\\_prop\\_atac & num\\_cells\\_rna & num\\_cells\\_atac\\\\\n",
       "  & <chr> & <dbl> & <dbl> & <int> & <int>\\\\\n",
       "\\hline\n",
       "\t1 & HPAP-022 & 0.17037251 &        NA & 3463 &   NA\\\\\n",
       "\t2 & HPAP-026 & 0.22222222 &        NA &  414 &   NA\\\\\n",
       "\t3 & HPAP-034 & 0.08055556 &        NA &  360 &   NA\\\\\n",
       "\t4 & HPAP-035 & 0.22299465 & 0.2517033 & 1870 & 2642\\\\\n",
       "\t5 & HPAP-036 & 0.18008107 & 0.2229767 & 1727 & 5449\\\\\n",
       "\t6 & HPAP-037 & 0.11766504 &        NA & 3272 &   NA\\\\\n",
       "\\end{tabular}\n"
      ],
      "text/markdown": [
       "\n",
       "A data.frame: 6 × 5\n",
       "\n",
       "| <!--/--> | library &lt;chr&gt; | beta_prop_rna &lt;dbl&gt; | beta_prop_atac &lt;dbl&gt; | num_cells_rna &lt;int&gt; | num_cells_atac &lt;int&gt; |\n",
       "|---|---|---|---|---|---|\n",
       "| 1 | HPAP-022 | 0.17037251 |        NA | 3463 |   NA |\n",
       "| 2 | HPAP-026 | 0.22222222 |        NA |  414 |   NA |\n",
       "| 3 | HPAP-034 | 0.08055556 |        NA |  360 |   NA |\n",
       "| 4 | HPAP-035 | 0.22299465 | 0.2517033 | 1870 | 2642 |\n",
       "| 5 | HPAP-036 | 0.18008107 | 0.2229767 | 1727 | 5449 |\n",
       "| 6 | HPAP-037 | 0.11766504 |        NA | 3272 |   NA |\n",
       "\n"
      ],
      "text/plain": [
       "  library  beta_prop_rna beta_prop_atac num_cells_rna num_cells_atac\n",
       "1 HPAP-022 0.17037251           NA      3463            NA          \n",
       "2 HPAP-026 0.22222222           NA       414            NA          \n",
       "3 HPAP-034 0.08055556           NA       360            NA          \n",
       "4 HPAP-035 0.22299465    0.2517033      1870          2642          \n",
       "5 HPAP-036 0.18008107    0.2229767      1727          5449          \n",
       "6 HPAP-037 0.11766504           NA      3272            NA          "
      ]
     },
     "metadata": {},
     "output_type": "display_data"
    }
   ],
   "source": [
    "#combine prop_data into one df\n",
    "prop_data1 <- prop_data1 %>% rownames_to_column(var='library')\n",
    "prop_data2 <- prop_data2 %>% rownames_to_column(var='library')\n",
    "\n",
    "prop_data <- full_join(prop_data1, prop_data2, by='library')\n",
    "prop_data <- prop_data[,c(1,2,4,3,5)]\n",
    "dim(prop_data)\n",
    "head(prop_data)"
   ]
  },
  {
   "cell_type": "code",
   "execution_count": 174,
   "id": "0fddca69",
   "metadata": {
    "tags": []
   },
   "outputs": [],
   "source": [
    "#add in # cells per cell type info to metadata -- RNA\n",
    "results1 <- as.data.frame(table(adata2_nd$library, adata2_nd$matched_celltype)) %>%\n",
    "                reshape(idvar='Var1', timevar='Var2', direction='wide')\n",
    "row.names(results1) <- results1$Var1\n",
    "results1 <- results1 %>% select(-Var1)\n",
    "colnames(results1) <- paste0(gsub('Freq.','',colnames(results1)),'_cells_rna')\n",
    "col_order <- paste0(joint_celltypes, '_cells_rna')\n",
    "results1 <- results1 %>% select(all_of(col_order))\n",
    "#head(results1)"
   ]
  },
  {
   "cell_type": "code",
   "execution_count": 175,
   "id": "0a7c21a6",
   "metadata": {
    "tags": []
   },
   "outputs": [],
   "source": [
    "#add in # cells per cell type info to metadata -- ATAC\n",
    "results2 <- as.data.frame(table(adata3_nd$library, adata3_nd$matched_celltype)) %>%\n",
    "                reshape(idvar='Var1', timevar='Var2', direction='wide')\n",
    "row.names(results2) <- results2$Var1\n",
    "results2 <- results2 %>% select(-Var1)\n",
    "colnames(results2) <- paste0(gsub('Freq.','',colnames(results2)),'_cells_atac')\n",
    "col_order <- paste0(joint_celltypes, '_cells_atac')\n",
    "results2 <- results2 %>% select(all_of(col_order))\n",
    "#head(results2)"
   ]
  },
  {
   "cell_type": "code",
   "execution_count": 176,
   "id": "4ca9771d",
   "metadata": {
    "tags": []
   },
   "outputs": [
    {
     "data": {
      "text/html": [
       "<style>\n",
       ".list-inline {list-style: none; margin:0; padding: 0}\n",
       ".list-inline>li {display: inline-block}\n",
       ".list-inline>li:not(:last-child)::after {content: \"\\00b7\"; padding: 0 .5ex}\n",
       "</style>\n",
       "<ol class=list-inline><li>34</li><li>19</li></ol>\n"
      ],
      "text/latex": [
       "\\begin{enumerate*}\n",
       "\\item 34\n",
       "\\item 19\n",
       "\\end{enumerate*}\n"
      ],
      "text/markdown": [
       "1. 34\n",
       "2. 19\n",
       "\n",
       "\n"
      ],
      "text/plain": [
       "[1] 34 19"
      ]
     },
     "metadata": {},
     "output_type": "display_data"
    },
    {
     "data": {
      "text/html": [
       "<table class=\"dataframe\">\n",
       "<caption>A data.frame: 6 × 19</caption>\n",
       "<thead>\n",
       "\t<tr><th></th><th scope=col>library</th><th scope=col>beta_cells_rna</th><th scope=col>alpha_cells_rna</th><th scope=col>delta_cells_rna</th><th scope=col>gamma_cells_rna</th><th scope=col>acinar_cells_rna</th><th scope=col>ductal_cells_rna</th><th scope=col>endothelial_cells_rna</th><th scope=col>immune_cells_rna</th><th scope=col>stellate_cells_rna</th><th scope=col>beta_cells_atac</th><th scope=col>alpha_cells_atac</th><th scope=col>delta_cells_atac</th><th scope=col>gamma_cells_atac</th><th scope=col>acinar_cells_atac</th><th scope=col>ductal_cells_atac</th><th scope=col>endothelial_cells_atac</th><th scope=col>immune_cells_atac</th><th scope=col>stellate_cells_atac</th></tr>\n",
       "\t<tr><th></th><th scope=col>&lt;chr&gt;</th><th scope=col>&lt;int&gt;</th><th scope=col>&lt;int&gt;</th><th scope=col>&lt;int&gt;</th><th scope=col>&lt;int&gt;</th><th scope=col>&lt;int&gt;</th><th scope=col>&lt;int&gt;</th><th scope=col>&lt;int&gt;</th><th scope=col>&lt;int&gt;</th><th scope=col>&lt;int&gt;</th><th scope=col>&lt;int&gt;</th><th scope=col>&lt;int&gt;</th><th scope=col>&lt;int&gt;</th><th scope=col>&lt;int&gt;</th><th scope=col>&lt;int&gt;</th><th scope=col>&lt;int&gt;</th><th scope=col>&lt;int&gt;</th><th scope=col>&lt;int&gt;</th><th scope=col>&lt;int&gt;</th></tr>\n",
       "</thead>\n",
       "<tbody>\n",
       "\t<tr><th scope=row>1</th><td>HPAP-022</td><td>590</td><td>1699</td><td>133</td><td>48</td><td>  53</td><td> 75</td><td>127</td><td>73</td><td>334</td><td>  NA</td><td>  NA</td><td> NA</td><td>NA</td><td> NA</td><td> NA</td><td>NA</td><td>NA</td><td>NA</td></tr>\n",
       "\t<tr><th scope=row>2</th><td>HPAP-026</td><td> 92</td><td>  87</td><td> 12</td><td>11</td><td> 152</td><td> 35</td><td>  8</td><td> 2</td><td>  8</td><td>  NA</td><td>  NA</td><td> NA</td><td>NA</td><td> NA</td><td> NA</td><td>NA</td><td>NA</td><td>NA</td></tr>\n",
       "\t<tr><th scope=row>3</th><td>HPAP-034</td><td> 29</td><td>  52</td><td>  4</td><td> 2</td><td> 171</td><td> 74</td><td>  3</td><td> 3</td><td> 13</td><td>  NA</td><td>  NA</td><td> NA</td><td>NA</td><td> NA</td><td> NA</td><td>NA</td><td>NA</td><td>NA</td></tr>\n",
       "\t<tr><th scope=row>4</th><td>HPAP-035</td><td>417</td><td> 664</td><td> 35</td><td>15</td><td> 354</td><td>174</td><td> 66</td><td>19</td><td> 78</td><td> 665</td><td> 878</td><td>140</td><td>30</td><td>556</td><td>316</td><td>21</td><td> 9</td><td>27</td></tr>\n",
       "\t<tr><th scope=row>5</th><td>HPAP-036</td><td>311</td><td> 524</td><td> 34</td><td>28</td><td> 595</td><td>126</td><td> 25</td><td>21</td><td> 29</td><td>1215</td><td>1930</td><td>671</td><td>89</td><td>942</td><td>492</td><td>25</td><td>37</td><td>48</td></tr>\n",
       "\t<tr><th scope=row>6</th><td>HPAP-037</td><td>385</td><td> 424</td><td> 20</td><td> 2</td><td>1953</td><td>304</td><td> 35</td><td>26</td><td>102</td><td>  NA</td><td>  NA</td><td> NA</td><td>NA</td><td> NA</td><td> NA</td><td>NA</td><td>NA</td><td>NA</td></tr>\n",
       "</tbody>\n",
       "</table>\n"
      ],
      "text/latex": [
       "A data.frame: 6 × 19\n",
       "\\begin{tabular}{r|lllllllllllllllllll}\n",
       "  & library & beta\\_cells\\_rna & alpha\\_cells\\_rna & delta\\_cells\\_rna & gamma\\_cells\\_rna & acinar\\_cells\\_rna & ductal\\_cells\\_rna & endothelial\\_cells\\_rna & immune\\_cells\\_rna & stellate\\_cells\\_rna & beta\\_cells\\_atac & alpha\\_cells\\_atac & delta\\_cells\\_atac & gamma\\_cells\\_atac & acinar\\_cells\\_atac & ductal\\_cells\\_atac & endothelial\\_cells\\_atac & immune\\_cells\\_atac & stellate\\_cells\\_atac\\\\\n",
       "  & <chr> & <int> & <int> & <int> & <int> & <int> & <int> & <int> & <int> & <int> & <int> & <int> & <int> & <int> & <int> & <int> & <int> & <int> & <int>\\\\\n",
       "\\hline\n",
       "\t1 & HPAP-022 & 590 & 1699 & 133 & 48 &   53 &  75 & 127 & 73 & 334 &   NA &   NA &  NA & NA &  NA &  NA & NA & NA & NA\\\\\n",
       "\t2 & HPAP-026 &  92 &   87 &  12 & 11 &  152 &  35 &   8 &  2 &   8 &   NA &   NA &  NA & NA &  NA &  NA & NA & NA & NA\\\\\n",
       "\t3 & HPAP-034 &  29 &   52 &   4 &  2 &  171 &  74 &   3 &  3 &  13 &   NA &   NA &  NA & NA &  NA &  NA & NA & NA & NA\\\\\n",
       "\t4 & HPAP-035 & 417 &  664 &  35 & 15 &  354 & 174 &  66 & 19 &  78 &  665 &  878 & 140 & 30 & 556 & 316 & 21 &  9 & 27\\\\\n",
       "\t5 & HPAP-036 & 311 &  524 &  34 & 28 &  595 & 126 &  25 & 21 &  29 & 1215 & 1930 & 671 & 89 & 942 & 492 & 25 & 37 & 48\\\\\n",
       "\t6 & HPAP-037 & 385 &  424 &  20 &  2 & 1953 & 304 &  35 & 26 & 102 &   NA &   NA &  NA & NA &  NA &  NA & NA & NA & NA\\\\\n",
       "\\end{tabular}\n"
      ],
      "text/markdown": [
       "\n",
       "A data.frame: 6 × 19\n",
       "\n",
       "| <!--/--> | library &lt;chr&gt; | beta_cells_rna &lt;int&gt; | alpha_cells_rna &lt;int&gt; | delta_cells_rna &lt;int&gt; | gamma_cells_rna &lt;int&gt; | acinar_cells_rna &lt;int&gt; | ductal_cells_rna &lt;int&gt; | endothelial_cells_rna &lt;int&gt; | immune_cells_rna &lt;int&gt; | stellate_cells_rna &lt;int&gt; | beta_cells_atac &lt;int&gt; | alpha_cells_atac &lt;int&gt; | delta_cells_atac &lt;int&gt; | gamma_cells_atac &lt;int&gt; | acinar_cells_atac &lt;int&gt; | ductal_cells_atac &lt;int&gt; | endothelial_cells_atac &lt;int&gt; | immune_cells_atac &lt;int&gt; | stellate_cells_atac &lt;int&gt; |\n",
       "|---|---|---|---|---|---|---|---|---|---|---|---|---|---|---|---|---|---|---|---|\n",
       "| 1 | HPAP-022 | 590 | 1699 | 133 | 48 |   53 |  75 | 127 | 73 | 334 |   NA |   NA |  NA | NA |  NA |  NA | NA | NA | NA |\n",
       "| 2 | HPAP-026 |  92 |   87 |  12 | 11 |  152 |  35 |   8 |  2 |   8 |   NA |   NA |  NA | NA |  NA |  NA | NA | NA | NA |\n",
       "| 3 | HPAP-034 |  29 |   52 |   4 |  2 |  171 |  74 |   3 |  3 |  13 |   NA |   NA |  NA | NA |  NA |  NA | NA | NA | NA |\n",
       "| 4 | HPAP-035 | 417 |  664 |  35 | 15 |  354 | 174 |  66 | 19 |  78 |  665 |  878 | 140 | 30 | 556 | 316 | 21 |  9 | 27 |\n",
       "| 5 | HPAP-036 | 311 |  524 |  34 | 28 |  595 | 126 |  25 | 21 |  29 | 1215 | 1930 | 671 | 89 | 942 | 492 | 25 | 37 | 48 |\n",
       "| 6 | HPAP-037 | 385 |  424 |  20 |  2 | 1953 | 304 |  35 | 26 | 102 |   NA |   NA |  NA | NA |  NA |  NA | NA | NA | NA |\n",
       "\n"
      ],
      "text/plain": [
       "  library  beta_cells_rna alpha_cells_rna delta_cells_rna gamma_cells_rna\n",
       "1 HPAP-022 590            1699            133             48             \n",
       "2 HPAP-026  92              87             12             11             \n",
       "3 HPAP-034  29              52              4              2             \n",
       "4 HPAP-035 417             664             35             15             \n",
       "5 HPAP-036 311             524             34             28             \n",
       "6 HPAP-037 385             424             20              2             \n",
       "  acinar_cells_rna ductal_cells_rna endothelial_cells_rna immune_cells_rna\n",
       "1   53              75              127                   73              \n",
       "2  152              35                8                    2              \n",
       "3  171              74                3                    3              \n",
       "4  354             174               66                   19              \n",
       "5  595             126               25                   21              \n",
       "6 1953             304               35                   26              \n",
       "  stellate_cells_rna beta_cells_atac alpha_cells_atac delta_cells_atac\n",
       "1 334                  NA              NA              NA             \n",
       "2   8                  NA              NA              NA             \n",
       "3  13                  NA              NA              NA             \n",
       "4  78                 665             878             140             \n",
       "5  29                1215            1930             671             \n",
       "6 102                  NA              NA              NA             \n",
       "  gamma_cells_atac acinar_cells_atac ductal_cells_atac endothelial_cells_atac\n",
       "1 NA                NA                NA               NA                    \n",
       "2 NA                NA                NA               NA                    \n",
       "3 NA                NA                NA               NA                    \n",
       "4 30               556               316               21                    \n",
       "5 89               942               492               25                    \n",
       "6 NA                NA                NA               NA                    \n",
       "  immune_cells_atac stellate_cells_atac\n",
       "1 NA                NA                 \n",
       "2 NA                NA                 \n",
       "3 NA                NA                 \n",
       "4  9                27                 \n",
       "5 37                48                 \n",
       "6 NA                NA                 "
      ]
     },
     "metadata": {},
     "output_type": "display_data"
    }
   ],
   "source": [
    "#combine num_cells into one df\n",
    "results1 <- results1 %>% rownames_to_column(var='library')\n",
    "results2 <- results2 %>% rownames_to_column(var='library')\n",
    "\n",
    "results <- full_join(results1, results2, by='library')\n",
    "dim(results)\n",
    "head(results)"
   ]
  },
  {
   "cell_type": "code",
   "execution_count": 177,
   "id": "762d11ae",
   "metadata": {
    "tags": []
   },
   "outputs": [
    {
     "data": {
      "text/html": [
       "<table class=\"dataframe\">\n",
       "<caption>A data.frame: 6 × 10</caption>\n",
       "<thead>\n",
       "\t<tr><th></th><th scope=col>library</th><th scope=col>beta_mean_genes</th><th scope=col>alpha_mean_genes</th><th scope=col>delta_mean_genes</th><th scope=col>gamma_mean_genes</th><th scope=col>acinar_mean_genes</th><th scope=col>ductal_mean_genes</th><th scope=col>endothelial_mean_genes</th><th scope=col>immune_mean_genes</th><th scope=col>stellate_mean_genes</th></tr>\n",
       "\t<tr><th></th><th scope=col>&lt;chr&gt;</th><th scope=col>&lt;dbl&gt;</th><th scope=col>&lt;dbl&gt;</th><th scope=col>&lt;dbl&gt;</th><th scope=col>&lt;dbl&gt;</th><th scope=col>&lt;dbl&gt;</th><th scope=col>&lt;dbl&gt;</th><th scope=col>&lt;dbl&gt;</th><th scope=col>&lt;dbl&gt;</th><th scope=col>&lt;dbl&gt;</th></tr>\n",
       "</thead>\n",
       "<tbody>\n",
       "\t<tr><th scope=row>1</th><td>HPAP-022</td><td>3669.414</td><td>3373.147</td><td>2571.677</td><td>4404.521</td><td>1817.113</td><td>3678.880</td><td>2117.402</td><td>1812.945</td><td>3147.311</td></tr>\n",
       "\t<tr><th scope=row>2</th><td>HPAP-026</td><td>3420.293</td><td>2101.138</td><td>1611.750</td><td>2526.909</td><td>1073.039</td><td>2694.914</td><td>1186.625</td><td>1298.500</td><td>1753.125</td></tr>\n",
       "\t<tr><th scope=row>3</th><td>HPAP-034</td><td>4498.172</td><td>2616.404</td><td>1379.000</td><td>1951.000</td><td>2150.789</td><td>3323.135</td><td>1436.000</td><td>1102.333</td><td>2342.769</td></tr>\n",
       "\t<tr><th scope=row>4</th><td>HPAP-035</td><td>3138.559</td><td>2171.274</td><td>1805.971</td><td>2827.067</td><td>1659.472</td><td>2779.764</td><td>1366.455</td><td>1295.737</td><td>1923.038</td></tr>\n",
       "\t<tr><th scope=row>5</th><td>HPAP-036</td><td>3753.090</td><td>1953.011</td><td>1999.382</td><td>2925.250</td><td>1838.161</td><td>2880.111</td><td>1977.480</td><td>1480.143</td><td>2347.103</td></tr>\n",
       "\t<tr><th scope=row>6</th><td>HPAP-037</td><td>3441.042</td><td>1910.719</td><td>1755.500</td><td>2269.000</td><td>1616.355</td><td>2726.039</td><td>1626.714</td><td>1346.077</td><td>1856.314</td></tr>\n",
       "</tbody>\n",
       "</table>\n"
      ],
      "text/latex": [
       "A data.frame: 6 × 10\n",
       "\\begin{tabular}{r|llllllllll}\n",
       "  & library & beta\\_mean\\_genes & alpha\\_mean\\_genes & delta\\_mean\\_genes & gamma\\_mean\\_genes & acinar\\_mean\\_genes & ductal\\_mean\\_genes & endothelial\\_mean\\_genes & immune\\_mean\\_genes & stellate\\_mean\\_genes\\\\\n",
       "  & <chr> & <dbl> & <dbl> & <dbl> & <dbl> & <dbl> & <dbl> & <dbl> & <dbl> & <dbl>\\\\\n",
       "\\hline\n",
       "\t1 & HPAP-022 & 3669.414 & 3373.147 & 2571.677 & 4404.521 & 1817.113 & 3678.880 & 2117.402 & 1812.945 & 3147.311\\\\\n",
       "\t2 & HPAP-026 & 3420.293 & 2101.138 & 1611.750 & 2526.909 & 1073.039 & 2694.914 & 1186.625 & 1298.500 & 1753.125\\\\\n",
       "\t3 & HPAP-034 & 4498.172 & 2616.404 & 1379.000 & 1951.000 & 2150.789 & 3323.135 & 1436.000 & 1102.333 & 2342.769\\\\\n",
       "\t4 & HPAP-035 & 3138.559 & 2171.274 & 1805.971 & 2827.067 & 1659.472 & 2779.764 & 1366.455 & 1295.737 & 1923.038\\\\\n",
       "\t5 & HPAP-036 & 3753.090 & 1953.011 & 1999.382 & 2925.250 & 1838.161 & 2880.111 & 1977.480 & 1480.143 & 2347.103\\\\\n",
       "\t6 & HPAP-037 & 3441.042 & 1910.719 & 1755.500 & 2269.000 & 1616.355 & 2726.039 & 1626.714 & 1346.077 & 1856.314\\\\\n",
       "\\end{tabular}\n"
      ],
      "text/markdown": [
       "\n",
       "A data.frame: 6 × 10\n",
       "\n",
       "| <!--/--> | library &lt;chr&gt; | beta_mean_genes &lt;dbl&gt; | alpha_mean_genes &lt;dbl&gt; | delta_mean_genes &lt;dbl&gt; | gamma_mean_genes &lt;dbl&gt; | acinar_mean_genes &lt;dbl&gt; | ductal_mean_genes &lt;dbl&gt; | endothelial_mean_genes &lt;dbl&gt; | immune_mean_genes &lt;dbl&gt; | stellate_mean_genes &lt;dbl&gt; |\n",
       "|---|---|---|---|---|---|---|---|---|---|---|\n",
       "| 1 | HPAP-022 | 3669.414 | 3373.147 | 2571.677 | 4404.521 | 1817.113 | 3678.880 | 2117.402 | 1812.945 | 3147.311 |\n",
       "| 2 | HPAP-026 | 3420.293 | 2101.138 | 1611.750 | 2526.909 | 1073.039 | 2694.914 | 1186.625 | 1298.500 | 1753.125 |\n",
       "| 3 | HPAP-034 | 4498.172 | 2616.404 | 1379.000 | 1951.000 | 2150.789 | 3323.135 | 1436.000 | 1102.333 | 2342.769 |\n",
       "| 4 | HPAP-035 | 3138.559 | 2171.274 | 1805.971 | 2827.067 | 1659.472 | 2779.764 | 1366.455 | 1295.737 | 1923.038 |\n",
       "| 5 | HPAP-036 | 3753.090 | 1953.011 | 1999.382 | 2925.250 | 1838.161 | 2880.111 | 1977.480 | 1480.143 | 2347.103 |\n",
       "| 6 | HPAP-037 | 3441.042 | 1910.719 | 1755.500 | 2269.000 | 1616.355 | 2726.039 | 1626.714 | 1346.077 | 1856.314 |\n",
       "\n"
      ],
      "text/plain": [
       "  library  beta_mean_genes alpha_mean_genes delta_mean_genes gamma_mean_genes\n",
       "1 HPAP-022 3669.414        3373.147         2571.677         4404.521        \n",
       "2 HPAP-026 3420.293        2101.138         1611.750         2526.909        \n",
       "3 HPAP-034 4498.172        2616.404         1379.000         1951.000        \n",
       "4 HPAP-035 3138.559        2171.274         1805.971         2827.067        \n",
       "5 HPAP-036 3753.090        1953.011         1999.382         2925.250        \n",
       "6 HPAP-037 3441.042        1910.719         1755.500         2269.000        \n",
       "  acinar_mean_genes ductal_mean_genes endothelial_mean_genes immune_mean_genes\n",
       "1 1817.113          3678.880          2117.402               1812.945         \n",
       "2 1073.039          2694.914          1186.625               1298.500         \n",
       "3 2150.789          3323.135          1436.000               1102.333         \n",
       "4 1659.472          2779.764          1366.455               1295.737         \n",
       "5 1838.161          2880.111          1977.480               1480.143         \n",
       "6 1616.355          2726.039          1626.714               1346.077         \n",
       "  stellate_mean_genes\n",
       "1 3147.311           \n",
       "2 1753.125           \n",
       "3 2342.769           \n",
       "4 1923.038           \n",
       "5 2347.103           \n",
       "6 1856.314           "
      ]
     },
     "metadata": {},
     "output_type": "display_data"
    }
   ],
   "source": [
    "hpap_mean_genes <- calc_mean_genes(adata2_nd, joint_celltypes, hpap_samples_all, 'matched_celltype')\n",
    "hpap_mean_genes[is.na(hpap_mean_genes)] <- NA\n",
    "hpap_mean_genes <- hpap_mean_genes %>% rownames_to_column(var='library') \n",
    "head(hpap_mean_genes)"
   ]
  },
  {
   "cell_type": "code",
   "execution_count": 181,
   "id": "4944d59b",
   "metadata": {
    "tags": []
   },
   "outputs": [
    {
     "data": {
      "text/html": [
       "<table class=\"dataframe\">\n",
       "<caption>A data.frame: 6 × 2</caption>\n",
       "<thead>\n",
       "\t<tr><th></th><th scope=col>library</th><th scope=col>tsse</th></tr>\n",
       "\t<tr><th></th><th scope=col>&lt;chr&gt;</th><th scope=col>&lt;dbl&gt;</th></tr>\n",
       "</thead>\n",
       "<tbody>\n",
       "\t<tr><th scope=row>HPAP-035</th><td>HPAP-035</td><td>4.301869</td></tr>\n",
       "\t<tr><th scope=row>HPAP-036</th><td>HPAP-036</td><td>4.297375</td></tr>\n",
       "\t<tr><th scope=row>HPAP-039</th><td>HPAP-039</td><td>4.375953</td></tr>\n",
       "\t<tr><th scope=row>HPAP-040</th><td>HPAP-040</td><td>4.340516</td></tr>\n",
       "\t<tr><th scope=row>HPAP-044</th><td>HPAP-044</td><td>4.375415</td></tr>\n",
       "\t<tr><th scope=row>HPAP-045</th><td>HPAP-045</td><td>4.398390</td></tr>\n",
       "</tbody>\n",
       "</table>\n"
      ],
      "text/latex": [
       "A data.frame: 6 × 2\n",
       "\\begin{tabular}{r|ll}\n",
       "  & library & tsse\\\\\n",
       "  & <chr> & <dbl>\\\\\n",
       "\\hline\n",
       "\tHPAP-035 & HPAP-035 & 4.301869\\\\\n",
       "\tHPAP-036 & HPAP-036 & 4.297375\\\\\n",
       "\tHPAP-039 & HPAP-039 & 4.375953\\\\\n",
       "\tHPAP-040 & HPAP-040 & 4.340516\\\\\n",
       "\tHPAP-044 & HPAP-044 & 4.375415\\\\\n",
       "\tHPAP-045 & HPAP-045 & 4.398390\\\\\n",
       "\\end{tabular}\n"
      ],
      "text/markdown": [
       "\n",
       "A data.frame: 6 × 2\n",
       "\n",
       "| <!--/--> | library &lt;chr&gt; | tsse &lt;dbl&gt; |\n",
       "|---|---|---|\n",
       "| HPAP-035 | HPAP-035 | 4.301869 |\n",
       "| HPAP-036 | HPAP-036 | 4.297375 |\n",
       "| HPAP-039 | HPAP-039 | 4.375953 |\n",
       "| HPAP-040 | HPAP-040 | 4.340516 |\n",
       "| HPAP-044 | HPAP-044 | 4.375415 |\n",
       "| HPAP-045 | HPAP-045 | 4.398390 |\n",
       "\n"
      ],
      "text/plain": [
       "         library  tsse    \n",
       "HPAP-035 HPAP-035 4.301869\n",
       "HPAP-036 HPAP-036 4.297375\n",
       "HPAP-039 HPAP-039 4.375953\n",
       "HPAP-040 HPAP-040 4.340516\n",
       "HPAP-044 HPAP-044 4.375415\n",
       "HPAP-045 HPAP-045 4.398390"
      ]
     },
     "metadata": {},
     "output_type": "display_data"
    }
   ],
   "source": [
    "#calculate sample level means for TSSe\n",
    "tsse2 <- calc_sample_mean(adata3_nd, hpap_samples_atac, 'TSS.enrichment')\n",
    "tsse2_df <- data.frame(library=names(tsse2), tsse=tsse2)\n",
    "head(tsse2_df)"
   ]
  },
  {
   "cell_type": "code",
   "execution_count": 184,
   "id": "abeb1890",
   "metadata": {
    "tags": []
   },
   "outputs": [
    {
     "data": {
      "text/html": [
       "<table class=\"dataframe\">\n",
       "<caption>A data.frame: 6 × 38</caption>\n",
       "<thead>\n",
       "\t<tr><th></th><th scope=col>age</th><th scope=col>sex</th><th scope=col>BMI</th><th scope=col>HbA1c</th><th scope=col>dataset</th><th scope=col>culture_time</th><th scope=col>beta_prop_rna</th><th scope=col>beta_prop_atac</th><th scope=col>num_cells_rna</th><th scope=col>num_cells_atac</th><th scope=col>⋯</th><th scope=col>beta_mean_genes</th><th scope=col>alpha_mean_genes</th><th scope=col>delta_mean_genes</th><th scope=col>gamma_mean_genes</th><th scope=col>acinar_mean_genes</th><th scope=col>ductal_mean_genes</th><th scope=col>endothelial_mean_genes</th><th scope=col>immune_mean_genes</th><th scope=col>stellate_mean_genes</th><th scope=col>tsse</th></tr>\n",
       "\t<tr><th></th><th scope=col>&lt;int&gt;</th><th scope=col>&lt;chr&gt;</th><th scope=col>&lt;dbl&gt;</th><th scope=col>&lt;dbl&gt;</th><th scope=col>&lt;chr&gt;</th><th scope=col>&lt;dbl&gt;</th><th scope=col>&lt;dbl&gt;</th><th scope=col>&lt;dbl&gt;</th><th scope=col>&lt;int&gt;</th><th scope=col>&lt;int&gt;</th><th scope=col>⋯</th><th scope=col>&lt;dbl&gt;</th><th scope=col>&lt;dbl&gt;</th><th scope=col>&lt;dbl&gt;</th><th scope=col>&lt;dbl&gt;</th><th scope=col>&lt;dbl&gt;</th><th scope=col>&lt;dbl&gt;</th><th scope=col>&lt;dbl&gt;</th><th scope=col>&lt;dbl&gt;</th><th scope=col>&lt;dbl&gt;</th><th scope=col>&lt;dbl&gt;</th></tr>\n",
       "</thead>\n",
       "<tbody>\n",
       "\t<tr><th scope=row>HPAP-022</th><td>39</td><td>Female</td><td>34.70</td><td>4.7</td><td>HPAP</td><td>72</td><td>0.17037251</td><td>       NA</td><td>3463</td><td>  NA</td><td>⋯</td><td>3669.414</td><td>3373.147</td><td>2571.677</td><td>4404.521</td><td>1817.113</td><td>3678.880</td><td>2117.402</td><td>1812.945</td><td>3147.311</td><td>      NA</td></tr>\n",
       "\t<tr><th scope=row>HPAP-026</th><td>24</td><td>Male  </td><td>20.80</td><td>4.9</td><td>HPAP</td><td>48</td><td>0.22222222</td><td>       NA</td><td> 414</td><td>  NA</td><td>⋯</td><td>3420.293</td><td>2101.138</td><td>1611.750</td><td>2526.909</td><td>1073.039</td><td>2694.914</td><td>1186.625</td><td>1298.500</td><td>1753.125</td><td>      NA</td></tr>\n",
       "\t<tr><th scope=row>HPAP-034</th><td>13</td><td>Male  </td><td>18.60</td><td>5.2</td><td>HPAP</td><td>72</td><td>0.08055556</td><td>       NA</td><td> 360</td><td>  NA</td><td>⋯</td><td>4498.172</td><td>2616.404</td><td>1379.000</td><td>1951.000</td><td>2150.789</td><td>3323.135</td><td>1436.000</td><td>1102.333</td><td>2342.769</td><td>      NA</td></tr>\n",
       "\t<tr><th scope=row>HPAP-035</th><td>35</td><td>Male  </td><td>26.91</td><td>5.2</td><td>HPAP</td><td>72</td><td>0.22299465</td><td>0.2517033</td><td>1870</td><td>2642</td><td>⋯</td><td>3138.559</td><td>2171.274</td><td>1805.971</td><td>2827.067</td><td>1659.472</td><td>2779.764</td><td>1366.455</td><td>1295.737</td><td>1923.038</td><td>4.301869</td></tr>\n",
       "\t<tr><th scope=row>HPAP-036</th><td>23</td><td>Female</td><td>16.00</td><td>5.2</td><td>HPAP</td><td>48</td><td>0.18008107</td><td>0.2229767</td><td>1727</td><td>5449</td><td>⋯</td><td>3753.090</td><td>1953.011</td><td>1999.382</td><td>2925.250</td><td>1838.161</td><td>2880.111</td><td>1977.480</td><td>1480.143</td><td>2347.103</td><td>4.297375</td></tr>\n",
       "\t<tr><th scope=row>HPAP-037</th><td>35</td><td>Female</td><td>21.90</td><td>5.3</td><td>HPAP</td><td>96</td><td>0.11766504</td><td>       NA</td><td>3272</td><td>  NA</td><td>⋯</td><td>3441.042</td><td>1910.719</td><td>1755.500</td><td>2269.000</td><td>1616.355</td><td>2726.039</td><td>1626.714</td><td>1346.077</td><td>1856.314</td><td>      NA</td></tr>\n",
       "</tbody>\n",
       "</table>\n"
      ],
      "text/latex": [
       "A data.frame: 6 × 38\n",
       "\\begin{tabular}{r|lllllllllllllllllllll}\n",
       "  & age & sex & BMI & HbA1c & dataset & culture\\_time & beta\\_prop\\_rna & beta\\_prop\\_atac & num\\_cells\\_rna & num\\_cells\\_atac & ⋯ & beta\\_mean\\_genes & alpha\\_mean\\_genes & delta\\_mean\\_genes & gamma\\_mean\\_genes & acinar\\_mean\\_genes & ductal\\_mean\\_genes & endothelial\\_mean\\_genes & immune\\_mean\\_genes & stellate\\_mean\\_genes & tsse\\\\\n",
       "  & <int> & <chr> & <dbl> & <dbl> & <chr> & <dbl> & <dbl> & <dbl> & <int> & <int> & ⋯ & <dbl> & <dbl> & <dbl> & <dbl> & <dbl> & <dbl> & <dbl> & <dbl> & <dbl> & <dbl>\\\\\n",
       "\\hline\n",
       "\tHPAP-022 & 39 & Female & 34.70 & 4.7 & HPAP & 72 & 0.17037251 &        NA & 3463 &   NA & ⋯ & 3669.414 & 3373.147 & 2571.677 & 4404.521 & 1817.113 & 3678.880 & 2117.402 & 1812.945 & 3147.311 &       NA\\\\\n",
       "\tHPAP-026 & 24 & Male   & 20.80 & 4.9 & HPAP & 48 & 0.22222222 &        NA &  414 &   NA & ⋯ & 3420.293 & 2101.138 & 1611.750 & 2526.909 & 1073.039 & 2694.914 & 1186.625 & 1298.500 & 1753.125 &       NA\\\\\n",
       "\tHPAP-034 & 13 & Male   & 18.60 & 5.2 & HPAP & 72 & 0.08055556 &        NA &  360 &   NA & ⋯ & 4498.172 & 2616.404 & 1379.000 & 1951.000 & 2150.789 & 3323.135 & 1436.000 & 1102.333 & 2342.769 &       NA\\\\\n",
       "\tHPAP-035 & 35 & Male   & 26.91 & 5.2 & HPAP & 72 & 0.22299465 & 0.2517033 & 1870 & 2642 & ⋯ & 3138.559 & 2171.274 & 1805.971 & 2827.067 & 1659.472 & 2779.764 & 1366.455 & 1295.737 & 1923.038 & 4.301869\\\\\n",
       "\tHPAP-036 & 23 & Female & 16.00 & 5.2 & HPAP & 48 & 0.18008107 & 0.2229767 & 1727 & 5449 & ⋯ & 3753.090 & 1953.011 & 1999.382 & 2925.250 & 1838.161 & 2880.111 & 1977.480 & 1480.143 & 2347.103 & 4.297375\\\\\n",
       "\tHPAP-037 & 35 & Female & 21.90 & 5.3 & HPAP & 96 & 0.11766504 &        NA & 3272 &   NA & ⋯ & 3441.042 & 1910.719 & 1755.500 & 2269.000 & 1616.355 & 2726.039 & 1626.714 & 1346.077 & 1856.314 &       NA\\\\\n",
       "\\end{tabular}\n"
      ],
      "text/markdown": [
       "\n",
       "A data.frame: 6 × 38\n",
       "\n",
       "| <!--/--> | age &lt;int&gt; | sex &lt;chr&gt; | BMI &lt;dbl&gt; | HbA1c &lt;dbl&gt; | dataset &lt;chr&gt; | culture_time &lt;dbl&gt; | beta_prop_rna &lt;dbl&gt; | beta_prop_atac &lt;dbl&gt; | num_cells_rna &lt;int&gt; | num_cells_atac &lt;int&gt; | ⋯ ⋯ | beta_mean_genes &lt;dbl&gt; | alpha_mean_genes &lt;dbl&gt; | delta_mean_genes &lt;dbl&gt; | gamma_mean_genes &lt;dbl&gt; | acinar_mean_genes &lt;dbl&gt; | ductal_mean_genes &lt;dbl&gt; | endothelial_mean_genes &lt;dbl&gt; | immune_mean_genes &lt;dbl&gt; | stellate_mean_genes &lt;dbl&gt; | tsse &lt;dbl&gt; |\n",
       "|---|---|---|---|---|---|---|---|---|---|---|---|---|---|---|---|---|---|---|---|---|---|\n",
       "| HPAP-022 | 39 | Female | 34.70 | 4.7 | HPAP | 72 | 0.17037251 |        NA | 3463 |   NA | ⋯ | 3669.414 | 3373.147 | 2571.677 | 4404.521 | 1817.113 | 3678.880 | 2117.402 | 1812.945 | 3147.311 |       NA |\n",
       "| HPAP-026 | 24 | Male   | 20.80 | 4.9 | HPAP | 48 | 0.22222222 |        NA |  414 |   NA | ⋯ | 3420.293 | 2101.138 | 1611.750 | 2526.909 | 1073.039 | 2694.914 | 1186.625 | 1298.500 | 1753.125 |       NA |\n",
       "| HPAP-034 | 13 | Male   | 18.60 | 5.2 | HPAP | 72 | 0.08055556 |        NA |  360 |   NA | ⋯ | 4498.172 | 2616.404 | 1379.000 | 1951.000 | 2150.789 | 3323.135 | 1436.000 | 1102.333 | 2342.769 |       NA |\n",
       "| HPAP-035 | 35 | Male   | 26.91 | 5.2 | HPAP | 72 | 0.22299465 | 0.2517033 | 1870 | 2642 | ⋯ | 3138.559 | 2171.274 | 1805.971 | 2827.067 | 1659.472 | 2779.764 | 1366.455 | 1295.737 | 1923.038 | 4.301869 |\n",
       "| HPAP-036 | 23 | Female | 16.00 | 5.2 | HPAP | 48 | 0.18008107 | 0.2229767 | 1727 | 5449 | ⋯ | 3753.090 | 1953.011 | 1999.382 | 2925.250 | 1838.161 | 2880.111 | 1977.480 | 1480.143 | 2347.103 | 4.297375 |\n",
       "| HPAP-037 | 35 | Female | 21.90 | 5.3 | HPAP | 96 | 0.11766504 |        NA | 3272 |   NA | ⋯ | 3441.042 | 1910.719 | 1755.500 | 2269.000 | 1616.355 | 2726.039 | 1626.714 | 1346.077 | 1856.314 |       NA |\n",
       "\n"
      ],
      "text/plain": [
       "         age sex    BMI   HbA1c dataset culture_time beta_prop_rna\n",
       "HPAP-022 39  Female 34.70 4.7   HPAP    72           0.17037251   \n",
       "HPAP-026 24  Male   20.80 4.9   HPAP    48           0.22222222   \n",
       "HPAP-034 13  Male   18.60 5.2   HPAP    72           0.08055556   \n",
       "HPAP-035 35  Male   26.91 5.2   HPAP    72           0.22299465   \n",
       "HPAP-036 23  Female 16.00 5.2   HPAP    48           0.18008107   \n",
       "HPAP-037 35  Female 21.90 5.3   HPAP    96           0.11766504   \n",
       "         beta_prop_atac num_cells_rna num_cells_atac ⋯ beta_mean_genes\n",
       "HPAP-022        NA      3463            NA           ⋯ 3669.414       \n",
       "HPAP-026        NA       414            NA           ⋯ 3420.293       \n",
       "HPAP-034        NA       360            NA           ⋯ 4498.172       \n",
       "HPAP-035 0.2517033      1870          2642           ⋯ 3138.559       \n",
       "HPAP-036 0.2229767      1727          5449           ⋯ 3753.090       \n",
       "HPAP-037        NA      3272            NA           ⋯ 3441.042       \n",
       "         alpha_mean_genes delta_mean_genes gamma_mean_genes acinar_mean_genes\n",
       "HPAP-022 3373.147         2571.677         4404.521         1817.113         \n",
       "HPAP-026 2101.138         1611.750         2526.909         1073.039         \n",
       "HPAP-034 2616.404         1379.000         1951.000         2150.789         \n",
       "HPAP-035 2171.274         1805.971         2827.067         1659.472         \n",
       "HPAP-036 1953.011         1999.382         2925.250         1838.161         \n",
       "HPAP-037 1910.719         1755.500         2269.000         1616.355         \n",
       "         ductal_mean_genes endothelial_mean_genes immune_mean_genes\n",
       "HPAP-022 3678.880          2117.402               1812.945         \n",
       "HPAP-026 2694.914          1186.625               1298.500         \n",
       "HPAP-034 3323.135          1436.000               1102.333         \n",
       "HPAP-035 2779.764          1366.455               1295.737         \n",
       "HPAP-036 2880.111          1977.480               1480.143         \n",
       "HPAP-037 2726.039          1626.714               1346.077         \n",
       "         stellate_mean_genes tsse    \n",
       "HPAP-022 3147.311                  NA\n",
       "HPAP-026 1753.125                  NA\n",
       "HPAP-034 2342.769                  NA\n",
       "HPAP-035 1923.038            4.301869\n",
       "HPAP-036 2347.103            4.297375\n",
       "HPAP-037 1856.314                  NA"
      ]
     },
     "metadata": {},
     "output_type": "display_data"
    }
   ],
   "source": [
    "#combine info into one df\n",
    "meta2_fin <- full_join(meta2_cut, prop_data, by='library') %>% \n",
    "                full_join(results, by='library') %>% \n",
    "                full_join(hpap_mean_genes, by='library') %>%\n",
    "                full_join(tsse2_df, by='library')\n",
    "row.names(meta2_fin) <- meta2_fin$library\n",
    "meta2_fin <- meta2_fin %>% select(-library)\n",
    "head(meta2_fin)\n",
    "\n",
    "#save out df!\n",
    "out_fp2 <- file.path(outdir, 'HPAP_metadata_all.tsv')\n",
    "write.table(meta2_fin, out_fp2, sep='\\t', quote=FALSE)"
   ]
  },
  {
   "cell_type": "markdown",
   "id": "0c43d3ef",
   "metadata": {
    "tags": []
   },
   "source": [
    "# 3. Combine metadata from both datasets into one table"
   ]
  },
  {
   "cell_type": "code",
   "execution_count": 31,
   "id": "1f2b6d57",
   "metadata": {
    "tags": []
   },
   "outputs": [
    {
     "data": {
      "text/html": [
       "<table class=\"dataframe\">\n",
       "<caption>A data.frame: 6 × 38</caption>\n",
       "<thead>\n",
       "\t<tr><th></th><th scope=col>age</th><th scope=col>sex</th><th scope=col>BMI</th><th scope=col>HbA1c</th><th scope=col>dataset</th><th scope=col>culture_time</th><th scope=col>beta_prop_rna</th><th scope=col>beta_prop_atac</th><th scope=col>num_cells_rna</th><th scope=col>num_cells_atac</th><th scope=col>⋯</th><th scope=col>beta_mean_genes</th><th scope=col>alpha_mean_genes</th><th scope=col>delta_mean_genes</th><th scope=col>gamma_mean_genes</th><th scope=col>acinar_mean_genes</th><th scope=col>ductal_mean_genes</th><th scope=col>endothelial_mean_genes</th><th scope=col>immune_mean_genes</th><th scope=col>stellate_mean_genes</th><th scope=col>tsse</th></tr>\n",
       "\t<tr><th></th><th scope=col>&lt;int&gt;</th><th scope=col>&lt;chr&gt;</th><th scope=col>&lt;dbl&gt;</th><th scope=col>&lt;dbl&gt;</th><th scope=col>&lt;chr&gt;</th><th scope=col>&lt;dbl&gt;</th><th scope=col>&lt;dbl&gt;</th><th scope=col>&lt;dbl&gt;</th><th scope=col>&lt;int&gt;</th><th scope=col>&lt;int&gt;</th><th scope=col>⋯</th><th scope=col>&lt;dbl&gt;</th><th scope=col>&lt;dbl&gt;</th><th scope=col>&lt;dbl&gt;</th><th scope=col>&lt;dbl&gt;</th><th scope=col>&lt;dbl&gt;</th><th scope=col>&lt;dbl&gt;</th><th scope=col>&lt;dbl&gt;</th><th scope=col>&lt;dbl&gt;</th><th scope=col>&lt;dbl&gt;</th><th scope=col>&lt;dbl&gt;</th></tr>\n",
       "</thead>\n",
       "<tbody>\n",
       "\t<tr><th scope=row>R207</th><td>50</td><td>Female</td><td>22.2</td><td> NA</td><td>Alberta</td><td> 70</td><td>0.5168054</td><td>0.5168054</td><td>6248</td><td>6248</td><td>⋯</td><td>2461.714</td><td>2194.071</td><td>2378.373</td><td>2086.808</td><td>1462.876</td><td>1842.333</td><td>1304.000</td><td>1118.606</td><td>1314.583</td><td>3.450389</td></tr>\n",
       "\t<tr><th scope=row>R217</th><td>71</td><td>Female</td><td>35.5</td><td>6.3</td><td>Alberta</td><td> 15</td><td>0.2546716</td><td>0.2546716</td><td>5619</td><td>5619</td><td>⋯</td><td>2545.581</td><td>2296.241</td><td>2301.960</td><td>2353.497</td><td>1800.699</td><td>1868.313</td><td>1578.500</td><td>1458.000</td><td>1771.000</td><td>3.530508</td></tr>\n",
       "\t<tr><th scope=row>R218</th><td>73</td><td>Female</td><td>28.4</td><td>5.9</td><td>Alberta</td><td> 70</td><td>0.6887661</td><td>0.6887661</td><td>2172</td><td>2172</td><td>⋯</td><td>1960.642</td><td>1809.938</td><td>1901.744</td><td>1472.627</td><td>1199.855</td><td>1384.827</td><td>1503.500</td><td> 910.250</td><td>1505.200</td><td>3.641667</td></tr>\n",
       "\t<tr><th scope=row>R221</th><td>44</td><td>Male  </td><td>30.5</td><td>5.3</td><td>Alberta</td><td>136</td><td>0.2156263</td><td>0.2156263</td><td>4902</td><td>4902</td><td>⋯</td><td>1951.037</td><td>1973.824</td><td>2066.421</td><td>1581.727</td><td>1315.754</td><td>1625.554</td><td>1376.625</td><td>1460.600</td><td>1243.706</td><td>3.792649</td></tr>\n",
       "\t<tr><th scope=row>R223</th><td>54</td><td>Male  </td><td>27.0</td><td>5.8</td><td>Alberta</td><td> 64</td><td>0.5443796</td><td>0.5443796</td><td>6343</td><td>6343</td><td>⋯</td><td>2690.103</td><td>2312.497</td><td>2464.196</td><td>2330.564</td><td>1562.639</td><td>1854.044</td><td>1592.143</td><td>1568.125</td><td>1826.053</td><td>2.992320</td></tr>\n",
       "\t<tr><th scope=row>R226</th><td>30</td><td>Female</td><td>32.3</td><td>4.9</td><td>Alberta</td><td> 16</td><td>0.5523939</td><td>0.5523939</td><td>5869</td><td>5869</td><td>⋯</td><td>2923.349</td><td>2535.351</td><td>2881.332</td><td>2677.658</td><td>1516.972</td><td>2238.235</td><td>1328.000</td><td>2198.750</td><td>1739.250</td><td>3.864731</td></tr>\n",
       "</tbody>\n",
       "</table>\n"
      ],
      "text/latex": [
       "A data.frame: 6 × 38\n",
       "\\begin{tabular}{r|lllllllllllllllllllll}\n",
       "  & age & sex & BMI & HbA1c & dataset & culture\\_time & beta\\_prop\\_rna & beta\\_prop\\_atac & num\\_cells\\_rna & num\\_cells\\_atac & ⋯ & beta\\_mean\\_genes & alpha\\_mean\\_genes & delta\\_mean\\_genes & gamma\\_mean\\_genes & acinar\\_mean\\_genes & ductal\\_mean\\_genes & endothelial\\_mean\\_genes & immune\\_mean\\_genes & stellate\\_mean\\_genes & tsse\\\\\n",
       "  & <int> & <chr> & <dbl> & <dbl> & <chr> & <dbl> & <dbl> & <dbl> & <int> & <int> & ⋯ & <dbl> & <dbl> & <dbl> & <dbl> & <dbl> & <dbl> & <dbl> & <dbl> & <dbl> & <dbl>\\\\\n",
       "\\hline\n",
       "\tR207 & 50 & Female & 22.2 &  NA & Alberta &  70 & 0.5168054 & 0.5168054 & 6248 & 6248 & ⋯ & 2461.714 & 2194.071 & 2378.373 & 2086.808 & 1462.876 & 1842.333 & 1304.000 & 1118.606 & 1314.583 & 3.450389\\\\\n",
       "\tR217 & 71 & Female & 35.5 & 6.3 & Alberta &  15 & 0.2546716 & 0.2546716 & 5619 & 5619 & ⋯ & 2545.581 & 2296.241 & 2301.960 & 2353.497 & 1800.699 & 1868.313 & 1578.500 & 1458.000 & 1771.000 & 3.530508\\\\\n",
       "\tR218 & 73 & Female & 28.4 & 5.9 & Alberta &  70 & 0.6887661 & 0.6887661 & 2172 & 2172 & ⋯ & 1960.642 & 1809.938 & 1901.744 & 1472.627 & 1199.855 & 1384.827 & 1503.500 &  910.250 & 1505.200 & 3.641667\\\\\n",
       "\tR221 & 44 & Male   & 30.5 & 5.3 & Alberta & 136 & 0.2156263 & 0.2156263 & 4902 & 4902 & ⋯ & 1951.037 & 1973.824 & 2066.421 & 1581.727 & 1315.754 & 1625.554 & 1376.625 & 1460.600 & 1243.706 & 3.792649\\\\\n",
       "\tR223 & 54 & Male   & 27.0 & 5.8 & Alberta &  64 & 0.5443796 & 0.5443796 & 6343 & 6343 & ⋯ & 2690.103 & 2312.497 & 2464.196 & 2330.564 & 1562.639 & 1854.044 & 1592.143 & 1568.125 & 1826.053 & 2.992320\\\\\n",
       "\tR226 & 30 & Female & 32.3 & 4.9 & Alberta &  16 & 0.5523939 & 0.5523939 & 5869 & 5869 & ⋯ & 2923.349 & 2535.351 & 2881.332 & 2677.658 & 1516.972 & 2238.235 & 1328.000 & 2198.750 & 1739.250 & 3.864731\\\\\n",
       "\\end{tabular}\n"
      ],
      "text/markdown": [
       "\n",
       "A data.frame: 6 × 38\n",
       "\n",
       "| <!--/--> | age &lt;int&gt; | sex &lt;chr&gt; | BMI &lt;dbl&gt; | HbA1c &lt;dbl&gt; | dataset &lt;chr&gt; | culture_time &lt;dbl&gt; | beta_prop_rna &lt;dbl&gt; | beta_prop_atac &lt;dbl&gt; | num_cells_rna &lt;int&gt; | num_cells_atac &lt;int&gt; | ⋯ ⋯ | beta_mean_genes &lt;dbl&gt; | alpha_mean_genes &lt;dbl&gt; | delta_mean_genes &lt;dbl&gt; | gamma_mean_genes &lt;dbl&gt; | acinar_mean_genes &lt;dbl&gt; | ductal_mean_genes &lt;dbl&gt; | endothelial_mean_genes &lt;dbl&gt; | immune_mean_genes &lt;dbl&gt; | stellate_mean_genes &lt;dbl&gt; | tsse &lt;dbl&gt; |\n",
       "|---|---|---|---|---|---|---|---|---|---|---|---|---|---|---|---|---|---|---|---|---|---|\n",
       "| R207 | 50 | Female | 22.2 |  NA | Alberta |  70 | 0.5168054 | 0.5168054 | 6248 | 6248 | ⋯ | 2461.714 | 2194.071 | 2378.373 | 2086.808 | 1462.876 | 1842.333 | 1304.000 | 1118.606 | 1314.583 | 3.450389 |\n",
       "| R217 | 71 | Female | 35.5 | 6.3 | Alberta |  15 | 0.2546716 | 0.2546716 | 5619 | 5619 | ⋯ | 2545.581 | 2296.241 | 2301.960 | 2353.497 | 1800.699 | 1868.313 | 1578.500 | 1458.000 | 1771.000 | 3.530508 |\n",
       "| R218 | 73 | Female | 28.4 | 5.9 | Alberta |  70 | 0.6887661 | 0.6887661 | 2172 | 2172 | ⋯ | 1960.642 | 1809.938 | 1901.744 | 1472.627 | 1199.855 | 1384.827 | 1503.500 |  910.250 | 1505.200 | 3.641667 |\n",
       "| R221 | 44 | Male   | 30.5 | 5.3 | Alberta | 136 | 0.2156263 | 0.2156263 | 4902 | 4902 | ⋯ | 1951.037 | 1973.824 | 2066.421 | 1581.727 | 1315.754 | 1625.554 | 1376.625 | 1460.600 | 1243.706 | 3.792649 |\n",
       "| R223 | 54 | Male   | 27.0 | 5.8 | Alberta |  64 | 0.5443796 | 0.5443796 | 6343 | 6343 | ⋯ | 2690.103 | 2312.497 | 2464.196 | 2330.564 | 1562.639 | 1854.044 | 1592.143 | 1568.125 | 1826.053 | 2.992320 |\n",
       "| R226 | 30 | Female | 32.3 | 4.9 | Alberta |  16 | 0.5523939 | 0.5523939 | 5869 | 5869 | ⋯ | 2923.349 | 2535.351 | 2881.332 | 2677.658 | 1516.972 | 2238.235 | 1328.000 | 2198.750 | 1739.250 | 3.864731 |\n",
       "\n"
      ],
      "text/plain": [
       "     age sex    BMI  HbA1c dataset culture_time beta_prop_rna beta_prop_atac\n",
       "R207 50  Female 22.2  NA   Alberta  70          0.5168054     0.5168054     \n",
       "R217 71  Female 35.5 6.3   Alberta  15          0.2546716     0.2546716     \n",
       "R218 73  Female 28.4 5.9   Alberta  70          0.6887661     0.6887661     \n",
       "R221 44  Male   30.5 5.3   Alberta 136          0.2156263     0.2156263     \n",
       "R223 54  Male   27.0 5.8   Alberta  64          0.5443796     0.5443796     \n",
       "R226 30  Female 32.3 4.9   Alberta  16          0.5523939     0.5523939     \n",
       "     num_cells_rna num_cells_atac ⋯ beta_mean_genes alpha_mean_genes\n",
       "R207 6248          6248           ⋯ 2461.714        2194.071        \n",
       "R217 5619          5619           ⋯ 2545.581        2296.241        \n",
       "R218 2172          2172           ⋯ 1960.642        1809.938        \n",
       "R221 4902          4902           ⋯ 1951.037        1973.824        \n",
       "R223 6343          6343           ⋯ 2690.103        2312.497        \n",
       "R226 5869          5869           ⋯ 2923.349        2535.351        \n",
       "     delta_mean_genes gamma_mean_genes acinar_mean_genes ductal_mean_genes\n",
       "R207 2378.373         2086.808         1462.876          1842.333         \n",
       "R217 2301.960         2353.497         1800.699          1868.313         \n",
       "R218 1901.744         1472.627         1199.855          1384.827         \n",
       "R221 2066.421         1581.727         1315.754          1625.554         \n",
       "R223 2464.196         2330.564         1562.639          1854.044         \n",
       "R226 2881.332         2677.658         1516.972          2238.235         \n",
       "     endothelial_mean_genes immune_mean_genes stellate_mean_genes tsse    \n",
       "R207 1304.000               1118.606          1314.583            3.450389\n",
       "R217 1578.500               1458.000          1771.000            3.530508\n",
       "R218 1503.500                910.250          1505.200            3.641667\n",
       "R221 1376.625               1460.600          1243.706            3.792649\n",
       "R223 1592.143               1568.125          1826.053            2.992320\n",
       "R226 1328.000               2198.750          1739.250            3.864731"
      ]
     },
     "metadata": {},
     "output_type": "display_data"
    },
    {
     "data": {
      "text/html": [
       "<table class=\"dataframe\">\n",
       "<caption>A data.frame: 6 × 38</caption>\n",
       "<thead>\n",
       "\t<tr><th></th><th scope=col>age</th><th scope=col>sex</th><th scope=col>BMI</th><th scope=col>HbA1c</th><th scope=col>dataset</th><th scope=col>culture_time</th><th scope=col>beta_prop_rna</th><th scope=col>beta_prop_atac</th><th scope=col>num_cells_rna</th><th scope=col>num_cells_atac</th><th scope=col>⋯</th><th scope=col>beta_mean_genes</th><th scope=col>alpha_mean_genes</th><th scope=col>delta_mean_genes</th><th scope=col>gamma_mean_genes</th><th scope=col>acinar_mean_genes</th><th scope=col>ductal_mean_genes</th><th scope=col>endothelial_mean_genes</th><th scope=col>immune_mean_genes</th><th scope=col>stellate_mean_genes</th><th scope=col>tsse</th></tr>\n",
       "\t<tr><th></th><th scope=col>&lt;int&gt;</th><th scope=col>&lt;chr&gt;</th><th scope=col>&lt;dbl&gt;</th><th scope=col>&lt;dbl&gt;</th><th scope=col>&lt;chr&gt;</th><th scope=col>&lt;int&gt;</th><th scope=col>&lt;dbl&gt;</th><th scope=col>&lt;dbl&gt;</th><th scope=col>&lt;int&gt;</th><th scope=col>&lt;int&gt;</th><th scope=col>⋯</th><th scope=col>&lt;dbl&gt;</th><th scope=col>&lt;dbl&gt;</th><th scope=col>&lt;dbl&gt;</th><th scope=col>&lt;dbl&gt;</th><th scope=col>&lt;dbl&gt;</th><th scope=col>&lt;dbl&gt;</th><th scope=col>&lt;dbl&gt;</th><th scope=col>&lt;dbl&gt;</th><th scope=col>&lt;dbl&gt;</th><th scope=col>&lt;dbl&gt;</th></tr>\n",
       "</thead>\n",
       "<tbody>\n",
       "\t<tr><th scope=row>HPAP-022</th><td>39</td><td>Female</td><td>34.70</td><td>4.7</td><td>HPAP</td><td>72</td><td>0.17037251</td><td>       NA</td><td>3463</td><td>  NA</td><td>⋯</td><td>3669.414</td><td>3373.147</td><td>2571.677</td><td>4404.521</td><td>1817.113</td><td>3678.880</td><td>2117.402</td><td>1812.945</td><td>3147.311</td><td>      NA</td></tr>\n",
       "\t<tr><th scope=row>HPAP-026</th><td>24</td><td>Male  </td><td>20.80</td><td>4.9</td><td>HPAP</td><td>48</td><td>0.22222222</td><td>       NA</td><td> 414</td><td>  NA</td><td>⋯</td><td>3420.293</td><td>2101.138</td><td>1611.750</td><td>2526.909</td><td>1073.039</td><td>2694.914</td><td>1186.625</td><td>1298.500</td><td>1753.125</td><td>      NA</td></tr>\n",
       "\t<tr><th scope=row>HPAP-034</th><td>13</td><td>Male  </td><td>18.60</td><td>5.2</td><td>HPAP</td><td>72</td><td>0.08055556</td><td>       NA</td><td> 360</td><td>  NA</td><td>⋯</td><td>4498.172</td><td>2616.404</td><td>1379.000</td><td>1951.000</td><td>2150.789</td><td>3323.135</td><td>1436.000</td><td>1102.333</td><td>2342.769</td><td>      NA</td></tr>\n",
       "\t<tr><th scope=row>HPAP-035</th><td>35</td><td>Male  </td><td>26.91</td><td>5.2</td><td>HPAP</td><td>72</td><td>0.22299465</td><td>0.2517033</td><td>1870</td><td>2642</td><td>⋯</td><td>3138.559</td><td>2171.274</td><td>1805.971</td><td>2827.067</td><td>1659.472</td><td>2779.764</td><td>1366.455</td><td>1295.737</td><td>1923.038</td><td>4.301869</td></tr>\n",
       "\t<tr><th scope=row>HPAP-036</th><td>23</td><td>Female</td><td>16.00</td><td>5.2</td><td>HPAP</td><td>48</td><td>0.18008107</td><td>0.2229767</td><td>1727</td><td>5449</td><td>⋯</td><td>3753.090</td><td>1953.011</td><td>1999.382</td><td>2925.250</td><td>1838.161</td><td>2880.111</td><td>1977.480</td><td>1480.143</td><td>2347.103</td><td>4.297375</td></tr>\n",
       "\t<tr><th scope=row>HPAP-037</th><td>35</td><td>Female</td><td>21.90</td><td>5.3</td><td>HPAP</td><td>96</td><td>0.11766504</td><td>       NA</td><td>3272</td><td>  NA</td><td>⋯</td><td>3441.042</td><td>1910.719</td><td>1755.500</td><td>2269.000</td><td>1616.355</td><td>2726.039</td><td>1626.714</td><td>1346.077</td><td>1856.314</td><td>      NA</td></tr>\n",
       "</tbody>\n",
       "</table>\n"
      ],
      "text/latex": [
       "A data.frame: 6 × 38\n",
       "\\begin{tabular}{r|lllllllllllllllllllll}\n",
       "  & age & sex & BMI & HbA1c & dataset & culture\\_time & beta\\_prop\\_rna & beta\\_prop\\_atac & num\\_cells\\_rna & num\\_cells\\_atac & ⋯ & beta\\_mean\\_genes & alpha\\_mean\\_genes & delta\\_mean\\_genes & gamma\\_mean\\_genes & acinar\\_mean\\_genes & ductal\\_mean\\_genes & endothelial\\_mean\\_genes & immune\\_mean\\_genes & stellate\\_mean\\_genes & tsse\\\\\n",
       "  & <int> & <chr> & <dbl> & <dbl> & <chr> & <int> & <dbl> & <dbl> & <int> & <int> & ⋯ & <dbl> & <dbl> & <dbl> & <dbl> & <dbl> & <dbl> & <dbl> & <dbl> & <dbl> & <dbl>\\\\\n",
       "\\hline\n",
       "\tHPAP-022 & 39 & Female & 34.70 & 4.7 & HPAP & 72 & 0.17037251 &        NA & 3463 &   NA & ⋯ & 3669.414 & 3373.147 & 2571.677 & 4404.521 & 1817.113 & 3678.880 & 2117.402 & 1812.945 & 3147.311 &       NA\\\\\n",
       "\tHPAP-026 & 24 & Male   & 20.80 & 4.9 & HPAP & 48 & 0.22222222 &        NA &  414 &   NA & ⋯ & 3420.293 & 2101.138 & 1611.750 & 2526.909 & 1073.039 & 2694.914 & 1186.625 & 1298.500 & 1753.125 &       NA\\\\\n",
       "\tHPAP-034 & 13 & Male   & 18.60 & 5.2 & HPAP & 72 & 0.08055556 &        NA &  360 &   NA & ⋯ & 4498.172 & 2616.404 & 1379.000 & 1951.000 & 2150.789 & 3323.135 & 1436.000 & 1102.333 & 2342.769 &       NA\\\\\n",
       "\tHPAP-035 & 35 & Male   & 26.91 & 5.2 & HPAP & 72 & 0.22299465 & 0.2517033 & 1870 & 2642 & ⋯ & 3138.559 & 2171.274 & 1805.971 & 2827.067 & 1659.472 & 2779.764 & 1366.455 & 1295.737 & 1923.038 & 4.301869\\\\\n",
       "\tHPAP-036 & 23 & Female & 16.00 & 5.2 & HPAP & 48 & 0.18008107 & 0.2229767 & 1727 & 5449 & ⋯ & 3753.090 & 1953.011 & 1999.382 & 2925.250 & 1838.161 & 2880.111 & 1977.480 & 1480.143 & 2347.103 & 4.297375\\\\\n",
       "\tHPAP-037 & 35 & Female & 21.90 & 5.3 & HPAP & 96 & 0.11766504 &        NA & 3272 &   NA & ⋯ & 3441.042 & 1910.719 & 1755.500 & 2269.000 & 1616.355 & 2726.039 & 1626.714 & 1346.077 & 1856.314 &       NA\\\\\n",
       "\\end{tabular}\n"
      ],
      "text/markdown": [
       "\n",
       "A data.frame: 6 × 38\n",
       "\n",
       "| <!--/--> | age &lt;int&gt; | sex &lt;chr&gt; | BMI &lt;dbl&gt; | HbA1c &lt;dbl&gt; | dataset &lt;chr&gt; | culture_time &lt;int&gt; | beta_prop_rna &lt;dbl&gt; | beta_prop_atac &lt;dbl&gt; | num_cells_rna &lt;int&gt; | num_cells_atac &lt;int&gt; | ⋯ ⋯ | beta_mean_genes &lt;dbl&gt; | alpha_mean_genes &lt;dbl&gt; | delta_mean_genes &lt;dbl&gt; | gamma_mean_genes &lt;dbl&gt; | acinar_mean_genes &lt;dbl&gt; | ductal_mean_genes &lt;dbl&gt; | endothelial_mean_genes &lt;dbl&gt; | immune_mean_genes &lt;dbl&gt; | stellate_mean_genes &lt;dbl&gt; | tsse &lt;dbl&gt; |\n",
       "|---|---|---|---|---|---|---|---|---|---|---|---|---|---|---|---|---|---|---|---|---|---|\n",
       "| HPAP-022 | 39 | Female | 34.70 | 4.7 | HPAP | 72 | 0.17037251 |        NA | 3463 |   NA | ⋯ | 3669.414 | 3373.147 | 2571.677 | 4404.521 | 1817.113 | 3678.880 | 2117.402 | 1812.945 | 3147.311 |       NA |\n",
       "| HPAP-026 | 24 | Male   | 20.80 | 4.9 | HPAP | 48 | 0.22222222 |        NA |  414 |   NA | ⋯ | 3420.293 | 2101.138 | 1611.750 | 2526.909 | 1073.039 | 2694.914 | 1186.625 | 1298.500 | 1753.125 |       NA |\n",
       "| HPAP-034 | 13 | Male   | 18.60 | 5.2 | HPAP | 72 | 0.08055556 |        NA |  360 |   NA | ⋯ | 4498.172 | 2616.404 | 1379.000 | 1951.000 | 2150.789 | 3323.135 | 1436.000 | 1102.333 | 2342.769 |       NA |\n",
       "| HPAP-035 | 35 | Male   | 26.91 | 5.2 | HPAP | 72 | 0.22299465 | 0.2517033 | 1870 | 2642 | ⋯ | 3138.559 | 2171.274 | 1805.971 | 2827.067 | 1659.472 | 2779.764 | 1366.455 | 1295.737 | 1923.038 | 4.301869 |\n",
       "| HPAP-036 | 23 | Female | 16.00 | 5.2 | HPAP | 48 | 0.18008107 | 0.2229767 | 1727 | 5449 | ⋯ | 3753.090 | 1953.011 | 1999.382 | 2925.250 | 1838.161 | 2880.111 | 1977.480 | 1480.143 | 2347.103 | 4.297375 |\n",
       "| HPAP-037 | 35 | Female | 21.90 | 5.3 | HPAP | 96 | 0.11766504 |        NA | 3272 |   NA | ⋯ | 3441.042 | 1910.719 | 1755.500 | 2269.000 | 1616.355 | 2726.039 | 1626.714 | 1346.077 | 1856.314 |       NA |\n",
       "\n"
      ],
      "text/plain": [
       "         age sex    BMI   HbA1c dataset culture_time beta_prop_rna\n",
       "HPAP-022 39  Female 34.70 4.7   HPAP    72           0.17037251   \n",
       "HPAP-026 24  Male   20.80 4.9   HPAP    48           0.22222222   \n",
       "HPAP-034 13  Male   18.60 5.2   HPAP    72           0.08055556   \n",
       "HPAP-035 35  Male   26.91 5.2   HPAP    72           0.22299465   \n",
       "HPAP-036 23  Female 16.00 5.2   HPAP    48           0.18008107   \n",
       "HPAP-037 35  Female 21.90 5.3   HPAP    96           0.11766504   \n",
       "         beta_prop_atac num_cells_rna num_cells_atac ⋯ beta_mean_genes\n",
       "HPAP-022        NA      3463            NA           ⋯ 3669.414       \n",
       "HPAP-026        NA       414            NA           ⋯ 3420.293       \n",
       "HPAP-034        NA       360            NA           ⋯ 4498.172       \n",
       "HPAP-035 0.2517033      1870          2642           ⋯ 3138.559       \n",
       "HPAP-036 0.2229767      1727          5449           ⋯ 3753.090       \n",
       "HPAP-037        NA      3272            NA           ⋯ 3441.042       \n",
       "         alpha_mean_genes delta_mean_genes gamma_mean_genes acinar_mean_genes\n",
       "HPAP-022 3373.147         2571.677         4404.521         1817.113         \n",
       "HPAP-026 2101.138         1611.750         2526.909         1073.039         \n",
       "HPAP-034 2616.404         1379.000         1951.000         2150.789         \n",
       "HPAP-035 2171.274         1805.971         2827.067         1659.472         \n",
       "HPAP-036 1953.011         1999.382         2925.250         1838.161         \n",
       "HPAP-037 1910.719         1755.500         2269.000         1616.355         \n",
       "         ductal_mean_genes endothelial_mean_genes immune_mean_genes\n",
       "HPAP-022 3678.880          2117.402               1812.945         \n",
       "HPAP-026 2694.914          1186.625               1298.500         \n",
       "HPAP-034 3323.135          1436.000               1102.333         \n",
       "HPAP-035 2779.764          1366.455               1295.737         \n",
       "HPAP-036 2880.111          1977.480               1480.143         \n",
       "HPAP-037 2726.039          1626.714               1346.077         \n",
       "         stellate_mean_genes tsse    \n",
       "HPAP-022 3147.311                  NA\n",
       "HPAP-026 1753.125                  NA\n",
       "HPAP-034 2342.769                  NA\n",
       "HPAP-035 1923.038            4.301869\n",
       "HPAP-036 2347.103            4.297375\n",
       "HPAP-037 1856.314                  NA"
      ]
     },
     "metadata": {},
     "output_type": "display_data"
    }
   ],
   "source": [
    "#read back in both dfs\n",
    "out_fp1 <- file.path(outdir, 'Alberta_metadata_all.tsv')\n",
    "meta1 <- read.table(out_fp1, sep='\\t', header=1)\n",
    "head(meta1)\n",
    "\n",
    "out_fp2 <- file.path(outdir, 'HPAP_metadata_all.tsv')\n",
    "meta2 <- read.table(out_fp2, sep='\\t', header=1)\n",
    "head(meta2)"
   ]
  },
  {
   "cell_type": "code",
   "execution_count": 32,
   "id": "1d0b664c",
   "metadata": {
    "tags": []
   },
   "outputs": [
    {
     "data": {
      "text/plain": [
       "\n",
       "TRUE \n",
       "  38 "
      ]
     },
     "metadata": {},
     "output_type": "display_data"
    },
    {
     "data": {
      "text/html": [
       "<style>\n",
       ".list-inline {list-style: none; margin:0; padding: 0}\n",
       ".list-inline>li {display: inline-block}\n",
       ".list-inline>li:not(:last-child)::after {content: \"\\00b7\"; padding: 0 .5ex}\n",
       "</style>\n",
       "<ol class=list-inline><li>62</li><li>38</li></ol>\n"
      ],
      "text/latex": [
       "\\begin{enumerate*}\n",
       "\\item 62\n",
       "\\item 38\n",
       "\\end{enumerate*}\n"
      ],
      "text/markdown": [
       "1. 62\n",
       "2. 38\n",
       "\n",
       "\n"
      ],
      "text/plain": [
       "[1] 62 38"
      ]
     },
     "metadata": {},
     "output_type": "display_data"
    }
   ],
   "source": [
    "#check that colnames all match and then merge\n",
    "#colnames(meta1)\n",
    "table(colnames(meta1) == colnames(meta2))\n",
    "\n",
    "#combine dfs and write out final file\n",
    "meta <- rbind(meta1, meta2)\n",
    "dim(meta)"
   ]
  },
  {
   "cell_type": "code",
   "execution_count": 33,
   "id": "bb256622",
   "metadata": {
    "tags": []
   },
   "outputs": [
    {
     "data": {
      "text/html": [
       "<style>\n",
       ".list-inline {list-style: none; margin:0; padding: 0}\n",
       ".list-inline>li {display: inline-block}\n",
       ".list-inline>li:not(:last-child)::after {content: \"\\00b7\"; padding: 0 .5ex}\n",
       "</style>\n",
       "<ol class=list-inline><li>'age'</li><li>'BMI'</li><li>'HbA1c'</li><li>'culture_time'</li><li>'beta_prop_rna'</li><li>'beta_prop_atac'</li><li>'num_cells_rna'</li><li>'num_cells_atac'</li><li>'beta_mean_genes'</li><li>'alpha_mean_genes'</li><li>'delta_mean_genes'</li><li>'gamma_mean_genes'</li><li>'acinar_mean_genes'</li><li>'ductal_mean_genes'</li><li>'endothelial_mean_genes'</li><li>'immune_mean_genes'</li><li>'stellate_mean_genes'</li><li>'tsse'</li></ol>\n"
      ],
      "text/latex": [
       "\\begin{enumerate*}\n",
       "\\item 'age'\n",
       "\\item 'BMI'\n",
       "\\item 'HbA1c'\n",
       "\\item 'culture\\_time'\n",
       "\\item 'beta\\_prop\\_rna'\n",
       "\\item 'beta\\_prop\\_atac'\n",
       "\\item 'num\\_cells\\_rna'\n",
       "\\item 'num\\_cells\\_atac'\n",
       "\\item 'beta\\_mean\\_genes'\n",
       "\\item 'alpha\\_mean\\_genes'\n",
       "\\item 'delta\\_mean\\_genes'\n",
       "\\item 'gamma\\_mean\\_genes'\n",
       "\\item 'acinar\\_mean\\_genes'\n",
       "\\item 'ductal\\_mean\\_genes'\n",
       "\\item 'endothelial\\_mean\\_genes'\n",
       "\\item 'immune\\_mean\\_genes'\n",
       "\\item 'stellate\\_mean\\_genes'\n",
       "\\item 'tsse'\n",
       "\\end{enumerate*}\n"
      ],
      "text/markdown": [
       "1. 'age'\n",
       "2. 'BMI'\n",
       "3. 'HbA1c'\n",
       "4. 'culture_time'\n",
       "5. 'beta_prop_rna'\n",
       "6. 'beta_prop_atac'\n",
       "7. 'num_cells_rna'\n",
       "8. 'num_cells_atac'\n",
       "9. 'beta_mean_genes'\n",
       "10. 'alpha_mean_genes'\n",
       "11. 'delta_mean_genes'\n",
       "12. 'gamma_mean_genes'\n",
       "13. 'acinar_mean_genes'\n",
       "14. 'ductal_mean_genes'\n",
       "15. 'endothelial_mean_genes'\n",
       "16. 'immune_mean_genes'\n",
       "17. 'stellate_mean_genes'\n",
       "18. 'tsse'\n",
       "\n",
       "\n"
      ],
      "text/plain": [
       " [1] \"age\"                    \"BMI\"                    \"HbA1c\"                 \n",
       " [4] \"culture_time\"           \"beta_prop_rna\"          \"beta_prop_atac\"        \n",
       " [7] \"num_cells_rna\"          \"num_cells_atac\"         \"beta_mean_genes\"       \n",
       "[10] \"alpha_mean_genes\"       \"delta_mean_genes\"       \"gamma_mean_genes\"      \n",
       "[13] \"acinar_mean_genes\"      \"ductal_mean_genes\"      \"endothelial_mean_genes\"\n",
       "[16] \"immune_mean_genes\"      \"stellate_mean_genes\"    \"tsse\"                  "
      ]
     },
     "metadata": {},
     "output_type": "display_data"
    },
    {
     "data": {
      "text/html": [
       "<table class=\"dataframe\">\n",
       "<caption>A data.frame: 6 × 56</caption>\n",
       "<thead>\n",
       "\t<tr><th></th><th scope=col>age</th><th scope=col>scaled_age</th><th scope=col>sex</th><th scope=col>BMI</th><th scope=col>scaled_BMI</th><th scope=col>HbA1c</th><th scope=col>scaled_HbA1c</th><th scope=col>dataset</th><th scope=col>culture_time</th><th scope=col>scaled_culture_time</th><th scope=col>⋯</th><th scope=col>ductal_mean_genes</th><th scope=col>scaled_ductal_mean_genes</th><th scope=col>endothelial_mean_genes</th><th scope=col>scaled_endothelial_mean_genes</th><th scope=col>immune_mean_genes</th><th scope=col>scaled_immune_mean_genes</th><th scope=col>stellate_mean_genes</th><th scope=col>scaled_stellate_mean_genes</th><th scope=col>tsse</th><th scope=col>scaled_tsse</th></tr>\n",
       "\t<tr><th></th><th scope=col>&lt;int&gt;</th><th scope=col>&lt;dbl&gt;</th><th scope=col>&lt;chr&gt;</th><th scope=col>&lt;dbl&gt;</th><th scope=col>&lt;dbl&gt;</th><th scope=col>&lt;dbl&gt;</th><th scope=col>&lt;dbl&gt;</th><th scope=col>&lt;chr&gt;</th><th scope=col>&lt;dbl&gt;</th><th scope=col>&lt;dbl&gt;</th><th scope=col>⋯</th><th scope=col>&lt;dbl&gt;</th><th scope=col>&lt;dbl&gt;</th><th scope=col>&lt;dbl&gt;</th><th scope=col>&lt;dbl&gt;</th><th scope=col>&lt;dbl&gt;</th><th scope=col>&lt;dbl&gt;</th><th scope=col>&lt;dbl&gt;</th><th scope=col>&lt;dbl&gt;</th><th scope=col>&lt;dbl&gt;</th><th scope=col>&lt;dbl&gt;</th></tr>\n",
       "</thead>\n",
       "<tbody>\n",
       "\t<tr><th scope=row>R207</th><td>50</td><td> 0.4825992</td><td>Female</td><td>22.2</td><td>-0.93547849</td><td> NA</td><td>        NA</td><td>Alberta</td><td> 70</td><td> 0.07402343</td><td>⋯</td><td>1842.333</td><td>-0.7227589</td><td>1304.000</td><td>-0.69291246</td><td>1118.606</td><td>-0.869054467</td><td>1314.583</td><td>-0.9386930</td><td>3.450389</td><td>-1.2548308</td></tr>\n",
       "\t<tr><th scope=row>R217</th><td>71</td><td> 1.5811029</td><td>Female</td><td>35.5</td><td> 1.15230857</td><td>6.3</td><td> 1.6527657</td><td>Alberta</td><td> 15</td><td>-1.34420328</td><td>⋯</td><td>1868.313</td><td>-0.6980603</td><td>1578.500</td><td>-0.11854077</td><td>1458.000</td><td> 0.009333767</td><td>1771.000</td><td>-0.3702339</td><td>3.530508</td><td>-1.1219687</td></tr>\n",
       "\t<tr><th scope=row>R218</th><td>73</td><td> 1.6857223</td><td>Female</td><td>28.4</td><td> 0.03777563</td><td>5.9</td><td> 0.8536262</td><td>Alberta</td><td> 70</td><td> 0.07402343</td><td>⋯</td><td>1384.827</td><td>-1.1577107</td><td>1503.500</td><td>-0.27547292</td><td> 910.250</td><td>-1.408302494</td><td>1505.200</td><td>-0.7012832</td><td>3.641667</td><td>-0.9376335</td></tr>\n",
       "\t<tr><th scope=row>R221</th><td>44</td><td> 0.1687410</td><td>Male  </td><td>30.5</td><td> 0.36742622</td><td>5.3</td><td>-0.3450829</td><td>Alberta</td><td>136</td><td> 1.77589549</td><td>⋯</td><td>1625.554</td><td>-0.9288509</td><td>1376.625</td><td>-0.54094982</td><td>1460.600</td><td> 0.016062849</td><td>1243.706</td><td>-1.0269696</td><td>3.792649</td><td>-0.6872598</td></tr>\n",
       "\t<tr><th scope=row>R223</th><td>54</td><td> 0.6918380</td><td>Male  </td><td>27.0</td><td>-0.18199143</td><td>5.8</td><td> 0.6538414</td><td>Alberta</td><td> 64</td><td>-0.08069221</td><td>⋯</td><td>1854.044</td><td>-0.7116253</td><td>1592.143</td><td>-0.08999406</td><td>1568.125</td><td> 0.294349182</td><td>1826.053</td><td>-0.3016668</td><td>2.992320</td><td>-2.0144478</td></tr>\n",
       "\t<tr><th scope=row>R226</th><td>30</td><td>-0.5635948</td><td>Female</td><td>32.3</td><td> 0.64998386</td><td>4.9</td><td>-1.1442224</td><td>Alberta</td><td> 16</td><td>-1.31841734</td><td>⋯</td><td>2238.235</td><td>-0.3463746</td><td>1328.000</td><td>-0.64269417</td><td>2198.750</td><td> 1.926474909</td><td>1739.250</td><td>-0.4097780</td><td>3.864731</td><td>-0.5677271</td></tr>\n",
       "</tbody>\n",
       "</table>\n"
      ],
      "text/latex": [
       "A data.frame: 6 × 56\n",
       "\\begin{tabular}{r|lllllllllllllllllllll}\n",
       "  & age & scaled\\_age & sex & BMI & scaled\\_BMI & HbA1c & scaled\\_HbA1c & dataset & culture\\_time & scaled\\_culture\\_time & ⋯ & ductal\\_mean\\_genes & scaled\\_ductal\\_mean\\_genes & endothelial\\_mean\\_genes & scaled\\_endothelial\\_mean\\_genes & immune\\_mean\\_genes & scaled\\_immune\\_mean\\_genes & stellate\\_mean\\_genes & scaled\\_stellate\\_mean\\_genes & tsse & scaled\\_tsse\\\\\n",
       "  & <int> & <dbl> & <chr> & <dbl> & <dbl> & <dbl> & <dbl> & <chr> & <dbl> & <dbl> & ⋯ & <dbl> & <dbl> & <dbl> & <dbl> & <dbl> & <dbl> & <dbl> & <dbl> & <dbl> & <dbl>\\\\\n",
       "\\hline\n",
       "\tR207 & 50 &  0.4825992 & Female & 22.2 & -0.93547849 &  NA &         NA & Alberta &  70 &  0.07402343 & ⋯ & 1842.333 & -0.7227589 & 1304.000 & -0.69291246 & 1118.606 & -0.869054467 & 1314.583 & -0.9386930 & 3.450389 & -1.2548308\\\\\n",
       "\tR217 & 71 &  1.5811029 & Female & 35.5 &  1.15230857 & 6.3 &  1.6527657 & Alberta &  15 & -1.34420328 & ⋯ & 1868.313 & -0.6980603 & 1578.500 & -0.11854077 & 1458.000 &  0.009333767 & 1771.000 & -0.3702339 & 3.530508 & -1.1219687\\\\\n",
       "\tR218 & 73 &  1.6857223 & Female & 28.4 &  0.03777563 & 5.9 &  0.8536262 & Alberta &  70 &  0.07402343 & ⋯ & 1384.827 & -1.1577107 & 1503.500 & -0.27547292 &  910.250 & -1.408302494 & 1505.200 & -0.7012832 & 3.641667 & -0.9376335\\\\\n",
       "\tR221 & 44 &  0.1687410 & Male   & 30.5 &  0.36742622 & 5.3 & -0.3450829 & Alberta & 136 &  1.77589549 & ⋯ & 1625.554 & -0.9288509 & 1376.625 & -0.54094982 & 1460.600 &  0.016062849 & 1243.706 & -1.0269696 & 3.792649 & -0.6872598\\\\\n",
       "\tR223 & 54 &  0.6918380 & Male   & 27.0 & -0.18199143 & 5.8 &  0.6538414 & Alberta &  64 & -0.08069221 & ⋯ & 1854.044 & -0.7116253 & 1592.143 & -0.08999406 & 1568.125 &  0.294349182 & 1826.053 & -0.3016668 & 2.992320 & -2.0144478\\\\\n",
       "\tR226 & 30 & -0.5635948 & Female & 32.3 &  0.64998386 & 4.9 & -1.1442224 & Alberta &  16 & -1.31841734 & ⋯ & 2238.235 & -0.3463746 & 1328.000 & -0.64269417 & 2198.750 &  1.926474909 & 1739.250 & -0.4097780 & 3.864731 & -0.5677271\\\\\n",
       "\\end{tabular}\n"
      ],
      "text/markdown": [
       "\n",
       "A data.frame: 6 × 56\n",
       "\n",
       "| <!--/--> | age &lt;int&gt; | scaled_age &lt;dbl&gt; | sex &lt;chr&gt; | BMI &lt;dbl&gt; | scaled_BMI &lt;dbl&gt; | HbA1c &lt;dbl&gt; | scaled_HbA1c &lt;dbl&gt; | dataset &lt;chr&gt; | culture_time &lt;dbl&gt; | scaled_culture_time &lt;dbl&gt; | ⋯ ⋯ | ductal_mean_genes &lt;dbl&gt; | scaled_ductal_mean_genes &lt;dbl&gt; | endothelial_mean_genes &lt;dbl&gt; | scaled_endothelial_mean_genes &lt;dbl&gt; | immune_mean_genes &lt;dbl&gt; | scaled_immune_mean_genes &lt;dbl&gt; | stellate_mean_genes &lt;dbl&gt; | scaled_stellate_mean_genes &lt;dbl&gt; | tsse &lt;dbl&gt; | scaled_tsse &lt;dbl&gt; |\n",
       "|---|---|---|---|---|---|---|---|---|---|---|---|---|---|---|---|---|---|---|---|---|---|\n",
       "| R207 | 50 |  0.4825992 | Female | 22.2 | -0.93547849 |  NA |         NA | Alberta |  70 |  0.07402343 | ⋯ | 1842.333 | -0.7227589 | 1304.000 | -0.69291246 | 1118.606 | -0.869054467 | 1314.583 | -0.9386930 | 3.450389 | -1.2548308 |\n",
       "| R217 | 71 |  1.5811029 | Female | 35.5 |  1.15230857 | 6.3 |  1.6527657 | Alberta |  15 | -1.34420328 | ⋯ | 1868.313 | -0.6980603 | 1578.500 | -0.11854077 | 1458.000 |  0.009333767 | 1771.000 | -0.3702339 | 3.530508 | -1.1219687 |\n",
       "| R218 | 73 |  1.6857223 | Female | 28.4 |  0.03777563 | 5.9 |  0.8536262 | Alberta |  70 |  0.07402343 | ⋯ | 1384.827 | -1.1577107 | 1503.500 | -0.27547292 |  910.250 | -1.408302494 | 1505.200 | -0.7012832 | 3.641667 | -0.9376335 |\n",
       "| R221 | 44 |  0.1687410 | Male   | 30.5 |  0.36742622 | 5.3 | -0.3450829 | Alberta | 136 |  1.77589549 | ⋯ | 1625.554 | -0.9288509 | 1376.625 | -0.54094982 | 1460.600 |  0.016062849 | 1243.706 | -1.0269696 | 3.792649 | -0.6872598 |\n",
       "| R223 | 54 |  0.6918380 | Male   | 27.0 | -0.18199143 | 5.8 |  0.6538414 | Alberta |  64 | -0.08069221 | ⋯ | 1854.044 | -0.7116253 | 1592.143 | -0.08999406 | 1568.125 |  0.294349182 | 1826.053 | -0.3016668 | 2.992320 | -2.0144478 |\n",
       "| R226 | 30 | -0.5635948 | Female | 32.3 |  0.64998386 | 4.9 | -1.1442224 | Alberta |  16 | -1.31841734 | ⋯ | 2238.235 | -0.3463746 | 1328.000 | -0.64269417 | 2198.750 |  1.926474909 | 1739.250 | -0.4097780 | 3.864731 | -0.5677271 |\n",
       "\n"
      ],
      "text/plain": [
       "     age scaled_age sex    BMI  scaled_BMI  HbA1c scaled_HbA1c dataset\n",
       "R207 50   0.4825992 Female 22.2 -0.93547849  NA           NA   Alberta\n",
       "R217 71   1.5811029 Female 35.5  1.15230857 6.3    1.6527657   Alberta\n",
       "R218 73   1.6857223 Female 28.4  0.03777563 5.9    0.8536262   Alberta\n",
       "R221 44   0.1687410 Male   30.5  0.36742622 5.3   -0.3450829   Alberta\n",
       "R223 54   0.6918380 Male   27.0 -0.18199143 5.8    0.6538414   Alberta\n",
       "R226 30  -0.5635948 Female 32.3  0.64998386 4.9   -1.1442224   Alberta\n",
       "     culture_time scaled_culture_time ⋯ ductal_mean_genes\n",
       "R207  70           0.07402343         ⋯ 1842.333         \n",
       "R217  15          -1.34420328         ⋯ 1868.313         \n",
       "R218  70           0.07402343         ⋯ 1384.827         \n",
       "R221 136           1.77589549         ⋯ 1625.554         \n",
       "R223  64          -0.08069221         ⋯ 1854.044         \n",
       "R226  16          -1.31841734         ⋯ 2238.235         \n",
       "     scaled_ductal_mean_genes endothelial_mean_genes\n",
       "R207 -0.7227589               1304.000              \n",
       "R217 -0.6980603               1578.500              \n",
       "R218 -1.1577107               1503.500              \n",
       "R221 -0.9288509               1376.625              \n",
       "R223 -0.7116253               1592.143              \n",
       "R226 -0.3463746               1328.000              \n",
       "     scaled_endothelial_mean_genes immune_mean_genes scaled_immune_mean_genes\n",
       "R207 -0.69291246                   1118.606          -0.869054467            \n",
       "R217 -0.11854077                   1458.000           0.009333767            \n",
       "R218 -0.27547292                    910.250          -1.408302494            \n",
       "R221 -0.54094982                   1460.600           0.016062849            \n",
       "R223 -0.08999406                   1568.125           0.294349182            \n",
       "R226 -0.64269417                   2198.750           1.926474909            \n",
       "     stellate_mean_genes scaled_stellate_mean_genes tsse     scaled_tsse\n",
       "R207 1314.583            -0.9386930                 3.450389 -1.2548308 \n",
       "R217 1771.000            -0.3702339                 3.530508 -1.1219687 \n",
       "R218 1505.200            -0.7012832                 3.641667 -0.9376335 \n",
       "R221 1243.706            -1.0269696                 3.792649 -0.6872598 \n",
       "R223 1826.053            -0.3016668                 2.992320 -2.0144478 \n",
       "R226 1739.250            -0.4097780                 3.864731 -0.5677271 "
      ]
     },
     "metadata": {},
     "output_type": "display_data"
    }
   ],
   "source": [
    "#scale all continuous variables 1,3,4,6-10, 29-38\n",
    "cont_vars <- colnames(meta)[c(1,3,4,seq(6,10,1),seq(29,38,1))]\n",
    "cont_vars\n",
    "\n",
    "for (col_name in cont_vars){\n",
    "    new_name <- paste0('scaled_', col_name)\n",
    "    meta[new_name] <- as.double(scale(meta[,col_name]))\n",
    "    meta <- meta %>% relocate(all_of(new_name), .after=all_of(col_name))\n",
    "}\n",
    "head(meta)"
   ]
  },
  {
   "cell_type": "code",
   "execution_count": 34,
   "id": "23ae1c9d",
   "metadata": {
    "tags": []
   },
   "outputs": [],
   "source": [
    "#saving out this combined metadata df in case\n",
    "out_fp <- file.path(outdir, 'Alberta_HPAP_combined_metadata_all.tsv')\n",
    "write.table(meta, out_fp, sep='\\t', quote=FALSE)"
   ]
  },
  {
   "cell_type": "markdown",
   "id": "61499c4f",
   "metadata": {},
   "source": [
    "# 4. Prepare RNA combined pseudobulk counts tables for DESeq"
   ]
  },
  {
   "cell_type": "code",
   "execution_count": 12,
   "id": "2b859706",
   "metadata": {},
   "outputs": [],
   "source": [
    "### Function to sum up all counts for a cell type by sample\n",
    "get_per_sample_gex_SUMS <- function(adata, gex.counts, sample_bcs, cell_type, samples, outdir){\n",
    "    #pull out rows of gex.counts where BC Ident matches cell.type\n",
    "    bcs <- names(Idents(adata)[Idents(adata) == cell_type])\n",
    "    counts <- gex.counts[,colnames(gex.counts) %in% bcs]\n",
    "    print(dim(counts))\n",
    "\n",
    "    #initialize the matrix of sample gex\n",
    "    counts.df <- as.data.frame(rep(0,length(row.names(gex.counts))))\n",
    "    row.names(counts.df) <- row.names(gex.counts)\n",
    "    colnames(counts.df) <- c('temp')\n",
    "\n",
    "    #go through samples and calculate sum of gex values\n",
    "    for (sample in samples){\n",
    "        sample_cols <- colnames(counts) %in% sample_bcs[[sample]]\n",
    "        counts.cut <- counts[,sample_cols]\n",
    "        \n",
    "        #if only one bc, this becomes a vector which is an issue\n",
    "        if (typeof(counts.cut) == 'double'){\n",
    "            mean.counts <- round(counts.cut)\n",
    "        #if there are NO bcs, this will return NA (just return 0 for everything)\n",
    "            } else if(length(colnames(counts.cut)) == 0){\n",
    "            mean.counts <- rep(0,length(row.names(counts)))\n",
    "            } else {\n",
    "            mean.counts <- round(rowSums(counts.cut))\n",
    "            }\n",
    "        counts.df <- cbind(counts.df,as.data.frame(mean.counts))\n",
    "         }\n",
    "    fin.counts.df <- counts.df[,-c(1)]\n",
    "    colnames(fin.counts.df) <- samples\n",
    "    head(fin.counts.df)\n",
    "\n",
    "    #export df\n",
    "    mtx.fp <- file.path(outdir,sprintf('%s_sample_gex_total_counts.txt',cell_type))\n",
    "    write.table(fin.counts.df,mtx.fp,sep='\\t',quote=FALSE)\n",
    "}"
   ]
  },
  {
   "cell_type": "markdown",
   "id": "8b103d17-18cd-44f2-a042-4171666492be",
   "metadata": {},
   "source": [
    "## Alberta"
   ]
  },
  {
   "cell_type": "code",
   "execution_count": 104,
   "id": "976b6b02",
   "metadata": {},
   "outputs": [],
   "source": [
    "# Set cluster identities to cell types\n",
    "Idents(adata1) <- adata1@meta.data$major_celltypes_fin"
   ]
  },
  {
   "cell_type": "code",
   "execution_count": 105,
   "id": "39fbd6ef",
   "metadata": {},
   "outputs": [
    {
     "data": {
      "text/html": [
       "<style>\n",
       ".list-inline {list-style: none; margin:0; padding: 0}\n",
       ".list-inline>li {display: inline-block}\n",
       ".list-inline>li:not(:last-child)::after {content: \"\\00b7\"; padding: 0 .5ex}\n",
       "</style>\n",
       "<ol class=list-inline><li>36601</li><li>174819</li></ol>\n"
      ],
      "text/latex": [
       "\\begin{enumerate*}\n",
       "\\item 36601\n",
       "\\item 174819\n",
       "\\end{enumerate*}\n"
      ],
      "text/markdown": [
       "1. 36601\n",
       "2. 174819\n",
       "\n",
       "\n"
      ],
      "text/plain": [
       "[1]  36601 174819"
      ]
     },
     "metadata": {},
     "output_type": "display_data"
    }
   ],
   "source": [
    "# Get counts data (RNA)\n",
    "DefaultAssay(adata1) <- 'RNA'\n",
    "gex.counts1 <- GetAssayData(adata1, slot='counts')\n",
    "dim(gex.counts1)"
   ]
  },
  {
   "cell_type": "code",
   "execution_count": 106,
   "id": "cc25fb6e",
   "metadata": {},
   "outputs": [
    {
     "data": {
      "text/html": [
       "28"
      ],
      "text/latex": [
       "28"
      ],
      "text/markdown": [
       "28"
      ],
      "text/plain": [
       "[1] 28"
      ]
     },
     "metadata": {},
     "output_type": "display_data"
    }
   ],
   "source": [
    "# Get sample barcodes\n",
    "sample_bcs1 <- list()\n",
    "for (sample in alberta_samples){\n",
    "    sample_bcs1[[sample]] <- row.names(adata1[[]][adata1[[]]$library == sample,])\n",
    "}\n",
    "length(sample_bcs1)"
   ]
  },
  {
   "cell_type": "code",
   "execution_count": 109,
   "id": "7d991175",
   "metadata": {},
   "outputs": [],
   "source": [
    "#Run function to make matrices\n",
    "matrix_dir1 <- file.path(outdir, 'RNA', 'alberta_sample_matrices')\n",
    "dir.create(matrix_dir1, showWarnings = FALSE)"
   ]
  },
  {
   "cell_type": "code",
   "execution_count": 110,
   "id": "bb199ade",
   "metadata": {},
   "outputs": [
    {
     "name": "stdout",
     "output_type": "stream",
     "text": [
      "[1] \"beta 2023-10-05 15:12:31\"\n",
      "[1] 36601 81100\n",
      "[1] \"alpha 2023-10-05 15:12:53\"\n",
      "[1] 36601 44500\n",
      "[1] \"delta 2023-10-05 15:13:04\"\n",
      "[1] 36601  8911\n",
      "[1] \"gamma 2023-10-05 15:13:07\"\n",
      "[1] 36601  5504\n",
      "[1] \"acinar 2023-10-05 15:13:10\"\n",
      "[1] 36601 27387\n",
      "[1] \"ductal 2023-10-05 15:13:16\"\n",
      "[1] 36601  5452\n",
      "[1] \"endothelial 2023-10-05 15:13:18\"\n",
      "[1] 36601   342\n",
      "[1] \"immune 2023-10-05 15:13:19\"\n",
      "[1] 36601   633\n",
      "[1] \"stellate 2023-10-05 15:13:21\"\n",
      "[1] 36601   990\n"
     ]
    }
   ],
   "source": [
    "for (celltype in joint_celltypes){\n",
    "    print(paste(celltype, Sys.time()))\n",
    "    get_per_sample_gex_SUMS(adata1, gex.counts1, sample_bcs1, celltype, alberta_samples, matrix_dir1)\n",
    "}"
   ]
  },
  {
   "cell_type": "markdown",
   "id": "31942687-4414-42f3-bb33-2dfabca1a159",
   "metadata": {},
   "source": [
    "## HPAP"
   ]
  },
  {
   "cell_type": "code",
   "execution_count": 13,
   "id": "67564305",
   "metadata": {},
   "outputs": [],
   "source": [
    "# Set cluster identities to cell types\n",
    "Idents(adata2_nd) <- adata2_nd$matched_celltype"
   ]
  },
  {
   "cell_type": "code",
   "execution_count": 14,
   "id": "2c555eb6",
   "metadata": {},
   "outputs": [
    {
     "data": {
      "text/plain": [
       "An object of class Seurat \n",
       "36601 features across 71871 samples within 1 assay \n",
       "Active assay: RNA (36601 features, 2000 variable features)\n",
       " 3 dimensional reductions calculated: pca, harmony, umap"
      ]
     },
     "metadata": {},
     "output_type": "display_data"
    }
   ],
   "source": [
    "adata2_nd"
   ]
  },
  {
   "cell_type": "code",
   "execution_count": null,
   "id": "780c2f6d-069e-457a-9b27-23c99d26d0d6",
   "metadata": {
    "scrolled": true
   },
   "outputs": [],
   "source": [
    "# Get counts data (RNA)\n",
    "DefaultAssay(adata2_nd) <- 'RNA'\n",
    "gex.counts2 <- GetAssayData(adata2_nd, slot='counts')"
   ]
  },
  {
   "cell_type": "code",
   "execution_count": 19,
   "id": "4e9c13fb",
   "metadata": {},
   "outputs": [
    {
     "data": {
      "text/html": [
       "27"
      ],
      "text/latex": [
       "27"
      ],
      "text/markdown": [
       "27"
      ],
      "text/plain": [
       "[1] 27"
      ]
     },
     "metadata": {},
     "output_type": "display_data"
    }
   ],
   "source": [
    "# Get sample barcodes\n",
    "sample_bcs2 <- list()\n",
    "for (sample in hpap_samples){\n",
    "    sample_bcs2[[sample]] <- row.names(adata2[[]][adata2[[]]$library == sample,])\n",
    "}\n",
    "length(sample_bcs2)"
   ]
  },
  {
   "cell_type": "code",
   "execution_count": 20,
   "id": "8e827a25",
   "metadata": {},
   "outputs": [],
   "source": [
    "matrix_dir2 <- file.path(outdir, 'RNA', 'hpap_sample_matrices')\n",
    "dir.create(matrix_dir2, showWarnings = FALSE)"
   ]
  },
  {
   "cell_type": "code",
   "execution_count": 23,
   "id": "fb13ba23",
   "metadata": {},
   "outputs": [
    {
     "name": "stdout",
     "output_type": "stream",
     "text": [
      "[1] \"beta 2023-10-06 11:26:03\"\n",
      "[1] 36601 17671\n",
      "[1] \"alpha 2023-10-06 11:26:11\"\n",
      "[1] 36601 21476\n",
      "[1] \"delta 2023-10-06 11:26:16\"\n",
      "[1] 36601  1993\n",
      "[1] \"gamma 2023-10-06 11:26:18\"\n",
      "[1] 36601   815\n",
      "[1] \"acinar 2023-10-06 11:26:19\"\n",
      "[1] 36601 14419\n",
      "[1] \"ductal 2023-10-06 11:26:23\"\n",
      "[1] 36601  5987\n",
      "[1] \"endothelial 2023-10-06 11:26:26\"\n",
      "[1] 36601  2695\n",
      "[1] \"immune 2023-10-06 11:26:27\"\n",
      "[1] 36601   951\n",
      "[1] \"stellate 2023-10-06 11:26:28\"\n",
      "[1] 36601  4045\n"
     ]
    }
   ],
   "source": [
    "#Run function to make matrices\n",
    "for (celltype in joint_celltypes){\n",
    "    print(paste(celltype, Sys.time()))\n",
    "    get_per_sample_gex_SUMS(adata2_nd, gex.counts2, sample_bcs2, celltype, hpap_samples, matrix_dir2)\n",
    "}"
   ]
  },
  {
   "cell_type": "markdown",
   "id": "01f4998f-5130-44a2-a7bf-ebdda81fb67e",
   "metadata": {},
   "source": [
    "## Merge tables into one"
   ]
  },
  {
   "cell_type": "code",
   "execution_count": 24,
   "id": "cee056d2",
   "metadata": {},
   "outputs": [],
   "source": [
    "matrix_dir_fin <- file.path(outdir,'RNA','merged_sample_matrices')\n",
    "dir.create(matrix_dir_fin, showWarnings=FALSE)"
   ]
  },
  {
   "cell_type": "code",
   "execution_count": 25,
   "id": "4927b8b9",
   "metadata": {},
   "outputs": [
    {
     "name": "stdout",
     "output_type": "stream",
     "text": [
      "\n",
      " TRUE \n",
      "36601 \n",
      "\n",
      " TRUE \n",
      "36601 \n",
      "\n",
      " TRUE \n",
      "36601 \n",
      "\n",
      " TRUE \n",
      "36601 \n",
      "\n",
      " TRUE \n",
      "36601 \n",
      "\n",
      " TRUE \n",
      "36601 \n",
      "\n",
      " TRUE \n",
      "36601 \n",
      "\n",
      " TRUE \n",
      "36601 \n",
      "\n",
      " TRUE \n",
      "36601 \n"
     ]
    }
   ],
   "source": [
    "for (celltype in joint_celltypes){\n",
    "    #read in separate matrices\n",
    "    fp1 <- file.path(outdir, 'alberta_sample_matrices', sprintf('%s_sample_gex_total_counts.txt',celltype))\n",
    "    fp2 <- file.path(outdir, 'hpap_sample_matrices', sprintf('%s_sample_gex_total_counts.txt',celltype))\n",
    "    mat1 <- read.table(fp1, sep='\\t')\n",
    "    mat2 <- read.table(fp2, sep='\\t')\n",
    "    \n",
    "    #merge them into one matrix with cbind\n",
    "    print(table(row.names(mat1) == row.names(mat2))) #make sure genes are in same order!!!!\n",
    "    mat_fin <- cbind(mat1, mat2)\n",
    "    fp_fin <- file.path(matrix_dir_fin, sprintf('%s_sample_gex_total_counts.txt',celltype))\n",
    "    write.table(mat_fin, fp_fin, sep='\\t', quote=FALSE)\n",
    "}"
   ]
  },
  {
   "cell_type": "markdown",
   "id": "e8a84578-0001-4de3-9835-b36fd0b76645",
   "metadata": {},
   "source": [
    "# 5. Prepare ATAC combined pseudobulk counts tables for DESeq"
   ]
  },
  {
   "cell_type": "markdown",
   "id": "18dccf43-4b67-43b1-b555-ff2bc1df7de5",
   "metadata": {
    "tags": []
   },
   "source": [
    "## Alberta"
   ]
  },
  {
   "cell_type": "code",
   "execution_count": 18,
   "id": "9d208b1e",
   "metadata": {
    "tags": []
   },
   "outputs": [],
   "source": [
    "# Set cluster identities to cell types\n",
    "Idents(adata1) <- adata1@meta.data$major_celltypes_fin"
   ]
  },
  {
   "cell_type": "code",
   "execution_count": 37,
   "id": "6f24167f",
   "metadata": {
    "tags": []
   },
   "outputs": [
    {
     "data": {
      "text/html": [
       "<style>\n",
       ".list-inline {list-style: none; margin:0; padding: 0}\n",
       ".list-inline>li {display: inline-block}\n",
       ".list-inline>li:not(:last-child)::after {content: \"\\00b7\"; padding: 0 .5ex}\n",
       "</style>\n",
       "<ol class=list-inline><li>291821</li><li>174819</li></ol>\n"
      ],
      "text/latex": [
       "\\begin{enumerate*}\n",
       "\\item 291821\n",
       "\\item 174819\n",
       "\\end{enumerate*}\n"
      ],
      "text/markdown": [
       "1. 291821\n",
       "2. 174819\n",
       "\n",
       "\n"
      ],
      "text/plain": [
       "[1] 291821 174819"
      ]
     },
     "metadata": {},
     "output_type": "display_data"
    }
   ],
   "source": [
    "# Get counts data (RNA)\n",
    "DefaultAssay(adata1) <- 'ATAC_CTpeaks'\n",
    "atac.counts1 <- GetAssayData(adata1, slot='counts')\n",
    "dim(atac.counts1)"
   ]
  },
  {
   "cell_type": "code",
   "execution_count": 38,
   "id": "83fab6f0",
   "metadata": {
    "tags": []
   },
   "outputs": [
    {
     "data": {
      "text/html": [
       "28"
      ],
      "text/latex": [
       "28"
      ],
      "text/markdown": [
       "28"
      ],
      "text/plain": [
       "[1] 28"
      ]
     },
     "metadata": {},
     "output_type": "display_data"
    }
   ],
   "source": [
    "# Get sample barcodes\n",
    "sample_bcs1 <- list()\n",
    "for (sample in alberta_samples){\n",
    "    sample_bcs1[[sample]] <- row.names(adata1[[]][adata1[[]]$library == sample,])\n",
    "}\n",
    "length(sample_bcs1)"
   ]
  },
  {
   "cell_type": "code",
   "execution_count": 39,
   "id": "f57b1b9a",
   "metadata": {
    "tags": []
   },
   "outputs": [],
   "source": [
    "#Run function to make matrices\n",
    "matrix_dir1 <- file.path(outdir, 'ATAC', 'alberta_sample_matrices')\n",
    "dir.create(matrix_dir1, showWarnings = FALSE)"
   ]
  },
  {
   "cell_type": "code",
   "execution_count": 40,
   "id": "d8d6d8d5",
   "metadata": {
    "tags": []
   },
   "outputs": [
    {
     "name": "stdout",
     "output_type": "stream",
     "text": [
      "[1] \"beta 2024-03-13 14:56:41\"\n",
      "[1] 291821  81100\n",
      "[1] \"alpha 2024-03-13 14:58:38\"\n",
      "[1] 291821  44500\n",
      "[1] \"delta 2024-03-13 14:59:50\"\n",
      "[1] 291821   8911\n",
      "[1] \"gamma 2024-03-13 15:00:18\"\n",
      "[1] 291821   5504\n",
      "[1] \"acinar 2024-03-13 15:00:38\"\n",
      "[1] 291821  27387\n",
      "[1] \"ductal 2024-03-13 15:02:23\"\n",
      "[1] 291821   5452\n",
      "[1] \"endothelial 2024-03-13 15:02:42\"\n",
      "[1] 291821    342\n",
      "[1] \"immune 2024-03-13 15:02:54\"\n",
      "[1] 291821    633\n",
      "[1] \"stellate 2024-03-13 15:03:06\"\n",
      "[1] 291821    990\n"
     ]
    }
   ],
   "source": [
    "for (celltype in joint_celltypes){\n",
    "    print(paste(celltype, Sys.time()))\n",
    "    get_per_sample_gex_SUMS(adata1, atac.counts1, sample_bcs1, celltype, alberta_samples, matrix_dir1)\n",
    "}"
   ]
  },
  {
   "cell_type": "markdown",
   "id": "8bbae1c5-8948-40d5-8b54-bc1c56ab6d86",
   "metadata": {},
   "source": [
    "## HPAP: Use featureCounts and sinto to get counts of Alberta peaks"
   ]
  },
  {
   "cell_type": "code",
   "execution_count": 13,
   "id": "9ddc25f8",
   "metadata": {
    "scrolled": true
   },
   "outputs": [
    {
     "name": "stdout",
     "output_type": "stream",
     "text": [
      "[1] \"HPAP-035\"\n",
      "[1] 2642    2\n",
      "[1] 2642    2\n",
      "[1] \"HPAP-036\"\n",
      "[1] 5449    2\n",
      "[1] 5449    2\n",
      "[1] \"HPAP-039\"\n",
      "[1] 2827    2\n",
      "[1] 2827    2\n",
      "[1] \"HPAP-045\"\n",
      "[1] 1958    2\n",
      "[1] 1958    2\n",
      "[1] \"HPAP-049\"\n",
      "[1] 2862    2\n",
      "[1] 2862    2\n",
      "[1] \"HPAP-050\"\n",
      "[1] 1111    2\n",
      "[1] 1111    2\n",
      "[1] \"HPAP-052\"\n",
      "[1] 1153    2\n",
      "[1] 1153    2\n",
      "[1] \"HPAP-053\"\n",
      "[1] 1385    2\n",
      "[1] 1385    2\n",
      "[1] \"HPAP-054\"\n",
      "[1] 2855    2\n",
      "[1] 2855    2\n",
      "[1] \"HPAP-056\"\n",
      "[1] 2107    2\n",
      "[1] 2107    2\n",
      "[1] \"HPAP-059\"\n",
      "[1] 1429    2\n",
      "[1] 1429    2\n",
      "[1] \"HPAP-067\"\n",
      "[1] 1617    2\n",
      "[1] 1617    2\n",
      "[1] \"HPAP-069\"\n",
      "[1] 2115    2\n",
      "[1] 2115    2\n",
      "[1] \"HPAP-072\"\n",
      "[1] 2088    2\n",
      "[1] 2088    2\n",
      "[1] \"HPAP-075\"\n",
      "[1] 1735    2\n",
      "[1] 1735    2\n",
      "[1] \"HPAP-077\"\n",
      "[1] 2160    2\n",
      "[1] 2160    2\n",
      "[1] \"HPAP-080\"\n",
      "[1] 2732    2\n",
      "[1] 2732    2\n",
      "[1] \"HPAP-092\"\n",
      "[1] 3720    2\n",
      "[1] 3720    2\n",
      "[1] \"HPAP-099\"\n",
      "[1] 4950    2\n",
      "[1] 4950    2\n",
      "[1] \"HPAP-101\"\n",
      "[1] 2759    2\n",
      "[1] 2759    2\n",
      "[1] \"HPAP-103\"\n",
      "[1] 3992    2\n",
      "[1] 3992    2\n",
      "[1] \"HPAP-104\"\n",
      "[1] 3572    2\n",
      "[1] 3572    2\n",
      "[1] \"HPAP-105\"\n",
      "[1] 3711    2\n",
      "[1] 3711    2\n"
     ]
    }
   ],
   "source": [
    "#generate files with the list of barcodes for each sample for cell types of interest\n",
    "#with second column labeled by cell type (with sample name appended to it)\n",
    "bc_outdir <- file.path(outdir, 'ATAC', 'hpap_sample_barcodes')\n",
    "\n",
    "for (sample in samples){    \n",
    "    print(sample)\n",
    "    # pull out all barcodes for the sample\n",
    "    sample_bcs = Cells(so)[so[[]]$library==sample]\n",
    "    \n",
    "    # make df with cell type info\n",
    "    bc_df <- data.frame(bc=sample_bcs, celltype=paste(so[[]]$matched_celltype[so[[]]$library==sample]))\n",
    "    print(dim(bc_df))\n",
    "    \n",
    "    # cut down to celltypes of interest then add sample prefix to cell type name\n",
    "    bc_df_cut <- subset(bc_df, celltype %in% joint_celltypes)\n",
    "    bc_df_cut$celltype <- paste(sample, bc_df_cut$celltype, sep='_')\n",
    "    print(dim(bc_df_cut))\n",
    "    \n",
    "    # reformat bc names and write to file\n",
    "    bc_df_cut$bc = substr(bc_df_cut$bc, 10, 27)\n",
    "    \n",
    "    sample_bc_fp = file.path(bc_outdir, sprintf('%s.filtered_barcodes_wCTs_ofInterest.txt',sample))\n",
    "    write.table(bc_df_cut, sample_bc_fp, sep='\\t', row.names=F, col.names=F, quote=F)\n",
    "}"
   ]
  },
  {
   "cell_type": "markdown",
   "id": "11e28972-db9b-4d23-b10f-2fb014294a20",
   "metadata": {},
   "source": [
    "### See directory `2b_quantify_counts_in_peaks` for instructions on running sinto and featureCounts to get per-peak counts for HPAP ATAC data"
   ]
  },
  {
   "cell_type": "markdown",
   "id": "d7a5f851-26b5-4dff-8432-f04514a5f0df",
   "metadata": {},
   "source": [
    "### Read in featureCounts outputs and reorganize\n",
    "Goal: peak x sample matrix of total counts (rownames = chr-start-end, colnames = HPAP-###)"
   ]
  },
  {
   "cell_type": "code",
   "execution_count": 3,
   "id": "0b5836d2",
   "metadata": {
    "tags": []
   },
   "outputs": [],
   "source": [
    "options(scipen=999)"
   ]
  },
  {
   "cell_type": "code",
   "execution_count": 4,
   "id": "373708d3",
   "metadata": {
    "tags": []
   },
   "outputs": [],
   "source": [
    "### Function to process a featureCounts output matrix into an simplified format\n",
    "### really just removing some columns and updating labels\n",
    "convert_featureCounts_mtx <- function(fc_fp, celltype, out_fp){\n",
    "    # Read in output df and make peaks row names\n",
    "    df <- as.data.frame(vroom::vroom(fc_fp, delim='\\t', skip=1))\n",
    "    row.names(df) <- paste(df$Chr, df$Start-1, df$End, sep='-')\n",
    "    \n",
    "    # Remove unnecessary columns, then simplify colnames\n",
    "    fin_df <- df[,-c(1,2,3,4,5,6)]\n",
    "    new_names <- gsub(sprintf('_%s.bam', celltype), '', sapply(strsplit(colnames(fin_df), split='/'), tail, n=1))\n",
    "    colnames(fin_df) <- new_names\n",
    "    write.table(fin_df, out_fp, sep='\\t', quote=F)\n",
    "}"
   ]
  },
  {
   "cell_type": "code",
   "execution_count": 10,
   "id": "a7f20af0",
   "metadata": {
    "tags": []
   },
   "outputs": [],
   "source": [
    "fc_dir <- 'path/to/feature/counts/outputs'\n",
    "mtx_dir <- file.path(outdir, 'ATAC', 'hpap_sample_matrices')"
   ]
  },
  {
   "cell_type": "code",
   "execution_count": 11,
   "id": "038708dc",
   "metadata": {
    "scrolled": true,
    "tags": []
   },
   "outputs": [
    {
     "name": "stderr",
     "output_type": "stream",
     "text": [
      "\u001b[1mRows: \u001b[22m\u001b[34m291821\u001b[39m \u001b[1mColumns: \u001b[22m\u001b[34m10\u001b[39m\n",
      "\u001b[36m──\u001b[39m \u001b[1mColumn specification\u001b[22m \u001b[36m──────────────────────────────────────────────────────────────────────────────────────\u001b[39m\n",
      "\u001b[1mDelimiter:\u001b[22m \"\\t\"\n",
      "\u001b[31mchr\u001b[39m (3): Geneid, Chr, Strand\n",
      "\u001b[32mdbl\u001b[39m (7): Start, End, Length, /nfs/lab/projects/multiomic_islet/outputs/multi...\n",
      "\n",
      "\u001b[36mℹ\u001b[39m Use `spec()` to retrieve the full column specification for this data.\n",
      "\u001b[36mℹ\u001b[39m Specify the column types or set `show_col_types = FALSE` to quiet this message.\n",
      "\u001b[1mRows: \u001b[22m\u001b[34m291821\u001b[39m \u001b[1mColumns: \u001b[22m\u001b[34m10\u001b[39m\n",
      "\u001b[36m──\u001b[39m \u001b[1mColumn specification\u001b[22m \u001b[36m──────────────────────────────────────────────────────────────────────────────────────\u001b[39m\n",
      "\u001b[1mDelimiter:\u001b[22m \"\\t\"\n",
      "\u001b[31mchr\u001b[39m (3): Geneid, Chr, Strand\n",
      "\u001b[32mdbl\u001b[39m (7): Start, End, Length, /nfs/lab/projects/multiomic_islet/outputs/multi...\n",
      "\n",
      "\u001b[36mℹ\u001b[39m Use `spec()` to retrieve the full column specification for this data.\n",
      "\u001b[36mℹ\u001b[39m Specify the column types or set `show_col_types = FALSE` to quiet this message.\n",
      "\u001b[1mRows: \u001b[22m\u001b[34m291821\u001b[39m \u001b[1mColumns: \u001b[22m\u001b[34m10\u001b[39m\n",
      "\u001b[36m──\u001b[39m \u001b[1mColumn specification\u001b[22m \u001b[36m──────────────────────────────────────────────────────────────────────────────────────\u001b[39m\n",
      "\u001b[1mDelimiter:\u001b[22m \"\\t\"\n",
      "\u001b[31mchr\u001b[39m (3): Geneid, Chr, Strand\n",
      "\u001b[32mdbl\u001b[39m (7): Start, End, Length, /nfs/lab/projects/multiomic_islet/outputs/multi...\n",
      "\n",
      "\u001b[36mℹ\u001b[39m Use `spec()` to retrieve the full column specification for this data.\n",
      "\u001b[36mℹ\u001b[39m Specify the column types or set `show_col_types = FALSE` to quiet this message.\n",
      "\u001b[1mRows: \u001b[22m\u001b[34m291821\u001b[39m \u001b[1mColumns: \u001b[22m\u001b[34m10\u001b[39m\n",
      "\u001b[36m──\u001b[39m \u001b[1mColumn specification\u001b[22m \u001b[36m──────────────────────────────────────────────────────────────────────────────────────\u001b[39m\n",
      "\u001b[1mDelimiter:\u001b[22m \"\\t\"\n",
      "\u001b[31mchr\u001b[39m (3): Geneid, Chr, Strand\n",
      "\u001b[32mdbl\u001b[39m (7): Start, End, Length, /nfs/lab/projects/multiomic_islet/outputs/multi...\n",
      "\n",
      "\u001b[36mℹ\u001b[39m Use `spec()` to retrieve the full column specification for this data.\n",
      "\u001b[36mℹ\u001b[39m Specify the column types or set `show_col_types = FALSE` to quiet this message.\n",
      "\u001b[1mRows: \u001b[22m\u001b[34m291821\u001b[39m \u001b[1mColumns: \u001b[22m\u001b[34m10\u001b[39m\n",
      "\u001b[36m──\u001b[39m \u001b[1mColumn specification\u001b[22m \u001b[36m──────────────────────────────────────────────────────────────────────────────────────\u001b[39m\n",
      "\u001b[1mDelimiter:\u001b[22m \"\\t\"\n",
      "\u001b[31mchr\u001b[39m (3): Geneid, Chr, Strand\n",
      "\u001b[32mdbl\u001b[39m (7): Start, End, Length, /nfs/lab/projects/multiomic_islet/outputs/multi...\n",
      "\n",
      "\u001b[36mℹ\u001b[39m Use `spec()` to retrieve the full column specification for this data.\n",
      "\u001b[36mℹ\u001b[39m Specify the column types or set `show_col_types = FALSE` to quiet this message.\n",
      "\u001b[1mRows: \u001b[22m\u001b[34m291821\u001b[39m \u001b[1mColumns: \u001b[22m\u001b[34m10\u001b[39m\n",
      "\u001b[36m──\u001b[39m \u001b[1mColumn specification\u001b[22m \u001b[36m──────────────────────────────────────────────────────────────────────────────────────\u001b[39m\n",
      "\u001b[1mDelimiter:\u001b[22m \"\\t\"\n",
      "\u001b[31mchr\u001b[39m (3): Geneid, Chr, Strand\n",
      "\u001b[32mdbl\u001b[39m (7): Start, End, Length, /nfs/lab/projects/multiomic_islet/outputs/multi...\n",
      "\n",
      "\u001b[36mℹ\u001b[39m Use `spec()` to retrieve the full column specification for this data.\n",
      "\u001b[36mℹ\u001b[39m Specify the column types or set `show_col_types = FALSE` to quiet this message.\n",
      "\u001b[1mRows: \u001b[22m\u001b[34m291821\u001b[39m \u001b[1mColumns: \u001b[22m\u001b[34m10\u001b[39m\n",
      "\u001b[36m──\u001b[39m \u001b[1mColumn specification\u001b[22m \u001b[36m──────────────────────────────────────────────────────────────────────────────────────\u001b[39m\n",
      "\u001b[1mDelimiter:\u001b[22m \"\\t\"\n",
      "\u001b[31mchr\u001b[39m (3): Geneid, Chr, Strand\n",
      "\u001b[32mdbl\u001b[39m (7): Start, End, Length, /nfs/lab/projects/multiomic_islet/outputs/multi...\n",
      "\n",
      "\u001b[36mℹ\u001b[39m Use `spec()` to retrieve the full column specification for this data.\n",
      "\u001b[36mℹ\u001b[39m Specify the column types or set `show_col_types = FALSE` to quiet this message.\n",
      "\u001b[1mRows: \u001b[22m\u001b[34m291821\u001b[39m \u001b[1mColumns: \u001b[22m\u001b[34m9\u001b[39m\n",
      "\u001b[36m──\u001b[39m \u001b[1mColumn specification\u001b[22m \u001b[36m──────────────────────────────────────────────────────────────────────────────────────\u001b[39m\n",
      "\u001b[1mDelimiter:\u001b[22m \"\\t\"\n",
      "\u001b[31mchr\u001b[39m (3): Geneid, Chr, Strand\n",
      "\u001b[32mdbl\u001b[39m (6): Start, End, Length, /nfs/lab/projects/multiomic_islet/outputs/multi...\n",
      "\n",
      "\u001b[36mℹ\u001b[39m Use `spec()` to retrieve the full column specification for this data.\n",
      "\u001b[36mℹ\u001b[39m Specify the column types or set `show_col_types = FALSE` to quiet this message.\n",
      "\u001b[1mRows: \u001b[22m\u001b[34m291821\u001b[39m \u001b[1mColumns: \u001b[22m\u001b[34m10\u001b[39m\n",
      "\u001b[36m──\u001b[39m \u001b[1mColumn specification\u001b[22m \u001b[36m──────────────────────────────────────────────────────────────────────────────────────\u001b[39m\n",
      "\u001b[1mDelimiter:\u001b[22m \"\\t\"\n",
      "\u001b[31mchr\u001b[39m (3): Geneid, Chr, Strand\n",
      "\u001b[32mdbl\u001b[39m (7): Start, End, Length, /nfs/lab/projects/multiomic_islet/outputs/multi...\n",
      "\n",
      "\u001b[36mℹ\u001b[39m Use `spec()` to retrieve the full column specification for this data.\n",
      "\u001b[36mℹ\u001b[39m Specify the column types or set `show_col_types = FALSE` to quiet this message.\n"
     ]
    }
   ],
   "source": [
    "for (celltype in joint_celltypes){\n",
    "    fc_fp <- file.path(fc_dir, sprintf('%s_featureCounts_mtx.txt', celltype))\n",
    "    out_fp <- file.path(mtx_dir ,sprintf('%s_sample_peak_total_counts.txt', celltype))\n",
    "    convert_featureCounts_mtx(fc_fp, celltype, out_fp)\n",
    "}"
   ]
  },
  {
   "cell_type": "markdown",
   "id": "55157c0d-5d93-4ab0-bb01-d64eb9e2493e",
   "metadata": {},
   "source": [
    "## Merge tables into one"
   ]
  },
  {
   "cell_type": "code",
   "execution_count": 78,
   "id": "463c0ed8",
   "metadata": {
    "tags": []
   },
   "outputs": [],
   "source": [
    "matrix_dir_fin <- file.path(outdir, 'ATAC', 'merged_sample_matrices')\n",
    "dir.create(matrix_dir_fin, showWarnings=FALSE)"
   ]
  },
  {
   "cell_type": "code",
   "execution_count": 79,
   "id": "2410d155-e640-42b4-8980-08aba397aa3e",
   "metadata": {
    "tags": []
   },
   "outputs": [
    {
     "data": {
      "text/html": [
       "<table class=\"dataframe\">\n",
       "<caption>A data.frame: 6 × 4</caption>\n",
       "<thead>\n",
       "\t<tr><th></th><th scope=col>V1</th><th scope=col>V2</th><th scope=col>V3</th><th scope=col>V4</th></tr>\n",
       "\t<tr><th></th><th scope=col>&lt;chr&gt;</th><th scope=col>&lt;int&gt;</th><th scope=col>&lt;int&gt;</th><th scope=col>&lt;chr&gt;</th></tr>\n",
       "</thead>\n",
       "<tbody>\n",
       "\t<tr><th scope=row>1</th><td>chr1</td><td>  9956</td><td> 10256</td><td>acinar_peak_1</td></tr>\n",
       "\t<tr><th scope=row>2</th><td>chr1</td><td> 29219</td><td> 29482</td><td>acinar_peak_2</td></tr>\n",
       "\t<tr><th scope=row>3</th><td>chr1</td><td> 99568</td><td> 99868</td><td>acinar_peak_3</td></tr>\n",
       "\t<tr><th scope=row>4</th><td>chr1</td><td>102793</td><td>103093</td><td>acinar_peak_4</td></tr>\n",
       "\t<tr><th scope=row>5</th><td>chr1</td><td>127658</td><td>127913</td><td>ductal_peak_3</td></tr>\n",
       "\t<tr><th scope=row>6</th><td>chr1</td><td>180714</td><td>181014</td><td>immune_peak_2</td></tr>\n",
       "</tbody>\n",
       "</table>\n"
      ],
      "text/latex": [
       "A data.frame: 6 × 4\n",
       "\\begin{tabular}{r|llll}\n",
       "  & V1 & V2 & V3 & V4\\\\\n",
       "  & <chr> & <int> & <int> & <chr>\\\\\n",
       "\\hline\n",
       "\t1 & chr1 &   9956 &  10256 & acinar\\_peak\\_1\\\\\n",
       "\t2 & chr1 &  29219 &  29482 & acinar\\_peak\\_2\\\\\n",
       "\t3 & chr1 &  99568 &  99868 & acinar\\_peak\\_3\\\\\n",
       "\t4 & chr1 & 102793 & 103093 & acinar\\_peak\\_4\\\\\n",
       "\t5 & chr1 & 127658 & 127913 & ductal\\_peak\\_3\\\\\n",
       "\t6 & chr1 & 180714 & 181014 & immune\\_peak\\_2\\\\\n",
       "\\end{tabular}\n"
      ],
      "text/markdown": [
       "\n",
       "A data.frame: 6 × 4\n",
       "\n",
       "| <!--/--> | V1 &lt;chr&gt; | V2 &lt;int&gt; | V3 &lt;int&gt; | V4 &lt;chr&gt; |\n",
       "|---|---|---|---|---|\n",
       "| 1 | chr1 |   9956 |  10256 | acinar_peak_1 |\n",
       "| 2 | chr1 |  29219 |  29482 | acinar_peak_2 |\n",
       "| 3 | chr1 |  99568 |  99868 | acinar_peak_3 |\n",
       "| 4 | chr1 | 102793 | 103093 | acinar_peak_4 |\n",
       "| 5 | chr1 | 127658 | 127913 | ductal_peak_3 |\n",
       "| 6 | chr1 | 180714 | 181014 | immune_peak_2 |\n",
       "\n"
      ],
      "text/plain": [
       "  V1   V2     V3     V4           \n",
       "1 chr1   9956  10256 acinar_peak_1\n",
       "2 chr1  29219  29482 acinar_peak_2\n",
       "3 chr1  99568  99868 acinar_peak_3\n",
       "4 chr1 102793 103093 acinar_peak_4\n",
       "5 chr1 127658 127913 ductal_peak_3\n",
       "6 chr1 180714 181014 immune_peak_2"
      ]
     },
     "metadata": {},
     "output_type": "display_data"
    },
    {
     "data": {
      "text/html": [
       "<style>\n",
       ".list-inline {list-style: none; margin:0; padding: 0}\n",
       ".list-inline>li {display: inline-block}\n",
       ".list-inline>li:not(:last-child)::after {content: \"\\00b7\"; padding: 0 .5ex}\n",
       "</style>\n",
       "<ol class=list-inline><li>'chr1-9956-10256'</li><li>'chr1-29219-29482'</li><li>'chr1-99568-99868'</li><li>'chr1-102793-103093'</li><li>'chr1-127658-127913'</li><li>'chr1-180714-181014'</li><li>'chr1-181329-181629'</li><li>'chr1-184020-184320'</li><li>'chr1-184344-184566'</li><li>'chr1-191340-191640'</li><li>'chr1-191737-192037'</li><li>'chr1-267860-268160'</li><li>'chr1-276157-276457'</li><li>'chr1-586035-586331'</li><li>'chr1-591083-591372'</li><li>'chr1-629814-630102'</li><li>'chr1-633872-634172'</li><li>'chr1-645613-645913'</li><li>'chr1-727146-727361'</li><li>'chr1-733694-733994'</li></ol>\n"
      ],
      "text/latex": [
       "\\begin{enumerate*}\n",
       "\\item 'chr1-9956-10256'\n",
       "\\item 'chr1-29219-29482'\n",
       "\\item 'chr1-99568-99868'\n",
       "\\item 'chr1-102793-103093'\n",
       "\\item 'chr1-127658-127913'\n",
       "\\item 'chr1-180714-181014'\n",
       "\\item 'chr1-181329-181629'\n",
       "\\item 'chr1-184020-184320'\n",
       "\\item 'chr1-184344-184566'\n",
       "\\item 'chr1-191340-191640'\n",
       "\\item 'chr1-191737-192037'\n",
       "\\item 'chr1-267860-268160'\n",
       "\\item 'chr1-276157-276457'\n",
       "\\item 'chr1-586035-586331'\n",
       "\\item 'chr1-591083-591372'\n",
       "\\item 'chr1-629814-630102'\n",
       "\\item 'chr1-633872-634172'\n",
       "\\item 'chr1-645613-645913'\n",
       "\\item 'chr1-727146-727361'\n",
       "\\item 'chr1-733694-733994'\n",
       "\\end{enumerate*}\n"
      ],
      "text/markdown": [
       "1. 'chr1-9956-10256'\n",
       "2. 'chr1-29219-29482'\n",
       "3. 'chr1-99568-99868'\n",
       "4. 'chr1-102793-103093'\n",
       "5. 'chr1-127658-127913'\n",
       "6. 'chr1-180714-181014'\n",
       "7. 'chr1-181329-181629'\n",
       "8. 'chr1-184020-184320'\n",
       "9. 'chr1-184344-184566'\n",
       "10. 'chr1-191340-191640'\n",
       "11. 'chr1-191737-192037'\n",
       "12. 'chr1-267860-268160'\n",
       "13. 'chr1-276157-276457'\n",
       "14. 'chr1-586035-586331'\n",
       "15. 'chr1-591083-591372'\n",
       "16. 'chr1-629814-630102'\n",
       "17. 'chr1-633872-634172'\n",
       "18. 'chr1-645613-645913'\n",
       "19. 'chr1-727146-727361'\n",
       "20. 'chr1-733694-733994'\n",
       "\n",
       "\n"
      ],
      "text/plain": [
       " [1] \"chr1-9956-10256\"    \"chr1-29219-29482\"   \"chr1-99568-99868\"  \n",
       " [4] \"chr1-102793-103093\" \"chr1-127658-127913\" \"chr1-180714-181014\"\n",
       " [7] \"chr1-181329-181629\" \"chr1-184020-184320\" \"chr1-184344-184566\"\n",
       "[10] \"chr1-191340-191640\" \"chr1-191737-192037\" \"chr1-267860-268160\"\n",
       "[13] \"chr1-276157-276457\" \"chr1-586035-586331\" \"chr1-591083-591372\"\n",
       "[16] \"chr1-629814-630102\" \"chr1-633872-634172\" \"chr1-645613-645913\"\n",
       "[19] \"chr1-727146-727361\" \"chr1-733694-733994\""
      ]
     },
     "metadata": {},
     "output_type": "display_data"
    }
   ],
   "source": [
    "#read in correctly sorted union peaks file to use for ordering\n",
    "peaks_fp <- '/path/to/final_peaks.bed'\n",
    "peaks_df <- read.table(peaks_fp, sep='\\t')\n",
    "head(peaks_df)\n",
    "peaks <- paste(peaks_df$V1,peaks_df$V2,peaks_df$V3,sep='-')\n",
    "head(peaks,20)"
   ]
  },
  {
   "cell_type": "code",
   "execution_count": 81,
   "id": "bd2e1e15-e27f-487a-9eb5-6c5c0b7fb66b",
   "metadata": {
    "tags": []
   },
   "outputs": [
    {
     "data": {
      "text/html": [
       "<style>\n",
       ".list-inline {list-style: none; margin:0; padding: 0}\n",
       ".list-inline>li {display: inline-block}\n",
       ".list-inline>li:not(:last-child)::after {content: \"\\00b7\"; padding: 0 .5ex}\n",
       "</style>\n",
       "<ol class=list-inline><li>'R207'</li><li>'R217'</li><li>'R218'</li><li>'R221'</li><li>'R223'</li><li>'R226'</li><li>'R228'</li><li>'R234'</li><li>'R237'</li><li>'R238'</li><li>'R246'</li><li>'R247'</li><li>'R275'</li><li>'R284'</li><li>'R290'</li><li>'R292'</li><li>'R316'</li><li>'R317'</li><li>'R319'</li><li>'R325'</li><li>'R326'</li><li>'R327'</li><li>'R332'</li><li>'R353'</li><li>'R354'</li><li>'R362'</li><li>'R363'</li><li>'R364'</li><li>'HPAP-035'</li><li>'HPAP-036'</li><li>'HPAP-039'</li><li>'HPAP-040'</li><li>'HPAP-044'</li><li>'HPAP-045'</li><li>'HPAP-047'</li><li>'HPAP-049'</li><li>'HPAP-050'</li><li>'HPAP-052'</li><li>'HPAP-053'</li><li>'HPAP-054'</li><li>'HPAP-056'</li><li>'HPAP-059'</li><li>'HPAP-063'</li><li>'HPAP-067'</li><li>'HPAP-069'</li><li>'HPAP-072'</li><li>'HPAP-075'</li><li>'HPAP-077'</li><li>'HPAP-080'</li><li>'HPAP-092'</li><li>'HPAP-099'</li><li>'HPAP-101'</li><li>'HPAP-103'</li><li>'HPAP-104'</li><li>'HPAP-105'</li></ol>\n"
      ],
      "text/latex": [
       "\\begin{enumerate*}\n",
       "\\item 'R207'\n",
       "\\item 'R217'\n",
       "\\item 'R218'\n",
       "\\item 'R221'\n",
       "\\item 'R223'\n",
       "\\item 'R226'\n",
       "\\item 'R228'\n",
       "\\item 'R234'\n",
       "\\item 'R237'\n",
       "\\item 'R238'\n",
       "\\item 'R246'\n",
       "\\item 'R247'\n",
       "\\item 'R275'\n",
       "\\item 'R284'\n",
       "\\item 'R290'\n",
       "\\item 'R292'\n",
       "\\item 'R316'\n",
       "\\item 'R317'\n",
       "\\item 'R319'\n",
       "\\item 'R325'\n",
       "\\item 'R326'\n",
       "\\item 'R327'\n",
       "\\item 'R332'\n",
       "\\item 'R353'\n",
       "\\item 'R354'\n",
       "\\item 'R362'\n",
       "\\item 'R363'\n",
       "\\item 'R364'\n",
       "\\item 'HPAP-035'\n",
       "\\item 'HPAP-036'\n",
       "\\item 'HPAP-039'\n",
       "\\item 'HPAP-040'\n",
       "\\item 'HPAP-044'\n",
       "\\item 'HPAP-045'\n",
       "\\item 'HPAP-047'\n",
       "\\item 'HPAP-049'\n",
       "\\item 'HPAP-050'\n",
       "\\item 'HPAP-052'\n",
       "\\item 'HPAP-053'\n",
       "\\item 'HPAP-054'\n",
       "\\item 'HPAP-056'\n",
       "\\item 'HPAP-059'\n",
       "\\item 'HPAP-063'\n",
       "\\item 'HPAP-067'\n",
       "\\item 'HPAP-069'\n",
       "\\item 'HPAP-072'\n",
       "\\item 'HPAP-075'\n",
       "\\item 'HPAP-077'\n",
       "\\item 'HPAP-080'\n",
       "\\item 'HPAP-092'\n",
       "\\item 'HPAP-099'\n",
       "\\item 'HPAP-101'\n",
       "\\item 'HPAP-103'\n",
       "\\item 'HPAP-104'\n",
       "\\item 'HPAP-105'\n",
       "\\end{enumerate*}\n"
      ],
      "text/markdown": [
       "1. 'R207'\n",
       "2. 'R217'\n",
       "3. 'R218'\n",
       "4. 'R221'\n",
       "5. 'R223'\n",
       "6. 'R226'\n",
       "7. 'R228'\n",
       "8. 'R234'\n",
       "9. 'R237'\n",
       "10. 'R238'\n",
       "11. 'R246'\n",
       "12. 'R247'\n",
       "13. 'R275'\n",
       "14. 'R284'\n",
       "15. 'R290'\n",
       "16. 'R292'\n",
       "17. 'R316'\n",
       "18. 'R317'\n",
       "19. 'R319'\n",
       "20. 'R325'\n",
       "21. 'R326'\n",
       "22. 'R327'\n",
       "23. 'R332'\n",
       "24. 'R353'\n",
       "25. 'R354'\n",
       "26. 'R362'\n",
       "27. 'R363'\n",
       "28. 'R364'\n",
       "29. 'HPAP-035'\n",
       "30. 'HPAP-036'\n",
       "31. 'HPAP-039'\n",
       "32. 'HPAP-040'\n",
       "33. 'HPAP-044'\n",
       "34. 'HPAP-045'\n",
       "35. 'HPAP-047'\n",
       "36. 'HPAP-049'\n",
       "37. 'HPAP-050'\n",
       "38. 'HPAP-052'\n",
       "39. 'HPAP-053'\n",
       "40. 'HPAP-054'\n",
       "41. 'HPAP-056'\n",
       "42. 'HPAP-059'\n",
       "43. 'HPAP-063'\n",
       "44. 'HPAP-067'\n",
       "45. 'HPAP-069'\n",
       "46. 'HPAP-072'\n",
       "47. 'HPAP-075'\n",
       "48. 'HPAP-077'\n",
       "49. 'HPAP-080'\n",
       "50. 'HPAP-092'\n",
       "51. 'HPAP-099'\n",
       "52. 'HPAP-101'\n",
       "53. 'HPAP-103'\n",
       "54. 'HPAP-104'\n",
       "55. 'HPAP-105'\n",
       "\n",
       "\n"
      ],
      "text/plain": [
       " [1] \"R207\"     \"R217\"     \"R218\"     \"R221\"     \"R223\"     \"R226\"    \n",
       " [7] \"R228\"     \"R234\"     \"R237\"     \"R238\"     \"R246\"     \"R247\"    \n",
       "[13] \"R275\"     \"R284\"     \"R290\"     \"R292\"     \"R316\"     \"R317\"    \n",
       "[19] \"R319\"     \"R325\"     \"R326\"     \"R327\"     \"R332\"     \"R353\"    \n",
       "[25] \"R354\"     \"R362\"     \"R363\"     \"R364\"     \"HPAP-035\" \"HPAP-036\"\n",
       "[31] \"HPAP-039\" \"HPAP-040\" \"HPAP-044\" \"HPAP-045\" \"HPAP-047\" \"HPAP-049\"\n",
       "[37] \"HPAP-050\" \"HPAP-052\" \"HPAP-053\" \"HPAP-054\" \"HPAP-056\" \"HPAP-059\"\n",
       "[43] \"HPAP-063\" \"HPAP-067\" \"HPAP-069\" \"HPAP-072\" \"HPAP-075\" \"HPAP-077\"\n",
       "[49] \"HPAP-080\" \"HPAP-092\" \"HPAP-099\" \"HPAP-101\" \"HPAP-103\" \"HPAP-104\"\n",
       "[55] \"HPAP-105\""
      ]
     },
     "metadata": {},
     "output_type": "display_data"
    }
   ],
   "source": [
    "#read in metadata df to get sample order\n",
    "out_fp <- file.path(outdir, 'Alberta_HPAP_combined_metadata.tsv')\n",
    "meta <- read.table(out_fp, sep='\\t', header=1)\n",
    "ordered_samples <- row.names(meta)\n",
    "ordered_samples"
   ]
  },
  {
   "cell_type": "code",
   "execution_count": null,
   "id": "9f9374ad-644a-48b8-aa60-d4666da5a7cc",
   "metadata": {
    "scrolled": true,
    "tags": []
   },
   "outputs": [],
   "source": [
    "for (celltype in joint_celltypes){\n",
    "    #read in separate matrices\n",
    "    fp1 <- file.path(outdir, 'ATAC', 'alberta_sample_matrices', sprintf('%s_sample_peak_total_counts.txt',celltype))\n",
    "    fp2 <- file.path(outdir, 'ATAC', 'hpap_sample_matrices', sprintf('%s_sample_peak_total_counts.txt',celltype))\n",
    "    mat1 <- read.table(fp1, sep='\\t')\n",
    "    mat2 <- read.table(fp2, sep='\\t')\n",
    "    \n",
    "    #make sure peaks are in same order\n",
    "    mat1_sort <- mat1[peaks,]\n",
    "    mat2_sort <- mat2[peaks,]\n",
    "    \n",
    "    #merge them into one matrix with cbind and make sure sample names and order matches metadata df\n",
    "    mat_fin <- cbind(mat1_sort, mat2_sort)\n",
    "    colnames(mat_fin) <- gsub('\\\\.','-',colnames(mat_fin))\n",
    "    fin_samples <- ordered_samples[ordered_samples %in% colnames(mat_fin)]\n",
    "    mat_fin <- mat_fin %>% select(all_of(fin_samples))\n",
    "    fp_fin <- file.path(matrix_dir_fin, sprintf('%s_sample_union_peaks_total_counts.txt',celltype))\n",
    "    write.table(mat_fin, fp_fin, sep='\\t', quote=FALSE)\n",
    "}"
   ]
  },
  {
   "cell_type": "code",
   "execution_count": 3,
   "id": "0ce8fcc0-c474-4d42-9300-293635bf12c8",
   "metadata": {},
   "outputs": [
    {
     "data": {
      "text/plain": [
       "R version 4.1.1 (2021-08-10)\n",
       "Platform: x86_64-pc-linux-gnu (64-bit)\n",
       "Running under: Ubuntu 20.04.2 LTS\n",
       "\n",
       "Matrix products: default\n",
       "BLAS:   /usr/lib/x86_64-linux-gnu/blas/libblas.so.3.9.0\n",
       "LAPACK: /usr/lib/x86_64-linux-gnu/lapack/liblapack.so.3.9.0\n",
       "\n",
       "locale:\n",
       " [1] LC_CTYPE=en_US.UTF-8       LC_NUMERIC=C              \n",
       " [3] LC_TIME=en_US.UTF-8        LC_COLLATE=en_US.UTF-8    \n",
       " [5] LC_MONETARY=en_US.UTF-8    LC_MESSAGES=en_US.UTF-8   \n",
       " [7] LC_PAPER=en_US.UTF-8       LC_NAME=C                 \n",
       " [9] LC_ADDRESS=C               LC_TELEPHONE=C            \n",
       "[11] LC_MEASUREMENT=en_US.UTF-8 LC_IDENTIFICATION=C       \n",
       "\n",
       "attached base packages:\n",
       "[1] parallel  stats4    stats     graphics  grDevices utils     datasets \n",
       "[8] methods   base     \n",
       "\n",
       "other attached packages:\n",
       " [1] purrr_0.3.5                 tidyr_1.2.1                \n",
       " [3] tibble_3.1.8                tidyverse_1.3.2            \n",
       " [5] forcats_0.5.2               shadowtext_0.1.2           \n",
       " [7] RColorBrewer_1.1-3          ggrepel_0.9.4              \n",
       " [9] fgsea_1.20.0                enrichR_3.1                \n",
       "[11] readr_2.1.1                 stringi_1.8.2              \n",
       "[13] stringr_1.4.1               future_1.34.0              \n",
       "[15] data.table_1.14.8           Matrix_1.5-1               \n",
       "[17] ggpubr_0.5.0                ggplot2_3.4.4              \n",
       "[19] dplyr_1.0.10                DESeq2_1.34.0              \n",
       "[21] SummarizedExperiment_1.24.0 Biobase_2.54.0             \n",
       "[23] MatrixGenerics_1.6.0        matrixStats_1.3.0          \n",
       "[25] GenomicRanges_1.46.1        GenomeInfoDb_1.30.1        \n",
       "[27] IRanges_2.28.0              S4Vectors_0.32.4           \n",
       "[29] BiocGenerics_0.40.0         sp_1.5-1                   \n",
       "[31] SeuratObject_4.1.2          Seurat_4.2.0               \n",
       "[33] hdf5r_1.3.7                \n",
       "\n",
       "loaded via a namespace (and not attached):\n",
       "  [1] utf8_1.2.4             reticulate_1.26        tidyselect_1.2.0      \n",
       "  [4] RSQLite_2.2.9          AnnotationDbi_1.56.2   htmlwidgets_1.5.4     \n",
       "  [7] grid_4.1.1             BiocParallel_1.28.3    Rtsne_0.16            \n",
       " [10] munsell_0.5.1          codetools_0.2-18       ica_1.0-3             \n",
       " [13] pbdZMQ_0.3-8           miniUI_0.1.1.1         withr_3.0.1           \n",
       " [16] spatstat.random_3.0-1  colorspace_2.1-1       progressr_0.11.0      \n",
       " [19] uuid_1.1-0             ROCR_1.0-11            ggsignif_0.6.4        \n",
       " [22] tensor_1.5             listenv_0.9.1          repr_1.1.4            \n",
       " [25] GenomeInfoDbData_1.2.7 polyclip_1.10-4        bit64_4.0.5           \n",
       " [28] parallelly_1.38.0      vctrs_0.5.1            generics_0.1.3        \n",
       " [31] timechange_0.1.1       R6_2.5.1               locfit_1.5-9.6        \n",
       " [34] bitops_1.0-8           spatstat.utils_3.0-5   cachem_1.1.0          \n",
       " [37] DelayedArray_0.20.0    assertthat_0.2.1       promises_1.2.0.1      \n",
       " [40] scales_1.2.1           googlesheets4_1.0.1    rgeos_0.5-9           \n",
       " [43] gtable_0.3.1           globals_0.16.3         goftest_1.2-3         \n",
       " [46] rlang_1.1.4            genefilter_1.76.0      splines_4.1.1         \n",
       " [49] rstatix_0.7.1          lazyeval_0.2.2         gargle_1.2.1          \n",
       " [52] spatstat.geom_2.4-0    broom_1.0.0            modelr_0.1.10         \n",
       " [55] reshape2_1.4.4         abind_1.4-5            backports_1.4.1       \n",
       " [58] httpuv_1.6.6           tools_4.1.1            ellipsis_0.3.2        \n",
       " [61] spatstat.core_2.4-4    ggridges_0.5.4         Rcpp_1.0.13           \n",
       " [64] plyr_1.8.9             base64enc_0.1-3        zlibbioc_1.40.0       \n",
       " [67] RCurl_1.98-1.13        rpart_4.1.19           deldir_2.0-4          \n",
       " [70] pbapply_1.6-0          cowplot_1.1.1          zoo_1.8-12            \n",
       " [73] haven_2.5.1            cluster_2.1.4          fs_1.6.3              \n",
       " [76] magrittr_2.0.3         scattermore_0.8        reprex_2.0.2          \n",
       " [79] lmtest_0.9-40          RANN_2.6.1             googledrive_2.0.0     \n",
       " [82] fitdistrplus_1.1-8     hms_1.1.2              patchwork_1.1.2       \n",
       " [85] mime_0.12              evaluate_0.24.0        xtable_1.8-4          \n",
       " [88] XML_3.99-0.16          readxl_1.4.1           gridExtra_2.3         \n",
       " [91] compiler_4.1.1         KernSmooth_2.23-20     crayon_1.5.3          \n",
       " [94] htmltools_0.5.8.1      mgcv_1.8-41            later_1.3.2           \n",
       " [97] tzdb_0.3.0             geneplotter_1.72.0     lubridate_1.9.0       \n",
       "[100] DBI_1.1.3              dbplyr_2.2.1           MASS_7.3-58.1         \n",
       "[103] car_3.1-1              cli_3.6.3              igraph_1.3.5          \n",
       "[106] pkgconfig_2.0.3        IRdisplay_1.1          plotly_4.10.1         \n",
       "[109] spatstat.sparse_3.1-0  xml2_1.3.3             annotate_1.72.0       \n",
       "[112] XVector_0.34.0         rvest_1.0.3            digest_0.6.36         \n",
       "[115] sctransform_0.3.5      RcppAnnoy_0.0.22       spatstat.data_3.1-2   \n",
       "[118] Biostrings_2.62.0      cellranger_1.1.0       leiden_0.4.3          \n",
       "[121] fastmatch_1.1-3        uwot_0.1.14            curl_5.2.1            \n",
       "[124] shiny_1.7.3            rjson_0.2.21           lifecycle_1.0.4       \n",
       "[127] nlme_3.1-160           jsonlite_1.8.8         carData_3.0-5         \n",
       "[130] viridisLite_0.4.2      fansi_1.0.6            pillar_1.8.1          \n",
       "[133] lattice_0.20-45        KEGGREST_1.34.0        fastmap_1.2.0         \n",
       "[136] httr_1.4.4             survival_3.4-0         glue_1.7.0            \n",
       "[139] png_0.1-8              bit_4.0.5              blob_1.2.3            \n",
       "[142] memoise_2.0.1          IRkernel_1.3.1         irlba_2.3.5.1         \n",
       "[145] future.apply_1.9.1    "
      ]
     },
     "metadata": {},
     "output_type": "display_data"
    }
   ],
   "source": [
    "sessionInfo()"
   ]
  }
 ],
 "metadata": {
  "kernelspec": {
   "display_name": "R 4.1",
   "language": "R",
   "name": "ir411"
  },
  "language_info": {
   "codemirror_mode": "r",
   "file_extension": ".r",
   "mimetype": "text/x-r-source",
   "name": "R",
   "pygments_lexer": "r",
   "version": "4.1.1"
  }
 },
 "nbformat": 4,
 "nbformat_minor": 5
}
