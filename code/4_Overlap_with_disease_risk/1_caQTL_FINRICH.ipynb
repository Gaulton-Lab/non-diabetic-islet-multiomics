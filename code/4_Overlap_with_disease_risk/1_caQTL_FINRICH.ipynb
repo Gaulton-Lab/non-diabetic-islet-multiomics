{
 "cells": [
  {
   "cell_type": "markdown",
   "id": "5271adc0-427c-4e3d-b01c-59a394a788e4",
   "metadata": {},
   "source": [
    "#### Summary:\n",
    "In this notebook we'll run FINRICH on different sets of peaks, to test for enrichment of GWAS credible sets. The two peak sets are: phenotype associated peaks and caQTL feature peaks (all cREs with 1/+ significant SNPs for each cell type, and cell type or lineage specific ones based on mashR outputs). Required inputs:\n",
    "- ATAC DESeq phenotype association outputs\n",
    "- Summary df of per cRE caQTL cell type results\n",
    "- MashR raw results\n",
    "- Background sets of peaks (all peaks tested with DESeq OR all peaks accessible in cell type)"
   ]
  },
  {
   "cell_type": "code",
   "execution_count": 1,
   "id": "1824b38c-9e14-4277-a62a-b958745e8968",
   "metadata": {
    "scrolled": true
   },
   "outputs": [],
   "source": [
    "suppressMessages(library(tidyverse))\n",
    "suppressMessages(library(ggplot2))\n",
    "suppressMessages(library(data.table))\n",
    "suppressMessages(library(ggrepel))\n",
    "suppressMessages(library(vroom))\n",
    "suppressMessages(library(parallel))"
   ]
  },
  {
   "cell_type": "markdown",
   "id": "23952f34-0646-4ccf-b449-271231dec848",
   "metadata": {},
   "source": [
    "# Set up"
   ]
  },
  {
   "cell_type": "code",
   "execution_count": 2,
   "id": "b7e1befd-7850-4090-8695-df467b0cd9b6",
   "metadata": {},
   "outputs": [],
   "source": [
    "cell_types <- c('acinar','alpha','beta','bulk','delta','ductal','endothelial','gamma','immune','stellate')\n",
    "major_celltypes <- c('beta','alpha','delta','gamma','acinar','ductal')"
   ]
  },
  {
   "cell_type": "code",
   "execution_count": 3,
   "id": "ab2d5d25-97e2-409a-8de3-290b21900ed4",
   "metadata": {
    "tags": []
   },
   "outputs": [],
   "source": [
    "# Set up color palettes\n",
    "major_colors = c('acinar'='#09850B', 'alpha'='#F51646', 'beta'='#3F98E0',\n",
    "                 'delta'='#FFA946', 'ductal'='#F5DE6C', 'endothelial'='#752BBA', \n",
    "                 'gamma'='#A1D99B', 'immune'='#F598C9', 'stellate'='#AB7345')"
   ]
  },
  {
   "cell_type": "code",
   "execution_count": 8,
   "id": "41fbf62b-3337-4139-8096-0c2060c5735a",
   "metadata": {},
   "outputs": [],
   "source": [
    "peak_dir <- '/nfs/lab/projects/multiomic_islet/outputs/multiome/call_peaks/recluster_final_majorCTs_v2'\n",
    "deseq_outdir <- '/path/to/trait/assoc/results/ATAC/DESeq'"
   ]
  },
  {
   "cell_type": "code",
   "execution_count": 9,
   "id": "9a39d69a-4c56-4fb3-97e6-46cd2ab70279",
   "metadata": {},
   "outputs": [],
   "source": [
    "#final credible set files!\n",
    "credset_dir <- '/dir/with/hg38/credible/sets/'\n",
    "t1d_fp <- file.path(credset_dir,'T1D_Chiou_2021_cred_set.bed')\n",
    "t2d_fp <- file.path(credset_dir,'T2D_DIAMANTE_multiancestry.cred99.hg38.bed')\n",
    "glu2h_fp <- file.path(credset_dir,'2hGlu_MAGIC_trans_ancestry_pseudo_credset.LDproxyRsq0.8.bed')\n",
    "fg_fp <- file.path(credset_dir,'FG_MAGIC_trans_ancestry_pseudo_credset.LDproxyRsq0.8.bed')\n",
    "fi_fp <- file.path(credset_dir,'FI_MAGIC_trans_ancestry_pseudo_credset.LDproxyRsq0.8.bed')\n",
    "hba1c_fp <- file.path(credset_dir,'HbA1c_MAGIC_trans_ancestry_pseudo_credset.LDproxyRsq0.8.bed')"
   ]
  },
  {
   "cell_type": "code",
   "execution_count": 10,
   "id": "ed03cd7c-8f19-4284-9f53-42e0da1dcaae",
   "metadata": {},
   "outputs": [],
   "source": [
    "gwas_prefixes <- c('T1D','T2D','2hGlu','FG','FI','HbA1c')\n",
    "gwas_fps <- c(t1d_fp, t2d_fp, glu2h_fp, fg_fp, fi_fp, hba1c_fp)\n",
    "names(gwas_fps) <- gwas_prefixes"
   ]
  },
  {
   "cell_type": "code",
   "execution_count": 11,
   "id": "ce6f6cf9",
   "metadata": {},
   "outputs": [],
   "source": [
    "outdir <- '/dir/to/write/outputs/to'"
   ]
  },
  {
   "cell_type": "markdown",
   "id": "0fe44f0c-5f05-4f78-83a4-fc4e9718e97e",
   "metadata": {},
   "source": [
    "# 1. Phenotype associated cREs"
   ]
  },
  {
   "cell_type": "markdown",
   "id": "2720e80d-dae3-4abe-84d2-0e1939284ebc",
   "metadata": {},
   "source": [
    "## 1a. Collect sets of cREs for FINRICH"
   ]
  },
  {
   "cell_type": "code",
   "execution_count": 8,
   "id": "f5152f7d",
   "metadata": {},
   "outputs": [],
   "source": [
    "### Function to make bed files of sig peaks\n",
    "### PVALUE CUTOFF VERSION -- easy enough to change to using a qvalue cutoff\n",
    "get_sig_peaks <- function(celltype, trait, dir, deseq_dir, outdir, min_peaks=5, p_cutoff=0.01){\n",
    "    #create a bed file of sig results for input dir\n",
    "    fp <- file.path(deseq_outdir,trait,sprintf('ATAC_deseq_v4.%s.%s.tsv',trait, celltype))\n",
    "    df <- read.table(fp, sep='\\t', header=1)\n",
    "    if (dir=='up') df_sig_dir <- subset(df, pvalue<p_cutoff & log2FoldChange > 0)\n",
    "    if (dir=='down') df_sig_dir <- subset(df, pvalue<p_cutoff & log2FoldChange < 0)    \n",
    "    \n",
    "    sig_peaks <- row.names(df_sig_dir)\n",
    "    sig_df <- as.data.frame(str_split_fixed(sig_peaks,'-',3))\n",
    "    sig_df$V4 <- sig_peaks\n",
    "    \n",
    "    #if enough sig peaks, proceed\n",
    "    if(dim(sig_df)[1] >= min_peaks){\n",
    "        out_fp <- file.path(outdir,'ATAC','sig_assoc_peaks',trait,sprintf('%s_%s_sig_peaks_%s.bed', celltype, trait, dir))\n",
    "        write.table(sig_df, out_fp, sep='\\t', row.names=FALSE, col.names=FALSE, quote=FALSE)\n",
    "    } else {\n",
    "        print(sprintf('Not enough sig peaks for %s and %s %s associations (n=%s)',celltype, trait, dir, dim(sig_df)[1]))\n",
    "    }\n",
    "}"
   ]
  },
  {
   "cell_type": "code",
   "execution_count": 13,
   "id": "60f62126",
   "metadata": {},
   "outputs": [],
   "source": [
    "traits <- c('scaled_age', 'scaled_BMI', 'scaled_HbA1c', 'sex')\n",
    "cre_dir <- file.path(outdir,'trait_assoc_cREs')\n",
    "dir.create(cre_dir, showWarnings = FALSE)\n",
    "\n",
    "for(celltype in joint_celltypes){\n",
    "    for(trait in traits){\n",
    "        for(dir in c('up','down')){\n",
    "             get_sig_peaks(celltype, trait, dir, deseq_outdir, cre_dir)           \n",
    "        }\n",
    "    }\n",
    "}"
   ]
  },
  {
   "cell_type": "markdown",
   "id": "d9747a8c-413f-4508-8555-bcfb28dc81ba",
   "metadata": {},
   "source": [
    "## 1b. Run FINRICH on sets of trait associated cREs"
   ]
  },
  {
   "cell_type": "code",
   "execution_count": 7,
   "id": "4941c297-be4e-41e1-acb1-e47b15350219",
   "metadata": {},
   "outputs": [],
   "source": [
    "### Function to run FINRICH on all sets of sig results (will just use files from GREAT)\n",
    "### similar to great I'm going to just write all the commands to a script and then run that in the terminal\n",
    "run_FINRICH <- function(finemap_bed, prefix, cre_bed, bg_bed, out_dir){\n",
    "    #create overall output file\n",
    "    overall_out_fp <- file.path(out_dir,'combined_results.txt')\n",
    "    \n",
    "    #set up finrich code\n",
    "    temp_fp <- file.path(out_dir, paste0(prefix,'_temp.txt'))\n",
    "    cmd <- sprintf('finrich %s %s %s --permutations 1000 --processes 2 > %s', finemap_bed, cre_bed, bg_bed, temp_fp)\n",
    "    # print(cmd)\n",
    "    system(cmd)\n",
    "\n",
    "    #concat and reformat outputs slightly\n",
    "    cmd2 <- sprintf('awk -v prefix=%s \\'NR == 1 {print prefix \"|\" $0;}\\' %s >> %s', prefix, temp_fp, overall_out_fp)\n",
    "    # print(cmd2)\n",
    "    system(cmd2)\n",
    "    system(sprintf('rm %s',temp_fp))\n",
    "}"
   ]
  },
  {
   "cell_type": "code",
   "execution_count": 9,
   "id": "c42cb05e-70ea-46b6-bedf-3aa5769d0256",
   "metadata": {},
   "outputs": [],
   "source": [
    "### Function to run FINRICH on a cell type (so I can parallelize by cell type)\n",
    "run_finrich_trait_assoc_cres <- function(celltype, trait, cre_dir, gwas_prefix, gwas_fp, outdir){\n",
    "    #set up file paths\n",
    "    gwas_dir <- file.path(outdir,gwas_prefix)\n",
    "    dir.create(gwas_dir, showWarnings=F, recursive=T)\n",
    "    \n",
    "    #collect necessary file paths for finrich\n",
    "    fp <- file.path(cre_dir, sprintf('%s_%s.p01.bed',celltype, trait))\n",
    "    bg_peaks <- file.path(cre_dir, sprintf('%s_%s.all.bed',celltype, trait))\n",
    "    \n",
    "    #run finrich with helper function\n",
    "    run_FINRICH(gwas_fp, paste(celltype,trait,sep='-'), fp, bg_peaks, gwas_dir)\n",
    "}"
   ]
  },
  {
   "cell_type": "code",
   "execution_count": 10,
   "id": "9a64c591-54b3-4170-a666-16e4124fbaea",
   "metadata": {},
   "outputs": [],
   "source": [
    "trait_cre_outdir <- file.path(outdir,'trait_assoc_cREs_FINRICH')\n",
    "dir.create(trait_cre_outdir, showWarnings=F)"
   ]
  },
  {
   "cell_type": "code",
   "execution_count": 21,
   "id": "075ea954-42f6-463f-9c73-c61caf2a8f12",
   "metadata": {},
   "outputs": [
    {
     "name": "stdout",
     "output_type": "stream",
     "text": [
      "[1] \"T1D\"              \"1719944928.62769\"\n",
      "[1] \"T2D\"              \"1719945483.56098\"\n",
      "[1] \"2hGlu\"            \"1719945587.26309\"\n",
      "[1] \"FG\"               \"1719945614.01858\"\n",
      "[1] \"FI\"               \"1719945659.58167\"\n",
      "[1] \"HbA1c\"            \"1719945692.64532\"\n"
     ]
    }
   ],
   "source": [
    "for(gwas_prefix in names(gwas_fps)){\n",
    "    print(paste(gwas_prefix, Sys.time()))\n",
    "    gwas_fp <- gwas_fps[[gwas_prefix]]\n",
    "\n",
    "    for(trait in kg_traits){\n",
    "        mclapply(major_celltypes, run_finrich_trait_assoc_cres, trait, cre_dir, gwas_prefix, gwas_fp, trait_cre_outdir)\n",
    "    }\n",
    "}"
   ]
  },
  {
   "cell_type": "markdown",
   "id": "0a4cb38e-9132-4efb-8c6c-ac72b8696db5",
   "metadata": {},
   "source": [
    "# 2. caQTL cREs"
   ]
  },
  {
   "cell_type": "markdown",
   "id": "017a3fc1-9c18-41e1-b48b-6ca2e33339c8",
   "metadata": {},
   "source": [
    "## 2a. Collect sets of cREs for FINRICH\n",
    "- Make sure peak was called in the cell type, otherwise we didn't even test it and thus it shouldn't be used"
   ]
  },
  {
   "cell_type": "code",
   "execution_count": 11,
   "id": "150d0fbb-5b9a-471f-a525-ae272cc915c6",
   "metadata": {},
   "outputs": [
    {
     "data": {
      "text/html": [
       "<table class=\"dataframe\">\n",
       "<caption>A data.frame: 2 × 17</caption>\n",
       "<thead>\n",
       "\t<tr><th></th><th scope=col>cre</th><th scope=col>sig_caqtls_num_cts</th><th scope=col>sig_caqtls_cts</th><th scope=col>sig_caqtls_cts_spec</th><th scope=col>mash_num_cts</th><th scope=col>mash_cts</th><th scope=col>mash_cts_spec</th><th scope=col>peak_num_cts</th><th scope=col>peak_cts</th><th scope=col>peak_ct_spec</th><th scope=col>cpm5_num_cts</th><th scope=col>cpm5_cts</th><th scope=col>cpm5_ct_spec</th><th scope=col>cpm10_num_cts</th><th scope=col>cpm10_cts</th><th scope=col>cpm10_ct_spec</th><th scope=col>entropy2_celltype</th></tr>\n",
       "\t<tr><th></th><th scope=col>&lt;chr&gt;</th><th scope=col>&lt;int&gt;</th><th scope=col>&lt;chr&gt;</th><th scope=col>&lt;lgl&gt;</th><th scope=col>&lt;int&gt;</th><th scope=col>&lt;chr&gt;</th><th scope=col>&lt;lgl&gt;</th><th scope=col>&lt;int&gt;</th><th scope=col>&lt;chr&gt;</th><th scope=col>&lt;lgl&gt;</th><th scope=col>&lt;int&gt;</th><th scope=col>&lt;chr&gt;</th><th scope=col>&lt;lgl&gt;</th><th scope=col>&lt;int&gt;</th><th scope=col>&lt;chr&gt;</th><th scope=col>&lt;lgl&gt;</th><th scope=col>&lt;chr&gt;</th></tr>\n",
       "</thead>\n",
       "<tbody>\n",
       "\t<tr><th scope=row>1</th><td>chr10:100006062-100006793</td><td> 2</td><td>beta, bulk</td><td>FALSE</td><td>NA</td><td>NA</td><td>NA</td><td>4</td><td>alpha, delta, gamma, ductal              </td><td>FALSE</td><td>3</td><td>alpha, gamma, ductal                     </td><td>FALSE</td><td>NA</td><td>NA                                       </td><td>   NA</td><td>NA</td></tr>\n",
       "\t<tr><th scope=row>2</th><td>chr10:100009188-100010635</td><td>NA</td><td>NA        </td><td>   NA</td><td>NA</td><td>NA</td><td>NA</td><td>6</td><td>beta, alpha, delta, gamma, acinar, ductal</td><td>FALSE</td><td>6</td><td>beta, alpha, delta, gamma, acinar, ductal</td><td>FALSE</td><td> 6</td><td>beta, alpha, delta, gamma, acinar, ductal</td><td>FALSE</td><td>NA</td></tr>\n",
       "</tbody>\n",
       "</table>\n"
      ],
      "text/latex": [
       "A data.frame: 2 × 17\n",
       "\\begin{tabular}{r|lllllllllllllllll}\n",
       "  & cre & sig\\_caqtls\\_num\\_cts & sig\\_caqtls\\_cts & sig\\_caqtls\\_cts\\_spec & mash\\_num\\_cts & mash\\_cts & mash\\_cts\\_spec & peak\\_num\\_cts & peak\\_cts & peak\\_ct\\_spec & cpm5\\_num\\_cts & cpm5\\_cts & cpm5\\_ct\\_spec & cpm10\\_num\\_cts & cpm10\\_cts & cpm10\\_ct\\_spec & entropy2\\_celltype\\\\\n",
       "  & <chr> & <int> & <chr> & <lgl> & <int> & <chr> & <lgl> & <int> & <chr> & <lgl> & <int> & <chr> & <lgl> & <int> & <chr> & <lgl> & <chr>\\\\\n",
       "\\hline\n",
       "\t1 & chr10:100006062-100006793 &  2 & beta, bulk & FALSE & NA & NA & NA & 4 & alpha, delta, gamma, ductal               & FALSE & 3 & alpha, gamma, ductal                      & FALSE & NA & NA                                        &    NA & NA\\\\\n",
       "\t2 & chr10:100009188-100010635 & NA & NA         &    NA & NA & NA & NA & 6 & beta, alpha, delta, gamma, acinar, ductal & FALSE & 6 & beta, alpha, delta, gamma, acinar, ductal & FALSE &  6 & beta, alpha, delta, gamma, acinar, ductal & FALSE & NA\\\\\n",
       "\\end{tabular}\n"
      ],
      "text/markdown": [
       "\n",
       "A data.frame: 2 × 17\n",
       "\n",
       "| <!--/--> | cre &lt;chr&gt; | sig_caqtls_num_cts &lt;int&gt; | sig_caqtls_cts &lt;chr&gt; | sig_caqtls_cts_spec &lt;lgl&gt; | mash_num_cts &lt;int&gt; | mash_cts &lt;chr&gt; | mash_cts_spec &lt;lgl&gt; | peak_num_cts &lt;int&gt; | peak_cts &lt;chr&gt; | peak_ct_spec &lt;lgl&gt; | cpm5_num_cts &lt;int&gt; | cpm5_cts &lt;chr&gt; | cpm5_ct_spec &lt;lgl&gt; | cpm10_num_cts &lt;int&gt; | cpm10_cts &lt;chr&gt; | cpm10_ct_spec &lt;lgl&gt; | entropy2_celltype &lt;chr&gt; |\n",
       "|---|---|---|---|---|---|---|---|---|---|---|---|---|---|---|---|---|---|\n",
       "| 1 | chr10:100006062-100006793 |  2 | beta, bulk | FALSE | NA | NA | NA | 4 | alpha, delta, gamma, ductal               | FALSE | 3 | alpha, gamma, ductal                      | FALSE | NA | NA                                        |    NA | NA |\n",
       "| 2 | chr10:100009188-100010635 | NA | NA         |    NA | NA | NA | NA | 6 | beta, alpha, delta, gamma, acinar, ductal | FALSE | 6 | beta, alpha, delta, gamma, acinar, ductal | FALSE |  6 | beta, alpha, delta, gamma, acinar, ductal | FALSE | NA |\n",
       "\n"
      ],
      "text/plain": [
       "  cre                       sig_caqtls_num_cts sig_caqtls_cts\n",
       "1 chr10:100006062-100006793  2                 beta, bulk    \n",
       "2 chr10:100009188-100010635 NA                 NA            \n",
       "  sig_caqtls_cts_spec mash_num_cts mash_cts mash_cts_spec peak_num_cts\n",
       "1 FALSE               NA           NA       NA            4           \n",
       "2    NA               NA           NA       NA            6           \n",
       "  peak_cts                                  peak_ct_spec cpm5_num_cts\n",
       "1 alpha, delta, gamma, ductal               FALSE        3           \n",
       "2 beta, alpha, delta, gamma, acinar, ductal FALSE        6           \n",
       "  cpm5_cts                                  cpm5_ct_spec cpm10_num_cts\n",
       "1 alpha, gamma, ductal                      FALSE        NA           \n",
       "2 beta, alpha, delta, gamma, acinar, ductal FALSE         6           \n",
       "  cpm10_cts                                 cpm10_ct_spec entropy2_celltype\n",
       "1 NA                                           NA         NA               \n",
       "2 beta, alpha, delta, gamma, acinar, ductal FALSE         NA               "
      ]
     },
     "metadata": {},
     "output_type": "display_data"
    }
   ],
   "source": [
    "caqtl_cres_fp <- '/path/to/all/cREs/tested/for/caQTLs/and/ct/spec/info'\n",
    "caqtl_cres <- read.table(caqtl_cres_fp, sep='\\t', header=1)\n",
    "head(caqtl_cres, n=2)"
   ]
  },
  {
   "cell_type": "code",
   "execution_count": 13,
   "id": "0f0dd8e1-5f44-412b-9a50-5b3647e1cc1d",
   "metadata": {},
   "outputs": [],
   "source": [
    "#for each cell type collect all cres with a sig caQTL and all cres with specific mashR caqtl\n",
    "cre_dir <- file.path(outdir,'caqtl_cres')\n",
    "dir.create(cre_dir, showWarnings = F)\n",
    "\n",
    "for(celltype in major_celltypes){\n",
    "    #first subset to all sig caqtls (AND IF PEAK WAS EVEN CALLED IN CT) and write cres to a file\n",
    "    sig_caqtls1 <- subset(caqtl_cres, grepl(celltype, sig_caqtls_cts) & grepl(celltype, peak_cts))\n",
    "    bed1 <- as.data.frame(str_split_fixed(sig_caqtls1$cre, ':|-', 3))\n",
    "    out_fp1 <- file.path(cre_dir, sprintf('%s_all_sig_caQTL_cREs.bed',celltype))\n",
    "    write.table(bed1, out_fp1, sep='\\t', row.names=F, col.names=F, quote=F)\n",
    "\n",
    "    sig_caqtls2 <- subset(caqtl_cres, mash_cts==celltype)\n",
    "    bed2 <- as.data.frame(str_split_fixed(sig_caqtls2$cre, ':|-', 3))\n",
    "    out_fp2 <- file.path(cre_dir, sprintf('%s_ct_spec_caQTL_cREs.bed',celltype))\n",
    "    write.table(bed2, out_fp2, sep='\\t', row.names=F, col.names=F, quote=F)\n",
    "}"
   ]
  },
  {
   "cell_type": "markdown",
   "id": "836d761d-f6e3-46c0-a787-c865e0ea75da",
   "metadata": {},
   "source": [
    "### Collect shared and lineage specific caQTL cREs"
   ]
  },
  {
   "cell_type": "code",
   "execution_count": 49,
   "id": "e9cf96e6-458d-48f9-aa86-5b49e8000f87",
   "metadata": {},
   "outputs": [
    {
     "name": "stderr",
     "output_type": "stream",
     "text": [
      "Warning message in fread(\"/nfs/lab/welison/islet_multiome/intermediates/caQTLs/231026_WE_caQTLs/anova_interaction/240111_WE_run1_all_ash_pca_canonical_mash_lfsr.tsv\", :\n",
      "“Detected 6 column names but the data has 7 columns (i.e. invalid file). Added 1 extra default column name for the first column which is guessed to be row names or an index. Use setnames() afterwards if this guess is not correct, or fix the file write command that created the file to create a valid file.”\n"
     ]
    },
    {
     "data": {
      "text/html": [
       "<table class=\"dataframe\">\n",
       "<caption>A data.frame: 6 × 6</caption>\n",
       "<thead>\n",
       "\t<tr><th></th><th scope=col>acinar</th><th scope=col>alpha</th><th scope=col>beta</th><th scope=col>delta</th><th scope=col>ductal</th><th scope=col>gamma</th></tr>\n",
       "\t<tr><th></th><th scope=col>&lt;dbl&gt;</th><th scope=col>&lt;dbl&gt;</th><th scope=col>&lt;dbl&gt;</th><th scope=col>&lt;dbl&gt;</th><th scope=col>&lt;dbl&gt;</th><th scope=col>&lt;dbl&gt;</th></tr>\n",
       "</thead>\n",
       "<tbody>\n",
       "\t<tr><th scope=row>chr1:100036775-100037124</th><td>0</td><td>0</td><td>0</td><td>0</td><td>0</td><td>0</td></tr>\n",
       "\t<tr><th scope=row>chr1:100037591-100039086</th><td>0</td><td>0</td><td>0</td><td>0</td><td>0</td><td>0</td></tr>\n",
       "\t<tr><th scope=row>chr1:100046104-100046480</th><td>0</td><td>0</td><td>0</td><td>0</td><td>0</td><td>0</td></tr>\n",
       "\t<tr><th scope=row>chr1:100046883-100047599</th><td>0</td><td>0</td><td>0</td><td>0</td><td>0</td><td>0</td></tr>\n",
       "\t<tr><th scope=row>chr1:100050187-100050403</th><td>0</td><td>0</td><td>0</td><td>0</td><td>0</td><td>0</td></tr>\n",
       "\t<tr><th scope=row>chr1:100053889-100054089</th><td>0</td><td>0</td><td>0</td><td>0</td><td>0</td><td>0</td></tr>\n",
       "</tbody>\n",
       "</table>\n"
      ],
      "text/latex": [
       "A data.frame: 6 × 6\n",
       "\\begin{tabular}{r|llllll}\n",
       "  & acinar & alpha & beta & delta & ductal & gamma\\\\\n",
       "  & <dbl> & <dbl> & <dbl> & <dbl> & <dbl> & <dbl>\\\\\n",
       "\\hline\n",
       "\tchr1:100036775-100037124 & 0 & 0 & 0 & 0 & 0 & 0\\\\\n",
       "\tchr1:100037591-100039086 & 0 & 0 & 0 & 0 & 0 & 0\\\\\n",
       "\tchr1:100046104-100046480 & 0 & 0 & 0 & 0 & 0 & 0\\\\\n",
       "\tchr1:100046883-100047599 & 0 & 0 & 0 & 0 & 0 & 0\\\\\n",
       "\tchr1:100050187-100050403 & 0 & 0 & 0 & 0 & 0 & 0\\\\\n",
       "\tchr1:100053889-100054089 & 0 & 0 & 0 & 0 & 0 & 0\\\\\n",
       "\\end{tabular}\n"
      ],
      "text/markdown": [
       "\n",
       "A data.frame: 6 × 6\n",
       "\n",
       "| <!--/--> | acinar &lt;dbl&gt; | alpha &lt;dbl&gt; | beta &lt;dbl&gt; | delta &lt;dbl&gt; | ductal &lt;dbl&gt; | gamma &lt;dbl&gt; |\n",
       "|---|---|---|---|---|---|---|\n",
       "| chr1:100036775-100037124 | 0 | 0 | 0 | 0 | 0 | 0 |\n",
       "| chr1:100037591-100039086 | 0 | 0 | 0 | 0 | 0 | 0 |\n",
       "| chr1:100046104-100046480 | 0 | 0 | 0 | 0 | 0 | 0 |\n",
       "| chr1:100046883-100047599 | 0 | 0 | 0 | 0 | 0 | 0 |\n",
       "| chr1:100050187-100050403 | 0 | 0 | 0 | 0 | 0 | 0 |\n",
       "| chr1:100053889-100054089 | 0 | 0 | 0 | 0 | 0 | 0 |\n",
       "\n"
      ],
      "text/plain": [
       "                         acinar alpha beta delta ductal gamma\n",
       "chr1:100036775-100037124 0      0     0    0     0      0    \n",
       "chr1:100037591-100039086 0      0     0    0     0      0    \n",
       "chr1:100046104-100046480 0      0     0    0     0      0    \n",
       "chr1:100046883-100047599 0      0     0    0     0      0    \n",
       "chr1:100050187-100050403 0      0     0    0     0      0    \n",
       "chr1:100053889-100054089 0      0     0    0     0      0    "
      ]
     },
     "metadata": {},
     "output_type": "display_data"
    }
   ],
   "source": [
    "#read in mashR results and format as binary matrix\n",
    "mash <- data.frame(fread('/path/to/mash/results/240111_WE_run1_all_ash_pca_canonical_mash_lfsr.tsv', sep='\\t'))\n",
    "row.names(mash) <- mash$V1\n",
    "mash_fin <- as.data.frame(mash[,seq(2,7)] < 0.05)\n",
    "mash_fin$cre <- stringr::str_split(row.names(mash_fin), '::', simplify=T)[,1]\n",
    "\n",
    "upset_data <- group_by(mash_fin, cre) %>%\n",
    "    summarise_all(any) %>%\n",
    "    tibble::column_to_rownames(var='cre') %>%\n",
    "    mutate_all(as.numeric)\n",
    "head(upset_data)"
   ]
  },
  {
   "cell_type": "code",
   "execution_count": 85,
   "id": "7ba6b497-7fb6-4097-a82c-22834ef58681",
   "metadata": {},
   "outputs": [
    {
     "data": {
      "text/html": [
       "<dl>\n",
       "\t<dt>$endo</dt>\n",
       "\t\t<dd>860</dd>\n",
       "\t<dt>$exo</dt>\n",
       "\t\t<dd>4</dd>\n",
       "\t<dt>$shared</dt>\n",
       "\t\t<dd>4545</dd>\n",
       "</dl>\n"
      ],
      "text/latex": [
       "\\begin{description}\n",
       "\\item[\\$endo] 860\n",
       "\\item[\\$exo] 4\n",
       "\\item[\\$shared] 4545\n",
       "\\end{description}\n"
      ],
      "text/markdown": [
       "$endo\n",
       ":   860\n",
       "$exo\n",
       ":   4\n",
       "$shared\n",
       ":   4545\n",
       "\n",
       "\n"
      ],
      "text/plain": [
       "$endo\n",
       "[1] 860\n",
       "\n",
       "$exo\n",
       "[1] 4\n",
       "\n",
       "$shared\n",
       "[1] 4545\n"
      ]
     },
     "metadata": {},
     "output_type": "display_data"
    }
   ],
   "source": [
    "#collect cREs based on which cell types they have sig caQTLs from mashR \n",
    "endo_cres <- row.names(subset(upset_data, beta==1 & alpha==1 & delta==1 & gamma==1 & acinar==0 & ductal==0))\n",
    "exo_cres <- row.names(subset(upset_data, beta==0 & alpha==0 & delta==0 & gamma==0 & acinar==1 & ductal==1))\n",
    "shared_cres <- row.names(subset(upset_data, beta==1 & alpha==1 & delta==1 & gamma==1 & acinar==1 & ductal==1))\n",
    "lineage_cres <- list('endo'=endo_cres, 'exo'=exo_cres, 'shared'=shared_cres)\n",
    "lapply(lineage_cres, length)"
   ]
  },
  {
   "cell_type": "code",
   "execution_count": 94,
   "id": "70ebd282-3c8c-4d03-b71c-e1ea8019bab1",
   "metadata": {},
   "outputs": [],
   "source": [
    "cre_dir <- file.path(outdir,'caqtl_cres')\n",
    "\n",
    "#write these to files\n",
    "for (ct_set in names(lineage_cres)){\n",
    "    cres <- lineage_cres[[ct_set]]\n",
    "    chroms <- str_split_fixed(cres, ':', 2)[,1]\n",
    "    coords <- str_split_fixed(str_split_fixed(cres, ':', 2)[,2], '-',2)\n",
    "    bed <- as.data.frame(cbind(chroms, coords))\n",
    "\n",
    "    bed_fp <- file.path(cre_dir, sprintf('%s_ct_spec_caQTL_cREs.bed',ct_set))\n",
    "    write.table(bed, bed_fp, sep='\\t', row.names=F, col.names=F, quote=F) \n",
    "}"
   ]
  },
  {
   "cell_type": "markdown",
   "id": "42b5051e-366a-4c4a-a229-74607d558e15",
   "metadata": {},
   "source": [
    "## 2b. Run FINRICH on sets of caQTL cREs"
   ]
  },
  {
   "cell_type": "code",
   "execution_count": 91,
   "id": "838746ba",
   "metadata": {},
   "outputs": [],
   "source": [
    "### Function to run FINRICH on all sets of sig results (will just use files from GREAT)\n",
    "### similar to great I'm going to just write all the commands to a script and then run that in the terminal\n",
    "run_FINRICH <- function(finemap_bed, prefix, cre_bed, bg_bed, out_dir){\n",
    "    #create overall output file\n",
    "    overall_out_fp <- file.path(out_dir,'combined_results.txt')\n",
    "    \n",
    "    #set up finrich code\n",
    "    temp_fp <- file.path(out_dir, paste0(prefix,'_temp.txt'))\n",
    "    cmd <- sprintf('finrich %s %s %s --permutations 1000 --processes 2 > %s', finemap_bed, cre_bed, bg_bed, temp_fp)\n",
    "    # print(cmd)\n",
    "    system(cmd)\n",
    "\n",
    "    #concat and reformat outputs slightly\n",
    "    cmd2 <- sprintf('awk -v prefix=%s \\'NR == 1 {print prefix \"|\" $0;}\\' %s >> %s', prefix, temp_fp, overall_out_fp)\n",
    "    # print(cmd2)\n",
    "    system(cmd2)\n",
    "    system(sprintf('rm %s',temp_fp))\n",
    "}"
   ]
  },
  {
   "cell_type": "code",
   "execution_count": 101,
   "id": "cbe397ac",
   "metadata": {},
   "outputs": [],
   "source": [
    "### Function to run FINRICH on a cell type (so I can parallelize by cell type)\n",
    "run_finrich_all_caqtls <- function(celltype, cre_dir, gwas_prefix, gwas_fp, outdir){\n",
    "    #set up file paths\n",
    "    gwas_dir <- file.path(outdir,gwas_prefix)\n",
    "    dir.create(gwas_dir, showWarnings=F, recursive=T)\n",
    "    \n",
    "    #collect necessary file paths for finrich\n",
    "    # fp1 <- file.path(cre_dir, sprintf('%s_all_sig_caQTL_cREs.bed',celltype))\n",
    "    fp2 <- file.path(cre_dir, sprintf('%s_ct_spec_caQTL_cREs.bed',celltype))\n",
    "    \n",
    "    #run finrich with helper function\n",
    "    if(celltype %in% c('endo','exo','shared')){\n",
    "        ct_peaks <- file.path(peak_dir, 'mergedPeak.txt')\n",
    "    } else {\n",
    "        ct_peaks <- file.path(peak_dir, sprintf('%s.merged_peaks.anno.mergedOverlap.bed',celltype))    \n",
    "    }\n",
    "    # run_FINRICH(gwas_fp, paste('all_sig',celltype,sep='-'), fp1, ct_peaks, gwas_dir)\n",
    "    run_FINRICH(gwas_fp, paste('ct_spec',celltype,sep='-'), fp2, ct_peaks, gwas_dir)\n",
    "}"
   ]
  },
  {
   "cell_type": "code",
   "execution_count": 93,
   "id": "34e91511-0453-4b7f-a350-823e6001bce8",
   "metadata": {},
   "outputs": [],
   "source": [
    "caqtl_cre_outdir <- file.path(outdir,'caQTL_cREs_FINRICH')"
   ]
  },
  {
   "cell_type": "code",
   "execution_count": 102,
   "id": "94ceff59-f846-4330-b22f-2ae0f18bf033",
   "metadata": {},
   "outputs": [
    {
     "data": {
      "text/html": [
       "<style>\n",
       ".list-inline {list-style: none; margin:0; padding: 0}\n",
       ".list-inline>li {display: inline-block}\n",
       ".list-inline>li:not(:last-child)::after {content: \"\\00b7\"; padding: 0 .5ex}\n",
       "</style>\n",
       "<ol class=list-inline><li>'beta'</li><li>'alpha'</li><li>'delta'</li><li>'gamma'</li><li>'acinar'</li><li>'ductal'</li><li>'endo'</li><li>'exo'</li><li>'shared'</li></ol>\n"
      ],
      "text/latex": [
       "\\begin{enumerate*}\n",
       "\\item 'beta'\n",
       "\\item 'alpha'\n",
       "\\item 'delta'\n",
       "\\item 'gamma'\n",
       "\\item 'acinar'\n",
       "\\item 'ductal'\n",
       "\\item 'endo'\n",
       "\\item 'exo'\n",
       "\\item 'shared'\n",
       "\\end{enumerate*}\n"
      ],
      "text/markdown": [
       "1. 'beta'\n",
       "2. 'alpha'\n",
       "3. 'delta'\n",
       "4. 'gamma'\n",
       "5. 'acinar'\n",
       "6. 'ductal'\n",
       "7. 'endo'\n",
       "8. 'exo'\n",
       "9. 'shared'\n",
       "\n",
       "\n"
      ],
      "text/plain": [
       "[1] \"beta\"   \"alpha\"  \"delta\"  \"gamma\"  \"acinar\" \"ductal\" \"endo\"   \"exo\"   \n",
       "[9] \"shared\""
      ]
     },
     "metadata": {},
     "output_type": "display_data"
    }
   ],
   "source": [
    "celltypes_to_run <- c(major_celltypes, 'endo', 'exo', 'shared')\n",
    "celltypes_to_run"
   ]
  },
  {
   "cell_type": "code",
   "execution_count": 97,
   "id": "774a5852-bcd7-4df7-99fe-4cf3a532ba5e",
   "metadata": {},
   "outputs": [
    {
     "name": "stdout",
     "output_type": "stream",
     "text": [
      "[1] \"T1D 2024-07-25 13:12:04\"\n",
      "[1] \"T2D 2024-07-25 13:26:04\"\n",
      "[1] \"2hGlu 2024-07-25 13:29:15\"\n",
      "[1] \"FG 2024-07-25 13:29:31\"\n",
      "[1] \"FI 2024-07-25 13:30:32\"\n",
      "[1] \"HbA1c 2024-07-25 13:31:10\"\n"
     ]
    }
   ],
   "source": [
    "for(gwas_prefix in names(gwas_fps)){\n",
    "    print(paste(gwas_prefix, Sys.time()))\n",
    "    gwas_fp <- gwas_fps[[gwas_prefix]]\n",
    "    mclapply(celltypes_to_run, run_finrich_all_caqtls, cre_dir, gwas_prefix, gwas_fp, caqtl_cre_outdir)\n",
    "}"
   ]
  },
  {
   "cell_type": "code",
   "execution_count": 2,
   "id": "0e7bf2d5-9aa9-43df-b34d-edba62c24d8f",
   "metadata": {},
   "outputs": [
    {
     "data": {
      "text/plain": [
       "R version 4.1.1 (2021-08-10)\n",
       "Platform: x86_64-pc-linux-gnu (64-bit)\n",
       "Running under: Ubuntu 20.04.2 LTS\n",
       "\n",
       "Matrix products: default\n",
       "BLAS:   /usr/lib/x86_64-linux-gnu/blas/libblas.so.3.9.0\n",
       "LAPACK: /usr/lib/x86_64-linux-gnu/lapack/liblapack.so.3.9.0\n",
       "\n",
       "locale:\n",
       " [1] LC_CTYPE=en_US.UTF-8       LC_NUMERIC=C              \n",
       " [3] LC_TIME=en_US.UTF-8        LC_COLLATE=en_US.UTF-8    \n",
       " [5] LC_MONETARY=en_US.UTF-8    LC_MESSAGES=en_US.UTF-8   \n",
       " [7] LC_PAPER=en_US.UTF-8       LC_NAME=C                 \n",
       " [9] LC_ADDRESS=C               LC_TELEPHONE=C            \n",
       "[11] LC_MEASUREMENT=en_US.UTF-8 LC_IDENTIFICATION=C       \n",
       "\n",
       "attached base packages:\n",
       "[1] parallel  stats     graphics  grDevices utils     datasets  methods  \n",
       "[8] base     \n",
       "\n",
       "other attached packages:\n",
       " [1] vroom_1.5.7       ggrepel_0.9.4     data.table_1.14.8 forcats_0.5.2    \n",
       " [5] stringr_1.4.1     dplyr_1.0.10      purrr_0.3.5       readr_2.1.1      \n",
       " [9] tidyr_1.2.1       tibble_3.1.8      ggplot2_3.4.4     tidyverse_1.3.2  \n",
       "\n",
       "loaded via a namespace (and not attached):\n",
       " [1] Rcpp_1.0.13         lubridate_1.9.0     assertthat_0.2.1   \n",
       " [4] digest_0.6.36       utf8_1.2.4          IRdisplay_1.1      \n",
       " [7] R6_2.5.1            cellranger_1.1.0    repr_1.1.4         \n",
       "[10] backports_1.4.1     reprex_2.0.2        evaluate_0.24.0    \n",
       "[13] httr_1.4.4          pillar_1.8.1        rlang_1.1.4        \n",
       "[16] googlesheets4_1.0.1 uuid_1.1-0          readxl_1.4.1       \n",
       "[19] googledrive_2.0.0   bit_4.0.5           munsell_0.5.1      \n",
       "[22] broom_1.0.0         compiler_4.1.1      modelr_0.1.10      \n",
       "[25] pkgconfig_2.0.3     base64enc_0.1-3     htmltools_0.5.8.1  \n",
       "[28] tidyselect_1.2.0    fansi_1.0.6         crayon_1.5.3       \n",
       "[31] tzdb_0.3.0          dbplyr_2.2.1        withr_3.0.1        \n",
       "[34] grid_4.1.1          jsonlite_1.8.8      gtable_0.3.1       \n",
       "[37] lifecycle_1.0.4     DBI_1.1.3           magrittr_2.0.3     \n",
       "[40] scales_1.2.1        cli_3.6.3           stringi_1.8.2      \n",
       "[43] fs_1.6.3            xml2_1.3.3          ellipsis_0.3.2     \n",
       "[46] generics_0.1.3      vctrs_0.5.1         IRkernel_1.3.1     \n",
       "[49] tools_4.1.1         bit64_4.0.5         glue_1.7.0         \n",
       "[52] hms_1.1.2           fastmap_1.2.0       timechange_0.1.1   \n",
       "[55] colorspace_2.1-1    gargle_1.2.1        rvest_1.0.3        \n",
       "[58] pbdZMQ_0.3-8        haven_2.5.1        "
      ]
     },
     "metadata": {},
     "output_type": "display_data"
    }
   ],
   "source": [
    "sessionInfo()"
   ]
  }
 ],
 "metadata": {
  "kernelspec": {
   "display_name": "R 4.1",
   "language": "R",
   "name": "ir411"
  },
  "language_info": {
   "codemirror_mode": "r",
   "file_extension": ".r",
   "mimetype": "text/x-r-source",
   "name": "R",
   "pygments_lexer": "r",
   "version": "4.1.1"
  }
 },
 "nbformat": 4,
 "nbformat_minor": 5
}
