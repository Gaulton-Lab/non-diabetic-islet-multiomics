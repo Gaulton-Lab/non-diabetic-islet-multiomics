{
 "cells": [
  {
   "cell_type": "markdown",
   "id": "5271adc0-427c-4e3d-b01c-59a394a788e4",
   "metadata": {},
   "source": [
    "#### Summary:\n",
    "After confirming all the correct credible sets to use (and making a few pseudo-credible sets), I'm going to do the final FINRICH runs for Figure 4 here. \n",
    "- Trait associated peaks (nominal sig, can use bed files in Kyle's dir to be safe?)\n",
    "- Significant caQTL peaks (all cREs with 1/+ significant SNPs for each cell type, and cell type specific ones based on mashR outputs)\n",
    "\n",
    "Based on code from this notebook: `/nfs/lab/hmummey/multiomic_islet/notebooks/cRE-gene_links_notebooks/5d_Links_Methods_FINRICH.ipynb` --> will also rerun this with final bed files :)"
   ]
  },
  {
   "cell_type": "code",
   "execution_count": 1,
   "id": "1824b38c-9e14-4277-a62a-b958745e8968",
   "metadata": {
    "scrolled": true
   },
   "outputs": [],
   "source": [
    "suppressMessages(library(tidyverse))\n",
    "suppressMessages(library(ggplot2))\n",
    "suppressMessages(library(data.table))\n",
    "suppressMessages(library(ggrepel))\n",
    "suppressMessages(library(vroom))\n",
    "suppressMessages(library(parallel))"
   ]
  },
  {
   "cell_type": "markdown",
   "id": "23952f34-0646-4ccf-b449-271231dec848",
   "metadata": {},
   "source": [
    "# Set up"
   ]
  },
  {
   "cell_type": "code",
   "execution_count": 2,
   "id": "b7e1befd-7850-4090-8695-df467b0cd9b6",
   "metadata": {},
   "outputs": [],
   "source": [
    "cell_types <- c('acinar','alpha','beta','bulk','delta','ductal','endothelial','gamma','immune','stellate')\n",
    "major_celltypes <- c('beta','alpha','delta','gamma','acinar','ductal')"
   ]
  },
  {
   "cell_type": "code",
   "execution_count": 3,
   "id": "ab2d5d25-97e2-409a-8de3-290b21900ed4",
   "metadata": {
    "tags": []
   },
   "outputs": [],
   "source": [
    "# Set up color palettes\n",
    "major_colors = c('acinar'='#09850B', 'alpha'='#F51646', 'beta'='#3F98E0',\n",
    "                 'delta'='#FFA946', 'ductal'='#F5DE6C', 'endothelial'='#752BBA', \n",
    "                 'gamma'='#A1D99B', 'immune'='#F598C9', 'stellate'='#AB7345')"
   ]
  },
  {
   "cell_type": "code",
   "execution_count": 4,
   "id": "bea74443-f46e-4559-bf14-4b7425fff3f9",
   "metadata": {},
   "outputs": [],
   "source": [
    "fig_dir <- '/nfs/lab/welison/islet_multiome/intermediates/caQTLs/231026_WE_caQTLs/figures/'\n",
    "# outdir <- '/nfs/lab/projects/multiomic_islet/outputs/genotypes/240627_caQTL_FINRICH'\n",
    "outdir <- '/nfs/lab/projects/multiomic_islet/outputs/genotypes/240701_final_FINRICH'"
   ]
  },
  {
   "cell_type": "code",
   "execution_count": 5,
   "id": "3bba9a92-e798-41a3-8256-991a4c206f6b",
   "metadata": {},
   "outputs": [],
   "source": [
    "#final credible set files!\n",
    "credset_dir <- '/nfs/lab/projects/multiomic_islet/references/hg38_GWAS/credsets'\n",
    "t1d_fp <- file.path(credset_dir,'T1D_Chiou_2021_cred_set.bed')\n",
    "t2d_fp <- file.path(credset_dir,'T2D_DIAMANTE_multiancestry.cred99.hg38.bed')\n",
    "glu2h_fp <- file.path(credset_dir,'2hGlu_MAGIC_trans_ancestry_pseudo_credset.LDproxyRsq0.8.bed')\n",
    "fg_fp <- file.path(credset_dir,'FG_MAGIC_trans_ancestry_pseudo_credset.LDproxyRsq0.8.bed')\n",
    "fi_fp <- file.path(credset_dir,'FI_MAGIC_trans_ancestry_pseudo_credset.LDproxyRsq0.8.bed')\n",
    "hba1c_fp <- file.path(credset_dir,'HbA1c_MAGIC_trans_ancestry_pseudo_credset.LDproxyRsq0.8.bed')"
   ]
  },
  {
   "cell_type": "code",
   "execution_count": 6,
   "id": "a722221a-1bdc-4120-b4d3-9b34f2d54933",
   "metadata": {},
   "outputs": [],
   "source": [
    "gwas_prefixes <- c('T1D','T2D','2hGlu','FG','FI','HbA1c')\n",
    "gwas_fps <- c(t1d_fp, t2d_fp, glu2h_fp, fg_fp, fi_fp, hba1c_fp)\n",
    "names(gwas_fps) <- gwas_prefixes"
   ]
  },
  {
   "cell_type": "code",
   "execution_count": 7,
   "id": "40db01a9-c37b-436a-8f39-7e1aa75ad1bb",
   "metadata": {},
   "outputs": [],
   "source": [
    "peak_dir <- '/nfs/lab/projects/multiomic_islet/outputs/multiome/call_peaks/recluster_final_majorCTs_v2'"
   ]
  },
  {
   "cell_type": "markdown",
   "id": "0fe44f0c-5f05-4f78-83a4-fc4e9718e97e",
   "metadata": {},
   "source": [
    "# Trait associated cREs"
   ]
  },
  {
   "cell_type": "markdown",
   "id": "2720e80d-dae3-4abe-84d2-0e1939284ebc",
   "metadata": {},
   "source": [
    "## Collect sets of cREs for FINRICH\n",
    "Use outputs Kyle made, found here: `/nfs/lab/KG/islet_multiome/May2024/{$celltype}_{$trait}.{$dir}.p01.bed`"
   ]
  },
  {
   "cell_type": "markdown",
   "id": "d9747a8c-413f-4508-8555-bcfb28dc81ba",
   "metadata": {},
   "source": [
    "## Run FINRICH on sets of trait associated cREs"
   ]
  },
  {
   "cell_type": "code",
   "execution_count": 7,
   "id": "4941c297-be4e-41e1-acb1-e47b15350219",
   "metadata": {},
   "outputs": [],
   "source": [
    "### Function to run FINRICH on all sets of sig results (will just use files from GREAT)\n",
    "### similar to great I'm going to just write all the commands to a script and then run that in the terminal\n",
    "run_FINRICH <- function(finemap_bed, prefix, cre_bed, bg_bed, out_dir){\n",
    "    #create overall output file\n",
    "    overall_out_fp <- file.path(out_dir,'combined_results.txt')\n",
    "    \n",
    "    #set up finrich code\n",
    "    temp_fp <- file.path(out_dir, paste0(prefix,'_temp.txt'))\n",
    "    cmd <- sprintf('finrich %s %s %s --permutations 1000 --processes 2 > %s', finemap_bed, cre_bed, bg_bed, temp_fp)\n",
    "    # print(cmd)\n",
    "    system(cmd)\n",
    "\n",
    "    #concat and reformat outputs slightly\n",
    "    cmd2 <- sprintf('awk -v prefix=%s \\'NR == 1 {print prefix \"|\" $0;}\\' %s >> %s', prefix, temp_fp, overall_out_fp)\n",
    "    # print(cmd2)\n",
    "    system(cmd2)\n",
    "    system(sprintf('rm %s',temp_fp))\n",
    "}"
   ]
  },
  {
   "cell_type": "code",
   "execution_count": 9,
   "id": "c42cb05e-70ea-46b6-bedf-3aa5769d0256",
   "metadata": {},
   "outputs": [],
   "source": [
    "### Function to run FINRICH on a cell type (so I can parallelize by cell type)\n",
    "run_finrich_trait_assoc_cres <- function(celltype, trait, cre_dir, gwas_prefix, gwas_fp, outdir){\n",
    "    #set up file paths\n",
    "    gwas_dir <- file.path(outdir,gwas_prefix)\n",
    "    dir.create(gwas_dir, showWarnings=F, recursive=T)\n",
    "    \n",
    "    #collect necessary file paths for finrich\n",
    "    fp <- file.path(cre_dir, sprintf('%s_%s.p01.bed',celltype, trait))\n",
    "    bg_peaks <- file.path(cre_dir, sprintf('%s_%s.all.bed',celltype, trait))\n",
    "    \n",
    "    #run finrich with helper function\n",
    "    run_FINRICH(gwas_fp, paste(celltype,trait,sep='-'), fp, bg_peaks, gwas_dir)\n",
    "}"
   ]
  },
  {
   "cell_type": "code",
   "execution_count": 10,
   "id": "9a64c591-54b3-4170-a666-16e4124fbaea",
   "metadata": {},
   "outputs": [],
   "source": [
    "trait_cre_outdir <- file.path(outdir,'trait_assoc_cREs_FINRICH')\n",
    "dir.create(trait_cre_outdir, showWarnings=F)"
   ]
  },
  {
   "cell_type": "code",
   "execution_count": 10,
   "id": "5919cc40-9a85-4493-bbe3-f90bafab6ea8",
   "metadata": {},
   "outputs": [],
   "source": [
    "kg_dir <- '/nfs/lab/KG/islet_multiome/May2024'\n",
    "kg_traits <- c('age','BMI','HbA1c','sex')"
   ]
  },
  {
   "cell_type": "code",
   "execution_count": 21,
   "id": "075ea954-42f6-463f-9c73-c61caf2a8f12",
   "metadata": {},
   "outputs": [
    {
     "name": "stdout",
     "output_type": "stream",
     "text": [
      "[1] \"T1D\"              \"1719944928.62769\"\n",
      "[1] \"T2D\"              \"1719945483.56098\"\n",
      "[1] \"2hGlu\"            \"1719945587.26309\"\n",
      "[1] \"FG\"               \"1719945614.01858\"\n",
      "[1] \"FI\"               \"1719945659.58167\"\n",
      "[1] \"HbA1c\"            \"1719945692.64532\"\n"
     ]
    }
   ],
   "source": [
    "for(gwas_prefix in names(gwas_fps)){\n",
    "    print(paste(gwas_prefix, Sys.time()))\n",
    "    gwas_fp <- gwas_fps[[gwas_prefix]]\n",
    "\n",
    "    for(trait in kg_traits){\n",
    "        mclapply(major_celltypes, run_finrich_trait_assoc_cres, trait, kg_dir, gwas_prefix, gwas_fp, trait_cre_outdir)\n",
    "    }\n",
    "}"
   ]
  },
  {
   "cell_type": "code",
   "execution_count": 18,
   "id": "469fbb4c-38f2-4f85-901f-78903b026617",
   "metadata": {},
   "outputs": [],
   "source": [
    "#rerun with different background file for age... somehow this file doesn't exist in the dir\n",
    "dir2 <- file.path(outdir,'age_bg_cres')\n",
    "deseq_dir <- '/nfs/lab/projects/multiomic_islet/outputs/multiome/trait_associations/240327_final_associations/ATAC/DESeq/scaled_age'\n",
    "\n",
    "for(celltype in major_celltypes){\n",
    "    fp <- file.path(deseq_dir, sprintf('ATAC_deseq_v4.scaled_age.%s.tsv',celltype))\n",
    "    df <- read.table(fp, sep='\\t', header=1)\n",
    "    bed <- as.data.frame(str_split_fixed(row.names(df), '-', 3)) %>% \n",
    "            mutate_at('V2', as.numeric) %>% arrange(V1,V2)\n",
    "    out_fp <- file.path(dir2,sprintf('%s_age.all.bed',celltype))\n",
    "    write.table(bed, out_fp, sep='\\t', row.names=F, col.names=F, quote=F)\n",
    "}"
   ]
  },
  {
   "cell_type": "code",
   "execution_count": 19,
   "id": "b1c4b877-176f-499a-b644-5a24fb3e1962",
   "metadata": {},
   "outputs": [
    {
     "name": "stdout",
     "output_type": "stream",
     "text": [
      "[1] \"T1D 2024-07-03 10:15:39\"\n",
      "[1] \"T2D 2024-07-03 10:17:55\"\n",
      "[1] \"2hGlu 2024-07-03 10:18:22\"\n",
      "[1] \"FG 2024-07-03 10:18:29\"\n",
      "[1] \"FI 2024-07-03 10:18:40\"\n",
      "[1] \"HbA1c 2024-07-03 10:18:48\"\n"
     ]
    }
   ],
   "source": [
    "#rerun just for age associations LOL\n",
    "for(gwas_prefix in names(gwas_fps)){\n",
    "    print(paste(gwas_prefix, Sys.time()))\n",
    "    gwas_fp <- gwas_fps[[gwas_prefix]]\n",
    "    mclapply(major_celltypes, run_finrich_trait_assoc_cres, 'age', dir2, gwas_prefix, gwas_fp, trait_cre_outdir)\n",
    "}"
   ]
  },
  {
   "cell_type": "markdown",
   "id": "0a4cb38e-9132-4efb-8c6c-ac72b8696db5",
   "metadata": {},
   "source": [
    "# caQTL cREs"
   ]
  },
  {
   "cell_type": "markdown",
   "id": "017a3fc1-9c18-41e1-b48b-6ca2e33339c8",
   "metadata": {
    "jp-MarkdownHeadingCollapsed": true
   },
   "source": [
    "## Collect sets of cREs for FINRICH\n",
    "- Make sure peak was called in the cell type, otherwise we didn't even test it and thus it shouldn't be used"
   ]
  },
  {
   "cell_type": "code",
   "execution_count": 11,
   "id": "150d0fbb-5b9a-471f-a525-ae272cc915c6",
   "metadata": {},
   "outputs": [
    {
     "data": {
      "text/html": [
       "<table class=\"dataframe\">\n",
       "<caption>A data.frame: 2 × 17</caption>\n",
       "<thead>\n",
       "\t<tr><th></th><th scope=col>cre</th><th scope=col>sig_caqtls_num_cts</th><th scope=col>sig_caqtls_cts</th><th scope=col>sig_caqtls_cts_spec</th><th scope=col>mash_num_cts</th><th scope=col>mash_cts</th><th scope=col>mash_cts_spec</th><th scope=col>peak_num_cts</th><th scope=col>peak_cts</th><th scope=col>peak_ct_spec</th><th scope=col>cpm5_num_cts</th><th scope=col>cpm5_cts</th><th scope=col>cpm5_ct_spec</th><th scope=col>cpm10_num_cts</th><th scope=col>cpm10_cts</th><th scope=col>cpm10_ct_spec</th><th scope=col>entropy2_celltype</th></tr>\n",
       "\t<tr><th></th><th scope=col>&lt;chr&gt;</th><th scope=col>&lt;int&gt;</th><th scope=col>&lt;chr&gt;</th><th scope=col>&lt;lgl&gt;</th><th scope=col>&lt;int&gt;</th><th scope=col>&lt;chr&gt;</th><th scope=col>&lt;lgl&gt;</th><th scope=col>&lt;int&gt;</th><th scope=col>&lt;chr&gt;</th><th scope=col>&lt;lgl&gt;</th><th scope=col>&lt;int&gt;</th><th scope=col>&lt;chr&gt;</th><th scope=col>&lt;lgl&gt;</th><th scope=col>&lt;int&gt;</th><th scope=col>&lt;chr&gt;</th><th scope=col>&lt;lgl&gt;</th><th scope=col>&lt;chr&gt;</th></tr>\n",
       "</thead>\n",
       "<tbody>\n",
       "\t<tr><th scope=row>1</th><td>chr10:100006062-100006793</td><td> 2</td><td>beta, bulk</td><td>FALSE</td><td>NA</td><td>NA</td><td>NA</td><td>4</td><td>alpha, delta, gamma, ductal              </td><td>FALSE</td><td>3</td><td>alpha, gamma, ductal                     </td><td>FALSE</td><td>NA</td><td>NA                                       </td><td>   NA</td><td>NA</td></tr>\n",
       "\t<tr><th scope=row>2</th><td>chr10:100009188-100010635</td><td>NA</td><td>NA        </td><td>   NA</td><td>NA</td><td>NA</td><td>NA</td><td>6</td><td>beta, alpha, delta, gamma, acinar, ductal</td><td>FALSE</td><td>6</td><td>beta, alpha, delta, gamma, acinar, ductal</td><td>FALSE</td><td> 6</td><td>beta, alpha, delta, gamma, acinar, ductal</td><td>FALSE</td><td>NA</td></tr>\n",
       "</tbody>\n",
       "</table>\n"
      ],
      "text/latex": [
       "A data.frame: 2 × 17\n",
       "\\begin{tabular}{r|lllllllllllllllll}\n",
       "  & cre & sig\\_caqtls\\_num\\_cts & sig\\_caqtls\\_cts & sig\\_caqtls\\_cts\\_spec & mash\\_num\\_cts & mash\\_cts & mash\\_cts\\_spec & peak\\_num\\_cts & peak\\_cts & peak\\_ct\\_spec & cpm5\\_num\\_cts & cpm5\\_cts & cpm5\\_ct\\_spec & cpm10\\_num\\_cts & cpm10\\_cts & cpm10\\_ct\\_spec & entropy2\\_celltype\\\\\n",
       "  & <chr> & <int> & <chr> & <lgl> & <int> & <chr> & <lgl> & <int> & <chr> & <lgl> & <int> & <chr> & <lgl> & <int> & <chr> & <lgl> & <chr>\\\\\n",
       "\\hline\n",
       "\t1 & chr10:100006062-100006793 &  2 & beta, bulk & FALSE & NA & NA & NA & 4 & alpha, delta, gamma, ductal               & FALSE & 3 & alpha, gamma, ductal                      & FALSE & NA & NA                                        &    NA & NA\\\\\n",
       "\t2 & chr10:100009188-100010635 & NA & NA         &    NA & NA & NA & NA & 6 & beta, alpha, delta, gamma, acinar, ductal & FALSE & 6 & beta, alpha, delta, gamma, acinar, ductal & FALSE &  6 & beta, alpha, delta, gamma, acinar, ductal & FALSE & NA\\\\\n",
       "\\end{tabular}\n"
      ],
      "text/markdown": [
       "\n",
       "A data.frame: 2 × 17\n",
       "\n",
       "| <!--/--> | cre &lt;chr&gt; | sig_caqtls_num_cts &lt;int&gt; | sig_caqtls_cts &lt;chr&gt; | sig_caqtls_cts_spec &lt;lgl&gt; | mash_num_cts &lt;int&gt; | mash_cts &lt;chr&gt; | mash_cts_spec &lt;lgl&gt; | peak_num_cts &lt;int&gt; | peak_cts &lt;chr&gt; | peak_ct_spec &lt;lgl&gt; | cpm5_num_cts &lt;int&gt; | cpm5_cts &lt;chr&gt; | cpm5_ct_spec &lt;lgl&gt; | cpm10_num_cts &lt;int&gt; | cpm10_cts &lt;chr&gt; | cpm10_ct_spec &lt;lgl&gt; | entropy2_celltype &lt;chr&gt; |\n",
       "|---|---|---|---|---|---|---|---|---|---|---|---|---|---|---|---|---|---|\n",
       "| 1 | chr10:100006062-100006793 |  2 | beta, bulk | FALSE | NA | NA | NA | 4 | alpha, delta, gamma, ductal               | FALSE | 3 | alpha, gamma, ductal                      | FALSE | NA | NA                                        |    NA | NA |\n",
       "| 2 | chr10:100009188-100010635 | NA | NA         |    NA | NA | NA | NA | 6 | beta, alpha, delta, gamma, acinar, ductal | FALSE | 6 | beta, alpha, delta, gamma, acinar, ductal | FALSE |  6 | beta, alpha, delta, gamma, acinar, ductal | FALSE | NA |\n",
       "\n"
      ],
      "text/plain": [
       "  cre                       sig_caqtls_num_cts sig_caqtls_cts\n",
       "1 chr10:100006062-100006793  2                 beta, bulk    \n",
       "2 chr10:100009188-100010635 NA                 NA            \n",
       "  sig_caqtls_cts_spec mash_num_cts mash_cts mash_cts_spec peak_num_cts\n",
       "1 FALSE               NA           NA       NA            4           \n",
       "2    NA               NA           NA       NA            6           \n",
       "  peak_cts                                  peak_ct_spec cpm5_num_cts\n",
       "1 alpha, delta, gamma, ductal               FALSE        3           \n",
       "2 beta, alpha, delta, gamma, acinar, ductal FALSE        6           \n",
       "  cpm5_cts                                  cpm5_ct_spec cpm10_num_cts\n",
       "1 alpha, gamma, ductal                      FALSE        NA           \n",
       "2 beta, alpha, delta, gamma, acinar, ductal FALSE         6           \n",
       "  cpm10_cts                                 cpm10_ct_spec entropy2_celltype\n",
       "1 NA                                           NA         NA               \n",
       "2 beta, alpha, delta, gamma, acinar, ductal FALSE         NA               "
      ]
     },
     "metadata": {},
     "output_type": "display_data"
    }
   ],
   "source": [
    "caqtl_cres_fp <- '/nfs/lab/projects/multiomic_islet/outputs/genotypes/240521_caQTL_GWAS_coloc_cts/fin_ct_specificity/all_RASQUAL_caQTL_features_ct_specificity.txt'\n",
    "caqtl_cres <- read.table(caqtl_cres_fp, sep='\\t', header=1)\n",
    "head(caqtl_cres, n=2)"
   ]
  },
  {
   "cell_type": "code",
   "execution_count": 13,
   "id": "0f0dd8e1-5f44-412b-9a50-5b3647e1cc1d",
   "metadata": {},
   "outputs": [],
   "source": [
    "#for each cell type collect all cres with a sig caQTL and all cres with specific mashR caqtl\n",
    "cre_dir <- file.path(outdir,'caqtl_cres')\n",
    "dir.create(cre_dir, showWarnings = F)\n",
    "\n",
    "for(celltype in major_celltypes){\n",
    "    #first subset to all sig caqtls (AND IF PEAK WAS EVEN CALLED IN CT) and write cres to a file\n",
    "    sig_caqtls1 <- subset(caqtl_cres, grepl(celltype, sig_caqtls_cts) & grepl(celltype, peak_cts))\n",
    "    bed1 <- as.data.frame(str_split_fixed(sig_caqtls1$cre, ':|-', 3))\n",
    "    out_fp1 <- file.path(cre_dir, sprintf('%s_all_sig_caQTL_cREs.bed',celltype))\n",
    "    write.table(bed1, out_fp1, sep='\\t', row.names=F, col.names=F, quote=F)\n",
    "\n",
    "    sig_caqtls2 <- subset(caqtl_cres, mash_cts==celltype)\n",
    "    bed2 <- as.data.frame(str_split_fixed(sig_caqtls2$cre, ':|-', 3))\n",
    "    out_fp2 <- file.path(cre_dir, sprintf('%s_ct_spec_caQTL_cREs.bed',celltype))\n",
    "    write.table(bed2, out_fp2, sep='\\t', row.names=F, col.names=F, quote=F)\n",
    "}"
   ]
  },
  {
   "cell_type": "markdown",
   "id": "836d761d-f6e3-46c0-a787-c865e0ea75da",
   "metadata": {},
   "source": [
    "## 7/25/24: Collect shared and lineage specific caQTL cREs"
   ]
  },
  {
   "cell_type": "code",
   "execution_count": 49,
   "id": "e9cf96e6-458d-48f9-aa86-5b49e8000f87",
   "metadata": {},
   "outputs": [
    {
     "name": "stderr",
     "output_type": "stream",
     "text": [
      "Warning message in fread(\"/nfs/lab/welison/islet_multiome/intermediates/caQTLs/231026_WE_caQTLs/anova_interaction/240111_WE_run1_all_ash_pca_canonical_mash_lfsr.tsv\", :\n",
      "“Detected 6 column names but the data has 7 columns (i.e. invalid file). Added 1 extra default column name for the first column which is guessed to be row names or an index. Use setnames() afterwards if this guess is not correct, or fix the file write command that created the file to create a valid file.”\n"
     ]
    },
    {
     "data": {
      "text/html": [
       "<table class=\"dataframe\">\n",
       "<caption>A data.frame: 6 × 6</caption>\n",
       "<thead>\n",
       "\t<tr><th></th><th scope=col>acinar</th><th scope=col>alpha</th><th scope=col>beta</th><th scope=col>delta</th><th scope=col>ductal</th><th scope=col>gamma</th></tr>\n",
       "\t<tr><th></th><th scope=col>&lt;dbl&gt;</th><th scope=col>&lt;dbl&gt;</th><th scope=col>&lt;dbl&gt;</th><th scope=col>&lt;dbl&gt;</th><th scope=col>&lt;dbl&gt;</th><th scope=col>&lt;dbl&gt;</th></tr>\n",
       "</thead>\n",
       "<tbody>\n",
       "\t<tr><th scope=row>chr1:100036775-100037124</th><td>0</td><td>0</td><td>0</td><td>0</td><td>0</td><td>0</td></tr>\n",
       "\t<tr><th scope=row>chr1:100037591-100039086</th><td>0</td><td>0</td><td>0</td><td>0</td><td>0</td><td>0</td></tr>\n",
       "\t<tr><th scope=row>chr1:100046104-100046480</th><td>0</td><td>0</td><td>0</td><td>0</td><td>0</td><td>0</td></tr>\n",
       "\t<tr><th scope=row>chr1:100046883-100047599</th><td>0</td><td>0</td><td>0</td><td>0</td><td>0</td><td>0</td></tr>\n",
       "\t<tr><th scope=row>chr1:100050187-100050403</th><td>0</td><td>0</td><td>0</td><td>0</td><td>0</td><td>0</td></tr>\n",
       "\t<tr><th scope=row>chr1:100053889-100054089</th><td>0</td><td>0</td><td>0</td><td>0</td><td>0</td><td>0</td></tr>\n",
       "</tbody>\n",
       "</table>\n"
      ],
      "text/latex": [
       "A data.frame: 6 × 6\n",
       "\\begin{tabular}{r|llllll}\n",
       "  & acinar & alpha & beta & delta & ductal & gamma\\\\\n",
       "  & <dbl> & <dbl> & <dbl> & <dbl> & <dbl> & <dbl>\\\\\n",
       "\\hline\n",
       "\tchr1:100036775-100037124 & 0 & 0 & 0 & 0 & 0 & 0\\\\\n",
       "\tchr1:100037591-100039086 & 0 & 0 & 0 & 0 & 0 & 0\\\\\n",
       "\tchr1:100046104-100046480 & 0 & 0 & 0 & 0 & 0 & 0\\\\\n",
       "\tchr1:100046883-100047599 & 0 & 0 & 0 & 0 & 0 & 0\\\\\n",
       "\tchr1:100050187-100050403 & 0 & 0 & 0 & 0 & 0 & 0\\\\\n",
       "\tchr1:100053889-100054089 & 0 & 0 & 0 & 0 & 0 & 0\\\\\n",
       "\\end{tabular}\n"
      ],
      "text/markdown": [
       "\n",
       "A data.frame: 6 × 6\n",
       "\n",
       "| <!--/--> | acinar &lt;dbl&gt; | alpha &lt;dbl&gt; | beta &lt;dbl&gt; | delta &lt;dbl&gt; | ductal &lt;dbl&gt; | gamma &lt;dbl&gt; |\n",
       "|---|---|---|---|---|---|---|\n",
       "| chr1:100036775-100037124 | 0 | 0 | 0 | 0 | 0 | 0 |\n",
       "| chr1:100037591-100039086 | 0 | 0 | 0 | 0 | 0 | 0 |\n",
       "| chr1:100046104-100046480 | 0 | 0 | 0 | 0 | 0 | 0 |\n",
       "| chr1:100046883-100047599 | 0 | 0 | 0 | 0 | 0 | 0 |\n",
       "| chr1:100050187-100050403 | 0 | 0 | 0 | 0 | 0 | 0 |\n",
       "| chr1:100053889-100054089 | 0 | 0 | 0 | 0 | 0 | 0 |\n",
       "\n"
      ],
      "text/plain": [
       "                         acinar alpha beta delta ductal gamma\n",
       "chr1:100036775-100037124 0      0     0    0     0      0    \n",
       "chr1:100037591-100039086 0      0     0    0     0      0    \n",
       "chr1:100046104-100046480 0      0     0    0     0      0    \n",
       "chr1:100046883-100047599 0      0     0    0     0      0    \n",
       "chr1:100050187-100050403 0      0     0    0     0      0    \n",
       "chr1:100053889-100054089 0      0     0    0     0      0    "
      ]
     },
     "metadata": {},
     "output_type": "display_data"
    }
   ],
   "source": [
    "mash <- data.frame(fread('/nfs/lab/welison/islet_multiome/intermediates/caQTLs/231026_WE_caQTLs/anova_interaction/240111_WE_run1_all_ash_pca_canonical_mash_lfsr.tsv', sep='\\t'))\n",
    "row.names(mash) <- mash$V1\n",
    "mash_fin <- as.data.frame(mash[,seq(2,7)] < 0.05)\n",
    "mash_fin$cre <- stringr::str_split(row.names(mash_fin), '::', simplify=T)[,1]\n",
    "\n",
    "upset_data <- group_by(mash_fin, cre) %>%\n",
    "    summarise_all(any) %>%\n",
    "    tibble::column_to_rownames(var='cre') %>%\n",
    "    mutate_all(as.numeric)\n",
    "head(upset_data)"
   ]
  },
  {
   "cell_type": "code",
   "execution_count": 85,
   "id": "7ba6b497-7fb6-4097-a82c-22834ef58681",
   "metadata": {},
   "outputs": [
    {
     "data": {
      "text/html": [
       "<dl>\n",
       "\t<dt>$endo</dt>\n",
       "\t\t<dd>860</dd>\n",
       "\t<dt>$exo</dt>\n",
       "\t\t<dd>4</dd>\n",
       "\t<dt>$shared</dt>\n",
       "\t\t<dd>4545</dd>\n",
       "</dl>\n"
      ],
      "text/latex": [
       "\\begin{description}\n",
       "\\item[\\$endo] 860\n",
       "\\item[\\$exo] 4\n",
       "\\item[\\$shared] 4545\n",
       "\\end{description}\n"
      ],
      "text/markdown": [
       "$endo\n",
       ":   860\n",
       "$exo\n",
       ":   4\n",
       "$shared\n",
       ":   4545\n",
       "\n",
       "\n"
      ],
      "text/plain": [
       "$endo\n",
       "[1] 860\n",
       "\n",
       "$exo\n",
       "[1] 4\n",
       "\n",
       "$shared\n",
       "[1] 4545\n"
      ]
     },
     "metadata": {},
     "output_type": "display_data"
    }
   ],
   "source": [
    "endo_cres <- row.names(subset(upset_data, beta==1 & alpha==1 & delta==1 & gamma==1 & acinar==0 & ductal==0))\n",
    "exo_cres <- row.names(subset(upset_data, beta==0 & alpha==0 & delta==0 & gamma==0 & acinar==1 & ductal==1))\n",
    "shared_cres <- row.names(subset(upset_data, beta==1 & alpha==1 & delta==1 & gamma==1 & acinar==1 & ductal==1))\n",
    "lineage_cres <- list('endo'=endo_cres, 'exo'=exo_cres, 'shared'=shared_cres)\n",
    "lapply(lineage_cres, length)"
   ]
  },
  {
   "cell_type": "code",
   "execution_count": 94,
   "id": "70ebd282-3c8c-4d03-b71c-e1ea8019bab1",
   "metadata": {},
   "outputs": [],
   "source": [
    "cre_dir <- file.path(outdir,'caqtl_cres')\n",
    "\n",
    "#write these to files\n",
    "for (ct_set in names(lineage_cres)){\n",
    "    cres <- lineage_cres[[ct_set]]\n",
    "    chroms <- str_split_fixed(cres, ':', 2)[,1]\n",
    "    coords <- str_split_fixed(str_split_fixed(cres, ':', 2)[,2], '-',2)\n",
    "    bed <- as.data.frame(cbind(chroms, coords))\n",
    "\n",
    "    bed_fp <- file.path(cre_dir, sprintf('%s_ct_spec_caQTL_cREs.bed',ct_set))\n",
    "    write.table(bed, bed_fp, sep='\\t', row.names=F, col.names=F, quote=F) \n",
    "}"
   ]
  },
  {
   "cell_type": "markdown",
   "id": "42b5051e-366a-4c4a-a229-74607d558e15",
   "metadata": {},
   "source": [
    "## Run FINRICH on sets of caQTL cREs"
   ]
  },
  {
   "cell_type": "code",
   "execution_count": 91,
   "id": "838746ba",
   "metadata": {},
   "outputs": [],
   "source": [
    "### Function to run FINRICH on all sets of sig results (will just use files from GREAT)\n",
    "### similar to great I'm going to just write all the commands to a script and then run that in the terminal\n",
    "run_FINRICH <- function(finemap_bed, prefix, cre_bed, bg_bed, out_dir){\n",
    "    #create overall output file\n",
    "    overall_out_fp <- file.path(out_dir,'combined_results.txt')\n",
    "    \n",
    "    #set up finrich code\n",
    "    temp_fp <- file.path(out_dir, paste0(prefix,'_temp.txt'))\n",
    "    cmd <- sprintf('finrich %s %s %s --permutations 1000 --processes 2 > %s', finemap_bed, cre_bed, bg_bed, temp_fp)\n",
    "    # print(cmd)\n",
    "    system(cmd)\n",
    "\n",
    "    #concat and reformat outputs slightly\n",
    "    cmd2 <- sprintf('awk -v prefix=%s \\'NR == 1 {print prefix \"|\" $0;}\\' %s >> %s', prefix, temp_fp, overall_out_fp)\n",
    "    # print(cmd2)\n",
    "    system(cmd2)\n",
    "    system(sprintf('rm %s',temp_fp))\n",
    "}"
   ]
  },
  {
   "cell_type": "code",
   "execution_count": 101,
   "id": "cbe397ac",
   "metadata": {},
   "outputs": [],
   "source": [
    "### Function to run FINRICH on a cell type (so I can parallelize by cell type)\n",
    "run_finrich_all_caqtls <- function(celltype, cre_dir, gwas_prefix, gwas_fp, outdir){\n",
    "    #set up file paths\n",
    "    gwas_dir <- file.path(outdir,gwas_prefix)\n",
    "    dir.create(gwas_dir, showWarnings=F, recursive=T)\n",
    "    \n",
    "    #collect necessary file paths for finrich\n",
    "    # fp1 <- file.path(cre_dir, sprintf('%s_all_sig_caQTL_cREs.bed',celltype))\n",
    "    fp2 <- file.path(cre_dir, sprintf('%s_ct_spec_caQTL_cREs.bed',celltype))\n",
    "    \n",
    "    #run finrich with helper function\n",
    "    if(celltype %in% c('endo','exo','shared')){\n",
    "        ct_peaks <- file.path(peak_dir, 'mergedPeak.txt')\n",
    "    } else {\n",
    "        ct_peaks <- file.path(peak_dir, sprintf('%s.merged_peaks.anno.mergedOverlap.bed',celltype))    \n",
    "    }\n",
    "    # run_FINRICH(gwas_fp, paste('all_sig',celltype,sep='-'), fp1, ct_peaks, gwas_dir)\n",
    "    run_FINRICH(gwas_fp, paste('ct_spec',celltype,sep='-'), fp2, ct_peaks, gwas_dir)\n",
    "}"
   ]
  },
  {
   "cell_type": "code",
   "execution_count": 93,
   "id": "34e91511-0453-4b7f-a350-823e6001bce8",
   "metadata": {},
   "outputs": [],
   "source": [
    "caqtl_cre_outdir <- file.path(outdir,'caQTL_cREs_FINRICH2')\n",
    "cre_dir <- file.path(outdir,'caqtl_cres')"
   ]
  },
  {
   "cell_type": "code",
   "execution_count": 102,
   "id": "94ceff59-f846-4330-b22f-2ae0f18bf033",
   "metadata": {},
   "outputs": [
    {
     "data": {
      "text/html": [
       "<style>\n",
       ".list-inline {list-style: none; margin:0; padding: 0}\n",
       ".list-inline>li {display: inline-block}\n",
       ".list-inline>li:not(:last-child)::after {content: \"\\00b7\"; padding: 0 .5ex}\n",
       "</style>\n",
       "<ol class=list-inline><li>'beta'</li><li>'alpha'</li><li>'delta'</li><li>'gamma'</li><li>'acinar'</li><li>'ductal'</li><li>'endo'</li><li>'exo'</li><li>'shared'</li></ol>\n"
      ],
      "text/latex": [
       "\\begin{enumerate*}\n",
       "\\item 'beta'\n",
       "\\item 'alpha'\n",
       "\\item 'delta'\n",
       "\\item 'gamma'\n",
       "\\item 'acinar'\n",
       "\\item 'ductal'\n",
       "\\item 'endo'\n",
       "\\item 'exo'\n",
       "\\item 'shared'\n",
       "\\end{enumerate*}\n"
      ],
      "text/markdown": [
       "1. 'beta'\n",
       "2. 'alpha'\n",
       "3. 'delta'\n",
       "4. 'gamma'\n",
       "5. 'acinar'\n",
       "6. 'ductal'\n",
       "7. 'endo'\n",
       "8. 'exo'\n",
       "9. 'shared'\n",
       "\n",
       "\n"
      ],
      "text/plain": [
       "[1] \"beta\"   \"alpha\"  \"delta\"  \"gamma\"  \"acinar\" \"ductal\" \"endo\"   \"exo\"   \n",
       "[9] \"shared\""
      ]
     },
     "metadata": {},
     "output_type": "display_data"
    }
   ],
   "source": [
    "celltypes_to_run <- c(major_celltypes, 'endo', 'exo', 'shared')\n",
    "celltypes_to_run"
   ]
  },
  {
   "cell_type": "code",
   "execution_count": 97,
   "id": "774a5852-bcd7-4df7-99fe-4cf3a532ba5e",
   "metadata": {},
   "outputs": [
    {
     "name": "stdout",
     "output_type": "stream",
     "text": [
      "[1] \"T1D 2024-07-25 13:12:04\"\n",
      "[1] \"T2D 2024-07-25 13:26:04\"\n",
      "[1] \"2hGlu 2024-07-25 13:29:15\"\n",
      "[1] \"FG 2024-07-25 13:29:31\"\n",
      "[1] \"FI 2024-07-25 13:30:32\"\n",
      "[1] \"HbA1c 2024-07-25 13:31:10\"\n"
     ]
    }
   ],
   "source": [
    "for(gwas_prefix in names(gwas_fps)){\n",
    "    print(paste(gwas_prefix, Sys.time()))\n",
    "    gwas_fp <- gwas_fps[[gwas_prefix]]\n",
    "    mclapply(celltypes_to_run, run_finrich_all_caqtls, cre_dir, gwas_prefix, gwas_fp, caqtl_cre_outdir)\n",
    "}"
   ]
  },
  {
   "cell_type": "code",
   "execution_count": 103,
   "id": "b34da9b9-38e3-4821-a8f2-c17b67d6de3d",
   "metadata": {},
   "outputs": [
    {
     "name": "stdout",
     "output_type": "stream",
     "text": [
      "[1] \"T1D 2024-07-26 10:36:07\"\n",
      "[1] \"T2D 2024-07-26 10:46:58\"\n",
      "[1] \"2hGlu 2024-07-26 10:52:40\"\n",
      "[1] \"FG 2024-07-26 10:53:00\"\n",
      "[1] \"FI 2024-07-26 10:54:15\"\n",
      "[1] \"HbA1c 2024-07-26 10:54:56\"\n"
     ]
    }
   ],
   "source": [
    "#rerun on lineage caQTL cREs, with new background (all peaks)\n",
    "lineages <- c('endo','exo','shared')\n",
    "\n",
    "for(gwas_prefix in names(gwas_fps)){\n",
    "    print(paste(gwas_prefix, Sys.time()))\n",
    "    gwas_fp <- gwas_fps[[gwas_prefix]]\n",
    "    mclapply(lineages, run_finrich_all_caqtls, cre_dir, gwas_prefix, gwas_fp, caqtl_cre_outdir)\n",
    "}"
   ]
  },
  {
   "cell_type": "markdown",
   "id": "42eb0dd5-583b-4983-90c1-d4bc3d98a0b6",
   "metadata": {
    "jp-MarkdownHeadingCollapsed": true
   },
   "source": [
    "## For context just overlap caQTL cREs with credible sets)"
   ]
  },
  {
   "cell_type": "code",
   "execution_count": 22,
   "id": "e8df9a0b",
   "metadata": {},
   "outputs": [],
   "source": [
    "### Function to run FINRICH on all sets of sig results (will just use files from GREAT)\n",
    "### similar to great I'm going to just write all the commands to a script and then run that in the terminal\n",
    "check_overlap <- function(finemap_bed, bed_fp, log_fp){\n",
    "    system(sprintf('echo %s >> %s', bed_fp, log_fp))\n",
    "    cmd <- sprintf('bedtools intersect -a %s -b %s -wa -wb | wc -l >> %s', bed_fp, finemap_bed, log_fp)\n",
    "    system(cmd)\n",
    "}"
   ]
  },
  {
   "cell_type": "code",
   "execution_count": 23,
   "id": "de41066b",
   "metadata": {},
   "outputs": [],
   "source": [
    "log_dir <- file.path(caqtl_cre_outdir,'credset_overlaps')\n",
    "dir.create(log_dir, showWarnings=FALSE)"
   ]
  },
  {
   "cell_type": "code",
   "execution_count": 24,
   "id": "7a35ffcd-cbc8-4220-b8c6-8eb4467fa1ca",
   "metadata": {},
   "outputs": [],
   "source": [
    "gwas_prefix <- 'T1D'\n",
    "gwas_fp <- t1d_fp\n",
    "\n",
    "for (celltype in major_celltypes){\n",
    "    #overlap all sig caqtl cres\n",
    "    log1 <- file.path(log_dir,sprintf('all_ct_sig_caQTL.%s_overlap.txt',gwas_prefix))\n",
    "    fp1 <- file.path(cre_dir, sprintf('%s_all_sig_caQTL_cREs.bed',celltype))\n",
    "    check_overlap(gwas_fp, fp1, log1)\n",
    "\n",
    "    #overlap the ct spec caqtl cres (probably too few)\n",
    "    log2 <- file.path(log_dir,sprintf('ct_spec_caQTL.%s_overlap.txt',gwas_prefix))\n",
    "    fp2 <- file.path(cre_dir, sprintf('%s_ct_spec_caQTL_cREs.bed',celltype))\n",
    "    check_overlap(gwas_fp, fp2, log2)\n",
    "}"
   ]
  },
  {
   "cell_type": "code",
   "execution_count": 25,
   "id": "82e63dd8-e0d4-4ea3-b9ad-18888865a132",
   "metadata": {},
   "outputs": [],
   "source": [
    "gwas_prefix <- 'T2D'\n",
    "gwas_fp <- t2d_fp\n",
    "\n",
    "for (celltype in major_celltypes){\n",
    "    #overlap all sig caqtl cres\n",
    "    log1 <- file.path(log_dir,sprintf('all_ct_sig_caQTL.%s_overlap.txt',gwas_prefix))\n",
    "    fp1 <- file.path(cre_dir, sprintf('%s_all_sig_caQTL_cREs.bed',celltype))\n",
    "    check_overlap(gwas_fp, fp1, log1)\n",
    "\n",
    "    #overlap the ct spec caqtl cres (probably too few)\n",
    "    log2 <- file.path(log_dir,sprintf('ct_spec_caQTL.%s_overlap.txt',gwas_prefix))\n",
    "    fp2 <- file.path(cre_dir, sprintf('%s_ct_spec_caQTL_cREs.bed',celltype))\n",
    "    check_overlap(gwas_fp, fp2, log2)\n",
    "}"
   ]
  },
  {
   "cell_type": "code",
   "execution_count": 26,
   "id": "19dbe85d-1715-4358-9941-b40dfeeaa60c",
   "metadata": {},
   "outputs": [],
   "source": [
    "gwas_prefix <- '2hGlu'\n",
    "gwas_fp <- glu2h_fp\n",
    "\n",
    "for (celltype in major_celltypes){\n",
    "    #overlap all sig caqtl cres\n",
    "    log1 <- file.path(log_dir,sprintf('all_ct_sig_caQTL.%s_overlap.txt',gwas_prefix))\n",
    "    fp1 <- file.path(cre_dir, sprintf('%s_all_sig_caQTL_cREs.bed',celltype))\n",
    "    check_overlap(gwas_fp, fp1, log1)\n",
    "\n",
    "    #overlap the ct spec caqtl cres (probably too few)\n",
    "    log2 <- file.path(log_dir,sprintf('ct_spec_caQTL.%s_overlap.txt',gwas_prefix))\n",
    "    fp2 <- file.path(cre_dir, sprintf('%s_ct_spec_caQTL_cREs.bed',celltype))\n",
    "    check_overlap(gwas_fp, fp2, log2)\n",
    "}"
   ]
  },
  {
   "cell_type": "code",
   "execution_count": 27,
   "id": "e625def3-3d31-4f8f-a9e4-7453b4533af5",
   "metadata": {},
   "outputs": [],
   "source": [
    "gwas_prefix <- 'FI'\n",
    "gwas_fp <- fi_fp\n",
    "\n",
    "for (celltype in major_celltypes){\n",
    "    #overlap all sig caqtl cres\n",
    "    log1 <- file.path(log_dir,sprintf('all_ct_sig_caQTL.%s_overlap.txt',gwas_prefix))\n",
    "    fp1 <- file.path(cre_dir, sprintf('%s_all_sig_caQTL_cREs.bed',celltype))\n",
    "    check_overlap(gwas_fp, fp1, log1)\n",
    "\n",
    "    #overlap the ct spec caqtl cres (probably too few)\n",
    "    log2 <- file.path(log_dir,sprintf('ct_spec_caQTL.%s_overlap.txt',gwas_prefix))\n",
    "    fp2 <- file.path(cre_dir, sprintf('%s_ct_spec_caQTL_cREs.bed',celltype))\n",
    "    check_overlap(gwas_fp, fp2, log2)\n",
    "}"
   ]
  },
  {
   "cell_type": "code",
   "execution_count": 30,
   "id": "b0d6726b-3981-4410-94c8-38a3175219c2",
   "metadata": {},
   "outputs": [],
   "source": [
    "gwas_prefix <- 'FG'\n",
    "gwas_fp <- fg_fp\n",
    "\n",
    "for (celltype in major_celltypes){\n",
    "    #overlap all sig caqtl cres\n",
    "    log1 <- file.path(log_dir,sprintf('all_ct_sig_caQTL.%s_overlap.txt',gwas_prefix))\n",
    "    fp1 <- file.path(cre_dir, sprintf('%s_all_sig_caQTL_cREs.bed',celltype))\n",
    "    check_overlap(gwas_fp, fp1, log1)\n",
    "\n",
    "    #overlap the ct spec caqtl cres (probably too few)\n",
    "    log2 <- file.path(log_dir,sprintf('ct_spec_caQTL.%s_overlap.txt',gwas_prefix))\n",
    "    fp2 <- file.path(cre_dir, sprintf('%s_ct_spec_caQTL_cREs.bed',celltype))\n",
    "    check_overlap(gwas_fp, fp2, log2)\n",
    "}"
   ]
  },
  {
   "cell_type": "code",
   "execution_count": 31,
   "id": "4172dccf-0dd6-414b-ba3c-e4d451fe6575",
   "metadata": {},
   "outputs": [],
   "source": [
    "gwas_prefix <- 'Hba1c'\n",
    "gwas_fp <- hba1c_fp\n",
    "\n",
    "for (celltype in major_celltypes){\n",
    "    #overlap all sig caqtl cres\n",
    "    log1 <- file.path(log_dir,sprintf('all_ct_sig_caQTL.%s_overlap.txt',gwas_prefix))\n",
    "    fp1 <- file.path(cre_dir, sprintf('%s_all_sig_caQTL_cREs.bed',celltype))\n",
    "    check_overlap(gwas_fp, fp1, log1)\n",
    "\n",
    "    #overlap the ct spec caqtl cres (probably too few)\n",
    "    log2 <- file.path(log_dir,sprintf('ct_spec_caQTL.%s_overlap.txt',gwas_prefix))\n",
    "    fp2 <- file.path(cre_dir, sprintf('%s_ct_spec_caQTL_cREs.bed',celltype))\n",
    "    check_overlap(gwas_fp, fp2, log2)\n",
    "}"
   ]
  },
  {
   "cell_type": "markdown",
   "id": "c6e39f1a-87bd-434d-a863-36cf6a06d875",
   "metadata": {
    "jp-MarkdownHeadingCollapsed": true
   },
   "source": [
    "# 7/22/24: Also run FINRICH on entropy peaks!!"
   ]
  },
  {
   "cell_type": "markdown",
   "id": "ae5f509c-f62c-4189-9a0f-e206898307b6",
   "metadata": {},
   "source": [
    "## First make bed files of all entropy peaks and overlap them with credible sets"
   ]
  },
  {
   "cell_type": "code",
   "execution_count": 20,
   "id": "e0771b96-5bea-40cf-9046-ab8dc9383d4f",
   "metadata": {},
   "outputs": [],
   "source": [
    "#first read in entropy cREs and write to bed files\n",
    "entropy_peak_dir <- '/nfs/lab/projects/multiomic_islet/outputs/multiome/entropy_outputs/ATAC_ct_spec_cREs'\n",
    "\n",
    "for(celltype in cell_types[-4]){\n",
    "    peak_fp <- file.path(entropy_peak_dir,sprintf('%s_entropy2_UNION_cREs_CPM5.txt',celltype))\n",
    "    peaks <- fread(peak_fp)\n",
    "    bed <- str_split_fixed(peaks$peak, '-', 3)\n",
    "    bed_fp <- file.path(outdir,'entropy_cres',sprintf('%s_entropy2_UNION_cREs_CPM5.bed',celltype))\n",
    "    write.table(bed, bed_fp, sep='\\t', row.names=F, col.names=F, quote=F)\n",
    "}"
   ]
  },
  {
   "cell_type": "code",
   "execution_count": 10,
   "id": "847e6b6f-c0fd-4c4a-85a3-70721eee93b1",
   "metadata": {},
   "outputs": [],
   "source": [
    "### Function to run FINRICH on all sets of sig results (will just use files from GREAT)\n",
    "### similar to great I'm going to just write all the commands to a script and then run that in the terminal\n",
    "check_overlap <- function(finemap_bed, bed_fp, log_fp){\n",
    "    system(sprintf('echo %s >> %s', bed_fp, log_fp))\n",
    "    cmd <- sprintf('bedtools intersect -a %s -b %s -wa -wb | wc -l >> %s', bed_fp, finemap_bed, log_fp)\n",
    "    system(cmd)\n",
    "}"
   ]
  },
  {
   "cell_type": "code",
   "execution_count": 21,
   "id": "c73fa1a1-1dfc-4df4-95ec-2a61eddb7ce9",
   "metadata": {},
   "outputs": [],
   "source": [
    "entropy_cre_outdir <- file.path(outdir,'entropy_cREs_FINRICH')\n",
    "log_dir <- file.path(entropy_cre_outdir,'credset_overlaps')\n",
    "dir.create(log_dir, showWarnings=FALSE)"
   ]
  },
  {
   "cell_type": "code",
   "execution_count": 23,
   "id": "d6217c96-0b76-4edd-a243-3782f329d650",
   "metadata": {},
   "outputs": [],
   "source": [
    "for (gwas_prefix in gwas_prefixes){\n",
    "    gwas_fp <- gwas_fps[[gwas_prefix]]\n",
    "    log1 <- file.path(log_dir,sprintf('all_ct_entropy_cREs.%s_overlap.txt',gwas_prefix))\n",
    "    \n",
    "    for(celltype in cell_types[-4]){\n",
    "        #overlap all entropy cres\n",
    "        fp1 <- file.path(outdir,'entropy_cres',sprintf('%s_entropy2_UNION_cREs_CPM5.bed',celltype))\n",
    "        check_overlap(gwas_fp, fp1, log1)\n",
    "    }\n",
    "}"
   ]
  },
  {
   "cell_type": "markdown",
   "id": "016392e8-1c3a-49c0-92aa-500fff20a897",
   "metadata": {},
   "source": [
    "## Run FINRICH on entropy cREs"
   ]
  },
  {
   "cell_type": "code",
   "execution_count": 39,
   "id": "de62e5f7-0ea4-4e50-9c01-4c03385cd596",
   "metadata": {},
   "outputs": [],
   "source": [
    "### Function to run FINRICH on all sets of sig results (will just use files from GREAT)\n",
    "### similar to great I'm going to just write all the commands to a script and then run that in the terminal\n",
    "run_FINRICH <- function(finemap_bed, prefix, cre_bed, bg_bed, out_dir){\n",
    "    #create overall output file\n",
    "    overall_out_fp <- file.path(out_dir,'combined_results.txt')\n",
    "    \n",
    "    #set up finrich code\n",
    "    temp_fp <- file.path(out_dir, paste0(prefix,'_temp.txt'))\n",
    "    cmd <- sprintf('finrich %s %s %s --permutations 1000 --processes 2 > %s', finemap_bed, cre_bed, bg_bed, temp_fp)\n",
    "    # print(cmd)\n",
    "    system(cmd)\n",
    "\n",
    "    #concat and reformat outputs slightly\n",
    "    cmd2 <- sprintf('awk -v prefix=%s \\'NR == 1 {print prefix \"|\" $0;}\\' %s >> %s', prefix, temp_fp, overall_out_fp)\n",
    "    # print(cmd2)\n",
    "    system(cmd2)\n",
    "    system(sprintf('rm %s',temp_fp))\n",
    "}"
   ]
  },
  {
   "cell_type": "code",
   "execution_count": 36,
   "id": "b2458d64-a92d-4bf4-9c35-9a2e0041ab95",
   "metadata": {},
   "outputs": [],
   "source": [
    "### Function to run FINRICH on a cell type (so I can parallelize by cell type)\n",
    "run_finrich_entropy_cres <- function(celltype, cre_dir, gwas_prefix, gwas_fp, outdir){\n",
    "    #set up file paths\n",
    "    gwas_dir <- file.path(outdir,gwas_prefix)\n",
    "    dir.create(gwas_dir, showWarnings=F, recursive=T)\n",
    "    \n",
    "    #collect necessary file paths for finrich\n",
    "    fp <- file.path(cre_dir, sprintf('%s_entropy2_UNION_cREs_CPM5.bed',celltype))\n",
    "    entropy_dir <- '/nfs/lab/projects/multiomic_islet/outputs/multiome/call_peaks/240304_union_peaks/celltype_union_peaks'\n",
    "    bg_peaks <- file.path(entropy_dir, sprintf('%s.union_peaks.cut.bed',celltype))\n",
    "    \n",
    "    #run finrich with helper function\n",
    "    run_FINRICH(gwas_fp, celltype, fp, bg_peaks, gwas_dir)\n",
    "}"
   ]
  },
  {
   "cell_type": "code",
   "execution_count": 29,
   "id": "89622a48-746f-46ba-8220-52053e1036e8",
   "metadata": {},
   "outputs": [],
   "source": [
    "entropy_cre_outdir <- file.path(outdir,'entropy_cREs_FINRICH')\n",
    "dir.create(entropy_cre_outdir, showWarnings=F)\n",
    "entropy_cre_indir <- file.path(outdir,'entropy_cres')"
   ]
  },
  {
   "cell_type": "code",
   "execution_count": 40,
   "id": "545387b5-f09b-47f7-b277-7c6c2b0773b6",
   "metadata": {},
   "outputs": [
    {
     "name": "stdout",
     "output_type": "stream",
     "text": [
      "[1] \"T1D 2024-07-23 10:42:23\"\n",
      "[1] \"T2D 2024-07-23 11:15:57\"\n",
      "[1] \"2hGlu 2024-07-23 11:23:24\"\n",
      "[1] \"FG 2024-07-23 11:24:08\"\n",
      "[1] \"FI 2024-07-23 11:26:28\"\n",
      "[1] \"HbA1c 2024-07-23 11:27:36\"\n"
     ]
    }
   ],
   "source": [
    "for(gwas_prefix in names(gwas_fps)){\n",
    "    print(paste(gwas_prefix, Sys.time()))\n",
    "    gwas_fp <- gwas_fps[[gwas_prefix]]\n",
    "    mclapply(major_celltypes, run_finrich_entropy_cres, entropy_cre_indir, gwas_prefix, gwas_fp, entropy_cre_outdir)\n",
    "}"
   ]
  },
  {
   "cell_type": "markdown",
   "id": "c12e0ca1-9efe-49d1-88bc-2dce8588a8cb",
   "metadata": {},
   "source": [
    "## Real quick plot the results (copied code from Figure 4 notebook)"
   ]
  },
  {
   "cell_type": "code",
   "execution_count": 41,
   "id": "70da3be4-5af6-43d9-843e-58dd7ca3742c",
   "metadata": {},
   "outputs": [],
   "source": [
    "### function to parse results from FINRICH\n",
    "parse_finrich_res <- function(finrich_fp){\n",
    "    df <- suppressMessages(vroom::vroom(finrich_fp, col_names=FALSE))\n",
    "    \n",
    "    #reformat everything with dplyr\n",
    "    df <- df %>% select(X1,X2,X4,X6,X8,X10) %>%\n",
    "            `colnames<-`(c('id','pval','fold_enrich','logOR','conf_lower','conf_upper'))\n",
    "    df$id <- gsub('\\\\|\\\\{\\\\\"pval\\\\\":','',df$id)\n",
    "    df$conf_upper <- as.numeric(gsub('}','',df$conf_upper))\n",
    "    return(df)\n",
    "}"
   ]
  },
  {
   "cell_type": "code",
   "execution_count": 42,
   "id": "36788a39-0acb-401c-b1f3-4a3f8e75e6be",
   "metadata": {},
   "outputs": [],
   "source": [
    "# finrich_dir <- '/nfs/lab/KG/islet_multiome/May2024'\n",
    "# kyle_cts <- c('beta','alpha','delta','gamma','ductal','acinar')\n",
    "finrich_dir <- '/nfs/lab/projects/multiomic_islet/outputs/genotypes/240701_final_FINRICH/entropy_cREs_FINRICH'\n",
    "\n",
    "finrich_res <- list()\n",
    "for(study in gwas_prefixes){\n",
    "    #parse in finrich results and reorganize a bit (add trait, gwas and ct info)\n",
    "    fp <- file.path(finrich_dir, study, 'combined_results.txt')\n",
    "    df <- parse_finrich_res(fp)\n",
    "    df$gwas <- study\n",
    "    df$celltype <- df$id\n",
    "    finrich_res[[study]] <- df\n",
    "}\n",
    "data <- rbindlist(finrich_res)\n",
    "data$qval <- p.adjust(data$pval, method='BH')\n",
    "data$sig <- ifelse(data$qval < 0.1, '*', ifelse(data$pval<0.05,'\\u00b0',''))"
   ]
  },
  {
   "cell_type": "code",
   "execution_count": 47,
   "id": "1c9d4a05-bef4-4203-835a-40a8eb356090",
   "metadata": {},
   "outputs": [
    {
     "data": {
      "text/html": [
       "<table class=\"dataframe\">\n",
       "<caption>A data.table: 6 × 10</caption>\n",
       "<thead>\n",
       "\t<tr><th scope=col>id</th><th scope=col>pval</th><th scope=col>fold_enrich</th><th scope=col>logOR</th><th scope=col>conf_lower</th><th scope=col>conf_upper</th><th scope=col>gwas</th><th scope=col>celltype</th><th scope=col>qval</th><th scope=col>sig</th></tr>\n",
       "\t<tr><th scope=col>&lt;chr&gt;</th><th scope=col>&lt;dbl&gt;</th><th scope=col>&lt;dbl&gt;</th><th scope=col>&lt;chr&gt;</th><th scope=col>&lt;chr&gt;</th><th scope=col>&lt;dbl&gt;</th><th scope=col>&lt;chr&gt;</th><th scope=col>&lt;chr&gt;</th><th scope=col>&lt;dbl&gt;</th><th scope=col>&lt;chr&gt;</th></tr>\n",
       "</thead>\n",
       "<tbody>\n",
       "\t<tr><td>beta  </td><td>1.000</td><td>0.0000000</td><td>-Infinity,          </td><td>-Infinity,          </td><td>    -Inf</td><td>T1D</td><td>beta  </td><td>1</td><td></td></tr>\n",
       "\t<tr><td>alpha </td><td>1.000</td><td>0.0000000</td><td>-Infinity,          </td><td>-Infinity,          </td><td>    -Inf</td><td>T1D</td><td>alpha </td><td>1</td><td></td></tr>\n",
       "\t<tr><td>delta </td><td>1.000</td><td>0.0000000</td><td>-Infinity,          </td><td>-Infinity,          </td><td>    -Inf</td><td>T1D</td><td>delta </td><td>1</td><td></td></tr>\n",
       "\t<tr><td>gamma </td><td>1.000</td><td>0.0000000</td><td>-Infinity,          </td><td>-Infinity,          </td><td>    -Inf</td><td>T1D</td><td>gamma </td><td>1</td><td></td></tr>\n",
       "\t<tr><td>acinar</td><td>0.452</td><td>0.1393685</td><td>-1.981864656224035, </td><td>-4.176407727104108, </td><td>18.78873</td><td>T1D</td><td>acinar</td><td>1</td><td></td></tr>\n",
       "\t<tr><td>ductal</td><td>0.398</td><td>0.2100018</td><td>-1.5696760420288052,</td><td>-3.7656841483682157,</td><td>19.90175</td><td>T1D</td><td>ductal</td><td>1</td><td></td></tr>\n",
       "</tbody>\n",
       "</table>\n"
      ],
      "text/latex": [
       "A data.table: 6 × 10\n",
       "\\begin{tabular}{llllllllll}\n",
       " id & pval & fold\\_enrich & logOR & conf\\_lower & conf\\_upper & gwas & celltype & qval & sig\\\\\n",
       " <chr> & <dbl> & <dbl> & <chr> & <chr> & <dbl> & <chr> & <chr> & <dbl> & <chr>\\\\\n",
       "\\hline\n",
       "\t beta   & 1.000 & 0.0000000 & -Infinity,           & -Infinity,           &     -Inf & T1D & beta   & 1 & \\\\\n",
       "\t alpha  & 1.000 & 0.0000000 & -Infinity,           & -Infinity,           &     -Inf & T1D & alpha  & 1 & \\\\\n",
       "\t delta  & 1.000 & 0.0000000 & -Infinity,           & -Infinity,           &     -Inf & T1D & delta  & 1 & \\\\\n",
       "\t gamma  & 1.000 & 0.0000000 & -Infinity,           & -Infinity,           &     -Inf & T1D & gamma  & 1 & \\\\\n",
       "\t acinar & 0.452 & 0.1393685 & -1.981864656224035,  & -4.176407727104108,  & 18.78873 & T1D & acinar & 1 & \\\\\n",
       "\t ductal & 0.398 & 0.2100018 & -1.5696760420288052, & -3.7656841483682157, & 19.90175 & T1D & ductal & 1 & \\\\\n",
       "\\end{tabular}\n"
      ],
      "text/markdown": [
       "\n",
       "A data.table: 6 × 10\n",
       "\n",
       "| id &lt;chr&gt; | pval &lt;dbl&gt; | fold_enrich &lt;dbl&gt; | logOR &lt;chr&gt; | conf_lower &lt;chr&gt; | conf_upper &lt;dbl&gt; | gwas &lt;chr&gt; | celltype &lt;chr&gt; | qval &lt;dbl&gt; | sig &lt;chr&gt; |\n",
       "|---|---|---|---|---|---|---|---|---|---|\n",
       "| beta   | 1.000 | 0.0000000 | -Infinity,           | -Infinity,           |     -Inf | T1D | beta   | 1 | <!----> |\n",
       "| alpha  | 1.000 | 0.0000000 | -Infinity,           | -Infinity,           |     -Inf | T1D | alpha  | 1 | <!----> |\n",
       "| delta  | 1.000 | 0.0000000 | -Infinity,           | -Infinity,           |     -Inf | T1D | delta  | 1 | <!----> |\n",
       "| gamma  | 1.000 | 0.0000000 | -Infinity,           | -Infinity,           |     -Inf | T1D | gamma  | 1 | <!----> |\n",
       "| acinar | 0.452 | 0.1393685 | -1.981864656224035,  | -4.176407727104108,  | 18.78873 | T1D | acinar | 1 | <!----> |\n",
       "| ductal | 0.398 | 0.2100018 | -1.5696760420288052, | -3.7656841483682157, | 19.90175 | T1D | ductal | 1 | <!----> |\n",
       "\n"
      ],
      "text/plain": [
       "  id     pval  fold_enrich logOR                conf_lower           conf_upper\n",
       "1 beta   1.000 0.0000000   -Infinity,           -Infinity,               -Inf  \n",
       "2 alpha  1.000 0.0000000   -Infinity,           -Infinity,               -Inf  \n",
       "3 delta  1.000 0.0000000   -Infinity,           -Infinity,               -Inf  \n",
       "4 gamma  1.000 0.0000000   -Infinity,           -Infinity,               -Inf  \n",
       "5 acinar 0.452 0.1393685   -1.981864656224035,  -4.176407727104108,  18.78873  \n",
       "6 ductal 0.398 0.2100018   -1.5696760420288052, -3.7656841483682157, 19.90175  \n",
       "  gwas celltype qval sig\n",
       "1 T1D  beta     1       \n",
       "2 T1D  alpha    1       \n",
       "3 T1D  delta    1       \n",
       "4 T1D  gamma    1       \n",
       "5 T1D  acinar   1       \n",
       "6 T1D  ductal   1       "
      ]
     },
     "metadata": {},
     "output_type": "display_data"
    },
    {
     "data": {
      "text/html": [
       "<table class=\"dataframe\">\n",
       "<caption>A data.table: 2 × 10</caption>\n",
       "<thead>\n",
       "\t<tr><th scope=col>id</th><th scope=col>pval</th><th scope=col>fold_enrich</th><th scope=col>logOR</th><th scope=col>conf_lower</th><th scope=col>conf_upper</th><th scope=col>gwas</th><th scope=col>celltype</th><th scope=col>qval</th><th scope=col>sig</th></tr>\n",
       "\t<tr><th scope=col>&lt;chr&gt;</th><th scope=col>&lt;dbl&gt;</th><th scope=col>&lt;dbl&gt;</th><th scope=col>&lt;chr&gt;</th><th scope=col>&lt;chr&gt;</th><th scope=col>&lt;dbl&gt;</th><th scope=col>&lt;chr&gt;</th><th scope=col>&lt;chr&gt;</th><th scope=col>&lt;dbl&gt;</th><th scope=col>&lt;chr&gt;</th></tr>\n",
       "</thead>\n",
       "<tbody>\n",
       "\t<tr><td>ductal</td><td>0.398</td><td>0.2100018</td><td>-1.5696760420288052,</td><td>-3.7656841483682157,</td><td>19.90175</td><td>T1D  </td><td>ductal</td><td>1</td><td></td></tr>\n",
       "\t<tr><td>ductal</td><td>0.348</td><td>0.2760273</td><td>-1.2955017627046348,</td><td>-3.379828329811582, </td><td>15.38050</td><td>HbA1c</td><td>ductal</td><td>1</td><td></td></tr>\n",
       "</tbody>\n",
       "</table>\n"
      ],
      "text/latex": [
       "A data.table: 2 × 10\n",
       "\\begin{tabular}{llllllllll}\n",
       " id & pval & fold\\_enrich & logOR & conf\\_lower & conf\\_upper & gwas & celltype & qval & sig\\\\\n",
       " <chr> & <dbl> & <dbl> & <chr> & <chr> & <dbl> & <chr> & <chr> & <dbl> & <chr>\\\\\n",
       "\\hline\n",
       "\t ductal & 0.398 & 0.2100018 & -1.5696760420288052, & -3.7656841483682157, & 19.90175 & T1D   & ductal & 1 & \\\\\n",
       "\t ductal & 0.348 & 0.2760273 & -1.2955017627046348, & -3.379828329811582,  & 15.38050 & HbA1c & ductal & 1 & \\\\\n",
       "\\end{tabular}\n"
      ],
      "text/markdown": [
       "\n",
       "A data.table: 2 × 10\n",
       "\n",
       "| id &lt;chr&gt; | pval &lt;dbl&gt; | fold_enrich &lt;dbl&gt; | logOR &lt;chr&gt; | conf_lower &lt;chr&gt; | conf_upper &lt;dbl&gt; | gwas &lt;chr&gt; | celltype &lt;chr&gt; | qval &lt;dbl&gt; | sig &lt;chr&gt; |\n",
       "|---|---|---|---|---|---|---|---|---|---|\n",
       "| ductal | 0.398 | 0.2100018 | -1.5696760420288052, | -3.7656841483682157, | 19.90175 | T1D   | ductal | 1 | <!----> |\n",
       "| ductal | 0.348 | 0.2760273 | -1.2955017627046348, | -3.379828329811582,  | 15.38050 | HbA1c | ductal | 1 | <!----> |\n",
       "\n"
      ],
      "text/plain": [
       "  id     pval  fold_enrich logOR                conf_lower           conf_upper\n",
       "1 ductal 0.398 0.2100018   -1.5696760420288052, -3.7656841483682157, 19.90175  \n",
       "2 ductal 0.348 0.2760273   -1.2955017627046348, -3.379828329811582,  15.38050  \n",
       "  gwas  celltype qval sig\n",
       "1 T1D   ductal   1       \n",
       "2 HbA1c ductal   1       "
      ]
     },
     "metadata": {},
     "output_type": "display_data"
    }
   ],
   "source": [
    "head(data)\n",
    "subset(data, fold_enrich>0.2)"
   ]
  },
  {
   "cell_type": "code",
   "execution_count": 49,
   "id": "462ba45c-55bb-4d38-ad72-ec0e6ee459c7",
   "metadata": {},
   "outputs": [
    {
     "name": "stderr",
     "output_type": "stream",
     "text": [
      "Warning message:\n",
      "“\u001b[1m\u001b[22mThe `size` argument of `element_rect()` is deprecated as of ggplot2 3.4.0.\n",
      "\u001b[36mℹ\u001b[39m Please use the `linewidth` argument instead.”\n"
     ]
    },
    {
     "data": {
      "image/png": "[encoded data removed]",
      "text/plain": [
       "plot without title"
      ]
     },
     "metadata": {
      "image/png": {
       "height": 300,
       "width": 840
      }
     },
     "output_type": "display_data"
    }
   ],
   "source": [
    "# Make a bar plot for each trait\n",
    "# fp <- file.path(outdir, sprintf('4c_caQTL_%s_cRE_FINRICH.svg',peak_set))\n",
    "# pdf(fp, width=14, height=5)\n",
    "\n",
    "data_sub <- data\n",
    "xmax <- ceiling(max(data_sub$fold_enrich) + 0.5)\n",
    "\n",
    "options(repr.plot.width=14, repr.plot.height=5)\n",
    "theme_set(theme_classic())\n",
    "p1 <- ggplot(data=data_sub, aes(y=fold_enrich, x=gwas, fill=celltype)) + \n",
    "        geom_hline(yintercept=seq(0, xmax, 2.5), linetype='dashed', color='black', alpha=0.5, size=0.5) + \n",
    "        geom_bar(width=0.6, position=position_dodge(0.6), stat='identity') + \n",
    "        scale_fill_manual(values=major_colors) + \n",
    "        geom_hline(yintercept=1, color='black', size=0.5) + \n",
    "        geom_text(aes(gwas, fold_enrich, label=sig), size=10, position=position_dodge(0.6), vjust=0.25) +\n",
    "        # xlim(0,xmax) + \n",
    "        ylab('Fold enrichment') + xlab('Credible Set') + labs(title='Enrichment in entropy cREs') + \n",
    "        theme(plot.title=element_text(size=18, hjust=0.5),\n",
    "              axis.text.x=element_text(size=15, vjust=0.5),\n",
    "              axis.text.y=element_text(size=15, vjust=0.5),\n",
    "              axis.title.x = element_text(size=18, vjust=-0.35),\n",
    "              axis.title.y = element_text(size=18, vjust=0.5),\n",
    "              legend.text=element_text(size=15),\n",
    "              legend.title=element_blank(),\n",
    "              panel.border=element_rect(color='black',fill=NA, size=1))    \n",
    "# p1$data$trait <- factor(x = p1$data$trait, levels=traits2)\n",
    "# print(p1)\n",
    "# dev.off()\n",
    "print(p1)"
   ]
  },
  {
   "cell_type": "code",
   "execution_count": null,
   "id": "ecd2dd13-d5ca-4fb7-ad1d-96a806fa2724",
   "metadata": {},
   "outputs": [],
   "source": []
  }
 ],
 "metadata": {
  "kernelspec": {
   "display_name": "R 4.1",
   "language": "R",
   "name": "ir411"
  },
  "language_info": {
   "codemirror_mode": "r",
   "file_extension": ".r",
   "mimetype": "text/x-r-source",
   "name": "R",
   "pygments_lexer": "r",
   "version": "4.1.1"
  }
 },
 "nbformat": 4,
 "nbformat_minor": 5
}
