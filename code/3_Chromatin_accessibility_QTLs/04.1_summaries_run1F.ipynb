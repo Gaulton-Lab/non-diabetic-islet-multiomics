{
 "cells": [
  {
   "cell_type": "code",
   "execution_count": 2,
   "id": "f512a0c1",
   "metadata": {
    "vscode": {
     "languageId": "r"
    }
   },
   "outputs": [],
   "source": [
    "library(tidyr)\n",
    "library(pheatmap)\n",
    "library(RColorBrewer)\n",
    "library(data.table)\n",
    "library(stringr)"
   ]
  },
  {
   "cell_type": "code",
   "execution_count": 3,
   "id": "831b5cfc",
   "metadata": {
    "vscode": {
     "languageId": "r"
    }
   },
   "outputs": [],
   "source": [
    "maindir     = '/path/to/caQTL/stuff/caQTLs_rasqual/'\n",
    "\n",
    "run <- 'run1'\n",
    "\n",
    "setwd(maindir)\n",
    "\n",
    "celltypes_no_bulk =  c('acinar','alpha','beta','delta','ductal','endothelial','gamma',\n",
    "                'immune','stellate')\n",
    "celltypes =  c('acinar','alpha','beta','delta','ductal','endothelial','gamma',\n",
    "                'immune','stellate','bulk')"
   ]
  },
  {
   "cell_type": "markdown",
   "id": "ca9ac00d",
   "metadata": {},
   "source": [
    "Load QTL Results"
   ]
  },
  {
   "cell_type": "code",
   "execution_count": 7,
   "id": "62eeb1b6",
   "metadata": {
    "scrolled": true,
    "vscode": {
     "languageId": "r"
    }
   },
   "outputs": [
    {
     "data": {
      "text/html": [
       "<style>\n",
       ".list-inline {list-style: none; margin:0; padding: 0}\n",
       ".list-inline>li {display: inline-block}\n",
       ".list-inline>li:not(:last-child)::after {content: \"\\00b7\"; padding: 0 .5ex}\n",
       "</style>\n",
       "<ol class=list-inline><li>34898761</li><li>31</li></ol>\n"
      ],
      "text/latex": [
       "\\begin{enumerate*}\n",
       "\\item 34898761\n",
       "\\item 31\n",
       "\\end{enumerate*}\n"
      ],
      "text/markdown": [
       "1. 34898761\n",
       "2. 31\n",
       "\n",
       "\n"
      ],
      "text/plain": [
       "[1] 34898761       31"
      ]
     },
     "metadata": {},
     "output_type": "display_data"
    },
    {
     "data": {
      "text/html": [
       "<table class=\"dataframe\">\n",
       "<caption>A data.frame: 6 × 31</caption>\n",
       "<thead>\n",
       "\t<tr><th></th><th scope=col>Feature</th><th scope=col>rsID</th><th scope=col>Chromosome</th><th scope=col>position</th><th scope=col>Ref</th><th scope=col>Alt</th><th scope=col>Af</th><th scope=col>HWEChi_square</th><th scope=col>IA</th><th scope=col>Log10_qval</th><th scope=col>⋯</th><th scope=col>Log_likelihood_H0</th><th scope=col>Convergence_status</th><th scope=col>r2_fSNPs</th><th scope=col>r2_rSNP</th><th scope=col>P_VAl</th><th scope=col>dist</th><th scope=col>flag_fdr10</th><th scope=col>flag_fdr05</th><th scope=col>flag_fdr01</th><th scope=col>cell</th></tr>\n",
       "\t<tr><th></th><th scope=col>&lt;chr&gt;</th><th scope=col>&lt;chr&gt;</th><th scope=col>&lt;chr&gt;</th><th scope=col>&lt;int&gt;</th><th scope=col>&lt;chr&gt;</th><th scope=col>&lt;chr&gt;</th><th scope=col>&lt;dbl&gt;</th><th scope=col>&lt;dbl&gt;</th><th scope=col>&lt;dbl&gt;</th><th scope=col>&lt;dbl&gt;</th><th scope=col>⋯</th><th scope=col>&lt;dbl&gt;</th><th scope=col>&lt;int&gt;</th><th scope=col>&lt;dbl&gt;</th><th scope=col>&lt;dbl&gt;</th><th scope=col>&lt;dbl&gt;</th><th scope=col>&lt;int&gt;</th><th scope=col>&lt;lgl&gt;</th><th scope=col>&lt;lgl&gt;</th><th scope=col>&lt;lgl&gt;</th><th scope=col>&lt;chr&gt;</th></tr>\n",
       "</thead>\n",
       "<tbody>\n",
       "\t<tr><th scope=row>1</th><td>chr6:32622377-32623439</td><td>chr6:32620608:T:A</td><td>chr6</td><td>32620608</td><td>T</td><td>A</td><td>0.425926</td><td>2.231991</td><td>0.998678</td><td>-67.03611</td><td>⋯</td><td>156.3965</td><td>0</td><td>0.991233</td><td>0.824496</td><td>8.976233e-71</td><td>-2300</td><td>TRUE</td><td>TRUE</td><td>TRUE</td><td>acinar</td></tr>\n",
       "\t<tr><th scope=row>2</th><td>chr6:32622377-32623439</td><td>chr6:32620292:C:T</td><td>chr6</td><td>32620292</td><td>C</td><td>T</td><td>0.481481</td><td>3.033058</td><td>0.997176</td><td>-67.03611</td><td>⋯</td><td>155.1102</td><td>0</td><td>0.991113</td><td>0.766739</td><td>3.415022e-70</td><td>-2616</td><td>TRUE</td><td>TRUE</td><td>TRUE</td><td>acinar</td></tr>\n",
       "\t<tr><th scope=row>3</th><td>chr6:32622377-32623439</td><td>chr6:32620069:C:T</td><td>chr6</td><td>32620069</td><td>C</td><td>T</td><td>0.481481</td><td>3.033058</td><td>0.997249</td><td>-67.03611</td><td>⋯</td><td>155.1102</td><td>0</td><td>0.991113</td><td>0.766739</td><td>3.415022e-70</td><td>-2839</td><td>TRUE</td><td>TRUE</td><td>TRUE</td><td>acinar</td></tr>\n",
       "\t<tr><th scope=row>4</th><td>chr6:32622377-32623439</td><td>chr6:32620254:G:A</td><td>chr6</td><td>32620254</td><td>G</td><td>A</td><td>0.481481</td><td>3.033058</td><td>0.997319</td><td>-67.03611</td><td>⋯</td><td>155.0975</td><td>0</td><td>0.991113</td><td>0.767647</td><td>3.459474e-70</td><td>-2654</td><td>TRUE</td><td>TRUE</td><td>TRUE</td><td>acinar</td></tr>\n",
       "\t<tr><th scope=row>5</th><td>chr6:32622377-32623439</td><td>chr6:32623176:T:C</td><td>chr6</td><td>32623176</td><td>T</td><td>C</td><td>0.462963</td><td>1.913385</td><td>0.999952</td><td>-66.25852</td><td>⋯</td><td>152.2692</td><td>0</td><td>0.991231</td><td>0.777224</td><td>5.637594e-69</td><td>  268</td><td>TRUE</td><td>TRUE</td><td>TRUE</td><td>acinar</td></tr>\n",
       "\t<tr><th scope=row>6</th><td>chr6:32622377-32623439</td><td>chr6:32623122:G:T</td><td>chr6</td><td>32623122</td><td>G</td><td>T</td><td>0.462963</td><td>1.913385</td><td>0.999952</td><td>-66.25852</td><td>⋯</td><td>152.2670</td><td>0</td><td>0.987012</td><td>0.777217</td><td>5.650015e-69</td><td>  214</td><td>TRUE</td><td>TRUE</td><td>TRUE</td><td>acinar</td></tr>\n",
       "</tbody>\n",
       "</table>\n"
      ],
      "text/latex": [
       "A data.frame: 6 × 31\n",
       "\\begin{tabular}{r|lllllllllllllllllllll}\n",
       "  & Feature & rsID & Chromosome & position & Ref & Alt & Af & HWEChi\\_square & IA & Log10\\_qval & ⋯ & Log\\_likelihood\\_H0 & Convergence\\_status & r2\\_fSNPs & r2\\_rSNP & P\\_VAl & dist & flag\\_fdr10 & flag\\_fdr05 & flag\\_fdr01 & cell\\\\\n",
       "  & <chr> & <chr> & <chr> & <int> & <chr> & <chr> & <dbl> & <dbl> & <dbl> & <dbl> & ⋯ & <dbl> & <int> & <dbl> & <dbl> & <dbl> & <int> & <lgl> & <lgl> & <lgl> & <chr>\\\\\n",
       "\\hline\n",
       "\t1 & chr6:32622377-32623439 & chr6:32620608:T:A & chr6 & 32620608 & T & A & 0.425926 & 2.231991 & 0.998678 & -67.03611 & ⋯ & 156.3965 & 0 & 0.991233 & 0.824496 & 8.976233e-71 & -2300 & TRUE & TRUE & TRUE & acinar\\\\\n",
       "\t2 & chr6:32622377-32623439 & chr6:32620292:C:T & chr6 & 32620292 & C & T & 0.481481 & 3.033058 & 0.997176 & -67.03611 & ⋯ & 155.1102 & 0 & 0.991113 & 0.766739 & 3.415022e-70 & -2616 & TRUE & TRUE & TRUE & acinar\\\\\n",
       "\t3 & chr6:32622377-32623439 & chr6:32620069:C:T & chr6 & 32620069 & C & T & 0.481481 & 3.033058 & 0.997249 & -67.03611 & ⋯ & 155.1102 & 0 & 0.991113 & 0.766739 & 3.415022e-70 & -2839 & TRUE & TRUE & TRUE & acinar\\\\\n",
       "\t4 & chr6:32622377-32623439 & chr6:32620254:G:A & chr6 & 32620254 & G & A & 0.481481 & 3.033058 & 0.997319 & -67.03611 & ⋯ & 155.0975 & 0 & 0.991113 & 0.767647 & 3.459474e-70 & -2654 & TRUE & TRUE & TRUE & acinar\\\\\n",
       "\t5 & chr6:32622377-32623439 & chr6:32623176:T:C & chr6 & 32623176 & T & C & 0.462963 & 1.913385 & 0.999952 & -66.25852 & ⋯ & 152.2692 & 0 & 0.991231 & 0.777224 & 5.637594e-69 &   268 & TRUE & TRUE & TRUE & acinar\\\\\n",
       "\t6 & chr6:32622377-32623439 & chr6:32623122:G:T & chr6 & 32623122 & G & T & 0.462963 & 1.913385 & 0.999952 & -66.25852 & ⋯ & 152.2670 & 0 & 0.987012 & 0.777217 & 5.650015e-69 &   214 & TRUE & TRUE & TRUE & acinar\\\\\n",
       "\\end{tabular}\n"
      ],
      "text/markdown": [
       "\n",
       "A data.frame: 6 × 31\n",
       "\n",
       "| <!--/--> | Feature &lt;chr&gt; | rsID &lt;chr&gt; | Chromosome &lt;chr&gt; | position &lt;int&gt; | Ref &lt;chr&gt; | Alt &lt;chr&gt; | Af &lt;dbl&gt; | HWEChi_square &lt;dbl&gt; | IA &lt;dbl&gt; | Log10_qval &lt;dbl&gt; | ⋯ ⋯ | Log_likelihood_H0 &lt;dbl&gt; | Convergence_status &lt;int&gt; | r2_fSNPs &lt;dbl&gt; | r2_rSNP &lt;dbl&gt; | P_VAl &lt;dbl&gt; | dist &lt;int&gt; | flag_fdr10 &lt;lgl&gt; | flag_fdr05 &lt;lgl&gt; | flag_fdr01 &lt;lgl&gt; | cell &lt;chr&gt; |\n",
       "|---|---|---|---|---|---|---|---|---|---|---|---|---|---|---|---|---|---|---|---|---|---|\n",
       "| 1 | chr6:32622377-32623439 | chr6:32620608:T:A | chr6 | 32620608 | T | A | 0.425926 | 2.231991 | 0.998678 | -67.03611 | ⋯ | 156.3965 | 0 | 0.991233 | 0.824496 | 8.976233e-71 | -2300 | TRUE | TRUE | TRUE | acinar |\n",
       "| 2 | chr6:32622377-32623439 | chr6:32620292:C:T | chr6 | 32620292 | C | T | 0.481481 | 3.033058 | 0.997176 | -67.03611 | ⋯ | 155.1102 | 0 | 0.991113 | 0.766739 | 3.415022e-70 | -2616 | TRUE | TRUE | TRUE | acinar |\n",
       "| 3 | chr6:32622377-32623439 | chr6:32620069:C:T | chr6 | 32620069 | C | T | 0.481481 | 3.033058 | 0.997249 | -67.03611 | ⋯ | 155.1102 | 0 | 0.991113 | 0.766739 | 3.415022e-70 | -2839 | TRUE | TRUE | TRUE | acinar |\n",
       "| 4 | chr6:32622377-32623439 | chr6:32620254:G:A | chr6 | 32620254 | G | A | 0.481481 | 3.033058 | 0.997319 | -67.03611 | ⋯ | 155.0975 | 0 | 0.991113 | 0.767647 | 3.459474e-70 | -2654 | TRUE | TRUE | TRUE | acinar |\n",
       "| 5 | chr6:32622377-32623439 | chr6:32623176:T:C | chr6 | 32623176 | T | C | 0.462963 | 1.913385 | 0.999952 | -66.25852 | ⋯ | 152.2692 | 0 | 0.991231 | 0.777224 | 5.637594e-69 |   268 | TRUE | TRUE | TRUE | acinar |\n",
       "| 6 | chr6:32622377-32623439 | chr6:32623122:G:T | chr6 | 32623122 | G | T | 0.462963 | 1.913385 | 0.999952 | -66.25852 | ⋯ | 152.2670 | 0 | 0.987012 | 0.777217 | 5.650015e-69 |   214 | TRUE | TRUE | TRUE | acinar |\n",
       "\n"
      ],
      "text/plain": [
       "  Feature                rsID              Chromosome position Ref Alt Af      \n",
       "1 chr6:32622377-32623439 chr6:32620608:T:A chr6       32620608 T   A   0.425926\n",
       "2 chr6:32622377-32623439 chr6:32620292:C:T chr6       32620292 C   T   0.481481\n",
       "3 chr6:32622377-32623439 chr6:32620069:C:T chr6       32620069 C   T   0.481481\n",
       "4 chr6:32622377-32623439 chr6:32620254:G:A chr6       32620254 G   A   0.481481\n",
       "5 chr6:32622377-32623439 chr6:32623176:T:C chr6       32623176 T   C   0.462963\n",
       "6 chr6:32622377-32623439 chr6:32623122:G:T chr6       32623122 G   T   0.462963\n",
       "  HWEChi_square IA       Log10_qval ⋯ Log_likelihood_H0 Convergence_status\n",
       "1 2.231991      0.998678 -67.03611  ⋯ 156.3965          0                 \n",
       "2 3.033058      0.997176 -67.03611  ⋯ 155.1102          0                 \n",
       "3 3.033058      0.997249 -67.03611  ⋯ 155.1102          0                 \n",
       "4 3.033058      0.997319 -67.03611  ⋯ 155.0975          0                 \n",
       "5 1.913385      0.999952 -66.25852  ⋯ 152.2692          0                 \n",
       "6 1.913385      0.999952 -66.25852  ⋯ 152.2670          0                 \n",
       "  r2_fSNPs r2_rSNP  P_VAl        dist  flag_fdr10 flag_fdr05 flag_fdr01 cell  \n",
       "1 0.991233 0.824496 8.976233e-71 -2300 TRUE       TRUE       TRUE       acinar\n",
       "2 0.991113 0.766739 3.415022e-70 -2616 TRUE       TRUE       TRUE       acinar\n",
       "3 0.991113 0.766739 3.415022e-70 -2839 TRUE       TRUE       TRUE       acinar\n",
       "4 0.991113 0.767647 3.459474e-70 -2654 TRUE       TRUE       TRUE       acinar\n",
       "5 0.991231 0.777224 5.637594e-69   268 TRUE       TRUE       TRUE       acinar\n",
       "6 0.987012 0.777217 5.650015e-69   214 TRUE       TRUE       TRUE       acinar"
      ]
     },
     "metadata": {},
     "output_type": "display_data"
    }
   ],
   "source": [
    "RES_all = data.frame()\n",
    "for (c in celltypes) {\n",
    "    tabname_all = paste0(c, '/',run,\"/Results_\",run,\"F_all.tsv\")\n",
    "    results_all = read.table(tabname_all, header=T, stringsAsFactors = F)\n",
    "    results_all$cell = c\n",
    "    RES_all = rbind(RES_all, results_all)\n",
    "}\n",
    "\n",
    "dim(RES_all)\n",
    "head(RES_all)"
   ]
  },
  {
   "cell_type": "markdown",
   "id": "47eb8167",
   "metadata": {},
   "source": [
    "Create Filter"
   ]
  },
  {
   "cell_type": "code",
   "execution_count": 8,
   "id": "78077152",
   "metadata": {
    "vscode": {
     "languageId": "r"
    }
   },
   "outputs": [],
   "source": [
    "RES_all$exclude = RES_all$Sequencing_mapping_error_rate>0.1 | RES_all$Ref_allele_bias<0.2 | RES_all$Ref_allele_bias>0.8    \n",
    "\n",
    "RES_all$qtl = RES_all$flag_fdr05==T & RES_all$exclude ==F\n",
    "RES_all$feature_snp = paste(RES_all$Feature, RES_all$rsID, sep=\"_\")\n",
    "\n",
    "write.table(RES_all, \"Summary_allCells_all_run1F.tsv\", sep=\"\\t\", row.names=F, quote=F)"
   ]
  },
  {
   "cell_type": "code",
   "execution_count": 6,
   "id": "633e005b",
   "metadata": {
    "vscode": {
     "languageId": "r"
    }
   },
   "outputs": [
    {
     "data": {
      "text/html": [
       "<style>\n",
       ".list-inline {list-style: none; margin:0; padding: 0}\n",
       ".list-inline>li {display: inline-block}\n",
       ".list-inline>li:not(:last-child)::after {content: \"\\00b7\"; padding: 0 .5ex}\n",
       "</style>\n",
       "<ol class=list-inline><li>34898761</li><li>34</li></ol>\n"
      ],
      "text/latex": [
       "\\begin{enumerate*}\n",
       "\\item 34898761\n",
       "\\item 34\n",
       "\\end{enumerate*}\n"
      ],
      "text/markdown": [
       "1. 34898761\n",
       "2. 34\n",
       "\n",
       "\n"
      ],
      "text/plain": [
       "[1] 34898761       34"
      ]
     },
     "metadata": {},
     "output_type": "display_data"
    },
    {
     "data": {
      "text/html": [
       "<table class=\"dataframe\">\n",
       "<caption>A data.frame: 6 × 34</caption>\n",
       "<thead>\n",
       "\t<tr><th></th><th scope=col>Feature</th><th scope=col>rsID</th><th scope=col>Chromosome</th><th scope=col>position</th><th scope=col>Ref</th><th scope=col>Alt</th><th scope=col>Af</th><th scope=col>HWEChi_square</th><th scope=col>IA</th><th scope=col>Log10_qval</th><th scope=col>⋯</th><th scope=col>r2_rSNP</th><th scope=col>P_VAl</th><th scope=col>dist</th><th scope=col>flag_fdr10</th><th scope=col>flag_fdr05</th><th scope=col>flag_fdr01</th><th scope=col>cell</th><th scope=col>exclude</th><th scope=col>qtl</th><th scope=col>feature_snp</th></tr>\n",
       "\t<tr><th></th><th scope=col>&lt;chr&gt;</th><th scope=col>&lt;chr&gt;</th><th scope=col>&lt;chr&gt;</th><th scope=col>&lt;int&gt;</th><th scope=col>&lt;chr&gt;</th><th scope=col>&lt;chr&gt;</th><th scope=col>&lt;dbl&gt;</th><th scope=col>&lt;dbl&gt;</th><th scope=col>&lt;dbl&gt;</th><th scope=col>&lt;dbl&gt;</th><th scope=col>⋯</th><th scope=col>&lt;dbl&gt;</th><th scope=col>&lt;dbl&gt;</th><th scope=col>&lt;int&gt;</th><th scope=col>&lt;lgl&gt;</th><th scope=col>&lt;lgl&gt;</th><th scope=col>&lt;lgl&gt;</th><th scope=col>&lt;chr&gt;</th><th scope=col>&lt;lgl&gt;</th><th scope=col>&lt;lgl&gt;</th><th scope=col>&lt;chr&gt;</th></tr>\n",
       "</thead>\n",
       "<tbody>\n",
       "\t<tr><th scope=row>1</th><td>chr6:32622377-32623439</td><td>chr6:32620608:T:A</td><td>chr6</td><td>32620608</td><td>T</td><td>A</td><td>0.425926</td><td>2.231991</td><td>0.998678</td><td>-67.03611</td><td>⋯</td><td>0.824496</td><td>8.976233e-71</td><td>-2300</td><td>TRUE</td><td>TRUE</td><td>TRUE</td><td>acinar</td><td>FALSE</td><td>TRUE</td><td>chr6:32622377-32623439_chr6:32620608:T:A</td></tr>\n",
       "\t<tr><th scope=row>2</th><td>chr6:32622377-32623439</td><td>chr6:32620292:C:T</td><td>chr6</td><td>32620292</td><td>C</td><td>T</td><td>0.481481</td><td>3.033058</td><td>0.997176</td><td>-67.03611</td><td>⋯</td><td>0.766739</td><td>3.415022e-70</td><td>-2616</td><td>TRUE</td><td>TRUE</td><td>TRUE</td><td>acinar</td><td>FALSE</td><td>TRUE</td><td>chr6:32622377-32623439_chr6:32620292:C:T</td></tr>\n",
       "\t<tr><th scope=row>3</th><td>chr6:32622377-32623439</td><td>chr6:32620069:C:T</td><td>chr6</td><td>32620069</td><td>C</td><td>T</td><td>0.481481</td><td>3.033058</td><td>0.997249</td><td>-67.03611</td><td>⋯</td><td>0.766739</td><td>3.415022e-70</td><td>-2839</td><td>TRUE</td><td>TRUE</td><td>TRUE</td><td>acinar</td><td>FALSE</td><td>TRUE</td><td>chr6:32622377-32623439_chr6:32620069:C:T</td></tr>\n",
       "\t<tr><th scope=row>4</th><td>chr6:32622377-32623439</td><td>chr6:32620254:G:A</td><td>chr6</td><td>32620254</td><td>G</td><td>A</td><td>0.481481</td><td>3.033058</td><td>0.997319</td><td>-67.03611</td><td>⋯</td><td>0.767647</td><td>3.459474e-70</td><td>-2654</td><td>TRUE</td><td>TRUE</td><td>TRUE</td><td>acinar</td><td>FALSE</td><td>TRUE</td><td>chr6:32622377-32623439_chr6:32620254:G:A</td></tr>\n",
       "\t<tr><th scope=row>5</th><td>chr6:32622377-32623439</td><td>chr6:32623176:T:C</td><td>chr6</td><td>32623176</td><td>T</td><td>C</td><td>0.462963</td><td>1.913385</td><td>0.999952</td><td>-66.25852</td><td>⋯</td><td>0.777224</td><td>5.637594e-69</td><td>  268</td><td>TRUE</td><td>TRUE</td><td>TRUE</td><td>acinar</td><td>FALSE</td><td>TRUE</td><td>chr6:32622377-32623439_chr6:32623176:T:C</td></tr>\n",
       "\t<tr><th scope=row>6</th><td>chr6:32622377-32623439</td><td>chr6:32623122:G:T</td><td>chr6</td><td>32623122</td><td>G</td><td>T</td><td>0.462963</td><td>1.913385</td><td>0.999952</td><td>-66.25852</td><td>⋯</td><td>0.777217</td><td>5.650015e-69</td><td>  214</td><td>TRUE</td><td>TRUE</td><td>TRUE</td><td>acinar</td><td>FALSE</td><td>TRUE</td><td>chr6:32622377-32623439_chr6:32623122:G:T</td></tr>\n",
       "</tbody>\n",
       "</table>\n"
      ],
      "text/latex": [
       "A data.frame: 6 × 34\n",
       "\\begin{tabular}{r|lllllllllllllllllllll}\n",
       "  & Feature & rsID & Chromosome & position & Ref & Alt & Af & HWEChi\\_square & IA & Log10\\_qval & ⋯ & r2\\_rSNP & P\\_VAl & dist & flag\\_fdr10 & flag\\_fdr05 & flag\\_fdr01 & cell & exclude & qtl & feature\\_snp\\\\\n",
       "  & <chr> & <chr> & <chr> & <int> & <chr> & <chr> & <dbl> & <dbl> & <dbl> & <dbl> & ⋯ & <dbl> & <dbl> & <int> & <lgl> & <lgl> & <lgl> & <chr> & <lgl> & <lgl> & <chr>\\\\\n",
       "\\hline\n",
       "\t1 & chr6:32622377-32623439 & chr6:32620608:T:A & chr6 & 32620608 & T & A & 0.425926 & 2.231991 & 0.998678 & -67.03611 & ⋯ & 0.824496 & 8.976233e-71 & -2300 & TRUE & TRUE & TRUE & acinar & FALSE & TRUE & chr6:32622377-32623439\\_chr6:32620608:T:A\\\\\n",
       "\t2 & chr6:32622377-32623439 & chr6:32620292:C:T & chr6 & 32620292 & C & T & 0.481481 & 3.033058 & 0.997176 & -67.03611 & ⋯ & 0.766739 & 3.415022e-70 & -2616 & TRUE & TRUE & TRUE & acinar & FALSE & TRUE & chr6:32622377-32623439\\_chr6:32620292:C:T\\\\\n",
       "\t3 & chr6:32622377-32623439 & chr6:32620069:C:T & chr6 & 32620069 & C & T & 0.481481 & 3.033058 & 0.997249 & -67.03611 & ⋯ & 0.766739 & 3.415022e-70 & -2839 & TRUE & TRUE & TRUE & acinar & FALSE & TRUE & chr6:32622377-32623439\\_chr6:32620069:C:T\\\\\n",
       "\t4 & chr6:32622377-32623439 & chr6:32620254:G:A & chr6 & 32620254 & G & A & 0.481481 & 3.033058 & 0.997319 & -67.03611 & ⋯ & 0.767647 & 3.459474e-70 & -2654 & TRUE & TRUE & TRUE & acinar & FALSE & TRUE & chr6:32622377-32623439\\_chr6:32620254:G:A\\\\\n",
       "\t5 & chr6:32622377-32623439 & chr6:32623176:T:C & chr6 & 32623176 & T & C & 0.462963 & 1.913385 & 0.999952 & -66.25852 & ⋯ & 0.777224 & 5.637594e-69 &   268 & TRUE & TRUE & TRUE & acinar & FALSE & TRUE & chr6:32622377-32623439\\_chr6:32623176:T:C\\\\\n",
       "\t6 & chr6:32622377-32623439 & chr6:32623122:G:T & chr6 & 32623122 & G & T & 0.462963 & 1.913385 & 0.999952 & -66.25852 & ⋯ & 0.777217 & 5.650015e-69 &   214 & TRUE & TRUE & TRUE & acinar & FALSE & TRUE & chr6:32622377-32623439\\_chr6:32623122:G:T\\\\\n",
       "\\end{tabular}\n"
      ],
      "text/markdown": [
       "\n",
       "A data.frame: 6 × 34\n",
       "\n",
       "| <!--/--> | Feature &lt;chr&gt; | rsID &lt;chr&gt; | Chromosome &lt;chr&gt; | position &lt;int&gt; | Ref &lt;chr&gt; | Alt &lt;chr&gt; | Af &lt;dbl&gt; | HWEChi_square &lt;dbl&gt; | IA &lt;dbl&gt; | Log10_qval &lt;dbl&gt; | ⋯ ⋯ | r2_rSNP &lt;dbl&gt; | P_VAl &lt;dbl&gt; | dist &lt;int&gt; | flag_fdr10 &lt;lgl&gt; | flag_fdr05 &lt;lgl&gt; | flag_fdr01 &lt;lgl&gt; | cell &lt;chr&gt; | exclude &lt;lgl&gt; | qtl &lt;lgl&gt; | feature_snp &lt;chr&gt; |\n",
       "|---|---|---|---|---|---|---|---|---|---|---|---|---|---|---|---|---|---|---|---|---|---|\n",
       "| 1 | chr6:32622377-32623439 | chr6:32620608:T:A | chr6 | 32620608 | T | A | 0.425926 | 2.231991 | 0.998678 | -67.03611 | ⋯ | 0.824496 | 8.976233e-71 | -2300 | TRUE | TRUE | TRUE | acinar | FALSE | TRUE | chr6:32622377-32623439_chr6:32620608:T:A |\n",
       "| 2 | chr6:32622377-32623439 | chr6:32620292:C:T | chr6 | 32620292 | C | T | 0.481481 | 3.033058 | 0.997176 | -67.03611 | ⋯ | 0.766739 | 3.415022e-70 | -2616 | TRUE | TRUE | TRUE | acinar | FALSE | TRUE | chr6:32622377-32623439_chr6:32620292:C:T |\n",
       "| 3 | chr6:32622377-32623439 | chr6:32620069:C:T | chr6 | 32620069 | C | T | 0.481481 | 3.033058 | 0.997249 | -67.03611 | ⋯ | 0.766739 | 3.415022e-70 | -2839 | TRUE | TRUE | TRUE | acinar | FALSE | TRUE | chr6:32622377-32623439_chr6:32620069:C:T |\n",
       "| 4 | chr6:32622377-32623439 | chr6:32620254:G:A | chr6 | 32620254 | G | A | 0.481481 | 3.033058 | 0.997319 | -67.03611 | ⋯ | 0.767647 | 3.459474e-70 | -2654 | TRUE | TRUE | TRUE | acinar | FALSE | TRUE | chr6:32622377-32623439_chr6:32620254:G:A |\n",
       "| 5 | chr6:32622377-32623439 | chr6:32623176:T:C | chr6 | 32623176 | T | C | 0.462963 | 1.913385 | 0.999952 | -66.25852 | ⋯ | 0.777224 | 5.637594e-69 |   268 | TRUE | TRUE | TRUE | acinar | FALSE | TRUE | chr6:32622377-32623439_chr6:32623176:T:C |\n",
       "| 6 | chr6:32622377-32623439 | chr6:32623122:G:T | chr6 | 32623122 | G | T | 0.462963 | 1.913385 | 0.999952 | -66.25852 | ⋯ | 0.777217 | 5.650015e-69 |   214 | TRUE | TRUE | TRUE | acinar | FALSE | TRUE | chr6:32622377-32623439_chr6:32623122:G:T |\n",
       "\n"
      ],
      "text/plain": [
       "  Feature                rsID              Chromosome position Ref Alt Af      \n",
       "1 chr6:32622377-32623439 chr6:32620608:T:A chr6       32620608 T   A   0.425926\n",
       "2 chr6:32622377-32623439 chr6:32620292:C:T chr6       32620292 C   T   0.481481\n",
       "3 chr6:32622377-32623439 chr6:32620069:C:T chr6       32620069 C   T   0.481481\n",
       "4 chr6:32622377-32623439 chr6:32620254:G:A chr6       32620254 G   A   0.481481\n",
       "5 chr6:32622377-32623439 chr6:32623176:T:C chr6       32623176 T   C   0.462963\n",
       "6 chr6:32622377-32623439 chr6:32623122:G:T chr6       32623122 G   T   0.462963\n",
       "  HWEChi_square IA       Log10_qval ⋯ r2_rSNP  P_VAl        dist  flag_fdr10\n",
       "1 2.231991      0.998678 -67.03611  ⋯ 0.824496 8.976233e-71 -2300 TRUE      \n",
       "2 3.033058      0.997176 -67.03611  ⋯ 0.766739 3.415022e-70 -2616 TRUE      \n",
       "3 3.033058      0.997249 -67.03611  ⋯ 0.766739 3.415022e-70 -2839 TRUE      \n",
       "4 3.033058      0.997319 -67.03611  ⋯ 0.767647 3.459474e-70 -2654 TRUE      \n",
       "5 1.913385      0.999952 -66.25852  ⋯ 0.777224 5.637594e-69   268 TRUE      \n",
       "6 1.913385      0.999952 -66.25852  ⋯ 0.777217 5.650015e-69   214 TRUE      \n",
       "  flag_fdr05 flag_fdr01 cell   exclude qtl \n",
       "1 TRUE       TRUE       acinar FALSE   TRUE\n",
       "2 TRUE       TRUE       acinar FALSE   TRUE\n",
       "3 TRUE       TRUE       acinar FALSE   TRUE\n",
       "4 TRUE       TRUE       acinar FALSE   TRUE\n",
       "5 TRUE       TRUE       acinar FALSE   TRUE\n",
       "6 TRUE       TRUE       acinar FALSE   TRUE\n",
       "  feature_snp                             \n",
       "1 chr6:32622377-32623439_chr6:32620608:T:A\n",
       "2 chr6:32622377-32623439_chr6:32620292:C:T\n",
       "3 chr6:32622377-32623439_chr6:32620069:C:T\n",
       "4 chr6:32622377-32623439_chr6:32620254:G:A\n",
       "5 chr6:32622377-32623439_chr6:32623176:T:C\n",
       "6 chr6:32622377-32623439_chr6:32623122:G:T"
      ]
     },
     "metadata": {},
     "output_type": "display_data"
    }
   ],
   "source": [
    "RES_all =read.table( \"Summary_allCells_all_run1F.tsv\", header=T)\n",
    "dim(RES_all)\n",
    "head(RES_all)"
   ]
  },
  {
   "cell_type": "code",
   "execution_count": 7,
   "id": "64e63917",
   "metadata": {
    "scrolled": true,
    "vscode": {
     "languageId": "r"
    }
   },
   "outputs": [
    {
     "data": {
      "text/html": [
       "<style>\n",
       ".list-inline {list-style: none; margin:0; padding: 0}\n",
       ".list-inline>li {display: inline-block}\n",
       ".list-inline>li:not(:last-child)::after {content: \"\\00b7\"; padding: 0 .5ex}\n",
       "</style>\n",
       "<ol class=list-inline><li>532846</li><li>34</li></ol>\n"
      ],
      "text/latex": [
       "\\begin{enumerate*}\n",
       "\\item 532846\n",
       "\\item 34\n",
       "\\end{enumerate*}\n"
      ],
      "text/markdown": [
       "1. 532846\n",
       "2. 34\n",
       "\n",
       "\n"
      ],
      "text/plain": [
       "[1] 532846     34"
      ]
     },
     "metadata": {},
     "output_type": "display_data"
    },
    {
     "data": {
      "text/html": [
       "<table class=\"dataframe\">\n",
       "<caption>A data.frame: 6 × 34</caption>\n",
       "<thead>\n",
       "\t<tr><th></th><th scope=col>Feature</th><th scope=col>rsID</th><th scope=col>Chromosome</th><th scope=col>position</th><th scope=col>Ref</th><th scope=col>Alt</th><th scope=col>Af</th><th scope=col>HWEChi_square</th><th scope=col>IA</th><th scope=col>Log10_qval</th><th scope=col>⋯</th><th scope=col>r2_rSNP</th><th scope=col>P_VAl</th><th scope=col>dist</th><th scope=col>flag_fdr10</th><th scope=col>flag_fdr05</th><th scope=col>flag_fdr01</th><th scope=col>cell</th><th scope=col>exclude</th><th scope=col>qtl</th><th scope=col>feature_snp</th></tr>\n",
       "\t<tr><th></th><th scope=col>&lt;chr&gt;</th><th scope=col>&lt;chr&gt;</th><th scope=col>&lt;chr&gt;</th><th scope=col>&lt;int&gt;</th><th scope=col>&lt;chr&gt;</th><th scope=col>&lt;chr&gt;</th><th scope=col>&lt;dbl&gt;</th><th scope=col>&lt;dbl&gt;</th><th scope=col>&lt;dbl&gt;</th><th scope=col>&lt;dbl&gt;</th><th scope=col>⋯</th><th scope=col>&lt;dbl&gt;</th><th scope=col>&lt;dbl&gt;</th><th scope=col>&lt;int&gt;</th><th scope=col>&lt;lgl&gt;</th><th scope=col>&lt;lgl&gt;</th><th scope=col>&lt;lgl&gt;</th><th scope=col>&lt;chr&gt;</th><th scope=col>&lt;lgl&gt;</th><th scope=col>&lt;lgl&gt;</th><th scope=col>&lt;chr&gt;</th></tr>\n",
       "</thead>\n",
       "<tbody>\n",
       "\t<tr><th scope=row>1</th><td>chr9:6931452-6932441</td><td>chr9:6932144:C:G</td><td>chr9</td><td>6932144</td><td>C</td><td>G</td><td>0.425</td><td>2.176987</td><td>0.993495</td><td>-32.57221</td><td>⋯</td><td>0.985165</td><td>1.644066e-33</td><td>  198</td><td>TRUE</td><td>TRUE</td><td>TRUE</td><td>acinar</td><td>FALSE</td><td>TRUE</td><td>chr9:6931452-6932441_chr9:6932144:C:G</td></tr>\n",
       "\t<tr><th scope=row>2</th><td>chr9:6931452-6932441</td><td>chr9:6931726:G:C</td><td>chr9</td><td>6931726</td><td>G</td><td>C</td><td>0.425</td><td>2.176987</td><td>0.993495</td><td>-32.57221</td><td>⋯</td><td>0.984820</td><td>1.650756e-33</td><td> -220</td><td>TRUE</td><td>TRUE</td><td>TRUE</td><td>acinar</td><td>FALSE</td><td>TRUE</td><td>chr9:6931452-6932441_chr9:6931726:G:C</td></tr>\n",
       "\t<tr><th scope=row>3</th><td>chr9:6931452-6932441</td><td>chr9:6925663:C:T</td><td>chr9</td><td>6925663</td><td>C</td><td>T</td><td>0.425</td><td>2.176987</td><td>0.999952</td><td>-32.57221</td><td>⋯</td><td>0.992259</td><td>1.652158e-33</td><td>-6283</td><td>TRUE</td><td>TRUE</td><td>TRUE</td><td>acinar</td><td>FALSE</td><td>TRUE</td><td>chr9:6931452-6932441_chr9:6925663:C:T</td></tr>\n",
       "\t<tr><th scope=row>4</th><td>chr9:6931452-6932441</td><td>chr9:6922614:G:A</td><td>chr9</td><td>6922614</td><td>G</td><td>A</td><td>0.425</td><td>2.176987</td><td>0.996300</td><td>-32.57221</td><td>⋯</td><td>0.983882</td><td>1.656375e-33</td><td>-9332</td><td>TRUE</td><td>TRUE</td><td>TRUE</td><td>acinar</td><td>FALSE</td><td>TRUE</td><td>chr9:6931452-6932441_chr9:6922614:G:A</td></tr>\n",
       "\t<tr><th scope=row>5</th><td>chr9:6931452-6932441</td><td>chr9:6931755:T:C</td><td>chr9</td><td>6931755</td><td>T</td><td>C</td><td>0.425</td><td>2.176987</td><td>0.993495</td><td>-32.57221</td><td>⋯</td><td>0.984930</td><td>1.715921e-33</td><td> -191</td><td>TRUE</td><td>TRUE</td><td>TRUE</td><td>acinar</td><td>FALSE</td><td>TRUE</td><td>chr9:6931452-6932441_chr9:6931755:T:C</td></tr>\n",
       "\t<tr><th scope=row>6</th><td>chr9:6931452-6932441</td><td>chr9:6931753:A:G</td><td>chr9</td><td>6931753</td><td>A</td><td>G</td><td>0.425</td><td>2.176987</td><td>0.993495</td><td>-32.57221</td><td>⋯</td><td>0.984902</td><td>1.716346e-33</td><td> -193</td><td>TRUE</td><td>TRUE</td><td>TRUE</td><td>acinar</td><td>FALSE</td><td>TRUE</td><td>chr9:6931452-6932441_chr9:6931753:A:G</td></tr>\n",
       "</tbody>\n",
       "</table>\n"
      ],
      "text/latex": [
       "A data.frame: 6 × 34\n",
       "\\begin{tabular}{r|lllllllllllllllllllll}\n",
       "  & Feature & rsID & Chromosome & position & Ref & Alt & Af & HWEChi\\_square & IA & Log10\\_qval & ⋯ & r2\\_rSNP & P\\_VAl & dist & flag\\_fdr10 & flag\\_fdr05 & flag\\_fdr01 & cell & exclude & qtl & feature\\_snp\\\\\n",
       "  & <chr> & <chr> & <chr> & <int> & <chr> & <chr> & <dbl> & <dbl> & <dbl> & <dbl> & ⋯ & <dbl> & <dbl> & <int> & <lgl> & <lgl> & <lgl> & <chr> & <lgl> & <lgl> & <chr>\\\\\n",
       "\\hline\n",
       "\t1 & chr9:6931452-6932441 & chr9:6932144:C:G & chr9 & 6932144 & C & G & 0.425 & 2.176987 & 0.993495 & -32.57221 & ⋯ & 0.985165 & 1.644066e-33 &   198 & TRUE & TRUE & TRUE & acinar & FALSE & TRUE & chr9:6931452-6932441\\_chr9:6932144:C:G\\\\\n",
       "\t2 & chr9:6931452-6932441 & chr9:6931726:G:C & chr9 & 6931726 & G & C & 0.425 & 2.176987 & 0.993495 & -32.57221 & ⋯ & 0.984820 & 1.650756e-33 &  -220 & TRUE & TRUE & TRUE & acinar & FALSE & TRUE & chr9:6931452-6932441\\_chr9:6931726:G:C\\\\\n",
       "\t3 & chr9:6931452-6932441 & chr9:6925663:C:T & chr9 & 6925663 & C & T & 0.425 & 2.176987 & 0.999952 & -32.57221 & ⋯ & 0.992259 & 1.652158e-33 & -6283 & TRUE & TRUE & TRUE & acinar & FALSE & TRUE & chr9:6931452-6932441\\_chr9:6925663:C:T\\\\\n",
       "\t4 & chr9:6931452-6932441 & chr9:6922614:G:A & chr9 & 6922614 & G & A & 0.425 & 2.176987 & 0.996300 & -32.57221 & ⋯ & 0.983882 & 1.656375e-33 & -9332 & TRUE & TRUE & TRUE & acinar & FALSE & TRUE & chr9:6931452-6932441\\_chr9:6922614:G:A\\\\\n",
       "\t5 & chr9:6931452-6932441 & chr9:6931755:T:C & chr9 & 6931755 & T & C & 0.425 & 2.176987 & 0.993495 & -32.57221 & ⋯ & 0.984930 & 1.715921e-33 &  -191 & TRUE & TRUE & TRUE & acinar & FALSE & TRUE & chr9:6931452-6932441\\_chr9:6931755:T:C\\\\\n",
       "\t6 & chr9:6931452-6932441 & chr9:6931753:A:G & chr9 & 6931753 & A & G & 0.425 & 2.176987 & 0.993495 & -32.57221 & ⋯ & 0.984902 & 1.716346e-33 &  -193 & TRUE & TRUE & TRUE & acinar & FALSE & TRUE & chr9:6931452-6932441\\_chr9:6931753:A:G\\\\\n",
       "\\end{tabular}\n"
      ],
      "text/markdown": [
       "\n",
       "A data.frame: 6 × 34\n",
       "\n",
       "| <!--/--> | Feature &lt;chr&gt; | rsID &lt;chr&gt; | Chromosome &lt;chr&gt; | position &lt;int&gt; | Ref &lt;chr&gt; | Alt &lt;chr&gt; | Af &lt;dbl&gt; | HWEChi_square &lt;dbl&gt; | IA &lt;dbl&gt; | Log10_qval &lt;dbl&gt; | ⋯ ⋯ | r2_rSNP &lt;dbl&gt; | P_VAl &lt;dbl&gt; | dist &lt;int&gt; | flag_fdr10 &lt;lgl&gt; | flag_fdr05 &lt;lgl&gt; | flag_fdr01 &lt;lgl&gt; | cell &lt;chr&gt; | exclude &lt;lgl&gt; | qtl &lt;lgl&gt; | feature_snp &lt;chr&gt; |\n",
       "|---|---|---|---|---|---|---|---|---|---|---|---|---|---|---|---|---|---|---|---|---|---|\n",
       "| 1 | chr9:6931452-6932441 | chr9:6932144:C:G | chr9 | 6932144 | C | G | 0.425 | 2.176987 | 0.993495 | -32.57221 | ⋯ | 0.985165 | 1.644066e-33 |   198 | TRUE | TRUE | TRUE | acinar | FALSE | TRUE | chr9:6931452-6932441_chr9:6932144:C:G |\n",
       "| 2 | chr9:6931452-6932441 | chr9:6931726:G:C | chr9 | 6931726 | G | C | 0.425 | 2.176987 | 0.993495 | -32.57221 | ⋯ | 0.984820 | 1.650756e-33 |  -220 | TRUE | TRUE | TRUE | acinar | FALSE | TRUE | chr9:6931452-6932441_chr9:6931726:G:C |\n",
       "| 3 | chr9:6931452-6932441 | chr9:6925663:C:T | chr9 | 6925663 | C | T | 0.425 | 2.176987 | 0.999952 | -32.57221 | ⋯ | 0.992259 | 1.652158e-33 | -6283 | TRUE | TRUE | TRUE | acinar | FALSE | TRUE | chr9:6931452-6932441_chr9:6925663:C:T |\n",
       "| 4 | chr9:6931452-6932441 | chr9:6922614:G:A | chr9 | 6922614 | G | A | 0.425 | 2.176987 | 0.996300 | -32.57221 | ⋯ | 0.983882 | 1.656375e-33 | -9332 | TRUE | TRUE | TRUE | acinar | FALSE | TRUE | chr9:6931452-6932441_chr9:6922614:G:A |\n",
       "| 5 | chr9:6931452-6932441 | chr9:6931755:T:C | chr9 | 6931755 | T | C | 0.425 | 2.176987 | 0.993495 | -32.57221 | ⋯ | 0.984930 | 1.715921e-33 |  -191 | TRUE | TRUE | TRUE | acinar | FALSE | TRUE | chr9:6931452-6932441_chr9:6931755:T:C |\n",
       "| 6 | chr9:6931452-6932441 | chr9:6931753:A:G | chr9 | 6931753 | A | G | 0.425 | 2.176987 | 0.993495 | -32.57221 | ⋯ | 0.984902 | 1.716346e-33 |  -193 | TRUE | TRUE | TRUE | acinar | FALSE | TRUE | chr9:6931452-6932441_chr9:6931753:A:G |\n",
       "\n"
      ],
      "text/plain": [
       "  Feature              rsID             Chromosome position Ref Alt Af   \n",
       "1 chr9:6931452-6932441 chr9:6932144:C:G chr9       6932144  C   G   0.425\n",
       "2 chr9:6931452-6932441 chr9:6931726:G:C chr9       6931726  G   C   0.425\n",
       "3 chr9:6931452-6932441 chr9:6925663:C:T chr9       6925663  C   T   0.425\n",
       "4 chr9:6931452-6932441 chr9:6922614:G:A chr9       6922614  G   A   0.425\n",
       "5 chr9:6931452-6932441 chr9:6931755:T:C chr9       6931755  T   C   0.425\n",
       "6 chr9:6931452-6932441 chr9:6931753:A:G chr9       6931753  A   G   0.425\n",
       "  HWEChi_square IA       Log10_qval ⋯ r2_rSNP  P_VAl        dist  flag_fdr10\n",
       "1 2.176987      0.993495 -32.57221  ⋯ 0.985165 1.644066e-33   198 TRUE      \n",
       "2 2.176987      0.993495 -32.57221  ⋯ 0.984820 1.650756e-33  -220 TRUE      \n",
       "3 2.176987      0.999952 -32.57221  ⋯ 0.992259 1.652158e-33 -6283 TRUE      \n",
       "4 2.176987      0.996300 -32.57221  ⋯ 0.983882 1.656375e-33 -9332 TRUE      \n",
       "5 2.176987      0.993495 -32.57221  ⋯ 0.984930 1.715921e-33  -191 TRUE      \n",
       "6 2.176987      0.993495 -32.57221  ⋯ 0.984902 1.716346e-33  -193 TRUE      \n",
       "  flag_fdr05 flag_fdr01 cell   exclude qtl \n",
       "1 TRUE       TRUE       acinar FALSE   TRUE\n",
       "2 TRUE       TRUE       acinar FALSE   TRUE\n",
       "3 TRUE       TRUE       acinar FALSE   TRUE\n",
       "4 TRUE       TRUE       acinar FALSE   TRUE\n",
       "5 TRUE       TRUE       acinar FALSE   TRUE\n",
       "6 TRUE       TRUE       acinar FALSE   TRUE\n",
       "  feature_snp                          \n",
       "1 chr9:6931452-6932441_chr9:6932144:C:G\n",
       "2 chr9:6931452-6932441_chr9:6931726:G:C\n",
       "3 chr9:6931452-6932441_chr9:6925663:C:T\n",
       "4 chr9:6931452-6932441_chr9:6922614:G:A\n",
       "5 chr9:6931452-6932441_chr9:6931755:T:C\n",
       "6 chr9:6931452-6932441_chr9:6931753:A:G"
      ]
     },
     "metadata": {},
     "output_type": "display_data"
    }
   ],
   "source": [
    "#RES_sig =read.table( \"Summary_allCells_sig_run7F.tsv\", header=T)\n",
    "#dim(RES_sig)\n",
    "#head(RES_sig)"
   ]
  },
  {
   "cell_type": "code",
   "execution_count": 10,
   "id": "266f63c2",
   "metadata": {
    "vscode": {
     "languageId": "r"
    }
   },
   "outputs": [],
   "source": [
    "RES = data.frame()\n",
    "for (c in celltypes) {\n",
    "    tabname = paste0(c, '/',run,\"/Results_\",run,\"F_lead.tsv\")\n",
    "    results = read.table(tabname, header=T, stringsAsFactors = F)\n",
    "    results$cell = c\n",
    "    RES = rbind(RES, results)\n",
    "}"
   ]
  },
  {
   "cell_type": "code",
   "execution_count": 11,
   "id": "31f1ce5f",
   "metadata": {
    "vscode": {
     "languageId": "r"
    }
   },
   "outputs": [
    {
     "data": {
      "text/html": [
       "<style>\n",
       ".list-inline {list-style: none; margin:0; padding: 0}\n",
       ".list-inline>li {display: inline-block}\n",
       ".list-inline>li:not(:last-child)::after {content: \"\\00b7\"; padding: 0 .5ex}\n",
       "</style>\n",
       "<ol class=list-inline><li>773267</li><li>31</li></ol>\n"
      ],
      "text/latex": [
       "\\begin{enumerate*}\n",
       "\\item 773267\n",
       "\\item 31\n",
       "\\end{enumerate*}\n"
      ],
      "text/markdown": [
       "1. 773267\n",
       "2. 31\n",
       "\n",
       "\n"
      ],
      "text/plain": [
       "[1] 773267     31"
      ]
     },
     "metadata": {},
     "output_type": "display_data"
    },
    {
     "data": {
      "text/html": [
       "<table class=\"dataframe\">\n",
       "<caption>A data.frame: 6 × 31</caption>\n",
       "<thead>\n",
       "\t<tr><th></th><th scope=col>Feature</th><th scope=col>rsID</th><th scope=col>Chromosome</th><th scope=col>position</th><th scope=col>Ref</th><th scope=col>Alt</th><th scope=col>Af</th><th scope=col>HWEChi_square</th><th scope=col>IA</th><th scope=col>Log10_qval</th><th scope=col>⋯</th><th scope=col>Log_likelihood_H0</th><th scope=col>Convergence_status</th><th scope=col>r2_fSNPs</th><th scope=col>r2_rSNP</th><th scope=col>P_VAl</th><th scope=col>dist</th><th scope=col>flag_fdr10</th><th scope=col>flag_fdr05</th><th scope=col>flag_fdr01</th><th scope=col>cell</th></tr>\n",
       "\t<tr><th></th><th scope=col>&lt;chr&gt;</th><th scope=col>&lt;chr&gt;</th><th scope=col>&lt;chr&gt;</th><th scope=col>&lt;int&gt;</th><th scope=col>&lt;chr&gt;</th><th scope=col>&lt;chr&gt;</th><th scope=col>&lt;dbl&gt;</th><th scope=col>&lt;dbl&gt;</th><th scope=col>&lt;dbl&gt;</th><th scope=col>&lt;dbl&gt;</th><th scope=col>⋯</th><th scope=col>&lt;dbl&gt;</th><th scope=col>&lt;int&gt;</th><th scope=col>&lt;dbl&gt;</th><th scope=col>&lt;dbl&gt;</th><th scope=col>&lt;dbl&gt;</th><th scope=col>&lt;int&gt;</th><th scope=col>&lt;lgl&gt;</th><th scope=col>&lt;lgl&gt;</th><th scope=col>&lt;lgl&gt;</th><th scope=col>&lt;chr&gt;</th></tr>\n",
       "</thead>\n",
       "<tbody>\n",
       "\t<tr><th scope=row>1</th><td>chr6:32622377-32623439 </td><td>chr6:32620608:T:A </td><td>chr6 </td><td>32620608</td><td>T</td><td>A</td><td>0.425926</td><td>2.231991</td><td>0.998678</td><td>-67.03611</td><td>⋯</td><td>156.39647</td><td>0</td><td>0.991233</td><td>0.824496</td><td>8.976233e-71</td><td>-2300</td><td>TRUE</td><td>TRUE</td><td>TRUE</td><td>acinar</td></tr>\n",
       "\t<tr><th scope=row>2</th><td>chr9:6931452-6932441   </td><td>chr9:6929401:T:A  </td><td>chr9 </td><td> 6929401</td><td>T</td><td>A</td><td>0.333333</td><td>0.750000</td><td>0.993936</td><td>-36.60879</td><td>⋯</td><td> 82.46148</td><td>0</td><td>0.977371</td><td>0.985795</td><td>1.925609e-38</td><td>-2545</td><td>TRUE</td><td>TRUE</td><td>TRUE</td><td>acinar</td></tr>\n",
       "\t<tr><th scope=row>3</th><td>chr4:7164816-7165698   </td><td>chr4:7160692:T:C  </td><td>chr4 </td><td> 7160692</td><td>T</td><td>C</td><td>0.277778</td><td>0.006391</td><td>0.999935</td><td>-32.46831</td><td>⋯</td><td> 72.33801</td><td>0</td><td>0.988775</td><td>0.902371</td><td>1.502522e-34</td><td>-4565</td><td>TRUE</td><td>TRUE</td><td>TRUE</td><td>acinar</td></tr>\n",
       "\t<tr><th scope=row>4</th><td>chr9:93230239-93231938 </td><td>chr9:93231475:G:A </td><td>chr9 </td><td>93231475</td><td>G</td><td>A</td><td>0.222222</td><td>0.137755</td><td>0.999392</td><td>-30.83427</td><td>⋯</td><td> 67.79054</td><td>0</td><td>0.988759</td><td>0.992117</td><td>3.105136e-32</td><td>  387</td><td>TRUE</td><td>TRUE</td><td>TRUE</td><td>acinar</td></tr>\n",
       "\t<tr><th scope=row>5</th><td>chr17:76968760-76970675</td><td>chr17:76972946:C:A</td><td>chr17</td><td>76972946</td><td>C</td><td>A</td><td>0.296296</td><td>0.337734</td><td>0.980182</td><td>-29.73370</td><td>⋯</td><td> 67.21293</td><td>0</td><td>0.985793</td><td>0.940828</td><td>4.969777e-32</td><td> 3228</td><td>TRUE</td><td>TRUE</td><td>TRUE</td><td>acinar</td></tr>\n",
       "\t<tr><th scope=row>6</th><td>chr21:13979625-13980808</td><td>chr21:13980560:G:C</td><td>chr21</td><td>13980560</td><td>G</td><td>C</td><td>0.314815</td><td>0.083599</td><td>0.930667</td><td>-27.70426</td><td>⋯</td><td> 62.96620</td><td>0</td><td>0.891880</td><td>0.870565</td><td>7.793799e-30</td><td>  344</td><td>TRUE</td><td>TRUE</td><td>TRUE</td><td>acinar</td></tr>\n",
       "</tbody>\n",
       "</table>\n"
      ],
      "text/latex": [
       "A data.frame: 6 × 31\n",
       "\\begin{tabular}{r|lllllllllllllllllllll}\n",
       "  & Feature & rsID & Chromosome & position & Ref & Alt & Af & HWEChi\\_square & IA & Log10\\_qval & ⋯ & Log\\_likelihood\\_H0 & Convergence\\_status & r2\\_fSNPs & r2\\_rSNP & P\\_VAl & dist & flag\\_fdr10 & flag\\_fdr05 & flag\\_fdr01 & cell\\\\\n",
       "  & <chr> & <chr> & <chr> & <int> & <chr> & <chr> & <dbl> & <dbl> & <dbl> & <dbl> & ⋯ & <dbl> & <int> & <dbl> & <dbl> & <dbl> & <int> & <lgl> & <lgl> & <lgl> & <chr>\\\\\n",
       "\\hline\n",
       "\t1 & chr6:32622377-32623439  & chr6:32620608:T:A  & chr6  & 32620608 & T & A & 0.425926 & 2.231991 & 0.998678 & -67.03611 & ⋯ & 156.39647 & 0 & 0.991233 & 0.824496 & 8.976233e-71 & -2300 & TRUE & TRUE & TRUE & acinar\\\\\n",
       "\t2 & chr9:6931452-6932441    & chr9:6929401:T:A   & chr9  &  6929401 & T & A & 0.333333 & 0.750000 & 0.993936 & -36.60879 & ⋯ &  82.46148 & 0 & 0.977371 & 0.985795 & 1.925609e-38 & -2545 & TRUE & TRUE & TRUE & acinar\\\\\n",
       "\t3 & chr4:7164816-7165698    & chr4:7160692:T:C   & chr4  &  7160692 & T & C & 0.277778 & 0.006391 & 0.999935 & -32.46831 & ⋯ &  72.33801 & 0 & 0.988775 & 0.902371 & 1.502522e-34 & -4565 & TRUE & TRUE & TRUE & acinar\\\\\n",
       "\t4 & chr9:93230239-93231938  & chr9:93231475:G:A  & chr9  & 93231475 & G & A & 0.222222 & 0.137755 & 0.999392 & -30.83427 & ⋯ &  67.79054 & 0 & 0.988759 & 0.992117 & 3.105136e-32 &   387 & TRUE & TRUE & TRUE & acinar\\\\\n",
       "\t5 & chr17:76968760-76970675 & chr17:76972946:C:A & chr17 & 76972946 & C & A & 0.296296 & 0.337734 & 0.980182 & -29.73370 & ⋯ &  67.21293 & 0 & 0.985793 & 0.940828 & 4.969777e-32 &  3228 & TRUE & TRUE & TRUE & acinar\\\\\n",
       "\t6 & chr21:13979625-13980808 & chr21:13980560:G:C & chr21 & 13980560 & G & C & 0.314815 & 0.083599 & 0.930667 & -27.70426 & ⋯ &  62.96620 & 0 & 0.891880 & 0.870565 & 7.793799e-30 &   344 & TRUE & TRUE & TRUE & acinar\\\\\n",
       "\\end{tabular}\n"
      ],
      "text/markdown": [
       "\n",
       "A data.frame: 6 × 31\n",
       "\n",
       "| <!--/--> | Feature &lt;chr&gt; | rsID &lt;chr&gt; | Chromosome &lt;chr&gt; | position &lt;int&gt; | Ref &lt;chr&gt; | Alt &lt;chr&gt; | Af &lt;dbl&gt; | HWEChi_square &lt;dbl&gt; | IA &lt;dbl&gt; | Log10_qval &lt;dbl&gt; | ⋯ ⋯ | Log_likelihood_H0 &lt;dbl&gt; | Convergence_status &lt;int&gt; | r2_fSNPs &lt;dbl&gt; | r2_rSNP &lt;dbl&gt; | P_VAl &lt;dbl&gt; | dist &lt;int&gt; | flag_fdr10 &lt;lgl&gt; | flag_fdr05 &lt;lgl&gt; | flag_fdr01 &lt;lgl&gt; | cell &lt;chr&gt; |\n",
       "|---|---|---|---|---|---|---|---|---|---|---|---|---|---|---|---|---|---|---|---|---|---|\n",
       "| 1 | chr6:32622377-32623439  | chr6:32620608:T:A  | chr6  | 32620608 | T | A | 0.425926 | 2.231991 | 0.998678 | -67.03611 | ⋯ | 156.39647 | 0 | 0.991233 | 0.824496 | 8.976233e-71 | -2300 | TRUE | TRUE | TRUE | acinar |\n",
       "| 2 | chr9:6931452-6932441    | chr9:6929401:T:A   | chr9  |  6929401 | T | A | 0.333333 | 0.750000 | 0.993936 | -36.60879 | ⋯ |  82.46148 | 0 | 0.977371 | 0.985795 | 1.925609e-38 | -2545 | TRUE | TRUE | TRUE | acinar |\n",
       "| 3 | chr4:7164816-7165698    | chr4:7160692:T:C   | chr4  |  7160692 | T | C | 0.277778 | 0.006391 | 0.999935 | -32.46831 | ⋯ |  72.33801 | 0 | 0.988775 | 0.902371 | 1.502522e-34 | -4565 | TRUE | TRUE | TRUE | acinar |\n",
       "| 4 | chr9:93230239-93231938  | chr9:93231475:G:A  | chr9  | 93231475 | G | A | 0.222222 | 0.137755 | 0.999392 | -30.83427 | ⋯ |  67.79054 | 0 | 0.988759 | 0.992117 | 3.105136e-32 |   387 | TRUE | TRUE | TRUE | acinar |\n",
       "| 5 | chr17:76968760-76970675 | chr17:76972946:C:A | chr17 | 76972946 | C | A | 0.296296 | 0.337734 | 0.980182 | -29.73370 | ⋯ |  67.21293 | 0 | 0.985793 | 0.940828 | 4.969777e-32 |  3228 | TRUE | TRUE | TRUE | acinar |\n",
       "| 6 | chr21:13979625-13980808 | chr21:13980560:G:C | chr21 | 13980560 | G | C | 0.314815 | 0.083599 | 0.930667 | -27.70426 | ⋯ |  62.96620 | 0 | 0.891880 | 0.870565 | 7.793799e-30 |   344 | TRUE | TRUE | TRUE | acinar |\n",
       "\n"
      ],
      "text/plain": [
       "  Feature                 rsID               Chromosome position Ref Alt\n",
       "1 chr6:32622377-32623439  chr6:32620608:T:A  chr6       32620608 T   A  \n",
       "2 chr9:6931452-6932441    chr9:6929401:T:A   chr9        6929401 T   A  \n",
       "3 chr4:7164816-7165698    chr4:7160692:T:C   chr4        7160692 T   C  \n",
       "4 chr9:93230239-93231938  chr9:93231475:G:A  chr9       93231475 G   A  \n",
       "5 chr17:76968760-76970675 chr17:76972946:C:A chr17      76972946 C   A  \n",
       "6 chr21:13979625-13980808 chr21:13980560:G:C chr21      13980560 G   C  \n",
       "  Af       HWEChi_square IA       Log10_qval ⋯ Log_likelihood_H0\n",
       "1 0.425926 2.231991      0.998678 -67.03611  ⋯ 156.39647        \n",
       "2 0.333333 0.750000      0.993936 -36.60879  ⋯  82.46148        \n",
       "3 0.277778 0.006391      0.999935 -32.46831  ⋯  72.33801        \n",
       "4 0.222222 0.137755      0.999392 -30.83427  ⋯  67.79054        \n",
       "5 0.296296 0.337734      0.980182 -29.73370  ⋯  67.21293        \n",
       "6 0.314815 0.083599      0.930667 -27.70426  ⋯  62.96620        \n",
       "  Convergence_status r2_fSNPs r2_rSNP  P_VAl        dist  flag_fdr10 flag_fdr05\n",
       "1 0                  0.991233 0.824496 8.976233e-71 -2300 TRUE       TRUE      \n",
       "2 0                  0.977371 0.985795 1.925609e-38 -2545 TRUE       TRUE      \n",
       "3 0                  0.988775 0.902371 1.502522e-34 -4565 TRUE       TRUE      \n",
       "4 0                  0.988759 0.992117 3.105136e-32   387 TRUE       TRUE      \n",
       "5 0                  0.985793 0.940828 4.969777e-32  3228 TRUE       TRUE      \n",
       "6 0                  0.891880 0.870565 7.793799e-30   344 TRUE       TRUE      \n",
       "  flag_fdr01 cell  \n",
       "1 TRUE       acinar\n",
       "2 TRUE       acinar\n",
       "3 TRUE       acinar\n",
       "4 TRUE       acinar\n",
       "5 TRUE       acinar\n",
       "6 TRUE       acinar"
      ]
     },
     "metadata": {},
     "output_type": "display_data"
    }
   ],
   "source": [
    "dim(RES)\n",
    "head(RES)"
   ]
  },
  {
   "cell_type": "code",
   "execution_count": 12,
   "id": "d3550476",
   "metadata": {
    "vscode": {
     "languageId": "r"
    }
   },
   "outputs": [],
   "source": [
    "RES$exclude = RES$Sequencing_mapping_error_rate>0.1 | RES$Ref_allele_bias<0.2 | RES$Ref_allele_bias>0.8    \n",
    "\n",
    "RES$qtl = RES$flag_fdr05==T & RES$exclude ==F\n",
    "RES$feature_snp = paste(RES$Feature, RES$rsID, sep=\"_\")\n",
    "\n",
    "write.table(RES, \"Summary_allCells_leads_run1F.tsv\", sep=\"\\t\", row.names=F, quote=F)"
   ]
  },
  {
   "cell_type": "code",
   "execution_count": 4,
   "id": "121db9c2",
   "metadata": {
    "vscode": {
     "languageId": "r"
    }
   },
   "outputs": [
    {
     "data": {
      "text/html": [
       "<style>\n",
       ".list-inline {list-style: none; margin:0; padding: 0}\n",
       ".list-inline>li {display: inline-block}\n",
       ".list-inline>li:not(:last-child)::after {content: \"\\00b7\"; padding: 0 .5ex}\n",
       "</style>\n",
       "<ol class=list-inline><li>773267</li><li>34</li></ol>\n"
      ],
      "text/latex": [
       "\\begin{enumerate*}\n",
       "\\item 773267\n",
       "\\item 34\n",
       "\\end{enumerate*}\n"
      ],
      "text/markdown": [
       "1. 773267\n",
       "2. 34\n",
       "\n",
       "\n"
      ],
      "text/plain": [
       "[1] 773267     34"
      ]
     },
     "metadata": {},
     "output_type": "display_data"
    },
    {
     "data": {
      "text/html": [
       "<table class=\"dataframe\">\n",
       "<caption>A data.frame: 6 × 34</caption>\n",
       "<thead>\n",
       "\t<tr><th></th><th scope=col>Feature</th><th scope=col>rsID</th><th scope=col>Chromosome</th><th scope=col>position</th><th scope=col>Ref</th><th scope=col>Alt</th><th scope=col>Af</th><th scope=col>HWEChi_square</th><th scope=col>IA</th><th scope=col>Log10_qval</th><th scope=col>⋯</th><th scope=col>r2_rSNP</th><th scope=col>P_VAl</th><th scope=col>dist</th><th scope=col>flag_fdr10</th><th scope=col>flag_fdr05</th><th scope=col>flag_fdr01</th><th scope=col>cell</th><th scope=col>exclude</th><th scope=col>qtl</th><th scope=col>feature_snp</th></tr>\n",
       "\t<tr><th></th><th scope=col>&lt;chr&gt;</th><th scope=col>&lt;chr&gt;</th><th scope=col>&lt;chr&gt;</th><th scope=col>&lt;int&gt;</th><th scope=col>&lt;chr&gt;</th><th scope=col>&lt;chr&gt;</th><th scope=col>&lt;dbl&gt;</th><th scope=col>&lt;dbl&gt;</th><th scope=col>&lt;dbl&gt;</th><th scope=col>&lt;dbl&gt;</th><th scope=col>⋯</th><th scope=col>&lt;dbl&gt;</th><th scope=col>&lt;dbl&gt;</th><th scope=col>&lt;int&gt;</th><th scope=col>&lt;lgl&gt;</th><th scope=col>&lt;lgl&gt;</th><th scope=col>&lt;lgl&gt;</th><th scope=col>&lt;chr&gt;</th><th scope=col>&lt;lgl&gt;</th><th scope=col>&lt;lgl&gt;</th><th scope=col>&lt;chr&gt;</th></tr>\n",
       "</thead>\n",
       "<tbody>\n",
       "\t<tr><th scope=row>1</th><td>chr6:32622377-32623439 </td><td>chr6:32620608:T:A </td><td>chr6 </td><td>32620608</td><td>T</td><td>A</td><td>0.425926</td><td>2.231991</td><td>0.998678</td><td>-67.03611</td><td>⋯</td><td>0.824496</td><td>8.976233e-71</td><td>-2300</td><td>TRUE</td><td>TRUE</td><td>TRUE</td><td>acinar</td><td>FALSE</td><td>TRUE</td><td>chr6:32622377-32623439_chr6:32620608:T:A  </td></tr>\n",
       "\t<tr><th scope=row>2</th><td>chr9:6931452-6932441   </td><td>chr9:6929401:T:A  </td><td>chr9 </td><td> 6929401</td><td>T</td><td>A</td><td>0.333333</td><td>0.750000</td><td>0.993936</td><td>-36.60879</td><td>⋯</td><td>0.985795</td><td>1.925609e-38</td><td>-2545</td><td>TRUE</td><td>TRUE</td><td>TRUE</td><td>acinar</td><td>FALSE</td><td>TRUE</td><td>chr9:6931452-6932441_chr9:6929401:T:A     </td></tr>\n",
       "\t<tr><th scope=row>3</th><td>chr4:7164816-7165698   </td><td>chr4:7160692:T:C  </td><td>chr4 </td><td> 7160692</td><td>T</td><td>C</td><td>0.277778</td><td>0.006391</td><td>0.999935</td><td>-32.46831</td><td>⋯</td><td>0.902371</td><td>1.502522e-34</td><td>-4565</td><td>TRUE</td><td>TRUE</td><td>TRUE</td><td>acinar</td><td>FALSE</td><td>TRUE</td><td>chr4:7164816-7165698_chr4:7160692:T:C     </td></tr>\n",
       "\t<tr><th scope=row>4</th><td>chr9:93230239-93231938 </td><td>chr9:93231475:G:A </td><td>chr9 </td><td>93231475</td><td>G</td><td>A</td><td>0.222222</td><td>0.137755</td><td>0.999392</td><td>-30.83427</td><td>⋯</td><td>0.992117</td><td>3.105136e-32</td><td>  387</td><td>TRUE</td><td>TRUE</td><td>TRUE</td><td>acinar</td><td>FALSE</td><td>TRUE</td><td>chr9:93230239-93231938_chr9:93231475:G:A  </td></tr>\n",
       "\t<tr><th scope=row>5</th><td>chr17:76968760-76970675</td><td>chr17:76972946:C:A</td><td>chr17</td><td>76972946</td><td>C</td><td>A</td><td>0.296296</td><td>0.337734</td><td>0.980182</td><td>-29.73370</td><td>⋯</td><td>0.940828</td><td>4.969777e-32</td><td> 3228</td><td>TRUE</td><td>TRUE</td><td>TRUE</td><td>acinar</td><td>FALSE</td><td>TRUE</td><td>chr17:76968760-76970675_chr17:76972946:C:A</td></tr>\n",
       "\t<tr><th scope=row>6</th><td>chr21:13979625-13980808</td><td>chr21:13980560:G:C</td><td>chr21</td><td>13980560</td><td>G</td><td>C</td><td>0.314815</td><td>0.083599</td><td>0.930667</td><td>-27.70426</td><td>⋯</td><td>0.870565</td><td>7.793799e-30</td><td>  344</td><td>TRUE</td><td>TRUE</td><td>TRUE</td><td>acinar</td><td>FALSE</td><td>TRUE</td><td>chr21:13979625-13980808_chr21:13980560:G:C</td></tr>\n",
       "</tbody>\n",
       "</table>\n"
      ],
      "text/latex": [
       "A data.frame: 6 × 34\n",
       "\\begin{tabular}{r|lllllllllllllllllllll}\n",
       "  & Feature & rsID & Chromosome & position & Ref & Alt & Af & HWEChi\\_square & IA & Log10\\_qval & ⋯ & r2\\_rSNP & P\\_VAl & dist & flag\\_fdr10 & flag\\_fdr05 & flag\\_fdr01 & cell & exclude & qtl & feature\\_snp\\\\\n",
       "  & <chr> & <chr> & <chr> & <int> & <chr> & <chr> & <dbl> & <dbl> & <dbl> & <dbl> & ⋯ & <dbl> & <dbl> & <int> & <lgl> & <lgl> & <lgl> & <chr> & <lgl> & <lgl> & <chr>\\\\\n",
       "\\hline\n",
       "\t1 & chr6:32622377-32623439  & chr6:32620608:T:A  & chr6  & 32620608 & T & A & 0.425926 & 2.231991 & 0.998678 & -67.03611 & ⋯ & 0.824496 & 8.976233e-71 & -2300 & TRUE & TRUE & TRUE & acinar & FALSE & TRUE & chr6:32622377-32623439\\_chr6:32620608:T:A  \\\\\n",
       "\t2 & chr9:6931452-6932441    & chr9:6929401:T:A   & chr9  &  6929401 & T & A & 0.333333 & 0.750000 & 0.993936 & -36.60879 & ⋯ & 0.985795 & 1.925609e-38 & -2545 & TRUE & TRUE & TRUE & acinar & FALSE & TRUE & chr9:6931452-6932441\\_chr9:6929401:T:A     \\\\\n",
       "\t3 & chr4:7164816-7165698    & chr4:7160692:T:C   & chr4  &  7160692 & T & C & 0.277778 & 0.006391 & 0.999935 & -32.46831 & ⋯ & 0.902371 & 1.502522e-34 & -4565 & TRUE & TRUE & TRUE & acinar & FALSE & TRUE & chr4:7164816-7165698\\_chr4:7160692:T:C     \\\\\n",
       "\t4 & chr9:93230239-93231938  & chr9:93231475:G:A  & chr9  & 93231475 & G & A & 0.222222 & 0.137755 & 0.999392 & -30.83427 & ⋯ & 0.992117 & 3.105136e-32 &   387 & TRUE & TRUE & TRUE & acinar & FALSE & TRUE & chr9:93230239-93231938\\_chr9:93231475:G:A  \\\\\n",
       "\t5 & chr17:76968760-76970675 & chr17:76972946:C:A & chr17 & 76972946 & C & A & 0.296296 & 0.337734 & 0.980182 & -29.73370 & ⋯ & 0.940828 & 4.969777e-32 &  3228 & TRUE & TRUE & TRUE & acinar & FALSE & TRUE & chr17:76968760-76970675\\_chr17:76972946:C:A\\\\\n",
       "\t6 & chr21:13979625-13980808 & chr21:13980560:G:C & chr21 & 13980560 & G & C & 0.314815 & 0.083599 & 0.930667 & -27.70426 & ⋯ & 0.870565 & 7.793799e-30 &   344 & TRUE & TRUE & TRUE & acinar & FALSE & TRUE & chr21:13979625-13980808\\_chr21:13980560:G:C\\\\\n",
       "\\end{tabular}\n"
      ],
      "text/markdown": [
       "\n",
       "A data.frame: 6 × 34\n",
       "\n",
       "| <!--/--> | Feature &lt;chr&gt; | rsID &lt;chr&gt; | Chromosome &lt;chr&gt; | position &lt;int&gt; | Ref &lt;chr&gt; | Alt &lt;chr&gt; | Af &lt;dbl&gt; | HWEChi_square &lt;dbl&gt; | IA &lt;dbl&gt; | Log10_qval &lt;dbl&gt; | ⋯ ⋯ | r2_rSNP &lt;dbl&gt; | P_VAl &lt;dbl&gt; | dist &lt;int&gt; | flag_fdr10 &lt;lgl&gt; | flag_fdr05 &lt;lgl&gt; | flag_fdr01 &lt;lgl&gt; | cell &lt;chr&gt; | exclude &lt;lgl&gt; | qtl &lt;lgl&gt; | feature_snp &lt;chr&gt; |\n",
       "|---|---|---|---|---|---|---|---|---|---|---|---|---|---|---|---|---|---|---|---|---|---|\n",
       "| 1 | chr6:32622377-32623439  | chr6:32620608:T:A  | chr6  | 32620608 | T | A | 0.425926 | 2.231991 | 0.998678 | -67.03611 | ⋯ | 0.824496 | 8.976233e-71 | -2300 | TRUE | TRUE | TRUE | acinar | FALSE | TRUE | chr6:32622377-32623439_chr6:32620608:T:A   |\n",
       "| 2 | chr9:6931452-6932441    | chr9:6929401:T:A   | chr9  |  6929401 | T | A | 0.333333 | 0.750000 | 0.993936 | -36.60879 | ⋯ | 0.985795 | 1.925609e-38 | -2545 | TRUE | TRUE | TRUE | acinar | FALSE | TRUE | chr9:6931452-6932441_chr9:6929401:T:A      |\n",
       "| 3 | chr4:7164816-7165698    | chr4:7160692:T:C   | chr4  |  7160692 | T | C | 0.277778 | 0.006391 | 0.999935 | -32.46831 | ⋯ | 0.902371 | 1.502522e-34 | -4565 | TRUE | TRUE | TRUE | acinar | FALSE | TRUE | chr4:7164816-7165698_chr4:7160692:T:C      |\n",
       "| 4 | chr9:93230239-93231938  | chr9:93231475:G:A  | chr9  | 93231475 | G | A | 0.222222 | 0.137755 | 0.999392 | -30.83427 | ⋯ | 0.992117 | 3.105136e-32 |   387 | TRUE | TRUE | TRUE | acinar | FALSE | TRUE | chr9:93230239-93231938_chr9:93231475:G:A   |\n",
       "| 5 | chr17:76968760-76970675 | chr17:76972946:C:A | chr17 | 76972946 | C | A | 0.296296 | 0.337734 | 0.980182 | -29.73370 | ⋯ | 0.940828 | 4.969777e-32 |  3228 | TRUE | TRUE | TRUE | acinar | FALSE | TRUE | chr17:76968760-76970675_chr17:76972946:C:A |\n",
       "| 6 | chr21:13979625-13980808 | chr21:13980560:G:C | chr21 | 13980560 | G | C | 0.314815 | 0.083599 | 0.930667 | -27.70426 | ⋯ | 0.870565 | 7.793799e-30 |   344 | TRUE | TRUE | TRUE | acinar | FALSE | TRUE | chr21:13979625-13980808_chr21:13980560:G:C |\n",
       "\n"
      ],
      "text/plain": [
       "  Feature                 rsID               Chromosome position Ref Alt\n",
       "1 chr6:32622377-32623439  chr6:32620608:T:A  chr6       32620608 T   A  \n",
       "2 chr9:6931452-6932441    chr9:6929401:T:A   chr9        6929401 T   A  \n",
       "3 chr4:7164816-7165698    chr4:7160692:T:C   chr4        7160692 T   C  \n",
       "4 chr9:93230239-93231938  chr9:93231475:G:A  chr9       93231475 G   A  \n",
       "5 chr17:76968760-76970675 chr17:76972946:C:A chr17      76972946 C   A  \n",
       "6 chr21:13979625-13980808 chr21:13980560:G:C chr21      13980560 G   C  \n",
       "  Af       HWEChi_square IA       Log10_qval ⋯ r2_rSNP  P_VAl        dist \n",
       "1 0.425926 2.231991      0.998678 -67.03611  ⋯ 0.824496 8.976233e-71 -2300\n",
       "2 0.333333 0.750000      0.993936 -36.60879  ⋯ 0.985795 1.925609e-38 -2545\n",
       "3 0.277778 0.006391      0.999935 -32.46831  ⋯ 0.902371 1.502522e-34 -4565\n",
       "4 0.222222 0.137755      0.999392 -30.83427  ⋯ 0.992117 3.105136e-32   387\n",
       "5 0.296296 0.337734      0.980182 -29.73370  ⋯ 0.940828 4.969777e-32  3228\n",
       "6 0.314815 0.083599      0.930667 -27.70426  ⋯ 0.870565 7.793799e-30   344\n",
       "  flag_fdr10 flag_fdr05 flag_fdr01 cell   exclude qtl \n",
       "1 TRUE       TRUE       TRUE       acinar FALSE   TRUE\n",
       "2 TRUE       TRUE       TRUE       acinar FALSE   TRUE\n",
       "3 TRUE       TRUE       TRUE       acinar FALSE   TRUE\n",
       "4 TRUE       TRUE       TRUE       acinar FALSE   TRUE\n",
       "5 TRUE       TRUE       TRUE       acinar FALSE   TRUE\n",
       "6 TRUE       TRUE       TRUE       acinar FALSE   TRUE\n",
       "  feature_snp                               \n",
       "1 chr6:32622377-32623439_chr6:32620608:T:A  \n",
       "2 chr9:6931452-6932441_chr9:6929401:T:A     \n",
       "3 chr4:7164816-7165698_chr4:7160692:T:C     \n",
       "4 chr9:93230239-93231938_chr9:93231475:G:A  \n",
       "5 chr17:76968760-76970675_chr17:76972946:C:A\n",
       "6 chr21:13979625-13980808_chr21:13980560:G:C"
      ]
     },
     "metadata": {},
     "output_type": "display_data"
    }
   ],
   "source": [
    "RES =read.table( \"Summary_allCells_leads_run1F.tsv\", header=T)\n",
    "dim(RES)\n",
    "head(RES)"
   ]
  },
  {
   "cell_type": "code",
   "execution_count": 7,
   "id": "38e65240",
   "metadata": {
    "vscode": {
     "languageId": "r"
    }
   },
   "outputs": [],
   "source": [
    "res = subset(RES, cell!=\"bulk\")\n",
    "res_all = subset(RES_all, cell!=\"bulk\")"
   ]
  },
  {
   "cell_type": "code",
   "execution_count": 8,
   "id": "1a0ddcab",
   "metadata": {
    "vscode": {
     "languageId": "r"
    }
   },
   "outputs": [
    {
     "data": {
      "text/html": [
       "378948"
      ],
      "text/latex": [
       "378948"
      ],
      "text/markdown": [
       "378948"
      ],
      "text/plain": [
       "[1] 378948"
      ]
     },
     "metadata": {},
     "output_type": "display_data"
    },
    {
     "data": {
      "text/html": [
       "516632"
      ],
      "text/latex": [
       "516632"
      ],
      "text/markdown": [
       "516632"
      ],
      "text/plain": [
       "[1] 516632"
      ]
     },
     "metadata": {},
     "output_type": "display_data"
    }
   ],
   "source": [
    "sum(!duplicated(res$rsID))\n",
    "sum(!duplicated(RES$rsID))"
   ]
  },
  {
   "cell_type": "code",
   "execution_count": 15,
   "id": "de406915",
   "metadata": {
    "vscode": {
     "languageId": "r"
    }
   },
   "outputs": [
    {
     "data": {
      "text/html": [
       "378948"
      ],
      "text/latex": [
       "378948"
      ],
      "text/markdown": [
       "378948"
      ],
      "text/plain": [
       "[1] 378948"
      ]
     },
     "metadata": {},
     "output_type": "display_data"
    },
    {
     "data": {
      "text/html": [
       "516632"
      ],
      "text/latex": [
       "516632"
      ],
      "text/markdown": [
       "516632"
      ],
      "text/plain": [
       "[1] 516632"
      ]
     },
     "metadata": {},
     "output_type": "display_data"
    }
   ],
   "source": [
    "sum(!duplicated(res$rsID))\n",
    "sum(!duplicated(RES$rsID))"
   ]
  },
  {
   "cell_type": "code",
   "execution_count": 16,
   "id": "08cbb845",
   "metadata": {
    "vscode": {
     "languageId": "r"
    }
   },
   "outputs": [
    {
     "data": {
      "text/html": [
       "12975"
      ],
      "text/latex": [
       "12975"
      ],
      "text/markdown": [
       "12975"
      ],
      "text/plain": [
       "[1] 12975"
      ]
     },
     "metadata": {},
     "output_type": "display_data"
    },
    {
     "data": {
      "text/html": [
       "9545"
      ],
      "text/latex": [
       "9545"
      ],
      "text/markdown": [
       "9545"
      ],
      "text/plain": [
       "[1] 9545"
      ]
     },
     "metadata": {},
     "output_type": "display_data"
    },
    {
     "data": {
      "text/html": [
       "19561"
      ],
      "text/latex": [
       "19561"
      ],
      "text/markdown": [
       "19561"
      ],
      "text/plain": [
       "[1] 19561"
      ]
     },
     "metadata": {},
     "output_type": "display_data"
    },
    {
     "data": {
      "text/html": [
       "14514"
      ],
      "text/latex": [
       "14514"
      ],
      "text/markdown": [
       "14514"
      ],
      "text/plain": [
       "[1] 14514"
      ]
     },
     "metadata": {},
     "output_type": "display_data"
    }
   ],
   "source": [
    "sum(!duplicated(res$Feature[res$flag_fdr10 & res$exclude==FALSE]))\n",
    "sum(!duplicated(res$Feature[res$flag_fdr05 & res$exclude==FALSE]))\n",
    "\n",
    "sum(!duplicated(RES$Feature[RES$flag_fdr10 & RES$exclude==FALSE]))\n",
    "sum(!duplicated(RES$Feature[RES$flag_fdr05 & RES$exclude==FALSE]))"
   ]
  },
  {
   "cell_type": "markdown",
   "id": "616f71f6",
   "metadata": {},
   "source": [
    "Plots: cell # vs # QTLs"
   ]
  },
  {
   "cell_type": "code",
   "execution_count": 9,
   "id": "a89a9afa",
   "metadata": {
    "vscode": {
     "languageId": "r"
    }
   },
   "outputs": [
    {
     "data": {
      "text/html": [
       "<table class=\"dataframe\">\n",
       "<caption>A data.frame: 6 × 3</caption>\n",
       "<thead>\n",
       "\t<tr><th></th><th scope=col>celltype</th><th scope=col>sample</th><th scope=col>barcode</th></tr>\n",
       "\t<tr><th></th><th scope=col>&lt;chr&gt;</th><th scope=col>&lt;chr&gt;</th><th scope=col>&lt;chr&gt;</th></tr>\n",
       "</thead>\n",
       "<tbody>\n",
       "\t<tr><th scope=row>1</th><td>beta</td><td>R207</td><td>CB:Z:AAACAGCCAAACGGGC-1</td></tr>\n",
       "\t<tr><th scope=row>2</th><td>beta</td><td>R207</td><td>CB:Z:AAACAGCCATAATCCG-1</td></tr>\n",
       "\t<tr><th scope=row>3</th><td>beta</td><td>R207</td><td>CB:Z:AAACATGCACAATGTT-1</td></tr>\n",
       "\t<tr><th scope=row>4</th><td>beta</td><td>R207</td><td>CB:Z:AAACATGCAGCACCAT-1</td></tr>\n",
       "\t<tr><th scope=row>5</th><td>beta</td><td>R207</td><td>CB:Z:AAACCAACAATTGCGC-1</td></tr>\n",
       "\t<tr><th scope=row>6</th><td>beta</td><td>R207</td><td>CB:Z:AAACCAACAGGGAGGA-1</td></tr>\n",
       "</tbody>\n",
       "</table>\n"
      ],
      "text/latex": [
       "A data.frame: 6 × 3\n",
       "\\begin{tabular}{r|lll}\n",
       "  & celltype & sample & barcode\\\\\n",
       "  & <chr> & <chr> & <chr>\\\\\n",
       "\\hline\n",
       "\t1 & beta & R207 & CB:Z:AAACAGCCAAACGGGC-1\\\\\n",
       "\t2 & beta & R207 & CB:Z:AAACAGCCATAATCCG-1\\\\\n",
       "\t3 & beta & R207 & CB:Z:AAACATGCACAATGTT-1\\\\\n",
       "\t4 & beta & R207 & CB:Z:AAACATGCAGCACCAT-1\\\\\n",
       "\t5 & beta & R207 & CB:Z:AAACCAACAATTGCGC-1\\\\\n",
       "\t6 & beta & R207 & CB:Z:AAACCAACAGGGAGGA-1\\\\\n",
       "\\end{tabular}\n"
      ],
      "text/markdown": [
       "\n",
       "A data.frame: 6 × 3\n",
       "\n",
       "| <!--/--> | celltype &lt;chr&gt; | sample &lt;chr&gt; | barcode &lt;chr&gt; |\n",
       "|---|---|---|---|\n",
       "| 1 | beta | R207 | CB:Z:AAACAGCCAAACGGGC-1 |\n",
       "| 2 | beta | R207 | CB:Z:AAACAGCCATAATCCG-1 |\n",
       "| 3 | beta | R207 | CB:Z:AAACATGCACAATGTT-1 |\n",
       "| 4 | beta | R207 | CB:Z:AAACATGCAGCACCAT-1 |\n",
       "| 5 | beta | R207 | CB:Z:AAACCAACAATTGCGC-1 |\n",
       "| 6 | beta | R207 | CB:Z:AAACCAACAGGGAGGA-1 |\n",
       "\n"
      ],
      "text/plain": [
       "  celltype sample barcode                \n",
       "1 beta     R207   CB:Z:AAACAGCCAAACGGGC-1\n",
       "2 beta     R207   CB:Z:AAACAGCCATAATCCG-1\n",
       "3 beta     R207   CB:Z:AAACATGCACAATGTT-1\n",
       "4 beta     R207   CB:Z:AAACATGCAGCACCAT-1\n",
       "5 beta     R207   CB:Z:AAACCAACAATTGCGC-1\n",
       "6 beta     R207   CB:Z:AAACCAACAGGGAGGA-1"
      ]
     },
     "metadata": {},
     "output_type": "display_data"
    }
   ],
   "source": [
    "dat <- read.table(\"/path/to/caQTL/stuff/barcode_celltypes.txt\", header=T)\n",
    "dat <- dplyr::select(dat, -V1)\n",
    "head(dat)"
   ]
  },
  {
   "cell_type": "code",
   "execution_count": 10,
   "id": "446ac96a",
   "metadata": {
    "vscode": {
     "languageId": "r"
    }
   },
   "outputs": [
    {
     "data": {
      "text/html": [
       "<style>\n",
       ".dl-inline {width: auto; margin:0; padding: 0}\n",
       ".dl-inline>dt, .dl-inline>dd {float: none; width: auto; display: inline-block}\n",
       ".dl-inline>dt::after {content: \":\\0020\"; padding-right: .5ex}\n",
       ".dl-inline>dt:not(:first-of-type) {padding-left: .5ex}\n",
       "</style><dl class=dl-inline><dt>acinar</dt><dd>'#09850B'</dd><dt>alpha</dt><dd>'#F51646'</dd><dt>beta</dt><dd>'#3F98E0'</dd><dt>delta</dt><dd>'#E39E14'</dd><dt>ductal</dt><dd>'#F5DE6C'</dd><dt>endothelial</dt><dd>'#752BBA'</dd><dt>gamma</dt><dd>'#A1D99B'</dd><dt>immune</dt><dd>'#F598C9'</dd><dt>schwann</dt><dd>'#A84E03'</dd><dt>stellate</dt><dd>'#FDBB84'</dd><dt>bulk</dt><dd>'gray'</dd></dl>\n"
      ],
      "text/latex": [
       "\\begin{description*}\n",
       "\\item[acinar] '\\#09850B'\n",
       "\\item[alpha] '\\#F51646'\n",
       "\\item[beta] '\\#3F98E0'\n",
       "\\item[delta] '\\#E39E14'\n",
       "\\item[ductal] '\\#F5DE6C'\n",
       "\\item[endothelial] '\\#752BBA'\n",
       "\\item[gamma] '\\#A1D99B'\n",
       "\\item[immune] '\\#F598C9'\n",
       "\\item[schwann] '\\#A84E03'\n",
       "\\item[stellate] '\\#FDBB84'\n",
       "\\item[bulk] 'gray'\n",
       "\\end{description*}\n"
      ],
      "text/markdown": [
       "acinar\n",
       ":   '#09850B'alpha\n",
       ":   '#F51646'beta\n",
       ":   '#3F98E0'delta\n",
       ":   '#E39E14'ductal\n",
       ":   '#F5DE6C'endothelial\n",
       ":   '#752BBA'gamma\n",
       ":   '#A1D99B'immune\n",
       ":   '#F598C9'schwann\n",
       ":   '#A84E03'stellate\n",
       ":   '#FDBB84'bulk\n",
       ":   'gray'\n",
       "\n"
      ],
      "text/plain": [
       "     acinar       alpha        beta       delta      ductal endothelial \n",
       "  \"#09850B\"   \"#F51646\"   \"#3F98E0\"   \"#E39E14\"   \"#F5DE6C\"   \"#752BBA\" \n",
       "      gamma      immune     schwann    stellate        bulk \n",
       "  \"#A1D99B\"   \"#F598C9\"   \"#A84E03\"   \"#FDBB84\"      \"gray\" "
      ]
     },
     "metadata": {},
     "output_type": "display_data"
    }
   ],
   "source": [
    "major_colors = c('acinar'='#09850B', 'alpha'='#F51646', 'beta'='#3F98E0',\n",
    "                 'delta'='#E39E14', 'ductal'='#F5DE6C', 'endothelial'='#752BBA', \n",
    "                 'gamma'='#A1D99B', 'immune'='#F598C9', \n",
    "                 'schwann'='#A84E03', 'stellate'='#FDBB84', 'bulk'='gray')\n",
    "\n",
    "clrs =data.frame(cellt = names(major_colors),major_colors )\n",
    "\n",
    "clrs = clrs[order(clrs$cellt),]\n",
    "\n",
    "major_colors"
   ]
  },
  {
   "cell_type": "code",
   "execution_count": 11,
   "id": "f9398c74",
   "metadata": {
    "scrolled": true,
    "vscode": {
     "languageId": "r"
    }
   },
   "outputs": [
    {
     "data": {
      "text/html": [
       "<table class=\"dataframe\">\n",
       "<caption>A data.frame: 9 × 3</caption>\n",
       "<thead>\n",
       "\t<tr><th scope=col>Var1</th><th scope=col>Freq.x</th><th scope=col>Freq.y</th></tr>\n",
       "\t<tr><th scope=col>&lt;fct&gt;</th><th scope=col>&lt;int&gt;</th><th scope=col>&lt;int&gt;</th></tr>\n",
       "</thead>\n",
       "<tbody>\n",
       "\t<tr><td>acinar     </td><td>27387</td><td>2127</td></tr>\n",
       "\t<tr><td>alpha      </td><td>44500</td><td>4203</td></tr>\n",
       "\t<tr><td>beta       </td><td>81100</td><td>5913</td></tr>\n",
       "\t<tr><td>delta      </td><td> 8911</td><td> 875</td></tr>\n",
       "\t<tr><td>ductal     </td><td> 5452</td><td> 266</td></tr>\n",
       "\t<tr><td>endothelial</td><td>  342</td><td>  NA</td></tr>\n",
       "\t<tr><td>gamma      </td><td> 5504</td><td> 523</td></tr>\n",
       "\t<tr><td>immune     </td><td>  633</td><td>   4</td></tr>\n",
       "\t<tr><td>stellate   </td><td>  922</td><td>   2</td></tr>\n",
       "</tbody>\n",
       "</table>\n"
      ],
      "text/latex": [
       "A data.frame: 9 × 3\n",
       "\\begin{tabular}{lll}\n",
       " Var1 & Freq.x & Freq.y\\\\\n",
       " <fct> & <int> & <int>\\\\\n",
       "\\hline\n",
       "\t acinar      & 27387 & 2127\\\\\n",
       "\t alpha       & 44500 & 4203\\\\\n",
       "\t beta        & 81100 & 5913\\\\\n",
       "\t delta       &  8911 &  875\\\\\n",
       "\t ductal      &  5452 &  266\\\\\n",
       "\t endothelial &   342 &   NA\\\\\n",
       "\t gamma       &  5504 &  523\\\\\n",
       "\t immune      &   633 &    4\\\\\n",
       "\t stellate    &   922 &    2\\\\\n",
       "\\end{tabular}\n"
      ],
      "text/markdown": [
       "\n",
       "A data.frame: 9 × 3\n",
       "\n",
       "| Var1 &lt;fct&gt; | Freq.x &lt;int&gt; | Freq.y &lt;int&gt; |\n",
       "|---|---|---|\n",
       "| acinar      | 27387 | 2127 |\n",
       "| alpha       | 44500 | 4203 |\n",
       "| beta        | 81100 | 5913 |\n",
       "| delta       |  8911 |  875 |\n",
       "| ductal      |  5452 |  266 |\n",
       "| endothelial |   342 |   NA |\n",
       "| gamma       |  5504 |  523 |\n",
       "| immune      |   633 |    4 |\n",
       "| stellate    |   922 |    2 |\n",
       "\n"
      ],
      "text/plain": [
       "  Var1        Freq.x Freq.y\n",
       "1 acinar      27387  2127  \n",
       "2 alpha       44500  4203  \n",
       "3 beta        81100  5913  \n",
       "4 delta        8911   875  \n",
       "5 ductal       5452   266  \n",
       "6 endothelial   342    NA  \n",
       "7 gamma        5504   523  \n",
       "8 immune        633     4  \n",
       "9 stellate      922     2  "
      ]
     },
     "metadata": {},
     "output_type": "display_data"
    },
    {
     "data": {
      "text/html": [
       "<table class=\"dataframe\">\n",
       "<caption>A data.frame: 10 × 3</caption>\n",
       "<thead>\n",
       "\t<tr><th scope=col>Var1</th><th scope=col>Freq.x</th><th scope=col>Freq.y</th></tr>\n",
       "\t<tr><th scope=col>&lt;fct&gt;</th><th scope=col>&lt;int&gt;</th><th scope=col>&lt;int&gt;</th></tr>\n",
       "</thead>\n",
       "<tbody>\n",
       "\t<tr><td>acinar     </td><td> 27387</td><td> 2127</td></tr>\n",
       "\t<tr><td>alpha      </td><td> 44500</td><td> 4203</td></tr>\n",
       "\t<tr><td>beta       </td><td> 81100</td><td> 5913</td></tr>\n",
       "\t<tr><td>bulk       </td><td>174819</td><td>12186</td></tr>\n",
       "\t<tr><td>delta      </td><td>  8911</td><td>  875</td></tr>\n",
       "\t<tr><td>ductal     </td><td>  5452</td><td>  266</td></tr>\n",
       "\t<tr><td>endothelial</td><td>   342</td><td>   NA</td></tr>\n",
       "\t<tr><td>gamma      </td><td>  5504</td><td>  523</td></tr>\n",
       "\t<tr><td>immune     </td><td>   633</td><td>    4</td></tr>\n",
       "\t<tr><td>stellate   </td><td>   922</td><td>    2</td></tr>\n",
       "</tbody>\n",
       "</table>\n"
      ],
      "text/latex": [
       "A data.frame: 10 × 3\n",
       "\\begin{tabular}{lll}\n",
       " Var1 & Freq.x & Freq.y\\\\\n",
       " <fct> & <int> & <int>\\\\\n",
       "\\hline\n",
       "\t acinar      &  27387 &  2127\\\\\n",
       "\t alpha       &  44500 &  4203\\\\\n",
       "\t beta        &  81100 &  5913\\\\\n",
       "\t bulk        & 174819 & 12186\\\\\n",
       "\t delta       &   8911 &   875\\\\\n",
       "\t ductal      &   5452 &   266\\\\\n",
       "\t endothelial &    342 &    NA\\\\\n",
       "\t gamma       &   5504 &   523\\\\\n",
       "\t immune      &    633 &     4\\\\\n",
       "\t stellate    &    922 &     2\\\\\n",
       "\\end{tabular}\n"
      ],
      "text/markdown": [
       "\n",
       "A data.frame: 10 × 3\n",
       "\n",
       "| Var1 &lt;fct&gt; | Freq.x &lt;int&gt; | Freq.y &lt;int&gt; |\n",
       "|---|---|---|\n",
       "| acinar      |  27387 |  2127 |\n",
       "| alpha       |  44500 |  4203 |\n",
       "| beta        |  81100 |  5913 |\n",
       "| bulk        | 174819 | 12186 |\n",
       "| delta       |   8911 |   875 |\n",
       "| ductal      |   5452 |   266 |\n",
       "| endothelial |    342 |    NA |\n",
       "| gamma       |   5504 |   523 |\n",
       "| immune      |    633 |     4 |\n",
       "| stellate    |    922 |     2 |\n",
       "\n"
      ],
      "text/plain": [
       "   Var1        Freq.x Freq.y\n",
       "1  acinar       27387  2127 \n",
       "2  alpha        44500  4203 \n",
       "3  beta         81100  5913 \n",
       "4  bulk        174819 12186 \n",
       "5  delta         8911   875 \n",
       "6  ductal        5452   266 \n",
       "7  endothelial    342    NA \n",
       "8  gamma         5504   523 \n",
       "9  immune         633     4 \n",
       "10 stellate       922     2 "
      ]
     },
     "metadata": {},
     "output_type": "display_data"
    }
   ],
   "source": [
    "tb = table(dat$celltype)\n",
    "tb = tb[names(tb) %in% celltypes]\n",
    "tb_all <- table(c(dat$celltype, rep('bulk', length(dat$celltype))))\n",
    "tb_all = tb_all[names(tb_all) %in% celltypes]\n",
    "res$feature_snp = paste(res$Feature, res$rsID, sep=\"_\")\n",
    "res_sig = subset(res, flag_fdr05==T & exclude ==F)\n",
    "qtls_macro= as.data.frame(table(res_sig$cell))\n",
    "dt_macro = dplyr::left_join(as.data.frame(tb), qtls_macro, by=\"Var1\")\n",
    "\n",
    "RES$feature_snp = paste(RES$Feature, RES$rsID, sep=\"_\")\n",
    "RES_sig = subset(RES, flag_fdr05==T & exclude ==F)\n",
    "qtls_all= as.data.frame(table(RES_sig$cell))\n",
    "dt_all = dplyr::left_join(as.data.frame(tb_all), qtls_all, by=\"Var1\")\n",
    "\n",
    "dt_macro\n",
    "dt_all"
   ]
  },
  {
   "cell_type": "code",
   "execution_count": 28,
   "id": "34998bfa",
   "metadata": {
    "vscode": {
     "languageId": "r"
    }
   },
   "outputs": [],
   "source": [
    "write.table(dt_macro,'/path/to/caQTL/stuff/figures/cell_counts_ggplot/no_bulk_counts.csv',\n",
    "           col.names=T, row.names=F, quote=F)\n",
    "write.table(dt_all,'/path/to/caQTL/stuff/figures/cell_counts_ggplot/bulk_counts.csv',\n",
    "           col.names=T, row.names=F, quote=F)"
   ]
  },
  {
   "cell_type": "code",
   "execution_count": 16,
   "id": "1565c508",
   "metadata": {
    "scrolled": true,
    "vscode": {
     "languageId": "r"
    }
   },
   "outputs": [
    {
     "data": {
      "text/html": [
       "<table class=\"dataframe\">\n",
       "<caption>A data.frame: 9 × 3</caption>\n",
       "<thead>\n",
       "\t<tr><th scope=col>Var1</th><th scope=col>Freq.x</th><th scope=col>Freq.y</th></tr>\n",
       "\t<tr><th scope=col>&lt;fct&gt;</th><th scope=col>&lt;int&gt;</th><th scope=col>&lt;int&gt;</th></tr>\n",
       "</thead>\n",
       "<tbody>\n",
       "\t<tr><td>acinar     </td><td>27387</td><td>1711</td></tr>\n",
       "\t<tr><td>alpha      </td><td>44500</td><td>2947</td></tr>\n",
       "\t<tr><td>beta       </td><td>81100</td><td>4797</td></tr>\n",
       "\t<tr><td>delta      </td><td> 8911</td><td> 588</td></tr>\n",
       "\t<tr><td>ductal     </td><td> 5452</td><td> 205</td></tr>\n",
       "\t<tr><td>endothelial</td><td>  342</td><td>  NA</td></tr>\n",
       "\t<tr><td>gamma      </td><td> 5504</td><td> 356</td></tr>\n",
       "\t<tr><td>immune     </td><td>  633</td><td>   2</td></tr>\n",
       "\t<tr><td>stellate   </td><td>  922</td><td>   2</td></tr>\n",
       "</tbody>\n",
       "</table>\n"
      ],
      "text/latex": [
       "A data.frame: 9 × 3\n",
       "\\begin{tabular}{lll}\n",
       " Var1 & Freq.x & Freq.y\\\\\n",
       " <fct> & <int> & <int>\\\\\n",
       "\\hline\n",
       "\t acinar      & 27387 & 1711\\\\\n",
       "\t alpha       & 44500 & 2947\\\\\n",
       "\t beta        & 81100 & 4797\\\\\n",
       "\t delta       &  8911 &  588\\\\\n",
       "\t ductal      &  5452 &  205\\\\\n",
       "\t endothelial &   342 &   NA\\\\\n",
       "\t gamma       &  5504 &  356\\\\\n",
       "\t immune      &   633 &    2\\\\\n",
       "\t stellate    &   922 &    2\\\\\n",
       "\\end{tabular}\n"
      ],
      "text/markdown": [
       "\n",
       "A data.frame: 9 × 3\n",
       "\n",
       "| Var1 &lt;fct&gt; | Freq.x &lt;int&gt; | Freq.y &lt;int&gt; |\n",
       "|---|---|---|\n",
       "| acinar      | 27387 | 1711 |\n",
       "| alpha       | 44500 | 2947 |\n",
       "| beta        | 81100 | 4797 |\n",
       "| delta       |  8911 |  588 |\n",
       "| ductal      |  5452 |  205 |\n",
       "| endothelial |   342 |   NA |\n",
       "| gamma       |  5504 |  356 |\n",
       "| immune      |   633 |    2 |\n",
       "| stellate    |   922 |    2 |\n",
       "\n"
      ],
      "text/plain": [
       "  Var1        Freq.x Freq.y\n",
       "1 acinar      27387  1711  \n",
       "2 alpha       44500  2947  \n",
       "3 beta        81100  4797  \n",
       "4 delta        8911   588  \n",
       "5 ductal       5452   205  \n",
       "6 endothelial   342    NA  \n",
       "7 gamma        5504   356  \n",
       "8 immune        633     2  \n",
       "9 stellate      922     2  "
      ]
     },
     "metadata": {},
     "output_type": "display_data"
    },
    {
     "data": {
      "text/html": [
       "<table class=\"dataframe\">\n",
       "<caption>A data.frame: 10 × 3</caption>\n",
       "<thead>\n",
       "\t<tr><th scope=col>Var1</th><th scope=col>Freq.x</th><th scope=col>Freq.y</th></tr>\n",
       "\t<tr><th scope=col>&lt;fct&gt;</th><th scope=col>&lt;int&gt;</th><th scope=col>&lt;int&gt;</th></tr>\n",
       "</thead>\n",
       "<tbody>\n",
       "\t<tr><td>acinar     </td><td> 27387</td><td>1711</td></tr>\n",
       "\t<tr><td>alpha      </td><td> 44500</td><td>2947</td></tr>\n",
       "\t<tr><td>beta       </td><td> 81100</td><td>4797</td></tr>\n",
       "\t<tr><td>bulk       </td><td>174819</td><td>9604</td></tr>\n",
       "\t<tr><td>delta      </td><td>  8911</td><td> 588</td></tr>\n",
       "\t<tr><td>ductal     </td><td>  5452</td><td> 205</td></tr>\n",
       "\t<tr><td>endothelial</td><td>   342</td><td>  NA</td></tr>\n",
       "\t<tr><td>gamma      </td><td>  5504</td><td> 356</td></tr>\n",
       "\t<tr><td>immune     </td><td>   633</td><td>   2</td></tr>\n",
       "\t<tr><td>stellate   </td><td>   922</td><td>   2</td></tr>\n",
       "</tbody>\n",
       "</table>\n"
      ],
      "text/latex": [
       "A data.frame: 10 × 3\n",
       "\\begin{tabular}{lll}\n",
       " Var1 & Freq.x & Freq.y\\\\\n",
       " <fct> & <int> & <int>\\\\\n",
       "\\hline\n",
       "\t acinar      &  27387 & 1711\\\\\n",
       "\t alpha       &  44500 & 2947\\\\\n",
       "\t beta        &  81100 & 4797\\\\\n",
       "\t bulk        & 174819 & 9604\\\\\n",
       "\t delta       &   8911 &  588\\\\\n",
       "\t ductal      &   5452 &  205\\\\\n",
       "\t endothelial &    342 &   NA\\\\\n",
       "\t gamma       &   5504 &  356\\\\\n",
       "\t immune      &    633 &    2\\\\\n",
       "\t stellate    &    922 &    2\\\\\n",
       "\\end{tabular}\n"
      ],
      "text/markdown": [
       "\n",
       "A data.frame: 10 × 3\n",
       "\n",
       "| Var1 &lt;fct&gt; | Freq.x &lt;int&gt; | Freq.y &lt;int&gt; |\n",
       "|---|---|---|\n",
       "| acinar      |  27387 | 1711 |\n",
       "| alpha       |  44500 | 2947 |\n",
       "| beta        |  81100 | 4797 |\n",
       "| bulk        | 174819 | 9604 |\n",
       "| delta       |   8911 |  588 |\n",
       "| ductal      |   5452 |  205 |\n",
       "| endothelial |    342 |   NA |\n",
       "| gamma       |   5504 |  356 |\n",
       "| immune      |    633 |    2 |\n",
       "| stellate    |    922 |    2 |\n",
       "\n"
      ],
      "text/plain": [
       "   Var1        Freq.x Freq.y\n",
       "1  acinar       27387 1711  \n",
       "2  alpha        44500 2947  \n",
       "3  beta         81100 4797  \n",
       "4  bulk        174819 9604  \n",
       "5  delta         8911  588  \n",
       "6  ductal        5452  205  \n",
       "7  endothelial    342   NA  \n",
       "8  gamma         5504  356  \n",
       "9  immune         633    2  \n",
       "10 stellate       922    2  "
      ]
     },
     "metadata": {},
     "output_type": "display_data"
    }
   ],
   "source": [
    "#tb = table(dat$celltype)\n",
    "#tb = tb[names(tb) %in% celltypes]\n",
    "#tb_all <- table(c(dat$celltype, rep('bulk', length(dat$celltype))))\n",
    "#tb_all = tb_all[names(tb_all) %in% celltypes]\n",
    "#res$feature_snp = paste(res$Feature, res$rsID, sep=\"_\")\n",
    "#res_sig = subset(res, flag_fdr05==T & exclude ==F)\n",
    "#qtls_macro= as.data.frame(table(res_sig$cell))\n",
    "#dt_macro = dplyr::left_join(as.data.frame(tb), qtls_macro, by=\"Var1\")\n",
    "#\n",
    "#RES$feature_snp = paste(RES$Feature, RES$rsID, sep=\"_\")\n",
    "#RES_sig = subset(RES, flag_fdr05==T & exclude ==F)\n",
    "#qtls_all= as.data.frame(table(RES_sig$cell))\n",
    "#dt_all = dplyr::left_join(as.data.frame(tb_all), qtls_all, by=\"Var1\")\n",
    "#\n",
    "#dt_macro\n",
    "#dt_all"
   ]
  },
  {
   "cell_type": "code",
   "execution_count": 12,
   "id": "da647b51",
   "metadata": {
    "vscode": {
     "languageId": "r"
    }
   },
   "outputs": [],
   "source": [
    "macro = c('acinar','alpha','beta','delta','ductal','endothelial','gamma',\n",
    "                'immune','stellate')\n",
    "all = c('acinar','alpha','beta','delta','ductal','endothelial','gamma',\n",
    "                'immune','stellate','bulk')"
   ]
  },
  {
   "cell_type": "code",
   "execution_count": 13,
   "id": "60f03c71",
   "metadata": {
    "vscode": {
     "languageId": "r"
    }
   },
   "outputs": [
    {
     "data": {
      "text/html": [
       "<style>\n",
       ".list-inline {list-style: none; margin:0; padding: 0}\n",
       ".list-inline>li {display: inline-block}\n",
       ".list-inline>li:not(:last-child)::after {content: \"\\00b7\"; padding: 0 .5ex}\n",
       "</style>\n",
       "<ol class=list-inline><li>'acinar'</li><li>'alpha'</li><li>'beta'</li><li>'delta'</li><li>'ductal'</li><li>'endothelial'</li><li>'gamma'</li><li>'immune'</li><li>'stellate'</li></ol>\n"
      ],
      "text/latex": [
       "\\begin{enumerate*}\n",
       "\\item 'acinar'\n",
       "\\item 'alpha'\n",
       "\\item 'beta'\n",
       "\\item 'delta'\n",
       "\\item 'ductal'\n",
       "\\item 'endothelial'\n",
       "\\item 'gamma'\n",
       "\\item 'immune'\n",
       "\\item 'stellate'\n",
       "\\end{enumerate*}\n"
      ],
      "text/markdown": [
       "1. 'acinar'\n",
       "2. 'alpha'\n",
       "3. 'beta'\n",
       "4. 'delta'\n",
       "5. 'ductal'\n",
       "6. 'endothelial'\n",
       "7. 'gamma'\n",
       "8. 'immune'\n",
       "9. 'stellate'\n",
       "\n",
       "\n"
      ],
      "text/plain": [
       "[1] \"acinar\"      \"alpha\"       \"beta\"        \"delta\"       \"ductal\"     \n",
       "[6] \"endothelial\" \"gamma\"       \"immune\"      \"stellate\"   "
      ]
     },
     "metadata": {},
     "output_type": "display_data"
    }
   ],
   "source": [
    "macro"
   ]
  },
  {
   "cell_type": "code",
   "execution_count": 29,
   "id": "f09c6ee0",
   "metadata": {
    "scrolled": true,
    "vscode": {
     "languageId": "r"
    }
   },
   "outputs": [
    {
     "name": "stderr",
     "output_type": "stream",
     "text": [
      "Warning message:\n",
      "“\u001b[1m\u001b[22mRemoved 1 rows containing missing values (`geom_point()`).”\n",
      "Warning message:\n",
      "“\u001b[1m\u001b[22mRemoved 1 rows containing missing values (`geom_point()`).”\n"
     ]
    },
    {
     "data": {
      "image/png": "[encoded data removed]",
      "text/plain": [
       "plot without title"
      ]
     },
     "metadata": {
      "image/png": {
       "height": 480,
       "width": 480
      }
     },
     "output_type": "display_data"
    },
    {
     "data": {
      "image/png": "[encoded data removed]",
      "text/plain": [
       "plot without title"
      ]
     },
     "metadata": {
      "image/png": {
       "height": 480,
       "width": 480
      }
     },
     "output_type": "display_data"
    }
   ],
   "source": [
    "#library(ggrepel)\n",
    "options(repr.plot.width=8, repr.plot.height=8)\n",
    "theme_set(\n",
    "    theme_bw())\n",
    "\n",
    "ggplot(dt_macro, aes(x=Freq.x, y=Freq.y, color=Var1)) + \n",
    "        geom_point(size=6, aes(colour=Var1)) + \n",
    "        labs(x = \"Number of Cells\", y = \"Number of caQTL Peaks\", color=\"Cell Type\") + \n",
    "        scale_color_manual(values=major_colors) + \n",
    "        theme(axis.text.x=element_text(size=20, vjust=0.5),\n",
    "        axis.text.y=element_text(size=20, vjust=0.5),\n",
    "        axis.title.x = element_text(size=25, vjust=-0.35),\n",
    "        axis.title.y = element_text(size=25, vjust=0.5),\n",
    "        plot.title = element_text(size=25, hjust=0.5, face=\"bold\"),\n",
    "        legend.position = \"none\")\n",
    "\n",
    "ggplot(dt_all, aes(x=Freq.x, y=Freq.y, color=Var1)) + \n",
    "        geom_point(size=6, aes(colour=Var1)) + \n",
    "        labs(x = \"Number of Cells\", y = \"Number of caQTL Peaks\", color=\"Cell Type\") + \n",
    "        scale_color_manual(values=major_colors) + \n",
    "        theme(axis.text.x=element_text(size=20, vjust=0.5),\n",
    "        axis.text.y=element_text(size=20, vjust=0.5),\n",
    "        axis.title.x = element_text(size=25, vjust=-0.35),\n",
    "        axis.title.y = element_text(size=25, vjust=0.5),\n",
    "        plot.title = element_text(size=25, hjust=0.5, face=\"bold\"),\n",
    "        legend.position = \"none\")"
   ]
  },
  {
   "cell_type": "code",
   "execution_count": 30,
   "id": "dff79a68",
   "metadata": {
    "vscode": {
     "languageId": "r"
    }
   },
   "outputs": [
    {
     "name": "stderr",
     "output_type": "stream",
     "text": [
      "Warning message:\n",
      "“\u001b[1m\u001b[22mRemoved 1 rows containing missing values (`geom_point()`).”\n",
      "Warning message:\n",
      "“\u001b[1m\u001b[22mRemoved 1 rows containing missing values (`geom_point()`).”\n"
     ]
    },
    {
     "data": {
      "text/html": [
       "<strong>png:</strong> 2"
      ],
      "text/latex": [
       "\\textbf{png:} 2"
      ],
      "text/markdown": [
       "**png:** 2"
      ],
      "text/plain": [
       "png \n",
       "  2 "
      ]
     },
     "metadata": {},
     "output_type": "display_data"
    }
   ],
   "source": [
    "#library(ggrepel)\n",
    "pdf('/path/to/caQTL/stuff/figures/cell_counts_ggplot/no_legend.pdf', width=8, height=8)\n",
    "theme_set(\n",
    "    theme_bw())\n",
    "\n",
    "ggplot(dt_macro, aes(x=Freq.x, y=Freq.y, color=Var1)) + \n",
    "        geom_point(size=6, aes(colour=Var1)) + \n",
    "        labs(x = \"Number of Cells\", y = \"Number of caQTL Peaks\", color=\"Cell Type\") + \n",
    "        scale_color_manual(values=major_colors) + \n",
    "        theme(axis.text.x=element_text(size=20, vjust=0.5),\n",
    "        axis.text.y=element_text(size=20, vjust=0.5),\n",
    "        axis.title.x = element_text(size=25, vjust=-0.35),\n",
    "        axis.title.y = element_text(size=25, vjust=0.5),\n",
    "        plot.title = element_text(size=25, hjust=0.5, face=\"bold\"),\n",
    "        legend.position = \"none\")\n",
    "\n",
    "ggplot(dt_all, aes(x=Freq.x, y=Freq.y, color=Var1)) + \n",
    "        geom_point(size=6, aes(colour=Var1)) + \n",
    "        labs(x = \"Number of Cells\", y = \"Number of caQTL Peaks\", color=\"Cell Type\") + \n",
    "        scale_color_manual(values=major_colors) + \n",
    "        theme(axis.text.x=element_text(size=20, vjust=0.5),\n",
    "        axis.text.y=element_text(size=20, vjust=0.5),\n",
    "        axis.title.x = element_text(size=25, vjust=-0.35),\n",
    "        axis.title.y = element_text(size=25, vjust=0.5),\n",
    "        plot.title = element_text(size=25, hjust=0.5, face=\"bold\"),\n",
    "        legend.position = \"none\")\n",
    "\n",
    "dev.off()"
   ]
  },
  {
   "cell_type": "code",
   "execution_count": 31,
   "id": "18e562a3",
   "metadata": {
    "vscode": {
     "languageId": "r"
    }
   },
   "outputs": [
    {
     "name": "stderr",
     "output_type": "stream",
     "text": [
      "Warning message:\n",
      "“\u001b[1m\u001b[22mRemoved 1 rows containing missing values (`geom_point()`).”\n",
      "Warning message:\n",
      "“\u001b[1m\u001b[22mRemoved 1 rows containing missing values (`geom_point()`).”\n"
     ]
    },
    {
     "data": {
      "text/html": [
       "<strong>png:</strong> 2"
      ],
      "text/latex": [
       "\\textbf{png:} 2"
      ],
      "text/markdown": [
       "**png:** 2"
      ],
      "text/plain": [
       "png \n",
       "  2 "
      ]
     },
     "metadata": {},
     "output_type": "display_data"
    }
   ],
   "source": [
    "#library(ggrepel)\n",
    "pdf('/path/to/caQTL/stuff/figures/cell_counts_ggplot/legend.pdf', width=8, height=8)\n",
    "theme_set(\n",
    "    theme_bw())\n",
    "\n",
    "ggplot(dt_macro, aes(x=Freq.x, y=Freq.y, color=Var1)) + \n",
    "        geom_point(size=6, aes(colour=Var1)) + \n",
    "        labs(x = \"Number of Cells\", y = \"Number of caQTL Peaks\", color=\"Cell Type\") + \n",
    "        scale_color_manual(values=major_colors) + \n",
    "        theme(axis.text.x=element_text(size=20, vjust=0.5),\n",
    "        axis.text.y=element_text(size=20, vjust=0.5),\n",
    "        axis.title.x = element_text(size=25, vjust=-0.35),\n",
    "        axis.title.y = element_text(size=25, vjust=0.5),\n",
    "        plot.title = element_text(size=25, hjust=0.5, face=\"bold\"))\n",
    "\n",
    "ggplot(dt_all, aes(x=Freq.x, y=Freq.y, color=Var1)) + \n",
    "        geom_point(size=6, aes(colour=Var1)) + \n",
    "        labs(x = \"Number of Cells\", y = \"Number of caQTL Peaks\", color=\"Cell Type\") + \n",
    "        scale_color_manual(values=major_colors) + \n",
    "        theme(axis.text.x=element_text(size=20, vjust=0.5),\n",
    "        axis.text.y=element_text(size=20, vjust=0.5),\n",
    "        axis.title.x = element_text(size=25, vjust=-0.35),\n",
    "        axis.title.y = element_text(size=25, vjust=0.5),\n",
    "        plot.title = element_text(size=25, hjust=0.5, face=\"bold\"))\n",
    "\n",
    "dev.off()"
   ]
  },
  {
   "cell_type": "code",
   "execution_count": 21,
   "id": "b59bc660",
   "metadata": {
    "collapsed": true,
    "vscode": {
     "languageId": "r"
    }
   },
   "outputs": [
    {
     "data": {
      "image/png": "[encoded data removed]",
      "text/plain": [
       "plot without title"
      ]
     },
     "metadata": {
      "image/png": {
       "height": 420,
       "width": 420
      }
     },
     "output_type": "display_data"
    }
   ],
   "source": [
    "#pdf(\"/path/to/caQTL/stuff/figures/cell_number_vs_qtls_run1F.pdf\")\n",
    "par(mfrow=c(3,1), mar=c(4,10,1,10))\n",
    "\n",
    "plot(Freq.y~Freq.x, dt_all, pch=19, xlim=c(0,180000), xlab = \"#cells\", ylab = \"# caQTLs\",\n",
    "     col = clrs[match(dt_all$Var1,clrs$cellt) ,2], cex=1.3)\n",
    "legend( \"bottomright\", legend =names(major_colors), col = major_colors, bty=\"n\", pch=19, y.intersp = 0.6)\n",
    "\n",
    "plot(Freq.y~Freq.x, dt_macro, pch=19, xlim=c(0,80000), xlab = \"#cells\", ylab = \"# caQTLs\",\n",
    "     col = clrs[match(dt_macro$Var1,clrs$cellt) ,2], cex=1.3)\n",
    "legend( \"bottomright\", legend =names(major_colors[macro]), col = major_colors[macro], bty=\"n\", pch=19, y.intersp = 0.7)\n",
    "\n",
    "#dt2 = subset(dt, Var1 %in% micro)\n",
    "#plot(Freq.y~Freq.x, dt2, pch=19, xlim=c(0,50000), xlab = \"#cells\", ylab = \"# caQTLs\",\n",
    "#     col = clrs[match(dt2$Var1,clrs$cellt) ,2], cex=1.3)\n",
    "#legend( \"bottomright\", legend =names(colors[micro]), col = colors[micro], bty=\"n\", pch=19, y.intersp = 0.7)\n",
    "\n",
    "#dev.off()"
   ]
  },
  {
   "cell_type": "code",
   "execution_count": 24,
   "id": "8f46d43f",
   "metadata": {
    "vscode": {
     "languageId": "r"
    }
   },
   "outputs": [
    {
     "data": {
      "text/html": [
       "<strong>png:</strong> 2"
      ],
      "text/latex": [
       "\\textbf{png:} 2"
      ],
      "text/markdown": [
       "**png:** 2"
      ],
      "text/plain": [
       "png \n",
       "  2 "
      ]
     },
     "metadata": {},
     "output_type": "display_data"
    }
   ],
   "source": [
    "pdf(\"/path/to/caQTL/stuff/figures/cell_number_vs_qtls_run1F.pdf\")\n",
    "par(mfrow=c(3,1), mar=c(4,10,1,10))\n",
    "\n",
    "plot(Freq.y~Freq.x, dt_all, pch=19, xlim=c(0,180000), xlab = \"#cells\", ylab = \"# caQTLs\",\n",
    "     col = clrs[match(dt_all$Var1,clrs$cellt) ,2], cex=1.3)\n",
    "legend( \"bottomright\", legend =names(major_colors), col = major_colors, bty=\"n\", pch=19, y.intersp = 0.6)\n",
    "\n",
    "plot(Freq.y~Freq.x, dt_macro, pch=19, xlim=c(0,80000), xlab = \"#cells\", ylab = \"# caQTLs\",\n",
    "     col = clrs[match(dt_macro$Var1,clrs$cellt) ,2], cex=1.3)\n",
    "legend( \"bottomright\", legend =names(major_colors[macro]), col = major_colors[macro], bty=\"n\", pch=19, y.intersp = 0.7)\n",
    "\n",
    "#dt2 = subset(dt, Var1 %in% micro)\n",
    "#plot(Freq.y~Freq.x, dt2, pch=19, xlim=c(0,50000), xlab = \"#cells\", ylab = \"# caQTLs\",\n",
    "#     col = clrs[match(dt2$Var1,clrs$cellt) ,2], cex=1.3)\n",
    "#legend( \"bottomright\", legend =names(colors[micro]), col = colors[micro], bty=\"n\", pch=19, y.intersp = 0.7)\n",
    "\n",
    "dev.off()"
   ]
  },
  {
   "cell_type": "code",
   "execution_count": 22,
   "id": "643b008b",
   "metadata": {
    "vscode": {
     "languageId": "r"
    }
   },
   "outputs": [
    {
     "data": {
      "text/html": [
       "<style>\n",
       ".dl-inline {width: auto; margin:0; padding: 0}\n",
       ".dl-inline>dt, .dl-inline>dd {float: none; width: auto; display: inline-block}\n",
       ".dl-inline>dt::after {content: \":\\0020\"; padding-right: .5ex}\n",
       ".dl-inline>dt:not(:first-of-type) {padding-left: .5ex}\n",
       "</style><dl class=dl-inline><dt>stellate</dt><dd>2</dd><dt>immune</dt><dd>4</dd><dt>ductal</dt><dd>266</dd><dt>gamma</dt><dd>523</dd><dt>delta</dt><dd>875</dd><dt>acinar</dt><dd>2127</dd><dt>alpha</dt><dd>4203</dd><dt>beta</dt><dd>5913</dd></dl>\n"
      ],
      "text/latex": [
       "\\begin{description*}\n",
       "\\item[stellate] 2\n",
       "\\item[immune] 4\n",
       "\\item[ductal] 266\n",
       "\\item[gamma] 523\n",
       "\\item[delta] 875\n",
       "\\item[acinar] 2127\n",
       "\\item[alpha] 4203\n",
       "\\item[beta] 5913\n",
       "\\end{description*}\n"
      ],
      "text/markdown": [
       "stellate\n",
       ":   2immune\n",
       ":   4ductal\n",
       ":   266gamma\n",
       ":   523delta\n",
       ":   875acinar\n",
       ":   2127alpha\n",
       ":   4203beta\n",
       ":   5913\n",
       "\n"
      ],
      "text/plain": [
       "stellate   immune   ductal    gamma    delta   acinar    alpha     beta \n",
       "       2        4      266      523      875     2127     4203     5913 "
      ]
     },
     "metadata": {},
     "output_type": "display_data"
    },
    {
     "data": {
      "text/html": [
       "<style>\n",
       ".dl-inline {width: auto; margin:0; padding: 0}\n",
       ".dl-inline>dt, .dl-inline>dd {float: none; width: auto; display: inline-block}\n",
       ".dl-inline>dt::after {content: \":\\0020\"; padding-right: .5ex}\n",
       ".dl-inline>dt:not(:first-of-type) {padding-left: .5ex}\n",
       "</style><dl class=dl-inline><dt>stellate</dt><dd>2</dd><dt>immune</dt><dd>4</dd><dt>ductal</dt><dd>266</dd><dt>gamma</dt><dd>523</dd><dt>delta</dt><dd>875</dd><dt>acinar</dt><dd>2127</dd><dt>alpha</dt><dd>4203</dd><dt>beta</dt><dd>5913</dd><dt>bulk</dt><dd>12186</dd></dl>\n"
      ],
      "text/latex": [
       "\\begin{description*}\n",
       "\\item[stellate] 2\n",
       "\\item[immune] 4\n",
       "\\item[ductal] 266\n",
       "\\item[gamma] 523\n",
       "\\item[delta] 875\n",
       "\\item[acinar] 2127\n",
       "\\item[alpha] 4203\n",
       "\\item[beta] 5913\n",
       "\\item[bulk] 12186\n",
       "\\end{description*}\n"
      ],
      "text/markdown": [
       "stellate\n",
       ":   2immune\n",
       ":   4ductal\n",
       ":   266gamma\n",
       ":   523delta\n",
       ":   875acinar\n",
       ":   2127alpha\n",
       ":   4203beta\n",
       ":   5913bulk\n",
       ":   12186\n",
       "\n"
      ],
      "text/plain": [
       "stellate   immune   ductal    gamma    delta   acinar    alpha     beta \n",
       "       2        4      266      523      875     2127     4203     5913 \n",
       "    bulk \n",
       "   12186 "
      ]
     },
     "metadata": {},
     "output_type": "display_data"
    }
   ],
   "source": [
    "mac        = setNames(dt_macro[,3],dt_macro[,1])\n",
    "mac = sort(mac, decreasing=F)\n",
    "#mic        = setNames(dt2[,3],dt2[,1]) \n",
    "mac\n",
    "\n",
    "mac_bulk        = setNames(dt_all[,3],dt_all[,1])\n",
    "mac_bulk = sort(mac_bulk, decreasing=F)\n",
    "#mic        = setNames(dt2[,3],dt2[,1]) \n",
    "mac_bulk"
   ]
  },
  {
   "cell_type": "code",
   "execution_count": 21,
   "id": "131b026d",
   "metadata": {
    "vscode": {
     "languageId": "r"
    }
   },
   "outputs": [
    {
     "data": {
      "text/html": [
       "<style>\n",
       ".dl-inline {width: auto; margin:0; padding: 0}\n",
       ".dl-inline>dt, .dl-inline>dd {float: none; width: auto; display: inline-block}\n",
       ".dl-inline>dt::after {content: \":\\0020\"; padding-right: .5ex}\n",
       ".dl-inline>dt:not(:first-of-type) {padding-left: .5ex}\n",
       "</style><dl class=dl-inline><dt>immune</dt><dd>2</dd><dt>stellate</dt><dd>2</dd><dt>ductal</dt><dd>205</dd><dt>gamma</dt><dd>356</dd><dt>delta</dt><dd>588</dd><dt>acinar</dt><dd>1711</dd><dt>alpha</dt><dd>2947</dd><dt>beta</dt><dd>4797</dd></dl>\n"
      ],
      "text/latex": [
       "\\begin{description*}\n",
       "\\item[immune] 2\n",
       "\\item[stellate] 2\n",
       "\\item[ductal] 205\n",
       "\\item[gamma] 356\n",
       "\\item[delta] 588\n",
       "\\item[acinar] 1711\n",
       "\\item[alpha] 2947\n",
       "\\item[beta] 4797\n",
       "\\end{description*}\n"
      ],
      "text/markdown": [
       "immune\n",
       ":   2stellate\n",
       ":   2ductal\n",
       ":   205gamma\n",
       ":   356delta\n",
       ":   588acinar\n",
       ":   1711alpha\n",
       ":   2947beta\n",
       ":   4797\n",
       "\n"
      ],
      "text/plain": [
       "  immune stellate   ductal    gamma    delta   acinar    alpha     beta \n",
       "       2        2      205      356      588     1711     2947     4797 "
      ]
     },
     "metadata": {},
     "output_type": "display_data"
    },
    {
     "data": {
      "text/html": [
       "<style>\n",
       ".dl-inline {width: auto; margin:0; padding: 0}\n",
       ".dl-inline>dt, .dl-inline>dd {float: none; width: auto; display: inline-block}\n",
       ".dl-inline>dt::after {content: \":\\0020\"; padding-right: .5ex}\n",
       ".dl-inline>dt:not(:first-of-type) {padding-left: .5ex}\n",
       "</style><dl class=dl-inline><dt>immune</dt><dd>2</dd><dt>stellate</dt><dd>2</dd><dt>ductal</dt><dd>205</dd><dt>gamma</dt><dd>356</dd><dt>delta</dt><dd>588</dd><dt>acinar</dt><dd>1711</dd><dt>alpha</dt><dd>2947</dd><dt>beta</dt><dd>4797</dd><dt>bulk</dt><dd>9604</dd></dl>\n"
      ],
      "text/latex": [
       "\\begin{description*}\n",
       "\\item[immune] 2\n",
       "\\item[stellate] 2\n",
       "\\item[ductal] 205\n",
       "\\item[gamma] 356\n",
       "\\item[delta] 588\n",
       "\\item[acinar] 1711\n",
       "\\item[alpha] 2947\n",
       "\\item[beta] 4797\n",
       "\\item[bulk] 9604\n",
       "\\end{description*}\n"
      ],
      "text/markdown": [
       "immune\n",
       ":   2stellate\n",
       ":   2ductal\n",
       ":   205gamma\n",
       ":   356delta\n",
       ":   588acinar\n",
       ":   1711alpha\n",
       ":   2947beta\n",
       ":   4797bulk\n",
       ":   9604\n",
       "\n"
      ],
      "text/plain": [
       "  immune stellate   ductal    gamma    delta   acinar    alpha     beta \n",
       "       2        2      205      356      588     1711     2947     4797 \n",
       "    bulk \n",
       "    9604 "
      ]
     },
     "metadata": {},
     "output_type": "display_data"
    }
   ],
   "source": [
    "#mac        = setNames(dt_macro[,3],dt_macro[,1])\n",
    "#mac = sort(mac, decreasing=F)\n",
    "##mic        = setNames(dt2[,3],dt2[,1]) \n",
    "#mac\n",
    "#\n",
    "#mac_bulk        = setNames(dt_all[,3],dt_all[,1])\n",
    "#mac_bulk = sort(mac_bulk, decreasing=F)\n",
    "##mic        = setNames(dt2[,3],dt2[,1]) \n",
    "#mac_bulk"
   ]
  },
  {
   "cell_type": "code",
   "execution_count": 23,
   "id": "f6a19ad7",
   "metadata": {
    "vscode": {
     "languageId": "r"
    }
   },
   "outputs": [
    {
     "data": {
      "image/png": "[encoded data removed]",
      "text/plain": [
       "plot without title"
      ]
     },
     "metadata": {
      "image/png": {
       "height": 420,
       "width": 420
      }
     },
     "output_type": "display_data"
    }
   ],
   "source": [
    "#pdf(\"/path/to/caQTL/stuff/figures/barplots_caqtlsums_run1F.pdf\")\n",
    "par(mfrow=c(2,2), las=1)\n",
    "bp<-barplot(mac, col= major_colors[names(mac)], border = F, xlim = c(0,6000), horiz = T)\n",
    "text(x=mac, y=bp, labels=mac)\n",
    "\n",
    "bp<-barplot(mac_bulk, col= major_colors[names(mac_bulk)], border = F, xlim = c(0,12000), horiz = T)\n",
    "text(x=mac_bulk, y=bp, labels=mac_bulk)\n",
    "#bp<-barplot(mic[rev(micro)], col= colors[rev(micro)], border = F, xlim = c(0,6000), horiz = T)\n",
    "#text(x=mic[rev(micro)], y=bp, labels=mic[rev(micro)])\n",
    "#dev.off()"
   ]
  },
  {
   "cell_type": "code",
   "execution_count": 83,
   "id": "ca457deb",
   "metadata": {
    "vscode": {
     "languageId": "r"
    }
   },
   "outputs": [
    {
     "data": {
      "text/html": [
       "<table class=\"dataframe\">\n",
       "<caption>A data.frame: 8 × 2</caption>\n",
       "<thead>\n",
       "\t<tr><th></th><th scope=col>counts</th><th scope=col>celltype</th></tr>\n",
       "\t<tr><th></th><th scope=col>&lt;int&gt;</th><th scope=col>&lt;fct&gt;</th></tr>\n",
       "</thead>\n",
       "<tbody>\n",
       "\t<tr><th scope=row>beta</th><td>5913</td><td>beta    </td></tr>\n",
       "\t<tr><th scope=row>alpha</th><td>4203</td><td>alpha   </td></tr>\n",
       "\t<tr><th scope=row>acinar</th><td>2127</td><td>acinar  </td></tr>\n",
       "\t<tr><th scope=row>delta</th><td> 875</td><td>delta   </td></tr>\n",
       "\t<tr><th scope=row>gamma</th><td> 523</td><td>gamma   </td></tr>\n",
       "\t<tr><th scope=row>ductal</th><td> 266</td><td>ductal  </td></tr>\n",
       "\t<tr><th scope=row>immune</th><td>   4</td><td>immune  </td></tr>\n",
       "\t<tr><th scope=row>stellate</th><td>   2</td><td>stellate</td></tr>\n",
       "</tbody>\n",
       "</table>\n"
      ],
      "text/latex": [
       "A data.frame: 8 × 2\n",
       "\\begin{tabular}{r|ll}\n",
       "  & counts & celltype\\\\\n",
       "  & <int> & <fct>\\\\\n",
       "\\hline\n",
       "\tbeta & 5913 & beta    \\\\\n",
       "\talpha & 4203 & alpha   \\\\\n",
       "\tacinar & 2127 & acinar  \\\\\n",
       "\tdelta &  875 & delta   \\\\\n",
       "\tgamma &  523 & gamma   \\\\\n",
       "\tductal &  266 & ductal  \\\\\n",
       "\timmune &    4 & immune  \\\\\n",
       "\tstellate &    2 & stellate\\\\\n",
       "\\end{tabular}\n"
      ],
      "text/markdown": [
       "\n",
       "A data.frame: 8 × 2\n",
       "\n",
       "| <!--/--> | counts &lt;int&gt; | celltype &lt;fct&gt; |\n",
       "|---|---|---|\n",
       "| beta | 5913 | beta     |\n",
       "| alpha | 4203 | alpha    |\n",
       "| acinar | 2127 | acinar   |\n",
       "| delta |  875 | delta    |\n",
       "| gamma |  523 | gamma    |\n",
       "| ductal |  266 | ductal   |\n",
       "| immune |    4 | immune   |\n",
       "| stellate |    2 | stellate |\n",
       "\n"
      ],
      "text/plain": [
       "         counts celltype\n",
       "beta     5913   beta    \n",
       "alpha    4203   alpha   \n",
       "acinar   2127   acinar  \n",
       "delta     875   delta   \n",
       "gamma     523   gamma   \n",
       "ductal    266   ductal  \n",
       "immune      4   immune  \n",
       "stellate    2   stellate"
      ]
     },
     "metadata": {},
     "output_type": "display_data"
    }
   ],
   "source": [
    "mac_frame <- data.frame(counts=mac)\n",
    "mac_frame$celltype <- rownames(mac_frame)\n",
    "mac_frame <- dplyr::arrange(mac_frame, -counts)\n",
    "mac_frame$celltype <- factor(mac_frame$celltype, levels=mac_frame$celltype)\n",
    "mac_frame"
   ]
  },
  {
   "cell_type": "code",
   "execution_count": 84,
   "id": "4fba61c0",
   "metadata": {
    "vscode": {
     "languageId": "r"
    }
   },
   "outputs": [
    {
     "data": {
      "text/html": [
       "<style>\n",
       ".list-inline {list-style: none; margin:0; padding: 0}\n",
       ".list-inline>li {display: inline-block}\n",
       ".list-inline>li:not(:last-child)::after {content: \"\\00b7\"; padding: 0 .5ex}\n",
       "</style>\n",
       "<ol class=list-inline><li>beta</li><li>alpha</li><li>acinar</li><li>delta</li><li>gamma</li><li>ductal</li><li>immune</li><li>stellate</li></ol>\n",
       "\n",
       "<details>\n",
       "\t<summary style=display:list-item;cursor:pointer>\n",
       "\t\t<strong>Levels</strong>:\n",
       "\t</summary>\n",
       "\t<style>\n",
       "\t.list-inline {list-style: none; margin:0; padding: 0}\n",
       "\t.list-inline>li {display: inline-block}\n",
       "\t.list-inline>li:not(:last-child)::after {content: \"\\00b7\"; padding: 0 .5ex}\n",
       "\t</style>\n",
       "\t<ol class=list-inline><li>'beta'</li><li>'alpha'</li><li>'acinar'</li><li>'delta'</li><li>'gamma'</li><li>'ductal'</li><li>'immune'</li><li>'stellate'</li></ol>\n",
       "</details>"
      ],
      "text/latex": [
       "\\begin{enumerate*}\n",
       "\\item beta\n",
       "\\item alpha\n",
       "\\item acinar\n",
       "\\item delta\n",
       "\\item gamma\n",
       "\\item ductal\n",
       "\\item immune\n",
       "\\item stellate\n",
       "\\end{enumerate*}\n",
       "\n",
       "\\emph{Levels}: \\begin{enumerate*}\n",
       "\\item 'beta'\n",
       "\\item 'alpha'\n",
       "\\item 'acinar'\n",
       "\\item 'delta'\n",
       "\\item 'gamma'\n",
       "\\item 'ductal'\n",
       "\\item 'immune'\n",
       "\\item 'stellate'\n",
       "\\end{enumerate*}\n"
      ],
      "text/markdown": [
       "1. beta\n",
       "2. alpha\n",
       "3. acinar\n",
       "4. delta\n",
       "5. gamma\n",
       "6. ductal\n",
       "7. immune\n",
       "8. stellate\n",
       "\n",
       "\n",
       "\n",
       "**Levels**: 1. 'beta'\n",
       "2. 'alpha'\n",
       "3. 'acinar'\n",
       "4. 'delta'\n",
       "5. 'gamma'\n",
       "6. 'ductal'\n",
       "7. 'immune'\n",
       "8. 'stellate'\n",
       "\n",
       "\n"
      ],
      "text/plain": [
       "[1] beta     alpha    acinar   delta    gamma    ductal   immune   stellate\n",
       "Levels: beta alpha acinar delta gamma ductal immune stellate"
      ]
     },
     "metadata": {},
     "output_type": "display_data"
    }
   ],
   "source": [
    "mac_frame$celltype"
   ]
  },
  {
   "cell_type": "code",
   "execution_count": 95,
   "id": "202bc7e8",
   "metadata": {
    "vscode": {
     "languageId": "r"
    }
   },
   "outputs": [
    {
     "data": {
      "image/png": "[encoded data removed]",
      "text/plain": [
       "plot without title"
      ]
     },
     "metadata": {
      "image/png": {
       "height": 240,
       "width": 360
      }
     },
     "output_type": "display_data"
    }
   ],
   "source": [
    "#library(ggplot2)\n",
    "\n",
    "options(repr.plot.width=6, repr.plot.height=4)\n",
    "\n",
    "ggplot(mac_frame, aes(y=counts, x=celltype, color)) + \n",
    "    geom_col() + \n",
    "    theme_classic() + \n",
    "    ylab('# Signficant caPeaks') +\n",
    "    xlab('Cell Type') +\n",
    "    "
   ]
  },
  {
   "cell_type": "code",
   "execution_count": 25,
   "id": "5f5881d7",
   "metadata": {
    "vscode": {
     "languageId": "r"
    }
   },
   "outputs": [
    {
     "data": {
      "text/html": [
       "<strong>png:</strong> 2"
      ],
      "text/latex": [
       "\\textbf{png:} 2"
      ],
      "text/markdown": [
       "**png:** 2"
      ],
      "text/plain": [
       "png \n",
       "  2 "
      ]
     },
     "metadata": {},
     "output_type": "display_data"
    }
   ],
   "source": [
    "pdf(\"/path/to/caQTL/stuff/figures/barplots_caqtlsums_run1F.pdf\")\n",
    "par(mfrow=c(2,2), las=1)\n",
    "bp<-barplot(mac, col= major_colors[names(mac)], border = F, xlim = c(0,6000), horiz = T)\n",
    "text(x=mac, y=bp, labels=mac)\n",
    "\n",
    "bp<-barplot(mac_bulk, col= major_colors[names(mac_bulk)], border = F, xlim = c(0,12000), horiz = T)\n",
    "text(x=mac_bulk, y=bp, labels=mac_bulk)\n",
    "#bp<-barplot(mic[rev(micro)], col= colors[rev(micro)], border = F, xlim = c(0,6000), horiz = T)\n",
    "#text(x=mic[rev(micro)], y=bp, labels=mic[rev(micro)])\n",
    "dev.off()"
   ]
  },
  {
   "cell_type": "markdown",
   "id": "56666965",
   "metadata": {},
   "source": [
    "### Celltype correlations of effects"
   ]
  },
  {
   "cell_type": "code",
   "execution_count": 26,
   "id": "42af5d85",
   "metadata": {
    "scrolled": true,
    "vscode": {
     "languageId": "r"
    }
   },
   "outputs": [
    {
     "data": {
      "text/html": [
       "<table class=\"dataframe\">\n",
       "<caption>A data.frame: 20 × 8</caption>\n",
       "<thead>\n",
       "\t<tr><th></th><th scope=col>V1</th><th scope=col>V2</th><th scope=col>V3</th><th scope=col>V4</th><th scope=col>V5</th><th scope=col>V6</th><th scope=col>V7</th><th scope=col>Peak</th></tr>\n",
       "\t<tr><th></th><th scope=col>&lt;chr&gt;</th><th scope=col>&lt;int&gt;</th><th scope=col>&lt;int&gt;</th><th scope=col>&lt;chr&gt;</th><th scope=col>&lt;int&gt;</th><th scope=col>&lt;int&gt;</th><th scope=col>&lt;chr&gt;</th><th scope=col>&lt;chr&gt;</th></tr>\n",
       "</thead>\n",
       "<tbody>\n",
       "\t<tr><th scope=row>1</th><td>chr1</td><td>  9912</td><td> 10689</td><td>chr1</td><td>  9912</td><td> 10612</td><td>acinar     </td><td>chr1:9912-10689   </td></tr>\n",
       "\t<tr><th scope=row>2</th><td>chr1</td><td>  9912</td><td> 10689</td><td>chr1</td><td>  9913</td><td> 10658</td><td>alpha      </td><td>chr1:9912-10689   </td></tr>\n",
       "\t<tr><th scope=row>3</th><td>chr1</td><td>  9912</td><td> 10689</td><td>chr1</td><td>  9913</td><td> 10663</td><td>beta       </td><td>chr1:9912-10689   </td></tr>\n",
       "\t<tr><th scope=row>4</th><td>chr1</td><td>  9912</td><td> 10689</td><td>chr1</td><td>  9913</td><td> 10689</td><td>delta      </td><td>chr1:9912-10689   </td></tr>\n",
       "\t<tr><th scope=row>5</th><td>chr1</td><td>  9912</td><td> 10689</td><td>chr1</td><td>  9913</td><td> 10643</td><td>ductal     </td><td>chr1:9912-10689   </td></tr>\n",
       "\t<tr><th scope=row>6</th><td>chr1</td><td>  9912</td><td> 10689</td><td>chr1</td><td>  9931</td><td> 10550</td><td>endothelial</td><td>chr1:9912-10689   </td></tr>\n",
       "\t<tr><th scope=row>7</th><td>chr1</td><td>  9912</td><td> 10689</td><td>chr1</td><td>  9919</td><td> 10684</td><td>gamma      </td><td>chr1:9912-10689   </td></tr>\n",
       "\t<tr><th scope=row>8</th><td>chr1</td><td>  9912</td><td> 10689</td><td>chr1</td><td>  9937</td><td> 10636</td><td>immune     </td><td>chr1:9912-10689   </td></tr>\n",
       "\t<tr><th scope=row>9</th><td>chr1</td><td>  9912</td><td> 10689</td><td>chr1</td><td>  9942</td><td> 10561</td><td>stellate   </td><td>chr1:9912-10689   </td></tr>\n",
       "\t<tr><th scope=row>10</th><td>chr1</td><td> 29218</td><td> 29497</td><td>chr1</td><td> 29218</td><td> 29482</td><td>acinar     </td><td>chr1:29218-29497  </td></tr>\n",
       "\t<tr><th scope=row>11</th><td>chr1</td><td> 29218</td><td> 29497</td><td>chr1</td><td> 29297</td><td> 29497</td><td>endothelial</td><td>chr1:29218-29497  </td></tr>\n",
       "\t<tr><th scope=row>12</th><td>chr1</td><td> 99525</td><td> 99851</td><td>chr1</td><td> 99525</td><td> 99851</td><td>acinar     </td><td>chr1:99525-99851  </td></tr>\n",
       "\t<tr><th scope=row>13</th><td>chr1</td><td>102751</td><td>103113</td><td>chr1</td><td>102751</td><td>103113</td><td>acinar     </td><td>chr1:102751-103113</td></tr>\n",
       "\t<tr><th scope=row>14</th><td>chr1</td><td>102751</td><td>103113</td><td>chr1</td><td>102844</td><td>103085</td><td>ductal     </td><td>chr1:102751-103113</td></tr>\n",
       "\t<tr><th scope=row>15</th><td>chr1</td><td>127650</td><td>127914</td><td>chr1</td><td>127650</td><td>127914</td><td>acinar     </td><td>chr1:127650-127914</td></tr>\n",
       "\t<tr><th scope=row>16</th><td>chr1</td><td>127650</td><td>127914</td><td>chr1</td><td>127657</td><td>127913</td><td>ductal     </td><td>chr1:127650-127914</td></tr>\n",
       "\t<tr><th scope=row>17</th><td>chr1</td><td>180676</td><td>181929</td><td>chr1</td><td>180682</td><td>181929</td><td>acinar     </td><td>chr1:180676-181929</td></tr>\n",
       "\t<tr><th scope=row>18</th><td>chr1</td><td>180676</td><td>181929</td><td>chr1</td><td>180738</td><td>181813</td><td>alpha      </td><td>chr1:180676-181929</td></tr>\n",
       "\t<tr><th scope=row>19</th><td>chr1</td><td>180676</td><td>181929</td><td>chr1</td><td>180676</td><td>181813</td><td>beta       </td><td>chr1:180676-181929</td></tr>\n",
       "\t<tr><th scope=row>20</th><td>chr1</td><td>180676</td><td>181929</td><td>chr1</td><td>180714</td><td>181888</td><td>delta      </td><td>chr1:180676-181929</td></tr>\n",
       "</tbody>\n",
       "</table>\n"
      ],
      "text/latex": [
       "A data.frame: 20 × 8\n",
       "\\begin{tabular}{r|llllllll}\n",
       "  & V1 & V2 & V3 & V4 & V5 & V6 & V7 & Peak\\\\\n",
       "  & <chr> & <int> & <int> & <chr> & <int> & <int> & <chr> & <chr>\\\\\n",
       "\\hline\n",
       "\t1 & chr1 &   9912 &  10689 & chr1 &   9912 &  10612 & acinar      & chr1:9912-10689   \\\\\n",
       "\t2 & chr1 &   9912 &  10689 & chr1 &   9913 &  10658 & alpha       & chr1:9912-10689   \\\\\n",
       "\t3 & chr1 &   9912 &  10689 & chr1 &   9913 &  10663 & beta        & chr1:9912-10689   \\\\\n",
       "\t4 & chr1 &   9912 &  10689 & chr1 &   9913 &  10689 & delta       & chr1:9912-10689   \\\\\n",
       "\t5 & chr1 &   9912 &  10689 & chr1 &   9913 &  10643 & ductal      & chr1:9912-10689   \\\\\n",
       "\t6 & chr1 &   9912 &  10689 & chr1 &   9931 &  10550 & endothelial & chr1:9912-10689   \\\\\n",
       "\t7 & chr1 &   9912 &  10689 & chr1 &   9919 &  10684 & gamma       & chr1:9912-10689   \\\\\n",
       "\t8 & chr1 &   9912 &  10689 & chr1 &   9937 &  10636 & immune      & chr1:9912-10689   \\\\\n",
       "\t9 & chr1 &   9912 &  10689 & chr1 &   9942 &  10561 & stellate    & chr1:9912-10689   \\\\\n",
       "\t10 & chr1 &  29218 &  29497 & chr1 &  29218 &  29482 & acinar      & chr1:29218-29497  \\\\\n",
       "\t11 & chr1 &  29218 &  29497 & chr1 &  29297 &  29497 & endothelial & chr1:29218-29497  \\\\\n",
       "\t12 & chr1 &  99525 &  99851 & chr1 &  99525 &  99851 & acinar      & chr1:99525-99851  \\\\\n",
       "\t13 & chr1 & 102751 & 103113 & chr1 & 102751 & 103113 & acinar      & chr1:102751-103113\\\\\n",
       "\t14 & chr1 & 102751 & 103113 & chr1 & 102844 & 103085 & ductal      & chr1:102751-103113\\\\\n",
       "\t15 & chr1 & 127650 & 127914 & chr1 & 127650 & 127914 & acinar      & chr1:127650-127914\\\\\n",
       "\t16 & chr1 & 127650 & 127914 & chr1 & 127657 & 127913 & ductal      & chr1:127650-127914\\\\\n",
       "\t17 & chr1 & 180676 & 181929 & chr1 & 180682 & 181929 & acinar      & chr1:180676-181929\\\\\n",
       "\t18 & chr1 & 180676 & 181929 & chr1 & 180738 & 181813 & alpha       & chr1:180676-181929\\\\\n",
       "\t19 & chr1 & 180676 & 181929 & chr1 & 180676 & 181813 & beta        & chr1:180676-181929\\\\\n",
       "\t20 & chr1 & 180676 & 181929 & chr1 & 180714 & 181888 & delta       & chr1:180676-181929\\\\\n",
       "\\end{tabular}\n"
      ],
      "text/markdown": [
       "\n",
       "A data.frame: 20 × 8\n",
       "\n",
       "| <!--/--> | V1 &lt;chr&gt; | V2 &lt;int&gt; | V3 &lt;int&gt; | V4 &lt;chr&gt; | V5 &lt;int&gt; | V6 &lt;int&gt; | V7 &lt;chr&gt; | Peak &lt;chr&gt; |\n",
       "|---|---|---|---|---|---|---|---|---|\n",
       "| 1 | chr1 |   9912 |  10689 | chr1 |   9912 |  10612 | acinar      | chr1:9912-10689    |\n",
       "| 2 | chr1 |   9912 |  10689 | chr1 |   9913 |  10658 | alpha       | chr1:9912-10689    |\n",
       "| 3 | chr1 |   9912 |  10689 | chr1 |   9913 |  10663 | beta        | chr1:9912-10689    |\n",
       "| 4 | chr1 |   9912 |  10689 | chr1 |   9913 |  10689 | delta       | chr1:9912-10689    |\n",
       "| 5 | chr1 |   9912 |  10689 | chr1 |   9913 |  10643 | ductal      | chr1:9912-10689    |\n",
       "| 6 | chr1 |   9912 |  10689 | chr1 |   9931 |  10550 | endothelial | chr1:9912-10689    |\n",
       "| 7 | chr1 |   9912 |  10689 | chr1 |   9919 |  10684 | gamma       | chr1:9912-10689    |\n",
       "| 8 | chr1 |   9912 |  10689 | chr1 |   9937 |  10636 | immune      | chr1:9912-10689    |\n",
       "| 9 | chr1 |   9912 |  10689 | chr1 |   9942 |  10561 | stellate    | chr1:9912-10689    |\n",
       "| 10 | chr1 |  29218 |  29497 | chr1 |  29218 |  29482 | acinar      | chr1:29218-29497   |\n",
       "| 11 | chr1 |  29218 |  29497 | chr1 |  29297 |  29497 | endothelial | chr1:29218-29497   |\n",
       "| 12 | chr1 |  99525 |  99851 | chr1 |  99525 |  99851 | acinar      | chr1:99525-99851   |\n",
       "| 13 | chr1 | 102751 | 103113 | chr1 | 102751 | 103113 | acinar      | chr1:102751-103113 |\n",
       "| 14 | chr1 | 102751 | 103113 | chr1 | 102844 | 103085 | ductal      | chr1:102751-103113 |\n",
       "| 15 | chr1 | 127650 | 127914 | chr1 | 127650 | 127914 | acinar      | chr1:127650-127914 |\n",
       "| 16 | chr1 | 127650 | 127914 | chr1 | 127657 | 127913 | ductal      | chr1:127650-127914 |\n",
       "| 17 | chr1 | 180676 | 181929 | chr1 | 180682 | 181929 | acinar      | chr1:180676-181929 |\n",
       "| 18 | chr1 | 180676 | 181929 | chr1 | 180738 | 181813 | alpha       | chr1:180676-181929 |\n",
       "| 19 | chr1 | 180676 | 181929 | chr1 | 180676 | 181813 | beta        | chr1:180676-181929 |\n",
       "| 20 | chr1 | 180676 | 181929 | chr1 | 180714 | 181888 | delta       | chr1:180676-181929 |\n",
       "\n"
      ],
      "text/plain": [
       "   V1   V2     V3     V4   V5     V6     V7          Peak              \n",
       "1  chr1   9912  10689 chr1   9912  10612 acinar      chr1:9912-10689   \n",
       "2  chr1   9912  10689 chr1   9913  10658 alpha       chr1:9912-10689   \n",
       "3  chr1   9912  10689 chr1   9913  10663 beta        chr1:9912-10689   \n",
       "4  chr1   9912  10689 chr1   9913  10689 delta       chr1:9912-10689   \n",
       "5  chr1   9912  10689 chr1   9913  10643 ductal      chr1:9912-10689   \n",
       "6  chr1   9912  10689 chr1   9931  10550 endothelial chr1:9912-10689   \n",
       "7  chr1   9912  10689 chr1   9919  10684 gamma       chr1:9912-10689   \n",
       "8  chr1   9912  10689 chr1   9937  10636 immune      chr1:9912-10689   \n",
       "9  chr1   9912  10689 chr1   9942  10561 stellate    chr1:9912-10689   \n",
       "10 chr1  29218  29497 chr1  29218  29482 acinar      chr1:29218-29497  \n",
       "11 chr1  29218  29497 chr1  29297  29497 endothelial chr1:29218-29497  \n",
       "12 chr1  99525  99851 chr1  99525  99851 acinar      chr1:99525-99851  \n",
       "13 chr1 102751 103113 chr1 102751 103113 acinar      chr1:102751-103113\n",
       "14 chr1 102751 103113 chr1 102844 103085 ductal      chr1:102751-103113\n",
       "15 chr1 127650 127914 chr1 127650 127914 acinar      chr1:127650-127914\n",
       "16 chr1 127650 127914 chr1 127657 127913 ductal      chr1:127650-127914\n",
       "17 chr1 180676 181929 chr1 180682 181929 acinar      chr1:180676-181929\n",
       "18 chr1 180676 181929 chr1 180738 181813 alpha       chr1:180676-181929\n",
       "19 chr1 180676 181929 chr1 180676 181813 beta        chr1:180676-181929\n",
       "20 chr1 180676 181929 chr1 180714 181888 delta       chr1:180676-181929"
      ]
     },
     "metadata": {},
     "output_type": "display_data"
    },
    {
     "data": {
      "text/html": [
       "<style>\n",
       ".list-inline {list-style: none; margin:0; padding: 0}\n",
       ".list-inline>li {display: inline-block}\n",
       ".list-inline>li:not(:last-child)::after {content: \"\\00b7\"; padding: 0 .5ex}\n",
       "</style>\n",
       "<ol class=list-inline><li>883312</li><li>8</li></ol>\n"
      ],
      "text/latex": [
       "\\begin{enumerate*}\n",
       "\\item 883312\n",
       "\\item 8\n",
       "\\end{enumerate*}\n"
      ],
      "text/markdown": [
       "1. 883312\n",
       "2. 8\n",
       "\n",
       "\n"
      ],
      "text/plain": [
       "[1] 883312      8"
      ]
     },
     "metadata": {},
     "output_type": "display_data"
    }
   ],
   "source": [
    "inter <- celltypes_no_bulk %>% \n",
    "    purrr::map_dfr(\\(x) cbind(\n",
    "        read.table(paste0(\"/path/to/peaks/recluster_final_majorCTs_v2/\",x,\".merged_peaks.anno.mergedOverlap.bed\")),\n",
    "        read.table(paste0(\"/path/to/peaks/recluster_final_majorCTs_v2/\",x,\".merged_peaks.anno.bed\"), col.names=c(\"V4\",\"V5\",\"V6\",\"V7\"))))\n",
    "\n",
    "inter <- dplyr::arrange(inter, V1, V2)\n",
    "\n",
    "inter$Peak = paste0(inter[,1], ':',inter[,2],'-' ,inter[,3])\n",
    "\n",
    "head(inter, n=20)\n",
    "dim(inter)"
   ]
  },
  {
   "cell_type": "code",
   "execution_count": 28,
   "id": "03bc2fb4",
   "metadata": {
    "vscode": {
     "languageId": "r"
    }
   },
   "outputs": [],
   "source": [
    "celltype_sel = celltypes_no_bulk\n",
    "\n",
    "cormat = matrix(NA, ncol=length(celltype_sel) , nrow=length(celltype_sel))\n",
    "rownames(cormat)= colnames(cormat) = celltype_sel\n",
    "\n",
    "wideFDR = spread(data = res[,c('feature_snp', 'cell', 'qtl')], key=cell, value =qtl )\n",
    "\n",
    "col = colorRampPalette(brewer.pal(9, \"Purples\"))(20)"
   ]
  },
  {
   "cell_type": "code",
   "execution_count": 29,
   "id": "225af2d9",
   "metadata": {
    "vscode": {
     "languageId": "r"
    }
   },
   "outputs": [],
   "source": [
    "celltype_sel <- celltype_sel[!(celltypes_no_bulk %in% c('endothelial','immune','stellate'))]"
   ]
  },
  {
   "cell_type": "code",
   "execution_count": 31,
   "id": "2681a5b3",
   "metadata": {
    "vscode": {
     "languageId": "r"
    }
   },
   "outputs": [
    {
     "data": {
      "text/html": [
       "'run1'"
      ],
      "text/latex": [
       "'run1'"
      ],
      "text/markdown": [
       "'run1'"
      ],
      "text/plain": [
       "[1] \"run1\""
      ]
     },
     "metadata": {},
     "output_type": "display_data"
    }
   ],
   "source": [
    "run"
   ]
  },
  {
   "cell_type": "code",
   "execution_count": 32,
   "id": "ca8d60ac",
   "metadata": {
    "vscode": {
     "languageId": "r"
    }
   },
   "outputs": [],
   "source": [
    "#for(c1 in celltype_sel[11:16]){\n",
    "for(c1 in celltype_sel){\n",
    "    \n",
    "a = suppressWarnings(fread(paste(c1,run, \"Results_run1F_all.tsv\", sep=\"/\"))) \n",
    "real = subset(inter, V7 ==c1)\n",
    "a = subset(a, Feature %in% real$Peak)\n",
    "\n",
    "    for(c2 in celltype_sel){\n",
    "\n",
    "b = suppressWarnings(fread(paste(c2,run, \"Results_run1F_all.tsv\", sep=\"/\"))) \n",
    "real = subset(inter, V7 ==c2)\n",
    "b = subset(b, Feature %in% real$Peak)\n",
    "\n",
    "a$feature_snp = paste(a$Feature, a$rsID, sep=\"_\")\n",
    "b$feature_snp = paste(b$Feature, b$rsID, sep=\"_\")\n",
    "\n",
    "m = merge(a[,c('feature_snp',\"Feature\",\"P_VAl\" ,'Effect_size')] , b[,c('feature_snp','Effect_size',\"P_VAl\")], by=\"feature_snp\")\n",
    "\n",
    "sig = unique(na.omit(c(wideFDR$feature_snp[wideFDR[,c1]==TRUE], \n",
    "                       wideFDR$feature_snp[wideFDR[,c2]==TRUE] )))\n",
    "\n",
    "m      = subset(m, feature_snp %in% sig)\n",
    "m$minP = apply(m[,c(\"P_VAl.x\", \"P_VAl.y\")],1,min)\n",
    "m      = m[order(m$minP),]\n",
    "m      = m [!duplicated(m$Feature),]\n",
    "\n",
    "cormat[c1,c2] = suppressWarnings(cor.test(m$Effect_size.x, m$Effect_size.y, method = \"spearman\")$estimate)\n",
    "        }\n",
    "    }"
   ]
  },
  {
   "cell_type": "code",
   "execution_count": 34,
   "id": "678be7f0",
   "metadata": {
    "vscode": {
     "languageId": "r"
    }
   },
   "outputs": [
    {
     "data": {
      "text/html": [
       "<table class=\"dataframe\">\n",
       "<caption>A matrix: 6 × 6 of type dbl</caption>\n",
       "<thead>\n",
       "\t<tr><th></th><th scope=col>acinar</th><th scope=col>alpha</th><th scope=col>beta</th><th scope=col>delta</th><th scope=col>ductal</th><th scope=col>gamma</th></tr>\n",
       "</thead>\n",
       "<tbody>\n",
       "\t<tr><th scope=row>acinar</th><td>1.0000000</td><td>0.6539707</td><td>0.6396179</td><td>0.6203501</td><td>0.7004026</td><td>0.6237782</td></tr>\n",
       "\t<tr><th scope=row>alpha</th><td>0.6539707</td><td>1.0000000</td><td>0.8030354</td><td>0.8080954</td><td>0.6450279</td><td>0.7856542</td></tr>\n",
       "\t<tr><th scope=row>beta</th><td>0.6396179</td><td>0.8030354</td><td>1.0000000</td><td>0.8177342</td><td>0.6124911</td><td>0.7763578</td></tr>\n",
       "\t<tr><th scope=row>delta</th><td>0.6203501</td><td>0.8080954</td><td>0.8177342</td><td>1.0000000</td><td>0.6181023</td><td>0.7414448</td></tr>\n",
       "\t<tr><th scope=row>ductal</th><td>0.7004026</td><td>0.6450279</td><td>0.6124911</td><td>0.6181023</td><td>1.0000000</td><td>0.6637096</td></tr>\n",
       "\t<tr><th scope=row>gamma</th><td>0.6237782</td><td>0.7856542</td><td>0.7763578</td><td>0.7414448</td><td>0.6637096</td><td>1.0000000</td></tr>\n",
       "</tbody>\n",
       "</table>\n"
      ],
      "text/latex": [
       "A matrix: 6 × 6 of type dbl\n",
       "\\begin{tabular}{r|llllll}\n",
       "  & acinar & alpha & beta & delta & ductal & gamma\\\\\n",
       "\\hline\n",
       "\tacinar & 1.0000000 & 0.6539707 & 0.6396179 & 0.6203501 & 0.7004026 & 0.6237782\\\\\n",
       "\talpha & 0.6539707 & 1.0000000 & 0.8030354 & 0.8080954 & 0.6450279 & 0.7856542\\\\\n",
       "\tbeta & 0.6396179 & 0.8030354 & 1.0000000 & 0.8177342 & 0.6124911 & 0.7763578\\\\\n",
       "\tdelta & 0.6203501 & 0.8080954 & 0.8177342 & 1.0000000 & 0.6181023 & 0.7414448\\\\\n",
       "\tductal & 0.7004026 & 0.6450279 & 0.6124911 & 0.6181023 & 1.0000000 & 0.6637096\\\\\n",
       "\tgamma & 0.6237782 & 0.7856542 & 0.7763578 & 0.7414448 & 0.6637096 & 1.0000000\\\\\n",
       "\\end{tabular}\n"
      ],
      "text/markdown": [
       "\n",
       "A matrix: 6 × 6 of type dbl\n",
       "\n",
       "| <!--/--> | acinar | alpha | beta | delta | ductal | gamma |\n",
       "|---|---|---|---|---|---|---|\n",
       "| acinar | 1.0000000 | 0.6539707 | 0.6396179 | 0.6203501 | 0.7004026 | 0.6237782 |\n",
       "| alpha | 0.6539707 | 1.0000000 | 0.8030354 | 0.8080954 | 0.6450279 | 0.7856542 |\n",
       "| beta | 0.6396179 | 0.8030354 | 1.0000000 | 0.8177342 | 0.6124911 | 0.7763578 |\n",
       "| delta | 0.6203501 | 0.8080954 | 0.8177342 | 1.0000000 | 0.6181023 | 0.7414448 |\n",
       "| ductal | 0.7004026 | 0.6450279 | 0.6124911 | 0.6181023 | 1.0000000 | 0.6637096 |\n",
       "| gamma | 0.6237782 | 0.7856542 | 0.7763578 | 0.7414448 | 0.6637096 | 1.0000000 |\n",
       "\n"
      ],
      "text/plain": [
       "       acinar    alpha     beta      delta     ductal    gamma    \n",
       "acinar 1.0000000 0.6539707 0.6396179 0.6203501 0.7004026 0.6237782\n",
       "alpha  0.6539707 1.0000000 0.8030354 0.8080954 0.6450279 0.7856542\n",
       "beta   0.6396179 0.8030354 1.0000000 0.8177342 0.6124911 0.7763578\n",
       "delta  0.6203501 0.8080954 0.8177342 1.0000000 0.6181023 0.7414448\n",
       "ductal 0.7004026 0.6450279 0.6124911 0.6181023 1.0000000 0.6637096\n",
       "gamma  0.6237782 0.7856542 0.7763578 0.7414448 0.6637096 1.0000000"
      ]
     },
     "metadata": {},
     "output_type": "display_data"
    }
   ],
   "source": [
    "cormat <- cormat[celltype_sel,celltype_sel]\n",
    "cormat"
   ]
  },
  {
   "cell_type": "code",
   "execution_count": null,
   "id": "9771862b",
   "metadata": {
    "vscode": {
     "languageId": "r"
    }
   },
   "outputs": [],
   "source": [
    "getwd()"
   ]
  },
  {
   "cell_type": "code",
   "execution_count": 37,
   "id": "c5933cd9",
   "metadata": {
    "vscode": {
     "languageId": "r"
    }
   },
   "outputs": [],
   "source": [
    "write.csv(cormat, \"effect_correlation_run1F.csv\")"
   ]
  },
  {
   "cell_type": "code",
   "execution_count": 87,
   "id": "08ff287b",
   "metadata": {
    "vscode": {
     "languageId": "r"
    }
   },
   "outputs": [],
   "source": [
    "#cormat_macro = cormat[macro,macro]\n",
    "#cormat_micro = cormat[micro,micro]"
   ]
  },
  {
   "cell_type": "code",
   "execution_count": 36,
   "id": "13ad7738",
   "metadata": {
    "vscode": {
     "languageId": "r"
    }
   },
   "outputs": [],
   "source": [
    "col = colorRampPalette(brewer.pal(9, \"Purples\"))(20)"
   ]
  },
  {
   "cell_type": "code",
   "execution_count": 38,
   "id": "23429b98",
   "metadata": {
    "vscode": {
     "languageId": "r"
    }
   },
   "outputs": [],
   "source": [
    "#pheatmap(cormat_macro, \n",
    "#         col=col, cellwidth = 20, cellheight = 20, display_numbers = round(cormat_macro,2), number_color = \"white\",\n",
    "#         angle_col = 45, \n",
    "#     file = \"/path/to/caQTL/stuff/figures/heatmap_corr_effects_macro_run3F.pdf\"\n",
    "#          ,breaks = seq(0,1,0.05)\n",
    "#        )\n",
    "#pheatmap(cormat_micro, col=col, cellwidth = 20, cellheight = 20, display_numbers = round(cormat_micro,2), number_color = \"white\",\n",
    "#         angle_col = 45, \n",
    "#     file = \"../figures/heatmap_corr_effects_micro_run3F.pdf\"\n",
    "#          ,breaks = seq(0,1,0.05)\n",
    "#        )\n",
    "#pheatmap(cormat[micro,macro] ,cluster_rows = T,cluster_cols = T,\n",
    "#         col=col, cellwidth = 20, cellheight = 20, \n",
    "#         display_numbers = round(cormat[micro,macro],2), number_color = \"white\",\n",
    "#         angle_col = 45, \n",
    "#     file = \"../figures/heatmap_corr_effects_micromacro_run3F.pdf\"\n",
    "#          ,breaks = seq(0,1,0.05)\n",
    "#        )\n",
    "#\n",
    "pheatmap(cormat ,cluster_rows = T,cluster_cols = T,\n",
    "         col=col, cellwidth = 20, cellheight = 20, \n",
    "         display_numbers = round(cormat,2), number_color = \"white\",\n",
    "         angle_col = 45, \n",
    "     file = \"/path/to/caQTL/stuff/figures/heatmap_corr_effects_all_run1F.pdf\"\n",
    "          ,breaks = seq(0,1,0.05)\n",
    "        )\n",
    "\n",
    "p1 <- pheatmap(cormat ,cluster_rows = T,cluster_cols = T,\n",
    "         col=col, cellwidth = 20, cellheight = 20, \n",
    "         display_numbers = round(cormat,2), number_color = \"white\",\n",
    "         angle_col = 45, \n",
    "     #file = \"/path/to/caQTL/stuff/figures/heatmap_corr_effects_all_run7F.pdf\"\n",
    "          ,breaks = seq(0,1,0.05)\n",
    "        )\n",
    "\n",
    "print(p1)"
   ]
  },
  {
   "cell_type": "code",
   "execution_count": 39,
   "id": "3b97fa20",
   "metadata": {
    "vscode": {
     "languageId": "r"
    }
   },
   "outputs": [
    {
     "data": {
      "image/png": "[encoded data removed]",
      "text/plain": [
       "plot without title"
      ]
     },
     "metadata": {
      "image/png": {
       "height": 420,
       "width": 420
      }
     },
     "output_type": "display_data"
    }
   ],
   "source": [
    "pheatmap(cormat ,cluster_rows = T,cluster_cols = T,\n",
    "         col=col, cellwidth = 20, cellheight = 20, \n",
    "         display_numbers = round(cormat,2), number_color = \"white\",\n",
    "         angle_col = 45, \n",
    "     #file = \"/path/to/caQTL/stuff/figures/heatmap_corr_effects_all_run7F.pdf\"\n",
    "          ,breaks = seq(0,1,0.05)\n",
    "        )"
   ]
  },
  {
   "cell_type": "code",
   "execution_count": 40,
   "id": "0a312225",
   "metadata": {
    "vscode": {
     "languageId": "r"
    }
   },
   "outputs": [
    {
     "data": {
      "text/plain": [
       "   Min. 1st Qu.  Median    Mean 3rd Qu.    Max. \n",
       " 0.6125  0.6317  0.6637  0.7007  0.7810  0.8177 "
      ]
     },
     "metadata": {},
     "output_type": "display_data"
    }
   ],
   "source": [
    "summary(cormat[upper.tri(cormat)]) "
   ]
  },
  {
   "cell_type": "markdown",
   "id": "bb674fec",
   "metadata": {},
   "source": [
    "### Shared caQTLs"
   ]
  },
  {
   "cell_type": "code",
   "execution_count": 41,
   "id": "58f0602c",
   "metadata": {
    "vscode": {
     "languageId": "r"
    }
   },
   "outputs": [],
   "source": [
    "wide =  spread(data = RES[,c('Feature', 'cell', 'qtl')], key=cell, value =qtl )"
   ]
  },
  {
   "cell_type": "code",
   "execution_count": 42,
   "id": "aa29bc8d",
   "metadata": {
    "vscode": {
     "languageId": "r"
    }
   },
   "outputs": [],
   "source": [
    "tab = rowSums(wide[,macro],na.rm=T)\n",
    "tab[tab>=6] = '6+'\n",
    "b=table(tab)[-1]\n",
    "#tabm = rowSums(wide[,micro],na.rm=T)\n",
    "#tabm[tabm>=6] = '6+'\n",
    "#bm=table(tabm)[-1]\n",
    "taba = rowSums(wide[,celltype_sel],na.rm=T)\n",
    "taba[taba>=6] = '6+'\n",
    "ba=table(taba)[-1]\n"
   ]
  },
  {
   "cell_type": "code",
   "execution_count": 43,
   "id": "d3b1e7bb",
   "metadata": {
    "vscode": {
     "languageId": "r"
    }
   },
   "outputs": [
    {
     "data": {
      "text/plain": [
       "NULL"
      ]
     },
     "metadata": {},
     "output_type": "display_data"
    },
    {
     "data": {
      "text/html": [
       "<style>\n",
       ".list-inline {list-style: none; margin:0; padding: 0}\n",
       ".list-inline>li {display: inline-block}\n",
       ".list-inline>li:not(:last-child)::after {content: \"\\00b7\"; padding: 0 .5ex}\n",
       "</style>\n",
       "<ol class=list-inline><li>'0'</li><li>'0'</li><li>'0'</li><li>'0'</li><li>'0'</li><li>'0'</li></ol>\n"
      ],
      "text/latex": [
       "\\begin{enumerate*}\n",
       "\\item '0'\n",
       "\\item '0'\n",
       "\\item '0'\n",
       "\\item '0'\n",
       "\\item '0'\n",
       "\\item '0'\n",
       "\\end{enumerate*}\n"
      ],
      "text/markdown": [
       "1. '0'\n",
       "2. '0'\n",
       "3. '0'\n",
       "4. '0'\n",
       "5. '0'\n",
       "6. '0'\n",
       "\n",
       "\n"
      ],
      "text/plain": [
       "[1] \"0\" \"0\" \"0\" \"0\" \"0\" \"0\""
      ]
     },
     "metadata": {},
     "output_type": "display_data"
    },
    {
     "data": {
      "text/html": [
       "6"
      ],
      "text/latex": [
       "6"
      ],
      "text/markdown": [
       "6"
      ],
      "text/plain": [
       "[1] 6"
      ]
     },
     "metadata": {},
     "output_type": "display_data"
    },
    {
     "data": {
      "text/plain": [
       "tab\n",
       "   1    2    3    4    5   6+ \n",
       "6698 1854  625  243   93   32 "
      ]
     },
     "metadata": {},
     "output_type": "display_data"
    },
    {
     "data": {
      "text/plain": [
       "NULL"
      ]
     },
     "metadata": {},
     "output_type": "display_data"
    },
    {
     "data": {
      "text/html": [
       "<style>\n",
       ".list-inline {list-style: none; margin:0; padding: 0}\n",
       ".list-inline>li {display: inline-block}\n",
       ".list-inline>li:not(:last-child)::after {content: \"\\00b7\"; padding: 0 .5ex}\n",
       "</style>\n",
       "<ol class=list-inline><li>'0'</li><li>'0'</li><li>'0'</li><li>'0'</li><li>'0'</li><li>'0'</li></ol>\n"
      ],
      "text/latex": [
       "\\begin{enumerate*}\n",
       "\\item '0'\n",
       "\\item '0'\n",
       "\\item '0'\n",
       "\\item '0'\n",
       "\\item '0'\n",
       "\\item '0'\n",
       "\\end{enumerate*}\n"
      ],
      "text/markdown": [
       "1. '0'\n",
       "2. '0'\n",
       "3. '0'\n",
       "4. '0'\n",
       "5. '0'\n",
       "6. '0'\n",
       "\n",
       "\n"
      ],
      "text/plain": [
       "[1] \"0\" \"0\" \"0\" \"0\" \"0\" \"0\""
      ]
     },
     "metadata": {},
     "output_type": "display_data"
    },
    {
     "data": {
      "text/html": [
       "6"
      ],
      "text/latex": [
       "6"
      ],
      "text/markdown": [
       "6"
      ],
      "text/plain": [
       "[1] 6"
      ]
     },
     "metadata": {},
     "output_type": "display_data"
    },
    {
     "data": {
      "text/plain": [
       "taba\n",
       "   1    2    3    4    5   6+ \n",
       "6697 1855  625  242   93   32 "
      ]
     },
     "metadata": {},
     "output_type": "display_data"
    }
   ],
   "source": [
    "dim(tab)\n",
    "head(tab)\n",
    "\n",
    "dim(b)\n",
    "head(b)\n",
    "\n",
    "dim(taba)\n",
    "head(taba)\n",
    "\n",
    "dim(ba)\n",
    "head(ba)"
   ]
  },
  {
   "cell_type": "code",
   "execution_count": 44,
   "id": "115d041c",
   "metadata": {
    "vscode": {
     "languageId": "r"
    }
   },
   "outputs": [
    {
     "data": {
      "image/png": "[encoded data removed]",
      "text/plain": [
       "plot without title"
      ]
     },
     "metadata": {
      "image/png": {
       "height": 180,
       "width": 600
      }
     },
     "output_type": "display_data"
    }
   ],
   "source": [
    "options(repr.plot.width=10, repr.plot.height=3)\n",
    "par(mfrow=c(1,3), las=1)\n",
    "barplot(b /1000,  xlab=\"#cell types with same caQTL\",     ylab=\"#caQTLs x 1e3\", ylim=c(0,10))\n",
    "#barplot(bm/1000, xlab=\"#cell sub-types with same caQTL\", ylab=\"#caQTLs x 1e3\", ylim=c(0,10))\n",
    "barplot(ba/1000, xlab=\"#cell types and sub-types with same caQTL\", ylab=\"#caQTLs x 1e3\", ylim=c(0,10))\n"
   ]
  },
  {
   "cell_type": "code",
   "execution_count": 45,
   "id": "065d4ae6",
   "metadata": {
    "vscode": {
     "languageId": "r"
    }
   },
   "outputs": [
    {
     "data": {
      "image/png": "[encoded data removed]",
      "text/plain": [
       "plot without title"
      ]
     },
     "metadata": {
      "image/png": {
       "height": 180,
       "width": 600
      }
     },
     "output_type": "display_data"
    }
   ],
   "source": [
    "options(repr.plot.width=10, repr.plot.height=3)\n",
    "par(mfrow=c(1,3), las=1)\n",
    "barplot(b /1000,  xlab=\"#cell types with same caQTL\",     ylab=\"#caQTLs x 1e3\", ylim=c(0,10))\n",
    "#barplot(bm/1000, xlab=\"#cell sub-types with same caQTL\", ylab=\"#caQTLs x 1e3\", ylim=c(0,10))\n",
    "#barplot(ba/1000, xlab=\"#cell types and sub-types with same caQTL\", ylab=\"#caQTLs x 1e3\", ylim=c(0,10))\n"
   ]
  },
  {
   "cell_type": "code",
   "execution_count": 46,
   "id": "e2e09059",
   "metadata": {
    "vscode": {
     "languageId": "r"
    }
   },
   "outputs": [],
   "source": [
    "uniq = subset(wide, rowSums(wide[,celltype_sel],na.rm=T)==1)"
   ]
  },
  {
   "cell_type": "code",
   "execution_count": 47,
   "id": "307fb6ef",
   "metadata": {
    "scrolled": true,
    "vscode": {
     "languageId": "r"
    }
   },
   "outputs": [
    {
     "data": {
      "text/html": [
       "<table class=\"dataframe\">\n",
       "<caption>A data.frame: 6697 × 11</caption>\n",
       "<thead>\n",
       "\t<tr><th></th><th scope=col>Feature</th><th scope=col>acinar</th><th scope=col>alpha</th><th scope=col>beta</th><th scope=col>bulk</th><th scope=col>delta</th><th scope=col>ductal</th><th scope=col>endothelial</th><th scope=col>gamma</th><th scope=col>immune</th><th scope=col>stellate</th></tr>\n",
       "\t<tr><th></th><th scope=col>&lt;chr&gt;</th><th scope=col>&lt;lgl&gt;</th><th scope=col>&lt;lgl&gt;</th><th scope=col>&lt;lgl&gt;</th><th scope=col>&lt;lgl&gt;</th><th scope=col>&lt;lgl&gt;</th><th scope=col>&lt;lgl&gt;</th><th scope=col>&lt;lgl&gt;</th><th scope=col>&lt;lgl&gt;</th><th scope=col>&lt;lgl&gt;</th><th scope=col>&lt;lgl&gt;</th></tr>\n",
       "</thead>\n",
       "<tbody>\n",
       "\t<tr><th scope=row>16</th><td>chr1:100230079-100230551</td><td>   NA</td><td>FALSE</td><td> TRUE</td><td> TRUE</td><td>   NA</td><td>   NA</td><td>NA</td><td>FALSE</td><td>   NA</td><td>   NA</td></tr>\n",
       "\t<tr><th scope=row>35</th><td>chr1:100414592-100415141</td><td>   NA</td><td>   NA</td><td> TRUE</td><td> TRUE</td><td>FALSE</td><td>   NA</td><td>NA</td><td>   NA</td><td>   NA</td><td>   NA</td></tr>\n",
       "\t<tr><th scope=row>36</th><td>chr1:100419054-100419666</td><td>   NA</td><td>   NA</td><td> TRUE</td><td> TRUE</td><td>   NA</td><td>   NA</td><td>NA</td><td>   NA</td><td>   NA</td><td>   NA</td></tr>\n",
       "\t<tr><th scope=row>80</th><td>chr1:100794556-100795689</td><td>   NA</td><td>FALSE</td><td> TRUE</td><td>FALSE</td><td>FALSE</td><td>   NA</td><td>NA</td><td>   NA</td><td>   NA</td><td>   NA</td></tr>\n",
       "\t<tr><th scope=row>134</th><td>chr1:101371181-101371798</td><td>FALSE</td><td>FALSE</td><td> TRUE</td><td> TRUE</td><td>   NA</td><td>   NA</td><td>NA</td><td>   NA</td><td>   NA</td><td>   NA</td></tr>\n",
       "\t<tr><th scope=row>473</th><td>chr1:108199202-108201089</td><td>FALSE</td><td>FALSE</td><td>FALSE</td><td> TRUE</td><td> TRUE</td><td>FALSE</td><td>NA</td><td>FALSE</td><td>FALSE</td><td>FALSE</td></tr>\n",
       "\t<tr><th scope=row>518</th><td>chr1:108738135-108738561</td><td>   NA</td><td>FALSE</td><td> TRUE</td><td> TRUE</td><td>   NA</td><td>   NA</td><td>NA</td><td>   NA</td><td>   NA</td><td>   NA</td></tr>\n",
       "\t<tr><th scope=row>580</th><td>chr1:109239486-109241167</td><td>FALSE</td><td>FALSE</td><td> TRUE</td><td> TRUE</td><td>FALSE</td><td>FALSE</td><td>NA</td><td>FALSE</td><td>   NA</td><td>   NA</td></tr>\n",
       "\t<tr><th scope=row>596</th><td>chr1:109306748-109308049</td><td>FALSE</td><td>FALSE</td><td> TRUE</td><td> TRUE</td><td>FALSE</td><td>   NA</td><td>NA</td><td>FALSE</td><td>   NA</td><td>   NA</td></tr>\n",
       "\t<tr><th scope=row>631</th><td>chr1:109508869-109510626</td><td> TRUE</td><td>FALSE</td><td>FALSE</td><td>FALSE</td><td>FALSE</td><td>FALSE</td><td>NA</td><td>FALSE</td><td>   NA</td><td>   NA</td></tr>\n",
       "\t<tr><th scope=row>671</th><td>chr1:109667745-109668782</td><td>FALSE</td><td>FALSE</td><td> TRUE</td><td>FALSE</td><td>FALSE</td><td>FALSE</td><td>NA</td><td>FALSE</td><td>   NA</td><td>   NA</td></tr>\n",
       "\t<tr><th scope=row>697</th><td>chr1:10979481-10980720  </td><td>FALSE</td><td>FALSE</td><td> TRUE</td><td> TRUE</td><td>FALSE</td><td>FALSE</td><td>NA</td><td>   NA</td><td>   NA</td><td>   NA</td></tr>\n",
       "\t<tr><th scope=row>711</th><td>chr1:10986185-10986703  </td><td> TRUE</td><td>   NA</td><td>   NA</td><td> TRUE</td><td>   NA</td><td>   NA</td><td>NA</td><td>   NA</td><td>   NA</td><td>   NA</td></tr>\n",
       "\t<tr><th scope=row>804</th><td>chr1:110249371-110250520</td><td>   NA</td><td>FALSE</td><td> TRUE</td><td> TRUE</td><td>FALSE</td><td>   NA</td><td>NA</td><td>FALSE</td><td>   NA</td><td>   NA</td></tr>\n",
       "\t<tr><th scope=row>811</th><td>chr1:110293715-110294046</td><td>   NA</td><td> TRUE</td><td>   NA</td><td>FALSE</td><td>FALSE</td><td>   NA</td><td>NA</td><td>   NA</td><td>   NA</td><td>   NA</td></tr>\n",
       "\t<tr><th scope=row>815</th><td>chr1:110309118-110310731</td><td>FALSE</td><td>FALSE</td><td> TRUE</td><td> TRUE</td><td>FALSE</td><td>FALSE</td><td>NA</td><td>FALSE</td><td>   NA</td><td>FALSE</td></tr>\n",
       "\t<tr><th scope=row>827</th><td>chr1:11037604-11038131  </td><td> TRUE</td><td>FALSE</td><td>FALSE</td><td>FALSE</td><td>FALSE</td><td>FALSE</td><td>NA</td><td>FALSE</td><td>   NA</td><td>   NA</td></tr>\n",
       "\t<tr><th scope=row>874</th><td>chr1:110605935-110608116</td><td> TRUE</td><td>FALSE</td><td>FALSE</td><td> TRUE</td><td>FALSE</td><td>FALSE</td><td>NA</td><td>FALSE</td><td>   NA</td><td>   NA</td></tr>\n",
       "\t<tr><th scope=row>886</th><td>chr1:110674038-110675848</td><td>FALSE</td><td> TRUE</td><td>FALSE</td><td>FALSE</td><td>FALSE</td><td>FALSE</td><td>NA</td><td>FALSE</td><td>   NA</td><td>   NA</td></tr>\n",
       "\t<tr><th scope=row>903</th><td>chr1:110764493-110764803</td><td>   NA</td><td>   NA</td><td> TRUE</td><td>FALSE</td><td>   NA</td><td>   NA</td><td>NA</td><td>   NA</td><td>   NA</td><td>   NA</td></tr>\n",
       "\t<tr><th scope=row>1031</th><td>chr1:111904269-111905797</td><td>   NA</td><td>FALSE</td><td> TRUE</td><td> TRUE</td><td>FALSE</td><td>   NA</td><td>NA</td><td>FALSE</td><td>   NA</td><td>   NA</td></tr>\n",
       "\t<tr><th scope=row>1033</th><td>chr1:111912060-111912639</td><td>   NA</td><td>FALSE</td><td> TRUE</td><td> TRUE</td><td>FALSE</td><td>   NA</td><td>NA</td><td>   NA</td><td>   NA</td><td>   NA</td></tr>\n",
       "\t<tr><th scope=row>1048</th><td>chr1:111988867-111991787</td><td>FALSE</td><td>FALSE</td><td> TRUE</td><td>FALSE</td><td>FALSE</td><td>FALSE</td><td>NA</td><td>FALSE</td><td>   NA</td><td>FALSE</td></tr>\n",
       "\t<tr><th scope=row>1084</th><td>chr1:112358679-112359554</td><td>FALSE</td><td> TRUE</td><td>FALSE</td><td>FALSE</td><td>FALSE</td><td>   NA</td><td>NA</td><td>FALSE</td><td>   NA</td><td>   NA</td></tr>\n",
       "\t<tr><th scope=row>1150</th><td>chr1:112793914-112794437</td><td> TRUE</td><td>   NA</td><td>   NA</td><td> TRUE</td><td>   NA</td><td>   NA</td><td>NA</td><td>   NA</td><td>   NA</td><td>   NA</td></tr>\n",
       "\t<tr><th scope=row>1246</th><td>chr1:113674246-113675358</td><td>FALSE</td><td>FALSE</td><td> TRUE</td><td> TRUE</td><td>FALSE</td><td>   NA</td><td>NA</td><td>FALSE</td><td>   NA</td><td>   NA</td></tr>\n",
       "\t<tr><th scope=row>1262</th><td>chr1:113786082-113786427</td><td>   NA</td><td>   NA</td><td> TRUE</td><td> TRUE</td><td>   NA</td><td>   NA</td><td>NA</td><td>   NA</td><td>   NA</td><td>   NA</td></tr>\n",
       "\t<tr><th scope=row>1335</th><td>chr1:114294121-114294798</td><td>   NA</td><td> TRUE</td><td>FALSE</td><td> TRUE</td><td>   NA</td><td>   NA</td><td>NA</td><td>   NA</td><td>   NA</td><td>   NA</td></tr>\n",
       "\t<tr><th scope=row>1404</th><td>chr1:115088563-115090936</td><td>FALSE</td><td>FALSE</td><td> TRUE</td><td> TRUE</td><td>FALSE</td><td>FALSE</td><td>NA</td><td>FALSE</td><td>   NA</td><td>   NA</td></tr>\n",
       "\t<tr><th scope=row>1519</th><td>chr1:11588647-11589189  </td><td>   NA</td><td>   NA</td><td> TRUE</td><td> TRUE</td><td>   NA</td><td>   NA</td><td>NA</td><td>   NA</td><td>   NA</td><td>   NA</td></tr>\n",
       "\t<tr><th scope=row>⋮</th><td>⋮</td><td>⋮</td><td>⋮</td><td>⋮</td><td>⋮</td><td>⋮</td><td>⋮</td><td>⋮</td><td>⋮</td><td>⋮</td><td>⋮</td></tr>\n",
       "\t<tr><th scope=row>251160</th><td>chr9:92770399-92771112</td><td>FALSE</td><td>FALSE</td><td> TRUE</td><td>FALSE</td><td>FALSE</td><td>   NA</td><td>   NA</td><td>FALSE</td><td>   NA</td><td>   NA</td></tr>\n",
       "\t<tr><th scope=row>251187</th><td>chr9:93024266-93024598</td><td>   NA</td><td>   NA</td><td> TRUE</td><td>FALSE</td><td>   NA</td><td>   NA</td><td>   NA</td><td>   NA</td><td>   NA</td><td>   NA</td></tr>\n",
       "\t<tr><th scope=row>251200</th><td>chr9:93095254-93096778</td><td>FALSE</td><td>FALSE</td><td> TRUE</td><td> TRUE</td><td>FALSE</td><td>FALSE</td><td>FALSE</td><td>FALSE</td><td>FALSE</td><td>FALSE</td></tr>\n",
       "\t<tr><th scope=row>251235</th><td>chr9:93223149-93223750</td><td> TRUE</td><td>   NA</td><td>   NA</td><td> TRUE</td><td>   NA</td><td>FALSE</td><td>   NA</td><td>   NA</td><td>   NA</td><td>   NA</td></tr>\n",
       "\t<tr><th scope=row>251237</th><td>chr9:93230239-93231938</td><td> TRUE</td><td>FALSE</td><td>   NA</td><td> TRUE</td><td>FALSE</td><td>FALSE</td><td>   NA</td><td>FALSE</td><td>   NA</td><td>   NA</td></tr>\n",
       "\t<tr><th scope=row>251242</th><td>chr9:93262409-93263457</td><td>FALSE</td><td>FALSE</td><td> TRUE</td><td> TRUE</td><td>FALSE</td><td>FALSE</td><td>   NA</td><td>FALSE</td><td>   NA</td><td>   NA</td></tr>\n",
       "\t<tr><th scope=row>251276</th><td>chr9:9356221-9356704  </td><td>   NA</td><td>FALSE</td><td> TRUE</td><td> TRUE</td><td>   NA</td><td>   NA</td><td>   NA</td><td>   NA</td><td>   NA</td><td>   NA</td></tr>\n",
       "\t<tr><th scope=row>251361</th><td>chr9:94554109-94555292</td><td>FALSE</td><td>FALSE</td><td> TRUE</td><td>FALSE</td><td>FALSE</td><td>FALSE</td><td>   NA</td><td>FALSE</td><td>   NA</td><td>   NA</td></tr>\n",
       "\t<tr><th scope=row>251364</th><td>chr9:94593411-94594394</td><td> TRUE</td><td>   NA</td><td>   NA</td><td> TRUE</td><td>   NA</td><td>   NA</td><td>   NA</td><td>   NA</td><td>   NA</td><td>   NA</td></tr>\n",
       "\t<tr><th scope=row>251523</th><td>chr9:9534031-9534586  </td><td>   NA</td><td> TRUE</td><td>FALSE</td><td> TRUE</td><td>FALSE</td><td>   NA</td><td>   NA</td><td>   NA</td><td>   NA</td><td>   NA</td></tr>\n",
       "\t<tr><th scope=row>251528</th><td>chr9:9536416-9537474  </td><td>FALSE</td><td> TRUE</td><td>FALSE</td><td>FALSE</td><td>FALSE</td><td>   NA</td><td>   NA</td><td>   NA</td><td>   NA</td><td>   NA</td></tr>\n",
       "\t<tr><th scope=row>251537</th><td>chr9:95462359-95463313</td><td>   NA</td><td>FALSE</td><td> TRUE</td><td> TRUE</td><td>FALSE</td><td>FALSE</td><td>   NA</td><td>FALSE</td><td>   NA</td><td>   NA</td></tr>\n",
       "\t<tr><th scope=row>251565</th><td>chr9:95688818-95690418</td><td>   NA</td><td>FALSE</td><td>   NA</td><td> TRUE</td><td> TRUE</td><td>   NA</td><td>   NA</td><td>   NA</td><td>   NA</td><td>   NA</td></tr>\n",
       "\t<tr><th scope=row>251599</th><td>chr9:9606506-9607259  </td><td>FALSE</td><td>FALSE</td><td> TRUE</td><td> TRUE</td><td>   NA</td><td>   NA</td><td>   NA</td><td>FALSE</td><td>   NA</td><td>   NA</td></tr>\n",
       "\t<tr><th scope=row>251632</th><td>chr9:96293534-96294023</td><td>   NA</td><td> TRUE</td><td>   NA</td><td> TRUE</td><td>   NA</td><td>   NA</td><td>   NA</td><td>   NA</td><td>   NA</td><td>   NA</td></tr>\n",
       "\t<tr><th scope=row>251675</th><td>chr9:96686476-96687412</td><td> TRUE</td><td>FALSE</td><td>FALSE</td><td>FALSE</td><td>FALSE</td><td>FALSE</td><td>   NA</td><td>FALSE</td><td>   NA</td><td>FALSE</td></tr>\n",
       "\t<tr><th scope=row>251710</th><td>chr9:97221086-97222737</td><td>FALSE</td><td> TRUE</td><td>FALSE</td><td>FALSE</td><td>FALSE</td><td>FALSE</td><td>   NA</td><td>FALSE</td><td>   NA</td><td>   NA</td></tr>\n",
       "\t<tr><th scope=row>251750</th><td>chr9:9754281-9755106  </td><td>   NA</td><td>   NA</td><td> TRUE</td><td> TRUE</td><td>   NA</td><td>   NA</td><td>   NA</td><td>   NA</td><td>   NA</td><td>   NA</td></tr>\n",
       "\t<tr><th scope=row>251779</th><td>chr9:97673903-97674753</td><td>   NA</td><td>FALSE</td><td> TRUE</td><td> TRUE</td><td>FALSE</td><td>   NA</td><td>   NA</td><td>FALSE</td><td>   NA</td><td>   NA</td></tr>\n",
       "\t<tr><th scope=row>251802</th><td>chr9:97852874-97854875</td><td>FALSE</td><td>FALSE</td><td> TRUE</td><td> TRUE</td><td>FALSE</td><td>FALSE</td><td>   NA</td><td>FALSE</td><td>   NA</td><td>   NA</td></tr>\n",
       "\t<tr><th scope=row>251803</th><td>chr9:97873540-97874616</td><td>FALSE</td><td>FALSE</td><td> TRUE</td><td>FALSE</td><td>FALSE</td><td>   NA</td><td>   NA</td><td>FALSE</td><td>   NA</td><td>   NA</td></tr>\n",
       "\t<tr><th scope=row>251847</th><td>chr9:98172525-98173408</td><td>   NA</td><td>   NA</td><td> TRUE</td><td> TRUE</td><td>FALSE</td><td>   NA</td><td>   NA</td><td>FALSE</td><td>   NA</td><td>   NA</td></tr>\n",
       "\t<tr><th scope=row>251852</th><td>chr9:98214832-98216367</td><td>   NA</td><td>FALSE</td><td> TRUE</td><td> TRUE</td><td>FALSE</td><td>   NA</td><td>   NA</td><td>FALSE</td><td>   NA</td><td>   NA</td></tr>\n",
       "\t<tr><th scope=row>251861</th><td>chr9:98280030-98281172</td><td>   NA</td><td>FALSE</td><td> TRUE</td><td> TRUE</td><td>FALSE</td><td>   NA</td><td>   NA</td><td>FALSE</td><td>   NA</td><td>   NA</td></tr>\n",
       "\t<tr><th scope=row>251873</th><td>chr9:98374377-98375535</td><td>FALSE</td><td>FALSE</td><td> TRUE</td><td> TRUE</td><td>FALSE</td><td>FALSE</td><td>   NA</td><td>FALSE</td><td>   NA</td><td>   NA</td></tr>\n",
       "\t<tr><th scope=row>251882</th><td>chr9:9858284-9858919  </td><td>   NA</td><td> TRUE</td><td>FALSE</td><td>FALSE</td><td>   NA</td><td>   NA</td><td>   NA</td><td>   NA</td><td>   NA</td><td>   NA</td></tr>\n",
       "\t<tr><th scope=row>251935</th><td>chr9:99050204-99050800</td><td>FALSE</td><td> TRUE</td><td>FALSE</td><td> TRUE</td><td>   NA</td><td>   NA</td><td>   NA</td><td>   NA</td><td>   NA</td><td>   NA</td></tr>\n",
       "\t<tr><th scope=row>251988</th><td>chr9:99378218-99378691</td><td>   NA</td><td>   NA</td><td> TRUE</td><td> TRUE</td><td>   NA</td><td>   NA</td><td>   NA</td><td>   NA</td><td>   NA</td><td>   NA</td></tr>\n",
       "\t<tr><th scope=row>252004</th><td>chr9:9949969-9950391  </td><td>   NA</td><td>   NA</td><td> TRUE</td><td> TRUE</td><td>   NA</td><td>   NA</td><td>   NA</td><td>   NA</td><td>   NA</td><td>   NA</td></tr>\n",
       "\t<tr><th scope=row>252005</th><td>chr9:9950872-9951196  </td><td>   NA</td><td>FALSE</td><td> TRUE</td><td> TRUE</td><td>   NA</td><td>   NA</td><td>   NA</td><td>   NA</td><td>   NA</td><td>   NA</td></tr>\n",
       "</tbody>\n",
       "</table>\n"
      ],
      "text/latex": [
       "A data.frame: 6697 × 11\n",
       "\\begin{tabular}{r|lllllllllll}\n",
       "  & Feature & acinar & alpha & beta & bulk & delta & ductal & endothelial & gamma & immune & stellate\\\\\n",
       "  & <chr> & <lgl> & <lgl> & <lgl> & <lgl> & <lgl> & <lgl> & <lgl> & <lgl> & <lgl> & <lgl>\\\\\n",
       "\\hline\n",
       "\t16 & chr1:100230079-100230551 &    NA & FALSE &  TRUE &  TRUE &    NA &    NA & NA & FALSE &    NA &    NA\\\\\n",
       "\t35 & chr1:100414592-100415141 &    NA &    NA &  TRUE &  TRUE & FALSE &    NA & NA &    NA &    NA &    NA\\\\\n",
       "\t36 & chr1:100419054-100419666 &    NA &    NA &  TRUE &  TRUE &    NA &    NA & NA &    NA &    NA &    NA\\\\\n",
       "\t80 & chr1:100794556-100795689 &    NA & FALSE &  TRUE & FALSE & FALSE &    NA & NA &    NA &    NA &    NA\\\\\n",
       "\t134 & chr1:101371181-101371798 & FALSE & FALSE &  TRUE &  TRUE &    NA &    NA & NA &    NA &    NA &    NA\\\\\n",
       "\t473 & chr1:108199202-108201089 & FALSE & FALSE & FALSE &  TRUE &  TRUE & FALSE & NA & FALSE & FALSE & FALSE\\\\\n",
       "\t518 & chr1:108738135-108738561 &    NA & FALSE &  TRUE &  TRUE &    NA &    NA & NA &    NA &    NA &    NA\\\\\n",
       "\t580 & chr1:109239486-109241167 & FALSE & FALSE &  TRUE &  TRUE & FALSE & FALSE & NA & FALSE &    NA &    NA\\\\\n",
       "\t596 & chr1:109306748-109308049 & FALSE & FALSE &  TRUE &  TRUE & FALSE &    NA & NA & FALSE &    NA &    NA\\\\\n",
       "\t631 & chr1:109508869-109510626 &  TRUE & FALSE & FALSE & FALSE & FALSE & FALSE & NA & FALSE &    NA &    NA\\\\\n",
       "\t671 & chr1:109667745-109668782 & FALSE & FALSE &  TRUE & FALSE & FALSE & FALSE & NA & FALSE &    NA &    NA\\\\\n",
       "\t697 & chr1:10979481-10980720   & FALSE & FALSE &  TRUE &  TRUE & FALSE & FALSE & NA &    NA &    NA &    NA\\\\\n",
       "\t711 & chr1:10986185-10986703   &  TRUE &    NA &    NA &  TRUE &    NA &    NA & NA &    NA &    NA &    NA\\\\\n",
       "\t804 & chr1:110249371-110250520 &    NA & FALSE &  TRUE &  TRUE & FALSE &    NA & NA & FALSE &    NA &    NA\\\\\n",
       "\t811 & chr1:110293715-110294046 &    NA &  TRUE &    NA & FALSE & FALSE &    NA & NA &    NA &    NA &    NA\\\\\n",
       "\t815 & chr1:110309118-110310731 & FALSE & FALSE &  TRUE &  TRUE & FALSE & FALSE & NA & FALSE &    NA & FALSE\\\\\n",
       "\t827 & chr1:11037604-11038131   &  TRUE & FALSE & FALSE & FALSE & FALSE & FALSE & NA & FALSE &    NA &    NA\\\\\n",
       "\t874 & chr1:110605935-110608116 &  TRUE & FALSE & FALSE &  TRUE & FALSE & FALSE & NA & FALSE &    NA &    NA\\\\\n",
       "\t886 & chr1:110674038-110675848 & FALSE &  TRUE & FALSE & FALSE & FALSE & FALSE & NA & FALSE &    NA &    NA\\\\\n",
       "\t903 & chr1:110764493-110764803 &    NA &    NA &  TRUE & FALSE &    NA &    NA & NA &    NA &    NA &    NA\\\\\n",
       "\t1031 & chr1:111904269-111905797 &    NA & FALSE &  TRUE &  TRUE & FALSE &    NA & NA & FALSE &    NA &    NA\\\\\n",
       "\t1033 & chr1:111912060-111912639 &    NA & FALSE &  TRUE &  TRUE & FALSE &    NA & NA &    NA &    NA &    NA\\\\\n",
       "\t1048 & chr1:111988867-111991787 & FALSE & FALSE &  TRUE & FALSE & FALSE & FALSE & NA & FALSE &    NA & FALSE\\\\\n",
       "\t1084 & chr1:112358679-112359554 & FALSE &  TRUE & FALSE & FALSE & FALSE &    NA & NA & FALSE &    NA &    NA\\\\\n",
       "\t1150 & chr1:112793914-112794437 &  TRUE &    NA &    NA &  TRUE &    NA &    NA & NA &    NA &    NA &    NA\\\\\n",
       "\t1246 & chr1:113674246-113675358 & FALSE & FALSE &  TRUE &  TRUE & FALSE &    NA & NA & FALSE &    NA &    NA\\\\\n",
       "\t1262 & chr1:113786082-113786427 &    NA &    NA &  TRUE &  TRUE &    NA &    NA & NA &    NA &    NA &    NA\\\\\n",
       "\t1335 & chr1:114294121-114294798 &    NA &  TRUE & FALSE &  TRUE &    NA &    NA & NA &    NA &    NA &    NA\\\\\n",
       "\t1404 & chr1:115088563-115090936 & FALSE & FALSE &  TRUE &  TRUE & FALSE & FALSE & NA & FALSE &    NA &    NA\\\\\n",
       "\t1519 & chr1:11588647-11589189   &    NA &    NA &  TRUE &  TRUE &    NA &    NA & NA &    NA &    NA &    NA\\\\\n",
       "\t⋮ & ⋮ & ⋮ & ⋮ & ⋮ & ⋮ & ⋮ & ⋮ & ⋮ & ⋮ & ⋮ & ⋮\\\\\n",
       "\t251160 & chr9:92770399-92771112 & FALSE & FALSE &  TRUE & FALSE & FALSE &    NA &    NA & FALSE &    NA &    NA\\\\\n",
       "\t251187 & chr9:93024266-93024598 &    NA &    NA &  TRUE & FALSE &    NA &    NA &    NA &    NA &    NA &    NA\\\\\n",
       "\t251200 & chr9:93095254-93096778 & FALSE & FALSE &  TRUE &  TRUE & FALSE & FALSE & FALSE & FALSE & FALSE & FALSE\\\\\n",
       "\t251235 & chr9:93223149-93223750 &  TRUE &    NA &    NA &  TRUE &    NA & FALSE &    NA &    NA &    NA &    NA\\\\\n",
       "\t251237 & chr9:93230239-93231938 &  TRUE & FALSE &    NA &  TRUE & FALSE & FALSE &    NA & FALSE &    NA &    NA\\\\\n",
       "\t251242 & chr9:93262409-93263457 & FALSE & FALSE &  TRUE &  TRUE & FALSE & FALSE &    NA & FALSE &    NA &    NA\\\\\n",
       "\t251276 & chr9:9356221-9356704   &    NA & FALSE &  TRUE &  TRUE &    NA &    NA &    NA &    NA &    NA &    NA\\\\\n",
       "\t251361 & chr9:94554109-94555292 & FALSE & FALSE &  TRUE & FALSE & FALSE & FALSE &    NA & FALSE &    NA &    NA\\\\\n",
       "\t251364 & chr9:94593411-94594394 &  TRUE &    NA &    NA &  TRUE &    NA &    NA &    NA &    NA &    NA &    NA\\\\\n",
       "\t251523 & chr9:9534031-9534586   &    NA &  TRUE & FALSE &  TRUE & FALSE &    NA &    NA &    NA &    NA &    NA\\\\\n",
       "\t251528 & chr9:9536416-9537474   & FALSE &  TRUE & FALSE & FALSE & FALSE &    NA &    NA &    NA &    NA &    NA\\\\\n",
       "\t251537 & chr9:95462359-95463313 &    NA & FALSE &  TRUE &  TRUE & FALSE & FALSE &    NA & FALSE &    NA &    NA\\\\\n",
       "\t251565 & chr9:95688818-95690418 &    NA & FALSE &    NA &  TRUE &  TRUE &    NA &    NA &    NA &    NA &    NA\\\\\n",
       "\t251599 & chr9:9606506-9607259   & FALSE & FALSE &  TRUE &  TRUE &    NA &    NA &    NA & FALSE &    NA &    NA\\\\\n",
       "\t251632 & chr9:96293534-96294023 &    NA &  TRUE &    NA &  TRUE &    NA &    NA &    NA &    NA &    NA &    NA\\\\\n",
       "\t251675 & chr9:96686476-96687412 &  TRUE & FALSE & FALSE & FALSE & FALSE & FALSE &    NA & FALSE &    NA & FALSE\\\\\n",
       "\t251710 & chr9:97221086-97222737 & FALSE &  TRUE & FALSE & FALSE & FALSE & FALSE &    NA & FALSE &    NA &    NA\\\\\n",
       "\t251750 & chr9:9754281-9755106   &    NA &    NA &  TRUE &  TRUE &    NA &    NA &    NA &    NA &    NA &    NA\\\\\n",
       "\t251779 & chr9:97673903-97674753 &    NA & FALSE &  TRUE &  TRUE & FALSE &    NA &    NA & FALSE &    NA &    NA\\\\\n",
       "\t251802 & chr9:97852874-97854875 & FALSE & FALSE &  TRUE &  TRUE & FALSE & FALSE &    NA & FALSE &    NA &    NA\\\\\n",
       "\t251803 & chr9:97873540-97874616 & FALSE & FALSE &  TRUE & FALSE & FALSE &    NA &    NA & FALSE &    NA &    NA\\\\\n",
       "\t251847 & chr9:98172525-98173408 &    NA &    NA &  TRUE &  TRUE & FALSE &    NA &    NA & FALSE &    NA &    NA\\\\\n",
       "\t251852 & chr9:98214832-98216367 &    NA & FALSE &  TRUE &  TRUE & FALSE &    NA &    NA & FALSE &    NA &    NA\\\\\n",
       "\t251861 & chr9:98280030-98281172 &    NA & FALSE &  TRUE &  TRUE & FALSE &    NA &    NA & FALSE &    NA &    NA\\\\\n",
       "\t251873 & chr9:98374377-98375535 & FALSE & FALSE &  TRUE &  TRUE & FALSE & FALSE &    NA & FALSE &    NA &    NA\\\\\n",
       "\t251882 & chr9:9858284-9858919   &    NA &  TRUE & FALSE & FALSE &    NA &    NA &    NA &    NA &    NA &    NA\\\\\n",
       "\t251935 & chr9:99050204-99050800 & FALSE &  TRUE & FALSE &  TRUE &    NA &    NA &    NA &    NA &    NA &    NA\\\\\n",
       "\t251988 & chr9:99378218-99378691 &    NA &    NA &  TRUE &  TRUE &    NA &    NA &    NA &    NA &    NA &    NA\\\\\n",
       "\t252004 & chr9:9949969-9950391   &    NA &    NA &  TRUE &  TRUE &    NA &    NA &    NA &    NA &    NA &    NA\\\\\n",
       "\t252005 & chr9:9950872-9951196   &    NA & FALSE &  TRUE &  TRUE &    NA &    NA &    NA &    NA &    NA &    NA\\\\\n",
       "\\end{tabular}\n"
      ],
      "text/markdown": [
       "\n",
       "A data.frame: 6697 × 11\n",
       "\n",
       "| <!--/--> | Feature &lt;chr&gt; | acinar &lt;lgl&gt; | alpha &lt;lgl&gt; | beta &lt;lgl&gt; | bulk &lt;lgl&gt; | delta &lt;lgl&gt; | ductal &lt;lgl&gt; | endothelial &lt;lgl&gt; | gamma &lt;lgl&gt; | immune &lt;lgl&gt; | stellate &lt;lgl&gt; |\n",
       "|---|---|---|---|---|---|---|---|---|---|---|---|\n",
       "| 16 | chr1:100230079-100230551 |    NA | FALSE |  TRUE |  TRUE |    NA |    NA | NA | FALSE |    NA |    NA |\n",
       "| 35 | chr1:100414592-100415141 |    NA |    NA |  TRUE |  TRUE | FALSE |    NA | NA |    NA |    NA |    NA |\n",
       "| 36 | chr1:100419054-100419666 |    NA |    NA |  TRUE |  TRUE |    NA |    NA | NA |    NA |    NA |    NA |\n",
       "| 80 | chr1:100794556-100795689 |    NA | FALSE |  TRUE | FALSE | FALSE |    NA | NA |    NA |    NA |    NA |\n",
       "| 134 | chr1:101371181-101371798 | FALSE | FALSE |  TRUE |  TRUE |    NA |    NA | NA |    NA |    NA |    NA |\n",
       "| 473 | chr1:108199202-108201089 | FALSE | FALSE | FALSE |  TRUE |  TRUE | FALSE | NA | FALSE | FALSE | FALSE |\n",
       "| 518 | chr1:108738135-108738561 |    NA | FALSE |  TRUE |  TRUE |    NA |    NA | NA |    NA |    NA |    NA |\n",
       "| 580 | chr1:109239486-109241167 | FALSE | FALSE |  TRUE |  TRUE | FALSE | FALSE | NA | FALSE |    NA |    NA |\n",
       "| 596 | chr1:109306748-109308049 | FALSE | FALSE |  TRUE |  TRUE | FALSE |    NA | NA | FALSE |    NA |    NA |\n",
       "| 631 | chr1:109508869-109510626 |  TRUE | FALSE | FALSE | FALSE | FALSE | FALSE | NA | FALSE |    NA |    NA |\n",
       "| 671 | chr1:109667745-109668782 | FALSE | FALSE |  TRUE | FALSE | FALSE | FALSE | NA | FALSE |    NA |    NA |\n",
       "| 697 | chr1:10979481-10980720   | FALSE | FALSE |  TRUE |  TRUE | FALSE | FALSE | NA |    NA |    NA |    NA |\n",
       "| 711 | chr1:10986185-10986703   |  TRUE |    NA |    NA |  TRUE |    NA |    NA | NA |    NA |    NA |    NA |\n",
       "| 804 | chr1:110249371-110250520 |    NA | FALSE |  TRUE |  TRUE | FALSE |    NA | NA | FALSE |    NA |    NA |\n",
       "| 811 | chr1:110293715-110294046 |    NA |  TRUE |    NA | FALSE | FALSE |    NA | NA |    NA |    NA |    NA |\n",
       "| 815 | chr1:110309118-110310731 | FALSE | FALSE |  TRUE |  TRUE | FALSE | FALSE | NA | FALSE |    NA | FALSE |\n",
       "| 827 | chr1:11037604-11038131   |  TRUE | FALSE | FALSE | FALSE | FALSE | FALSE | NA | FALSE |    NA |    NA |\n",
       "| 874 | chr1:110605935-110608116 |  TRUE | FALSE | FALSE |  TRUE | FALSE | FALSE | NA | FALSE |    NA |    NA |\n",
       "| 886 | chr1:110674038-110675848 | FALSE |  TRUE | FALSE | FALSE | FALSE | FALSE | NA | FALSE |    NA |    NA |\n",
       "| 903 | chr1:110764493-110764803 |    NA |    NA |  TRUE | FALSE |    NA |    NA | NA |    NA |    NA |    NA |\n",
       "| 1031 | chr1:111904269-111905797 |    NA | FALSE |  TRUE |  TRUE | FALSE |    NA | NA | FALSE |    NA |    NA |\n",
       "| 1033 | chr1:111912060-111912639 |    NA | FALSE |  TRUE |  TRUE | FALSE |    NA | NA |    NA |    NA |    NA |\n",
       "| 1048 | chr1:111988867-111991787 | FALSE | FALSE |  TRUE | FALSE | FALSE | FALSE | NA | FALSE |    NA | FALSE |\n",
       "| 1084 | chr1:112358679-112359554 | FALSE |  TRUE | FALSE | FALSE | FALSE |    NA | NA | FALSE |    NA |    NA |\n",
       "| 1150 | chr1:112793914-112794437 |  TRUE |    NA |    NA |  TRUE |    NA |    NA | NA |    NA |    NA |    NA |\n",
       "| 1246 | chr1:113674246-113675358 | FALSE | FALSE |  TRUE |  TRUE | FALSE |    NA | NA | FALSE |    NA |    NA |\n",
       "| 1262 | chr1:113786082-113786427 |    NA |    NA |  TRUE |  TRUE |    NA |    NA | NA |    NA |    NA |    NA |\n",
       "| 1335 | chr1:114294121-114294798 |    NA |  TRUE | FALSE |  TRUE |    NA |    NA | NA |    NA |    NA |    NA |\n",
       "| 1404 | chr1:115088563-115090936 | FALSE | FALSE |  TRUE |  TRUE | FALSE | FALSE | NA | FALSE |    NA |    NA |\n",
       "| 1519 | chr1:11588647-11589189   |    NA |    NA |  TRUE |  TRUE |    NA |    NA | NA |    NA |    NA |    NA |\n",
       "| ⋮ | ⋮ | ⋮ | ⋮ | ⋮ | ⋮ | ⋮ | ⋮ | ⋮ | ⋮ | ⋮ | ⋮ |\n",
       "| 251160 | chr9:92770399-92771112 | FALSE | FALSE |  TRUE | FALSE | FALSE |    NA |    NA | FALSE |    NA |    NA |\n",
       "| 251187 | chr9:93024266-93024598 |    NA |    NA |  TRUE | FALSE |    NA |    NA |    NA |    NA |    NA |    NA |\n",
       "| 251200 | chr9:93095254-93096778 | FALSE | FALSE |  TRUE |  TRUE | FALSE | FALSE | FALSE | FALSE | FALSE | FALSE |\n",
       "| 251235 | chr9:93223149-93223750 |  TRUE |    NA |    NA |  TRUE |    NA | FALSE |    NA |    NA |    NA |    NA |\n",
       "| 251237 | chr9:93230239-93231938 |  TRUE | FALSE |    NA |  TRUE | FALSE | FALSE |    NA | FALSE |    NA |    NA |\n",
       "| 251242 | chr9:93262409-93263457 | FALSE | FALSE |  TRUE |  TRUE | FALSE | FALSE |    NA | FALSE |    NA |    NA |\n",
       "| 251276 | chr9:9356221-9356704   |    NA | FALSE |  TRUE |  TRUE |    NA |    NA |    NA |    NA |    NA |    NA |\n",
       "| 251361 | chr9:94554109-94555292 | FALSE | FALSE |  TRUE | FALSE | FALSE | FALSE |    NA | FALSE |    NA |    NA |\n",
       "| 251364 | chr9:94593411-94594394 |  TRUE |    NA |    NA |  TRUE |    NA |    NA |    NA |    NA |    NA |    NA |\n",
       "| 251523 | chr9:9534031-9534586   |    NA |  TRUE | FALSE |  TRUE | FALSE |    NA |    NA |    NA |    NA |    NA |\n",
       "| 251528 | chr9:9536416-9537474   | FALSE |  TRUE | FALSE | FALSE | FALSE |    NA |    NA |    NA |    NA |    NA |\n",
       "| 251537 | chr9:95462359-95463313 |    NA | FALSE |  TRUE |  TRUE | FALSE | FALSE |    NA | FALSE |    NA |    NA |\n",
       "| 251565 | chr9:95688818-95690418 |    NA | FALSE |    NA |  TRUE |  TRUE |    NA |    NA |    NA |    NA |    NA |\n",
       "| 251599 | chr9:9606506-9607259   | FALSE | FALSE |  TRUE |  TRUE |    NA |    NA |    NA | FALSE |    NA |    NA |\n",
       "| 251632 | chr9:96293534-96294023 |    NA |  TRUE |    NA |  TRUE |    NA |    NA |    NA |    NA |    NA |    NA |\n",
       "| 251675 | chr9:96686476-96687412 |  TRUE | FALSE | FALSE | FALSE | FALSE | FALSE |    NA | FALSE |    NA | FALSE |\n",
       "| 251710 | chr9:97221086-97222737 | FALSE |  TRUE | FALSE | FALSE | FALSE | FALSE |    NA | FALSE |    NA |    NA |\n",
       "| 251750 | chr9:9754281-9755106   |    NA |    NA |  TRUE |  TRUE |    NA |    NA |    NA |    NA |    NA |    NA |\n",
       "| 251779 | chr9:97673903-97674753 |    NA | FALSE |  TRUE |  TRUE | FALSE |    NA |    NA | FALSE |    NA |    NA |\n",
       "| 251802 | chr9:97852874-97854875 | FALSE | FALSE |  TRUE |  TRUE | FALSE | FALSE |    NA | FALSE |    NA |    NA |\n",
       "| 251803 | chr9:97873540-97874616 | FALSE | FALSE |  TRUE | FALSE | FALSE |    NA |    NA | FALSE |    NA |    NA |\n",
       "| 251847 | chr9:98172525-98173408 |    NA |    NA |  TRUE |  TRUE | FALSE |    NA |    NA | FALSE |    NA |    NA |\n",
       "| 251852 | chr9:98214832-98216367 |    NA | FALSE |  TRUE |  TRUE | FALSE |    NA |    NA | FALSE |    NA |    NA |\n",
       "| 251861 | chr9:98280030-98281172 |    NA | FALSE |  TRUE |  TRUE | FALSE |    NA |    NA | FALSE |    NA |    NA |\n",
       "| 251873 | chr9:98374377-98375535 | FALSE | FALSE |  TRUE |  TRUE | FALSE | FALSE |    NA | FALSE |    NA |    NA |\n",
       "| 251882 | chr9:9858284-9858919   |    NA |  TRUE | FALSE | FALSE |    NA |    NA |    NA |    NA |    NA |    NA |\n",
       "| 251935 | chr9:99050204-99050800 | FALSE |  TRUE | FALSE |  TRUE |    NA |    NA |    NA |    NA |    NA |    NA |\n",
       "| 251988 | chr9:99378218-99378691 |    NA |    NA |  TRUE |  TRUE |    NA |    NA |    NA |    NA |    NA |    NA |\n",
       "| 252004 | chr9:9949969-9950391   |    NA |    NA |  TRUE |  TRUE |    NA |    NA |    NA |    NA |    NA |    NA |\n",
       "| 252005 | chr9:9950872-9951196   |    NA | FALSE |  TRUE |  TRUE |    NA |    NA |    NA |    NA |    NA |    NA |\n",
       "\n"
      ],
      "text/plain": [
       "       Feature                  acinar alpha beta  bulk  delta ductal\n",
       "16     chr1:100230079-100230551    NA  FALSE  TRUE  TRUE    NA    NA \n",
       "35     chr1:100414592-100415141    NA     NA  TRUE  TRUE FALSE    NA \n",
       "36     chr1:100419054-100419666    NA     NA  TRUE  TRUE    NA    NA \n",
       "80     chr1:100794556-100795689    NA  FALSE  TRUE FALSE FALSE    NA \n",
       "134    chr1:101371181-101371798 FALSE  FALSE  TRUE  TRUE    NA    NA \n",
       "473    chr1:108199202-108201089 FALSE  FALSE FALSE  TRUE  TRUE FALSE \n",
       "518    chr1:108738135-108738561    NA  FALSE  TRUE  TRUE    NA    NA \n",
       "580    chr1:109239486-109241167 FALSE  FALSE  TRUE  TRUE FALSE FALSE \n",
       "596    chr1:109306748-109308049 FALSE  FALSE  TRUE  TRUE FALSE    NA \n",
       "631    chr1:109508869-109510626  TRUE  FALSE FALSE FALSE FALSE FALSE \n",
       "671    chr1:109667745-109668782 FALSE  FALSE  TRUE FALSE FALSE FALSE \n",
       "697    chr1:10979481-10980720   FALSE  FALSE  TRUE  TRUE FALSE FALSE \n",
       "711    chr1:10986185-10986703    TRUE     NA    NA  TRUE    NA    NA \n",
       "804    chr1:110249371-110250520    NA  FALSE  TRUE  TRUE FALSE    NA \n",
       "811    chr1:110293715-110294046    NA   TRUE    NA FALSE FALSE    NA \n",
       "815    chr1:110309118-110310731 FALSE  FALSE  TRUE  TRUE FALSE FALSE \n",
       "827    chr1:11037604-11038131    TRUE  FALSE FALSE FALSE FALSE FALSE \n",
       "874    chr1:110605935-110608116  TRUE  FALSE FALSE  TRUE FALSE FALSE \n",
       "886    chr1:110674038-110675848 FALSE   TRUE FALSE FALSE FALSE FALSE \n",
       "903    chr1:110764493-110764803    NA     NA  TRUE FALSE    NA    NA \n",
       "1031   chr1:111904269-111905797    NA  FALSE  TRUE  TRUE FALSE    NA \n",
       "1033   chr1:111912060-111912639    NA  FALSE  TRUE  TRUE FALSE    NA \n",
       "1048   chr1:111988867-111991787 FALSE  FALSE  TRUE FALSE FALSE FALSE \n",
       "1084   chr1:112358679-112359554 FALSE   TRUE FALSE FALSE FALSE    NA \n",
       "1150   chr1:112793914-112794437  TRUE     NA    NA  TRUE    NA    NA \n",
       "1246   chr1:113674246-113675358 FALSE  FALSE  TRUE  TRUE FALSE    NA \n",
       "1262   chr1:113786082-113786427    NA     NA  TRUE  TRUE    NA    NA \n",
       "1335   chr1:114294121-114294798    NA   TRUE FALSE  TRUE    NA    NA \n",
       "1404   chr1:115088563-115090936 FALSE  FALSE  TRUE  TRUE FALSE FALSE \n",
       "1519   chr1:11588647-11589189      NA     NA  TRUE  TRUE    NA    NA \n",
       "⋮      ⋮                        ⋮      ⋮     ⋮     ⋮     ⋮     ⋮     \n",
       "251160 chr9:92770399-92771112   FALSE  FALSE  TRUE FALSE FALSE    NA \n",
       "251187 chr9:93024266-93024598      NA     NA  TRUE FALSE    NA    NA \n",
       "251200 chr9:93095254-93096778   FALSE  FALSE  TRUE  TRUE FALSE FALSE \n",
       "251235 chr9:93223149-93223750    TRUE     NA    NA  TRUE    NA FALSE \n",
       "251237 chr9:93230239-93231938    TRUE  FALSE    NA  TRUE FALSE FALSE \n",
       "251242 chr9:93262409-93263457   FALSE  FALSE  TRUE  TRUE FALSE FALSE \n",
       "251276 chr9:9356221-9356704        NA  FALSE  TRUE  TRUE    NA    NA \n",
       "251361 chr9:94554109-94555292   FALSE  FALSE  TRUE FALSE FALSE FALSE \n",
       "251364 chr9:94593411-94594394    TRUE     NA    NA  TRUE    NA    NA \n",
       "251523 chr9:9534031-9534586        NA   TRUE FALSE  TRUE FALSE    NA \n",
       "251528 chr9:9536416-9537474     FALSE   TRUE FALSE FALSE FALSE    NA \n",
       "251537 chr9:95462359-95463313      NA  FALSE  TRUE  TRUE FALSE FALSE \n",
       "251565 chr9:95688818-95690418      NA  FALSE    NA  TRUE  TRUE    NA \n",
       "251599 chr9:9606506-9607259     FALSE  FALSE  TRUE  TRUE    NA    NA \n",
       "251632 chr9:96293534-96294023      NA   TRUE    NA  TRUE    NA    NA \n",
       "251675 chr9:96686476-96687412    TRUE  FALSE FALSE FALSE FALSE FALSE \n",
       "251710 chr9:97221086-97222737   FALSE   TRUE FALSE FALSE FALSE FALSE \n",
       "251750 chr9:9754281-9755106        NA     NA  TRUE  TRUE    NA    NA \n",
       "251779 chr9:97673903-97674753      NA  FALSE  TRUE  TRUE FALSE    NA \n",
       "251802 chr9:97852874-97854875   FALSE  FALSE  TRUE  TRUE FALSE FALSE \n",
       "251803 chr9:97873540-97874616   FALSE  FALSE  TRUE FALSE FALSE    NA \n",
       "251847 chr9:98172525-98173408      NA     NA  TRUE  TRUE FALSE    NA \n",
       "251852 chr9:98214832-98216367      NA  FALSE  TRUE  TRUE FALSE    NA \n",
       "251861 chr9:98280030-98281172      NA  FALSE  TRUE  TRUE FALSE    NA \n",
       "251873 chr9:98374377-98375535   FALSE  FALSE  TRUE  TRUE FALSE FALSE \n",
       "251882 chr9:9858284-9858919        NA   TRUE FALSE FALSE    NA    NA \n",
       "251935 chr9:99050204-99050800   FALSE   TRUE FALSE  TRUE    NA    NA \n",
       "251988 chr9:99378218-99378691      NA     NA  TRUE  TRUE    NA    NA \n",
       "252004 chr9:9949969-9950391        NA     NA  TRUE  TRUE    NA    NA \n",
       "252005 chr9:9950872-9951196        NA  FALSE  TRUE  TRUE    NA    NA \n",
       "       endothelial gamma immune stellate\n",
       "16     NA          FALSE    NA     NA   \n",
       "35     NA             NA    NA     NA   \n",
       "36     NA             NA    NA     NA   \n",
       "80     NA             NA    NA     NA   \n",
       "134    NA             NA    NA     NA   \n",
       "473    NA          FALSE FALSE  FALSE   \n",
       "518    NA             NA    NA     NA   \n",
       "580    NA          FALSE    NA     NA   \n",
       "596    NA          FALSE    NA     NA   \n",
       "631    NA          FALSE    NA     NA   \n",
       "671    NA          FALSE    NA     NA   \n",
       "697    NA             NA    NA     NA   \n",
       "711    NA             NA    NA     NA   \n",
       "804    NA          FALSE    NA     NA   \n",
       "811    NA             NA    NA     NA   \n",
       "815    NA          FALSE    NA  FALSE   \n",
       "827    NA          FALSE    NA     NA   \n",
       "874    NA          FALSE    NA     NA   \n",
       "886    NA          FALSE    NA     NA   \n",
       "903    NA             NA    NA     NA   \n",
       "1031   NA          FALSE    NA     NA   \n",
       "1033   NA             NA    NA     NA   \n",
       "1048   NA          FALSE    NA  FALSE   \n",
       "1084   NA          FALSE    NA     NA   \n",
       "1150   NA             NA    NA     NA   \n",
       "1246   NA          FALSE    NA     NA   \n",
       "1262   NA             NA    NA     NA   \n",
       "1335   NA             NA    NA     NA   \n",
       "1404   NA          FALSE    NA     NA   \n",
       "1519   NA             NA    NA     NA   \n",
       "⋮      ⋮           ⋮     ⋮      ⋮       \n",
       "251160    NA       FALSE    NA     NA   \n",
       "251187    NA          NA    NA     NA   \n",
       "251200 FALSE       FALSE FALSE  FALSE   \n",
       "251235    NA          NA    NA     NA   \n",
       "251237    NA       FALSE    NA     NA   \n",
       "251242    NA       FALSE    NA     NA   \n",
       "251276    NA          NA    NA     NA   \n",
       "251361    NA       FALSE    NA     NA   \n",
       "251364    NA          NA    NA     NA   \n",
       "251523    NA          NA    NA     NA   \n",
       "251528    NA          NA    NA     NA   \n",
       "251537    NA       FALSE    NA     NA   \n",
       "251565    NA          NA    NA     NA   \n",
       "251599    NA       FALSE    NA     NA   \n",
       "251632    NA          NA    NA     NA   \n",
       "251675    NA       FALSE    NA  FALSE   \n",
       "251710    NA       FALSE    NA     NA   \n",
       "251750    NA          NA    NA     NA   \n",
       "251779    NA       FALSE    NA     NA   \n",
       "251802    NA       FALSE    NA     NA   \n",
       "251803    NA       FALSE    NA     NA   \n",
       "251847    NA       FALSE    NA     NA   \n",
       "251852    NA       FALSE    NA     NA   \n",
       "251861    NA       FALSE    NA     NA   \n",
       "251873    NA       FALSE    NA     NA   \n",
       "251882    NA          NA    NA     NA   \n",
       "251935    NA          NA    NA     NA   \n",
       "251988    NA          NA    NA     NA   \n",
       "252004    NA          NA    NA     NA   \n",
       "252005    NA          NA    NA     NA   "
      ]
     },
     "metadata": {},
     "output_type": "display_data"
    }
   ],
   "source": [
    "uniq"
   ]
  },
  {
   "cell_type": "code",
   "execution_count": 48,
   "id": "710b8238",
   "metadata": {
    "vscode": {
     "languageId": "r"
    }
   },
   "outputs": [
    {
     "data": {
      "text/html": [
       "<style>\n",
       ".dl-inline {width: auto; margin:0; padding: 0}\n",
       ".dl-inline>dt, .dl-inline>dd {float: none; width: auto; display: inline-block}\n",
       ".dl-inline>dt::after {content: \":\\0020\"; padding-right: .5ex}\n",
       ".dl-inline>dt:not(:first-of-type) {padding-left: .5ex}\n",
       "</style><dl class=dl-inline><dt>acinar</dt><dd>1250</dd><dt>alpha</dt><dd>1807</dd><dt>beta</dt><dd>3350</dd><dt>delta</dt><dd>142</dd><dt>ductal</dt><dd>75</dd><dt>gamma</dt><dd>73</dd></dl>\n"
      ],
      "text/latex": [
       "\\begin{description*}\n",
       "\\item[acinar] 1250\n",
       "\\item[alpha] 1807\n",
       "\\item[beta] 3350\n",
       "\\item[delta] 142\n",
       "\\item[ductal] 75\n",
       "\\item[gamma] 73\n",
       "\\end{description*}\n"
      ],
      "text/markdown": [
       "acinar\n",
       ":   1250alpha\n",
       ":   1807beta\n",
       ":   3350delta\n",
       ":   142ductal\n",
       ":   75gamma\n",
       ":   73\n",
       "\n"
      ],
      "text/plain": [
       "acinar  alpha   beta  delta ductal  gamma \n",
       "  1250   1807   3350    142     75     73 "
      ]
     },
     "metadata": {},
     "output_type": "display_data"
    }
   ],
   "source": [
    "colSums(uniq[,celltype_sel],na.rm=T)"
   ]
  },
  {
   "cell_type": "code",
   "execution_count": 49,
   "id": "df6f5fa1",
   "metadata": {
    "vscode": {
     "languageId": "r"
    }
   },
   "outputs": [],
   "source": [
    "jacmat           = matrix(NA, ncol=length(celltypes) , nrow=length(celltypes))\n",
    "rownames(jacmat) = colnames(jacmat) = celltypes\n",
    "\n",
    "for(c1 in celltypes){\n",
    "     for(c2 in celltypes){\n",
    "\n",
    "jacmat[c1,c2] = sum(rowSums(wide[,c(c1,c2)])==2, na.rm=T) / sum(rowSums(wide[,c(c1,c2)])>0, na.rm=T)\n",
    "}\n",
    "    }"
   ]
  },
  {
   "cell_type": "code",
   "execution_count": 50,
   "id": "05b7cac5",
   "metadata": {
    "vscode": {
     "languageId": "r"
    }
   },
   "outputs": [],
   "source": [
    "col = colorRampPalette(brewer.pal(9, \"PuRd\"))(20)"
   ]
  },
  {
   "cell_type": "code",
   "execution_count": 51,
   "id": "d121dfad",
   "metadata": {
    "vscode": {
     "languageId": "r"
    }
   },
   "outputs": [],
   "source": [
    "pheatmap(jacmat[macro,macro], \n",
    "         col=col, cellwidth = 20, cellheight = 20, display_numbers = round(jacmat[macro,macro],2), \n",
    "         angle_col = 45, \n",
    "     file = \"/path/to/caQTL/stuff/figures/heatmap_jac_macro_run1F.pdf\"\n",
    "          ,breaks = seq(0,1,0.05)\n",
    "        )\n",
    "\n",
    "pheatmap(jacmat[macro,macro], \n",
    "         col=col, cellwidth = 20, cellheight = 20, display_numbers = round(jacmat[macro,macro],2), \n",
    "         angle_col = 45, \n",
    "     #file = \"/path/to/caQTL/stuff/figures/heatmap_jac_macro_run7F.pdf\"\n",
    "          ,breaks = seq(0,1,0.05)\n",
    "        )\n",
    "#pheatmap(jacmat[micro,micro], col=col, cellwidth = 20, cellheight = 20, display_numbers = round(jacmat[micro,micro],2), \n",
    "#         angle_col = 45, \n",
    "#     file = \"../figures/heatmap_jac_micro_run3F.pdf\"\n",
    "#          ,breaks = seq(0,1,0.05)\n",
    "#        )\n",
    "#pheatmap(jacmat[micro,macro] ,cluster_rows = T,cluster_cols = T,\n",
    "#         col=col, cellwidth = 20, cellheight = 20, \n",
    "#         display_numbers = round(jacmat[micro,macro],2), \n",
    "#         angle_col = 45, \n",
    "#     file = \"../figures/heatmap_jac_micromacro_run3F.pdf\"\n",
    "#          ,breaks = seq(0,1,0.05)\n",
    "#        )\n",
    "\n",
    "pheatmap(jacmat ,cluster_rows = T,cluster_cols = T,\n",
    "         col=col, cellwidth = 20, cellheight = 20, \n",
    "         display_numbers = round(jacmat,2), \n",
    "         angle_col = 45, \n",
    "     file = \"/path/to/caQTL/stuff/figures/heatmap_jac_all_run1F.pdf\"\n",
    "          ,breaks = seq(0,1,0.05)\n",
    "        )\n",
    "\n",
    "pheatmap(jacmat ,cluster_rows = T,cluster_cols = T,\n",
    "         col=col, cellwidth = 20, cellheight = 20, \n",
    "         display_numbers = round(jacmat,2), \n",
    "         angle_col = 45, \n",
    "     #file = \"/path/to/caQTL/stuff/figures/heatmap_jac_all_run4F.pdf\"\n",
    "          ,breaks = seq(0,1,0.05)\n",
    "        )\n"
   ]
  },
  {
   "cell_type": "code",
   "execution_count": 52,
   "id": "6154c825",
   "metadata": {
    "scrolled": false,
    "vscode": {
     "languageId": "r"
    }
   },
   "outputs": [
    {
     "data": {
      "image/png": "[encoded data removed]",
      "text/plain": [
       "plot without title"
      ]
     },
     "metadata": {
      "image/png": {
       "height": 180,
       "width": 600
      }
     },
     "output_type": "display_data"
    },
    {
     "data": {
      "image/png": "[encoded data removed]",
      "text/plain": [
       "plot without title"
      ]
     },
     "metadata": {
      "image/png": {
       "height": 180,
       "width": 600
      }
     },
     "output_type": "display_data"
    }
   ],
   "source": [
    "pheatmap(jacmat[macro,macro], \n",
    "         col=col, cellwidth = 20, cellheight = 20, display_numbers = round(jacmat[macro,macro],2), \n",
    "         angle_col = 45, \n",
    "     #file = \"/path/to/caQTL/stuff/figures/heatmap_jac_macro_run7F.pdf\"\n",
    "          ,breaks = seq(0,1,0.05)\n",
    "        )\n",
    "pheatmap(jacmat ,cluster_rows = T,cluster_cols = T,\n",
    "         col=col, cellwidth = 20, cellheight = 20, \n",
    "         display_numbers = round(jacmat,2), \n",
    "         angle_col = 45, \n",
    "     #file = \"/path/to/caQTL/stuff/figures/heatmap_jac_all_run4F.pdf\"\n",
    "          ,breaks = seq(0,1,0.05)\n",
    "        )"
   ]
  },
  {
   "cell_type": "code",
   "execution_count": 53,
   "id": "1d3502a0",
   "metadata": {
    "vscode": {
     "languageId": "r"
    }
   },
   "outputs": [
    {
     "data": {
      "image/png": "[encoded data removed]",
      "text/plain": [
       "plot without title"
      ]
     },
     "metadata": {
      "image/png": {
       "height": 180,
       "width": 600
      }
     },
     "output_type": "display_data"
    },
    {
     "data": {
      "image/png": "[encoded data removed]",
      "text/plain": [
       "plot without title"
      ]
     },
     "metadata": {
      "image/png": {
       "height": 180,
       "width": 600
      }
     },
     "output_type": "display_data"
    }
   ],
   "source": [
    "pheatmap(jacmat[macro,macro], \n",
    "         col=col, cellwidth = 20, cellheight = 20, display_numbers = round(jacmat[macro,macro],2), \n",
    "         angle_col = 45, \n",
    "     #file = \"/path/to/caQTL/stuff/figures/heatmap_jac_macro_run7F.pdf\"\n",
    "          ,breaks = seq(0,1,0.05)\n",
    "        )\n",
    "pheatmap(jacmat ,cluster_rows = T,cluster_cols = T,\n",
    "         col=col, cellwidth = 20, cellheight = 20, \n",
    "         display_numbers = round(jacmat,2), \n",
    "         angle_col = 45, \n",
    "     #file = \"/path/to/caQTL/stuff/figures/heatmap_jac_all_run4F.pdf\"\n",
    "          ,breaks = seq(0,1,0.05)\n",
    "        )"
   ]
  }
 ],
 "metadata": {
  "kernelspec": {
   "display_name": "R 4.1\n",
   "language": "R",
   "name": "ir41"
  },
  "language_info": {
   "codemirror_mode": "r",
   "file_extension": ".r",
   "mimetype": "text/x-r-source",
   "name": "R",
   "pygments_lexer": "r",
   "version": "4.1.1"
  }
 },
 "nbformat": 4,
 "nbformat_minor": 5
}
