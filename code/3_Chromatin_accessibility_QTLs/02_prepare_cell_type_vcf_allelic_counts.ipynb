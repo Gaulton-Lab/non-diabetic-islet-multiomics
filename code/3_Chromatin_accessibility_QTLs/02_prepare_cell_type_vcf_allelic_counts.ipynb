{
 "cells": [
  {
   "cell_type": "markdown",
   "id": "2260e00e",
   "metadata": {},
   "source": [
    "For RASQUAL we want the allele specific counts for the allelic imbalance test"
   ]
  },
  {
   "cell_type": "code",
   "execution_count": 1,
   "id": "483e71fd",
   "metadata": {},
   "outputs": [],
   "source": [
    "library(parallel)"
   ]
  },
  {
   "cell_type": "code",
   "execution_count": 2,
   "id": "7075a138",
   "metadata": {},
   "outputs": [],
   "source": [
    "samples = c('R207','R217','R218','R221','R223','R226','R228','R234','R237','R238',\n",
    "            'R246','R247','R275','R284','R290','R292','R316','R317','R319','R325',\n",
    "            'R326','R327','R332','R353','R354','R362','R363','R364')\n",
    "\n",
    "non_eur_samples = c('R221','R237','R246','R247','R292','R325','R363','R364')"
   ]
  },
  {
   "cell_type": "code",
   "execution_count": 3,
   "id": "77d327a6",
   "metadata": {},
   "outputs": [],
   "source": [
    "homedir  = '/nfs/lab/welison/islet_multiome/intermediates/caQTLs/231026_WE_caQTLs/caQTLs_rasqual/'\n",
    "sampdir  = '/nfs/lab/welison/islet_multiome/intermediates/caQTLs/231026_WE_caQTLs/'\n",
    "matdir   = '/nfs/lab/welison/islet_multiome/intermediates/caQTLs/231026_WE_caQTLs/atac_cell_type_matrices/'"
   ]
  },
  {
   "cell_type": "code",
   "execution_count": 4,
   "id": "1edd19bb",
   "metadata": {},
   "outputs": [],
   "source": [
    "#dir.create(homedir)"
   ]
  },
  {
   "cell_type": "markdown",
   "id": "13d49058",
   "metadata": {},
   "source": [
    "### sort and index the bulk file"
   ]
  },
  {
   "cell_type": "code",
   "execution_count": 5,
   "id": "375a3856",
   "metadata": {},
   "outputs": [],
   "source": [
    "bulksampdir = \"/nfs/lab/paola/islets_snatac_qtls/data/dedup_bams/\""
   ]
  },
  {
   "cell_type": "code",
   "execution_count": 6,
   "id": "bcb76600",
   "metadata": {},
   "outputs": [],
   "source": [
    "for (s in samples){\n",
    "    bam_in  = paste0(bulksampdir, s, \"/atac_possorted_bam.filt.rmdup.bam\" )\n",
    "    bam_out = paste0(sampdir, s, \"/\",s, \"_bulk_orig.bam\" )\n",
    "    system(paste(\"ln -s\", bam_in, bam_out))\n",
    "}"
   ]
  },
  {
   "cell_type": "code",
   "execution_count": 7,
   "id": "09a807b2",
   "metadata": {},
   "outputs": [],
   "source": [
    "setwd(sampdir)"
   ]
  },
  {
   "cell_type": "code",
   "execution_count": 8,
   "id": "5df41993",
   "metadata": {},
   "outputs": [],
   "source": [
    "bam        = paste0(sampdir, samples, \"/\",samples, \"_bulk_orig.bam\" )\n",
    "sorted_bam = paste0(sampdir, samples, \"/\",samples, \"_bulk.bam\" )"
   ]
  },
  {
   "cell_type": "code",
   "execution_count": 9,
   "id": "8965be8d",
   "metadata": {},
   "outputs": [],
   "source": [
    "# ## sort and Index the bam files\n",
    "sort_and_index = function(b){\n",
    "    \n",
    "    \n",
    "    system(paste('samtools', 'sort', '-m', '2G', '-@', '3', '-o', sorted_bam[b], bam[b]))\n",
    "    system(paste(\"samtools index\", sorted_bam[b]))\n",
    "}"
   ]
  },
  {
   "cell_type": "code",
   "execution_count": 10,
   "id": "1bc1b5aa",
   "metadata": {
    "scrolled": true
   },
   "outputs": [
    {
     "data": {
      "text/html": [
       "<style>\n",
       ".list-inline {list-style: none; margin:0; padding: 0}\n",
       ".list-inline>li {display: inline-block}\n",
       ".list-inline>li:not(:last-child)::after {content: \"\\00b7\"; padding: 0 .5ex}\n",
       "</style>\n",
       "<ol class=list-inline><li>'/nfs/lab/welison/islet_multiome/intermediates/caQTLs/231026_WE_caQTLs/R207/R207_bulk.bam'</li><li>'/nfs/lab/welison/islet_multiome/intermediates/caQTLs/231026_WE_caQTLs/R217/R217_bulk.bam'</li><li>'/nfs/lab/welison/islet_multiome/intermediates/caQTLs/231026_WE_caQTLs/R218/R218_bulk.bam'</li><li>'/nfs/lab/welison/islet_multiome/intermediates/caQTLs/231026_WE_caQTLs/R221/R221_bulk.bam'</li><li>'/nfs/lab/welison/islet_multiome/intermediates/caQTLs/231026_WE_caQTLs/R223/R223_bulk.bam'</li><li>'/nfs/lab/welison/islet_multiome/intermediates/caQTLs/231026_WE_caQTLs/R226/R226_bulk.bam'</li><li>'/nfs/lab/welison/islet_multiome/intermediates/caQTLs/231026_WE_caQTLs/R228/R228_bulk.bam'</li><li>'/nfs/lab/welison/islet_multiome/intermediates/caQTLs/231026_WE_caQTLs/R234/R234_bulk.bam'</li><li>'/nfs/lab/welison/islet_multiome/intermediates/caQTLs/231026_WE_caQTLs/R237/R237_bulk.bam'</li><li>'/nfs/lab/welison/islet_multiome/intermediates/caQTLs/231026_WE_caQTLs/R238/R238_bulk.bam'</li><li>'/nfs/lab/welison/islet_multiome/intermediates/caQTLs/231026_WE_caQTLs/R246/R246_bulk.bam'</li><li>'/nfs/lab/welison/islet_multiome/intermediates/caQTLs/231026_WE_caQTLs/R247/R247_bulk.bam'</li><li>'/nfs/lab/welison/islet_multiome/intermediates/caQTLs/231026_WE_caQTLs/R275/R275_bulk.bam'</li><li>'/nfs/lab/welison/islet_multiome/intermediates/caQTLs/231026_WE_caQTLs/R284/R284_bulk.bam'</li><li>'/nfs/lab/welison/islet_multiome/intermediates/caQTLs/231026_WE_caQTLs/R290/R290_bulk.bam'</li><li>'/nfs/lab/welison/islet_multiome/intermediates/caQTLs/231026_WE_caQTLs/R292/R292_bulk.bam'</li><li>'/nfs/lab/welison/islet_multiome/intermediates/caQTLs/231026_WE_caQTLs/R316/R316_bulk.bam'</li><li>'/nfs/lab/welison/islet_multiome/intermediates/caQTLs/231026_WE_caQTLs/R317/R317_bulk.bam'</li><li>'/nfs/lab/welison/islet_multiome/intermediates/caQTLs/231026_WE_caQTLs/R319/R319_bulk.bam'</li><li>'/nfs/lab/welison/islet_multiome/intermediates/caQTLs/231026_WE_caQTLs/R325/R325_bulk.bam'</li><li>'/nfs/lab/welison/islet_multiome/intermediates/caQTLs/231026_WE_caQTLs/R326/R326_bulk.bam'</li><li>'/nfs/lab/welison/islet_multiome/intermediates/caQTLs/231026_WE_caQTLs/R327/R327_bulk.bam'</li><li>'/nfs/lab/welison/islet_multiome/intermediates/caQTLs/231026_WE_caQTLs/R332/R332_bulk.bam'</li><li>'/nfs/lab/welison/islet_multiome/intermediates/caQTLs/231026_WE_caQTLs/R353/R353_bulk.bam'</li><li>'/nfs/lab/welison/islet_multiome/intermediates/caQTLs/231026_WE_caQTLs/R354/R354_bulk.bam'</li><li>'/nfs/lab/welison/islet_multiome/intermediates/caQTLs/231026_WE_caQTLs/R362/R362_bulk.bam'</li><li>'/nfs/lab/welison/islet_multiome/intermediates/caQTLs/231026_WE_caQTLs/R363/R363_bulk.bam'</li><li>'/nfs/lab/welison/islet_multiome/intermediates/caQTLs/231026_WE_caQTLs/R364/R364_bulk.bam'</li></ol>\n"
      ],
      "text/latex": [
       "\\begin{enumerate*}\n",
       "\\item '/nfs/lab/welison/islet\\_multiome/intermediates/caQTLs/231026\\_WE\\_caQTLs/R207/R207\\_bulk.bam'\n",
       "\\item '/nfs/lab/welison/islet\\_multiome/intermediates/caQTLs/231026\\_WE\\_caQTLs/R217/R217\\_bulk.bam'\n",
       "\\item '/nfs/lab/welison/islet\\_multiome/intermediates/caQTLs/231026\\_WE\\_caQTLs/R218/R218\\_bulk.bam'\n",
       "\\item '/nfs/lab/welison/islet\\_multiome/intermediates/caQTLs/231026\\_WE\\_caQTLs/R221/R221\\_bulk.bam'\n",
       "\\item '/nfs/lab/welison/islet\\_multiome/intermediates/caQTLs/231026\\_WE\\_caQTLs/R223/R223\\_bulk.bam'\n",
       "\\item '/nfs/lab/welison/islet\\_multiome/intermediates/caQTLs/231026\\_WE\\_caQTLs/R226/R226\\_bulk.bam'\n",
       "\\item '/nfs/lab/welison/islet\\_multiome/intermediates/caQTLs/231026\\_WE\\_caQTLs/R228/R228\\_bulk.bam'\n",
       "\\item '/nfs/lab/welison/islet\\_multiome/intermediates/caQTLs/231026\\_WE\\_caQTLs/R234/R234\\_bulk.bam'\n",
       "\\item '/nfs/lab/welison/islet\\_multiome/intermediates/caQTLs/231026\\_WE\\_caQTLs/R237/R237\\_bulk.bam'\n",
       "\\item '/nfs/lab/welison/islet\\_multiome/intermediates/caQTLs/231026\\_WE\\_caQTLs/R238/R238\\_bulk.bam'\n",
       "\\item '/nfs/lab/welison/islet\\_multiome/intermediates/caQTLs/231026\\_WE\\_caQTLs/R246/R246\\_bulk.bam'\n",
       "\\item '/nfs/lab/welison/islet\\_multiome/intermediates/caQTLs/231026\\_WE\\_caQTLs/R247/R247\\_bulk.bam'\n",
       "\\item '/nfs/lab/welison/islet\\_multiome/intermediates/caQTLs/231026\\_WE\\_caQTLs/R275/R275\\_bulk.bam'\n",
       "\\item '/nfs/lab/welison/islet\\_multiome/intermediates/caQTLs/231026\\_WE\\_caQTLs/R284/R284\\_bulk.bam'\n",
       "\\item '/nfs/lab/welison/islet\\_multiome/intermediates/caQTLs/231026\\_WE\\_caQTLs/R290/R290\\_bulk.bam'\n",
       "\\item '/nfs/lab/welison/islet\\_multiome/intermediates/caQTLs/231026\\_WE\\_caQTLs/R292/R292\\_bulk.bam'\n",
       "\\item '/nfs/lab/welison/islet\\_multiome/intermediates/caQTLs/231026\\_WE\\_caQTLs/R316/R316\\_bulk.bam'\n",
       "\\item '/nfs/lab/welison/islet\\_multiome/intermediates/caQTLs/231026\\_WE\\_caQTLs/R317/R317\\_bulk.bam'\n",
       "\\item '/nfs/lab/welison/islet\\_multiome/intermediates/caQTLs/231026\\_WE\\_caQTLs/R319/R319\\_bulk.bam'\n",
       "\\item '/nfs/lab/welison/islet\\_multiome/intermediates/caQTLs/231026\\_WE\\_caQTLs/R325/R325\\_bulk.bam'\n",
       "\\item '/nfs/lab/welison/islet\\_multiome/intermediates/caQTLs/231026\\_WE\\_caQTLs/R326/R326\\_bulk.bam'\n",
       "\\item '/nfs/lab/welison/islet\\_multiome/intermediates/caQTLs/231026\\_WE\\_caQTLs/R327/R327\\_bulk.bam'\n",
       "\\item '/nfs/lab/welison/islet\\_multiome/intermediates/caQTLs/231026\\_WE\\_caQTLs/R332/R332\\_bulk.bam'\n",
       "\\item '/nfs/lab/welison/islet\\_multiome/intermediates/caQTLs/231026\\_WE\\_caQTLs/R353/R353\\_bulk.bam'\n",
       "\\item '/nfs/lab/welison/islet\\_multiome/intermediates/caQTLs/231026\\_WE\\_caQTLs/R354/R354\\_bulk.bam'\n",
       "\\item '/nfs/lab/welison/islet\\_multiome/intermediates/caQTLs/231026\\_WE\\_caQTLs/R362/R362\\_bulk.bam'\n",
       "\\item '/nfs/lab/welison/islet\\_multiome/intermediates/caQTLs/231026\\_WE\\_caQTLs/R363/R363\\_bulk.bam'\n",
       "\\item '/nfs/lab/welison/islet\\_multiome/intermediates/caQTLs/231026\\_WE\\_caQTLs/R364/R364\\_bulk.bam'\n",
       "\\end{enumerate*}\n"
      ],
      "text/markdown": [
       "1. '/nfs/lab/welison/islet_multiome/intermediates/caQTLs/231026_WE_caQTLs/R207/R207_bulk.bam'\n",
       "2. '/nfs/lab/welison/islet_multiome/intermediates/caQTLs/231026_WE_caQTLs/R217/R217_bulk.bam'\n",
       "3. '/nfs/lab/welison/islet_multiome/intermediates/caQTLs/231026_WE_caQTLs/R218/R218_bulk.bam'\n",
       "4. '/nfs/lab/welison/islet_multiome/intermediates/caQTLs/231026_WE_caQTLs/R221/R221_bulk.bam'\n",
       "5. '/nfs/lab/welison/islet_multiome/intermediates/caQTLs/231026_WE_caQTLs/R223/R223_bulk.bam'\n",
       "6. '/nfs/lab/welison/islet_multiome/intermediates/caQTLs/231026_WE_caQTLs/R226/R226_bulk.bam'\n",
       "7. '/nfs/lab/welison/islet_multiome/intermediates/caQTLs/231026_WE_caQTLs/R228/R228_bulk.bam'\n",
       "8. '/nfs/lab/welison/islet_multiome/intermediates/caQTLs/231026_WE_caQTLs/R234/R234_bulk.bam'\n",
       "9. '/nfs/lab/welison/islet_multiome/intermediates/caQTLs/231026_WE_caQTLs/R237/R237_bulk.bam'\n",
       "10. '/nfs/lab/welison/islet_multiome/intermediates/caQTLs/231026_WE_caQTLs/R238/R238_bulk.bam'\n",
       "11. '/nfs/lab/welison/islet_multiome/intermediates/caQTLs/231026_WE_caQTLs/R246/R246_bulk.bam'\n",
       "12. '/nfs/lab/welison/islet_multiome/intermediates/caQTLs/231026_WE_caQTLs/R247/R247_bulk.bam'\n",
       "13. '/nfs/lab/welison/islet_multiome/intermediates/caQTLs/231026_WE_caQTLs/R275/R275_bulk.bam'\n",
       "14. '/nfs/lab/welison/islet_multiome/intermediates/caQTLs/231026_WE_caQTLs/R284/R284_bulk.bam'\n",
       "15. '/nfs/lab/welison/islet_multiome/intermediates/caQTLs/231026_WE_caQTLs/R290/R290_bulk.bam'\n",
       "16. '/nfs/lab/welison/islet_multiome/intermediates/caQTLs/231026_WE_caQTLs/R292/R292_bulk.bam'\n",
       "17. '/nfs/lab/welison/islet_multiome/intermediates/caQTLs/231026_WE_caQTLs/R316/R316_bulk.bam'\n",
       "18. '/nfs/lab/welison/islet_multiome/intermediates/caQTLs/231026_WE_caQTLs/R317/R317_bulk.bam'\n",
       "19. '/nfs/lab/welison/islet_multiome/intermediates/caQTLs/231026_WE_caQTLs/R319/R319_bulk.bam'\n",
       "20. '/nfs/lab/welison/islet_multiome/intermediates/caQTLs/231026_WE_caQTLs/R325/R325_bulk.bam'\n",
       "21. '/nfs/lab/welison/islet_multiome/intermediates/caQTLs/231026_WE_caQTLs/R326/R326_bulk.bam'\n",
       "22. '/nfs/lab/welison/islet_multiome/intermediates/caQTLs/231026_WE_caQTLs/R327/R327_bulk.bam'\n",
       "23. '/nfs/lab/welison/islet_multiome/intermediates/caQTLs/231026_WE_caQTLs/R332/R332_bulk.bam'\n",
       "24. '/nfs/lab/welison/islet_multiome/intermediates/caQTLs/231026_WE_caQTLs/R353/R353_bulk.bam'\n",
       "25. '/nfs/lab/welison/islet_multiome/intermediates/caQTLs/231026_WE_caQTLs/R354/R354_bulk.bam'\n",
       "26. '/nfs/lab/welison/islet_multiome/intermediates/caQTLs/231026_WE_caQTLs/R362/R362_bulk.bam'\n",
       "27. '/nfs/lab/welison/islet_multiome/intermediates/caQTLs/231026_WE_caQTLs/R363/R363_bulk.bam'\n",
       "28. '/nfs/lab/welison/islet_multiome/intermediates/caQTLs/231026_WE_caQTLs/R364/R364_bulk.bam'\n",
       "\n",
       "\n"
      ],
      "text/plain": [
       " [1] \"/nfs/lab/welison/islet_multiome/intermediates/caQTLs/231026_WE_caQTLs/R207/R207_bulk.bam\"\n",
       " [2] \"/nfs/lab/welison/islet_multiome/intermediates/caQTLs/231026_WE_caQTLs/R217/R217_bulk.bam\"\n",
       " [3] \"/nfs/lab/welison/islet_multiome/intermediates/caQTLs/231026_WE_caQTLs/R218/R218_bulk.bam\"\n",
       " [4] \"/nfs/lab/welison/islet_multiome/intermediates/caQTLs/231026_WE_caQTLs/R221/R221_bulk.bam\"\n",
       " [5] \"/nfs/lab/welison/islet_multiome/intermediates/caQTLs/231026_WE_caQTLs/R223/R223_bulk.bam\"\n",
       " [6] \"/nfs/lab/welison/islet_multiome/intermediates/caQTLs/231026_WE_caQTLs/R226/R226_bulk.bam\"\n",
       " [7] \"/nfs/lab/welison/islet_multiome/intermediates/caQTLs/231026_WE_caQTLs/R228/R228_bulk.bam\"\n",
       " [8] \"/nfs/lab/welison/islet_multiome/intermediates/caQTLs/231026_WE_caQTLs/R234/R234_bulk.bam\"\n",
       " [9] \"/nfs/lab/welison/islet_multiome/intermediates/caQTLs/231026_WE_caQTLs/R237/R237_bulk.bam\"\n",
       "[10] \"/nfs/lab/welison/islet_multiome/intermediates/caQTLs/231026_WE_caQTLs/R238/R238_bulk.bam\"\n",
       "[11] \"/nfs/lab/welison/islet_multiome/intermediates/caQTLs/231026_WE_caQTLs/R246/R246_bulk.bam\"\n",
       "[12] \"/nfs/lab/welison/islet_multiome/intermediates/caQTLs/231026_WE_caQTLs/R247/R247_bulk.bam\"\n",
       "[13] \"/nfs/lab/welison/islet_multiome/intermediates/caQTLs/231026_WE_caQTLs/R275/R275_bulk.bam\"\n",
       "[14] \"/nfs/lab/welison/islet_multiome/intermediates/caQTLs/231026_WE_caQTLs/R284/R284_bulk.bam\"\n",
       "[15] \"/nfs/lab/welison/islet_multiome/intermediates/caQTLs/231026_WE_caQTLs/R290/R290_bulk.bam\"\n",
       "[16] \"/nfs/lab/welison/islet_multiome/intermediates/caQTLs/231026_WE_caQTLs/R292/R292_bulk.bam\"\n",
       "[17] \"/nfs/lab/welison/islet_multiome/intermediates/caQTLs/231026_WE_caQTLs/R316/R316_bulk.bam\"\n",
       "[18] \"/nfs/lab/welison/islet_multiome/intermediates/caQTLs/231026_WE_caQTLs/R317/R317_bulk.bam\"\n",
       "[19] \"/nfs/lab/welison/islet_multiome/intermediates/caQTLs/231026_WE_caQTLs/R319/R319_bulk.bam\"\n",
       "[20] \"/nfs/lab/welison/islet_multiome/intermediates/caQTLs/231026_WE_caQTLs/R325/R325_bulk.bam\"\n",
       "[21] \"/nfs/lab/welison/islet_multiome/intermediates/caQTLs/231026_WE_caQTLs/R326/R326_bulk.bam\"\n",
       "[22] \"/nfs/lab/welison/islet_multiome/intermediates/caQTLs/231026_WE_caQTLs/R327/R327_bulk.bam\"\n",
       "[23] \"/nfs/lab/welison/islet_multiome/intermediates/caQTLs/231026_WE_caQTLs/R332/R332_bulk.bam\"\n",
       "[24] \"/nfs/lab/welison/islet_multiome/intermediates/caQTLs/231026_WE_caQTLs/R353/R353_bulk.bam\"\n",
       "[25] \"/nfs/lab/welison/islet_multiome/intermediates/caQTLs/231026_WE_caQTLs/R354/R354_bulk.bam\"\n",
       "[26] \"/nfs/lab/welison/islet_multiome/intermediates/caQTLs/231026_WE_caQTLs/R362/R362_bulk.bam\"\n",
       "[27] \"/nfs/lab/welison/islet_multiome/intermediates/caQTLs/231026_WE_caQTLs/R363/R363_bulk.bam\"\n",
       "[28] \"/nfs/lab/welison/islet_multiome/intermediates/caQTLs/231026_WE_caQTLs/R364/R364_bulk.bam\""
      ]
     },
     "metadata": {},
     "output_type": "display_data"
    }
   ],
   "source": [
    "sorted_bam"
   ]
  },
  {
   "cell_type": "code",
   "execution_count": 11,
   "id": "98385bdd",
   "metadata": {},
   "outputs": [
    {
     "data": {
      "text/html": [
       "28"
      ],
      "text/latex": [
       "28"
      ],
      "text/markdown": [
       "28"
      ],
      "text/plain": [
       "[1] 28"
      ]
     },
     "metadata": {},
     "output_type": "display_data"
    }
   ],
   "source": [
    "length(sorted_bam)"
   ]
  },
  {
   "cell_type": "code",
   "execution_count": 12,
   "id": "7907cd27",
   "metadata": {
    "scrolled": true
   },
   "outputs": [
    {
     "data": {
      "text/html": [
       "<ol>\n",
       "\t<li>0</li>\n",
       "\t<li>0</li>\n",
       "\t<li>0</li>\n",
       "\t<li>0</li>\n",
       "\t<li>0</li>\n",
       "\t<li>0</li>\n",
       "\t<li>0</li>\n",
       "\t<li>0</li>\n",
       "\t<li>0</li>\n",
       "\t<li>0</li>\n",
       "\t<li>0</li>\n",
       "\t<li>0</li>\n",
       "\t<li>0</li>\n",
       "\t<li>0</li>\n",
       "\t<li>0</li>\n",
       "\t<li>0</li>\n",
       "\t<li>0</li>\n",
       "\t<li>0</li>\n",
       "\t<li>0</li>\n",
       "\t<li>0</li>\n",
       "\t<li>0</li>\n",
       "\t<li>0</li>\n",
       "\t<li>0</li>\n",
       "\t<li>0</li>\n",
       "\t<li>0</li>\n",
       "\t<li>0</li>\n",
       "\t<li>0</li>\n",
       "\t<li>0</li>\n",
       "</ol>\n"
      ],
      "text/latex": [
       "\\begin{enumerate}\n",
       "\\item 0\n",
       "\\item 0\n",
       "\\item 0\n",
       "\\item 0\n",
       "\\item 0\n",
       "\\item 0\n",
       "\\item 0\n",
       "\\item 0\n",
       "\\item 0\n",
       "\\item 0\n",
       "\\item 0\n",
       "\\item 0\n",
       "\\item 0\n",
       "\\item 0\n",
       "\\item 0\n",
       "\\item 0\n",
       "\\item 0\n",
       "\\item 0\n",
       "\\item 0\n",
       "\\item 0\n",
       "\\item 0\n",
       "\\item 0\n",
       "\\item 0\n",
       "\\item 0\n",
       "\\item 0\n",
       "\\item 0\n",
       "\\item 0\n",
       "\\item 0\n",
       "\\end{enumerate}\n"
      ],
      "text/markdown": [
       "1. 0\n",
       "2. 0\n",
       "3. 0\n",
       "4. 0\n",
       "5. 0\n",
       "6. 0\n",
       "7. 0\n",
       "8. 0\n",
       "9. 0\n",
       "10. 0\n",
       "11. 0\n",
       "12. 0\n",
       "13. 0\n",
       "14. 0\n",
       "15. 0\n",
       "16. 0\n",
       "17. 0\n",
       "18. 0\n",
       "19. 0\n",
       "20. 0\n",
       "21. 0\n",
       "22. 0\n",
       "23. 0\n",
       "24. 0\n",
       "25. 0\n",
       "26. 0\n",
       "27. 0\n",
       "28. 0\n",
       "\n",
       "\n"
      ],
      "text/plain": [
       "[[1]]\n",
       "[1] 0\n",
       "\n",
       "[[2]]\n",
       "[1] 0\n",
       "\n",
       "[[3]]\n",
       "[1] 0\n",
       "\n",
       "[[4]]\n",
       "[1] 0\n",
       "\n",
       "[[5]]\n",
       "[1] 0\n",
       "\n",
       "[[6]]\n",
       "[1] 0\n",
       "\n",
       "[[7]]\n",
       "[1] 0\n",
       "\n",
       "[[8]]\n",
       "[1] 0\n",
       "\n",
       "[[9]]\n",
       "[1] 0\n",
       "\n",
       "[[10]]\n",
       "[1] 0\n",
       "\n",
       "[[11]]\n",
       "[1] 0\n",
       "\n",
       "[[12]]\n",
       "[1] 0\n",
       "\n",
       "[[13]]\n",
       "[1] 0\n",
       "\n",
       "[[14]]\n",
       "[1] 0\n",
       "\n",
       "[[15]]\n",
       "[1] 0\n",
       "\n",
       "[[16]]\n",
       "[1] 0\n",
       "\n",
       "[[17]]\n",
       "[1] 0\n",
       "\n",
       "[[18]]\n",
       "[1] 0\n",
       "\n",
       "[[19]]\n",
       "[1] 0\n",
       "\n",
       "[[20]]\n",
       "[1] 0\n",
       "\n",
       "[[21]]\n",
       "[1] 0\n",
       "\n",
       "[[22]]\n",
       "[1] 0\n",
       "\n",
       "[[23]]\n",
       "[1] 0\n",
       "\n",
       "[[24]]\n",
       "[1] 0\n",
       "\n",
       "[[25]]\n",
       "[1] 0\n",
       "\n",
       "[[26]]\n",
       "[1] 0\n",
       "\n",
       "[[27]]\n",
       "[1] 0\n",
       "\n",
       "[[28]]\n",
       "[1] 0\n"
      ]
     },
     "metadata": {},
     "output_type": "display_data"
    }
   ],
   "source": [
    "mclapply(1:length(sorted_bam), function (x) sort_and_index(x),mc.cores = 7)"
   ]
  },
  {
   "cell_type": "markdown",
   "id": "0de2113a",
   "metadata": {},
   "source": [
    "We are making a couple vcfs to test down the road. 1) Variants in peaks only (don't use this) 2) require a minimum number of heterozygous individuals. RAQUAL won't run ASE without enough het individuals, so we filtered by maf rather than the number of heterozygous individuals."
   ]
  },
  {
   "cell_type": "code",
   "execution_count": 4,
   "id": "1d4adc31",
   "metadata": {},
   "outputs": [],
   "source": [
    "celltypes =  c('acinar','alpha','beta','bulk','delta','ductal','endothelial','gamma',\n",
    "               'immune','stellate') #Add subtypes later"
   ]
  },
  {
   "cell_type": "code",
   "execution_count": 6,
   "id": "0b306fa6",
   "metadata": {},
   "outputs": [],
   "source": [
    "allvcf_dir = '/nfs/lab/welison/islet_multiome/intermediates/caQTLs/imputed_genotypes/multiome_28/'"
   ]
  },
  {
   "cell_type": "code",
   "execution_count": 7,
   "id": "bfe4413d",
   "metadata": {},
   "outputs": [
    {
     "data": {
      "text/html": [
       "'/nfs/lab/welison/islet_multiome/intermediates/caQTLs/231026_WE_caQTLs/atac_cell_type_matrices/'"
      ],
      "text/latex": [
       "'/nfs/lab/welison/islet\\_multiome/intermediates/caQTLs/231026\\_WE\\_caQTLs/atac\\_cell\\_type\\_matrices/'"
      ],
      "text/markdown": [
       "'/nfs/lab/welison/islet_multiome/intermediates/caQTLs/231026_WE_caQTLs/atac_cell_type_matrices/'"
      ],
      "text/plain": [
       "[1] \"/nfs/lab/welison/islet_multiome/intermediates/caQTLs/231026_WE_caQTLs/atac_cell_type_matrices/\""
      ]
     },
     "metadata": {},
     "output_type": "display_data"
    },
    {
     "data": {
      "text/html": [
       "'/nfs/lab/welison/islet_multiome/intermediates/caQTLs/231026_WE_caQTLs/caQTLs_rasqual/'"
      ],
      "text/latex": [
       "'/nfs/lab/welison/islet\\_multiome/intermediates/caQTLs/231026\\_WE\\_caQTLs/caQTLs\\_rasqual/'"
      ],
      "text/markdown": [
       "'/nfs/lab/welison/islet_multiome/intermediates/caQTLs/231026_WE_caQTLs/caQTLs_rasqual/'"
      ],
      "text/plain": [
       "[1] \"/nfs/lab/welison/islet_multiome/intermediates/caQTLs/231026_WE_caQTLs/caQTLs_rasqual/\""
      ]
     },
     "metadata": {},
     "output_type": "display_data"
    },
    {
     "data": {
      "text/html": [
       "'/nfs/lab/welison/islet_multiome/intermediates/caQTLs/imputed_genotypes/multiome_28/'"
      ],
      "text/latex": [
       "'/nfs/lab/welison/islet\\_multiome/intermediates/caQTLs/imputed\\_genotypes/multiome\\_28/'"
      ],
      "text/markdown": [
       "'/nfs/lab/welison/islet_multiome/intermediates/caQTLs/imputed_genotypes/multiome_28/'"
      ],
      "text/plain": [
       "[1] \"/nfs/lab/welison/islet_multiome/intermediates/caQTLs/imputed_genotypes/multiome_28/\""
      ]
     },
     "metadata": {},
     "output_type": "display_data"
    }
   ],
   "source": [
    "matdir\n",
    "homedir\n",
    "allvcf_dir"
   ]
  },
  {
   "cell_type": "code",
   "execution_count": 8,
   "id": "d954d356",
   "metadata": {},
   "outputs": [],
   "source": [
    "filter_vcf = function(cell) {\n",
    "    \n",
    "    sample_order <- stringr::str_flatten(read.table(paste0('/nfs/lab/welison/islet_multiome/intermediates/caQTLs/231026_WE_caQTLs/atac_cell_type_matrices/samples.',cell,'.csv'), sep=',')[[1]], collapse=',')\n",
    "    print(cell)\n",
    "    print(sample_order)\n",
    "        \n",
    "    for (n in 1:22) {\n",
    "        vcf    = paste0(allvcf_dir, \"chr\" , n,  \".multi.ancestry.vcf.gz.gz\")\n",
    "        outdir = paste(homedir,  cell, \"vcfs_peaks100kb\", sep=\"/\")    \n",
    "        system(paste(\"mkdir -p \",outdir  ) )   \n",
    "        outvcf = paste0(outdir, \"/chr\",n ,'.filt.vcf.gz')\n",
    "        bed    = paste0(matdir,  \"/\" , cell, '.filtered.bed.100kb.merged')\n",
    "        print(1)\n",
    "        \n",
    "        \n",
    "        #system(paste(\"bcftools view\", vcf , '-s', sample_order, '-R' , bed, \"-i \\'COUNT(GT=\\\"het\\\")>1\\' -Oz -o\" , outvcf))\n",
    "        system(paste(\"bcftools view\", vcf , '-s', sample_order, '-R' , bed, \"-i \\'COUNT(GT=\\\"het\\\")>1\\' -Oz -o\" , outvcf))\n",
    "        system(paste(\"tabix\", outvcf))\n",
    "        print(2)\n",
    "    }\n",
    "}"
   ]
  },
  {
   "cell_type": "code",
   "execution_count": 9,
   "id": "55e1ac92",
   "metadata": {},
   "outputs": [],
   "source": [
    "no_filter_vcf = function(cell) {\n",
    "    \n",
    "    sample_order <- stringr::str_flatten(read.table(paste0('/nfs/lab/welison/islet_multiome/intermediates/caQTLs/231026_WE_caQTLs/atac_cell_type_matrices/samples.',cell,'.csv'), sep=',')[[1]], collapse=',')\n",
    "    print(cell)\n",
    "    print(sample_order)\n",
    "    \n",
    "    for (n in 1:22) {\n",
    "        vcf    = paste0(allvcf_dir, \"chr\" , n,  \".multi.ancestry.vcf.gz.gz\")\n",
    "        outdir = paste(homedir,  cell, \"vcfs_peaks100kb\", sep=\"/\")    \n",
    "        system(paste(\"mkdir -p \",outdir  ) )   \n",
    "        outvcf = paste0(outdir, \"/chr\",n ,'.nofilt.vcf.gz')\n",
    "        bed    = paste0(matdir,  \"/\" , cell, '.filtered.bed.100kb.merged')\n",
    "        print(1)\n",
    "        \n",
    "        #system(paste(\"bcftools view\", vcf , '-s', sample_order, '-R' , bed, \"-i \\'COUNT(GT=\\\"het\\\")>1\\' -Oz -o\" , outvcf))\n",
    "        system(paste(\"bcftools view\", vcf , '-s', sample_order, \"-Oz -o\" , outvcf))\n",
    "        system(paste(\"tabix\", outvcf))\n",
    "        print(2)\n",
    "    }\n",
    "}"
   ]
  },
  {
   "cell_type": "code",
   "execution_count": 10,
   "id": "fd641067",
   "metadata": {},
   "outputs": [
    {
     "data": {
      "text/html": [
       "<style>\n",
       ".list-inline {list-style: none; margin:0; padding: 0}\n",
       ".list-inline>li {display: inline-block}\n",
       ".list-inline>li:not(:last-child)::after {content: \"\\00b7\"; padding: 0 .5ex}\n",
       "</style>\n",
       "<ol class=list-inline><li>'acinar'</li><li>'alpha'</li><li>'beta'</li><li>'bulk'</li><li>'delta'</li><li>'ductal'</li><li>'endothelial'</li><li>'gamma'</li><li>'immune'</li><li>'stellate'</li></ol>\n"
      ],
      "text/latex": [
       "\\begin{enumerate*}\n",
       "\\item 'acinar'\n",
       "\\item 'alpha'\n",
       "\\item 'beta'\n",
       "\\item 'bulk'\n",
       "\\item 'delta'\n",
       "\\item 'ductal'\n",
       "\\item 'endothelial'\n",
       "\\item 'gamma'\n",
       "\\item 'immune'\n",
       "\\item 'stellate'\n",
       "\\end{enumerate*}\n"
      ],
      "text/markdown": [
       "1. 'acinar'\n",
       "2. 'alpha'\n",
       "3. 'beta'\n",
       "4. 'bulk'\n",
       "5. 'delta'\n",
       "6. 'ductal'\n",
       "7. 'endothelial'\n",
       "8. 'gamma'\n",
       "9. 'immune'\n",
       "10. 'stellate'\n",
       "\n",
       "\n"
      ],
      "text/plain": [
       " [1] \"acinar\"      \"alpha\"       \"beta\"        \"bulk\"        \"delta\"      \n",
       " [6] \"ductal\"      \"endothelial\" \"gamma\"       \"immune\"      \"stellate\"   "
      ]
     },
     "metadata": {},
     "output_type": "display_data"
    }
   ],
   "source": [
    "celltypes"
   ]
  },
  {
   "cell_type": "code",
   "execution_count": 11,
   "id": "9a4b8b00",
   "metadata": {},
   "outputs": [
    {
     "data": {
      "text/html": [
       "<ol>\n",
       "\t<li>NULL</li>\n",
       "\t<li>NULL</li>\n",
       "\t<li>NULL</li>\n",
       "\t<li>NULL</li>\n",
       "\t<li>NULL</li>\n",
       "\t<li>NULL</li>\n",
       "\t<li>NULL</li>\n",
       "\t<li>NULL</li>\n",
       "\t<li>NULL</li>\n",
       "\t<li>NULL</li>\n",
       "</ol>\n"
      ],
      "text/latex": [
       "\\begin{enumerate}\n",
       "\\item NULL\n",
       "\\item NULL\n",
       "\\item NULL\n",
       "\\item NULL\n",
       "\\item NULL\n",
       "\\item NULL\n",
       "\\item NULL\n",
       "\\item NULL\n",
       "\\item NULL\n",
       "\\item NULL\n",
       "\\end{enumerate}\n"
      ],
      "text/markdown": [
       "1. NULL\n",
       "2. NULL\n",
       "3. NULL\n",
       "4. NULL\n",
       "5. NULL\n",
       "6. NULL\n",
       "7. NULL\n",
       "8. NULL\n",
       "9. NULL\n",
       "10. NULL\n",
       "\n",
       "\n"
      ],
      "text/plain": [
       "[[1]]\n",
       "NULL\n",
       "\n",
       "[[2]]\n",
       "NULL\n",
       "\n",
       "[[3]]\n",
       "NULL\n",
       "\n",
       "[[4]]\n",
       "NULL\n",
       "\n",
       "[[5]]\n",
       "NULL\n",
       "\n",
       "[[6]]\n",
       "NULL\n",
       "\n",
       "[[7]]\n",
       "NULL\n",
       "\n",
       "[[8]]\n",
       "NULL\n",
       "\n",
       "[[9]]\n",
       "NULL\n",
       "\n",
       "[[10]]\n",
       "NULL\n"
      ]
     },
     "metadata": {},
     "output_type": "display_data"
    }
   ],
   "source": [
    "mclapply(celltypes, function(x) filter_vcf(x) , mc.cores = length(celltypes))"
   ]
  },
  {
   "cell_type": "code",
   "execution_count": 12,
   "id": "533b4bff",
   "metadata": {},
   "outputs": [
    {
     "data": {
      "text/html": [
       "<ol>\n",
       "\t<li>NULL</li>\n",
       "\t<li>NULL</li>\n",
       "\t<li>NULL</li>\n",
       "\t<li>NULL</li>\n",
       "\t<li>NULL</li>\n",
       "\t<li>NULL</li>\n",
       "\t<li>NULL</li>\n",
       "\t<li>NULL</li>\n",
       "\t<li>NULL</li>\n",
       "\t<li>NULL</li>\n",
       "</ol>\n"
      ],
      "text/latex": [
       "\\begin{enumerate}\n",
       "\\item NULL\n",
       "\\item NULL\n",
       "\\item NULL\n",
       "\\item NULL\n",
       "\\item NULL\n",
       "\\item NULL\n",
       "\\item NULL\n",
       "\\item NULL\n",
       "\\item NULL\n",
       "\\item NULL\n",
       "\\end{enumerate}\n"
      ],
      "text/markdown": [
       "1. NULL\n",
       "2. NULL\n",
       "3. NULL\n",
       "4. NULL\n",
       "5. NULL\n",
       "6. NULL\n",
       "7. NULL\n",
       "8. NULL\n",
       "9. NULL\n",
       "10. NULL\n",
       "\n",
       "\n"
      ],
      "text/plain": [
       "[[1]]\n",
       "NULL\n",
       "\n",
       "[[2]]\n",
       "NULL\n",
       "\n",
       "[[3]]\n",
       "NULL\n",
       "\n",
       "[[4]]\n",
       "NULL\n",
       "\n",
       "[[5]]\n",
       "NULL\n",
       "\n",
       "[[6]]\n",
       "NULL\n",
       "\n",
       "[[7]]\n",
       "NULL\n",
       "\n",
       "[[8]]\n",
       "NULL\n",
       "\n",
       "[[9]]\n",
       "NULL\n",
       "\n",
       "[[10]]\n",
       "NULL\n"
      ]
     },
     "metadata": {},
     "output_type": "display_data"
    }
   ],
   "source": [
    "mclapply(celltypes, function(x) no_filter_vcf(x) , mc.cores = length(celltypes))"
   ]
  },
  {
   "cell_type": "code",
   "execution_count": 13,
   "id": "58110632",
   "metadata": {},
   "outputs": [],
   "source": [
    "for (cell in celltypes){\n",
    "    cell_specific_samples <- read.table(paste0('/nfs/lab/welison/islet_multiome/intermediates/caQTLs/231026_WE_caQTLs/atac_cell_type_matrices/samples.',cell,'.csv'), sep=',')[[1]]\n",
    "    \n",
    "    outdir = paste(homedir,  cell, \"vcfs_peaks100kb\", sep=\"/\")   \n",
    "    bam = paste0(sampdir, cell_specific_samples, \"/\", cell_specific_samples, \"_\",cell, \".bam\")\n",
    "    writeLines(bam, paste(outdir, 'bam.list.txt', sep=\"/\"))\n",
    "}"
   ]
  },
  {
   "cell_type": "markdown",
   "id": "c07534a2",
   "metadata": {},
   "source": [
    "Add allele specific counts (ASE, E for effects). I was hitting an error but I don't think it is associated with creaetASVCF but a dependency so next time try the original script."
   ]
  },
  {
   "cell_type": "code",
   "execution_count": 14,
   "id": "77461757",
   "metadata": {},
   "outputs": [],
   "source": [
    "rasqual_ase = function (cell, chr){\n",
    "    setwd(paste0(homedir ,cell, \"/vcfs_peaks100kb\" )  )\n",
    "    \n",
    "    vcf1 = paste0(\"chr\", chr, '.filt.vcf.gz')\n",
    "    vcf2 = paste0(\"chr\", chr, '.ase.filt.vcf.gz')\n",
    "    system(paste(\"rm\", vcf2))  ## remove older files \n",
    "    system(paste0(\"rm \", vcf2, \".tbi\")) \n",
    "    #system(paste('bash /nfs/lab/welison/islet_multiome/notebooks/caQTL/createASVCF.sh paired_end bam.list.txt', vcf1, vcf2,\"atac\"))\n",
    "    system(paste('bash /nfs/lab/welison/islet_multiome/notebooks/caQTL/createASVCF_testing.sh paired_end bam.list.txt', vcf1, vcf2,\"atac\"))\n",
    "    system(paste('tabix', vcf2, \"-f\"))\n",
    "}"
   ]
  },
  {
   "cell_type": "code",
   "execution_count": 15,
   "id": "374f6b75",
   "metadata": {},
   "outputs": [],
   "source": [
    "rasqual_ase_no_filt = function (cell, chr){\n",
    "    setwd(paste0(homedir ,cell, \"/vcfs_peaks100kb\" )  )\n",
    "    \n",
    "    vcf1 = paste0(\"chr\", chr, '.nofilt.vcf.gz')\n",
    "    vcf2 = paste0(\"chr\", chr, '.ase.nofilt.vcf.gz')\n",
    "    system(paste(\"rm\", vcf2))  ## remove older files \n",
    "    system(paste0(\"rm \", vcf2, \".tbi\")) \n",
    "    #system(paste('bash /nfs/lab/welison/islet_multiome/notebooks/caQTL/createASVCF.sh paired_end bam.list.txt', vcf1, vcf2,\"atac\"))\n",
    "    system(paste('bash /nfs/lab/welison/islet_multiome/notebooks/caQTL/createASVCF_testing.sh paired_end bam.list.txt', vcf1, vcf2,\"atac\"))\n",
    "    system(paste('tabix', vcf2, \"-f\"))\n",
    "}"
   ]
  },
  {
   "cell_type": "code",
   "execution_count": null,
   "id": "1c8a218a",
   "metadata": {},
   "outputs": [],
   "source": [
    "#filter_vcf_peaks = function(cell) {\n",
    "#    indir = paste(homedir,  cell, \"vcfs_peaks100kb\", sep=\"/\")    \n",
    "#    outdir = paste(homedir,  cell, \"vcfs_peaksonly\", sep=\"/\")  \n",
    "#    system(paste(\"rm -r \",outdir  ) ) \n",
    "#    system(paste(\"mkdir -p \",outdir  ) )  \n",
    "#   \n",
    "#    for (n in 1:22) {\n",
    "#        invcf  = paste0(indir, \"/chr\",n ,'.ase.filt.vcf.gz')\n",
    "#        outvcf = paste0(outdir, \"/chr\",n ,'.ase.filt.vcf.gz')\n",
    "#        bed    = paste0(matdir,  \"/\" , cell, '.filtered.bed')     \n",
    "#        system(paste(\"bcftools view\", invcf , '-R' , bed,  \"-Oz -o\" , outvcf))\n",
    "#        system(paste(\"tabix\", outvcf))\n",
    "#    }\n",
    "#}"
   ]
  },
  {
   "cell_type": "code",
   "execution_count": 16,
   "id": "f1fcf485",
   "metadata": {},
   "outputs": [
    {
     "data": {
      "text/html": [
       "<style>\n",
       ".list-inline {list-style: none; margin:0; padding: 0}\n",
       ".list-inline>li {display: inline-block}\n",
       ".list-inline>li:not(:last-child)::after {content: \"\\00b7\"; padding: 0 .5ex}\n",
       "</style>\n",
       "<ol class=list-inline><li>'acinar'</li><li>'alpha'</li><li>'beta'</li><li>'bulk'</li><li>'delta'</li><li>'ductal'</li><li>'endothelial'</li><li>'gamma'</li><li>'immune'</li><li>'stellate'</li></ol>\n"
      ],
      "text/latex": [
       "\\begin{enumerate*}\n",
       "\\item 'acinar'\n",
       "\\item 'alpha'\n",
       "\\item 'beta'\n",
       "\\item 'bulk'\n",
       "\\item 'delta'\n",
       "\\item 'ductal'\n",
       "\\item 'endothelial'\n",
       "\\item 'gamma'\n",
       "\\item 'immune'\n",
       "\\item 'stellate'\n",
       "\\end{enumerate*}\n"
      ],
      "text/markdown": [
       "1. 'acinar'\n",
       "2. 'alpha'\n",
       "3. 'beta'\n",
       "4. 'bulk'\n",
       "5. 'delta'\n",
       "6. 'ductal'\n",
       "7. 'endothelial'\n",
       "8. 'gamma'\n",
       "9. 'immune'\n",
       "10. 'stellate'\n",
       "\n",
       "\n"
      ],
      "text/plain": [
       " [1] \"acinar\"      \"alpha\"       \"beta\"        \"bulk\"        \"delta\"      \n",
       " [6] \"ductal\"      \"endothelial\" \"gamma\"       \"immune\"      \"stellate\"   "
      ]
     },
     "metadata": {},
     "output_type": "display_data"
    }
   ],
   "source": [
    "celltypes"
   ]
  },
  {
   "cell_type": "code",
   "execution_count": 70,
   "id": "b12248c7",
   "metadata": {},
   "outputs": [],
   "source": [
    "#celltypes =  c('acinar','alpha','beta','bulk','delta','ductal','endothelial','gamma',\n",
    "#               'immune','stellate') #Add subtypes later"
   ]
  },
  {
   "cell_type": "code",
   "execution_count": 17,
   "id": "da0789bd",
   "metadata": {},
   "outputs": [],
   "source": [
    "for (cc in celltypes){\n",
    "    mclapply(1:22, function (x) rasqual_ase(cell=cc, chr=x),mc.cores = 22)\n",
    "#filter_vcf_peaks(cc)\n",
    "}"
   ]
  },
  {
   "cell_type": "code",
   "execution_count": 18,
   "id": "e674db46",
   "metadata": {},
   "outputs": [],
   "source": [
    "for (cc in celltypes){\n",
    "    mclapply(1:22, function (x) rasqual_ase_no_filt(cell=cc, chr=x),mc.cores = 22)\n",
    "#filter_vcf_peaks(cc)\n",
    "}"
   ]
  },
  {
   "cell_type": "code",
   "execution_count": 19,
   "id": "64da9931",
   "metadata": {},
   "outputs": [
    {
     "data": {
      "text/html": [
       "<ol>\n",
       "\t<li>NULL</li>\n",
       "\t<li>NULL</li>\n",
       "\t<li>NULL</li>\n",
       "\t<li>NULL</li>\n",
       "\t<li>NULL</li>\n",
       "\t<li>NULL</li>\n",
       "\t<li>NULL</li>\n",
       "\t<li>NULL</li>\n",
       "\t<li>NULL</li>\n",
       "\t<li>NULL</li>\n",
       "\t<li>NULL</li>\n",
       "\t<li>NULL</li>\n",
       "\t<li>NULL</li>\n",
       "\t<li>NULL</li>\n",
       "\t<li>NULL</li>\n",
       "\t<li>NULL</li>\n",
       "\t<li>NULL</li>\n",
       "</ol>\n"
      ],
      "text/latex": [
       "\\begin{enumerate}\n",
       "\\item NULL\n",
       "\\item NULL\n",
       "\\item NULL\n",
       "\\item NULL\n",
       "\\item NULL\n",
       "\\item NULL\n",
       "\\item NULL\n",
       "\\item NULL\n",
       "\\item NULL\n",
       "\\item NULL\n",
       "\\item NULL\n",
       "\\item NULL\n",
       "\\item NULL\n",
       "\\item NULL\n",
       "\\item NULL\n",
       "\\item NULL\n",
       "\\item NULL\n",
       "\\end{enumerate}\n"
      ],
      "text/markdown": [
       "1. NULL\n",
       "2. NULL\n",
       "3. NULL\n",
       "4. NULL\n",
       "5. NULL\n",
       "6. NULL\n",
       "7. NULL\n",
       "8. NULL\n",
       "9. NULL\n",
       "10. NULL\n",
       "11. NULL\n",
       "12. NULL\n",
       "13. NULL\n",
       "14. NULL\n",
       "15. NULL\n",
       "16. NULL\n",
       "17. NULL\n",
       "\n",
       "\n"
      ],
      "text/plain": [
       "[[1]]\n",
       "NULL\n",
       "\n",
       "[[2]]\n",
       "NULL\n",
       "\n",
       "[[3]]\n",
       "NULL\n",
       "\n",
       "[[4]]\n",
       "NULL\n",
       "\n",
       "[[5]]\n",
       "NULL\n",
       "\n",
       "[[6]]\n",
       "NULL\n",
       "\n",
       "[[7]]\n",
       "NULL\n",
       "\n",
       "[[8]]\n",
       "NULL\n",
       "\n",
       "[[9]]\n",
       "NULL\n",
       "\n",
       "[[10]]\n",
       "NULL\n",
       "\n",
       "[[11]]\n",
       "NULL\n",
       "\n",
       "[[12]]\n",
       "NULL\n",
       "\n",
       "[[13]]\n",
       "NULL\n",
       "\n",
       "[[14]]\n",
       "NULL\n",
       "\n",
       "[[15]]\n",
       "NULL\n",
       "\n",
       "[[16]]\n",
       "NULL\n",
       "\n",
       "[[17]]\n",
       "NULL\n"
      ]
     },
     "metadata": {},
     "output_type": "display_data"
    }
   ],
   "source": [
    "#mclapply(celltypes, function(x) filter_vcf_peaks(x) , mc.cores = 34)"
   ]
  },
  {
   "cell_type": "code",
   "execution_count": 17,
   "id": "58bddb63",
   "metadata": {},
   "outputs": [],
   "source": [
    "#mclapply(1:5, function (x) rasqual_ase(cell=\"bulk\", chr=x),mc.cores = 5)\n"
   ]
  },
  {
   "cell_type": "code",
   "execution_count": 15,
   "id": "4f6ef62e",
   "metadata": {},
   "outputs": [
    {
     "data": {
      "text/html": [
       "<ol>\n",
       "\t<li>0</li>\n",
       "\t<li>0</li>\n",
       "\t<li>0</li>\n",
       "\t<li>0</li>\n",
       "\t<li>0</li>\n",
       "\t<li>0</li>\n",
       "\t<li>0</li>\n",
       "\t<li>0</li>\n",
       "\t<li>0</li>\n",
       "\t<li>0</li>\n",
       "\t<li>0</li>\n",
       "\t<li>0</li>\n",
       "</ol>\n"
      ],
      "text/latex": [
       "\\begin{enumerate}\n",
       "\\item 0\n",
       "\\item 0\n",
       "\\item 0\n",
       "\\item 0\n",
       "\\item 0\n",
       "\\item 0\n",
       "\\item 0\n",
       "\\item 0\n",
       "\\item 0\n",
       "\\item 0\n",
       "\\item 0\n",
       "\\item 0\n",
       "\\end{enumerate}\n"
      ],
      "text/markdown": [
       "1. 0\n",
       "2. 0\n",
       "3. 0\n",
       "4. 0\n",
       "5. 0\n",
       "6. 0\n",
       "7. 0\n",
       "8. 0\n",
       "9. 0\n",
       "10. 0\n",
       "11. 0\n",
       "12. 0\n",
       "\n",
       "\n"
      ],
      "text/plain": [
       "[[1]]\n",
       "[1] 0\n",
       "\n",
       "[[2]]\n",
       "[1] 0\n",
       "\n",
       "[[3]]\n",
       "[1] 0\n",
       "\n",
       "[[4]]\n",
       "[1] 0\n",
       "\n",
       "[[5]]\n",
       "[1] 0\n",
       "\n",
       "[[6]]\n",
       "[1] 0\n",
       "\n",
       "[[7]]\n",
       "[1] 0\n",
       "\n",
       "[[8]]\n",
       "[1] 0\n",
       "\n",
       "[[9]]\n",
       "[1] 0\n",
       "\n",
       "[[10]]\n",
       "[1] 0\n",
       "\n",
       "[[11]]\n",
       "[1] 0\n",
       "\n",
       "[[12]]\n",
       "[1] 0\n"
      ]
     },
     "metadata": {},
     "output_type": "display_data"
    }
   ],
   "source": [
    "#mclapply(11:22, function (x) rasqual_ase(cell=\"alpha\", chr=x),mc.cores = 22)\n"
   ]
  },
  {
   "cell_type": "code",
   "execution_count": 19,
   "id": "5048ab49",
   "metadata": {},
   "outputs": [
    {
     "name": "stdout",
     "output_type": "stream",
     "text": [
      "acinar alpha beta bulk delta ductal endothelial gamma immune stellate"
     ]
    }
   ],
   "source": [
    "cat (celltypes)"
   ]
  },
  {
   "cell_type": "code",
   "execution_count": 20,
   "id": "a5cee99d",
   "metadata": {},
   "outputs": [
    {
     "data": {
      "text/html": [
       "<style>\n",
       ".list-inline {list-style: none; margin:0; padding: 0}\n",
       ".list-inline>li {display: inline-block}\n",
       ".list-inline>li:not(:last-child)::after {content: \"\\00b7\"; padding: 0 .5ex}\n",
       "</style>\n",
       "<ol class=list-inline><li>'acinar'</li><li>'alpha'</li><li>'beta'</li><li>'bulk'</li><li>'delta'</li><li>'ductal'</li><li>'endothelial'</li><li>'gamma'</li><li>'immune'</li><li>'stellate'</li></ol>\n"
      ],
      "text/latex": [
       "\\begin{enumerate*}\n",
       "\\item 'acinar'\n",
       "\\item 'alpha'\n",
       "\\item 'beta'\n",
       "\\item 'bulk'\n",
       "\\item 'delta'\n",
       "\\item 'ductal'\n",
       "\\item 'endothelial'\n",
       "\\item 'gamma'\n",
       "\\item 'immune'\n",
       "\\item 'stellate'\n",
       "\\end{enumerate*}\n"
      ],
      "text/markdown": [
       "1. 'acinar'\n",
       "2. 'alpha'\n",
       "3. 'beta'\n",
       "4. 'bulk'\n",
       "5. 'delta'\n",
       "6. 'ductal'\n",
       "7. 'endothelial'\n",
       "8. 'gamma'\n",
       "9. 'immune'\n",
       "10. 'stellate'\n",
       "\n",
       "\n"
      ],
      "text/plain": [
       " [1] \"acinar\"      \"alpha\"       \"beta\"        \"bulk\"        \"delta\"      \n",
       " [6] \"ductal\"      \"endothelial\" \"gamma\"       \"immune\"      \"stellate\"   "
      ]
     },
     "metadata": {},
     "output_type": "display_data"
    }
   ],
   "source": [
    "celltypes"
   ]
  },
  {
   "cell_type": "code",
   "execution_count": null,
   "id": "26de4fad",
   "metadata": {},
   "outputs": [],
   "source": []
  }
 ],
 "metadata": {
  "kernelspec": {
   "display_name": "R 4.1\n",
   "language": "R",
   "name": "ir41"
  },
  "language_info": {
   "codemirror_mode": "r",
   "file_extension": ".r",
   "mimetype": "text/x-r-source",
   "name": "R",
   "pygments_lexer": "r",
   "version": "4.1.1"
  }
 },
 "nbformat": 4,
 "nbformat_minor": 5
}
