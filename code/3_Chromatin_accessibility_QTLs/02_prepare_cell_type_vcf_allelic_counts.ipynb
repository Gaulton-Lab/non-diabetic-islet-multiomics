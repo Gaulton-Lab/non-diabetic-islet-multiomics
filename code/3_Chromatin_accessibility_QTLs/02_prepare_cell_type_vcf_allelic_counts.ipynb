{
 "cells": [
  {
   "cell_type": "markdown",
   "id": "2260e00e",
   "metadata": {},
   "source": [
    "For RASQUAL we want the allele specific counts for the allelic imbalance test"
   ]
  },
  {
   "cell_type": "code",
   "execution_count": 1,
   "id": "483e71fd",
   "metadata": {
    "vscode": {
     "languageId": "r"
    }
   },
   "outputs": [],
   "source": [
    "library(parallel)"
   ]
  },
  {
   "cell_type": "code",
   "execution_count": 2,
   "id": "7075a138",
   "metadata": {
    "vscode": {
     "languageId": "r"
    }
   },
   "outputs": [],
   "source": [
    "samples = c('R207','R217','R218','R221','R223','R226','R228','R234','R237','R238',\n",
    "            'R246','R247','R275','R284','R290','R292','R316','R317','R319','R325',\n",
    "            'R326','R327','R332','R353','R354','R362','R363','R364')\n",
    "\n",
    "non_eur_samples = c('R221','R237','R246','R247','R292','R325','R363','R364')"
   ]
  },
  {
   "cell_type": "code",
   "execution_count": 3,
   "id": "77d327a6",
   "metadata": {
    "vscode": {
     "languageId": "r"
    }
   },
   "outputs": [],
   "source": [
    "homedir  = '/path/to/caQTL/stuff/caQTLs_rasqual/'\n",
    "sampdir  = '/path/to/caQTL/stuff/'\n",
    "matdir   = '/path/to/caQTL/stuff/atac_cell_type_matrices/'"
   ]
  },
  {
   "cell_type": "code",
   "execution_count": 4,
   "id": "1edd19bb",
   "metadata": {
    "vscode": {
     "languageId": "r"
    }
   },
   "outputs": [],
   "source": [
    "#dir.create(homedir)"
   ]
  },
  {
   "cell_type": "markdown",
   "id": "13d49058",
   "metadata": {},
   "source": [
    "### sort and index the bulk file"
   ]
  },
  {
   "cell_type": "code",
   "execution_count": 5,
   "id": "375a3856",
   "metadata": {
    "vscode": {
     "languageId": "r"
    }
   },
   "outputs": [],
   "source": [
    "bulksampdir = \"/path/to/bams/dedup_bams/\""
   ]
  },
  {
   "cell_type": "code",
   "execution_count": 6,
   "id": "bcb76600",
   "metadata": {
    "vscode": {
     "languageId": "r"
    }
   },
   "outputs": [],
   "source": [
    "for (s in samples){\n",
    "    bam_in  = paste0(bulksampdir, s, \"/atac_possorted_bam.filt.rmdup.bam\" )\n",
    "    bam_out = paste0(sampdir, s, \"/\",s, \"_bulk_orig.bam\" )\n",
    "    system(paste(\"ln -s\", bam_in, bam_out))\n",
    "}"
   ]
  },
  {
   "cell_type": "code",
   "execution_count": 7,
   "id": "09a807b2",
   "metadata": {
    "vscode": {
     "languageId": "r"
    }
   },
   "outputs": [],
   "source": [
    "setwd(sampdir)"
   ]
  },
  {
   "cell_type": "code",
   "execution_count": 8,
   "id": "5df41993",
   "metadata": {
    "vscode": {
     "languageId": "r"
    }
   },
   "outputs": [],
   "source": [
    "bam        = paste0(sampdir, samples, \"/\",samples, \"_bulk_orig.bam\" )\n",
    "sorted_bam = paste0(sampdir, samples, \"/\",samples, \"_bulk.bam\" )"
   ]
  },
  {
   "cell_type": "code",
   "execution_count": 9,
   "id": "8965be8d",
   "metadata": {
    "vscode": {
     "languageId": "r"
    }
   },
   "outputs": [],
   "source": [
    "# ## sort and Index the bam files\n",
    "sort_and_index = function(b){\n",
    "    \n",
    "    \n",
    "    system(paste('samtools', 'sort', '-m', '2G', '-@', '3', '-o', sorted_bam[b], bam[b]))\n",
    "    system(paste(\"samtools index\", sorted_bam[b]))\n",
    "}"
   ]
  },
  {
   "cell_type": "code",
   "execution_count": null,
   "id": "1bc1b5aa",
   "metadata": {
    "scrolled": true,
    "vscode": {
     "languageId": "r"
    }
   },
   "outputs": [],
   "source": [
    "sorted_bam"
   ]
  },
  {
   "cell_type": "code",
   "execution_count": 11,
   "id": "98385bdd",
   "metadata": {
    "vscode": {
     "languageId": "r"
    }
   },
   "outputs": [
    {
     "data": {
      "text/html": [
       "28"
      ],
      "text/latex": [
       "28"
      ],
      "text/markdown": [
       "28"
      ],
      "text/plain": [
       "[1] 28"
      ]
     },
     "metadata": {},
     "output_type": "display_data"
    }
   ],
   "source": [
    "length(sorted_bam)"
   ]
  },
  {
   "cell_type": "code",
   "execution_count": 12,
   "id": "7907cd27",
   "metadata": {
    "scrolled": true,
    "vscode": {
     "languageId": "r"
    }
   },
   "outputs": [
    {
     "data": {
      "text/html": [
       "<ol>\n",
       "\t<li>0</li>\n",
       "\t<li>0</li>\n",
       "\t<li>0</li>\n",
       "\t<li>0</li>\n",
       "\t<li>0</li>\n",
       "\t<li>0</li>\n",
       "\t<li>0</li>\n",
       "\t<li>0</li>\n",
       "\t<li>0</li>\n",
       "\t<li>0</li>\n",
       "\t<li>0</li>\n",
       "\t<li>0</li>\n",
       "\t<li>0</li>\n",
       "\t<li>0</li>\n",
       "\t<li>0</li>\n",
       "\t<li>0</li>\n",
       "\t<li>0</li>\n",
       "\t<li>0</li>\n",
       "\t<li>0</li>\n",
       "\t<li>0</li>\n",
       "\t<li>0</li>\n",
       "\t<li>0</li>\n",
       "\t<li>0</li>\n",
       "\t<li>0</li>\n",
       "\t<li>0</li>\n",
       "\t<li>0</li>\n",
       "\t<li>0</li>\n",
       "\t<li>0</li>\n",
       "</ol>\n"
      ],
      "text/latex": [
       "\\begin{enumerate}\n",
       "\\item 0\n",
       "\\item 0\n",
       "\\item 0\n",
       "\\item 0\n",
       "\\item 0\n",
       "\\item 0\n",
       "\\item 0\n",
       "\\item 0\n",
       "\\item 0\n",
       "\\item 0\n",
       "\\item 0\n",
       "\\item 0\n",
       "\\item 0\n",
       "\\item 0\n",
       "\\item 0\n",
       "\\item 0\n",
       "\\item 0\n",
       "\\item 0\n",
       "\\item 0\n",
       "\\item 0\n",
       "\\item 0\n",
       "\\item 0\n",
       "\\item 0\n",
       "\\item 0\n",
       "\\item 0\n",
       "\\item 0\n",
       "\\item 0\n",
       "\\item 0\n",
       "\\end{enumerate}\n"
      ],
      "text/markdown": [
       "1. 0\n",
       "2. 0\n",
       "3. 0\n",
       "4. 0\n",
       "5. 0\n",
       "6. 0\n",
       "7. 0\n",
       "8. 0\n",
       "9. 0\n",
       "10. 0\n",
       "11. 0\n",
       "12. 0\n",
       "13. 0\n",
       "14. 0\n",
       "15. 0\n",
       "16. 0\n",
       "17. 0\n",
       "18. 0\n",
       "19. 0\n",
       "20. 0\n",
       "21. 0\n",
       "22. 0\n",
       "23. 0\n",
       "24. 0\n",
       "25. 0\n",
       "26. 0\n",
       "27. 0\n",
       "28. 0\n",
       "\n",
       "\n"
      ],
      "text/plain": [
       "[[1]]\n",
       "[1] 0\n",
       "\n",
       "[[2]]\n",
       "[1] 0\n",
       "\n",
       "[[3]]\n",
       "[1] 0\n",
       "\n",
       "[[4]]\n",
       "[1] 0\n",
       "\n",
       "[[5]]\n",
       "[1] 0\n",
       "\n",
       "[[6]]\n",
       "[1] 0\n",
       "\n",
       "[[7]]\n",
       "[1] 0\n",
       "\n",
       "[[8]]\n",
       "[1] 0\n",
       "\n",
       "[[9]]\n",
       "[1] 0\n",
       "\n",
       "[[10]]\n",
       "[1] 0\n",
       "\n",
       "[[11]]\n",
       "[1] 0\n",
       "\n",
       "[[12]]\n",
       "[1] 0\n",
       "\n",
       "[[13]]\n",
       "[1] 0\n",
       "\n",
       "[[14]]\n",
       "[1] 0\n",
       "\n",
       "[[15]]\n",
       "[1] 0\n",
       "\n",
       "[[16]]\n",
       "[1] 0\n",
       "\n",
       "[[17]]\n",
       "[1] 0\n",
       "\n",
       "[[18]]\n",
       "[1] 0\n",
       "\n",
       "[[19]]\n",
       "[1] 0\n",
       "\n",
       "[[20]]\n",
       "[1] 0\n",
       "\n",
       "[[21]]\n",
       "[1] 0\n",
       "\n",
       "[[22]]\n",
       "[1] 0\n",
       "\n",
       "[[23]]\n",
       "[1] 0\n",
       "\n",
       "[[24]]\n",
       "[1] 0\n",
       "\n",
       "[[25]]\n",
       "[1] 0\n",
       "\n",
       "[[26]]\n",
       "[1] 0\n",
       "\n",
       "[[27]]\n",
       "[1] 0\n",
       "\n",
       "[[28]]\n",
       "[1] 0\n"
      ]
     },
     "metadata": {},
     "output_type": "display_data"
    }
   ],
   "source": [
    "mclapply(1:length(sorted_bam), function (x) sort_and_index(x),mc.cores = 7)"
   ]
  },
  {
   "cell_type": "markdown",
   "id": "0de2113a",
   "metadata": {},
   "source": [
    "We are making a couple vcfs to test down the road. 1) Variants in peaks only (don't use this) 2) require a minimum number of heterozygous individuals. RAQUAL won't run ASE without enough het individuals, so we filtered by maf rather than the number of heterozygous individuals."
   ]
  },
  {
   "cell_type": "code",
   "execution_count": 4,
   "id": "1d4adc31",
   "metadata": {
    "vscode": {
     "languageId": "r"
    }
   },
   "outputs": [],
   "source": [
    "celltypes =  c('acinar','alpha','beta','bulk','delta','ductal','endothelial','gamma',\n",
    "               'immune','stellate') #Add subtypes later"
   ]
  },
  {
   "cell_type": "code",
   "execution_count": 6,
   "id": "0b306fa6",
   "metadata": {
    "vscode": {
     "languageId": "r"
    }
   },
   "outputs": [],
   "source": [
    "allvcf_dir = '/path/to/genotypes/imputed_genotypes/multiome_28/'"
   ]
  },
  {
   "cell_type": "code",
   "execution_count": null,
   "id": "bfe4413d",
   "metadata": {
    "vscode": {
     "languageId": "r"
    }
   },
   "outputs": [],
   "source": [
    "matdir\n",
    "homedir\n",
    "allvcf_dir"
   ]
  },
  {
   "cell_type": "code",
   "execution_count": 8,
   "id": "d954d356",
   "metadata": {
    "vscode": {
     "languageId": "r"
    }
   },
   "outputs": [],
   "source": [
    "filter_vcf = function(cell) {\n",
    "    \n",
    "    sample_order <- stringr::str_flatten(read.table(paste0('/path/to/caQTL/stuff//atac_cell_type_matrices/samples.',cell,'.csv'), sep=',')[[1]], collapse=',')\n",
    "    print(cell)\n",
    "    print(sample_order)\n",
    "        \n",
    "    for (n in 1:22) {\n",
    "        vcf    = paste0(allvcf_dir, \"chr\" , n,  \".multi.ancestry.vcf.gz.gz\")\n",
    "        outdir = paste(homedir,  cell, \"vcfs_peaks100kb\", sep=\"/\")    \n",
    "        system(paste(\"mkdir -p \",outdir  ) )   \n",
    "        outvcf = paste0(outdir, \"/chr\",n ,'.filt.vcf.gz')\n",
    "        bed    = paste0(matdir,  \"/\" , cell, '.filtered.bed.100kb.merged')\n",
    "        print(1)\n",
    "        \n",
    "        \n",
    "        #system(paste(\"bcftools view\", vcf , '-s', sample_order, '-R' , bed, \"-i \\'COUNT(GT=\\\"het\\\")>1\\' -Oz -o\" , outvcf))\n",
    "        system(paste(\"bcftools view\", vcf , '-s', sample_order, '-R' , bed, \"-i \\'COUNT(GT=\\\"het\\\")>1\\' -Oz -o\" , outvcf))\n",
    "        system(paste(\"tabix\", outvcf))\n",
    "        print(2)\n",
    "    }\n",
    "}"
   ]
  },
  {
   "cell_type": "code",
   "execution_count": 9,
   "id": "55e1ac92",
   "metadata": {
    "vscode": {
     "languageId": "r"
    }
   },
   "outputs": [],
   "source": [
    "no_filter_vcf = function(cell) {\n",
    "    \n",
    "    sample_order <- stringr::str_flatten(read.table(paste0('/path/to/caQTL/stuff/atac_cell_type_matrices/samples.',cell,'.csv'), sep=',')[[1]], collapse=',')\n",
    "    print(cell)\n",
    "    print(sample_order)\n",
    "    \n",
    "    for (n in 1:22) {\n",
    "        vcf    = paste0(allvcf_dir, \"chr\" , n,  \".multi.ancestry.vcf.gz.gz\")\n",
    "        outdir = paste(homedir,  cell, \"vcfs_peaks100kb\", sep=\"/\")    \n",
    "        system(paste(\"mkdir -p \",outdir  ) )   \n",
    "        outvcf = paste0(outdir, \"/chr\",n ,'.nofilt.vcf.gz')\n",
    "        bed    = paste0(matdir,  \"/\" , cell, '.filtered.bed.100kb.merged')\n",
    "        print(1)\n",
    "        \n",
    "        #system(paste(\"bcftools view\", vcf , '-s', sample_order, '-R' , bed, \"-i \\'COUNT(GT=\\\"het\\\")>1\\' -Oz -o\" , outvcf))\n",
    "        system(paste(\"bcftools view\", vcf , '-s', sample_order, \"-Oz -o\" , outvcf))\n",
    "        system(paste(\"tabix\", outvcf))\n",
    "        print(2)\n",
    "    }\n",
    "}"
   ]
  },
  {
   "cell_type": "code",
   "execution_count": 10,
   "id": "fd641067",
   "metadata": {
    "vscode": {
     "languageId": "r"
    }
   },
   "outputs": [
    {
     "data": {
      "text/html": [
       "<style>\n",
       ".list-inline {list-style: none; margin:0; padding: 0}\n",
       ".list-inline>li {display: inline-block}\n",
       ".list-inline>li:not(:last-child)::after {content: \"\\00b7\"; padding: 0 .5ex}\n",
       "</style>\n",
       "<ol class=list-inline><li>'acinar'</li><li>'alpha'</li><li>'beta'</li><li>'bulk'</li><li>'delta'</li><li>'ductal'</li><li>'endothelial'</li><li>'gamma'</li><li>'immune'</li><li>'stellate'</li></ol>\n"
      ],
      "text/latex": [
       "\\begin{enumerate*}\n",
       "\\item 'acinar'\n",
       "\\item 'alpha'\n",
       "\\item 'beta'\n",
       "\\item 'bulk'\n",
       "\\item 'delta'\n",
       "\\item 'ductal'\n",
       "\\item 'endothelial'\n",
       "\\item 'gamma'\n",
       "\\item 'immune'\n",
       "\\item 'stellate'\n",
       "\\end{enumerate*}\n"
      ],
      "text/markdown": [
       "1. 'acinar'\n",
       "2. 'alpha'\n",
       "3. 'beta'\n",
       "4. 'bulk'\n",
       "5. 'delta'\n",
       "6. 'ductal'\n",
       "7. 'endothelial'\n",
       "8. 'gamma'\n",
       "9. 'immune'\n",
       "10. 'stellate'\n",
       "\n",
       "\n"
      ],
      "text/plain": [
       " [1] \"acinar\"      \"alpha\"       \"beta\"        \"bulk\"        \"delta\"      \n",
       " [6] \"ductal\"      \"endothelial\" \"gamma\"       \"immune\"      \"stellate\"   "
      ]
     },
     "metadata": {},
     "output_type": "display_data"
    }
   ],
   "source": [
    "celltypes"
   ]
  },
  {
   "cell_type": "code",
   "execution_count": 11,
   "id": "9a4b8b00",
   "metadata": {
    "vscode": {
     "languageId": "r"
    }
   },
   "outputs": [
    {
     "data": {
      "text/html": [
       "<ol>\n",
       "\t<li>NULL</li>\n",
       "\t<li>NULL</li>\n",
       "\t<li>NULL</li>\n",
       "\t<li>NULL</li>\n",
       "\t<li>NULL</li>\n",
       "\t<li>NULL</li>\n",
       "\t<li>NULL</li>\n",
       "\t<li>NULL</li>\n",
       "\t<li>NULL</li>\n",
       "\t<li>NULL</li>\n",
       "</ol>\n"
      ],
      "text/latex": [
       "\\begin{enumerate}\n",
       "\\item NULL\n",
       "\\item NULL\n",
       "\\item NULL\n",
       "\\item NULL\n",
       "\\item NULL\n",
       "\\item NULL\n",
       "\\item NULL\n",
       "\\item NULL\n",
       "\\item NULL\n",
       "\\item NULL\n",
       "\\end{enumerate}\n"
      ],
      "text/markdown": [
       "1. NULL\n",
       "2. NULL\n",
       "3. NULL\n",
       "4. NULL\n",
       "5. NULL\n",
       "6. NULL\n",
       "7. NULL\n",
       "8. NULL\n",
       "9. NULL\n",
       "10. NULL\n",
       "\n",
       "\n"
      ],
      "text/plain": [
       "[[1]]\n",
       "NULL\n",
       "\n",
       "[[2]]\n",
       "NULL\n",
       "\n",
       "[[3]]\n",
       "NULL\n",
       "\n",
       "[[4]]\n",
       "NULL\n",
       "\n",
       "[[5]]\n",
       "NULL\n",
       "\n",
       "[[6]]\n",
       "NULL\n",
       "\n",
       "[[7]]\n",
       "NULL\n",
       "\n",
       "[[8]]\n",
       "NULL\n",
       "\n",
       "[[9]]\n",
       "NULL\n",
       "\n",
       "[[10]]\n",
       "NULL\n"
      ]
     },
     "metadata": {},
     "output_type": "display_data"
    }
   ],
   "source": [
    "mclapply(celltypes, function(x) filter_vcf(x) , mc.cores = length(celltypes))"
   ]
  },
  {
   "cell_type": "code",
   "execution_count": 12,
   "id": "533b4bff",
   "metadata": {
    "vscode": {
     "languageId": "r"
    }
   },
   "outputs": [
    {
     "data": {
      "text/html": [
       "<ol>\n",
       "\t<li>NULL</li>\n",
       "\t<li>NULL</li>\n",
       "\t<li>NULL</li>\n",
       "\t<li>NULL</li>\n",
       "\t<li>NULL</li>\n",
       "\t<li>NULL</li>\n",
       "\t<li>NULL</li>\n",
       "\t<li>NULL</li>\n",
       "\t<li>NULL</li>\n",
       "\t<li>NULL</li>\n",
       "</ol>\n"
      ],
      "text/latex": [
       "\\begin{enumerate}\n",
       "\\item NULL\n",
       "\\item NULL\n",
       "\\item NULL\n",
       "\\item NULL\n",
       "\\item NULL\n",
       "\\item NULL\n",
       "\\item NULL\n",
       "\\item NULL\n",
       "\\item NULL\n",
       "\\item NULL\n",
       "\\end{enumerate}\n"
      ],
      "text/markdown": [
       "1. NULL\n",
       "2. NULL\n",
       "3. NULL\n",
       "4. NULL\n",
       "5. NULL\n",
       "6. NULL\n",
       "7. NULL\n",
       "8. NULL\n",
       "9. NULL\n",
       "10. NULL\n",
       "\n",
       "\n"
      ],
      "text/plain": [
       "[[1]]\n",
       "NULL\n",
       "\n",
       "[[2]]\n",
       "NULL\n",
       "\n",
       "[[3]]\n",
       "NULL\n",
       "\n",
       "[[4]]\n",
       "NULL\n",
       "\n",
       "[[5]]\n",
       "NULL\n",
       "\n",
       "[[6]]\n",
       "NULL\n",
       "\n",
       "[[7]]\n",
       "NULL\n",
       "\n",
       "[[8]]\n",
       "NULL\n",
       "\n",
       "[[9]]\n",
       "NULL\n",
       "\n",
       "[[10]]\n",
       "NULL\n"
      ]
     },
     "metadata": {},
     "output_type": "display_data"
    }
   ],
   "source": [
    "mclapply(celltypes, function(x) no_filter_vcf(x) , mc.cores = length(celltypes))"
   ]
  },
  {
   "cell_type": "code",
   "execution_count": 13,
   "id": "58110632",
   "metadata": {
    "vscode": {
     "languageId": "r"
    }
   },
   "outputs": [],
   "source": [
    "for (cell in celltypes){\n",
    "    cell_specific_samples <- read.table(paste0('/path/to/caQTL/stuff/atac_cell_type_matrices/samples.',cell,'.csv'), sep=',')[[1]]\n",
    "    \n",
    "    outdir = paste(homedir,  cell, \"vcfs_peaks100kb\", sep=\"/\")   \n",
    "    bam = paste0(sampdir, cell_specific_samples, \"/\", cell_specific_samples, \"_\",cell, \".bam\")\n",
    "    writeLines(bam, paste(outdir, 'bam.list.txt', sep=\"/\"))\n",
    "}"
   ]
  },
  {
   "cell_type": "markdown",
   "id": "c07534a2",
   "metadata": {},
   "source": [
    "Add allele specific counts (ASE, E for effects). I was hitting an error but I don't think it is associated with creaetASVCF but a dependency so next time try the original script."
   ]
  },
  {
   "cell_type": "code",
   "execution_count": 14,
   "id": "77461757",
   "metadata": {
    "vscode": {
     "languageId": "r"
    }
   },
   "outputs": [],
   "source": [
    "rasqual_ase = function (cell, chr){\n",
    "    setwd(paste0(homedir ,cell, \"/vcfs_peaks100kb\" )  )\n",
    "    \n",
    "    vcf1 = paste0(\"chr\", chr, '.filt.vcf.gz')\n",
    "    vcf2 = paste0(\"chr\", chr, '.ase.filt.vcf.gz')\n",
    "    system(paste(\"rm\", vcf2))  ## remove older files \n",
    "    system(paste0(\"rm \", vcf2, \".tbi\")) \n",
    "    #system(paste('bash /script/path/createASVCF.sh paired_end bam.list.txt', vcf1, vcf2,\"atac\"))\n",
    "    system(paste('bash /script/path/createASVCF_testing.sh paired_end bam.list.txt', vcf1, vcf2,\"atac\"))\n",
    "    system(paste('tabix', vcf2, \"-f\"))\n",
    "}"
   ]
  },
  {
   "cell_type": "code",
   "execution_count": 15,
   "id": "374f6b75",
   "metadata": {
    "vscode": {
     "languageId": "r"
    }
   },
   "outputs": [],
   "source": [
    "rasqual_ase_no_filt = function (cell, chr){\n",
    "    setwd(paste0(homedir ,cell, \"/vcfs_peaks100kb\" )  )\n",
    "    \n",
    "    vcf1 = paste0(\"chr\", chr, '.nofilt.vcf.gz')\n",
    "    vcf2 = paste0(\"chr\", chr, '.ase.nofilt.vcf.gz')\n",
    "    system(paste(\"rm\", vcf2))  ## remove older files \n",
    "    system(paste0(\"rm \", vcf2, \".tbi\")) \n",
    "    #system(paste('bash /script/path/createASVCF.sh paired_end bam.list.txt', vcf1, vcf2,\"atac\"))\n",
    "    system(paste('bash /script/path/createASVCF_testing.sh paired_end bam.list.txt', vcf1, vcf2,\"atac\"))\n",
    "    system(paste('tabix', vcf2, \"-f\"))\n",
    "}"
   ]
  },
  {
   "cell_type": "code",
   "execution_count": null,
   "id": "1c8a218a",
   "metadata": {
    "vscode": {
     "languageId": "r"
    }
   },
   "outputs": [],
   "source": [
    "#filter_vcf_peaks = function(cell) {\n",
    "#    indir = paste(homedir,  cell, \"vcfs_peaks100kb\", sep=\"/\")    \n",
    "#    outdir = paste(homedir,  cell, \"vcfs_peaksonly\", sep=\"/\")  \n",
    "#    system(paste(\"rm -r \",outdir  ) ) \n",
    "#    system(paste(\"mkdir -p \",outdir  ) )  \n",
    "#   \n",
    "#    for (n in 1:22) {\n",
    "#        invcf  = paste0(indir, \"/chr\",n ,'.ase.filt.vcf.gz')\n",
    "#        outvcf = paste0(outdir, \"/chr\",n ,'.ase.filt.vcf.gz')\n",
    "#        bed    = paste0(matdir,  \"/\" , cell, '.filtered.bed')     \n",
    "#        system(paste(\"bcftools view\", invcf , '-R' , bed,  \"-Oz -o\" , outvcf))\n",
    "#        system(paste(\"tabix\", outvcf))\n",
    "#    }\n",
    "#}"
   ]
  },
  {
   "cell_type": "code",
   "execution_count": 16,
   "id": "f1fcf485",
   "metadata": {
    "vscode": {
     "languageId": "r"
    }
   },
   "outputs": [
    {
     "data": {
      "text/html": [
       "<style>\n",
       ".list-inline {list-style: none; margin:0; padding: 0}\n",
       ".list-inline>li {display: inline-block}\n",
       ".list-inline>li:not(:last-child)::after {content: \"\\00b7\"; padding: 0 .5ex}\n",
       "</style>\n",
       "<ol class=list-inline><li>'acinar'</li><li>'alpha'</li><li>'beta'</li><li>'bulk'</li><li>'delta'</li><li>'ductal'</li><li>'endothelial'</li><li>'gamma'</li><li>'immune'</li><li>'stellate'</li></ol>\n"
      ],
      "text/latex": [
       "\\begin{enumerate*}\n",
       "\\item 'acinar'\n",
       "\\item 'alpha'\n",
       "\\item 'beta'\n",
       "\\item 'bulk'\n",
       "\\item 'delta'\n",
       "\\item 'ductal'\n",
       "\\item 'endothelial'\n",
       "\\item 'gamma'\n",
       "\\item 'immune'\n",
       "\\item 'stellate'\n",
       "\\end{enumerate*}\n"
      ],
      "text/markdown": [
       "1. 'acinar'\n",
       "2. 'alpha'\n",
       "3. 'beta'\n",
       "4. 'bulk'\n",
       "5. 'delta'\n",
       "6. 'ductal'\n",
       "7. 'endothelial'\n",
       "8. 'gamma'\n",
       "9. 'immune'\n",
       "10. 'stellate'\n",
       "\n",
       "\n"
      ],
      "text/plain": [
       " [1] \"acinar\"      \"alpha\"       \"beta\"        \"bulk\"        \"delta\"      \n",
       " [6] \"ductal\"      \"endothelial\" \"gamma\"       \"immune\"      \"stellate\"   "
      ]
     },
     "metadata": {},
     "output_type": "display_data"
    }
   ],
   "source": [
    "celltypes"
   ]
  },
  {
   "cell_type": "code",
   "execution_count": 70,
   "id": "b12248c7",
   "metadata": {
    "vscode": {
     "languageId": "r"
    }
   },
   "outputs": [],
   "source": [
    "#celltypes =  c('acinar','alpha','beta','bulk','delta','ductal','endothelial','gamma',\n",
    "#               'immune','stellate') #Add subtypes later"
   ]
  },
  {
   "cell_type": "code",
   "execution_count": 17,
   "id": "da0789bd",
   "metadata": {
    "vscode": {
     "languageId": "r"
    }
   },
   "outputs": [],
   "source": [
    "for (cc in celltypes){\n",
    "    mclapply(1:22, function (x) rasqual_ase(cell=cc, chr=x),mc.cores = 22)\n",
    "#filter_vcf_peaks(cc)\n",
    "}"
   ]
  },
  {
   "cell_type": "code",
   "execution_count": 18,
   "id": "e674db46",
   "metadata": {
    "vscode": {
     "languageId": "r"
    }
   },
   "outputs": [],
   "source": [
    "for (cc in celltypes){\n",
    "    mclapply(1:22, function (x) rasqual_ase_no_filt(cell=cc, chr=x),mc.cores = 22)\n",
    "#filter_vcf_peaks(cc)\n",
    "}"
   ]
  },
  {
   "cell_type": "code",
   "execution_count": 19,
   "id": "64da9931",
   "metadata": {
    "vscode": {
     "languageId": "r"
    }
   },
   "outputs": [
    {
     "data": {
      "text/html": [
       "<ol>\n",
       "\t<li>NULL</li>\n",
       "\t<li>NULL</li>\n",
       "\t<li>NULL</li>\n",
       "\t<li>NULL</li>\n",
       "\t<li>NULL</li>\n",
       "\t<li>NULL</li>\n",
       "\t<li>NULL</li>\n",
       "\t<li>NULL</li>\n",
       "\t<li>NULL</li>\n",
       "\t<li>NULL</li>\n",
       "\t<li>NULL</li>\n",
       "\t<li>NULL</li>\n",
       "\t<li>NULL</li>\n",
       "\t<li>NULL</li>\n",
       "\t<li>NULL</li>\n",
       "\t<li>NULL</li>\n",
       "\t<li>NULL</li>\n",
       "</ol>\n"
      ],
      "text/latex": [
       "\\begin{enumerate}\n",
       "\\item NULL\n",
       "\\item NULL\n",
       "\\item NULL\n",
       "\\item NULL\n",
       "\\item NULL\n",
       "\\item NULL\n",
       "\\item NULL\n",
       "\\item NULL\n",
       "\\item NULL\n",
       "\\item NULL\n",
       "\\item NULL\n",
       "\\item NULL\n",
       "\\item NULL\n",
       "\\item NULL\n",
       "\\item NULL\n",
       "\\item NULL\n",
       "\\item NULL\n",
       "\\end{enumerate}\n"
      ],
      "text/markdown": [
       "1. NULL\n",
       "2. NULL\n",
       "3. NULL\n",
       "4. NULL\n",
       "5. NULL\n",
       "6. NULL\n",
       "7. NULL\n",
       "8. NULL\n",
       "9. NULL\n",
       "10. NULL\n",
       "11. NULL\n",
       "12. NULL\n",
       "13. NULL\n",
       "14. NULL\n",
       "15. NULL\n",
       "16. NULL\n",
       "17. NULL\n",
       "\n",
       "\n"
      ],
      "text/plain": [
       "[[1]]\n",
       "NULL\n",
       "\n",
       "[[2]]\n",
       "NULL\n",
       "\n",
       "[[3]]\n",
       "NULL\n",
       "\n",
       "[[4]]\n",
       "NULL\n",
       "\n",
       "[[5]]\n",
       "NULL\n",
       "\n",
       "[[6]]\n",
       "NULL\n",
       "\n",
       "[[7]]\n",
       "NULL\n",
       "\n",
       "[[8]]\n",
       "NULL\n",
       "\n",
       "[[9]]\n",
       "NULL\n",
       "\n",
       "[[10]]\n",
       "NULL\n",
       "\n",
       "[[11]]\n",
       "NULL\n",
       "\n",
       "[[12]]\n",
       "NULL\n",
       "\n",
       "[[13]]\n",
       "NULL\n",
       "\n",
       "[[14]]\n",
       "NULL\n",
       "\n",
       "[[15]]\n",
       "NULL\n",
       "\n",
       "[[16]]\n",
       "NULL\n",
       "\n",
       "[[17]]\n",
       "NULL\n"
      ]
     },
     "metadata": {},
     "output_type": "display_data"
    }
   ],
   "source": [
    "#mclapply(celltypes, function(x) filter_vcf_peaks(x) , mc.cores = 34)"
   ]
  },
  {
   "cell_type": "code",
   "execution_count": 17,
   "id": "58bddb63",
   "metadata": {
    "vscode": {
     "languageId": "r"
    }
   },
   "outputs": [],
   "source": [
    "#mclapply(1:5, function (x) rasqual_ase(cell=\"bulk\", chr=x),mc.cores = 5)\n"
   ]
  },
  {
   "cell_type": "code",
   "execution_count": 15,
   "id": "4f6ef62e",
   "metadata": {
    "vscode": {
     "languageId": "r"
    }
   },
   "outputs": [
    {
     "data": {
      "text/html": [
       "<ol>\n",
       "\t<li>0</li>\n",
       "\t<li>0</li>\n",
       "\t<li>0</li>\n",
       "\t<li>0</li>\n",
       "\t<li>0</li>\n",
       "\t<li>0</li>\n",
       "\t<li>0</li>\n",
       "\t<li>0</li>\n",
       "\t<li>0</li>\n",
       "\t<li>0</li>\n",
       "\t<li>0</li>\n",
       "\t<li>0</li>\n",
       "</ol>\n"
      ],
      "text/latex": [
       "\\begin{enumerate}\n",
       "\\item 0\n",
       "\\item 0\n",
       "\\item 0\n",
       "\\item 0\n",
       "\\item 0\n",
       "\\item 0\n",
       "\\item 0\n",
       "\\item 0\n",
       "\\item 0\n",
       "\\item 0\n",
       "\\item 0\n",
       "\\item 0\n",
       "\\end{enumerate}\n"
      ],
      "text/markdown": [
       "1. 0\n",
       "2. 0\n",
       "3. 0\n",
       "4. 0\n",
       "5. 0\n",
       "6. 0\n",
       "7. 0\n",
       "8. 0\n",
       "9. 0\n",
       "10. 0\n",
       "11. 0\n",
       "12. 0\n",
       "\n",
       "\n"
      ],
      "text/plain": [
       "[[1]]\n",
       "[1] 0\n",
       "\n",
       "[[2]]\n",
       "[1] 0\n",
       "\n",
       "[[3]]\n",
       "[1] 0\n",
       "\n",
       "[[4]]\n",
       "[1] 0\n",
       "\n",
       "[[5]]\n",
       "[1] 0\n",
       "\n",
       "[[6]]\n",
       "[1] 0\n",
       "\n",
       "[[7]]\n",
       "[1] 0\n",
       "\n",
       "[[8]]\n",
       "[1] 0\n",
       "\n",
       "[[9]]\n",
       "[1] 0\n",
       "\n",
       "[[10]]\n",
       "[1] 0\n",
       "\n",
       "[[11]]\n",
       "[1] 0\n",
       "\n",
       "[[12]]\n",
       "[1] 0\n"
      ]
     },
     "metadata": {},
     "output_type": "display_data"
    }
   ],
   "source": [
    "#mclapply(11:22, function (x) rasqual_ase(cell=\"alpha\", chr=x),mc.cores = 22)\n"
   ]
  },
  {
   "cell_type": "code",
   "execution_count": 19,
   "id": "5048ab49",
   "metadata": {
    "vscode": {
     "languageId": "r"
    }
   },
   "outputs": [
    {
     "name": "stdout",
     "output_type": "stream",
     "text": [
      "acinar alpha beta bulk delta ductal endothelial gamma immune stellate"
     ]
    }
   ],
   "source": [
    "cat (celltypes)"
   ]
  },
  {
   "cell_type": "code",
   "execution_count": 20,
   "id": "a5cee99d",
   "metadata": {
    "vscode": {
     "languageId": "r"
    }
   },
   "outputs": [
    {
     "data": {
      "text/html": [
       "<style>\n",
       ".list-inline {list-style: none; margin:0; padding: 0}\n",
       ".list-inline>li {display: inline-block}\n",
       ".list-inline>li:not(:last-child)::after {content: \"\\00b7\"; padding: 0 .5ex}\n",
       "</style>\n",
       "<ol class=list-inline><li>'acinar'</li><li>'alpha'</li><li>'beta'</li><li>'bulk'</li><li>'delta'</li><li>'ductal'</li><li>'endothelial'</li><li>'gamma'</li><li>'immune'</li><li>'stellate'</li></ol>\n"
      ],
      "text/latex": [
       "\\begin{enumerate*}\n",
       "\\item 'acinar'\n",
       "\\item 'alpha'\n",
       "\\item 'beta'\n",
       "\\item 'bulk'\n",
       "\\item 'delta'\n",
       "\\item 'ductal'\n",
       "\\item 'endothelial'\n",
       "\\item 'gamma'\n",
       "\\item 'immune'\n",
       "\\item 'stellate'\n",
       "\\end{enumerate*}\n"
      ],
      "text/markdown": [
       "1. 'acinar'\n",
       "2. 'alpha'\n",
       "3. 'beta'\n",
       "4. 'bulk'\n",
       "5. 'delta'\n",
       "6. 'ductal'\n",
       "7. 'endothelial'\n",
       "8. 'gamma'\n",
       "9. 'immune'\n",
       "10. 'stellate'\n",
       "\n",
       "\n"
      ],
      "text/plain": [
       " [1] \"acinar\"      \"alpha\"       \"beta\"        \"bulk\"        \"delta\"      \n",
       " [6] \"ductal\"      \"endothelial\" \"gamma\"       \"immune\"      \"stellate\"   "
      ]
     },
     "metadata": {},
     "output_type": "display_data"
    }
   ],
   "source": [
    "celltypes"
   ]
  },
  {
   "cell_type": "code",
   "execution_count": null,
   "id": "26de4fad",
   "metadata": {
    "vscode": {
     "languageId": "r"
    }
   },
   "outputs": [],
   "source": []
  }
 ],
 "metadata": {
  "kernelspec": {
   "display_name": "R 4.1\n",
   "language": "R",
   "name": "ir41"
  },
  "language_info": {
   "codemirror_mode": "r",
   "file_extension": ".r",
   "mimetype": "text/x-r-source",
   "name": "R",
   "pygments_lexer": "r",
   "version": "4.1.1"
  }
 },
 "nbformat": 4,
 "nbformat_minor": 5
}
