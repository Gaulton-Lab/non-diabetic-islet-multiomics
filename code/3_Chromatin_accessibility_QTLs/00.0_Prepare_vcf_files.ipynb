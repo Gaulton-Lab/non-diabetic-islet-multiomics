{
 "cells": [
  {
   "cell_type": "markdown",
   "id": "5870067f",
   "metadata": {},
   "source": [
    "This notebook is used to prepare the imputed VCF files  \n",
    "\n",
    "First we filter the vcf (for snps with R^2 > 0.7), then merge"
   ]
  },
  {
   "cell_type": "code",
   "execution_count": 1,
   "id": "171dd86a",
   "metadata": {
    "vscode": {
     "languageId": "r"
    }
   },
   "outputs": [],
   "source": [
    "library(parallel)"
   ]
  },
  {
   "cell_type": "code",
   "execution_count": 2,
   "id": "7d98b17b",
   "metadata": {
    "vscode": {
     "languageId": "r"
    }
   },
   "outputs": [],
   "source": [
    "setwd(\"/path/to/imputed_genotypes\")"
   ]
  },
  {
   "cell_type": "code",
   "execution_count": 9,
   "id": "ca0b605b",
   "metadata": {
    "vscode": {
     "languageId": "r"
    }
   },
   "outputs": [],
   "source": [
    "setwd(\"stanford\")"
   ]
  },
  {
   "cell_type": "code",
   "execution_count": 4,
   "id": "ba20a254",
   "metadata": {
    "vscode": {
     "languageId": "r"
    }
   },
   "outputs": [],
   "source": [
    "filter_vcf = function(vcf) {\n",
    "     \n",
    "    outvcf = gsub(\".vcf\", \".snps.R07.vcf.gz\",vcf)\n",
    "    system(paste('bcftools view', vcf , \"-i \\'INFO/R2[0]>0.7\\'  --types snps -Oz -o\" , outvcf))\n",
    "    system(paste(\"tabix\", outvcf))\n",
    "\n",
    "    }"
   ]
  },
  {
   "cell_type": "code",
   "execution_count": 87,
   "id": "c5ef1003",
   "metadata": {
    "vscode": {
     "languageId": "r"
    }
   },
   "outputs": [],
   "source": [
    "#mclapply(list.files(), function(x) filter_vcf(x) , mc.cores = 32)"
   ]
  },
  {
   "cell_type": "code",
   "execution_count": 6,
   "id": "fe342569",
   "metadata": {
    "vscode": {
     "languageId": "r"
    }
   },
   "outputs": [],
   "source": [
    "setwd(\"../oxford\")"
   ]
  },
  {
   "cell_type": "code",
   "execution_count": 78,
   "id": "903b7df3",
   "metadata": {
    "vscode": {
     "languageId": "r"
    }
   },
   "outputs": [],
   "source": [
    "filter_vcf = function(vcf) {\n",
    "     \n",
    "    outvcf = gsub(\".vcf.gz\", \".snps.R07.vcf.gz\",vcf)\n",
    "    system(paste('bcftools view', vcf , \"-i \\'INFO/R2[0]>0.7\\'  --types snps -Oz -o\" , outvcf))\n",
    "    system(paste(\"tabix\", outvcf))\n",
    "\n",
    "    }"
   ]
  },
  {
   "cell_type": "code",
   "execution_count": 88,
   "id": "2b68d825",
   "metadata": {
    "vscode": {
     "languageId": "r"
    }
   },
   "outputs": [],
   "source": [
    "#mclapply(list.files(), function(x) filter_vcf(x) , mc.cores = 32)"
   ]
  },
  {
   "cell_type": "code",
   "execution_count": 31,
   "id": "6a1eb481",
   "metadata": {
    "vscode": {
     "languageId": "r"
    }
   },
   "outputs": [],
   "source": [
    "setwd('..')"
   ]
  },
  {
   "cell_type": "markdown",
   "id": "f69f7e6a",
   "metadata": {},
   "source": [
    "Note on merging: the INFO column is from the first VCF to be merged (does not apply to both).\n",
    "- do not assume reference becauese the starting genotypes were the same - but then were filtered for R2 so removed"
   ]
  },
  {
   "cell_type": "code",
   "execution_count": 82,
   "id": "ffc7ca53",
   "metadata": {
    "vscode": {
     "languageId": "r"
    }
   },
   "outputs": [],
   "source": [
    "merge_vcf = function(chr) {\n",
    "    vcf1 =  paste0(\"oxford/chr\",chr, \".dose.snps.R07.vcf.gz\")\n",
    "    vcf2 =  paste0(\"stanford/chr\",chr, \".dose.snps.R07.vcf.gz\")\n",
    "    merged.vcf = paste0(\"merged/chr\",chr, \".merged.vcf.gz\" )\n",
    "    system(paste('bcftools merge -m none',  vcf1, vcf2,  '-Oz >', merged.vcf))\n",
    "    system(paste(\"tabix\", merged.vcf))\n",
    "}"
   ]
  },
  {
   "cell_type": "code",
   "execution_count": 89,
   "id": "e33c2872",
   "metadata": {
    "vscode": {
     "languageId": "r"
    }
   },
   "outputs": [],
   "source": [
    "#mclapply(1:22, function(x) merge_vcf(x) , mc.cores = 32)"
   ]
  },
  {
   "cell_type": "markdown",
   "id": "fb03267a",
   "metadata": {},
   "source": [
    "### Filter for sample subset and for non missing genotypes"
   ]
  },
  {
   "cell_type": "code",
   "execution_count": 14,
   "id": "ceca735b",
   "metadata": {
    "scrolled": true,
    "vscode": {
     "languageId": "r"
    }
   },
   "outputs": [
    {
     "data": {
      "text/html": [
       "<table class=\"dataframe\">\n",
       "<caption>A data.frame: 28 × 2</caption>\n",
       "<thead>\n",
       "\t<tr><th scope=col>vcf_name</th><th scope=col>sample</th></tr>\n",
       "\t<tr><th scope=col>&lt;chr&gt;</th><th scope=col>&lt;chr&gt;</th></tr>\n",
       "</thead>\n",
       "<tbody>\n",
       "\t<tr><td>R207_R207             </td><td>R207</td></tr>\n",
       "\t<tr><td>R217_R217             </td><td>R217</td></tr>\n",
       "\t<tr><td>R218_R218             </td><td>R218</td></tr>\n",
       "\t<tr><td>R221_R221             </td><td>R221</td></tr>\n",
       "\t<tr><td>R223_R223             </td><td>R223</td></tr>\n",
       "\t<tr><td>R226_R226             </td><td>R226</td></tr>\n",
       "\t<tr><td>R228_R228             </td><td>R228</td></tr>\n",
       "\t<tr><td>R234_R234             </td><td>R234</td></tr>\n",
       "\t<tr><td>R237_R237             </td><td>R237</td></tr>\n",
       "\t<tr><td>R238_R238             </td><td>R238</td></tr>\n",
       "\t<tr><td>R246_R246             </td><td>R246</td></tr>\n",
       "\t<tr><td>R247_R247             </td><td>R247</td></tr>\n",
       "\t<tr><td>R275_R275             </td><td>R275</td></tr>\n",
       "\t<tr><td>R284_R284             </td><td>R284</td></tr>\n",
       "\t<tr><td>R290_R290             </td><td>R290</td></tr>\n",
       "\t<tr><td>R292_R292             </td><td>R292</td></tr>\n",
       "\t<tr><td>R316_R316             </td><td>R316</td></tr>\n",
       "\t<tr><td>R317_R317             </td><td>R317</td></tr>\n",
       "\t<tr><td>R319_R319             </td><td>R319</td></tr>\n",
       "\t<tr><td>R325_R325             </td><td>R325</td></tr>\n",
       "\t<tr><td>R326_R326             </td><td>R326</td></tr>\n",
       "\t<tr><td>R327_R327             </td><td>R327</td></tr>\n",
       "\t<tr><td>3_Plate1_A3_EDMN_R332 </td><td>R332</td></tr>\n",
       "\t<tr><td>6_Plate1_C10_EDMN_R353</td><td>R353</td></tr>\n",
       "\t<tr><td>7_Plate1_C11_EDMN_R354</td><td>R354</td></tr>\n",
       "\t<tr><td>5_Plate2_A5_EDMN_R362 </td><td>R362</td></tr>\n",
       "\t<tr><td>6_Plate2_A6_EDMN_R363 </td><td>R363</td></tr>\n",
       "\t<tr><td>7_Plate2_A7_EDMN_R364 </td><td>R364</td></tr>\n",
       "</tbody>\n",
       "</table>\n"
      ],
      "text/latex": [
       "A data.frame: 28 × 2\n",
       "\\begin{tabular}{ll}\n",
       " vcf\\_name & sample\\\\\n",
       " <chr> & <chr>\\\\\n",
       "\\hline\n",
       "\t R207\\_R207              & R207\\\\\n",
       "\t R217\\_R217              & R217\\\\\n",
       "\t R218\\_R218              & R218\\\\\n",
       "\t R221\\_R221              & R221\\\\\n",
       "\t R223\\_R223              & R223\\\\\n",
       "\t R226\\_R226              & R226\\\\\n",
       "\t R228\\_R228              & R228\\\\\n",
       "\t R234\\_R234              & R234\\\\\n",
       "\t R237\\_R237              & R237\\\\\n",
       "\t R238\\_R238              & R238\\\\\n",
       "\t R246\\_R246              & R246\\\\\n",
       "\t R247\\_R247              & R247\\\\\n",
       "\t R275\\_R275              & R275\\\\\n",
       "\t R284\\_R284              & R284\\\\\n",
       "\t R290\\_R290              & R290\\\\\n",
       "\t R292\\_R292              & R292\\\\\n",
       "\t R316\\_R316              & R316\\\\\n",
       "\t R317\\_R317              & R317\\\\\n",
       "\t R319\\_R319              & R319\\\\\n",
       "\t R325\\_R325              & R325\\\\\n",
       "\t R326\\_R326              & R326\\\\\n",
       "\t R327\\_R327              & R327\\\\\n",
       "\t 3\\_Plate1\\_A3\\_EDMN\\_R332  & R332\\\\\n",
       "\t 6\\_Plate1\\_C10\\_EDMN\\_R353 & R353\\\\\n",
       "\t 7\\_Plate1\\_C11\\_EDMN\\_R354 & R354\\\\\n",
       "\t 5\\_Plate2\\_A5\\_EDMN\\_R362  & R362\\\\\n",
       "\t 6\\_Plate2\\_A6\\_EDMN\\_R363  & R363\\\\\n",
       "\t 7\\_Plate2\\_A7\\_EDMN\\_R364  & R364\\\\\n",
       "\\end{tabular}\n"
      ],
      "text/markdown": [
       "\n",
       "A data.frame: 28 × 2\n",
       "\n",
       "| vcf_name &lt;chr&gt; | sample &lt;chr&gt; |\n",
       "|---|---|\n",
       "| R207_R207              | R207 |\n",
       "| R217_R217              | R217 |\n",
       "| R218_R218              | R218 |\n",
       "| R221_R221              | R221 |\n",
       "| R223_R223              | R223 |\n",
       "| R226_R226              | R226 |\n",
       "| R228_R228              | R228 |\n",
       "| R234_R234              | R234 |\n",
       "| R237_R237              | R237 |\n",
       "| R238_R238              | R238 |\n",
       "| R246_R246              | R246 |\n",
       "| R247_R247              | R247 |\n",
       "| R275_R275              | R275 |\n",
       "| R284_R284              | R284 |\n",
       "| R290_R290              | R290 |\n",
       "| R292_R292              | R292 |\n",
       "| R316_R316              | R316 |\n",
       "| R317_R317              | R317 |\n",
       "| R319_R319              | R319 |\n",
       "| R325_R325              | R325 |\n",
       "| R326_R326              | R326 |\n",
       "| R327_R327              | R327 |\n",
       "| 3_Plate1_A3_EDMN_R332  | R332 |\n",
       "| 6_Plate1_C10_EDMN_R353 | R353 |\n",
       "| 7_Plate1_C11_EDMN_R354 | R354 |\n",
       "| 5_Plate2_A5_EDMN_R362  | R362 |\n",
       "| 6_Plate2_A6_EDMN_R363  | R363 |\n",
       "| 7_Plate2_A7_EDMN_R364  | R364 |\n",
       "\n"
      ],
      "text/plain": [
       "   vcf_name               sample\n",
       "1  R207_R207              R207  \n",
       "2  R217_R217              R217  \n",
       "3  R218_R218              R218  \n",
       "4  R221_R221              R221  \n",
       "5  R223_R223              R223  \n",
       "6  R226_R226              R226  \n",
       "7  R228_R228              R228  \n",
       "8  R234_R234              R234  \n",
       "9  R237_R237              R237  \n",
       "10 R238_R238              R238  \n",
       "11 R246_R246              R246  \n",
       "12 R247_R247              R247  \n",
       "13 R275_R275              R275  \n",
       "14 R284_R284              R284  \n",
       "15 R290_R290              R290  \n",
       "16 R292_R292              R292  \n",
       "17 R316_R316              R316  \n",
       "18 R317_R317              R317  \n",
       "19 R319_R319              R319  \n",
       "20 R325_R325              R325  \n",
       "21 R326_R326              R326  \n",
       "22 R327_R327              R327  \n",
       "23 3_Plate1_A3_EDMN_R332  R332  \n",
       "24 6_Plate1_C10_EDMN_R353 R353  \n",
       "25 7_Plate1_C11_EDMN_R354 R354  \n",
       "26 5_Plate2_A5_EDMN_R362  R362  \n",
       "27 6_Plate2_A6_EDMN_R363  R363  \n",
       "28 7_Plate2_A7_EDMN_R364  R364  "
      ]
     },
     "metadata": {},
     "output_type": "display_data"
    }
   ],
   "source": [
    "# Make sample list\n",
    "multiome_samples <- data.frame(vcf_name=c(\"R207_R207\",\n",
    "\"R217_R217\",\n",
    "\"R218_R218\",\n",
    "\"R221_R221\",\n",
    "\"R223_R223\",\n",
    "\"R226_R226\",\n",
    "\"R228_R228\",\n",
    "\"R234_R234\",\n",
    "\"R237_R237\",\n",
    "\"R238_R238\",\n",
    "\"R246_R246\",\n",
    "\"R247_R247\",\n",
    "\"R275_R275\",\n",
    "\"R284_R284\",\n",
    "\"R290_R290\",\n",
    "\"R292_R292\",\n",
    "\"R316_R316\",\n",
    "\"R317_R317\",\n",
    "\"R319_R319\",\n",
    "\"R325_R325\",\n",
    "\"R326_R326\",\n",
    "\"R327_R327\",\n",
    "\"3_Plate1_A3_EDMN_R332\",\n",
    "\"6_Plate1_C10_EDMN_R353\",\n",
    "\"7_Plate1_C11_EDMN_R354\",\n",
    "\"5_Plate2_A5_EDMN_R362\",\n",
    "\"6_Plate2_A6_EDMN_R363\",\n",
    "\"7_Plate2_A7_EDMN_R364\"), sample=c(\"R207\",\n",
    "\"R217\",\n",
    "\"R218\",\n",
    "\"R221\",\n",
    "\"R223\",\n",
    "\"R226\",\n",
    "\"R228\",\n",
    "\"R234\",\n",
    "\"R237\",\n",
    "\"R238\",\n",
    "\"R246\",\n",
    "\"R247\",\n",
    "\"R275\",\n",
    "\"R284\",\n",
    "\"R290\",\n",
    "\"R292\",\n",
    "\"R316\",\n",
    "\"R317\",\n",
    "\"R319\",\n",
    "\"R325\",\n",
    "\"R326\",\n",
    "\"R327\",\n",
    "\"R332\",\n",
    "\"R353\",\n",
    "\"R354\",\n",
    "\"R362\",\n",
    "\"R363\",\n",
    "\"R364\"))\n",
    "\n",
    "multiome_samples\n",
    "\n",
    "write.table(multiome_samples,'/path/to/samples/multiome_all_kept_samples.txt', quote=F,\n",
    "            row.names=F, col.names=T, sep=\"\\t\")"
   ]
  },
  {
   "cell_type": "code",
   "execution_count": 11,
   "id": "b53bc0de",
   "metadata": {
    "scrolled": true,
    "vscode": {
     "languageId": "r"
    }
   },
   "outputs": [
    {
     "data": {
      "text/html": [
       "<table class=\"dataframe\">\n",
       "<caption>A data.frame: 28 × 2</caption>\n",
       "<thead>\n",
       "\t<tr><th scope=col>vcf_name</th><th scope=col>sample</th></tr>\n",
       "\t<tr><th scope=col>&lt;chr&gt;</th><th scope=col>&lt;chr&gt;</th></tr>\n",
       "</thead>\n",
       "<tbody>\n",
       "\t<tr><td>R207_R207             </td><td>R207</td></tr>\n",
       "\t<tr><td>R217_R217             </td><td>R217</td></tr>\n",
       "\t<tr><td>R218_R218             </td><td>R218</td></tr>\n",
       "\t<tr><td>R221_R221             </td><td>R221</td></tr>\n",
       "\t<tr><td>R223_R223             </td><td>R223</td></tr>\n",
       "\t<tr><td>R226_R226             </td><td>R226</td></tr>\n",
       "\t<tr><td>R228_R228             </td><td>R228</td></tr>\n",
       "\t<tr><td>R234_R234             </td><td>R234</td></tr>\n",
       "\t<tr><td>R237_R237             </td><td>R237</td></tr>\n",
       "\t<tr><td>R238_R238             </td><td>R238</td></tr>\n",
       "\t<tr><td>R246_R246             </td><td>R246</td></tr>\n",
       "\t<tr><td>R247_R247             </td><td>R247</td></tr>\n",
       "\t<tr><td>R275_R275             </td><td>R275</td></tr>\n",
       "\t<tr><td>R284_R284             </td><td>R284</td></tr>\n",
       "\t<tr><td>R290_R290             </td><td>R290</td></tr>\n",
       "\t<tr><td>R292_R292             </td><td>R292</td></tr>\n",
       "\t<tr><td>R316_R316             </td><td>R316</td></tr>\n",
       "\t<tr><td>R317_R317             </td><td>R317</td></tr>\n",
       "\t<tr><td>R319_R319             </td><td>R319</td></tr>\n",
       "\t<tr><td>R325_R325             </td><td>R325</td></tr>\n",
       "\t<tr><td>R326_R326             </td><td>R326</td></tr>\n",
       "\t<tr><td>R327_R327             </td><td>R327</td></tr>\n",
       "\t<tr><td>3_Plate1_A3_EDMN_R332 </td><td>R332</td></tr>\n",
       "\t<tr><td>6_Plate1_C10_EDMN_R353</td><td>R353</td></tr>\n",
       "\t<tr><td>7_Plate1_C11_EDMN_R354</td><td>R354</td></tr>\n",
       "\t<tr><td>5_Plate2_A5_EDMN_R362 </td><td>R362</td></tr>\n",
       "\t<tr><td>6_Plate2_A6_EDMN_R363 </td><td>R363</td></tr>\n",
       "\t<tr><td>7_Plate2_A7_EDMN_R364 </td><td>R364</td></tr>\n",
       "</tbody>\n",
       "</table>\n"
      ],
      "text/latex": [
       "A data.frame: 28 × 2\n",
       "\\begin{tabular}{ll}\n",
       " vcf\\_name & sample\\\\\n",
       " <chr> & <chr>\\\\\n",
       "\\hline\n",
       "\t R207\\_R207              & R207\\\\\n",
       "\t R217\\_R217              & R217\\\\\n",
       "\t R218\\_R218              & R218\\\\\n",
       "\t R221\\_R221              & R221\\\\\n",
       "\t R223\\_R223              & R223\\\\\n",
       "\t R226\\_R226              & R226\\\\\n",
       "\t R228\\_R228              & R228\\\\\n",
       "\t R234\\_R234              & R234\\\\\n",
       "\t R237\\_R237              & R237\\\\\n",
       "\t R238\\_R238              & R238\\\\\n",
       "\t R246\\_R246              & R246\\\\\n",
       "\t R247\\_R247              & R247\\\\\n",
       "\t R275\\_R275              & R275\\\\\n",
       "\t R284\\_R284              & R284\\\\\n",
       "\t R290\\_R290              & R290\\\\\n",
       "\t R292\\_R292              & R292\\\\\n",
       "\t R316\\_R316              & R316\\\\\n",
       "\t R317\\_R317              & R317\\\\\n",
       "\t R319\\_R319              & R319\\\\\n",
       "\t R325\\_R325              & R325\\\\\n",
       "\t R326\\_R326              & R326\\\\\n",
       "\t R327\\_R327              & R327\\\\\n",
       "\t 3\\_Plate1\\_A3\\_EDMN\\_R332  & R332\\\\\n",
       "\t 6\\_Plate1\\_C10\\_EDMN\\_R353 & R353\\\\\n",
       "\t 7\\_Plate1\\_C11\\_EDMN\\_R354 & R354\\\\\n",
       "\t 5\\_Plate2\\_A5\\_EDMN\\_R362  & R362\\\\\n",
       "\t 6\\_Plate2\\_A6\\_EDMN\\_R363  & R363\\\\\n",
       "\t 7\\_Plate2\\_A7\\_EDMN\\_R364  & R364\\\\\n",
       "\\end{tabular}\n"
      ],
      "text/markdown": [
       "\n",
       "A data.frame: 28 × 2\n",
       "\n",
       "| vcf_name &lt;chr&gt; | sample &lt;chr&gt; |\n",
       "|---|---|\n",
       "| R207_R207              | R207 |\n",
       "| R217_R217              | R217 |\n",
       "| R218_R218              | R218 |\n",
       "| R221_R221              | R221 |\n",
       "| R223_R223              | R223 |\n",
       "| R226_R226              | R226 |\n",
       "| R228_R228              | R228 |\n",
       "| R234_R234              | R234 |\n",
       "| R237_R237              | R237 |\n",
       "| R238_R238              | R238 |\n",
       "| R246_R246              | R246 |\n",
       "| R247_R247              | R247 |\n",
       "| R275_R275              | R275 |\n",
       "| R284_R284              | R284 |\n",
       "| R290_R290              | R290 |\n",
       "| R292_R292              | R292 |\n",
       "| R316_R316              | R316 |\n",
       "| R317_R317              | R317 |\n",
       "| R319_R319              | R319 |\n",
       "| R325_R325              | R325 |\n",
       "| R326_R326              | R326 |\n",
       "| R327_R327              | R327 |\n",
       "| 3_Plate1_A3_EDMN_R332  | R332 |\n",
       "| 6_Plate1_C10_EDMN_R353 | R353 |\n",
       "| 7_Plate1_C11_EDMN_R354 | R354 |\n",
       "| 5_Plate2_A5_EDMN_R362  | R362 |\n",
       "| 6_Plate2_A6_EDMN_R363  | R363 |\n",
       "| 7_Plate2_A7_EDMN_R364  | R364 |\n",
       "\n"
      ],
      "text/plain": [
       "   vcf_name               sample\n",
       "1  R207_R207              R207  \n",
       "2  R217_R217              R217  \n",
       "3  R218_R218              R218  \n",
       "4  R221_R221              R221  \n",
       "5  R223_R223              R223  \n",
       "6  R226_R226              R226  \n",
       "7  R228_R228              R228  \n",
       "8  R234_R234              R234  \n",
       "9  R237_R237              R237  \n",
       "10 R238_R238              R238  \n",
       "11 R246_R246              R246  \n",
       "12 R247_R247              R247  \n",
       "13 R275_R275              R275  \n",
       "14 R284_R284              R284  \n",
       "15 R290_R290              R290  \n",
       "16 R292_R292              R292  \n",
       "17 R316_R316              R316  \n",
       "18 R317_R317              R317  \n",
       "19 R319_R319              R319  \n",
       "20 R325_R325              R325  \n",
       "21 R326_R326              R326  \n",
       "22 R327_R327              R327  \n",
       "23 3_Plate1_A3_EDMN_R332  R332  \n",
       "24 6_Plate1_C10_EDMN_R353 R353  \n",
       "25 7_Plate1_C11_EDMN_R354 R354  \n",
       "26 5_Plate2_A5_EDMN_R362  R362  \n",
       "27 6_Plate2_A6_EDMN_R363  R363  \n",
       "28 7_Plate2_A7_EDMN_R364  R364  "
      ]
     },
     "metadata": {},
     "output_type": "display_data"
    }
   ],
   "source": [
    "#samps = read.table('../multiome_european_samples', header=T)\n",
    "samps = read.table('/path/to/samples/multiome_all_kept_samples.txt', header=T)\n",
    "samps"
   ]
  },
  {
   "cell_type": "code",
   "execution_count": 13,
   "id": "7b94c8d1",
   "metadata": {
    "vscode": {
     "languageId": "r"
    }
   },
   "outputs": [],
   "source": [
    "#write.table(samps, '../multiome_european_samples_rename_file', quote=F,\n",
    "write.table(samps, '/path/to/samples/multiome_all_kept_samples_rename_file', quote=F,\n",
    "            row.names=F, col.names=F, sep=\" \")"
   ]
  },
  {
   "cell_type": "code",
   "execution_count": null,
   "id": "8213a605",
   "metadata": {
    "vscode": {
     "languageId": "r"
    }
   },
   "outputs": [],
   "source": [
    "getwd()"
   ]
  },
  {
   "cell_type": "code",
   "execution_count": 20,
   "id": "8a647ef9",
   "metadata": {
    "vscode": {
     "languageId": "r"
    }
   },
   "outputs": [],
   "source": [
    "# Subset function\n",
    "subset_vcf = function(chr) {\n",
    "    vcf     =  paste0(\"merged/chr\" ,  chr, \".merged.vcf.gz\")\n",
    "    outvcf  =  paste0(\"/path/to/imputed_genotypes/\",\"multiome_28/chr\",chr, \".multi.ancestry.vcf.gz\")\n",
    "\n",
    "system(paste('bcftools view', vcf , \"-s\", paste(samps$vcf_name, collapse=\",\"),\n",
    "        \" | bcftools view -e \\'GT[*] = \\\"./.\\\"\\' | bcftools reheader -s '/path/to/samples/multiome_all_kept_samples_rename_file' >\" , \n",
    "             outvcf),\n",
    "      intern=TRUE)\n",
    "    \n",
    "     system(paste(\"bgzip\", outvcf))   \n",
    "    \n",
    "    system(paste0(\"tabix \", outvcf, \".gz\"))\n",
    "    }"
   ]
  },
  {
   "cell_type": "code",
   "execution_count": 21,
   "id": "1eaf7659",
   "metadata": {
    "scrolled": true,
    "vscode": {
     "languageId": "r"
    }
   },
   "outputs": [
    {
     "data": {
      "text/html": [
       "<ol>\n",
       "\t<li>0</li>\n",
       "\t<li>0</li>\n",
       "\t<li>0</li>\n",
       "\t<li>0</li>\n",
       "\t<li>0</li>\n",
       "\t<li>0</li>\n",
       "\t<li>0</li>\n",
       "\t<li>0</li>\n",
       "\t<li>0</li>\n",
       "\t<li>0</li>\n",
       "\t<li>0</li>\n",
       "\t<li>0</li>\n",
       "\t<li>0</li>\n",
       "\t<li>0</li>\n",
       "\t<li>0</li>\n",
       "\t<li>0</li>\n",
       "\t<li>0</li>\n",
       "\t<li>0</li>\n",
       "\t<li>0</li>\n",
       "\t<li>0</li>\n",
       "\t<li>0</li>\n",
       "\t<li>0</li>\n",
       "</ol>\n"
      ],
      "text/latex": [
       "\\begin{enumerate}\n",
       "\\item 0\n",
       "\\item 0\n",
       "\\item 0\n",
       "\\item 0\n",
       "\\item 0\n",
       "\\item 0\n",
       "\\item 0\n",
       "\\item 0\n",
       "\\item 0\n",
       "\\item 0\n",
       "\\item 0\n",
       "\\item 0\n",
       "\\item 0\n",
       "\\item 0\n",
       "\\item 0\n",
       "\\item 0\n",
       "\\item 0\n",
       "\\item 0\n",
       "\\item 0\n",
       "\\item 0\n",
       "\\item 0\n",
       "\\item 0\n",
       "\\end{enumerate}\n"
      ],
      "text/markdown": [
       "1. 0\n",
       "2. 0\n",
       "3. 0\n",
       "4. 0\n",
       "5. 0\n",
       "6. 0\n",
       "7. 0\n",
       "8. 0\n",
       "9. 0\n",
       "10. 0\n",
       "11. 0\n",
       "12. 0\n",
       "13. 0\n",
       "14. 0\n",
       "15. 0\n",
       "16. 0\n",
       "17. 0\n",
       "18. 0\n",
       "19. 0\n",
       "20. 0\n",
       "21. 0\n",
       "22. 0\n",
       "\n",
       "\n"
      ],
      "text/plain": [
       "[[1]]\n",
       "[1] 0\n",
       "\n",
       "[[2]]\n",
       "[1] 0\n",
       "\n",
       "[[3]]\n",
       "[1] 0\n",
       "\n",
       "[[4]]\n",
       "[1] 0\n",
       "\n",
       "[[5]]\n",
       "[1] 0\n",
       "\n",
       "[[6]]\n",
       "[1] 0\n",
       "\n",
       "[[7]]\n",
       "[1] 0\n",
       "\n",
       "[[8]]\n",
       "[1] 0\n",
       "\n",
       "[[9]]\n",
       "[1] 0\n",
       "\n",
       "[[10]]\n",
       "[1] 0\n",
       "\n",
       "[[11]]\n",
       "[1] 0\n",
       "\n",
       "[[12]]\n",
       "[1] 0\n",
       "\n",
       "[[13]]\n",
       "[1] 0\n",
       "\n",
       "[[14]]\n",
       "[1] 0\n",
       "\n",
       "[[15]]\n",
       "[1] 0\n",
       "\n",
       "[[16]]\n",
       "[1] 0\n",
       "\n",
       "[[17]]\n",
       "[1] 0\n",
       "\n",
       "[[18]]\n",
       "[1] 0\n",
       "\n",
       "[[19]]\n",
       "[1] 0\n",
       "\n",
       "[[20]]\n",
       "[1] 0\n",
       "\n",
       "[[21]]\n",
       "[1] 0\n",
       "\n",
       "[[22]]\n",
       "[1] 0\n"
      ]
     },
     "metadata": {},
     "output_type": "display_data"
    }
   ],
   "source": [
    "# Apply across chromosomes\n",
    "mclapply(1:22, subset_vcf, mc.cores = 32)"
   ]
  },
  {
   "cell_type": "markdown",
   "id": "f2421864",
   "metadata": {},
   "source": [
    "### PCAs\n",
    "\n",
    "This is for understanding population structure  \n",
    "\n",
    "We can use the 1000 Genome project as a background to understand population structure and visualize ancestry"
   ]
  },
  {
   "cell_type": "markdown",
   "id": "67cb5d57",
   "metadata": {},
   "source": [
    "#Plink commands to run PCA\n",
    "\n",
    "#Prune  \n",
    "plink1.9 -bfile IM_1KG_merge_intersect --indep 50 5 2 --maf .01 --make-bed --out IM_1KG_merge_intersect.pruned\n",
    "\n",
    "#Run PCA  \n",
    "plink1.9 --bfile IM_1KG_merge_intersect.pruned \\\n",
    "  --extract IM_1KG_merge_intersect.pruned.prune.in \\\n",
    "  --out IM_1KG_merge_intersect.pruned.pca \\\n",
    "  --pca tabs header"
   ]
  },
  {
   "cell_type": "code",
   "execution_count": 1,
   "id": "4d74985f",
   "metadata": {
    "scrolled": true,
    "vscode": {
     "languageId": "r"
    }
   },
   "outputs": [
    {
     "data": {
      "text/html": [
       "<style>\n",
       ".list-inline {list-style: none; margin:0; padding: 0}\n",
       ".list-inline>li {display: inline-block}\n",
       ".list-inline>li:not(:last-child)::after {content: \"\\00b7\"; padding: 0 .5ex}\n",
       "</style>\n",
       "<ol class=list-inline><li>2576</li><li>22</li></ol>\n"
      ],
      "text/latex": [
       "\\begin{enumerate*}\n",
       "\\item 2576\n",
       "\\item 22\n",
       "\\end{enumerate*}\n"
      ],
      "text/markdown": [
       "1. 2576\n",
       "2. 22\n",
       "\n",
       "\n"
      ],
      "text/plain": [
       "[1] 2576   22"
      ]
     },
     "metadata": {},
     "output_type": "display_data"
    },
    {
     "data": {
      "text/html": [
       "<table class=\"dataframe\">\n",
       "<caption>A data.frame: 6 × 22</caption>\n",
       "<thead>\n",
       "\t<tr><th></th><th scope=col>FID</th><th scope=col>IID</th><th scope=col>PC1</th><th scope=col>PC2</th><th scope=col>PC3</th><th scope=col>PC4</th><th scope=col>PC5</th><th scope=col>PC6</th><th scope=col>PC7</th><th scope=col>PC8</th><th scope=col>⋯</th><th scope=col>PC11</th><th scope=col>PC12</th><th scope=col>PC13</th><th scope=col>PC14</th><th scope=col>PC15</th><th scope=col>PC16</th><th scope=col>PC17</th><th scope=col>PC18</th><th scope=col>PC19</th><th scope=col>PC20</th></tr>\n",
       "\t<tr><th></th><th scope=col>&lt;chr&gt;</th><th scope=col>&lt;chr&gt;</th><th scope=col>&lt;dbl&gt;</th><th scope=col>&lt;dbl&gt;</th><th scope=col>&lt;dbl&gt;</th><th scope=col>&lt;dbl&gt;</th><th scope=col>&lt;dbl&gt;</th><th scope=col>&lt;dbl&gt;</th><th scope=col>&lt;dbl&gt;</th><th scope=col>&lt;dbl&gt;</th><th scope=col>⋯</th><th scope=col>&lt;dbl&gt;</th><th scope=col>&lt;dbl&gt;</th><th scope=col>&lt;dbl&gt;</th><th scope=col>&lt;dbl&gt;</th><th scope=col>&lt;dbl&gt;</th><th scope=col>&lt;dbl&gt;</th><th scope=col>&lt;dbl&gt;</th><th scope=col>&lt;dbl&gt;</th><th scope=col>&lt;dbl&gt;</th><th scope=col>&lt;dbl&gt;</th></tr>\n",
       "</thead>\n",
       "<tbody>\n",
       "\t<tr><th scope=row>1</th><td>HG00096</td><td>HG00096</td><td>-0.0135922</td><td>-0.0267914</td><td>0.000801795</td><td>-0.0198937</td><td>-0.01017720</td><td> 2.10448e-04</td><td>0.00240444</td><td>0.00388107</td><td>⋯</td><td>0.02109400</td><td>0.0247047</td><td>0.000410522</td><td>0.0210820</td><td>-0.0180779</td><td>0.0117862</td><td>0.00550543</td><td>0.00816908</td><td>0.00332644</td><td>-0.00276409</td></tr>\n",
       "\t<tr><th scope=row>2</th><td>HG00097</td><td>HG00097</td><td>-0.0137645</td><td>-0.0271117</td><td>0.000872880</td><td>-0.0185733</td><td>-0.01020560</td><td>-3.32929e-05</td><td>0.00152348</td><td>0.00167807</td><td>⋯</td><td>0.00772625</td><td>0.0208785</td><td>0.002500470</td><td>0.0234705</td><td>-0.0204274</td><td>0.0195835</td><td>0.00866417</td><td>0.00624473</td><td>0.00981212</td><td>-0.00499454</td></tr>\n",
       "\t<tr><th scope=row>3</th><td>HG00099</td><td>HG00099</td><td>-0.0137001</td><td>-0.0271025</td><td>0.000633083</td><td>-0.0181092</td><td>-0.01451260</td><td> 8.92136e-04</td><td>0.00224261</td><td>0.00495369</td><td>⋯</td><td>0.02218330</td><td>0.0277902</td><td>0.002183310</td><td>0.0194478</td><td>-0.0180207</td><td>0.0210601</td><td>0.01180740</td><td>0.00353841</td><td>0.01017900</td><td>-0.00213823</td></tr>\n",
       "\t<tr><th scope=row>4</th><td>HG00100</td><td>HG00100</td><td>-0.0135056</td><td>-0.0275181</td><td>0.001060030</td><td>-0.0190422</td><td>-0.00772807</td><td> 1.00895e-03</td><td>0.00194837</td><td>0.00658945</td><td>⋯</td><td>0.02102080</td><td>0.0253985</td><td>0.004106400</td><td>0.0270003</td><td>-0.0240996</td><td>0.0188375</td><td>0.01555250</td><td>0.00409066</td><td>0.00492822</td><td>-0.00324751</td></tr>\n",
       "\t<tr><th scope=row>5</th><td>HG00101</td><td>HG00101</td><td>-0.0135573</td><td>-0.0266562</td><td>0.000682601</td><td>-0.0193958</td><td>-0.01186120</td><td> 4.90204e-04</td><td>0.00113370</td><td>0.00406968</td><td>⋯</td><td>0.01584460</td><td>0.0270843</td><td>0.001114020</td><td>0.0244454</td><td>-0.0213987</td><td>0.0214381</td><td>0.00463993</td><td>0.01030520</td><td>0.00442469</td><td>-0.00352965</td></tr>\n",
       "\t<tr><th scope=row>6</th><td>HG00102</td><td>HG00102</td><td>-0.0137559</td><td>-0.0267083</td><td>0.000856755</td><td>-0.0187830</td><td>-0.01553620</td><td> 8.24503e-04</td><td>0.00239030</td><td>0.00451975</td><td>⋯</td><td>0.02249650</td><td>0.0320976</td><td>0.000542671</td><td>0.0249760</td><td>-0.0207510</td><td>0.0186931</td><td>0.00918992</td><td>0.00489459</td><td>0.00692182</td><td> 0.00105077</td></tr>\n",
       "</tbody>\n",
       "</table>\n"
      ],
      "text/latex": [
       "A data.frame: 6 × 22\n",
       "\\begin{tabular}{r|lllllllllllllllllllll}\n",
       "  & FID & IID & PC1 & PC2 & PC3 & PC4 & PC5 & PC6 & PC7 & PC8 & ⋯ & PC11 & PC12 & PC13 & PC14 & PC15 & PC16 & PC17 & PC18 & PC19 & PC20\\\\\n",
       "  & <chr> & <chr> & <dbl> & <dbl> & <dbl> & <dbl> & <dbl> & <dbl> & <dbl> & <dbl> & ⋯ & <dbl> & <dbl> & <dbl> & <dbl> & <dbl> & <dbl> & <dbl> & <dbl> & <dbl> & <dbl>\\\\\n",
       "\\hline\n",
       "\t1 & HG00096 & HG00096 & -0.0135922 & -0.0267914 & 0.000801795 & -0.0198937 & -0.01017720 &  2.10448e-04 & 0.00240444 & 0.00388107 & ⋯ & 0.02109400 & 0.0247047 & 0.000410522 & 0.0210820 & -0.0180779 & 0.0117862 & 0.00550543 & 0.00816908 & 0.00332644 & -0.00276409\\\\\n",
       "\t2 & HG00097 & HG00097 & -0.0137645 & -0.0271117 & 0.000872880 & -0.0185733 & -0.01020560 & -3.32929e-05 & 0.00152348 & 0.00167807 & ⋯ & 0.00772625 & 0.0208785 & 0.002500470 & 0.0234705 & -0.0204274 & 0.0195835 & 0.00866417 & 0.00624473 & 0.00981212 & -0.00499454\\\\\n",
       "\t3 & HG00099 & HG00099 & -0.0137001 & -0.0271025 & 0.000633083 & -0.0181092 & -0.01451260 &  8.92136e-04 & 0.00224261 & 0.00495369 & ⋯ & 0.02218330 & 0.0277902 & 0.002183310 & 0.0194478 & -0.0180207 & 0.0210601 & 0.01180740 & 0.00353841 & 0.01017900 & -0.00213823\\\\\n",
       "\t4 & HG00100 & HG00100 & -0.0135056 & -0.0275181 & 0.001060030 & -0.0190422 & -0.00772807 &  1.00895e-03 & 0.00194837 & 0.00658945 & ⋯ & 0.02102080 & 0.0253985 & 0.004106400 & 0.0270003 & -0.0240996 & 0.0188375 & 0.01555250 & 0.00409066 & 0.00492822 & -0.00324751\\\\\n",
       "\t5 & HG00101 & HG00101 & -0.0135573 & -0.0266562 & 0.000682601 & -0.0193958 & -0.01186120 &  4.90204e-04 & 0.00113370 & 0.00406968 & ⋯ & 0.01584460 & 0.0270843 & 0.001114020 & 0.0244454 & -0.0213987 & 0.0214381 & 0.00463993 & 0.01030520 & 0.00442469 & -0.00352965\\\\\n",
       "\t6 & HG00102 & HG00102 & -0.0137559 & -0.0267083 & 0.000856755 & -0.0187830 & -0.01553620 &  8.24503e-04 & 0.00239030 & 0.00451975 & ⋯ & 0.02249650 & 0.0320976 & 0.000542671 & 0.0249760 & -0.0207510 & 0.0186931 & 0.00918992 & 0.00489459 & 0.00692182 &  0.00105077\\\\\n",
       "\\end{tabular}\n"
      ],
      "text/markdown": [
       "\n",
       "A data.frame: 6 × 22\n",
       "\n",
       "| <!--/--> | FID &lt;chr&gt; | IID &lt;chr&gt; | PC1 &lt;dbl&gt; | PC2 &lt;dbl&gt; | PC3 &lt;dbl&gt; | PC4 &lt;dbl&gt; | PC5 &lt;dbl&gt; | PC6 &lt;dbl&gt; | PC7 &lt;dbl&gt; | PC8 &lt;dbl&gt; | ⋯ ⋯ | PC11 &lt;dbl&gt; | PC12 &lt;dbl&gt; | PC13 &lt;dbl&gt; | PC14 &lt;dbl&gt; | PC15 &lt;dbl&gt; | PC16 &lt;dbl&gt; | PC17 &lt;dbl&gt; | PC18 &lt;dbl&gt; | PC19 &lt;dbl&gt; | PC20 &lt;dbl&gt; |\n",
       "|---|---|---|---|---|---|---|---|---|---|---|---|---|---|---|---|---|---|---|---|---|---|\n",
       "| 1 | HG00096 | HG00096 | -0.0135922 | -0.0267914 | 0.000801795 | -0.0198937 | -0.01017720 |  2.10448e-04 | 0.00240444 | 0.00388107 | ⋯ | 0.02109400 | 0.0247047 | 0.000410522 | 0.0210820 | -0.0180779 | 0.0117862 | 0.00550543 | 0.00816908 | 0.00332644 | -0.00276409 |\n",
       "| 2 | HG00097 | HG00097 | -0.0137645 | -0.0271117 | 0.000872880 | -0.0185733 | -0.01020560 | -3.32929e-05 | 0.00152348 | 0.00167807 | ⋯ | 0.00772625 | 0.0208785 | 0.002500470 | 0.0234705 | -0.0204274 | 0.0195835 | 0.00866417 | 0.00624473 | 0.00981212 | -0.00499454 |\n",
       "| 3 | HG00099 | HG00099 | -0.0137001 | -0.0271025 | 0.000633083 | -0.0181092 | -0.01451260 |  8.92136e-04 | 0.00224261 | 0.00495369 | ⋯ | 0.02218330 | 0.0277902 | 0.002183310 | 0.0194478 | -0.0180207 | 0.0210601 | 0.01180740 | 0.00353841 | 0.01017900 | -0.00213823 |\n",
       "| 4 | HG00100 | HG00100 | -0.0135056 | -0.0275181 | 0.001060030 | -0.0190422 | -0.00772807 |  1.00895e-03 | 0.00194837 | 0.00658945 | ⋯ | 0.02102080 | 0.0253985 | 0.004106400 | 0.0270003 | -0.0240996 | 0.0188375 | 0.01555250 | 0.00409066 | 0.00492822 | -0.00324751 |\n",
       "| 5 | HG00101 | HG00101 | -0.0135573 | -0.0266562 | 0.000682601 | -0.0193958 | -0.01186120 |  4.90204e-04 | 0.00113370 | 0.00406968 | ⋯ | 0.01584460 | 0.0270843 | 0.001114020 | 0.0244454 | -0.0213987 | 0.0214381 | 0.00463993 | 0.01030520 | 0.00442469 | -0.00352965 |\n",
       "| 6 | HG00102 | HG00102 | -0.0137559 | -0.0267083 | 0.000856755 | -0.0187830 | -0.01553620 |  8.24503e-04 | 0.00239030 | 0.00451975 | ⋯ | 0.02249650 | 0.0320976 | 0.000542671 | 0.0249760 | -0.0207510 | 0.0186931 | 0.00918992 | 0.00489459 | 0.00692182 |  0.00105077 |\n",
       "\n"
      ],
      "text/plain": [
       "  FID     IID     PC1        PC2        PC3         PC4        PC5        \n",
       "1 HG00096 HG00096 -0.0135922 -0.0267914 0.000801795 -0.0198937 -0.01017720\n",
       "2 HG00097 HG00097 -0.0137645 -0.0271117 0.000872880 -0.0185733 -0.01020560\n",
       "3 HG00099 HG00099 -0.0137001 -0.0271025 0.000633083 -0.0181092 -0.01451260\n",
       "4 HG00100 HG00100 -0.0135056 -0.0275181 0.001060030 -0.0190422 -0.00772807\n",
       "5 HG00101 HG00101 -0.0135573 -0.0266562 0.000682601 -0.0193958 -0.01186120\n",
       "6 HG00102 HG00102 -0.0137559 -0.0267083 0.000856755 -0.0187830 -0.01553620\n",
       "  PC6          PC7        PC8        ⋯ PC11       PC12      PC13       \n",
       "1  2.10448e-04 0.00240444 0.00388107 ⋯ 0.02109400 0.0247047 0.000410522\n",
       "2 -3.32929e-05 0.00152348 0.00167807 ⋯ 0.00772625 0.0208785 0.002500470\n",
       "3  8.92136e-04 0.00224261 0.00495369 ⋯ 0.02218330 0.0277902 0.002183310\n",
       "4  1.00895e-03 0.00194837 0.00658945 ⋯ 0.02102080 0.0253985 0.004106400\n",
       "5  4.90204e-04 0.00113370 0.00406968 ⋯ 0.01584460 0.0270843 0.001114020\n",
       "6  8.24503e-04 0.00239030 0.00451975 ⋯ 0.02249650 0.0320976 0.000542671\n",
       "  PC14      PC15       PC16      PC17       PC18       PC19       PC20       \n",
       "1 0.0210820 -0.0180779 0.0117862 0.00550543 0.00816908 0.00332644 -0.00276409\n",
       "2 0.0234705 -0.0204274 0.0195835 0.00866417 0.00624473 0.00981212 -0.00499454\n",
       "3 0.0194478 -0.0180207 0.0210601 0.01180740 0.00353841 0.01017900 -0.00213823\n",
       "4 0.0270003 -0.0240996 0.0188375 0.01555250 0.00409066 0.00492822 -0.00324751\n",
       "5 0.0244454 -0.0213987 0.0214381 0.00463993 0.01030520 0.00442469 -0.00352965\n",
       "6 0.0249760 -0.0207510 0.0186931 0.00918992 0.00489459 0.00692182  0.00105077"
      ]
     },
     "metadata": {},
     "output_type": "display_data"
    },
    {
     "data": {
      "text/html": [
       "<table class=\"dataframe\">\n",
       "<caption>A data.frame: 6 × 22</caption>\n",
       "<thead>\n",
       "\t<tr><th></th><th scope=col>FID</th><th scope=col>IID</th><th scope=col>PC1</th><th scope=col>PC2</th><th scope=col>PC3</th><th scope=col>PC4</th><th scope=col>PC5</th><th scope=col>PC6</th><th scope=col>PC7</th><th scope=col>PC8</th><th scope=col>⋯</th><th scope=col>PC11</th><th scope=col>PC12</th><th scope=col>PC13</th><th scope=col>PC14</th><th scope=col>PC15</th><th scope=col>PC16</th><th scope=col>PC17</th><th scope=col>PC18</th><th scope=col>PC19</th><th scope=col>PC20</th></tr>\n",
       "\t<tr><th></th><th scope=col>&lt;chr&gt;</th><th scope=col>&lt;chr&gt;</th><th scope=col>&lt;dbl&gt;</th><th scope=col>&lt;dbl&gt;</th><th scope=col>&lt;dbl&gt;</th><th scope=col>&lt;dbl&gt;</th><th scope=col>&lt;dbl&gt;</th><th scope=col>&lt;dbl&gt;</th><th scope=col>&lt;dbl&gt;</th><th scope=col>&lt;dbl&gt;</th><th scope=col>⋯</th><th scope=col>&lt;dbl&gt;</th><th scope=col>&lt;dbl&gt;</th><th scope=col>&lt;dbl&gt;</th><th scope=col>&lt;dbl&gt;</th><th scope=col>&lt;dbl&gt;</th><th scope=col>&lt;dbl&gt;</th><th scope=col>&lt;dbl&gt;</th><th scope=col>&lt;dbl&gt;</th><th scope=col>&lt;dbl&gt;</th><th scope=col>&lt;dbl&gt;</th></tr>\n",
       "</thead>\n",
       "<tbody>\n",
       "\t<tr><th scope=row>2571</th><td>R332</td><td>R332</td><td>-0.0136106</td><td>-0.0278890</td><td> 1.04225e-03</td><td>-0.01822090</td><td>-0.00523781</td><td>-0.00202937</td><td>0.002349180</td><td> 0.00111562</td><td>⋯</td><td>0.010486600</td><td>0.0312023</td><td>-0.00426005</td><td> 0.015784000</td><td>-0.02061420</td><td> 0.01123670</td><td> 0.005995560</td><td>3.46402e-03</td><td> 0.011440900</td><td>-0.01007090</td></tr>\n",
       "\t<tr><th scope=row>2572</th><td>R353</td><td>R353</td><td>-0.0132022</td><td>-0.0273276</td><td> 1.13320e-03</td><td>-0.01950410</td><td> 0.00497368</td><td>-0.00342464</td><td>0.002555440</td><td> 0.00337867</td><td>⋯</td><td>0.002390070</td><td>0.0139961</td><td>-0.00540574</td><td>-0.006825820</td><td> 0.00144542</td><td>-0.00832076</td><td> 0.001355130</td><td>1.53784e-05</td><td> 0.006970960</td><td>-0.00424482</td></tr>\n",
       "\t<tr><th scope=row>2573</th><td>R354</td><td>R354</td><td>-0.0130048</td><td>-0.0265375</td><td> 5.25248e-05</td><td>-0.01845040</td><td> 0.00787847</td><td>-0.00280444</td><td>0.003376580</td><td> 0.00138336</td><td>⋯</td><td>0.000963516</td><td>0.0232148</td><td>-0.00250141</td><td> 0.005367480</td><td>-0.00486204</td><td> 0.00747624</td><td> 0.000644818</td><td>3.22837e-03</td><td> 0.001815050</td><td>-0.00321026</td></tr>\n",
       "\t<tr><th scope=row>2574</th><td>R362</td><td>R362</td><td>-0.0134155</td><td>-0.0258685</td><td> 2.06244e-03</td><td>-0.01580840</td><td>-0.00546905</td><td>-0.00183816</td><td>0.000839656</td><td>-0.00349612</td><td>⋯</td><td>0.002502390</td><td>0.0204435</td><td>-0.00264782</td><td>-0.011116400</td><td>-0.00238523</td><td>-0.00119932</td><td> 0.001293460</td><td>1.00298e-03</td><td>-0.000130103</td><td> 0.00206249</td></tr>\n",
       "\t<tr><th scope=row>2575</th><td>R363</td><td>R363</td><td>-0.0133594</td><td>-0.0160743</td><td>-1.99580e-02</td><td>-0.00299629</td><td> 0.00301936</td><td>-0.00240966</td><td>0.002998150</td><td>-0.00102667</td><td>⋯</td><td>0.004591690</td><td>0.0173479</td><td>-0.00453003</td><td> 0.000228193</td><td> 0.00134256</td><td> 0.00687677</td><td>-0.002310780</td><td>7.29481e-04</td><td> 0.007526000</td><td> 0.00300729</td></tr>\n",
       "\t<tr><th scope=row>2576</th><td>R364</td><td>R364</td><td>-0.0134294</td><td>-0.0258266</td><td> 1.15606e-03</td><td>-0.01733340</td><td>-0.00692833</td><td>-0.00156091</td><td>0.002243070</td><td> 0.00341733</td><td>⋯</td><td>0.006795450</td><td>0.0181856</td><td>-0.00630641</td><td>-0.001835500</td><td> 0.00269152</td><td> 0.00256867</td><td>-0.001557290</td><td>2.62537e-03</td><td> 0.001048810</td><td>-0.00216814</td></tr>\n",
       "</tbody>\n",
       "</table>\n"
      ],
      "text/latex": [
       "A data.frame: 6 × 22\n",
       "\\begin{tabular}{r|lllllllllllllllllllll}\n",
       "  & FID & IID & PC1 & PC2 & PC3 & PC4 & PC5 & PC6 & PC7 & PC8 & ⋯ & PC11 & PC12 & PC13 & PC14 & PC15 & PC16 & PC17 & PC18 & PC19 & PC20\\\\\n",
       "  & <chr> & <chr> & <dbl> & <dbl> & <dbl> & <dbl> & <dbl> & <dbl> & <dbl> & <dbl> & ⋯ & <dbl> & <dbl> & <dbl> & <dbl> & <dbl> & <dbl> & <dbl> & <dbl> & <dbl> & <dbl>\\\\\n",
       "\\hline\n",
       "\t2571 & R332 & R332 & -0.0136106 & -0.0278890 &  1.04225e-03 & -0.01822090 & -0.00523781 & -0.00202937 & 0.002349180 &  0.00111562 & ⋯ & 0.010486600 & 0.0312023 & -0.00426005 &  0.015784000 & -0.02061420 &  0.01123670 &  0.005995560 & 3.46402e-03 &  0.011440900 & -0.01007090\\\\\n",
       "\t2572 & R353 & R353 & -0.0132022 & -0.0273276 &  1.13320e-03 & -0.01950410 &  0.00497368 & -0.00342464 & 0.002555440 &  0.00337867 & ⋯ & 0.002390070 & 0.0139961 & -0.00540574 & -0.006825820 &  0.00144542 & -0.00832076 &  0.001355130 & 1.53784e-05 &  0.006970960 & -0.00424482\\\\\n",
       "\t2573 & R354 & R354 & -0.0130048 & -0.0265375 &  5.25248e-05 & -0.01845040 &  0.00787847 & -0.00280444 & 0.003376580 &  0.00138336 & ⋯ & 0.000963516 & 0.0232148 & -0.00250141 &  0.005367480 & -0.00486204 &  0.00747624 &  0.000644818 & 3.22837e-03 &  0.001815050 & -0.00321026\\\\\n",
       "\t2574 & R362 & R362 & -0.0134155 & -0.0258685 &  2.06244e-03 & -0.01580840 & -0.00546905 & -0.00183816 & 0.000839656 & -0.00349612 & ⋯ & 0.002502390 & 0.0204435 & -0.00264782 & -0.011116400 & -0.00238523 & -0.00119932 &  0.001293460 & 1.00298e-03 & -0.000130103 &  0.00206249\\\\\n",
       "\t2575 & R363 & R363 & -0.0133594 & -0.0160743 & -1.99580e-02 & -0.00299629 &  0.00301936 & -0.00240966 & 0.002998150 & -0.00102667 & ⋯ & 0.004591690 & 0.0173479 & -0.00453003 &  0.000228193 &  0.00134256 &  0.00687677 & -0.002310780 & 7.29481e-04 &  0.007526000 &  0.00300729\\\\\n",
       "\t2576 & R364 & R364 & -0.0134294 & -0.0258266 &  1.15606e-03 & -0.01733340 & -0.00692833 & -0.00156091 & 0.002243070 &  0.00341733 & ⋯ & 0.006795450 & 0.0181856 & -0.00630641 & -0.001835500 &  0.00269152 &  0.00256867 & -0.001557290 & 2.62537e-03 &  0.001048810 & -0.00216814\\\\\n",
       "\\end{tabular}\n"
      ],
      "text/markdown": [
       "\n",
       "A data.frame: 6 × 22\n",
       "\n",
       "| <!--/--> | FID &lt;chr&gt; | IID &lt;chr&gt; | PC1 &lt;dbl&gt; | PC2 &lt;dbl&gt; | PC3 &lt;dbl&gt; | PC4 &lt;dbl&gt; | PC5 &lt;dbl&gt; | PC6 &lt;dbl&gt; | PC7 &lt;dbl&gt; | PC8 &lt;dbl&gt; | ⋯ ⋯ | PC11 &lt;dbl&gt; | PC12 &lt;dbl&gt; | PC13 &lt;dbl&gt; | PC14 &lt;dbl&gt; | PC15 &lt;dbl&gt; | PC16 &lt;dbl&gt; | PC17 &lt;dbl&gt; | PC18 &lt;dbl&gt; | PC19 &lt;dbl&gt; | PC20 &lt;dbl&gt; |\n",
       "|---|---|---|---|---|---|---|---|---|---|---|---|---|---|---|---|---|---|---|---|---|---|\n",
       "| 2571 | R332 | R332 | -0.0136106 | -0.0278890 |  1.04225e-03 | -0.01822090 | -0.00523781 | -0.00202937 | 0.002349180 |  0.00111562 | ⋯ | 0.010486600 | 0.0312023 | -0.00426005 |  0.015784000 | -0.02061420 |  0.01123670 |  0.005995560 | 3.46402e-03 |  0.011440900 | -0.01007090 |\n",
       "| 2572 | R353 | R353 | -0.0132022 | -0.0273276 |  1.13320e-03 | -0.01950410 |  0.00497368 | -0.00342464 | 0.002555440 |  0.00337867 | ⋯ | 0.002390070 | 0.0139961 | -0.00540574 | -0.006825820 |  0.00144542 | -0.00832076 |  0.001355130 | 1.53784e-05 |  0.006970960 | -0.00424482 |\n",
       "| 2573 | R354 | R354 | -0.0130048 | -0.0265375 |  5.25248e-05 | -0.01845040 |  0.00787847 | -0.00280444 | 0.003376580 |  0.00138336 | ⋯ | 0.000963516 | 0.0232148 | -0.00250141 |  0.005367480 | -0.00486204 |  0.00747624 |  0.000644818 | 3.22837e-03 |  0.001815050 | -0.00321026 |\n",
       "| 2574 | R362 | R362 | -0.0134155 | -0.0258685 |  2.06244e-03 | -0.01580840 | -0.00546905 | -0.00183816 | 0.000839656 | -0.00349612 | ⋯ | 0.002502390 | 0.0204435 | -0.00264782 | -0.011116400 | -0.00238523 | -0.00119932 |  0.001293460 | 1.00298e-03 | -0.000130103 |  0.00206249 |\n",
       "| 2575 | R363 | R363 | -0.0133594 | -0.0160743 | -1.99580e-02 | -0.00299629 |  0.00301936 | -0.00240966 | 0.002998150 | -0.00102667 | ⋯ | 0.004591690 | 0.0173479 | -0.00453003 |  0.000228193 |  0.00134256 |  0.00687677 | -0.002310780 | 7.29481e-04 |  0.007526000 |  0.00300729 |\n",
       "| 2576 | R364 | R364 | -0.0134294 | -0.0258266 |  1.15606e-03 | -0.01733340 | -0.00692833 | -0.00156091 | 0.002243070 |  0.00341733 | ⋯ | 0.006795450 | 0.0181856 | -0.00630641 | -0.001835500 |  0.00269152 |  0.00256867 | -0.001557290 | 2.62537e-03 |  0.001048810 | -0.00216814 |\n",
       "\n"
      ],
      "text/plain": [
       "     FID  IID  PC1        PC2        PC3          PC4         PC5        \n",
       "2571 R332 R332 -0.0136106 -0.0278890  1.04225e-03 -0.01822090 -0.00523781\n",
       "2572 R353 R353 -0.0132022 -0.0273276  1.13320e-03 -0.01950410  0.00497368\n",
       "2573 R354 R354 -0.0130048 -0.0265375  5.25248e-05 -0.01845040  0.00787847\n",
       "2574 R362 R362 -0.0134155 -0.0258685  2.06244e-03 -0.01580840 -0.00546905\n",
       "2575 R363 R363 -0.0133594 -0.0160743 -1.99580e-02 -0.00299629  0.00301936\n",
       "2576 R364 R364 -0.0134294 -0.0258266  1.15606e-03 -0.01733340 -0.00692833\n",
       "     PC6         PC7         PC8         ⋯ PC11        PC12      PC13       \n",
       "2571 -0.00202937 0.002349180  0.00111562 ⋯ 0.010486600 0.0312023 -0.00426005\n",
       "2572 -0.00342464 0.002555440  0.00337867 ⋯ 0.002390070 0.0139961 -0.00540574\n",
       "2573 -0.00280444 0.003376580  0.00138336 ⋯ 0.000963516 0.0232148 -0.00250141\n",
       "2574 -0.00183816 0.000839656 -0.00349612 ⋯ 0.002502390 0.0204435 -0.00264782\n",
       "2575 -0.00240966 0.002998150 -0.00102667 ⋯ 0.004591690 0.0173479 -0.00453003\n",
       "2576 -0.00156091 0.002243070  0.00341733 ⋯ 0.006795450 0.0181856 -0.00630641\n",
       "     PC14         PC15        PC16        PC17         PC18        PC19        \n",
       "2571  0.015784000 -0.02061420  0.01123670  0.005995560 3.46402e-03  0.011440900\n",
       "2572 -0.006825820  0.00144542 -0.00832076  0.001355130 1.53784e-05  0.006970960\n",
       "2573  0.005367480 -0.00486204  0.00747624  0.000644818 3.22837e-03  0.001815050\n",
       "2574 -0.011116400 -0.00238523 -0.00119932  0.001293460 1.00298e-03 -0.000130103\n",
       "2575  0.000228193  0.00134256  0.00687677 -0.002310780 7.29481e-04  0.007526000\n",
       "2576 -0.001835500  0.00269152  0.00256867 -0.001557290 2.62537e-03  0.001048810\n",
       "     PC20       \n",
       "2571 -0.01007090\n",
       "2572 -0.00424482\n",
       "2573 -0.00321026\n",
       "2574  0.00206249\n",
       "2575  0.00300729\n",
       "2576 -0.00216814"
      ]
     },
     "metadata": {},
     "output_type": "display_data"
    },
    {
     "data": {
      "text/html": [
       "<style>\n",
       ".list-inline {list-style: none; margin:0; padding: 0}\n",
       ".list-inline>li {display: inline-block}\n",
       ".list-inline>li:not(:last-child)::after {content: \"\\00b7\"; padding: 0 .5ex}\n",
       "</style>\n",
       "<ol class=list-inline><li>2576</li><li>22</li></ol>\n"
      ],
      "text/latex": [
       "\\begin{enumerate*}\n",
       "\\item 2576\n",
       "\\item 22\n",
       "\\end{enumerate*}\n"
      ],
      "text/markdown": [
       "1. 2576\n",
       "2. 22\n",
       "\n",
       "\n"
      ],
      "text/plain": [
       "[1] 2576   22"
      ]
     },
     "metadata": {},
     "output_type": "display_data"
    },
    {
     "data": {
      "text/html": [
       "<table class=\"dataframe\">\n",
       "<caption>A data.frame: 6 × 22</caption>\n",
       "<thead>\n",
       "\t<tr><th></th><th scope=col>FID</th><th scope=col>IID</th><th scope=col>PC1</th><th scope=col>PC2</th><th scope=col>PC3</th><th scope=col>PC4</th><th scope=col>PC5</th><th scope=col>PC6</th><th scope=col>PC7</th><th scope=col>PC8</th><th scope=col>⋯</th><th scope=col>PC11</th><th scope=col>PC12</th><th scope=col>PC13</th><th scope=col>PC14</th><th scope=col>PC15</th><th scope=col>PC16</th><th scope=col>PC17</th><th scope=col>PC18</th><th scope=col>PC19</th><th scope=col>PC20</th></tr>\n",
       "\t<tr><th></th><th scope=col>&lt;chr&gt;</th><th scope=col>&lt;chr&gt;</th><th scope=col>&lt;dbl&gt;</th><th scope=col>&lt;dbl&gt;</th><th scope=col>&lt;dbl&gt;</th><th scope=col>&lt;dbl&gt;</th><th scope=col>&lt;dbl&gt;</th><th scope=col>&lt;dbl&gt;</th><th scope=col>&lt;dbl&gt;</th><th scope=col>&lt;dbl&gt;</th><th scope=col>⋯</th><th scope=col>&lt;dbl&gt;</th><th scope=col>&lt;dbl&gt;</th><th scope=col>&lt;dbl&gt;</th><th scope=col>&lt;dbl&gt;</th><th scope=col>&lt;dbl&gt;</th><th scope=col>&lt;dbl&gt;</th><th scope=col>&lt;dbl&gt;</th><th scope=col>&lt;dbl&gt;</th><th scope=col>&lt;dbl&gt;</th><th scope=col>&lt;dbl&gt;</th></tr>\n",
       "</thead>\n",
       "<tbody>\n",
       "\t<tr><th scope=row>1</th><td>HG00096</td><td>HG00096</td><td>-0.0116728</td><td>-0.0258590</td><td>0.00903614</td><td>-0.0196319</td><td>0.00543553</td><td>0.00472319</td><td>0.00104518</td><td>-0.003962970</td><td>⋯</td><td> 0.00945522</td><td>0.00731204</td><td>-0.0214474</td><td>-0.00797730</td><td>0.0215319</td><td>0.00861298</td><td>-0.00341879</td><td>-0.004819760</td><td>-0.01258280</td><td> 0.00201575</td></tr>\n",
       "\t<tr><th scope=row>2</th><td>HG00097</td><td>HG00097</td><td>-0.0117830</td><td>-0.0269322</td><td>0.00916972</td><td>-0.0185780</td><td>0.00566025</td><td>0.00285754</td><td>0.00105691</td><td>-0.000847045</td><td>⋯</td><td>-0.02556570</td><td>0.01127520</td><td>-0.0352004</td><td>-0.00387592</td><td>0.0308433</td><td>0.02386750</td><td>-0.00592579</td><td>-0.013739100</td><td>-0.03120270</td><td> 0.00787650</td></tr>\n",
       "\t<tr><th scope=row>3</th><td>HG00099</td><td>HG00099</td><td>-0.0118891</td><td>-0.0268869</td><td>0.00927261</td><td>-0.0175336</td><td>0.00859404</td><td>0.00954158</td><td>0.00553968</td><td>-0.003854480</td><td>⋯</td><td>-0.08440270</td><td>0.00175031</td><td>-0.0329802</td><td>-0.01189520</td><td>0.0321656</td><td>0.01801910</td><td>-0.00821940</td><td>-0.000245963</td><td>-0.01379480</td><td> 0.00224047</td></tr>\n",
       "\t<tr><th scope=row>4</th><td>HG00100</td><td>HG00100</td><td>-0.0115327</td><td>-0.0268822</td><td>0.00873961</td><td>-0.0180744</td><td>0.00173942</td><td>0.00361058</td><td>0.00186542</td><td>-0.005310470</td><td>⋯</td><td> 0.02233010</td><td>0.00400364</td><td>-0.0208793</td><td>-0.01732870</td><td>0.0107947</td><td>0.00611567</td><td> 0.00850795</td><td>-0.009257740</td><td>-0.00496657</td><td>-0.01331000</td></tr>\n",
       "\t<tr><th scope=row>5</th><td>HG00101</td><td>HG00101</td><td>-0.0115694</td><td>-0.0260389</td><td>0.00964793</td><td>-0.0188751</td><td>0.00378215</td><td>0.00520270</td><td>0.00186264</td><td>-0.001944760</td><td>⋯</td><td> 0.01056530</td><td>0.00859932</td><td>-0.0233053</td><td>-0.00506921</td><td>0.0233082</td><td>0.00758418</td><td>-0.00115989</td><td>-0.013043400</td><td>-0.00840668</td><td>-0.00950946</td></tr>\n",
       "\t<tr><th scope=row>6</th><td>HG00102</td><td>HG00102</td><td>-0.0119355</td><td>-0.0261903</td><td>0.00811647</td><td>-0.0173505</td><td>0.00768530</td><td>0.00985689</td><td>0.00490250</td><td>-0.000365211</td><td>⋯</td><td> 0.02001320</td><td>0.01291320</td><td>-0.0239543</td><td>-0.01089920</td><td>0.0171245</td><td>0.01083210</td><td> 0.00268289</td><td> 0.007160230</td><td>-0.00944344</td><td>-0.00856678</td></tr>\n",
       "</tbody>\n",
       "</table>\n"
      ],
      "text/latex": [
       "A data.frame: 6 × 22\n",
       "\\begin{tabular}{r|lllllllllllllllllllll}\n",
       "  & FID & IID & PC1 & PC2 & PC3 & PC4 & PC5 & PC6 & PC7 & PC8 & ⋯ & PC11 & PC12 & PC13 & PC14 & PC15 & PC16 & PC17 & PC18 & PC19 & PC20\\\\\n",
       "  & <chr> & <chr> & <dbl> & <dbl> & <dbl> & <dbl> & <dbl> & <dbl> & <dbl> & <dbl> & ⋯ & <dbl> & <dbl> & <dbl> & <dbl> & <dbl> & <dbl> & <dbl> & <dbl> & <dbl> & <dbl>\\\\\n",
       "\\hline\n",
       "\t1 & HG00096 & HG00096 & -0.0116728 & -0.0258590 & 0.00903614 & -0.0196319 & 0.00543553 & 0.00472319 & 0.00104518 & -0.003962970 & ⋯ &  0.00945522 & 0.00731204 & -0.0214474 & -0.00797730 & 0.0215319 & 0.00861298 & -0.00341879 & -0.004819760 & -0.01258280 &  0.00201575\\\\\n",
       "\t2 & HG00097 & HG00097 & -0.0117830 & -0.0269322 & 0.00916972 & -0.0185780 & 0.00566025 & 0.00285754 & 0.00105691 & -0.000847045 & ⋯ & -0.02556570 & 0.01127520 & -0.0352004 & -0.00387592 & 0.0308433 & 0.02386750 & -0.00592579 & -0.013739100 & -0.03120270 &  0.00787650\\\\\n",
       "\t3 & HG00099 & HG00099 & -0.0118891 & -0.0268869 & 0.00927261 & -0.0175336 & 0.00859404 & 0.00954158 & 0.00553968 & -0.003854480 & ⋯ & -0.08440270 & 0.00175031 & -0.0329802 & -0.01189520 & 0.0321656 & 0.01801910 & -0.00821940 & -0.000245963 & -0.01379480 &  0.00224047\\\\\n",
       "\t4 & HG00100 & HG00100 & -0.0115327 & -0.0268822 & 0.00873961 & -0.0180744 & 0.00173942 & 0.00361058 & 0.00186542 & -0.005310470 & ⋯ &  0.02233010 & 0.00400364 & -0.0208793 & -0.01732870 & 0.0107947 & 0.00611567 &  0.00850795 & -0.009257740 & -0.00496657 & -0.01331000\\\\\n",
       "\t5 & HG00101 & HG00101 & -0.0115694 & -0.0260389 & 0.00964793 & -0.0188751 & 0.00378215 & 0.00520270 & 0.00186264 & -0.001944760 & ⋯ &  0.01056530 & 0.00859932 & -0.0233053 & -0.00506921 & 0.0233082 & 0.00758418 & -0.00115989 & -0.013043400 & -0.00840668 & -0.00950946\\\\\n",
       "\t6 & HG00102 & HG00102 & -0.0119355 & -0.0261903 & 0.00811647 & -0.0173505 & 0.00768530 & 0.00985689 & 0.00490250 & -0.000365211 & ⋯ &  0.02001320 & 0.01291320 & -0.0239543 & -0.01089920 & 0.0171245 & 0.01083210 &  0.00268289 &  0.007160230 & -0.00944344 & -0.00856678\\\\\n",
       "\\end{tabular}\n"
      ],
      "text/markdown": [
       "\n",
       "A data.frame: 6 × 22\n",
       "\n",
       "| <!--/--> | FID &lt;chr&gt; | IID &lt;chr&gt; | PC1 &lt;dbl&gt; | PC2 &lt;dbl&gt; | PC3 &lt;dbl&gt; | PC4 &lt;dbl&gt; | PC5 &lt;dbl&gt; | PC6 &lt;dbl&gt; | PC7 &lt;dbl&gt; | PC8 &lt;dbl&gt; | ⋯ ⋯ | PC11 &lt;dbl&gt; | PC12 &lt;dbl&gt; | PC13 &lt;dbl&gt; | PC14 &lt;dbl&gt; | PC15 &lt;dbl&gt; | PC16 &lt;dbl&gt; | PC17 &lt;dbl&gt; | PC18 &lt;dbl&gt; | PC19 &lt;dbl&gt; | PC20 &lt;dbl&gt; |\n",
       "|---|---|---|---|---|---|---|---|---|---|---|---|---|---|---|---|---|---|---|---|---|---|\n",
       "| 1 | HG00096 | HG00096 | -0.0116728 | -0.0258590 | 0.00903614 | -0.0196319 | 0.00543553 | 0.00472319 | 0.00104518 | -0.003962970 | ⋯ |  0.00945522 | 0.00731204 | -0.0214474 | -0.00797730 | 0.0215319 | 0.00861298 | -0.00341879 | -0.004819760 | -0.01258280 |  0.00201575 |\n",
       "| 2 | HG00097 | HG00097 | -0.0117830 | -0.0269322 | 0.00916972 | -0.0185780 | 0.00566025 | 0.00285754 | 0.00105691 | -0.000847045 | ⋯ | -0.02556570 | 0.01127520 | -0.0352004 | -0.00387592 | 0.0308433 | 0.02386750 | -0.00592579 | -0.013739100 | -0.03120270 |  0.00787650 |\n",
       "| 3 | HG00099 | HG00099 | -0.0118891 | -0.0268869 | 0.00927261 | -0.0175336 | 0.00859404 | 0.00954158 | 0.00553968 | -0.003854480 | ⋯ | -0.08440270 | 0.00175031 | -0.0329802 | -0.01189520 | 0.0321656 | 0.01801910 | -0.00821940 | -0.000245963 | -0.01379480 |  0.00224047 |\n",
       "| 4 | HG00100 | HG00100 | -0.0115327 | -0.0268822 | 0.00873961 | -0.0180744 | 0.00173942 | 0.00361058 | 0.00186542 | -0.005310470 | ⋯ |  0.02233010 | 0.00400364 | -0.0208793 | -0.01732870 | 0.0107947 | 0.00611567 |  0.00850795 | -0.009257740 | -0.00496657 | -0.01331000 |\n",
       "| 5 | HG00101 | HG00101 | -0.0115694 | -0.0260389 | 0.00964793 | -0.0188751 | 0.00378215 | 0.00520270 | 0.00186264 | -0.001944760 | ⋯ |  0.01056530 | 0.00859932 | -0.0233053 | -0.00506921 | 0.0233082 | 0.00758418 | -0.00115989 | -0.013043400 | -0.00840668 | -0.00950946 |\n",
       "| 6 | HG00102 | HG00102 | -0.0119355 | -0.0261903 | 0.00811647 | -0.0173505 | 0.00768530 | 0.00985689 | 0.00490250 | -0.000365211 | ⋯ |  0.02001320 | 0.01291320 | -0.0239543 | -0.01089920 | 0.0171245 | 0.01083210 |  0.00268289 |  0.007160230 | -0.00944344 | -0.00856678 |\n",
       "\n"
      ],
      "text/plain": [
       "  FID     IID     PC1        PC2        PC3        PC4        PC5       \n",
       "1 HG00096 HG00096 -0.0116728 -0.0258590 0.00903614 -0.0196319 0.00543553\n",
       "2 HG00097 HG00097 -0.0117830 -0.0269322 0.00916972 -0.0185780 0.00566025\n",
       "3 HG00099 HG00099 -0.0118891 -0.0268869 0.00927261 -0.0175336 0.00859404\n",
       "4 HG00100 HG00100 -0.0115327 -0.0268822 0.00873961 -0.0180744 0.00173942\n",
       "5 HG00101 HG00101 -0.0115694 -0.0260389 0.00964793 -0.0188751 0.00378215\n",
       "6 HG00102 HG00102 -0.0119355 -0.0261903 0.00811647 -0.0173505 0.00768530\n",
       "  PC6        PC7        PC8          ⋯ PC11        PC12       PC13      \n",
       "1 0.00472319 0.00104518 -0.003962970 ⋯  0.00945522 0.00731204 -0.0214474\n",
       "2 0.00285754 0.00105691 -0.000847045 ⋯ -0.02556570 0.01127520 -0.0352004\n",
       "3 0.00954158 0.00553968 -0.003854480 ⋯ -0.08440270 0.00175031 -0.0329802\n",
       "4 0.00361058 0.00186542 -0.005310470 ⋯  0.02233010 0.00400364 -0.0208793\n",
       "5 0.00520270 0.00186264 -0.001944760 ⋯  0.01056530 0.00859932 -0.0233053\n",
       "6 0.00985689 0.00490250 -0.000365211 ⋯  0.02001320 0.01291320 -0.0239543\n",
       "  PC14        PC15      PC16       PC17        PC18         PC19       \n",
       "1 -0.00797730 0.0215319 0.00861298 -0.00341879 -0.004819760 -0.01258280\n",
       "2 -0.00387592 0.0308433 0.02386750 -0.00592579 -0.013739100 -0.03120270\n",
       "3 -0.01189520 0.0321656 0.01801910 -0.00821940 -0.000245963 -0.01379480\n",
       "4 -0.01732870 0.0107947 0.00611567  0.00850795 -0.009257740 -0.00496657\n",
       "5 -0.00506921 0.0233082 0.00758418 -0.00115989 -0.013043400 -0.00840668\n",
       "6 -0.01089920 0.0171245 0.01083210  0.00268289  0.007160230 -0.00944344\n",
       "  PC20       \n",
       "1  0.00201575\n",
       "2  0.00787650\n",
       "3  0.00224047\n",
       "4 -0.01331000\n",
       "5 -0.00950946\n",
       "6 -0.00856678"
      ]
     },
     "metadata": {},
     "output_type": "display_data"
    },
    {
     "data": {
      "text/html": [
       "<table class=\"dataframe\">\n",
       "<caption>A data.frame: 6 × 22</caption>\n",
       "<thead>\n",
       "\t<tr><th></th><th scope=col>FID</th><th scope=col>IID</th><th scope=col>PC1</th><th scope=col>PC2</th><th scope=col>PC3</th><th scope=col>PC4</th><th scope=col>PC5</th><th scope=col>PC6</th><th scope=col>PC7</th><th scope=col>PC8</th><th scope=col>⋯</th><th scope=col>PC11</th><th scope=col>PC12</th><th scope=col>PC13</th><th scope=col>PC14</th><th scope=col>PC15</th><th scope=col>PC16</th><th scope=col>PC17</th><th scope=col>PC18</th><th scope=col>PC19</th><th scope=col>PC20</th></tr>\n",
       "\t<tr><th></th><th scope=col>&lt;chr&gt;</th><th scope=col>&lt;chr&gt;</th><th scope=col>&lt;dbl&gt;</th><th scope=col>&lt;dbl&gt;</th><th scope=col>&lt;dbl&gt;</th><th scope=col>&lt;dbl&gt;</th><th scope=col>&lt;dbl&gt;</th><th scope=col>&lt;dbl&gt;</th><th scope=col>&lt;dbl&gt;</th><th scope=col>&lt;dbl&gt;</th><th scope=col>⋯</th><th scope=col>&lt;dbl&gt;</th><th scope=col>&lt;dbl&gt;</th><th scope=col>&lt;dbl&gt;</th><th scope=col>&lt;dbl&gt;</th><th scope=col>&lt;dbl&gt;</th><th scope=col>&lt;dbl&gt;</th><th scope=col>&lt;dbl&gt;</th><th scope=col>&lt;dbl&gt;</th><th scope=col>&lt;dbl&gt;</th><th scope=col>&lt;dbl&gt;</th></tr>\n",
       "</thead>\n",
       "<tbody>\n",
       "\t<tr><th scope=row>2571</th><td>R332</td><td>R332</td><td>-0.0118800</td><td>-0.0285405</td><td>0.00986381</td><td>-0.01938330</td><td> 0.00384131</td><td> 0.00269033</td><td>0.00285085</td><td> 9.43001e-05</td><td>⋯</td><td>0.07530190</td><td> 0.063417500</td><td>-0.07068930</td><td>-0.00774776</td><td> 0.08881360</td><td> 0.04394520</td><td> 0.002963850</td><td> 0.110037000</td><td> 0.007754540</td><td> 0.012080600</td></tr>\n",
       "\t<tr><th scope=row>2572</th><td>R353</td><td>R353</td><td>-0.0116031</td><td>-0.0270483</td><td>0.00976687</td><td>-0.02006410</td><td>-0.00392465</td><td>-0.00764978</td><td>0.00390195</td><td>-7.09482e-03</td><td>⋯</td><td>0.04134780</td><td> 0.017474900</td><td> 0.02595460</td><td> 0.00598492</td><td>-0.01249070</td><td>-0.00335466</td><td>-0.041981100</td><td> 0.060890400</td><td> 0.030745100</td><td> 0.181467000</td></tr>\n",
       "\t<tr><th scope=row>2573</th><td>R354</td><td>R354</td><td>-0.0114172</td><td>-0.0270385</td><td>0.01029270</td><td>-0.01922490</td><td>-0.00814140</td><td>-0.01075150</td><td>0.00463970</td><td>-5.64552e-04</td><td>⋯</td><td>0.00586664</td><td>-0.008201940</td><td>-0.06222150</td><td>-0.03983100</td><td> 0.04780970</td><td> 0.05207480</td><td>-0.035970000</td><td>-0.066943600</td><td>-0.163736000</td><td> 0.000548555</td></tr>\n",
       "\t<tr><th scope=row>2574</th><td>R362</td><td>R362</td><td>-0.0116987</td><td>-0.0262846</td><td>0.00667680</td><td>-0.01762350</td><td> 0.00396624</td><td> 0.00716293</td><td>0.00104743</td><td> 3.92751e-03</td><td>⋯</td><td>0.02324420</td><td>-0.000271103</td><td> 0.00972908</td><td> 0.01438870</td><td> 0.00589670</td><td>-0.00126227</td><td>-0.014330600</td><td>-0.050624200</td><td>-0.053387200</td><td>-0.012092200</td></tr>\n",
       "\t<tr><th scope=row>2575</th><td>R363</td><td>R363</td><td>-0.0120296</td><td>-0.0175499</td><td>0.02043220</td><td> 0.00570982</td><td>-0.00606513</td><td>-0.00648293</td><td>0.00560114</td><td> 4.07209e-04</td><td>⋯</td><td>0.01620640</td><td> 0.001872860</td><td>-0.01809700</td><td> 0.00231946</td><td>-0.00573858</td><td> 0.00502908</td><td>-0.000637645</td><td>-0.001981990</td><td> 0.002460420</td><td>-0.001982540</td></tr>\n",
       "\t<tr><th scope=row>2576</th><td>R364</td><td>R364</td><td>-0.0119274</td><td>-0.0262566</td><td>0.00802926</td><td>-0.01796310</td><td> 0.00628964</td><td> 0.00881724</td><td>0.00336677</td><td>-2.75427e-03</td><td>⋯</td><td>0.03078960</td><td>-0.007704000</td><td>-0.04875900</td><td>-0.02471920</td><td>-0.02034690</td><td> 0.00247017</td><td>-0.015884200</td><td> 0.000120394</td><td> 0.000725765</td><td> 0.004256600</td></tr>\n",
       "</tbody>\n",
       "</table>\n"
      ],
      "text/latex": [
       "A data.frame: 6 × 22\n",
       "\\begin{tabular}{r|lllllllllllllllllllll}\n",
       "  & FID & IID & PC1 & PC2 & PC3 & PC4 & PC5 & PC6 & PC7 & PC8 & ⋯ & PC11 & PC12 & PC13 & PC14 & PC15 & PC16 & PC17 & PC18 & PC19 & PC20\\\\\n",
       "  & <chr> & <chr> & <dbl> & <dbl> & <dbl> & <dbl> & <dbl> & <dbl> & <dbl> & <dbl> & ⋯ & <dbl> & <dbl> & <dbl> & <dbl> & <dbl> & <dbl> & <dbl> & <dbl> & <dbl> & <dbl>\\\\\n",
       "\\hline\n",
       "\t2571 & R332 & R332 & -0.0118800 & -0.0285405 & 0.00986381 & -0.01938330 &  0.00384131 &  0.00269033 & 0.00285085 &  9.43001e-05 & ⋯ & 0.07530190 &  0.063417500 & -0.07068930 & -0.00774776 &  0.08881360 &  0.04394520 &  0.002963850 &  0.110037000 &  0.007754540 &  0.012080600\\\\\n",
       "\t2572 & R353 & R353 & -0.0116031 & -0.0270483 & 0.00976687 & -0.02006410 & -0.00392465 & -0.00764978 & 0.00390195 & -7.09482e-03 & ⋯ & 0.04134780 &  0.017474900 &  0.02595460 &  0.00598492 & -0.01249070 & -0.00335466 & -0.041981100 &  0.060890400 &  0.030745100 &  0.181467000\\\\\n",
       "\t2573 & R354 & R354 & -0.0114172 & -0.0270385 & 0.01029270 & -0.01922490 & -0.00814140 & -0.01075150 & 0.00463970 & -5.64552e-04 & ⋯ & 0.00586664 & -0.008201940 & -0.06222150 & -0.03983100 &  0.04780970 &  0.05207480 & -0.035970000 & -0.066943600 & -0.163736000 &  0.000548555\\\\\n",
       "\t2574 & R362 & R362 & -0.0116987 & -0.0262846 & 0.00667680 & -0.01762350 &  0.00396624 &  0.00716293 & 0.00104743 &  3.92751e-03 & ⋯ & 0.02324420 & -0.000271103 &  0.00972908 &  0.01438870 &  0.00589670 & -0.00126227 & -0.014330600 & -0.050624200 & -0.053387200 & -0.012092200\\\\\n",
       "\t2575 & R363 & R363 & -0.0120296 & -0.0175499 & 0.02043220 &  0.00570982 & -0.00606513 & -0.00648293 & 0.00560114 &  4.07209e-04 & ⋯ & 0.01620640 &  0.001872860 & -0.01809700 &  0.00231946 & -0.00573858 &  0.00502908 & -0.000637645 & -0.001981990 &  0.002460420 & -0.001982540\\\\\n",
       "\t2576 & R364 & R364 & -0.0119274 & -0.0262566 & 0.00802926 & -0.01796310 &  0.00628964 &  0.00881724 & 0.00336677 & -2.75427e-03 & ⋯ & 0.03078960 & -0.007704000 & -0.04875900 & -0.02471920 & -0.02034690 &  0.00247017 & -0.015884200 &  0.000120394 &  0.000725765 &  0.004256600\\\\\n",
       "\\end{tabular}\n"
      ],
      "text/markdown": [
       "\n",
       "A data.frame: 6 × 22\n",
       "\n",
       "| <!--/--> | FID &lt;chr&gt; | IID &lt;chr&gt; | PC1 &lt;dbl&gt; | PC2 &lt;dbl&gt; | PC3 &lt;dbl&gt; | PC4 &lt;dbl&gt; | PC5 &lt;dbl&gt; | PC6 &lt;dbl&gt; | PC7 &lt;dbl&gt; | PC8 &lt;dbl&gt; | ⋯ ⋯ | PC11 &lt;dbl&gt; | PC12 &lt;dbl&gt; | PC13 &lt;dbl&gt; | PC14 &lt;dbl&gt; | PC15 &lt;dbl&gt; | PC16 &lt;dbl&gt; | PC17 &lt;dbl&gt; | PC18 &lt;dbl&gt; | PC19 &lt;dbl&gt; | PC20 &lt;dbl&gt; |\n",
       "|---|---|---|---|---|---|---|---|---|---|---|---|---|---|---|---|---|---|---|---|---|---|\n",
       "| 2571 | R332 | R332 | -0.0118800 | -0.0285405 | 0.00986381 | -0.01938330 |  0.00384131 |  0.00269033 | 0.00285085 |  9.43001e-05 | ⋯ | 0.07530190 |  0.063417500 | -0.07068930 | -0.00774776 |  0.08881360 |  0.04394520 |  0.002963850 |  0.110037000 |  0.007754540 |  0.012080600 |\n",
       "| 2572 | R353 | R353 | -0.0116031 | -0.0270483 | 0.00976687 | -0.02006410 | -0.00392465 | -0.00764978 | 0.00390195 | -7.09482e-03 | ⋯ | 0.04134780 |  0.017474900 |  0.02595460 |  0.00598492 | -0.01249070 | -0.00335466 | -0.041981100 |  0.060890400 |  0.030745100 |  0.181467000 |\n",
       "| 2573 | R354 | R354 | -0.0114172 | -0.0270385 | 0.01029270 | -0.01922490 | -0.00814140 | -0.01075150 | 0.00463970 | -5.64552e-04 | ⋯ | 0.00586664 | -0.008201940 | -0.06222150 | -0.03983100 |  0.04780970 |  0.05207480 | -0.035970000 | -0.066943600 | -0.163736000 |  0.000548555 |\n",
       "| 2574 | R362 | R362 | -0.0116987 | -0.0262846 | 0.00667680 | -0.01762350 |  0.00396624 |  0.00716293 | 0.00104743 |  3.92751e-03 | ⋯ | 0.02324420 | -0.000271103 |  0.00972908 |  0.01438870 |  0.00589670 | -0.00126227 | -0.014330600 | -0.050624200 | -0.053387200 | -0.012092200 |\n",
       "| 2575 | R363 | R363 | -0.0120296 | -0.0175499 | 0.02043220 |  0.00570982 | -0.00606513 | -0.00648293 | 0.00560114 |  4.07209e-04 | ⋯ | 0.01620640 |  0.001872860 | -0.01809700 |  0.00231946 | -0.00573858 |  0.00502908 | -0.000637645 | -0.001981990 |  0.002460420 | -0.001982540 |\n",
       "| 2576 | R364 | R364 | -0.0119274 | -0.0262566 | 0.00802926 | -0.01796310 |  0.00628964 |  0.00881724 | 0.00336677 | -2.75427e-03 | ⋯ | 0.03078960 | -0.007704000 | -0.04875900 | -0.02471920 | -0.02034690 |  0.00247017 | -0.015884200 |  0.000120394 |  0.000725765 |  0.004256600 |\n",
       "\n"
      ],
      "text/plain": [
       "     FID  IID  PC1        PC2        PC3        PC4         PC5        \n",
       "2571 R332 R332 -0.0118800 -0.0285405 0.00986381 -0.01938330  0.00384131\n",
       "2572 R353 R353 -0.0116031 -0.0270483 0.00976687 -0.02006410 -0.00392465\n",
       "2573 R354 R354 -0.0114172 -0.0270385 0.01029270 -0.01922490 -0.00814140\n",
       "2574 R362 R362 -0.0116987 -0.0262846 0.00667680 -0.01762350  0.00396624\n",
       "2575 R363 R363 -0.0120296 -0.0175499 0.02043220  0.00570982 -0.00606513\n",
       "2576 R364 R364 -0.0119274 -0.0262566 0.00802926 -0.01796310  0.00628964\n",
       "     PC6         PC7        PC8          ⋯ PC11       PC12         PC13       \n",
       "2571  0.00269033 0.00285085  9.43001e-05 ⋯ 0.07530190  0.063417500 -0.07068930\n",
       "2572 -0.00764978 0.00390195 -7.09482e-03 ⋯ 0.04134780  0.017474900  0.02595460\n",
       "2573 -0.01075150 0.00463970 -5.64552e-04 ⋯ 0.00586664 -0.008201940 -0.06222150\n",
       "2574  0.00716293 0.00104743  3.92751e-03 ⋯ 0.02324420 -0.000271103  0.00972908\n",
       "2575 -0.00648293 0.00560114  4.07209e-04 ⋯ 0.01620640  0.001872860 -0.01809700\n",
       "2576  0.00881724 0.00336677 -2.75427e-03 ⋯ 0.03078960 -0.007704000 -0.04875900\n",
       "     PC14        PC15        PC16        PC17         PC18         PC19        \n",
       "2571 -0.00774776  0.08881360  0.04394520  0.002963850  0.110037000  0.007754540\n",
       "2572  0.00598492 -0.01249070 -0.00335466 -0.041981100  0.060890400  0.030745100\n",
       "2573 -0.03983100  0.04780970  0.05207480 -0.035970000 -0.066943600 -0.163736000\n",
       "2574  0.01438870  0.00589670 -0.00126227 -0.014330600 -0.050624200 -0.053387200\n",
       "2575  0.00231946 -0.00573858  0.00502908 -0.000637645 -0.001981990  0.002460420\n",
       "2576 -0.02471920 -0.02034690  0.00247017 -0.015884200  0.000120394  0.000725765\n",
       "     PC20        \n",
       "2571  0.012080600\n",
       "2572  0.181467000\n",
       "2573  0.000548555\n",
       "2574 -0.012092200\n",
       "2575 -0.001982540\n",
       "2576  0.004256600"
      ]
     },
     "metadata": {},
     "output_type": "display_data"
    }
   ],
   "source": [
    "pcas_new = read.table('/path/to/genotypes/pca/IM_1KG_merge_intersect.pruned.pca.eigenvec', header=T)\n",
    "\n",
    "dim(pcas_new)\n",
    "head(pcas_new)\n",
    "tail(pcas_new)"
   ]
  },
  {
   "cell_type": "code",
   "execution_count": 2,
   "id": "a0832a14",
   "metadata": {
    "vscode": {
     "languageId": "r"
    }
   },
   "outputs": [],
   "source": [
    "# Read in metadata labels\n",
    "sup = read.table(\"/data/1KGP/1kg_super_population_table.tsv\", sep=\"\\t\", header=T)\n",
    "samp = read.table(\"/data/1KGP/1kg_population_sample_table.tsv\", sep=\"\\t\", header=T)\n",
    "samp = merge(samp, sup, by.x=2, by.y=1)"
   ]
  },
  {
   "cell_type": "code",
   "execution_count": 8,
   "id": "5044ca66",
   "metadata": {
    "vscode": {
     "languageId": "r"
    }
   },
   "outputs": [],
   "source": [
    "homedir  = '/path/to/genotypes/chr1test/'\n",
    "gtnames= readLines(paste0(homedir, \"sample_list\"))"
   ]
  },
  {
   "cell_type": "code",
   "execution_count": 9,
   "id": "c958b8b5",
   "metadata": {
    "vscode": {
     "languageId": "r"
    }
   },
   "outputs": [
    {
     "data": {
      "text/html": [
       "105"
      ],
      "text/latex": [
       "105"
      ],
      "text/markdown": [
       "105"
      ],
      "text/plain": [
       "[1] 105"
      ]
     },
     "metadata": {},
     "output_type": "display_data"
    }
   ],
   "source": [
    "length(gtnames)"
   ]
  },
  {
   "cell_type": "code",
   "execution_count": 4,
   "id": "fe9c015a",
   "metadata": {
    "vscode": {
     "languageId": "r"
    }
   },
   "outputs": [],
   "source": [
    "setwd(\"/path/to/genotypes/imputed_genotypes\")"
   ]
  },
  {
   "cell_type": "code",
   "execution_count": 5,
   "id": "4897720b",
   "metadata": {
    "vscode": {
     "languageId": "r"
    }
   },
   "outputs": [],
   "source": [
    "dat = read.table('../../data/barcode_celltypes_selection.txt', header=T)"
   ]
  },
  {
   "cell_type": "code",
   "execution_count": 6,
   "id": "10830ca9",
   "metadata": {
    "vscode": {
     "languageId": "r"
    }
   },
   "outputs": [
    {
     "data": {
      "text/html": [
       "31"
      ],
      "text/latex": [
       "31"
      ],
      "text/markdown": [
       "31"
      ],
      "text/plain": [
       "[1] 31"
      ]
     },
     "metadata": {},
     "output_type": "display_data"
    }
   ],
   "source": [
    "length(unique(dat$sample))"
   ]
  },
  {
   "cell_type": "code",
   "execution_count": 10,
   "id": "f271d97b",
   "metadata": {
    "vscode": {
     "languageId": "r"
    }
   },
   "outputs": [],
   "source": [
    "# Build up labels table\n",
    "samples = unique(dat$sample)\n",
    "tab = sapply(samples, function(x) grepl(x, gtnames))\n",
    "rownames(tab) = gtnames\n",
    "tab = tab[rowSums(tab)>0,]             \n",
    "df =data.frame(apply(tab, 1, function(x) colnames(tab)[x]))"
   ]
  },
  {
   "cell_type": "code",
   "execution_count": 11,
   "id": "e89e3bb3",
   "metadata": {
    "vscode": {
     "languageId": "r"
    }
   },
   "outputs": [],
   "source": [
    "#df2 = data.frame(Sample= rownames(df)[df[,1] %in% samples], SuperPopulation.Code=\"Sc_Islets\")\n",
    "df2 = data.frame(Sample= df[,1][df[,1] %in% samples], SuperPopulation.Code=\"Sc_Islets\")\n",
    "samp2 = rbind(samp[,2:3], df2)"
   ]
  },
  {
   "cell_type": "code",
   "execution_count": 12,
   "id": "2284d781",
   "metadata": {
    "scrolled": true,
    "vscode": {
     "languageId": "r"
    }
   },
   "outputs": [
    {
     "data": {
      "text/html": [
       "<table class=\"dataframe\">\n",
       "<caption>A data.frame: 3531 × 2</caption>\n",
       "<thead>\n",
       "\t<tr><th scope=col>Sample</th><th scope=col>SuperPopulation.Code</th></tr>\n",
       "\t<tr><th scope=col>&lt;chr&gt;</th><th scope=col>&lt;chr&gt;</th></tr>\n",
       "</thead>\n",
       "<tbody>\n",
       "\t<tr><td>HG02308</td><td>AFR</td></tr>\n",
       "\t<tr><td>HG02255</td><td>AFR</td></tr>\n",
       "\t<tr><td>HG02111</td><td>AFR</td></tr>\n",
       "\t<tr><td>HG02480</td><td>AFR</td></tr>\n",
       "\t<tr><td>HG01894</td><td>AFR</td></tr>\n",
       "\t<tr><td>HG02478</td><td>AFR</td></tr>\n",
       "\t<tr><td>HG02427</td><td>AFR</td></tr>\n",
       "\t<tr><td>HG02479</td><td>AFR</td></tr>\n",
       "\t<tr><td>HG02451</td><td>AFR</td></tr>\n",
       "\t<tr><td>HG02014</td><td>AFR</td></tr>\n",
       "\t<tr><td>HG02145</td><td>AFR</td></tr>\n",
       "\t<tr><td>HG01896</td><td>AFR</td></tr>\n",
       "\t<tr><td>HG02476</td><td>AFR</td></tr>\n",
       "\t<tr><td>HG02013</td><td>AFR</td></tr>\n",
       "\t<tr><td>HG02332</td><td>AFR</td></tr>\n",
       "\t<tr><td>HG02012</td><td>AFR</td></tr>\n",
       "\t<tr><td>HG02557</td><td>AFR</td></tr>\n",
       "\t<tr><td>HG02558</td><td>AFR</td></tr>\n",
       "\t<tr><td>HG02477</td><td>AFR</td></tr>\n",
       "\t<tr><td>HG02555</td><td>AFR</td></tr>\n",
       "\t<tr><td>HG02481</td><td>AFR</td></tr>\n",
       "\t<tr><td>HG02334</td><td>AFR</td></tr>\n",
       "\t<tr><td>HG02455</td><td>AFR</td></tr>\n",
       "\t<tr><td>HG01895</td><td>AFR</td></tr>\n",
       "\t<tr><td>HG01916</td><td>AFR</td></tr>\n",
       "\t<tr><td>HG02011</td><td>AFR</td></tr>\n",
       "\t<tr><td>HG01960</td><td>AFR</td></tr>\n",
       "\t<tr><td>HG02144</td><td>AFR</td></tr>\n",
       "\t<tr><td>HG02143</td><td>AFR</td></tr>\n",
       "\t<tr><td>HG02282</td><td>AFR</td></tr>\n",
       "\t<tr><td>⋮</td><td>⋮</td></tr>\n",
       "\t<tr><td>R217</td><td>Sc_Islets</td></tr>\n",
       "\t<tr><td>R218</td><td>Sc_Islets</td></tr>\n",
       "\t<tr><td>R221</td><td>Sc_Islets</td></tr>\n",
       "\t<tr><td>R223</td><td>Sc_Islets</td></tr>\n",
       "\t<tr><td>R226</td><td>Sc_Islets</td></tr>\n",
       "\t<tr><td>R228</td><td>Sc_Islets</td></tr>\n",
       "\t<tr><td>R234</td><td>Sc_Islets</td></tr>\n",
       "\t<tr><td>R237</td><td>Sc_Islets</td></tr>\n",
       "\t<tr><td>R238</td><td>Sc_Islets</td></tr>\n",
       "\t<tr><td>R246</td><td>Sc_Islets</td></tr>\n",
       "\t<tr><td>R247</td><td>Sc_Islets</td></tr>\n",
       "\t<tr><td>R275</td><td>Sc_Islets</td></tr>\n",
       "\t<tr><td>R277</td><td>Sc_Islets</td></tr>\n",
       "\t<tr><td>R284</td><td>Sc_Islets</td></tr>\n",
       "\t<tr><td>R290</td><td>Sc_Islets</td></tr>\n",
       "\t<tr><td>R292</td><td>Sc_Islets</td></tr>\n",
       "\t<tr><td>R316</td><td>Sc_Islets</td></tr>\n",
       "\t<tr><td>R317</td><td>Sc_Islets</td></tr>\n",
       "\t<tr><td>R319</td><td>Sc_Islets</td></tr>\n",
       "\t<tr><td>R325</td><td>Sc_Islets</td></tr>\n",
       "\t<tr><td>R326</td><td>Sc_Islets</td></tr>\n",
       "\t<tr><td>R327</td><td>Sc_Islets</td></tr>\n",
       "\t<tr><td>R349</td><td>Sc_Islets</td></tr>\n",
       "\t<tr><td>R332</td><td>Sc_Islets</td></tr>\n",
       "\t<tr><td>R343</td><td>Sc_Islets</td></tr>\n",
       "\t<tr><td>R362</td><td>Sc_Islets</td></tr>\n",
       "\t<tr><td>R353</td><td>Sc_Islets</td></tr>\n",
       "\t<tr><td>R363</td><td>Sc_Islets</td></tr>\n",
       "\t<tr><td>R354</td><td>Sc_Islets</td></tr>\n",
       "\t<tr><td>R364</td><td>Sc_Islets</td></tr>\n",
       "</tbody>\n",
       "</table>\n"
      ],
      "text/latex": [
       "A data.frame: 3531 × 2\n",
       "\\begin{tabular}{ll}\n",
       " Sample & SuperPopulation.Code\\\\\n",
       " <chr> & <chr>\\\\\n",
       "\\hline\n",
       "\t HG02308 & AFR\\\\\n",
       "\t HG02255 & AFR\\\\\n",
       "\t HG02111 & AFR\\\\\n",
       "\t HG02480 & AFR\\\\\n",
       "\t HG01894 & AFR\\\\\n",
       "\t HG02478 & AFR\\\\\n",
       "\t HG02427 & AFR\\\\\n",
       "\t HG02479 & AFR\\\\\n",
       "\t HG02451 & AFR\\\\\n",
       "\t HG02014 & AFR\\\\\n",
       "\t HG02145 & AFR\\\\\n",
       "\t HG01896 & AFR\\\\\n",
       "\t HG02476 & AFR\\\\\n",
       "\t HG02013 & AFR\\\\\n",
       "\t HG02332 & AFR\\\\\n",
       "\t HG02012 & AFR\\\\\n",
       "\t HG02557 & AFR\\\\\n",
       "\t HG02558 & AFR\\\\\n",
       "\t HG02477 & AFR\\\\\n",
       "\t HG02555 & AFR\\\\\n",
       "\t HG02481 & AFR\\\\\n",
       "\t HG02334 & AFR\\\\\n",
       "\t HG02455 & AFR\\\\\n",
       "\t HG01895 & AFR\\\\\n",
       "\t HG01916 & AFR\\\\\n",
       "\t HG02011 & AFR\\\\\n",
       "\t HG01960 & AFR\\\\\n",
       "\t HG02144 & AFR\\\\\n",
       "\t HG02143 & AFR\\\\\n",
       "\t HG02282 & AFR\\\\\n",
       "\t ⋮ & ⋮\\\\\n",
       "\t R217 & Sc\\_Islets\\\\\n",
       "\t R218 & Sc\\_Islets\\\\\n",
       "\t R221 & Sc\\_Islets\\\\\n",
       "\t R223 & Sc\\_Islets\\\\\n",
       "\t R226 & Sc\\_Islets\\\\\n",
       "\t R228 & Sc\\_Islets\\\\\n",
       "\t R234 & Sc\\_Islets\\\\\n",
       "\t R237 & Sc\\_Islets\\\\\n",
       "\t R238 & Sc\\_Islets\\\\\n",
       "\t R246 & Sc\\_Islets\\\\\n",
       "\t R247 & Sc\\_Islets\\\\\n",
       "\t R275 & Sc\\_Islets\\\\\n",
       "\t R277 & Sc\\_Islets\\\\\n",
       "\t R284 & Sc\\_Islets\\\\\n",
       "\t R290 & Sc\\_Islets\\\\\n",
       "\t R292 & Sc\\_Islets\\\\\n",
       "\t R316 & Sc\\_Islets\\\\\n",
       "\t R317 & Sc\\_Islets\\\\\n",
       "\t R319 & Sc\\_Islets\\\\\n",
       "\t R325 & Sc\\_Islets\\\\\n",
       "\t R326 & Sc\\_Islets\\\\\n",
       "\t R327 & Sc\\_Islets\\\\\n",
       "\t R349 & Sc\\_Islets\\\\\n",
       "\t R332 & Sc\\_Islets\\\\\n",
       "\t R343 & Sc\\_Islets\\\\\n",
       "\t R362 & Sc\\_Islets\\\\\n",
       "\t R353 & Sc\\_Islets\\\\\n",
       "\t R363 & Sc\\_Islets\\\\\n",
       "\t R354 & Sc\\_Islets\\\\\n",
       "\t R364 & Sc\\_Islets\\\\\n",
       "\\end{tabular}\n"
      ],
      "text/markdown": [
       "\n",
       "A data.frame: 3531 × 2\n",
       "\n",
       "| Sample &lt;chr&gt; | SuperPopulation.Code &lt;chr&gt; |\n",
       "|---|---|\n",
       "| HG02308 | AFR |\n",
       "| HG02255 | AFR |\n",
       "| HG02111 | AFR |\n",
       "| HG02480 | AFR |\n",
       "| HG01894 | AFR |\n",
       "| HG02478 | AFR |\n",
       "| HG02427 | AFR |\n",
       "| HG02479 | AFR |\n",
       "| HG02451 | AFR |\n",
       "| HG02014 | AFR |\n",
       "| HG02145 | AFR |\n",
       "| HG01896 | AFR |\n",
       "| HG02476 | AFR |\n",
       "| HG02013 | AFR |\n",
       "| HG02332 | AFR |\n",
       "| HG02012 | AFR |\n",
       "| HG02557 | AFR |\n",
       "| HG02558 | AFR |\n",
       "| HG02477 | AFR |\n",
       "| HG02555 | AFR |\n",
       "| HG02481 | AFR |\n",
       "| HG02334 | AFR |\n",
       "| HG02455 | AFR |\n",
       "| HG01895 | AFR |\n",
       "| HG01916 | AFR |\n",
       "| HG02011 | AFR |\n",
       "| HG01960 | AFR |\n",
       "| HG02144 | AFR |\n",
       "| HG02143 | AFR |\n",
       "| HG02282 | AFR |\n",
       "| ⋮ | ⋮ |\n",
       "| R217 | Sc_Islets |\n",
       "| R218 | Sc_Islets |\n",
       "| R221 | Sc_Islets |\n",
       "| R223 | Sc_Islets |\n",
       "| R226 | Sc_Islets |\n",
       "| R228 | Sc_Islets |\n",
       "| R234 | Sc_Islets |\n",
       "| R237 | Sc_Islets |\n",
       "| R238 | Sc_Islets |\n",
       "| R246 | Sc_Islets |\n",
       "| R247 | Sc_Islets |\n",
       "| R275 | Sc_Islets |\n",
       "| R277 | Sc_Islets |\n",
       "| R284 | Sc_Islets |\n",
       "| R290 | Sc_Islets |\n",
       "| R292 | Sc_Islets |\n",
       "| R316 | Sc_Islets |\n",
       "| R317 | Sc_Islets |\n",
       "| R319 | Sc_Islets |\n",
       "| R325 | Sc_Islets |\n",
       "| R326 | Sc_Islets |\n",
       "| R327 | Sc_Islets |\n",
       "| R349 | Sc_Islets |\n",
       "| R332 | Sc_Islets |\n",
       "| R343 | Sc_Islets |\n",
       "| R362 | Sc_Islets |\n",
       "| R353 | Sc_Islets |\n",
       "| R363 | Sc_Islets |\n",
       "| R354 | Sc_Islets |\n",
       "| R364 | Sc_Islets |\n",
       "\n"
      ],
      "text/plain": [
       "     Sample  SuperPopulation.Code\n",
       "1    HG02308 AFR                 \n",
       "2    HG02255 AFR                 \n",
       "3    HG02111 AFR                 \n",
       "4    HG02480 AFR                 \n",
       "5    HG01894 AFR                 \n",
       "6    HG02478 AFR                 \n",
       "7    HG02427 AFR                 \n",
       "8    HG02479 AFR                 \n",
       "9    HG02451 AFR                 \n",
       "10   HG02014 AFR                 \n",
       "11   HG02145 AFR                 \n",
       "12   HG01896 AFR                 \n",
       "13   HG02476 AFR                 \n",
       "14   HG02013 AFR                 \n",
       "15   HG02332 AFR                 \n",
       "16   HG02012 AFR                 \n",
       "17   HG02557 AFR                 \n",
       "18   HG02558 AFR                 \n",
       "19   HG02477 AFR                 \n",
       "20   HG02555 AFR                 \n",
       "21   HG02481 AFR                 \n",
       "22   HG02334 AFR                 \n",
       "23   HG02455 AFR                 \n",
       "24   HG01895 AFR                 \n",
       "25   HG01916 AFR                 \n",
       "26   HG02011 AFR                 \n",
       "27   HG01960 AFR                 \n",
       "28   HG02144 AFR                 \n",
       "29   HG02143 AFR                 \n",
       "30   HG02282 AFR                 \n",
       "⋮    ⋮       ⋮                   \n",
       "3502 R217    Sc_Islets           \n",
       "3503 R218    Sc_Islets           \n",
       "3504 R221    Sc_Islets           \n",
       "3505 R223    Sc_Islets           \n",
       "3506 R226    Sc_Islets           \n",
       "3507 R228    Sc_Islets           \n",
       "3508 R234    Sc_Islets           \n",
       "3509 R237    Sc_Islets           \n",
       "3510 R238    Sc_Islets           \n",
       "3511 R246    Sc_Islets           \n",
       "3512 R247    Sc_Islets           \n",
       "3513 R275    Sc_Islets           \n",
       "3514 R277    Sc_Islets           \n",
       "3515 R284    Sc_Islets           \n",
       "3516 R290    Sc_Islets           \n",
       "3517 R292    Sc_Islets           \n",
       "3518 R316    Sc_Islets           \n",
       "3519 R317    Sc_Islets           \n",
       "3520 R319    Sc_Islets           \n",
       "3521 R325    Sc_Islets           \n",
       "3522 R326    Sc_Islets           \n",
       "3523 R327    Sc_Islets           \n",
       "3524 R349    Sc_Islets           \n",
       "3525 R332    Sc_Islets           \n",
       "3526 R343    Sc_Islets           \n",
       "3527 R362    Sc_Islets           \n",
       "3528 R353    Sc_Islets           \n",
       "3529 R363    Sc_Islets           \n",
       "3530 R354    Sc_Islets           \n",
       "3531 R364    Sc_Islets           "
      ]
     },
     "metadata": {},
     "output_type": "display_data"
    }
   ],
   "source": [
    "samp2"
   ]
  },
  {
   "cell_type": "code",
   "execution_count": 13,
   "id": "71e70b10",
   "metadata": {
    "vscode": {
     "languageId": "r"
    }
   },
   "outputs": [],
   "source": [
    "library(RColorBrewer)\n",
    "\n",
    "col=brewer.pal(6,\"Paired\")"
   ]
  },
  {
   "cell_type": "code",
   "execution_count": 14,
   "id": "c70911f3",
   "metadata": {
    "vscode": {
     "languageId": "r"
    }
   },
   "outputs": [],
   "source": [
    "var_new = readLines('/path/to/genotypes/pca/IM_1KG_merge_intersect.pruned.pca.eigenval')\n",
    "\n",
    "var_new_expl =paste0( \"PC\", 1:20, \" (\",round((as.numeric(var_new)/sum(as.numeric(var_new)))*100,1), \"%)\")\n",
    "\n",
    "samp2$SuperPopulation.Code = as.factor(samp2$SuperPopulation.Code)"
   ]
  },
  {
   "cell_type": "code",
   "execution_count": 16,
   "id": "8f5a33c8",
   "metadata": {
    "vscode": {
     "languageId": "r"
    }
   },
   "outputs": [],
   "source": [
    "#codes = stringr::str_split_fixed( samp2[samp2$SuperPopulation.Code==\"Sc_Islets\",'Sample'], \"_R\",2)[,2]\n",
    "codes = samp2[samp2$SuperPopulation.Code==\"Sc_Islets\",'Sample']"
   ]
  },
  {
   "cell_type": "code",
   "execution_count": 17,
   "id": "e29d2389",
   "metadata": {
    "vscode": {
     "languageId": "r"
    }
   },
   "outputs": [],
   "source": [
    "pcas_new$labs =codes[ match( pcas_new$FID  , samp2[samp2$SuperPopulation.Code==\"Sc_Islets\",'Sample']  )  ]\n",
    "pcas_full$labs =codes[ match( pcas_full$FID  , samp2[samp2$SuperPopulation.Code==\"Sc_Islets\",'Sample']  )  ]"
   ]
  },
  {
   "cell_type": "code",
   "execution_count": 25,
   "id": "dfa3c2a6",
   "metadata": {
    "scrolled": true,
    "vscode": {
     "languageId": "r"
    }
   },
   "outputs": [
    {
     "data": {
      "text/html": [
       "<style>\n",
       ".list-inline {list-style: none; margin:0; padding: 0}\n",
       ".list-inline>li {display: inline-block}\n",
       ".list-inline>li:not(:last-child)::after {content: \"\\00b7\"; padding: 0 .5ex}\n",
       "</style>\n",
       "<ol class=list-inline><li>2576</li><li>23</li></ol>\n"
      ],
      "text/latex": [
       "\\begin{enumerate*}\n",
       "\\item 2576\n",
       "\\item 23\n",
       "\\end{enumerate*}\n"
      ],
      "text/markdown": [
       "1. 2576\n",
       "2. 23\n",
       "\n",
       "\n"
      ],
      "text/plain": [
       "[1] 2576   23"
      ]
     },
     "metadata": {},
     "output_type": "display_data"
    },
    {
     "data": {
      "text/html": [
       "<style>\n",
       ".list-inline {list-style: none; margin:0; padding: 0}\n",
       ".list-inline>li {display: inline-block}\n",
       ".list-inline>li:not(:last-child)::after {content: \"\\00b7\"; padding: 0 .5ex}\n",
       "</style>\n",
       "<ol class=list-inline><li>3531</li><li>2</li></ol>\n"
      ],
      "text/latex": [
       "\\begin{enumerate*}\n",
       "\\item 3531\n",
       "\\item 2\n",
       "\\end{enumerate*}\n"
      ],
      "text/markdown": [
       "1. 3531\n",
       "2. 2\n",
       "\n",
       "\n"
      ],
      "text/plain": [
       "[1] 3531    2"
      ]
     },
     "metadata": {},
     "output_type": "display_data"
    },
    {
     "data": {
      "text/html": [
       "<style>\n",
       ".list-inline {list-style: none; margin:0; padding: 0}\n",
       ".list-inline>li {display: inline-block}\n",
       ".list-inline>li:not(:last-child)::after {content: \"\\00b7\"; padding: 0 .5ex}\n",
       "</style>\n",
       "<ol class=list-inline><li>2576</li><li>24</li></ol>\n"
      ],
      "text/latex": [
       "\\begin{enumerate*}\n",
       "\\item 2576\n",
       "\\item 24\n",
       "\\end{enumerate*}\n"
      ],
      "text/markdown": [
       "1. 2576\n",
       "2. 24\n",
       "\n",
       "\n"
      ],
      "text/plain": [
       "[1] 2576   24"
      ]
     },
     "metadata": {},
     "output_type": "display_data"
    }
   ],
   "source": [
    "dim(pcas_new)\n",
    "dim(samp2)\n",
    "dim(dplyr::left_join(pcas_new, samp2, dplyr::join_by(FID==Sample)))"
   ]
  },
  {
   "cell_type": "code",
   "execution_count": 28,
   "id": "255f9ec6",
   "metadata": {
    "vscode": {
     "languageId": "r"
    }
   },
   "outputs": [],
   "source": [
    "write.table(dplyr::left_join(pcas_new, samp2, dplyr::join_by(FID==Sample)),\n",
    "            '/path/to/genotypes/pca/Supplemental_gPCA_data.tsv',\n",
    "           sep='\\t', row.names=T, col.names=T, quote=F)"
   ]
  },
  {
   "cell_type": "code",
   "execution_count": 27,
   "id": "3a897d2d",
   "metadata": {
    "vscode": {
     "languageId": "r"
    }
   },
   "outputs": [
    {
     "data": {
      "text/html": [
       "<table class=\"dataframe\">\n",
       "<caption>A data.frame: 6 × 24</caption>\n",
       "<thead>\n",
       "\t<tr><th></th><th scope=col>FID</th><th scope=col>IID</th><th scope=col>PC1</th><th scope=col>PC2</th><th scope=col>PC3</th><th scope=col>PC4</th><th scope=col>PC5</th><th scope=col>PC6</th><th scope=col>PC7</th><th scope=col>PC8</th><th scope=col>⋯</th><th scope=col>PC13</th><th scope=col>PC14</th><th scope=col>PC15</th><th scope=col>PC16</th><th scope=col>PC17</th><th scope=col>PC18</th><th scope=col>PC19</th><th scope=col>PC20</th><th scope=col>labs</th><th scope=col>SuperPopulation.Code</th></tr>\n",
       "\t<tr><th></th><th scope=col>&lt;chr&gt;</th><th scope=col>&lt;chr&gt;</th><th scope=col>&lt;dbl&gt;</th><th scope=col>&lt;dbl&gt;</th><th scope=col>&lt;dbl&gt;</th><th scope=col>&lt;dbl&gt;</th><th scope=col>&lt;dbl&gt;</th><th scope=col>&lt;dbl&gt;</th><th scope=col>&lt;dbl&gt;</th><th scope=col>&lt;dbl&gt;</th><th scope=col>⋯</th><th scope=col>&lt;dbl&gt;</th><th scope=col>&lt;dbl&gt;</th><th scope=col>&lt;dbl&gt;</th><th scope=col>&lt;dbl&gt;</th><th scope=col>&lt;dbl&gt;</th><th scope=col>&lt;dbl&gt;</th><th scope=col>&lt;dbl&gt;</th><th scope=col>&lt;dbl&gt;</th><th scope=col>&lt;chr&gt;</th><th scope=col>&lt;fct&gt;</th></tr>\n",
       "</thead>\n",
       "<tbody>\n",
       "\t<tr><th scope=row>2571</th><td>R332</td><td>R332</td><td>-0.0136106</td><td>-0.0278890</td><td> 1.04225e-03</td><td>-0.01822090</td><td>-0.00523781</td><td>-0.00202937</td><td>0.002349180</td><td> 0.00111562</td><td>⋯</td><td>-0.00426005</td><td> 0.015784000</td><td>-0.02061420</td><td> 0.01123670</td><td> 0.005995560</td><td>3.46402e-03</td><td> 0.011440900</td><td>-0.01007090</td><td>R332</td><td>Sc_Islets</td></tr>\n",
       "\t<tr><th scope=row>2572</th><td>R353</td><td>R353</td><td>-0.0132022</td><td>-0.0273276</td><td> 1.13320e-03</td><td>-0.01950410</td><td> 0.00497368</td><td>-0.00342464</td><td>0.002555440</td><td> 0.00337867</td><td>⋯</td><td>-0.00540574</td><td>-0.006825820</td><td> 0.00144542</td><td>-0.00832076</td><td> 0.001355130</td><td>1.53784e-05</td><td> 0.006970960</td><td>-0.00424482</td><td>R353</td><td>Sc_Islets</td></tr>\n",
       "\t<tr><th scope=row>2573</th><td>R354</td><td>R354</td><td>-0.0130048</td><td>-0.0265375</td><td> 5.25248e-05</td><td>-0.01845040</td><td> 0.00787847</td><td>-0.00280444</td><td>0.003376580</td><td> 0.00138336</td><td>⋯</td><td>-0.00250141</td><td> 0.005367480</td><td>-0.00486204</td><td> 0.00747624</td><td> 0.000644818</td><td>3.22837e-03</td><td> 0.001815050</td><td>-0.00321026</td><td>R354</td><td>Sc_Islets</td></tr>\n",
       "\t<tr><th scope=row>2574</th><td>R362</td><td>R362</td><td>-0.0134155</td><td>-0.0258685</td><td> 2.06244e-03</td><td>-0.01580840</td><td>-0.00546905</td><td>-0.00183816</td><td>0.000839656</td><td>-0.00349612</td><td>⋯</td><td>-0.00264782</td><td>-0.011116400</td><td>-0.00238523</td><td>-0.00119932</td><td> 0.001293460</td><td>1.00298e-03</td><td>-0.000130103</td><td> 0.00206249</td><td>R362</td><td>Sc_Islets</td></tr>\n",
       "\t<tr><th scope=row>2575</th><td>R363</td><td>R363</td><td>-0.0133594</td><td>-0.0160743</td><td>-1.99580e-02</td><td>-0.00299629</td><td> 0.00301936</td><td>-0.00240966</td><td>0.002998150</td><td>-0.00102667</td><td>⋯</td><td>-0.00453003</td><td> 0.000228193</td><td> 0.00134256</td><td> 0.00687677</td><td>-0.002310780</td><td>7.29481e-04</td><td> 0.007526000</td><td> 0.00300729</td><td>R363</td><td>Sc_Islets</td></tr>\n",
       "\t<tr><th scope=row>2576</th><td>R364</td><td>R364</td><td>-0.0134294</td><td>-0.0258266</td><td> 1.15606e-03</td><td>-0.01733340</td><td>-0.00692833</td><td>-0.00156091</td><td>0.002243070</td><td> 0.00341733</td><td>⋯</td><td>-0.00630641</td><td>-0.001835500</td><td> 0.00269152</td><td> 0.00256867</td><td>-0.001557290</td><td>2.62537e-03</td><td> 0.001048810</td><td>-0.00216814</td><td>R364</td><td>Sc_Islets</td></tr>\n",
       "</tbody>\n",
       "</table>\n"
      ],
      "text/latex": [
       "A data.frame: 6 × 24\n",
       "\\begin{tabular}{r|lllllllllllllllllllll}\n",
       "  & FID & IID & PC1 & PC2 & PC3 & PC4 & PC5 & PC6 & PC7 & PC8 & ⋯ & PC13 & PC14 & PC15 & PC16 & PC17 & PC18 & PC19 & PC20 & labs & SuperPopulation.Code\\\\\n",
       "  & <chr> & <chr> & <dbl> & <dbl> & <dbl> & <dbl> & <dbl> & <dbl> & <dbl> & <dbl> & ⋯ & <dbl> & <dbl> & <dbl> & <dbl> & <dbl> & <dbl> & <dbl> & <dbl> & <chr> & <fct>\\\\\n",
       "\\hline\n",
       "\t2571 & R332 & R332 & -0.0136106 & -0.0278890 &  1.04225e-03 & -0.01822090 & -0.00523781 & -0.00202937 & 0.002349180 &  0.00111562 & ⋯ & -0.00426005 &  0.015784000 & -0.02061420 &  0.01123670 &  0.005995560 & 3.46402e-03 &  0.011440900 & -0.01007090 & R332 & Sc\\_Islets\\\\\n",
       "\t2572 & R353 & R353 & -0.0132022 & -0.0273276 &  1.13320e-03 & -0.01950410 &  0.00497368 & -0.00342464 & 0.002555440 &  0.00337867 & ⋯ & -0.00540574 & -0.006825820 &  0.00144542 & -0.00832076 &  0.001355130 & 1.53784e-05 &  0.006970960 & -0.00424482 & R353 & Sc\\_Islets\\\\\n",
       "\t2573 & R354 & R354 & -0.0130048 & -0.0265375 &  5.25248e-05 & -0.01845040 &  0.00787847 & -0.00280444 & 0.003376580 &  0.00138336 & ⋯ & -0.00250141 &  0.005367480 & -0.00486204 &  0.00747624 &  0.000644818 & 3.22837e-03 &  0.001815050 & -0.00321026 & R354 & Sc\\_Islets\\\\\n",
       "\t2574 & R362 & R362 & -0.0134155 & -0.0258685 &  2.06244e-03 & -0.01580840 & -0.00546905 & -0.00183816 & 0.000839656 & -0.00349612 & ⋯ & -0.00264782 & -0.011116400 & -0.00238523 & -0.00119932 &  0.001293460 & 1.00298e-03 & -0.000130103 &  0.00206249 & R362 & Sc\\_Islets\\\\\n",
       "\t2575 & R363 & R363 & -0.0133594 & -0.0160743 & -1.99580e-02 & -0.00299629 &  0.00301936 & -0.00240966 & 0.002998150 & -0.00102667 & ⋯ & -0.00453003 &  0.000228193 &  0.00134256 &  0.00687677 & -0.002310780 & 7.29481e-04 &  0.007526000 &  0.00300729 & R363 & Sc\\_Islets\\\\\n",
       "\t2576 & R364 & R364 & -0.0134294 & -0.0258266 &  1.15606e-03 & -0.01733340 & -0.00692833 & -0.00156091 & 0.002243070 &  0.00341733 & ⋯ & -0.00630641 & -0.001835500 &  0.00269152 &  0.00256867 & -0.001557290 & 2.62537e-03 &  0.001048810 & -0.00216814 & R364 & Sc\\_Islets\\\\\n",
       "\\end{tabular}\n"
      ],
      "text/markdown": [
       "\n",
       "A data.frame: 6 × 24\n",
       "\n",
       "| <!--/--> | FID &lt;chr&gt; | IID &lt;chr&gt; | PC1 &lt;dbl&gt; | PC2 &lt;dbl&gt; | PC3 &lt;dbl&gt; | PC4 &lt;dbl&gt; | PC5 &lt;dbl&gt; | PC6 &lt;dbl&gt; | PC7 &lt;dbl&gt; | PC8 &lt;dbl&gt; | ⋯ ⋯ | PC13 &lt;dbl&gt; | PC14 &lt;dbl&gt; | PC15 &lt;dbl&gt; | PC16 &lt;dbl&gt; | PC17 &lt;dbl&gt; | PC18 &lt;dbl&gt; | PC19 &lt;dbl&gt; | PC20 &lt;dbl&gt; | labs &lt;chr&gt; | SuperPopulation.Code &lt;fct&gt; |\n",
       "|---|---|---|---|---|---|---|---|---|---|---|---|---|---|---|---|---|---|---|---|---|---|\n",
       "| 2571 | R332 | R332 | -0.0136106 | -0.0278890 |  1.04225e-03 | -0.01822090 | -0.00523781 | -0.00202937 | 0.002349180 |  0.00111562 | ⋯ | -0.00426005 |  0.015784000 | -0.02061420 |  0.01123670 |  0.005995560 | 3.46402e-03 |  0.011440900 | -0.01007090 | R332 | Sc_Islets |\n",
       "| 2572 | R353 | R353 | -0.0132022 | -0.0273276 |  1.13320e-03 | -0.01950410 |  0.00497368 | -0.00342464 | 0.002555440 |  0.00337867 | ⋯ | -0.00540574 | -0.006825820 |  0.00144542 | -0.00832076 |  0.001355130 | 1.53784e-05 |  0.006970960 | -0.00424482 | R353 | Sc_Islets |\n",
       "| 2573 | R354 | R354 | -0.0130048 | -0.0265375 |  5.25248e-05 | -0.01845040 |  0.00787847 | -0.00280444 | 0.003376580 |  0.00138336 | ⋯ | -0.00250141 |  0.005367480 | -0.00486204 |  0.00747624 |  0.000644818 | 3.22837e-03 |  0.001815050 | -0.00321026 | R354 | Sc_Islets |\n",
       "| 2574 | R362 | R362 | -0.0134155 | -0.0258685 |  2.06244e-03 | -0.01580840 | -0.00546905 | -0.00183816 | 0.000839656 | -0.00349612 | ⋯ | -0.00264782 | -0.011116400 | -0.00238523 | -0.00119932 |  0.001293460 | 1.00298e-03 | -0.000130103 |  0.00206249 | R362 | Sc_Islets |\n",
       "| 2575 | R363 | R363 | -0.0133594 | -0.0160743 | -1.99580e-02 | -0.00299629 |  0.00301936 | -0.00240966 | 0.002998150 | -0.00102667 | ⋯ | -0.00453003 |  0.000228193 |  0.00134256 |  0.00687677 | -0.002310780 | 7.29481e-04 |  0.007526000 |  0.00300729 | R363 | Sc_Islets |\n",
       "| 2576 | R364 | R364 | -0.0134294 | -0.0258266 |  1.15606e-03 | -0.01733340 | -0.00692833 | -0.00156091 | 0.002243070 |  0.00341733 | ⋯ | -0.00630641 | -0.001835500 |  0.00269152 |  0.00256867 | -0.001557290 | 2.62537e-03 |  0.001048810 | -0.00216814 | R364 | Sc_Islets |\n",
       "\n"
      ],
      "text/plain": [
       "     FID  IID  PC1        PC2        PC3          PC4         PC5        \n",
       "2571 R332 R332 -0.0136106 -0.0278890  1.04225e-03 -0.01822090 -0.00523781\n",
       "2572 R353 R353 -0.0132022 -0.0273276  1.13320e-03 -0.01950410  0.00497368\n",
       "2573 R354 R354 -0.0130048 -0.0265375  5.25248e-05 -0.01845040  0.00787847\n",
       "2574 R362 R362 -0.0134155 -0.0258685  2.06244e-03 -0.01580840 -0.00546905\n",
       "2575 R363 R363 -0.0133594 -0.0160743 -1.99580e-02 -0.00299629  0.00301936\n",
       "2576 R364 R364 -0.0134294 -0.0258266  1.15606e-03 -0.01733340 -0.00692833\n",
       "     PC6         PC7         PC8         ⋯ PC13        PC14         PC15       \n",
       "2571 -0.00202937 0.002349180  0.00111562 ⋯ -0.00426005  0.015784000 -0.02061420\n",
       "2572 -0.00342464 0.002555440  0.00337867 ⋯ -0.00540574 -0.006825820  0.00144542\n",
       "2573 -0.00280444 0.003376580  0.00138336 ⋯ -0.00250141  0.005367480 -0.00486204\n",
       "2574 -0.00183816 0.000839656 -0.00349612 ⋯ -0.00264782 -0.011116400 -0.00238523\n",
       "2575 -0.00240966 0.002998150 -0.00102667 ⋯ -0.00453003  0.000228193  0.00134256\n",
       "2576 -0.00156091 0.002243070  0.00341733 ⋯ -0.00630641 -0.001835500  0.00269152\n",
       "     PC16        PC17         PC18        PC19         PC20        labs\n",
       "2571  0.01123670  0.005995560 3.46402e-03  0.011440900 -0.01007090 R332\n",
       "2572 -0.00832076  0.001355130 1.53784e-05  0.006970960 -0.00424482 R353\n",
       "2573  0.00747624  0.000644818 3.22837e-03  0.001815050 -0.00321026 R354\n",
       "2574 -0.00119932  0.001293460 1.00298e-03 -0.000130103  0.00206249 R362\n",
       "2575  0.00687677 -0.002310780 7.29481e-04  0.007526000  0.00300729 R363\n",
       "2576  0.00256867 -0.001557290 2.62537e-03  0.001048810 -0.00216814 R364\n",
       "     SuperPopulation.Code\n",
       "2571 Sc_Islets           \n",
       "2572 Sc_Islets           \n",
       "2573 Sc_Islets           \n",
       "2574 Sc_Islets           \n",
       "2575 Sc_Islets           \n",
       "2576 Sc_Islets           "
      ]
     },
     "metadata": {},
     "output_type": "display_data"
    }
   ],
   "source": [
    "tail()"
   ]
  },
  {
   "cell_type": "code",
   "execution_count": 18,
   "id": "10bfde92",
   "metadata": {
    "vscode": {
     "languageId": "r"
    }
   },
   "outputs": [
    {
     "data": {
      "image/png": "[encoded data removed]",
      "text/plain": [
       "plot without title"
      ]
     },
     "metadata": {
      "image/png": {
       "height": 300,
       "width": 600
      }
     },
     "output_type": "display_data"
    }
   ],
   "source": [
    "#Plot PCA and label our samples\n",
    "\n",
    "options(repr.plot.width=10, repr.plot.height=5)\n",
    "par(mfrow=c(1,2), mar=c(4,4,1,1))\n",
    "plot(PC2~PC1, pcas_new, pch=19, col =  col[as.numeric(samp2$SuperPopulation.Code[match(pcas_new$IID, samp2$Sample)])], xlab=var_new_expl[1], ylab=var_new_expl[2])\n",
    "legend(\"topright\", legend = levels(samp2$SuperPopulation.Code), pch = 21, pt.bg = col, pt.cex=1.5, y.intersp = 1.6 )\n",
    "text(pcas_new$PC1, pcas_new$PC2, labels = pcas_new$labs, pos = 4)\n",
    "\n",
    "plot(PC4~PC3, pcas_new, pch=19, col =  col[as.numeric(samp2$SuperPopulation.Code[match(pcas_new$IID, samp2$Sample)])], xlab=var_new_expl[3], ylab=var_new_expl[4])\n",
    "legend(\"topleft\", legend = levels(samp2$SuperPopulation.Code), pch = 21, pt.bg = col , pt.cex=1.5, y.intersp = 1.6)\n",
    "text(pcas_new$PC3, pcas_new$PC4, labels = pcas_new$labs, pos=4)\n"
   ]
  },
  {
   "cell_type": "code",
   "execution_count": null,
   "id": "976d09e1",
   "metadata": {
    "vscode": {
     "languageId": "r"
    }
   },
   "outputs": [],
   "source": []
  },
  {
   "cell_type": "code",
   "execution_count": null,
   "id": "2f02a7d2",
   "metadata": {
    "vscode": {
     "languageId": "r"
    }
   },
   "outputs": [],
   "source": []
  },
  {
   "cell_type": "code",
   "execution_count": 71,
   "id": "6d4fe5c5",
   "metadata": {
    "vscode": {
     "languageId": "r"
    }
   },
   "outputs": [
    {
     "data": {
      "text/html": [
       "<strong>png:</strong> 2"
      ],
      "text/latex": [
       "\\textbf{png:} 2"
      ],
      "text/markdown": [
       "**png:** 2"
      ],
      "text/plain": [
       "png \n",
       "  2 "
      ]
     },
     "metadata": {},
     "output_type": "display_data"
    }
   ],
   "source": [
    "pdf(\"/path/to/genotypes/pca/PCA_plot_new.pdf\")\n",
    "par(mfrow=c(2,2), mar=c(4,4,2,2))\n",
    "plot(PC2~PC1, pcas_new, pch=16, cex=0.8,\n",
    "     col =  col[as.numeric(samp2$SuperPopulation.Code[match(pcas_new$IID, samp2$Sample)])], xlab=var_new_expl[1], ylab=var_new_expl[2])\n",
    "legend(\"topright\", legend = levels(samp2$SuperPopulation.Code), pch = 21, pt.bg = col, pt.cex=1.2, y.intersp = 1 )\n",
    "text(pcas_new$PC1, pcas_new$PC2, labels = pcas_new$labs, pos = 4, cex=0.8)\n",
    "\n",
    "plot(PC4~PC3, pcas_new, pch=16, cex=0.8,\n",
    "     col =  col[as.numeric(samp2$SuperPopulation.Code[match(pcas_new$IID, samp2$Sample)])], xlab=var_new_expl[3], ylab=var_new_expl[4])\n",
    "legend(\"topleft\", legend = levels(samp2$SuperPopulation.Code), pch = 21, pt.bg = col , pt.cex=1.2, y.intersp = 1)\n",
    "text(pcas_new$PC3, pcas_new$PC4, labels = pcas_new$labs, pos=4, cex=0.8)\n",
    "dev.off()"
   ]
  },
  {
   "cell_type": "code",
   "execution_count": 1,
   "id": "f17c7ef9",
   "metadata": {
    "scrolled": true,
    "vscode": {
     "languageId": "r"
    }
   },
   "outputs": [
    {
     "data": {
      "text/html": [
       "<table class=\"dataframe\">\n",
       "<caption>A data.frame: 28 × 22</caption>\n",
       "<thead>\n",
       "\t<tr><th scope=col>FID</th><th scope=col>IID</th><th scope=col>PC1</th><th scope=col>PC2</th><th scope=col>PC3</th><th scope=col>PC4</th><th scope=col>PC5</th><th scope=col>PC6</th><th scope=col>PC7</th><th scope=col>PC8</th><th scope=col>⋯</th><th scope=col>PC11</th><th scope=col>PC12</th><th scope=col>PC13</th><th scope=col>PC14</th><th scope=col>PC15</th><th scope=col>PC16</th><th scope=col>PC17</th><th scope=col>PC18</th><th scope=col>PC19</th><th scope=col>PC20</th></tr>\n",
       "\t<tr><th scope=col>&lt;chr&gt;</th><th scope=col>&lt;chr&gt;</th><th scope=col>&lt;dbl&gt;</th><th scope=col>&lt;dbl&gt;</th><th scope=col>&lt;dbl&gt;</th><th scope=col>&lt;dbl&gt;</th><th scope=col>&lt;dbl&gt;</th><th scope=col>&lt;dbl&gt;</th><th scope=col>&lt;dbl&gt;</th><th scope=col>&lt;dbl&gt;</th><th scope=col>⋯</th><th scope=col>&lt;dbl&gt;</th><th scope=col>&lt;dbl&gt;</th><th scope=col>&lt;dbl&gt;</th><th scope=col>&lt;dbl&gt;</th><th scope=col>&lt;dbl&gt;</th><th scope=col>&lt;dbl&gt;</th><th scope=col>&lt;dbl&gt;</th><th scope=col>&lt;dbl&gt;</th><th scope=col>&lt;dbl&gt;</th><th scope=col>&lt;dbl&gt;</th></tr>\n",
       "</thead>\n",
       "<tbody>\n",
       "\t<tr><td>R207</td><td>R207</td><td>-0.0357571</td><td>-0.0433500</td><td>-0.009530110</td><td> 0.00946539</td><td> 0.00248291</td><td>-0.00235139</td><td> 0.02224520</td><td> 0.1034740</td><td>⋯</td><td> 0.057826100</td><td> 0.066491100</td><td>-0.049838100</td><td> 0.137174000</td><td> 0.02680910</td><td> 0.01248500</td><td> 0.023710400</td><td>-0.034772500</td><td> 0.041688400</td><td> 0.294989000</td></tr>\n",
       "\t<tr><td>R217</td><td>R217</td><td>-0.0382804</td><td>-0.0643090</td><td>-0.007989110</td><td> 0.03306490</td><td>-0.00510151</td><td> 0.01702640</td><td>-0.00219146</td><td> 0.1171330</td><td>⋯</td><td> 0.087142400</td><td> 0.082794100</td><td> 0.061770600</td><td>-0.202493000</td><td> 0.09943920</td><td> 0.20880200</td><td> 0.059114300</td><td>-0.300833000</td><td>-0.596248000</td><td>-0.084477000</td></tr>\n",
       "\t<tr><td>R218</td><td>R218</td><td>-0.0385329</td><td>-0.0571864</td><td>-0.021397400</td><td> 0.01169350</td><td>-0.00826495</td><td>-0.00248485</td><td>-0.00280641</td><td> 0.1270570</td><td>⋯</td><td> 0.137751000</td><td>-0.118765000</td><td>-0.192245000</td><td>-0.100145000</td><td>-0.02804390</td><td>-0.17335200</td><td> 0.080484900</td><td> 0.229214000</td><td> 0.300599000</td><td> 0.180941000</td></tr>\n",
       "\t<tr><td>R221</td><td>R221</td><td>-0.0291582</td><td> 0.7818010</td><td> 0.044663100</td><td>-0.09428920</td><td> 0.18034400</td><td>-0.21915200</td><td> 0.02774150</td><td>-0.1514330</td><td>⋯</td><td>-0.107646000</td><td> 0.040530200</td><td>-0.044203200</td><td>-0.058761800</td><td>-0.16907800</td><td>-0.07025310</td><td>-0.069311900</td><td>-0.054751400</td><td>-0.024171800</td><td>-0.003081640</td></tr>\n",
       "\t<tr><td>R223</td><td>R223</td><td>-0.0353169</td><td>-0.0659599</td><td>-0.004586180</td><td> 0.03307650</td><td>-0.00368873</td><td> 0.00243154</td><td> 0.00687905</td><td> 0.1227680</td><td>⋯</td><td>-0.138477000</td><td>-0.032412100</td><td>-0.160506000</td><td> 0.154538000</td><td>-0.00357877</td><td>-0.21164300</td><td> 0.129297000</td><td> 0.329710000</td><td>-0.481842000</td><td>-0.435669000</td></tr>\n",
       "\t<tr><td>R226</td><td>R226</td><td>-0.0360131</td><td>-0.0595114</td><td>-0.019595700</td><td> 0.01062260</td><td>-0.00253171</td><td>-0.00895363</td><td> 0.02225040</td><td> 0.1176190</td><td>⋯</td><td> 0.090967700</td><td> 0.129752000</td><td> 0.309214000</td><td>-0.591722000</td><td> 0.15752700</td><td> 0.05978180</td><td> 0.089435500</td><td>-0.205171000</td><td> 0.264725000</td><td>-0.123652000</td></tr>\n",
       "\t<tr><td>R228</td><td>R228</td><td>-0.0367356</td><td>-0.0643387</td><td>-0.000307157</td><td> 0.00558472</td><td>-0.01139990</td><td> 0.00982287</td><td> 0.00794813</td><td> 0.1076840</td><td>⋯</td><td> 0.063746000</td><td> 0.022222100</td><td>-0.042921000</td><td> 0.084781500</td><td>-0.00859556</td><td>-0.49671200</td><td> 0.255043000</td><td>-0.173729000</td><td> 0.175867000</td><td>-0.362923000</td></tr>\n",
       "\t<tr><td>R234</td><td>R234</td><td>-0.0387477</td><td>-0.0640045</td><td>-0.009108130</td><td> 0.02384790</td><td> 0.00123802</td><td> 0.01400490</td><td> 0.01164970</td><td> 0.1247200</td><td>⋯</td><td>-0.041251800</td><td>-0.498693000</td><td>-0.196756000</td><td>-0.033091000</td><td> 0.19317500</td><td> 0.14282600</td><td>-0.665277000</td><td> 0.000204796</td><td> 0.152919000</td><td>-0.271769000</td></tr>\n",
       "\t<tr><td>R237</td><td>R237</td><td>-0.0259373</td><td> 0.0641799</td><td>-0.004505880</td><td> 0.01010730</td><td> 0.02416530</td><td>-0.01471670</td><td> 0.02609240</td><td> 0.0945301</td><td>⋯</td><td> 0.073577300</td><td>-0.018189800</td><td>-0.052659400</td><td>-0.067760500</td><td>-0.09667190</td><td>-0.00621796</td><td>-0.052778600</td><td>-0.048755000</td><td>-0.023594100</td><td>-0.036206200</td></tr>\n",
       "\t<tr><td>R238</td><td>R238</td><td>-0.0387793</td><td>-0.0596684</td><td>-0.016703700</td><td> 0.00643733</td><td>-0.00293290</td><td>-0.00528552</td><td> 0.02398970</td><td> 0.1428300</td><td>⋯</td><td> 0.335898000</td><td> 0.670370000</td><td>-0.286375000</td><td> 0.259121000</td><td> 0.04441520</td><td> 0.20542600</td><td>-0.214163000</td><td> 0.141749000</td><td> 0.140563000</td><td>-0.065502200</td></tr>\n",
       "\t<tr><td>R246</td><td>R246</td><td>-0.0100412</td><td> 0.3039290</td><td> 0.019100400</td><td>-0.01376100</td><td> 0.05410580</td><td>-0.06706660</td><td> 0.03310590</td><td> 0.0294179</td><td>⋯</td><td> 0.078438700</td><td> 0.059805900</td><td>-0.051299200</td><td>-0.049551100</td><td>-0.05793680</td><td>-0.03244680</td><td>-0.036683800</td><td>-0.021451600</td><td> 0.018471900</td><td>-0.044528000</td></tr>\n",
       "\t<tr><td>R247</td><td>R247</td><td>-0.0340679</td><td> 0.2318830</td><td> 0.010998600</td><td>-0.00469042</td><td> 0.03480970</td><td>-0.07046160</td><td> 0.02798740</td><td> 0.0250768</td><td>⋯</td><td> 0.159987000</td><td>-0.215221000</td><td> 0.230489000</td><td> 0.271018000</td><td> 0.66349800</td><td> 0.25813500</td><td> 0.312294000</td><td> 0.237482000</td><td> 0.018720000</td><td> 0.052555400</td></tr>\n",
       "\t<tr><td>R275</td><td>R275</td><td>-0.0380496</td><td>-0.0610298</td><td>-0.001849750</td><td> 0.01931300</td><td>-0.00387155</td><td> 0.00235325</td><td> 0.02276520</td><td> 0.1118490</td><td>⋯</td><td>-0.047926900</td><td>-0.202088000</td><td>-0.366452000</td><td> 0.019866800</td><td> 0.06347200</td><td>-0.24295200</td><td> 0.067584000</td><td>-0.174540000</td><td>-0.167396000</td><td> 0.583847000</td></tr>\n",
       "\t<tr><td>R284</td><td>R284</td><td>-0.0364090</td><td>-0.0585468</td><td> 0.002714070</td><td> 0.01368140</td><td> 0.00351887</td><td> 0.00369951</td><td> 0.02450650</td><td> 0.1149800</td><td>⋯</td><td> 0.213233000</td><td>-0.045051700</td><td> 0.649058000</td><td> 0.348152000</td><td>-0.14399600</td><td>-0.33941000</td><td>-0.330011000</td><td>-0.112536000</td><td>-0.082103100</td><td> 0.113912000</td></tr>\n",
       "\t<tr><td>R290</td><td>R290</td><td>-0.0366451</td><td>-0.0563732</td><td>-0.014401000</td><td> 0.01909690</td><td>-0.01593560</td><td>-0.00253746</td><td> 0.00693577</td><td> 0.1129840</td><td>⋯</td><td>-0.103624000</td><td> 0.003831560</td><td>-0.131360000</td><td> 0.115127000</td><td> 0.16329100</td><td>-0.07525100</td><td> 0.224803000</td><td>-0.409976000</td><td> 0.198942000</td><td>-0.085920500</td></tr>\n",
       "\t<tr><td>R292</td><td>R292</td><td> 0.9811410</td><td>-0.0230396</td><td> 0.001433630</td><td>-0.00367822</td><td>-0.00250584</td><td> 0.00431008</td><td>-0.00652485</td><td>-0.0180123</td><td>⋯</td><td> 0.000529719</td><td>-0.001827640</td><td>-0.000411311</td><td> 0.000524163</td><td> 0.00459206</td><td> 0.00150539</td><td> 0.000466895</td><td> 0.001643200</td><td>-0.000961795</td><td> 0.002663740</td></tr>\n",
       "\t<tr><td>R316</td><td>R316</td><td>-0.0317664</td><td>-0.0504956</td><td>-0.011392200</td><td> 0.01313660</td><td>-0.01245940</td><td>-0.00414725</td><td> 0.00307927</td><td> 0.1314040</td><td>⋯</td><td>-0.787291000</td><td> 0.259317000</td><td> 0.214564000</td><td> 0.152464000</td><td> 0.06057550</td><td> 0.05170080</td><td>-0.073988300</td><td> 0.104028000</td><td> 0.141669000</td><td> 0.099586800</td></tr>\n",
       "\t<tr><td>R317</td><td>R317</td><td>-0.0396920</td><td>-0.0664290</td><td>-0.006927920</td><td> 0.01305640</td><td>-0.01141550</td><td>-0.00213266</td><td> 0.02576430</td><td> 0.1281340</td><td>⋯</td><td>-0.285099000</td><td> 0.043136000</td><td>-0.058872000</td><td>-0.211560000</td><td> 0.02258060</td><td> 0.05889910</td><td>-0.013850100</td><td> 0.042341800</td><td>-0.029860000</td><td>-0.014593700</td></tr>\n",
       "\t<tr><td>R319</td><td>R319</td><td>-0.0375071</td><td>-0.0644230</td><td>-0.001094000</td><td> 0.03233030</td><td>-0.00296017</td><td> 0.00741454</td><td> 0.01509920</td><td> 0.1164970</td><td>⋯</td><td> 0.094799700</td><td>-0.082528200</td><td> 0.148620000</td><td>-0.310432000</td><td>-0.22187100</td><td>-0.08266100</td><td> 0.136632000</td><td> 0.592480000</td><td> 0.029493200</td><td> 0.084435800</td></tr>\n",
       "\t<tr><td>R325</td><td>R325</td><td>-0.0192967</td><td> 0.1030910</td><td> 0.008634220</td><td> 0.01769920</td><td> 0.03040130</td><td>-0.02161370</td><td> 0.03493480</td><td> 0.0845179</td><td>⋯</td><td> 0.063720900</td><td> 0.001034930</td><td>-0.058288600</td><td>-0.046197600</td><td>-0.12003600</td><td>-0.00120100</td><td>-0.062283200</td><td>-0.035156900</td><td> 0.015585300</td><td>-0.043931300</td></tr>\n",
       "\t<tr><td>R326</td><td>R326</td><td>-0.0356856</td><td>-0.0656213</td><td>-0.015090100</td><td> 0.01863350</td><td> 0.01755610</td><td> 0.01440780</td><td> 0.01980930</td><td> 0.1416920</td><td>⋯</td><td> 0.007591380</td><td>-0.281107000</td><td> 0.040117100</td><td> 0.268550000</td><td>-0.56582700</td><td> 0.52895000</td><td> 0.303737000</td><td>-0.127037000</td><td> 0.129893000</td><td>-0.083415700</td></tr>\n",
       "\t<tr><td>R327</td><td>R327</td><td>-0.0380443</td><td>-0.0604138</td><td>-0.002377960</td><td>-0.00195250</td><td> 0.00342868</td><td> 0.00471824</td><td> 0.01260290</td><td> 0.1212080</td><td>⋯</td><td> 0.047423700</td><td> 0.087857000</td><td> 0.052766600</td><td>-0.152359000</td><td>-0.04657260</td><td> 0.14980700</td><td>-0.141407000</td><td> 0.001064300</td><td>-0.245377000</td><td> 0.253836000</td></tr>\n",
       "\t<tr><td>R332</td><td>R332</td><td>-0.0470241</td><td>-0.1803640</td><td>-0.568360000</td><td>-0.69452900</td><td> 0.14270900</td><td>-0.03296520</td><td>-0.03454150</td><td>-0.3149080</td><td>⋯</td><td> 0.000907020</td><td>-0.010582100</td><td> 0.000309542</td><td> 0.004134800</td><td> 0.00141640</td><td> 0.00291259</td><td> 0.000577345</td><td> 0.012307000</td><td>-0.015901300</td><td>-0.008764870</td></tr>\n",
       "\t<tr><td>R353</td><td>R353</td><td>-0.0484549</td><td>-0.1825600</td><td> 0.807803000</td><td>-0.44256100</td><td>-0.03810000</td><td>-0.02790210</td><td>-0.10203500</td><td>-0.2573020</td><td>⋯</td><td> 0.001458660</td><td> 0.000497894</td><td>-0.007169420</td><td>-0.001623060</td><td>-0.00125941</td><td> 0.02022430</td><td> 0.001946120</td><td> 0.004028070</td><td> 0.007491470</td><td>-0.007407110</td></tr>\n",
       "\t<tr><td>R354</td><td>R354</td><td>-0.0451243</td><td>-0.1288640</td><td>-0.112642000</td><td> 0.31134000</td><td>-0.39327300</td><td>-0.60883200</td><td>-0.42716700</td><td>-0.3549740</td><td>⋯</td><td> 0.012294100</td><td>-0.000636557</td><td>-0.000478938</td><td> 0.005257860</td><td>-0.02740680</td><td> 0.01503050</td><td>-0.015213300</td><td>-0.004584120</td><td> 0.001536250</td><td> 0.000612098</td></tr>\n",
       "\t<tr><td>R362</td><td>R362</td><td>-0.0427772</td><td>-0.1204470</td><td>-0.000913680</td><td> 0.25182700</td><td>-0.10267700</td><td> 0.02272780</td><td> 0.78725700</td><td>-0.5021840</td><td>⋯</td><td>-0.012420100</td><td> 0.008942600</td><td>-0.007709760</td><td> 0.001122040</td><td>-0.00954590</td><td> 0.00706435</td><td>-0.003547040</td><td> 0.001656830</td><td> 0.003734130</td><td>-0.007416480</td></tr>\n",
       "\t<tr><td>R363</td><td>R363</td><td>-0.0410551</td><td> 0.2373330</td><td>-0.082927300</td><td> 0.01978630</td><td>-0.55775400</td><td> 0.69377600</td><td>-0.24568500</td><td>-0.2118040</td><td>⋯</td><td> 0.000770464</td><td> 0.009160260</td><td> 0.001815190</td><td> 0.000414110</td><td>-0.01531960</td><td> 0.00737696</td><td>-0.007368380</td><td> 0.002708980</td><td> 0.006214830</td><td> 0.006019440</td></tr>\n",
       "\t<tr><td>R364</td><td>R364</td><td>-0.0462422</td><td>-0.1252800</td><td> 0.016352100</td><td> 0.38166000</td><td> 0.68011200</td><td> 0.29391000</td><td>-0.34169300</td><td>-0.3649570</td><td>⋯</td><td>-0.004326220</td><td> 0.021360900</td><td>-0.001179300</td><td> 0.003451540</td><td> 0.01494720</td><td> 0.00117323</td><td> 0.000757662</td><td> 0.002675210</td><td> 0.019341000</td><td> 0.005860140</td></tr>\n",
       "</tbody>\n",
       "</table>\n"
      ],
      "text/latex": [
       "A data.frame: 28 × 22\n",
       "\\begin{tabular}{lllllllllllllllllllll}\n",
       " FID & IID & PC1 & PC2 & PC3 & PC4 & PC5 & PC6 & PC7 & PC8 & ⋯ & PC11 & PC12 & PC13 & PC14 & PC15 & PC16 & PC17 & PC18 & PC19 & PC20\\\\\n",
       " <chr> & <chr> & <dbl> & <dbl> & <dbl> & <dbl> & <dbl> & <dbl> & <dbl> & <dbl> & ⋯ & <dbl> & <dbl> & <dbl> & <dbl> & <dbl> & <dbl> & <dbl> & <dbl> & <dbl> & <dbl>\\\\\n",
       "\\hline\n",
       "\t R207 & R207 & -0.0357571 & -0.0433500 & -0.009530110 &  0.00946539 &  0.00248291 & -0.00235139 &  0.02224520 &  0.1034740 & ⋯ &  0.057826100 &  0.066491100 & -0.049838100 &  0.137174000 &  0.02680910 &  0.01248500 &  0.023710400 & -0.034772500 &  0.041688400 &  0.294989000\\\\\n",
       "\t R217 & R217 & -0.0382804 & -0.0643090 & -0.007989110 &  0.03306490 & -0.00510151 &  0.01702640 & -0.00219146 &  0.1171330 & ⋯ &  0.087142400 &  0.082794100 &  0.061770600 & -0.202493000 &  0.09943920 &  0.20880200 &  0.059114300 & -0.300833000 & -0.596248000 & -0.084477000\\\\\n",
       "\t R218 & R218 & -0.0385329 & -0.0571864 & -0.021397400 &  0.01169350 & -0.00826495 & -0.00248485 & -0.00280641 &  0.1270570 & ⋯ &  0.137751000 & -0.118765000 & -0.192245000 & -0.100145000 & -0.02804390 & -0.17335200 &  0.080484900 &  0.229214000 &  0.300599000 &  0.180941000\\\\\n",
       "\t R221 & R221 & -0.0291582 &  0.7818010 &  0.044663100 & -0.09428920 &  0.18034400 & -0.21915200 &  0.02774150 & -0.1514330 & ⋯ & -0.107646000 &  0.040530200 & -0.044203200 & -0.058761800 & -0.16907800 & -0.07025310 & -0.069311900 & -0.054751400 & -0.024171800 & -0.003081640\\\\\n",
       "\t R223 & R223 & -0.0353169 & -0.0659599 & -0.004586180 &  0.03307650 & -0.00368873 &  0.00243154 &  0.00687905 &  0.1227680 & ⋯ & -0.138477000 & -0.032412100 & -0.160506000 &  0.154538000 & -0.00357877 & -0.21164300 &  0.129297000 &  0.329710000 & -0.481842000 & -0.435669000\\\\\n",
       "\t R226 & R226 & -0.0360131 & -0.0595114 & -0.019595700 &  0.01062260 & -0.00253171 & -0.00895363 &  0.02225040 &  0.1176190 & ⋯ &  0.090967700 &  0.129752000 &  0.309214000 & -0.591722000 &  0.15752700 &  0.05978180 &  0.089435500 & -0.205171000 &  0.264725000 & -0.123652000\\\\\n",
       "\t R228 & R228 & -0.0367356 & -0.0643387 & -0.000307157 &  0.00558472 & -0.01139990 &  0.00982287 &  0.00794813 &  0.1076840 & ⋯ &  0.063746000 &  0.022222100 & -0.042921000 &  0.084781500 & -0.00859556 & -0.49671200 &  0.255043000 & -0.173729000 &  0.175867000 & -0.362923000\\\\\n",
       "\t R234 & R234 & -0.0387477 & -0.0640045 & -0.009108130 &  0.02384790 &  0.00123802 &  0.01400490 &  0.01164970 &  0.1247200 & ⋯ & -0.041251800 & -0.498693000 & -0.196756000 & -0.033091000 &  0.19317500 &  0.14282600 & -0.665277000 &  0.000204796 &  0.152919000 & -0.271769000\\\\\n",
       "\t R237 & R237 & -0.0259373 &  0.0641799 & -0.004505880 &  0.01010730 &  0.02416530 & -0.01471670 &  0.02609240 &  0.0945301 & ⋯ &  0.073577300 & -0.018189800 & -0.052659400 & -0.067760500 & -0.09667190 & -0.00621796 & -0.052778600 & -0.048755000 & -0.023594100 & -0.036206200\\\\\n",
       "\t R238 & R238 & -0.0387793 & -0.0596684 & -0.016703700 &  0.00643733 & -0.00293290 & -0.00528552 &  0.02398970 &  0.1428300 & ⋯ &  0.335898000 &  0.670370000 & -0.286375000 &  0.259121000 &  0.04441520 &  0.20542600 & -0.214163000 &  0.141749000 &  0.140563000 & -0.065502200\\\\\n",
       "\t R246 & R246 & -0.0100412 &  0.3039290 &  0.019100400 & -0.01376100 &  0.05410580 & -0.06706660 &  0.03310590 &  0.0294179 & ⋯ &  0.078438700 &  0.059805900 & -0.051299200 & -0.049551100 & -0.05793680 & -0.03244680 & -0.036683800 & -0.021451600 &  0.018471900 & -0.044528000\\\\\n",
       "\t R247 & R247 & -0.0340679 &  0.2318830 &  0.010998600 & -0.00469042 &  0.03480970 & -0.07046160 &  0.02798740 &  0.0250768 & ⋯ &  0.159987000 & -0.215221000 &  0.230489000 &  0.271018000 &  0.66349800 &  0.25813500 &  0.312294000 &  0.237482000 &  0.018720000 &  0.052555400\\\\\n",
       "\t R275 & R275 & -0.0380496 & -0.0610298 & -0.001849750 &  0.01931300 & -0.00387155 &  0.00235325 &  0.02276520 &  0.1118490 & ⋯ & -0.047926900 & -0.202088000 & -0.366452000 &  0.019866800 &  0.06347200 & -0.24295200 &  0.067584000 & -0.174540000 & -0.167396000 &  0.583847000\\\\\n",
       "\t R284 & R284 & -0.0364090 & -0.0585468 &  0.002714070 &  0.01368140 &  0.00351887 &  0.00369951 &  0.02450650 &  0.1149800 & ⋯ &  0.213233000 & -0.045051700 &  0.649058000 &  0.348152000 & -0.14399600 & -0.33941000 & -0.330011000 & -0.112536000 & -0.082103100 &  0.113912000\\\\\n",
       "\t R290 & R290 & -0.0366451 & -0.0563732 & -0.014401000 &  0.01909690 & -0.01593560 & -0.00253746 &  0.00693577 &  0.1129840 & ⋯ & -0.103624000 &  0.003831560 & -0.131360000 &  0.115127000 &  0.16329100 & -0.07525100 &  0.224803000 & -0.409976000 &  0.198942000 & -0.085920500\\\\\n",
       "\t R292 & R292 &  0.9811410 & -0.0230396 &  0.001433630 & -0.00367822 & -0.00250584 &  0.00431008 & -0.00652485 & -0.0180123 & ⋯ &  0.000529719 & -0.001827640 & -0.000411311 &  0.000524163 &  0.00459206 &  0.00150539 &  0.000466895 &  0.001643200 & -0.000961795 &  0.002663740\\\\\n",
       "\t R316 & R316 & -0.0317664 & -0.0504956 & -0.011392200 &  0.01313660 & -0.01245940 & -0.00414725 &  0.00307927 &  0.1314040 & ⋯ & -0.787291000 &  0.259317000 &  0.214564000 &  0.152464000 &  0.06057550 &  0.05170080 & -0.073988300 &  0.104028000 &  0.141669000 &  0.099586800\\\\\n",
       "\t R317 & R317 & -0.0396920 & -0.0664290 & -0.006927920 &  0.01305640 & -0.01141550 & -0.00213266 &  0.02576430 &  0.1281340 & ⋯ & -0.285099000 &  0.043136000 & -0.058872000 & -0.211560000 &  0.02258060 &  0.05889910 & -0.013850100 &  0.042341800 & -0.029860000 & -0.014593700\\\\\n",
       "\t R319 & R319 & -0.0375071 & -0.0644230 & -0.001094000 &  0.03233030 & -0.00296017 &  0.00741454 &  0.01509920 &  0.1164970 & ⋯ &  0.094799700 & -0.082528200 &  0.148620000 & -0.310432000 & -0.22187100 & -0.08266100 &  0.136632000 &  0.592480000 &  0.029493200 &  0.084435800\\\\\n",
       "\t R325 & R325 & -0.0192967 &  0.1030910 &  0.008634220 &  0.01769920 &  0.03040130 & -0.02161370 &  0.03493480 &  0.0845179 & ⋯ &  0.063720900 &  0.001034930 & -0.058288600 & -0.046197600 & -0.12003600 & -0.00120100 & -0.062283200 & -0.035156900 &  0.015585300 & -0.043931300\\\\\n",
       "\t R326 & R326 & -0.0356856 & -0.0656213 & -0.015090100 &  0.01863350 &  0.01755610 &  0.01440780 &  0.01980930 &  0.1416920 & ⋯ &  0.007591380 & -0.281107000 &  0.040117100 &  0.268550000 & -0.56582700 &  0.52895000 &  0.303737000 & -0.127037000 &  0.129893000 & -0.083415700\\\\\n",
       "\t R327 & R327 & -0.0380443 & -0.0604138 & -0.002377960 & -0.00195250 &  0.00342868 &  0.00471824 &  0.01260290 &  0.1212080 & ⋯ &  0.047423700 &  0.087857000 &  0.052766600 & -0.152359000 & -0.04657260 &  0.14980700 & -0.141407000 &  0.001064300 & -0.245377000 &  0.253836000\\\\\n",
       "\t R332 & R332 & -0.0470241 & -0.1803640 & -0.568360000 & -0.69452900 &  0.14270900 & -0.03296520 & -0.03454150 & -0.3149080 & ⋯ &  0.000907020 & -0.010582100 &  0.000309542 &  0.004134800 &  0.00141640 &  0.00291259 &  0.000577345 &  0.012307000 & -0.015901300 & -0.008764870\\\\\n",
       "\t R353 & R353 & -0.0484549 & -0.1825600 &  0.807803000 & -0.44256100 & -0.03810000 & -0.02790210 & -0.10203500 & -0.2573020 & ⋯ &  0.001458660 &  0.000497894 & -0.007169420 & -0.001623060 & -0.00125941 &  0.02022430 &  0.001946120 &  0.004028070 &  0.007491470 & -0.007407110\\\\\n",
       "\t R354 & R354 & -0.0451243 & -0.1288640 & -0.112642000 &  0.31134000 & -0.39327300 & -0.60883200 & -0.42716700 & -0.3549740 & ⋯ &  0.012294100 & -0.000636557 & -0.000478938 &  0.005257860 & -0.02740680 &  0.01503050 & -0.015213300 & -0.004584120 &  0.001536250 &  0.000612098\\\\\n",
       "\t R362 & R362 & -0.0427772 & -0.1204470 & -0.000913680 &  0.25182700 & -0.10267700 &  0.02272780 &  0.78725700 & -0.5021840 & ⋯ & -0.012420100 &  0.008942600 & -0.007709760 &  0.001122040 & -0.00954590 &  0.00706435 & -0.003547040 &  0.001656830 &  0.003734130 & -0.007416480\\\\\n",
       "\t R363 & R363 & -0.0410551 &  0.2373330 & -0.082927300 &  0.01978630 & -0.55775400 &  0.69377600 & -0.24568500 & -0.2118040 & ⋯ &  0.000770464 &  0.009160260 &  0.001815190 &  0.000414110 & -0.01531960 &  0.00737696 & -0.007368380 &  0.002708980 &  0.006214830 &  0.006019440\\\\\n",
       "\t R364 & R364 & -0.0462422 & -0.1252800 &  0.016352100 &  0.38166000 &  0.68011200 &  0.29391000 & -0.34169300 & -0.3649570 & ⋯ & -0.004326220 &  0.021360900 & -0.001179300 &  0.003451540 &  0.01494720 &  0.00117323 &  0.000757662 &  0.002675210 &  0.019341000 &  0.005860140\\\\\n",
       "\\end{tabular}\n"
      ],
      "text/markdown": [
       "\n",
       "A data.frame: 28 × 22\n",
       "\n",
       "| FID &lt;chr&gt; | IID &lt;chr&gt; | PC1 &lt;dbl&gt; | PC2 &lt;dbl&gt; | PC3 &lt;dbl&gt; | PC4 &lt;dbl&gt; | PC5 &lt;dbl&gt; | PC6 &lt;dbl&gt; | PC7 &lt;dbl&gt; | PC8 &lt;dbl&gt; | ⋯ ⋯ | PC11 &lt;dbl&gt; | PC12 &lt;dbl&gt; | PC13 &lt;dbl&gt; | PC14 &lt;dbl&gt; | PC15 &lt;dbl&gt; | PC16 &lt;dbl&gt; | PC17 &lt;dbl&gt; | PC18 &lt;dbl&gt; | PC19 &lt;dbl&gt; | PC20 &lt;dbl&gt; |\n",
       "|---|---|---|---|---|---|---|---|---|---|---|---|---|---|---|---|---|---|---|---|---|\n",
       "| R207 | R207 | -0.0357571 | -0.0433500 | -0.009530110 |  0.00946539 |  0.00248291 | -0.00235139 |  0.02224520 |  0.1034740 | ⋯ |  0.057826100 |  0.066491100 | -0.049838100 |  0.137174000 |  0.02680910 |  0.01248500 |  0.023710400 | -0.034772500 |  0.041688400 |  0.294989000 |\n",
       "| R217 | R217 | -0.0382804 | -0.0643090 | -0.007989110 |  0.03306490 | -0.00510151 |  0.01702640 | -0.00219146 |  0.1171330 | ⋯ |  0.087142400 |  0.082794100 |  0.061770600 | -0.202493000 |  0.09943920 |  0.20880200 |  0.059114300 | -0.300833000 | -0.596248000 | -0.084477000 |\n",
       "| R218 | R218 | -0.0385329 | -0.0571864 | -0.021397400 |  0.01169350 | -0.00826495 | -0.00248485 | -0.00280641 |  0.1270570 | ⋯ |  0.137751000 | -0.118765000 | -0.192245000 | -0.100145000 | -0.02804390 | -0.17335200 |  0.080484900 |  0.229214000 |  0.300599000 |  0.180941000 |\n",
       "| R221 | R221 | -0.0291582 |  0.7818010 |  0.044663100 | -0.09428920 |  0.18034400 | -0.21915200 |  0.02774150 | -0.1514330 | ⋯ | -0.107646000 |  0.040530200 | -0.044203200 | -0.058761800 | -0.16907800 | -0.07025310 | -0.069311900 | -0.054751400 | -0.024171800 | -0.003081640 |\n",
       "| R223 | R223 | -0.0353169 | -0.0659599 | -0.004586180 |  0.03307650 | -0.00368873 |  0.00243154 |  0.00687905 |  0.1227680 | ⋯ | -0.138477000 | -0.032412100 | -0.160506000 |  0.154538000 | -0.00357877 | -0.21164300 |  0.129297000 |  0.329710000 | -0.481842000 | -0.435669000 |\n",
       "| R226 | R226 | -0.0360131 | -0.0595114 | -0.019595700 |  0.01062260 | -0.00253171 | -0.00895363 |  0.02225040 |  0.1176190 | ⋯ |  0.090967700 |  0.129752000 |  0.309214000 | -0.591722000 |  0.15752700 |  0.05978180 |  0.089435500 | -0.205171000 |  0.264725000 | -0.123652000 |\n",
       "| R228 | R228 | -0.0367356 | -0.0643387 | -0.000307157 |  0.00558472 | -0.01139990 |  0.00982287 |  0.00794813 |  0.1076840 | ⋯ |  0.063746000 |  0.022222100 | -0.042921000 |  0.084781500 | -0.00859556 | -0.49671200 |  0.255043000 | -0.173729000 |  0.175867000 | -0.362923000 |\n",
       "| R234 | R234 | -0.0387477 | -0.0640045 | -0.009108130 |  0.02384790 |  0.00123802 |  0.01400490 |  0.01164970 |  0.1247200 | ⋯ | -0.041251800 | -0.498693000 | -0.196756000 | -0.033091000 |  0.19317500 |  0.14282600 | -0.665277000 |  0.000204796 |  0.152919000 | -0.271769000 |\n",
       "| R237 | R237 | -0.0259373 |  0.0641799 | -0.004505880 |  0.01010730 |  0.02416530 | -0.01471670 |  0.02609240 |  0.0945301 | ⋯ |  0.073577300 | -0.018189800 | -0.052659400 | -0.067760500 | -0.09667190 | -0.00621796 | -0.052778600 | -0.048755000 | -0.023594100 | -0.036206200 |\n",
       "| R238 | R238 | -0.0387793 | -0.0596684 | -0.016703700 |  0.00643733 | -0.00293290 | -0.00528552 |  0.02398970 |  0.1428300 | ⋯ |  0.335898000 |  0.670370000 | -0.286375000 |  0.259121000 |  0.04441520 |  0.20542600 | -0.214163000 |  0.141749000 |  0.140563000 | -0.065502200 |\n",
       "| R246 | R246 | -0.0100412 |  0.3039290 |  0.019100400 | -0.01376100 |  0.05410580 | -0.06706660 |  0.03310590 |  0.0294179 | ⋯ |  0.078438700 |  0.059805900 | -0.051299200 | -0.049551100 | -0.05793680 | -0.03244680 | -0.036683800 | -0.021451600 |  0.018471900 | -0.044528000 |\n",
       "| R247 | R247 | -0.0340679 |  0.2318830 |  0.010998600 | -0.00469042 |  0.03480970 | -0.07046160 |  0.02798740 |  0.0250768 | ⋯ |  0.159987000 | -0.215221000 |  0.230489000 |  0.271018000 |  0.66349800 |  0.25813500 |  0.312294000 |  0.237482000 |  0.018720000 |  0.052555400 |\n",
       "| R275 | R275 | -0.0380496 | -0.0610298 | -0.001849750 |  0.01931300 | -0.00387155 |  0.00235325 |  0.02276520 |  0.1118490 | ⋯ | -0.047926900 | -0.202088000 | -0.366452000 |  0.019866800 |  0.06347200 | -0.24295200 |  0.067584000 | -0.174540000 | -0.167396000 |  0.583847000 |\n",
       "| R284 | R284 | -0.0364090 | -0.0585468 |  0.002714070 |  0.01368140 |  0.00351887 |  0.00369951 |  0.02450650 |  0.1149800 | ⋯ |  0.213233000 | -0.045051700 |  0.649058000 |  0.348152000 | -0.14399600 | -0.33941000 | -0.330011000 | -0.112536000 | -0.082103100 |  0.113912000 |\n",
       "| R290 | R290 | -0.0366451 | -0.0563732 | -0.014401000 |  0.01909690 | -0.01593560 | -0.00253746 |  0.00693577 |  0.1129840 | ⋯ | -0.103624000 |  0.003831560 | -0.131360000 |  0.115127000 |  0.16329100 | -0.07525100 |  0.224803000 | -0.409976000 |  0.198942000 | -0.085920500 |\n",
       "| R292 | R292 |  0.9811410 | -0.0230396 |  0.001433630 | -0.00367822 | -0.00250584 |  0.00431008 | -0.00652485 | -0.0180123 | ⋯ |  0.000529719 | -0.001827640 | -0.000411311 |  0.000524163 |  0.00459206 |  0.00150539 |  0.000466895 |  0.001643200 | -0.000961795 |  0.002663740 |\n",
       "| R316 | R316 | -0.0317664 | -0.0504956 | -0.011392200 |  0.01313660 | -0.01245940 | -0.00414725 |  0.00307927 |  0.1314040 | ⋯ | -0.787291000 |  0.259317000 |  0.214564000 |  0.152464000 |  0.06057550 |  0.05170080 | -0.073988300 |  0.104028000 |  0.141669000 |  0.099586800 |\n",
       "| R317 | R317 | -0.0396920 | -0.0664290 | -0.006927920 |  0.01305640 | -0.01141550 | -0.00213266 |  0.02576430 |  0.1281340 | ⋯ | -0.285099000 |  0.043136000 | -0.058872000 | -0.211560000 |  0.02258060 |  0.05889910 | -0.013850100 |  0.042341800 | -0.029860000 | -0.014593700 |\n",
       "| R319 | R319 | -0.0375071 | -0.0644230 | -0.001094000 |  0.03233030 | -0.00296017 |  0.00741454 |  0.01509920 |  0.1164970 | ⋯ |  0.094799700 | -0.082528200 |  0.148620000 | -0.310432000 | -0.22187100 | -0.08266100 |  0.136632000 |  0.592480000 |  0.029493200 |  0.084435800 |\n",
       "| R325 | R325 | -0.0192967 |  0.1030910 |  0.008634220 |  0.01769920 |  0.03040130 | -0.02161370 |  0.03493480 |  0.0845179 | ⋯ |  0.063720900 |  0.001034930 | -0.058288600 | -0.046197600 | -0.12003600 | -0.00120100 | -0.062283200 | -0.035156900 |  0.015585300 | -0.043931300 |\n",
       "| R326 | R326 | -0.0356856 | -0.0656213 | -0.015090100 |  0.01863350 |  0.01755610 |  0.01440780 |  0.01980930 |  0.1416920 | ⋯ |  0.007591380 | -0.281107000 |  0.040117100 |  0.268550000 | -0.56582700 |  0.52895000 |  0.303737000 | -0.127037000 |  0.129893000 | -0.083415700 |\n",
       "| R327 | R327 | -0.0380443 | -0.0604138 | -0.002377960 | -0.00195250 |  0.00342868 |  0.00471824 |  0.01260290 |  0.1212080 | ⋯ |  0.047423700 |  0.087857000 |  0.052766600 | -0.152359000 | -0.04657260 |  0.14980700 | -0.141407000 |  0.001064300 | -0.245377000 |  0.253836000 |\n",
       "| R332 | R332 | -0.0470241 | -0.1803640 | -0.568360000 | -0.69452900 |  0.14270900 | -0.03296520 | -0.03454150 | -0.3149080 | ⋯ |  0.000907020 | -0.010582100 |  0.000309542 |  0.004134800 |  0.00141640 |  0.00291259 |  0.000577345 |  0.012307000 | -0.015901300 | -0.008764870 |\n",
       "| R353 | R353 | -0.0484549 | -0.1825600 |  0.807803000 | -0.44256100 | -0.03810000 | -0.02790210 | -0.10203500 | -0.2573020 | ⋯ |  0.001458660 |  0.000497894 | -0.007169420 | -0.001623060 | -0.00125941 |  0.02022430 |  0.001946120 |  0.004028070 |  0.007491470 | -0.007407110 |\n",
       "| R354 | R354 | -0.0451243 | -0.1288640 | -0.112642000 |  0.31134000 | -0.39327300 | -0.60883200 | -0.42716700 | -0.3549740 | ⋯ |  0.012294100 | -0.000636557 | -0.000478938 |  0.005257860 | -0.02740680 |  0.01503050 | -0.015213300 | -0.004584120 |  0.001536250 |  0.000612098 |\n",
       "| R362 | R362 | -0.0427772 | -0.1204470 | -0.000913680 |  0.25182700 | -0.10267700 |  0.02272780 |  0.78725700 | -0.5021840 | ⋯ | -0.012420100 |  0.008942600 | -0.007709760 |  0.001122040 | -0.00954590 |  0.00706435 | -0.003547040 |  0.001656830 |  0.003734130 | -0.007416480 |\n",
       "| R363 | R363 | -0.0410551 |  0.2373330 | -0.082927300 |  0.01978630 | -0.55775400 |  0.69377600 | -0.24568500 | -0.2118040 | ⋯ |  0.000770464 |  0.009160260 |  0.001815190 |  0.000414110 | -0.01531960 |  0.00737696 | -0.007368380 |  0.002708980 |  0.006214830 |  0.006019440 |\n",
       "| R364 | R364 | -0.0462422 | -0.1252800 |  0.016352100 |  0.38166000 |  0.68011200 |  0.29391000 | -0.34169300 | -0.3649570 | ⋯ | -0.004326220 |  0.021360900 | -0.001179300 |  0.003451540 |  0.01494720 |  0.00117323 |  0.000757662 |  0.002675210 |  0.019341000 |  0.005860140 |\n",
       "\n"
      ],
      "text/plain": [
       "   FID  IID  PC1        PC2        PC3          PC4         PC5        \n",
       "1  R207 R207 -0.0357571 -0.0433500 -0.009530110  0.00946539  0.00248291\n",
       "2  R217 R217 -0.0382804 -0.0643090 -0.007989110  0.03306490 -0.00510151\n",
       "3  R218 R218 -0.0385329 -0.0571864 -0.021397400  0.01169350 -0.00826495\n",
       "4  R221 R221 -0.0291582  0.7818010  0.044663100 -0.09428920  0.18034400\n",
       "5  R223 R223 -0.0353169 -0.0659599 -0.004586180  0.03307650 -0.00368873\n",
       "6  R226 R226 -0.0360131 -0.0595114 -0.019595700  0.01062260 -0.00253171\n",
       "7  R228 R228 -0.0367356 -0.0643387 -0.000307157  0.00558472 -0.01139990\n",
       "8  R234 R234 -0.0387477 -0.0640045 -0.009108130  0.02384790  0.00123802\n",
       "9  R237 R237 -0.0259373  0.0641799 -0.004505880  0.01010730  0.02416530\n",
       "10 R238 R238 -0.0387793 -0.0596684 -0.016703700  0.00643733 -0.00293290\n",
       "11 R246 R246 -0.0100412  0.3039290  0.019100400 -0.01376100  0.05410580\n",
       "12 R247 R247 -0.0340679  0.2318830  0.010998600 -0.00469042  0.03480970\n",
       "13 R275 R275 -0.0380496 -0.0610298 -0.001849750  0.01931300 -0.00387155\n",
       "14 R284 R284 -0.0364090 -0.0585468  0.002714070  0.01368140  0.00351887\n",
       "15 R290 R290 -0.0366451 -0.0563732 -0.014401000  0.01909690 -0.01593560\n",
       "16 R292 R292  0.9811410 -0.0230396  0.001433630 -0.00367822 -0.00250584\n",
       "17 R316 R316 -0.0317664 -0.0504956 -0.011392200  0.01313660 -0.01245940\n",
       "18 R317 R317 -0.0396920 -0.0664290 -0.006927920  0.01305640 -0.01141550\n",
       "19 R319 R319 -0.0375071 -0.0644230 -0.001094000  0.03233030 -0.00296017\n",
       "20 R325 R325 -0.0192967  0.1030910  0.008634220  0.01769920  0.03040130\n",
       "21 R326 R326 -0.0356856 -0.0656213 -0.015090100  0.01863350  0.01755610\n",
       "22 R327 R327 -0.0380443 -0.0604138 -0.002377960 -0.00195250  0.00342868\n",
       "23 R332 R332 -0.0470241 -0.1803640 -0.568360000 -0.69452900  0.14270900\n",
       "24 R353 R353 -0.0484549 -0.1825600  0.807803000 -0.44256100 -0.03810000\n",
       "25 R354 R354 -0.0451243 -0.1288640 -0.112642000  0.31134000 -0.39327300\n",
       "26 R362 R362 -0.0427772 -0.1204470 -0.000913680  0.25182700 -0.10267700\n",
       "27 R363 R363 -0.0410551  0.2373330 -0.082927300  0.01978630 -0.55775400\n",
       "28 R364 R364 -0.0462422 -0.1252800  0.016352100  0.38166000  0.68011200\n",
       "   PC6         PC7         PC8        ⋯ PC11         PC12         PC13        \n",
       "1  -0.00235139  0.02224520  0.1034740 ⋯  0.057826100  0.066491100 -0.049838100\n",
       "2   0.01702640 -0.00219146  0.1171330 ⋯  0.087142400  0.082794100  0.061770600\n",
       "3  -0.00248485 -0.00280641  0.1270570 ⋯  0.137751000 -0.118765000 -0.192245000\n",
       "4  -0.21915200  0.02774150 -0.1514330 ⋯ -0.107646000  0.040530200 -0.044203200\n",
       "5   0.00243154  0.00687905  0.1227680 ⋯ -0.138477000 -0.032412100 -0.160506000\n",
       "6  -0.00895363  0.02225040  0.1176190 ⋯  0.090967700  0.129752000  0.309214000\n",
       "7   0.00982287  0.00794813  0.1076840 ⋯  0.063746000  0.022222100 -0.042921000\n",
       "8   0.01400490  0.01164970  0.1247200 ⋯ -0.041251800 -0.498693000 -0.196756000\n",
       "9  -0.01471670  0.02609240  0.0945301 ⋯  0.073577300 -0.018189800 -0.052659400\n",
       "10 -0.00528552  0.02398970  0.1428300 ⋯  0.335898000  0.670370000 -0.286375000\n",
       "11 -0.06706660  0.03310590  0.0294179 ⋯  0.078438700  0.059805900 -0.051299200\n",
       "12 -0.07046160  0.02798740  0.0250768 ⋯  0.159987000 -0.215221000  0.230489000\n",
       "13  0.00235325  0.02276520  0.1118490 ⋯ -0.047926900 -0.202088000 -0.366452000\n",
       "14  0.00369951  0.02450650  0.1149800 ⋯  0.213233000 -0.045051700  0.649058000\n",
       "15 -0.00253746  0.00693577  0.1129840 ⋯ -0.103624000  0.003831560 -0.131360000\n",
       "16  0.00431008 -0.00652485 -0.0180123 ⋯  0.000529719 -0.001827640 -0.000411311\n",
       "17 -0.00414725  0.00307927  0.1314040 ⋯ -0.787291000  0.259317000  0.214564000\n",
       "18 -0.00213266  0.02576430  0.1281340 ⋯ -0.285099000  0.043136000 -0.058872000\n",
       "19  0.00741454  0.01509920  0.1164970 ⋯  0.094799700 -0.082528200  0.148620000\n",
       "20 -0.02161370  0.03493480  0.0845179 ⋯  0.063720900  0.001034930 -0.058288600\n",
       "21  0.01440780  0.01980930  0.1416920 ⋯  0.007591380 -0.281107000  0.040117100\n",
       "22  0.00471824  0.01260290  0.1212080 ⋯  0.047423700  0.087857000  0.052766600\n",
       "23 -0.03296520 -0.03454150 -0.3149080 ⋯  0.000907020 -0.010582100  0.000309542\n",
       "24 -0.02790210 -0.10203500 -0.2573020 ⋯  0.001458660  0.000497894 -0.007169420\n",
       "25 -0.60883200 -0.42716700 -0.3549740 ⋯  0.012294100 -0.000636557 -0.000478938\n",
       "26  0.02272780  0.78725700 -0.5021840 ⋯ -0.012420100  0.008942600 -0.007709760\n",
       "27  0.69377600 -0.24568500 -0.2118040 ⋯  0.000770464  0.009160260  0.001815190\n",
       "28  0.29391000 -0.34169300 -0.3649570 ⋯ -0.004326220  0.021360900 -0.001179300\n",
       "   PC14         PC15        PC16        PC17         PC18         PC19        \n",
       "1   0.137174000  0.02680910  0.01248500  0.023710400 -0.034772500  0.041688400\n",
       "2  -0.202493000  0.09943920  0.20880200  0.059114300 -0.300833000 -0.596248000\n",
       "3  -0.100145000 -0.02804390 -0.17335200  0.080484900  0.229214000  0.300599000\n",
       "4  -0.058761800 -0.16907800 -0.07025310 -0.069311900 -0.054751400 -0.024171800\n",
       "5   0.154538000 -0.00357877 -0.21164300  0.129297000  0.329710000 -0.481842000\n",
       "6  -0.591722000  0.15752700  0.05978180  0.089435500 -0.205171000  0.264725000\n",
       "7   0.084781500 -0.00859556 -0.49671200  0.255043000 -0.173729000  0.175867000\n",
       "8  -0.033091000  0.19317500  0.14282600 -0.665277000  0.000204796  0.152919000\n",
       "9  -0.067760500 -0.09667190 -0.00621796 -0.052778600 -0.048755000 -0.023594100\n",
       "10  0.259121000  0.04441520  0.20542600 -0.214163000  0.141749000  0.140563000\n",
       "11 -0.049551100 -0.05793680 -0.03244680 -0.036683800 -0.021451600  0.018471900\n",
       "12  0.271018000  0.66349800  0.25813500  0.312294000  0.237482000  0.018720000\n",
       "13  0.019866800  0.06347200 -0.24295200  0.067584000 -0.174540000 -0.167396000\n",
       "14  0.348152000 -0.14399600 -0.33941000 -0.330011000 -0.112536000 -0.082103100\n",
       "15  0.115127000  0.16329100 -0.07525100  0.224803000 -0.409976000  0.198942000\n",
       "16  0.000524163  0.00459206  0.00150539  0.000466895  0.001643200 -0.000961795\n",
       "17  0.152464000  0.06057550  0.05170080 -0.073988300  0.104028000  0.141669000\n",
       "18 -0.211560000  0.02258060  0.05889910 -0.013850100  0.042341800 -0.029860000\n",
       "19 -0.310432000 -0.22187100 -0.08266100  0.136632000  0.592480000  0.029493200\n",
       "20 -0.046197600 -0.12003600 -0.00120100 -0.062283200 -0.035156900  0.015585300\n",
       "21  0.268550000 -0.56582700  0.52895000  0.303737000 -0.127037000  0.129893000\n",
       "22 -0.152359000 -0.04657260  0.14980700 -0.141407000  0.001064300 -0.245377000\n",
       "23  0.004134800  0.00141640  0.00291259  0.000577345  0.012307000 -0.015901300\n",
       "24 -0.001623060 -0.00125941  0.02022430  0.001946120  0.004028070  0.007491470\n",
       "25  0.005257860 -0.02740680  0.01503050 -0.015213300 -0.004584120  0.001536250\n",
       "26  0.001122040 -0.00954590  0.00706435 -0.003547040  0.001656830  0.003734130\n",
       "27  0.000414110 -0.01531960  0.00737696 -0.007368380  0.002708980  0.006214830\n",
       "28  0.003451540  0.01494720  0.00117323  0.000757662  0.002675210  0.019341000\n",
       "   PC20        \n",
       "1   0.294989000\n",
       "2  -0.084477000\n",
       "3   0.180941000\n",
       "4  -0.003081640\n",
       "5  -0.435669000\n",
       "6  -0.123652000\n",
       "7  -0.362923000\n",
       "8  -0.271769000\n",
       "9  -0.036206200\n",
       "10 -0.065502200\n",
       "11 -0.044528000\n",
       "12  0.052555400\n",
       "13  0.583847000\n",
       "14  0.113912000\n",
       "15 -0.085920500\n",
       "16  0.002663740\n",
       "17  0.099586800\n",
       "18 -0.014593700\n",
       "19  0.084435800\n",
       "20 -0.043931300\n",
       "21 -0.083415700\n",
       "22  0.253836000\n",
       "23 -0.008764870\n",
       "24 -0.007407110\n",
       "25  0.000612098\n",
       "26 -0.007416480\n",
       "27  0.006019440\n",
       "28  0.005860140"
      ]
     },
     "metadata": {},
     "output_type": "display_data"
    }
   ],
   "source": [
    "pcas = read.table('/path/to/genotypes/pca/islets_28ALL.pca.eigenvec', header=T)\n",
    "pcas"
   ]
  }
 ],
 "metadata": {
  "kernelspec": {
   "display_name": "R 4.1\n",
   "language": "R",
   "name": "ir41"
  },
  "language_info": {
   "codemirror_mode": "r",
   "file_extension": ".r",
   "mimetype": "text/x-r-source",
   "name": "R",
   "pygments_lexer": "r",
   "version": "4.1.1"
  }
 },
 "nbformat": 4,
 "nbformat_minor": 5
}
