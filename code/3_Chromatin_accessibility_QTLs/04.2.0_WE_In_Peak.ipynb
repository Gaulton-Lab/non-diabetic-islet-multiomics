{
 "cells": [
  {
   "cell_type": "code",
   "execution_count": 4,
   "id": "ff188422",
   "metadata": {
    "scrolled": true,
    "vscode": {
     "languageId": "r"
    }
   },
   "outputs": [
    {
     "name": "stderr",
     "output_type": "stream",
     "text": [
      "── \u001b[1mAttaching core tidyverse packages\u001b[22m ──────────────────────────────────────────────────────────────── tidyverse 2.0.0 ──\n",
      "\u001b[32m✔\u001b[39m \u001b[34mdplyr    \u001b[39m 1.1.4     \u001b[32m✔\u001b[39m \u001b[34mreadr    \u001b[39m 2.1.5\n",
      "\u001b[32m✔\u001b[39m \u001b[34mforcats  \u001b[39m 1.0.0     \u001b[32m✔\u001b[39m \u001b[34mstringr  \u001b[39m 1.5.1\n",
      "\u001b[32m✔\u001b[39m \u001b[34mggplot2  \u001b[39m 3.5.1     \u001b[32m✔\u001b[39m \u001b[34mtibble   \u001b[39m 3.2.1\n",
      "\u001b[32m✔\u001b[39m \u001b[34mlubridate\u001b[39m 1.9.3     \u001b[32m✔\u001b[39m \u001b[34mtidyr    \u001b[39m 1.3.1\n",
      "\u001b[32m✔\u001b[39m \u001b[34mpurrr    \u001b[39m 1.0.2     \n",
      "── \u001b[1mConflicts\u001b[22m ────────────────────────────────────────────────────────────────────────────────── tidyverse_conflicts() ──\n",
      "\u001b[31m✖\u001b[39m \u001b[34mdplyr\u001b[39m::\u001b[32mfilter()\u001b[39m masks \u001b[34mstats\u001b[39m::filter()\n",
      "\u001b[31m✖\u001b[39m \u001b[34mdplyr\u001b[39m::\u001b[32mlag()\u001b[39m    masks \u001b[34mstats\u001b[39m::lag()\n",
      "\u001b[36mℹ\u001b[39m Use the conflicted package (\u001b[3m\u001b[34m<http://conflicted.r-lib.org/>\u001b[39m\u001b[23m) to force all conflicts to become errors\n",
      "\n",
      "Attaching package: ‘data.table’\n",
      "\n",
      "\n",
      "The following objects are masked from ‘package:lubridate’:\n",
      "\n",
      "    hour, isoweek, mday, minute, month, quarter, second, wday, week,\n",
      "    yday, year\n",
      "\n",
      "\n",
      "The following objects are masked from ‘package:dplyr’:\n",
      "\n",
      "    between, first, last\n",
      "\n",
      "\n",
      "The following object is masked from ‘package:purrr’:\n",
      "\n",
      "    transpose\n",
      "\n",
      "\n",
      "\n",
      "Attaching package: ‘vroom’\n",
      "\n",
      "\n",
      "The following objects are masked from ‘package:readr’:\n",
      "\n",
      "    as.col_spec, col_character, col_date, col_datetime, col_double,\n",
      "    col_factor, col_guess, col_integer, col_logical, col_number,\n",
      "    col_skip, col_time, cols, cols_condense, cols_only, date_names,\n",
      "    date_names_lang, date_names_langs, default_locale, fwf_cols,\n",
      "    fwf_empty, fwf_positions, fwf_widths, locale, output_column,\n",
      "    problems, spec\n",
      "\n",
      "\n"
     ]
    }
   ],
   "source": [
    "library(tidyverse)\n",
    "library(ggplot2)\n",
    "library(data.table)\n",
    "library(ggrepel)\n",
    "library(UpSetR)\n",
    "library(vroom)\n",
    "library(rmeta)"
   ]
  },
  {
   "cell_type": "code",
   "execution_count": 5,
   "id": "762e2119",
   "metadata": {
    "scrolled": true,
    "vscode": {
     "languageId": "r"
    }
   },
   "outputs": [
    {
     "name": "stderr",
     "output_type": "stream",
     "text": [
      "Loading required package: grid\n",
      "\n",
      "Loading required package: MotifDb\n",
      "\n",
      "Loading required package: BiocGenerics\n",
      "\n",
      "\n",
      "Attaching package: ‘BiocGenerics’\n",
      "\n",
      "\n",
      "The following objects are masked from ‘package:lubridate’:\n",
      "\n",
      "    intersect, setdiff, union\n",
      "\n",
      "\n",
      "The following objects are masked from ‘package:dplyr’:\n",
      "\n",
      "    combine, intersect, setdiff, union\n",
      "\n",
      "\n",
      "The following objects are masked from ‘package:stats’:\n",
      "\n",
      "    IQR, mad, sd, var, xtabs\n",
      "\n",
      "\n",
      "The following objects are masked from ‘package:base’:\n",
      "\n",
      "    anyDuplicated, aperm, append, as.data.frame, basename, cbind,\n",
      "    colnames, dirname, do.call, duplicated, eval, evalq, Filter, Find,\n",
      "    get, grep, grepl, intersect, is.unsorted, lapply, Map, mapply,\n",
      "    match, mget, order, paste, pmax, pmax.int, pmin, pmin.int,\n",
      "    Position, rank, rbind, Reduce, rownames, sapply, setdiff, sort,\n",
      "    table, tapply, union, unique, unsplit, which.max, which.min\n",
      "\n",
      "\n",
      "Loading required package: S4Vectors\n",
      "\n",
      "Loading required package: stats4\n",
      "\n",
      "\n",
      "Attaching package: ‘S4Vectors’\n",
      "\n",
      "\n",
      "The following objects are masked from ‘package:data.table’:\n",
      "\n",
      "    first, second\n",
      "\n",
      "\n",
      "The following objects are masked from ‘package:lubridate’:\n",
      "\n",
      "    second, second<-\n",
      "\n",
      "\n",
      "The following objects are masked from ‘package:dplyr’:\n",
      "\n",
      "    first, rename\n",
      "\n",
      "\n",
      "The following object is masked from ‘package:tidyr’:\n",
      "\n",
      "    expand\n",
      "\n",
      "\n",
      "The following object is masked from ‘package:utils’:\n",
      "\n",
      "    findMatches\n",
      "\n",
      "\n",
      "The following objects are masked from ‘package:base’:\n",
      "\n",
      "    expand.grid, I, unname\n",
      "\n",
      "\n",
      "Loading required package: IRanges\n",
      "\n",
      "\n",
      "Attaching package: ‘IRanges’\n",
      "\n",
      "\n",
      "The following object is masked from ‘package:data.table’:\n",
      "\n",
      "    shift\n",
      "\n",
      "\n",
      "The following object is masked from ‘package:lubridate’:\n",
      "\n",
      "    %within%\n",
      "\n",
      "\n",
      "The following objects are masked from ‘package:dplyr’:\n",
      "\n",
      "    collapse, desc, slice\n",
      "\n",
      "\n",
      "The following object is masked from ‘package:purrr’:\n",
      "\n",
      "    reduce\n",
      "\n",
      "\n",
      "Loading required package: GenomicRanges\n",
      "\n",
      "Loading required package: GenomeInfoDb\n",
      "\n",
      "Loading required package: Biostrings\n",
      "\n",
      "Loading required package: XVector\n",
      "\n",
      "\n",
      "Attaching package: ‘XVector’\n",
      "\n",
      "\n",
      "The following object is masked from ‘package:purrr’:\n",
      "\n",
      "    compact\n",
      "\n",
      "\n",
      "\n",
      "Attaching package: ‘Biostrings’\n",
      "\n",
      "\n",
      "The following object is masked from ‘package:grid’:\n",
      "\n",
      "    pattern\n",
      "\n",
      "\n",
      "The following object is masked from ‘package:base’:\n",
      "\n",
      "    strsplit\n",
      "\n",
      "\n",
      "See system.file(\"LICENSE\", package=\"MotifDb\") for use restrictions.\n",
      "\n",
      "\n",
      "\n"
     ]
    }
   ],
   "source": [
    "# This is only needed for motif disruption plots, and only some for actual plotting\n",
    "library(motifbreakR)\n",
    "suppressPackageStartupMessages(library(MotifDb))\n",
    "suppressPackageStartupMessages(library(BSgenome))\n",
    "suppressPackageStartupMessages(library(\"BSgenome.Hsapiens.UCSC.hg38\"))\n",
    "library(parallel)\n",
    "library(qvalue)"
   ]
  },
  {
   "cell_type": "markdown",
   "id": "2770f39a",
   "metadata": {},
   "source": [
    "### Run this first"
   ]
  },
  {
   "cell_type": "code",
   "execution_count": 4,
   "id": "88ae6d0b",
   "metadata": {
    "vscode": {
     "languageId": "r"
    }
   },
   "outputs": [],
   "source": [
    "cell_types <- c('acinar','alpha','beta','bulk','delta','ductal','endothelial','gamma','immune','stellate')"
   ]
  },
  {
   "cell_type": "code",
   "execution_count": 5,
   "id": "c5f862ef",
   "metadata": {
    "vscode": {
     "languageId": "r"
    }
   },
   "outputs": [],
   "source": [
    "cell_types_tested <- c('acinar','alpha','beta','bulk','delta','ductal','gamma')"
   ]
  },
  {
   "cell_type": "code",
   "execution_count": 6,
   "id": "3e589e04",
   "metadata": {
    "vscode": {
     "languageId": "r"
    }
   },
   "outputs": [
    {
     "data": {
      "image/png": "[encoded data removed]",
      "text/plain": [
       "plot without title"
      ]
     },
     "metadata": {
      "image/png": {
       "height": 300,
       "width": 300
      }
     },
     "output_type": "display_data"
    }
   ],
   "source": [
    "major_colors = c('acinar'='#09850B', 'alpha'='#F51646', 'beta'='#3F98E0',\n",
    "                 'delta'='#FFA946', 'ductal'='#F5DE6C', 'endothelial'='#752BBA', \n",
    "                 'gamma'='#A1D99B', 'immune'='#F598C9', 'stellate'='#AB7345')\n",
    "options(repr.plot.width=5, repr.plot.height=5)\n",
    "scales::show_col(major_colors, cex_label=2)"
   ]
  },
  {
   "cell_type": "code",
   "execution_count": 7,
   "id": "b894880e",
   "metadata": {
    "vscode": {
     "languageId": "r"
    }
   },
   "outputs": [
    {
     "data": {
      "image/png": "[encoded data removed]",
      "text/plain": [
       "plot without title"
      ]
     },
     "metadata": {
      "image/png": {
       "height": 300,
       "width": 300
      }
     },
     "output_type": "display_data"
    }
   ],
   "source": [
    "major_colors_caps = c('Acinar'='#09850B', 'Alpha'='#F51646', 'Beta'='#3F98E0',\n",
    "                 'Delta'='#FFA946', 'Ductal'='#F5DE6C', 'Endothelial'='#752BBA', \n",
    "                 'Gamma'='#A1D99B', 'Immune'='#F598C9', 'Stellate'='#AB7345')\n",
    "options(repr.plot.width=5, repr.plot.height=5)\n",
    "scales::show_col(major_colors_caps, cex_label=2)"
   ]
  },
  {
   "cell_type": "code",
   "execution_count": 8,
   "id": "d8093de4",
   "metadata": {
    "vscode": {
     "languageId": "r"
    }
   },
   "outputs": [],
   "source": [
    "fig_dir <- '/path/to/caQTL/stuff/figures/'"
   ]
  },
  {
   "cell_type": "markdown",
   "id": "0aa3a0e6",
   "metadata": {},
   "source": [
    "# Lead Variant Peak Overlap"
   ]
  },
  {
   "cell_type": "code",
   "execution_count": 9,
   "id": "89ce51ae",
   "metadata": {
    "vscode": {
     "languageId": "r"
    }
   },
   "outputs": [],
   "source": [
    "intermediates.dir <- '/path/to/caQTL/stuff/figures/lead_variant_peak_overlap/'\n",
    "full_peaks <- '/path/to/peaks/recluster_final_majorCTs_v2/mergedPeak.txt'"
   ]
  },
  {
   "cell_type": "code",
   "execution_count": 9,
   "id": "fab3f521",
   "metadata": {
    "scrolled": true,
    "vscode": {
     "languageId": "r"
    }
   },
   "outputs": [
    {
     "name": "stderr",
     "output_type": "stream",
     "text": [
      "\u001b[1mRows: \u001b[22m\u001b[34m96373\u001b[39m \u001b[1mColumns: \u001b[22m\u001b[34m30\u001b[39m\n",
      "\u001b[36m──\u001b[39m \u001b[1mColumn specification\u001b[22m \u001b[36m────────────────────────────────────────────────────────────────────────────────────────────────\u001b[39m\n",
      "\u001b[1mDelimiter:\u001b[22m \"\\t\"\n",
      "\u001b[31mchr\u001b[39m  (5): Feature, rsID, Chromosome, Ref, Alt\n",
      "\u001b[32mdbl\u001b[39m (22): position, Af, HWEChi_square, IA, Log10_qval, Chi_square, Effect_si...\n",
      "\u001b[33mlgl\u001b[39m  (3): flag_fdr10, flag_fdr05, flag_fdr01\n",
      "\n",
      "\u001b[36mℹ\u001b[39m Use `spec()` to retrieve the full column specification for this data.\n",
      "\u001b[36mℹ\u001b[39m Specify the column types or set `show_col_types = FALSE` to quiet this message.\n",
      "\u001b[1m\u001b[22mJoining with `by = join_by(rsID)`\n"
     ]
    },
    {
     "name": "stdout",
     "output_type": "stream",
     "text": [
      "[1] \"acinar\"\n",
      "\n",
      "In.caQTL.Peak In.Other.Peak   Not.In.Peak \n",
      "         9572          8790         78011 \n"
     ]
    },
    {
     "name": "stderr",
     "output_type": "stream",
     "text": [
      "\u001b[1mRows: \u001b[22m\u001b[34m107935\u001b[39m \u001b[1mColumns: \u001b[22m\u001b[34m30\u001b[39m\n",
      "\u001b[36m──\u001b[39m \u001b[1mColumn specification\u001b[22m \u001b[36m────────────────────────────────────────────────────────────────────────────────────────────────\u001b[39m\n",
      "\u001b[1mDelimiter:\u001b[22m \"\\t\"\n",
      "\u001b[31mchr\u001b[39m  (5): Feature, rsID, Chromosome, Ref, Alt\n",
      "\u001b[32mdbl\u001b[39m (22): position, Af, HWEChi_square, IA, Log10_qval, Chi_square, Effect_si...\n",
      "\u001b[33mlgl\u001b[39m  (3): flag_fdr10, flag_fdr05, flag_fdr01\n",
      "\n",
      "\u001b[36mℹ\u001b[39m Use `spec()` to retrieve the full column specification for this data.\n",
      "\u001b[36mℹ\u001b[39m Specify the column types or set `show_col_types = FALSE` to quiet this message.\n",
      "\u001b[1m\u001b[22mJoining with `by = join_by(rsID)`\n"
     ]
    },
    {
     "name": "stdout",
     "output_type": "stream",
     "text": [
      "[1] \"alpha\"\n",
      "\n",
      "In.caQTL.Peak In.Other.Peak   Not.In.Peak \n",
      "        11391          9557         86987 \n"
     ]
    },
    {
     "name": "stderr",
     "output_type": "stream",
     "text": [
      "\u001b[1mRows: \u001b[22m\u001b[34m106506\u001b[39m \u001b[1mColumns: \u001b[22m\u001b[34m30\u001b[39m\n",
      "\u001b[36m──\u001b[39m \u001b[1mColumn specification\u001b[22m \u001b[36m────────────────────────────────────────────────────────────────────────────────────────────────\u001b[39m\n",
      "\u001b[1mDelimiter:\u001b[22m \"\\t\"\n",
      "\u001b[31mchr\u001b[39m  (5): Feature, rsID, Chromosome, Ref, Alt\n",
      "\u001b[32mdbl\u001b[39m (22): position, Af, HWEChi_square, IA, Log10_qval, Chi_square, Effect_si...\n",
      "\u001b[33mlgl\u001b[39m  (3): flag_fdr10, flag_fdr05, flag_fdr01\n",
      "\n",
      "\u001b[36mℹ\u001b[39m Use `spec()` to retrieve the full column specification for this data.\n",
      "\u001b[36mℹ\u001b[39m Specify the column types or set `show_col_types = FALSE` to quiet this message.\n",
      "\u001b[1m\u001b[22mJoining with `by = join_by(rsID)`\n"
     ]
    },
    {
     "name": "stdout",
     "output_type": "stream",
     "text": [
      "[1] \"beta\"\n",
      "\n",
      "In.caQTL.Peak In.Other.Peak   Not.In.Peak \n",
      "        12508          9302         84696 \n"
     ]
    },
    {
     "name": "stderr",
     "output_type": "stream",
     "text": [
      "\u001b[1mRows: \u001b[22m\u001b[34m252057\u001b[39m \u001b[1mColumns: \u001b[22m\u001b[34m30\u001b[39m\n",
      "\u001b[36m──\u001b[39m \u001b[1mColumn specification\u001b[22m \u001b[36m────────────────────────────────────────────────────────────────────────────────────────────────\u001b[39m\n",
      "\u001b[1mDelimiter:\u001b[22m \"\\t\"\n",
      "\u001b[31mchr\u001b[39m  (5): Feature, rsID, Chromosome, Ref, Alt\n",
      "\u001b[32mdbl\u001b[39m (22): position, Af, HWEChi_square, IA, Log10_qval, Chi_square, Effect_si...\n",
      "\u001b[33mlgl\u001b[39m  (3): flag_fdr10, flag_fdr05, flag_fdr01\n",
      "\n",
      "\u001b[36mℹ\u001b[39m Use `spec()` to retrieve the full column specification for this data.\n",
      "\u001b[36mℹ\u001b[39m Specify the column types or set `show_col_types = FALSE` to quiet this message.\n",
      "\u001b[1m\u001b[22mJoining with `by = join_by(rsID)`\n"
     ]
    },
    {
     "name": "stdout",
     "output_type": "stream",
     "text": [
      "[1] \"bulk\"\n",
      "\n",
      "In.caQTL.Peak In.Other.Peak   Not.In.Peak \n",
      "        22436         22523        207098 \n"
     ]
    },
    {
     "name": "stderr",
     "output_type": "stream",
     "text": [
      "\u001b[1mRows: \u001b[22m\u001b[34m79636\u001b[39m \u001b[1mColumns: \u001b[22m\u001b[34m30\u001b[39m\n",
      "\u001b[36m──\u001b[39m \u001b[1mColumn specification\u001b[22m \u001b[36m────────────────────────────────────────────────────────────────────────────────────────────────\u001b[39m\n",
      "\u001b[1mDelimiter:\u001b[22m \"\\t\"\n",
      "\u001b[31mchr\u001b[39m  (5): Feature, rsID, Chromosome, Ref, Alt\n",
      "\u001b[32mdbl\u001b[39m (22): position, Af, HWEChi_square, IA, Log10_qval, Chi_square, Effect_si...\n",
      "\u001b[33mlgl\u001b[39m  (3): flag_fdr10, flag_fdr05, flag_fdr01\n",
      "\n",
      "\u001b[36mℹ\u001b[39m Use `spec()` to retrieve the full column specification for this data.\n",
      "\u001b[36mℹ\u001b[39m Specify the column types or set `show_col_types = FALSE` to quiet this message.\n",
      "\u001b[1m\u001b[22mJoining with `by = join_by(rsID)`\n"
     ]
    },
    {
     "name": "stdout",
     "output_type": "stream",
     "text": [
      "[1] \"delta\"\n",
      "\n",
      "In.caQTL.Peak In.Other.Peak   Not.In.Peak \n",
      "         8082          7585         63969 \n"
     ]
    },
    {
     "name": "stderr",
     "output_type": "stream",
     "text": [
      "\u001b[1mRows: \u001b[22m\u001b[34m49135\u001b[39m \u001b[1mColumns: \u001b[22m\u001b[34m30\u001b[39m\n",
      "\u001b[36m──\u001b[39m \u001b[1mColumn specification\u001b[22m \u001b[36m────────────────────────────────────────────────────────────────────────────────────────────────\u001b[39m\n",
      "\u001b[1mDelimiter:\u001b[22m \"\\t\"\n",
      "\u001b[31mchr\u001b[39m  (5): Feature, rsID, Chromosome, Ref, Alt\n",
      "\u001b[32mdbl\u001b[39m (22): position, Af, HWEChi_square, IA, Log10_qval, Chi_square, Effect_si...\n",
      "\u001b[33mlgl\u001b[39m  (3): flag_fdr10, flag_fdr05, flag_fdr01\n",
      "\n",
      "\u001b[36mℹ\u001b[39m Use `spec()` to retrieve the full column specification for this data.\n",
      "\u001b[36mℹ\u001b[39m Specify the column types or set `show_col_types = FALSE` to quiet this message.\n",
      "\u001b[1m\u001b[22mJoining with `by = join_by(rsID)`\n"
     ]
    },
    {
     "name": "stdout",
     "output_type": "stream",
     "text": [
      "[1] \"ductal\"\n",
      "\n",
      "In.caQTL.Peak In.Other.Peak   Not.In.Peak \n",
      "         5073          4769         39293 \n"
     ]
    },
    {
     "name": "stderr",
     "output_type": "stream",
     "text": [
      "\u001b[1mRows: \u001b[22m\u001b[34m60138\u001b[39m \u001b[1mColumns: \u001b[22m\u001b[34m30\u001b[39m\n",
      "\u001b[36m──\u001b[39m \u001b[1mColumn specification\u001b[22m \u001b[36m────────────────────────────────────────────────────────────────────────────────────────────────\u001b[39m\n",
      "\u001b[1mDelimiter:\u001b[22m \"\\t\"\n",
      "\u001b[31mchr\u001b[39m  (5): Feature, rsID, Chromosome, Ref, Alt\n",
      "\u001b[32mdbl\u001b[39m (22): position, Af, HWEChi_square, IA, Log10_qval, Chi_square, Effect_si...\n",
      "\u001b[33mlgl\u001b[39m  (3): flag_fdr10, flag_fdr05, flag_fdr01\n",
      "\n",
      "\u001b[36mℹ\u001b[39m Use `spec()` to retrieve the full column specification for this data.\n",
      "\u001b[36mℹ\u001b[39m Specify the column types or set `show_col_types = FALSE` to quiet this message.\n",
      "\u001b[1m\u001b[22mJoining with `by = join_by(rsID)`\n"
     ]
    },
    {
     "name": "stdout",
     "output_type": "stream",
     "text": [
      "[1] \"gamma\"\n",
      "\n",
      "In.caQTL.Peak In.Other.Peak   Not.In.Peak \n",
      "         6297          5844         47997 \n"
     ]
    },
    {
     "data": {
      "text/html": [
       "<table class=\"dataframe\">\n",
       "<caption>A tibble: 7 × 4</caption>\n",
       "<thead>\n",
       "\t<tr><th scope=col>In.caQTL.Peak</th><th scope=col>In.Other.Peak</th><th scope=col>Not.In.Peak</th><th scope=col>cell</th></tr>\n",
       "\t<tr><th scope=col>&lt;int&gt;</th><th scope=col>&lt;int&gt;</th><th scope=col>&lt;int&gt;</th><th scope=col>&lt;chr&gt;</th></tr>\n",
       "</thead>\n",
       "<tbody>\n",
       "\t<tr><td> 9572</td><td> 8790</td><td> 78011</td><td>acinar</td></tr>\n",
       "\t<tr><td>11391</td><td> 9557</td><td> 86987</td><td>alpha </td></tr>\n",
       "\t<tr><td>12508</td><td> 9302</td><td> 84696</td><td>beta  </td></tr>\n",
       "\t<tr><td>22436</td><td>22523</td><td>207098</td><td>bulk  </td></tr>\n",
       "\t<tr><td> 8082</td><td> 7585</td><td> 63969</td><td>delta </td></tr>\n",
       "\t<tr><td> 5073</td><td> 4769</td><td> 39293</td><td>ductal</td></tr>\n",
       "\t<tr><td> 6297</td><td> 5844</td><td> 47997</td><td>gamma </td></tr>\n",
       "</tbody>\n",
       "</table>\n"
      ],
      "text/latex": [
       "A tibble: 7 × 4\n",
       "\\begin{tabular}{llll}\n",
       " In.caQTL.Peak & In.Other.Peak & Not.In.Peak & cell\\\\\n",
       " <int> & <int> & <int> & <chr>\\\\\n",
       "\\hline\n",
       "\t  9572 &  8790 &  78011 & acinar\\\\\n",
       "\t 11391 &  9557 &  86987 & alpha \\\\\n",
       "\t 12508 &  9302 &  84696 & beta  \\\\\n",
       "\t 22436 & 22523 & 207098 & bulk  \\\\\n",
       "\t  8082 &  7585 &  63969 & delta \\\\\n",
       "\t  5073 &  4769 &  39293 & ductal\\\\\n",
       "\t  6297 &  5844 &  47997 & gamma \\\\\n",
       "\\end{tabular}\n"
      ],
      "text/markdown": [
       "\n",
       "A tibble: 7 × 4\n",
       "\n",
       "| In.caQTL.Peak &lt;int&gt; | In.Other.Peak &lt;int&gt; | Not.In.Peak &lt;int&gt; | cell &lt;chr&gt; |\n",
       "|---|---|---|---|\n",
       "|  9572 |  8790 |  78011 | acinar |\n",
       "| 11391 |  9557 |  86987 | alpha  |\n",
       "| 12508 |  9302 |  84696 | beta   |\n",
       "| 22436 | 22523 | 207098 | bulk   |\n",
       "|  8082 |  7585 |  63969 | delta  |\n",
       "|  5073 |  4769 |  39293 | ductal |\n",
       "|  6297 |  5844 |  47997 | gamma  |\n",
       "\n"
      ],
      "text/plain": [
       "  In.caQTL.Peak In.Other.Peak Not.In.Peak cell  \n",
       "1  9572          8790          78011      acinar\n",
       "2 11391          9557          86987      alpha \n",
       "3 12508          9302          84696      beta  \n",
       "4 22436         22523         207098      bulk  \n",
       "5  8082          7585          63969      delta \n",
       "6  5073          4769          39293      ductal\n",
       "7  6297          5844          47997      gamma "
      ]
     },
     "metadata": {},
     "output_type": "display_data"
    }
   ],
   "source": [
    "# Intersect lead variants with peaks and add to caQTL summary stats\n",
    "\n",
    "summarised_data <- data.frame()\n",
    "for (c in cell_types_tested) {\n",
    "    leads <- vroom(paste0('/path/to/caQTL/stuff/caQTLs_rasqual/',c,'/run1/Results_run1F_lead.tsv'))\n",
    "    #leads <- filter(leads, flag_fdr05)\n",
    "    \n",
    "    snp.bed <- data.frame(str_split(leads$rsID, \":\", simplify=T)[,1:2])\n",
    "    colnames(snp.bed) <- c('Chromosome','Start')\n",
    "    snp.bed$Start <- as.numeric(snp.bed$Start)\n",
    "    snp.bed$End <- snp.bed$Start\n",
    "    snp.bed$Start <- snp.bed$Start - 1\n",
    "    snp.bed$rsID <- leads$rsID\n",
    "    snp.bed <- distinct(snp.bed)\n",
    "    \n",
    "    write.table(snp.bed, paste0(intermediates.dir, c, '_lead_variants.bed'), quote=F, row.names=F, col.names=F, sep='\\t')\n",
    "    \n",
    "    system(paste0(\"bedtools intersect -a \", intermediates.dir,\n",
    "                  c, '_lead_variants.bed -b ', full_peaks,\n",
    "              ' -wa -wb -loj > ', intermediates.dir, c, '_lead_intersected_variants.bed'))\n",
    "    \n",
    "    intersect <- read.table(paste0( intermediates.dir, c, '_lead_intersected_variants.bed'),\n",
    "           sep='\\t', header=F, col.names=c('Variant.Chr','Variant.Start','Variant.Pos', 'rsID','Peak.Chr','Peak.Start','Peak.End'))\n",
    "    intersect$In.Feature <- paste0(intersect$Peak.Chr, \":\", intersect$Peak.Start, \"-\", intersect$Peak.End)\n",
    "    intersect[intersect$Peak.Start == -1,]$In.Feature <- NA\n",
    "    intersect <- select(intersect, rsID, In.Feature)\n",
    "    \n",
    "    leads.intersect <- left_join(leads, intersect)\n",
    "    leads.intersect$Peak.Intersect.State <- \"In.Other.Peak\"\n",
    "    leads.intersect[is.na(leads.intersect$In.Feature),]$Peak.Intersect.State <- 'Not.In.Peak'\n",
    "    leads.intersect[!is.na(leads.intersect$In.Feature),][(leads.intersect[!is.na(leads.intersect$In.Feature),]$Feature == leads.intersect[!is.na(leads.intersect$In.Feature),]$In.Feature),]$Peak.Intersect.State <- 'In.caQTL.Peak'\n",
    "    \n",
    "    write.table(leads.intersect, paste0(intermediates.dir, c, '_lead_sum_stats_run1F_intersect_flag.tsv'), \n",
    "                quote=F, row.names=F, col.names=T, sep='\\t')\n",
    "    \n",
    "    ct_count <- pivot_wider(data.frame(table(leads.intersect$Peak.Intersect.State)), values_from = Freq, names_from = Var1)\n",
    "    ct_count <- select(ct_count, In.caQTL.Peak, In.Other.Peak, Not.In.Peak)\n",
    "    ct_count$cell <- c\n",
    "\n",
    "    summarised_data <- rbind(summarised_data, ct_count)\n",
    "    \n",
    "    print(c)\n",
    "    print(table(leads.intersect$Peak.Intersect.State))\n",
    "}\n",
    "\n",
    "summarised_data\n",
    "\n",
    "write.table(summarised_data, paste0(intermediates.dir, 'run1F_lead_intersect_flag_counts_by_ct.tsv'), \n",
    "                quote=F, row.names=F, col.names=T, sep='\\t')"
   ]
  },
  {
   "cell_type": "code",
   "execution_count": 10,
   "id": "79ff0c47",
   "metadata": {
    "scrolled": true,
    "vscode": {
     "languageId": "r"
    }
   },
   "outputs": [
    {
     "name": "stderr",
     "output_type": "stream",
     "text": [
      "\u001b[1mRows: \u001b[22m\u001b[34m4388313\u001b[39m \u001b[1mColumns: \u001b[22m\u001b[34m30\u001b[39m\n",
      "\u001b[36m──\u001b[39m \u001b[1mColumn specification\u001b[22m \u001b[36m────────────────────────────────────────────────────────────────────────────────────────────────\u001b[39m\n",
      "\u001b[1mDelimiter:\u001b[22m \"\\t\"\n",
      "\u001b[31mchr\u001b[39m  (5): Feature, rsID, Chromosome, Ref, Alt\n",
      "\u001b[32mdbl\u001b[39m (22): position, Af, HWEChi_square, IA, Log10_qval, Chi_square, Effect_si...\n",
      "\u001b[33mlgl\u001b[39m  (3): flag_fdr10, flag_fdr05, flag_fdr01\n",
      "\n",
      "\u001b[36mℹ\u001b[39m Use `spec()` to retrieve the full column specification for this data.\n",
      "\u001b[36mℹ\u001b[39m Specify the column types or set `show_col_types = FALSE` to quiet this message.\n",
      "\u001b[1m\u001b[22mJoining with `by = join_by(rsID)`\n"
     ]
    },
    {
     "name": "stdout",
     "output_type": "stream",
     "text": [
      "[1] \"acinar\"\n",
      "\n",
      "In.caQTL.Peak In.Other.Peak   Not.In.Peak \n",
      "       183100        395319       3809894 \n"
     ]
    },
    {
     "name": "stderr",
     "output_type": "stream",
     "text": [
      "\u001b[1mRows: \u001b[22m\u001b[34m4863251\u001b[39m \u001b[1mColumns: \u001b[22m\u001b[34m30\u001b[39m\n",
      "\u001b[36m──\u001b[39m \u001b[1mColumn specification\u001b[22m \u001b[36m────────────────────────────────────────────────────────────────────────────────────────────────\u001b[39m\n",
      "\u001b[1mDelimiter:\u001b[22m \"\\t\"\n",
      "\u001b[31mchr\u001b[39m  (5): Feature, rsID, Chromosome, Ref, Alt\n",
      "\u001b[32mdbl\u001b[39m (22): position, Af, HWEChi_square, IA, Log10_qval, Chi_square, Effect_si...\n",
      "\u001b[33mlgl\u001b[39m  (3): flag_fdr10, flag_fdr05, flag_fdr01\n",
      "\n",
      "\u001b[36mℹ\u001b[39m Use `spec()` to retrieve the full column specification for this data.\n",
      "\u001b[36mℹ\u001b[39m Specify the column types or set `show_col_types = FALSE` to quiet this message.\n",
      "\u001b[1m\u001b[22mJoining with `by = join_by(rsID)`\n"
     ]
    },
    {
     "name": "stdout",
     "output_type": "stream",
     "text": [
      "[1] \"alpha\"\n",
      "\n",
      "In.caQTL.Peak In.Other.Peak   Not.In.Peak \n",
      "       200523        432637       4230091 \n"
     ]
    },
    {
     "name": "stderr",
     "output_type": "stream",
     "text": [
      "\u001b[1mRows: \u001b[22m\u001b[34m4797279\u001b[39m \u001b[1mColumns: \u001b[22m\u001b[34m30\u001b[39m\n",
      "\u001b[36m──\u001b[39m \u001b[1mColumn specification\u001b[22m \u001b[36m────────────────────────────────────────────────────────────────────────────────────────────────\u001b[39m\n",
      "\u001b[1mDelimiter:\u001b[22m \"\\t\"\n",
      "\u001b[31mchr\u001b[39m  (5): Feature, rsID, Chromosome, Ref, Alt\n",
      "\u001b[32mdbl\u001b[39m (22): position, Af, HWEChi_square, IA, Log10_qval, Chi_square, Effect_si...\n",
      "\u001b[33mlgl\u001b[39m  (3): flag_fdr10, flag_fdr05, flag_fdr01\n",
      "\n",
      "\u001b[36mℹ\u001b[39m Use `spec()` to retrieve the full column specification for this data.\n",
      "\u001b[36mℹ\u001b[39m Specify the column types or set `show_col_types = FALSE` to quiet this message.\n",
      "\u001b[1m\u001b[22mJoining with `by = join_by(rsID)`\n"
     ]
    },
    {
     "name": "stdout",
     "output_type": "stream",
     "text": [
      "[1] \"beta\"\n",
      "\n",
      "In.caQTL.Peak In.Other.Peak   Not.In.Peak \n",
      "       197631        419308       4180340 \n"
     ]
    },
    {
     "name": "stderr",
     "output_type": "stream",
     "text": [
      "\u001b[1mRows: \u001b[22m\u001b[34m11523909\u001b[39m \u001b[1mColumns: \u001b[22m\u001b[34m30\u001b[39m\n",
      "\u001b[36m──\u001b[39m \u001b[1mColumn specification\u001b[22m \u001b[36m────────────────────────────────────────────────────────────────────────────────────────────────\u001b[39m\n",
      "\u001b[1mDelimiter:\u001b[22m \"\\t\"\n",
      "\u001b[31mchr\u001b[39m  (5): Feature, rsID, Chromosome, Ref, Alt\n",
      "\u001b[32mdbl\u001b[39m (22): position, Af, HWEChi_square, IA, Log10_qval, Chi_square, Effect_si...\n",
      "\u001b[33mlgl\u001b[39m  (3): flag_fdr10, flag_fdr05, flag_fdr01\n",
      "\n",
      "\u001b[36mℹ\u001b[39m Use `spec()` to retrieve the full column specification for this data.\n",
      "\u001b[36mℹ\u001b[39m Specify the column types or set `show_col_types = FALSE` to quiet this message.\n",
      "\u001b[1m\u001b[22mJoining with `by = join_by(rsID)`\n"
     ]
    },
    {
     "name": "stdout",
     "output_type": "stream",
     "text": [
      "[1] \"bulk\"\n",
      "\n",
      "In.caQTL.Peak In.Other.Peak   Not.In.Peak \n",
      "       349079       1004419      10170411 \n"
     ]
    },
    {
     "name": "stderr",
     "output_type": "stream",
     "text": [
      "\u001b[1mRows: \u001b[22m\u001b[34m3556559\u001b[39m \u001b[1mColumns: \u001b[22m\u001b[34m30\u001b[39m\n",
      "\u001b[36m──\u001b[39m \u001b[1mColumn specification\u001b[22m \u001b[36m────────────────────────────────────────────────────────────────────────────────────────────────\u001b[39m\n",
      "\u001b[1mDelimiter:\u001b[22m \"\\t\"\n",
      "\u001b[31mchr\u001b[39m  (5): Feature, rsID, Chromosome, Ref, Alt\n",
      "\u001b[32mdbl\u001b[39m (22): position, Af, HWEChi_square, IA, Log10_qval, Chi_square, Effect_si...\n",
      "\u001b[33mlgl\u001b[39m  (3): flag_fdr10, flag_fdr05, flag_fdr01\n",
      "\n",
      "\u001b[36mℹ\u001b[39m Use `spec()` to retrieve the full column specification for this data.\n",
      "\u001b[36mℹ\u001b[39m Specify the column types or set `show_col_types = FALSE` to quiet this message.\n",
      "\u001b[1m\u001b[22mJoining with `by = join_by(rsID)`\n"
     ]
    },
    {
     "name": "stdout",
     "output_type": "stream",
     "text": [
      "[1] \"delta\"\n",
      "\n",
      "In.caQTL.Peak In.Other.Peak   Not.In.Peak \n",
      "       171763        331519       3053277 \n"
     ]
    },
    {
     "name": "stderr",
     "output_type": "stream",
     "text": [
      "\u001b[1mRows: \u001b[22m\u001b[34m2238072\u001b[39m \u001b[1mColumns: \u001b[22m\u001b[34m30\u001b[39m\n",
      "\u001b[36m──\u001b[39m \u001b[1mColumn specification\u001b[22m \u001b[36m────────────────────────────────────────────────────────────────────────────────────────────────\u001b[39m\n",
      "\u001b[1mDelimiter:\u001b[22m \"\\t\"\n",
      "\u001b[31mchr\u001b[39m  (5): Feature, rsID, Chromosome, Ref, Alt\n",
      "\u001b[32mdbl\u001b[39m (22): position, Af, HWEChi_square, IA, Log10_qval, Chi_square, Effect_si...\n",
      "\u001b[33mlgl\u001b[39m  (3): flag_fdr10, flag_fdr05, flag_fdr01\n",
      "\n",
      "\u001b[36mℹ\u001b[39m Use `spec()` to retrieve the full column specification for this data.\n",
      "\u001b[36mℹ\u001b[39m Specify the column types or set `show_col_types = FALSE` to quiet this message.\n",
      "\u001b[1m\u001b[22mJoining with `by = join_by(rsID)`\n"
     ]
    },
    {
     "name": "stdout",
     "output_type": "stream",
     "text": [
      "[1] \"ductal\"\n",
      "\n",
      "In.caQTL.Peak In.Other.Peak   Not.In.Peak \n",
      "       119248        218942       1899882 \n"
     ]
    },
    {
     "name": "stderr",
     "output_type": "stream",
     "text": [
      "\u001b[1mRows: \u001b[22m\u001b[34m2665243\u001b[39m \u001b[1mColumns: \u001b[22m\u001b[34m30\u001b[39m\n",
      "\u001b[36m──\u001b[39m \u001b[1mColumn specification\u001b[22m \u001b[36m────────────────────────────────────────────────────────────────────────────────────────────────\u001b[39m\n",
      "\u001b[1mDelimiter:\u001b[22m \"\\t\"\n",
      "\u001b[31mchr\u001b[39m  (5): Feature, rsID, Chromosome, Ref, Alt\n",
      "\u001b[32mdbl\u001b[39m (22): position, Af, HWEChi_square, IA, Log10_qval, Chi_square, Effect_si...\n",
      "\u001b[33mlgl\u001b[39m  (3): flag_fdr10, flag_fdr05, flag_fdr01\n",
      "\n",
      "\u001b[36mℹ\u001b[39m Use `spec()` to retrieve the full column specification for this data.\n",
      "\u001b[36mℹ\u001b[39m Specify the column types or set `show_col_types = FALSE` to quiet this message.\n",
      "\u001b[1m\u001b[22mJoining with `by = join_by(rsID)`\n"
     ]
    },
    {
     "name": "stdout",
     "output_type": "stream",
     "text": [
      "[1] \"gamma\"\n",
      "\n",
      "In.caQTL.Peak In.Other.Peak   Not.In.Peak \n",
      "       140024        257914       2267305 \n"
     ]
    },
    {
     "data": {
      "text/html": [
       "<table class=\"dataframe\">\n",
       "<caption>A tibble: 7 × 4</caption>\n",
       "<thead>\n",
       "\t<tr><th scope=col>In.caQTL.Peak</th><th scope=col>In.Other.Peak</th><th scope=col>Not.In.Peak</th><th scope=col>cell</th></tr>\n",
       "\t<tr><th scope=col>&lt;int&gt;</th><th scope=col>&lt;int&gt;</th><th scope=col>&lt;int&gt;</th><th scope=col>&lt;chr&gt;</th></tr>\n",
       "</thead>\n",
       "<tbody>\n",
       "\t<tr><td>183100</td><td> 395319</td><td> 3809894</td><td>acinar</td></tr>\n",
       "\t<tr><td>200523</td><td> 432637</td><td> 4230091</td><td>alpha </td></tr>\n",
       "\t<tr><td>197631</td><td> 419308</td><td> 4180340</td><td>beta  </td></tr>\n",
       "\t<tr><td>349079</td><td>1004419</td><td>10170411</td><td>bulk  </td></tr>\n",
       "\t<tr><td>171763</td><td> 331519</td><td> 3053277</td><td>delta </td></tr>\n",
       "\t<tr><td>119248</td><td> 218942</td><td> 1899882</td><td>ductal</td></tr>\n",
       "\t<tr><td>140024</td><td> 257914</td><td> 2267305</td><td>gamma </td></tr>\n",
       "</tbody>\n",
       "</table>\n"
      ],
      "text/latex": [
       "A tibble: 7 × 4\n",
       "\\begin{tabular}{llll}\n",
       " In.caQTL.Peak & In.Other.Peak & Not.In.Peak & cell\\\\\n",
       " <int> & <int> & <int> & <chr>\\\\\n",
       "\\hline\n",
       "\t 183100 &  395319 &  3809894 & acinar\\\\\n",
       "\t 200523 &  432637 &  4230091 & alpha \\\\\n",
       "\t 197631 &  419308 &  4180340 & beta  \\\\\n",
       "\t 349079 & 1004419 & 10170411 & bulk  \\\\\n",
       "\t 171763 &  331519 &  3053277 & delta \\\\\n",
       "\t 119248 &  218942 &  1899882 & ductal\\\\\n",
       "\t 140024 &  257914 &  2267305 & gamma \\\\\n",
       "\\end{tabular}\n"
      ],
      "text/markdown": [
       "\n",
       "A tibble: 7 × 4\n",
       "\n",
       "| In.caQTL.Peak &lt;int&gt; | In.Other.Peak &lt;int&gt; | Not.In.Peak &lt;int&gt; | cell &lt;chr&gt; |\n",
       "|---|---|---|---|\n",
       "| 183100 |  395319 |  3809894 | acinar |\n",
       "| 200523 |  432637 |  4230091 | alpha  |\n",
       "| 197631 |  419308 |  4180340 | beta   |\n",
       "| 349079 | 1004419 | 10170411 | bulk   |\n",
       "| 171763 |  331519 |  3053277 | delta  |\n",
       "| 119248 |  218942 |  1899882 | ductal |\n",
       "| 140024 |  257914 |  2267305 | gamma  |\n",
       "\n"
      ],
      "text/plain": [
       "  In.caQTL.Peak In.Other.Peak Not.In.Peak cell  \n",
       "1 183100         395319        3809894    acinar\n",
       "2 200523         432637        4230091    alpha \n",
       "3 197631         419308        4180340    beta  \n",
       "4 349079        1004419       10170411    bulk  \n",
       "5 171763         331519        3053277    delta \n",
       "6 119248         218942        1899882    ductal\n",
       "7 140024         257914        2267305    gamma "
      ]
     },
     "metadata": {},
     "output_type": "display_data"
    }
   ],
   "source": [
    "# Intersect all variants with peaks and add to caQTL summary stats\n",
    "summarised_data <- data.frame()\n",
    "for (c in cell_types_tested) {\n",
    "    all <- vroom(paste0('/path/to/caQTL/stuff/caQTLs_rasqual/',c,'/run1/Results_run1F_all.tsv'))\n",
    "    #all <- filter(all, flag_fdr05)\n",
    "    \n",
    "    snp.bed <- data.frame(str_split(all$rsID, \":\", simplify=T)[,1:2])\n",
    "    colnames(snp.bed) <- c('Chromosome','Start')\n",
    "    snp.bed$Start <- as.numeric(snp.bed$Start)\n",
    "    snp.bed$End <- snp.bed$Start\n",
    "    snp.bed$Start <- snp.bed$Start - 1\n",
    "    snp.bed$rsID <- all$rsID\n",
    "    snp.bed <- distinct(snp.bed)\n",
    "    \n",
    "    write.table(snp.bed, paste0(intermediates.dir, c, '_all_variants.bed'), quote=F, row.names=F, col.names=F, sep='\\t')\n",
    "    \n",
    "    system(paste0(\"bedtools intersect -a \", intermediates.dir,\n",
    "                  c, '_all_variants.bed -b ', full_peaks,\n",
    "              ' -wa -wb -loj > ', intermediates.dir, c, '_all_intersected_variants.bed'))\n",
    "    \n",
    "    intersect <- read.table(paste0( intermediates.dir, c, '_all_intersected_variants.bed'),\n",
    "           sep='\\t', header=F, col.names=c('Variant.Chr','Variant.Start','Variant.Pos', 'rsID','Peak.Chr','Peak.Start','Peak.End'))\n",
    "    intersect$In.Feature <- paste0(intersect$Peak.Chr, \":\", intersect$Peak.Start, \"-\", intersect$Peak.End)\n",
    "    intersect[intersect$Peak.Start == -1,]$In.Feature <- NA\n",
    "    intersect <- select(intersect, rsID, In.Feature)\n",
    "    \n",
    "    all.intersect <- left_join(all, intersect)\n",
    "    all.intersect$Peak.Intersect.State <- \"In.Other.Peak\"\n",
    "    all.intersect[is.na(all.intersect$In.Feature),]$Peak.Intersect.State <- 'Not.In.Peak'\n",
    "    all.intersect[!is.na(all.intersect$In.Feature),][(all.intersect[!is.na(all.intersect$In.Feature),]$Feature == all.intersect[!is.na(all.intersect$In.Feature),]$In.Feature),]$Peak.Intersect.State <- 'In.caQTL.Peak'\n",
    "    \n",
    "    write.table(all.intersect, paste0(intermediates.dir, c, '_all_sum_stats_run1F_intersect_flag.tsv'), \n",
    "                quote=F, row.names=F, col.names=T, sep='\\t')\n",
    "    \n",
    "    ct_count <- pivot_wider(data.frame(table(all.intersect$Peak.Intersect.State)), values_from = Freq, names_from = Var1)\n",
    "    ct_count <- select(ct_count, In.caQTL.Peak, In.Other.Peak, Not.In.Peak)\n",
    "    ct_count$cell <- c\n",
    "\n",
    "    summarised_data <- rbind(summarised_data, ct_count)\n",
    "    \n",
    "    print(c)\n",
    "    print(table(all.intersect$Peak.Intersect.State))\n",
    "}\n",
    "\n",
    "summarised_data\n",
    "\n",
    "write.table(summarised_data, paste0(intermediates.dir, 'run1F_all_intersect_flag_counts_by_ct.tsv'), \n",
    "                quote=F, row.names=F, col.names=T, sep='\\t')"
   ]
  },
  {
   "cell_type": "code",
   "execution_count": null,
   "id": "346e7bcf",
   "metadata": {
    "vscode": {
     "languageId": "r"
    }
   },
   "outputs": [],
   "source": []
  },
  {
   "cell_type": "code",
   "execution_count": 109,
   "id": "204413fb",
   "metadata": {
    "scrolled": true,
    "vscode": {
     "languageId": "r"
    }
   },
   "outputs": [
    {
     "name": "stderr",
     "output_type": "stream",
     "text": [
      "\u001b[1mRows: \u001b[22m\u001b[34m4388313\u001b[39m \u001b[1mColumns: \u001b[22m\u001b[34m32\u001b[39m\n",
      "\u001b[36m──\u001b[39m \u001b[1mColumn specification\u001b[22m \u001b[36m────────────────────────────────────────────────────────────────────────────────────────────────\u001b[39m\n",
      "\u001b[1mDelimiter:\u001b[22m \"\\t\"\n",
      "\u001b[31mchr\u001b[39m  (7): Feature, rsID, Chromosome, Ref, Alt, In.Feature, Peak.Intersect.State\n",
      "\u001b[32mdbl\u001b[39m (22): position, Af, HWEChi_square, IA, Log10_qval, Chi_square, Effect_si...\n",
      "\u001b[33mlgl\u001b[39m  (3): flag_fdr10, flag_fdr05, flag_fdr01\n",
      "\n",
      "\u001b[36mℹ\u001b[39m Use `spec()` to retrieve the full column specification for this data.\n",
      "\u001b[36mℹ\u001b[39m Specify the column types or set `show_col_types = FALSE` to quiet this message.\n",
      "\u001b[1mRows: \u001b[22m\u001b[34m96373\u001b[39m \u001b[1mColumns: \u001b[22m\u001b[34m32\u001b[39m\n",
      "\u001b[36m──\u001b[39m \u001b[1mColumn specification\u001b[22m \u001b[36m────────────────────────────────────────────────────────────────────────────────────────────────\u001b[39m\n",
      "\u001b[1mDelimiter:\u001b[22m \"\\t\"\n",
      "\u001b[31mchr\u001b[39m  (7): Feature, rsID, Chromosome, Ref, Alt, In.Feature, Peak.Intersect.State\n",
      "\u001b[32mdbl\u001b[39m (22): position, Af, HWEChi_square, IA, Log10_qval, Chi_square, Effect_si...\n",
      "\u001b[33mlgl\u001b[39m  (3): flag_fdr10, flag_fdr05, flag_fdr01\n",
      "\n",
      "\u001b[36mℹ\u001b[39m Use `spec()` to retrieve the full column specification for this data.\n",
      "\u001b[36mℹ\u001b[39m Specify the column types or set `show_col_types = FALSE` to quiet this message.\n"
     ]
    },
    {
     "name": "stdout",
     "output_type": "stream",
     "text": [
      "[1] \"acinar\"\n",
      "              flag_InPeak\n",
      "flag_NotInPeak FALSE TRUE\n",
      "         FALSE   126 1876\n",
      "         TRUE    142    0\n",
      "              flag_InPeak\n",
      "flag_NotInPeak FALSE TRUE\n",
      "         FALSE   137  878\n",
      "         TRUE   1129    0\n"
     ]
    },
    {
     "name": "stderr",
     "output_type": "stream",
     "text": [
      "\u001b[1mRows: \u001b[22m\u001b[34m4863251\u001b[39m \u001b[1mColumns: \u001b[22m\u001b[34m32\u001b[39m\n",
      "\u001b[36m──\u001b[39m \u001b[1mColumn specification\u001b[22m \u001b[36m────────────────────────────────────────────────────────────────────────────────────────────────\u001b[39m\n",
      "\u001b[1mDelimiter:\u001b[22m \"\\t\"\n",
      "\u001b[31mchr\u001b[39m  (7): Feature, rsID, Chromosome, Ref, Alt, In.Feature, Peak.Intersect.State\n",
      "\u001b[32mdbl\u001b[39m (22): position, Af, HWEChi_square, IA, Log10_qval, Chi_square, Effect_si...\n",
      "\u001b[33mlgl\u001b[39m  (3): flag_fdr10, flag_fdr05, flag_fdr01\n",
      "\n",
      "\u001b[36mℹ\u001b[39m Use `spec()` to retrieve the full column specification for this data.\n",
      "\u001b[36mℹ\u001b[39m Specify the column types or set `show_col_types = FALSE` to quiet this message.\n",
      "\u001b[1mRows: \u001b[22m\u001b[34m107935\u001b[39m \u001b[1mColumns: \u001b[22m\u001b[34m32\u001b[39m\n",
      "\u001b[36m──\u001b[39m \u001b[1mColumn specification\u001b[22m \u001b[36m────────────────────────────────────────────────────────────────────────────────────────────────\u001b[39m\n",
      "\u001b[1mDelimiter:\u001b[22m \"\\t\"\n",
      "\u001b[31mchr\u001b[39m  (7): Feature, rsID, Chromosome, Ref, Alt, In.Feature, Peak.Intersect.State\n",
      "\u001b[32mdbl\u001b[39m (22): position, Af, HWEChi_square, IA, Log10_qval, Chi_square, Effect_si...\n",
      "\u001b[33mlgl\u001b[39m  (3): flag_fdr10, flag_fdr05, flag_fdr01\n",
      "\n",
      "\u001b[36mℹ\u001b[39m Use `spec()` to retrieve the full column specification for this data.\n",
      "\u001b[36mℹ\u001b[39m Specify the column types or set `show_col_types = FALSE` to quiet this message.\n"
     ]
    },
    {
     "name": "stdout",
     "output_type": "stream",
     "text": [
      "[1] \"alpha\"\n",
      "              flag_InPeak\n",
      "flag_NotInPeak FALSE TRUE\n",
      "         FALSE   273 3646\n",
      "         TRUE    299    0\n",
      "              flag_InPeak\n",
      "flag_NotInPeak FALSE TRUE\n",
      "         FALSE   262 1751\n",
      "         TRUE   2205    0\n"
     ]
    },
    {
     "name": "stderr",
     "output_type": "stream",
     "text": [
      "\u001b[1mRows: \u001b[22m\u001b[34m4797279\u001b[39m \u001b[1mColumns: \u001b[22m\u001b[34m32\u001b[39m\n",
      "\u001b[36m──\u001b[39m \u001b[1mColumn specification\u001b[22m \u001b[36m────────────────────────────────────────────────────────────────────────────────────────────────\u001b[39m\n",
      "\u001b[1mDelimiter:\u001b[22m \"\\t\"\n",
      "\u001b[31mchr\u001b[39m  (7): Feature, rsID, Chromosome, Ref, Alt, In.Feature, Peak.Intersect.State\n",
      "\u001b[32mdbl\u001b[39m (22): position, Af, HWEChi_square, IA, Log10_qval, Chi_square, Effect_si...\n",
      "\u001b[33mlgl\u001b[39m  (3): flag_fdr10, flag_fdr05, flag_fdr01\n",
      "\n",
      "\u001b[36mℹ\u001b[39m Use `spec()` to retrieve the full column specification for this data.\n",
      "\u001b[36mℹ\u001b[39m Specify the column types or set `show_col_types = FALSE` to quiet this message.\n",
      "\u001b[1mRows: \u001b[22m\u001b[34m106506\u001b[39m \u001b[1mColumns: \u001b[22m\u001b[34m32\u001b[39m\n",
      "\u001b[36m──\u001b[39m \u001b[1mColumn specification\u001b[22m \u001b[36m────────────────────────────────────────────────────────────────────────────────────────────────\u001b[39m\n",
      "\u001b[1mDelimiter:\u001b[22m \"\\t\"\n",
      "\u001b[31mchr\u001b[39m  (7): Feature, rsID, Chromosome, Ref, Alt, In.Feature, Peak.Intersect.State\n",
      "\u001b[32mdbl\u001b[39m (22): position, Af, HWEChi_square, IA, Log10_qval, Chi_square, Effect_si...\n",
      "\u001b[33mlgl\u001b[39m  (3): flag_fdr10, flag_fdr05, flag_fdr01\n",
      "\n",
      "\u001b[36mℹ\u001b[39m Use `spec()` to retrieve the full column specification for this data.\n",
      "\u001b[36mℹ\u001b[39m Specify the column types or set `show_col_types = FALSE` to quiet this message.\n"
     ]
    },
    {
     "name": "stdout",
     "output_type": "stream",
     "text": [
      "[1] \"beta\"\n",
      "              flag_InPeak\n",
      "flag_NotInPeak FALSE TRUE\n",
      "         FALSE   381 5148\n",
      "         TRUE    403    0\n",
      "              flag_InPeak\n",
      "flag_NotInPeak FALSE TRUE\n",
      "         FALSE   343 2563\n",
      "         TRUE   3026    0\n"
     ]
    },
    {
     "name": "stderr",
     "output_type": "stream",
     "text": [
      "\u001b[1mRows: \u001b[22m\u001b[34m11523909\u001b[39m \u001b[1mColumns: \u001b[22m\u001b[34m32\u001b[39m\n",
      "\u001b[36m──\u001b[39m \u001b[1mColumn specification\u001b[22m \u001b[36m────────────────────────────────────────────────────────────────────────────────────────────────\u001b[39m\n",
      "\u001b[1mDelimiter:\u001b[22m \"\\t\"\n",
      "\u001b[31mchr\u001b[39m  (7): Feature, rsID, Chromosome, Ref, Alt, In.Feature, Peak.Intersect.State\n",
      "\u001b[32mdbl\u001b[39m (22): position, Af, HWEChi_square, IA, Log10_qval, Chi_square, Effect_si...\n",
      "\u001b[33mlgl\u001b[39m  (3): flag_fdr10, flag_fdr05, flag_fdr01\n",
      "\n",
      "\u001b[36mℹ\u001b[39m Use `spec()` to retrieve the full column specification for this data.\n",
      "\u001b[36mℹ\u001b[39m Specify the column types or set `show_col_types = FALSE` to quiet this message.\n",
      "\u001b[1mRows: \u001b[22m\u001b[34m252057\u001b[39m \u001b[1mColumns: \u001b[22m\u001b[34m32\u001b[39m\n",
      "\u001b[36m──\u001b[39m \u001b[1mColumn specification\u001b[22m \u001b[36m────────────────────────────────────────────────────────────────────────────────────────────────\u001b[39m\n",
      "\u001b[1mDelimiter:\u001b[22m \"\\t\"\n",
      "\u001b[31mchr\u001b[39m  (7): Feature, rsID, Chromosome, Ref, Alt, In.Feature, Peak.Intersect.State\n",
      "\u001b[32mdbl\u001b[39m (22): position, Af, HWEChi_square, IA, Log10_qval, Chi_square, Effect_si...\n",
      "\u001b[33mlgl\u001b[39m  (3): flag_fdr10, flag_fdr05, flag_fdr01\n",
      "\n",
      "\u001b[36mℹ\u001b[39m Use `spec()` to retrieve the full column specification for this data.\n",
      "\u001b[36mℹ\u001b[39m Specify the column types or set `show_col_types = FALSE` to quiet this message.\n"
     ]
    },
    {
     "name": "stdout",
     "output_type": "stream",
     "text": [
      "[1] \"bulk\"\n",
      "              flag_InPeak\n",
      "flag_NotInPeak FALSE  TRUE\n",
      "         FALSE   894 10434\n",
      "         TRUE    889     0\n",
      "              flag_InPeak\n",
      "flag_NotInPeak FALSE TRUE\n",
      "         FALSE   767 5016\n",
      "         TRUE   6434    0\n"
     ]
    },
    {
     "name": "stderr",
     "output_type": "stream",
     "text": [
      "\u001b[1mRows: \u001b[22m\u001b[34m3556559\u001b[39m \u001b[1mColumns: \u001b[22m\u001b[34m32\u001b[39m\n",
      "\u001b[36m──\u001b[39m \u001b[1mColumn specification\u001b[22m \u001b[36m────────────────────────────────────────────────────────────────────────────────────────────────\u001b[39m\n",
      "\u001b[1mDelimiter:\u001b[22m \"\\t\"\n",
      "\u001b[31mchr\u001b[39m  (7): Feature, rsID, Chromosome, Ref, Alt, In.Feature, Peak.Intersect.State\n",
      "\u001b[32mdbl\u001b[39m (22): position, Af, HWEChi_square, IA, Log10_qval, Chi_square, Effect_si...\n",
      "\u001b[33mlgl\u001b[39m  (3): flag_fdr10, flag_fdr05, flag_fdr01\n",
      "\n",
      "\u001b[36mℹ\u001b[39m Use `spec()` to retrieve the full column specification for this data.\n",
      "\u001b[36mℹ\u001b[39m Specify the column types or set `show_col_types = FALSE` to quiet this message.\n",
      "\u001b[1mRows: \u001b[22m\u001b[34m79636\u001b[39m \u001b[1mColumns: \u001b[22m\u001b[34m32\u001b[39m\n",
      "\u001b[36m──\u001b[39m \u001b[1mColumn specification\u001b[22m \u001b[36m────────────────────────────────────────────────────────────────────────────────────────────────\u001b[39m\n",
      "\u001b[1mDelimiter:\u001b[22m \"\\t\"\n",
      "\u001b[31mchr\u001b[39m  (7): Feature, rsID, Chromosome, Ref, Alt, In.Feature, Peak.Intersect.State\n",
      "\u001b[32mdbl\u001b[39m (22): position, Af, HWEChi_square, IA, Log10_qval, Chi_square, Effect_si...\n",
      "\u001b[33mlgl\u001b[39m  (3): flag_fdr10, flag_fdr05, flag_fdr01\n",
      "\n",
      "\u001b[36mℹ\u001b[39m Use `spec()` to retrieve the full column specification for this data.\n",
      "\u001b[36mℹ\u001b[39m Specify the column types or set `show_col_types = FALSE` to quiet this message.\n"
     ]
    },
    {
     "name": "stdout",
     "output_type": "stream",
     "text": [
      "[1] \"delta\"\n",
      "              flag_InPeak\n",
      "flag_NotInPeak FALSE TRUE\n",
      "         FALSE    50  758\n",
      "         TRUE     69    0\n",
      "              flag_InPeak\n",
      "flag_NotInPeak FALSE TRUE\n",
      "         FALSE    43  349\n",
      "         TRUE    485    0\n"
     ]
    },
    {
     "name": "stderr",
     "output_type": "stream",
     "text": [
      "\u001b[1mRows: \u001b[22m\u001b[34m2238072\u001b[39m \u001b[1mColumns: \u001b[22m\u001b[34m32\u001b[39m\n",
      "\u001b[36m──\u001b[39m \u001b[1mColumn specification\u001b[22m \u001b[36m────────────────────────────────────────────────────────────────────────────────────────────────\u001b[39m\n",
      "\u001b[1mDelimiter:\u001b[22m \"\\t\"\n",
      "\u001b[31mchr\u001b[39m  (7): Feature, rsID, Chromosome, Ref, Alt, In.Feature, Peak.Intersect.State\n",
      "\u001b[32mdbl\u001b[39m (22): position, Af, HWEChi_square, IA, Log10_qval, Chi_square, Effect_si...\n",
      "\u001b[33mlgl\u001b[39m  (3): flag_fdr10, flag_fdr05, flag_fdr01\n",
      "\n",
      "\u001b[36mℹ\u001b[39m Use `spec()` to retrieve the full column specification for this data.\n",
      "\u001b[36mℹ\u001b[39m Specify the column types or set `show_col_types = FALSE` to quiet this message.\n",
      "\u001b[1mRows: \u001b[22m\u001b[34m49135\u001b[39m \u001b[1mColumns: \u001b[22m\u001b[34m32\u001b[39m\n",
      "\u001b[36m──\u001b[39m \u001b[1mColumn specification\u001b[22m \u001b[36m────────────────────────────────────────────────────────────────────────────────────────────────\u001b[39m\n",
      "\u001b[1mDelimiter:\u001b[22m \"\\t\"\n",
      "\u001b[31mchr\u001b[39m  (7): Feature, rsID, Chromosome, Ref, Alt, In.Feature, Peak.Intersect.State\n",
      "\u001b[32mdbl\u001b[39m (22): position, Af, HWEChi_square, IA, Log10_qval, Chi_square, Effect_si...\n",
      "\u001b[33mlgl\u001b[39m  (3): flag_fdr10, flag_fdr05, flag_fdr01\n",
      "\n",
      "\u001b[36mℹ\u001b[39m Use `spec()` to retrieve the full column specification for this data.\n",
      "\u001b[36mℹ\u001b[39m Specify the column types or set `show_col_types = FALSE` to quiet this message.\n"
     ]
    },
    {
     "name": "stdout",
     "output_type": "stream",
     "text": [
      "[1] \"ductal\"\n",
      "              flag_InPeak\n",
      "flag_NotInPeak FALSE TRUE\n",
      "         FALSE    13  237\n",
      "         TRUE     17    0\n",
      "              flag_InPeak\n",
      "flag_NotInPeak FALSE TRUE\n",
      "         FALSE    20   98\n",
      "         TRUE    149    0\n"
     ]
    },
    {
     "name": "stderr",
     "output_type": "stream",
     "text": [
      "\u001b[1mRows: \u001b[22m\u001b[34m2665243\u001b[39m \u001b[1mColumns: \u001b[22m\u001b[34m32\u001b[39m\n",
      "\u001b[36m──\u001b[39m \u001b[1mColumn specification\u001b[22m \u001b[36m────────────────────────────────────────────────────────────────────────────────────────────────\u001b[39m\n",
      "\u001b[1mDelimiter:\u001b[22m \"\\t\"\n",
      "\u001b[31mchr\u001b[39m  (7): Feature, rsID, Chromosome, Ref, Alt, In.Feature, Peak.Intersect.State\n",
      "\u001b[32mdbl\u001b[39m (22): position, Af, HWEChi_square, IA, Log10_qval, Chi_square, Effect_si...\n",
      "\u001b[33mlgl\u001b[39m  (3): flag_fdr10, flag_fdr05, flag_fdr01\n",
      "\n",
      "\u001b[36mℹ\u001b[39m Use `spec()` to retrieve the full column specification for this data.\n",
      "\u001b[36mℹ\u001b[39m Specify the column types or set `show_col_types = FALSE` to quiet this message.\n",
      "\u001b[1mRows: \u001b[22m\u001b[34m60138\u001b[39m \u001b[1mColumns: \u001b[22m\u001b[34m32\u001b[39m\n",
      "\u001b[36m──\u001b[39m \u001b[1mColumn specification\u001b[22m \u001b[36m────────────────────────────────────────────────────────────────────────────────────────────────\u001b[39m\n",
      "\u001b[1mDelimiter:\u001b[22m \"\\t\"\n",
      "\u001b[31mchr\u001b[39m  (7): Feature, rsID, Chromosome, Ref, Alt, In.Feature, Peak.Intersect.State\n",
      "\u001b[32mdbl\u001b[39m (22): position, Af, HWEChi_square, IA, Log10_qval, Chi_square, Effect_si...\n",
      "\u001b[33mlgl\u001b[39m  (3): flag_fdr10, flag_fdr05, flag_fdr01\n",
      "\n",
      "\u001b[36mℹ\u001b[39m Use `spec()` to retrieve the full column specification for this data.\n",
      "\u001b[36mℹ\u001b[39m Specify the column types or set `show_col_types = FALSE` to quiet this message.\n"
     ]
    },
    {
     "name": "stdout",
     "output_type": "stream",
     "text": [
      "[1] \"gamma\"\n",
      "              flag_InPeak\n",
      "flag_NotInPeak FALSE TRUE\n",
      "         FALSE    35  452\n",
      "         TRUE     37    0\n",
      "              flag_InPeak\n",
      "flag_NotInPeak FALSE TRUE\n",
      "         FALSE    36  210\n",
      "         TRUE    278    0\n"
     ]
    }
   ],
   "source": [
    "# Summarise by feature\n",
    "for (c in cell_types_tested) {\n",
    "    #All\n",
    "    all.intersect <- vroom(paste0(intermediates.dir, c, '_all_sum_stats_run1F_intersect_flag.tsv'))\n",
    "    \n",
    "    all.intersect$flag_NotInPeak <- all.intersect$Peak.Intersect.State == 'Not.In.Peak'\n",
    "    all.intersect$flag_InPeak <- all.intersect$Peak.Intersect.State == 'In.caQTL.Peak'\n",
    "    \n",
    "    all.intersect.Feat <- all.intersect %>%\n",
    "        filter(flag_fdr05) %>%\n",
    "        select(Feature, In.Feature, Peak.Intersect.State, flag_InPeak, flag_NotInPeak) %>%\n",
    "        group_by(Feature) %>%\n",
    "        summarise(flag_NotInPeak=all(flag_NotInPeak), flag_InPeak=any(flag_InPeak))\n",
    "    \n",
    "    write.table(all.intersect.Feat, paste0(intermediates.dir, c, '_all_sum_stats_run1F_intersect_flag_by_feature.tsv'), \n",
    "                quote=F, row.names=F, col.names=T, sep='\\t')\n",
    "    \n",
    "    #Leads\n",
    "    lead.intersect <- vroom(paste0(intermediates.dir, c, '_lead_sum_stats_run1F_intersect_flag.tsv'))\n",
    "    \n",
    "    lead.intersect$flag_NotInPeak <- lead.intersect$Peak.Intersect.State == 'Not.In.Peak'\n",
    "    lead.intersect$flag_InPeak <- lead.intersect$Peak.Intersect.State == 'In.caQTL.Peak'\n",
    "    \n",
    "    lead.intersect.Feat <- lead.intersect %>%\n",
    "        filter(flag_fdr05) %>%\n",
    "        select(Feature, In.Feature, Peak.Intersect.State, flag_InPeak, flag_NotInPeak) %>%\n",
    "        group_by(Feature) %>%\n",
    "        summarise(flag_NotInPeak=all(flag_NotInPeak), flag_InPeak=any(flag_InPeak))\n",
    "    \n",
    "    write.table(lead.intersect.Feat, paste0(intermediates.dir, c, '_lead_sum_stats_run1F_intersect_flag_by_feature.tsv'), \n",
    "                quote=F, row.names=F, col.names=T, sep='\\t')\n",
    "    \n",
    "    print(c)\n",
    "    select(all.intersect.Feat, -Feature) %>%\n",
    "          table() %>%\n",
    "          print()\n",
    "    \n",
    "    select(lead.intersect.Feat, -Feature) %>%\n",
    "          table() %>%\n",
    "          print()\n",
    "}"
   ]
  },
  {
   "cell_type": "code",
   "execution_count": null,
   "id": "917c955b",
   "metadata": {
    "vscode": {
     "languageId": "r"
    }
   },
   "outputs": [],
   "source": []
  },
  {
   "cell_type": "code",
   "execution_count": 110,
   "id": "be9f0f9e",
   "metadata": {
    "vscode": {
     "languageId": "r"
    }
   },
   "outputs": [
    {
     "data": {
      "text/html": [
       "<table class=\"dataframe\">\n",
       "<caption>A data.frame: 7 × 5</caption>\n",
       "<thead>\n",
       "\t<tr><th scope=col>Other.Peak</th><th scope=col>QTL.Peak</th><th scope=col>Not.In.Peak</th><th scope=col>Multiple.Flag</th><th scope=col>cell</th></tr>\n",
       "\t<tr><th scope=col>&lt;int&gt;</th><th scope=col>&lt;int&gt;</th><th scope=col>&lt;int&gt;</th><th scope=col>&lt;int&gt;</th><th scope=col>&lt;chr&gt;</th></tr>\n",
       "</thead>\n",
       "<tbody>\n",
       "\t<tr><td>126</td><td> 1876</td><td>142</td><td>0</td><td>acinar</td></tr>\n",
       "\t<tr><td>273</td><td> 3646</td><td>299</td><td>0</td><td>alpha </td></tr>\n",
       "\t<tr><td>381</td><td> 5148</td><td>403</td><td>0</td><td>beta  </td></tr>\n",
       "\t<tr><td>894</td><td>10434</td><td>889</td><td>0</td><td>bulk  </td></tr>\n",
       "\t<tr><td> 50</td><td>  758</td><td> 69</td><td>0</td><td>delta </td></tr>\n",
       "\t<tr><td> 13</td><td>  237</td><td> 17</td><td>0</td><td>ductal</td></tr>\n",
       "\t<tr><td> 35</td><td>  452</td><td> 37</td><td>0</td><td>gamma </td></tr>\n",
       "</tbody>\n",
       "</table>\n"
      ],
      "text/latex": [
       "A data.frame: 7 × 5\n",
       "\\begin{tabular}{lllll}\n",
       " Other.Peak & QTL.Peak & Not.In.Peak & Multiple.Flag & cell\\\\\n",
       " <int> & <int> & <int> & <int> & <chr>\\\\\n",
       "\\hline\n",
       "\t 126 &  1876 & 142 & 0 & acinar\\\\\n",
       "\t 273 &  3646 & 299 & 0 & alpha \\\\\n",
       "\t 381 &  5148 & 403 & 0 & beta  \\\\\n",
       "\t 894 & 10434 & 889 & 0 & bulk  \\\\\n",
       "\t  50 &   758 &  69 & 0 & delta \\\\\n",
       "\t  13 &   237 &  17 & 0 & ductal\\\\\n",
       "\t  35 &   452 &  37 & 0 & gamma \\\\\n",
       "\\end{tabular}\n"
      ],
      "text/markdown": [
       "\n",
       "A data.frame: 7 × 5\n",
       "\n",
       "| Other.Peak &lt;int&gt; | QTL.Peak &lt;int&gt; | Not.In.Peak &lt;int&gt; | Multiple.Flag &lt;int&gt; | cell &lt;chr&gt; |\n",
       "|---|---|---|---|---|\n",
       "| 126 |  1876 | 142 | 0 | acinar |\n",
       "| 273 |  3646 | 299 | 0 | alpha  |\n",
       "| 381 |  5148 | 403 | 0 | beta   |\n",
       "| 894 | 10434 | 889 | 0 | bulk   |\n",
       "|  50 |   758 |  69 | 0 | delta  |\n",
       "|  13 |   237 |  17 | 0 | ductal |\n",
       "|  35 |   452 |  37 | 0 | gamma  |\n",
       "\n"
      ],
      "text/plain": [
       "  Other.Peak QTL.Peak Not.In.Peak Multiple.Flag cell  \n",
       "1 126         1876    142         0             acinar\n",
       "2 273         3646    299         0             alpha \n",
       "3 381         5148    403         0             beta  \n",
       "4 894        10434    889         0             bulk  \n",
       "5  50          758     69         0             delta \n",
       "6  13          237     17         0             ductal\n",
       "7  35          452     37         0             gamma "
      ]
     },
     "metadata": {},
     "output_type": "display_data"
    },
    {
     "data": {
      "text/html": [
       "<table class=\"dataframe\">\n",
       "<caption>A data.frame: 7 × 5</caption>\n",
       "<thead>\n",
       "\t<tr><th scope=col>Other.Peak</th><th scope=col>QTL.Peak</th><th scope=col>Not.In.Peak</th><th scope=col>Multiple.Flag</th><th scope=col>cell</th></tr>\n",
       "\t<tr><th scope=col>&lt;int&gt;</th><th scope=col>&lt;int&gt;</th><th scope=col>&lt;int&gt;</th><th scope=col>&lt;int&gt;</th><th scope=col>&lt;chr&gt;</th></tr>\n",
       "</thead>\n",
       "<tbody>\n",
       "\t<tr><td>137</td><td> 878</td><td>1129</td><td>0</td><td>acinar</td></tr>\n",
       "\t<tr><td>262</td><td>1751</td><td>2205</td><td>0</td><td>alpha </td></tr>\n",
       "\t<tr><td>343</td><td>2563</td><td>3026</td><td>0</td><td>beta  </td></tr>\n",
       "\t<tr><td>767</td><td>5016</td><td>6434</td><td>0</td><td>bulk  </td></tr>\n",
       "\t<tr><td> 43</td><td> 349</td><td> 485</td><td>0</td><td>delta </td></tr>\n",
       "\t<tr><td> 20</td><td>  98</td><td> 149</td><td>0</td><td>ductal</td></tr>\n",
       "\t<tr><td> 36</td><td> 210</td><td> 278</td><td>0</td><td>gamma </td></tr>\n",
       "</tbody>\n",
       "</table>\n"
      ],
      "text/latex": [
       "A data.frame: 7 × 5\n",
       "\\begin{tabular}{lllll}\n",
       " Other.Peak & QTL.Peak & Not.In.Peak & Multiple.Flag & cell\\\\\n",
       " <int> & <int> & <int> & <int> & <chr>\\\\\n",
       "\\hline\n",
       "\t 137 &  878 & 1129 & 0 & acinar\\\\\n",
       "\t 262 & 1751 & 2205 & 0 & alpha \\\\\n",
       "\t 343 & 2563 & 3026 & 0 & beta  \\\\\n",
       "\t 767 & 5016 & 6434 & 0 & bulk  \\\\\n",
       "\t  43 &  349 &  485 & 0 & delta \\\\\n",
       "\t  20 &   98 &  149 & 0 & ductal\\\\\n",
       "\t  36 &  210 &  278 & 0 & gamma \\\\\n",
       "\\end{tabular}\n"
      ],
      "text/markdown": [
       "\n",
       "A data.frame: 7 × 5\n",
       "\n",
       "| Other.Peak &lt;int&gt; | QTL.Peak &lt;int&gt; | Not.In.Peak &lt;int&gt; | Multiple.Flag &lt;int&gt; | cell &lt;chr&gt; |\n",
       "|---|---|---|---|---|\n",
       "| 137 |  878 | 1129 | 0 | acinar |\n",
       "| 262 | 1751 | 2205 | 0 | alpha  |\n",
       "| 343 | 2563 | 3026 | 0 | beta   |\n",
       "| 767 | 5016 | 6434 | 0 | bulk   |\n",
       "|  43 |  349 |  485 | 0 | delta  |\n",
       "|  20 |   98 |  149 | 0 | ductal |\n",
       "|  36 |  210 |  278 | 0 | gamma  |\n",
       "\n"
      ],
      "text/plain": [
       "  Other.Peak QTL.Peak Not.In.Peak Multiple.Flag cell  \n",
       "1 137         878     1129        0             acinar\n",
       "2 262        1751     2205        0             alpha \n",
       "3 343        2563     3026        0             beta  \n",
       "4 767        5016     6434        0             bulk  \n",
       "5  43         349      485        0             delta \n",
       "6  20          98      149        0             ductal\n",
       "7  36         210      278        0             gamma "
      ]
     },
     "metadata": {},
     "output_type": "display_data"
    }
   ],
   "source": [
    "# Count overlaps\n",
    "\n",
    "counts.all <- data.frame()\n",
    "counts.lead <- data.frame()\n",
    "\n",
    "for (c in cell_types_tested) {\n",
    "    all.intersect.Feat <- read.table(paste0(intermediates.dir, c, '_all_sum_stats_run1F_intersect_flag_by_feature.tsv'), \n",
    "                header=T, sep='\\t')\n",
    "    all.intersect.Feat.tab <- select(all.intersect.Feat, -Feature) %>%\n",
    "        table()\n",
    "    counts.all <- rbind(counts.all, data.frame(Other.Peak=all.intersect.Feat.tab[1,1], QTL.Peak=all.intersect.Feat.tab[1,2],\n",
    "           Not.In.Peak=all.intersect.Feat.tab[2,1], Multiple.Flag=all.intersect.Feat.tab[2,2],\n",
    "           cell=c))\n",
    "    \n",
    "    lead.intersect.Feat <- read.table(paste0(intermediates.dir, c, '_lead_sum_stats_run1F_intersect_flag_by_feature.tsv'), \n",
    "                header=T, sep='\\t')\n",
    "    lead.intersect.Feat.tab <- select(lead.intersect.Feat, -Feature) %>%\n",
    "        table()\n",
    "    counts.lead <- rbind(counts.lead, data.frame(Other.Peak=lead.intersect.Feat.tab[1,1], QTL.Peak=lead.intersect.Feat.tab[1,2],\n",
    "           Not.In.Peak=lead.intersect.Feat.tab[2,1], Multiple.Flag=lead.intersect.Feat.tab[2,2],\n",
    "           cell=c))\n",
    "}\n",
    "\n",
    "counts.all\n",
    "counts.lead"
   ]
  },
  {
   "cell_type": "code",
   "execution_count": 111,
   "id": "49bb10ba",
   "metadata": {
    "vscode": {
     "languageId": "r"
    }
   },
   "outputs": [
    {
     "data": {
      "text/html": [
       "<table class=\"dataframe\">\n",
       "<caption>A data.frame: 7 × 8</caption>\n",
       "<thead>\n",
       "\t<tr><th scope=col>Other.Peak</th><th scope=col>QTL.Peak</th><th scope=col>Not.In.Peak</th><th scope=col>Multiple.Flag</th><th scope=col>cell</th><th scope=col>Percent.In.QTL</th><th scope=col>Percent.In.Other</th><th scope=col>Percent.NotIn.Peak</th></tr>\n",
       "\t<tr><th scope=col>&lt;int&gt;</th><th scope=col>&lt;int&gt;</th><th scope=col>&lt;int&gt;</th><th scope=col>&lt;int&gt;</th><th scope=col>&lt;chr&gt;</th><th scope=col>&lt;dbl&gt;</th><th scope=col>&lt;dbl&gt;</th><th scope=col>&lt;dbl&gt;</th></tr>\n",
       "</thead>\n",
       "<tbody>\n",
       "\t<tr><td>126</td><td> 1876</td><td>142</td><td>0</td><td>acinar</td><td>87.50000</td><td>5.876866</td><td>6.623134</td></tr>\n",
       "\t<tr><td>273</td><td> 3646</td><td>299</td><td>0</td><td>alpha </td><td>86.43907</td><td>6.472262</td><td>7.088668</td></tr>\n",
       "\t<tr><td>381</td><td> 5148</td><td>403</td><td>0</td><td>beta  </td><td>86.78355</td><td>6.422792</td><td>6.793661</td></tr>\n",
       "\t<tr><td>894</td><td>10434</td><td>889</td><td>0</td><td>bulk  </td><td>85.40558</td><td>7.317672</td><td>7.276746</td></tr>\n",
       "\t<tr><td> 50</td><td>  758</td><td> 69</td><td>0</td><td>delta </td><td>86.43101</td><td>5.701254</td><td>7.867731</td></tr>\n",
       "\t<tr><td> 13</td><td>  237</td><td> 17</td><td>0</td><td>ductal</td><td>88.76404</td><td>4.868914</td><td>6.367041</td></tr>\n",
       "\t<tr><td> 35</td><td>  452</td><td> 37</td><td>0</td><td>gamma </td><td>86.25954</td><td>6.679389</td><td>7.061069</td></tr>\n",
       "</tbody>\n",
       "</table>\n"
      ],
      "text/latex": [
       "A data.frame: 7 × 8\n",
       "\\begin{tabular}{llllllll}\n",
       " Other.Peak & QTL.Peak & Not.In.Peak & Multiple.Flag & cell & Percent.In.QTL & Percent.In.Other & Percent.NotIn.Peak\\\\\n",
       " <int> & <int> & <int> & <int> & <chr> & <dbl> & <dbl> & <dbl>\\\\\n",
       "\\hline\n",
       "\t 126 &  1876 & 142 & 0 & acinar & 87.50000 & 5.876866 & 6.623134\\\\\n",
       "\t 273 &  3646 & 299 & 0 & alpha  & 86.43907 & 6.472262 & 7.088668\\\\\n",
       "\t 381 &  5148 & 403 & 0 & beta   & 86.78355 & 6.422792 & 6.793661\\\\\n",
       "\t 894 & 10434 & 889 & 0 & bulk   & 85.40558 & 7.317672 & 7.276746\\\\\n",
       "\t  50 &   758 &  69 & 0 & delta  & 86.43101 & 5.701254 & 7.867731\\\\\n",
       "\t  13 &   237 &  17 & 0 & ductal & 88.76404 & 4.868914 & 6.367041\\\\\n",
       "\t  35 &   452 &  37 & 0 & gamma  & 86.25954 & 6.679389 & 7.061069\\\\\n",
       "\\end{tabular}\n"
      ],
      "text/markdown": [
       "\n",
       "A data.frame: 7 × 8\n",
       "\n",
       "| Other.Peak &lt;int&gt; | QTL.Peak &lt;int&gt; | Not.In.Peak &lt;int&gt; | Multiple.Flag &lt;int&gt; | cell &lt;chr&gt; | Percent.In.QTL &lt;dbl&gt; | Percent.In.Other &lt;dbl&gt; | Percent.NotIn.Peak &lt;dbl&gt; |\n",
       "|---|---|---|---|---|---|---|---|\n",
       "| 126 |  1876 | 142 | 0 | acinar | 87.50000 | 5.876866 | 6.623134 |\n",
       "| 273 |  3646 | 299 | 0 | alpha  | 86.43907 | 6.472262 | 7.088668 |\n",
       "| 381 |  5148 | 403 | 0 | beta   | 86.78355 | 6.422792 | 6.793661 |\n",
       "| 894 | 10434 | 889 | 0 | bulk   | 85.40558 | 7.317672 | 7.276746 |\n",
       "|  50 |   758 |  69 | 0 | delta  | 86.43101 | 5.701254 | 7.867731 |\n",
       "|  13 |   237 |  17 | 0 | ductal | 88.76404 | 4.868914 | 6.367041 |\n",
       "|  35 |   452 |  37 | 0 | gamma  | 86.25954 | 6.679389 | 7.061069 |\n",
       "\n"
      ],
      "text/plain": [
       "  Other.Peak QTL.Peak Not.In.Peak Multiple.Flag cell   Percent.In.QTL\n",
       "1 126         1876    142         0             acinar 87.50000      \n",
       "2 273         3646    299         0             alpha  86.43907      \n",
       "3 381         5148    403         0             beta   86.78355      \n",
       "4 894        10434    889         0             bulk   85.40558      \n",
       "5  50          758     69         0             delta  86.43101      \n",
       "6  13          237     17         0             ductal 88.76404      \n",
       "7  35          452     37         0             gamma  86.25954      \n",
       "  Percent.In.Other Percent.NotIn.Peak\n",
       "1 5.876866         6.623134          \n",
       "2 6.472262         7.088668          \n",
       "3 6.422792         6.793661          \n",
       "4 7.317672         7.276746          \n",
       "5 5.701254         7.867731          \n",
       "6 4.868914         6.367041          \n",
       "7 6.679389         7.061069          "
      ]
     },
     "metadata": {},
     "output_type": "display_data"
    }
   ],
   "source": [
    "# Create percentages\n",
    "counts.all$Percent.In.QTL <- (counts.all$QTL.Peak * 100) / rowSums(counts.all[,1:4])\n",
    "counts.all$Percent.In.Other <- (counts.all$Other.Peak * 100) / rowSums(counts.all[,1:4])\n",
    "counts.all$Percent.NotIn.Peak <- (counts.all$Not.In.Peak * 100) / rowSums(counts.all[,1:4])\n",
    "counts.all"
   ]
  },
  {
   "cell_type": "code",
   "execution_count": 112,
   "id": "24d04b33",
   "metadata": {
    "vscode": {
     "languageId": "r"
    }
   },
   "outputs": [
    {
     "data": {
      "text/html": [
       "<table class=\"dataframe\">\n",
       "<caption>A data.frame: 7 × 8</caption>\n",
       "<thead>\n",
       "\t<tr><th scope=col>Other.Peak</th><th scope=col>QTL.Peak</th><th scope=col>Not.In.Peak</th><th scope=col>Multiple.Flag</th><th scope=col>cell</th><th scope=col>Percent.In.QTL</th><th scope=col>Percent.In.Other</th><th scope=col>Percent.NotIn.Peak</th></tr>\n",
       "\t<tr><th scope=col>&lt;int&gt;</th><th scope=col>&lt;int&gt;</th><th scope=col>&lt;int&gt;</th><th scope=col>&lt;int&gt;</th><th scope=col>&lt;chr&gt;</th><th scope=col>&lt;dbl&gt;</th><th scope=col>&lt;dbl&gt;</th><th scope=col>&lt;dbl&gt;</th></tr>\n",
       "</thead>\n",
       "<tbody>\n",
       "\t<tr><td>137</td><td> 878</td><td>1129</td><td>0</td><td>acinar</td><td>40.95149</td><td>6.389925</td><td>52.65858</td></tr>\n",
       "\t<tr><td>262</td><td>1751</td><td>2205</td><td>0</td><td>alpha </td><td>41.51257</td><td>6.211475</td><td>52.27596</td></tr>\n",
       "\t<tr><td>343</td><td>2563</td><td>3026</td><td>0</td><td>beta  </td><td>43.20634</td><td>5.782198</td><td>51.01146</td></tr>\n",
       "\t<tr><td>767</td><td>5016</td><td>6434</td><td>0</td><td>bulk  </td><td>41.05754</td><td>6.278137</td><td>52.66432</td></tr>\n",
       "\t<tr><td> 43</td><td> 349</td><td> 485</td><td>0</td><td>delta </td><td>39.79475</td><td>4.903079</td><td>55.30217</td></tr>\n",
       "\t<tr><td> 20</td><td>  98</td><td> 149</td><td>0</td><td>ductal</td><td>36.70412</td><td>7.490637</td><td>55.80524</td></tr>\n",
       "\t<tr><td> 36</td><td> 210</td><td> 278</td><td>0</td><td>gamma </td><td>40.07634</td><td>6.870229</td><td>53.05344</td></tr>\n",
       "</tbody>\n",
       "</table>\n"
      ],
      "text/latex": [
       "A data.frame: 7 × 8\n",
       "\\begin{tabular}{llllllll}\n",
       " Other.Peak & QTL.Peak & Not.In.Peak & Multiple.Flag & cell & Percent.In.QTL & Percent.In.Other & Percent.NotIn.Peak\\\\\n",
       " <int> & <int> & <int> & <int> & <chr> & <dbl> & <dbl> & <dbl>\\\\\n",
       "\\hline\n",
       "\t 137 &  878 & 1129 & 0 & acinar & 40.95149 & 6.389925 & 52.65858\\\\\n",
       "\t 262 & 1751 & 2205 & 0 & alpha  & 41.51257 & 6.211475 & 52.27596\\\\\n",
       "\t 343 & 2563 & 3026 & 0 & beta   & 43.20634 & 5.782198 & 51.01146\\\\\n",
       "\t 767 & 5016 & 6434 & 0 & bulk   & 41.05754 & 6.278137 & 52.66432\\\\\n",
       "\t  43 &  349 &  485 & 0 & delta  & 39.79475 & 4.903079 & 55.30217\\\\\n",
       "\t  20 &   98 &  149 & 0 & ductal & 36.70412 & 7.490637 & 55.80524\\\\\n",
       "\t  36 &  210 &  278 & 0 & gamma  & 40.07634 & 6.870229 & 53.05344\\\\\n",
       "\\end{tabular}\n"
      ],
      "text/markdown": [
       "\n",
       "A data.frame: 7 × 8\n",
       "\n",
       "| Other.Peak &lt;int&gt; | QTL.Peak &lt;int&gt; | Not.In.Peak &lt;int&gt; | Multiple.Flag &lt;int&gt; | cell &lt;chr&gt; | Percent.In.QTL &lt;dbl&gt; | Percent.In.Other &lt;dbl&gt; | Percent.NotIn.Peak &lt;dbl&gt; |\n",
       "|---|---|---|---|---|---|---|---|\n",
       "| 137 |  878 | 1129 | 0 | acinar | 40.95149 | 6.389925 | 52.65858 |\n",
       "| 262 | 1751 | 2205 | 0 | alpha  | 41.51257 | 6.211475 | 52.27596 |\n",
       "| 343 | 2563 | 3026 | 0 | beta   | 43.20634 | 5.782198 | 51.01146 |\n",
       "| 767 | 5016 | 6434 | 0 | bulk   | 41.05754 | 6.278137 | 52.66432 |\n",
       "|  43 |  349 |  485 | 0 | delta  | 39.79475 | 4.903079 | 55.30217 |\n",
       "|  20 |   98 |  149 | 0 | ductal | 36.70412 | 7.490637 | 55.80524 |\n",
       "|  36 |  210 |  278 | 0 | gamma  | 40.07634 | 6.870229 | 53.05344 |\n",
       "\n"
      ],
      "text/plain": [
       "  Other.Peak QTL.Peak Not.In.Peak Multiple.Flag cell   Percent.In.QTL\n",
       "1 137         878     1129        0             acinar 40.95149      \n",
       "2 262        1751     2205        0             alpha  41.51257      \n",
       "3 343        2563     3026        0             beta   43.20634      \n",
       "4 767        5016     6434        0             bulk   41.05754      \n",
       "5  43         349      485        0             delta  39.79475      \n",
       "6  20          98      149        0             ductal 36.70412      \n",
       "7  36         210      278        0             gamma  40.07634      \n",
       "  Percent.In.Other Percent.NotIn.Peak\n",
       "1 6.389925         52.65858          \n",
       "2 6.211475         52.27596          \n",
       "3 5.782198         51.01146          \n",
       "4 6.278137         52.66432          \n",
       "5 4.903079         55.30217          \n",
       "6 7.490637         55.80524          \n",
       "7 6.870229         53.05344          "
      ]
     },
     "metadata": {},
     "output_type": "display_data"
    }
   ],
   "source": [
    "counts.lead$Percent.In.QTL <- (counts.lead$QTL.Peak * 100) / rowSums(counts.lead[,1:4])\n",
    "counts.lead$Percent.In.Other <- (counts.lead$Other.Peak * 100) / rowSums(counts.lead[,1:4])\n",
    "counts.lead$Percent.NotIn.Peak <- (counts.lead$Not.In.Peak * 100) / rowSums(counts.lead[,1:4])\n",
    "counts.lead"
   ]
  },
  {
   "cell_type": "code",
   "execution_count": 113,
   "id": "45ed4e3c",
   "metadata": {
    "vscode": {
     "languageId": "r"
    }
   },
   "outputs": [],
   "source": [
    "write.table(counts.all, paste0(intermediates.dir, 'All_sum_stats_run1F_intersect_flag_by_feature_summary.tsv'), \n",
    "                quote=F, row.names=F, col.names=T, sep='\\t')\n",
    "write.table(counts.lead, paste0(intermediates.dir, 'Lead_sum_stats_run1F_intersect_flag_by_feature_summary.tsv'), \n",
    "                quote=F, row.names=F, col.names=T, sep='\\t')"
   ]
  },
  {
   "cell_type": "code",
   "execution_count": 2,
   "id": "20f0d6bc",
   "metadata": {
    "vscode": {
     "languageId": "r"
    }
   },
   "outputs": [
    {
     "data": {
      "text/html": [
       "<table class=\"dataframe\">\n",
       "<caption>A data.frame: 7 × 8</caption>\n",
       "<thead>\n",
       "\t<tr><th scope=col>Other.Peak</th><th scope=col>QTL.Peak</th><th scope=col>Not.In.Peak</th><th scope=col>Multiple.Flag</th><th scope=col>cell</th><th scope=col>Percent.In.QTL</th><th scope=col>Percent.In.Other</th><th scope=col>Percent.NotIn.Peak</th></tr>\n",
       "\t<tr><th scope=col>&lt;int&gt;</th><th scope=col>&lt;int&gt;</th><th scope=col>&lt;int&gt;</th><th scope=col>&lt;int&gt;</th><th scope=col>&lt;chr&gt;</th><th scope=col>&lt;dbl&gt;</th><th scope=col>&lt;dbl&gt;</th><th scope=col>&lt;dbl&gt;</th></tr>\n",
       "</thead>\n",
       "<tbody>\n",
       "\t<tr><td>126</td><td> 1876</td><td>142</td><td>0</td><td>acinar</td><td>87.50000</td><td>5.876866</td><td>6.623134</td></tr>\n",
       "\t<tr><td>273</td><td> 3646</td><td>299</td><td>0</td><td>alpha </td><td>86.43907</td><td>6.472262</td><td>7.088668</td></tr>\n",
       "\t<tr><td>381</td><td> 5148</td><td>403</td><td>0</td><td>beta  </td><td>86.78355</td><td>6.422792</td><td>6.793661</td></tr>\n",
       "\t<tr><td>894</td><td>10434</td><td>889</td><td>0</td><td>bulk  </td><td>85.40558</td><td>7.317672</td><td>7.276746</td></tr>\n",
       "\t<tr><td> 50</td><td>  758</td><td> 69</td><td>0</td><td>delta </td><td>86.43101</td><td>5.701254</td><td>7.867731</td></tr>\n",
       "\t<tr><td> 13</td><td>  237</td><td> 17</td><td>0</td><td>ductal</td><td>88.76404</td><td>4.868914</td><td>6.367041</td></tr>\n",
       "\t<tr><td> 35</td><td>  452</td><td> 37</td><td>0</td><td>gamma </td><td>86.25954</td><td>6.679389</td><td>7.061069</td></tr>\n",
       "</tbody>\n",
       "</table>\n"
      ],
      "text/latex": [
       "A data.frame: 7 × 8\n",
       "\\begin{tabular}{llllllll}\n",
       " Other.Peak & QTL.Peak & Not.In.Peak & Multiple.Flag & cell & Percent.In.QTL & Percent.In.Other & Percent.NotIn.Peak\\\\\n",
       " <int> & <int> & <int> & <int> & <chr> & <dbl> & <dbl> & <dbl>\\\\\n",
       "\\hline\n",
       "\t 126 &  1876 & 142 & 0 & acinar & 87.50000 & 5.876866 & 6.623134\\\\\n",
       "\t 273 &  3646 & 299 & 0 & alpha  & 86.43907 & 6.472262 & 7.088668\\\\\n",
       "\t 381 &  5148 & 403 & 0 & beta   & 86.78355 & 6.422792 & 6.793661\\\\\n",
       "\t 894 & 10434 & 889 & 0 & bulk   & 85.40558 & 7.317672 & 7.276746\\\\\n",
       "\t  50 &   758 &  69 & 0 & delta  & 86.43101 & 5.701254 & 7.867731\\\\\n",
       "\t  13 &   237 &  17 & 0 & ductal & 88.76404 & 4.868914 & 6.367041\\\\\n",
       "\t  35 &   452 &  37 & 0 & gamma  & 86.25954 & 6.679389 & 7.061069\\\\\n",
       "\\end{tabular}\n"
      ],
      "text/markdown": [
       "\n",
       "A data.frame: 7 × 8\n",
       "\n",
       "| Other.Peak &lt;int&gt; | QTL.Peak &lt;int&gt; | Not.In.Peak &lt;int&gt; | Multiple.Flag &lt;int&gt; | cell &lt;chr&gt; | Percent.In.QTL &lt;dbl&gt; | Percent.In.Other &lt;dbl&gt; | Percent.NotIn.Peak &lt;dbl&gt; |\n",
       "|---|---|---|---|---|---|---|---|\n",
       "| 126 |  1876 | 142 | 0 | acinar | 87.50000 | 5.876866 | 6.623134 |\n",
       "| 273 |  3646 | 299 | 0 | alpha  | 86.43907 | 6.472262 | 7.088668 |\n",
       "| 381 |  5148 | 403 | 0 | beta   | 86.78355 | 6.422792 | 6.793661 |\n",
       "| 894 | 10434 | 889 | 0 | bulk   | 85.40558 | 7.317672 | 7.276746 |\n",
       "|  50 |   758 |  69 | 0 | delta  | 86.43101 | 5.701254 | 7.867731 |\n",
       "|  13 |   237 |  17 | 0 | ductal | 88.76404 | 4.868914 | 6.367041 |\n",
       "|  35 |   452 |  37 | 0 | gamma  | 86.25954 | 6.679389 | 7.061069 |\n",
       "\n"
      ],
      "text/plain": [
       "  Other.Peak QTL.Peak Not.In.Peak Multiple.Flag cell   Percent.In.QTL\n",
       "1 126         1876    142         0             acinar 87.50000      \n",
       "2 273         3646    299         0             alpha  86.43907      \n",
       "3 381         5148    403         0             beta   86.78355      \n",
       "4 894        10434    889         0             bulk   85.40558      \n",
       "5  50          758     69         0             delta  86.43101      \n",
       "6  13          237     17         0             ductal 88.76404      \n",
       "7  35          452     37         0             gamma  86.25954      \n",
       "  Percent.In.Other Percent.NotIn.Peak\n",
       "1 5.876866         6.623134          \n",
       "2 6.472262         7.088668          \n",
       "3 6.422792         6.793661          \n",
       "4 7.317672         7.276746          \n",
       "5 5.701254         7.867731          \n",
       "6 4.868914         6.367041          \n",
       "7 6.679389         7.061069          "
      ]
     },
     "metadata": {},
     "output_type": "display_data"
    }
   ],
   "source": [
    "intermediates.dir <- '/path/to/caQTL/stuff/figures/lead_variant_peak_overlap/'\n",
    "counts.all <- read.table(paste0(intermediates.dir, 'All_sum_stats_run1F_intersect_flag_by_feature_summary.tsv'), header=T)\n",
    "counts.all"
   ]
  },
  {
   "cell_type": "code",
   "execution_count": 34,
   "id": "e4e2a46c",
   "metadata": {
    "vscode": {
     "languageId": "r"
    }
   },
   "outputs": [
    {
     "name": "stderr",
     "output_type": "stream",
     "text": [
      "Warning message in counts.all.sum$Percent.In.QTL <- ((counts.all.sum[\"QTL.Peak\"] * :\n",
      "\"Coercing LHS to a list\"\n",
      "Warning message in counts.all.sum$Percent.In.Other <- ((counts.all.sum[\"Other.Peak\"] * :\n",
      "\"Coercing LHS to a list\"\n",
      "Warning message in counts.all.sum$Percent.NotIn.Peak <- ((counts.all.sum[\"Not.In.Peak\"] * :\n",
      "\"Coercing LHS to a list\"\n"
     ]
    },
    {
     "data": {
      "text/html": [
       "<style>\n",
       ".dl-inline {width: auto; margin:0; padding: 0}\n",
       ".dl-inline>dt, .dl-inline>dd {float: none; width: auto; display: inline-block}\n",
       ".dl-inline>dt::after {content: \":\\0020\"; padding-right: .5ex}\n",
       ".dl-inline>dt:not(:first-of-type) {padding-left: .5ex}\n",
       "</style><dl class=dl-inline><dt>Other.Peak</dt><dd>878</dd><dt>QTL.Peak</dt><dd>12117</dd><dt>Not.In.Peak</dt><dd>967</dd><dt>Multiple.Flag</dt><dd>0</dd><dt>Percent.In.QTL</dt><dd>86.7855608079072</dd><dt>Percent.In.Other</dt><dd>6.28849734994986</dd><dt>Percent.NotIn.Peak</dt><dd>6.92594184214296</dd></dl>\n"
      ],
      "text/latex": [
       "\\begin{description*}\n",
       "\\item[Other.Peak] 878\n",
       "\\item[QTL.Peak] 12117\n",
       "\\item[Not.In.Peak] 967\n",
       "\\item[Multiple.Flag] 0\n",
       "\\item[Percent.In.QTL] 86.7855608079072\n",
       "\\item[Percent.In.Other] 6.28849734994986\n",
       "\\item[Percent.NotIn.Peak] 6.92594184214296\n",
       "\\end{description*}\n"
      ],
      "text/markdown": [
       "Other.Peak\n",
       ":   878QTL.Peak\n",
       ":   12117Not.In.Peak\n",
       ":   967Multiple.Flag\n",
       ":   0Percent.In.QTL\n",
       ":   86.7855608079072Percent.In.Other\n",
       ":   6.28849734994986Percent.NotIn.Peak\n",
       ":   6.92594184214296\n",
       "\n"
      ],
      "text/plain": [
       "        Other.Peak           QTL.Peak        Not.In.Peak      Multiple.Flag \n",
       "        878.000000       12117.000000         967.000000           0.000000 \n",
       "    Percent.In.QTL   Percent.In.Other Percent.NotIn.Peak \n",
       "         86.785561           6.288497           6.925942 "
      ]
     },
     "metadata": {},
     "output_type": "display_data"
    },
    {
     "data": {
      "text/html": [
       "<strong>Percent.In.QTL:</strong> 93.074058157857"
      ],
      "text/latex": [
       "\\textbf{Percent.In.QTL:} 93.074058157857"
      ],
      "text/markdown": [
       "**Percent.In.QTL:** 93.074058157857"
      ],
      "text/plain": [
       "Percent.In.QTL \n",
       "      93.07406 "
      ]
     },
     "metadata": {},
     "output_type": "display_data"
    }
   ],
   "source": [
    "counts.all.sum <- filter(counts.all, cell != 'bulk') %>%\n",
    "    select(-cell) %>%\n",
    "    colSums()\n",
    "\n",
    "counts.all.sum$Percent.In.QTL <- ((counts.all.sum['QTL.Peak'] * 100) / sum(counts.all.sum[1:4]))[[1]]\n",
    "counts.all.sum <- unlist(counts.all.sum)\n",
    "counts.all.sum$Percent.In.Other <- ((counts.all.sum['Other.Peak'] * 100) / sum(counts.all.sum[1:4]))[[1]]\n",
    "counts.all.sum <- unlist(counts.all.sum)\n",
    "counts.all.sum$Percent.NotIn.Peak <- ((counts.all.sum['Not.In.Peak'] * 100) / sum(counts.all.sum[1:4]))[[1]]\n",
    "counts.all.sum <- unlist(counts.all.sum)\n",
    "\n",
    "\n",
    "counts.all.sum\n",
    "counts.all.sum['Percent.In.QTL'] + counts.all.sum['Percent.In.Other']"
   ]
  },
  {
   "cell_type": "code",
   "execution_count": 29,
   "id": "a9a7888e",
   "metadata": {
    "vscode": {
     "languageId": "r"
    }
   },
   "outputs": [
    {
     "data": {
      "text/html": [
       "<strong>QTL.Peak:</strong> 86.7855608079072"
      ],
      "text/latex": [
       "\\textbf{QTL.Peak:} 86.7855608079072"
      ],
      "text/markdown": [
       "**QTL.Peak:** 86.7855608079072"
      ],
      "text/plain": [
       "QTL.Peak \n",
       "86.78556 "
      ]
     },
     "metadata": {},
     "output_type": "display_data"
    },
    {
     "data": {
      "text/html": [
       "86.7855608079072"
      ],
      "text/latex": [
       "86.7855608079072"
      ],
      "text/markdown": [
       "86.7855608079072"
      ],
      "text/plain": [
       "[1] 86.78556"
      ]
     },
     "metadata": {},
     "output_type": "display_data"
    }
   ],
   "source": [
    "((counts.all.sum['QTL.Peak'] * 100) / sum(counts.all.sum[1:4]))\n",
    "((counts.all.sum['QTL.Peak'] * 100) / sum(counts.all.sum[1:4]))[[1]]"
   ]
  },
  {
   "cell_type": "code",
   "execution_count": 49,
   "id": "a7d302b1",
   "metadata": {
    "scrolled": true,
    "vscode": {
     "languageId": "r"
    }
   },
   "outputs": [
    {
     "name": "stderr",
     "output_type": "stream",
     "text": [
      "\u001b[1mRows: \u001b[22m\u001b[34m96373\u001b[39m \u001b[1mColumns: \u001b[22m\u001b[34m32\u001b[39m\n",
      "\u001b[36m──\u001b[39m \u001b[1mColumn specification\u001b[22m \u001b[36m────────────────────────────────────────────────────────────────────────────────────────────────\u001b[39m\n",
      "\u001b[1mDelimiter:\u001b[22m \"\\t\"\n",
      "\u001b[31mchr\u001b[39m  (7): Feature, rsID, Chromosome, Ref, Alt, In.Feature, Peak.Intersect.State\n",
      "\u001b[32mdbl\u001b[39m (22): position, Af, HWEChi_square, IA, Log10_qval, Chi_square, Effect_si...\n",
      "\u001b[33mlgl\u001b[39m  (3): flag_fdr10, flag_fdr05, flag_fdr01\n",
      "\n",
      "\u001b[36mℹ\u001b[39m Use `spec()` to retrieve the full column specification for this data.\n",
      "\u001b[36mℹ\u001b[39m Specify the column types or set `show_col_types = FALSE` to quiet this message.\n",
      "\u001b[1mRows: \u001b[22m\u001b[34m107935\u001b[39m \u001b[1mColumns: \u001b[22m\u001b[34m32\u001b[39m\n",
      "\u001b[36m──\u001b[39m \u001b[1mColumn specification\u001b[22m \u001b[36m────────────────────────────────────────────────────────────────────────────────────────────────\u001b[39m\n",
      "\u001b[1mDelimiter:\u001b[22m \"\\t\"\n",
      "\u001b[31mchr\u001b[39m  (7): Feature, rsID, Chromosome, Ref, Alt, In.Feature, Peak.Intersect.State\n",
      "\u001b[32mdbl\u001b[39m (22): position, Af, HWEChi_square, IA, Log10_qval, Chi_square, Effect_si...\n",
      "\u001b[33mlgl\u001b[39m  (3): flag_fdr10, flag_fdr05, flag_fdr01\n",
      "\n",
      "\u001b[36mℹ\u001b[39m Use `spec()` to retrieve the full column specification for this data.\n",
      "\u001b[36mℹ\u001b[39m Specify the column types or set `show_col_types = FALSE` to quiet this message.\n",
      "\u001b[1mRows: \u001b[22m\u001b[34m106506\u001b[39m \u001b[1mColumns: \u001b[22m\u001b[34m32\u001b[39m\n",
      "\u001b[36m──\u001b[39m \u001b[1mColumn specification\u001b[22m \u001b[36m────────────────────────────────────────────────────────────────────────────────────────────────\u001b[39m\n",
      "\u001b[1mDelimiter:\u001b[22m \"\\t\"\n",
      "\u001b[31mchr\u001b[39m  (7): Feature, rsID, Chromosome, Ref, Alt, In.Feature, Peak.Intersect.State\n",
      "\u001b[32mdbl\u001b[39m (22): position, Af, HWEChi_square, IA, Log10_qval, Chi_square, Effect_si...\n",
      "\u001b[33mlgl\u001b[39m  (3): flag_fdr10, flag_fdr05, flag_fdr01\n",
      "\n",
      "\u001b[36mℹ\u001b[39m Use `spec()` to retrieve the full column specification for this data.\n",
      "\u001b[36mℹ\u001b[39m Specify the column types or set `show_col_types = FALSE` to quiet this message.\n",
      "\u001b[1mRows: \u001b[22m\u001b[34m252057\u001b[39m \u001b[1mColumns: \u001b[22m\u001b[34m32\u001b[39m\n",
      "\u001b[36m──\u001b[39m \u001b[1mColumn specification\u001b[22m \u001b[36m────────────────────────────────────────────────────────────────────────────────────────────────\u001b[39m\n",
      "\u001b[1mDelimiter:\u001b[22m \"\\t\"\n",
      "\u001b[31mchr\u001b[39m  (7): Feature, rsID, Chromosome, Ref, Alt, In.Feature, Peak.Intersect.State\n",
      "\u001b[32mdbl\u001b[39m (22): position, Af, HWEChi_square, IA, Log10_qval, Chi_square, Effect_si...\n",
      "\u001b[33mlgl\u001b[39m  (3): flag_fdr10, flag_fdr05, flag_fdr01\n",
      "\n",
      "\u001b[36mℹ\u001b[39m Use `spec()` to retrieve the full column specification for this data.\n",
      "\u001b[36mℹ\u001b[39m Specify the column types or set `show_col_types = FALSE` to quiet this message.\n",
      "\u001b[1mRows: \u001b[22m\u001b[34m79636\u001b[39m \u001b[1mColumns: \u001b[22m\u001b[34m32\u001b[39m\n",
      "\u001b[36m──\u001b[39m \u001b[1mColumn specification\u001b[22m \u001b[36m────────────────────────────────────────────────────────────────────────────────────────────────\u001b[39m\n",
      "\u001b[1mDelimiter:\u001b[22m \"\\t\"\n",
      "\u001b[31mchr\u001b[39m  (7): Feature, rsID, Chromosome, Ref, Alt, In.Feature, Peak.Intersect.State\n",
      "\u001b[32mdbl\u001b[39m (22): position, Af, HWEChi_square, IA, Log10_qval, Chi_square, Effect_si...\n",
      "\u001b[33mlgl\u001b[39m  (3): flag_fdr10, flag_fdr05, flag_fdr01\n",
      "\n",
      "\u001b[36mℹ\u001b[39m Use `spec()` to retrieve the full column specification for this data.\n",
      "\u001b[36mℹ\u001b[39m Specify the column types or set `show_col_types = FALSE` to quiet this message.\n",
      "\u001b[1mRows: \u001b[22m\u001b[34m49135\u001b[39m \u001b[1mColumns: \u001b[22m\u001b[34m32\u001b[39m\n",
      "\u001b[36m──\u001b[39m \u001b[1mColumn specification\u001b[22m \u001b[36m────────────────────────────────────────────────────────────────────────────────────────────────\u001b[39m\n",
      "\u001b[1mDelimiter:\u001b[22m \"\\t\"\n",
      "\u001b[31mchr\u001b[39m  (7): Feature, rsID, Chromosome, Ref, Alt, In.Feature, Peak.Intersect.State\n",
      "\u001b[32mdbl\u001b[39m (22): position, Af, HWEChi_square, IA, Log10_qval, Chi_square, Effect_si...\n",
      "\u001b[33mlgl\u001b[39m  (3): flag_fdr10, flag_fdr05, flag_fdr01\n",
      "\n",
      "\u001b[36mℹ\u001b[39m Use `spec()` to retrieve the full column specification for this data.\n",
      "\u001b[36mℹ\u001b[39m Specify the column types or set `show_col_types = FALSE` to quiet this message.\n",
      "\u001b[1mRows: \u001b[22m\u001b[34m60138\u001b[39m \u001b[1mColumns: \u001b[22m\u001b[34m32\u001b[39m\n",
      "\u001b[36m──\u001b[39m \u001b[1mColumn specification\u001b[22m \u001b[36m────────────────────────────────────────────────────────────────────────────────────────────────\u001b[39m\n",
      "\u001b[1mDelimiter:\u001b[22m \"\\t\"\n",
      "\u001b[31mchr\u001b[39m  (7): Feature, rsID, Chromosome, Ref, Alt, In.Feature, Peak.Intersect.State\n",
      "\u001b[32mdbl\u001b[39m (22): position, Af, HWEChi_square, IA, Log10_qval, Chi_square, Effect_si...\n",
      "\u001b[33mlgl\u001b[39m  (3): flag_fdr10, flag_fdr05, flag_fdr01\n",
      "\n",
      "\u001b[36mℹ\u001b[39m Use `spec()` to retrieve the full column specification for this data.\n",
      "\u001b[36mℹ\u001b[39m Specify the column types or set `show_col_types = FALSE` to quiet this message.\n"
     ]
    },
    {
     "data": {
      "text/html": [
       "20618"
      ],
      "text/latex": [
       "20618"
      ],
      "text/markdown": [
       "20618"
      ],
      "text/plain": [
       "[1] 20618"
      ]
     },
     "metadata": {},
     "output_type": "display_data"
    },
    {
     "data": {
      "text/html": [
       "<style>\n",
       ".list-inline {list-style: none; margin:0; padding: 0}\n",
       ".list-inline>li {display: inline-block}\n",
       ".list-inline>li:not(:last-child)::after {content: \"\\00b7\"; padding: 0 .5ex}\n",
       "</style>\n",
       "<ol class=list-inline><li>26179</li><li>32</li></ol>\n"
      ],
      "text/latex": [
       "\\begin{enumerate*}\n",
       "\\item 26179\n",
       "\\item 32\n",
       "\\end{enumerate*}\n"
      ],
      "text/markdown": [
       "1. 26179\n",
       "2. 32\n",
       "\n",
       "\n"
      ],
      "text/plain": [
       "[1] 26179    32"
      ]
     },
     "metadata": {},
     "output_type": "display_data"
    },
    {
     "data": {
      "text/html": [
       "<table class=\"dataframe\">\n",
       "<caption>A tibble: 6 × 32</caption>\n",
       "<thead>\n",
       "\t<tr><th scope=col>Feature</th><th scope=col>rsID</th><th scope=col>Chromosome</th><th scope=col>position</th><th scope=col>Ref</th><th scope=col>Alt</th><th scope=col>Af</th><th scope=col>HWEChi_square</th><th scope=col>IA</th><th scope=col>Log10_qval</th><th scope=col>⋯</th><th scope=col>Convergence_status</th><th scope=col>r2_fSNPs</th><th scope=col>r2_rSNP</th><th scope=col>P_VAl</th><th scope=col>dist</th><th scope=col>flag_fdr10</th><th scope=col>flag_fdr05</th><th scope=col>flag_fdr01</th><th scope=col>In.Feature</th><th scope=col>Peak.Intersect.State</th></tr>\n",
       "\t<tr><th scope=col>&lt;chr&gt;</th><th scope=col>&lt;chr&gt;</th><th scope=col>&lt;chr&gt;</th><th scope=col>&lt;dbl&gt;</th><th scope=col>&lt;chr&gt;</th><th scope=col>&lt;chr&gt;</th><th scope=col>&lt;dbl&gt;</th><th scope=col>&lt;dbl&gt;</th><th scope=col>&lt;dbl&gt;</th><th scope=col>&lt;dbl&gt;</th><th scope=col>⋯</th><th scope=col>&lt;dbl&gt;</th><th scope=col>&lt;dbl&gt;</th><th scope=col>&lt;dbl&gt;</th><th scope=col>&lt;dbl&gt;</th><th scope=col>&lt;dbl&gt;</th><th scope=col>&lt;lgl&gt;</th><th scope=col>&lt;lgl&gt;</th><th scope=col>&lt;lgl&gt;</th><th scope=col>&lt;chr&gt;</th><th scope=col>&lt;chr&gt;</th></tr>\n",
       "</thead>\n",
       "<tbody>\n",
       "\t<tr><td>chr6:32622377-32623439 </td><td>chr6:32620608:T:A </td><td>chr6 </td><td>32620608</td><td>T</td><td>A</td><td>0.425926</td><td>2.231991</td><td>0.998678</td><td>-67.03611</td><td>⋯</td><td>0</td><td>0.991233</td><td>0.824496</td><td>8.976233e-71</td><td>-2300</td><td>TRUE</td><td>TRUE</td><td>TRUE</td><td>NA                     </td><td>Not.In.Peak  </td></tr>\n",
       "\t<tr><td>chr9:6931452-6932441   </td><td>chr9:6929401:T:A  </td><td>chr9 </td><td> 6929401</td><td>T</td><td>A</td><td>0.333333</td><td>0.750000</td><td>0.993936</td><td>-36.60879</td><td>⋯</td><td>0</td><td>0.977371</td><td>0.985795</td><td>1.925609e-38</td><td>-2545</td><td>TRUE</td><td>TRUE</td><td>TRUE</td><td>NA                     </td><td>Not.In.Peak  </td></tr>\n",
       "\t<tr><td>chr4:7164816-7165698   </td><td>chr4:7160692:T:C  </td><td>chr4 </td><td> 7160692</td><td>T</td><td>C</td><td>0.277778</td><td>0.006391</td><td>0.999935</td><td>-32.46831</td><td>⋯</td><td>0</td><td>0.988775</td><td>0.902371</td><td>1.502522e-34</td><td>-4565</td><td>TRUE</td><td>TRUE</td><td>TRUE</td><td>chr4:7160139-7160834   </td><td>In.Other.Peak</td></tr>\n",
       "\t<tr><td>chr9:93230239-93231938 </td><td>chr9:93231475:G:A </td><td>chr9 </td><td>93231475</td><td>G</td><td>A</td><td>0.222222</td><td>0.137755</td><td>0.999392</td><td>-30.83427</td><td>⋯</td><td>0</td><td>0.988759</td><td>0.992117</td><td>3.105136e-32</td><td>  387</td><td>TRUE</td><td>TRUE</td><td>TRUE</td><td>chr9:93230239-93231938 </td><td>In.caQTL.Peak</td></tr>\n",
       "\t<tr><td>chr17:76968760-76970675</td><td>chr17:76972946:C:A</td><td>chr17</td><td>76972946</td><td>C</td><td>A</td><td>0.296296</td><td>0.337734</td><td>0.980182</td><td>-29.73370</td><td>⋯</td><td>0</td><td>0.985793</td><td>0.940828</td><td>4.969777e-32</td><td> 3228</td><td>TRUE</td><td>TRUE</td><td>TRUE</td><td>NA                     </td><td>Not.In.Peak  </td></tr>\n",
       "\t<tr><td>chr21:13979625-13980808</td><td>chr21:13980560:G:C</td><td>chr21</td><td>13980560</td><td>G</td><td>C</td><td>0.314815</td><td>0.083599</td><td>0.930667</td><td>-27.70426</td><td>⋯</td><td>0</td><td>0.891880</td><td>0.870565</td><td>7.793799e-30</td><td>  344</td><td>TRUE</td><td>TRUE</td><td>TRUE</td><td>chr21:13979625-13980808</td><td>In.caQTL.Peak</td></tr>\n",
       "</tbody>\n",
       "</table>\n"
      ],
      "text/latex": [
       "A tibble: 6 × 32\n",
       "\\begin{tabular}{lllllllllllllllllllll}\n",
       " Feature & rsID & Chromosome & position & Ref & Alt & Af & HWEChi\\_square & IA & Log10\\_qval & ⋯ & Convergence\\_status & r2\\_fSNPs & r2\\_rSNP & P\\_VAl & dist & flag\\_fdr10 & flag\\_fdr05 & flag\\_fdr01 & In.Feature & Peak.Intersect.State\\\\\n",
       " <chr> & <chr> & <chr> & <dbl> & <chr> & <chr> & <dbl> & <dbl> & <dbl> & <dbl> & ⋯ & <dbl> & <dbl> & <dbl> & <dbl> & <dbl> & <lgl> & <lgl> & <lgl> & <chr> & <chr>\\\\\n",
       "\\hline\n",
       "\t chr6:32622377-32623439  & chr6:32620608:T:A  & chr6  & 32620608 & T & A & 0.425926 & 2.231991 & 0.998678 & -67.03611 & ⋯ & 0 & 0.991233 & 0.824496 & 8.976233e-71 & -2300 & TRUE & TRUE & TRUE & NA                      & Not.In.Peak  \\\\\n",
       "\t chr9:6931452-6932441    & chr9:6929401:T:A   & chr9  &  6929401 & T & A & 0.333333 & 0.750000 & 0.993936 & -36.60879 & ⋯ & 0 & 0.977371 & 0.985795 & 1.925609e-38 & -2545 & TRUE & TRUE & TRUE & NA                      & Not.In.Peak  \\\\\n",
       "\t chr4:7164816-7165698    & chr4:7160692:T:C   & chr4  &  7160692 & T & C & 0.277778 & 0.006391 & 0.999935 & -32.46831 & ⋯ & 0 & 0.988775 & 0.902371 & 1.502522e-34 & -4565 & TRUE & TRUE & TRUE & chr4:7160139-7160834    & In.Other.Peak\\\\\n",
       "\t chr9:93230239-93231938  & chr9:93231475:G:A  & chr9  & 93231475 & G & A & 0.222222 & 0.137755 & 0.999392 & -30.83427 & ⋯ & 0 & 0.988759 & 0.992117 & 3.105136e-32 &   387 & TRUE & TRUE & TRUE & chr9:93230239-93231938  & In.caQTL.Peak\\\\\n",
       "\t chr17:76968760-76970675 & chr17:76972946:C:A & chr17 & 76972946 & C & A & 0.296296 & 0.337734 & 0.980182 & -29.73370 & ⋯ & 0 & 0.985793 & 0.940828 & 4.969777e-32 &  3228 & TRUE & TRUE & TRUE & NA                      & Not.In.Peak  \\\\\n",
       "\t chr21:13979625-13980808 & chr21:13980560:G:C & chr21 & 13980560 & G & C & 0.314815 & 0.083599 & 0.930667 & -27.70426 & ⋯ & 0 & 0.891880 & 0.870565 & 7.793799e-30 &   344 & TRUE & TRUE & TRUE & chr21:13979625-13980808 & In.caQTL.Peak\\\\\n",
       "\\end{tabular}\n"
      ],
      "text/markdown": [
       "\n",
       "A tibble: 6 × 32\n",
       "\n",
       "| Feature &lt;chr&gt; | rsID &lt;chr&gt; | Chromosome &lt;chr&gt; | position &lt;dbl&gt; | Ref &lt;chr&gt; | Alt &lt;chr&gt; | Af &lt;dbl&gt; | HWEChi_square &lt;dbl&gt; | IA &lt;dbl&gt; | Log10_qval &lt;dbl&gt; | ⋯ ⋯ | Convergence_status &lt;dbl&gt; | r2_fSNPs &lt;dbl&gt; | r2_rSNP &lt;dbl&gt; | P_VAl &lt;dbl&gt; | dist &lt;dbl&gt; | flag_fdr10 &lt;lgl&gt; | flag_fdr05 &lt;lgl&gt; | flag_fdr01 &lt;lgl&gt; | In.Feature &lt;chr&gt; | Peak.Intersect.State &lt;chr&gt; |\n",
       "|---|---|---|---|---|---|---|---|---|---|---|---|---|---|---|---|---|---|---|---|---|\n",
       "| chr6:32622377-32623439  | chr6:32620608:T:A  | chr6  | 32620608 | T | A | 0.425926 | 2.231991 | 0.998678 | -67.03611 | ⋯ | 0 | 0.991233 | 0.824496 | 8.976233e-71 | -2300 | TRUE | TRUE | TRUE | NA                      | Not.In.Peak   |\n",
       "| chr9:6931452-6932441    | chr9:6929401:T:A   | chr9  |  6929401 | T | A | 0.333333 | 0.750000 | 0.993936 | -36.60879 | ⋯ | 0 | 0.977371 | 0.985795 | 1.925609e-38 | -2545 | TRUE | TRUE | TRUE | NA                      | Not.In.Peak   |\n",
       "| chr4:7164816-7165698    | chr4:7160692:T:C   | chr4  |  7160692 | T | C | 0.277778 | 0.006391 | 0.999935 | -32.46831 | ⋯ | 0 | 0.988775 | 0.902371 | 1.502522e-34 | -4565 | TRUE | TRUE | TRUE | chr4:7160139-7160834    | In.Other.Peak |\n",
       "| chr9:93230239-93231938  | chr9:93231475:G:A  | chr9  | 93231475 | G | A | 0.222222 | 0.137755 | 0.999392 | -30.83427 | ⋯ | 0 | 0.988759 | 0.992117 | 3.105136e-32 |   387 | TRUE | TRUE | TRUE | chr9:93230239-93231938  | In.caQTL.Peak |\n",
       "| chr17:76968760-76970675 | chr17:76972946:C:A | chr17 | 76972946 | C | A | 0.296296 | 0.337734 | 0.980182 | -29.73370 | ⋯ | 0 | 0.985793 | 0.940828 | 4.969777e-32 |  3228 | TRUE | TRUE | TRUE | NA                      | Not.In.Peak   |\n",
       "| chr21:13979625-13980808 | chr21:13980560:G:C | chr21 | 13980560 | G | C | 0.314815 | 0.083599 | 0.930667 | -27.70426 | ⋯ | 0 | 0.891880 | 0.870565 | 7.793799e-30 |   344 | TRUE | TRUE | TRUE | chr21:13979625-13980808 | In.caQTL.Peak |\n",
       "\n"
      ],
      "text/plain": [
       "  Feature                 rsID               Chromosome position Ref Alt\n",
       "1 chr6:32622377-32623439  chr6:32620608:T:A  chr6       32620608 T   A  \n",
       "2 chr9:6931452-6932441    chr9:6929401:T:A   chr9        6929401 T   A  \n",
       "3 chr4:7164816-7165698    chr4:7160692:T:C   chr4        7160692 T   C  \n",
       "4 chr9:93230239-93231938  chr9:93231475:G:A  chr9       93231475 G   A  \n",
       "5 chr17:76968760-76970675 chr17:76972946:C:A chr17      76972946 C   A  \n",
       "6 chr21:13979625-13980808 chr21:13980560:G:C chr21      13980560 G   C  \n",
       "  Af       HWEChi_square IA       Log10_qval ⋯ Convergence_status r2_fSNPs\n",
       "1 0.425926 2.231991      0.998678 -67.03611  ⋯ 0                  0.991233\n",
       "2 0.333333 0.750000      0.993936 -36.60879  ⋯ 0                  0.977371\n",
       "3 0.277778 0.006391      0.999935 -32.46831  ⋯ 0                  0.988775\n",
       "4 0.222222 0.137755      0.999392 -30.83427  ⋯ 0                  0.988759\n",
       "5 0.296296 0.337734      0.980182 -29.73370  ⋯ 0                  0.985793\n",
       "6 0.314815 0.083599      0.930667 -27.70426  ⋯ 0                  0.891880\n",
       "  r2_rSNP  P_VAl        dist  flag_fdr10 flag_fdr05 flag_fdr01\n",
       "1 0.824496 8.976233e-71 -2300 TRUE       TRUE       TRUE      \n",
       "2 0.985795 1.925609e-38 -2545 TRUE       TRUE       TRUE      \n",
       "3 0.902371 1.502522e-34 -4565 TRUE       TRUE       TRUE      \n",
       "4 0.992117 3.105136e-32   387 TRUE       TRUE       TRUE      \n",
       "5 0.940828 4.969777e-32  3228 TRUE       TRUE       TRUE      \n",
       "6 0.870565 7.793799e-30   344 TRUE       TRUE       TRUE      \n",
       "  In.Feature              Peak.Intersect.State\n",
       "1 NA                      Not.In.Peak         \n",
       "2 NA                      Not.In.Peak         \n",
       "3 chr4:7160139-7160834    In.Other.Peak       \n",
       "4 chr9:93230239-93231938  In.caQTL.Peak       \n",
       "5 NA                      Not.In.Peak         \n",
       "6 chr21:13979625-13980808 In.caQTL.Peak       "
      ]
     },
     "metadata": {},
     "output_type": "display_data"
    }
   ],
   "source": [
    "# Join all the lead summary stats across cell types\n",
    "combined_lead <- data.frame()\n",
    "for (c in cell_types_tested) {\n",
    "    ct_lead <- vroom(paste0(intermediates.dir, c, '_lead_sum_stats_run1F_intersect_flag.tsv'), \n",
    "                delim='\\t')\n",
    "    ct_lead <- filter(ct_lead, flag_fdr05)\n",
    "    combined_lead <- rbind(combined_lead, ct_lead)\n",
    "}\n",
    "\n",
    "length(unique(combined_lead$rsID))\n",
    "dim(combined_lead)\n",
    "head(combined_lead)"
   ]
  },
  {
   "cell_type": "code",
   "execution_count": null,
   "id": "b430132e",
   "metadata": {
    "vscode": {
     "languageId": "r"
    }
   },
   "outputs": [],
   "source": []
  },
  {
   "cell_type": "code",
   "execution_count": 50,
   "id": "98bdfa51",
   "metadata": {
    "scrolled": true,
    "vscode": {
     "languageId": "r"
    }
   },
   "outputs": [
    {
     "data": {
      "text/html": [
       "<style>\n",
       ".list-inline {list-style: none; margin:0; padding: 0}\n",
       ".list-inline>li {display: inline-block}\n",
       ".list-inline>li:not(:last-child)::after {content: \"\\00b7\"; padding: 0 .5ex}\n",
       "</style>\n",
       "<ol class=list-inline><li>20618</li><li>6</li></ol>\n"
      ],
      "text/latex": [
       "\\begin{enumerate*}\n",
       "\\item 20618\n",
       "\\item 6\n",
       "\\end{enumerate*}\n"
      ],
      "text/markdown": [
       "1. 20618\n",
       "2. 6\n",
       "\n",
       "\n"
      ],
      "text/plain": [
       "[1] 20618     6"
      ]
     },
     "metadata": {},
     "output_type": "display_data"
    }
   ],
   "source": [
    "spt = str_split_fixed(combined_lead$rsID, \"\\\\:\", 4)\n",
    "newinps = data.frame(spt[,1], as.numeric(spt[,2])-1, spt[,2], combined_lead$rsID, 0, \"+\" )\n",
    "newinps = newinps[!duplicated(newinps),]\n",
    "dim(newinps) #Run4: 361264\n",
    "\n",
    "write.table( newinps, paste0(\"/path/to/caQTL/stuff/motifs/Input_leadvars_list_all_sig_leads_Run1F.tsv\"), \n",
    "            sep=\"\\t\", quote=F, row.names=F, col.names=F)"
   ]
  },
  {
   "cell_type": "code",
   "execution_count": 51,
   "id": "f97b9b61",
   "metadata": {
    "vscode": {
     "languageId": "r"
    }
   },
   "outputs": [],
   "source": [
    "#hocomoco2 = MotifDb[mcols(MotifDb)$dataSource=='HOCOMOCOv10' & mcols(MotifDb)$organism=='Hsapiens']\n",
    "jaspar = MotifDb[mcols(MotifDb)$dataSource=='jaspar2022' & mcols(MotifDb)$organism=='Hsapiens']\n",
    "\n",
    "snps <- snps.from.file(file = paste0(\"/path/to/caQTL/stuff/motifs/Input_leadvars_list_all_sig_leads_Run1F.tsv\"),\n",
    "                       search.genome = BSgenome.Hsapiens.UCSC.hg38,format = \"bed\")                                 \n",
    "n = length(snps)\n",
    "s =seq(1, n, by=200)\n",
    "end = s[length(s)-1]\n",
    "e =c(seq(200, n, by=200),n)"
   ]
  },
  {
   "cell_type": "code",
   "execution_count": null,
   "id": "88396fd3",
   "metadata": {
    "vscode": {
     "languageId": "r"
    }
   },
   "outputs": [],
   "source": []
  },
  {
   "cell_type": "code",
   "execution_count": 58,
   "id": "4d8c79b0",
   "metadata": {
    "scrolled": true,
    "vscode": {
     "languageId": "r"
    }
   },
   "outputs": [
    {
     "name": "stderr",
     "output_type": "stream",
     "text": [
      "1 out of 104\n",
      "\n",
      "2 out of 104\n",
      "\n",
      "3 out of 104\n",
      "\n",
      "4 out of 104\n",
      "\n",
      "5 out of 104\n",
      "\n",
      "6 out of 104\n",
      "\n",
      "7 out of 104\n",
      "\n",
      "8 out of 104\n",
      "\n",
      "9 out of 104\n",
      "\n",
      "10 out of 104\n",
      "\n",
      "11 out of 104\n",
      "\n",
      "12 out of 104\n",
      "\n",
      "13 out of 104\n",
      "\n",
      "14 out of 104\n",
      "\n",
      "15 out of 104\n",
      "\n",
      "16 out of 104\n",
      "\n",
      "17 out of 104\n",
      "\n",
      "18 out of 104\n",
      "\n",
      "19 out of 104\n",
      "\n",
      "20 out of 104\n",
      "\n",
      "21 out of 104\n",
      "\n",
      "22 out of 104\n",
      "\n",
      "23 out of 104\n",
      "\n",
      "24 out of 104\n",
      "\n",
      "25 out of 104\n",
      "\n",
      "26 out of 104\n",
      "\n",
      "27 out of 104\n",
      "\n",
      "28 out of 104\n",
      "\n",
      "29 out of 104\n",
      "\n",
      "30 out of 104\n",
      "\n",
      "31 out of 104\n",
      "\n",
      "32 out of 104\n",
      "\n",
      "33 out of 104\n",
      "\n",
      "34 out of 104\n",
      "\n",
      "35 out of 104\n",
      "\n",
      "36 out of 104\n",
      "\n",
      "37 out of 104\n",
      "\n",
      "38 out of 104\n",
      "\n",
      "39 out of 104\n",
      "\n",
      "40 out of 104\n",
      "\n",
      "41 out of 104\n",
      "\n",
      "42 out of 104\n",
      "\n",
      "43 out of 104\n",
      "\n",
      "44 out of 104\n",
      "\n",
      "45 out of 104\n",
      "\n",
      "46 out of 104\n",
      "\n",
      "47 out of 104\n",
      "\n",
      "48 out of 104\n",
      "\n",
      "49 out of 104\n",
      "\n",
      "50 out of 104\n",
      "\n",
      "51 out of 104\n",
      "\n",
      "52 out of 104\n",
      "\n",
      "53 out of 104\n",
      "\n",
      "54 out of 104\n",
      "\n",
      "55 out of 104\n",
      "\n",
      "56 out of 104\n",
      "\n",
      "57 out of 104\n",
      "\n",
      "58 out of 104\n",
      "\n",
      "59 out of 104\n",
      "\n",
      "60 out of 104\n",
      "\n",
      "61 out of 104\n",
      "\n",
      "62 out of 104\n",
      "\n",
      "63 out of 104\n",
      "\n",
      "64 out of 104\n",
      "\n",
      "65 out of 104\n",
      "\n",
      "66 out of 104\n",
      "\n",
      "67 out of 104\n",
      "\n",
      "68 out of 104\n",
      "\n",
      "69 out of 104\n",
      "\n",
      "70 out of 104\n",
      "\n",
      "71 out of 104\n",
      "\n",
      "72 out of 104\n",
      "\n",
      "73 out of 104\n",
      "\n",
      "74 out of 104\n",
      "\n",
      "75 out of 104\n",
      "\n",
      "76 out of 104\n",
      "\n",
      "77 out of 104\n",
      "\n",
      "78 out of 104\n",
      "\n",
      "79 out of 104\n",
      "\n",
      "80 out of 104\n",
      "\n",
      "81 out of 104\n",
      "\n",
      "82 out of 104\n",
      "\n",
      "83 out of 104\n",
      "\n",
      "84 out of 104\n",
      "\n",
      "85 out of 104\n",
      "\n",
      "86 out of 104\n",
      "\n",
      "87 out of 104\n",
      "\n",
      "88 out of 104\n",
      "\n",
      "89 out of 104\n",
      "\n",
      "90 out of 104\n",
      "\n",
      "91 out of 104\n",
      "\n",
      "92 out of 104\n",
      "\n",
      "93 out of 104\n",
      "\n",
      "94 out of 104\n",
      "\n",
      "95 out of 104\n",
      "\n",
      "96 out of 104\n",
      "\n",
      "97 out of 104\n",
      "\n",
      "98 out of 104\n",
      "\n",
      "99 out of 104\n",
      "\n",
      "100 out of 104\n",
      "\n",
      "101 out of 104\n",
      "\n",
      "102 out of 104\n",
      "\n",
      "103 out of 104\n",
      "\n",
      "104 out of 104\n",
      "\n"
     ]
    }
   ],
   "source": [
    "# Run motifbreakR\n",
    "for (i in seq(1:length(s))){\n",
    "    test=snps[s[i]:e[i]]\n",
    "    results <- mclapply(1:length(test), function(x) data.frame(motifbreakR(snpList = test[x], filterp = TRUE,\n",
    "                       pwmList = jaspar,\n",
    "                       method=\"ic\",\n",
    "                       threshold = 5e-4,\n",
    "                       BPPARAM = BiocParallel::bpparam(\"SerialParam\"))), mc.cores=18 )\n",
    "\n",
    "    rb = rbindlist(results[lapply(results, class) == \"data.frame\"])\n",
    "                         \n",
    "    rb$motifPos2 <- sapply(rb$motifPos,\"[[\",2)\n",
    "    rb$motifPos <- sapply(rb$motifPos,\"[[\",1)\n",
    "\n",
    "    if(nrow(rb)>0){\n",
    "      write.table(rb, paste0(\"/path/to/caQTL/stuff/motifs/jaspar/all_sig_leads_Run1F/Results_JASPAR2022_\", s[i], \"_\", e[i], \".tsv\"), quote=F, row.names=F, sep=\"\\t\")  \n",
    "    }\n",
    "    message(paste0(i, \" out of \", length(s)))\n",
    "                        \n",
    "    gc()\n",
    "}   "
   ]
  },
  {
   "cell_type": "code",
   "execution_count": 59,
   "id": "abdb0350",
   "metadata": {
    "vscode": {
     "languageId": "r"
    }
   },
   "outputs": [],
   "source": [
    "files = list.files('/path/to/caQTL/stuff/motifs/jaspar/all_sig_leads_Run1F')[grepl(\"Results_JASPAR2022\", list.files('/path/to/caQTL/stuff/motifs/jaspar/all_sig_leads_Run1F'))]"
   ]
  },
  {
   "cell_type": "code",
   "execution_count": 60,
   "id": "cfcf4b13",
   "metadata": {
    "vscode": {
     "languageId": "r"
    }
   },
   "outputs": [
    {
     "data": {
      "text/html": [
       "104"
      ],
      "text/latex": [
       "104"
      ],
      "text/markdown": [
       "104"
      ],
      "text/plain": [
       "[1] 104"
      ]
     },
     "metadata": {},
     "output_type": "display_data"
    }
   ],
   "source": [
    "length(files)"
   ]
  },
  {
   "cell_type": "code",
   "execution_count": 61,
   "id": "da390cee",
   "metadata": {
    "vscode": {
     "languageId": "r"
    }
   },
   "outputs": [
    {
     "data": {
      "text/html": [
       "<style>\n",
       ".list-inline {list-style: none; margin:0; padding: 0}\n",
       ".list-inline>li {display: inline-block}\n",
       ".list-inline>li:not(:last-child)::after {content: \"\\00b7\"; padding: 0 .5ex}\n",
       "</style>\n",
       "<ol class=list-inline><li>211922</li><li>16</li></ol>\n"
      ],
      "text/latex": [
       "\\begin{enumerate*}\n",
       "\\item 211922\n",
       "\\item 16\n",
       "\\end{enumerate*}\n"
      ],
      "text/markdown": [
       "1. 211922\n",
       "2. 16\n",
       "\n",
       "\n"
      ],
      "text/plain": [
       "[1] 211922     16"
      ]
     },
     "metadata": {},
     "output_type": "display_data"
    }
   ],
   "source": [
    "# Compile results\n",
    "RES = data.frame()\n",
    "for( f in files){\n",
    "    res = read.table(paste0('/path/to/caQTL/stuff/motifs/jaspar/all_sig_leads_Run1F/',f),  row.names=NULL, header=T, sep=\"\\t\", stringsAsFactors = F)\n",
    "    RES = rbind(RES, res)\n",
    "}\n",
    "\n",
    "tab = RES[, c(6,10:21, 26,27,25)]\n",
    "tab = tab[order(-abs(tab$alleleDiff)),]\n",
    "tab = tab[!duplicated(tab[,c('SNP_id','geneSymbol' )]),]\n",
    "\n",
    "dim(tab) #Run4 381113x16\n",
    "\n",
    "write.table(tab,    \"/path/to/caQTL/stuff/motifs/Summary_motifs_JASPAR2022_all_sig_leads_Run1F.tsv\", sep=\"\\t\", row.names=F, quote=F)\n",
    "\n",
    "strong = subset(tab,effect==\"strong\" )\n",
    "\n",
    "write.table(strong, \"/path/to/caQTL/stuff/motifs/Summary_motifs_JASPAR2022_strong_all_sig_leads_Run1F.tsv\", sep=\"\\t\", row.names=F, quote=F)"
   ]
  },
  {
   "cell_type": "code",
   "execution_count": 62,
   "id": "6d8402e1",
   "metadata": {
    "vscode": {
     "languageId": "r"
    }
   },
   "outputs": [
    {
     "data": {
      "text/html": [
       "20230"
      ],
      "text/latex": [
       "20230"
      ],
      "text/markdown": [
       "20230"
      ],
      "text/plain": [
       "[1] 20230"
      ]
     },
     "metadata": {},
     "output_type": "display_data"
    }
   ],
   "source": [
    "length(unique(tab$SNP_id))"
   ]
  },
  {
   "cell_type": "code",
   "execution_count": null,
   "id": "7c63ceb9",
   "metadata": {
    "vscode": {
     "languageId": "r"
    }
   },
   "outputs": [],
   "source": []
  },
  {
   "cell_type": "code",
   "execution_count": 114,
   "id": "38c74267",
   "metadata": {
    "vscode": {
     "languageId": "r"
    }
   },
   "outputs": [
    {
     "data": {
      "text/html": [
       "<table class=\"dataframe\">\n",
       "<caption>A spec_tbl_df: 26179 × 34</caption>\n",
       "<thead>\n",
       "\t<tr><th scope=col>Feature</th><th scope=col>rsID</th><th scope=col>Chromosome</th><th scope=col>position</th><th scope=col>Ref</th><th scope=col>Alt</th><th scope=col>Af</th><th scope=col>HWEChi_square</th><th scope=col>IA</th><th scope=col>Log10_qval</th><th scope=col>⋯</th><th scope=col>r2_rSNP</th><th scope=col>P_VAl</th><th scope=col>dist</th><th scope=col>flag_fdr10</th><th scope=col>flag_fdr05</th><th scope=col>flag_fdr01</th><th scope=col>In.Feature</th><th scope=col>Peak.Intersect.State</th><th scope=col>flag_InPeak</th><th scope=col>flag_NotInPeak</th></tr>\n",
       "\t<tr><th scope=col>&lt;chr&gt;</th><th scope=col>&lt;chr&gt;</th><th scope=col>&lt;chr&gt;</th><th scope=col>&lt;dbl&gt;</th><th scope=col>&lt;chr&gt;</th><th scope=col>&lt;chr&gt;</th><th scope=col>&lt;dbl&gt;</th><th scope=col>&lt;dbl&gt;</th><th scope=col>&lt;dbl&gt;</th><th scope=col>&lt;dbl&gt;</th><th scope=col>⋯</th><th scope=col>&lt;dbl&gt;</th><th scope=col>&lt;dbl&gt;</th><th scope=col>&lt;dbl&gt;</th><th scope=col>&lt;lgl&gt;</th><th scope=col>&lt;lgl&gt;</th><th scope=col>&lt;lgl&gt;</th><th scope=col>&lt;chr&gt;</th><th scope=col>&lt;chr&gt;</th><th scope=col>&lt;lgl&gt;</th><th scope=col>&lt;lgl&gt;</th></tr>\n",
       "</thead>\n",
       "<tbody>\n",
       "\t<tr><td>chr6:32622377-32623439   </td><td>chr6:32620608:T:A  </td><td>chr6 </td><td> 32620608</td><td>T</td><td>A</td><td>0.425926</td><td>2.231991</td><td>0.998678</td><td>-67.03611</td><td>⋯</td><td>0.824496</td><td>8.976233e-71</td><td>-2300</td><td>TRUE</td><td>TRUE</td><td>TRUE</td><td>NA                      </td><td>Not.In.Peak  </td><td>FALSE</td><td> TRUE</td></tr>\n",
       "\t<tr><td>chr9:6931452-6932441     </td><td>chr9:6929401:T:A   </td><td>chr9 </td><td>  6929401</td><td>T</td><td>A</td><td>0.333333</td><td>0.750000</td><td>0.993936</td><td>-36.60879</td><td>⋯</td><td>0.985795</td><td>1.925609e-38</td><td>-2545</td><td>TRUE</td><td>TRUE</td><td>TRUE</td><td>NA                      </td><td>Not.In.Peak  </td><td>FALSE</td><td> TRUE</td></tr>\n",
       "\t<tr><td>chr4:7164816-7165698     </td><td>chr4:7160692:T:C   </td><td>chr4 </td><td>  7160692</td><td>T</td><td>C</td><td>0.277778</td><td>0.006391</td><td>0.999935</td><td>-32.46831</td><td>⋯</td><td>0.902371</td><td>1.502522e-34</td><td>-4565</td><td>TRUE</td><td>TRUE</td><td>TRUE</td><td>chr4:7160139-7160834    </td><td>In.Other.Peak</td><td>FALSE</td><td>FALSE</td></tr>\n",
       "\t<tr><td>chr9:93230239-93231938   </td><td>chr9:93231475:G:A  </td><td>chr9 </td><td> 93231475</td><td>G</td><td>A</td><td>0.222222</td><td>0.137755</td><td>0.999392</td><td>-30.83427</td><td>⋯</td><td>0.992117</td><td>3.105136e-32</td><td>  387</td><td>TRUE</td><td>TRUE</td><td>TRUE</td><td>chr9:93230239-93231938  </td><td>In.caQTL.Peak</td><td> TRUE</td><td>FALSE</td></tr>\n",
       "\t<tr><td>chr17:76968760-76970675  </td><td>chr17:76972946:C:A </td><td>chr17</td><td> 76972946</td><td>C</td><td>A</td><td>0.296296</td><td>0.337734</td><td>0.980182</td><td>-29.73370</td><td>⋯</td><td>0.940828</td><td>4.969777e-32</td><td> 3228</td><td>TRUE</td><td>TRUE</td><td>TRUE</td><td>NA                      </td><td>Not.In.Peak  </td><td>FALSE</td><td> TRUE</td></tr>\n",
       "\t<tr><td>chr21:13979625-13980808  </td><td>chr21:13980560:G:C </td><td>chr21</td><td> 13980560</td><td>G</td><td>C</td><td>0.314815</td><td>0.083599</td><td>0.930667</td><td>-27.70426</td><td>⋯</td><td>0.870565</td><td>7.793799e-30</td><td>  344</td><td>TRUE</td><td>TRUE</td><td>TRUE</td><td>chr21:13979625-13980808 </td><td>In.caQTL.Peak</td><td> TRUE</td><td>FALSE</td></tr>\n",
       "\t<tr><td>chr11:69088518-69089750  </td><td>chr11:69098010:G:A </td><td>chr11</td><td> 69098010</td><td>G</td><td>A</td><td>0.518519</td><td>0.942278</td><td>0.995615</td><td>-27.01006</td><td>⋯</td><td>0.986516</td><td>4.959118e-29</td><td> 8876</td><td>TRUE</td><td>TRUE</td><td>TRUE</td><td>NA                      </td><td>Not.In.Peak  </td><td>FALSE</td><td> TRUE</td></tr>\n",
       "\t<tr><td>chr8:17607871-17609288   </td><td>chr8:17608416:A:G  </td><td>chr8 </td><td> 17608416</td><td>A</td><td>G</td><td>0.203704</td><td>0.020395</td><td>0.999237</td><td>-26.74354</td><td>⋯</td><td>0.958916</td><td>5.540007e-29</td><td> -164</td><td>TRUE</td><td>TRUE</td><td>TRUE</td><td>chr8:17607871-17609288  </td><td>In.caQTL.Peak</td><td> TRUE</td><td>FALSE</td></tr>\n",
       "\t<tr><td>chr6:31307758-31309006   </td><td>chr6:31306259:A:G  </td><td>chr6 </td><td> 31306259</td><td>A</td><td>G</td><td>0.111111</td><td>1.687500</td><td>0.999485</td><td>-25.66663</td><td>⋯</td><td>0.989627</td><td>1.045116e-27</td><td>-2123</td><td>TRUE</td><td>TRUE</td><td>TRUE</td><td>NA                      </td><td>Not.In.Peak  </td><td>FALSE</td><td> TRUE</td></tr>\n",
       "\t<tr><td>chr3:125990029-125991054 </td><td>chr3:125990207:G:T </td><td>chr3 </td><td>125990207</td><td>G</td><td>T</td><td>0.185185</td><td>0.008926</td><td>0.999056</td><td>-26.18753</td><td>⋯</td><td>0.983196</td><td>1.591805e-27</td><td> -335</td><td>TRUE</td><td>TRUE</td><td>TRUE</td><td>chr3:125990029-125991054</td><td>In.caQTL.Peak</td><td> TRUE</td><td>FALSE</td></tr>\n",
       "\t<tr><td>chr18:8799900-8801529    </td><td>chr18:8800393:A:T  </td><td>chr18</td><td>  8800393</td><td>A</td><td>T</td><td>0.092593</td><td>0.281133</td><td>0.998518</td><td>-24.17044</td><td>⋯</td><td>0.985117</td><td>7.945836e-27</td><td> -321</td><td>TRUE</td><td>TRUE</td><td>TRUE</td><td>chr18:8799900-8801529   </td><td>In.caQTL.Peak</td><td> TRUE</td><td>FALSE</td></tr>\n",
       "\t<tr><td>chr1:18480265-18481643   </td><td>chr1:18480845:T:C  </td><td>chr1 </td><td> 18480845</td><td>T</td><td>C</td><td>0.555556</td><td>0.067500</td><td>0.980277</td><td>-23.66970</td><td>⋯</td><td>0.965292</td><td>2.325451e-26</td><td> -109</td><td>TRUE</td><td>TRUE</td><td>TRUE</td><td>chr1:18480265-18481643  </td><td>In.caQTL.Peak</td><td> TRUE</td><td>FALSE</td></tr>\n",
       "\t<tr><td>chr6:30453450-30454100   </td><td>chr6:30453779:A:G  </td><td>chr6 </td><td> 30453779</td><td>A</td><td>G</td><td>0.092593</td><td>0.281133</td><td>0.999833</td><td>-24.29801</td><td>⋯</td><td>0.986110</td><td>2.502599e-25</td><td>    4</td><td>TRUE</td><td>TRUE</td><td>TRUE</td><td>chr6:30453450-30454100  </td><td>In.caQTL.Peak</td><td> TRUE</td><td>FALSE</td></tr>\n",
       "\t<tr><td>chr6:31497627-31498514   </td><td>chr6:31488668:G:A  </td><td>chr6 </td><td> 31488668</td><td>G</td><td>A</td><td>0.277778</td><td>0.006391</td><td>0.982339</td><td>-21.14321</td><td>⋯</td><td>0.967396</td><td>4.863287e-24</td><td>-9402</td><td>TRUE</td><td>TRUE</td><td>TRUE</td><td>NA                      </td><td>Not.In.Peak  </td><td>FALSE</td><td> TRUE</td></tr>\n",
       "\t<tr><td>chr8:23717908-23718626   </td><td>chr8:23718176:A:C  </td><td>chr8 </td><td> 23718176</td><td>A</td><td>C</td><td>0.370370</td><td>1.976886</td><td>0.999948</td><td>-21.12123</td><td>⋯</td><td>0.992032</td><td>1.128997e-23</td><td>  -91</td><td>TRUE</td><td>TRUE</td><td>TRUE</td><td>chr8:23717908-23718626  </td><td>In.caQTL.Peak</td><td> TRUE</td><td>FALSE</td></tr>\n",
       "\t<tr><td>chr2:3041890-3043276     </td><td>chr2:3036620:G:A   </td><td>chr2 </td><td>  3036620</td><td>G</td><td>A</td><td>0.240741</td><td>2.714456</td><td>0.999931</td><td>-21.21030</td><td>⋯</td><td>0.985715</td><td>1.768599e-23</td><td>-5963</td><td>TRUE</td><td>TRUE</td><td>TRUE</td><td>NA                      </td><td>Not.In.Peak  </td><td>FALSE</td><td> TRUE</td></tr>\n",
       "\t<tr><td>chr21:46477254-46478360  </td><td>chr21:46481718:C:T </td><td>chr21</td><td> 46481718</td><td>C</td><td>T</td><td>0.388889</td><td>2.846180</td><td>0.998171</td><td>-20.98282</td><td>⋯</td><td>0.969885</td><td>1.262994e-22</td><td> 3911</td><td>TRUE</td><td>TRUE</td><td>TRUE</td><td>NA                      </td><td>Not.In.Peak  </td><td>FALSE</td><td> TRUE</td></tr>\n",
       "\t<tr><td>chr2:62293165-62294384   </td><td>chr2:62293993:C:T  </td><td>chr2 </td><td> 62293993</td><td>C</td><td>T</td><td>0.111111</td><td>0.421875</td><td>0.998186</td><td>-21.23158</td><td>⋯</td><td>0.986761</td><td>1.604890e-22</td><td>  219</td><td>TRUE</td><td>TRUE</td><td>TRUE</td><td>chr2:62293165-62294384  </td><td>In.caQTL.Peak</td><td> TRUE</td><td>FALSE</td></tr>\n",
       "\t<tr><td>chr9:136725693-136725938 </td><td>chr9:136726716:G:A </td><td>chr9 </td><td>136726716</td><td>G</td><td>A</td><td>0.444444</td><td>0.067500</td><td>0.999950</td><td>-19.81373</td><td>⋯</td><td>0.994213</td><td>1.183058e-21</td><td>  900</td><td>TRUE</td><td>TRUE</td><td>TRUE</td><td>chr9:136726712-136726998</td><td>In.Other.Peak</td><td>FALSE</td><td>FALSE</td></tr>\n",
       "\t<tr><td>chr11:5367277-5368032    </td><td>chr11:5365438:G:A  </td><td>chr11</td><td>  5365438</td><td>G</td><td>A</td><td>0.296296</td><td>1.599853</td><td>0.999940</td><td>-19.66787</td><td>⋯</td><td>0.984308</td><td>5.658569e-21</td><td>-2216</td><td>TRUE</td><td>TRUE</td><td>TRUE</td><td>NA                      </td><td>Not.In.Peak  </td><td>FALSE</td><td> TRUE</td></tr>\n",
       "\t<tr><td>chr12:125982853-125984444</td><td>chr12:125992291:C:A</td><td>chr12</td><td>125992291</td><td>C</td><td>A</td><td>0.796296</td><td>0.020395</td><td>0.999918</td><td>-18.21073</td><td>⋯</td><td>0.865507</td><td>8.099472e-21</td><td> 8643</td><td>TRUE</td><td>TRUE</td><td>TRUE</td><td>NA                      </td><td>Not.In.Peak  </td><td>FALSE</td><td> TRUE</td></tr>\n",
       "\t<tr><td>chr13:93454516-93455319  </td><td>chr13:93459590:A:G </td><td>chr13</td><td> 93459590</td><td>A</td><td>G</td><td>0.296296</td><td>0.116863</td><td>0.999939</td><td>-18.79065</td><td>⋯</td><td>0.989921</td><td>1.368405e-20</td><td> 4672</td><td>TRUE</td><td>TRUE</td><td>TRUE</td><td>NA                      </td><td>Not.In.Peak  </td><td>FALSE</td><td> TRUE</td></tr>\n",
       "\t<tr><td>chr1:161611907-161613071 </td><td>chr1:161612710:C:T </td><td>chr1 </td><td>161612710</td><td>C</td><td>T</td><td>0.277778</td><td>1.080000</td><td>0.895477</td><td>-18.07654</td><td>⋯</td><td>0.731703</td><td>1.597410e-20</td><td>  221</td><td>TRUE</td><td>TRUE</td><td>TRUE</td><td>chr1:161611907-161613071</td><td>In.caQTL.Peak</td><td> TRUE</td><td>FALSE</td></tr>\n",
       "\t<tr><td>chr4:169069764-169071360 </td><td>chr4:169071095:C:T </td><td>chr4 </td><td>169071095</td><td>C</td><td>T</td><td>0.555556</td><td>0.067500</td><td>0.999652</td><td>-17.92951</td><td>⋯</td><td>0.993668</td><td>2.261988e-20</td><td>  533</td><td>TRUE</td><td>TRUE</td><td>TRUE</td><td>chr4:169069764-169071360</td><td>In.caQTL.Peak</td><td> TRUE</td><td>FALSE</td></tr>\n",
       "\t<tr><td>chr2:238231152-238231860 </td><td>chr2:238234995:T:G </td><td>chr2 </td><td>238234995</td><td>T</td><td>G</td><td>0.203704</td><td>1.766901</td><td>0.999581</td><td>-17.63086</td><td>⋯</td><td>0.732429</td><td>2.316409e-20</td><td> 3489</td><td>TRUE</td><td>TRUE</td><td>TRUE</td><td>NA                      </td><td>Not.In.Peak  </td><td>FALSE</td><td> TRUE</td></tr>\n",
       "\t<tr><td>chr19:46470791-46472219  </td><td>chr19:46468762:T:G </td><td>chr19</td><td> 46468762</td><td>T</td><td>G</td><td>0.407407</td><td>0.147308</td><td>0.994410</td><td>-17.52697</td><td>⋯</td><td>0.981764</td><td>3.669017e-20</td><td>-2743</td><td>TRUE</td><td>TRUE</td><td>TRUE</td><td>NA                      </td><td>Not.In.Peak  </td><td>FALSE</td><td> TRUE</td></tr>\n",
       "\t<tr><td>chr12:54560027-54561744  </td><td>chr12:54557828:A:G </td><td>chr12</td><td> 54557828</td><td>A</td><td>G</td><td>0.666667</td><td>0.750000</td><td>0.999944</td><td>-18.59889</td><td>⋯</td><td>0.989879</td><td>5.194043e-20</td><td>-3058</td><td>TRUE</td><td>TRUE</td><td>TRUE</td><td>NA                      </td><td>Not.In.Peak  </td><td>FALSE</td><td> TRUE</td></tr>\n",
       "\t<tr><td>chr1:203519193-203520650 </td><td>chr1:203519823:G:T </td><td>chr1 </td><td>203519823</td><td>G</td><td>T</td><td>0.111111</td><td>0.421875</td><td>0.999859</td><td>-17.99563</td><td>⋯</td><td>0.985273</td><td>7.940312e-20</td><td>  -99</td><td>TRUE</td><td>TRUE</td><td>TRUE</td><td>chr1:203519193-203520650</td><td>In.caQTL.Peak</td><td> TRUE</td><td>FALSE</td></tr>\n",
       "\t<tr><td>chr4:1729699-1730102     </td><td>chr4:1729926:C:T   </td><td>chr4 </td><td>  1729926</td><td>C</td><td>T</td><td>0.833333</td><td>0.120000</td><td>0.979711</td><td>-18.04033</td><td>⋯</td><td>0.976059</td><td>8.089181e-20</td><td>   26</td><td>TRUE</td><td>TRUE</td><td>TRUE</td><td>chr4:1729699-1730102    </td><td>In.caQTL.Peak</td><td> TRUE</td><td>FALSE</td></tr>\n",
       "\t<tr><td>chr11:45259418-45260327  </td><td>chr11:45259306:A:G </td><td>chr11</td><td> 45259306</td><td>A</td><td>G</td><td>0.314815</td><td>0.363671</td><td>0.999772</td><td>-18.30305</td><td>⋯</td><td>0.992033</td><td>1.079731e-19</td><td> -566</td><td>TRUE</td><td>TRUE</td><td>TRUE</td><td>NA                      </td><td>Not.In.Peak  </td><td>FALSE</td><td> TRUE</td></tr>\n",
       "\t<tr><td>⋮</td><td>⋮</td><td>⋮</td><td>⋮</td><td>⋮</td><td>⋮</td><td>⋮</td><td>⋮</td><td>⋮</td><td>⋮</td><td>⋱</td><td>⋮</td><td>⋮</td><td>⋮</td><td>⋮</td><td>⋮</td><td>⋮</td><td>⋮</td><td>⋮</td><td>⋮</td><td>⋮</td></tr>\n",
       "\t<tr><td>chr4:142934572-142935233 </td><td>chr4:142934919:A:G </td><td>chr4 </td><td>142934919</td><td>A</td><td>G</td><td>0.153846</td><td>0.335744</td><td>0.997147</td><td>-2.030104</td><td>⋯</td><td>0.982704</td><td>0.008179823</td><td>    17</td><td>TRUE</td><td>TRUE</td><td>FALSE</td><td>chr4:142934572-142935233</td><td>In.caQTL.Peak</td><td> TRUE</td><td>FALSE</td></tr>\n",
       "\t<tr><td>chr4:3239344-3242312     </td><td>chr4:3239686:A:C   </td><td>chr4 </td><td>  3239686</td><td>A</td><td>C</td><td>0.250000</td><td>0.427350</td><td>0.999218</td><td>-1.495834</td><td>⋯</td><td>0.988846</td><td>0.008305976</td><td> -1142</td><td>TRUE</td><td>TRUE</td><td>FALSE</td><td>chr4:3239344-3242312    </td><td>In.caQTL.Peak</td><td> TRUE</td><td>FALSE</td></tr>\n",
       "\t<tr><td>chr12:31073368-31074875  </td><td>chr12:31074546:G:T </td><td>chr12</td><td> 31074546</td><td>G</td><td>T</td><td>0.384615</td><td>0.914062</td><td>0.996242</td><td>-1.938959</td><td>⋯</td><td>0.990384</td><td>0.008336570</td><td>   424</td><td>TRUE</td><td>TRUE</td><td>FALSE</td><td>chr12:31073368-31074875 </td><td>In.caQTL.Peak</td><td> TRUE</td><td>FALSE</td></tr>\n",
       "\t<tr><td>chr9:136784895-136785969 </td><td>chr9:136792497:G:C </td><td>chr9 </td><td>136792497</td><td>G</td><td>C</td><td>0.326923</td><td>0.481847</td><td>0.995894</td><td>-1.503735</td><td>⋯</td><td>0.977536</td><td>0.008382724</td><td>  7065</td><td>TRUE</td><td>TRUE</td><td>FALSE</td><td>NA                      </td><td>Not.In.Peak  </td><td>FALSE</td><td> TRUE</td></tr>\n",
       "\t<tr><td>chr17:46266286-46267685  </td><td>chr17:46267043:A:C </td><td>chr17</td><td> 46267043</td><td>A</td><td>C</td><td>0.192308</td><td>1.719184</td><td>0.984436</td><td>-1.711653</td><td>⋯</td><td>0.898300</td><td>0.008414856</td><td>    57</td><td>TRUE</td><td>TRUE</td><td>FALSE</td><td>chr17:46266286-46267685 </td><td>In.caQTL.Peak</td><td> TRUE</td><td>FALSE</td></tr>\n",
       "\t<tr><td>chr8:88326894-88329071   </td><td>chr8:88322681:A:G  </td><td>chr8 </td><td> 88322681</td><td>A</td><td>G</td><td>0.615385</td><td>2.340000</td><td>0.963185</td><td>-1.493605</td><td>⋯</td><td>0.903365</td><td>0.008700992</td><td> -5301</td><td>TRUE</td><td>TRUE</td><td>FALSE</td><td>NA                      </td><td>Not.In.Peak  </td><td>FALSE</td><td> TRUE</td></tr>\n",
       "\t<tr><td>chr20:47258602-47259426  </td><td>chr20:47262445:T:C </td><td>chr20</td><td> 47262445</td><td>T</td><td>C</td><td>0.307692</td><td>2.006173</td><td>0.999937</td><td>-1.502503</td><td>⋯</td><td>0.993157</td><td>0.008939768</td><td>  3431</td><td>TRUE</td><td>TRUE</td><td>FALSE</td><td>NA                      </td><td>Not.In.Peak  </td><td>FALSE</td><td> TRUE</td></tr>\n",
       "\t<tr><td>chr15:78756754-78757640  </td><td>chr15:78767181:C:A </td><td>chr15</td><td> 78767181</td><td>C</td><td>A</td><td>0.346154</td><td>0.009996</td><td>0.994070</td><td>-1.467806</td><td>⋯</td><td>0.984146</td><td>0.009228250</td><td>  9984</td><td>TRUE</td><td>TRUE</td><td>FALSE</td><td>NA                      </td><td>Not.In.Peak  </td><td>FALSE</td><td> TRUE</td></tr>\n",
       "\t<tr><td>chr5:72584223-72585135   </td><td>chr5:72584687:T:C  </td><td>chr5 </td><td> 72584687</td><td>T</td><td>C</td><td>0.673077</td><td>0.481847</td><td>0.982693</td><td>-1.638140</td><td>⋯</td><td>0.970598</td><td>0.009359531</td><td>     8</td><td>TRUE</td><td>TRUE</td><td>FALSE</td><td>chr5:72584223-72585135  </td><td>In.caQTL.Peak</td><td> TRUE</td><td>FALSE</td></tr>\n",
       "\t<tr><td>chr16:88938719-88939563  </td><td>chr16:88935058:A:C </td><td>chr16</td><td> 88935058</td><td>A</td><td>C</td><td>0.384615</td><td>0.016250</td><td>0.995302</td><td>-1.900039</td><td>⋯</td><td>0.983385</td><td>0.009587075</td><td> -4083</td><td>TRUE</td><td>TRUE</td><td>FALSE</td><td>NA                      </td><td>Not.In.Peak  </td><td>FALSE</td><td> TRUE</td></tr>\n",
       "\t<tr><td>chr3:47008948-47010224   </td><td>chr3:47006962:T:G  </td><td>chr3 </td><td> 47006962</td><td>T</td><td>G</td><td>0.346154</td><td>0.009996</td><td>0.998594</td><td>-1.728157</td><td>⋯</td><td>0.989832</td><td>0.009713238</td><td> -2624</td><td>TRUE</td><td>TRUE</td><td>FALSE</td><td>NA                      </td><td>Not.In.Peak  </td><td>FALSE</td><td> TRUE</td></tr>\n",
       "\t<tr><td>chr14:54870214-54871227  </td><td>chr14:54875002:A:C </td><td>chr14</td><td> 54875002</td><td>A</td><td>C</td><td>0.134615</td><td>0.629136</td><td>0.999226</td><td>-1.493755</td><td>⋯</td><td>0.979148</td><td>0.010320302</td><td>  4282</td><td>TRUE</td><td>TRUE</td><td>FALSE</td><td>NA                      </td><td>Not.In.Peak  </td><td>FALSE</td><td> TRUE</td></tr>\n",
       "\t<tr><td>chr17:47492147-47493178  </td><td>chr17:47492591:C:A </td><td>chr17</td><td> 47492591</td><td>C</td><td>A</td><td>0.057692</td><td>0.097459</td><td>0.999735</td><td>-1.584869</td><td>⋯</td><td>0.977354</td><td>0.010348809</td><td>   -71</td><td>TRUE</td><td>TRUE</td><td>FALSE</td><td>chr17:47492147-47493178 </td><td>In.caQTL.Peak</td><td> TRUE</td><td>FALSE</td></tr>\n",
       "\t<tr><td>chr2:207165082-207167161 </td><td>chr2:207158883:G:C </td><td>chr2 </td><td>207158883</td><td>G</td><td>C</td><td>0.711538</td><td>1.235828</td><td>0.994000</td><td>-1.492888</td><td>⋯</td><td>0.975514</td><td>0.011025166</td><td> -7239</td><td>TRUE</td><td>TRUE</td><td>FALSE</td><td>NA                      </td><td>Not.In.Peak  </td><td>FALSE</td><td> TRUE</td></tr>\n",
       "\t<tr><td>chr8:118103337-118104208 </td><td>chr8:118104011:A:G </td><td>chr8 </td><td>118104011</td><td>A</td><td>G</td><td>0.692308</td><td>0.245756</td><td>0.987666</td><td>-1.598868</td><td>⋯</td><td>0.977185</td><td>0.011107343</td><td>   239</td><td>TRUE</td><td>TRUE</td><td>FALSE</td><td>chr8:118103337-118104208</td><td>In.caQTL.Peak</td><td> TRUE</td><td>FALSE</td></tr>\n",
       "\t<tr><td>chr17:46224813-46225882  </td><td>chr17:46225515:C:T </td><td>chr17</td><td> 46225515</td><td>C</td><td>T</td><td>0.173077</td><td>0.091835</td><td>0.994170</td><td>-1.854251</td><td>⋯</td><td>0.990255</td><td>0.011459501</td><td>   167</td><td>TRUE</td><td>TRUE</td><td>FALSE</td><td>chr17:46224813-46225882 </td><td>In.caQTL.Peak</td><td> TRUE</td><td>FALSE</td></tr>\n",
       "\t<tr><td>chr6:85449462-85450784   </td><td>chr6:85449744:G:C  </td><td>chr6 </td><td> 85449744</td><td>G</td><td>C</td><td>0.115385</td><td>0.442344</td><td>0.999678</td><td>-1.767970</td><td>⋯</td><td>0.982222</td><td>0.011640997</td><td>  -379</td><td>TRUE</td><td>TRUE</td><td>FALSE</td><td>chr6:85449462-85450784  </td><td>In.caQTL.Peak</td><td> TRUE</td><td>FALSE</td></tr>\n",
       "\t<tr><td>chr17:82866180-82867512  </td><td>chr17:82856293:G:A </td><td>chr17</td><td> 82856293</td><td>G</td><td>A</td><td>0.519231</td><td>0.000057</td><td>0.998049</td><td>-1.471988</td><td>⋯</td><td>0.980102</td><td>0.011653010</td><td>-10553</td><td>TRUE</td><td>TRUE</td><td>FALSE</td><td>NA                      </td><td>Not.In.Peak  </td><td>FALSE</td><td> TRUE</td></tr>\n",
       "\t<tr><td>chr9:137261330-137262738 </td><td>chr9:137261767:G:A </td><td>chr9 </td><td>137261767</td><td>G</td><td>A</td><td>0.788462</td><td>1.871505</td><td>0.922056</td><td>-1.679472</td><td>⋯</td><td>0.825954</td><td>0.011788599</td><td>  -267</td><td>TRUE</td><td>TRUE</td><td>FALSE</td><td>chr9:137261330-137262738</td><td>In.caQTL.Peak</td><td> TRUE</td><td>FALSE</td></tr>\n",
       "\t<tr><td>chr12:84507953-84509169  </td><td>chr12:84512670:A:C </td><td>chr12</td><td> 84512670</td><td>A</td><td>C</td><td>0.403846</td><td>0.038343</td><td>0.999948</td><td>-1.588887</td><td>⋯</td><td>0.991761</td><td>0.011820453</td><td>  4109</td><td>TRUE</td><td>TRUE</td><td>FALSE</td><td>NA                      </td><td>Not.In.Peak  </td><td>FALSE</td><td> TRUE</td></tr>\n",
       "\t<tr><td>chr1:156923953-156924537 </td><td>chr1:156924821:G:T </td><td>chr1 </td><td>156924821</td><td>G</td><td>T</td><td>0.134615</td><td>0.792643</td><td>0.999553</td><td>-1.564407</td><td>⋯</td><td>0.986934</td><td>0.012575774</td><td>   576</td><td>TRUE</td><td>TRUE</td><td>FALSE</td><td>NA                      </td><td>Not.In.Peak  </td><td>FALSE</td><td> TRUE</td></tr>\n",
       "\t<tr><td>chr6:119308117-119308688 </td><td>chr6:119308329:T:C </td><td>chr6 </td><td>119308329</td><td>T</td><td>C</td><td>0.115385</td><td>0.442344</td><td>0.999864</td><td>-1.634946</td><td>⋯</td><td>0.985396</td><td>0.012693189</td><td>   -73</td><td>TRUE</td><td>TRUE</td><td>FALSE</td><td>chr6:119308117-119308688</td><td>In.caQTL.Peak</td><td> TRUE</td><td>FALSE</td></tr>\n",
       "\t<tr><td>chr2:67289305-67291036   </td><td>chr2:67298904:T:C  </td><td>chr2 </td><td> 67298904</td><td>T</td><td>C</td><td>0.076923</td><td>0.180556</td><td>0.999800</td><td>-1.467251</td><td>⋯</td><td>0.975005</td><td>0.013258158</td><td>  8734</td><td>TRUE</td><td>TRUE</td><td>FALSE</td><td>NA                      </td><td>Not.In.Peak  </td><td>FALSE</td><td> TRUE</td></tr>\n",
       "\t<tr><td>chr8:8701415-8702819     </td><td>chr8:8704139:G:A   </td><td>chr8 </td><td>  8704139</td><td>G</td><td>A</td><td>0.346154</td><td>0.587552</td><td>0.980959</td><td>-1.654435</td><td>⋯</td><td>0.955637</td><td>0.013347132</td><td>  2022</td><td>TRUE</td><td>TRUE</td><td>FALSE</td><td>NA                      </td><td>Not.In.Peak  </td><td>FALSE</td><td> TRUE</td></tr>\n",
       "\t<tr><td>chr9:86281728-86283429   </td><td>chr9:86282167:C:G  </td><td>chr9 </td><td> 86282167</td><td>C</td><td>G</td><td>0.576923</td><td>0.275996</td><td>0.996825</td><td>-1.487596</td><td>⋯</td><td>0.980034</td><td>0.015225363</td><td>  -411</td><td>TRUE</td><td>TRUE</td><td>FALSE</td><td>chr9:86281728-86283429  </td><td>In.caQTL.Peak</td><td> TRUE</td><td>FALSE</td></tr>\n",
       "\t<tr><td>chr10:100561831-100563289</td><td>chr10:100564225:C:T</td><td>chr10</td><td>100564225</td><td>C</td><td>T</td><td>0.211538</td><td>0.036942</td><td>0.995302</td><td>-1.676400</td><td>⋯</td><td>0.974934</td><td>0.015428337</td><td>  1665</td><td>TRUE</td><td>TRUE</td><td>FALSE</td><td>NA                      </td><td>Not.In.Peak  </td><td>FALSE</td><td> TRUE</td></tr>\n",
       "\t<tr><td>chr10:25293924-25295173  </td><td>chr10:25301261:C:T </td><td>chr10</td><td> 25301261</td><td>C</td><td>T</td><td>0.096154</td><td>0.294251</td><td>0.999838</td><td>-1.476282</td><td>⋯</td><td>0.977377</td><td>0.015687864</td><td>  6713</td><td>TRUE</td><td>TRUE</td><td>FALSE</td><td>NA                      </td><td>Not.In.Peak  </td><td>FALSE</td><td> TRUE</td></tr>\n",
       "\t<tr><td>chr20:9051290-9052374    </td><td>chr20:9048849:A:G  </td><td>chr20</td><td>  9048849</td><td>A</td><td>G</td><td>0.500000</td><td>0.153846</td><td>0.988418</td><td>-1.556730</td><td>⋯</td><td>0.971726</td><td>0.016333604</td><td> -2983</td><td>TRUE</td><td>TRUE</td><td>FALSE</td><td>NA                      </td><td>Not.In.Peak  </td><td>FALSE</td><td> TRUE</td></tr>\n",
       "\t<tr><td>chr15:64835633-64836394  </td><td>chr15:64826749:T:C </td><td>chr15</td><td> 64826749</td><td>T</td><td>C</td><td>0.500000</td><td>0.153846</td><td>0.980588</td><td>-1.566039</td><td>⋯</td><td>0.960718</td><td>0.016386197</td><td> -9265</td><td>TRUE</td><td>TRUE</td><td>FALSE</td><td>NA                      </td><td>Not.In.Peak  </td><td>FALSE</td><td> TRUE</td></tr>\n",
       "\t<tr><td>chr14:68232339-68233302  </td><td>chr14:68232877:C:T </td><td>chr14</td><td> 68232877</td><td>C</td><td>T</td><td>0.134615</td><td>0.792643</td><td>0.999880</td><td>-1.467925</td><td>⋯</td><td>0.991078</td><td>0.026131427</td><td>    57</td><td>TRUE</td><td>TRUE</td><td>FALSE</td><td>chr14:68232339-68233302 </td><td>In.caQTL.Peak</td><td> TRUE</td><td>FALSE</td></tr>\n",
       "</tbody>\n",
       "</table>\n"
      ],
      "text/latex": [
       "A spec\\_tbl\\_df: 26179 × 34\n",
       "\\begin{tabular}{lllllllllllllllllllll}\n",
       " Feature & rsID & Chromosome & position & Ref & Alt & Af & HWEChi\\_square & IA & Log10\\_qval & ⋯ & r2\\_rSNP & P\\_VAl & dist & flag\\_fdr10 & flag\\_fdr05 & flag\\_fdr01 & In.Feature & Peak.Intersect.State & flag\\_InPeak & flag\\_NotInPeak\\\\\n",
       " <chr> & <chr> & <chr> & <dbl> & <chr> & <chr> & <dbl> & <dbl> & <dbl> & <dbl> & ⋯ & <dbl> & <dbl> & <dbl> & <lgl> & <lgl> & <lgl> & <chr> & <chr> & <lgl> & <lgl>\\\\\n",
       "\\hline\n",
       "\t chr6:32622377-32623439    & chr6:32620608:T:A   & chr6  &  32620608 & T & A & 0.425926 & 2.231991 & 0.998678 & -67.03611 & ⋯ & 0.824496 & 8.976233e-71 & -2300 & TRUE & TRUE & TRUE & NA                       & Not.In.Peak   & FALSE &  TRUE\\\\\n",
       "\t chr9:6931452-6932441      & chr9:6929401:T:A    & chr9  &   6929401 & T & A & 0.333333 & 0.750000 & 0.993936 & -36.60879 & ⋯ & 0.985795 & 1.925609e-38 & -2545 & TRUE & TRUE & TRUE & NA                       & Not.In.Peak   & FALSE &  TRUE\\\\\n",
       "\t chr4:7164816-7165698      & chr4:7160692:T:C    & chr4  &   7160692 & T & C & 0.277778 & 0.006391 & 0.999935 & -32.46831 & ⋯ & 0.902371 & 1.502522e-34 & -4565 & TRUE & TRUE & TRUE & chr4:7160139-7160834     & In.Other.Peak & FALSE & FALSE\\\\\n",
       "\t chr9:93230239-93231938    & chr9:93231475:G:A   & chr9  &  93231475 & G & A & 0.222222 & 0.137755 & 0.999392 & -30.83427 & ⋯ & 0.992117 & 3.105136e-32 &   387 & TRUE & TRUE & TRUE & chr9:93230239-93231938   & In.caQTL.Peak &  TRUE & FALSE\\\\\n",
       "\t chr17:76968760-76970675   & chr17:76972946:C:A  & chr17 &  76972946 & C & A & 0.296296 & 0.337734 & 0.980182 & -29.73370 & ⋯ & 0.940828 & 4.969777e-32 &  3228 & TRUE & TRUE & TRUE & NA                       & Not.In.Peak   & FALSE &  TRUE\\\\\n",
       "\t chr21:13979625-13980808   & chr21:13980560:G:C  & chr21 &  13980560 & G & C & 0.314815 & 0.083599 & 0.930667 & -27.70426 & ⋯ & 0.870565 & 7.793799e-30 &   344 & TRUE & TRUE & TRUE & chr21:13979625-13980808  & In.caQTL.Peak &  TRUE & FALSE\\\\\n",
       "\t chr11:69088518-69089750   & chr11:69098010:G:A  & chr11 &  69098010 & G & A & 0.518519 & 0.942278 & 0.995615 & -27.01006 & ⋯ & 0.986516 & 4.959118e-29 &  8876 & TRUE & TRUE & TRUE & NA                       & Not.In.Peak   & FALSE &  TRUE\\\\\n",
       "\t chr8:17607871-17609288    & chr8:17608416:A:G   & chr8  &  17608416 & A & G & 0.203704 & 0.020395 & 0.999237 & -26.74354 & ⋯ & 0.958916 & 5.540007e-29 &  -164 & TRUE & TRUE & TRUE & chr8:17607871-17609288   & In.caQTL.Peak &  TRUE & FALSE\\\\\n",
       "\t chr6:31307758-31309006    & chr6:31306259:A:G   & chr6  &  31306259 & A & G & 0.111111 & 1.687500 & 0.999485 & -25.66663 & ⋯ & 0.989627 & 1.045116e-27 & -2123 & TRUE & TRUE & TRUE & NA                       & Not.In.Peak   & FALSE &  TRUE\\\\\n",
       "\t chr3:125990029-125991054  & chr3:125990207:G:T  & chr3  & 125990207 & G & T & 0.185185 & 0.008926 & 0.999056 & -26.18753 & ⋯ & 0.983196 & 1.591805e-27 &  -335 & TRUE & TRUE & TRUE & chr3:125990029-125991054 & In.caQTL.Peak &  TRUE & FALSE\\\\\n",
       "\t chr18:8799900-8801529     & chr18:8800393:A:T   & chr18 &   8800393 & A & T & 0.092593 & 0.281133 & 0.998518 & -24.17044 & ⋯ & 0.985117 & 7.945836e-27 &  -321 & TRUE & TRUE & TRUE & chr18:8799900-8801529    & In.caQTL.Peak &  TRUE & FALSE\\\\\n",
       "\t chr1:18480265-18481643    & chr1:18480845:T:C   & chr1  &  18480845 & T & C & 0.555556 & 0.067500 & 0.980277 & -23.66970 & ⋯ & 0.965292 & 2.325451e-26 &  -109 & TRUE & TRUE & TRUE & chr1:18480265-18481643   & In.caQTL.Peak &  TRUE & FALSE\\\\\n",
       "\t chr6:30453450-30454100    & chr6:30453779:A:G   & chr6  &  30453779 & A & G & 0.092593 & 0.281133 & 0.999833 & -24.29801 & ⋯ & 0.986110 & 2.502599e-25 &     4 & TRUE & TRUE & TRUE & chr6:30453450-30454100   & In.caQTL.Peak &  TRUE & FALSE\\\\\n",
       "\t chr6:31497627-31498514    & chr6:31488668:G:A   & chr6  &  31488668 & G & A & 0.277778 & 0.006391 & 0.982339 & -21.14321 & ⋯ & 0.967396 & 4.863287e-24 & -9402 & TRUE & TRUE & TRUE & NA                       & Not.In.Peak   & FALSE &  TRUE\\\\\n",
       "\t chr8:23717908-23718626    & chr8:23718176:A:C   & chr8  &  23718176 & A & C & 0.370370 & 1.976886 & 0.999948 & -21.12123 & ⋯ & 0.992032 & 1.128997e-23 &   -91 & TRUE & TRUE & TRUE & chr8:23717908-23718626   & In.caQTL.Peak &  TRUE & FALSE\\\\\n",
       "\t chr2:3041890-3043276      & chr2:3036620:G:A    & chr2  &   3036620 & G & A & 0.240741 & 2.714456 & 0.999931 & -21.21030 & ⋯ & 0.985715 & 1.768599e-23 & -5963 & TRUE & TRUE & TRUE & NA                       & Not.In.Peak   & FALSE &  TRUE\\\\\n",
       "\t chr21:46477254-46478360   & chr21:46481718:C:T  & chr21 &  46481718 & C & T & 0.388889 & 2.846180 & 0.998171 & -20.98282 & ⋯ & 0.969885 & 1.262994e-22 &  3911 & TRUE & TRUE & TRUE & NA                       & Not.In.Peak   & FALSE &  TRUE\\\\\n",
       "\t chr2:62293165-62294384    & chr2:62293993:C:T   & chr2  &  62293993 & C & T & 0.111111 & 0.421875 & 0.998186 & -21.23158 & ⋯ & 0.986761 & 1.604890e-22 &   219 & TRUE & TRUE & TRUE & chr2:62293165-62294384   & In.caQTL.Peak &  TRUE & FALSE\\\\\n",
       "\t chr9:136725693-136725938  & chr9:136726716:G:A  & chr9  & 136726716 & G & A & 0.444444 & 0.067500 & 0.999950 & -19.81373 & ⋯ & 0.994213 & 1.183058e-21 &   900 & TRUE & TRUE & TRUE & chr9:136726712-136726998 & In.Other.Peak & FALSE & FALSE\\\\\n",
       "\t chr11:5367277-5368032     & chr11:5365438:G:A   & chr11 &   5365438 & G & A & 0.296296 & 1.599853 & 0.999940 & -19.66787 & ⋯ & 0.984308 & 5.658569e-21 & -2216 & TRUE & TRUE & TRUE & NA                       & Not.In.Peak   & FALSE &  TRUE\\\\\n",
       "\t chr12:125982853-125984444 & chr12:125992291:C:A & chr12 & 125992291 & C & A & 0.796296 & 0.020395 & 0.999918 & -18.21073 & ⋯ & 0.865507 & 8.099472e-21 &  8643 & TRUE & TRUE & TRUE & NA                       & Not.In.Peak   & FALSE &  TRUE\\\\\n",
       "\t chr13:93454516-93455319   & chr13:93459590:A:G  & chr13 &  93459590 & A & G & 0.296296 & 0.116863 & 0.999939 & -18.79065 & ⋯ & 0.989921 & 1.368405e-20 &  4672 & TRUE & TRUE & TRUE & NA                       & Not.In.Peak   & FALSE &  TRUE\\\\\n",
       "\t chr1:161611907-161613071  & chr1:161612710:C:T  & chr1  & 161612710 & C & T & 0.277778 & 1.080000 & 0.895477 & -18.07654 & ⋯ & 0.731703 & 1.597410e-20 &   221 & TRUE & TRUE & TRUE & chr1:161611907-161613071 & In.caQTL.Peak &  TRUE & FALSE\\\\\n",
       "\t chr4:169069764-169071360  & chr4:169071095:C:T  & chr4  & 169071095 & C & T & 0.555556 & 0.067500 & 0.999652 & -17.92951 & ⋯ & 0.993668 & 2.261988e-20 &   533 & TRUE & TRUE & TRUE & chr4:169069764-169071360 & In.caQTL.Peak &  TRUE & FALSE\\\\\n",
       "\t chr2:238231152-238231860  & chr2:238234995:T:G  & chr2  & 238234995 & T & G & 0.203704 & 1.766901 & 0.999581 & -17.63086 & ⋯ & 0.732429 & 2.316409e-20 &  3489 & TRUE & TRUE & TRUE & NA                       & Not.In.Peak   & FALSE &  TRUE\\\\\n",
       "\t chr19:46470791-46472219   & chr19:46468762:T:G  & chr19 &  46468762 & T & G & 0.407407 & 0.147308 & 0.994410 & -17.52697 & ⋯ & 0.981764 & 3.669017e-20 & -2743 & TRUE & TRUE & TRUE & NA                       & Not.In.Peak   & FALSE &  TRUE\\\\\n",
       "\t chr12:54560027-54561744   & chr12:54557828:A:G  & chr12 &  54557828 & A & G & 0.666667 & 0.750000 & 0.999944 & -18.59889 & ⋯ & 0.989879 & 5.194043e-20 & -3058 & TRUE & TRUE & TRUE & NA                       & Not.In.Peak   & FALSE &  TRUE\\\\\n",
       "\t chr1:203519193-203520650  & chr1:203519823:G:T  & chr1  & 203519823 & G & T & 0.111111 & 0.421875 & 0.999859 & -17.99563 & ⋯ & 0.985273 & 7.940312e-20 &   -99 & TRUE & TRUE & TRUE & chr1:203519193-203520650 & In.caQTL.Peak &  TRUE & FALSE\\\\\n",
       "\t chr4:1729699-1730102      & chr4:1729926:C:T    & chr4  &   1729926 & C & T & 0.833333 & 0.120000 & 0.979711 & -18.04033 & ⋯ & 0.976059 & 8.089181e-20 &    26 & TRUE & TRUE & TRUE & chr4:1729699-1730102     & In.caQTL.Peak &  TRUE & FALSE\\\\\n",
       "\t chr11:45259418-45260327   & chr11:45259306:A:G  & chr11 &  45259306 & A & G & 0.314815 & 0.363671 & 0.999772 & -18.30305 & ⋯ & 0.992033 & 1.079731e-19 &  -566 & TRUE & TRUE & TRUE & NA                       & Not.In.Peak   & FALSE &  TRUE\\\\\n",
       "\t ⋮ & ⋮ & ⋮ & ⋮ & ⋮ & ⋮ & ⋮ & ⋮ & ⋮ & ⋮ & ⋱ & ⋮ & ⋮ & ⋮ & ⋮ & ⋮ & ⋮ & ⋮ & ⋮ & ⋮ & ⋮\\\\\n",
       "\t chr4:142934572-142935233  & chr4:142934919:A:G  & chr4  & 142934919 & A & G & 0.153846 & 0.335744 & 0.997147 & -2.030104 & ⋯ & 0.982704 & 0.008179823 &     17 & TRUE & TRUE & FALSE & chr4:142934572-142935233 & In.caQTL.Peak &  TRUE & FALSE\\\\\n",
       "\t chr4:3239344-3242312      & chr4:3239686:A:C    & chr4  &   3239686 & A & C & 0.250000 & 0.427350 & 0.999218 & -1.495834 & ⋯ & 0.988846 & 0.008305976 &  -1142 & TRUE & TRUE & FALSE & chr4:3239344-3242312     & In.caQTL.Peak &  TRUE & FALSE\\\\\n",
       "\t chr12:31073368-31074875   & chr12:31074546:G:T  & chr12 &  31074546 & G & T & 0.384615 & 0.914062 & 0.996242 & -1.938959 & ⋯ & 0.990384 & 0.008336570 &    424 & TRUE & TRUE & FALSE & chr12:31073368-31074875  & In.caQTL.Peak &  TRUE & FALSE\\\\\n",
       "\t chr9:136784895-136785969  & chr9:136792497:G:C  & chr9  & 136792497 & G & C & 0.326923 & 0.481847 & 0.995894 & -1.503735 & ⋯ & 0.977536 & 0.008382724 &   7065 & TRUE & TRUE & FALSE & NA                       & Not.In.Peak   & FALSE &  TRUE\\\\\n",
       "\t chr17:46266286-46267685   & chr17:46267043:A:C  & chr17 &  46267043 & A & C & 0.192308 & 1.719184 & 0.984436 & -1.711653 & ⋯ & 0.898300 & 0.008414856 &     57 & TRUE & TRUE & FALSE & chr17:46266286-46267685  & In.caQTL.Peak &  TRUE & FALSE\\\\\n",
       "\t chr8:88326894-88329071    & chr8:88322681:A:G   & chr8  &  88322681 & A & G & 0.615385 & 2.340000 & 0.963185 & -1.493605 & ⋯ & 0.903365 & 0.008700992 &  -5301 & TRUE & TRUE & FALSE & NA                       & Not.In.Peak   & FALSE &  TRUE\\\\\n",
       "\t chr20:47258602-47259426   & chr20:47262445:T:C  & chr20 &  47262445 & T & C & 0.307692 & 2.006173 & 0.999937 & -1.502503 & ⋯ & 0.993157 & 0.008939768 &   3431 & TRUE & TRUE & FALSE & NA                       & Not.In.Peak   & FALSE &  TRUE\\\\\n",
       "\t chr15:78756754-78757640   & chr15:78767181:C:A  & chr15 &  78767181 & C & A & 0.346154 & 0.009996 & 0.994070 & -1.467806 & ⋯ & 0.984146 & 0.009228250 &   9984 & TRUE & TRUE & FALSE & NA                       & Not.In.Peak   & FALSE &  TRUE\\\\\n",
       "\t chr5:72584223-72585135    & chr5:72584687:T:C   & chr5  &  72584687 & T & C & 0.673077 & 0.481847 & 0.982693 & -1.638140 & ⋯ & 0.970598 & 0.009359531 &      8 & TRUE & TRUE & FALSE & chr5:72584223-72585135   & In.caQTL.Peak &  TRUE & FALSE\\\\\n",
       "\t chr16:88938719-88939563   & chr16:88935058:A:C  & chr16 &  88935058 & A & C & 0.384615 & 0.016250 & 0.995302 & -1.900039 & ⋯ & 0.983385 & 0.009587075 &  -4083 & TRUE & TRUE & FALSE & NA                       & Not.In.Peak   & FALSE &  TRUE\\\\\n",
       "\t chr3:47008948-47010224    & chr3:47006962:T:G   & chr3  &  47006962 & T & G & 0.346154 & 0.009996 & 0.998594 & -1.728157 & ⋯ & 0.989832 & 0.009713238 &  -2624 & TRUE & TRUE & FALSE & NA                       & Not.In.Peak   & FALSE &  TRUE\\\\\n",
       "\t chr14:54870214-54871227   & chr14:54875002:A:C  & chr14 &  54875002 & A & C & 0.134615 & 0.629136 & 0.999226 & -1.493755 & ⋯ & 0.979148 & 0.010320302 &   4282 & TRUE & TRUE & FALSE & NA                       & Not.In.Peak   & FALSE &  TRUE\\\\\n",
       "\t chr17:47492147-47493178   & chr17:47492591:C:A  & chr17 &  47492591 & C & A & 0.057692 & 0.097459 & 0.999735 & -1.584869 & ⋯ & 0.977354 & 0.010348809 &    -71 & TRUE & TRUE & FALSE & chr17:47492147-47493178  & In.caQTL.Peak &  TRUE & FALSE\\\\\n",
       "\t chr2:207165082-207167161  & chr2:207158883:G:C  & chr2  & 207158883 & G & C & 0.711538 & 1.235828 & 0.994000 & -1.492888 & ⋯ & 0.975514 & 0.011025166 &  -7239 & TRUE & TRUE & FALSE & NA                       & Not.In.Peak   & FALSE &  TRUE\\\\\n",
       "\t chr8:118103337-118104208  & chr8:118104011:A:G  & chr8  & 118104011 & A & G & 0.692308 & 0.245756 & 0.987666 & -1.598868 & ⋯ & 0.977185 & 0.011107343 &    239 & TRUE & TRUE & FALSE & chr8:118103337-118104208 & In.caQTL.Peak &  TRUE & FALSE\\\\\n",
       "\t chr17:46224813-46225882   & chr17:46225515:C:T  & chr17 &  46225515 & C & T & 0.173077 & 0.091835 & 0.994170 & -1.854251 & ⋯ & 0.990255 & 0.011459501 &    167 & TRUE & TRUE & FALSE & chr17:46224813-46225882  & In.caQTL.Peak &  TRUE & FALSE\\\\\n",
       "\t chr6:85449462-85450784    & chr6:85449744:G:C   & chr6  &  85449744 & G & C & 0.115385 & 0.442344 & 0.999678 & -1.767970 & ⋯ & 0.982222 & 0.011640997 &   -379 & TRUE & TRUE & FALSE & chr6:85449462-85450784   & In.caQTL.Peak &  TRUE & FALSE\\\\\n",
       "\t chr17:82866180-82867512   & chr17:82856293:G:A  & chr17 &  82856293 & G & A & 0.519231 & 0.000057 & 0.998049 & -1.471988 & ⋯ & 0.980102 & 0.011653010 & -10553 & TRUE & TRUE & FALSE & NA                       & Not.In.Peak   & FALSE &  TRUE\\\\\n",
       "\t chr9:137261330-137262738  & chr9:137261767:G:A  & chr9  & 137261767 & G & A & 0.788462 & 1.871505 & 0.922056 & -1.679472 & ⋯ & 0.825954 & 0.011788599 &   -267 & TRUE & TRUE & FALSE & chr9:137261330-137262738 & In.caQTL.Peak &  TRUE & FALSE\\\\\n",
       "\t chr12:84507953-84509169   & chr12:84512670:A:C  & chr12 &  84512670 & A & C & 0.403846 & 0.038343 & 0.999948 & -1.588887 & ⋯ & 0.991761 & 0.011820453 &   4109 & TRUE & TRUE & FALSE & NA                       & Not.In.Peak   & FALSE &  TRUE\\\\\n",
       "\t chr1:156923953-156924537  & chr1:156924821:G:T  & chr1  & 156924821 & G & T & 0.134615 & 0.792643 & 0.999553 & -1.564407 & ⋯ & 0.986934 & 0.012575774 &    576 & TRUE & TRUE & FALSE & NA                       & Not.In.Peak   & FALSE &  TRUE\\\\\n",
       "\t chr6:119308117-119308688  & chr6:119308329:T:C  & chr6  & 119308329 & T & C & 0.115385 & 0.442344 & 0.999864 & -1.634946 & ⋯ & 0.985396 & 0.012693189 &    -73 & TRUE & TRUE & FALSE & chr6:119308117-119308688 & In.caQTL.Peak &  TRUE & FALSE\\\\\n",
       "\t chr2:67289305-67291036    & chr2:67298904:T:C   & chr2  &  67298904 & T & C & 0.076923 & 0.180556 & 0.999800 & -1.467251 & ⋯ & 0.975005 & 0.013258158 &   8734 & TRUE & TRUE & FALSE & NA                       & Not.In.Peak   & FALSE &  TRUE\\\\\n",
       "\t chr8:8701415-8702819      & chr8:8704139:G:A    & chr8  &   8704139 & G & A & 0.346154 & 0.587552 & 0.980959 & -1.654435 & ⋯ & 0.955637 & 0.013347132 &   2022 & TRUE & TRUE & FALSE & NA                       & Not.In.Peak   & FALSE &  TRUE\\\\\n",
       "\t chr9:86281728-86283429    & chr9:86282167:C:G   & chr9  &  86282167 & C & G & 0.576923 & 0.275996 & 0.996825 & -1.487596 & ⋯ & 0.980034 & 0.015225363 &   -411 & TRUE & TRUE & FALSE & chr9:86281728-86283429   & In.caQTL.Peak &  TRUE & FALSE\\\\\n",
       "\t chr10:100561831-100563289 & chr10:100564225:C:T & chr10 & 100564225 & C & T & 0.211538 & 0.036942 & 0.995302 & -1.676400 & ⋯ & 0.974934 & 0.015428337 &   1665 & TRUE & TRUE & FALSE & NA                       & Not.In.Peak   & FALSE &  TRUE\\\\\n",
       "\t chr10:25293924-25295173   & chr10:25301261:C:T  & chr10 &  25301261 & C & T & 0.096154 & 0.294251 & 0.999838 & -1.476282 & ⋯ & 0.977377 & 0.015687864 &   6713 & TRUE & TRUE & FALSE & NA                       & Not.In.Peak   & FALSE &  TRUE\\\\\n",
       "\t chr20:9051290-9052374     & chr20:9048849:A:G   & chr20 &   9048849 & A & G & 0.500000 & 0.153846 & 0.988418 & -1.556730 & ⋯ & 0.971726 & 0.016333604 &  -2983 & TRUE & TRUE & FALSE & NA                       & Not.In.Peak   & FALSE &  TRUE\\\\\n",
       "\t chr15:64835633-64836394   & chr15:64826749:T:C  & chr15 &  64826749 & T & C & 0.500000 & 0.153846 & 0.980588 & -1.566039 & ⋯ & 0.960718 & 0.016386197 &  -9265 & TRUE & TRUE & FALSE & NA                       & Not.In.Peak   & FALSE &  TRUE\\\\\n",
       "\t chr14:68232339-68233302   & chr14:68232877:C:T  & chr14 &  68232877 & C & T & 0.134615 & 0.792643 & 0.999880 & -1.467925 & ⋯ & 0.991078 & 0.026131427 &     57 & TRUE & TRUE & FALSE & chr14:68232339-68233302  & In.caQTL.Peak &  TRUE & FALSE\\\\\n",
       "\\end{tabular}\n"
      ],
      "text/markdown": [
       "\n",
       "A spec_tbl_df: 26179 × 34\n",
       "\n",
       "| Feature &lt;chr&gt; | rsID &lt;chr&gt; | Chromosome &lt;chr&gt; | position &lt;dbl&gt; | Ref &lt;chr&gt; | Alt &lt;chr&gt; | Af &lt;dbl&gt; | HWEChi_square &lt;dbl&gt; | IA &lt;dbl&gt; | Log10_qval &lt;dbl&gt; | ⋯ ⋯ | r2_rSNP &lt;dbl&gt; | P_VAl &lt;dbl&gt; | dist &lt;dbl&gt; | flag_fdr10 &lt;lgl&gt; | flag_fdr05 &lt;lgl&gt; | flag_fdr01 &lt;lgl&gt; | In.Feature &lt;chr&gt; | Peak.Intersect.State &lt;chr&gt; | flag_InPeak &lt;lgl&gt; | flag_NotInPeak &lt;lgl&gt; |\n",
       "|---|---|---|---|---|---|---|---|---|---|---|---|---|---|---|---|---|---|---|---|---|\n",
       "| chr6:32622377-32623439    | chr6:32620608:T:A   | chr6  |  32620608 | T | A | 0.425926 | 2.231991 | 0.998678 | -67.03611 | ⋯ | 0.824496 | 8.976233e-71 | -2300 | TRUE | TRUE | TRUE | NA                       | Not.In.Peak   | FALSE |  TRUE |\n",
       "| chr9:6931452-6932441      | chr9:6929401:T:A    | chr9  |   6929401 | T | A | 0.333333 | 0.750000 | 0.993936 | -36.60879 | ⋯ | 0.985795 | 1.925609e-38 | -2545 | TRUE | TRUE | TRUE | NA                       | Not.In.Peak   | FALSE |  TRUE |\n",
       "| chr4:7164816-7165698      | chr4:7160692:T:C    | chr4  |   7160692 | T | C | 0.277778 | 0.006391 | 0.999935 | -32.46831 | ⋯ | 0.902371 | 1.502522e-34 | -4565 | TRUE | TRUE | TRUE | chr4:7160139-7160834     | In.Other.Peak | FALSE | FALSE |\n",
       "| chr9:93230239-93231938    | chr9:93231475:G:A   | chr9  |  93231475 | G | A | 0.222222 | 0.137755 | 0.999392 | -30.83427 | ⋯ | 0.992117 | 3.105136e-32 |   387 | TRUE | TRUE | TRUE | chr9:93230239-93231938   | In.caQTL.Peak |  TRUE | FALSE |\n",
       "| chr17:76968760-76970675   | chr17:76972946:C:A  | chr17 |  76972946 | C | A | 0.296296 | 0.337734 | 0.980182 | -29.73370 | ⋯ | 0.940828 | 4.969777e-32 |  3228 | TRUE | TRUE | TRUE | NA                       | Not.In.Peak   | FALSE |  TRUE |\n",
       "| chr21:13979625-13980808   | chr21:13980560:G:C  | chr21 |  13980560 | G | C | 0.314815 | 0.083599 | 0.930667 | -27.70426 | ⋯ | 0.870565 | 7.793799e-30 |   344 | TRUE | TRUE | TRUE | chr21:13979625-13980808  | In.caQTL.Peak |  TRUE | FALSE |\n",
       "| chr11:69088518-69089750   | chr11:69098010:G:A  | chr11 |  69098010 | G | A | 0.518519 | 0.942278 | 0.995615 | -27.01006 | ⋯ | 0.986516 | 4.959118e-29 |  8876 | TRUE | TRUE | TRUE | NA                       | Not.In.Peak   | FALSE |  TRUE |\n",
       "| chr8:17607871-17609288    | chr8:17608416:A:G   | chr8  |  17608416 | A | G | 0.203704 | 0.020395 | 0.999237 | -26.74354 | ⋯ | 0.958916 | 5.540007e-29 |  -164 | TRUE | TRUE | TRUE | chr8:17607871-17609288   | In.caQTL.Peak |  TRUE | FALSE |\n",
       "| chr6:31307758-31309006    | chr6:31306259:A:G   | chr6  |  31306259 | A | G | 0.111111 | 1.687500 | 0.999485 | -25.66663 | ⋯ | 0.989627 | 1.045116e-27 | -2123 | TRUE | TRUE | TRUE | NA                       | Not.In.Peak   | FALSE |  TRUE |\n",
       "| chr3:125990029-125991054  | chr3:125990207:G:T  | chr3  | 125990207 | G | T | 0.185185 | 0.008926 | 0.999056 | -26.18753 | ⋯ | 0.983196 | 1.591805e-27 |  -335 | TRUE | TRUE | TRUE | chr3:125990029-125991054 | In.caQTL.Peak |  TRUE | FALSE |\n",
       "| chr18:8799900-8801529     | chr18:8800393:A:T   | chr18 |   8800393 | A | T | 0.092593 | 0.281133 | 0.998518 | -24.17044 | ⋯ | 0.985117 | 7.945836e-27 |  -321 | TRUE | TRUE | TRUE | chr18:8799900-8801529    | In.caQTL.Peak |  TRUE | FALSE |\n",
       "| chr1:18480265-18481643    | chr1:18480845:T:C   | chr1  |  18480845 | T | C | 0.555556 | 0.067500 | 0.980277 | -23.66970 | ⋯ | 0.965292 | 2.325451e-26 |  -109 | TRUE | TRUE | TRUE | chr1:18480265-18481643   | In.caQTL.Peak |  TRUE | FALSE |\n",
       "| chr6:30453450-30454100    | chr6:30453779:A:G   | chr6  |  30453779 | A | G | 0.092593 | 0.281133 | 0.999833 | -24.29801 | ⋯ | 0.986110 | 2.502599e-25 |     4 | TRUE | TRUE | TRUE | chr6:30453450-30454100   | In.caQTL.Peak |  TRUE | FALSE |\n",
       "| chr6:31497627-31498514    | chr6:31488668:G:A   | chr6  |  31488668 | G | A | 0.277778 | 0.006391 | 0.982339 | -21.14321 | ⋯ | 0.967396 | 4.863287e-24 | -9402 | TRUE | TRUE | TRUE | NA                       | Not.In.Peak   | FALSE |  TRUE |\n",
       "| chr8:23717908-23718626    | chr8:23718176:A:C   | chr8  |  23718176 | A | C | 0.370370 | 1.976886 | 0.999948 | -21.12123 | ⋯ | 0.992032 | 1.128997e-23 |   -91 | TRUE | TRUE | TRUE | chr8:23717908-23718626   | In.caQTL.Peak |  TRUE | FALSE |\n",
       "| chr2:3041890-3043276      | chr2:3036620:G:A    | chr2  |   3036620 | G | A | 0.240741 | 2.714456 | 0.999931 | -21.21030 | ⋯ | 0.985715 | 1.768599e-23 | -5963 | TRUE | TRUE | TRUE | NA                       | Not.In.Peak   | FALSE |  TRUE |\n",
       "| chr21:46477254-46478360   | chr21:46481718:C:T  | chr21 |  46481718 | C | T | 0.388889 | 2.846180 | 0.998171 | -20.98282 | ⋯ | 0.969885 | 1.262994e-22 |  3911 | TRUE | TRUE | TRUE | NA                       | Not.In.Peak   | FALSE |  TRUE |\n",
       "| chr2:62293165-62294384    | chr2:62293993:C:T   | chr2  |  62293993 | C | T | 0.111111 | 0.421875 | 0.998186 | -21.23158 | ⋯ | 0.986761 | 1.604890e-22 |   219 | TRUE | TRUE | TRUE | chr2:62293165-62294384   | In.caQTL.Peak |  TRUE | FALSE |\n",
       "| chr9:136725693-136725938  | chr9:136726716:G:A  | chr9  | 136726716 | G | A | 0.444444 | 0.067500 | 0.999950 | -19.81373 | ⋯ | 0.994213 | 1.183058e-21 |   900 | TRUE | TRUE | TRUE | chr9:136726712-136726998 | In.Other.Peak | FALSE | FALSE |\n",
       "| chr11:5367277-5368032     | chr11:5365438:G:A   | chr11 |   5365438 | G | A | 0.296296 | 1.599853 | 0.999940 | -19.66787 | ⋯ | 0.984308 | 5.658569e-21 | -2216 | TRUE | TRUE | TRUE | NA                       | Not.In.Peak   | FALSE |  TRUE |\n",
       "| chr12:125982853-125984444 | chr12:125992291:C:A | chr12 | 125992291 | C | A | 0.796296 | 0.020395 | 0.999918 | -18.21073 | ⋯ | 0.865507 | 8.099472e-21 |  8643 | TRUE | TRUE | TRUE | NA                       | Not.In.Peak   | FALSE |  TRUE |\n",
       "| chr13:93454516-93455319   | chr13:93459590:A:G  | chr13 |  93459590 | A | G | 0.296296 | 0.116863 | 0.999939 | -18.79065 | ⋯ | 0.989921 | 1.368405e-20 |  4672 | TRUE | TRUE | TRUE | NA                       | Not.In.Peak   | FALSE |  TRUE |\n",
       "| chr1:161611907-161613071  | chr1:161612710:C:T  | chr1  | 161612710 | C | T | 0.277778 | 1.080000 | 0.895477 | -18.07654 | ⋯ | 0.731703 | 1.597410e-20 |   221 | TRUE | TRUE | TRUE | chr1:161611907-161613071 | In.caQTL.Peak |  TRUE | FALSE |\n",
       "| chr4:169069764-169071360  | chr4:169071095:C:T  | chr4  | 169071095 | C | T | 0.555556 | 0.067500 | 0.999652 | -17.92951 | ⋯ | 0.993668 | 2.261988e-20 |   533 | TRUE | TRUE | TRUE | chr4:169069764-169071360 | In.caQTL.Peak |  TRUE | FALSE |\n",
       "| chr2:238231152-238231860  | chr2:238234995:T:G  | chr2  | 238234995 | T | G | 0.203704 | 1.766901 | 0.999581 | -17.63086 | ⋯ | 0.732429 | 2.316409e-20 |  3489 | TRUE | TRUE | TRUE | NA                       | Not.In.Peak   | FALSE |  TRUE |\n",
       "| chr19:46470791-46472219   | chr19:46468762:T:G  | chr19 |  46468762 | T | G | 0.407407 | 0.147308 | 0.994410 | -17.52697 | ⋯ | 0.981764 | 3.669017e-20 | -2743 | TRUE | TRUE | TRUE | NA                       | Not.In.Peak   | FALSE |  TRUE |\n",
       "| chr12:54560027-54561744   | chr12:54557828:A:G  | chr12 |  54557828 | A | G | 0.666667 | 0.750000 | 0.999944 | -18.59889 | ⋯ | 0.989879 | 5.194043e-20 | -3058 | TRUE | TRUE | TRUE | NA                       | Not.In.Peak   | FALSE |  TRUE |\n",
       "| chr1:203519193-203520650  | chr1:203519823:G:T  | chr1  | 203519823 | G | T | 0.111111 | 0.421875 | 0.999859 | -17.99563 | ⋯ | 0.985273 | 7.940312e-20 |   -99 | TRUE | TRUE | TRUE | chr1:203519193-203520650 | In.caQTL.Peak |  TRUE | FALSE |\n",
       "| chr4:1729699-1730102      | chr4:1729926:C:T    | chr4  |   1729926 | C | T | 0.833333 | 0.120000 | 0.979711 | -18.04033 | ⋯ | 0.976059 | 8.089181e-20 |    26 | TRUE | TRUE | TRUE | chr4:1729699-1730102     | In.caQTL.Peak |  TRUE | FALSE |\n",
       "| chr11:45259418-45260327   | chr11:45259306:A:G  | chr11 |  45259306 | A | G | 0.314815 | 0.363671 | 0.999772 | -18.30305 | ⋯ | 0.992033 | 1.079731e-19 |  -566 | TRUE | TRUE | TRUE | NA                       | Not.In.Peak   | FALSE |  TRUE |\n",
       "| ⋮ | ⋮ | ⋮ | ⋮ | ⋮ | ⋮ | ⋮ | ⋮ | ⋮ | ⋮ | ⋱ | ⋮ | ⋮ | ⋮ | ⋮ | ⋮ | ⋮ | ⋮ | ⋮ | ⋮ | ⋮ |\n",
       "| chr4:142934572-142935233  | chr4:142934919:A:G  | chr4  | 142934919 | A | G | 0.153846 | 0.335744 | 0.997147 | -2.030104 | ⋯ | 0.982704 | 0.008179823 |     17 | TRUE | TRUE | FALSE | chr4:142934572-142935233 | In.caQTL.Peak |  TRUE | FALSE |\n",
       "| chr4:3239344-3242312      | chr4:3239686:A:C    | chr4  |   3239686 | A | C | 0.250000 | 0.427350 | 0.999218 | -1.495834 | ⋯ | 0.988846 | 0.008305976 |  -1142 | TRUE | TRUE | FALSE | chr4:3239344-3242312     | In.caQTL.Peak |  TRUE | FALSE |\n",
       "| chr12:31073368-31074875   | chr12:31074546:G:T  | chr12 |  31074546 | G | T | 0.384615 | 0.914062 | 0.996242 | -1.938959 | ⋯ | 0.990384 | 0.008336570 |    424 | TRUE | TRUE | FALSE | chr12:31073368-31074875  | In.caQTL.Peak |  TRUE | FALSE |\n",
       "| chr9:136784895-136785969  | chr9:136792497:G:C  | chr9  | 136792497 | G | C | 0.326923 | 0.481847 | 0.995894 | -1.503735 | ⋯ | 0.977536 | 0.008382724 |   7065 | TRUE | TRUE | FALSE | NA                       | Not.In.Peak   | FALSE |  TRUE |\n",
       "| chr17:46266286-46267685   | chr17:46267043:A:C  | chr17 |  46267043 | A | C | 0.192308 | 1.719184 | 0.984436 | -1.711653 | ⋯ | 0.898300 | 0.008414856 |     57 | TRUE | TRUE | FALSE | chr17:46266286-46267685  | In.caQTL.Peak |  TRUE | FALSE |\n",
       "| chr8:88326894-88329071    | chr8:88322681:A:G   | chr8  |  88322681 | A | G | 0.615385 | 2.340000 | 0.963185 | -1.493605 | ⋯ | 0.903365 | 0.008700992 |  -5301 | TRUE | TRUE | FALSE | NA                       | Not.In.Peak   | FALSE |  TRUE |\n",
       "| chr20:47258602-47259426   | chr20:47262445:T:C  | chr20 |  47262445 | T | C | 0.307692 | 2.006173 | 0.999937 | -1.502503 | ⋯ | 0.993157 | 0.008939768 |   3431 | TRUE | TRUE | FALSE | NA                       | Not.In.Peak   | FALSE |  TRUE |\n",
       "| chr15:78756754-78757640   | chr15:78767181:C:A  | chr15 |  78767181 | C | A | 0.346154 | 0.009996 | 0.994070 | -1.467806 | ⋯ | 0.984146 | 0.009228250 |   9984 | TRUE | TRUE | FALSE | NA                       | Not.In.Peak   | FALSE |  TRUE |\n",
       "| chr5:72584223-72585135    | chr5:72584687:T:C   | chr5  |  72584687 | T | C | 0.673077 | 0.481847 | 0.982693 | -1.638140 | ⋯ | 0.970598 | 0.009359531 |      8 | TRUE | TRUE | FALSE | chr5:72584223-72585135   | In.caQTL.Peak |  TRUE | FALSE |\n",
       "| chr16:88938719-88939563   | chr16:88935058:A:C  | chr16 |  88935058 | A | C | 0.384615 | 0.016250 | 0.995302 | -1.900039 | ⋯ | 0.983385 | 0.009587075 |  -4083 | TRUE | TRUE | FALSE | NA                       | Not.In.Peak   | FALSE |  TRUE |\n",
       "| chr3:47008948-47010224    | chr3:47006962:T:G   | chr3  |  47006962 | T | G | 0.346154 | 0.009996 | 0.998594 | -1.728157 | ⋯ | 0.989832 | 0.009713238 |  -2624 | TRUE | TRUE | FALSE | NA                       | Not.In.Peak   | FALSE |  TRUE |\n",
       "| chr14:54870214-54871227   | chr14:54875002:A:C  | chr14 |  54875002 | A | C | 0.134615 | 0.629136 | 0.999226 | -1.493755 | ⋯ | 0.979148 | 0.010320302 |   4282 | TRUE | TRUE | FALSE | NA                       | Not.In.Peak   | FALSE |  TRUE |\n",
       "| chr17:47492147-47493178   | chr17:47492591:C:A  | chr17 |  47492591 | C | A | 0.057692 | 0.097459 | 0.999735 | -1.584869 | ⋯ | 0.977354 | 0.010348809 |    -71 | TRUE | TRUE | FALSE | chr17:47492147-47493178  | In.caQTL.Peak |  TRUE | FALSE |\n",
       "| chr2:207165082-207167161  | chr2:207158883:G:C  | chr2  | 207158883 | G | C | 0.711538 | 1.235828 | 0.994000 | -1.492888 | ⋯ | 0.975514 | 0.011025166 |  -7239 | TRUE | TRUE | FALSE | NA                       | Not.In.Peak   | FALSE |  TRUE |\n",
       "| chr8:118103337-118104208  | chr8:118104011:A:G  | chr8  | 118104011 | A | G | 0.692308 | 0.245756 | 0.987666 | -1.598868 | ⋯ | 0.977185 | 0.011107343 |    239 | TRUE | TRUE | FALSE | chr8:118103337-118104208 | In.caQTL.Peak |  TRUE | FALSE |\n",
       "| chr17:46224813-46225882   | chr17:46225515:C:T  | chr17 |  46225515 | C | T | 0.173077 | 0.091835 | 0.994170 | -1.854251 | ⋯ | 0.990255 | 0.011459501 |    167 | TRUE | TRUE | FALSE | chr17:46224813-46225882  | In.caQTL.Peak |  TRUE | FALSE |\n",
       "| chr6:85449462-85450784    | chr6:85449744:G:C   | chr6  |  85449744 | G | C | 0.115385 | 0.442344 | 0.999678 | -1.767970 | ⋯ | 0.982222 | 0.011640997 |   -379 | TRUE | TRUE | FALSE | chr6:85449462-85450784   | In.caQTL.Peak |  TRUE | FALSE |\n",
       "| chr17:82866180-82867512   | chr17:82856293:G:A  | chr17 |  82856293 | G | A | 0.519231 | 0.000057 | 0.998049 | -1.471988 | ⋯ | 0.980102 | 0.011653010 | -10553 | TRUE | TRUE | FALSE | NA                       | Not.In.Peak   | FALSE |  TRUE |\n",
       "| chr9:137261330-137262738  | chr9:137261767:G:A  | chr9  | 137261767 | G | A | 0.788462 | 1.871505 | 0.922056 | -1.679472 | ⋯ | 0.825954 | 0.011788599 |   -267 | TRUE | TRUE | FALSE | chr9:137261330-137262738 | In.caQTL.Peak |  TRUE | FALSE |\n",
       "| chr12:84507953-84509169   | chr12:84512670:A:C  | chr12 |  84512670 | A | C | 0.403846 | 0.038343 | 0.999948 | -1.588887 | ⋯ | 0.991761 | 0.011820453 |   4109 | TRUE | TRUE | FALSE | NA                       | Not.In.Peak   | FALSE |  TRUE |\n",
       "| chr1:156923953-156924537  | chr1:156924821:G:T  | chr1  | 156924821 | G | T | 0.134615 | 0.792643 | 0.999553 | -1.564407 | ⋯ | 0.986934 | 0.012575774 |    576 | TRUE | TRUE | FALSE | NA                       | Not.In.Peak   | FALSE |  TRUE |\n",
       "| chr6:119308117-119308688  | chr6:119308329:T:C  | chr6  | 119308329 | T | C | 0.115385 | 0.442344 | 0.999864 | -1.634946 | ⋯ | 0.985396 | 0.012693189 |    -73 | TRUE | TRUE | FALSE | chr6:119308117-119308688 | In.caQTL.Peak |  TRUE | FALSE |\n",
       "| chr2:67289305-67291036    | chr2:67298904:T:C   | chr2  |  67298904 | T | C | 0.076923 | 0.180556 | 0.999800 | -1.467251 | ⋯ | 0.975005 | 0.013258158 |   8734 | TRUE | TRUE | FALSE | NA                       | Not.In.Peak   | FALSE |  TRUE |\n",
       "| chr8:8701415-8702819      | chr8:8704139:G:A    | chr8  |   8704139 | G | A | 0.346154 | 0.587552 | 0.980959 | -1.654435 | ⋯ | 0.955637 | 0.013347132 |   2022 | TRUE | TRUE | FALSE | NA                       | Not.In.Peak   | FALSE |  TRUE |\n",
       "| chr9:86281728-86283429    | chr9:86282167:C:G   | chr9  |  86282167 | C | G | 0.576923 | 0.275996 | 0.996825 | -1.487596 | ⋯ | 0.980034 | 0.015225363 |   -411 | TRUE | TRUE | FALSE | chr9:86281728-86283429   | In.caQTL.Peak |  TRUE | FALSE |\n",
       "| chr10:100561831-100563289 | chr10:100564225:C:T | chr10 | 100564225 | C | T | 0.211538 | 0.036942 | 0.995302 | -1.676400 | ⋯ | 0.974934 | 0.015428337 |   1665 | TRUE | TRUE | FALSE | NA                       | Not.In.Peak   | FALSE |  TRUE |\n",
       "| chr10:25293924-25295173   | chr10:25301261:C:T  | chr10 |  25301261 | C | T | 0.096154 | 0.294251 | 0.999838 | -1.476282 | ⋯ | 0.977377 | 0.015687864 |   6713 | TRUE | TRUE | FALSE | NA                       | Not.In.Peak   | FALSE |  TRUE |\n",
       "| chr20:9051290-9052374     | chr20:9048849:A:G   | chr20 |   9048849 | A | G | 0.500000 | 0.153846 | 0.988418 | -1.556730 | ⋯ | 0.971726 | 0.016333604 |  -2983 | TRUE | TRUE | FALSE | NA                       | Not.In.Peak   | FALSE |  TRUE |\n",
       "| chr15:64835633-64836394   | chr15:64826749:T:C  | chr15 |  64826749 | T | C | 0.500000 | 0.153846 | 0.980588 | -1.566039 | ⋯ | 0.960718 | 0.016386197 |  -9265 | TRUE | TRUE | FALSE | NA                       | Not.In.Peak   | FALSE |  TRUE |\n",
       "| chr14:68232339-68233302   | chr14:68232877:C:T  | chr14 |  68232877 | C | T | 0.134615 | 0.792643 | 0.999880 | -1.467925 | ⋯ | 0.991078 | 0.026131427 |     57 | TRUE | TRUE | FALSE | chr14:68232339-68233302  | In.caQTL.Peak |  TRUE | FALSE |\n",
       "\n"
      ],
      "text/plain": [
       "      Feature                   rsID                Chromosome position  Ref\n",
       "1     chr6:32622377-32623439    chr6:32620608:T:A   chr6        32620608 T  \n",
       "2     chr9:6931452-6932441      chr9:6929401:T:A    chr9         6929401 T  \n",
       "3     chr4:7164816-7165698      chr4:7160692:T:C    chr4         7160692 T  \n",
       "4     chr9:93230239-93231938    chr9:93231475:G:A   chr9        93231475 G  \n",
       "5     chr17:76968760-76970675   chr17:76972946:C:A  chr17       76972946 C  \n",
       "6     chr21:13979625-13980808   chr21:13980560:G:C  chr21       13980560 G  \n",
       "7     chr11:69088518-69089750   chr11:69098010:G:A  chr11       69098010 G  \n",
       "8     chr8:17607871-17609288    chr8:17608416:A:G   chr8        17608416 A  \n",
       "9     chr6:31307758-31309006    chr6:31306259:A:G   chr6        31306259 A  \n",
       "10    chr3:125990029-125991054  chr3:125990207:G:T  chr3       125990207 G  \n",
       "11    chr18:8799900-8801529     chr18:8800393:A:T   chr18        8800393 A  \n",
       "12    chr1:18480265-18481643    chr1:18480845:T:C   chr1        18480845 T  \n",
       "13    chr6:30453450-30454100    chr6:30453779:A:G   chr6        30453779 A  \n",
       "14    chr6:31497627-31498514    chr6:31488668:G:A   chr6        31488668 G  \n",
       "15    chr8:23717908-23718626    chr8:23718176:A:C   chr8        23718176 A  \n",
       "16    chr2:3041890-3043276      chr2:3036620:G:A    chr2         3036620 G  \n",
       "17    chr21:46477254-46478360   chr21:46481718:C:T  chr21       46481718 C  \n",
       "18    chr2:62293165-62294384    chr2:62293993:C:T   chr2        62293993 C  \n",
       "19    chr9:136725693-136725938  chr9:136726716:G:A  chr9       136726716 G  \n",
       "20    chr11:5367277-5368032     chr11:5365438:G:A   chr11        5365438 G  \n",
       "21    chr12:125982853-125984444 chr12:125992291:C:A chr12      125992291 C  \n",
       "22    chr13:93454516-93455319   chr13:93459590:A:G  chr13       93459590 A  \n",
       "23    chr1:161611907-161613071  chr1:161612710:C:T  chr1       161612710 C  \n",
       "24    chr4:169069764-169071360  chr4:169071095:C:T  chr4       169071095 C  \n",
       "25    chr2:238231152-238231860  chr2:238234995:T:G  chr2       238234995 T  \n",
       "26    chr19:46470791-46472219   chr19:46468762:T:G  chr19       46468762 T  \n",
       "27    chr12:54560027-54561744   chr12:54557828:A:G  chr12       54557828 A  \n",
       "28    chr1:203519193-203520650  chr1:203519823:G:T  chr1       203519823 G  \n",
       "29    chr4:1729699-1730102      chr4:1729926:C:T    chr4         1729926 C  \n",
       "30    chr11:45259418-45260327   chr11:45259306:A:G  chr11       45259306 A  \n",
       "⋮     ⋮                         ⋮                   ⋮          ⋮         ⋮  \n",
       "26150 chr4:142934572-142935233  chr4:142934919:A:G  chr4       142934919 A  \n",
       "26151 chr4:3239344-3242312      chr4:3239686:A:C    chr4         3239686 A  \n",
       "26152 chr12:31073368-31074875   chr12:31074546:G:T  chr12       31074546 G  \n",
       "26153 chr9:136784895-136785969  chr9:136792497:G:C  chr9       136792497 G  \n",
       "26154 chr17:46266286-46267685   chr17:46267043:A:C  chr17       46267043 A  \n",
       "26155 chr8:88326894-88329071    chr8:88322681:A:G   chr8        88322681 A  \n",
       "26156 chr20:47258602-47259426   chr20:47262445:T:C  chr20       47262445 T  \n",
       "26157 chr15:78756754-78757640   chr15:78767181:C:A  chr15       78767181 C  \n",
       "26158 chr5:72584223-72585135    chr5:72584687:T:C   chr5        72584687 T  \n",
       "26159 chr16:88938719-88939563   chr16:88935058:A:C  chr16       88935058 A  \n",
       "26160 chr3:47008948-47010224    chr3:47006962:T:G   chr3        47006962 T  \n",
       "26161 chr14:54870214-54871227   chr14:54875002:A:C  chr14       54875002 A  \n",
       "26162 chr17:47492147-47493178   chr17:47492591:C:A  chr17       47492591 C  \n",
       "26163 chr2:207165082-207167161  chr2:207158883:G:C  chr2       207158883 G  \n",
       "26164 chr8:118103337-118104208  chr8:118104011:A:G  chr8       118104011 A  \n",
       "26165 chr17:46224813-46225882   chr17:46225515:C:T  chr17       46225515 C  \n",
       "26166 chr6:85449462-85450784    chr6:85449744:G:C   chr6        85449744 G  \n",
       "26167 chr17:82866180-82867512   chr17:82856293:G:A  chr17       82856293 G  \n",
       "26168 chr9:137261330-137262738  chr9:137261767:G:A  chr9       137261767 G  \n",
       "26169 chr12:84507953-84509169   chr12:84512670:A:C  chr12       84512670 A  \n",
       "26170 chr1:156923953-156924537  chr1:156924821:G:T  chr1       156924821 G  \n",
       "26171 chr6:119308117-119308688  chr6:119308329:T:C  chr6       119308329 T  \n",
       "26172 chr2:67289305-67291036    chr2:67298904:T:C   chr2        67298904 T  \n",
       "26173 chr8:8701415-8702819      chr8:8704139:G:A    chr8         8704139 G  \n",
       "26174 chr9:86281728-86283429    chr9:86282167:C:G   chr9        86282167 C  \n",
       "26175 chr10:100561831-100563289 chr10:100564225:C:T chr10      100564225 C  \n",
       "26176 chr10:25293924-25295173   chr10:25301261:C:T  chr10       25301261 C  \n",
       "26177 chr20:9051290-9052374     chr20:9048849:A:G   chr20        9048849 A  \n",
       "26178 chr15:64835633-64836394   chr15:64826749:T:C  chr15       64826749 T  \n",
       "26179 chr14:68232339-68233302   chr14:68232877:C:T  chr14       68232877 C  \n",
       "      Alt Af       HWEChi_square IA       Log10_qval ⋯ r2_rSNP  P_VAl       \n",
       "1     A   0.425926 2.231991      0.998678 -67.03611  ⋯ 0.824496 8.976233e-71\n",
       "2     A   0.333333 0.750000      0.993936 -36.60879  ⋯ 0.985795 1.925609e-38\n",
       "3     C   0.277778 0.006391      0.999935 -32.46831  ⋯ 0.902371 1.502522e-34\n",
       "4     A   0.222222 0.137755      0.999392 -30.83427  ⋯ 0.992117 3.105136e-32\n",
       "5     A   0.296296 0.337734      0.980182 -29.73370  ⋯ 0.940828 4.969777e-32\n",
       "6     C   0.314815 0.083599      0.930667 -27.70426  ⋯ 0.870565 7.793799e-30\n",
       "7     A   0.518519 0.942278      0.995615 -27.01006  ⋯ 0.986516 4.959118e-29\n",
       "8     G   0.203704 0.020395      0.999237 -26.74354  ⋯ 0.958916 5.540007e-29\n",
       "9     G   0.111111 1.687500      0.999485 -25.66663  ⋯ 0.989627 1.045116e-27\n",
       "10    T   0.185185 0.008926      0.999056 -26.18753  ⋯ 0.983196 1.591805e-27\n",
       "11    T   0.092593 0.281133      0.998518 -24.17044  ⋯ 0.985117 7.945836e-27\n",
       "12    C   0.555556 0.067500      0.980277 -23.66970  ⋯ 0.965292 2.325451e-26\n",
       "13    G   0.092593 0.281133      0.999833 -24.29801  ⋯ 0.986110 2.502599e-25\n",
       "14    A   0.277778 0.006391      0.982339 -21.14321  ⋯ 0.967396 4.863287e-24\n",
       "15    C   0.370370 1.976886      0.999948 -21.12123  ⋯ 0.992032 1.128997e-23\n",
       "16    A   0.240741 2.714456      0.999931 -21.21030  ⋯ 0.985715 1.768599e-23\n",
       "17    T   0.388889 2.846180      0.998171 -20.98282  ⋯ 0.969885 1.262994e-22\n",
       "18    T   0.111111 0.421875      0.998186 -21.23158  ⋯ 0.986761 1.604890e-22\n",
       "19    A   0.444444 0.067500      0.999950 -19.81373  ⋯ 0.994213 1.183058e-21\n",
       "20    A   0.296296 1.599853      0.999940 -19.66787  ⋯ 0.984308 5.658569e-21\n",
       "21    A   0.796296 0.020395      0.999918 -18.21073  ⋯ 0.865507 8.099472e-21\n",
       "22    G   0.296296 0.116863      0.999939 -18.79065  ⋯ 0.989921 1.368405e-20\n",
       "23    T   0.277778 1.080000      0.895477 -18.07654  ⋯ 0.731703 1.597410e-20\n",
       "24    T   0.555556 0.067500      0.999652 -17.92951  ⋯ 0.993668 2.261988e-20\n",
       "25    G   0.203704 1.766901      0.999581 -17.63086  ⋯ 0.732429 2.316409e-20\n",
       "26    G   0.407407 0.147308      0.994410 -17.52697  ⋯ 0.981764 3.669017e-20\n",
       "27    G   0.666667 0.750000      0.999944 -18.59889  ⋯ 0.989879 5.194043e-20\n",
       "28    T   0.111111 0.421875      0.999859 -17.99563  ⋯ 0.985273 7.940312e-20\n",
       "29    T   0.833333 0.120000      0.979711 -18.04033  ⋯ 0.976059 8.089181e-20\n",
       "30    G   0.314815 0.363671      0.999772 -18.30305  ⋯ 0.992033 1.079731e-19\n",
       "⋮     ⋮   ⋮        ⋮             ⋮        ⋮          ⋱ ⋮        ⋮           \n",
       "26150 G   0.153846 0.335744      0.997147 -2.030104  ⋯ 0.982704 0.008179823 \n",
       "26151 C   0.250000 0.427350      0.999218 -1.495834  ⋯ 0.988846 0.008305976 \n",
       "26152 T   0.384615 0.914062      0.996242 -1.938959  ⋯ 0.990384 0.008336570 \n",
       "26153 C   0.326923 0.481847      0.995894 -1.503735  ⋯ 0.977536 0.008382724 \n",
       "26154 C   0.192308 1.719184      0.984436 -1.711653  ⋯ 0.898300 0.008414856 \n",
       "26155 G   0.615385 2.340000      0.963185 -1.493605  ⋯ 0.903365 0.008700992 \n",
       "26156 C   0.307692 2.006173      0.999937 -1.502503  ⋯ 0.993157 0.008939768 \n",
       "26157 A   0.346154 0.009996      0.994070 -1.467806  ⋯ 0.984146 0.009228250 \n",
       "26158 C   0.673077 0.481847      0.982693 -1.638140  ⋯ 0.970598 0.009359531 \n",
       "26159 C   0.384615 0.016250      0.995302 -1.900039  ⋯ 0.983385 0.009587075 \n",
       "26160 G   0.346154 0.009996      0.998594 -1.728157  ⋯ 0.989832 0.009713238 \n",
       "26161 C   0.134615 0.629136      0.999226 -1.493755  ⋯ 0.979148 0.010320302 \n",
       "26162 A   0.057692 0.097459      0.999735 -1.584869  ⋯ 0.977354 0.010348809 \n",
       "26163 C   0.711538 1.235828      0.994000 -1.492888  ⋯ 0.975514 0.011025166 \n",
       "26164 G   0.692308 0.245756      0.987666 -1.598868  ⋯ 0.977185 0.011107343 \n",
       "26165 T   0.173077 0.091835      0.994170 -1.854251  ⋯ 0.990255 0.011459501 \n",
       "26166 C   0.115385 0.442344      0.999678 -1.767970  ⋯ 0.982222 0.011640997 \n",
       "26167 A   0.519231 0.000057      0.998049 -1.471988  ⋯ 0.980102 0.011653010 \n",
       "26168 A   0.788462 1.871505      0.922056 -1.679472  ⋯ 0.825954 0.011788599 \n",
       "26169 C   0.403846 0.038343      0.999948 -1.588887  ⋯ 0.991761 0.011820453 \n",
       "26170 T   0.134615 0.792643      0.999553 -1.564407  ⋯ 0.986934 0.012575774 \n",
       "26171 C   0.115385 0.442344      0.999864 -1.634946  ⋯ 0.985396 0.012693189 \n",
       "26172 C   0.076923 0.180556      0.999800 -1.467251  ⋯ 0.975005 0.013258158 \n",
       "26173 A   0.346154 0.587552      0.980959 -1.654435  ⋯ 0.955637 0.013347132 \n",
       "26174 G   0.576923 0.275996      0.996825 -1.487596  ⋯ 0.980034 0.015225363 \n",
       "26175 T   0.211538 0.036942      0.995302 -1.676400  ⋯ 0.974934 0.015428337 \n",
       "26176 T   0.096154 0.294251      0.999838 -1.476282  ⋯ 0.977377 0.015687864 \n",
       "26177 G   0.500000 0.153846      0.988418 -1.556730  ⋯ 0.971726 0.016333604 \n",
       "26178 C   0.500000 0.153846      0.980588 -1.566039  ⋯ 0.960718 0.016386197 \n",
       "26179 T   0.134615 0.792643      0.999880 -1.467925  ⋯ 0.991078 0.026131427 \n",
       "      dist   flag_fdr10 flag_fdr05 flag_fdr01 In.Feature              \n",
       "1     -2300  TRUE       TRUE       TRUE       NA                      \n",
       "2     -2545  TRUE       TRUE       TRUE       NA                      \n",
       "3     -4565  TRUE       TRUE       TRUE       chr4:7160139-7160834    \n",
       "4       387  TRUE       TRUE       TRUE       chr9:93230239-93231938  \n",
       "5      3228  TRUE       TRUE       TRUE       NA                      \n",
       "6       344  TRUE       TRUE       TRUE       chr21:13979625-13980808 \n",
       "7      8876  TRUE       TRUE       TRUE       NA                      \n",
       "8      -164  TRUE       TRUE       TRUE       chr8:17607871-17609288  \n",
       "9     -2123  TRUE       TRUE       TRUE       NA                      \n",
       "10     -335  TRUE       TRUE       TRUE       chr3:125990029-125991054\n",
       "11     -321  TRUE       TRUE       TRUE       chr18:8799900-8801529   \n",
       "12     -109  TRUE       TRUE       TRUE       chr1:18480265-18481643  \n",
       "13        4  TRUE       TRUE       TRUE       chr6:30453450-30454100  \n",
       "14    -9402  TRUE       TRUE       TRUE       NA                      \n",
       "15      -91  TRUE       TRUE       TRUE       chr8:23717908-23718626  \n",
       "16    -5963  TRUE       TRUE       TRUE       NA                      \n",
       "17     3911  TRUE       TRUE       TRUE       NA                      \n",
       "18      219  TRUE       TRUE       TRUE       chr2:62293165-62294384  \n",
       "19      900  TRUE       TRUE       TRUE       chr9:136726712-136726998\n",
       "20    -2216  TRUE       TRUE       TRUE       NA                      \n",
       "21     8643  TRUE       TRUE       TRUE       NA                      \n",
       "22     4672  TRUE       TRUE       TRUE       NA                      \n",
       "23      221  TRUE       TRUE       TRUE       chr1:161611907-161613071\n",
       "24      533  TRUE       TRUE       TRUE       chr4:169069764-169071360\n",
       "25     3489  TRUE       TRUE       TRUE       NA                      \n",
       "26    -2743  TRUE       TRUE       TRUE       NA                      \n",
       "27    -3058  TRUE       TRUE       TRUE       NA                      \n",
       "28      -99  TRUE       TRUE       TRUE       chr1:203519193-203520650\n",
       "29       26  TRUE       TRUE       TRUE       chr4:1729699-1730102    \n",
       "30     -566  TRUE       TRUE       TRUE       NA                      \n",
       "⋮     ⋮      ⋮          ⋮          ⋮          ⋮                       \n",
       "26150     17 TRUE       TRUE       FALSE      chr4:142934572-142935233\n",
       "26151  -1142 TRUE       TRUE       FALSE      chr4:3239344-3242312    \n",
       "26152    424 TRUE       TRUE       FALSE      chr12:31073368-31074875 \n",
       "26153   7065 TRUE       TRUE       FALSE      NA                      \n",
       "26154     57 TRUE       TRUE       FALSE      chr17:46266286-46267685 \n",
       "26155  -5301 TRUE       TRUE       FALSE      NA                      \n",
       "26156   3431 TRUE       TRUE       FALSE      NA                      \n",
       "26157   9984 TRUE       TRUE       FALSE      NA                      \n",
       "26158      8 TRUE       TRUE       FALSE      chr5:72584223-72585135  \n",
       "26159  -4083 TRUE       TRUE       FALSE      NA                      \n",
       "26160  -2624 TRUE       TRUE       FALSE      NA                      \n",
       "26161   4282 TRUE       TRUE       FALSE      NA                      \n",
       "26162    -71 TRUE       TRUE       FALSE      chr17:47492147-47493178 \n",
       "26163  -7239 TRUE       TRUE       FALSE      NA                      \n",
       "26164    239 TRUE       TRUE       FALSE      chr8:118103337-118104208\n",
       "26165    167 TRUE       TRUE       FALSE      chr17:46224813-46225882 \n",
       "26166   -379 TRUE       TRUE       FALSE      chr6:85449462-85450784  \n",
       "26167 -10553 TRUE       TRUE       FALSE      NA                      \n",
       "26168   -267 TRUE       TRUE       FALSE      chr9:137261330-137262738\n",
       "26169   4109 TRUE       TRUE       FALSE      NA                      \n",
       "26170    576 TRUE       TRUE       FALSE      NA                      \n",
       "26171    -73 TRUE       TRUE       FALSE      chr6:119308117-119308688\n",
       "26172   8734 TRUE       TRUE       FALSE      NA                      \n",
       "26173   2022 TRUE       TRUE       FALSE      NA                      \n",
       "26174   -411 TRUE       TRUE       FALSE      chr9:86281728-86283429  \n",
       "26175   1665 TRUE       TRUE       FALSE      NA                      \n",
       "26176   6713 TRUE       TRUE       FALSE      NA                      \n",
       "26177  -2983 TRUE       TRUE       FALSE      NA                      \n",
       "26178  -9265 TRUE       TRUE       FALSE      NA                      \n",
       "26179     57 TRUE       TRUE       FALSE      chr14:68232339-68233302 \n",
       "      Peak.Intersect.State flag_InPeak flag_NotInPeak\n",
       "1     Not.In.Peak          FALSE        TRUE         \n",
       "2     Not.In.Peak          FALSE        TRUE         \n",
       "3     In.Other.Peak        FALSE       FALSE         \n",
       "4     In.caQTL.Peak         TRUE       FALSE         \n",
       "5     Not.In.Peak          FALSE        TRUE         \n",
       "6     In.caQTL.Peak         TRUE       FALSE         \n",
       "7     Not.In.Peak          FALSE        TRUE         \n",
       "8     In.caQTL.Peak         TRUE       FALSE         \n",
       "9     Not.In.Peak          FALSE        TRUE         \n",
       "10    In.caQTL.Peak         TRUE       FALSE         \n",
       "11    In.caQTL.Peak         TRUE       FALSE         \n",
       "12    In.caQTL.Peak         TRUE       FALSE         \n",
       "13    In.caQTL.Peak         TRUE       FALSE         \n",
       "14    Not.In.Peak          FALSE        TRUE         \n",
       "15    In.caQTL.Peak         TRUE       FALSE         \n",
       "16    Not.In.Peak          FALSE        TRUE         \n",
       "17    Not.In.Peak          FALSE        TRUE         \n",
       "18    In.caQTL.Peak         TRUE       FALSE         \n",
       "19    In.Other.Peak        FALSE       FALSE         \n",
       "20    Not.In.Peak          FALSE        TRUE         \n",
       "21    Not.In.Peak          FALSE        TRUE         \n",
       "22    Not.In.Peak          FALSE        TRUE         \n",
       "23    In.caQTL.Peak         TRUE       FALSE         \n",
       "24    In.caQTL.Peak         TRUE       FALSE         \n",
       "25    Not.In.Peak          FALSE        TRUE         \n",
       "26    Not.In.Peak          FALSE        TRUE         \n",
       "27    Not.In.Peak          FALSE        TRUE         \n",
       "28    In.caQTL.Peak         TRUE       FALSE         \n",
       "29    In.caQTL.Peak         TRUE       FALSE         \n",
       "30    Not.In.Peak          FALSE        TRUE         \n",
       "⋮     ⋮                    ⋮           ⋮             \n",
       "26150 In.caQTL.Peak         TRUE       FALSE         \n",
       "26151 In.caQTL.Peak         TRUE       FALSE         \n",
       "26152 In.caQTL.Peak         TRUE       FALSE         \n",
       "26153 Not.In.Peak          FALSE        TRUE         \n",
       "26154 In.caQTL.Peak         TRUE       FALSE         \n",
       "26155 Not.In.Peak          FALSE        TRUE         \n",
       "26156 Not.In.Peak          FALSE        TRUE         \n",
       "26157 Not.In.Peak          FALSE        TRUE         \n",
       "26158 In.caQTL.Peak         TRUE       FALSE         \n",
       "26159 Not.In.Peak          FALSE        TRUE         \n",
       "26160 Not.In.Peak          FALSE        TRUE         \n",
       "26161 Not.In.Peak          FALSE        TRUE         \n",
       "26162 In.caQTL.Peak         TRUE       FALSE         \n",
       "26163 Not.In.Peak          FALSE        TRUE         \n",
       "26164 In.caQTL.Peak         TRUE       FALSE         \n",
       "26165 In.caQTL.Peak         TRUE       FALSE         \n",
       "26166 In.caQTL.Peak         TRUE       FALSE         \n",
       "26167 Not.In.Peak          FALSE        TRUE         \n",
       "26168 In.caQTL.Peak         TRUE       FALSE         \n",
       "26169 Not.In.Peak          FALSE        TRUE         \n",
       "26170 Not.In.Peak          FALSE        TRUE         \n",
       "26171 In.caQTL.Peak         TRUE       FALSE         \n",
       "26172 Not.In.Peak          FALSE        TRUE         \n",
       "26173 Not.In.Peak          FALSE        TRUE         \n",
       "26174 In.caQTL.Peak         TRUE       FALSE         \n",
       "26175 Not.In.Peak          FALSE        TRUE         \n",
       "26176 Not.In.Peak          FALSE        TRUE         \n",
       "26177 Not.In.Peak          FALSE        TRUE         \n",
       "26178 Not.In.Peak          FALSE        TRUE         \n",
       "26179 In.caQTL.Peak         TRUE       FALSE         "
      ]
     },
     "metadata": {},
     "output_type": "display_data"
    }
   ],
   "source": [
    "combined_lead$flag_NotInPeak <- combined_lead$Peak.Intersect.State == 'Not.In.Peak'\n",
    "combined_lead$flag_InPeak <- combined_lead$Peak.Intersect.State == 'In.caQTL.Peak'\n",
    "\n",
    "combined_lead"
   ]
  },
  {
   "cell_type": "code",
   "execution_count": 115,
   "id": "11ebe37d",
   "metadata": {
    "vscode": {
     "languageId": "r"
    }
   },
   "outputs": [
    {
     "data": {
      "text/html": [
       "<table class=\"dataframe\">\n",
       "<caption>A tibble: 6 × 34</caption>\n",
       "<thead>\n",
       "\t<tr><th scope=col>Feature</th><th scope=col>rsID</th><th scope=col>Chromosome</th><th scope=col>position</th><th scope=col>Ref</th><th scope=col>Alt</th><th scope=col>Af</th><th scope=col>HWEChi_square</th><th scope=col>IA</th><th scope=col>Log10_qval</th><th scope=col>⋯</th><th scope=col>r2_rSNP</th><th scope=col>P_VAl</th><th scope=col>dist</th><th scope=col>flag_fdr10</th><th scope=col>flag_fdr05</th><th scope=col>flag_fdr01</th><th scope=col>In.Feature</th><th scope=col>Peak.Intersect.State</th><th scope=col>flag_InPeak</th><th scope=col>flag_NotInPeak</th></tr>\n",
       "\t<tr><th scope=col>&lt;chr&gt;</th><th scope=col>&lt;chr&gt;</th><th scope=col>&lt;chr&gt;</th><th scope=col>&lt;dbl&gt;</th><th scope=col>&lt;chr&gt;</th><th scope=col>&lt;chr&gt;</th><th scope=col>&lt;dbl&gt;</th><th scope=col>&lt;dbl&gt;</th><th scope=col>&lt;dbl&gt;</th><th scope=col>&lt;dbl&gt;</th><th scope=col>⋯</th><th scope=col>&lt;dbl&gt;</th><th scope=col>&lt;dbl&gt;</th><th scope=col>&lt;dbl&gt;</th><th scope=col>&lt;lgl&gt;</th><th scope=col>&lt;lgl&gt;</th><th scope=col>&lt;lgl&gt;</th><th scope=col>&lt;chr&gt;</th><th scope=col>&lt;chr&gt;</th><th scope=col>&lt;lgl&gt;</th><th scope=col>&lt;lgl&gt;</th></tr>\n",
       "</thead>\n",
       "<tbody>\n",
       "\t<tr><td>chr6:32622377-32623439 </td><td>chr6:32620608:T:A </td><td>chr6 </td><td>32620608</td><td>T</td><td>A</td><td>0.425926</td><td>2.231991</td><td>0.998678</td><td>-67.03611</td><td>⋯</td><td>0.824496</td><td>8.976233e-71</td><td>-2300</td><td>TRUE</td><td>TRUE</td><td>TRUE</td><td>NA                     </td><td>Not.In.Peak  </td><td>FALSE</td><td> TRUE</td></tr>\n",
       "\t<tr><td>chr9:6931452-6932441   </td><td>chr9:6929401:T:A  </td><td>chr9 </td><td> 6929401</td><td>T</td><td>A</td><td>0.333333</td><td>0.750000</td><td>0.993936</td><td>-36.60879</td><td>⋯</td><td>0.985795</td><td>1.925609e-38</td><td>-2545</td><td>TRUE</td><td>TRUE</td><td>TRUE</td><td>NA                     </td><td>Not.In.Peak  </td><td>FALSE</td><td> TRUE</td></tr>\n",
       "\t<tr><td>chr4:7164816-7165698   </td><td>chr4:7160692:T:C  </td><td>chr4 </td><td> 7160692</td><td>T</td><td>C</td><td>0.277778</td><td>0.006391</td><td>0.999935</td><td>-32.46831</td><td>⋯</td><td>0.902371</td><td>1.502522e-34</td><td>-4565</td><td>TRUE</td><td>TRUE</td><td>TRUE</td><td>chr4:7160139-7160834   </td><td>In.Other.Peak</td><td>FALSE</td><td>FALSE</td></tr>\n",
       "\t<tr><td>chr9:93230239-93231938 </td><td>chr9:93231475:G:A </td><td>chr9 </td><td>93231475</td><td>G</td><td>A</td><td>0.222222</td><td>0.137755</td><td>0.999392</td><td>-30.83427</td><td>⋯</td><td>0.992117</td><td>3.105136e-32</td><td>  387</td><td>TRUE</td><td>TRUE</td><td>TRUE</td><td>chr9:93230239-93231938 </td><td>In.caQTL.Peak</td><td> TRUE</td><td>FALSE</td></tr>\n",
       "\t<tr><td>chr17:76968760-76970675</td><td>chr17:76972946:C:A</td><td>chr17</td><td>76972946</td><td>C</td><td>A</td><td>0.296296</td><td>0.337734</td><td>0.980182</td><td>-29.73370</td><td>⋯</td><td>0.940828</td><td>4.969777e-32</td><td> 3228</td><td>TRUE</td><td>TRUE</td><td>TRUE</td><td>NA                     </td><td>Not.In.Peak  </td><td>FALSE</td><td> TRUE</td></tr>\n",
       "\t<tr><td>chr21:13979625-13980808</td><td>chr21:13980560:G:C</td><td>chr21</td><td>13980560</td><td>G</td><td>C</td><td>0.314815</td><td>0.083599</td><td>0.930667</td><td>-27.70426</td><td>⋯</td><td>0.870565</td><td>7.793799e-30</td><td>  344</td><td>TRUE</td><td>TRUE</td><td>TRUE</td><td>chr21:13979625-13980808</td><td>In.caQTL.Peak</td><td> TRUE</td><td>FALSE</td></tr>\n",
       "</tbody>\n",
       "</table>\n"
      ],
      "text/latex": [
       "A tibble: 6 × 34\n",
       "\\begin{tabular}{lllllllllllllllllllll}\n",
       " Feature & rsID & Chromosome & position & Ref & Alt & Af & HWEChi\\_square & IA & Log10\\_qval & ⋯ & r2\\_rSNP & P\\_VAl & dist & flag\\_fdr10 & flag\\_fdr05 & flag\\_fdr01 & In.Feature & Peak.Intersect.State & flag\\_InPeak & flag\\_NotInPeak\\\\\n",
       " <chr> & <chr> & <chr> & <dbl> & <chr> & <chr> & <dbl> & <dbl> & <dbl> & <dbl> & ⋯ & <dbl> & <dbl> & <dbl> & <lgl> & <lgl> & <lgl> & <chr> & <chr> & <lgl> & <lgl>\\\\\n",
       "\\hline\n",
       "\t chr6:32622377-32623439  & chr6:32620608:T:A  & chr6  & 32620608 & T & A & 0.425926 & 2.231991 & 0.998678 & -67.03611 & ⋯ & 0.824496 & 8.976233e-71 & -2300 & TRUE & TRUE & TRUE & NA                      & Not.In.Peak   & FALSE &  TRUE\\\\\n",
       "\t chr9:6931452-6932441    & chr9:6929401:T:A   & chr9  &  6929401 & T & A & 0.333333 & 0.750000 & 0.993936 & -36.60879 & ⋯ & 0.985795 & 1.925609e-38 & -2545 & TRUE & TRUE & TRUE & NA                      & Not.In.Peak   & FALSE &  TRUE\\\\\n",
       "\t chr4:7164816-7165698    & chr4:7160692:T:C   & chr4  &  7160692 & T & C & 0.277778 & 0.006391 & 0.999935 & -32.46831 & ⋯ & 0.902371 & 1.502522e-34 & -4565 & TRUE & TRUE & TRUE & chr4:7160139-7160834    & In.Other.Peak & FALSE & FALSE\\\\\n",
       "\t chr9:93230239-93231938  & chr9:93231475:G:A  & chr9  & 93231475 & G & A & 0.222222 & 0.137755 & 0.999392 & -30.83427 & ⋯ & 0.992117 & 3.105136e-32 &   387 & TRUE & TRUE & TRUE & chr9:93230239-93231938  & In.caQTL.Peak &  TRUE & FALSE\\\\\n",
       "\t chr17:76968760-76970675 & chr17:76972946:C:A & chr17 & 76972946 & C & A & 0.296296 & 0.337734 & 0.980182 & -29.73370 & ⋯ & 0.940828 & 4.969777e-32 &  3228 & TRUE & TRUE & TRUE & NA                      & Not.In.Peak   & FALSE &  TRUE\\\\\n",
       "\t chr21:13979625-13980808 & chr21:13980560:G:C & chr21 & 13980560 & G & C & 0.314815 & 0.083599 & 0.930667 & -27.70426 & ⋯ & 0.870565 & 7.793799e-30 &   344 & TRUE & TRUE & TRUE & chr21:13979625-13980808 & In.caQTL.Peak &  TRUE & FALSE\\\\\n",
       "\\end{tabular}\n"
      ],
      "text/markdown": [
       "\n",
       "A tibble: 6 × 34\n",
       "\n",
       "| Feature &lt;chr&gt; | rsID &lt;chr&gt; | Chromosome &lt;chr&gt; | position &lt;dbl&gt; | Ref &lt;chr&gt; | Alt &lt;chr&gt; | Af &lt;dbl&gt; | HWEChi_square &lt;dbl&gt; | IA &lt;dbl&gt; | Log10_qval &lt;dbl&gt; | ⋯ ⋯ | r2_rSNP &lt;dbl&gt; | P_VAl &lt;dbl&gt; | dist &lt;dbl&gt; | flag_fdr10 &lt;lgl&gt; | flag_fdr05 &lt;lgl&gt; | flag_fdr01 &lt;lgl&gt; | In.Feature &lt;chr&gt; | Peak.Intersect.State &lt;chr&gt; | flag_InPeak &lt;lgl&gt; | flag_NotInPeak &lt;lgl&gt; |\n",
       "|---|---|---|---|---|---|---|---|---|---|---|---|---|---|---|---|---|---|---|---|---|\n",
       "| chr6:32622377-32623439  | chr6:32620608:T:A  | chr6  | 32620608 | T | A | 0.425926 | 2.231991 | 0.998678 | -67.03611 | ⋯ | 0.824496 | 8.976233e-71 | -2300 | TRUE | TRUE | TRUE | NA                      | Not.In.Peak   | FALSE |  TRUE |\n",
       "| chr9:6931452-6932441    | chr9:6929401:T:A   | chr9  |  6929401 | T | A | 0.333333 | 0.750000 | 0.993936 | -36.60879 | ⋯ | 0.985795 | 1.925609e-38 | -2545 | TRUE | TRUE | TRUE | NA                      | Not.In.Peak   | FALSE |  TRUE |\n",
       "| chr4:7164816-7165698    | chr4:7160692:T:C   | chr4  |  7160692 | T | C | 0.277778 | 0.006391 | 0.999935 | -32.46831 | ⋯ | 0.902371 | 1.502522e-34 | -4565 | TRUE | TRUE | TRUE | chr4:7160139-7160834    | In.Other.Peak | FALSE | FALSE |\n",
       "| chr9:93230239-93231938  | chr9:93231475:G:A  | chr9  | 93231475 | G | A | 0.222222 | 0.137755 | 0.999392 | -30.83427 | ⋯ | 0.992117 | 3.105136e-32 |   387 | TRUE | TRUE | TRUE | chr9:93230239-93231938  | In.caQTL.Peak |  TRUE | FALSE |\n",
       "| chr17:76968760-76970675 | chr17:76972946:C:A | chr17 | 76972946 | C | A | 0.296296 | 0.337734 | 0.980182 | -29.73370 | ⋯ | 0.940828 | 4.969777e-32 |  3228 | TRUE | TRUE | TRUE | NA                      | Not.In.Peak   | FALSE |  TRUE |\n",
       "| chr21:13979625-13980808 | chr21:13980560:G:C | chr21 | 13980560 | G | C | 0.314815 | 0.083599 | 0.930667 | -27.70426 | ⋯ | 0.870565 | 7.793799e-30 |   344 | TRUE | TRUE | TRUE | chr21:13979625-13980808 | In.caQTL.Peak |  TRUE | FALSE |\n",
       "\n"
      ],
      "text/plain": [
       "  Feature                 rsID               Chromosome position Ref Alt\n",
       "1 chr6:32622377-32623439  chr6:32620608:T:A  chr6       32620608 T   A  \n",
       "2 chr9:6931452-6932441    chr9:6929401:T:A   chr9        6929401 T   A  \n",
       "3 chr4:7164816-7165698    chr4:7160692:T:C   chr4        7160692 T   C  \n",
       "4 chr9:93230239-93231938  chr9:93231475:G:A  chr9       93231475 G   A  \n",
       "5 chr17:76968760-76970675 chr17:76972946:C:A chr17      76972946 C   A  \n",
       "6 chr21:13979625-13980808 chr21:13980560:G:C chr21      13980560 G   C  \n",
       "  Af       HWEChi_square IA       Log10_qval ⋯ r2_rSNP  P_VAl        dist \n",
       "1 0.425926 2.231991      0.998678 -67.03611  ⋯ 0.824496 8.976233e-71 -2300\n",
       "2 0.333333 0.750000      0.993936 -36.60879  ⋯ 0.985795 1.925609e-38 -2545\n",
       "3 0.277778 0.006391      0.999935 -32.46831  ⋯ 0.902371 1.502522e-34 -4565\n",
       "4 0.222222 0.137755      0.999392 -30.83427  ⋯ 0.992117 3.105136e-32   387\n",
       "5 0.296296 0.337734      0.980182 -29.73370  ⋯ 0.940828 4.969777e-32  3228\n",
       "6 0.314815 0.083599      0.930667 -27.70426  ⋯ 0.870565 7.793799e-30   344\n",
       "  flag_fdr10 flag_fdr05 flag_fdr01 In.Feature              Peak.Intersect.State\n",
       "1 TRUE       TRUE       TRUE       NA                      Not.In.Peak         \n",
       "2 TRUE       TRUE       TRUE       NA                      Not.In.Peak         \n",
       "3 TRUE       TRUE       TRUE       chr4:7160139-7160834    In.Other.Peak       \n",
       "4 TRUE       TRUE       TRUE       chr9:93230239-93231938  In.caQTL.Peak       \n",
       "5 TRUE       TRUE       TRUE       NA                      Not.In.Peak         \n",
       "6 TRUE       TRUE       TRUE       chr21:13979625-13980808 In.caQTL.Peak       \n",
       "  flag_InPeak flag_NotInPeak\n",
       "1 FALSE        TRUE         \n",
       "2 FALSE        TRUE         \n",
       "3 FALSE       FALSE         \n",
       "4  TRUE       FALSE         \n",
       "5 FALSE        TRUE         \n",
       "6  TRUE       FALSE         "
      ]
     },
     "metadata": {},
     "output_type": "display_data"
    }
   ],
   "source": [
    "head(filter(combined_lead, flag_fdr05))"
   ]
  },
  {
   "cell_type": "code",
   "execution_count": 116,
   "id": "908ea208",
   "metadata": {
    "vscode": {
     "languageId": "r"
    }
   },
   "outputs": [
    {
     "data": {
      "text/html": [
       "26179"
      ],
      "text/latex": [
       "26179"
      ],
      "text/markdown": [
       "26179"
      ],
      "text/plain": [
       "[1] 26179"
      ]
     },
     "metadata": {},
     "output_type": "display_data"
    },
    {
     "data": {
      "text/html": [
       "20618"
      ],
      "text/latex": [
       "20618"
      ],
      "text/markdown": [
       "20618"
      ],
      "text/plain": [
       "[1] 20618"
      ]
     },
     "metadata": {},
     "output_type": "display_data"
    }
   ],
   "source": [
    "nrow(filter(combined_lead, flag_fdr05))\n",
    "length(unique(filter(combined_lead, flag_fdr05)$rsID))"
   ]
  },
  {
   "cell_type": "code",
   "execution_count": 129,
   "id": "fb7c13ed",
   "metadata": {
    "vscode": {
     "languageId": "r"
    }
   },
   "outputs": [
    {
     "data": {
      "text/html": [
       "<style>\n",
       ".list-inline {list-style: none; margin:0; padding: 0}\n",
       ".list-inline>li {display: inline-block}\n",
       ".list-inline>li:not(:last-child)::after {content: \"\\00b7\"; padding: 0 .5ex}\n",
       "</style>\n",
       "<ol class=list-inline><li>20618</li><li>3</li></ol>\n"
      ],
      "text/latex": [
       "\\begin{enumerate*}\n",
       "\\item 20618\n",
       "\\item 3\n",
       "\\end{enumerate*}\n"
      ],
      "text/markdown": [
       "1. 20618\n",
       "2. 3\n",
       "\n",
       "\n"
      ],
      "text/plain": [
       "[1] 20618     3"
      ]
     },
     "metadata": {},
     "output_type": "display_data"
    },
    {
     "data": {
      "text/html": [
       "<table class=\"dataframe\">\n",
       "<caption>A tibble: 6 × 3</caption>\n",
       "<thead>\n",
       "\t<tr><th scope=col>rsID</th><th scope=col>flag_NotInPeak</th><th scope=col>flag_fdr05</th></tr>\n",
       "\t<tr><th scope=col>&lt;chr&gt;</th><th scope=col>&lt;lgl&gt;</th><th scope=col>&lt;lgl&gt;</th></tr>\n",
       "</thead>\n",
       "<tbody>\n",
       "\t<tr><td>chr6:32620608:T:A </td><td> TRUE</td><td>TRUE</td></tr>\n",
       "\t<tr><td>chr9:6929401:T:A  </td><td> TRUE</td><td>TRUE</td></tr>\n",
       "\t<tr><td>chr4:7160692:T:C  </td><td>FALSE</td><td>TRUE</td></tr>\n",
       "\t<tr><td>chr9:93231475:G:A </td><td>FALSE</td><td>TRUE</td></tr>\n",
       "\t<tr><td>chr17:76972946:C:A</td><td> TRUE</td><td>TRUE</td></tr>\n",
       "\t<tr><td>chr21:13980560:G:C</td><td>FALSE</td><td>TRUE</td></tr>\n",
       "</tbody>\n",
       "</table>\n"
      ],
      "text/latex": [
       "A tibble: 6 × 3\n",
       "\\begin{tabular}{lll}\n",
       " rsID & flag\\_NotInPeak & flag\\_fdr05\\\\\n",
       " <chr> & <lgl> & <lgl>\\\\\n",
       "\\hline\n",
       "\t chr6:32620608:T:A  &  TRUE & TRUE\\\\\n",
       "\t chr9:6929401:T:A   &  TRUE & TRUE\\\\\n",
       "\t chr4:7160692:T:C   & FALSE & TRUE\\\\\n",
       "\t chr9:93231475:G:A  & FALSE & TRUE\\\\\n",
       "\t chr17:76972946:C:A &  TRUE & TRUE\\\\\n",
       "\t chr21:13980560:G:C & FALSE & TRUE\\\\\n",
       "\\end{tabular}\n"
      ],
      "text/markdown": [
       "\n",
       "A tibble: 6 × 3\n",
       "\n",
       "| rsID &lt;chr&gt; | flag_NotInPeak &lt;lgl&gt; | flag_fdr05 &lt;lgl&gt; |\n",
       "|---|---|---|\n",
       "| chr6:32620608:T:A  |  TRUE | TRUE |\n",
       "| chr9:6929401:T:A   |  TRUE | TRUE |\n",
       "| chr4:7160692:T:C   | FALSE | TRUE |\n",
       "| chr9:93231475:G:A  | FALSE | TRUE |\n",
       "| chr17:76972946:C:A |  TRUE | TRUE |\n",
       "| chr21:13980560:G:C | FALSE | TRUE |\n",
       "\n"
      ],
      "text/plain": [
       "  rsID               flag_NotInPeak flag_fdr05\n",
       "1 chr6:32620608:T:A   TRUE          TRUE      \n",
       "2 chr9:6929401:T:A    TRUE          TRUE      \n",
       "3 chr4:7160692:T:C   FALSE          TRUE      \n",
       "4 chr9:93231475:G:A  FALSE          TRUE      \n",
       "5 chr17:76972946:C:A  TRUE          TRUE      \n",
       "6 chr21:13980560:G:C FALSE          TRUE      "
      ]
     },
     "metadata": {},
     "output_type": "display_data"
    }
   ],
   "source": [
    "combined_lead_distinct <- combined_lead %>% filter(flag_fdr05) %>%\n",
    "                                select(rsID, flag_NotInPeak, flag_fdr05) %>% distinct()\n",
    "\n",
    "dim(combined_lead_distinct)\n",
    "head(combined_lead_distinct)"
   ]
  },
  {
   "cell_type": "code",
   "execution_count": 137,
   "id": "c6f790ac",
   "metadata": {
    "vscode": {
     "languageId": "r"
    }
   },
   "outputs": [
    {
     "data": {
      "text/html": [
       "0"
      ],
      "text/latex": [
       "0"
      ],
      "text/markdown": [
       "0"
      ],
      "text/plain": [
       "[1] 0"
      ]
     },
     "metadata": {},
     "output_type": "display_data"
    },
    {
     "data": {
      "text/html": [
       "0"
      ],
      "text/latex": [
       "0"
      ],
      "text/markdown": [
       "0"
      ],
      "text/plain": [
       "[1] 0"
      ]
     },
     "metadata": {},
     "output_type": "display_data"
    },
    {
     "data": {
      "text/html": [
       "<style>\n",
       ".list-inline {list-style: none; margin:0; padding: 0}\n",
       ".list-inline>li {display: inline-block}\n",
       ".list-inline>li:not(:last-child)::after {content: \"\\00b7\"; padding: 0 .5ex}\n",
       "</style>\n",
       "<ol class=list-inline><li>211922</li><li>16</li></ol>\n"
      ],
      "text/latex": [
       "\\begin{enumerate*}\n",
       "\\item 211922\n",
       "\\item 16\n",
       "\\end{enumerate*}\n"
      ],
      "text/markdown": [
       "1. 211922\n",
       "2. 16\n",
       "\n",
       "\n"
      ],
      "text/plain": [
       "[1] 211922     16"
      ]
     },
     "metadata": {},
     "output_type": "display_data"
    },
    {
     "data": {
      "text/html": [
       "<style>\n",
       ".list-inline {list-style: none; margin:0; padding: 0}\n",
       ".list-inline>li {display: inline-block}\n",
       ".list-inline>li:not(:last-child)::after {content: \"\\00b7\"; padding: 0 .5ex}\n",
       "</style>\n",
       "<ol class=list-inline><li>211922</li><li>18</li></ol>\n"
      ],
      "text/latex": [
       "\\begin{enumerate*}\n",
       "\\item 211922\n",
       "\\item 18\n",
       "\\end{enumerate*}\n"
      ],
      "text/markdown": [
       "1. 211922\n",
       "2. 18\n",
       "\n",
       "\n"
      ],
      "text/plain": [
       "[1] 211922     18"
      ]
     },
     "metadata": {},
     "output_type": "display_data"
    },
    {
     "data": {
      "text/html": [
       "<table class=\"dataframe\">\n",
       "<caption>A data.frame: 6 × 18</caption>\n",
       "<thead>\n",
       "\t<tr><th></th><th scope=col>SNP_id</th><th scope=col>motifPos</th><th scope=col>geneSymbol</th><th scope=col>dataSource</th><th scope=col>providerName</th><th scope=col>providerId</th><th scope=col>seqMatch</th><th scope=col>pctRef</th><th scope=col>pctAlt</th><th scope=col>scoreRef</th><th scope=col>scoreAlt</th><th scope=col>Refpvalue</th><th scope=col>Altpvalue</th><th scope=col>altPos</th><th scope=col>alleleDiff</th><th scope=col>effect</th><th scope=col>flag_NotInPeak</th><th scope=col>flag_fdr05</th></tr>\n",
       "\t<tr><th></th><th scope=col>&lt;chr&gt;</th><th scope=col>&lt;int&gt;</th><th scope=col>&lt;chr&gt;</th><th scope=col>&lt;chr&gt;</th><th scope=col>&lt;chr&gt;</th><th scope=col>&lt;chr&gt;</th><th scope=col>&lt;chr&gt;</th><th scope=col>&lt;dbl&gt;</th><th scope=col>&lt;dbl&gt;</th><th scope=col>&lt;dbl&gt;</th><th scope=col>&lt;dbl&gt;</th><th scope=col>&lt;lgl&gt;</th><th scope=col>&lt;lgl&gt;</th><th scope=col>&lt;int&gt;</th><th scope=col>&lt;dbl&gt;</th><th scope=col>&lt;chr&gt;</th><th scope=col>&lt;lgl&gt;</th><th scope=col>&lt;lgl&gt;</th></tr>\n",
       "</thead>\n",
       "<tbody>\n",
       "\t<tr><th scope=row>1</th><td>chr6:29680600:T:C </td><td>-1</td><td>TCFL5</td><td>jaspar2022</td><td>MA0632.2</td><td>MA0632.2</td><td>                gccctgtccCccgcgctta                  </td><td>0.7131549</td><td>0.9046364</td><td>7.539695</td><td>9.539586</td><td>NA</td><td>NA</td><td>1</td><td> 1.999892</td><td>strong</td><td>FALSE</td><td>TRUE</td></tr>\n",
       "\t<tr><th scope=row>2</th><td>chr1:223269331:T:G</td><td>-8</td><td>TCFL5</td><td>jaspar2022</td><td>MA0632.2</td><td>MA0632.2</td><td>      aaggcacgtGtataggaga                            </td><td>0.7006581</td><td>0.8921397</td><td>7.409175</td><td>9.409067</td><td>NA</td><td>NA</td><td>1</td><td> 1.999892</td><td>strong</td><td> TRUE</td><td>TRUE</td></tr>\n",
       "\t<tr><th scope=row>3</th><td>chr5:177481730:A:C</td><td>-1</td><td>TCFL5</td><td>jaspar2022</td><td>MA0632.2</td><td>MA0632.2</td><td>         gtgtgagtcCccgtgccca                         </td><td>0.6833266</td><td>0.8748082</td><td>7.228160</td><td>9.228051</td><td>NA</td><td>NA</td><td>1</td><td> 1.999892</td><td>strong</td><td>FALSE</td><td>TRUE</td></tr>\n",
       "\t<tr><th scope=row>4</th><td>chr22:38927250:G:A</td><td>-8</td><td>TCFL5</td><td>jaspar2022</td><td>MA0632.2</td><td>MA0632.2</td><td>         gtggcgcgaGcctggtgcc                         </td><td>0.9204063</td><td>0.7289248</td><td>9.704292</td><td>7.704401</td><td>NA</td><td>NA</td><td>1</td><td>-1.999892</td><td>strong</td><td>FALSE</td><td>TRUE</td></tr>\n",
       "\t<tr><th scope=row>5</th><td>chr11:64271703:G:A</td><td>-8</td><td>TCFL5</td><td>jaspar2022</td><td>MA0632.2</td><td>MA0632.2</td><td>    cgagcgcgaGcggccccga                              </td><td>0.9447054</td><td>0.7532239</td><td>9.958080</td><td>7.958188</td><td>NA</td><td>NA</td><td>1</td><td>-1.999892</td><td>strong</td><td>FALSE</td><td>TRUE</td></tr>\n",
       "\t<tr><th scope=row>6</th><td>chr19:53512517:G:A</td><td>-8</td><td>TCFL5</td><td>jaspar2022</td><td>MA0632.2</td><td>MA0632.2</td><td>                agggcccgcGgggagctct                  </td><td>0.8728179</td><td>0.6813363</td><td>9.207264</td><td>7.207372</td><td>NA</td><td>NA</td><td>1</td><td>-1.999892</td><td>strong</td><td>FALSE</td><td>TRUE</td></tr>\n",
       "</tbody>\n",
       "</table>\n"
      ],
      "text/latex": [
       "A data.frame: 6 × 18\n",
       "\\begin{tabular}{r|llllllllllllllllll}\n",
       "  & SNP\\_id & motifPos & geneSymbol & dataSource & providerName & providerId & seqMatch & pctRef & pctAlt & scoreRef & scoreAlt & Refpvalue & Altpvalue & altPos & alleleDiff & effect & flag\\_NotInPeak & flag\\_fdr05\\\\\n",
       "  & <chr> & <int> & <chr> & <chr> & <chr> & <chr> & <chr> & <dbl> & <dbl> & <dbl> & <dbl> & <lgl> & <lgl> & <int> & <dbl> & <chr> & <lgl> & <lgl>\\\\\n",
       "\\hline\n",
       "\t1 & chr6:29680600:T:C  & -1 & TCFL5 & jaspar2022 & MA0632.2 & MA0632.2 &                 gccctgtccCccgcgctta                   & 0.7131549 & 0.9046364 & 7.539695 & 9.539586 & NA & NA & 1 &  1.999892 & strong & FALSE & TRUE\\\\\n",
       "\t2 & chr1:223269331:T:G & -8 & TCFL5 & jaspar2022 & MA0632.2 & MA0632.2 &       aaggcacgtGtataggaga                             & 0.7006581 & 0.8921397 & 7.409175 & 9.409067 & NA & NA & 1 &  1.999892 & strong &  TRUE & TRUE\\\\\n",
       "\t3 & chr5:177481730:A:C & -1 & TCFL5 & jaspar2022 & MA0632.2 & MA0632.2 &          gtgtgagtcCccgtgccca                          & 0.6833266 & 0.8748082 & 7.228160 & 9.228051 & NA & NA & 1 &  1.999892 & strong & FALSE & TRUE\\\\\n",
       "\t4 & chr22:38927250:G:A & -8 & TCFL5 & jaspar2022 & MA0632.2 & MA0632.2 &          gtggcgcgaGcctggtgcc                          & 0.9204063 & 0.7289248 & 9.704292 & 7.704401 & NA & NA & 1 & -1.999892 & strong & FALSE & TRUE\\\\\n",
       "\t5 & chr11:64271703:G:A & -8 & TCFL5 & jaspar2022 & MA0632.2 & MA0632.2 &     cgagcgcgaGcggccccga                               & 0.9447054 & 0.7532239 & 9.958080 & 7.958188 & NA & NA & 1 & -1.999892 & strong & FALSE & TRUE\\\\\n",
       "\t6 & chr19:53512517:G:A & -8 & TCFL5 & jaspar2022 & MA0632.2 & MA0632.2 &                 agggcccgcGgggagctct                   & 0.8728179 & 0.6813363 & 9.207264 & 7.207372 & NA & NA & 1 & -1.999892 & strong & FALSE & TRUE\\\\\n",
       "\\end{tabular}\n"
      ],
      "text/markdown": [
       "\n",
       "A data.frame: 6 × 18\n",
       "\n",
       "| <!--/--> | SNP_id &lt;chr&gt; | motifPos &lt;int&gt; | geneSymbol &lt;chr&gt; | dataSource &lt;chr&gt; | providerName &lt;chr&gt; | providerId &lt;chr&gt; | seqMatch &lt;chr&gt; | pctRef &lt;dbl&gt; | pctAlt &lt;dbl&gt; | scoreRef &lt;dbl&gt; | scoreAlt &lt;dbl&gt; | Refpvalue &lt;lgl&gt; | Altpvalue &lt;lgl&gt; | altPos &lt;int&gt; | alleleDiff &lt;dbl&gt; | effect &lt;chr&gt; | flag_NotInPeak &lt;lgl&gt; | flag_fdr05 &lt;lgl&gt; |\n",
       "|---|---|---|---|---|---|---|---|---|---|---|---|---|---|---|---|---|---|---|\n",
       "| 1 | chr6:29680600:T:C  | -1 | TCFL5 | jaspar2022 | MA0632.2 | MA0632.2 |                 gccctgtccCccgcgctta                   | 0.7131549 | 0.9046364 | 7.539695 | 9.539586 | NA | NA | 1 |  1.999892 | strong | FALSE | TRUE |\n",
       "| 2 | chr1:223269331:T:G | -8 | TCFL5 | jaspar2022 | MA0632.2 | MA0632.2 |       aaggcacgtGtataggaga                             | 0.7006581 | 0.8921397 | 7.409175 | 9.409067 | NA | NA | 1 |  1.999892 | strong |  TRUE | TRUE |\n",
       "| 3 | chr5:177481730:A:C | -1 | TCFL5 | jaspar2022 | MA0632.2 | MA0632.2 |          gtgtgagtcCccgtgccca                          | 0.6833266 | 0.8748082 | 7.228160 | 9.228051 | NA | NA | 1 |  1.999892 | strong | FALSE | TRUE |\n",
       "| 4 | chr22:38927250:G:A | -8 | TCFL5 | jaspar2022 | MA0632.2 | MA0632.2 |          gtggcgcgaGcctggtgcc                          | 0.9204063 | 0.7289248 | 9.704292 | 7.704401 | NA | NA | 1 | -1.999892 | strong | FALSE | TRUE |\n",
       "| 5 | chr11:64271703:G:A | -8 | TCFL5 | jaspar2022 | MA0632.2 | MA0632.2 |     cgagcgcgaGcggccccga                               | 0.9447054 | 0.7532239 | 9.958080 | 7.958188 | NA | NA | 1 | -1.999892 | strong | FALSE | TRUE |\n",
       "| 6 | chr19:53512517:G:A | -8 | TCFL5 | jaspar2022 | MA0632.2 | MA0632.2 |                 agggcccgcGgggagctct                   | 0.8728179 | 0.6813363 | 9.207264 | 7.207372 | NA | NA | 1 | -1.999892 | strong | FALSE | TRUE |\n",
       "\n"
      ],
      "text/plain": [
       "  SNP_id             motifPos geneSymbol dataSource providerName providerId\n",
       "1 chr6:29680600:T:C  -1       TCFL5      jaspar2022 MA0632.2     MA0632.2  \n",
       "2 chr1:223269331:T:G -8       TCFL5      jaspar2022 MA0632.2     MA0632.2  \n",
       "3 chr5:177481730:A:C -1       TCFL5      jaspar2022 MA0632.2     MA0632.2  \n",
       "4 chr22:38927250:G:A -8       TCFL5      jaspar2022 MA0632.2     MA0632.2  \n",
       "5 chr11:64271703:G:A -8       TCFL5      jaspar2022 MA0632.2     MA0632.2  \n",
       "6 chr19:53512517:G:A -8       TCFL5      jaspar2022 MA0632.2     MA0632.2  \n",
       "  seqMatch                                              pctRef    pctAlt   \n",
       "1                 gccctgtccCccgcgctta                   0.7131549 0.9046364\n",
       "2       aaggcacgtGtataggaga                             0.7006581 0.8921397\n",
       "3          gtgtgagtcCccgtgccca                          0.6833266 0.8748082\n",
       "4          gtggcgcgaGcctggtgcc                          0.9204063 0.7289248\n",
       "5     cgagcgcgaGcggccccga                               0.9447054 0.7532239\n",
       "6                 agggcccgcGgggagctct                   0.8728179 0.6813363\n",
       "  scoreRef scoreAlt Refpvalue Altpvalue altPos alleleDiff effect flag_NotInPeak\n",
       "1 7.539695 9.539586 NA        NA        1       1.999892  strong FALSE         \n",
       "2 7.409175 9.409067 NA        NA        1       1.999892  strong  TRUE         \n",
       "3 7.228160 9.228051 NA        NA        1       1.999892  strong FALSE         \n",
       "4 9.704292 7.704401 NA        NA        1      -1.999892  strong FALSE         \n",
       "5 9.958080 7.958188 NA        NA        1      -1.999892  strong FALSE         \n",
       "6 9.207264 7.207372 NA        NA        1      -1.999892  strong FALSE         \n",
       "  flag_fdr05\n",
       "1 TRUE      \n",
       "2 TRUE      \n",
       "3 TRUE      \n",
       "4 TRUE      \n",
       "5 TRUE      \n",
       "6 TRUE      "
      ]
     },
     "metadata": {},
     "output_type": "display_data"
    }
   ],
   "source": [
    "motifs_in_peaks <- left_join(tab, combined_lead_distinct, join_by(SNP_id == rsID))\n",
    "sum(is.na(motifs_in_peaks$flag_NotInPeak))\n",
    "sum(is.na(motifs_in_peaks$geneSymbol))\n",
    "#motifs_in_peaks <- motifs_in_peaks[!is.na(motifs_in_peaks$flag_fdr05),]\n",
    "\n",
    "dim(tab)\n",
    "dim(motifs_in_peaks)\n",
    "head(motifs_in_peaks)"
   ]
  },
  {
   "cell_type": "code",
   "execution_count": 138,
   "id": "32daa837",
   "metadata": {
    "vscode": {
     "languageId": "r"
    }
   },
   "outputs": [
    {
     "data": {
      "text/html": [
       "<style>\n",
       ".list-inline {list-style: none; margin:0; padding: 0}\n",
       ".list-inline>li {display: inline-block}\n",
       ".list-inline>li:not(:last-child)::after {content: \"\\00b7\"; padding: 0 .5ex}\n",
       "</style>\n",
       "<ol class=list-inline><li>645</li><li>8</li></ol>\n"
      ],
      "text/latex": [
       "\\begin{enumerate*}\n",
       "\\item 645\n",
       "\\item 8\n",
       "\\end{enumerate*}\n"
      ],
      "text/markdown": [
       "1. 645\n",
       "2. 8\n",
       "\n",
       "\n"
      ],
      "text/plain": [
       "[1] 645   8"
      ]
     },
     "metadata": {},
     "output_type": "display_data"
    },
    {
     "data": {
      "text/html": [
       "<table class=\"dataframe\">\n",
       "<caption>A tibble: 6 × 8</caption>\n",
       "<thead>\n",
       "\t<tr><th scope=col>estimate</th><th scope=col>p.value</th><th scope=col>conf.low</th><th scope=col>conf.high</th><th scope=col>method</th><th scope=col>alternative</th><th scope=col>motif</th><th scope=col>q.value</th></tr>\n",
       "\t<tr><th scope=col>&lt;dbl&gt;</th><th scope=col>&lt;dbl&gt;</th><th scope=col>&lt;dbl&gt;</th><th scope=col>&lt;dbl&gt;</th><th scope=col>&lt;chr&gt;</th><th scope=col>&lt;chr&gt;</th><th scope=col>&lt;chr&gt;</th><th scope=col>&lt;dbl&gt;</th></tr>\n",
       "</thead>\n",
       "<tbody>\n",
       "\t<tr><td>0.1202465</td><td>6.917519e-118</td><td>0.09536648</td><td>0.1501350</td><td>Fisher's Exact Test for Count Data</td><td>two.sided</td><td>FOS::JUND</td><td>1.575772e-115</td></tr>\n",
       "\t<tr><td>0.1260874</td><td>1.205246e-115</td><td>0.10057330</td><td>0.1566645</td><td>Fisher's Exact Test for Count Data</td><td>two.sided</td><td>FOSL1    </td><td>1.372741e-113</td></tr>\n",
       "\t<tr><td>0.1779378</td><td>7.420940e-114</td><td>0.14924302</td><td>0.2112057</td><td>Fisher's Exact Test for Count Data</td><td>two.sided</td><td>JUNB     </td><td>5.634827e-112</td></tr>\n",
       "\t<tr><td>0.1220533</td><td>1.176406e-110</td><td>0.09630612</td><td>0.1531643</td><td>Fisher's Exact Test for Count Data</td><td>two.sided</td><td>BATF     </td><td>5.359573e-109</td></tr>\n",
       "\t<tr><td>0.1220533</td><td>1.176406e-110</td><td>0.09630612</td><td>0.1531643</td><td>Fisher's Exact Test for Count Data</td><td>two.sided</td><td>BNC2     </td><td>5.359573e-109</td></tr>\n",
       "\t<tr><td>0.1279968</td><td>5.514061e-109</td><td>0.10157706</td><td>0.1597739</td><td>Fisher's Exact Test for Count Data</td><td>two.sided</td><td>BATF::JUN</td><td>2.093453e-107</td></tr>\n",
       "</tbody>\n",
       "</table>\n"
      ],
      "text/latex": [
       "A tibble: 6 × 8\n",
       "\\begin{tabular}{llllllll}\n",
       " estimate & p.value & conf.low & conf.high & method & alternative & motif & q.value\\\\\n",
       " <dbl> & <dbl> & <dbl> & <dbl> & <chr> & <chr> & <chr> & <dbl>\\\\\n",
       "\\hline\n",
       "\t 0.1202465 & 6.917519e-118 & 0.09536648 & 0.1501350 & Fisher's Exact Test for Count Data & two.sided & FOS::JUND & 1.575772e-115\\\\\n",
       "\t 0.1260874 & 1.205246e-115 & 0.10057330 & 0.1566645 & Fisher's Exact Test for Count Data & two.sided & FOSL1     & 1.372741e-113\\\\\n",
       "\t 0.1779378 & 7.420940e-114 & 0.14924302 & 0.2112057 & Fisher's Exact Test for Count Data & two.sided & JUNB      & 5.634827e-112\\\\\n",
       "\t 0.1220533 & 1.176406e-110 & 0.09630612 & 0.1531643 & Fisher's Exact Test for Count Data & two.sided & BATF      & 5.359573e-109\\\\\n",
       "\t 0.1220533 & 1.176406e-110 & 0.09630612 & 0.1531643 & Fisher's Exact Test for Count Data & two.sided & BNC2      & 5.359573e-109\\\\\n",
       "\t 0.1279968 & 5.514061e-109 & 0.10157706 & 0.1597739 & Fisher's Exact Test for Count Data & two.sided & BATF::JUN & 2.093453e-107\\\\\n",
       "\\end{tabular}\n"
      ],
      "text/markdown": [
       "\n",
       "A tibble: 6 × 8\n",
       "\n",
       "| estimate &lt;dbl&gt; | p.value &lt;dbl&gt; | conf.low &lt;dbl&gt; | conf.high &lt;dbl&gt; | method &lt;chr&gt; | alternative &lt;chr&gt; | motif &lt;chr&gt; | q.value &lt;dbl&gt; |\n",
       "|---|---|---|---|---|---|---|---|\n",
       "| 0.1202465 | 6.917519e-118 | 0.09536648 | 0.1501350 | Fisher's Exact Test for Count Data | two.sided | FOS::JUND | 1.575772e-115 |\n",
       "| 0.1260874 | 1.205246e-115 | 0.10057330 | 0.1566645 | Fisher's Exact Test for Count Data | two.sided | FOSL1     | 1.372741e-113 |\n",
       "| 0.1779378 | 7.420940e-114 | 0.14924302 | 0.2112057 | Fisher's Exact Test for Count Data | two.sided | JUNB      | 5.634827e-112 |\n",
       "| 0.1220533 | 1.176406e-110 | 0.09630612 | 0.1531643 | Fisher's Exact Test for Count Data | two.sided | BATF      | 5.359573e-109 |\n",
       "| 0.1220533 | 1.176406e-110 | 0.09630612 | 0.1531643 | Fisher's Exact Test for Count Data | two.sided | BNC2      | 5.359573e-109 |\n",
       "| 0.1279968 | 5.514061e-109 | 0.10157706 | 0.1597739 | Fisher's Exact Test for Count Data | two.sided | BATF::JUN | 2.093453e-107 |\n",
       "\n"
      ],
      "text/plain": [
       "  estimate  p.value       conf.low   conf.high\n",
       "1 0.1202465 6.917519e-118 0.09536648 0.1501350\n",
       "2 0.1260874 1.205246e-115 0.10057330 0.1566645\n",
       "3 0.1779378 7.420940e-114 0.14924302 0.2112057\n",
       "4 0.1220533 1.176406e-110 0.09630612 0.1531643\n",
       "5 0.1220533 1.176406e-110 0.09630612 0.1531643\n",
       "6 0.1279968 5.514061e-109 0.10157706 0.1597739\n",
       "  method                             alternative motif     q.value      \n",
       "1 Fisher's Exact Test for Count Data two.sided   FOS::JUND 1.575772e-115\n",
       "2 Fisher's Exact Test for Count Data two.sided   FOSL1     1.372741e-113\n",
       "3 Fisher's Exact Test for Count Data two.sided   JUNB      5.634827e-112\n",
       "4 Fisher's Exact Test for Count Data two.sided   BATF      5.359573e-109\n",
       "5 Fisher's Exact Test for Count Data two.sided   BNC2      5.359573e-109\n",
       "6 Fisher's Exact Test for Count Data two.sided   BATF::JUN 2.093453e-107"
      ]
     },
     "metadata": {},
     "output_type": "display_data"
    }
   ],
   "source": [
    "# Identify enriched motifs\n",
    "motifs_in_peaks$disrupted <- TRUE\n",
    "motifs_wide <- select(motifs_in_peaks, SNP_id, geneSymbol, disrupted, flag_NotInPeak) %>%\n",
    "    group_by(SNP_id) %>%\n",
    "    pivot_wider(names_from=geneSymbol, values_from=disrupted, values_fill=FALSE)\n",
    "#motifs_wide\n",
    "\n",
    "full.res <- data.frame()\n",
    "\n",
    "for (test.motif in colnames(motifs_wide)[3:ncol(motifs_wide)]) {\n",
    "    test.res <- broom::tidy(fisher.test(table(motifs_wide[c(test.motif,'flag_NotInPeak')])))\n",
    "    test.res$motif <- test.motif\n",
    "    full.res <- rbind(full.res, test.res)\n",
    "}\n",
    "\n",
    "full.res[full.res$p.value > 1,]$p.value <- 1\n",
    "full.res[full.res$p.value < 0,]$p.value <- 0\n",
    "full.res$q.value <- qvalue(full.res$p.value)$qvalues\n",
    "full.res <- arrange(full.res, q.value)\n",
    "\n",
    "dim(full.res)\n",
    "head(full.res)"
   ]
  },
  {
   "cell_type": "code",
   "execution_count": 139,
   "id": "0c5d3f95",
   "metadata": {
    "scrolled": true,
    "vscode": {
     "languageId": "r"
    }
   },
   "outputs": [
    {
     "data": {
      "text/html": [
       "<table class=\"dataframe\">\n",
       "<caption>A tibble: 106 × 8</caption>\n",
       "<thead>\n",
       "\t<tr><th scope=col>estimate</th><th scope=col>p.value</th><th scope=col>conf.low</th><th scope=col>conf.high</th><th scope=col>method</th><th scope=col>alternative</th><th scope=col>motif</th><th scope=col>q.value</th></tr>\n",
       "\t<tr><th scope=col>&lt;dbl&gt;</th><th scope=col>&lt;dbl&gt;</th><th scope=col>&lt;dbl&gt;</th><th scope=col>&lt;dbl&gt;</th><th scope=col>&lt;chr&gt;</th><th scope=col>&lt;chr&gt;</th><th scope=col>&lt;chr&gt;</th><th scope=col>&lt;dbl&gt;</th></tr>\n",
       "</thead>\n",
       "<tbody>\n",
       "\t<tr><td>2.236364</td><td>3.537238e-14</td><td>1.793180</td><td>2.805605</td><td>Fisher's Exact Test for Count Data</td><td>two.sided</td><td>HOXB13      </td><td>2.120429e-13</td></tr>\n",
       "\t<tr><td>2.121726</td><td>4.091037e-13</td><td>1.711068</td><td>2.644912</td><td>Fisher's Exact Test for Count Data</td><td>two.sided</td><td>MEF2C       </td><td>2.070922e-12</td></tr>\n",
       "\t<tr><td>2.466775</td><td>1.206855e-11</td><td>1.863258</td><td>3.300704</td><td>Fisher's Exact Test for Count Data</td><td>two.sided</td><td>ZNF384      </td><td>5.286823e-11</td></tr>\n",
       "\t<tr><td>1.820411</td><td>1.803784e-10</td><td>1.502730</td><td>2.213028</td><td>Fisher's Exact Test for Count Data</td><td>two.sided</td><td>ZNF8        </td><td>6.848195e-10</td></tr>\n",
       "\t<tr><td>1.804739</td><td>1.724675e-08</td><td>1.457569</td><td>2.244533</td><td>Fisher's Exact Test for Count Data</td><td>two.sided</td><td>MEF2A       </td><td>5.102225e-08</td></tr>\n",
       "\t<tr><td>1.741927</td><td>2.372837e-07</td><td>1.400266</td><td>2.176459</td><td>Fisher's Exact Test for Count Data</td><td>two.sided</td><td>POU2F3      </td><td>6.212860e-07</td></tr>\n",
       "\t<tr><td>1.920589</td><td>2.703345e-07</td><td>1.480159</td><td>2.510042</td><td>Fisher's Exact Test for Count Data</td><td>two.sided</td><td>CEBPA       </td><td>6.997805e-07</td></tr>\n",
       "\t<tr><td>1.803249</td><td>2.916284e-07</td><td>1.426152</td><td>2.292166</td><td>Fisher's Exact Test for Count Data</td><td>two.sided</td><td>MEF2D       </td><td>7.464191e-07</td></tr>\n",
       "\t<tr><td>1.685346</td><td>3.922252e-07</td><td>1.367450</td><td>2.085149</td><td>Fisher's Exact Test for Count Data</td><td>two.sided</td><td>PHOX2B      </td><td>9.818318e-07</td></tr>\n",
       "\t<tr><td>1.543834</td><td>1.005974e-06</td><td>1.290381</td><td>1.851606</td><td>Fisher's Exact Test for Count Data</td><td>two.sided</td><td>POU2F1::SOX2</td><td>2.387032e-06</td></tr>\n",
       "\t<tr><td>1.632573</td><td>1.020957e-06</td><td>1.333527</td><td>2.005579</td><td>Fisher's Exact Test for Count Data</td><td>two.sided</td><td>FOXD3       </td><td>2.397610e-06</td></tr>\n",
       "\t<tr><td>1.630806</td><td>2.143781e-06</td><td>1.323599</td><td>2.016714</td><td>Fisher's Exact Test for Count Data</td><td>two.sided</td><td>POU1F1      </td><td>4.983072e-06</td></tr>\n",
       "\t<tr><td>1.789747</td><td>2.222411e-06</td><td>1.391137</td><td>2.316766</td><td>Fisher's Exact Test for Count Data</td><td>two.sided</td><td>MEF2B       </td><td>5.062526e-06</td></tr>\n",
       "\t<tr><td>1.707296</td><td>2.846810e-06</td><td>1.353176</td><td>2.164693</td><td>Fisher's Exact Test for Count Data</td><td>two.sided</td><td>POU5F1B     </td><td>6.420666e-06</td></tr>\n",
       "\t<tr><td>1.654463</td><td>4.620243e-06</td><td>1.322572</td><td>2.078600</td><td>Fisher's Exact Test for Count Data</td><td>two.sided</td><td>POU2F1      </td><td>1.002348e-05</td></tr>\n",
       "\t<tr><td>1.647594</td><td>6.154532e-06</td><td>1.318095</td><td>2.068293</td><td>Fisher's Exact Test for Count Data</td><td>two.sided</td><td>PRDM1       </td><td>1.310250e-05</td></tr>\n",
       "\t<tr><td>1.575410</td><td>6.470744e-06</td><td>1.284341</td><td>1.938893</td><td>Fisher's Exact Test for Count Data</td><td>two.sided</td><td>ZNF354A     </td><td>1.352293e-05</td></tr>\n",
       "\t<tr><td>1.705455</td><td>9.629594e-06</td><td>1.333275</td><td>2.193598</td><td>Fisher's Exact Test for Count Data</td><td>two.sided</td><td>HSF2        </td><td>1.976187e-05</td></tr>\n",
       "\t<tr><td>1.662299</td><td>1.456814e-05</td><td>1.311842</td><td>2.116728</td><td>Fisher's Exact Test for Count Data</td><td>two.sided</td><td>PROP1       </td><td>2.860810e-05</td></tr>\n",
       "\t<tr><td>1.583528</td><td>1.896795e-05</td><td>1.273779</td><td>1.976223</td><td>Fisher's Exact Test for Count Data</td><td>two.sided</td><td>POU2F2      </td><td>3.630917e-05</td></tr>\n",
       "\t<tr><td>1.577670</td><td>2.011430e-05</td><td>1.269948</td><td>1.967392</td><td>Fisher's Exact Test for Count Data</td><td>two.sided</td><td>POU3F2      </td><td>3.818270e-05</td></tr>\n",
       "\t<tr><td>1.558696</td><td>2.158199e-05</td><td>1.262951</td><td>1.930422</td><td>Fisher's Exact Test for Count Data</td><td>two.sided</td><td>POU5F1      </td><td>4.063021e-05</td></tr>\n",
       "\t<tr><td>1.610056</td><td>3.122057e-05</td><td>1.275721</td><td>2.041303</td><td>Fisher's Exact Test for Count Data</td><td>two.sided</td><td>CDX2        </td><td>5.717380e-05</td></tr>\n",
       "\t<tr><td>1.771326</td><td>4.499166e-05</td><td>1.332057</td><td>2.374307</td><td>Fisher's Exact Test for Count Data</td><td>two.sided</td><td>HOXA10      </td><td>8.006910e-05</td></tr>\n",
       "\t<tr><td>1.589516</td><td>4.584574e-05</td><td>1.262593</td><td>2.009869</td><td>Fisher's Exact Test for Count Data</td><td>two.sided</td><td>ONECUT3     </td><td>8.058307e-05</td></tr>\n",
       "\t<tr><td>2.749622</td><td>5.238565e-05</td><td>1.625057</td><td>4.863677</td><td>Fisher's Exact Test for Count Data</td><td>two.sided</td><td>PITX3       </td><td>8.972298e-05</td></tr>\n",
       "\t<tr><td>1.684430</td><td>5.212173e-05</td><td>1.294561</td><td>2.205461</td><td>Fisher's Exact Test for Count Data</td><td>two.sided</td><td>ZNF211      </td><td>8.972298e-05</td></tr>\n",
       "\t<tr><td>2.749622</td><td>5.238565e-05</td><td>1.625057</td><td>4.863677</td><td>Fisher's Exact Test for Count Data</td><td>two.sided</td><td>OTX2        </td><td>8.972298e-05</td></tr>\n",
       "\t<tr><td>1.536454</td><td>5.546254e-05</td><td>1.239488</td><td>1.911431</td><td>Fisher's Exact Test for Count Data</td><td>two.sided</td><td>POU3F3      </td><td>9.418003e-05</td></tr>\n",
       "\t<tr><td>1.637797</td><td>6.543817e-05</td><td>1.274888</td><td>2.115589</td><td>Fisher's Exact Test for Count Data</td><td>two.sided</td><td>CDX4        </td><td>1.096062e-04</td></tr>\n",
       "\t<tr><td>⋮</td><td>⋮</td><td>⋮</td><td>⋮</td><td>⋮</td><td>⋮</td><td>⋮</td><td>⋮</td></tr>\n",
       "\t<tr><td>1.352148</td><td>0.02237952</td><td>1.0413197</td><td>1.763488</td><td>Fisher's Exact Test for Count Data</td><td>two.sided</td><td>SOX8       </td><td>0.01675846</td></tr>\n",
       "\t<tr><td>1.395886</td><td>0.02403354</td><td>1.0423086</td><td>1.880417</td><td>Fisher's Exact Test for Count Data</td><td>two.sided</td><td>DMRTA1     </td><td>0.01766034</td></tr>\n",
       "\t<tr><td>1.549116</td><td>0.02471329</td><td>1.0417736</td><td>2.334711</td><td>Fisher's Exact Test for Count Data</td><td>two.sided</td><td>GBX1       </td><td>0.01810144</td></tr>\n",
       "\t<tr><td>1.250014</td><td>0.02653231</td><td>1.0229568</td><td>1.530692</td><td>Fisher's Exact Test for Count Data</td><td>two.sided</td><td>ZNF680     </td><td>0.01918702</td></tr>\n",
       "\t<tr><td>1.659121</td><td>0.02870261</td><td>1.0369775</td><td>2.711748</td><td>Fisher's Exact Test for Count Data</td><td>two.sided</td><td>DLX1       </td><td>0.02056067</td></tr>\n",
       "\t<tr><td>1.350283</td><td>0.03036377</td><td>1.0209990</td><td>1.794770</td><td>Fisher's Exact Test for Count Data</td><td>two.sided</td><td>TCF7       </td><td>0.02148042</td></tr>\n",
       "\t<tr><td>1.317290</td><td>0.03401793</td><td>1.0198050</td><td>1.708342</td><td>Fisher's Exact Test for Count Data</td><td>two.sided</td><td>TCF7L2     </td><td>0.02377022</td></tr>\n",
       "\t<tr><td>1.430805</td><td>0.03710162</td><td>1.0091516</td><td>2.047120</td><td>Fisher's Exact Test for Count Data</td><td>two.sided</td><td>LMX1B      </td><td>0.02538000</td></tr>\n",
       "\t<tr><td>1.539627</td><td>0.03782599</td><td>1.0123402</td><td>2.376711</td><td>Fisher's Exact Test for Count Data</td><td>two.sided</td><td>MSX2       </td><td>0.02572103</td></tr>\n",
       "\t<tr><td>1.539627</td><td>0.03782599</td><td>1.0123402</td><td>2.376711</td><td>Fisher's Exact Test for Count Data</td><td>two.sided</td><td>MSX1       </td><td>0.02572103</td></tr>\n",
       "\t<tr><td>1.263381</td><td>0.04188383</td><td>1.0028152</td><td>1.596336</td><td>Fisher's Exact Test for Count Data</td><td>two.sided</td><td>FOXH1      </td><td>0.02814424</td></tr>\n",
       "\t<tr><td>1.334736</td><td>0.04721097</td><td>0.9959072</td><td>1.798640</td><td>Fisher's Exact Test for Count Data</td><td>two.sided</td><td>HSF4       </td><td>0.03108206</td></tr>\n",
       "\t<tr><td>1.294016</td><td>0.04979668</td><td>0.9982255</td><td>1.684102</td><td>Fisher's Exact Test for Count Data</td><td>two.sided</td><td>DMRTC2     </td><td>0.03250259</td></tr>\n",
       "\t<tr><td>1.239200</td><td>0.05118013</td><td>0.9936910</td><td>1.549295</td><td>Fisher's Exact Test for Count Data</td><td>two.sided</td><td>NR4A1      </td><td>0.03321522</td></tr>\n",
       "\t<tr><td>1.439627</td><td>0.05133326</td><td>0.9936245</td><td>2.107619</td><td>Fisher's Exact Test for Count Data</td><td>two.sided</td><td>GBX2       </td><td>0.03321996</td></tr>\n",
       "\t<tr><td>1.479853</td><td>0.05186275</td><td>0.9810017</td><td>2.262787</td><td>Fisher's Exact Test for Count Data</td><td>two.sided</td><td>ESX1       </td><td>0.03346754</td></tr>\n",
       "\t<tr><td>1.333574</td><td>0.05970346</td><td>0.9890526</td><td>1.808317</td><td>Fisher's Exact Test for Count Data</td><td>two.sided</td><td>HOXD11     </td><td>0.03767344</td></tr>\n",
       "\t<tr><td>1.417531</td><td>0.05968995</td><td>0.9731961</td><td>2.086310</td><td>Fisher's Exact Test for Count Data</td><td>two.sided</td><td>LHX2       </td><td>0.03767344</td></tr>\n",
       "\t<tr><td>1.506245</td><td>0.06139083</td><td>0.9696561</td><td>2.377638</td><td>Fisher's Exact Test for Count Data</td><td>two.sided</td><td>HESX1      </td><td>0.03863117</td></tr>\n",
       "\t<tr><td>1.485881</td><td>0.06461119</td><td>0.9617802</td><td>2.330949</td><td>Fisher's Exact Test for Count Data</td><td>two.sided</td><td>HOXB2      </td><td>0.03999474</td></tr>\n",
       "\t<tr><td>1.236741</td><td>0.06437091</td><td>0.9842225</td><td>1.558351</td><td>Fisher's Exact Test for Count Data</td><td>two.sided</td><td>E2F7       </td><td>0.03999474</td></tr>\n",
       "\t<tr><td>1.171613</td><td>0.06434069</td><td>0.9889266</td><td>1.389864</td><td>Fisher's Exact Test for Count Data</td><td>two.sided</td><td>FOXE1      </td><td>0.03999474</td></tr>\n",
       "\t<tr><td>1.485881</td><td>0.06461119</td><td>0.9617802</td><td>2.330949</td><td>Fisher's Exact Test for Count Data</td><td>two.sided</td><td>HOXC8      </td><td>0.03999474</td></tr>\n",
       "\t<tr><td>1.485881</td><td>0.06461119</td><td>0.9617802</td><td>2.330949</td><td>Fisher's Exact Test for Count Data</td><td>two.sided</td><td>ALX3       </td><td>0.03999474</td></tr>\n",
       "\t<tr><td>1.471308</td><td>0.07072679</td><td>0.9635844</td><td>2.278725</td><td>Fisher's Exact Test for Count Data</td><td>two.sided</td><td>EN1        </td><td>0.04319347</td></tr>\n",
       "\t<tr><td>1.315648</td><td>0.07097550</td><td>0.9769446</td><td>1.781556</td><td>Fisher's Exact Test for Count Data</td><td>two.sided</td><td>IRF6       </td><td>0.04322946</td></tr>\n",
       "\t<tr><td>1.240824</td><td>0.07205140</td><td>0.9793633</td><td>1.576748</td><td>Fisher's Exact Test for Count Data</td><td>two.sided</td><td>IRF5       </td><td>0.04353555</td></tr>\n",
       "\t<tr><td>1.595327</td><td>0.07242009</td><td>0.9552085</td><td>2.729971</td><td>Fisher's Exact Test for Count Data</td><td>two.sided</td><td>ZBED1      </td><td>0.04364256</td></tr>\n",
       "\t<tr><td>1.392374</td><td>0.07661659</td><td>0.9623593</td><td>2.034114</td><td>Fisher's Exact Test for Count Data</td><td>two.sided</td><td>TFCP2      </td><td>0.04604967</td></tr>\n",
       "\t<tr><td>1.245933</td><td>0.07829896</td><td>0.9722291</td><td>1.601986</td><td>Fisher's Exact Test for Count Data</td><td>two.sided</td><td>GATA1::TAL1</td><td>0.04686349</td></tr>\n",
       "</tbody>\n",
       "</table>\n"
      ],
      "text/latex": [
       "A tibble: 106 × 8\n",
       "\\begin{tabular}{llllllll}\n",
       " estimate & p.value & conf.low & conf.high & method & alternative & motif & q.value\\\\\n",
       " <dbl> & <dbl> & <dbl> & <dbl> & <chr> & <chr> & <chr> & <dbl>\\\\\n",
       "\\hline\n",
       "\t 2.236364 & 3.537238e-14 & 1.793180 & 2.805605 & Fisher's Exact Test for Count Data & two.sided & HOXB13       & 2.120429e-13\\\\\n",
       "\t 2.121726 & 4.091037e-13 & 1.711068 & 2.644912 & Fisher's Exact Test for Count Data & two.sided & MEF2C        & 2.070922e-12\\\\\n",
       "\t 2.466775 & 1.206855e-11 & 1.863258 & 3.300704 & Fisher's Exact Test for Count Data & two.sided & ZNF384       & 5.286823e-11\\\\\n",
       "\t 1.820411 & 1.803784e-10 & 1.502730 & 2.213028 & Fisher's Exact Test for Count Data & two.sided & ZNF8         & 6.848195e-10\\\\\n",
       "\t 1.804739 & 1.724675e-08 & 1.457569 & 2.244533 & Fisher's Exact Test for Count Data & two.sided & MEF2A        & 5.102225e-08\\\\\n",
       "\t 1.741927 & 2.372837e-07 & 1.400266 & 2.176459 & Fisher's Exact Test for Count Data & two.sided & POU2F3       & 6.212860e-07\\\\\n",
       "\t 1.920589 & 2.703345e-07 & 1.480159 & 2.510042 & Fisher's Exact Test for Count Data & two.sided & CEBPA        & 6.997805e-07\\\\\n",
       "\t 1.803249 & 2.916284e-07 & 1.426152 & 2.292166 & Fisher's Exact Test for Count Data & two.sided & MEF2D        & 7.464191e-07\\\\\n",
       "\t 1.685346 & 3.922252e-07 & 1.367450 & 2.085149 & Fisher's Exact Test for Count Data & two.sided & PHOX2B       & 9.818318e-07\\\\\n",
       "\t 1.543834 & 1.005974e-06 & 1.290381 & 1.851606 & Fisher's Exact Test for Count Data & two.sided & POU2F1::SOX2 & 2.387032e-06\\\\\n",
       "\t 1.632573 & 1.020957e-06 & 1.333527 & 2.005579 & Fisher's Exact Test for Count Data & two.sided & FOXD3        & 2.397610e-06\\\\\n",
       "\t 1.630806 & 2.143781e-06 & 1.323599 & 2.016714 & Fisher's Exact Test for Count Data & two.sided & POU1F1       & 4.983072e-06\\\\\n",
       "\t 1.789747 & 2.222411e-06 & 1.391137 & 2.316766 & Fisher's Exact Test for Count Data & two.sided & MEF2B        & 5.062526e-06\\\\\n",
       "\t 1.707296 & 2.846810e-06 & 1.353176 & 2.164693 & Fisher's Exact Test for Count Data & two.sided & POU5F1B      & 6.420666e-06\\\\\n",
       "\t 1.654463 & 4.620243e-06 & 1.322572 & 2.078600 & Fisher's Exact Test for Count Data & two.sided & POU2F1       & 1.002348e-05\\\\\n",
       "\t 1.647594 & 6.154532e-06 & 1.318095 & 2.068293 & Fisher's Exact Test for Count Data & two.sided & PRDM1        & 1.310250e-05\\\\\n",
       "\t 1.575410 & 6.470744e-06 & 1.284341 & 1.938893 & Fisher's Exact Test for Count Data & two.sided & ZNF354A      & 1.352293e-05\\\\\n",
       "\t 1.705455 & 9.629594e-06 & 1.333275 & 2.193598 & Fisher's Exact Test for Count Data & two.sided & HSF2         & 1.976187e-05\\\\\n",
       "\t 1.662299 & 1.456814e-05 & 1.311842 & 2.116728 & Fisher's Exact Test for Count Data & two.sided & PROP1        & 2.860810e-05\\\\\n",
       "\t 1.583528 & 1.896795e-05 & 1.273779 & 1.976223 & Fisher's Exact Test for Count Data & two.sided & POU2F2       & 3.630917e-05\\\\\n",
       "\t 1.577670 & 2.011430e-05 & 1.269948 & 1.967392 & Fisher's Exact Test for Count Data & two.sided & POU3F2       & 3.818270e-05\\\\\n",
       "\t 1.558696 & 2.158199e-05 & 1.262951 & 1.930422 & Fisher's Exact Test for Count Data & two.sided & POU5F1       & 4.063021e-05\\\\\n",
       "\t 1.610056 & 3.122057e-05 & 1.275721 & 2.041303 & Fisher's Exact Test for Count Data & two.sided & CDX2         & 5.717380e-05\\\\\n",
       "\t 1.771326 & 4.499166e-05 & 1.332057 & 2.374307 & Fisher's Exact Test for Count Data & two.sided & HOXA10       & 8.006910e-05\\\\\n",
       "\t 1.589516 & 4.584574e-05 & 1.262593 & 2.009869 & Fisher's Exact Test for Count Data & two.sided & ONECUT3      & 8.058307e-05\\\\\n",
       "\t 2.749622 & 5.238565e-05 & 1.625057 & 4.863677 & Fisher's Exact Test for Count Data & two.sided & PITX3        & 8.972298e-05\\\\\n",
       "\t 1.684430 & 5.212173e-05 & 1.294561 & 2.205461 & Fisher's Exact Test for Count Data & two.sided & ZNF211       & 8.972298e-05\\\\\n",
       "\t 2.749622 & 5.238565e-05 & 1.625057 & 4.863677 & Fisher's Exact Test for Count Data & two.sided & OTX2         & 8.972298e-05\\\\\n",
       "\t 1.536454 & 5.546254e-05 & 1.239488 & 1.911431 & Fisher's Exact Test for Count Data & two.sided & POU3F3       & 9.418003e-05\\\\\n",
       "\t 1.637797 & 6.543817e-05 & 1.274888 & 2.115589 & Fisher's Exact Test for Count Data & two.sided & CDX4         & 1.096062e-04\\\\\n",
       "\t ⋮ & ⋮ & ⋮ & ⋮ & ⋮ & ⋮ & ⋮ & ⋮\\\\\n",
       "\t 1.352148 & 0.02237952 & 1.0413197 & 1.763488 & Fisher's Exact Test for Count Data & two.sided & SOX8        & 0.01675846\\\\\n",
       "\t 1.395886 & 0.02403354 & 1.0423086 & 1.880417 & Fisher's Exact Test for Count Data & two.sided & DMRTA1      & 0.01766034\\\\\n",
       "\t 1.549116 & 0.02471329 & 1.0417736 & 2.334711 & Fisher's Exact Test for Count Data & two.sided & GBX1        & 0.01810144\\\\\n",
       "\t 1.250014 & 0.02653231 & 1.0229568 & 1.530692 & Fisher's Exact Test for Count Data & two.sided & ZNF680      & 0.01918702\\\\\n",
       "\t 1.659121 & 0.02870261 & 1.0369775 & 2.711748 & Fisher's Exact Test for Count Data & two.sided & DLX1        & 0.02056067\\\\\n",
       "\t 1.350283 & 0.03036377 & 1.0209990 & 1.794770 & Fisher's Exact Test for Count Data & two.sided & TCF7        & 0.02148042\\\\\n",
       "\t 1.317290 & 0.03401793 & 1.0198050 & 1.708342 & Fisher's Exact Test for Count Data & two.sided & TCF7L2      & 0.02377022\\\\\n",
       "\t 1.430805 & 0.03710162 & 1.0091516 & 2.047120 & Fisher's Exact Test for Count Data & two.sided & LMX1B       & 0.02538000\\\\\n",
       "\t 1.539627 & 0.03782599 & 1.0123402 & 2.376711 & Fisher's Exact Test for Count Data & two.sided & MSX2        & 0.02572103\\\\\n",
       "\t 1.539627 & 0.03782599 & 1.0123402 & 2.376711 & Fisher's Exact Test for Count Data & two.sided & MSX1        & 0.02572103\\\\\n",
       "\t 1.263381 & 0.04188383 & 1.0028152 & 1.596336 & Fisher's Exact Test for Count Data & two.sided & FOXH1       & 0.02814424\\\\\n",
       "\t 1.334736 & 0.04721097 & 0.9959072 & 1.798640 & Fisher's Exact Test for Count Data & two.sided & HSF4        & 0.03108206\\\\\n",
       "\t 1.294016 & 0.04979668 & 0.9982255 & 1.684102 & Fisher's Exact Test for Count Data & two.sided & DMRTC2      & 0.03250259\\\\\n",
       "\t 1.239200 & 0.05118013 & 0.9936910 & 1.549295 & Fisher's Exact Test for Count Data & two.sided & NR4A1       & 0.03321522\\\\\n",
       "\t 1.439627 & 0.05133326 & 0.9936245 & 2.107619 & Fisher's Exact Test for Count Data & two.sided & GBX2        & 0.03321996\\\\\n",
       "\t 1.479853 & 0.05186275 & 0.9810017 & 2.262787 & Fisher's Exact Test for Count Data & two.sided & ESX1        & 0.03346754\\\\\n",
       "\t 1.333574 & 0.05970346 & 0.9890526 & 1.808317 & Fisher's Exact Test for Count Data & two.sided & HOXD11      & 0.03767344\\\\\n",
       "\t 1.417531 & 0.05968995 & 0.9731961 & 2.086310 & Fisher's Exact Test for Count Data & two.sided & LHX2        & 0.03767344\\\\\n",
       "\t 1.506245 & 0.06139083 & 0.9696561 & 2.377638 & Fisher's Exact Test for Count Data & two.sided & HESX1       & 0.03863117\\\\\n",
       "\t 1.485881 & 0.06461119 & 0.9617802 & 2.330949 & Fisher's Exact Test for Count Data & two.sided & HOXB2       & 0.03999474\\\\\n",
       "\t 1.236741 & 0.06437091 & 0.9842225 & 1.558351 & Fisher's Exact Test for Count Data & two.sided & E2F7        & 0.03999474\\\\\n",
       "\t 1.171613 & 0.06434069 & 0.9889266 & 1.389864 & Fisher's Exact Test for Count Data & two.sided & FOXE1       & 0.03999474\\\\\n",
       "\t 1.485881 & 0.06461119 & 0.9617802 & 2.330949 & Fisher's Exact Test for Count Data & two.sided & HOXC8       & 0.03999474\\\\\n",
       "\t 1.485881 & 0.06461119 & 0.9617802 & 2.330949 & Fisher's Exact Test for Count Data & two.sided & ALX3        & 0.03999474\\\\\n",
       "\t 1.471308 & 0.07072679 & 0.9635844 & 2.278725 & Fisher's Exact Test for Count Data & two.sided & EN1         & 0.04319347\\\\\n",
       "\t 1.315648 & 0.07097550 & 0.9769446 & 1.781556 & Fisher's Exact Test for Count Data & two.sided & IRF6        & 0.04322946\\\\\n",
       "\t 1.240824 & 0.07205140 & 0.9793633 & 1.576748 & Fisher's Exact Test for Count Data & two.sided & IRF5        & 0.04353555\\\\\n",
       "\t 1.595327 & 0.07242009 & 0.9552085 & 2.729971 & Fisher's Exact Test for Count Data & two.sided & ZBED1       & 0.04364256\\\\\n",
       "\t 1.392374 & 0.07661659 & 0.9623593 & 2.034114 & Fisher's Exact Test for Count Data & two.sided & TFCP2       & 0.04604967\\\\\n",
       "\t 1.245933 & 0.07829896 & 0.9722291 & 1.601986 & Fisher's Exact Test for Count Data & two.sided & GATA1::TAL1 & 0.04686349\\\\\n",
       "\\end{tabular}\n"
      ],
      "text/markdown": [
       "\n",
       "A tibble: 106 × 8\n",
       "\n",
       "| estimate &lt;dbl&gt; | p.value &lt;dbl&gt; | conf.low &lt;dbl&gt; | conf.high &lt;dbl&gt; | method &lt;chr&gt; | alternative &lt;chr&gt; | motif &lt;chr&gt; | q.value &lt;dbl&gt; |\n",
       "|---|---|---|---|---|---|---|---|\n",
       "| 2.236364 | 3.537238e-14 | 1.793180 | 2.805605 | Fisher's Exact Test for Count Data | two.sided | HOXB13       | 2.120429e-13 |\n",
       "| 2.121726 | 4.091037e-13 | 1.711068 | 2.644912 | Fisher's Exact Test for Count Data | two.sided | MEF2C        | 2.070922e-12 |\n",
       "| 2.466775 | 1.206855e-11 | 1.863258 | 3.300704 | Fisher's Exact Test for Count Data | two.sided | ZNF384       | 5.286823e-11 |\n",
       "| 1.820411 | 1.803784e-10 | 1.502730 | 2.213028 | Fisher's Exact Test for Count Data | two.sided | ZNF8         | 6.848195e-10 |\n",
       "| 1.804739 | 1.724675e-08 | 1.457569 | 2.244533 | Fisher's Exact Test for Count Data | two.sided | MEF2A        | 5.102225e-08 |\n",
       "| 1.741927 | 2.372837e-07 | 1.400266 | 2.176459 | Fisher's Exact Test for Count Data | two.sided | POU2F3       | 6.212860e-07 |\n",
       "| 1.920589 | 2.703345e-07 | 1.480159 | 2.510042 | Fisher's Exact Test for Count Data | two.sided | CEBPA        | 6.997805e-07 |\n",
       "| 1.803249 | 2.916284e-07 | 1.426152 | 2.292166 | Fisher's Exact Test for Count Data | two.sided | MEF2D        | 7.464191e-07 |\n",
       "| 1.685346 | 3.922252e-07 | 1.367450 | 2.085149 | Fisher's Exact Test for Count Data | two.sided | PHOX2B       | 9.818318e-07 |\n",
       "| 1.543834 | 1.005974e-06 | 1.290381 | 1.851606 | Fisher's Exact Test for Count Data | two.sided | POU2F1::SOX2 | 2.387032e-06 |\n",
       "| 1.632573 | 1.020957e-06 | 1.333527 | 2.005579 | Fisher's Exact Test for Count Data | two.sided | FOXD3        | 2.397610e-06 |\n",
       "| 1.630806 | 2.143781e-06 | 1.323599 | 2.016714 | Fisher's Exact Test for Count Data | two.sided | POU1F1       | 4.983072e-06 |\n",
       "| 1.789747 | 2.222411e-06 | 1.391137 | 2.316766 | Fisher's Exact Test for Count Data | two.sided | MEF2B        | 5.062526e-06 |\n",
       "| 1.707296 | 2.846810e-06 | 1.353176 | 2.164693 | Fisher's Exact Test for Count Data | two.sided | POU5F1B      | 6.420666e-06 |\n",
       "| 1.654463 | 4.620243e-06 | 1.322572 | 2.078600 | Fisher's Exact Test for Count Data | two.sided | POU2F1       | 1.002348e-05 |\n",
       "| 1.647594 | 6.154532e-06 | 1.318095 | 2.068293 | Fisher's Exact Test for Count Data | two.sided | PRDM1        | 1.310250e-05 |\n",
       "| 1.575410 | 6.470744e-06 | 1.284341 | 1.938893 | Fisher's Exact Test for Count Data | two.sided | ZNF354A      | 1.352293e-05 |\n",
       "| 1.705455 | 9.629594e-06 | 1.333275 | 2.193598 | Fisher's Exact Test for Count Data | two.sided | HSF2         | 1.976187e-05 |\n",
       "| 1.662299 | 1.456814e-05 | 1.311842 | 2.116728 | Fisher's Exact Test for Count Data | two.sided | PROP1        | 2.860810e-05 |\n",
       "| 1.583528 | 1.896795e-05 | 1.273779 | 1.976223 | Fisher's Exact Test for Count Data | two.sided | POU2F2       | 3.630917e-05 |\n",
       "| 1.577670 | 2.011430e-05 | 1.269948 | 1.967392 | Fisher's Exact Test for Count Data | two.sided | POU3F2       | 3.818270e-05 |\n",
       "| 1.558696 | 2.158199e-05 | 1.262951 | 1.930422 | Fisher's Exact Test for Count Data | two.sided | POU5F1       | 4.063021e-05 |\n",
       "| 1.610056 | 3.122057e-05 | 1.275721 | 2.041303 | Fisher's Exact Test for Count Data | two.sided | CDX2         | 5.717380e-05 |\n",
       "| 1.771326 | 4.499166e-05 | 1.332057 | 2.374307 | Fisher's Exact Test for Count Data | two.sided | HOXA10       | 8.006910e-05 |\n",
       "| 1.589516 | 4.584574e-05 | 1.262593 | 2.009869 | Fisher's Exact Test for Count Data | two.sided | ONECUT3      | 8.058307e-05 |\n",
       "| 2.749622 | 5.238565e-05 | 1.625057 | 4.863677 | Fisher's Exact Test for Count Data | two.sided | PITX3        | 8.972298e-05 |\n",
       "| 1.684430 | 5.212173e-05 | 1.294561 | 2.205461 | Fisher's Exact Test for Count Data | two.sided | ZNF211       | 8.972298e-05 |\n",
       "| 2.749622 | 5.238565e-05 | 1.625057 | 4.863677 | Fisher's Exact Test for Count Data | two.sided | OTX2         | 8.972298e-05 |\n",
       "| 1.536454 | 5.546254e-05 | 1.239488 | 1.911431 | Fisher's Exact Test for Count Data | two.sided | POU3F3       | 9.418003e-05 |\n",
       "| 1.637797 | 6.543817e-05 | 1.274888 | 2.115589 | Fisher's Exact Test for Count Data | two.sided | CDX4         | 1.096062e-04 |\n",
       "| ⋮ | ⋮ | ⋮ | ⋮ | ⋮ | ⋮ | ⋮ | ⋮ |\n",
       "| 1.352148 | 0.02237952 | 1.0413197 | 1.763488 | Fisher's Exact Test for Count Data | two.sided | SOX8        | 0.01675846 |\n",
       "| 1.395886 | 0.02403354 | 1.0423086 | 1.880417 | Fisher's Exact Test for Count Data | two.sided | DMRTA1      | 0.01766034 |\n",
       "| 1.549116 | 0.02471329 | 1.0417736 | 2.334711 | Fisher's Exact Test for Count Data | two.sided | GBX1        | 0.01810144 |\n",
       "| 1.250014 | 0.02653231 | 1.0229568 | 1.530692 | Fisher's Exact Test for Count Data | two.sided | ZNF680      | 0.01918702 |\n",
       "| 1.659121 | 0.02870261 | 1.0369775 | 2.711748 | Fisher's Exact Test for Count Data | two.sided | DLX1        | 0.02056067 |\n",
       "| 1.350283 | 0.03036377 | 1.0209990 | 1.794770 | Fisher's Exact Test for Count Data | two.sided | TCF7        | 0.02148042 |\n",
       "| 1.317290 | 0.03401793 | 1.0198050 | 1.708342 | Fisher's Exact Test for Count Data | two.sided | TCF7L2      | 0.02377022 |\n",
       "| 1.430805 | 0.03710162 | 1.0091516 | 2.047120 | Fisher's Exact Test for Count Data | two.sided | LMX1B       | 0.02538000 |\n",
       "| 1.539627 | 0.03782599 | 1.0123402 | 2.376711 | Fisher's Exact Test for Count Data | two.sided | MSX2        | 0.02572103 |\n",
       "| 1.539627 | 0.03782599 | 1.0123402 | 2.376711 | Fisher's Exact Test for Count Data | two.sided | MSX1        | 0.02572103 |\n",
       "| 1.263381 | 0.04188383 | 1.0028152 | 1.596336 | Fisher's Exact Test for Count Data | two.sided | FOXH1       | 0.02814424 |\n",
       "| 1.334736 | 0.04721097 | 0.9959072 | 1.798640 | Fisher's Exact Test for Count Data | two.sided | HSF4        | 0.03108206 |\n",
       "| 1.294016 | 0.04979668 | 0.9982255 | 1.684102 | Fisher's Exact Test for Count Data | two.sided | DMRTC2      | 0.03250259 |\n",
       "| 1.239200 | 0.05118013 | 0.9936910 | 1.549295 | Fisher's Exact Test for Count Data | two.sided | NR4A1       | 0.03321522 |\n",
       "| 1.439627 | 0.05133326 | 0.9936245 | 2.107619 | Fisher's Exact Test for Count Data | two.sided | GBX2        | 0.03321996 |\n",
       "| 1.479853 | 0.05186275 | 0.9810017 | 2.262787 | Fisher's Exact Test for Count Data | two.sided | ESX1        | 0.03346754 |\n",
       "| 1.333574 | 0.05970346 | 0.9890526 | 1.808317 | Fisher's Exact Test for Count Data | two.sided | HOXD11      | 0.03767344 |\n",
       "| 1.417531 | 0.05968995 | 0.9731961 | 2.086310 | Fisher's Exact Test for Count Data | two.sided | LHX2        | 0.03767344 |\n",
       "| 1.506245 | 0.06139083 | 0.9696561 | 2.377638 | Fisher's Exact Test for Count Data | two.sided | HESX1       | 0.03863117 |\n",
       "| 1.485881 | 0.06461119 | 0.9617802 | 2.330949 | Fisher's Exact Test for Count Data | two.sided | HOXB2       | 0.03999474 |\n",
       "| 1.236741 | 0.06437091 | 0.9842225 | 1.558351 | Fisher's Exact Test for Count Data | two.sided | E2F7        | 0.03999474 |\n",
       "| 1.171613 | 0.06434069 | 0.9889266 | 1.389864 | Fisher's Exact Test for Count Data | two.sided | FOXE1       | 0.03999474 |\n",
       "| 1.485881 | 0.06461119 | 0.9617802 | 2.330949 | Fisher's Exact Test for Count Data | two.sided | HOXC8       | 0.03999474 |\n",
       "| 1.485881 | 0.06461119 | 0.9617802 | 2.330949 | Fisher's Exact Test for Count Data | two.sided | ALX3        | 0.03999474 |\n",
       "| 1.471308 | 0.07072679 | 0.9635844 | 2.278725 | Fisher's Exact Test for Count Data | two.sided | EN1         | 0.04319347 |\n",
       "| 1.315648 | 0.07097550 | 0.9769446 | 1.781556 | Fisher's Exact Test for Count Data | two.sided | IRF6        | 0.04322946 |\n",
       "| 1.240824 | 0.07205140 | 0.9793633 | 1.576748 | Fisher's Exact Test for Count Data | two.sided | IRF5        | 0.04353555 |\n",
       "| 1.595327 | 0.07242009 | 0.9552085 | 2.729971 | Fisher's Exact Test for Count Data | two.sided | ZBED1       | 0.04364256 |\n",
       "| 1.392374 | 0.07661659 | 0.9623593 | 2.034114 | Fisher's Exact Test for Count Data | two.sided | TFCP2       | 0.04604967 |\n",
       "| 1.245933 | 0.07829896 | 0.9722291 | 1.601986 | Fisher's Exact Test for Count Data | two.sided | GATA1::TAL1 | 0.04686349 |\n",
       "\n"
      ],
      "text/plain": [
       "    estimate p.value      conf.low  conf.high\n",
       "1   2.236364 3.537238e-14 1.793180  2.805605 \n",
       "2   2.121726 4.091037e-13 1.711068  2.644912 \n",
       "3   2.466775 1.206855e-11 1.863258  3.300704 \n",
       "4   1.820411 1.803784e-10 1.502730  2.213028 \n",
       "5   1.804739 1.724675e-08 1.457569  2.244533 \n",
       "6   1.741927 2.372837e-07 1.400266  2.176459 \n",
       "7   1.920589 2.703345e-07 1.480159  2.510042 \n",
       "8   1.803249 2.916284e-07 1.426152  2.292166 \n",
       "9   1.685346 3.922252e-07 1.367450  2.085149 \n",
       "10  1.543834 1.005974e-06 1.290381  1.851606 \n",
       "11  1.632573 1.020957e-06 1.333527  2.005579 \n",
       "12  1.630806 2.143781e-06 1.323599  2.016714 \n",
       "13  1.789747 2.222411e-06 1.391137  2.316766 \n",
       "14  1.707296 2.846810e-06 1.353176  2.164693 \n",
       "15  1.654463 4.620243e-06 1.322572  2.078600 \n",
       "16  1.647594 6.154532e-06 1.318095  2.068293 \n",
       "17  1.575410 6.470744e-06 1.284341  1.938893 \n",
       "18  1.705455 9.629594e-06 1.333275  2.193598 \n",
       "19  1.662299 1.456814e-05 1.311842  2.116728 \n",
       "20  1.583528 1.896795e-05 1.273779  1.976223 \n",
       "21  1.577670 2.011430e-05 1.269948  1.967392 \n",
       "22  1.558696 2.158199e-05 1.262951  1.930422 \n",
       "23  1.610056 3.122057e-05 1.275721  2.041303 \n",
       "24  1.771326 4.499166e-05 1.332057  2.374307 \n",
       "25  1.589516 4.584574e-05 1.262593  2.009869 \n",
       "26  2.749622 5.238565e-05 1.625057  4.863677 \n",
       "27  1.684430 5.212173e-05 1.294561  2.205461 \n",
       "28  2.749622 5.238565e-05 1.625057  4.863677 \n",
       "29  1.536454 5.546254e-05 1.239488  1.911431 \n",
       "30  1.637797 6.543817e-05 1.274888  2.115589 \n",
       "⋮   ⋮        ⋮            ⋮         ⋮        \n",
       "77  1.352148 0.02237952   1.0413197 1.763488 \n",
       "78  1.395886 0.02403354   1.0423086 1.880417 \n",
       "79  1.549116 0.02471329   1.0417736 2.334711 \n",
       "80  1.250014 0.02653231   1.0229568 1.530692 \n",
       "81  1.659121 0.02870261   1.0369775 2.711748 \n",
       "82  1.350283 0.03036377   1.0209990 1.794770 \n",
       "83  1.317290 0.03401793   1.0198050 1.708342 \n",
       "84  1.430805 0.03710162   1.0091516 2.047120 \n",
       "85  1.539627 0.03782599   1.0123402 2.376711 \n",
       "86  1.539627 0.03782599   1.0123402 2.376711 \n",
       "87  1.263381 0.04188383   1.0028152 1.596336 \n",
       "88  1.334736 0.04721097   0.9959072 1.798640 \n",
       "89  1.294016 0.04979668   0.9982255 1.684102 \n",
       "90  1.239200 0.05118013   0.9936910 1.549295 \n",
       "91  1.439627 0.05133326   0.9936245 2.107619 \n",
       "92  1.479853 0.05186275   0.9810017 2.262787 \n",
       "93  1.333574 0.05970346   0.9890526 1.808317 \n",
       "94  1.417531 0.05968995   0.9731961 2.086310 \n",
       "95  1.506245 0.06139083   0.9696561 2.377638 \n",
       "96  1.485881 0.06461119   0.9617802 2.330949 \n",
       "97  1.236741 0.06437091   0.9842225 1.558351 \n",
       "98  1.171613 0.06434069   0.9889266 1.389864 \n",
       "99  1.485881 0.06461119   0.9617802 2.330949 \n",
       "100 1.485881 0.06461119   0.9617802 2.330949 \n",
       "101 1.471308 0.07072679   0.9635844 2.278725 \n",
       "102 1.315648 0.07097550   0.9769446 1.781556 \n",
       "103 1.240824 0.07205140   0.9793633 1.576748 \n",
       "104 1.595327 0.07242009   0.9552085 2.729971 \n",
       "105 1.392374 0.07661659   0.9623593 2.034114 \n",
       "106 1.245933 0.07829896   0.9722291 1.601986 \n",
       "    method                             alternative motif        q.value     \n",
       "1   Fisher's Exact Test for Count Data two.sided   HOXB13       2.120429e-13\n",
       "2   Fisher's Exact Test for Count Data two.sided   MEF2C        2.070922e-12\n",
       "3   Fisher's Exact Test for Count Data two.sided   ZNF384       5.286823e-11\n",
       "4   Fisher's Exact Test for Count Data two.sided   ZNF8         6.848195e-10\n",
       "5   Fisher's Exact Test for Count Data two.sided   MEF2A        5.102225e-08\n",
       "6   Fisher's Exact Test for Count Data two.sided   POU2F3       6.212860e-07\n",
       "7   Fisher's Exact Test for Count Data two.sided   CEBPA        6.997805e-07\n",
       "8   Fisher's Exact Test for Count Data two.sided   MEF2D        7.464191e-07\n",
       "9   Fisher's Exact Test for Count Data two.sided   PHOX2B       9.818318e-07\n",
       "10  Fisher's Exact Test for Count Data two.sided   POU2F1::SOX2 2.387032e-06\n",
       "11  Fisher's Exact Test for Count Data two.sided   FOXD3        2.397610e-06\n",
       "12  Fisher's Exact Test for Count Data two.sided   POU1F1       4.983072e-06\n",
       "13  Fisher's Exact Test for Count Data two.sided   MEF2B        5.062526e-06\n",
       "14  Fisher's Exact Test for Count Data two.sided   POU5F1B      6.420666e-06\n",
       "15  Fisher's Exact Test for Count Data two.sided   POU2F1       1.002348e-05\n",
       "16  Fisher's Exact Test for Count Data two.sided   PRDM1        1.310250e-05\n",
       "17  Fisher's Exact Test for Count Data two.sided   ZNF354A      1.352293e-05\n",
       "18  Fisher's Exact Test for Count Data two.sided   HSF2         1.976187e-05\n",
       "19  Fisher's Exact Test for Count Data two.sided   PROP1        2.860810e-05\n",
       "20  Fisher's Exact Test for Count Data two.sided   POU2F2       3.630917e-05\n",
       "21  Fisher's Exact Test for Count Data two.sided   POU3F2       3.818270e-05\n",
       "22  Fisher's Exact Test for Count Data two.sided   POU5F1       4.063021e-05\n",
       "23  Fisher's Exact Test for Count Data two.sided   CDX2         5.717380e-05\n",
       "24  Fisher's Exact Test for Count Data two.sided   HOXA10       8.006910e-05\n",
       "25  Fisher's Exact Test for Count Data two.sided   ONECUT3      8.058307e-05\n",
       "26  Fisher's Exact Test for Count Data two.sided   PITX3        8.972298e-05\n",
       "27  Fisher's Exact Test for Count Data two.sided   ZNF211       8.972298e-05\n",
       "28  Fisher's Exact Test for Count Data two.sided   OTX2         8.972298e-05\n",
       "29  Fisher's Exact Test for Count Data two.sided   POU3F3       9.418003e-05\n",
       "30  Fisher's Exact Test for Count Data two.sided   CDX4         1.096062e-04\n",
       "⋮   ⋮                                  ⋮           ⋮            ⋮           \n",
       "77  Fisher's Exact Test for Count Data two.sided   SOX8         0.01675846  \n",
       "78  Fisher's Exact Test for Count Data two.sided   DMRTA1       0.01766034  \n",
       "79  Fisher's Exact Test for Count Data two.sided   GBX1         0.01810144  \n",
       "80  Fisher's Exact Test for Count Data two.sided   ZNF680       0.01918702  \n",
       "81  Fisher's Exact Test for Count Data two.sided   DLX1         0.02056067  \n",
       "82  Fisher's Exact Test for Count Data two.sided   TCF7         0.02148042  \n",
       "83  Fisher's Exact Test for Count Data two.sided   TCF7L2       0.02377022  \n",
       "84  Fisher's Exact Test for Count Data two.sided   LMX1B        0.02538000  \n",
       "85  Fisher's Exact Test for Count Data two.sided   MSX2         0.02572103  \n",
       "86  Fisher's Exact Test for Count Data two.sided   MSX1         0.02572103  \n",
       "87  Fisher's Exact Test for Count Data two.sided   FOXH1        0.02814424  \n",
       "88  Fisher's Exact Test for Count Data two.sided   HSF4         0.03108206  \n",
       "89  Fisher's Exact Test for Count Data two.sided   DMRTC2       0.03250259  \n",
       "90  Fisher's Exact Test for Count Data two.sided   NR4A1        0.03321522  \n",
       "91  Fisher's Exact Test for Count Data two.sided   GBX2         0.03321996  \n",
       "92  Fisher's Exact Test for Count Data two.sided   ESX1         0.03346754  \n",
       "93  Fisher's Exact Test for Count Data two.sided   HOXD11       0.03767344  \n",
       "94  Fisher's Exact Test for Count Data two.sided   LHX2         0.03767344  \n",
       "95  Fisher's Exact Test for Count Data two.sided   HESX1        0.03863117  \n",
       "96  Fisher's Exact Test for Count Data two.sided   HOXB2        0.03999474  \n",
       "97  Fisher's Exact Test for Count Data two.sided   E2F7         0.03999474  \n",
       "98  Fisher's Exact Test for Count Data two.sided   FOXE1        0.03999474  \n",
       "99  Fisher's Exact Test for Count Data two.sided   HOXC8        0.03999474  \n",
       "100 Fisher's Exact Test for Count Data two.sided   ALX3         0.03999474  \n",
       "101 Fisher's Exact Test for Count Data two.sided   EN1          0.04319347  \n",
       "102 Fisher's Exact Test for Count Data two.sided   IRF6         0.04322946  \n",
       "103 Fisher's Exact Test for Count Data two.sided   IRF5         0.04353555  \n",
       "104 Fisher's Exact Test for Count Data two.sided   ZBED1        0.04364256  \n",
       "105 Fisher's Exact Test for Count Data two.sided   TFCP2        0.04604967  \n",
       "106 Fisher's Exact Test for Count Data two.sided   GATA1::TAL1  0.04686349  "
      ]
     },
     "metadata": {},
     "output_type": "display_data"
    }
   ],
   "source": [
    "filter(full.res, q.value < 0.05 & estimate > 1)"
   ]
  },
  {
   "cell_type": "code",
   "execution_count": 192,
   "id": "6f717620",
   "metadata": {
    "scrolled": true,
    "vscode": {
     "languageId": "r"
    }
   },
   "outputs": [
    {
     "data": {
      "text/html": [
       "<table class=\"dataframe\">\n",
       "<caption>A tibble: 277 × 8</caption>\n",
       "<thead>\n",
       "\t<tr><th scope=col>estimate</th><th scope=col>p.value</th><th scope=col>conf.low</th><th scope=col>conf.high</th><th scope=col>method</th><th scope=col>alternative</th><th scope=col>motif</th><th scope=col>q.value</th></tr>\n",
       "\t<tr><th scope=col>&lt;dbl&gt;</th><th scope=col>&lt;dbl&gt;</th><th scope=col>&lt;dbl&gt;</th><th scope=col>&lt;dbl&gt;</th><th scope=col>&lt;chr&gt;</th><th scope=col>&lt;chr&gt;</th><th scope=col>&lt;chr&gt;</th><th scope=col>&lt;dbl&gt;</th></tr>\n",
       "</thead>\n",
       "<tbody>\n",
       "\t<tr><td>0.1202465</td><td>6.917519e-118</td><td>0.09536648</td><td>0.1501350</td><td>Fisher's Exact Test for Count Data</td><td>two.sided</td><td>FOS::JUND   </td><td>1.575772e-115</td></tr>\n",
       "\t<tr><td>0.1260874</td><td>1.205246e-115</td><td>0.10057330</td><td>0.1566645</td><td>Fisher's Exact Test for Count Data</td><td>two.sided</td><td>FOSL1       </td><td>1.372741e-113</td></tr>\n",
       "\t<tr><td>0.1779378</td><td>7.420940e-114</td><td>0.14924302</td><td>0.2112057</td><td>Fisher's Exact Test for Count Data</td><td>two.sided</td><td>JUNB        </td><td>5.634827e-112</td></tr>\n",
       "\t<tr><td>0.1220533</td><td>1.176406e-110</td><td>0.09630612</td><td>0.1531643</td><td>Fisher's Exact Test for Count Data</td><td>two.sided</td><td>BATF        </td><td>5.359573e-109</td></tr>\n",
       "\t<tr><td>0.1220533</td><td>1.176406e-110</td><td>0.09630612</td><td>0.1531643</td><td>Fisher's Exact Test for Count Data</td><td>two.sided</td><td>BNC2        </td><td>5.359573e-109</td></tr>\n",
       "\t<tr><td>0.1279968</td><td>5.514061e-109</td><td>0.10157706</td><td>0.1597739</td><td>Fisher's Exact Test for Count Data</td><td>two.sided</td><td>BATF::JUN   </td><td>2.093453e-107</td></tr>\n",
       "\t<tr><td>0.1354755</td><td>3.064571e-106</td><td>0.10817388</td><td>0.1681324</td><td>Fisher's Exact Test for Count Data</td><td>two.sided</td><td>BATF3       </td><td>9.972743e-105</td></tr>\n",
       "\t<tr><td>0.1442643</td><td>5.214161e-105</td><td>0.11624424</td><td>0.1776353</td><td>Fisher's Exact Test for Count Data</td><td>two.sided</td><td>NFE2        </td><td>1.484696e-103</td></tr>\n",
       "\t<tr><td>0.1252584</td><td>2.219043e-103</td><td>0.09836226</td><td>0.1578630</td><td>Fisher's Exact Test for Count Data</td><td>two.sided</td><td>FOS::JUNB   </td><td>5.616504e-102</td></tr>\n",
       "\t<tr><td>0.1839737</td><td>3.783794e-103</td><td>0.15354020</td><td>0.2193927</td><td>Fisher's Exact Test for Count Data</td><td>two.sided</td><td>FOSL1::JUN  </td><td>8.619269e-102</td></tr>\n",
       "\t<tr><td>0.1805126</td><td>2.173641e-101</td><td>0.15001100</td><td>0.2161591</td><td>Fisher's Exact Test for Count Data</td><td>two.sided</td><td>BACH1       </td><td>4.126192e-100</td></tr>\n",
       "\t<tr><td>0.1240832</td><td>2.002657e-101</td><td>0.09699774</td><td>0.1569943</td><td>Fisher's Exact Test for Count Data</td><td>two.sided</td><td>FOSL1::JUNB </td><td>4.126192e-100</td></tr>\n",
       "\t<tr><td>0.2158381</td><td> 1.829925e-95</td><td>0.18292260</td><td>0.2537471</td><td>Fisher's Exact Test for Count Data</td><td>two.sided</td><td>JDP2        </td><td> 3.206512e-94</td></tr>\n",
       "\t<tr><td>0.2274856</td><td> 5.822255e-95</td><td>0.19413494</td><td>0.2657277</td><td>Fisher's Exact Test for Count Data</td><td>two.sided</td><td>FOS::JUN    </td><td> 9.473405e-94</td></tr>\n",
       "\t<tr><td>0.1710569</td><td> 1.623453e-92</td><td>0.13964644</td><td>0.2083171</td><td>Fisher's Exact Test for Count Data</td><td>two.sided</td><td>FOSL2       </td><td> 2.465423e-91</td></tr>\n",
       "\t<tr><td>0.2158971</td><td> 8.300875e-88</td><td>0.18163055</td><td>0.2556226</td><td>Fisher's Exact Test for Count Data</td><td>two.sided</td><td>FOSL2::JUND </td><td> 1.181808e-86</td></tr>\n",
       "\t<tr><td>0.2233534</td><td> 1.139362e-87</td><td>0.18878211</td><td>0.2632956</td><td>Fisher's Exact Test for Count Data</td><td>two.sided</td><td>FOSL2::JUN  </td><td> 1.526708e-86</td></tr>\n",
       "\t<tr><td>0.2042169</td><td> 7.242559e-86</td><td>0.16998045</td><td>0.2442228</td><td>Fisher's Exact Test for Count Data</td><td>two.sided</td><td>FOSL2::JUNB </td><td> 9.165633e-85</td></tr>\n",
       "\t<tr><td>0.2201040</td><td> 7.317484e-83</td><td>0.18462395</td><td>0.2613352</td><td>Fisher's Exact Test for Count Data</td><td>two.sided</td><td>FOSB::JUNB  </td><td> 8.773061e-82</td></tr>\n",
       "\t<tr><td>0.2496085</td><td> 3.343282e-80</td><td>0.21265771</td><td>0.2920691</td><td>Fisher's Exact Test for Count Data</td><td>two.sided</td><td>FOS         </td><td> 3.807903e-79</td></tr>\n",
       "\t<tr><td>0.2876201</td><td> 8.617485e-76</td><td>0.24886854</td><td>0.3316907</td><td>Fisher's Exact Test for Count Data</td><td>two.sided</td><td>BACH2       </td><td> 9.347687e-75</td></tr>\n",
       "\t<tr><td>0.2901779</td><td> 7.012098e-75</td><td>0.25117163</td><td>0.3345173</td><td>Fisher's Exact Test for Count Data</td><td>two.sided</td><td>JUND        </td><td> 7.260529e-74</td></tr>\n",
       "\t<tr><td>0.2230662</td><td> 2.101881e-74</td><td>0.18556264</td><td>0.2668880</td><td>Fisher's Exact Test for Count Data</td><td>two.sided</td><td>MAFK        </td><td> 2.081724e-73</td></tr>\n",
       "\t<tr><td>0.2584061</td><td> 6.595354e-73</td><td>0.21948331</td><td>0.3032958</td><td>Fisher's Exact Test for Count Data</td><td>two.sided</td><td>JUN::JUNB   </td><td> 6.259935e-72</td></tr>\n",
       "\t<tr><td>0.2244062</td><td> 6.651076e-67</td><td>0.18486586</td><td>0.2711006</td><td>Fisher's Exact Test for Count Data</td><td>two.sided</td><td>FOSL1::JUND </td><td> 6.060310e-66</td></tr>\n",
       "\t<tr><td>0.2916051</td><td> 4.029474e-59</td><td>0.24764334</td><td>0.3423466</td><td>Fisher's Exact Test for Count Data</td><td>two.sided</td><td>MAFG::NFE2L1</td><td> 3.530352e-58</td></tr>\n",
       "\t<tr><td>0.3110042</td><td> 7.961896e-47</td><td>0.26145645</td><td>0.3688149</td><td>Fisher's Exact Test for Count Data</td><td>two.sided</td><td>MAF::NFE2   </td><td> 6.717315e-46</td></tr>\n",
       "\t<tr><td>0.3490016</td><td> 3.949048e-21</td><td>0.27495328</td><td>0.4405524</td><td>Fisher's Exact Test for Count Data</td><td>two.sided</td><td>MEIS1       </td><td> 3.212753e-20</td></tr>\n",
       "\t<tr><td>0.5680598</td><td> 1.363039e-19</td><td>0.50110195</td><td>0.6435316</td><td>Fisher's Exact Test for Count Data</td><td>two.sided</td><td>CTCF        </td><td> 1.070664e-18</td></tr>\n",
       "\t<tr><td>0.4987310</td><td> 2.775321e-19</td><td>0.42583720</td><td>0.5833055</td><td>Fisher's Exact Test for Count Data</td><td>two.sided</td><td>ZNF281      </td><td> 2.107342e-18</td></tr>\n",
       "\t<tr><td>⋮</td><td>⋮</td><td>⋮</td><td>⋮</td><td>⋮</td><td>⋮</td><td>⋮</td><td>⋮</td></tr>\n",
       "\t<tr><td>0.7603487</td><td>0.03457296</td><td>0.5873971</td><td>0.9836798</td><td>Fisher's Exact Test for Count Data</td><td>two.sided</td><td>RARB       </td><td>0.02379313</td></tr>\n",
       "\t<tr><td>0.7771657</td><td>0.03606817</td><td>0.6108405</td><td>0.9884838</td><td>Fisher's Exact Test for Count Data</td><td>two.sided</td><td>FOXN3      </td><td>0.02474737</td></tr>\n",
       "\t<tr><td>0.7846954</td><td>0.03844920</td><td>0.6229893</td><td>0.9881427</td><td>Fisher's Exact Test for Count Data</td><td>two.sided</td><td>ATF6       </td><td>0.02606700</td></tr>\n",
       "\t<tr><td>0.7657027</td><td>0.03871381</td><td>0.5899854</td><td>0.9932513</td><td>Fisher's Exact Test for Count Data</td><td>two.sided</td><td>MLX        </td><td>0.02616851</td></tr>\n",
       "\t<tr><td>0.8338734</td><td>0.03893401</td><td>0.6999198</td><td>0.9935757</td><td>Fisher's Exact Test for Count Data</td><td>two.sided</td><td>ZNF684     </td><td>0.02623949</td></tr>\n",
       "\t<tr><td>0.8413273</td><td>0.04445526</td><td>0.7095653</td><td>0.9976578</td><td>Fisher's Exact Test for Count Data</td><td>two.sided</td><td>RXRB       </td><td>0.02978428</td></tr>\n",
       "\t<tr><td>0.7309709</td><td>0.04566853</td><td>0.5349346</td><td>0.9975205</td><td>Fisher's Exact Test for Count Data</td><td>two.sided</td><td>HOXC4      </td><td>0.03032954</td></tr>\n",
       "\t<tr><td>0.7309709</td><td>0.04566853</td><td>0.5349346</td><td>0.9975205</td><td>Fisher's Exact Test for Count Data</td><td>two.sided</td><td>HOXB4      </td><td>0.03032954</td></tr>\n",
       "\t<tr><td>0.7309709</td><td>0.04566853</td><td>0.5349346</td><td>0.9975205</td><td>Fisher's Exact Test for Count Data</td><td>two.sided</td><td>HOXD4      </td><td>0.03032954</td></tr>\n",
       "\t<tr><td>0.7807078</td><td>0.04670778</td><td>0.6078018</td><td>1.0024901</td><td>Fisher's Exact Test for Count Data</td><td>two.sided</td><td>HOXB2::ELK1</td><td>0.03092956</td></tr>\n",
       "\t<tr><td>0.8057428</td><td>0.04687609</td><td>0.6498082</td><td>0.9990888</td><td>Fisher's Exact Test for Count Data</td><td>two.sided</td><td>CREB1      </td><td>0.03095104</td></tr>\n",
       "\t<tr><td>0.7607303</td><td>0.04748551</td><td>0.5771834</td><td>1.0020459</td><td>Fisher's Exact Test for Count Data</td><td>two.sided</td><td>NR2F6      </td><td>0.03117271</td></tr>\n",
       "\t<tr><td>0.8253498</td><td>0.04958962</td><td>0.6782618</td><td>1.0044638</td><td>Fisher's Exact Test for Count Data</td><td>two.sided</td><td>ZNF257     </td><td>0.03246044</td></tr>\n",
       "\t<tr><td>0.8221206</td><td>0.05027974</td><td>0.6725064</td><td>1.0050643</td><td>Fisher's Exact Test for Count Data</td><td>two.sided</td><td>ETV2::FOXI1</td><td>0.03272412</td></tr>\n",
       "\t<tr><td>0.7435872</td><td>0.05259911</td><td>0.5496377</td><td>1.0049552</td><td>Fisher's Exact Test for Count Data</td><td>two.sided</td><td>VAX1       </td><td>0.03384684</td></tr>\n",
       "\t<tr><td>0.8188916</td><td>0.05419003</td><td>0.6648159</td><td>1.0086897</td><td>Fisher's Exact Test for Count Data</td><td>two.sided</td><td>JUN        </td><td>0.03452304</td></tr>\n",
       "\t<tr><td>0.7700494</td><td>0.05398339</td><td>0.5890092</td><td>1.0062467</td><td>Fisher's Exact Test for Count Data</td><td>two.sided</td><td>POU6F2     </td><td>0.03452304</td></tr>\n",
       "\t<tr><td>0.7521042</td><td>0.05387575</td><td>0.5564657</td><td>1.0156109</td><td>Fisher's Exact Test for Count Data</td><td>two.sided</td><td>ZFP57      </td><td>0.03452304</td></tr>\n",
       "\t<tr><td>0.7672323</td><td>0.05425618</td><td>0.5810146</td><td>1.0125813</td><td>Fisher's Exact Test for Count Data</td><td>two.sided</td><td>NR1H4::RXRA</td><td>0.03452304</td></tr>\n",
       "\t<tr><td>0.8150729</td><td>0.05886623</td><td>0.6565420</td><td>1.0119172</td><td>Fisher's Exact Test for Count Data</td><td>two.sided</td><td>TBX1       </td><td>0.03735208</td></tr>\n",
       "\t<tr><td>0.8301377</td><td>0.06436588</td><td>0.6797650</td><td>1.0138681</td><td>Fisher's Exact Test for Count Data</td><td>two.sided</td><td>ZNF382     </td><td>0.03999474</td></tr>\n",
       "\t<tr><td>0.7430427</td><td>0.06564355</td><td>0.5363801</td><td>1.0281026</td><td>Fisher's Exact Test for Count Data</td><td>two.sided</td><td>HOXA2      </td><td>0.04052365</td></tr>\n",
       "\t<tr><td>0.7921238</td><td>0.06626734</td><td>0.6136836</td><td>1.0222037</td><td>Fisher's Exact Test for Count Data</td><td>two.sided</td><td>ZNF417     </td><td>0.04079817</td></tr>\n",
       "\t<tr><td>0.8053051</td><td>0.06681633</td><td>0.6349214</td><td>1.0213573</td><td>Fisher's Exact Test for Count Data</td><td>two.sided</td><td>FOXK2      </td><td>0.04102529</td></tr>\n",
       "\t<tr><td>0.7438418</td><td>0.06713813</td><td>0.5380948</td><td>1.0270750</td><td>Fisher's Exact Test for Count Data</td><td>two.sided</td><td>HOXA4      </td><td>0.04111206</td></tr>\n",
       "\t<tr><td>0.8051962</td><td>0.07120645</td><td>0.6321595</td><td>1.0255627</td><td>Fisher's Exact Test for Count Data</td><td>two.sided</td><td>RARA::RXRA </td><td>0.04325447</td></tr>\n",
       "\t<tr><td>0.8238713</td><td>0.07163405</td><td>0.6664034</td><td>1.0185966</td><td>Fisher's Exact Test for Count Data</td><td>two.sided</td><td>MZF1       </td><td>0.04339849</td></tr>\n",
       "\t<tr><td>0.7911587</td><td>0.07838206</td><td>0.6083983</td><td>1.0286050</td><td>Fisher's Exact Test for Count Data</td><td>two.sided</td><td>EBF3       </td><td>0.04686349</td></tr>\n",
       "\t<tr><td>0.7809593</td><td>0.08111856</td><td>0.5891024</td><td>1.0348898</td><td>Fisher's Exact Test for Count Data</td><td>two.sided</td><td>DUXA       </td><td>0.04837264</td></tr>\n",
       "\t<tr><td>0.8207134</td><td>0.08262160</td><td>0.6557046</td><td>1.0273154</td><td>Fisher's Exact Test for Count Data</td><td>two.sided</td><td>ATF2       </td><td>0.04914030</td></tr>\n",
       "</tbody>\n",
       "</table>\n"
      ],
      "text/latex": [
       "A tibble: 277 × 8\n",
       "\\begin{tabular}{llllllll}\n",
       " estimate & p.value & conf.low & conf.high & method & alternative & motif & q.value\\\\\n",
       " <dbl> & <dbl> & <dbl> & <dbl> & <chr> & <chr> & <chr> & <dbl>\\\\\n",
       "\\hline\n",
       "\t 0.1202465 & 6.917519e-118 & 0.09536648 & 0.1501350 & Fisher's Exact Test for Count Data & two.sided & FOS::JUND    & 1.575772e-115\\\\\n",
       "\t 0.1260874 & 1.205246e-115 & 0.10057330 & 0.1566645 & Fisher's Exact Test for Count Data & two.sided & FOSL1        & 1.372741e-113\\\\\n",
       "\t 0.1779378 & 7.420940e-114 & 0.14924302 & 0.2112057 & Fisher's Exact Test for Count Data & two.sided & JUNB         & 5.634827e-112\\\\\n",
       "\t 0.1220533 & 1.176406e-110 & 0.09630612 & 0.1531643 & Fisher's Exact Test for Count Data & two.sided & BATF         & 5.359573e-109\\\\\n",
       "\t 0.1220533 & 1.176406e-110 & 0.09630612 & 0.1531643 & Fisher's Exact Test for Count Data & two.sided & BNC2         & 5.359573e-109\\\\\n",
       "\t 0.1279968 & 5.514061e-109 & 0.10157706 & 0.1597739 & Fisher's Exact Test for Count Data & two.sided & BATF::JUN    & 2.093453e-107\\\\\n",
       "\t 0.1354755 & 3.064571e-106 & 0.10817388 & 0.1681324 & Fisher's Exact Test for Count Data & two.sided & BATF3        & 9.972743e-105\\\\\n",
       "\t 0.1442643 & 5.214161e-105 & 0.11624424 & 0.1776353 & Fisher's Exact Test for Count Data & two.sided & NFE2         & 1.484696e-103\\\\\n",
       "\t 0.1252584 & 2.219043e-103 & 0.09836226 & 0.1578630 & Fisher's Exact Test for Count Data & two.sided & FOS::JUNB    & 5.616504e-102\\\\\n",
       "\t 0.1839737 & 3.783794e-103 & 0.15354020 & 0.2193927 & Fisher's Exact Test for Count Data & two.sided & FOSL1::JUN   & 8.619269e-102\\\\\n",
       "\t 0.1805126 & 2.173641e-101 & 0.15001100 & 0.2161591 & Fisher's Exact Test for Count Data & two.sided & BACH1        & 4.126192e-100\\\\\n",
       "\t 0.1240832 & 2.002657e-101 & 0.09699774 & 0.1569943 & Fisher's Exact Test for Count Data & two.sided & FOSL1::JUNB  & 4.126192e-100\\\\\n",
       "\t 0.2158381 &  1.829925e-95 & 0.18292260 & 0.2537471 & Fisher's Exact Test for Count Data & two.sided & JDP2         &  3.206512e-94\\\\\n",
       "\t 0.2274856 &  5.822255e-95 & 0.19413494 & 0.2657277 & Fisher's Exact Test for Count Data & two.sided & FOS::JUN     &  9.473405e-94\\\\\n",
       "\t 0.1710569 &  1.623453e-92 & 0.13964644 & 0.2083171 & Fisher's Exact Test for Count Data & two.sided & FOSL2        &  2.465423e-91\\\\\n",
       "\t 0.2158971 &  8.300875e-88 & 0.18163055 & 0.2556226 & Fisher's Exact Test for Count Data & two.sided & FOSL2::JUND  &  1.181808e-86\\\\\n",
       "\t 0.2233534 &  1.139362e-87 & 0.18878211 & 0.2632956 & Fisher's Exact Test for Count Data & two.sided & FOSL2::JUN   &  1.526708e-86\\\\\n",
       "\t 0.2042169 &  7.242559e-86 & 0.16998045 & 0.2442228 & Fisher's Exact Test for Count Data & two.sided & FOSL2::JUNB  &  9.165633e-85\\\\\n",
       "\t 0.2201040 &  7.317484e-83 & 0.18462395 & 0.2613352 & Fisher's Exact Test for Count Data & two.sided & FOSB::JUNB   &  8.773061e-82\\\\\n",
       "\t 0.2496085 &  3.343282e-80 & 0.21265771 & 0.2920691 & Fisher's Exact Test for Count Data & two.sided & FOS          &  3.807903e-79\\\\\n",
       "\t 0.2876201 &  8.617485e-76 & 0.24886854 & 0.3316907 & Fisher's Exact Test for Count Data & two.sided & BACH2        &  9.347687e-75\\\\\n",
       "\t 0.2901779 &  7.012098e-75 & 0.25117163 & 0.3345173 & Fisher's Exact Test for Count Data & two.sided & JUND         &  7.260529e-74\\\\\n",
       "\t 0.2230662 &  2.101881e-74 & 0.18556264 & 0.2668880 & Fisher's Exact Test for Count Data & two.sided & MAFK         &  2.081724e-73\\\\\n",
       "\t 0.2584061 &  6.595354e-73 & 0.21948331 & 0.3032958 & Fisher's Exact Test for Count Data & two.sided & JUN::JUNB    &  6.259935e-72\\\\\n",
       "\t 0.2244062 &  6.651076e-67 & 0.18486586 & 0.2711006 & Fisher's Exact Test for Count Data & two.sided & FOSL1::JUND  &  6.060310e-66\\\\\n",
       "\t 0.2916051 &  4.029474e-59 & 0.24764334 & 0.3423466 & Fisher's Exact Test for Count Data & two.sided & MAFG::NFE2L1 &  3.530352e-58\\\\\n",
       "\t 0.3110042 &  7.961896e-47 & 0.26145645 & 0.3688149 & Fisher's Exact Test for Count Data & two.sided & MAF::NFE2    &  6.717315e-46\\\\\n",
       "\t 0.3490016 &  3.949048e-21 & 0.27495328 & 0.4405524 & Fisher's Exact Test for Count Data & two.sided & MEIS1        &  3.212753e-20\\\\\n",
       "\t 0.5680598 &  1.363039e-19 & 0.50110195 & 0.6435316 & Fisher's Exact Test for Count Data & two.sided & CTCF         &  1.070664e-18\\\\\n",
       "\t 0.4987310 &  2.775321e-19 & 0.42583720 & 0.5833055 & Fisher's Exact Test for Count Data & two.sided & ZNF281       &  2.107342e-18\\\\\n",
       "\t ⋮ & ⋮ & ⋮ & ⋮ & ⋮ & ⋮ & ⋮ & ⋮\\\\\n",
       "\t 0.7603487 & 0.03457296 & 0.5873971 & 0.9836798 & Fisher's Exact Test for Count Data & two.sided & RARB        & 0.02379313\\\\\n",
       "\t 0.7771657 & 0.03606817 & 0.6108405 & 0.9884838 & Fisher's Exact Test for Count Data & two.sided & FOXN3       & 0.02474737\\\\\n",
       "\t 0.7846954 & 0.03844920 & 0.6229893 & 0.9881427 & Fisher's Exact Test for Count Data & two.sided & ATF6        & 0.02606700\\\\\n",
       "\t 0.7657027 & 0.03871381 & 0.5899854 & 0.9932513 & Fisher's Exact Test for Count Data & two.sided & MLX         & 0.02616851\\\\\n",
       "\t 0.8338734 & 0.03893401 & 0.6999198 & 0.9935757 & Fisher's Exact Test for Count Data & two.sided & ZNF684      & 0.02623949\\\\\n",
       "\t 0.8413273 & 0.04445526 & 0.7095653 & 0.9976578 & Fisher's Exact Test for Count Data & two.sided & RXRB        & 0.02978428\\\\\n",
       "\t 0.7309709 & 0.04566853 & 0.5349346 & 0.9975205 & Fisher's Exact Test for Count Data & two.sided & HOXC4       & 0.03032954\\\\\n",
       "\t 0.7309709 & 0.04566853 & 0.5349346 & 0.9975205 & Fisher's Exact Test for Count Data & two.sided & HOXB4       & 0.03032954\\\\\n",
       "\t 0.7309709 & 0.04566853 & 0.5349346 & 0.9975205 & Fisher's Exact Test for Count Data & two.sided & HOXD4       & 0.03032954\\\\\n",
       "\t 0.7807078 & 0.04670778 & 0.6078018 & 1.0024901 & Fisher's Exact Test for Count Data & two.sided & HOXB2::ELK1 & 0.03092956\\\\\n",
       "\t 0.8057428 & 0.04687609 & 0.6498082 & 0.9990888 & Fisher's Exact Test for Count Data & two.sided & CREB1       & 0.03095104\\\\\n",
       "\t 0.7607303 & 0.04748551 & 0.5771834 & 1.0020459 & Fisher's Exact Test for Count Data & two.sided & NR2F6       & 0.03117271\\\\\n",
       "\t 0.8253498 & 0.04958962 & 0.6782618 & 1.0044638 & Fisher's Exact Test for Count Data & two.sided & ZNF257      & 0.03246044\\\\\n",
       "\t 0.8221206 & 0.05027974 & 0.6725064 & 1.0050643 & Fisher's Exact Test for Count Data & two.sided & ETV2::FOXI1 & 0.03272412\\\\\n",
       "\t 0.7435872 & 0.05259911 & 0.5496377 & 1.0049552 & Fisher's Exact Test for Count Data & two.sided & VAX1        & 0.03384684\\\\\n",
       "\t 0.8188916 & 0.05419003 & 0.6648159 & 1.0086897 & Fisher's Exact Test for Count Data & two.sided & JUN         & 0.03452304\\\\\n",
       "\t 0.7700494 & 0.05398339 & 0.5890092 & 1.0062467 & Fisher's Exact Test for Count Data & two.sided & POU6F2      & 0.03452304\\\\\n",
       "\t 0.7521042 & 0.05387575 & 0.5564657 & 1.0156109 & Fisher's Exact Test for Count Data & two.sided & ZFP57       & 0.03452304\\\\\n",
       "\t 0.7672323 & 0.05425618 & 0.5810146 & 1.0125813 & Fisher's Exact Test for Count Data & two.sided & NR1H4::RXRA & 0.03452304\\\\\n",
       "\t 0.8150729 & 0.05886623 & 0.6565420 & 1.0119172 & Fisher's Exact Test for Count Data & two.sided & TBX1        & 0.03735208\\\\\n",
       "\t 0.8301377 & 0.06436588 & 0.6797650 & 1.0138681 & Fisher's Exact Test for Count Data & two.sided & ZNF382      & 0.03999474\\\\\n",
       "\t 0.7430427 & 0.06564355 & 0.5363801 & 1.0281026 & Fisher's Exact Test for Count Data & two.sided & HOXA2       & 0.04052365\\\\\n",
       "\t 0.7921238 & 0.06626734 & 0.6136836 & 1.0222037 & Fisher's Exact Test for Count Data & two.sided & ZNF417      & 0.04079817\\\\\n",
       "\t 0.8053051 & 0.06681633 & 0.6349214 & 1.0213573 & Fisher's Exact Test for Count Data & two.sided & FOXK2       & 0.04102529\\\\\n",
       "\t 0.7438418 & 0.06713813 & 0.5380948 & 1.0270750 & Fisher's Exact Test for Count Data & two.sided & HOXA4       & 0.04111206\\\\\n",
       "\t 0.8051962 & 0.07120645 & 0.6321595 & 1.0255627 & Fisher's Exact Test for Count Data & two.sided & RARA::RXRA  & 0.04325447\\\\\n",
       "\t 0.8238713 & 0.07163405 & 0.6664034 & 1.0185966 & Fisher's Exact Test for Count Data & two.sided & MZF1        & 0.04339849\\\\\n",
       "\t 0.7911587 & 0.07838206 & 0.6083983 & 1.0286050 & Fisher's Exact Test for Count Data & two.sided & EBF3        & 0.04686349\\\\\n",
       "\t 0.7809593 & 0.08111856 & 0.5891024 & 1.0348898 & Fisher's Exact Test for Count Data & two.sided & DUXA        & 0.04837264\\\\\n",
       "\t 0.8207134 & 0.08262160 & 0.6557046 & 1.0273154 & Fisher's Exact Test for Count Data & two.sided & ATF2        & 0.04914030\\\\\n",
       "\\end{tabular}\n"
      ],
      "text/markdown": [
       "\n",
       "A tibble: 277 × 8\n",
       "\n",
       "| estimate &lt;dbl&gt; | p.value &lt;dbl&gt; | conf.low &lt;dbl&gt; | conf.high &lt;dbl&gt; | method &lt;chr&gt; | alternative &lt;chr&gt; | motif &lt;chr&gt; | q.value &lt;dbl&gt; |\n",
       "|---|---|---|---|---|---|---|---|\n",
       "| 0.1202465 | 6.917519e-118 | 0.09536648 | 0.1501350 | Fisher's Exact Test for Count Data | two.sided | FOS::JUND    | 1.575772e-115 |\n",
       "| 0.1260874 | 1.205246e-115 | 0.10057330 | 0.1566645 | Fisher's Exact Test for Count Data | two.sided | FOSL1        | 1.372741e-113 |\n",
       "| 0.1779378 | 7.420940e-114 | 0.14924302 | 0.2112057 | Fisher's Exact Test for Count Data | two.sided | JUNB         | 5.634827e-112 |\n",
       "| 0.1220533 | 1.176406e-110 | 0.09630612 | 0.1531643 | Fisher's Exact Test for Count Data | two.sided | BATF         | 5.359573e-109 |\n",
       "| 0.1220533 | 1.176406e-110 | 0.09630612 | 0.1531643 | Fisher's Exact Test for Count Data | two.sided | BNC2         | 5.359573e-109 |\n",
       "| 0.1279968 | 5.514061e-109 | 0.10157706 | 0.1597739 | Fisher's Exact Test for Count Data | two.sided | BATF::JUN    | 2.093453e-107 |\n",
       "| 0.1354755 | 3.064571e-106 | 0.10817388 | 0.1681324 | Fisher's Exact Test for Count Data | two.sided | BATF3        | 9.972743e-105 |\n",
       "| 0.1442643 | 5.214161e-105 | 0.11624424 | 0.1776353 | Fisher's Exact Test for Count Data | two.sided | NFE2         | 1.484696e-103 |\n",
       "| 0.1252584 | 2.219043e-103 | 0.09836226 | 0.1578630 | Fisher's Exact Test for Count Data | two.sided | FOS::JUNB    | 5.616504e-102 |\n",
       "| 0.1839737 | 3.783794e-103 | 0.15354020 | 0.2193927 | Fisher's Exact Test for Count Data | two.sided | FOSL1::JUN   | 8.619269e-102 |\n",
       "| 0.1805126 | 2.173641e-101 | 0.15001100 | 0.2161591 | Fisher's Exact Test for Count Data | two.sided | BACH1        | 4.126192e-100 |\n",
       "| 0.1240832 | 2.002657e-101 | 0.09699774 | 0.1569943 | Fisher's Exact Test for Count Data | two.sided | FOSL1::JUNB  | 4.126192e-100 |\n",
       "| 0.2158381 |  1.829925e-95 | 0.18292260 | 0.2537471 | Fisher's Exact Test for Count Data | two.sided | JDP2         |  3.206512e-94 |\n",
       "| 0.2274856 |  5.822255e-95 | 0.19413494 | 0.2657277 | Fisher's Exact Test for Count Data | two.sided | FOS::JUN     |  9.473405e-94 |\n",
       "| 0.1710569 |  1.623453e-92 | 0.13964644 | 0.2083171 | Fisher's Exact Test for Count Data | two.sided | FOSL2        |  2.465423e-91 |\n",
       "| 0.2158971 |  8.300875e-88 | 0.18163055 | 0.2556226 | Fisher's Exact Test for Count Data | two.sided | FOSL2::JUND  |  1.181808e-86 |\n",
       "| 0.2233534 |  1.139362e-87 | 0.18878211 | 0.2632956 | Fisher's Exact Test for Count Data | two.sided | FOSL2::JUN   |  1.526708e-86 |\n",
       "| 0.2042169 |  7.242559e-86 | 0.16998045 | 0.2442228 | Fisher's Exact Test for Count Data | two.sided | FOSL2::JUNB  |  9.165633e-85 |\n",
       "| 0.2201040 |  7.317484e-83 | 0.18462395 | 0.2613352 | Fisher's Exact Test for Count Data | two.sided | FOSB::JUNB   |  8.773061e-82 |\n",
       "| 0.2496085 |  3.343282e-80 | 0.21265771 | 0.2920691 | Fisher's Exact Test for Count Data | two.sided | FOS          |  3.807903e-79 |\n",
       "| 0.2876201 |  8.617485e-76 | 0.24886854 | 0.3316907 | Fisher's Exact Test for Count Data | two.sided | BACH2        |  9.347687e-75 |\n",
       "| 0.2901779 |  7.012098e-75 | 0.25117163 | 0.3345173 | Fisher's Exact Test for Count Data | two.sided | JUND         |  7.260529e-74 |\n",
       "| 0.2230662 |  2.101881e-74 | 0.18556264 | 0.2668880 | Fisher's Exact Test for Count Data | two.sided | MAFK         |  2.081724e-73 |\n",
       "| 0.2584061 |  6.595354e-73 | 0.21948331 | 0.3032958 | Fisher's Exact Test for Count Data | two.sided | JUN::JUNB    |  6.259935e-72 |\n",
       "| 0.2244062 |  6.651076e-67 | 0.18486586 | 0.2711006 | Fisher's Exact Test for Count Data | two.sided | FOSL1::JUND  |  6.060310e-66 |\n",
       "| 0.2916051 |  4.029474e-59 | 0.24764334 | 0.3423466 | Fisher's Exact Test for Count Data | two.sided | MAFG::NFE2L1 |  3.530352e-58 |\n",
       "| 0.3110042 |  7.961896e-47 | 0.26145645 | 0.3688149 | Fisher's Exact Test for Count Data | two.sided | MAF::NFE2    |  6.717315e-46 |\n",
       "| 0.3490016 |  3.949048e-21 | 0.27495328 | 0.4405524 | Fisher's Exact Test for Count Data | two.sided | MEIS1        |  3.212753e-20 |\n",
       "| 0.5680598 |  1.363039e-19 | 0.50110195 | 0.6435316 | Fisher's Exact Test for Count Data | two.sided | CTCF         |  1.070664e-18 |\n",
       "| 0.4987310 |  2.775321e-19 | 0.42583720 | 0.5833055 | Fisher's Exact Test for Count Data | two.sided | ZNF281       |  2.107342e-18 |\n",
       "| ⋮ | ⋮ | ⋮ | ⋮ | ⋮ | ⋮ | ⋮ | ⋮ |\n",
       "| 0.7603487 | 0.03457296 | 0.5873971 | 0.9836798 | Fisher's Exact Test for Count Data | two.sided | RARB        | 0.02379313 |\n",
       "| 0.7771657 | 0.03606817 | 0.6108405 | 0.9884838 | Fisher's Exact Test for Count Data | two.sided | FOXN3       | 0.02474737 |\n",
       "| 0.7846954 | 0.03844920 | 0.6229893 | 0.9881427 | Fisher's Exact Test for Count Data | two.sided | ATF6        | 0.02606700 |\n",
       "| 0.7657027 | 0.03871381 | 0.5899854 | 0.9932513 | Fisher's Exact Test for Count Data | two.sided | MLX         | 0.02616851 |\n",
       "| 0.8338734 | 0.03893401 | 0.6999198 | 0.9935757 | Fisher's Exact Test for Count Data | two.sided | ZNF684      | 0.02623949 |\n",
       "| 0.8413273 | 0.04445526 | 0.7095653 | 0.9976578 | Fisher's Exact Test for Count Data | two.sided | RXRB        | 0.02978428 |\n",
       "| 0.7309709 | 0.04566853 | 0.5349346 | 0.9975205 | Fisher's Exact Test for Count Data | two.sided | HOXC4       | 0.03032954 |\n",
       "| 0.7309709 | 0.04566853 | 0.5349346 | 0.9975205 | Fisher's Exact Test for Count Data | two.sided | HOXB4       | 0.03032954 |\n",
       "| 0.7309709 | 0.04566853 | 0.5349346 | 0.9975205 | Fisher's Exact Test for Count Data | two.sided | HOXD4       | 0.03032954 |\n",
       "| 0.7807078 | 0.04670778 | 0.6078018 | 1.0024901 | Fisher's Exact Test for Count Data | two.sided | HOXB2::ELK1 | 0.03092956 |\n",
       "| 0.8057428 | 0.04687609 | 0.6498082 | 0.9990888 | Fisher's Exact Test for Count Data | two.sided | CREB1       | 0.03095104 |\n",
       "| 0.7607303 | 0.04748551 | 0.5771834 | 1.0020459 | Fisher's Exact Test for Count Data | two.sided | NR2F6       | 0.03117271 |\n",
       "| 0.8253498 | 0.04958962 | 0.6782618 | 1.0044638 | Fisher's Exact Test for Count Data | two.sided | ZNF257      | 0.03246044 |\n",
       "| 0.8221206 | 0.05027974 | 0.6725064 | 1.0050643 | Fisher's Exact Test for Count Data | two.sided | ETV2::FOXI1 | 0.03272412 |\n",
       "| 0.7435872 | 0.05259911 | 0.5496377 | 1.0049552 | Fisher's Exact Test for Count Data | two.sided | VAX1        | 0.03384684 |\n",
       "| 0.8188916 | 0.05419003 | 0.6648159 | 1.0086897 | Fisher's Exact Test for Count Data | two.sided | JUN         | 0.03452304 |\n",
       "| 0.7700494 | 0.05398339 | 0.5890092 | 1.0062467 | Fisher's Exact Test for Count Data | two.sided | POU6F2      | 0.03452304 |\n",
       "| 0.7521042 | 0.05387575 | 0.5564657 | 1.0156109 | Fisher's Exact Test for Count Data | two.sided | ZFP57       | 0.03452304 |\n",
       "| 0.7672323 | 0.05425618 | 0.5810146 | 1.0125813 | Fisher's Exact Test for Count Data | two.sided | NR1H4::RXRA | 0.03452304 |\n",
       "| 0.8150729 | 0.05886623 | 0.6565420 | 1.0119172 | Fisher's Exact Test for Count Data | two.sided | TBX1        | 0.03735208 |\n",
       "| 0.8301377 | 0.06436588 | 0.6797650 | 1.0138681 | Fisher's Exact Test for Count Data | two.sided | ZNF382      | 0.03999474 |\n",
       "| 0.7430427 | 0.06564355 | 0.5363801 | 1.0281026 | Fisher's Exact Test for Count Data | two.sided | HOXA2       | 0.04052365 |\n",
       "| 0.7921238 | 0.06626734 | 0.6136836 | 1.0222037 | Fisher's Exact Test for Count Data | two.sided | ZNF417      | 0.04079817 |\n",
       "| 0.8053051 | 0.06681633 | 0.6349214 | 1.0213573 | Fisher's Exact Test for Count Data | two.sided | FOXK2       | 0.04102529 |\n",
       "| 0.7438418 | 0.06713813 | 0.5380948 | 1.0270750 | Fisher's Exact Test for Count Data | two.sided | HOXA4       | 0.04111206 |\n",
       "| 0.8051962 | 0.07120645 | 0.6321595 | 1.0255627 | Fisher's Exact Test for Count Data | two.sided | RARA::RXRA  | 0.04325447 |\n",
       "| 0.8238713 | 0.07163405 | 0.6664034 | 1.0185966 | Fisher's Exact Test for Count Data | two.sided | MZF1        | 0.04339849 |\n",
       "| 0.7911587 | 0.07838206 | 0.6083983 | 1.0286050 | Fisher's Exact Test for Count Data | two.sided | EBF3        | 0.04686349 |\n",
       "| 0.7809593 | 0.08111856 | 0.5891024 | 1.0348898 | Fisher's Exact Test for Count Data | two.sided | DUXA        | 0.04837264 |\n",
       "| 0.8207134 | 0.08262160 | 0.6557046 | 1.0273154 | Fisher's Exact Test for Count Data | two.sided | ATF2        | 0.04914030 |\n",
       "\n"
      ],
      "text/plain": [
       "    estimate  p.value       conf.low   conf.high\n",
       "1   0.1202465 6.917519e-118 0.09536648 0.1501350\n",
       "2   0.1260874 1.205246e-115 0.10057330 0.1566645\n",
       "3   0.1779378 7.420940e-114 0.14924302 0.2112057\n",
       "4   0.1220533 1.176406e-110 0.09630612 0.1531643\n",
       "5   0.1220533 1.176406e-110 0.09630612 0.1531643\n",
       "6   0.1279968 5.514061e-109 0.10157706 0.1597739\n",
       "7   0.1354755 3.064571e-106 0.10817388 0.1681324\n",
       "8   0.1442643 5.214161e-105 0.11624424 0.1776353\n",
       "9   0.1252584 2.219043e-103 0.09836226 0.1578630\n",
       "10  0.1839737 3.783794e-103 0.15354020 0.2193927\n",
       "11  0.1805126 2.173641e-101 0.15001100 0.2161591\n",
       "12  0.1240832 2.002657e-101 0.09699774 0.1569943\n",
       "13  0.2158381  1.829925e-95 0.18292260 0.2537471\n",
       "14  0.2274856  5.822255e-95 0.19413494 0.2657277\n",
       "15  0.1710569  1.623453e-92 0.13964644 0.2083171\n",
       "16  0.2158971  8.300875e-88 0.18163055 0.2556226\n",
       "17  0.2233534  1.139362e-87 0.18878211 0.2632956\n",
       "18  0.2042169  7.242559e-86 0.16998045 0.2442228\n",
       "19  0.2201040  7.317484e-83 0.18462395 0.2613352\n",
       "20  0.2496085  3.343282e-80 0.21265771 0.2920691\n",
       "21  0.2876201  8.617485e-76 0.24886854 0.3316907\n",
       "22  0.2901779  7.012098e-75 0.25117163 0.3345173\n",
       "23  0.2230662  2.101881e-74 0.18556264 0.2668880\n",
       "24  0.2584061  6.595354e-73 0.21948331 0.3032958\n",
       "25  0.2244062  6.651076e-67 0.18486586 0.2711006\n",
       "26  0.2916051  4.029474e-59 0.24764334 0.3423466\n",
       "27  0.3110042  7.961896e-47 0.26145645 0.3688149\n",
       "28  0.3490016  3.949048e-21 0.27495328 0.4405524\n",
       "29  0.5680598  1.363039e-19 0.50110195 0.6435316\n",
       "30  0.4987310  2.775321e-19 0.42583720 0.5833055\n",
       "⋮   ⋮         ⋮             ⋮          ⋮        \n",
       "248 0.7603487 0.03457296    0.5873971  0.9836798\n",
       "249 0.7771657 0.03606817    0.6108405  0.9884838\n",
       "250 0.7846954 0.03844920    0.6229893  0.9881427\n",
       "251 0.7657027 0.03871381    0.5899854  0.9932513\n",
       "252 0.8338734 0.03893401    0.6999198  0.9935757\n",
       "253 0.8413273 0.04445526    0.7095653  0.9976578\n",
       "254 0.7309709 0.04566853    0.5349346  0.9975205\n",
       "255 0.7309709 0.04566853    0.5349346  0.9975205\n",
       "256 0.7309709 0.04566853    0.5349346  0.9975205\n",
       "257 0.7807078 0.04670778    0.6078018  1.0024901\n",
       "258 0.8057428 0.04687609    0.6498082  0.9990888\n",
       "259 0.7607303 0.04748551    0.5771834  1.0020459\n",
       "260 0.8253498 0.04958962    0.6782618  1.0044638\n",
       "261 0.8221206 0.05027974    0.6725064  1.0050643\n",
       "262 0.7435872 0.05259911    0.5496377  1.0049552\n",
       "263 0.8188916 0.05419003    0.6648159  1.0086897\n",
       "264 0.7700494 0.05398339    0.5890092  1.0062467\n",
       "265 0.7521042 0.05387575    0.5564657  1.0156109\n",
       "266 0.7672323 0.05425618    0.5810146  1.0125813\n",
       "267 0.8150729 0.05886623    0.6565420  1.0119172\n",
       "268 0.8301377 0.06436588    0.6797650  1.0138681\n",
       "269 0.7430427 0.06564355    0.5363801  1.0281026\n",
       "270 0.7921238 0.06626734    0.6136836  1.0222037\n",
       "271 0.8053051 0.06681633    0.6349214  1.0213573\n",
       "272 0.7438418 0.06713813    0.5380948  1.0270750\n",
       "273 0.8051962 0.07120645    0.6321595  1.0255627\n",
       "274 0.8238713 0.07163405    0.6664034  1.0185966\n",
       "275 0.7911587 0.07838206    0.6083983  1.0286050\n",
       "276 0.7809593 0.08111856    0.5891024  1.0348898\n",
       "277 0.8207134 0.08262160    0.6557046  1.0273154\n",
       "    method                             alternative motif        q.value      \n",
       "1   Fisher's Exact Test for Count Data two.sided   FOS::JUND    1.575772e-115\n",
       "2   Fisher's Exact Test for Count Data two.sided   FOSL1        1.372741e-113\n",
       "3   Fisher's Exact Test for Count Data two.sided   JUNB         5.634827e-112\n",
       "4   Fisher's Exact Test for Count Data two.sided   BATF         5.359573e-109\n",
       "5   Fisher's Exact Test for Count Data two.sided   BNC2         5.359573e-109\n",
       "6   Fisher's Exact Test for Count Data two.sided   BATF::JUN    2.093453e-107\n",
       "7   Fisher's Exact Test for Count Data two.sided   BATF3        9.972743e-105\n",
       "8   Fisher's Exact Test for Count Data two.sided   NFE2         1.484696e-103\n",
       "9   Fisher's Exact Test for Count Data two.sided   FOS::JUNB    5.616504e-102\n",
       "10  Fisher's Exact Test for Count Data two.sided   FOSL1::JUN   8.619269e-102\n",
       "11  Fisher's Exact Test for Count Data two.sided   BACH1        4.126192e-100\n",
       "12  Fisher's Exact Test for Count Data two.sided   FOSL1::JUNB  4.126192e-100\n",
       "13  Fisher's Exact Test for Count Data two.sided   JDP2          3.206512e-94\n",
       "14  Fisher's Exact Test for Count Data two.sided   FOS::JUN      9.473405e-94\n",
       "15  Fisher's Exact Test for Count Data two.sided   FOSL2         2.465423e-91\n",
       "16  Fisher's Exact Test for Count Data two.sided   FOSL2::JUND   1.181808e-86\n",
       "17  Fisher's Exact Test for Count Data two.sided   FOSL2::JUN    1.526708e-86\n",
       "18  Fisher's Exact Test for Count Data two.sided   FOSL2::JUNB   9.165633e-85\n",
       "19  Fisher's Exact Test for Count Data two.sided   FOSB::JUNB    8.773061e-82\n",
       "20  Fisher's Exact Test for Count Data two.sided   FOS           3.807903e-79\n",
       "21  Fisher's Exact Test for Count Data two.sided   BACH2         9.347687e-75\n",
       "22  Fisher's Exact Test for Count Data two.sided   JUND          7.260529e-74\n",
       "23  Fisher's Exact Test for Count Data two.sided   MAFK          2.081724e-73\n",
       "24  Fisher's Exact Test for Count Data two.sided   JUN::JUNB     6.259935e-72\n",
       "25  Fisher's Exact Test for Count Data two.sided   FOSL1::JUND   6.060310e-66\n",
       "26  Fisher's Exact Test for Count Data two.sided   MAFG::NFE2L1  3.530352e-58\n",
       "27  Fisher's Exact Test for Count Data two.sided   MAF::NFE2     6.717315e-46\n",
       "28  Fisher's Exact Test for Count Data two.sided   MEIS1         3.212753e-20\n",
       "29  Fisher's Exact Test for Count Data two.sided   CTCF          1.070664e-18\n",
       "30  Fisher's Exact Test for Count Data two.sided   ZNF281        2.107342e-18\n",
       "⋮   ⋮                                  ⋮           ⋮            ⋮            \n",
       "248 Fisher's Exact Test for Count Data two.sided   RARB         0.02379313   \n",
       "249 Fisher's Exact Test for Count Data two.sided   FOXN3        0.02474737   \n",
       "250 Fisher's Exact Test for Count Data two.sided   ATF6         0.02606700   \n",
       "251 Fisher's Exact Test for Count Data two.sided   MLX          0.02616851   \n",
       "252 Fisher's Exact Test for Count Data two.sided   ZNF684       0.02623949   \n",
       "253 Fisher's Exact Test for Count Data two.sided   RXRB         0.02978428   \n",
       "254 Fisher's Exact Test for Count Data two.sided   HOXC4        0.03032954   \n",
       "255 Fisher's Exact Test for Count Data two.sided   HOXB4        0.03032954   \n",
       "256 Fisher's Exact Test for Count Data two.sided   HOXD4        0.03032954   \n",
       "257 Fisher's Exact Test for Count Data two.sided   HOXB2::ELK1  0.03092956   \n",
       "258 Fisher's Exact Test for Count Data two.sided   CREB1        0.03095104   \n",
       "259 Fisher's Exact Test for Count Data two.sided   NR2F6        0.03117271   \n",
       "260 Fisher's Exact Test for Count Data two.sided   ZNF257       0.03246044   \n",
       "261 Fisher's Exact Test for Count Data two.sided   ETV2::FOXI1  0.03272412   \n",
       "262 Fisher's Exact Test for Count Data two.sided   VAX1         0.03384684   \n",
       "263 Fisher's Exact Test for Count Data two.sided   JUN          0.03452304   \n",
       "264 Fisher's Exact Test for Count Data two.sided   POU6F2       0.03452304   \n",
       "265 Fisher's Exact Test for Count Data two.sided   ZFP57        0.03452304   \n",
       "266 Fisher's Exact Test for Count Data two.sided   NR1H4::RXRA  0.03452304   \n",
       "267 Fisher's Exact Test for Count Data two.sided   TBX1         0.03735208   \n",
       "268 Fisher's Exact Test for Count Data two.sided   ZNF382       0.03999474   \n",
       "269 Fisher's Exact Test for Count Data two.sided   HOXA2        0.04052365   \n",
       "270 Fisher's Exact Test for Count Data two.sided   ZNF417       0.04079817   \n",
       "271 Fisher's Exact Test for Count Data two.sided   FOXK2        0.04102529   \n",
       "272 Fisher's Exact Test for Count Data two.sided   HOXA4        0.04111206   \n",
       "273 Fisher's Exact Test for Count Data two.sided   RARA::RXRA   0.04325447   \n",
       "274 Fisher's Exact Test for Count Data two.sided   MZF1         0.04339849   \n",
       "275 Fisher's Exact Test for Count Data two.sided   EBF3         0.04686349   \n",
       "276 Fisher's Exact Test for Count Data two.sided   DUXA         0.04837264   \n",
       "277 Fisher's Exact Test for Count Data two.sided   ATF2         0.04914030   "
      ]
     },
     "metadata": {},
     "output_type": "display_data"
    }
   ],
   "source": [
    "filter(full.res, q.value < 0.05 & estimate < 1)"
   ]
  },
  {
   "cell_type": "code",
   "execution_count": null,
   "id": "a581358b",
   "metadata": {
    "vscode": {
     "languageId": "r"
    }
   },
   "outputs": [],
   "source": []
  },
  {
   "cell_type": "code",
   "execution_count": 142,
   "id": "0a017eb9",
   "metadata": {
    "vscode": {
     "languageId": "r"
    }
   },
   "outputs": [
    {
     "data": {
      "text/html": [
       "<table class=\"dataframe\">\n",
       "<caption>A data.frame: 524 × 3</caption>\n",
       "<thead>\n",
       "\t<tr><th scope=col>Feature</th><th scope=col>flag_NotInPeak</th><th scope=col>flag_InPeak</th></tr>\n",
       "\t<tr><th scope=col>&lt;chr&gt;</th><th scope=col>&lt;lgl&gt;</th><th scope=col>&lt;lgl&gt;</th></tr>\n",
       "</thead>\n",
       "<tbody>\n",
       "\t<tr><td>chr10:100561831-100563289</td><td> TRUE</td><td>FALSE</td></tr>\n",
       "\t<tr><td>chr10:1098535-1099801    </td><td> TRUE</td><td>FALSE</td></tr>\n",
       "\t<tr><td>chr10:114874558-114875529</td><td>FALSE</td><td> TRUE</td></tr>\n",
       "\t<tr><td>chr10:122232234-122233329</td><td> TRUE</td><td>FALSE</td></tr>\n",
       "\t<tr><td>chr10:122236597-122237639</td><td> TRUE</td><td>FALSE</td></tr>\n",
       "\t<tr><td>chr10:127089963-127090769</td><td> TRUE</td><td>FALSE</td></tr>\n",
       "\t<tr><td>chr10:130300414-130302038</td><td> TRUE</td><td>FALSE</td></tr>\n",
       "\t<tr><td>chr10:131453057-131454588</td><td> TRUE</td><td>FALSE</td></tr>\n",
       "\t<tr><td>chr10:133158860-133161494</td><td> TRUE</td><td>FALSE</td></tr>\n",
       "\t<tr><td>chr10:16383845-16384503  </td><td> TRUE</td><td>FALSE</td></tr>\n",
       "\t<tr><td>chr10:16890781-16892732  </td><td> TRUE</td><td>FALSE</td></tr>\n",
       "\t<tr><td>chr10:25293924-25295173  </td><td> TRUE</td><td>FALSE</td></tr>\n",
       "\t<tr><td>chr10:30604912-30606757  </td><td>FALSE</td><td>FALSE</td></tr>\n",
       "\t<tr><td>chr10:3136160-3137695    </td><td>FALSE</td><td> TRUE</td></tr>\n",
       "\t<tr><td>chr10:33139086-33139981  </td><td> TRUE</td><td>FALSE</td></tr>\n",
       "\t<tr><td>chr10:68826884-68827729  </td><td>FALSE</td><td> TRUE</td></tr>\n",
       "\t<tr><td>chr10:71956110-71957245  </td><td>FALSE</td><td>FALSE</td></tr>\n",
       "\t<tr><td>chr10:77455335-77456247  </td><td>FALSE</td><td> TRUE</td></tr>\n",
       "\t<tr><td>chr10:788915-789816      </td><td>FALSE</td><td> TRUE</td></tr>\n",
       "\t<tr><td>chr10:95528483-95529759  </td><td> TRUE</td><td>FALSE</td></tr>\n",
       "\t<tr><td>chr10:98267323-98270008  </td><td> TRUE</td><td>FALSE</td></tr>\n",
       "\t<tr><td>chr11:103591501-103592282</td><td> TRUE</td><td>FALSE</td></tr>\n",
       "\t<tr><td>chr11:118689318-118690634</td><td> TRUE</td><td>FALSE</td></tr>\n",
       "\t<tr><td>chr11:121964402-121965060</td><td>FALSE</td><td> TRUE</td></tr>\n",
       "\t<tr><td>chr11:12599149-12600165  </td><td> TRUE</td><td>FALSE</td></tr>\n",
       "\t<tr><td>chr11:134275665-134277404</td><td> TRUE</td><td>FALSE</td></tr>\n",
       "\t<tr><td>chr11:15194737-15196339  </td><td>FALSE</td><td> TRUE</td></tr>\n",
       "\t<tr><td>chr11:17734289-17736632  </td><td> TRUE</td><td>FALSE</td></tr>\n",
       "\t<tr><td>chr11:18668279-18670225  </td><td>FALSE</td><td> TRUE</td></tr>\n",
       "\t<tr><td>chr11:2940235-2941750    </td><td> TRUE</td><td>FALSE</td></tr>\n",
       "\t<tr><td>⋮</td><td>⋮</td><td>⋮</td></tr>\n",
       "\t<tr><td>chr8:23303402-23305812  </td><td> TRUE</td><td>FALSE</td></tr>\n",
       "\t<tr><td>chr8:3112769-3113674    </td><td>FALSE</td><td> TRUE</td></tr>\n",
       "\t<tr><td>chr8:73356062-73357221  </td><td>FALSE</td><td> TRUE</td></tr>\n",
       "\t<tr><td>chr8:8227406-8229392    </td><td> TRUE</td><td>FALSE</td></tr>\n",
       "\t<tr><td>chr8:8701415-8702819    </td><td> TRUE</td><td>FALSE</td></tr>\n",
       "\t<tr><td>chr8:88326894-88329071  </td><td> TRUE</td><td>FALSE</td></tr>\n",
       "\t<tr><td>chr8:9087914-9089157    </td><td>FALSE</td><td> TRUE</td></tr>\n",
       "\t<tr><td>chr8:97849339-97850548  </td><td>FALSE</td><td> TRUE</td></tr>\n",
       "\t<tr><td>chr9:104093533-104094671</td><td> TRUE</td><td>FALSE</td></tr>\n",
       "\t<tr><td>chr9:113343579-113344323</td><td>FALSE</td><td> TRUE</td></tr>\n",
       "\t<tr><td>chr9:115291698-115293257</td><td> TRUE</td><td>FALSE</td></tr>\n",
       "\t<tr><td>chr9:125513336-125514454</td><td>FALSE</td><td> TRUE</td></tr>\n",
       "\t<tr><td>chr9:131485242-131486491</td><td>FALSE</td><td> TRUE</td></tr>\n",
       "\t<tr><td>chr9:133273954-133276224</td><td>FALSE</td><td> TRUE</td></tr>\n",
       "\t<tr><td>chr9:134751296-134753130</td><td>FALSE</td><td> TRUE</td></tr>\n",
       "\t<tr><td>chr9:136348123-136349060</td><td> TRUE</td><td>FALSE</td></tr>\n",
       "\t<tr><td>chr9:136784895-136785969</td><td> TRUE</td><td>FALSE</td></tr>\n",
       "\t<tr><td>chr9:137261330-137262738</td><td>FALSE</td><td> TRUE</td></tr>\n",
       "\t<tr><td>chr9:138149689-138150981</td><td> TRUE</td><td>FALSE</td></tr>\n",
       "\t<tr><td>chr9:178952-179464      </td><td> TRUE</td><td>FALSE</td></tr>\n",
       "\t<tr><td>chr9:2735291-2736423    </td><td> TRUE</td><td>FALSE</td></tr>\n",
       "\t<tr><td>chr9:36764857-36766541  </td><td> TRUE</td><td>FALSE</td></tr>\n",
       "\t<tr><td>chr9:68356066-68357605  </td><td>FALSE</td><td>FALSE</td></tr>\n",
       "\t<tr><td>chr9:6931452-6932441    </td><td> TRUE</td><td>FALSE</td></tr>\n",
       "\t<tr><td>chr9:72305002-72305696  </td><td> TRUE</td><td>FALSE</td></tr>\n",
       "\t<tr><td>chr9:86281728-86283429  </td><td>FALSE</td><td> TRUE</td></tr>\n",
       "\t<tr><td>chr9:91633302-91634256  </td><td> TRUE</td><td>FALSE</td></tr>\n",
       "\t<tr><td>chr9:93133123-93135151  </td><td> TRUE</td><td>FALSE</td></tr>\n",
       "\t<tr><td>chr9:9640738-9641840    </td><td> TRUE</td><td>FALSE</td></tr>\n",
       "\t<tr><td>chr9:97306911-97308171  </td><td>FALSE</td><td> TRUE</td></tr>\n",
       "</tbody>\n",
       "</table>\n"
      ],
      "text/latex": [
       "A data.frame: 524 × 3\n",
       "\\begin{tabular}{lll}\n",
       " Feature & flag\\_NotInPeak & flag\\_InPeak\\\\\n",
       " <chr> & <lgl> & <lgl>\\\\\n",
       "\\hline\n",
       "\t chr10:100561831-100563289 &  TRUE & FALSE\\\\\n",
       "\t chr10:1098535-1099801     &  TRUE & FALSE\\\\\n",
       "\t chr10:114874558-114875529 & FALSE &  TRUE\\\\\n",
       "\t chr10:122232234-122233329 &  TRUE & FALSE\\\\\n",
       "\t chr10:122236597-122237639 &  TRUE & FALSE\\\\\n",
       "\t chr10:127089963-127090769 &  TRUE & FALSE\\\\\n",
       "\t chr10:130300414-130302038 &  TRUE & FALSE\\\\\n",
       "\t chr10:131453057-131454588 &  TRUE & FALSE\\\\\n",
       "\t chr10:133158860-133161494 &  TRUE & FALSE\\\\\n",
       "\t chr10:16383845-16384503   &  TRUE & FALSE\\\\\n",
       "\t chr10:16890781-16892732   &  TRUE & FALSE\\\\\n",
       "\t chr10:25293924-25295173   &  TRUE & FALSE\\\\\n",
       "\t chr10:30604912-30606757   & FALSE & FALSE\\\\\n",
       "\t chr10:3136160-3137695     & FALSE &  TRUE\\\\\n",
       "\t chr10:33139086-33139981   &  TRUE & FALSE\\\\\n",
       "\t chr10:68826884-68827729   & FALSE &  TRUE\\\\\n",
       "\t chr10:71956110-71957245   & FALSE & FALSE\\\\\n",
       "\t chr10:77455335-77456247   & FALSE &  TRUE\\\\\n",
       "\t chr10:788915-789816       & FALSE &  TRUE\\\\\n",
       "\t chr10:95528483-95529759   &  TRUE & FALSE\\\\\n",
       "\t chr10:98267323-98270008   &  TRUE & FALSE\\\\\n",
       "\t chr11:103591501-103592282 &  TRUE & FALSE\\\\\n",
       "\t chr11:118689318-118690634 &  TRUE & FALSE\\\\\n",
       "\t chr11:121964402-121965060 & FALSE &  TRUE\\\\\n",
       "\t chr11:12599149-12600165   &  TRUE & FALSE\\\\\n",
       "\t chr11:134275665-134277404 &  TRUE & FALSE\\\\\n",
       "\t chr11:15194737-15196339   & FALSE &  TRUE\\\\\n",
       "\t chr11:17734289-17736632   &  TRUE & FALSE\\\\\n",
       "\t chr11:18668279-18670225   & FALSE &  TRUE\\\\\n",
       "\t chr11:2940235-2941750     &  TRUE & FALSE\\\\\n",
       "\t ⋮ & ⋮ & ⋮\\\\\n",
       "\t chr8:23303402-23305812   &  TRUE & FALSE\\\\\n",
       "\t chr8:3112769-3113674     & FALSE &  TRUE\\\\\n",
       "\t chr8:73356062-73357221   & FALSE &  TRUE\\\\\n",
       "\t chr8:8227406-8229392     &  TRUE & FALSE\\\\\n",
       "\t chr8:8701415-8702819     &  TRUE & FALSE\\\\\n",
       "\t chr8:88326894-88329071   &  TRUE & FALSE\\\\\n",
       "\t chr8:9087914-9089157     & FALSE &  TRUE\\\\\n",
       "\t chr8:97849339-97850548   & FALSE &  TRUE\\\\\n",
       "\t chr9:104093533-104094671 &  TRUE & FALSE\\\\\n",
       "\t chr9:113343579-113344323 & FALSE &  TRUE\\\\\n",
       "\t chr9:115291698-115293257 &  TRUE & FALSE\\\\\n",
       "\t chr9:125513336-125514454 & FALSE &  TRUE\\\\\n",
       "\t chr9:131485242-131486491 & FALSE &  TRUE\\\\\n",
       "\t chr9:133273954-133276224 & FALSE &  TRUE\\\\\n",
       "\t chr9:134751296-134753130 & FALSE &  TRUE\\\\\n",
       "\t chr9:136348123-136349060 &  TRUE & FALSE\\\\\n",
       "\t chr9:136784895-136785969 &  TRUE & FALSE\\\\\n",
       "\t chr9:137261330-137262738 & FALSE &  TRUE\\\\\n",
       "\t chr9:138149689-138150981 &  TRUE & FALSE\\\\\n",
       "\t chr9:178952-179464       &  TRUE & FALSE\\\\\n",
       "\t chr9:2735291-2736423     &  TRUE & FALSE\\\\\n",
       "\t chr9:36764857-36766541   &  TRUE & FALSE\\\\\n",
       "\t chr9:68356066-68357605   & FALSE & FALSE\\\\\n",
       "\t chr9:6931452-6932441     &  TRUE & FALSE\\\\\n",
       "\t chr9:72305002-72305696   &  TRUE & FALSE\\\\\n",
       "\t chr9:86281728-86283429   & FALSE &  TRUE\\\\\n",
       "\t chr9:91633302-91634256   &  TRUE & FALSE\\\\\n",
       "\t chr9:93133123-93135151   &  TRUE & FALSE\\\\\n",
       "\t chr9:9640738-9641840     &  TRUE & FALSE\\\\\n",
       "\t chr9:97306911-97308171   & FALSE &  TRUE\\\\\n",
       "\\end{tabular}\n"
      ],
      "text/markdown": [
       "\n",
       "A data.frame: 524 × 3\n",
       "\n",
       "| Feature &lt;chr&gt; | flag_NotInPeak &lt;lgl&gt; | flag_InPeak &lt;lgl&gt; |\n",
       "|---|---|---|\n",
       "| chr10:100561831-100563289 |  TRUE | FALSE |\n",
       "| chr10:1098535-1099801     |  TRUE | FALSE |\n",
       "| chr10:114874558-114875529 | FALSE |  TRUE |\n",
       "| chr10:122232234-122233329 |  TRUE | FALSE |\n",
       "| chr10:122236597-122237639 |  TRUE | FALSE |\n",
       "| chr10:127089963-127090769 |  TRUE | FALSE |\n",
       "| chr10:130300414-130302038 |  TRUE | FALSE |\n",
       "| chr10:131453057-131454588 |  TRUE | FALSE |\n",
       "| chr10:133158860-133161494 |  TRUE | FALSE |\n",
       "| chr10:16383845-16384503   |  TRUE | FALSE |\n",
       "| chr10:16890781-16892732   |  TRUE | FALSE |\n",
       "| chr10:25293924-25295173   |  TRUE | FALSE |\n",
       "| chr10:30604912-30606757   | FALSE | FALSE |\n",
       "| chr10:3136160-3137695     | FALSE |  TRUE |\n",
       "| chr10:33139086-33139981   |  TRUE | FALSE |\n",
       "| chr10:68826884-68827729   | FALSE |  TRUE |\n",
       "| chr10:71956110-71957245   | FALSE | FALSE |\n",
       "| chr10:77455335-77456247   | FALSE |  TRUE |\n",
       "| chr10:788915-789816       | FALSE |  TRUE |\n",
       "| chr10:95528483-95529759   |  TRUE | FALSE |\n",
       "| chr10:98267323-98270008   |  TRUE | FALSE |\n",
       "| chr11:103591501-103592282 |  TRUE | FALSE |\n",
       "| chr11:118689318-118690634 |  TRUE | FALSE |\n",
       "| chr11:121964402-121965060 | FALSE |  TRUE |\n",
       "| chr11:12599149-12600165   |  TRUE | FALSE |\n",
       "| chr11:134275665-134277404 |  TRUE | FALSE |\n",
       "| chr11:15194737-15196339   | FALSE |  TRUE |\n",
       "| chr11:17734289-17736632   |  TRUE | FALSE |\n",
       "| chr11:18668279-18670225   | FALSE |  TRUE |\n",
       "| chr11:2940235-2941750     |  TRUE | FALSE |\n",
       "| ⋮ | ⋮ | ⋮ |\n",
       "| chr8:23303402-23305812   |  TRUE | FALSE |\n",
       "| chr8:3112769-3113674     | FALSE |  TRUE |\n",
       "| chr8:73356062-73357221   | FALSE |  TRUE |\n",
       "| chr8:8227406-8229392     |  TRUE | FALSE |\n",
       "| chr8:8701415-8702819     |  TRUE | FALSE |\n",
       "| chr8:88326894-88329071   |  TRUE | FALSE |\n",
       "| chr8:9087914-9089157     | FALSE |  TRUE |\n",
       "| chr8:97849339-97850548   | FALSE |  TRUE |\n",
       "| chr9:104093533-104094671 |  TRUE | FALSE |\n",
       "| chr9:113343579-113344323 | FALSE |  TRUE |\n",
       "| chr9:115291698-115293257 |  TRUE | FALSE |\n",
       "| chr9:125513336-125514454 | FALSE |  TRUE |\n",
       "| chr9:131485242-131486491 | FALSE |  TRUE |\n",
       "| chr9:133273954-133276224 | FALSE |  TRUE |\n",
       "| chr9:134751296-134753130 | FALSE |  TRUE |\n",
       "| chr9:136348123-136349060 |  TRUE | FALSE |\n",
       "| chr9:136784895-136785969 |  TRUE | FALSE |\n",
       "| chr9:137261330-137262738 | FALSE |  TRUE |\n",
       "| chr9:138149689-138150981 |  TRUE | FALSE |\n",
       "| chr9:178952-179464       |  TRUE | FALSE |\n",
       "| chr9:2735291-2736423     |  TRUE | FALSE |\n",
       "| chr9:36764857-36766541   |  TRUE | FALSE |\n",
       "| chr9:68356066-68357605   | FALSE | FALSE |\n",
       "| chr9:6931452-6932441     |  TRUE | FALSE |\n",
       "| chr9:72305002-72305696   |  TRUE | FALSE |\n",
       "| chr9:86281728-86283429   | FALSE |  TRUE |\n",
       "| chr9:91633302-91634256   |  TRUE | FALSE |\n",
       "| chr9:93133123-93135151   |  TRUE | FALSE |\n",
       "| chr9:9640738-9641840     |  TRUE | FALSE |\n",
       "| chr9:97306911-97308171   | FALSE |  TRUE |\n",
       "\n"
      ],
      "text/plain": [
       "    Feature                   flag_NotInPeak flag_InPeak\n",
       "1   chr10:100561831-100563289  TRUE          FALSE      \n",
       "2   chr10:1098535-1099801      TRUE          FALSE      \n",
       "3   chr10:114874558-114875529 FALSE           TRUE      \n",
       "4   chr10:122232234-122233329  TRUE          FALSE      \n",
       "5   chr10:122236597-122237639  TRUE          FALSE      \n",
       "6   chr10:127089963-127090769  TRUE          FALSE      \n",
       "7   chr10:130300414-130302038  TRUE          FALSE      \n",
       "8   chr10:131453057-131454588  TRUE          FALSE      \n",
       "9   chr10:133158860-133161494  TRUE          FALSE      \n",
       "10  chr10:16383845-16384503    TRUE          FALSE      \n",
       "11  chr10:16890781-16892732    TRUE          FALSE      \n",
       "12  chr10:25293924-25295173    TRUE          FALSE      \n",
       "13  chr10:30604912-30606757   FALSE          FALSE      \n",
       "14  chr10:3136160-3137695     FALSE           TRUE      \n",
       "15  chr10:33139086-33139981    TRUE          FALSE      \n",
       "16  chr10:68826884-68827729   FALSE           TRUE      \n",
       "17  chr10:71956110-71957245   FALSE          FALSE      \n",
       "18  chr10:77455335-77456247   FALSE           TRUE      \n",
       "19  chr10:788915-789816       FALSE           TRUE      \n",
       "20  chr10:95528483-95529759    TRUE          FALSE      \n",
       "21  chr10:98267323-98270008    TRUE          FALSE      \n",
       "22  chr11:103591501-103592282  TRUE          FALSE      \n",
       "23  chr11:118689318-118690634  TRUE          FALSE      \n",
       "24  chr11:121964402-121965060 FALSE           TRUE      \n",
       "25  chr11:12599149-12600165    TRUE          FALSE      \n",
       "26  chr11:134275665-134277404  TRUE          FALSE      \n",
       "27  chr11:15194737-15196339   FALSE           TRUE      \n",
       "28  chr11:17734289-17736632    TRUE          FALSE      \n",
       "29  chr11:18668279-18670225   FALSE           TRUE      \n",
       "30  chr11:2940235-2941750      TRUE          FALSE      \n",
       "⋮   ⋮                         ⋮              ⋮          \n",
       "495 chr8:23303402-23305812     TRUE          FALSE      \n",
       "496 chr8:3112769-3113674      FALSE           TRUE      \n",
       "497 chr8:73356062-73357221    FALSE           TRUE      \n",
       "498 chr8:8227406-8229392       TRUE          FALSE      \n",
       "499 chr8:8701415-8702819       TRUE          FALSE      \n",
       "500 chr8:88326894-88329071     TRUE          FALSE      \n",
       "501 chr8:9087914-9089157      FALSE           TRUE      \n",
       "502 chr8:97849339-97850548    FALSE           TRUE      \n",
       "503 chr9:104093533-104094671   TRUE          FALSE      \n",
       "504 chr9:113343579-113344323  FALSE           TRUE      \n",
       "505 chr9:115291698-115293257   TRUE          FALSE      \n",
       "506 chr9:125513336-125514454  FALSE           TRUE      \n",
       "507 chr9:131485242-131486491  FALSE           TRUE      \n",
       "508 chr9:133273954-133276224  FALSE           TRUE      \n",
       "509 chr9:134751296-134753130  FALSE           TRUE      \n",
       "510 chr9:136348123-136349060   TRUE          FALSE      \n",
       "511 chr9:136784895-136785969   TRUE          FALSE      \n",
       "512 chr9:137261330-137262738  FALSE           TRUE      \n",
       "513 chr9:138149689-138150981   TRUE          FALSE      \n",
       "514 chr9:178952-179464         TRUE          FALSE      \n",
       "515 chr9:2735291-2736423       TRUE          FALSE      \n",
       "516 chr9:36764857-36766541     TRUE          FALSE      \n",
       "517 chr9:68356066-68357605    FALSE          FALSE      \n",
       "518 chr9:6931452-6932441       TRUE          FALSE      \n",
       "519 chr9:72305002-72305696     TRUE          FALSE      \n",
       "520 chr9:86281728-86283429    FALSE           TRUE      \n",
       "521 chr9:91633302-91634256     TRUE          FALSE      \n",
       "522 chr9:93133123-93135151     TRUE          FALSE      \n",
       "523 chr9:9640738-9641840       TRUE          FALSE      \n",
       "524 chr9:97306911-97308171    FALSE           TRUE      "
      ]
     },
     "metadata": {},
     "output_type": "display_data"
    },
    {
     "data": {
      "text/html": [
       "<table class=\"dataframe\">\n",
       "<caption>A data.frame: 524 × 3</caption>\n",
       "<thead>\n",
       "\t<tr><th scope=col>Feature</th><th scope=col>flag_NotInPeak</th><th scope=col>flag_InPeak</th></tr>\n",
       "\t<tr><th scope=col>&lt;chr&gt;</th><th scope=col>&lt;lgl&gt;</th><th scope=col>&lt;lgl&gt;</th></tr>\n",
       "</thead>\n",
       "<tbody>\n",
       "\t<tr><td>chr10:100561831-100563289</td><td>FALSE</td><td> TRUE</td></tr>\n",
       "\t<tr><td>chr10:1098535-1099801    </td><td> TRUE</td><td>FALSE</td></tr>\n",
       "\t<tr><td>chr10:114874558-114875529</td><td>FALSE</td><td> TRUE</td></tr>\n",
       "\t<tr><td>chr10:122232234-122233329</td><td> TRUE</td><td>FALSE</td></tr>\n",
       "\t<tr><td>chr10:122236597-122237639</td><td>FALSE</td><td> TRUE</td></tr>\n",
       "\t<tr><td>chr10:127089963-127090769</td><td>FALSE</td><td> TRUE</td></tr>\n",
       "\t<tr><td>chr10:130300414-130302038</td><td>FALSE</td><td> TRUE</td></tr>\n",
       "\t<tr><td>chr10:131453057-131454588</td><td>FALSE</td><td> TRUE</td></tr>\n",
       "\t<tr><td>chr10:133158860-133161494</td><td>FALSE</td><td> TRUE</td></tr>\n",
       "\t<tr><td>chr10:16383845-16384503  </td><td>FALSE</td><td> TRUE</td></tr>\n",
       "\t<tr><td>chr10:16890781-16892732  </td><td>FALSE</td><td> TRUE</td></tr>\n",
       "\t<tr><td>chr10:25293924-25295173  </td><td> TRUE</td><td>FALSE</td></tr>\n",
       "\t<tr><td>chr10:30604912-30606757  </td><td>FALSE</td><td> TRUE</td></tr>\n",
       "\t<tr><td>chr10:3136160-3137695    </td><td>FALSE</td><td> TRUE</td></tr>\n",
       "\t<tr><td>chr10:33139086-33139981  </td><td>FALSE</td><td> TRUE</td></tr>\n",
       "\t<tr><td>chr10:68826884-68827729  </td><td>FALSE</td><td> TRUE</td></tr>\n",
       "\t<tr><td>chr10:71956110-71957245  </td><td>FALSE</td><td> TRUE</td></tr>\n",
       "\t<tr><td>chr10:77455335-77456247  </td><td>FALSE</td><td> TRUE</td></tr>\n",
       "\t<tr><td>chr10:788915-789816      </td><td>FALSE</td><td> TRUE</td></tr>\n",
       "\t<tr><td>chr10:95528483-95529759  </td><td>FALSE</td><td> TRUE</td></tr>\n",
       "\t<tr><td>chr10:98267323-98270008  </td><td>FALSE</td><td> TRUE</td></tr>\n",
       "\t<tr><td>chr11:103591501-103592282</td><td>FALSE</td><td> TRUE</td></tr>\n",
       "\t<tr><td>chr11:118689318-118690634</td><td>FALSE</td><td> TRUE</td></tr>\n",
       "\t<tr><td>chr11:121964402-121965060</td><td>FALSE</td><td> TRUE</td></tr>\n",
       "\t<tr><td>chr11:12599149-12600165  </td><td>FALSE</td><td> TRUE</td></tr>\n",
       "\t<tr><td>chr11:134275665-134277404</td><td> TRUE</td><td>FALSE</td></tr>\n",
       "\t<tr><td>chr11:15194737-15196339  </td><td>FALSE</td><td> TRUE</td></tr>\n",
       "\t<tr><td>chr11:17734289-17736632  </td><td>FALSE</td><td> TRUE</td></tr>\n",
       "\t<tr><td>chr11:18668279-18670225  </td><td>FALSE</td><td> TRUE</td></tr>\n",
       "\t<tr><td>chr11:2940235-2941750    </td><td>FALSE</td><td> TRUE</td></tr>\n",
       "\t<tr><td>⋮</td><td>⋮</td><td>⋮</td></tr>\n",
       "\t<tr><td>chr8:23303402-23305812  </td><td>FALSE</td><td> TRUE</td></tr>\n",
       "\t<tr><td>chr8:3112769-3113674    </td><td>FALSE</td><td> TRUE</td></tr>\n",
       "\t<tr><td>chr8:73356062-73357221  </td><td>FALSE</td><td> TRUE</td></tr>\n",
       "\t<tr><td>chr8:8227406-8229392    </td><td> TRUE</td><td>FALSE</td></tr>\n",
       "\t<tr><td>chr8:8701415-8702819    </td><td>FALSE</td><td> TRUE</td></tr>\n",
       "\t<tr><td>chr8:88326894-88329071  </td><td>FALSE</td><td> TRUE</td></tr>\n",
       "\t<tr><td>chr8:9087914-9089157    </td><td>FALSE</td><td> TRUE</td></tr>\n",
       "\t<tr><td>chr8:97849339-97850548  </td><td>FALSE</td><td> TRUE</td></tr>\n",
       "\t<tr><td>chr9:104093533-104094671</td><td>FALSE</td><td> TRUE</td></tr>\n",
       "\t<tr><td>chr9:113343579-113344323</td><td>FALSE</td><td> TRUE</td></tr>\n",
       "\t<tr><td>chr9:115291698-115293257</td><td> TRUE</td><td>FALSE</td></tr>\n",
       "\t<tr><td>chr9:125513336-125514454</td><td>FALSE</td><td> TRUE</td></tr>\n",
       "\t<tr><td>chr9:131485242-131486491</td><td>FALSE</td><td> TRUE</td></tr>\n",
       "\t<tr><td>chr9:133273954-133276224</td><td>FALSE</td><td> TRUE</td></tr>\n",
       "\t<tr><td>chr9:134751296-134753130</td><td>FALSE</td><td> TRUE</td></tr>\n",
       "\t<tr><td>chr9:136348123-136349060</td><td>FALSE</td><td> TRUE</td></tr>\n",
       "\t<tr><td>chr9:136784895-136785969</td><td>FALSE</td><td> TRUE</td></tr>\n",
       "\t<tr><td>chr9:137261330-137262738</td><td>FALSE</td><td> TRUE</td></tr>\n",
       "\t<tr><td>chr9:138149689-138150981</td><td> TRUE</td><td>FALSE</td></tr>\n",
       "\t<tr><td>chr9:178952-179464      </td><td>FALSE</td><td>FALSE</td></tr>\n",
       "\t<tr><td>chr9:2735291-2736423    </td><td>FALSE</td><td> TRUE</td></tr>\n",
       "\t<tr><td>chr9:36764857-36766541  </td><td> TRUE</td><td>FALSE</td></tr>\n",
       "\t<tr><td>chr9:68356066-68357605  </td><td>FALSE</td><td> TRUE</td></tr>\n",
       "\t<tr><td>chr9:6931452-6932441    </td><td>FALSE</td><td> TRUE</td></tr>\n",
       "\t<tr><td>chr9:72305002-72305696  </td><td>FALSE</td><td>FALSE</td></tr>\n",
       "\t<tr><td>chr9:86281728-86283429  </td><td>FALSE</td><td> TRUE</td></tr>\n",
       "\t<tr><td>chr9:91633302-91634256  </td><td>FALSE</td><td> TRUE</td></tr>\n",
       "\t<tr><td>chr9:93133123-93135151  </td><td>FALSE</td><td> TRUE</td></tr>\n",
       "\t<tr><td>chr9:9640738-9641840    </td><td> TRUE</td><td>FALSE</td></tr>\n",
       "\t<tr><td>chr9:97306911-97308171  </td><td>FALSE</td><td> TRUE</td></tr>\n",
       "</tbody>\n",
       "</table>\n"
      ],
      "text/latex": [
       "A data.frame: 524 × 3\n",
       "\\begin{tabular}{lll}\n",
       " Feature & flag\\_NotInPeak & flag\\_InPeak\\\\\n",
       " <chr> & <lgl> & <lgl>\\\\\n",
       "\\hline\n",
       "\t chr10:100561831-100563289 & FALSE &  TRUE\\\\\n",
       "\t chr10:1098535-1099801     &  TRUE & FALSE\\\\\n",
       "\t chr10:114874558-114875529 & FALSE &  TRUE\\\\\n",
       "\t chr10:122232234-122233329 &  TRUE & FALSE\\\\\n",
       "\t chr10:122236597-122237639 & FALSE &  TRUE\\\\\n",
       "\t chr10:127089963-127090769 & FALSE &  TRUE\\\\\n",
       "\t chr10:130300414-130302038 & FALSE &  TRUE\\\\\n",
       "\t chr10:131453057-131454588 & FALSE &  TRUE\\\\\n",
       "\t chr10:133158860-133161494 & FALSE &  TRUE\\\\\n",
       "\t chr10:16383845-16384503   & FALSE &  TRUE\\\\\n",
       "\t chr10:16890781-16892732   & FALSE &  TRUE\\\\\n",
       "\t chr10:25293924-25295173   &  TRUE & FALSE\\\\\n",
       "\t chr10:30604912-30606757   & FALSE &  TRUE\\\\\n",
       "\t chr10:3136160-3137695     & FALSE &  TRUE\\\\\n",
       "\t chr10:33139086-33139981   & FALSE &  TRUE\\\\\n",
       "\t chr10:68826884-68827729   & FALSE &  TRUE\\\\\n",
       "\t chr10:71956110-71957245   & FALSE &  TRUE\\\\\n",
       "\t chr10:77455335-77456247   & FALSE &  TRUE\\\\\n",
       "\t chr10:788915-789816       & FALSE &  TRUE\\\\\n",
       "\t chr10:95528483-95529759   & FALSE &  TRUE\\\\\n",
       "\t chr10:98267323-98270008   & FALSE &  TRUE\\\\\n",
       "\t chr11:103591501-103592282 & FALSE &  TRUE\\\\\n",
       "\t chr11:118689318-118690634 & FALSE &  TRUE\\\\\n",
       "\t chr11:121964402-121965060 & FALSE &  TRUE\\\\\n",
       "\t chr11:12599149-12600165   & FALSE &  TRUE\\\\\n",
       "\t chr11:134275665-134277404 &  TRUE & FALSE\\\\\n",
       "\t chr11:15194737-15196339   & FALSE &  TRUE\\\\\n",
       "\t chr11:17734289-17736632   & FALSE &  TRUE\\\\\n",
       "\t chr11:18668279-18670225   & FALSE &  TRUE\\\\\n",
       "\t chr11:2940235-2941750     & FALSE &  TRUE\\\\\n",
       "\t ⋮ & ⋮ & ⋮\\\\\n",
       "\t chr8:23303402-23305812   & FALSE &  TRUE\\\\\n",
       "\t chr8:3112769-3113674     & FALSE &  TRUE\\\\\n",
       "\t chr8:73356062-73357221   & FALSE &  TRUE\\\\\n",
       "\t chr8:8227406-8229392     &  TRUE & FALSE\\\\\n",
       "\t chr8:8701415-8702819     & FALSE &  TRUE\\\\\n",
       "\t chr8:88326894-88329071   & FALSE &  TRUE\\\\\n",
       "\t chr8:9087914-9089157     & FALSE &  TRUE\\\\\n",
       "\t chr8:97849339-97850548   & FALSE &  TRUE\\\\\n",
       "\t chr9:104093533-104094671 & FALSE &  TRUE\\\\\n",
       "\t chr9:113343579-113344323 & FALSE &  TRUE\\\\\n",
       "\t chr9:115291698-115293257 &  TRUE & FALSE\\\\\n",
       "\t chr9:125513336-125514454 & FALSE &  TRUE\\\\\n",
       "\t chr9:131485242-131486491 & FALSE &  TRUE\\\\\n",
       "\t chr9:133273954-133276224 & FALSE &  TRUE\\\\\n",
       "\t chr9:134751296-134753130 & FALSE &  TRUE\\\\\n",
       "\t chr9:136348123-136349060 & FALSE &  TRUE\\\\\n",
       "\t chr9:136784895-136785969 & FALSE &  TRUE\\\\\n",
       "\t chr9:137261330-137262738 & FALSE &  TRUE\\\\\n",
       "\t chr9:138149689-138150981 &  TRUE & FALSE\\\\\n",
       "\t chr9:178952-179464       & FALSE & FALSE\\\\\n",
       "\t chr9:2735291-2736423     & FALSE &  TRUE\\\\\n",
       "\t chr9:36764857-36766541   &  TRUE & FALSE\\\\\n",
       "\t chr9:68356066-68357605   & FALSE &  TRUE\\\\\n",
       "\t chr9:6931452-6932441     & FALSE &  TRUE\\\\\n",
       "\t chr9:72305002-72305696   & FALSE & FALSE\\\\\n",
       "\t chr9:86281728-86283429   & FALSE &  TRUE\\\\\n",
       "\t chr9:91633302-91634256   & FALSE &  TRUE\\\\\n",
       "\t chr9:93133123-93135151   & FALSE &  TRUE\\\\\n",
       "\t chr9:9640738-9641840     &  TRUE & FALSE\\\\\n",
       "\t chr9:97306911-97308171   & FALSE &  TRUE\\\\\n",
       "\\end{tabular}\n"
      ],
      "text/markdown": [
       "\n",
       "A data.frame: 524 × 3\n",
       "\n",
       "| Feature &lt;chr&gt; | flag_NotInPeak &lt;lgl&gt; | flag_InPeak &lt;lgl&gt; |\n",
       "|---|---|---|\n",
       "| chr10:100561831-100563289 | FALSE |  TRUE |\n",
       "| chr10:1098535-1099801     |  TRUE | FALSE |\n",
       "| chr10:114874558-114875529 | FALSE |  TRUE |\n",
       "| chr10:122232234-122233329 |  TRUE | FALSE |\n",
       "| chr10:122236597-122237639 | FALSE |  TRUE |\n",
       "| chr10:127089963-127090769 | FALSE |  TRUE |\n",
       "| chr10:130300414-130302038 | FALSE |  TRUE |\n",
       "| chr10:131453057-131454588 | FALSE |  TRUE |\n",
       "| chr10:133158860-133161494 | FALSE |  TRUE |\n",
       "| chr10:16383845-16384503   | FALSE |  TRUE |\n",
       "| chr10:16890781-16892732   | FALSE |  TRUE |\n",
       "| chr10:25293924-25295173   |  TRUE | FALSE |\n",
       "| chr10:30604912-30606757   | FALSE |  TRUE |\n",
       "| chr10:3136160-3137695     | FALSE |  TRUE |\n",
       "| chr10:33139086-33139981   | FALSE |  TRUE |\n",
       "| chr10:68826884-68827729   | FALSE |  TRUE |\n",
       "| chr10:71956110-71957245   | FALSE |  TRUE |\n",
       "| chr10:77455335-77456247   | FALSE |  TRUE |\n",
       "| chr10:788915-789816       | FALSE |  TRUE |\n",
       "| chr10:95528483-95529759   | FALSE |  TRUE |\n",
       "| chr10:98267323-98270008   | FALSE |  TRUE |\n",
       "| chr11:103591501-103592282 | FALSE |  TRUE |\n",
       "| chr11:118689318-118690634 | FALSE |  TRUE |\n",
       "| chr11:121964402-121965060 | FALSE |  TRUE |\n",
       "| chr11:12599149-12600165   | FALSE |  TRUE |\n",
       "| chr11:134275665-134277404 |  TRUE | FALSE |\n",
       "| chr11:15194737-15196339   | FALSE |  TRUE |\n",
       "| chr11:17734289-17736632   | FALSE |  TRUE |\n",
       "| chr11:18668279-18670225   | FALSE |  TRUE |\n",
       "| chr11:2940235-2941750     | FALSE |  TRUE |\n",
       "| ⋮ | ⋮ | ⋮ |\n",
       "| chr8:23303402-23305812   | FALSE |  TRUE |\n",
       "| chr8:3112769-3113674     | FALSE |  TRUE |\n",
       "| chr8:73356062-73357221   | FALSE |  TRUE |\n",
       "| chr8:8227406-8229392     |  TRUE | FALSE |\n",
       "| chr8:8701415-8702819     | FALSE |  TRUE |\n",
       "| chr8:88326894-88329071   | FALSE |  TRUE |\n",
       "| chr8:9087914-9089157     | FALSE |  TRUE |\n",
       "| chr8:97849339-97850548   | FALSE |  TRUE |\n",
       "| chr9:104093533-104094671 | FALSE |  TRUE |\n",
       "| chr9:113343579-113344323 | FALSE |  TRUE |\n",
       "| chr9:115291698-115293257 |  TRUE | FALSE |\n",
       "| chr9:125513336-125514454 | FALSE |  TRUE |\n",
       "| chr9:131485242-131486491 | FALSE |  TRUE |\n",
       "| chr9:133273954-133276224 | FALSE |  TRUE |\n",
       "| chr9:134751296-134753130 | FALSE |  TRUE |\n",
       "| chr9:136348123-136349060 | FALSE |  TRUE |\n",
       "| chr9:136784895-136785969 | FALSE |  TRUE |\n",
       "| chr9:137261330-137262738 | FALSE |  TRUE |\n",
       "| chr9:138149689-138150981 |  TRUE | FALSE |\n",
       "| chr9:178952-179464       | FALSE | FALSE |\n",
       "| chr9:2735291-2736423     | FALSE |  TRUE |\n",
       "| chr9:36764857-36766541   |  TRUE | FALSE |\n",
       "| chr9:68356066-68357605   | FALSE |  TRUE |\n",
       "| chr9:6931452-6932441     | FALSE |  TRUE |\n",
       "| chr9:72305002-72305696   | FALSE | FALSE |\n",
       "| chr9:86281728-86283429   | FALSE |  TRUE |\n",
       "| chr9:91633302-91634256   | FALSE |  TRUE |\n",
       "| chr9:93133123-93135151   | FALSE |  TRUE |\n",
       "| chr9:9640738-9641840     |  TRUE | FALSE |\n",
       "| chr9:97306911-97308171   | FALSE |  TRUE |\n",
       "\n"
      ],
      "text/plain": [
       "    Feature                   flag_NotInPeak flag_InPeak\n",
       "1   chr10:100561831-100563289 FALSE           TRUE      \n",
       "2   chr10:1098535-1099801      TRUE          FALSE      \n",
       "3   chr10:114874558-114875529 FALSE           TRUE      \n",
       "4   chr10:122232234-122233329  TRUE          FALSE      \n",
       "5   chr10:122236597-122237639 FALSE           TRUE      \n",
       "6   chr10:127089963-127090769 FALSE           TRUE      \n",
       "7   chr10:130300414-130302038 FALSE           TRUE      \n",
       "8   chr10:131453057-131454588 FALSE           TRUE      \n",
       "9   chr10:133158860-133161494 FALSE           TRUE      \n",
       "10  chr10:16383845-16384503   FALSE           TRUE      \n",
       "11  chr10:16890781-16892732   FALSE           TRUE      \n",
       "12  chr10:25293924-25295173    TRUE          FALSE      \n",
       "13  chr10:30604912-30606757   FALSE           TRUE      \n",
       "14  chr10:3136160-3137695     FALSE           TRUE      \n",
       "15  chr10:33139086-33139981   FALSE           TRUE      \n",
       "16  chr10:68826884-68827729   FALSE           TRUE      \n",
       "17  chr10:71956110-71957245   FALSE           TRUE      \n",
       "18  chr10:77455335-77456247   FALSE           TRUE      \n",
       "19  chr10:788915-789816       FALSE           TRUE      \n",
       "20  chr10:95528483-95529759   FALSE           TRUE      \n",
       "21  chr10:98267323-98270008   FALSE           TRUE      \n",
       "22  chr11:103591501-103592282 FALSE           TRUE      \n",
       "23  chr11:118689318-118690634 FALSE           TRUE      \n",
       "24  chr11:121964402-121965060 FALSE           TRUE      \n",
       "25  chr11:12599149-12600165   FALSE           TRUE      \n",
       "26  chr11:134275665-134277404  TRUE          FALSE      \n",
       "27  chr11:15194737-15196339   FALSE           TRUE      \n",
       "28  chr11:17734289-17736632   FALSE           TRUE      \n",
       "29  chr11:18668279-18670225   FALSE           TRUE      \n",
       "30  chr11:2940235-2941750     FALSE           TRUE      \n",
       "⋮   ⋮                         ⋮              ⋮          \n",
       "495 chr8:23303402-23305812    FALSE           TRUE      \n",
       "496 chr8:3112769-3113674      FALSE           TRUE      \n",
       "497 chr8:73356062-73357221    FALSE           TRUE      \n",
       "498 chr8:8227406-8229392       TRUE          FALSE      \n",
       "499 chr8:8701415-8702819      FALSE           TRUE      \n",
       "500 chr8:88326894-88329071    FALSE           TRUE      \n",
       "501 chr8:9087914-9089157      FALSE           TRUE      \n",
       "502 chr8:97849339-97850548    FALSE           TRUE      \n",
       "503 chr9:104093533-104094671  FALSE           TRUE      \n",
       "504 chr9:113343579-113344323  FALSE           TRUE      \n",
       "505 chr9:115291698-115293257   TRUE          FALSE      \n",
       "506 chr9:125513336-125514454  FALSE           TRUE      \n",
       "507 chr9:131485242-131486491  FALSE           TRUE      \n",
       "508 chr9:133273954-133276224  FALSE           TRUE      \n",
       "509 chr9:134751296-134753130  FALSE           TRUE      \n",
       "510 chr9:136348123-136349060  FALSE           TRUE      \n",
       "511 chr9:136784895-136785969  FALSE           TRUE      \n",
       "512 chr9:137261330-137262738  FALSE           TRUE      \n",
       "513 chr9:138149689-138150981   TRUE          FALSE      \n",
       "514 chr9:178952-179464        FALSE          FALSE      \n",
       "515 chr9:2735291-2736423      FALSE           TRUE      \n",
       "516 chr9:36764857-36766541     TRUE          FALSE      \n",
       "517 chr9:68356066-68357605    FALSE           TRUE      \n",
       "518 chr9:6931452-6932441      FALSE           TRUE      \n",
       "519 chr9:72305002-72305696    FALSE          FALSE      \n",
       "520 chr9:86281728-86283429    FALSE           TRUE      \n",
       "521 chr9:91633302-91634256    FALSE           TRUE      \n",
       "522 chr9:93133123-93135151    FALSE           TRUE      \n",
       "523 chr9:9640738-9641840       TRUE          FALSE      \n",
       "524 chr9:97306911-97308171    FALSE           TRUE      "
      ]
     },
     "metadata": {},
     "output_type": "display_data"
    }
   ],
   "source": [
    "all.intersect.Feat"
   ]
  },
  {
   "cell_type": "code",
   "execution_count": 163,
   "id": "d7dca8af",
   "metadata": {
    "vscode": {
     "languageId": "r"
    }
   },
   "outputs": [
    {
     "data": {
      "text/html": [
       "<style>\n",
       ".list-inline {list-style: none; margin:0; padding: 0}\n",
       ".list-inline>li {display: inline-block}\n",
       ".list-inline>li:not(:last-child)::after {content: \"\\00b7\"; padding: 0 .5ex}\n",
       "</style>\n",
       "<ol class=list-inline><li>14528</li><li>2</li></ol>\n"
      ],
      "text/latex": [
       "\\begin{enumerate*}\n",
       "\\item 14528\n",
       "\\item 2\n",
       "\\end{enumerate*}\n"
      ],
      "text/markdown": [
       "1. 14528\n",
       "2. 2\n",
       "\n",
       "\n"
      ],
      "text/plain": [
       "[1] 14528     2"
      ]
     },
     "metadata": {},
     "output_type": "display_data"
    },
    {
     "data": {
      "text/html": [
       "<table class=\"dataframe\">\n",
       "<caption>A tibble: 6 × 2</caption>\n",
       "<thead>\n",
       "\t<tr><th scope=col>Feature</th><th scope=col>flag_AllNotInPeak</th></tr>\n",
       "\t<tr><th scope=col>&lt;chr&gt;</th><th scope=col>&lt;lgl&gt;</th></tr>\n",
       "</thead>\n",
       "<tbody>\n",
       "\t<tr><td>chr10:100006062-100006793</td><td>FALSE</td></tr>\n",
       "\t<tr><td>chr10:100101427-100102098</td><td>FALSE</td></tr>\n",
       "\t<tr><td>chr10:100346335-100347694</td><td>FALSE</td></tr>\n",
       "\t<tr><td>chr10:100561831-100563289</td><td>FALSE</td></tr>\n",
       "\t<tr><td>chr10:100655787-100656966</td><td>FALSE</td></tr>\n",
       "\t<tr><td>chr10:100739264-100740209</td><td>FALSE</td></tr>\n",
       "</tbody>\n",
       "</table>\n"
      ],
      "text/latex": [
       "A tibble: 6 × 2\n",
       "\\begin{tabular}{ll}\n",
       " Feature & flag\\_AllNotInPeak\\\\\n",
       " <chr> & <lgl>\\\\\n",
       "\\hline\n",
       "\t chr10:100006062-100006793 & FALSE\\\\\n",
       "\t chr10:100101427-100102098 & FALSE\\\\\n",
       "\t chr10:100346335-100347694 & FALSE\\\\\n",
       "\t chr10:100561831-100563289 & FALSE\\\\\n",
       "\t chr10:100655787-100656966 & FALSE\\\\\n",
       "\t chr10:100739264-100740209 & FALSE\\\\\n",
       "\\end{tabular}\n"
      ],
      "text/markdown": [
       "\n",
       "A tibble: 6 × 2\n",
       "\n",
       "| Feature &lt;chr&gt; | flag_AllNotInPeak &lt;lgl&gt; |\n",
       "|---|---|\n",
       "| chr10:100006062-100006793 | FALSE |\n",
       "| chr10:100101427-100102098 | FALSE |\n",
       "| chr10:100346335-100347694 | FALSE |\n",
       "| chr10:100561831-100563289 | FALSE |\n",
       "| chr10:100655787-100656966 | FALSE |\n",
       "| chr10:100739264-100740209 | FALSE |\n",
       "\n"
      ],
      "text/plain": [
       "  Feature                   flag_AllNotInPeak\n",
       "1 chr10:100006062-100006793 FALSE            \n",
       "2 chr10:100101427-100102098 FALSE            \n",
       "3 chr10:100346335-100347694 FALSE            \n",
       "4 chr10:100561831-100563289 FALSE            \n",
       "5 chr10:100655787-100656966 FALSE            \n",
       "6 chr10:100739264-100740209 FALSE            "
      ]
     },
     "metadata": {},
     "output_type": "display_data"
    }
   ],
   "source": [
    "combined.all.Feat <- data.frame()\n",
    "\n",
    "for (c in cell_types_tested) {\n",
    "    all.intersect.Feat <- read.table(paste0(intermediates.dir, c, '_all_sum_stats_run1F_intersect_flag_by_feature.tsv'), \n",
    "                header=T, sep='\\t')\n",
    "    #all.intersect.Feat$cell <- c\n",
    "    combined.all.Feat <- rbind(combined.all.Feat, all.intersect.Feat)\n",
    "}\n",
    "\n",
    "combined.all.Feat <- group_by(combined.all.Feat, Feature) %>%\n",
    "                        select(Feature, flag_NotInPeak) %>%\n",
    "                        summarise(flag_AllNotInPeak = all(flag_NotInPeak))\n",
    "combined.all.Feat <- select(combined.all.Feat, Feature, flag_AllNotInPeak)\n",
    "combined.all.Feat <- distinct(combined.all.Feat)\n",
    "\n",
    "dim(combined.all.Feat)\n",
    "head(combined.all.Feat)"
   ]
  },
  {
   "cell_type": "code",
   "execution_count": 164,
   "id": "e98b5b33",
   "metadata": {
    "vscode": {
     "languageId": "r"
    }
   },
   "outputs": [
    {
     "data": {
      "text/html": [
       "14528"
      ],
      "text/latex": [
       "14528"
      ],
      "text/markdown": [
       "14528"
      ],
      "text/plain": [
       "[1] 14528"
      ]
     },
     "metadata": {},
     "output_type": "display_data"
    },
    {
     "data": {
      "text/html": [
       "14528"
      ],
      "text/latex": [
       "14528"
      ],
      "text/markdown": [
       "14528"
      ],
      "text/plain": [
       "[1] 14528"
      ]
     },
     "metadata": {},
     "output_type": "display_data"
    }
   ],
   "source": [
    "length(unique(combined_lead$Feature))\n",
    "length(unique(combined.all.Feat$Feature))"
   ]
  },
  {
   "cell_type": "code",
   "execution_count": 165,
   "id": "1f909a25",
   "metadata": {
    "vscode": {
     "languageId": "r"
    }
   },
   "outputs": [
    {
     "name": "stderr",
     "output_type": "stream",
     "text": [
      "\u001b[1m\u001b[22mJoining with `by = join_by(Feature)`\n"
     ]
    },
    {
     "data": {
      "text/html": [
       "<style>\n",
       ".list-inline {list-style: none; margin:0; padding: 0}\n",
       ".list-inline>li {display: inline-block}\n",
       ".list-inline>li:not(:last-child)::after {content: \"\\00b7\"; padding: 0 .5ex}\n",
       "</style>\n",
       "<ol class=list-inline><li>26179</li><li>35</li></ol>\n"
      ],
      "text/latex": [
       "\\begin{enumerate*}\n",
       "\\item 26179\n",
       "\\item 35\n",
       "\\end{enumerate*}\n"
      ],
      "text/markdown": [
       "1. 26179\n",
       "2. 35\n",
       "\n",
       "\n"
      ],
      "text/plain": [
       "[1] 26179    35"
      ]
     },
     "metadata": {},
     "output_type": "display_data"
    },
    {
     "data": {
      "text/html": [
       "<table class=\"dataframe\">\n",
       "<caption>A tibble: 6 × 35</caption>\n",
       "<thead>\n",
       "\t<tr><th scope=col>Feature</th><th scope=col>rsID</th><th scope=col>Chromosome</th><th scope=col>position</th><th scope=col>Ref</th><th scope=col>Alt</th><th scope=col>Af</th><th scope=col>HWEChi_square</th><th scope=col>IA</th><th scope=col>Log10_qval</th><th scope=col>⋯</th><th scope=col>P_VAl</th><th scope=col>dist</th><th scope=col>flag_fdr10</th><th scope=col>flag_fdr05</th><th scope=col>flag_fdr01</th><th scope=col>In.Feature</th><th scope=col>Peak.Intersect.State</th><th scope=col>flag_InPeak</th><th scope=col>flag_NotInPeak</th><th scope=col>flag_AllNotInPeak</th></tr>\n",
       "\t<tr><th scope=col>&lt;chr&gt;</th><th scope=col>&lt;chr&gt;</th><th scope=col>&lt;chr&gt;</th><th scope=col>&lt;dbl&gt;</th><th scope=col>&lt;chr&gt;</th><th scope=col>&lt;chr&gt;</th><th scope=col>&lt;dbl&gt;</th><th scope=col>&lt;dbl&gt;</th><th scope=col>&lt;dbl&gt;</th><th scope=col>&lt;dbl&gt;</th><th scope=col>⋯</th><th scope=col>&lt;dbl&gt;</th><th scope=col>&lt;dbl&gt;</th><th scope=col>&lt;lgl&gt;</th><th scope=col>&lt;lgl&gt;</th><th scope=col>&lt;lgl&gt;</th><th scope=col>&lt;chr&gt;</th><th scope=col>&lt;chr&gt;</th><th scope=col>&lt;lgl&gt;</th><th scope=col>&lt;lgl&gt;</th><th scope=col>&lt;lgl&gt;</th></tr>\n",
       "</thead>\n",
       "<tbody>\n",
       "\t<tr><td>chr6:32622377-32623439 </td><td>chr6:32620608:T:A </td><td>chr6 </td><td>32620608</td><td>T</td><td>A</td><td>0.425926</td><td>2.231991</td><td>0.998678</td><td>-67.03611</td><td>⋯</td><td>8.976233e-71</td><td>-2300</td><td>TRUE</td><td>TRUE</td><td>TRUE</td><td>NA                     </td><td>Not.In.Peak  </td><td>FALSE</td><td> TRUE</td><td>FALSE</td></tr>\n",
       "\t<tr><td>chr9:6931452-6932441   </td><td>chr9:6929401:T:A  </td><td>chr9 </td><td> 6929401</td><td>T</td><td>A</td><td>0.333333</td><td>0.750000</td><td>0.993936</td><td>-36.60879</td><td>⋯</td><td>1.925609e-38</td><td>-2545</td><td>TRUE</td><td>TRUE</td><td>TRUE</td><td>NA                     </td><td>Not.In.Peak  </td><td>FALSE</td><td> TRUE</td><td>FALSE</td></tr>\n",
       "\t<tr><td>chr4:7164816-7165698   </td><td>chr4:7160692:T:C  </td><td>chr4 </td><td> 7160692</td><td>T</td><td>C</td><td>0.277778</td><td>0.006391</td><td>0.999935</td><td>-32.46831</td><td>⋯</td><td>1.502522e-34</td><td>-4565</td><td>TRUE</td><td>TRUE</td><td>TRUE</td><td>chr4:7160139-7160834   </td><td>In.Other.Peak</td><td>FALSE</td><td>FALSE</td><td>FALSE</td></tr>\n",
       "\t<tr><td>chr9:93230239-93231938 </td><td>chr9:93231475:G:A </td><td>chr9 </td><td>93231475</td><td>G</td><td>A</td><td>0.222222</td><td>0.137755</td><td>0.999392</td><td>-30.83427</td><td>⋯</td><td>3.105136e-32</td><td>  387</td><td>TRUE</td><td>TRUE</td><td>TRUE</td><td>chr9:93230239-93231938 </td><td>In.caQTL.Peak</td><td> TRUE</td><td>FALSE</td><td>FALSE</td></tr>\n",
       "\t<tr><td>chr17:76968760-76970675</td><td>chr17:76972946:C:A</td><td>chr17</td><td>76972946</td><td>C</td><td>A</td><td>0.296296</td><td>0.337734</td><td>0.980182</td><td>-29.73370</td><td>⋯</td><td>4.969777e-32</td><td> 3228</td><td>TRUE</td><td>TRUE</td><td>TRUE</td><td>NA                     </td><td>Not.In.Peak  </td><td>FALSE</td><td> TRUE</td><td>FALSE</td></tr>\n",
       "\t<tr><td>chr21:13979625-13980808</td><td>chr21:13980560:G:C</td><td>chr21</td><td>13980560</td><td>G</td><td>C</td><td>0.314815</td><td>0.083599</td><td>0.930667</td><td>-27.70426</td><td>⋯</td><td>7.793799e-30</td><td>  344</td><td>TRUE</td><td>TRUE</td><td>TRUE</td><td>chr21:13979625-13980808</td><td>In.caQTL.Peak</td><td> TRUE</td><td>FALSE</td><td>FALSE</td></tr>\n",
       "</tbody>\n",
       "</table>\n"
      ],
      "text/latex": [
       "A tibble: 6 × 35\n",
       "\\begin{tabular}{lllllllllllllllllllll}\n",
       " Feature & rsID & Chromosome & position & Ref & Alt & Af & HWEChi\\_square & IA & Log10\\_qval & ⋯ & P\\_VAl & dist & flag\\_fdr10 & flag\\_fdr05 & flag\\_fdr01 & In.Feature & Peak.Intersect.State & flag\\_InPeak & flag\\_NotInPeak & flag\\_AllNotInPeak\\\\\n",
       " <chr> & <chr> & <chr> & <dbl> & <chr> & <chr> & <dbl> & <dbl> & <dbl> & <dbl> & ⋯ & <dbl> & <dbl> & <lgl> & <lgl> & <lgl> & <chr> & <chr> & <lgl> & <lgl> & <lgl>\\\\\n",
       "\\hline\n",
       "\t chr6:32622377-32623439  & chr6:32620608:T:A  & chr6  & 32620608 & T & A & 0.425926 & 2.231991 & 0.998678 & -67.03611 & ⋯ & 8.976233e-71 & -2300 & TRUE & TRUE & TRUE & NA                      & Not.In.Peak   & FALSE &  TRUE & FALSE\\\\\n",
       "\t chr9:6931452-6932441    & chr9:6929401:T:A   & chr9  &  6929401 & T & A & 0.333333 & 0.750000 & 0.993936 & -36.60879 & ⋯ & 1.925609e-38 & -2545 & TRUE & TRUE & TRUE & NA                      & Not.In.Peak   & FALSE &  TRUE & FALSE\\\\\n",
       "\t chr4:7164816-7165698    & chr4:7160692:T:C   & chr4  &  7160692 & T & C & 0.277778 & 0.006391 & 0.999935 & -32.46831 & ⋯ & 1.502522e-34 & -4565 & TRUE & TRUE & TRUE & chr4:7160139-7160834    & In.Other.Peak & FALSE & FALSE & FALSE\\\\\n",
       "\t chr9:93230239-93231938  & chr9:93231475:G:A  & chr9  & 93231475 & G & A & 0.222222 & 0.137755 & 0.999392 & -30.83427 & ⋯ & 3.105136e-32 &   387 & TRUE & TRUE & TRUE & chr9:93230239-93231938  & In.caQTL.Peak &  TRUE & FALSE & FALSE\\\\\n",
       "\t chr17:76968760-76970675 & chr17:76972946:C:A & chr17 & 76972946 & C & A & 0.296296 & 0.337734 & 0.980182 & -29.73370 & ⋯ & 4.969777e-32 &  3228 & TRUE & TRUE & TRUE & NA                      & Not.In.Peak   & FALSE &  TRUE & FALSE\\\\\n",
       "\t chr21:13979625-13980808 & chr21:13980560:G:C & chr21 & 13980560 & G & C & 0.314815 & 0.083599 & 0.930667 & -27.70426 & ⋯ & 7.793799e-30 &   344 & TRUE & TRUE & TRUE & chr21:13979625-13980808 & In.caQTL.Peak &  TRUE & FALSE & FALSE\\\\\n",
       "\\end{tabular}\n"
      ],
      "text/markdown": [
       "\n",
       "A tibble: 6 × 35\n",
       "\n",
       "| Feature &lt;chr&gt; | rsID &lt;chr&gt; | Chromosome &lt;chr&gt; | position &lt;dbl&gt; | Ref &lt;chr&gt; | Alt &lt;chr&gt; | Af &lt;dbl&gt; | HWEChi_square &lt;dbl&gt; | IA &lt;dbl&gt; | Log10_qval &lt;dbl&gt; | ⋯ ⋯ | P_VAl &lt;dbl&gt; | dist &lt;dbl&gt; | flag_fdr10 &lt;lgl&gt; | flag_fdr05 &lt;lgl&gt; | flag_fdr01 &lt;lgl&gt; | In.Feature &lt;chr&gt; | Peak.Intersect.State &lt;chr&gt; | flag_InPeak &lt;lgl&gt; | flag_NotInPeak &lt;lgl&gt; | flag_AllNotInPeak &lt;lgl&gt; |\n",
       "|---|---|---|---|---|---|---|---|---|---|---|---|---|---|---|---|---|---|---|---|---|\n",
       "| chr6:32622377-32623439  | chr6:32620608:T:A  | chr6  | 32620608 | T | A | 0.425926 | 2.231991 | 0.998678 | -67.03611 | ⋯ | 8.976233e-71 | -2300 | TRUE | TRUE | TRUE | NA                      | Not.In.Peak   | FALSE |  TRUE | FALSE |\n",
       "| chr9:6931452-6932441    | chr9:6929401:T:A   | chr9  |  6929401 | T | A | 0.333333 | 0.750000 | 0.993936 | -36.60879 | ⋯ | 1.925609e-38 | -2545 | TRUE | TRUE | TRUE | NA                      | Not.In.Peak   | FALSE |  TRUE | FALSE |\n",
       "| chr4:7164816-7165698    | chr4:7160692:T:C   | chr4  |  7160692 | T | C | 0.277778 | 0.006391 | 0.999935 | -32.46831 | ⋯ | 1.502522e-34 | -4565 | TRUE | TRUE | TRUE | chr4:7160139-7160834    | In.Other.Peak | FALSE | FALSE | FALSE |\n",
       "| chr9:93230239-93231938  | chr9:93231475:G:A  | chr9  | 93231475 | G | A | 0.222222 | 0.137755 | 0.999392 | -30.83427 | ⋯ | 3.105136e-32 |   387 | TRUE | TRUE | TRUE | chr9:93230239-93231938  | In.caQTL.Peak |  TRUE | FALSE | FALSE |\n",
       "| chr17:76968760-76970675 | chr17:76972946:C:A | chr17 | 76972946 | C | A | 0.296296 | 0.337734 | 0.980182 | -29.73370 | ⋯ | 4.969777e-32 |  3228 | TRUE | TRUE | TRUE | NA                      | Not.In.Peak   | FALSE |  TRUE | FALSE |\n",
       "| chr21:13979625-13980808 | chr21:13980560:G:C | chr21 | 13980560 | G | C | 0.314815 | 0.083599 | 0.930667 | -27.70426 | ⋯ | 7.793799e-30 |   344 | TRUE | TRUE | TRUE | chr21:13979625-13980808 | In.caQTL.Peak |  TRUE | FALSE | FALSE |\n",
       "\n"
      ],
      "text/plain": [
       "  Feature                 rsID               Chromosome position Ref Alt\n",
       "1 chr6:32622377-32623439  chr6:32620608:T:A  chr6       32620608 T   A  \n",
       "2 chr9:6931452-6932441    chr9:6929401:T:A   chr9        6929401 T   A  \n",
       "3 chr4:7164816-7165698    chr4:7160692:T:C   chr4        7160692 T   C  \n",
       "4 chr9:93230239-93231938  chr9:93231475:G:A  chr9       93231475 G   A  \n",
       "5 chr17:76968760-76970675 chr17:76972946:C:A chr17      76972946 C   A  \n",
       "6 chr21:13979625-13980808 chr21:13980560:G:C chr21      13980560 G   C  \n",
       "  Af       HWEChi_square IA       Log10_qval ⋯ P_VAl        dist  flag_fdr10\n",
       "1 0.425926 2.231991      0.998678 -67.03611  ⋯ 8.976233e-71 -2300 TRUE      \n",
       "2 0.333333 0.750000      0.993936 -36.60879  ⋯ 1.925609e-38 -2545 TRUE      \n",
       "3 0.277778 0.006391      0.999935 -32.46831  ⋯ 1.502522e-34 -4565 TRUE      \n",
       "4 0.222222 0.137755      0.999392 -30.83427  ⋯ 3.105136e-32   387 TRUE      \n",
       "5 0.296296 0.337734      0.980182 -29.73370  ⋯ 4.969777e-32  3228 TRUE      \n",
       "6 0.314815 0.083599      0.930667 -27.70426  ⋯ 7.793799e-30   344 TRUE      \n",
       "  flag_fdr05 flag_fdr01 In.Feature              Peak.Intersect.State\n",
       "1 TRUE       TRUE       NA                      Not.In.Peak         \n",
       "2 TRUE       TRUE       NA                      Not.In.Peak         \n",
       "3 TRUE       TRUE       chr4:7160139-7160834    In.Other.Peak       \n",
       "4 TRUE       TRUE       chr9:93230239-93231938  In.caQTL.Peak       \n",
       "5 TRUE       TRUE       NA                      Not.In.Peak         \n",
       "6 TRUE       TRUE       chr21:13979625-13980808 In.caQTL.Peak       \n",
       "  flag_InPeak flag_NotInPeak flag_AllNotInPeak\n",
       "1 FALSE        TRUE          FALSE            \n",
       "2 FALSE        TRUE          FALSE            \n",
       "3 FALSE       FALSE          FALSE            \n",
       "4  TRUE       FALSE          FALSE            \n",
       "5 FALSE        TRUE          FALSE            \n",
       "6  TRUE       FALSE          FALSE            "
      ]
     },
     "metadata": {},
     "output_type": "display_data"
    }
   ],
   "source": [
    "combined_lead_all_flag <- left_join(combined_lead, combined.all.Feat)\n",
    "\n",
    "dim(combined_lead_all_flag)\n",
    "head(combined_lead_all_flag)"
   ]
  },
  {
   "cell_type": "code",
   "execution_count": 179,
   "id": "56319141",
   "metadata": {
    "scrolled": true,
    "vscode": {
     "languageId": "r"
    }
   },
   "outputs": [
    {
     "data": {
      "text/html": [
       "<style>\n",
       ".list-inline {list-style: none; margin:0; padding: 0}\n",
       ".list-inline>li {display: inline-block}\n",
       ".list-inline>li:not(:last-child)::after {content: \"\\00b7\"; padding: 0 .5ex}\n",
       "</style>\n",
       "<ol class=list-inline><li>20618</li><li>2</li></ol>\n"
      ],
      "text/latex": [
       "\\begin{enumerate*}\n",
       "\\item 20618\n",
       "\\item 2\n",
       "\\end{enumerate*}\n"
      ],
      "text/markdown": [
       "1. 20618\n",
       "2. 2\n",
       "\n",
       "\n"
      ],
      "text/plain": [
       "[1] 20618     2"
      ]
     },
     "metadata": {},
     "output_type": "display_data"
    },
    {
     "data": {
      "text/html": [
       "<table class=\"dataframe\">\n",
       "<caption>A tibble: 6 × 2</caption>\n",
       "<thead>\n",
       "\t<tr><th scope=col>rsID</th><th scope=col>flag_AllNotInPeak</th></tr>\n",
       "\t<tr><th scope=col>&lt;chr&gt;</th><th scope=col>&lt;lgl&gt;</th></tr>\n",
       "</thead>\n",
       "<tbody>\n",
       "\t<tr><td>chr10:100006744:C:G</td><td>FALSE</td></tr>\n",
       "\t<tr><td>chr10:100101678:G:A</td><td>FALSE</td></tr>\n",
       "\t<tr><td>chr10:100107759:T:C</td><td>FALSE</td></tr>\n",
       "\t<tr><td>chr10:1002403:T:C  </td><td>FALSE</td></tr>\n",
       "\t<tr><td>chr10:100346031:G:A</td><td>FALSE</td></tr>\n",
       "\t<tr><td>chr10:100562143:C:G</td><td>FALSE</td></tr>\n",
       "</tbody>\n",
       "</table>\n"
      ],
      "text/latex": [
       "A tibble: 6 × 2\n",
       "\\begin{tabular}{ll}\n",
       " rsID & flag\\_AllNotInPeak\\\\\n",
       " <chr> & <lgl>\\\\\n",
       "\\hline\n",
       "\t chr10:100006744:C:G & FALSE\\\\\n",
       "\t chr10:100101678:G:A & FALSE\\\\\n",
       "\t chr10:100107759:T:C & FALSE\\\\\n",
       "\t chr10:1002403:T:C   & FALSE\\\\\n",
       "\t chr10:100346031:G:A & FALSE\\\\\n",
       "\t chr10:100562143:C:G & FALSE\\\\\n",
       "\\end{tabular}\n"
      ],
      "text/markdown": [
       "\n",
       "A tibble: 6 × 2\n",
       "\n",
       "| rsID &lt;chr&gt; | flag_AllNotInPeak &lt;lgl&gt; |\n",
       "|---|---|\n",
       "| chr10:100006744:C:G | FALSE |\n",
       "| chr10:100101678:G:A | FALSE |\n",
       "| chr10:100107759:T:C | FALSE |\n",
       "| chr10:1002403:T:C   | FALSE |\n",
       "| chr10:100346031:G:A | FALSE |\n",
       "| chr10:100562143:C:G | FALSE |\n",
       "\n"
      ],
      "text/plain": [
       "  rsID                flag_AllNotInPeak\n",
       "1 chr10:100006744:C:G FALSE            \n",
       "2 chr10:100101678:G:A FALSE            \n",
       "3 chr10:100107759:T:C FALSE            \n",
       "4 chr10:1002403:T:C   FALSE            \n",
       "5 chr10:100346031:G:A FALSE            \n",
       "6 chr10:100562143:C:G FALSE            "
      ]
     },
     "metadata": {},
     "output_type": "display_data"
    }
   ],
   "source": [
    "#select(combined_lead_all_flag, rsID, flag_AllNotInPeak)\n",
    "\n",
    "combined_lead_allOut_distinct <- combined_lead_all_flag %>%\n",
    "                                select(rsID, flag_AllNotInPeak) %>% \n",
    "                                group_by(rsID) %>%\n",
    "                                summarise(flag_AllNotInPeak = all(flag_AllNotInPeak)) \n",
    "\n",
    "dim(combined_lead_allOut_distinct)\n",
    "head(combined_lead_allOut_distinct)"
   ]
  },
  {
   "cell_type": "code",
   "execution_count": 181,
   "id": "639c5019",
   "metadata": {
    "vscode": {
     "languageId": "r"
    }
   },
   "outputs": [
    {
     "data": {
      "text/html": [
       "0"
      ],
      "text/latex": [
       "0"
      ],
      "text/markdown": [
       "0"
      ],
      "text/plain": [
       "[1] 0"
      ]
     },
     "metadata": {},
     "output_type": "display_data"
    },
    {
     "data": {
      "text/html": [
       "0"
      ],
      "text/latex": [
       "0"
      ],
      "text/markdown": [
       "0"
      ],
      "text/plain": [
       "[1] 0"
      ]
     },
     "metadata": {},
     "output_type": "display_data"
    },
    {
     "data": {
      "text/html": [
       "<style>\n",
       ".list-inline {list-style: none; margin:0; padding: 0}\n",
       ".list-inline>li {display: inline-block}\n",
       ".list-inline>li:not(:last-child)::after {content: \"\\00b7\"; padding: 0 .5ex}\n",
       "</style>\n",
       "<ol class=list-inline><li>211922</li><li>16</li></ol>\n"
      ],
      "text/latex": [
       "\\begin{enumerate*}\n",
       "\\item 211922\n",
       "\\item 16\n",
       "\\end{enumerate*}\n"
      ],
      "text/markdown": [
       "1. 211922\n",
       "2. 16\n",
       "\n",
       "\n"
      ],
      "text/plain": [
       "[1] 211922     16"
      ]
     },
     "metadata": {},
     "output_type": "display_data"
    },
    {
     "data": {
      "text/html": [
       "<style>\n",
       ".list-inline {list-style: none; margin:0; padding: 0}\n",
       ".list-inline>li {display: inline-block}\n",
       ".list-inline>li:not(:last-child)::after {content: \"\\00b7\"; padding: 0 .5ex}\n",
       "</style>\n",
       "<ol class=list-inline><li>211922</li><li>17</li></ol>\n"
      ],
      "text/latex": [
       "\\begin{enumerate*}\n",
       "\\item 211922\n",
       "\\item 17\n",
       "\\end{enumerate*}\n"
      ],
      "text/markdown": [
       "1. 211922\n",
       "2. 17\n",
       "\n",
       "\n"
      ],
      "text/plain": [
       "[1] 211922     17"
      ]
     },
     "metadata": {},
     "output_type": "display_data"
    },
    {
     "data": {
      "text/html": [
       "<table class=\"dataframe\">\n",
       "<caption>A data.frame: 6 × 17</caption>\n",
       "<thead>\n",
       "\t<tr><th></th><th scope=col>SNP_id</th><th scope=col>motifPos</th><th scope=col>geneSymbol</th><th scope=col>dataSource</th><th scope=col>providerName</th><th scope=col>providerId</th><th scope=col>seqMatch</th><th scope=col>pctRef</th><th scope=col>pctAlt</th><th scope=col>scoreRef</th><th scope=col>scoreAlt</th><th scope=col>Refpvalue</th><th scope=col>Altpvalue</th><th scope=col>altPos</th><th scope=col>alleleDiff</th><th scope=col>effect</th><th scope=col>flag_AllNotInPeak</th></tr>\n",
       "\t<tr><th></th><th scope=col>&lt;chr&gt;</th><th scope=col>&lt;int&gt;</th><th scope=col>&lt;chr&gt;</th><th scope=col>&lt;chr&gt;</th><th scope=col>&lt;chr&gt;</th><th scope=col>&lt;chr&gt;</th><th scope=col>&lt;chr&gt;</th><th scope=col>&lt;dbl&gt;</th><th scope=col>&lt;dbl&gt;</th><th scope=col>&lt;dbl&gt;</th><th scope=col>&lt;dbl&gt;</th><th scope=col>&lt;lgl&gt;</th><th scope=col>&lt;lgl&gt;</th><th scope=col>&lt;int&gt;</th><th scope=col>&lt;dbl&gt;</th><th scope=col>&lt;chr&gt;</th><th scope=col>&lt;lgl&gt;</th></tr>\n",
       "</thead>\n",
       "<tbody>\n",
       "\t<tr><th scope=row>1</th><td>chr6:29680600:T:C </td><td>-1</td><td>TCFL5</td><td>jaspar2022</td><td>MA0632.2</td><td>MA0632.2</td><td>                gccctgtccCccgcgctta                  </td><td>0.7131549</td><td>0.9046364</td><td>7.539695</td><td>9.539586</td><td>NA</td><td>NA</td><td>1</td><td> 1.999892</td><td>strong</td><td>FALSE</td></tr>\n",
       "\t<tr><th scope=row>2</th><td>chr1:223269331:T:G</td><td>-8</td><td>TCFL5</td><td>jaspar2022</td><td>MA0632.2</td><td>MA0632.2</td><td>      aaggcacgtGtataggaga                            </td><td>0.7006581</td><td>0.8921397</td><td>7.409175</td><td>9.409067</td><td>NA</td><td>NA</td><td>1</td><td> 1.999892</td><td>strong</td><td>FALSE</td></tr>\n",
       "\t<tr><th scope=row>3</th><td>chr5:177481730:A:C</td><td>-1</td><td>TCFL5</td><td>jaspar2022</td><td>MA0632.2</td><td>MA0632.2</td><td>         gtgtgagtcCccgtgccca                         </td><td>0.6833266</td><td>0.8748082</td><td>7.228160</td><td>9.228051</td><td>NA</td><td>NA</td><td>1</td><td> 1.999892</td><td>strong</td><td>FALSE</td></tr>\n",
       "\t<tr><th scope=row>4</th><td>chr22:38927250:G:A</td><td>-8</td><td>TCFL5</td><td>jaspar2022</td><td>MA0632.2</td><td>MA0632.2</td><td>         gtggcgcgaGcctggtgcc                         </td><td>0.9204063</td><td>0.7289248</td><td>9.704292</td><td>7.704401</td><td>NA</td><td>NA</td><td>1</td><td>-1.999892</td><td>strong</td><td>FALSE</td></tr>\n",
       "\t<tr><th scope=row>5</th><td>chr11:64271703:G:A</td><td>-8</td><td>TCFL5</td><td>jaspar2022</td><td>MA0632.2</td><td>MA0632.2</td><td>    cgagcgcgaGcggccccga                              </td><td>0.9447054</td><td>0.7532239</td><td>9.958080</td><td>7.958188</td><td>NA</td><td>NA</td><td>1</td><td>-1.999892</td><td>strong</td><td>FALSE</td></tr>\n",
       "\t<tr><th scope=row>6</th><td>chr19:53512517:G:A</td><td>-8</td><td>TCFL5</td><td>jaspar2022</td><td>MA0632.2</td><td>MA0632.2</td><td>                agggcccgcGgggagctct                  </td><td>0.8728179</td><td>0.6813363</td><td>9.207264</td><td>7.207372</td><td>NA</td><td>NA</td><td>1</td><td>-1.999892</td><td>strong</td><td>FALSE</td></tr>\n",
       "</tbody>\n",
       "</table>\n"
      ],
      "text/latex": [
       "A data.frame: 6 × 17\n",
       "\\begin{tabular}{r|lllllllllllllllll}\n",
       "  & SNP\\_id & motifPos & geneSymbol & dataSource & providerName & providerId & seqMatch & pctRef & pctAlt & scoreRef & scoreAlt & Refpvalue & Altpvalue & altPos & alleleDiff & effect & flag\\_AllNotInPeak\\\\\n",
       "  & <chr> & <int> & <chr> & <chr> & <chr> & <chr> & <chr> & <dbl> & <dbl> & <dbl> & <dbl> & <lgl> & <lgl> & <int> & <dbl> & <chr> & <lgl>\\\\\n",
       "\\hline\n",
       "\t1 & chr6:29680600:T:C  & -1 & TCFL5 & jaspar2022 & MA0632.2 & MA0632.2 &                 gccctgtccCccgcgctta                   & 0.7131549 & 0.9046364 & 7.539695 & 9.539586 & NA & NA & 1 &  1.999892 & strong & FALSE\\\\\n",
       "\t2 & chr1:223269331:T:G & -8 & TCFL5 & jaspar2022 & MA0632.2 & MA0632.2 &       aaggcacgtGtataggaga                             & 0.7006581 & 0.8921397 & 7.409175 & 9.409067 & NA & NA & 1 &  1.999892 & strong & FALSE\\\\\n",
       "\t3 & chr5:177481730:A:C & -1 & TCFL5 & jaspar2022 & MA0632.2 & MA0632.2 &          gtgtgagtcCccgtgccca                          & 0.6833266 & 0.8748082 & 7.228160 & 9.228051 & NA & NA & 1 &  1.999892 & strong & FALSE\\\\\n",
       "\t4 & chr22:38927250:G:A & -8 & TCFL5 & jaspar2022 & MA0632.2 & MA0632.2 &          gtggcgcgaGcctggtgcc                          & 0.9204063 & 0.7289248 & 9.704292 & 7.704401 & NA & NA & 1 & -1.999892 & strong & FALSE\\\\\n",
       "\t5 & chr11:64271703:G:A & -8 & TCFL5 & jaspar2022 & MA0632.2 & MA0632.2 &     cgagcgcgaGcggccccga                               & 0.9447054 & 0.7532239 & 9.958080 & 7.958188 & NA & NA & 1 & -1.999892 & strong & FALSE\\\\\n",
       "\t6 & chr19:53512517:G:A & -8 & TCFL5 & jaspar2022 & MA0632.2 & MA0632.2 &                 agggcccgcGgggagctct                   & 0.8728179 & 0.6813363 & 9.207264 & 7.207372 & NA & NA & 1 & -1.999892 & strong & FALSE\\\\\n",
       "\\end{tabular}\n"
      ],
      "text/markdown": [
       "\n",
       "A data.frame: 6 × 17\n",
       "\n",
       "| <!--/--> | SNP_id &lt;chr&gt; | motifPos &lt;int&gt; | geneSymbol &lt;chr&gt; | dataSource &lt;chr&gt; | providerName &lt;chr&gt; | providerId &lt;chr&gt; | seqMatch &lt;chr&gt; | pctRef &lt;dbl&gt; | pctAlt &lt;dbl&gt; | scoreRef &lt;dbl&gt; | scoreAlt &lt;dbl&gt; | Refpvalue &lt;lgl&gt; | Altpvalue &lt;lgl&gt; | altPos &lt;int&gt; | alleleDiff &lt;dbl&gt; | effect &lt;chr&gt; | flag_AllNotInPeak &lt;lgl&gt; |\n",
       "|---|---|---|---|---|---|---|---|---|---|---|---|---|---|---|---|---|---|\n",
       "| 1 | chr6:29680600:T:C  | -1 | TCFL5 | jaspar2022 | MA0632.2 | MA0632.2 |                 gccctgtccCccgcgctta                   | 0.7131549 | 0.9046364 | 7.539695 | 9.539586 | NA | NA | 1 |  1.999892 | strong | FALSE |\n",
       "| 2 | chr1:223269331:T:G | -8 | TCFL5 | jaspar2022 | MA0632.2 | MA0632.2 |       aaggcacgtGtataggaga                             | 0.7006581 | 0.8921397 | 7.409175 | 9.409067 | NA | NA | 1 |  1.999892 | strong | FALSE |\n",
       "| 3 | chr5:177481730:A:C | -1 | TCFL5 | jaspar2022 | MA0632.2 | MA0632.2 |          gtgtgagtcCccgtgccca                          | 0.6833266 | 0.8748082 | 7.228160 | 9.228051 | NA | NA | 1 |  1.999892 | strong | FALSE |\n",
       "| 4 | chr22:38927250:G:A | -8 | TCFL5 | jaspar2022 | MA0632.2 | MA0632.2 |          gtggcgcgaGcctggtgcc                          | 0.9204063 | 0.7289248 | 9.704292 | 7.704401 | NA | NA | 1 | -1.999892 | strong | FALSE |\n",
       "| 5 | chr11:64271703:G:A | -8 | TCFL5 | jaspar2022 | MA0632.2 | MA0632.2 |     cgagcgcgaGcggccccga                               | 0.9447054 | 0.7532239 | 9.958080 | 7.958188 | NA | NA | 1 | -1.999892 | strong | FALSE |\n",
       "| 6 | chr19:53512517:G:A | -8 | TCFL5 | jaspar2022 | MA0632.2 | MA0632.2 |                 agggcccgcGgggagctct                   | 0.8728179 | 0.6813363 | 9.207264 | 7.207372 | NA | NA | 1 | -1.999892 | strong | FALSE |\n",
       "\n"
      ],
      "text/plain": [
       "  SNP_id             motifPos geneSymbol dataSource providerName providerId\n",
       "1 chr6:29680600:T:C  -1       TCFL5      jaspar2022 MA0632.2     MA0632.2  \n",
       "2 chr1:223269331:T:G -8       TCFL5      jaspar2022 MA0632.2     MA0632.2  \n",
       "3 chr5:177481730:A:C -1       TCFL5      jaspar2022 MA0632.2     MA0632.2  \n",
       "4 chr22:38927250:G:A -8       TCFL5      jaspar2022 MA0632.2     MA0632.2  \n",
       "5 chr11:64271703:G:A -8       TCFL5      jaspar2022 MA0632.2     MA0632.2  \n",
       "6 chr19:53512517:G:A -8       TCFL5      jaspar2022 MA0632.2     MA0632.2  \n",
       "  seqMatch                                              pctRef    pctAlt   \n",
       "1                 gccctgtccCccgcgctta                   0.7131549 0.9046364\n",
       "2       aaggcacgtGtataggaga                             0.7006581 0.8921397\n",
       "3          gtgtgagtcCccgtgccca                          0.6833266 0.8748082\n",
       "4          gtggcgcgaGcctggtgcc                          0.9204063 0.7289248\n",
       "5     cgagcgcgaGcggccccga                               0.9447054 0.7532239\n",
       "6                 agggcccgcGgggagctct                   0.8728179 0.6813363\n",
       "  scoreRef scoreAlt Refpvalue Altpvalue altPos alleleDiff effect\n",
       "1 7.539695 9.539586 NA        NA        1       1.999892  strong\n",
       "2 7.409175 9.409067 NA        NA        1       1.999892  strong\n",
       "3 7.228160 9.228051 NA        NA        1       1.999892  strong\n",
       "4 9.704292 7.704401 NA        NA        1      -1.999892  strong\n",
       "5 9.958080 7.958188 NA        NA        1      -1.999892  strong\n",
       "6 9.207264 7.207372 NA        NA        1      -1.999892  strong\n",
       "  flag_AllNotInPeak\n",
       "1 FALSE            \n",
       "2 FALSE            \n",
       "3 FALSE            \n",
       "4 FALSE            \n",
       "5 FALSE            \n",
       "6 FALSE            "
      ]
     },
     "metadata": {},
     "output_type": "display_data"
    }
   ],
   "source": [
    "motifs_in_peaks_all <- left_join(tab, combined_lead_allOut_distinct, join_by(SNP_id == rsID))\n",
    "sum(is.na(motifs_in_peaks_all$flag_AllNotInPeak))\n",
    "sum(is.na(motifs_in_peaks_all$geneSymbol))\n",
    "#motifs_in_peaks <- motifs_in_peaks[!is.na(motifs_in_peaks$flag_fdr05),]\n",
    "\n",
    "dim(tab)\n",
    "dim(motifs_in_peaks_all)\n",
    "head(motifs_in_peaks_all)"
   ]
  },
  {
   "cell_type": "code",
   "execution_count": 182,
   "id": "88274856",
   "metadata": {
    "vscode": {
     "languageId": "r"
    }
   },
   "outputs": [
    {
     "data": {
      "text/html": [
       "<style>\n",
       ".list-inline {list-style: none; margin:0; padding: 0}\n",
       ".list-inline>li {display: inline-block}\n",
       ".list-inline>li:not(:last-child)::after {content: \"\\00b7\"; padding: 0 .5ex}\n",
       "</style>\n",
       "<ol class=list-inline><li>645</li><li>8</li></ol>\n"
      ],
      "text/latex": [
       "\\begin{enumerate*}\n",
       "\\item 645\n",
       "\\item 8\n",
       "\\end{enumerate*}\n"
      ],
      "text/markdown": [
       "1. 645\n",
       "2. 8\n",
       "\n",
       "\n"
      ],
      "text/plain": [
       "[1] 645   8"
      ]
     },
     "metadata": {},
     "output_type": "display_data"
    },
    {
     "data": {
      "text/html": [
       "<table class=\"dataframe\">\n",
       "<caption>A tibble: 6 × 8</caption>\n",
       "<thead>\n",
       "\t<tr><th scope=col>estimate</th><th scope=col>p.value</th><th scope=col>conf.low</th><th scope=col>conf.high</th><th scope=col>method</th><th scope=col>alternative</th><th scope=col>motif</th><th scope=col>q.value</th></tr>\n",
       "\t<tr><th scope=col>&lt;dbl&gt;</th><th scope=col>&lt;dbl&gt;</th><th scope=col>&lt;dbl&gt;</th><th scope=col>&lt;dbl&gt;</th><th scope=col>&lt;chr&gt;</th><th scope=col>&lt;chr&gt;</th><th scope=col>&lt;chr&gt;</th><th scope=col>&lt;dbl&gt;</th></tr>\n",
       "</thead>\n",
       "<tbody>\n",
       "\t<tr><td>0.2507709</td><td>2.367998e-08</td><td>0.1242100</td><td>0.4533185</td><td>Fisher's Exact Test for Count Data</td><td>two.sided</td><td>FOSL2      </td><td>4.477238e-06</td></tr>\n",
       "\t<tr><td>0.2302270</td><td>7.366254e-09</td><td>0.1095931</td><td>0.4276369</td><td>Fisher's Exact Test for Count Data</td><td>two.sided</td><td>FOS::JUND  </td><td>4.477238e-06</td></tr>\n",
       "\t<tr><td>0.2507709</td><td>2.367998e-08</td><td>0.1242100</td><td>0.4533185</td><td>Fisher's Exact Test for Count Data</td><td>two.sided</td><td>FOSL1      </td><td>4.477238e-06</td></tr>\n",
       "\t<tr><td>0.2109202</td><td>2.776582e-08</td><td>0.0903926</td><td>0.4197646</td><td>Fisher's Exact Test for Count Data</td><td>two.sided</td><td>FOSL1::JUNB</td><td>4.477238e-06</td></tr>\n",
       "\t<tr><td>0.2436538</td><td>3.880212e-08</td><td>0.1159572</td><td>0.4527285</td><td>Fisher's Exact Test for Count Data</td><td>two.sided</td><td>BNC2       </td><td>5.005473e-06</td></tr>\n",
       "\t<tr><td>0.2864161</td><td>1.078049e-07</td><td>0.1512424</td><td>0.4950026</td><td>Fisher's Exact Test for Count Data</td><td>two.sided</td><td>MAFK       </td><td>1.158902e-05</td></tr>\n",
       "</tbody>\n",
       "</table>\n"
      ],
      "text/latex": [
       "A tibble: 6 × 8\n",
       "\\begin{tabular}{llllllll}\n",
       " estimate & p.value & conf.low & conf.high & method & alternative & motif & q.value\\\\\n",
       " <dbl> & <dbl> & <dbl> & <dbl> & <chr> & <chr> & <chr> & <dbl>\\\\\n",
       "\\hline\n",
       "\t 0.2507709 & 2.367998e-08 & 0.1242100 & 0.4533185 & Fisher's Exact Test for Count Data & two.sided & FOSL2       & 4.477238e-06\\\\\n",
       "\t 0.2302270 & 7.366254e-09 & 0.1095931 & 0.4276369 & Fisher's Exact Test for Count Data & two.sided & FOS::JUND   & 4.477238e-06\\\\\n",
       "\t 0.2507709 & 2.367998e-08 & 0.1242100 & 0.4533185 & Fisher's Exact Test for Count Data & two.sided & FOSL1       & 4.477238e-06\\\\\n",
       "\t 0.2109202 & 2.776582e-08 & 0.0903926 & 0.4197646 & Fisher's Exact Test for Count Data & two.sided & FOSL1::JUNB & 4.477238e-06\\\\\n",
       "\t 0.2436538 & 3.880212e-08 & 0.1159572 & 0.4527285 & Fisher's Exact Test for Count Data & two.sided & BNC2        & 5.005473e-06\\\\\n",
       "\t 0.2864161 & 1.078049e-07 & 0.1512424 & 0.4950026 & Fisher's Exact Test for Count Data & two.sided & MAFK        & 1.158902e-05\\\\\n",
       "\\end{tabular}\n"
      ],
      "text/markdown": [
       "\n",
       "A tibble: 6 × 8\n",
       "\n",
       "| estimate &lt;dbl&gt; | p.value &lt;dbl&gt; | conf.low &lt;dbl&gt; | conf.high &lt;dbl&gt; | method &lt;chr&gt; | alternative &lt;chr&gt; | motif &lt;chr&gt; | q.value &lt;dbl&gt; |\n",
       "|---|---|---|---|---|---|---|---|\n",
       "| 0.2507709 | 2.367998e-08 | 0.1242100 | 0.4533185 | Fisher's Exact Test for Count Data | two.sided | FOSL2       | 4.477238e-06 |\n",
       "| 0.2302270 | 7.366254e-09 | 0.1095931 | 0.4276369 | Fisher's Exact Test for Count Data | two.sided | FOS::JUND   | 4.477238e-06 |\n",
       "| 0.2507709 | 2.367998e-08 | 0.1242100 | 0.4533185 | Fisher's Exact Test for Count Data | two.sided | FOSL1       | 4.477238e-06 |\n",
       "| 0.2109202 | 2.776582e-08 | 0.0903926 | 0.4197646 | Fisher's Exact Test for Count Data | two.sided | FOSL1::JUNB | 4.477238e-06 |\n",
       "| 0.2436538 | 3.880212e-08 | 0.1159572 | 0.4527285 | Fisher's Exact Test for Count Data | two.sided | BNC2        | 5.005473e-06 |\n",
       "| 0.2864161 | 1.078049e-07 | 0.1512424 | 0.4950026 | Fisher's Exact Test for Count Data | two.sided | MAFK        | 1.158902e-05 |\n",
       "\n"
      ],
      "text/plain": [
       "  estimate  p.value      conf.low  conf.high method                            \n",
       "1 0.2507709 2.367998e-08 0.1242100 0.4533185 Fisher's Exact Test for Count Data\n",
       "2 0.2302270 7.366254e-09 0.1095931 0.4276369 Fisher's Exact Test for Count Data\n",
       "3 0.2507709 2.367998e-08 0.1242100 0.4533185 Fisher's Exact Test for Count Data\n",
       "4 0.2109202 2.776582e-08 0.0903926 0.4197646 Fisher's Exact Test for Count Data\n",
       "5 0.2436538 3.880212e-08 0.1159572 0.4527285 Fisher's Exact Test for Count Data\n",
       "6 0.2864161 1.078049e-07 0.1512424 0.4950026 Fisher's Exact Test for Count Data\n",
       "  alternative motif       q.value     \n",
       "1 two.sided   FOSL2       4.477238e-06\n",
       "2 two.sided   FOS::JUND   4.477238e-06\n",
       "3 two.sided   FOSL1       4.477238e-06\n",
       "4 two.sided   FOSL1::JUNB 4.477238e-06\n",
       "5 two.sided   BNC2        5.005473e-06\n",
       "6 two.sided   MAFK        1.158902e-05"
      ]
     },
     "metadata": {},
     "output_type": "display_data"
    }
   ],
   "source": [
    "motifs_in_peaks_all$disrupted <- TRUE\n",
    "motifs_wide_all <- select(motifs_in_peaks_all, SNP_id, geneSymbol, disrupted, flag_AllNotInPeak) %>%\n",
    "    group_by(SNP_id) %>%\n",
    "    pivot_wider(names_from=geneSymbol, values_from=disrupted, values_fill=FALSE)\n",
    "#motifs_wide\n",
    "\n",
    "full.res.all <- data.frame()\n",
    "\n",
    "for (test.motif in colnames(motifs_wide_all)[3:ncol(motifs_wide_all)]) {\n",
    "    test.res <- broom::tidy(fisher.test(table(motifs_wide_all[c(test.motif,'flag_AllNotInPeak')])))\n",
    "    test.res$motif <- test.motif\n",
    "    full.res.all <- rbind(full.res.all, test.res)\n",
    "}\n",
    "\n",
    "full.res.all[full.res.all$p.value > 1,]$p.value <- 1\n",
    "full.res.all[full.res.all$p.value < 0,]$p.value <- 0\n",
    "full.res.all$q.value <- qvalue(full.res.all$p.value)$qvalues\n",
    "full.res.all <- arrange(full.res.all, q.value)\n",
    "\n",
    "dim(full.res.all)\n",
    "head(full.res.all)"
   ]
  },
  {
   "cell_type": "code",
   "execution_count": 186,
   "id": "eb0bd190",
   "metadata": {
    "scrolled": true,
    "vscode": {
     "languageId": "r"
    }
   },
   "outputs": [
    {
     "data": {
      "text/html": [
       "<table class=\"dataframe\">\n",
       "<caption>A tibble: 29 × 8</caption>\n",
       "<thead>\n",
       "\t<tr><th scope=col>estimate</th><th scope=col>p.value</th><th scope=col>conf.low</th><th scope=col>conf.high</th><th scope=col>method</th><th scope=col>alternative</th><th scope=col>motif</th><th scope=col>q.value</th></tr>\n",
       "\t<tr><th scope=col>&lt;dbl&gt;</th><th scope=col>&lt;dbl&gt;</th><th scope=col>&lt;dbl&gt;</th><th scope=col>&lt;dbl&gt;</th><th scope=col>&lt;chr&gt;</th><th scope=col>&lt;chr&gt;</th><th scope=col>&lt;chr&gt;</th><th scope=col>&lt;dbl&gt;</th></tr>\n",
       "</thead>\n",
       "<tbody>\n",
       "\t<tr><td>0.2507709</td><td>2.367998e-08</td><td>0.1242100</td><td>0.4533185</td><td>Fisher's Exact Test for Count Data</td><td>two.sided</td><td>FOSL2       </td><td>4.477238e-06</td></tr>\n",
       "\t<tr><td>0.2302270</td><td>7.366254e-09</td><td>0.1095931</td><td>0.4276369</td><td>Fisher's Exact Test for Count Data</td><td>two.sided</td><td>FOS::JUND   </td><td>4.477238e-06</td></tr>\n",
       "\t<tr><td>0.2507709</td><td>2.367998e-08</td><td>0.1242100</td><td>0.4533185</td><td>Fisher's Exact Test for Count Data</td><td>two.sided</td><td>FOSL1       </td><td>4.477238e-06</td></tr>\n",
       "\t<tr><td>0.2109202</td><td>2.776582e-08</td><td>0.0903926</td><td>0.4197646</td><td>Fisher's Exact Test for Count Data</td><td>two.sided</td><td>FOSL1::JUNB </td><td>4.477238e-06</td></tr>\n",
       "\t<tr><td>0.2436538</td><td>3.880212e-08</td><td>0.1159572</td><td>0.4527285</td><td>Fisher's Exact Test for Count Data</td><td>two.sided</td><td>BNC2        </td><td>5.005473e-06</td></tr>\n",
       "\t<tr><td>0.2864161</td><td>1.078049e-07</td><td>0.1512424</td><td>0.4950026</td><td>Fisher's Exact Test for Count Data</td><td>two.sided</td><td>MAFK        </td><td>1.158902e-05</td></tr>\n",
       "\t<tr><td>0.2686805</td><td>1.634284e-07</td><td>0.1330569</td><td>0.4858798</td><td>Fisher's Exact Test for Count Data</td><td>two.sided</td><td>BATF        </td><td>1.505876e-05</td></tr>\n",
       "\t<tr><td>0.2577994</td><td>2.002999e-07</td><td>0.1226628</td><td>0.4791539</td><td>Fisher's Exact Test for Count Data</td><td>two.sided</td><td>FOS::JUNB   </td><td>1.614918e-05</td></tr>\n",
       "\t<tr><td>0.2854884</td><td>2.460821e-07</td><td>0.1462946</td><td>0.5041031</td><td>Fisher's Exact Test for Count Data</td><td>two.sided</td><td>BATF3       </td><td>1.763588e-05</td></tr>\n",
       "\t<tr><td>0.2995973</td><td>3.690250e-07</td><td>0.1581943</td><td>0.5179615</td><td>Fisher's Exact Test for Count Data</td><td>two.sided</td><td>NFE2        </td><td>2.163828e-05</td></tr>\n",
       "\t<tr><td>0.2896013</td><td>3.372163e-07</td><td>0.1484062</td><td>0.5114104</td><td>Fisher's Exact Test for Count Data</td><td>two.sided</td><td>BATF::JUN   </td><td>2.163828e-05</td></tr>\n",
       "\t<tr><td>0.4072638</td><td>4.790184e-07</td><td>0.2634983</td><td>0.6036293</td><td>Fisher's Exact Test for Count Data</td><td>two.sided</td><td>JUND        </td><td>2.574724e-05</td></tr>\n",
       "\t<tr><td>0.3751929</td><td>5.746334e-07</td><td>0.2301277</td><td>0.5800351</td><td>Fisher's Exact Test for Count Data</td><td>two.sided</td><td>JUNB        </td><td>2.851066e-05</td></tr>\n",
       "\t<tr><td>0.4207436</td><td>2.584028e-06</td><td>0.2696610</td><td>0.6284006</td><td>Fisher's Exact Test for Count Data</td><td>two.sided</td><td>FOS::JUN    </td><td>1.190498e-04</td></tr>\n",
       "\t<tr><td>0.3991206</td><td>5.347362e-06</td><td>0.2414787</td><td>0.6237217</td><td>Fisher's Exact Test for Count Data</td><td>two.sided</td><td>BACH1       </td><td>2.299366e-04</td></tr>\n",
       "\t<tr><td>0.4273197</td><td>5.933889e-06</td><td>0.2711279</td><td>0.6434146</td><td>Fisher's Exact Test for Count Data</td><td>two.sided</td><td>JDP2        </td><td>2.392099e-04</td></tr>\n",
       "\t<tr><td>0.4250263</td><td>1.108477e-05</td><td>0.2637610</td><td>0.6512592</td><td>Fisher's Exact Test for Count Data</td><td>two.sided</td><td>FOSL1::JUN  </td><td>4.205693e-04</td></tr>\n",
       "\t<tr><td>0.4239555</td><td>2.019239e-05</td><td>0.2598862</td><td>0.6559296</td><td>Fisher's Exact Test for Count Data</td><td>two.sided</td><td>MAFG::NFE2L1</td><td>7.235608e-04</td></tr>\n",
       "\t<tr><td>0.4504680</td><td>2.843686e-05</td><td>0.2857379</td><td>0.6785066</td><td>Fisher's Exact Test for Count Data</td><td>two.sided</td><td>FOSL2::JUN  </td><td>9.653565e-04</td></tr>\n",
       "\t<tr><td>0.4455120</td><td>7.482215e-05</td><td>0.2730157</td><td>0.6895227</td><td>Fisher's Exact Test for Count Data</td><td>two.sided</td><td>FOSL2::JUNB </td><td>2.413014e-03</td></tr>\n",
       "\t<tr><td>0.4228290</td><td>1.193804e-04</td><td>0.2438755</td><td>0.6855668</td><td>Fisher's Exact Test for Count Data</td><td>two.sided</td><td>FOSL1::JUND </td><td>3.500015e-03</td></tr>\n",
       "\t<tr><td>0.5584545</td><td>3.607335e-04</td><td>0.3846988</td><td>0.7868728</td><td>Fisher's Exact Test for Count Data</td><td>two.sided</td><td>BACH2       </td><td>9.694712e-03</td></tr>\n",
       "\t<tr><td>0.5099661</td><td>3.566103e-04</td><td>0.3295716</td><td>0.7569089</td><td>Fisher's Exact Test for Count Data</td><td>two.sided</td><td>FOSL2::JUND </td><td>9.694712e-03</td></tr>\n",
       "\t<tr><td>0.5112693</td><td>4.909586e-04</td><td>0.3273199</td><td>0.7646223</td><td>Fisher's Exact Test for Count Data</td><td>two.sided</td><td>FOSB::JUNB  </td><td>1.266673e-02</td></tr>\n",
       "\t<tr><td>0.4464709</td><td>6.092479e-04</td><td>0.2525474</td><td>0.7346867</td><td>Fisher's Exact Test for Count Data</td><td>two.sided</td><td>RREB1       </td><td>1.511404e-02</td></tr>\n",
       "\t<tr><td>0.4964074</td><td>6.835683e-04</td><td>0.3040069</td><td>0.7688873</td><td>Fisher's Exact Test for Count Data</td><td>two.sided</td><td>MAF::NFE2   </td><td>1.574648e-02</td></tr>\n",
       "\t<tr><td>0.5402497</td><td>7.246066e-04</td><td>0.3550584</td><td>0.7911697</td><td>Fisher's Exact Test for Count Data</td><td>two.sided</td><td>JUN::JUNB   </td><td>1.611625e-02</td></tr>\n",
       "\t<tr><td>0.4759860</td><td>1.642676e-03</td><td>0.2691342</td><td>0.7836686</td><td>Fisher's Exact Test for Count Data</td><td>two.sided</td><td>NFIX        </td><td>3.311020e-02</td></tr>\n",
       "\t<tr><td>0.5863303</td><td>2.136460e-03</td><td>0.3964995</td><td>0.8389449</td><td>Fisher's Exact Test for Count Data</td><td>two.sided</td><td>FOS         </td><td>4.175809e-02</td></tr>\n",
       "</tbody>\n",
       "</table>\n"
      ],
      "text/latex": [
       "A tibble: 29 × 8\n",
       "\\begin{tabular}{llllllll}\n",
       " estimate & p.value & conf.low & conf.high & method & alternative & motif & q.value\\\\\n",
       " <dbl> & <dbl> & <dbl> & <dbl> & <chr> & <chr> & <chr> & <dbl>\\\\\n",
       "\\hline\n",
       "\t 0.2507709 & 2.367998e-08 & 0.1242100 & 0.4533185 & Fisher's Exact Test for Count Data & two.sided & FOSL2        & 4.477238e-06\\\\\n",
       "\t 0.2302270 & 7.366254e-09 & 0.1095931 & 0.4276369 & Fisher's Exact Test for Count Data & two.sided & FOS::JUND    & 4.477238e-06\\\\\n",
       "\t 0.2507709 & 2.367998e-08 & 0.1242100 & 0.4533185 & Fisher's Exact Test for Count Data & two.sided & FOSL1        & 4.477238e-06\\\\\n",
       "\t 0.2109202 & 2.776582e-08 & 0.0903926 & 0.4197646 & Fisher's Exact Test for Count Data & two.sided & FOSL1::JUNB  & 4.477238e-06\\\\\n",
       "\t 0.2436538 & 3.880212e-08 & 0.1159572 & 0.4527285 & Fisher's Exact Test for Count Data & two.sided & BNC2         & 5.005473e-06\\\\\n",
       "\t 0.2864161 & 1.078049e-07 & 0.1512424 & 0.4950026 & Fisher's Exact Test for Count Data & two.sided & MAFK         & 1.158902e-05\\\\\n",
       "\t 0.2686805 & 1.634284e-07 & 0.1330569 & 0.4858798 & Fisher's Exact Test for Count Data & two.sided & BATF         & 1.505876e-05\\\\\n",
       "\t 0.2577994 & 2.002999e-07 & 0.1226628 & 0.4791539 & Fisher's Exact Test for Count Data & two.sided & FOS::JUNB    & 1.614918e-05\\\\\n",
       "\t 0.2854884 & 2.460821e-07 & 0.1462946 & 0.5041031 & Fisher's Exact Test for Count Data & two.sided & BATF3        & 1.763588e-05\\\\\n",
       "\t 0.2995973 & 3.690250e-07 & 0.1581943 & 0.5179615 & Fisher's Exact Test for Count Data & two.sided & NFE2         & 2.163828e-05\\\\\n",
       "\t 0.2896013 & 3.372163e-07 & 0.1484062 & 0.5114104 & Fisher's Exact Test for Count Data & two.sided & BATF::JUN    & 2.163828e-05\\\\\n",
       "\t 0.4072638 & 4.790184e-07 & 0.2634983 & 0.6036293 & Fisher's Exact Test for Count Data & two.sided & JUND         & 2.574724e-05\\\\\n",
       "\t 0.3751929 & 5.746334e-07 & 0.2301277 & 0.5800351 & Fisher's Exact Test for Count Data & two.sided & JUNB         & 2.851066e-05\\\\\n",
       "\t 0.4207436 & 2.584028e-06 & 0.2696610 & 0.6284006 & Fisher's Exact Test for Count Data & two.sided & FOS::JUN     & 1.190498e-04\\\\\n",
       "\t 0.3991206 & 5.347362e-06 & 0.2414787 & 0.6237217 & Fisher's Exact Test for Count Data & two.sided & BACH1        & 2.299366e-04\\\\\n",
       "\t 0.4273197 & 5.933889e-06 & 0.2711279 & 0.6434146 & Fisher's Exact Test for Count Data & two.sided & JDP2         & 2.392099e-04\\\\\n",
       "\t 0.4250263 & 1.108477e-05 & 0.2637610 & 0.6512592 & Fisher's Exact Test for Count Data & two.sided & FOSL1::JUN   & 4.205693e-04\\\\\n",
       "\t 0.4239555 & 2.019239e-05 & 0.2598862 & 0.6559296 & Fisher's Exact Test for Count Data & two.sided & MAFG::NFE2L1 & 7.235608e-04\\\\\n",
       "\t 0.4504680 & 2.843686e-05 & 0.2857379 & 0.6785066 & Fisher's Exact Test for Count Data & two.sided & FOSL2::JUN   & 9.653565e-04\\\\\n",
       "\t 0.4455120 & 7.482215e-05 & 0.2730157 & 0.6895227 & Fisher's Exact Test for Count Data & two.sided & FOSL2::JUNB  & 2.413014e-03\\\\\n",
       "\t 0.4228290 & 1.193804e-04 & 0.2438755 & 0.6855668 & Fisher's Exact Test for Count Data & two.sided & FOSL1::JUND  & 3.500015e-03\\\\\n",
       "\t 0.5584545 & 3.607335e-04 & 0.3846988 & 0.7868728 & Fisher's Exact Test for Count Data & two.sided & BACH2        & 9.694712e-03\\\\\n",
       "\t 0.5099661 & 3.566103e-04 & 0.3295716 & 0.7569089 & Fisher's Exact Test for Count Data & two.sided & FOSL2::JUND  & 9.694712e-03\\\\\n",
       "\t 0.5112693 & 4.909586e-04 & 0.3273199 & 0.7646223 & Fisher's Exact Test for Count Data & two.sided & FOSB::JUNB   & 1.266673e-02\\\\\n",
       "\t 0.4464709 & 6.092479e-04 & 0.2525474 & 0.7346867 & Fisher's Exact Test for Count Data & two.sided & RREB1        & 1.511404e-02\\\\\n",
       "\t 0.4964074 & 6.835683e-04 & 0.3040069 & 0.7688873 & Fisher's Exact Test for Count Data & two.sided & MAF::NFE2    & 1.574648e-02\\\\\n",
       "\t 0.5402497 & 7.246066e-04 & 0.3550584 & 0.7911697 & Fisher's Exact Test for Count Data & two.sided & JUN::JUNB    & 1.611625e-02\\\\\n",
       "\t 0.4759860 & 1.642676e-03 & 0.2691342 & 0.7836686 & Fisher's Exact Test for Count Data & two.sided & NFIX         & 3.311020e-02\\\\\n",
       "\t 0.5863303 & 2.136460e-03 & 0.3964995 & 0.8389449 & Fisher's Exact Test for Count Data & two.sided & FOS          & 4.175809e-02\\\\\n",
       "\\end{tabular}\n"
      ],
      "text/markdown": [
       "\n",
       "A tibble: 29 × 8\n",
       "\n",
       "| estimate &lt;dbl&gt; | p.value &lt;dbl&gt; | conf.low &lt;dbl&gt; | conf.high &lt;dbl&gt; | method &lt;chr&gt; | alternative &lt;chr&gt; | motif &lt;chr&gt; | q.value &lt;dbl&gt; |\n",
       "|---|---|---|---|---|---|---|---|\n",
       "| 0.2507709 | 2.367998e-08 | 0.1242100 | 0.4533185 | Fisher's Exact Test for Count Data | two.sided | FOSL2        | 4.477238e-06 |\n",
       "| 0.2302270 | 7.366254e-09 | 0.1095931 | 0.4276369 | Fisher's Exact Test for Count Data | two.sided | FOS::JUND    | 4.477238e-06 |\n",
       "| 0.2507709 | 2.367998e-08 | 0.1242100 | 0.4533185 | Fisher's Exact Test for Count Data | two.sided | FOSL1        | 4.477238e-06 |\n",
       "| 0.2109202 | 2.776582e-08 | 0.0903926 | 0.4197646 | Fisher's Exact Test for Count Data | two.sided | FOSL1::JUNB  | 4.477238e-06 |\n",
       "| 0.2436538 | 3.880212e-08 | 0.1159572 | 0.4527285 | Fisher's Exact Test for Count Data | two.sided | BNC2         | 5.005473e-06 |\n",
       "| 0.2864161 | 1.078049e-07 | 0.1512424 | 0.4950026 | Fisher's Exact Test for Count Data | two.sided | MAFK         | 1.158902e-05 |\n",
       "| 0.2686805 | 1.634284e-07 | 0.1330569 | 0.4858798 | Fisher's Exact Test for Count Data | two.sided | BATF         | 1.505876e-05 |\n",
       "| 0.2577994 | 2.002999e-07 | 0.1226628 | 0.4791539 | Fisher's Exact Test for Count Data | two.sided | FOS::JUNB    | 1.614918e-05 |\n",
       "| 0.2854884 | 2.460821e-07 | 0.1462946 | 0.5041031 | Fisher's Exact Test for Count Data | two.sided | BATF3        | 1.763588e-05 |\n",
       "| 0.2995973 | 3.690250e-07 | 0.1581943 | 0.5179615 | Fisher's Exact Test for Count Data | two.sided | NFE2         | 2.163828e-05 |\n",
       "| 0.2896013 | 3.372163e-07 | 0.1484062 | 0.5114104 | Fisher's Exact Test for Count Data | two.sided | BATF::JUN    | 2.163828e-05 |\n",
       "| 0.4072638 | 4.790184e-07 | 0.2634983 | 0.6036293 | Fisher's Exact Test for Count Data | two.sided | JUND         | 2.574724e-05 |\n",
       "| 0.3751929 | 5.746334e-07 | 0.2301277 | 0.5800351 | Fisher's Exact Test for Count Data | two.sided | JUNB         | 2.851066e-05 |\n",
       "| 0.4207436 | 2.584028e-06 | 0.2696610 | 0.6284006 | Fisher's Exact Test for Count Data | two.sided | FOS::JUN     | 1.190498e-04 |\n",
       "| 0.3991206 | 5.347362e-06 | 0.2414787 | 0.6237217 | Fisher's Exact Test for Count Data | two.sided | BACH1        | 2.299366e-04 |\n",
       "| 0.4273197 | 5.933889e-06 | 0.2711279 | 0.6434146 | Fisher's Exact Test for Count Data | two.sided | JDP2         | 2.392099e-04 |\n",
       "| 0.4250263 | 1.108477e-05 | 0.2637610 | 0.6512592 | Fisher's Exact Test for Count Data | two.sided | FOSL1::JUN   | 4.205693e-04 |\n",
       "| 0.4239555 | 2.019239e-05 | 0.2598862 | 0.6559296 | Fisher's Exact Test for Count Data | two.sided | MAFG::NFE2L1 | 7.235608e-04 |\n",
       "| 0.4504680 | 2.843686e-05 | 0.2857379 | 0.6785066 | Fisher's Exact Test for Count Data | two.sided | FOSL2::JUN   | 9.653565e-04 |\n",
       "| 0.4455120 | 7.482215e-05 | 0.2730157 | 0.6895227 | Fisher's Exact Test for Count Data | two.sided | FOSL2::JUNB  | 2.413014e-03 |\n",
       "| 0.4228290 | 1.193804e-04 | 0.2438755 | 0.6855668 | Fisher's Exact Test for Count Data | two.sided | FOSL1::JUND  | 3.500015e-03 |\n",
       "| 0.5584545 | 3.607335e-04 | 0.3846988 | 0.7868728 | Fisher's Exact Test for Count Data | two.sided | BACH2        | 9.694712e-03 |\n",
       "| 0.5099661 | 3.566103e-04 | 0.3295716 | 0.7569089 | Fisher's Exact Test for Count Data | two.sided | FOSL2::JUND  | 9.694712e-03 |\n",
       "| 0.5112693 | 4.909586e-04 | 0.3273199 | 0.7646223 | Fisher's Exact Test for Count Data | two.sided | FOSB::JUNB   | 1.266673e-02 |\n",
       "| 0.4464709 | 6.092479e-04 | 0.2525474 | 0.7346867 | Fisher's Exact Test for Count Data | two.sided | RREB1        | 1.511404e-02 |\n",
       "| 0.4964074 | 6.835683e-04 | 0.3040069 | 0.7688873 | Fisher's Exact Test for Count Data | two.sided | MAF::NFE2    | 1.574648e-02 |\n",
       "| 0.5402497 | 7.246066e-04 | 0.3550584 | 0.7911697 | Fisher's Exact Test for Count Data | two.sided | JUN::JUNB    | 1.611625e-02 |\n",
       "| 0.4759860 | 1.642676e-03 | 0.2691342 | 0.7836686 | Fisher's Exact Test for Count Data | two.sided | NFIX         | 3.311020e-02 |\n",
       "| 0.5863303 | 2.136460e-03 | 0.3964995 | 0.8389449 | Fisher's Exact Test for Count Data | two.sided | FOS          | 4.175809e-02 |\n",
       "\n"
      ],
      "text/plain": [
       "   estimate  p.value      conf.low  conf.high\n",
       "1  0.2507709 2.367998e-08 0.1242100 0.4533185\n",
       "2  0.2302270 7.366254e-09 0.1095931 0.4276369\n",
       "3  0.2507709 2.367998e-08 0.1242100 0.4533185\n",
       "4  0.2109202 2.776582e-08 0.0903926 0.4197646\n",
       "5  0.2436538 3.880212e-08 0.1159572 0.4527285\n",
       "6  0.2864161 1.078049e-07 0.1512424 0.4950026\n",
       "7  0.2686805 1.634284e-07 0.1330569 0.4858798\n",
       "8  0.2577994 2.002999e-07 0.1226628 0.4791539\n",
       "9  0.2854884 2.460821e-07 0.1462946 0.5041031\n",
       "10 0.2995973 3.690250e-07 0.1581943 0.5179615\n",
       "11 0.2896013 3.372163e-07 0.1484062 0.5114104\n",
       "12 0.4072638 4.790184e-07 0.2634983 0.6036293\n",
       "13 0.3751929 5.746334e-07 0.2301277 0.5800351\n",
       "14 0.4207436 2.584028e-06 0.2696610 0.6284006\n",
       "15 0.3991206 5.347362e-06 0.2414787 0.6237217\n",
       "16 0.4273197 5.933889e-06 0.2711279 0.6434146\n",
       "17 0.4250263 1.108477e-05 0.2637610 0.6512592\n",
       "18 0.4239555 2.019239e-05 0.2598862 0.6559296\n",
       "19 0.4504680 2.843686e-05 0.2857379 0.6785066\n",
       "20 0.4455120 7.482215e-05 0.2730157 0.6895227\n",
       "21 0.4228290 1.193804e-04 0.2438755 0.6855668\n",
       "22 0.5584545 3.607335e-04 0.3846988 0.7868728\n",
       "23 0.5099661 3.566103e-04 0.3295716 0.7569089\n",
       "24 0.5112693 4.909586e-04 0.3273199 0.7646223\n",
       "25 0.4464709 6.092479e-04 0.2525474 0.7346867\n",
       "26 0.4964074 6.835683e-04 0.3040069 0.7688873\n",
       "27 0.5402497 7.246066e-04 0.3550584 0.7911697\n",
       "28 0.4759860 1.642676e-03 0.2691342 0.7836686\n",
       "29 0.5863303 2.136460e-03 0.3964995 0.8389449\n",
       "   method                             alternative motif        q.value     \n",
       "1  Fisher's Exact Test for Count Data two.sided   FOSL2        4.477238e-06\n",
       "2  Fisher's Exact Test for Count Data two.sided   FOS::JUND    4.477238e-06\n",
       "3  Fisher's Exact Test for Count Data two.sided   FOSL1        4.477238e-06\n",
       "4  Fisher's Exact Test for Count Data two.sided   FOSL1::JUNB  4.477238e-06\n",
       "5  Fisher's Exact Test for Count Data two.sided   BNC2         5.005473e-06\n",
       "6  Fisher's Exact Test for Count Data two.sided   MAFK         1.158902e-05\n",
       "7  Fisher's Exact Test for Count Data two.sided   BATF         1.505876e-05\n",
       "8  Fisher's Exact Test for Count Data two.sided   FOS::JUNB    1.614918e-05\n",
       "9  Fisher's Exact Test for Count Data two.sided   BATF3        1.763588e-05\n",
       "10 Fisher's Exact Test for Count Data two.sided   NFE2         2.163828e-05\n",
       "11 Fisher's Exact Test for Count Data two.sided   BATF::JUN    2.163828e-05\n",
       "12 Fisher's Exact Test for Count Data two.sided   JUND         2.574724e-05\n",
       "13 Fisher's Exact Test for Count Data two.sided   JUNB         2.851066e-05\n",
       "14 Fisher's Exact Test for Count Data two.sided   FOS::JUN     1.190498e-04\n",
       "15 Fisher's Exact Test for Count Data two.sided   BACH1        2.299366e-04\n",
       "16 Fisher's Exact Test for Count Data two.sided   JDP2         2.392099e-04\n",
       "17 Fisher's Exact Test for Count Data two.sided   FOSL1::JUN   4.205693e-04\n",
       "18 Fisher's Exact Test for Count Data two.sided   MAFG::NFE2L1 7.235608e-04\n",
       "19 Fisher's Exact Test for Count Data two.sided   FOSL2::JUN   9.653565e-04\n",
       "20 Fisher's Exact Test for Count Data two.sided   FOSL2::JUNB  2.413014e-03\n",
       "21 Fisher's Exact Test for Count Data two.sided   FOSL1::JUND  3.500015e-03\n",
       "22 Fisher's Exact Test for Count Data two.sided   BACH2        9.694712e-03\n",
       "23 Fisher's Exact Test for Count Data two.sided   FOSL2::JUND  9.694712e-03\n",
       "24 Fisher's Exact Test for Count Data two.sided   FOSB::JUNB   1.266673e-02\n",
       "25 Fisher's Exact Test for Count Data two.sided   RREB1        1.511404e-02\n",
       "26 Fisher's Exact Test for Count Data two.sided   MAF::NFE2    1.574648e-02\n",
       "27 Fisher's Exact Test for Count Data two.sided   JUN::JUNB    1.611625e-02\n",
       "28 Fisher's Exact Test for Count Data two.sided   NFIX         3.311020e-02\n",
       "29 Fisher's Exact Test for Count Data two.sided   FOS          4.175809e-02"
      ]
     },
     "metadata": {},
     "output_type": "display_data"
    }
   ],
   "source": [
    "filter(full.res.all, q.value < 0.05 & estimate < 1)"
   ]
  },
  {
   "cell_type": "code",
   "execution_count": 184,
   "id": "f3bbf61b",
   "metadata": {
    "vscode": {
     "languageId": "r"
    }
   },
   "outputs": [
    {
     "data": {
      "text/html": [
       "<table class=\"dataframe\">\n",
       "<caption>A tibble: 5 × 8</caption>\n",
       "<thead>\n",
       "\t<tr><th scope=col>estimate</th><th scope=col>p.value</th><th scope=col>conf.low</th><th scope=col>conf.high</th><th scope=col>method</th><th scope=col>alternative</th><th scope=col>motif</th><th scope=col>q.value</th></tr>\n",
       "\t<tr><th scope=col>&lt;dbl&gt;</th><th scope=col>&lt;dbl&gt;</th><th scope=col>&lt;dbl&gt;</th><th scope=col>&lt;dbl&gt;</th><th scope=col>&lt;chr&gt;</th><th scope=col>&lt;chr&gt;</th><th scope=col>&lt;chr&gt;</th><th scope=col>&lt;dbl&gt;</th></tr>\n",
       "</thead>\n",
       "<tbody>\n",
       "\t<tr><td>1.966784</td><td>8.597775e-05</td><td>1.402044</td><td>2.702161</td><td>Fisher's Exact Test for Count Data</td><td>two.sided</td><td>POU1F1 </td><td>0.002640745</td></tr>\n",
       "\t<tr><td>1.744244</td><td>6.692160e-04</td><td>1.259600</td><td>2.368452</td><td>Fisher's Exact Test for Count Data</td><td>two.sided</td><td>ZIM3   </td><td>0.015746483</td></tr>\n",
       "\t<tr><td>1.852529</td><td>8.516923e-04</td><td>1.287511</td><td>2.600733</td><td>Fisher's Exact Test for Count Data</td><td>two.sided</td><td>POU2F2 </td><td>0.018311385</td></tr>\n",
       "\t<tr><td>1.738050</td><td>1.451024e-03</td><td>1.231337</td><td>2.399536</td><td>Fisher's Exact Test for Count Data</td><td>two.sided</td><td>FOXD3  </td><td>0.030190665</td></tr>\n",
       "\t<tr><td>1.794623</td><td>2.416961e-03</td><td>1.214386</td><td>2.577168</td><td>Fisher's Exact Test for Count Data</td><td>two.sided</td><td>ONECUT3</td><td>0.045851164</td></tr>\n",
       "</tbody>\n",
       "</table>\n"
      ],
      "text/latex": [
       "A tibble: 5 × 8\n",
       "\\begin{tabular}{llllllll}\n",
       " estimate & p.value & conf.low & conf.high & method & alternative & motif & q.value\\\\\n",
       " <dbl> & <dbl> & <dbl> & <dbl> & <chr> & <chr> & <chr> & <dbl>\\\\\n",
       "\\hline\n",
       "\t 1.966784 & 8.597775e-05 & 1.402044 & 2.702161 & Fisher's Exact Test for Count Data & two.sided & POU1F1  & 0.002640745\\\\\n",
       "\t 1.744244 & 6.692160e-04 & 1.259600 & 2.368452 & Fisher's Exact Test for Count Data & two.sided & ZIM3    & 0.015746483\\\\\n",
       "\t 1.852529 & 8.516923e-04 & 1.287511 & 2.600733 & Fisher's Exact Test for Count Data & two.sided & POU2F2  & 0.018311385\\\\\n",
       "\t 1.738050 & 1.451024e-03 & 1.231337 & 2.399536 & Fisher's Exact Test for Count Data & two.sided & FOXD3   & 0.030190665\\\\\n",
       "\t 1.794623 & 2.416961e-03 & 1.214386 & 2.577168 & Fisher's Exact Test for Count Data & two.sided & ONECUT3 & 0.045851164\\\\\n",
       "\\end{tabular}\n"
      ],
      "text/markdown": [
       "\n",
       "A tibble: 5 × 8\n",
       "\n",
       "| estimate &lt;dbl&gt; | p.value &lt;dbl&gt; | conf.low &lt;dbl&gt; | conf.high &lt;dbl&gt; | method &lt;chr&gt; | alternative &lt;chr&gt; | motif &lt;chr&gt; | q.value &lt;dbl&gt; |\n",
       "|---|---|---|---|---|---|---|---|\n",
       "| 1.966784 | 8.597775e-05 | 1.402044 | 2.702161 | Fisher's Exact Test for Count Data | two.sided | POU1F1  | 0.002640745 |\n",
       "| 1.744244 | 6.692160e-04 | 1.259600 | 2.368452 | Fisher's Exact Test for Count Data | two.sided | ZIM3    | 0.015746483 |\n",
       "| 1.852529 | 8.516923e-04 | 1.287511 | 2.600733 | Fisher's Exact Test for Count Data | two.sided | POU2F2  | 0.018311385 |\n",
       "| 1.738050 | 1.451024e-03 | 1.231337 | 2.399536 | Fisher's Exact Test for Count Data | two.sided | FOXD3   | 0.030190665 |\n",
       "| 1.794623 | 2.416961e-03 | 1.214386 | 2.577168 | Fisher's Exact Test for Count Data | two.sided | ONECUT3 | 0.045851164 |\n",
       "\n"
      ],
      "text/plain": [
       "  estimate p.value      conf.low conf.high method                            \n",
       "1 1.966784 8.597775e-05 1.402044 2.702161  Fisher's Exact Test for Count Data\n",
       "2 1.744244 6.692160e-04 1.259600 2.368452  Fisher's Exact Test for Count Data\n",
       "3 1.852529 8.516923e-04 1.287511 2.600733  Fisher's Exact Test for Count Data\n",
       "4 1.738050 1.451024e-03 1.231337 2.399536  Fisher's Exact Test for Count Data\n",
       "5 1.794623 2.416961e-03 1.214386 2.577168  Fisher's Exact Test for Count Data\n",
       "  alternative motif   q.value    \n",
       "1 two.sided   POU1F1  0.002640745\n",
       "2 two.sided   ZIM3    0.015746483\n",
       "3 two.sided   POU2F2  0.018311385\n",
       "4 two.sided   FOXD3   0.030190665\n",
       "5 two.sided   ONECUT3 0.045851164"
      ]
     },
     "metadata": {},
     "output_type": "display_data"
    }
   ],
   "source": [
    "filter(full.res.all, q.value < 0.05 & estimate > 1)"
   ]
  },
  {
   "cell_type": "code",
   "execution_count": 187,
   "id": "475ab441",
   "metadata": {
    "vscode": {
     "languageId": "r"
    }
   },
   "outputs": [
    {
     "data": {
      "text/html": [
       "<table class=\"dataframe\">\n",
       "<caption>A tibble: 5 × 8</caption>\n",
       "<thead>\n",
       "\t<tr><th scope=col>estimate</th><th scope=col>p.value</th><th scope=col>conf.low</th><th scope=col>conf.high</th><th scope=col>method</th><th scope=col>alternative</th><th scope=col>motif</th><th scope=col>q.value</th></tr>\n",
       "\t<tr><th scope=col>&lt;dbl&gt;</th><th scope=col>&lt;dbl&gt;</th><th scope=col>&lt;dbl&gt;</th><th scope=col>&lt;dbl&gt;</th><th scope=col>&lt;chr&gt;</th><th scope=col>&lt;chr&gt;</th><th scope=col>&lt;chr&gt;</th><th scope=col>&lt;dbl&gt;</th></tr>\n",
       "</thead>\n",
       "<tbody>\n",
       "\t<tr><td>1.632573</td><td>1.020957e-06</td><td>1.3335275</td><td>2.005579</td><td>Fisher's Exact Test for Count Data</td><td>two.sided</td><td>FOXD3  </td><td>2.397610e-06</td></tr>\n",
       "\t<tr><td>1.630806</td><td>2.143781e-06</td><td>1.3235991</td><td>2.016714</td><td>Fisher's Exact Test for Count Data</td><td>two.sided</td><td>POU1F1 </td><td>4.983072e-06</td></tr>\n",
       "\t<tr><td>1.583528</td><td>1.896795e-05</td><td>1.2737793</td><td>1.976223</td><td>Fisher's Exact Test for Count Data</td><td>two.sided</td><td>POU2F2 </td><td>3.630917e-05</td></tr>\n",
       "\t<tr><td>1.589516</td><td>4.584574e-05</td><td>1.2625925</td><td>2.009869</td><td>Fisher's Exact Test for Count Data</td><td>two.sided</td><td>ONECUT3</td><td>8.058307e-05</td></tr>\n",
       "\t<tr><td>1.158726</td><td>1.201075e-01</td><td>0.9635176</td><td>1.395484</td><td>Fisher's Exact Test for Count Data</td><td>two.sided</td><td>ZIM3   </td><td>6.650593e-02</td></tr>\n",
       "</tbody>\n",
       "</table>\n"
      ],
      "text/latex": [
       "A tibble: 5 × 8\n",
       "\\begin{tabular}{llllllll}\n",
       " estimate & p.value & conf.low & conf.high & method & alternative & motif & q.value\\\\\n",
       " <dbl> & <dbl> & <dbl> & <dbl> & <chr> & <chr> & <chr> & <dbl>\\\\\n",
       "\\hline\n",
       "\t 1.632573 & 1.020957e-06 & 1.3335275 & 2.005579 & Fisher's Exact Test for Count Data & two.sided & FOXD3   & 2.397610e-06\\\\\n",
       "\t 1.630806 & 2.143781e-06 & 1.3235991 & 2.016714 & Fisher's Exact Test for Count Data & two.sided & POU1F1  & 4.983072e-06\\\\\n",
       "\t 1.583528 & 1.896795e-05 & 1.2737793 & 1.976223 & Fisher's Exact Test for Count Data & two.sided & POU2F2  & 3.630917e-05\\\\\n",
       "\t 1.589516 & 4.584574e-05 & 1.2625925 & 2.009869 & Fisher's Exact Test for Count Data & two.sided & ONECUT3 & 8.058307e-05\\\\\n",
       "\t 1.158726 & 1.201075e-01 & 0.9635176 & 1.395484 & Fisher's Exact Test for Count Data & two.sided & ZIM3    & 6.650593e-02\\\\\n",
       "\\end{tabular}\n"
      ],
      "text/markdown": [
       "\n",
       "A tibble: 5 × 8\n",
       "\n",
       "| estimate &lt;dbl&gt; | p.value &lt;dbl&gt; | conf.low &lt;dbl&gt; | conf.high &lt;dbl&gt; | method &lt;chr&gt; | alternative &lt;chr&gt; | motif &lt;chr&gt; | q.value &lt;dbl&gt; |\n",
       "|---|---|---|---|---|---|---|---|\n",
       "| 1.632573 | 1.020957e-06 | 1.3335275 | 2.005579 | Fisher's Exact Test for Count Data | two.sided | FOXD3   | 2.397610e-06 |\n",
       "| 1.630806 | 2.143781e-06 | 1.3235991 | 2.016714 | Fisher's Exact Test for Count Data | two.sided | POU1F1  | 4.983072e-06 |\n",
       "| 1.583528 | 1.896795e-05 | 1.2737793 | 1.976223 | Fisher's Exact Test for Count Data | two.sided | POU2F2  | 3.630917e-05 |\n",
       "| 1.589516 | 4.584574e-05 | 1.2625925 | 2.009869 | Fisher's Exact Test for Count Data | two.sided | ONECUT3 | 8.058307e-05 |\n",
       "| 1.158726 | 1.201075e-01 | 0.9635176 | 1.395484 | Fisher's Exact Test for Count Data | two.sided | ZIM3    | 6.650593e-02 |\n",
       "\n"
      ],
      "text/plain": [
       "  estimate p.value      conf.low  conf.high method                            \n",
       "1 1.632573 1.020957e-06 1.3335275 2.005579  Fisher's Exact Test for Count Data\n",
       "2 1.630806 2.143781e-06 1.3235991 2.016714  Fisher's Exact Test for Count Data\n",
       "3 1.583528 1.896795e-05 1.2737793 1.976223  Fisher's Exact Test for Count Data\n",
       "4 1.589516 4.584574e-05 1.2625925 2.009869  Fisher's Exact Test for Count Data\n",
       "5 1.158726 1.201075e-01 0.9635176 1.395484  Fisher's Exact Test for Count Data\n",
       "  alternative motif   q.value     \n",
       "1 two.sided   FOXD3   2.397610e-06\n",
       "2 two.sided   POU1F1  4.983072e-06\n",
       "3 two.sided   POU2F2  3.630917e-05\n",
       "4 two.sided   ONECUT3 8.058307e-05\n",
       "5 two.sided   ZIM3    6.650593e-02"
      ]
     },
     "metadata": {},
     "output_type": "display_data"
    }
   ],
   "source": [
    "filter(full.res, motif %in% filter(full.res.all, q.value < 0.05 & estimate > 1)$motif)"
   ]
  },
  {
   "cell_type": "code",
   "execution_count": 188,
   "id": "e28c491c",
   "metadata": {
    "scrolled": true,
    "vscode": {
     "languageId": "r"
    }
   },
   "outputs": [
    {
     "data": {
      "text/html": [
       "<table class=\"dataframe\">\n",
       "<caption>A tibble: 106 × 8</caption>\n",
       "<thead>\n",
       "\t<tr><th scope=col>estimate</th><th scope=col>p.value</th><th scope=col>conf.low</th><th scope=col>conf.high</th><th scope=col>method</th><th scope=col>alternative</th><th scope=col>motif</th><th scope=col>q.value</th></tr>\n",
       "\t<tr><th scope=col>&lt;dbl&gt;</th><th scope=col>&lt;dbl&gt;</th><th scope=col>&lt;dbl&gt;</th><th scope=col>&lt;dbl&gt;</th><th scope=col>&lt;chr&gt;</th><th scope=col>&lt;chr&gt;</th><th scope=col>&lt;chr&gt;</th><th scope=col>&lt;dbl&gt;</th></tr>\n",
       "</thead>\n",
       "<tbody>\n",
       "\t<tr><td>1.966784</td><td>8.597775e-05</td><td>1.4020444</td><td>2.702161</td><td>Fisher's Exact Test for Count Data</td><td>two.sided</td><td>POU1F1      </td><td>0.002640745</td></tr>\n",
       "\t<tr><td>1.852529</td><td>8.516923e-04</td><td>1.2875113</td><td>2.600733</td><td>Fisher's Exact Test for Count Data</td><td>two.sided</td><td>POU2F2      </td><td>0.018311385</td></tr>\n",
       "\t<tr><td>1.738050</td><td>1.451024e-03</td><td>1.2313369</td><td>2.399536</td><td>Fisher's Exact Test for Count Data</td><td>two.sided</td><td>FOXD3       </td><td>0.030190665</td></tr>\n",
       "\t<tr><td>1.794623</td><td>2.416961e-03</td><td>1.2143864</td><td>2.577168</td><td>Fisher's Exact Test for Count Data</td><td>two.sided</td><td>ONECUT3     </td><td>0.045851164</td></tr>\n",
       "\t<tr><td>1.616863</td><td>3.932773e-03</td><td>1.1603610</td><td>2.206683</td><td>Fisher's Exact Test for Count Data</td><td>two.sided</td><td>ZNF143      </td><td>0.072475389</td></tr>\n",
       "\t<tr><td>1.642619</td><td>1.103954e-02</td><td>1.0990174</td><td>2.380203</td><td>Fisher's Exact Test for Count Data</td><td>two.sided</td><td>POU3F4      </td><td>0.170080369</td></tr>\n",
       "\t<tr><td>1.455047</td><td>2.200314e-02</td><td>1.0456191</td><td>1.982882</td><td>Fisher's Exact Test for Count Data</td><td>two.sided</td><td>POU2F1::SOX2</td><td>0.268190479</td></tr>\n",
       "\t<tr><td>1.632665</td><td>2.642911e-02</td><td>1.0318880</td><td>2.480416</td><td>Fisher's Exact Test for Count Data</td><td>two.sided</td><td>ZNF384      </td><td>0.293909974</td></tr>\n",
       "\t<tr><td>1.523023</td><td>2.766748e-02</td><td>1.0269264</td><td>2.191840</td><td>Fisher's Exact Test for Count Data</td><td>two.sided</td><td>POU3F2      </td><td>0.296771983</td></tr>\n",
       "\t<tr><td>1.570902</td><td>3.169599e-02</td><td>1.0292419</td><td>2.316018</td><td>Fisher's Exact Test for Count Data</td><td>two.sided</td><td>E2F7        </td><td>0.319436167</td></tr>\n",
       "\t<tr><td>1.423901</td><td>4.134966e-02</td><td>0.9982365</td><td>1.981984</td><td>Fisher's Exact Test for Count Data</td><td>two.sided</td><td>ZNF76       </td><td>0.386529461</td></tr>\n",
       "\t<tr><td>1.454476</td><td>4.128157e-02</td><td>1.0043348</td><td>2.051044</td><td>Fisher's Exact Test for Count Data</td><td>two.sided</td><td>SOX21       </td><td>0.386529461</td></tr>\n",
       "\t<tr><td>1.452024</td><td>4.404450e-02</td><td>0.9858113</td><td>2.077203</td><td>Fisher's Exact Test for Count Data</td><td>two.sided</td><td>MEF2A       </td><td>0.389160297</td></tr>\n",
       "\t<tr><td>1.450266</td><td>4.973884e-02</td><td>0.9722083</td><td>2.096805</td><td>Fisher's Exact Test for Count Data</td><td>two.sided</td><td>POU3F3      </td><td>0.403858141</td></tr>\n",
       "\t<tr><td>1.511554</td><td>5.202738e-02</td><td>0.9746744</td><td>2.257597</td><td>Fisher's Exact Test for Count Data</td><td>two.sided</td><td>ZNF85       </td><td>0.414292087</td></tr>\n",
       "\t<tr><td>1.786300</td><td>5.817318e-02</td><td>0.9207869</td><td>3.187717</td><td>Fisher's Exact Test for Count Data</td><td>two.sided</td><td>TFCP2       </td><td>0.452068706</td></tr>\n",
       "\t<tr><td>1.530863</td><td>6.394303e-02</td><td>0.9482779</td><td>2.362971</td><td>Fisher's Exact Test for Count Data</td><td>two.sided</td><td>SOX15       </td><td>0.485214751</td></tr>\n",
       "\t<tr><td>1.446356</td><td>7.954906e-02</td><td>0.9412446</td><td>2.143308</td><td>Fisher's Exact Test for Count Data</td><td>two.sided</td><td>ZNF410      </td><td>0.529697305</td></tr>\n",
       "\t<tr><td>1.520294</td><td>7.936382e-02</td><td>0.9308101</td><td>2.368698</td><td>Fisher's Exact Test for Count Data</td><td>two.sided</td><td>SOX18       </td><td>0.529697305</td></tr>\n",
       "\t<tr><td>1.326896</td><td>7.880713e-02</td><td>0.9545266</td><td>1.806000</td><td>Fisher's Exact Test for Count Data</td><td>two.sided</td><td>IRF3        </td><td>0.529697305</td></tr>\n",
       "\t<tr><td>1.377589</td><td>7.877635e-02</td><td>0.9359424</td><td>1.968939</td><td>Fisher's Exact Test for Count Data</td><td>two.sided</td><td>MEF2C       </td><td>0.529697305</td></tr>\n",
       "\t<tr><td>1.419290</td><td>9.347292e-02</td><td>0.9078753</td><td>2.132996</td><td>Fisher's Exact Test for Count Data</td><td>two.sided</td><td>FOXH1       </td><td>0.559545664</td></tr>\n",
       "\t<tr><td>1.390431</td><td>9.226244e-02</td><td>0.9127134</td><td>2.045447</td><td>Fisher's Exact Test for Count Data</td><td>two.sided</td><td>POU2F1      </td><td>0.559545664</td></tr>\n",
       "\t<tr><td>1.411809</td><td>8.860225e-02</td><td>0.9265427</td><td>2.077357</td><td>Fisher's Exact Test for Count Data</td><td>two.sided</td><td>POU3F1      </td><td>0.559545664</td></tr>\n",
       "\t<tr><td>1.457617</td><td>9.322680e-02</td><td>0.9036920</td><td>2.247595</td><td>Fisher's Exact Test for Count Data</td><td>two.sided</td><td>SOX2        </td><td>0.559545664</td></tr>\n",
       "\t<tr><td>1.357518</td><td>1.194726e-01</td><td>0.8914211</td><td>1.996073</td><td>Fisher's Exact Test for Count Data</td><td>two.sided</td><td>ZNF136      </td><td>0.631637810</td></tr>\n",
       "\t<tr><td>1.418000</td><td>1.253798e-01</td><td>0.8795328</td><td>2.185083</td><td>Fisher's Exact Test for Count Data</td><td>two.sided</td><td>CEBPA       </td><td>0.636771654</td></tr>\n",
       "\t<tr><td>1.380016</td><td>1.300123e-01</td><td>0.8911417</td><td>2.057591</td><td>Fisher's Exact Test for Count Data</td><td>two.sided</td><td>MEF2D       </td><td>0.642452612</td></tr>\n",
       "\t<tr><td>1.301797</td><td>1.304826e-01</td><td>0.9092981</td><td>1.817011</td><td>Fisher's Exact Test for Count Data</td><td>two.sided</td><td>POU4F2      </td><td>0.642452612</td></tr>\n",
       "\t<tr><td>1.394195</td><td>1.365462e-01</td><td>0.8745348</td><td>2.128709</td><td>Fisher's Exact Test for Count Data</td><td>two.sided</td><td>SOX13       </td><td>0.656741247</td></tr>\n",
       "\t<tr><td>⋮</td><td>⋮</td><td>⋮</td><td>⋮</td><td>⋮</td><td>⋮</td><td>⋮</td><td>⋮</td></tr>\n",
       "\t<tr><td>1.2479870</td><td>0.6356407</td><td>0.4433036</td><td>2.850830</td><td>Fisher's Exact Test for Count Data</td><td>two.sided</td><td>PITX3       </td><td>0.9855486</td></tr>\n",
       "\t<tr><td>1.2479870</td><td>0.6356407</td><td>0.4433036</td><td>2.850830</td><td>Fisher's Exact Test for Count Data</td><td>two.sided</td><td>OTX2        </td><td>0.9855486</td></tr>\n",
       "\t<tr><td>1.2162661</td><td>0.6399131</td><td>0.4324025</td><td>2.775361</td><td>Fisher's Exact Test for Count Data</td><td>two.sided</td><td>DLX1        </td><td>0.9874258</td></tr>\n",
       "\t<tr><td>1.1555444</td><td>0.6738196</td><td>0.4515658</td><td>2.480382</td><td>Fisher's Exact Test for Count Data</td><td>two.sided</td><td>MSX2        </td><td>0.9994709</td></tr>\n",
       "\t<tr><td>1.1555444</td><td>0.6738196</td><td>0.4515658</td><td>2.480382</td><td>Fisher's Exact Test for Count Data</td><td>two.sided</td><td>MSX1        </td><td>0.9994709</td></tr>\n",
       "\t<tr><td>1.1157786</td><td>0.6611858</td><td>0.5972163</td><td>1.924062</td><td>Fisher's Exact Test for Count Data</td><td>two.sided</td><td>DMRTA2      </td><td>0.9994709</td></tr>\n",
       "\t<tr><td>1.0748191</td><td>0.6565997</td><td>0.7447751</td><td>1.509411</td><td>Fisher's Exact Test for Count Data</td><td>two.sided</td><td>FOXE1       </td><td>0.9994709</td></tr>\n",
       "\t<tr><td>1.1125158</td><td>0.6720618</td><td>0.6099937</td><td>1.884146</td><td>Fisher's Exact Test for Count Data</td><td>two.sided</td><td>HOXA10      </td><td>0.9994709</td></tr>\n",
       "\t<tr><td>1.0761063</td><td>0.8487297</td><td>0.4530014</td><td>2.197245</td><td>Fisher's Exact Test for Count Data</td><td>two.sided</td><td>OVOL1       </td><td>1.0000000</td></tr>\n",
       "\t<tr><td>0.8698757</td><td>0.8638431</td><td>0.3677701</td><td>1.765310</td><td>Fisher's Exact Test for Count Data</td><td>two.sided</td><td>PITX1       </td><td>1.0000000</td></tr>\n",
       "\t<tr><td>1.0670328</td><td>0.8266698</td><td>0.3806746</td><td>2.421626</td><td>Fisher's Exact Test for Count Data</td><td>two.sided</td><td>RHOXF1      </td><td>1.0000000</td></tr>\n",
       "\t<tr><td>0.9845120</td><td>1.0000000</td><td>0.4152209</td><td>2.004749</td><td>Fisher's Exact Test for Count Data</td><td>two.sided</td><td>GSC         </td><td>1.0000000</td></tr>\n",
       "\t<tr><td>0.8046073</td><td>0.7239703</td><td>0.3168853</td><td>1.707804</td><td>Fisher's Exact Test for Count Data</td><td>two.sided</td><td>LMX1B       </td><td>1.0000000</td></tr>\n",
       "\t<tr><td>1.1647335</td><td>0.6920520</td><td>0.4893869</td><td>2.384307</td><td>Fisher's Exact Test for Count Data</td><td>two.sided</td><td>ISX         </td><td>1.0000000</td></tr>\n",
       "\t<tr><td>0.8833459</td><td>0.8822656</td><td>0.4326786</td><td>1.621137</td><td>Fisher's Exact Test for Count Data</td><td>two.sided</td><td>DMRT3       </td><td>1.0000000</td></tr>\n",
       "\t<tr><td>0.9895862</td><td>1.0000000</td><td>0.5011081</td><td>1.775467</td><td>Fisher's Exact Test for Count Data</td><td>two.sided</td><td>DMRTA1      </td><td>1.0000000</td></tr>\n",
       "\t<tr><td>1.0202767</td><td>0.9219628</td><td>0.6723604</td><td>1.493782</td><td>Fisher's Exact Test for Count Data</td><td>two.sided</td><td>IRF7        </td><td>1.0000000</td></tr>\n",
       "\t<tr><td>0.9550746</td><td>1.0000000</td><td>0.2524343</td><td>2.567966</td><td>Fisher's Exact Test for Count Data</td><td>two.sided</td><td>ZBED1       </td><td>1.0000000</td></tr>\n",
       "\t<tr><td>1.0957591</td><td>0.7631278</td><td>0.5710995</td><td>1.926850</td><td>Fisher's Exact Test for Count Data</td><td>two.sided</td><td>HSF4        </td><td>1.0000000</td></tr>\n",
       "\t<tr><td>0.8543776</td><td>0.6885014</td><td>0.4470278</td><td>1.494719</td><td>Fisher's Exact Test for Count Data</td><td>two.sided</td><td>DMRTC2      </td><td>1.0000000</td></tr>\n",
       "\t<tr><td>1.0439340</td><td>0.8781762</td><td>0.5281283</td><td>1.875051</td><td>Fisher's Exact Test for Count Data</td><td>two.sided</td><td>IRF6        </td><td>1.0000000</td></tr>\n",
       "\t<tr><td>1.0641767</td><td>0.7081331</td><td>0.7207583</td><td>1.523278</td><td>Fisher's Exact Test for Count Data</td><td>two.sided</td><td>STAT1::STAT2</td><td>1.0000000</td></tr>\n",
       "\t<tr><td>0.9868029</td><td>1.0000000</td><td>0.5838710</td><td>1.574899</td><td>Fisher's Exact Test for Count Data</td><td>two.sided</td><td>PROP1       </td><td>1.0000000</td></tr>\n",
       "\t<tr><td>1.0852894</td><td>0.7065583</td><td>0.4567777</td><td>2.216574</td><td>Fisher's Exact Test for Count Data</td><td>two.sided</td><td>LHX2        </td><td>1.0000000</td></tr>\n",
       "\t<tr><td>1.0435701</td><td>0.8345893</td><td>0.6703457</td><td>1.560340</td><td>Fisher's Exact Test for Count Data</td><td>two.sided</td><td>ZNF680      </td><td>1.0000000</td></tr>\n",
       "\t<tr><td>1.0670328</td><td>0.8266698</td><td>0.3806746</td><td>2.421626</td><td>Fisher's Exact Test for Count Data</td><td>two.sided</td><td>HOXC8       </td><td>1.0000000</td></tr>\n",
       "\t<tr><td>1.0936820</td><td>0.6933543</td><td>0.6248158</td><td>1.794854</td><td>Fisher's Exact Test for Count Data</td><td>two.sided</td><td>ZNF211      </td><td>1.0000000</td></tr>\n",
       "\t<tr><td>1.0035378</td><td>1.0000000</td><td>0.5842035</td><td>1.622156</td><td>Fisher's Exact Test for Count Data</td><td>two.sided</td><td>IRF5        </td><td>1.0000000</td></tr>\n",
       "\t<tr><td>1.0713519</td><td>0.7252203</td><td>0.6513086</td><td>1.674487</td><td>Fisher's Exact Test for Count Data</td><td>two.sided</td><td>CDX2        </td><td>1.0000000</td></tr>\n",
       "\t<tr><td>0.9208618</td><td>0.8228436</td><td>0.5533427</td><td>1.451320</td><td>Fisher's Exact Test for Count Data</td><td>two.sided</td><td>PRDM1       </td><td>1.0000000</td></tr>\n",
       "</tbody>\n",
       "</table>\n"
      ],
      "text/latex": [
       "A tibble: 106 × 8\n",
       "\\begin{tabular}{llllllll}\n",
       " estimate & p.value & conf.low & conf.high & method & alternative & motif & q.value\\\\\n",
       " <dbl> & <dbl> & <dbl> & <dbl> & <chr> & <chr> & <chr> & <dbl>\\\\\n",
       "\\hline\n",
       "\t 1.966784 & 8.597775e-05 & 1.4020444 & 2.702161 & Fisher's Exact Test for Count Data & two.sided & POU1F1       & 0.002640745\\\\\n",
       "\t 1.852529 & 8.516923e-04 & 1.2875113 & 2.600733 & Fisher's Exact Test for Count Data & two.sided & POU2F2       & 0.018311385\\\\\n",
       "\t 1.738050 & 1.451024e-03 & 1.2313369 & 2.399536 & Fisher's Exact Test for Count Data & two.sided & FOXD3        & 0.030190665\\\\\n",
       "\t 1.794623 & 2.416961e-03 & 1.2143864 & 2.577168 & Fisher's Exact Test for Count Data & two.sided & ONECUT3      & 0.045851164\\\\\n",
       "\t 1.616863 & 3.932773e-03 & 1.1603610 & 2.206683 & Fisher's Exact Test for Count Data & two.sided & ZNF143       & 0.072475389\\\\\n",
       "\t 1.642619 & 1.103954e-02 & 1.0990174 & 2.380203 & Fisher's Exact Test for Count Data & two.sided & POU3F4       & 0.170080369\\\\\n",
       "\t 1.455047 & 2.200314e-02 & 1.0456191 & 1.982882 & Fisher's Exact Test for Count Data & two.sided & POU2F1::SOX2 & 0.268190479\\\\\n",
       "\t 1.632665 & 2.642911e-02 & 1.0318880 & 2.480416 & Fisher's Exact Test for Count Data & two.sided & ZNF384       & 0.293909974\\\\\n",
       "\t 1.523023 & 2.766748e-02 & 1.0269264 & 2.191840 & Fisher's Exact Test for Count Data & two.sided & POU3F2       & 0.296771983\\\\\n",
       "\t 1.570902 & 3.169599e-02 & 1.0292419 & 2.316018 & Fisher's Exact Test for Count Data & two.sided & E2F7         & 0.319436167\\\\\n",
       "\t 1.423901 & 4.134966e-02 & 0.9982365 & 1.981984 & Fisher's Exact Test for Count Data & two.sided & ZNF76        & 0.386529461\\\\\n",
       "\t 1.454476 & 4.128157e-02 & 1.0043348 & 2.051044 & Fisher's Exact Test for Count Data & two.sided & SOX21        & 0.386529461\\\\\n",
       "\t 1.452024 & 4.404450e-02 & 0.9858113 & 2.077203 & Fisher's Exact Test for Count Data & two.sided & MEF2A        & 0.389160297\\\\\n",
       "\t 1.450266 & 4.973884e-02 & 0.9722083 & 2.096805 & Fisher's Exact Test for Count Data & two.sided & POU3F3       & 0.403858141\\\\\n",
       "\t 1.511554 & 5.202738e-02 & 0.9746744 & 2.257597 & Fisher's Exact Test for Count Data & two.sided & ZNF85        & 0.414292087\\\\\n",
       "\t 1.786300 & 5.817318e-02 & 0.9207869 & 3.187717 & Fisher's Exact Test for Count Data & two.sided & TFCP2        & 0.452068706\\\\\n",
       "\t 1.530863 & 6.394303e-02 & 0.9482779 & 2.362971 & Fisher's Exact Test for Count Data & two.sided & SOX15        & 0.485214751\\\\\n",
       "\t 1.446356 & 7.954906e-02 & 0.9412446 & 2.143308 & Fisher's Exact Test for Count Data & two.sided & ZNF410       & 0.529697305\\\\\n",
       "\t 1.520294 & 7.936382e-02 & 0.9308101 & 2.368698 & Fisher's Exact Test for Count Data & two.sided & SOX18        & 0.529697305\\\\\n",
       "\t 1.326896 & 7.880713e-02 & 0.9545266 & 1.806000 & Fisher's Exact Test for Count Data & two.sided & IRF3         & 0.529697305\\\\\n",
       "\t 1.377589 & 7.877635e-02 & 0.9359424 & 1.968939 & Fisher's Exact Test for Count Data & two.sided & MEF2C        & 0.529697305\\\\\n",
       "\t 1.419290 & 9.347292e-02 & 0.9078753 & 2.132996 & Fisher's Exact Test for Count Data & two.sided & FOXH1        & 0.559545664\\\\\n",
       "\t 1.390431 & 9.226244e-02 & 0.9127134 & 2.045447 & Fisher's Exact Test for Count Data & two.sided & POU2F1       & 0.559545664\\\\\n",
       "\t 1.411809 & 8.860225e-02 & 0.9265427 & 2.077357 & Fisher's Exact Test for Count Data & two.sided & POU3F1       & 0.559545664\\\\\n",
       "\t 1.457617 & 9.322680e-02 & 0.9036920 & 2.247595 & Fisher's Exact Test for Count Data & two.sided & SOX2         & 0.559545664\\\\\n",
       "\t 1.357518 & 1.194726e-01 & 0.8914211 & 1.996073 & Fisher's Exact Test for Count Data & two.sided & ZNF136       & 0.631637810\\\\\n",
       "\t 1.418000 & 1.253798e-01 & 0.8795328 & 2.185083 & Fisher's Exact Test for Count Data & two.sided & CEBPA        & 0.636771654\\\\\n",
       "\t 1.380016 & 1.300123e-01 & 0.8911417 & 2.057591 & Fisher's Exact Test for Count Data & two.sided & MEF2D        & 0.642452612\\\\\n",
       "\t 1.301797 & 1.304826e-01 & 0.9092981 & 1.817011 & Fisher's Exact Test for Count Data & two.sided & POU4F2       & 0.642452612\\\\\n",
       "\t 1.394195 & 1.365462e-01 & 0.8745348 & 2.128709 & Fisher's Exact Test for Count Data & two.sided & SOX13        & 0.656741247\\\\\n",
       "\t ⋮ & ⋮ & ⋮ & ⋮ & ⋮ & ⋮ & ⋮ & ⋮\\\\\n",
       "\t 1.2479870 & 0.6356407 & 0.4433036 & 2.850830 & Fisher's Exact Test for Count Data & two.sided & PITX3        & 0.9855486\\\\\n",
       "\t 1.2479870 & 0.6356407 & 0.4433036 & 2.850830 & Fisher's Exact Test for Count Data & two.sided & OTX2         & 0.9855486\\\\\n",
       "\t 1.2162661 & 0.6399131 & 0.4324025 & 2.775361 & Fisher's Exact Test for Count Data & two.sided & DLX1         & 0.9874258\\\\\n",
       "\t 1.1555444 & 0.6738196 & 0.4515658 & 2.480382 & Fisher's Exact Test for Count Data & two.sided & MSX2         & 0.9994709\\\\\n",
       "\t 1.1555444 & 0.6738196 & 0.4515658 & 2.480382 & Fisher's Exact Test for Count Data & two.sided & MSX1         & 0.9994709\\\\\n",
       "\t 1.1157786 & 0.6611858 & 0.5972163 & 1.924062 & Fisher's Exact Test for Count Data & two.sided & DMRTA2       & 0.9994709\\\\\n",
       "\t 1.0748191 & 0.6565997 & 0.7447751 & 1.509411 & Fisher's Exact Test for Count Data & two.sided & FOXE1        & 0.9994709\\\\\n",
       "\t 1.1125158 & 0.6720618 & 0.6099937 & 1.884146 & Fisher's Exact Test for Count Data & two.sided & HOXA10       & 0.9994709\\\\\n",
       "\t 1.0761063 & 0.8487297 & 0.4530014 & 2.197245 & Fisher's Exact Test for Count Data & two.sided & OVOL1        & 1.0000000\\\\\n",
       "\t 0.8698757 & 0.8638431 & 0.3677701 & 1.765310 & Fisher's Exact Test for Count Data & two.sided & PITX1        & 1.0000000\\\\\n",
       "\t 1.0670328 & 0.8266698 & 0.3806746 & 2.421626 & Fisher's Exact Test for Count Data & two.sided & RHOXF1       & 1.0000000\\\\\n",
       "\t 0.9845120 & 1.0000000 & 0.4152209 & 2.004749 & Fisher's Exact Test for Count Data & two.sided & GSC          & 1.0000000\\\\\n",
       "\t 0.8046073 & 0.7239703 & 0.3168853 & 1.707804 & Fisher's Exact Test for Count Data & two.sided & LMX1B        & 1.0000000\\\\\n",
       "\t 1.1647335 & 0.6920520 & 0.4893869 & 2.384307 & Fisher's Exact Test for Count Data & two.sided & ISX          & 1.0000000\\\\\n",
       "\t 0.8833459 & 0.8822656 & 0.4326786 & 1.621137 & Fisher's Exact Test for Count Data & two.sided & DMRT3        & 1.0000000\\\\\n",
       "\t 0.9895862 & 1.0000000 & 0.5011081 & 1.775467 & Fisher's Exact Test for Count Data & two.sided & DMRTA1       & 1.0000000\\\\\n",
       "\t 1.0202767 & 0.9219628 & 0.6723604 & 1.493782 & Fisher's Exact Test for Count Data & two.sided & IRF7         & 1.0000000\\\\\n",
       "\t 0.9550746 & 1.0000000 & 0.2524343 & 2.567966 & Fisher's Exact Test for Count Data & two.sided & ZBED1        & 1.0000000\\\\\n",
       "\t 1.0957591 & 0.7631278 & 0.5710995 & 1.926850 & Fisher's Exact Test for Count Data & two.sided & HSF4         & 1.0000000\\\\\n",
       "\t 0.8543776 & 0.6885014 & 0.4470278 & 1.494719 & Fisher's Exact Test for Count Data & two.sided & DMRTC2       & 1.0000000\\\\\n",
       "\t 1.0439340 & 0.8781762 & 0.5281283 & 1.875051 & Fisher's Exact Test for Count Data & two.sided & IRF6         & 1.0000000\\\\\n",
       "\t 1.0641767 & 0.7081331 & 0.7207583 & 1.523278 & Fisher's Exact Test for Count Data & two.sided & STAT1::STAT2 & 1.0000000\\\\\n",
       "\t 0.9868029 & 1.0000000 & 0.5838710 & 1.574899 & Fisher's Exact Test for Count Data & two.sided & PROP1        & 1.0000000\\\\\n",
       "\t 1.0852894 & 0.7065583 & 0.4567777 & 2.216574 & Fisher's Exact Test for Count Data & two.sided & LHX2         & 1.0000000\\\\\n",
       "\t 1.0435701 & 0.8345893 & 0.6703457 & 1.560340 & Fisher's Exact Test for Count Data & two.sided & ZNF680       & 1.0000000\\\\\n",
       "\t 1.0670328 & 0.8266698 & 0.3806746 & 2.421626 & Fisher's Exact Test for Count Data & two.sided & HOXC8        & 1.0000000\\\\\n",
       "\t 1.0936820 & 0.6933543 & 0.6248158 & 1.794854 & Fisher's Exact Test for Count Data & two.sided & ZNF211       & 1.0000000\\\\\n",
       "\t 1.0035378 & 1.0000000 & 0.5842035 & 1.622156 & Fisher's Exact Test for Count Data & two.sided & IRF5         & 1.0000000\\\\\n",
       "\t 1.0713519 & 0.7252203 & 0.6513086 & 1.674487 & Fisher's Exact Test for Count Data & two.sided & CDX2         & 1.0000000\\\\\n",
       "\t 0.9208618 & 0.8228436 & 0.5533427 & 1.451320 & Fisher's Exact Test for Count Data & two.sided & PRDM1        & 1.0000000\\\\\n",
       "\\end{tabular}\n"
      ],
      "text/markdown": [
       "\n",
       "A tibble: 106 × 8\n",
       "\n",
       "| estimate &lt;dbl&gt; | p.value &lt;dbl&gt; | conf.low &lt;dbl&gt; | conf.high &lt;dbl&gt; | method &lt;chr&gt; | alternative &lt;chr&gt; | motif &lt;chr&gt; | q.value &lt;dbl&gt; |\n",
       "|---|---|---|---|---|---|---|---|\n",
       "| 1.966784 | 8.597775e-05 | 1.4020444 | 2.702161 | Fisher's Exact Test for Count Data | two.sided | POU1F1       | 0.002640745 |\n",
       "| 1.852529 | 8.516923e-04 | 1.2875113 | 2.600733 | Fisher's Exact Test for Count Data | two.sided | POU2F2       | 0.018311385 |\n",
       "| 1.738050 | 1.451024e-03 | 1.2313369 | 2.399536 | Fisher's Exact Test for Count Data | two.sided | FOXD3        | 0.030190665 |\n",
       "| 1.794623 | 2.416961e-03 | 1.2143864 | 2.577168 | Fisher's Exact Test for Count Data | two.sided | ONECUT3      | 0.045851164 |\n",
       "| 1.616863 | 3.932773e-03 | 1.1603610 | 2.206683 | Fisher's Exact Test for Count Data | two.sided | ZNF143       | 0.072475389 |\n",
       "| 1.642619 | 1.103954e-02 | 1.0990174 | 2.380203 | Fisher's Exact Test for Count Data | two.sided | POU3F4       | 0.170080369 |\n",
       "| 1.455047 | 2.200314e-02 | 1.0456191 | 1.982882 | Fisher's Exact Test for Count Data | two.sided | POU2F1::SOX2 | 0.268190479 |\n",
       "| 1.632665 | 2.642911e-02 | 1.0318880 | 2.480416 | Fisher's Exact Test for Count Data | two.sided | ZNF384       | 0.293909974 |\n",
       "| 1.523023 | 2.766748e-02 | 1.0269264 | 2.191840 | Fisher's Exact Test for Count Data | two.sided | POU3F2       | 0.296771983 |\n",
       "| 1.570902 | 3.169599e-02 | 1.0292419 | 2.316018 | Fisher's Exact Test for Count Data | two.sided | E2F7         | 0.319436167 |\n",
       "| 1.423901 | 4.134966e-02 | 0.9982365 | 1.981984 | Fisher's Exact Test for Count Data | two.sided | ZNF76        | 0.386529461 |\n",
       "| 1.454476 | 4.128157e-02 | 1.0043348 | 2.051044 | Fisher's Exact Test for Count Data | two.sided | SOX21        | 0.386529461 |\n",
       "| 1.452024 | 4.404450e-02 | 0.9858113 | 2.077203 | Fisher's Exact Test for Count Data | two.sided | MEF2A        | 0.389160297 |\n",
       "| 1.450266 | 4.973884e-02 | 0.9722083 | 2.096805 | Fisher's Exact Test for Count Data | two.sided | POU3F3       | 0.403858141 |\n",
       "| 1.511554 | 5.202738e-02 | 0.9746744 | 2.257597 | Fisher's Exact Test for Count Data | two.sided | ZNF85        | 0.414292087 |\n",
       "| 1.786300 | 5.817318e-02 | 0.9207869 | 3.187717 | Fisher's Exact Test for Count Data | two.sided | TFCP2        | 0.452068706 |\n",
       "| 1.530863 | 6.394303e-02 | 0.9482779 | 2.362971 | Fisher's Exact Test for Count Data | two.sided | SOX15        | 0.485214751 |\n",
       "| 1.446356 | 7.954906e-02 | 0.9412446 | 2.143308 | Fisher's Exact Test for Count Data | two.sided | ZNF410       | 0.529697305 |\n",
       "| 1.520294 | 7.936382e-02 | 0.9308101 | 2.368698 | Fisher's Exact Test for Count Data | two.sided | SOX18        | 0.529697305 |\n",
       "| 1.326896 | 7.880713e-02 | 0.9545266 | 1.806000 | Fisher's Exact Test for Count Data | two.sided | IRF3         | 0.529697305 |\n",
       "| 1.377589 | 7.877635e-02 | 0.9359424 | 1.968939 | Fisher's Exact Test for Count Data | two.sided | MEF2C        | 0.529697305 |\n",
       "| 1.419290 | 9.347292e-02 | 0.9078753 | 2.132996 | Fisher's Exact Test for Count Data | two.sided | FOXH1        | 0.559545664 |\n",
       "| 1.390431 | 9.226244e-02 | 0.9127134 | 2.045447 | Fisher's Exact Test for Count Data | two.sided | POU2F1       | 0.559545664 |\n",
       "| 1.411809 | 8.860225e-02 | 0.9265427 | 2.077357 | Fisher's Exact Test for Count Data | two.sided | POU3F1       | 0.559545664 |\n",
       "| 1.457617 | 9.322680e-02 | 0.9036920 | 2.247595 | Fisher's Exact Test for Count Data | two.sided | SOX2         | 0.559545664 |\n",
       "| 1.357518 | 1.194726e-01 | 0.8914211 | 1.996073 | Fisher's Exact Test for Count Data | two.sided | ZNF136       | 0.631637810 |\n",
       "| 1.418000 | 1.253798e-01 | 0.8795328 | 2.185083 | Fisher's Exact Test for Count Data | two.sided | CEBPA        | 0.636771654 |\n",
       "| 1.380016 | 1.300123e-01 | 0.8911417 | 2.057591 | Fisher's Exact Test for Count Data | two.sided | MEF2D        | 0.642452612 |\n",
       "| 1.301797 | 1.304826e-01 | 0.9092981 | 1.817011 | Fisher's Exact Test for Count Data | two.sided | POU4F2       | 0.642452612 |\n",
       "| 1.394195 | 1.365462e-01 | 0.8745348 | 2.128709 | Fisher's Exact Test for Count Data | two.sided | SOX13        | 0.656741247 |\n",
       "| ⋮ | ⋮ | ⋮ | ⋮ | ⋮ | ⋮ | ⋮ | ⋮ |\n",
       "| 1.2479870 | 0.6356407 | 0.4433036 | 2.850830 | Fisher's Exact Test for Count Data | two.sided | PITX3        | 0.9855486 |\n",
       "| 1.2479870 | 0.6356407 | 0.4433036 | 2.850830 | Fisher's Exact Test for Count Data | two.sided | OTX2         | 0.9855486 |\n",
       "| 1.2162661 | 0.6399131 | 0.4324025 | 2.775361 | Fisher's Exact Test for Count Data | two.sided | DLX1         | 0.9874258 |\n",
       "| 1.1555444 | 0.6738196 | 0.4515658 | 2.480382 | Fisher's Exact Test for Count Data | two.sided | MSX2         | 0.9994709 |\n",
       "| 1.1555444 | 0.6738196 | 0.4515658 | 2.480382 | Fisher's Exact Test for Count Data | two.sided | MSX1         | 0.9994709 |\n",
       "| 1.1157786 | 0.6611858 | 0.5972163 | 1.924062 | Fisher's Exact Test for Count Data | two.sided | DMRTA2       | 0.9994709 |\n",
       "| 1.0748191 | 0.6565997 | 0.7447751 | 1.509411 | Fisher's Exact Test for Count Data | two.sided | FOXE1        | 0.9994709 |\n",
       "| 1.1125158 | 0.6720618 | 0.6099937 | 1.884146 | Fisher's Exact Test for Count Data | two.sided | HOXA10       | 0.9994709 |\n",
       "| 1.0761063 | 0.8487297 | 0.4530014 | 2.197245 | Fisher's Exact Test for Count Data | two.sided | OVOL1        | 1.0000000 |\n",
       "| 0.8698757 | 0.8638431 | 0.3677701 | 1.765310 | Fisher's Exact Test for Count Data | two.sided | PITX1        | 1.0000000 |\n",
       "| 1.0670328 | 0.8266698 | 0.3806746 | 2.421626 | Fisher's Exact Test for Count Data | two.sided | RHOXF1       | 1.0000000 |\n",
       "| 0.9845120 | 1.0000000 | 0.4152209 | 2.004749 | Fisher's Exact Test for Count Data | two.sided | GSC          | 1.0000000 |\n",
       "| 0.8046073 | 0.7239703 | 0.3168853 | 1.707804 | Fisher's Exact Test for Count Data | two.sided | LMX1B        | 1.0000000 |\n",
       "| 1.1647335 | 0.6920520 | 0.4893869 | 2.384307 | Fisher's Exact Test for Count Data | two.sided | ISX          | 1.0000000 |\n",
       "| 0.8833459 | 0.8822656 | 0.4326786 | 1.621137 | Fisher's Exact Test for Count Data | two.sided | DMRT3        | 1.0000000 |\n",
       "| 0.9895862 | 1.0000000 | 0.5011081 | 1.775467 | Fisher's Exact Test for Count Data | two.sided | DMRTA1       | 1.0000000 |\n",
       "| 1.0202767 | 0.9219628 | 0.6723604 | 1.493782 | Fisher's Exact Test for Count Data | two.sided | IRF7         | 1.0000000 |\n",
       "| 0.9550746 | 1.0000000 | 0.2524343 | 2.567966 | Fisher's Exact Test for Count Data | two.sided | ZBED1        | 1.0000000 |\n",
       "| 1.0957591 | 0.7631278 | 0.5710995 | 1.926850 | Fisher's Exact Test for Count Data | two.sided | HSF4         | 1.0000000 |\n",
       "| 0.8543776 | 0.6885014 | 0.4470278 | 1.494719 | Fisher's Exact Test for Count Data | two.sided | DMRTC2       | 1.0000000 |\n",
       "| 1.0439340 | 0.8781762 | 0.5281283 | 1.875051 | Fisher's Exact Test for Count Data | two.sided | IRF6         | 1.0000000 |\n",
       "| 1.0641767 | 0.7081331 | 0.7207583 | 1.523278 | Fisher's Exact Test for Count Data | two.sided | STAT1::STAT2 | 1.0000000 |\n",
       "| 0.9868029 | 1.0000000 | 0.5838710 | 1.574899 | Fisher's Exact Test for Count Data | two.sided | PROP1        | 1.0000000 |\n",
       "| 1.0852894 | 0.7065583 | 0.4567777 | 2.216574 | Fisher's Exact Test for Count Data | two.sided | LHX2         | 1.0000000 |\n",
       "| 1.0435701 | 0.8345893 | 0.6703457 | 1.560340 | Fisher's Exact Test for Count Data | two.sided | ZNF680       | 1.0000000 |\n",
       "| 1.0670328 | 0.8266698 | 0.3806746 | 2.421626 | Fisher's Exact Test for Count Data | two.sided | HOXC8        | 1.0000000 |\n",
       "| 1.0936820 | 0.6933543 | 0.6248158 | 1.794854 | Fisher's Exact Test for Count Data | two.sided | ZNF211       | 1.0000000 |\n",
       "| 1.0035378 | 1.0000000 | 0.5842035 | 1.622156 | Fisher's Exact Test for Count Data | two.sided | IRF5         | 1.0000000 |\n",
       "| 1.0713519 | 0.7252203 | 0.6513086 | 1.674487 | Fisher's Exact Test for Count Data | two.sided | CDX2         | 1.0000000 |\n",
       "| 0.9208618 | 0.8228436 | 0.5533427 | 1.451320 | Fisher's Exact Test for Count Data | two.sided | PRDM1        | 1.0000000 |\n",
       "\n"
      ],
      "text/plain": [
       "    estimate  p.value      conf.low  conf.high\n",
       "1   1.966784  8.597775e-05 1.4020444 2.702161 \n",
       "2   1.852529  8.516923e-04 1.2875113 2.600733 \n",
       "3   1.738050  1.451024e-03 1.2313369 2.399536 \n",
       "4   1.794623  2.416961e-03 1.2143864 2.577168 \n",
       "5   1.616863  3.932773e-03 1.1603610 2.206683 \n",
       "6   1.642619  1.103954e-02 1.0990174 2.380203 \n",
       "7   1.455047  2.200314e-02 1.0456191 1.982882 \n",
       "8   1.632665  2.642911e-02 1.0318880 2.480416 \n",
       "9   1.523023  2.766748e-02 1.0269264 2.191840 \n",
       "10  1.570902  3.169599e-02 1.0292419 2.316018 \n",
       "11  1.423901  4.134966e-02 0.9982365 1.981984 \n",
       "12  1.454476  4.128157e-02 1.0043348 2.051044 \n",
       "13  1.452024  4.404450e-02 0.9858113 2.077203 \n",
       "14  1.450266  4.973884e-02 0.9722083 2.096805 \n",
       "15  1.511554  5.202738e-02 0.9746744 2.257597 \n",
       "16  1.786300  5.817318e-02 0.9207869 3.187717 \n",
       "17  1.530863  6.394303e-02 0.9482779 2.362971 \n",
       "18  1.446356  7.954906e-02 0.9412446 2.143308 \n",
       "19  1.520294  7.936382e-02 0.9308101 2.368698 \n",
       "20  1.326896  7.880713e-02 0.9545266 1.806000 \n",
       "21  1.377589  7.877635e-02 0.9359424 1.968939 \n",
       "22  1.419290  9.347292e-02 0.9078753 2.132996 \n",
       "23  1.390431  9.226244e-02 0.9127134 2.045447 \n",
       "24  1.411809  8.860225e-02 0.9265427 2.077357 \n",
       "25  1.457617  9.322680e-02 0.9036920 2.247595 \n",
       "26  1.357518  1.194726e-01 0.8914211 1.996073 \n",
       "27  1.418000  1.253798e-01 0.8795328 2.185083 \n",
       "28  1.380016  1.300123e-01 0.8911417 2.057591 \n",
       "29  1.301797  1.304826e-01 0.9092981 1.817011 \n",
       "30  1.394195  1.365462e-01 0.8745348 2.128709 \n",
       "⋮   ⋮         ⋮            ⋮         ⋮        \n",
       "77  1.2479870 0.6356407    0.4433036 2.850830 \n",
       "78  1.2479870 0.6356407    0.4433036 2.850830 \n",
       "79  1.2162661 0.6399131    0.4324025 2.775361 \n",
       "80  1.1555444 0.6738196    0.4515658 2.480382 \n",
       "81  1.1555444 0.6738196    0.4515658 2.480382 \n",
       "82  1.1157786 0.6611858    0.5972163 1.924062 \n",
       "83  1.0748191 0.6565997    0.7447751 1.509411 \n",
       "84  1.1125158 0.6720618    0.6099937 1.884146 \n",
       "85  1.0761063 0.8487297    0.4530014 2.197245 \n",
       "86  0.8698757 0.8638431    0.3677701 1.765310 \n",
       "87  1.0670328 0.8266698    0.3806746 2.421626 \n",
       "88  0.9845120 1.0000000    0.4152209 2.004749 \n",
       "89  0.8046073 0.7239703    0.3168853 1.707804 \n",
       "90  1.1647335 0.6920520    0.4893869 2.384307 \n",
       "91  0.8833459 0.8822656    0.4326786 1.621137 \n",
       "92  0.9895862 1.0000000    0.5011081 1.775467 \n",
       "93  1.0202767 0.9219628    0.6723604 1.493782 \n",
       "94  0.9550746 1.0000000    0.2524343 2.567966 \n",
       "95  1.0957591 0.7631278    0.5710995 1.926850 \n",
       "96  0.8543776 0.6885014    0.4470278 1.494719 \n",
       "97  1.0439340 0.8781762    0.5281283 1.875051 \n",
       "98  1.0641767 0.7081331    0.7207583 1.523278 \n",
       "99  0.9868029 1.0000000    0.5838710 1.574899 \n",
       "100 1.0852894 0.7065583    0.4567777 2.216574 \n",
       "101 1.0435701 0.8345893    0.6703457 1.560340 \n",
       "102 1.0670328 0.8266698    0.3806746 2.421626 \n",
       "103 1.0936820 0.6933543    0.6248158 1.794854 \n",
       "104 1.0035378 1.0000000    0.5842035 1.622156 \n",
       "105 1.0713519 0.7252203    0.6513086 1.674487 \n",
       "106 0.9208618 0.8228436    0.5533427 1.451320 \n",
       "    method                             alternative motif        q.value    \n",
       "1   Fisher's Exact Test for Count Data two.sided   POU1F1       0.002640745\n",
       "2   Fisher's Exact Test for Count Data two.sided   POU2F2       0.018311385\n",
       "3   Fisher's Exact Test for Count Data two.sided   FOXD3        0.030190665\n",
       "4   Fisher's Exact Test for Count Data two.sided   ONECUT3      0.045851164\n",
       "5   Fisher's Exact Test for Count Data two.sided   ZNF143       0.072475389\n",
       "6   Fisher's Exact Test for Count Data two.sided   POU3F4       0.170080369\n",
       "7   Fisher's Exact Test for Count Data two.sided   POU2F1::SOX2 0.268190479\n",
       "8   Fisher's Exact Test for Count Data two.sided   ZNF384       0.293909974\n",
       "9   Fisher's Exact Test for Count Data two.sided   POU3F2       0.296771983\n",
       "10  Fisher's Exact Test for Count Data two.sided   E2F7         0.319436167\n",
       "11  Fisher's Exact Test for Count Data two.sided   ZNF76        0.386529461\n",
       "12  Fisher's Exact Test for Count Data two.sided   SOX21        0.386529461\n",
       "13  Fisher's Exact Test for Count Data two.sided   MEF2A        0.389160297\n",
       "14  Fisher's Exact Test for Count Data two.sided   POU3F3       0.403858141\n",
       "15  Fisher's Exact Test for Count Data two.sided   ZNF85        0.414292087\n",
       "16  Fisher's Exact Test for Count Data two.sided   TFCP2        0.452068706\n",
       "17  Fisher's Exact Test for Count Data two.sided   SOX15        0.485214751\n",
       "18  Fisher's Exact Test for Count Data two.sided   ZNF410       0.529697305\n",
       "19  Fisher's Exact Test for Count Data two.sided   SOX18        0.529697305\n",
       "20  Fisher's Exact Test for Count Data two.sided   IRF3         0.529697305\n",
       "21  Fisher's Exact Test for Count Data two.sided   MEF2C        0.529697305\n",
       "22  Fisher's Exact Test for Count Data two.sided   FOXH1        0.559545664\n",
       "23  Fisher's Exact Test for Count Data two.sided   POU2F1       0.559545664\n",
       "24  Fisher's Exact Test for Count Data two.sided   POU3F1       0.559545664\n",
       "25  Fisher's Exact Test for Count Data two.sided   SOX2         0.559545664\n",
       "26  Fisher's Exact Test for Count Data two.sided   ZNF136       0.631637810\n",
       "27  Fisher's Exact Test for Count Data two.sided   CEBPA        0.636771654\n",
       "28  Fisher's Exact Test for Count Data two.sided   MEF2D        0.642452612\n",
       "29  Fisher's Exact Test for Count Data two.sided   POU4F2       0.642452612\n",
       "30  Fisher's Exact Test for Count Data two.sided   SOX13        0.656741247\n",
       "⋮   ⋮                                  ⋮           ⋮            ⋮          \n",
       "77  Fisher's Exact Test for Count Data two.sided   PITX3        0.9855486  \n",
       "78  Fisher's Exact Test for Count Data two.sided   OTX2         0.9855486  \n",
       "79  Fisher's Exact Test for Count Data two.sided   DLX1         0.9874258  \n",
       "80  Fisher's Exact Test for Count Data two.sided   MSX2         0.9994709  \n",
       "81  Fisher's Exact Test for Count Data two.sided   MSX1         0.9994709  \n",
       "82  Fisher's Exact Test for Count Data two.sided   DMRTA2       0.9994709  \n",
       "83  Fisher's Exact Test for Count Data two.sided   FOXE1        0.9994709  \n",
       "84  Fisher's Exact Test for Count Data two.sided   HOXA10       0.9994709  \n",
       "85  Fisher's Exact Test for Count Data two.sided   OVOL1        1.0000000  \n",
       "86  Fisher's Exact Test for Count Data two.sided   PITX1        1.0000000  \n",
       "87  Fisher's Exact Test for Count Data two.sided   RHOXF1       1.0000000  \n",
       "88  Fisher's Exact Test for Count Data two.sided   GSC          1.0000000  \n",
       "89  Fisher's Exact Test for Count Data two.sided   LMX1B        1.0000000  \n",
       "90  Fisher's Exact Test for Count Data two.sided   ISX          1.0000000  \n",
       "91  Fisher's Exact Test for Count Data two.sided   DMRT3        1.0000000  \n",
       "92  Fisher's Exact Test for Count Data two.sided   DMRTA1       1.0000000  \n",
       "93  Fisher's Exact Test for Count Data two.sided   IRF7         1.0000000  \n",
       "94  Fisher's Exact Test for Count Data two.sided   ZBED1        1.0000000  \n",
       "95  Fisher's Exact Test for Count Data two.sided   HSF4         1.0000000  \n",
       "96  Fisher's Exact Test for Count Data two.sided   DMRTC2       1.0000000  \n",
       "97  Fisher's Exact Test for Count Data two.sided   IRF6         1.0000000  \n",
       "98  Fisher's Exact Test for Count Data two.sided   STAT1::STAT2 1.0000000  \n",
       "99  Fisher's Exact Test for Count Data two.sided   PROP1        1.0000000  \n",
       "100 Fisher's Exact Test for Count Data two.sided   LHX2         1.0000000  \n",
       "101 Fisher's Exact Test for Count Data two.sided   ZNF680       1.0000000  \n",
       "102 Fisher's Exact Test for Count Data two.sided   HOXC8        1.0000000  \n",
       "103 Fisher's Exact Test for Count Data two.sided   ZNF211       1.0000000  \n",
       "104 Fisher's Exact Test for Count Data two.sided   IRF5         1.0000000  \n",
       "105 Fisher's Exact Test for Count Data two.sided   CDX2         1.0000000  \n",
       "106 Fisher's Exact Test for Count Data two.sided   PRDM1        1.0000000  "
      ]
     },
     "metadata": {},
     "output_type": "display_data"
    }
   ],
   "source": [
    "filter(full.res.all, motif %in% filter(full.res, q.value < 0.05 & estimate > 1)$motif)"
   ]
  },
  {
   "cell_type": "code",
   "execution_count": null,
   "id": "d67cb0aa",
   "metadata": {
    "vscode": {
     "languageId": "r"
    }
   },
   "outputs": [],
   "source": []
  },
  {
   "cell_type": "code",
   "execution_count": 191,
   "id": "af2a296f",
   "metadata": {
    "vscode": {
     "languageId": "r"
    }
   },
   "outputs": [],
   "source": [
    "write.table(full.res, '/path/to/caQTL/stuff/motifs/240723_Fisher_NotInPeak_motif_enrichment_JASPAR_class_by_lead_variants.tsv', \n",
    "            sep='\\t', col.names=T, row.names=F, quote=F)\n",
    "write.table(full.res.all, '/path/to/caQTL/stuff/motifs/240723_Fisher_NotInPeak_motif_enrichment_JASPAR_class_by_any_variant.tsv', \n",
    "            sep='\\t', col.names=T, row.names=F, quote=F)"
   ]
  },
  {
   "cell_type": "code",
   "execution_count": null,
   "id": "e0ff8fdf",
   "metadata": {
    "vscode": {
     "languageId": "r"
    }
   },
   "outputs": [],
   "source": [
    "getwd()"
   ]
  },
  {
   "cell_type": "code",
   "execution_count": null,
   "id": "7faa6e00",
   "metadata": {
    "vscode": {
     "languageId": "r"
    }
   },
   "outputs": [],
   "source": []
  },
  {
   "cell_type": "code",
   "execution_count": null,
   "id": "5853c4a6",
   "metadata": {
    "vscode": {
     "languageId": "r"
    }
   },
   "outputs": [],
   "source": []
  },
  {
   "cell_type": "code",
   "execution_count": 193,
   "id": "f4cec62b",
   "metadata": {
    "vscode": {
     "languageId": "r"
    }
   },
   "outputs": [
    {
     "data": {
      "text/html": [
       "<style>\n",
       ".list-inline {list-style: none; margin:0; padding: 0}\n",
       ".list-inline>li {display: inline-block}\n",
       ".list-inline>li:not(:last-child)::after {content: \"\\00b7\"; padding: 0 .5ex}\n",
       "</style>\n",
       "<ol class=list-inline><li>645</li><li>8</li></ol>\n"
      ],
      "text/latex": [
       "\\begin{enumerate*}\n",
       "\\item 645\n",
       "\\item 8\n",
       "\\end{enumerate*}\n"
      ],
      "text/markdown": [
       "1. 645\n",
       "2. 8\n",
       "\n",
       "\n"
      ],
      "text/plain": [
       "[1] 645   8"
      ]
     },
     "metadata": {},
     "output_type": "display_data"
    },
    {
     "data": {
      "text/html": [
       "<style>\n",
       ".list-inline {list-style: none; margin:0; padding: 0}\n",
       ".list-inline>li {display: inline-block}\n",
       ".list-inline>li:not(:last-child)::after {content: \"\\00b7\"; padding: 0 .5ex}\n",
       "</style>\n",
       "<ol class=list-inline><li>645</li><li>8</li></ol>\n"
      ],
      "text/latex": [
       "\\begin{enumerate*}\n",
       "\\item 645\n",
       "\\item 8\n",
       "\\end{enumerate*}\n"
      ],
      "text/markdown": [
       "1. 645\n",
       "2. 8\n",
       "\n",
       "\n"
      ],
      "text/plain": [
       "[1] 645   8"
      ]
     },
     "metadata": {},
     "output_type": "display_data"
    }
   ],
   "source": [
    "arrange(full.res, motif)\n",
    "arrange(full.res.all, motif)"
   ]
  },
  {
   "cell_type": "code",
   "execution_count": 194,
   "id": "873fcab0",
   "metadata": {
    "vscode": {
     "languageId": "r"
    }
   },
   "outputs": [
    {
     "data": {
      "image/png": "[encoded data removed]",
      "text/plain": [
       "plot without title"
      ]
     },
     "metadata": {
      "image/png": {
       "height": 300,
       "width": 300
      }
     },
     "output_type": "display_data"
    }
   ],
   "source": [
    "ggplot(arrange(full.res, motif), aes(x=-log10(p.value), y=-log10(arrange(full.res.all, motif)$p.value))) + geom_point()"
   ]
  },
  {
   "cell_type": "code",
   "execution_count": 195,
   "id": "5e69b1de",
   "metadata": {
    "vscode": {
     "languageId": "r"
    }
   },
   "outputs": [
    {
     "data": {
      "image/png": "[encoded data removed]",
      "text/plain": [
       "plot without title"
      ]
     },
     "metadata": {
      "image/png": {
       "height": 300,
       "width": 300
      }
     },
     "output_type": "display_data"
    }
   ],
   "source": [
    "ggplot(arrange(full.res, motif), aes(x=-log10(q.value), y=-log10(arrange(full.res.all, motif)$q.value))) + geom_point()"
   ]
  },
  {
   "cell_type": "code",
   "execution_count": 197,
   "id": "a9fc17e9",
   "metadata": {
    "vscode": {
     "languageId": "r"
    }
   },
   "outputs": [
    {
     "data": {
      "image/png": "[encoded data removed]",
      "text/plain": [
       "plot without title"
      ]
     },
     "metadata": {
      "image/png": {
       "height": 300,
       "width": 300
      }
     },
     "output_type": "display_data"
    }
   ],
   "source": [
    "ggplot(arrange(full.res, motif), aes(x=-log10(estimate), y=-log10(arrange(full.res.all, motif)$estimate))) + geom_point()"
   ]
  },
  {
   "cell_type": "code",
   "execution_count": null,
   "id": "83d9774f",
   "metadata": {
    "vscode": {
     "languageId": "r"
    }
   },
   "outputs": [],
   "source": []
  },
  {
   "cell_type": "code",
   "execution_count": null,
   "id": "b7f4d028",
   "metadata": {
    "vscode": {
     "languageId": "r"
    }
   },
   "outputs": [],
   "source": []
  }
 ],
 "metadata": {
  "kernelspec": {
   "display_name": "motifbreakR",
   "language": "R",
   "name": "motifbreakr"
  },
  "language_info": {
   "codemirror_mode": "r",
   "file_extension": ".r",
   "mimetype": "text/x-r-source",
   "name": "R",
   "pygments_lexer": "r",
   "version": "4.3.3"
  }
 },
 "nbformat": 4,
 "nbformat_minor": 5
}
