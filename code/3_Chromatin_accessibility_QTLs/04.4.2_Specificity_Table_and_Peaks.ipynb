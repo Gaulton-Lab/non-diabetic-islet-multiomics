{
 "cells": [
  {
   "cell_type": "markdown",
   "id": "3a0788dc",
   "metadata": {},
   "source": [
    "# Add specificity to Hannah's Feature Table"
   ]
  },
  {
   "cell_type": "code",
   "execution_count": 1,
   "id": "ad2ac117",
   "metadata": {
    "vscode": {
     "languageId": "r"
    }
   },
   "outputs": [
    {
     "name": "stderr",
     "output_type": "stream",
     "text": [
      "Loading required package: ashr\n",
      "\n",
      "\n",
      "Attaching package: ‘dplyr’\n",
      "\n",
      "\n",
      "The following objects are masked from ‘package:stats’:\n",
      "\n",
      "    filter, lag\n",
      "\n",
      "\n",
      "The following objects are masked from ‘package:base’:\n",
      "\n",
      "    intersect, setdiff, setequal, union\n",
      "\n",
      "\n"
     ]
    }
   ],
   "source": [
    "library(mashr)\n",
    "library(dplyr)\n",
    "library(tidyr)\n",
    "library(vroom)\n",
    "library(UpSetR)"
   ]
  },
  {
   "cell_type": "code",
   "execution_count": null,
   "id": "29be8189",
   "metadata": {
    "scrolled": false,
    "vscode": {
     "languageId": "r"
    }
   },
   "outputs": [],
   "source": [
    "#Read in lfsr instead, faster\n",
    "\n",
    "m <- readRDS('/path/to/caQTL/stuff/anova_interaction/240111_WE_run1_all_ash_pca_canonical_mash.rds')\n",
    "m\n",
    "\n",
    "summary(m)"
   ]
  },
  {
   "cell_type": "code",
   "execution_count": 9,
   "id": "183300b7",
   "metadata": {
    "vscode": {
     "languageId": "r"
    }
   },
   "outputs": [],
   "source": [
    "write.table(m$result$PosteriorMean, '/path/to/caQTL/stuff/anova_interaction/240111_WE_run1_all_ash_pca_canonical_mash_PosteriorMean.tsv', \n",
    "                                  row.names=T, col.names=T, sep='\\t', quote=F)\n",
    "write.table(m$result$PosteriorSD, '/path/to/caQTL/stuff/anova_interaction/240111_WE_run1_all_ash_pca_canonical_mash_PosteriorSD.tsv', \n",
    "                                  row.names=T, col.names=T, sep='\\t', quote=F)"
   ]
  },
  {
   "cell_type": "code",
   "execution_count": 15,
   "id": "2b7e8f5e",
   "metadata": {
    "vscode": {
     "languageId": "r"
    }
   },
   "outputs": [
    {
     "name": "stderr",
     "output_type": "stream",
     "text": [
      "\u001b[1mRows: \u001b[22m\u001b[34m34898761\u001b[39m \u001b[1mColumns: \u001b[22m\u001b[34m34\u001b[39m\n",
      "\u001b[36m──\u001b[39m \u001b[1mColumn specification\u001b[22m \u001b[36m────────────────────────────────────────────────────────────────────────────────────────────────\u001b[39m\n",
      "\u001b[1mDelimiter:\u001b[22m \"\\t\"\n",
      "\u001b[31mchr\u001b[39m  (7): Feature, rsID, Chromosome, Ref, Alt, cell, feature_snp\n",
      "\u001b[32mdbl\u001b[39m (22): position, Af, HWEChi_square, IA, Log10_qval, Chi_square, Effect_si...\n",
      "\u001b[33mlgl\u001b[39m  (5): flag_fdr10, flag_fdr05, flag_fdr01, exclude, qtl\n",
      "\n",
      "\u001b[36mℹ\u001b[39m Use `spec()` to retrieve the full column specification for this data.\n",
      "\u001b[36mℹ\u001b[39m Specify the column types or set `show_col_types = FALSE` to quiet this message.\n"
     ]
    },
    {
     "data": {
      "text/html": [
       "<style>\n",
       ".list-inline {list-style: none; margin:0; padding: 0}\n",
       ".list-inline>li {display: inline-block}\n",
       ".list-inline>li:not(:last-child)::after {content: \"\\00b7\"; padding: 0 .5ex}\n",
       "</style>\n",
       "<ol class=list-inline><li>34898761</li><li>34</li></ol>\n"
      ],
      "text/latex": [
       "\\begin{enumerate*}\n",
       "\\item 34898761\n",
       "\\item 34\n",
       "\\end{enumerate*}\n"
      ],
      "text/markdown": [
       "1. 34898761\n",
       "2. 34\n",
       "\n",
       "\n"
      ],
      "text/plain": [
       "[1] 34898761       34"
      ]
     },
     "metadata": {},
     "output_type": "display_data"
    },
    {
     "data": {
      "text/html": [
       "<table class=\"dataframe\">\n",
       "<caption>A spec_tbl_df: 6 × 34</caption>\n",
       "<thead>\n",
       "\t<tr><th scope=col>Feature</th><th scope=col>rsID</th><th scope=col>Chromosome</th><th scope=col>position</th><th scope=col>Ref</th><th scope=col>Alt</th><th scope=col>Af</th><th scope=col>HWEChi_square</th><th scope=col>IA</th><th scope=col>Log10_qval</th><th scope=col>⋯</th><th scope=col>r2_rSNP</th><th scope=col>P_VAl</th><th scope=col>dist</th><th scope=col>flag_fdr10</th><th scope=col>flag_fdr05</th><th scope=col>flag_fdr01</th><th scope=col>cell</th><th scope=col>exclude</th><th scope=col>qtl</th><th scope=col>feature_snp</th></tr>\n",
       "\t<tr><th scope=col>&lt;chr&gt;</th><th scope=col>&lt;chr&gt;</th><th scope=col>&lt;chr&gt;</th><th scope=col>&lt;dbl&gt;</th><th scope=col>&lt;chr&gt;</th><th scope=col>&lt;chr&gt;</th><th scope=col>&lt;dbl&gt;</th><th scope=col>&lt;dbl&gt;</th><th scope=col>&lt;dbl&gt;</th><th scope=col>&lt;dbl&gt;</th><th scope=col>⋯</th><th scope=col>&lt;dbl&gt;</th><th scope=col>&lt;dbl&gt;</th><th scope=col>&lt;dbl&gt;</th><th scope=col>&lt;lgl&gt;</th><th scope=col>&lt;lgl&gt;</th><th scope=col>&lt;lgl&gt;</th><th scope=col>&lt;chr&gt;</th><th scope=col>&lt;lgl&gt;</th><th scope=col>&lt;lgl&gt;</th><th scope=col>&lt;chr&gt;</th></tr>\n",
       "</thead>\n",
       "<tbody>\n",
       "\t<tr><td>chr6:32622377-32623439</td><td>chr6:32620608:T:A</td><td>chr6</td><td>32620608</td><td>T</td><td>A</td><td>0.425926</td><td>2.231991</td><td>0.998678</td><td>-67.03611</td><td>⋯</td><td>0.824496</td><td>8.976233e-71</td><td>-2300</td><td>TRUE</td><td>TRUE</td><td>TRUE</td><td>acinar</td><td>FALSE</td><td>TRUE</td><td>chr6:32622377-32623439_chr6:32620608:T:A</td></tr>\n",
       "\t<tr><td>chr6:32622377-32623439</td><td>chr6:32620292:C:T</td><td>chr6</td><td>32620292</td><td>C</td><td>T</td><td>0.481481</td><td>3.033058</td><td>0.997176</td><td>-67.03611</td><td>⋯</td><td>0.766739</td><td>3.415022e-70</td><td>-2616</td><td>TRUE</td><td>TRUE</td><td>TRUE</td><td>acinar</td><td>FALSE</td><td>TRUE</td><td>chr6:32622377-32623439_chr6:32620292:C:T</td></tr>\n",
       "\t<tr><td>chr6:32622377-32623439</td><td>chr6:32620069:C:T</td><td>chr6</td><td>32620069</td><td>C</td><td>T</td><td>0.481481</td><td>3.033058</td><td>0.997249</td><td>-67.03611</td><td>⋯</td><td>0.766739</td><td>3.415022e-70</td><td>-2839</td><td>TRUE</td><td>TRUE</td><td>TRUE</td><td>acinar</td><td>FALSE</td><td>TRUE</td><td>chr6:32622377-32623439_chr6:32620069:C:T</td></tr>\n",
       "\t<tr><td>chr6:32622377-32623439</td><td>chr6:32620254:G:A</td><td>chr6</td><td>32620254</td><td>G</td><td>A</td><td>0.481481</td><td>3.033058</td><td>0.997319</td><td>-67.03611</td><td>⋯</td><td>0.767647</td><td>3.459474e-70</td><td>-2654</td><td>TRUE</td><td>TRUE</td><td>TRUE</td><td>acinar</td><td>FALSE</td><td>TRUE</td><td>chr6:32622377-32623439_chr6:32620254:G:A</td></tr>\n",
       "\t<tr><td>chr6:32622377-32623439</td><td>chr6:32623176:T:C</td><td>chr6</td><td>32623176</td><td>T</td><td>C</td><td>0.462963</td><td>1.913385</td><td>0.999952</td><td>-66.25852</td><td>⋯</td><td>0.777224</td><td>5.637594e-69</td><td>  268</td><td>TRUE</td><td>TRUE</td><td>TRUE</td><td>acinar</td><td>FALSE</td><td>TRUE</td><td>chr6:32622377-32623439_chr6:32623176:T:C</td></tr>\n",
       "\t<tr><td>chr6:32622377-32623439</td><td>chr6:32623122:G:T</td><td>chr6</td><td>32623122</td><td>G</td><td>T</td><td>0.462963</td><td>1.913385</td><td>0.999952</td><td>-66.25852</td><td>⋯</td><td>0.777217</td><td>5.650015e-69</td><td>  214</td><td>TRUE</td><td>TRUE</td><td>TRUE</td><td>acinar</td><td>FALSE</td><td>TRUE</td><td>chr6:32622377-32623439_chr6:32623122:G:T</td></tr>\n",
       "</tbody>\n",
       "</table>\n"
      ],
      "text/latex": [
       "A spec\\_tbl\\_df: 6 × 34\n",
       "\\begin{tabular}{lllllllllllllllllllll}\n",
       " Feature & rsID & Chromosome & position & Ref & Alt & Af & HWEChi\\_square & IA & Log10\\_qval & ⋯ & r2\\_rSNP & P\\_VAl & dist & flag\\_fdr10 & flag\\_fdr05 & flag\\_fdr01 & cell & exclude & qtl & feature\\_snp\\\\\n",
       " <chr> & <chr> & <chr> & <dbl> & <chr> & <chr> & <dbl> & <dbl> & <dbl> & <dbl> & ⋯ & <dbl> & <dbl> & <dbl> & <lgl> & <lgl> & <lgl> & <chr> & <lgl> & <lgl> & <chr>\\\\\n",
       "\\hline\n",
       "\t chr6:32622377-32623439 & chr6:32620608:T:A & chr6 & 32620608 & T & A & 0.425926 & 2.231991 & 0.998678 & -67.03611 & ⋯ & 0.824496 & 8.976233e-71 & -2300 & TRUE & TRUE & TRUE & acinar & FALSE & TRUE & chr6:32622377-32623439\\_chr6:32620608:T:A\\\\\n",
       "\t chr6:32622377-32623439 & chr6:32620292:C:T & chr6 & 32620292 & C & T & 0.481481 & 3.033058 & 0.997176 & -67.03611 & ⋯ & 0.766739 & 3.415022e-70 & -2616 & TRUE & TRUE & TRUE & acinar & FALSE & TRUE & chr6:32622377-32623439\\_chr6:32620292:C:T\\\\\n",
       "\t chr6:32622377-32623439 & chr6:32620069:C:T & chr6 & 32620069 & C & T & 0.481481 & 3.033058 & 0.997249 & -67.03611 & ⋯ & 0.766739 & 3.415022e-70 & -2839 & TRUE & TRUE & TRUE & acinar & FALSE & TRUE & chr6:32622377-32623439\\_chr6:32620069:C:T\\\\\n",
       "\t chr6:32622377-32623439 & chr6:32620254:G:A & chr6 & 32620254 & G & A & 0.481481 & 3.033058 & 0.997319 & -67.03611 & ⋯ & 0.767647 & 3.459474e-70 & -2654 & TRUE & TRUE & TRUE & acinar & FALSE & TRUE & chr6:32622377-32623439\\_chr6:32620254:G:A\\\\\n",
       "\t chr6:32622377-32623439 & chr6:32623176:T:C & chr6 & 32623176 & T & C & 0.462963 & 1.913385 & 0.999952 & -66.25852 & ⋯ & 0.777224 & 5.637594e-69 &   268 & TRUE & TRUE & TRUE & acinar & FALSE & TRUE & chr6:32622377-32623439\\_chr6:32623176:T:C\\\\\n",
       "\t chr6:32622377-32623439 & chr6:32623122:G:T & chr6 & 32623122 & G & T & 0.462963 & 1.913385 & 0.999952 & -66.25852 & ⋯ & 0.777217 & 5.650015e-69 &   214 & TRUE & TRUE & TRUE & acinar & FALSE & TRUE & chr6:32622377-32623439\\_chr6:32623122:G:T\\\\\n",
       "\\end{tabular}\n"
      ],
      "text/markdown": [
       "\n",
       "A spec_tbl_df: 6 × 34\n",
       "\n",
       "| Feature &lt;chr&gt; | rsID &lt;chr&gt; | Chromosome &lt;chr&gt; | position &lt;dbl&gt; | Ref &lt;chr&gt; | Alt &lt;chr&gt; | Af &lt;dbl&gt; | HWEChi_square &lt;dbl&gt; | IA &lt;dbl&gt; | Log10_qval &lt;dbl&gt; | ⋯ ⋯ | r2_rSNP &lt;dbl&gt; | P_VAl &lt;dbl&gt; | dist &lt;dbl&gt; | flag_fdr10 &lt;lgl&gt; | flag_fdr05 &lt;lgl&gt; | flag_fdr01 &lt;lgl&gt; | cell &lt;chr&gt; | exclude &lt;lgl&gt; | qtl &lt;lgl&gt; | feature_snp &lt;chr&gt; |\n",
       "|---|---|---|---|---|---|---|---|---|---|---|---|---|---|---|---|---|---|---|---|---|\n",
       "| chr6:32622377-32623439 | chr6:32620608:T:A | chr6 | 32620608 | T | A | 0.425926 | 2.231991 | 0.998678 | -67.03611 | ⋯ | 0.824496 | 8.976233e-71 | -2300 | TRUE | TRUE | TRUE | acinar | FALSE | TRUE | chr6:32622377-32623439_chr6:32620608:T:A |\n",
       "| chr6:32622377-32623439 | chr6:32620292:C:T | chr6 | 32620292 | C | T | 0.481481 | 3.033058 | 0.997176 | -67.03611 | ⋯ | 0.766739 | 3.415022e-70 | -2616 | TRUE | TRUE | TRUE | acinar | FALSE | TRUE | chr6:32622377-32623439_chr6:32620292:C:T |\n",
       "| chr6:32622377-32623439 | chr6:32620069:C:T | chr6 | 32620069 | C | T | 0.481481 | 3.033058 | 0.997249 | -67.03611 | ⋯ | 0.766739 | 3.415022e-70 | -2839 | TRUE | TRUE | TRUE | acinar | FALSE | TRUE | chr6:32622377-32623439_chr6:32620069:C:T |\n",
       "| chr6:32622377-32623439 | chr6:32620254:G:A | chr6 | 32620254 | G | A | 0.481481 | 3.033058 | 0.997319 | -67.03611 | ⋯ | 0.767647 | 3.459474e-70 | -2654 | TRUE | TRUE | TRUE | acinar | FALSE | TRUE | chr6:32622377-32623439_chr6:32620254:G:A |\n",
       "| chr6:32622377-32623439 | chr6:32623176:T:C | chr6 | 32623176 | T | C | 0.462963 | 1.913385 | 0.999952 | -66.25852 | ⋯ | 0.777224 | 5.637594e-69 |   268 | TRUE | TRUE | TRUE | acinar | FALSE | TRUE | chr6:32622377-32623439_chr6:32623176:T:C |\n",
       "| chr6:32622377-32623439 | chr6:32623122:G:T | chr6 | 32623122 | G | T | 0.462963 | 1.913385 | 0.999952 | -66.25852 | ⋯ | 0.777217 | 5.650015e-69 |   214 | TRUE | TRUE | TRUE | acinar | FALSE | TRUE | chr6:32622377-32623439_chr6:32623122:G:T |\n",
       "\n"
      ],
      "text/plain": [
       "  Feature                rsID              Chromosome position Ref Alt Af      \n",
       "1 chr6:32622377-32623439 chr6:32620608:T:A chr6       32620608 T   A   0.425926\n",
       "2 chr6:32622377-32623439 chr6:32620292:C:T chr6       32620292 C   T   0.481481\n",
       "3 chr6:32622377-32623439 chr6:32620069:C:T chr6       32620069 C   T   0.481481\n",
       "4 chr6:32622377-32623439 chr6:32620254:G:A chr6       32620254 G   A   0.481481\n",
       "5 chr6:32622377-32623439 chr6:32623176:T:C chr6       32623176 T   C   0.462963\n",
       "6 chr6:32622377-32623439 chr6:32623122:G:T chr6       32623122 G   T   0.462963\n",
       "  HWEChi_square IA       Log10_qval ⋯ r2_rSNP  P_VAl        dist  flag_fdr10\n",
       "1 2.231991      0.998678 -67.03611  ⋯ 0.824496 8.976233e-71 -2300 TRUE      \n",
       "2 3.033058      0.997176 -67.03611  ⋯ 0.766739 3.415022e-70 -2616 TRUE      \n",
       "3 3.033058      0.997249 -67.03611  ⋯ 0.766739 3.415022e-70 -2839 TRUE      \n",
       "4 3.033058      0.997319 -67.03611  ⋯ 0.767647 3.459474e-70 -2654 TRUE      \n",
       "5 1.913385      0.999952 -66.25852  ⋯ 0.777224 5.637594e-69   268 TRUE      \n",
       "6 1.913385      0.999952 -66.25852  ⋯ 0.777217 5.650015e-69   214 TRUE      \n",
       "  flag_fdr05 flag_fdr01 cell   exclude qtl \n",
       "1 TRUE       TRUE       acinar FALSE   TRUE\n",
       "2 TRUE       TRUE       acinar FALSE   TRUE\n",
       "3 TRUE       TRUE       acinar FALSE   TRUE\n",
       "4 TRUE       TRUE       acinar FALSE   TRUE\n",
       "5 TRUE       TRUE       acinar FALSE   TRUE\n",
       "6 TRUE       TRUE       acinar FALSE   TRUE\n",
       "  feature_snp                             \n",
       "1 chr6:32622377-32623439_chr6:32620608:T:A\n",
       "2 chr6:32622377-32623439_chr6:32620292:C:T\n",
       "3 chr6:32622377-32623439_chr6:32620069:C:T\n",
       "4 chr6:32622377-32623439_chr6:32620254:G:A\n",
       "5 chr6:32622377-32623439_chr6:32623176:T:C\n",
       "6 chr6:32622377-32623439_chr6:32623122:G:T"
      ]
     },
     "metadata": {},
     "output_type": "display_data"
    }
   ],
   "source": [
    "allF = vroom('/path/to/caQTL/stuff/caQTLs_rasqual/Summary_allCells_all_run1F.tsv', delim='\\t')\n",
    "\n",
    "dim(allF)\n",
    "head(allF)"
   ]
  },
  {
   "cell_type": "code",
   "execution_count": 17,
   "id": "5d49df39",
   "metadata": {
    "vscode": {
     "languageId": "r"
    }
   },
   "outputs": [
    {
     "data": {
      "text/html": [
       "252058"
      ],
      "text/latex": [
       "252058"
      ],
      "text/markdown": [
       "252058"
      ],
      "text/plain": [
       "[1] 252058"
      ]
     },
     "metadata": {},
     "output_type": "display_data"
    }
   ],
   "source": [
    "length(unique(allF$Feature))"
   ]
  },
  {
   "cell_type": "code",
   "execution_count": 23,
   "id": "38fd137f",
   "metadata": {
    "vscode": {
     "languageId": "r"
    }
   },
   "outputs": [
    {
     "data": {
      "text/html": [
       "<style>\n",
       ".list-inline {list-style: none; margin:0; padding: 0}\n",
       ".list-inline>li {display: inline-block}\n",
       ".list-inline>li:not(:last-child)::after {content: \"\\00b7\"; padding: 0 .5ex}\n",
       "</style>\n",
       "<ol class=list-inline><li>252058</li><li>8</li></ol>\n"
      ],
      "text/latex": [
       "\\begin{enumerate*}\n",
       "\\item 252058\n",
       "\\item 8\n",
       "\\end{enumerate*}\n"
      ],
      "text/markdown": [
       "1. 252058\n",
       "2. 8\n",
       "\n",
       "\n"
      ],
      "text/plain": [
       "[1] 252058      8"
      ]
     },
     "metadata": {},
     "output_type": "display_data"
    },
    {
     "data": {
      "text/html": [
       "<table class=\"dataframe\">\n",
       "<caption>A tibble: 6 × 8</caption>\n",
       "<thead>\n",
       "\t<tr><th scope=col>cre</th><th scope=col>acinar</th><th scope=col>alpha</th><th scope=col>beta</th><th scope=col>bulk</th><th scope=col>delta</th><th scope=col>ductal</th><th scope=col>gamma</th></tr>\n",
       "\t<tr><th scope=col>&lt;chr&gt;</th><th scope=col>&lt;lgl&gt;</th><th scope=col>&lt;lgl&gt;</th><th scope=col>&lt;lgl&gt;</th><th scope=col>&lt;lgl&gt;</th><th scope=col>&lt;lgl&gt;</th><th scope=col>&lt;lgl&gt;</th><th scope=col>&lt;lgl&gt;</th></tr>\n",
       "</thead>\n",
       "<tbody>\n",
       "\t<tr><td>chr10:100009188-100010635</td><td>FALSE</td><td>FALSE</td><td>FALSE</td><td>FALSE</td><td>FALSE</td><td>FALSE</td><td>FALSE</td></tr>\n",
       "\t<tr><td>chr10:100037925-100038813</td><td>FALSE</td><td>FALSE</td><td>FALSE</td><td>FALSE</td><td>FALSE</td><td>FALSE</td><td>FALSE</td></tr>\n",
       "\t<tr><td>chr10:100043372-100044999</td><td>FALSE</td><td>FALSE</td><td>FALSE</td><td>FALSE</td><td>FALSE</td><td>FALSE</td><td>FALSE</td></tr>\n",
       "\t<tr><td>chr10:100046018-100046622</td><td>FALSE</td><td>FALSE</td><td>FALSE</td><td>FALSE</td><td>FALSE</td><td>FALSE</td><td>FALSE</td></tr>\n",
       "\t<tr><td>chr10:100148232-100149295</td><td>FALSE</td><td>FALSE</td><td>FALSE</td><td>FALSE</td><td>FALSE</td><td>FALSE</td><td>FALSE</td></tr>\n",
       "\t<tr><td>chr10:100163428-100164654</td><td>FALSE</td><td>FALSE</td><td>FALSE</td><td>FALSE</td><td>FALSE</td><td>FALSE</td><td>FALSE</td></tr>\n",
       "</tbody>\n",
       "</table>\n"
      ],
      "text/latex": [
       "A tibble: 6 × 8\n",
       "\\begin{tabular}{llllllll}\n",
       " cre & acinar & alpha & beta & bulk & delta & ductal & gamma\\\\\n",
       " <chr> & <lgl> & <lgl> & <lgl> & <lgl> & <lgl> & <lgl> & <lgl>\\\\\n",
       "\\hline\n",
       "\t chr10:100009188-100010635 & FALSE & FALSE & FALSE & FALSE & FALSE & FALSE & FALSE\\\\\n",
       "\t chr10:100037925-100038813 & FALSE & FALSE & FALSE & FALSE & FALSE & FALSE & FALSE\\\\\n",
       "\t chr10:100043372-100044999 & FALSE & FALSE & FALSE & FALSE & FALSE & FALSE & FALSE\\\\\n",
       "\t chr10:100046018-100046622 & FALSE & FALSE & FALSE & FALSE & FALSE & FALSE & FALSE\\\\\n",
       "\t chr10:100148232-100149295 & FALSE & FALSE & FALSE & FALSE & FALSE & FALSE & FALSE\\\\\n",
       "\t chr10:100163428-100164654 & FALSE & FALSE & FALSE & FALSE & FALSE & FALSE & FALSE\\\\\n",
       "\\end{tabular}\n"
      ],
      "text/markdown": [
       "\n",
       "A tibble: 6 × 8\n",
       "\n",
       "| cre &lt;chr&gt; | acinar &lt;lgl&gt; | alpha &lt;lgl&gt; | beta &lt;lgl&gt; | bulk &lt;lgl&gt; | delta &lt;lgl&gt; | ductal &lt;lgl&gt; | gamma &lt;lgl&gt; |\n",
       "|---|---|---|---|---|---|---|---|\n",
       "| chr10:100009188-100010635 | FALSE | FALSE | FALSE | FALSE | FALSE | FALSE | FALSE |\n",
       "| chr10:100037925-100038813 | FALSE | FALSE | FALSE | FALSE | FALSE | FALSE | FALSE |\n",
       "| chr10:100043372-100044999 | FALSE | FALSE | FALSE | FALSE | FALSE | FALSE | FALSE |\n",
       "| chr10:100046018-100046622 | FALSE | FALSE | FALSE | FALSE | FALSE | FALSE | FALSE |\n",
       "| chr10:100148232-100149295 | FALSE | FALSE | FALSE | FALSE | FALSE | FALSE | FALSE |\n",
       "| chr10:100163428-100164654 | FALSE | FALSE | FALSE | FALSE | FALSE | FALSE | FALSE |\n",
       "\n"
      ],
      "text/plain": [
       "  cre                       acinar alpha beta  bulk  delta ductal gamma\n",
       "1 chr10:100009188-100010635 FALSE  FALSE FALSE FALSE FALSE FALSE  FALSE\n",
       "2 chr10:100037925-100038813 FALSE  FALSE FALSE FALSE FALSE FALSE  FALSE\n",
       "3 chr10:100043372-100044999 FALSE  FALSE FALSE FALSE FALSE FALSE  FALSE\n",
       "4 chr10:100046018-100046622 FALSE  FALSE FALSE FALSE FALSE FALSE  FALSE\n",
       "5 chr10:100148232-100149295 FALSE  FALSE FALSE FALSE FALSE FALSE  FALSE\n",
       "6 chr10:100163428-100164654 FALSE  FALSE FALSE FALSE FALSE FALSE  FALSE"
      ]
     },
     "metadata": {},
     "output_type": "display_data"
    }
   ],
   "source": [
    "allF_wide <- select(allF, cre=Feature, cell, flag_fdr05) %>% \n",
    "    filter(cell %in% c('beta','alpha','acinar','bulk','delta','ductal','gamma')) %>%\n",
    "    group_by(cell, cre) %>%\n",
    "    summarise_all(any, na.rm = TRUE) %>%\n",
    "    pivot_wider(names_from=cell,values_from=flag_fdr05, values_fill = FALSE)\n",
    "\n",
    "dim(allF_wide)\n",
    "head(allF_wide)"
   ]
  },
  {
   "cell_type": "code",
   "execution_count": 24,
   "id": "a40069fd",
   "metadata": {
    "vscode": {
     "languageId": "r"
    }
   },
   "outputs": [
    {
     "data": {
      "text/html": [
       "5932"
      ],
      "text/latex": [
       "5932"
      ],
      "text/markdown": [
       "5932"
      ],
      "text/plain": [
       "[1] 5932"
      ]
     },
     "metadata": {},
     "output_type": "display_data"
    }
   ],
   "source": [
    "sum(allF_wide$beta, na.rm=T)"
   ]
  },
  {
   "cell_type": "code",
   "execution_count": 27,
   "id": "31c66bd3",
   "metadata": {
    "vscode": {
     "languageId": "r"
    }
   },
   "outputs": [],
   "source": [
    "write.table(allF_wide, '/path/to/caQTL/stuff/caQTLs_rasqual/Summary_by_ct_cre_caQTL_sig.tsv',\n",
    "           sep='\\t', col.names=T, row.names=F, quote=F)"
   ]
  },
  {
   "cell_type": "code",
   "execution_count": 3,
   "id": "b846ee8f",
   "metadata": {
    "scrolled": true,
    "vscode": {
     "languageId": "r"
    }
   },
   "outputs": [
    {
     "name": "stderr",
     "output_type": "stream",
     "text": [
      "\u001b[1mRows: \u001b[22m\u001b[34m45566023\u001b[39m \u001b[1mColumns: \u001b[22m\u001b[34m35\u001b[39m\n",
      "\u001b[36m──\u001b[39m \u001b[1mColumn specification\u001b[22m \u001b[36m────────────────────────────────────────────────────────────────────────────────────────────────\u001b[39m\n",
      "\u001b[1mDelimiter:\u001b[22m \"\\t\"\n",
      "\u001b[31mchr\u001b[39m  (7): Feature, rsID, Chromosome, Ref, Alt, cell, feature_snp\n",
      "\u001b[32mdbl\u001b[39m (22): position, Af, HWEChi_square, IA, Log10_qval, Chi_square, Effect_si...\n",
      "\u001b[33mlgl\u001b[39m  (6): flag_fdr10, flag_fdr05, flag_fdr01, is_ct_peak, exclude, qtl\n",
      "\n",
      "\u001b[36mℹ\u001b[39m Use `spec()` to retrieve the full column specification for this data.\n",
      "\u001b[36mℹ\u001b[39m Specify the column types or set `show_col_types = FALSE` to quiet this message.\n"
     ]
    },
    {
     "data": {
      "text/html": [
       "<style>\n",
       ".list-inline {list-style: none; margin:0; padding: 0}\n",
       ".list-inline>li {display: inline-block}\n",
       ".list-inline>li:not(:last-child)::after {content: \"\\00b7\"; padding: 0 .5ex}\n",
       "</style>\n",
       "<ol class=list-inline><li>45566023</li><li>35</li></ol>\n"
      ],
      "text/latex": [
       "\\begin{enumerate*}\n",
       "\\item 45566023\n",
       "\\item 35\n",
       "\\end{enumerate*}\n"
      ],
      "text/markdown": [
       "1. 45566023\n",
       "2. 35\n",
       "\n",
       "\n"
      ],
      "text/plain": [
       "[1] 45566023       35"
      ]
     },
     "metadata": {},
     "output_type": "display_data"
    },
    {
     "data": {
      "text/html": [
       "<table class=\"dataframe\">\n",
       "<caption>A spec_tbl_df: 6 × 35</caption>\n",
       "<thead>\n",
       "\t<tr><th scope=col>Feature</th><th scope=col>rsID</th><th scope=col>Chromosome</th><th scope=col>position</th><th scope=col>Ref</th><th scope=col>Alt</th><th scope=col>Af</th><th scope=col>HWEChi_square</th><th scope=col>IA</th><th scope=col>Log10_qval</th><th scope=col>⋯</th><th scope=col>P_VAl</th><th scope=col>dist</th><th scope=col>flag_fdr10</th><th scope=col>flag_fdr05</th><th scope=col>flag_fdr01</th><th scope=col>cell</th><th scope=col>is_ct_peak</th><th scope=col>exclude</th><th scope=col>qtl</th><th scope=col>feature_snp</th></tr>\n",
       "\t<tr><th scope=col>&lt;chr&gt;</th><th scope=col>&lt;chr&gt;</th><th scope=col>&lt;chr&gt;</th><th scope=col>&lt;dbl&gt;</th><th scope=col>&lt;chr&gt;</th><th scope=col>&lt;chr&gt;</th><th scope=col>&lt;dbl&gt;</th><th scope=col>&lt;dbl&gt;</th><th scope=col>&lt;dbl&gt;</th><th scope=col>&lt;dbl&gt;</th><th scope=col>⋯</th><th scope=col>&lt;dbl&gt;</th><th scope=col>&lt;dbl&gt;</th><th scope=col>&lt;lgl&gt;</th><th scope=col>&lt;lgl&gt;</th><th scope=col>&lt;lgl&gt;</th><th scope=col>&lt;chr&gt;</th><th scope=col>&lt;lgl&gt;</th><th scope=col>&lt;lgl&gt;</th><th scope=col>&lt;lgl&gt;</th><th scope=col>&lt;chr&gt;</th></tr>\n",
       "</thead>\n",
       "<tbody>\n",
       "\t<tr><td>chr6:32622377-32623439</td><td>chr6:32620608:T:A</td><td>chr6</td><td>32620608</td><td>T</td><td>A</td><td>0.425926</td><td>2.231991</td><td>0.998678</td><td>-67.03611</td><td>⋯</td><td>8.976233e-71</td><td>-2300</td><td>TRUE</td><td>TRUE</td><td>TRUE</td><td>acinar</td><td>TRUE</td><td>FALSE</td><td>TRUE</td><td>chr6:32622377-32623439_chr6:32620608:T:A</td></tr>\n",
       "\t<tr><td>chr6:32622377-32623439</td><td>chr6:32620292:C:T</td><td>chr6</td><td>32620292</td><td>C</td><td>T</td><td>0.481481</td><td>3.033058</td><td>0.997176</td><td>-67.03611</td><td>⋯</td><td>3.415022e-70</td><td>-2616</td><td>TRUE</td><td>TRUE</td><td>TRUE</td><td>acinar</td><td>TRUE</td><td>FALSE</td><td>TRUE</td><td>chr6:32622377-32623439_chr6:32620292:C:T</td></tr>\n",
       "\t<tr><td>chr6:32622377-32623439</td><td>chr6:32620069:C:T</td><td>chr6</td><td>32620069</td><td>C</td><td>T</td><td>0.481481</td><td>3.033058</td><td>0.997249</td><td>-67.03611</td><td>⋯</td><td>3.415022e-70</td><td>-2839</td><td>TRUE</td><td>TRUE</td><td>TRUE</td><td>acinar</td><td>TRUE</td><td>FALSE</td><td>TRUE</td><td>chr6:32622377-32623439_chr6:32620069:C:T</td></tr>\n",
       "\t<tr><td>chr6:32622377-32623439</td><td>chr6:32620254:G:A</td><td>chr6</td><td>32620254</td><td>G</td><td>A</td><td>0.481481</td><td>3.033058</td><td>0.997319</td><td>-67.03611</td><td>⋯</td><td>3.459474e-70</td><td>-2654</td><td>TRUE</td><td>TRUE</td><td>TRUE</td><td>acinar</td><td>TRUE</td><td>FALSE</td><td>TRUE</td><td>chr6:32622377-32623439_chr6:32620254:G:A</td></tr>\n",
       "\t<tr><td>chr6:32622377-32623439</td><td>chr6:32623176:T:C</td><td>chr6</td><td>32623176</td><td>T</td><td>C</td><td>0.462963</td><td>1.913385</td><td>0.999952</td><td>-66.25852</td><td>⋯</td><td>5.637594e-69</td><td>  268</td><td>TRUE</td><td>TRUE</td><td>TRUE</td><td>acinar</td><td>TRUE</td><td>FALSE</td><td>TRUE</td><td>chr6:32622377-32623439_chr6:32623176:T:C</td></tr>\n",
       "\t<tr><td>chr6:32622377-32623439</td><td>chr6:32623122:G:T</td><td>chr6</td><td>32623122</td><td>G</td><td>T</td><td>0.462963</td><td>1.913385</td><td>0.999952</td><td>-66.25852</td><td>⋯</td><td>5.650015e-69</td><td>  214</td><td>TRUE</td><td>TRUE</td><td>TRUE</td><td>acinar</td><td>TRUE</td><td>FALSE</td><td>TRUE</td><td>chr6:32622377-32623439_chr6:32623122:G:T</td></tr>\n",
       "</tbody>\n",
       "</table>\n"
      ],
      "text/latex": [
       "A spec\\_tbl\\_df: 6 × 35\n",
       "\\begin{tabular}{lllllllllllllllllllll}\n",
       " Feature & rsID & Chromosome & position & Ref & Alt & Af & HWEChi\\_square & IA & Log10\\_qval & ⋯ & P\\_VAl & dist & flag\\_fdr10 & flag\\_fdr05 & flag\\_fdr01 & cell & is\\_ct\\_peak & exclude & qtl & feature\\_snp\\\\\n",
       " <chr> & <chr> & <chr> & <dbl> & <chr> & <chr> & <dbl> & <dbl> & <dbl> & <dbl> & ⋯ & <dbl> & <dbl> & <lgl> & <lgl> & <lgl> & <chr> & <lgl> & <lgl> & <lgl> & <chr>\\\\\n",
       "\\hline\n",
       "\t chr6:32622377-32623439 & chr6:32620608:T:A & chr6 & 32620608 & T & A & 0.425926 & 2.231991 & 0.998678 & -67.03611 & ⋯ & 8.976233e-71 & -2300 & TRUE & TRUE & TRUE & acinar & TRUE & FALSE & TRUE & chr6:32622377-32623439\\_chr6:32620608:T:A\\\\\n",
       "\t chr6:32622377-32623439 & chr6:32620292:C:T & chr6 & 32620292 & C & T & 0.481481 & 3.033058 & 0.997176 & -67.03611 & ⋯ & 3.415022e-70 & -2616 & TRUE & TRUE & TRUE & acinar & TRUE & FALSE & TRUE & chr6:32622377-32623439\\_chr6:32620292:C:T\\\\\n",
       "\t chr6:32622377-32623439 & chr6:32620069:C:T & chr6 & 32620069 & C & T & 0.481481 & 3.033058 & 0.997249 & -67.03611 & ⋯ & 3.415022e-70 & -2839 & TRUE & TRUE & TRUE & acinar & TRUE & FALSE & TRUE & chr6:32622377-32623439\\_chr6:32620069:C:T\\\\\n",
       "\t chr6:32622377-32623439 & chr6:32620254:G:A & chr6 & 32620254 & G & A & 0.481481 & 3.033058 & 0.997319 & -67.03611 & ⋯ & 3.459474e-70 & -2654 & TRUE & TRUE & TRUE & acinar & TRUE & FALSE & TRUE & chr6:32622377-32623439\\_chr6:32620254:G:A\\\\\n",
       "\t chr6:32622377-32623439 & chr6:32623176:T:C & chr6 & 32623176 & T & C & 0.462963 & 1.913385 & 0.999952 & -66.25852 & ⋯ & 5.637594e-69 &   268 & TRUE & TRUE & TRUE & acinar & TRUE & FALSE & TRUE & chr6:32622377-32623439\\_chr6:32623176:T:C\\\\\n",
       "\t chr6:32622377-32623439 & chr6:32623122:G:T & chr6 & 32623122 & G & T & 0.462963 & 1.913385 & 0.999952 & -66.25852 & ⋯ & 5.650015e-69 &   214 & TRUE & TRUE & TRUE & acinar & TRUE & FALSE & TRUE & chr6:32622377-32623439\\_chr6:32623122:G:T\\\\\n",
       "\\end{tabular}\n"
      ],
      "text/markdown": [
       "\n",
       "A spec_tbl_df: 6 × 35\n",
       "\n",
       "| Feature &lt;chr&gt; | rsID &lt;chr&gt; | Chromosome &lt;chr&gt; | position &lt;dbl&gt; | Ref &lt;chr&gt; | Alt &lt;chr&gt; | Af &lt;dbl&gt; | HWEChi_square &lt;dbl&gt; | IA &lt;dbl&gt; | Log10_qval &lt;dbl&gt; | ⋯ ⋯ | P_VAl &lt;dbl&gt; | dist &lt;dbl&gt; | flag_fdr10 &lt;lgl&gt; | flag_fdr05 &lt;lgl&gt; | flag_fdr01 &lt;lgl&gt; | cell &lt;chr&gt; | is_ct_peak &lt;lgl&gt; | exclude &lt;lgl&gt; | qtl &lt;lgl&gt; | feature_snp &lt;chr&gt; |\n",
       "|---|---|---|---|---|---|---|---|---|---|---|---|---|---|---|---|---|---|---|---|---|\n",
       "| chr6:32622377-32623439 | chr6:32620608:T:A | chr6 | 32620608 | T | A | 0.425926 | 2.231991 | 0.998678 | -67.03611 | ⋯ | 8.976233e-71 | -2300 | TRUE | TRUE | TRUE | acinar | TRUE | FALSE | TRUE | chr6:32622377-32623439_chr6:32620608:T:A |\n",
       "| chr6:32622377-32623439 | chr6:32620292:C:T | chr6 | 32620292 | C | T | 0.481481 | 3.033058 | 0.997176 | -67.03611 | ⋯ | 3.415022e-70 | -2616 | TRUE | TRUE | TRUE | acinar | TRUE | FALSE | TRUE | chr6:32622377-32623439_chr6:32620292:C:T |\n",
       "| chr6:32622377-32623439 | chr6:32620069:C:T | chr6 | 32620069 | C | T | 0.481481 | 3.033058 | 0.997249 | -67.03611 | ⋯ | 3.415022e-70 | -2839 | TRUE | TRUE | TRUE | acinar | TRUE | FALSE | TRUE | chr6:32622377-32623439_chr6:32620069:C:T |\n",
       "| chr6:32622377-32623439 | chr6:32620254:G:A | chr6 | 32620254 | G | A | 0.481481 | 3.033058 | 0.997319 | -67.03611 | ⋯ | 3.459474e-70 | -2654 | TRUE | TRUE | TRUE | acinar | TRUE | FALSE | TRUE | chr6:32622377-32623439_chr6:32620254:G:A |\n",
       "| chr6:32622377-32623439 | chr6:32623176:T:C | chr6 | 32623176 | T | C | 0.462963 | 1.913385 | 0.999952 | -66.25852 | ⋯ | 5.637594e-69 |   268 | TRUE | TRUE | TRUE | acinar | TRUE | FALSE | TRUE | chr6:32622377-32623439_chr6:32623176:T:C |\n",
       "| chr6:32622377-32623439 | chr6:32623122:G:T | chr6 | 32623122 | G | T | 0.462963 | 1.913385 | 0.999952 | -66.25852 | ⋯ | 5.650015e-69 |   214 | TRUE | TRUE | TRUE | acinar | TRUE | FALSE | TRUE | chr6:32622377-32623439_chr6:32623122:G:T |\n",
       "\n"
      ],
      "text/plain": [
       "  Feature                rsID              Chromosome position Ref Alt Af      \n",
       "1 chr6:32622377-32623439 chr6:32620608:T:A chr6       32620608 T   A   0.425926\n",
       "2 chr6:32622377-32623439 chr6:32620292:C:T chr6       32620292 C   T   0.481481\n",
       "3 chr6:32622377-32623439 chr6:32620069:C:T chr6       32620069 C   T   0.481481\n",
       "4 chr6:32622377-32623439 chr6:32620254:G:A chr6       32620254 G   A   0.481481\n",
       "5 chr6:32622377-32623439 chr6:32623176:T:C chr6       32623176 T   C   0.462963\n",
       "6 chr6:32622377-32623439 chr6:32623122:G:T chr6       32623122 G   T   0.462963\n",
       "  HWEChi_square IA       Log10_qval ⋯ P_VAl        dist  flag_fdr10 flag_fdr05\n",
       "1 2.231991      0.998678 -67.03611  ⋯ 8.976233e-71 -2300 TRUE       TRUE      \n",
       "2 3.033058      0.997176 -67.03611  ⋯ 3.415022e-70 -2616 TRUE       TRUE      \n",
       "3 3.033058      0.997249 -67.03611  ⋯ 3.415022e-70 -2839 TRUE       TRUE      \n",
       "4 3.033058      0.997319 -67.03611  ⋯ 3.459474e-70 -2654 TRUE       TRUE      \n",
       "5 1.913385      0.999952 -66.25852  ⋯ 5.637594e-69   268 TRUE       TRUE      \n",
       "6 1.913385      0.999952 -66.25852  ⋯ 5.650015e-69   214 TRUE       TRUE      \n",
       "  flag_fdr01 cell   is_ct_peak exclude qtl \n",
       "1 TRUE       acinar TRUE       FALSE   TRUE\n",
       "2 TRUE       acinar TRUE       FALSE   TRUE\n",
       "3 TRUE       acinar TRUE       FALSE   TRUE\n",
       "4 TRUE       acinar TRUE       FALSE   TRUE\n",
       "5 TRUE       acinar TRUE       FALSE   TRUE\n",
       "6 TRUE       acinar TRUE       FALSE   TRUE\n",
       "  feature_snp                             \n",
       "1 chr6:32622377-32623439_chr6:32620608:T:A\n",
       "2 chr6:32622377-32623439_chr6:32620292:C:T\n",
       "3 chr6:32622377-32623439_chr6:32620069:C:T\n",
       "4 chr6:32622377-32623439_chr6:32620254:G:A\n",
       "5 chr6:32622377-32623439_chr6:32623176:T:C\n",
       "6 chr6:32622377-32623439_chr6:32623122:G:T"
      ]
     },
     "metadata": {},
     "output_type": "display_data"
    }
   ],
   "source": [
    "all = vroom('/path/to/caQTL/stuff/caQTLs_rasqual/Summary_allCells_all_run1F.tsv', delim='\\t')\n",
    "\n",
    "dim(all)\n",
    "head(all)"
   ]
  },
  {
   "cell_type": "code",
   "execution_count": 5,
   "id": "58f43b34",
   "metadata": {
    "vscode": {
     "languageId": "r"
    }
   },
   "outputs": [
    {
     "data": {
      "text/html": [
       "<style>\n",
       ".list-inline {list-style: none; margin:0; padding: 0}\n",
       ".list-inline>li {display: inline-block}\n",
       ".list-inline>li:not(:last-child)::after {content: \"\\00b7\"; padding: 0 .5ex}\n",
       "</style>\n",
       "<ol class=list-inline><li>9538</li><li>13</li></ol>\n"
      ],
      "text/latex": [
       "\\begin{enumerate*}\n",
       "\\item 9538\n",
       "\\item 13\n",
       "\\end{enumerate*}\n"
      ],
      "text/markdown": [
       "1. 9538\n",
       "2. 13\n",
       "\n",
       "\n"
      ],
      "text/plain": [
       "[1] 9538   13"
      ]
     },
     "metadata": {},
     "output_type": "display_data"
    },
    {
     "data": {
      "text/html": [
       "<table class=\"dataframe\">\n",
       "<caption>A data.frame: 6 × 13</caption>\n",
       "<thead>\n",
       "\t<tr><th></th><th scope=col>cre</th><th scope=col>caqtl_num_cts</th><th scope=col>caqtl_cts</th><th scope=col>caqtl_ct_spec</th><th scope=col>peak_num_cts</th><th scope=col>peak_cts</th><th scope=col>peak_ct_spec</th><th scope=col>cpm6_num_cts</th><th scope=col>cpm6_cts</th><th scope=col>cpm6_ct_spec</th><th scope=col>cpm10_num_cts</th><th scope=col>cpm10_cts</th><th scope=col>cpm10_ct_spec</th></tr>\n",
       "\t<tr><th></th><th scope=col>&lt;chr&gt;</th><th scope=col>&lt;int&gt;</th><th scope=col>&lt;chr&gt;</th><th scope=col>&lt;lgl&gt;</th><th scope=col>&lt;int&gt;</th><th scope=col>&lt;chr&gt;</th><th scope=col>&lt;lgl&gt;</th><th scope=col>&lt;int&gt;</th><th scope=col>&lt;chr&gt;</th><th scope=col>&lt;lgl&gt;</th><th scope=col>&lt;int&gt;</th><th scope=col>&lt;chr&gt;</th><th scope=col>&lt;lgl&gt;</th></tr>\n",
       "</thead>\n",
       "<tbody>\n",
       "\t<tr><th scope=row>1</th><td>chr1:3139257-3140991</td><td>6</td><td>beta, alpha, delta, gamma, acinar, ductal</td><td>FALSE</td><td> 5</td><td>beta, alpha, delta, gamma, ductal</td><td>FALSE</td><td> 2</td><td>delta, ductal</td><td>FALSE</td><td>NA</td><td>NA</td><td>NA</td></tr>\n",
       "\t<tr><th scope=row>2</th><td>chr1:3141294-3141578</td><td>2</td><td>beta, delta                              </td><td>FALSE</td><td> 1</td><td>delta                            </td><td> TRUE</td><td> 1</td><td>delta        </td><td> TRUE</td><td>NA</td><td>NA</td><td>NA</td></tr>\n",
       "\t<tr><th scope=row>3</th><td>chr1:3144228-3144677</td><td>3</td><td>beta, alpha, acinar                      </td><td>FALSE</td><td> 1</td><td>acinar                           </td><td> TRUE</td><td>NA</td><td>NA           </td><td>   NA</td><td>NA</td><td>NA</td><td>NA</td></tr>\n",
       "\t<tr><th scope=row>4</th><td>chr1:3145672-3145886</td><td>1</td><td>beta                                     </td><td> TRUE</td><td>NA</td><td>NA                               </td><td>   NA</td><td>NA</td><td>NA           </td><td>   NA</td><td>NA</td><td>NA</td><td>NA</td></tr>\n",
       "\t<tr><th scope=row>5</th><td>chr1:3152654-3152854</td><td>1</td><td>beta                                     </td><td> TRUE</td><td>NA</td><td>NA                               </td><td>   NA</td><td>NA</td><td>NA           </td><td>   NA</td><td>NA</td><td>NA</td><td>NA</td></tr>\n",
       "\t<tr><th scope=row>6</th><td>chr1:3155063-3156322</td><td>3</td><td>beta, alpha, delta                       </td><td>FALSE</td><td> 3</td><td>beta, alpha, delta               </td><td>FALSE</td><td> 1</td><td>delta        </td><td> TRUE</td><td>NA</td><td>NA</td><td>NA</td></tr>\n",
       "</tbody>\n",
       "</table>\n"
      ],
      "text/latex": [
       "A data.frame: 6 × 13\n",
       "\\begin{tabular}{r|lllllllllllll}\n",
       "  & cre & caqtl\\_num\\_cts & caqtl\\_cts & caqtl\\_ct\\_spec & peak\\_num\\_cts & peak\\_cts & peak\\_ct\\_spec & cpm6\\_num\\_cts & cpm6\\_cts & cpm6\\_ct\\_spec & cpm10\\_num\\_cts & cpm10\\_cts & cpm10\\_ct\\_spec\\\\\n",
       "  & <chr> & <int> & <chr> & <lgl> & <int> & <chr> & <lgl> & <int> & <chr> & <lgl> & <int> & <chr> & <lgl>\\\\\n",
       "\\hline\n",
       "\t1 & chr1:3139257-3140991 & 6 & beta, alpha, delta, gamma, acinar, ductal & FALSE &  5 & beta, alpha, delta, gamma, ductal & FALSE &  2 & delta, ductal & FALSE & NA & NA & NA\\\\\n",
       "\t2 & chr1:3141294-3141578 & 2 & beta, delta                               & FALSE &  1 & delta                             &  TRUE &  1 & delta         &  TRUE & NA & NA & NA\\\\\n",
       "\t3 & chr1:3144228-3144677 & 3 & beta, alpha, acinar                       & FALSE &  1 & acinar                            &  TRUE & NA & NA            &    NA & NA & NA & NA\\\\\n",
       "\t4 & chr1:3145672-3145886 & 1 & beta                                      &  TRUE & NA & NA                                &    NA & NA & NA            &    NA & NA & NA & NA\\\\\n",
       "\t5 & chr1:3152654-3152854 & 1 & beta                                      &  TRUE & NA & NA                                &    NA & NA & NA            &    NA & NA & NA & NA\\\\\n",
       "\t6 & chr1:3155063-3156322 & 3 & beta, alpha, delta                        & FALSE &  3 & beta, alpha, delta                & FALSE &  1 & delta         &  TRUE & NA & NA & NA\\\\\n",
       "\\end{tabular}\n"
      ],
      "text/markdown": [
       "\n",
       "A data.frame: 6 × 13\n",
       "\n",
       "| <!--/--> | cre &lt;chr&gt; | caqtl_num_cts &lt;int&gt; | caqtl_cts &lt;chr&gt; | caqtl_ct_spec &lt;lgl&gt; | peak_num_cts &lt;int&gt; | peak_cts &lt;chr&gt; | peak_ct_spec &lt;lgl&gt; | cpm6_num_cts &lt;int&gt; | cpm6_cts &lt;chr&gt; | cpm6_ct_spec &lt;lgl&gt; | cpm10_num_cts &lt;int&gt; | cpm10_cts &lt;chr&gt; | cpm10_ct_spec &lt;lgl&gt; |\n",
       "|---|---|---|---|---|---|---|---|---|---|---|---|---|---|\n",
       "| 1 | chr1:3139257-3140991 | 6 | beta, alpha, delta, gamma, acinar, ductal | FALSE |  5 | beta, alpha, delta, gamma, ductal | FALSE |  2 | delta, ductal | FALSE | NA | NA | NA |\n",
       "| 2 | chr1:3141294-3141578 | 2 | beta, delta                               | FALSE |  1 | delta                             |  TRUE |  1 | delta         |  TRUE | NA | NA | NA |\n",
       "| 3 | chr1:3144228-3144677 | 3 | beta, alpha, acinar                       | FALSE |  1 | acinar                            |  TRUE | NA | NA            |    NA | NA | NA | NA |\n",
       "| 4 | chr1:3145672-3145886 | 1 | beta                                      |  TRUE | NA | NA                                |    NA | NA | NA            |    NA | NA | NA | NA |\n",
       "| 5 | chr1:3152654-3152854 | 1 | beta                                      |  TRUE | NA | NA                                |    NA | NA | NA            |    NA | NA | NA | NA |\n",
       "| 6 | chr1:3155063-3156322 | 3 | beta, alpha, delta                        | FALSE |  3 | beta, alpha, delta                | FALSE |  1 | delta         |  TRUE | NA | NA | NA |\n",
       "\n"
      ],
      "text/plain": [
       "  cre                  caqtl_num_cts caqtl_cts                                \n",
       "1 chr1:3139257-3140991 6             beta, alpha, delta, gamma, acinar, ductal\n",
       "2 chr1:3141294-3141578 2             beta, delta                              \n",
       "3 chr1:3144228-3144677 3             beta, alpha, acinar                      \n",
       "4 chr1:3145672-3145886 1             beta                                     \n",
       "5 chr1:3152654-3152854 1             beta                                     \n",
       "6 chr1:3155063-3156322 3             beta, alpha, delta                       \n",
       "  caqtl_ct_spec peak_num_cts peak_cts                          peak_ct_spec\n",
       "1 FALSE          5           beta, alpha, delta, gamma, ductal FALSE       \n",
       "2 FALSE          1           delta                              TRUE       \n",
       "3 FALSE          1           acinar                             TRUE       \n",
       "4  TRUE         NA           NA                                   NA       \n",
       "5  TRUE         NA           NA                                   NA       \n",
       "6 FALSE          3           beta, alpha, delta                FALSE       \n",
       "  cpm6_num_cts cpm6_cts      cpm6_ct_spec cpm10_num_cts cpm10_cts cpm10_ct_spec\n",
       "1  2           delta, ductal FALSE        NA            NA        NA           \n",
       "2  1           delta          TRUE        NA            NA        NA           \n",
       "3 NA           NA               NA        NA            NA        NA           \n",
       "4 NA           NA               NA        NA            NA        NA           \n",
       "5 NA           NA               NA        NA            NA        NA           \n",
       "6  1           delta          TRUE        NA            NA        NA           "
      ]
     },
     "metadata": {},
     "output_type": "display_data"
    }
   ],
   "source": [
    "feature_annotations <- read.table('/genotypes/240521_caQTL_GWAS_coloc_cts/ct_specificity/all_caQTL_features_CT_specificity_info.txt', \n",
    "                                  header=T, sep='\\t')\n",
    "\n",
    "dim(feature_annotations)\n",
    "head(feature_annotations)"
   ]
  },
  {
   "cell_type": "code",
   "execution_count": 6,
   "id": "aac67c5d",
   "metadata": {
    "vscode": {
     "languageId": "r"
    }
   },
   "outputs": [
    {
     "data": {
      "text/html": [
       "254797"
      ],
      "text/latex": [
       "254797"
      ],
      "text/markdown": [
       "254797"
      ],
      "text/plain": [
       "[1] 254797"
      ]
     },
     "metadata": {},
     "output_type": "display_data"
    }
   ],
   "source": [
    "length(unique(all$Feature))"
   ]
  },
  {
   "cell_type": "code",
   "execution_count": 7,
   "id": "6d0f044d",
   "metadata": {
    "vscode": {
     "languageId": "r"
    }
   },
   "outputs": [
    {
     "data": {
      "text/html": [
       "<style>\n",
       ".list-inline {list-style: none; margin:0; padding: 0}\n",
       ".list-inline>li {display: inline-block}\n",
       ".list-inline>li:not(:last-child)::after {content: \"\\00b7\"; padding: 0 .5ex}\n",
       "</style>\n",
       "<ol class=list-inline><li>254797</li><li>8</li></ol>\n"
      ],
      "text/latex": [
       "\\begin{enumerate*}\n",
       "\\item 254797\n",
       "\\item 8\n",
       "\\end{enumerate*}\n"
      ],
      "text/markdown": [
       "1. 254797\n",
       "2. 8\n",
       "\n",
       "\n"
      ],
      "text/plain": [
       "[1] 254797      8"
      ]
     },
     "metadata": {},
     "output_type": "display_data"
    },
    {
     "data": {
      "text/html": [
       "<table class=\"dataframe\">\n",
       "<caption>A tibble: 6 × 8</caption>\n",
       "<thead>\n",
       "\t<tr><th scope=col>cre</th><th scope=col>acinar</th><th scope=col>alpha</th><th scope=col>beta</th><th scope=col>bulk</th><th scope=col>delta</th><th scope=col>ductal</th><th scope=col>gamma</th></tr>\n",
       "\t<tr><th scope=col>&lt;chr&gt;</th><th scope=col>&lt;lgl&gt;</th><th scope=col>&lt;lgl&gt;</th><th scope=col>&lt;lgl&gt;</th><th scope=col>&lt;lgl&gt;</th><th scope=col>&lt;lgl&gt;</th><th scope=col>&lt;lgl&gt;</th><th scope=col>&lt;lgl&gt;</th></tr>\n",
       "</thead>\n",
       "<tbody>\n",
       "\t<tr><td>chr10:100006062-100006793</td><td>FALSE</td><td>FALSE</td><td> TRUE</td><td> TRUE</td><td>FALSE</td><td>FALSE</td><td>FALSE</td></tr>\n",
       "\t<tr><td>chr10:100009188-100010635</td><td>FALSE</td><td>FALSE</td><td>FALSE</td><td>FALSE</td><td>FALSE</td><td>FALSE</td><td>FALSE</td></tr>\n",
       "\t<tr><td>chr10:100019905-100021214</td><td>FALSE</td><td>FALSE</td><td>FALSE</td><td>FALSE</td><td>FALSE</td><td>   NA</td><td>FALSE</td></tr>\n",
       "\t<tr><td>chr10:100037925-100038813</td><td>FALSE</td><td>FALSE</td><td>FALSE</td><td>FALSE</td><td>   NA</td><td>   NA</td><td>   NA</td></tr>\n",
       "\t<tr><td>chr10:100043372-100044999</td><td>FALSE</td><td>FALSE</td><td>FALSE</td><td>FALSE</td><td>   NA</td><td>   NA</td><td>FALSE</td></tr>\n",
       "\t<tr><td>chr10:100046018-100046622</td><td>FALSE</td><td>FALSE</td><td>FALSE</td><td>FALSE</td><td>FALSE</td><td>   NA</td><td>FALSE</td></tr>\n",
       "</tbody>\n",
       "</table>\n"
      ],
      "text/latex": [
       "A tibble: 6 × 8\n",
       "\\begin{tabular}{llllllll}\n",
       " cre & acinar & alpha & beta & bulk & delta & ductal & gamma\\\\\n",
       " <chr> & <lgl> & <lgl> & <lgl> & <lgl> & <lgl> & <lgl> & <lgl>\\\\\n",
       "\\hline\n",
       "\t chr10:100006062-100006793 & FALSE & FALSE &  TRUE &  TRUE & FALSE & FALSE & FALSE\\\\\n",
       "\t chr10:100009188-100010635 & FALSE & FALSE & FALSE & FALSE & FALSE & FALSE & FALSE\\\\\n",
       "\t chr10:100019905-100021214 & FALSE & FALSE & FALSE & FALSE & FALSE &    NA & FALSE\\\\\n",
       "\t chr10:100037925-100038813 & FALSE & FALSE & FALSE & FALSE &    NA &    NA &    NA\\\\\n",
       "\t chr10:100043372-100044999 & FALSE & FALSE & FALSE & FALSE &    NA &    NA & FALSE\\\\\n",
       "\t chr10:100046018-100046622 & FALSE & FALSE & FALSE & FALSE & FALSE &    NA & FALSE\\\\\n",
       "\\end{tabular}\n"
      ],
      "text/markdown": [
       "\n",
       "A tibble: 6 × 8\n",
       "\n",
       "| cre &lt;chr&gt; | acinar &lt;lgl&gt; | alpha &lt;lgl&gt; | beta &lt;lgl&gt; | bulk &lt;lgl&gt; | delta &lt;lgl&gt; | ductal &lt;lgl&gt; | gamma &lt;lgl&gt; |\n",
       "|---|---|---|---|---|---|---|---|\n",
       "| chr10:100006062-100006793 | FALSE | FALSE |  TRUE |  TRUE | FALSE | FALSE | FALSE |\n",
       "| chr10:100009188-100010635 | FALSE | FALSE | FALSE | FALSE | FALSE | FALSE | FALSE |\n",
       "| chr10:100019905-100021214 | FALSE | FALSE | FALSE | FALSE | FALSE |    NA | FALSE |\n",
       "| chr10:100037925-100038813 | FALSE | FALSE | FALSE | FALSE |    NA |    NA |    NA |\n",
       "| chr10:100043372-100044999 | FALSE | FALSE | FALSE | FALSE |    NA |    NA | FALSE |\n",
       "| chr10:100046018-100046622 | FALSE | FALSE | FALSE | FALSE | FALSE |    NA | FALSE |\n",
       "\n"
      ],
      "text/plain": [
       "  cre                       acinar alpha beta  bulk  delta ductal gamma\n",
       "1 chr10:100006062-100006793 FALSE  FALSE  TRUE  TRUE FALSE FALSE  FALSE\n",
       "2 chr10:100009188-100010635 FALSE  FALSE FALSE FALSE FALSE FALSE  FALSE\n",
       "3 chr10:100019905-100021214 FALSE  FALSE FALSE FALSE FALSE    NA  FALSE\n",
       "4 chr10:100037925-100038813 FALSE  FALSE FALSE FALSE    NA    NA     NA\n",
       "5 chr10:100043372-100044999 FALSE  FALSE FALSE FALSE    NA    NA  FALSE\n",
       "6 chr10:100046018-100046622 FALSE  FALSE FALSE FALSE FALSE    NA  FALSE"
      ]
     },
     "metadata": {},
     "output_type": "display_data"
    }
   ],
   "source": [
    "all_wide <- select(all, cre=Feature, cell, flag_fdr05) %>% \n",
    "    filter(cell %in% c('beta','alpha','acinar','bulk','delta','ductal','gamma')) %>%\n",
    "    group_by(cell, cre) %>%\n",
    "    summarise_all(any, na.rm = TRUE) %>%\n",
    "    pivot_wider(names_from=cell,values_from=flag_fdr05)\n",
    "\n",
    "dim(all_wide)\n",
    "head(all_wide)"
   ]
  },
  {
   "cell_type": "code",
   "execution_count": 14,
   "id": "69096008",
   "metadata": {
    "vscode": {
     "languageId": "r"
    }
   },
   "outputs": [
    {
     "data": {
      "text/html": [
       "528"
      ],
      "text/latex": [
       "528"
      ],
      "text/markdown": [
       "528"
      ],
      "text/plain": [
       "[1] 528"
      ]
     },
     "metadata": {},
     "output_type": "display_data"
    }
   ],
   "source": [
    "sum(all_wide$gamma, na.rm=T)"
   ]
  },
  {
   "cell_type": "code",
   "execution_count": null,
   "id": "b5b4b839",
   "metadata": {
    "vscode": {
     "languageId": "r"
    }
   },
   "outputs": [],
   "source": []
  },
  {
   "cell_type": "code",
   "execution_count": null,
   "id": "5b8f8994",
   "metadata": {
    "vscode": {
     "languageId": "r"
    }
   },
   "outputs": [],
   "source": []
  },
  {
   "cell_type": "code",
   "execution_count": null,
   "id": "6b252c30",
   "metadata": {
    "vscode": {
     "languageId": "r"
    }
   },
   "outputs": [],
   "source": []
  },
  {
   "cell_type": "code",
   "execution_count": null,
   "id": "761ecf49",
   "metadata": {
    "vscode": {
     "languageId": "r"
    }
   },
   "outputs": [],
   "source": []
  },
  {
   "cell_type": "code",
   "execution_count": null,
   "id": "9553ef71",
   "metadata": {
    "scrolled": true,
    "vscode": {
     "languageId": "r"
    }
   },
   "outputs": [],
   "source": [
    "#mash <- data.frame(get_lfsr(m) < 0.05)\n",
    "mash <- data.frame(read.table('/path/to/caQTL/stuff/anova_interaction/240111_WE_run1_all_ash_pca_canonical_mash_lfsr.tsv', \n",
    "                                  header=T, sep='\\t') < 0.05)\n",
    "mash$cre <- stringr::str_split(rownames(mash), '::', simplify=T)[,1]\n",
    "\n",
    "dim(mash)\n",
    "\n",
    "mash <- group_by(mash, cre) %>%\n",
    "    summarise_all(any)\n",
    "\n",
    "dim(mash)\n",
    "head(mash)"
   ]
  },
  {
   "cell_type": "code",
   "execution_count": null,
   "id": "ce582fa3",
   "metadata": {
    "vscode": {
     "languageId": "r"
    }
   },
   "outputs": [],
   "source": [
    "length(feature_annotations$cre)\n",
    "sum(feature_annotations$cre %in% all_wide$cre)\n",
    "sum(feature_annotations$cre %in% mash$cre)"
   ]
  },
  {
   "cell_type": "code",
   "execution_count": null,
   "id": "4d38870e",
   "metadata": {
    "vscode": {
     "languageId": "r"
    }
   },
   "outputs": [],
   "source": [
    "all_wide_anno <- all_wide\n",
    "\n",
    "all_wide_anno$sig_caqtls_cts <- c(NA)\n",
    "all_wide_anno[(all_wide_anno$acinar == TRUE) & (!is.na(all_wide_anno$acinar)),]$sig_caqtls_cts <- paste0(all_wide_anno[(all_wide_anno$acinar == TRUE) & (!is.na(all_wide_anno$acinar)),]$sig_caqtls_cts, ', acinar')\n",
    "all_wide_anno[(all_wide_anno$alpha == TRUE) & (!is.na(all_wide_anno$alpha)),]$sig_caqtls_cts <- paste0(all_wide_anno[(all_wide_anno$alpha == TRUE) & (!is.na(all_wide_anno$alpha)),]$sig_caqtls_cts, ', alpha')\n",
    "all_wide_anno[(all_wide_anno$beta == TRUE) & (!is.na(all_wide_anno$beta)),]$sig_caqtls_cts <- paste0(all_wide_anno[(all_wide_anno$beta == TRUE) & (!is.na(all_wide_anno$beta)),]$sig_caqtls_cts, ', beta')\n",
    "all_wide_anno[(all_wide_anno$bulk == TRUE) & (!is.na(all_wide_anno$bulk)),]$sig_caqtls_cts <- paste0(all_wide_anno[(all_wide_anno$bulk == TRUE) & (!is.na(all_wide_anno$bulk)),]$sig_caqtls_cts, ', bulk')\n",
    "all_wide_anno[(all_wide_anno$delta == TRUE) & (!is.na(all_wide_anno$delta)),]$sig_caqtls_cts <- paste0(all_wide_anno[(all_wide_anno$delta == TRUE) & (!is.na(all_wide_anno$delta)),]$sig_caqtls_cts, ', delta')\n",
    "all_wide_anno[(all_wide_anno$ductal == TRUE) & (!is.na(all_wide_anno$ductal)),]$sig_caqtls_cts <- paste0(all_wide_anno[(all_wide_anno$ductal == TRUE) & (!is.na(all_wide_anno$ductal)),]$sig_caqtls_cts, ', ductal')\n",
    "all_wide_anno[(all_wide_anno$gamma == TRUE) & (!is.na(all_wide_anno$gamma)),]$sig_caqtls_cts <- paste0(all_wide_anno[(all_wide_anno$gamma == TRUE) & (!is.na(all_wide_anno$gamma)),]$sig_caqtls_cts, ', gamma')\n",
    "all_wide_anno$sig_caqtls_cts <- stringr::str_remove(all_wide_anno$sig_caqtls_cts, ', ')\n",
    "all_wide_anno$sig_caqtls_cts <- stringr::str_remove(all_wide_anno$sig_caqtls_cts, 'NA')\n",
    "\n",
    "all_wide_anno$sig_caqtls_num_cts <- select(all_wide_anno, acinar, alpha, beta, bulk, delta, ductal, gamma) %>%\n",
    "    rowSums(na.rm=T)\n",
    "all_wide_anno[is.na(all_wide_anno$sig_caqtls_cts),]$sig_caqtls_num_cts <- NA\n",
    "all_wide_anno$sig_caqtls_cts_spec <- all_wide_anno$sig_caqtls_num_cts == 1\n",
    "all_wide_anno[is.na(all_wide_anno$sig_caqtls_cts),]$sig_caqtls_cts_spec <- NA\n",
    "\n",
    "all_wide_anno <- select(all_wide_anno, cre, sig_caqtls_num_cts, sig_caqtls_cts, sig_caqtls_cts_spec)\n",
    "\n",
    "dim(all_wide_anno)\n",
    "head(all_wide_anno)"
   ]
  },
  {
   "cell_type": "code",
   "execution_count": null,
   "id": "5cb53ae3",
   "metadata": {
    "scrolled": true,
    "vscode": {
     "languageId": "r"
    }
   },
   "outputs": [],
   "source": [
    "mash_anno <- mash\n",
    "\n",
    "mash_anno$mash_cts <- c(NA)\n",
    "mash_anno[(mash_anno$acinar == TRUE) & (!is.na(mash_anno$acinar)),]$mash_cts <- paste0(mash_anno[(mash_anno$acinar == TRUE) & (!is.na(mash_anno$acinar)),]$mash_cts, ', acinar')\n",
    "mash_anno[(mash_anno$alpha == TRUE) & (!is.na(mash_anno$alpha)),]$mash_cts <- paste0(mash_anno[(mash_anno$alpha == TRUE) & (!is.na(mash_anno$alpha)),]$mash_cts, ', alpha')\n",
    "mash_anno[(mash_anno$beta == TRUE) & (!is.na(mash_anno$beta)),]$mash_cts <- paste0(mash_anno[(mash_anno$beta == TRUE) & (!is.na(mash_anno$beta)),]$mash_cts, ', beta')\n",
    "mash_anno[(mash_anno$delta == TRUE) & (!is.na(mash_anno$delta)),]$mash_cts <- paste0(mash_anno[(mash_anno$delta == TRUE) & (!is.na(mash_anno$delta)),]$mash_cts, ', delta')\n",
    "mash_anno[(mash_anno$ductal == TRUE) & (!is.na(mash_anno$ductal)),]$mash_cts <- paste0(mash_anno[(mash_anno$ductal == TRUE) & (!is.na(mash_anno$ductal)),]$mash_cts, ', ductal')\n",
    "mash_anno[(mash_anno$gamma == TRUE) & (!is.na(mash_anno$gamma)),]$mash_cts <- paste0(mash_anno[(mash_anno$gamma == TRUE) & (!is.na(mash_anno$gamma)),]$mash_cts, ', gamma')\n",
    "mash_anno$mash_cts <- stringr::str_remove(mash_anno$mash_cts, ', ')\n",
    "mash_anno$mash_cts <- stringr::str_remove(mash_anno$mash_cts, 'NA')\n",
    "\n",
    "mash_anno$mash_num_cts <- select(mash_anno, acinar, alpha, beta, delta, ductal, gamma) %>%\n",
    "    rowSums(na.rm=T)\n",
    "mash_anno[is.na(mash_anno$mash_cts),]$mash_num_cts <- NA\n",
    "mash_anno$mash_cts_spec <- mash_anno$mash_num_cts == 1\n",
    "mash_anno[is.na(mash_anno$mash_cts),]$mash_cts_spec <- NA\n",
    "\n",
    "mash_anno <- select(mash_anno, cre, mash_num_cts, mash_cts, mash_cts_spec)\n",
    "\n",
    "dim(mash_anno)\n",
    "head(mash_anno)\n",
    "unique(mash_anno$mash_cts)"
   ]
  },
  {
   "cell_type": "code",
   "execution_count": null,
   "id": "90c381e3",
   "metadata": {
    "scrolled": true,
    "vscode": {
     "languageId": "r"
    }
   },
   "outputs": [],
   "source": [
    "feature_anno_mash_sig <- left_join(all_wide_anno, mash_anno)\n",
    "\n",
    "feature_annotations_fix <- left_join(feature_annotations, feature_anno_mash_sig)\n",
    "\n",
    "dim(feature_anno_mash_sig)\n",
    "head(feature_anno_mash_sig)\n",
    "\n",
    "dim(feature_annotations_fix)\n",
    "head(feature_annotations_fix)"
   ]
  },
  {
   "cell_type": "code",
   "execution_count": null,
   "id": "a55d0b40",
   "metadata": {
    "vscode": {
     "languageId": "r"
    }
   },
   "outputs": [],
   "source": [
    "write.table(feature_anno_mash_sig, '/genotypes/240521_caQTL_GWAS_coloc_cts/all_caQTL_features_sigQTL_mash_specificity.txt', \n",
    "                                  row.names=F, col.names=T, sep='\\t', quote=F)\n",
    "write.table(feature_annotations_fix, '/genotypes/240521_caQTL_GWAS_coloc_cts/all_caQTL_features_CT_specificity_info_v2.txt', \n",
    "                                  row.names=F, col.names=T, sep='\\t', quote=F)"
   ]
  },
  {
   "cell_type": "code",
   "execution_count": null,
   "id": "742325f4",
   "metadata": {
    "vscode": {
     "languageId": "r"
    }
   },
   "outputs": [],
   "source": [
    "write.table(get_lfsr(m), '/path/to/caQTL/stuff/anova_interaction/240111_WE_run1_all_ash_pca_canonical_mash_lfsr.tsv', \n",
    "                                  row.names=T, col.names=T, sep='\\t', quote=F)"
   ]
  },
  {
   "cell_type": "code",
   "execution_count": null,
   "id": "cf4d479f-0745-48a2-b02b-5aed3a98688b",
   "metadata": {
    "vscode": {
     "languageId": "r"
    }
   },
   "outputs": [],
   "source": []
  },
  {
   "cell_type": "code",
   "execution_count": 4,
   "id": "5bc2780a-2dc7-4864-856c-6c66958722c0",
   "metadata": {
    "vscode": {
     "languageId": "r"
    }
   },
   "outputs": [],
   "source": []
  },
  {
   "cell_type": "code",
   "execution_count": 5,
   "id": "172782c0-860b-4080-a418-aecffd966e62",
   "metadata": {
    "scrolled": true,
    "vscode": {
     "languageId": "r"
    }
   },
   "outputs": [
    {
     "name": "stderr",
     "output_type": "stream",
     "text": [
      "\u001b[1mRows: \u001b[22m\u001b[34m45566023\u001b[39m \u001b[1mColumns: \u001b[22m\u001b[34m35\u001b[39m\n",
      "\u001b[36m──\u001b[39m \u001b[1mColumn specification\u001b[22m \u001b[36m────────────────────────────────────────────────────────────────────────────────────────────────\u001b[39m\n",
      "\u001b[1mDelimiter:\u001b[22m \"\\t\"\n",
      "\u001b[31mchr\u001b[39m  (7): Feature, rsID, Chromosome, Ref, Alt, cell, feature_snp\n",
      "\u001b[32mdbl\u001b[39m (22): position, Af, HWEChi_square, IA, Log10_qval, Chi_square, Effect_si...\n",
      "\u001b[33mlgl\u001b[39m  (6): flag_fdr10, flag_fdr05, flag_fdr01, is_ct_peak, exclude, qtl\n",
      "\n",
      "\u001b[36mℹ\u001b[39m Use `spec()` to retrieve the full column specification for this data.\n",
      "\u001b[36mℹ\u001b[39m Specify the column types or set `show_col_types = FALSE` to quiet this message.\n"
     ]
    },
    {
     "data": {
      "text/html": [
       "<style>\n",
       ".list-inline {list-style: none; margin:0; padding: 0}\n",
       ".list-inline>li {display: inline-block}\n",
       ".list-inline>li:not(:last-child)::after {content: \"\\00b7\"; padding: 0 .5ex}\n",
       "</style>\n",
       "<ol class=list-inline><li>45566023</li><li>35</li></ol>\n"
      ],
      "text/latex": [
       "\\begin{enumerate*}\n",
       "\\item 45566023\n",
       "\\item 35\n",
       "\\end{enumerate*}\n"
      ],
      "text/markdown": [
       "1. 45566023\n",
       "2. 35\n",
       "\n",
       "\n"
      ],
      "text/plain": [
       "[1] 45566023       35"
      ]
     },
     "metadata": {},
     "output_type": "display_data"
    },
    {
     "data": {
      "text/html": [
       "<table class=\"dataframe\">\n",
       "<caption>A spec_tbl_df: 6 × 35</caption>\n",
       "<thead>\n",
       "\t<tr><th scope=col>Feature</th><th scope=col>rsID</th><th scope=col>Chromosome</th><th scope=col>position</th><th scope=col>Ref</th><th scope=col>Alt</th><th scope=col>Af</th><th scope=col>HWEChi_square</th><th scope=col>IA</th><th scope=col>Log10_qval</th><th scope=col>⋯</th><th scope=col>P_VAl</th><th scope=col>dist</th><th scope=col>flag_fdr10</th><th scope=col>flag_fdr05</th><th scope=col>flag_fdr01</th><th scope=col>cell</th><th scope=col>is_ct_peak</th><th scope=col>exclude</th><th scope=col>qtl</th><th scope=col>feature_snp</th></tr>\n",
       "\t<tr><th scope=col>&lt;chr&gt;</th><th scope=col>&lt;chr&gt;</th><th scope=col>&lt;chr&gt;</th><th scope=col>&lt;dbl&gt;</th><th scope=col>&lt;chr&gt;</th><th scope=col>&lt;chr&gt;</th><th scope=col>&lt;dbl&gt;</th><th scope=col>&lt;dbl&gt;</th><th scope=col>&lt;dbl&gt;</th><th scope=col>&lt;dbl&gt;</th><th scope=col>⋯</th><th scope=col>&lt;dbl&gt;</th><th scope=col>&lt;dbl&gt;</th><th scope=col>&lt;lgl&gt;</th><th scope=col>&lt;lgl&gt;</th><th scope=col>&lt;lgl&gt;</th><th scope=col>&lt;chr&gt;</th><th scope=col>&lt;lgl&gt;</th><th scope=col>&lt;lgl&gt;</th><th scope=col>&lt;lgl&gt;</th><th scope=col>&lt;chr&gt;</th></tr>\n",
       "</thead>\n",
       "<tbody>\n",
       "\t<tr><td>chr6:32622377-32623439</td><td>chr6:32620608:T:A</td><td>chr6</td><td>32620608</td><td>T</td><td>A</td><td>0.425926</td><td>2.231991</td><td>0.998678</td><td>-67.03611</td><td>⋯</td><td>8.976233e-71</td><td>-2300</td><td>TRUE</td><td>TRUE</td><td>TRUE</td><td>acinar</td><td>TRUE</td><td>FALSE</td><td>TRUE</td><td>chr6:32622377-32623439_chr6:32620608:T:A</td></tr>\n",
       "\t<tr><td>chr6:32622377-32623439</td><td>chr6:32620292:C:T</td><td>chr6</td><td>32620292</td><td>C</td><td>T</td><td>0.481481</td><td>3.033058</td><td>0.997176</td><td>-67.03611</td><td>⋯</td><td>3.415022e-70</td><td>-2616</td><td>TRUE</td><td>TRUE</td><td>TRUE</td><td>acinar</td><td>TRUE</td><td>FALSE</td><td>TRUE</td><td>chr6:32622377-32623439_chr6:32620292:C:T</td></tr>\n",
       "\t<tr><td>chr6:32622377-32623439</td><td>chr6:32620069:C:T</td><td>chr6</td><td>32620069</td><td>C</td><td>T</td><td>0.481481</td><td>3.033058</td><td>0.997249</td><td>-67.03611</td><td>⋯</td><td>3.415022e-70</td><td>-2839</td><td>TRUE</td><td>TRUE</td><td>TRUE</td><td>acinar</td><td>TRUE</td><td>FALSE</td><td>TRUE</td><td>chr6:32622377-32623439_chr6:32620069:C:T</td></tr>\n",
       "\t<tr><td>chr6:32622377-32623439</td><td>chr6:32620254:G:A</td><td>chr6</td><td>32620254</td><td>G</td><td>A</td><td>0.481481</td><td>3.033058</td><td>0.997319</td><td>-67.03611</td><td>⋯</td><td>3.459474e-70</td><td>-2654</td><td>TRUE</td><td>TRUE</td><td>TRUE</td><td>acinar</td><td>TRUE</td><td>FALSE</td><td>TRUE</td><td>chr6:32622377-32623439_chr6:32620254:G:A</td></tr>\n",
       "\t<tr><td>chr6:32622377-32623439</td><td>chr6:32623176:T:C</td><td>chr6</td><td>32623176</td><td>T</td><td>C</td><td>0.462963</td><td>1.913385</td><td>0.999952</td><td>-66.25852</td><td>⋯</td><td>5.637594e-69</td><td>  268</td><td>TRUE</td><td>TRUE</td><td>TRUE</td><td>acinar</td><td>TRUE</td><td>FALSE</td><td>TRUE</td><td>chr6:32622377-32623439_chr6:32623176:T:C</td></tr>\n",
       "\t<tr><td>chr6:32622377-32623439</td><td>chr6:32623122:G:T</td><td>chr6</td><td>32623122</td><td>G</td><td>T</td><td>0.462963</td><td>1.913385</td><td>0.999952</td><td>-66.25852</td><td>⋯</td><td>5.650015e-69</td><td>  214</td><td>TRUE</td><td>TRUE</td><td>TRUE</td><td>acinar</td><td>TRUE</td><td>FALSE</td><td>TRUE</td><td>chr6:32622377-32623439_chr6:32623122:G:T</td></tr>\n",
       "</tbody>\n",
       "</table>\n"
      ],
      "text/latex": [
       "A spec\\_tbl\\_df: 6 × 35\n",
       "\\begin{tabular}{lllllllllllllllllllll}\n",
       " Feature & rsID & Chromosome & position & Ref & Alt & Af & HWEChi\\_square & IA & Log10\\_qval & ⋯ & P\\_VAl & dist & flag\\_fdr10 & flag\\_fdr05 & flag\\_fdr01 & cell & is\\_ct\\_peak & exclude & qtl & feature\\_snp\\\\\n",
       " <chr> & <chr> & <chr> & <dbl> & <chr> & <chr> & <dbl> & <dbl> & <dbl> & <dbl> & ⋯ & <dbl> & <dbl> & <lgl> & <lgl> & <lgl> & <chr> & <lgl> & <lgl> & <lgl> & <chr>\\\\\n",
       "\\hline\n",
       "\t chr6:32622377-32623439 & chr6:32620608:T:A & chr6 & 32620608 & T & A & 0.425926 & 2.231991 & 0.998678 & -67.03611 & ⋯ & 8.976233e-71 & -2300 & TRUE & TRUE & TRUE & acinar & TRUE & FALSE & TRUE & chr6:32622377-32623439\\_chr6:32620608:T:A\\\\\n",
       "\t chr6:32622377-32623439 & chr6:32620292:C:T & chr6 & 32620292 & C & T & 0.481481 & 3.033058 & 0.997176 & -67.03611 & ⋯ & 3.415022e-70 & -2616 & TRUE & TRUE & TRUE & acinar & TRUE & FALSE & TRUE & chr6:32622377-32623439\\_chr6:32620292:C:T\\\\\n",
       "\t chr6:32622377-32623439 & chr6:32620069:C:T & chr6 & 32620069 & C & T & 0.481481 & 3.033058 & 0.997249 & -67.03611 & ⋯ & 3.415022e-70 & -2839 & TRUE & TRUE & TRUE & acinar & TRUE & FALSE & TRUE & chr6:32622377-32623439\\_chr6:32620069:C:T\\\\\n",
       "\t chr6:32622377-32623439 & chr6:32620254:G:A & chr6 & 32620254 & G & A & 0.481481 & 3.033058 & 0.997319 & -67.03611 & ⋯ & 3.459474e-70 & -2654 & TRUE & TRUE & TRUE & acinar & TRUE & FALSE & TRUE & chr6:32622377-32623439\\_chr6:32620254:G:A\\\\\n",
       "\t chr6:32622377-32623439 & chr6:32623176:T:C & chr6 & 32623176 & T & C & 0.462963 & 1.913385 & 0.999952 & -66.25852 & ⋯ & 5.637594e-69 &   268 & TRUE & TRUE & TRUE & acinar & TRUE & FALSE & TRUE & chr6:32622377-32623439\\_chr6:32623176:T:C\\\\\n",
       "\t chr6:32622377-32623439 & chr6:32623122:G:T & chr6 & 32623122 & G & T & 0.462963 & 1.913385 & 0.999952 & -66.25852 & ⋯ & 5.650015e-69 &   214 & TRUE & TRUE & TRUE & acinar & TRUE & FALSE & TRUE & chr6:32622377-32623439\\_chr6:32623122:G:T\\\\\n",
       "\\end{tabular}\n"
      ],
      "text/markdown": [
       "\n",
       "A spec_tbl_df: 6 × 35\n",
       "\n",
       "| Feature &lt;chr&gt; | rsID &lt;chr&gt; | Chromosome &lt;chr&gt; | position &lt;dbl&gt; | Ref &lt;chr&gt; | Alt &lt;chr&gt; | Af &lt;dbl&gt; | HWEChi_square &lt;dbl&gt; | IA &lt;dbl&gt; | Log10_qval &lt;dbl&gt; | ⋯ ⋯ | P_VAl &lt;dbl&gt; | dist &lt;dbl&gt; | flag_fdr10 &lt;lgl&gt; | flag_fdr05 &lt;lgl&gt; | flag_fdr01 &lt;lgl&gt; | cell &lt;chr&gt; | is_ct_peak &lt;lgl&gt; | exclude &lt;lgl&gt; | qtl &lt;lgl&gt; | feature_snp &lt;chr&gt; |\n",
       "|---|---|---|---|---|---|---|---|---|---|---|---|---|---|---|---|---|---|---|---|---|\n",
       "| chr6:32622377-32623439 | chr6:32620608:T:A | chr6 | 32620608 | T | A | 0.425926 | 2.231991 | 0.998678 | -67.03611 | ⋯ | 8.976233e-71 | -2300 | TRUE | TRUE | TRUE | acinar | TRUE | FALSE | TRUE | chr6:32622377-32623439_chr6:32620608:T:A |\n",
       "| chr6:32622377-32623439 | chr6:32620292:C:T | chr6 | 32620292 | C | T | 0.481481 | 3.033058 | 0.997176 | -67.03611 | ⋯ | 3.415022e-70 | -2616 | TRUE | TRUE | TRUE | acinar | TRUE | FALSE | TRUE | chr6:32622377-32623439_chr6:32620292:C:T |\n",
       "| chr6:32622377-32623439 | chr6:32620069:C:T | chr6 | 32620069 | C | T | 0.481481 | 3.033058 | 0.997249 | -67.03611 | ⋯ | 3.415022e-70 | -2839 | TRUE | TRUE | TRUE | acinar | TRUE | FALSE | TRUE | chr6:32622377-32623439_chr6:32620069:C:T |\n",
       "| chr6:32622377-32623439 | chr6:32620254:G:A | chr6 | 32620254 | G | A | 0.481481 | 3.033058 | 0.997319 | -67.03611 | ⋯ | 3.459474e-70 | -2654 | TRUE | TRUE | TRUE | acinar | TRUE | FALSE | TRUE | chr6:32622377-32623439_chr6:32620254:G:A |\n",
       "| chr6:32622377-32623439 | chr6:32623176:T:C | chr6 | 32623176 | T | C | 0.462963 | 1.913385 | 0.999952 | -66.25852 | ⋯ | 5.637594e-69 |   268 | TRUE | TRUE | TRUE | acinar | TRUE | FALSE | TRUE | chr6:32622377-32623439_chr6:32623176:T:C |\n",
       "| chr6:32622377-32623439 | chr6:32623122:G:T | chr6 | 32623122 | G | T | 0.462963 | 1.913385 | 0.999952 | -66.25852 | ⋯ | 5.650015e-69 |   214 | TRUE | TRUE | TRUE | acinar | TRUE | FALSE | TRUE | chr6:32622377-32623439_chr6:32623122:G:T |\n",
       "\n"
      ],
      "text/plain": [
       "  Feature                rsID              Chromosome position Ref Alt Af      \n",
       "1 chr6:32622377-32623439 chr6:32620608:T:A chr6       32620608 T   A   0.425926\n",
       "2 chr6:32622377-32623439 chr6:32620292:C:T chr6       32620292 C   T   0.481481\n",
       "3 chr6:32622377-32623439 chr6:32620069:C:T chr6       32620069 C   T   0.481481\n",
       "4 chr6:32622377-32623439 chr6:32620254:G:A chr6       32620254 G   A   0.481481\n",
       "5 chr6:32622377-32623439 chr6:32623176:T:C chr6       32623176 T   C   0.462963\n",
       "6 chr6:32622377-32623439 chr6:32623122:G:T chr6       32623122 G   T   0.462963\n",
       "  HWEChi_square IA       Log10_qval ⋯ P_VAl        dist  flag_fdr10 flag_fdr05\n",
       "1 2.231991      0.998678 -67.03611  ⋯ 8.976233e-71 -2300 TRUE       TRUE      \n",
       "2 3.033058      0.997176 -67.03611  ⋯ 3.415022e-70 -2616 TRUE       TRUE      \n",
       "3 3.033058      0.997249 -67.03611  ⋯ 3.415022e-70 -2839 TRUE       TRUE      \n",
       "4 3.033058      0.997319 -67.03611  ⋯ 3.459474e-70 -2654 TRUE       TRUE      \n",
       "5 1.913385      0.999952 -66.25852  ⋯ 5.637594e-69   268 TRUE       TRUE      \n",
       "6 1.913385      0.999952 -66.25852  ⋯ 5.650015e-69   214 TRUE       TRUE      \n",
       "  flag_fdr01 cell   is_ct_peak exclude qtl \n",
       "1 TRUE       acinar TRUE       FALSE   TRUE\n",
       "2 TRUE       acinar TRUE       FALSE   TRUE\n",
       "3 TRUE       acinar TRUE       FALSE   TRUE\n",
       "4 TRUE       acinar TRUE       FALSE   TRUE\n",
       "5 TRUE       acinar TRUE       FALSE   TRUE\n",
       "6 TRUE       acinar TRUE       FALSE   TRUE\n",
       "  feature_snp                             \n",
       "1 chr6:32622377-32623439_chr6:32620608:T:A\n",
       "2 chr6:32622377-32623439_chr6:32620292:C:T\n",
       "3 chr6:32622377-32623439_chr6:32620069:C:T\n",
       "4 chr6:32622377-32623439_chr6:32620254:G:A\n",
       "5 chr6:32622377-32623439_chr6:32623176:T:C\n",
       "6 chr6:32622377-32623439_chr6:32623122:G:T"
      ]
     },
     "metadata": {},
     "output_type": "display_data"
    }
   ],
   "source": [
    "all = vroom('/path/to/caQTL/stuff/caQTLs_rasqual/Summary_allCells_all_run1.tsv')\n",
    "\n",
    "dim(all)\n",
    "head(all)"
   ]
  },
  {
   "cell_type": "code",
   "execution_count": 6,
   "id": "b7549ff4-7504-44a1-83f7-08d064df4a34",
   "metadata": {
    "vscode": {
     "languageId": "r"
    }
   },
   "outputs": [
    {
     "data": {
      "text/html": [
       "<style>\n",
       ".list-inline {list-style: none; margin:0; padding: 0}\n",
       ".list-inline>li {display: inline-block}\n",
       ".list-inline>li:not(:last-child)::after {content: \"\\00b7\"; padding: 0 .5ex}\n",
       "</style>\n",
       "<ol class=list-inline><li>10667262</li><li>6</li></ol>\n"
      ],
      "text/latex": [
       "\\begin{enumerate*}\n",
       "\\item 10667262\n",
       "\\item 6\n",
       "\\end{enumerate*}\n"
      ],
      "text/markdown": [
       "1. 10667262\n",
       "2. 6\n",
       "\n",
       "\n"
      ],
      "text/plain": [
       "[1] 10667262        6"
      ]
     },
     "metadata": {},
     "output_type": "display_data"
    },
    {
     "data": {
      "text/html": [
       "<table class=\"dataframe\">\n",
       "<caption>A data.frame: 6 × 6</caption>\n",
       "<thead>\n",
       "\t<tr><th></th><th scope=col>acinar</th><th scope=col>alpha</th><th scope=col>beta</th><th scope=col>delta</th><th scope=col>ductal</th><th scope=col>gamma</th></tr>\n",
       "\t<tr><th></th><th scope=col>&lt;lgl&gt;</th><th scope=col>&lt;lgl&gt;</th><th scope=col>&lt;lgl&gt;</th><th scope=col>&lt;lgl&gt;</th><th scope=col>&lt;lgl&gt;</th><th scope=col>&lt;lgl&gt;</th></tr>\n",
       "</thead>\n",
       "<tbody>\n",
       "\t<tr><th scope=row>chr6:32622377-32623439::chr6:32620608:T:A</th><td>TRUE</td><td>TRUE</td><td>TRUE</td><td>TRUE</td><td>TRUE</td><td>TRUE</td></tr>\n",
       "\t<tr><th scope=row>chr6:32622377-32623439::chr6:32620292:C:T</th><td>TRUE</td><td>TRUE</td><td>TRUE</td><td>TRUE</td><td>TRUE</td><td>TRUE</td></tr>\n",
       "\t<tr><th scope=row>chr6:32622377-32623439::chr6:32620069:C:T</th><td>TRUE</td><td>TRUE</td><td>TRUE</td><td>TRUE</td><td>TRUE</td><td>TRUE</td></tr>\n",
       "\t<tr><th scope=row>chr6:32622377-32623439::chr6:32620254:G:A</th><td>TRUE</td><td>TRUE</td><td>TRUE</td><td>TRUE</td><td>TRUE</td><td>TRUE</td></tr>\n",
       "\t<tr><th scope=row>chr6:32622377-32623439::chr6:32623176:T:C</th><td>TRUE</td><td>TRUE</td><td>TRUE</td><td>TRUE</td><td>TRUE</td><td>TRUE</td></tr>\n",
       "\t<tr><th scope=row>chr6:32622377-32623439::chr6:32623122:G:T</th><td>TRUE</td><td>TRUE</td><td>TRUE</td><td>TRUE</td><td>TRUE</td><td>TRUE</td></tr>\n",
       "</tbody>\n",
       "</table>\n"
      ],
      "text/latex": [
       "A data.frame: 6 × 6\n",
       "\\begin{tabular}{r|llllll}\n",
       "  & acinar & alpha & beta & delta & ductal & gamma\\\\\n",
       "  & <lgl> & <lgl> & <lgl> & <lgl> & <lgl> & <lgl>\\\\\n",
       "\\hline\n",
       "\tchr6:32622377-32623439::chr6:32620608:T:A & TRUE & TRUE & TRUE & TRUE & TRUE & TRUE\\\\\n",
       "\tchr6:32622377-32623439::chr6:32620292:C:T & TRUE & TRUE & TRUE & TRUE & TRUE & TRUE\\\\\n",
       "\tchr6:32622377-32623439::chr6:32620069:C:T & TRUE & TRUE & TRUE & TRUE & TRUE & TRUE\\\\\n",
       "\tchr6:32622377-32623439::chr6:32620254:G:A & TRUE & TRUE & TRUE & TRUE & TRUE & TRUE\\\\\n",
       "\tchr6:32622377-32623439::chr6:32623176:T:C & TRUE & TRUE & TRUE & TRUE & TRUE & TRUE\\\\\n",
       "\tchr6:32622377-32623439::chr6:32623122:G:T & TRUE & TRUE & TRUE & TRUE & TRUE & TRUE\\\\\n",
       "\\end{tabular}\n"
      ],
      "text/markdown": [
       "\n",
       "A data.frame: 6 × 6\n",
       "\n",
       "| <!--/--> | acinar &lt;lgl&gt; | alpha &lt;lgl&gt; | beta &lt;lgl&gt; | delta &lt;lgl&gt; | ductal &lt;lgl&gt; | gamma &lt;lgl&gt; |\n",
       "|---|---|---|---|---|---|---|\n",
       "| chr6:32622377-32623439::chr6:32620608:T:A | TRUE | TRUE | TRUE | TRUE | TRUE | TRUE |\n",
       "| chr6:32622377-32623439::chr6:32620292:C:T | TRUE | TRUE | TRUE | TRUE | TRUE | TRUE |\n",
       "| chr6:32622377-32623439::chr6:32620069:C:T | TRUE | TRUE | TRUE | TRUE | TRUE | TRUE |\n",
       "| chr6:32622377-32623439::chr6:32620254:G:A | TRUE | TRUE | TRUE | TRUE | TRUE | TRUE |\n",
       "| chr6:32622377-32623439::chr6:32623176:T:C | TRUE | TRUE | TRUE | TRUE | TRUE | TRUE |\n",
       "| chr6:32622377-32623439::chr6:32623122:G:T | TRUE | TRUE | TRUE | TRUE | TRUE | TRUE |\n",
       "\n"
      ],
      "text/plain": [
       "                                          acinar alpha beta delta ductal gamma\n",
       "chr6:32622377-32623439::chr6:32620608:T:A TRUE   TRUE  TRUE TRUE  TRUE   TRUE \n",
       "chr6:32622377-32623439::chr6:32620292:C:T TRUE   TRUE  TRUE TRUE  TRUE   TRUE \n",
       "chr6:32622377-32623439::chr6:32620069:C:T TRUE   TRUE  TRUE TRUE  TRUE   TRUE \n",
       "chr6:32622377-32623439::chr6:32620254:G:A TRUE   TRUE  TRUE TRUE  TRUE   TRUE \n",
       "chr6:32622377-32623439::chr6:32623176:T:C TRUE   TRUE  TRUE TRUE  TRUE   TRUE \n",
       "chr6:32622377-32623439::chr6:32623122:G:T TRUE   TRUE  TRUE TRUE  TRUE   TRUE "
      ]
     },
     "metadata": {},
     "output_type": "display_data"
    }
   ],
   "source": [
    "mash <- data.frame(read.table('/path/to/caQTL/stuff/anova_interaction/240111_WE_run1_all_ash_pca_canonical_mash_lfsr.tsv', \n",
    "                                  header=T, sep='\\t') < 0.05)\n",
    "\n",
    "dim(mash)\n",
    "head(mash)"
   ]
  },
  {
   "cell_type": "code",
   "execution_count": 7,
   "id": "d683dbd1-297f-48bc-9520-6e43bf1ada4f",
   "metadata": {
    "scrolled": true,
    "vscode": {
     "languageId": "r"
    }
   },
   "outputs": [
    {
     "data": {
      "text/html": [
       "<style>\n",
       ".list-inline {list-style: none; margin:0; padding: 0}\n",
       ".list-inline>li {display: inline-block}\n",
       ".list-inline>li:not(:last-child)::after {content: \"\\00b7\"; padding: 0 .5ex}\n",
       "</style>\n",
       "<ol class=list-inline><li>254797</li><li>16</li></ol>\n"
      ],
      "text/latex": [
       "\\begin{enumerate*}\n",
       "\\item 254797\n",
       "\\item 16\n",
       "\\end{enumerate*}\n"
      ],
      "text/markdown": [
       "1. 254797\n",
       "2. 16\n",
       "\n",
       "\n"
      ],
      "text/plain": [
       "[1] 254797     16"
      ]
     },
     "metadata": {},
     "output_type": "display_data"
    },
    {
     "data": {
      "text/html": [
       "<table class=\"dataframe\">\n",
       "<caption>A data.frame: 6 × 16</caption>\n",
       "<thead>\n",
       "\t<tr><th></th><th scope=col>cre</th><th scope=col>sig_caqtls_num_cts</th><th scope=col>sig_caqtls_cts</th><th scope=col>sig_caqtls_cts_spec</th><th scope=col>mash_num_cts</th><th scope=col>mash_cts</th><th scope=col>mash_cts_spec</th><th scope=col>peak_num_cts</th><th scope=col>peak_cts</th><th scope=col>peak_ct_spec</th><th scope=col>cpm6_num_cts</th><th scope=col>cpm6_cts</th><th scope=col>cpm6_ct_spec</th><th scope=col>cpm10_num_cts</th><th scope=col>cpm10_cts</th><th scope=col>cpm10_ct_spec</th></tr>\n",
       "\t<tr><th></th><th scope=col>&lt;chr&gt;</th><th scope=col>&lt;int&gt;</th><th scope=col>&lt;chr&gt;</th><th scope=col>&lt;lgl&gt;</th><th scope=col>&lt;int&gt;</th><th scope=col>&lt;chr&gt;</th><th scope=col>&lt;lgl&gt;</th><th scope=col>&lt;int&gt;</th><th scope=col>&lt;chr&gt;</th><th scope=col>&lt;lgl&gt;</th><th scope=col>&lt;int&gt;</th><th scope=col>&lt;chr&gt;</th><th scope=col>&lt;lgl&gt;</th><th scope=col>&lt;int&gt;</th><th scope=col>&lt;chr&gt;</th><th scope=col>&lt;lgl&gt;</th></tr>\n",
       "</thead>\n",
       "<tbody>\n",
       "\t<tr><th scope=row>1</th><td>chr10:100006062-100006793</td><td> 2</td><td>beta, bulk</td><td>FALSE</td><td>NA</td><td>NA</td><td>NA</td><td>4</td><td>alpha, delta, gamma, ductal              </td><td>FALSE</td><td> 2</td><td>gamma, ductal                            </td><td>FALSE</td><td>NA</td><td>NA                                       </td><td>   NA</td></tr>\n",
       "\t<tr><th scope=row>2</th><td>chr10:100009188-100010635</td><td>NA</td><td>NA        </td><td>   NA</td><td>NA</td><td>NA</td><td>NA</td><td>6</td><td>beta, alpha, delta, gamma, acinar, ductal</td><td>FALSE</td><td> 6</td><td>beta, alpha, delta, gamma, acinar, ductal</td><td>FALSE</td><td> 6</td><td>beta, alpha, delta, gamma, acinar, ductal</td><td>FALSE</td></tr>\n",
       "\t<tr><th scope=row>3</th><td>chr10:100019905-100021214</td><td>NA</td><td>NA        </td><td>   NA</td><td>NA</td><td>NA</td><td>NA</td><td>3</td><td>alpha, delta, gamma                      </td><td>FALSE</td><td>NA</td><td>NA                                       </td><td>   NA</td><td>NA</td><td>NA                                       </td><td>   NA</td></tr>\n",
       "\t<tr><th scope=row>4</th><td>chr10:100037925-100038813</td><td>NA</td><td>NA        </td><td>   NA</td><td>NA</td><td>NA</td><td>NA</td><td>3</td><td>alpha, acinar, ductal                    </td><td>FALSE</td><td>NA</td><td>NA                                       </td><td>   NA</td><td>NA</td><td>NA                                       </td><td>   NA</td></tr>\n",
       "\t<tr><th scope=row>5</th><td>chr10:100043372-100044999</td><td>NA</td><td>NA        </td><td>   NA</td><td>NA</td><td>NA</td><td>NA</td><td>3</td><td>gamma, acinar, ductal                    </td><td>FALSE</td><td>NA</td><td>NA                                       </td><td>   NA</td><td>NA</td><td>NA                                       </td><td>   NA</td></tr>\n",
       "\t<tr><th scope=row>6</th><td>chr10:100046018-100046622</td><td>NA</td><td>NA        </td><td>   NA</td><td>NA</td><td>NA</td><td>NA</td><td>6</td><td>beta, alpha, delta, gamma, acinar, ductal</td><td>FALSE</td><td>NA</td><td>NA                                       </td><td>   NA</td><td>NA</td><td>NA                                       </td><td>   NA</td></tr>\n",
       "</tbody>\n",
       "</table>\n"
      ],
      "text/latex": [
       "A data.frame: 6 × 16\n",
       "\\begin{tabular}{r|llllllllllllllll}\n",
       "  & cre & sig\\_caqtls\\_num\\_cts & sig\\_caqtls\\_cts & sig\\_caqtls\\_cts\\_spec & mash\\_num\\_cts & mash\\_cts & mash\\_cts\\_spec & peak\\_num\\_cts & peak\\_cts & peak\\_ct\\_spec & cpm6\\_num\\_cts & cpm6\\_cts & cpm6\\_ct\\_spec & cpm10\\_num\\_cts & cpm10\\_cts & cpm10\\_ct\\_spec\\\\\n",
       "  & <chr> & <int> & <chr> & <lgl> & <int> & <chr> & <lgl> & <int> & <chr> & <lgl> & <int> & <chr> & <lgl> & <int> & <chr> & <lgl>\\\\\n",
       "\\hline\n",
       "\t1 & chr10:100006062-100006793 &  2 & beta, bulk & FALSE & NA & NA & NA & 4 & alpha, delta, gamma, ductal               & FALSE &  2 & gamma, ductal                             & FALSE & NA & NA                                        &    NA\\\\\n",
       "\t2 & chr10:100009188-100010635 & NA & NA         &    NA & NA & NA & NA & 6 & beta, alpha, delta, gamma, acinar, ductal & FALSE &  6 & beta, alpha, delta, gamma, acinar, ductal & FALSE &  6 & beta, alpha, delta, gamma, acinar, ductal & FALSE\\\\\n",
       "\t3 & chr10:100019905-100021214 & NA & NA         &    NA & NA & NA & NA & 3 & alpha, delta, gamma                       & FALSE & NA & NA                                        &    NA & NA & NA                                        &    NA\\\\\n",
       "\t4 & chr10:100037925-100038813 & NA & NA         &    NA & NA & NA & NA & 3 & alpha, acinar, ductal                     & FALSE & NA & NA                                        &    NA & NA & NA                                        &    NA\\\\\n",
       "\t5 & chr10:100043372-100044999 & NA & NA         &    NA & NA & NA & NA & 3 & gamma, acinar, ductal                     & FALSE & NA & NA                                        &    NA & NA & NA                                        &    NA\\\\\n",
       "\t6 & chr10:100046018-100046622 & NA & NA         &    NA & NA & NA & NA & 6 & beta, alpha, delta, gamma, acinar, ductal & FALSE & NA & NA                                        &    NA & NA & NA                                        &    NA\\\\\n",
       "\\end{tabular}\n"
      ],
      "text/markdown": [
       "\n",
       "A data.frame: 6 × 16\n",
       "\n",
       "| <!--/--> | cre &lt;chr&gt; | sig_caqtls_num_cts &lt;int&gt; | sig_caqtls_cts &lt;chr&gt; | sig_caqtls_cts_spec &lt;lgl&gt; | mash_num_cts &lt;int&gt; | mash_cts &lt;chr&gt; | mash_cts_spec &lt;lgl&gt; | peak_num_cts &lt;int&gt; | peak_cts &lt;chr&gt; | peak_ct_spec &lt;lgl&gt; | cpm6_num_cts &lt;int&gt; | cpm6_cts &lt;chr&gt; | cpm6_ct_spec &lt;lgl&gt; | cpm10_num_cts &lt;int&gt; | cpm10_cts &lt;chr&gt; | cpm10_ct_spec &lt;lgl&gt; |\n",
       "|---|---|---|---|---|---|---|---|---|---|---|---|---|---|---|---|---|\n",
       "| 1 | chr10:100006062-100006793 |  2 | beta, bulk | FALSE | NA | NA | NA | 4 | alpha, delta, gamma, ductal               | FALSE |  2 | gamma, ductal                             | FALSE | NA | NA                                        |    NA |\n",
       "| 2 | chr10:100009188-100010635 | NA | NA         |    NA | NA | NA | NA | 6 | beta, alpha, delta, gamma, acinar, ductal | FALSE |  6 | beta, alpha, delta, gamma, acinar, ductal | FALSE |  6 | beta, alpha, delta, gamma, acinar, ductal | FALSE |\n",
       "| 3 | chr10:100019905-100021214 | NA | NA         |    NA | NA | NA | NA | 3 | alpha, delta, gamma                       | FALSE | NA | NA                                        |    NA | NA | NA                                        |    NA |\n",
       "| 4 | chr10:100037925-100038813 | NA | NA         |    NA | NA | NA | NA | 3 | alpha, acinar, ductal                     | FALSE | NA | NA                                        |    NA | NA | NA                                        |    NA |\n",
       "| 5 | chr10:100043372-100044999 | NA | NA         |    NA | NA | NA | NA | 3 | gamma, acinar, ductal                     | FALSE | NA | NA                                        |    NA | NA | NA                                        |    NA |\n",
       "| 6 | chr10:100046018-100046622 | NA | NA         |    NA | NA | NA | NA | 6 | beta, alpha, delta, gamma, acinar, ductal | FALSE | NA | NA                                        |    NA | NA | NA                                        |    NA |\n",
       "\n"
      ],
      "text/plain": [
       "  cre                       sig_caqtls_num_cts sig_caqtls_cts\n",
       "1 chr10:100006062-100006793  2                 beta, bulk    \n",
       "2 chr10:100009188-100010635 NA                 NA            \n",
       "3 chr10:100019905-100021214 NA                 NA            \n",
       "4 chr10:100037925-100038813 NA                 NA            \n",
       "5 chr10:100043372-100044999 NA                 NA            \n",
       "6 chr10:100046018-100046622 NA                 NA            \n",
       "  sig_caqtls_cts_spec mash_num_cts mash_cts mash_cts_spec peak_num_cts\n",
       "1 FALSE               NA           NA       NA            4           \n",
       "2    NA               NA           NA       NA            6           \n",
       "3    NA               NA           NA       NA            3           \n",
       "4    NA               NA           NA       NA            3           \n",
       "5    NA               NA           NA       NA            3           \n",
       "6    NA               NA           NA       NA            6           \n",
       "  peak_cts                                  peak_ct_spec cpm6_num_cts\n",
       "1 alpha, delta, gamma, ductal               FALSE         2          \n",
       "2 beta, alpha, delta, gamma, acinar, ductal FALSE         6          \n",
       "3 alpha, delta, gamma                       FALSE        NA          \n",
       "4 alpha, acinar, ductal                     FALSE        NA          \n",
       "5 gamma, acinar, ductal                     FALSE        NA          \n",
       "6 beta, alpha, delta, gamma, acinar, ductal FALSE        NA          \n",
       "  cpm6_cts                                  cpm6_ct_spec cpm10_num_cts\n",
       "1 gamma, ductal                             FALSE        NA           \n",
       "2 beta, alpha, delta, gamma, acinar, ductal FALSE         6           \n",
       "3 NA                                           NA        NA           \n",
       "4 NA                                           NA        NA           \n",
       "5 NA                                           NA        NA           \n",
       "6 NA                                           NA        NA           \n",
       "  cpm10_cts                                 cpm10_ct_spec\n",
       "1 NA                                           NA        \n",
       "2 beta, alpha, delta, gamma, acinar, ductal FALSE        \n",
       "3 NA                                           NA        \n",
       "4 NA                                           NA        \n",
       "5 NA                                           NA        \n",
       "6 NA                                           NA        "
      ]
     },
     "metadata": {},
     "output_type": "display_data"
    }
   ],
   "source": [
    "spec <- read.table('/genotypes/240521_caQTL_GWAS_coloc_cts/ct_specificity/all_RASQUAL_caQTL_features_ct_specificity_FIN.txt',\n",
    "                   header=T, sep='\\t')\n",
    "\n",
    "dim(spec)\n",
    "head(spec)"
   ]
  },
  {
   "cell_type": "code",
   "execution_count": 8,
   "id": "a8cb4656",
   "metadata": {
    "scrolled": true,
    "vscode": {
     "languageId": "r"
    }
   },
   "outputs": [
    {
     "data": {
      "text/html": [
       "14960"
      ],
      "text/latex": [
       "14960"
      ],
      "text/markdown": [
       "14960"
      ],
      "text/plain": [
       "[1] 14960"
      ]
     },
     "metadata": {},
     "output_type": "display_data"
    }
   ],
   "source": [
    "length(unique(dplyr::filter(all, flag_fdr05)$Feature))"
   ]
  },
  {
   "cell_type": "code",
   "execution_count": 9,
   "id": "8f1a170e",
   "metadata": {
    "vscode": {
     "languageId": "r"
    }
   },
   "outputs": [
    {
     "data": {
      "text/html": [
       "10833"
      ],
      "text/latex": [
       "10833"
      ],
      "text/markdown": [
       "10833"
      ],
      "text/plain": [
       "[1] 10833"
      ]
     },
     "metadata": {},
     "output_type": "display_data"
    }
   ],
   "source": [
    "length(unique(dplyr::filter(all, flag_fdr05 & cell != 'bulk')$Feature))"
   ]
  },
  {
   "cell_type": "code",
   "execution_count": null,
   "id": "c9acfe3d-c9a3-4c16-b3ff-a9c08652ecc4",
   "metadata": {
    "vscode": {
     "languageId": "r"
    }
   },
   "outputs": [],
   "source": [
    "bool_lfsr <- mash\n",
    "bool_lfsr$Peak <- stringr::str_split(rownames(bool_lfsr), \"::\", simplify=T)[,1]\n",
    "\n",
    "upset_data <- group_by(bool_lfsr, Peak) %>%\n",
    "    summarise_all(any) %>%\n",
    "    tibble::column_to_rownames(var='Peak') %>%\n",
    "    mutate_all(as.numeric)\n",
    "\n",
    "head(upset_data)\n",
    "upset(upset_data, nsets=6, order.by = \"freq\")"
   ]
  },
  {
   "cell_type": "code",
   "execution_count": null,
   "id": "a1c5a529-7c7d-4a03-a1f7-ee11bf08c155",
   "metadata": {
    "vscode": {
     "languageId": "r"
    }
   },
   "outputs": [],
   "source": [
    "upset(upset_data, nsets=6, order.by = \"freq\", nintersects=10, mainbar.y.label=\"# caQTL Peaks\", \n",
    "      sets.x.label=\"# of caQTL Peaks\", text.scale=2)\n"
   ]
  },
  {
   "cell_type": "code",
   "execution_count": null,
   "id": "13996f75-7114-4f7e-aaa2-114989c5e410",
   "metadata": {
    "vscode": {
     "languageId": "r"
    }
   },
   "outputs": [],
   "source": [
    "options(repr.plot.width=11, repr.plot.height=6)\n",
    "p1 <- upset(upset_data, nsets=6, order.by = \"freq\", nintersects=10, mainbar.y.label=\"Number of caQTL Peaks\", \n",
    "      sets.x.label=\"Num. of caQTL Peaks\", text.scale=2)\n",
    "\n",
    "p1"
   ]
  },
  {
   "cell_type": "code",
   "execution_count": 23,
   "id": "c9f01251",
   "metadata": {
    "vscode": {
     "languageId": "r"
    }
   },
   "outputs": [
    {
     "data": {
      "text/html": [
       "<style>\n",
       ".list-inline {list-style: none; margin:0; padding: 0}\n",
       ".list-inline>li {display: inline-block}\n",
       ".list-inline>li:not(:last-child)::after {content: \"\\00b7\"; padding: 0 .5ex}\n",
       "</style>\n",
       "<ol class=list-inline><li>7412</li><li>6</li></ol>\n"
      ],
      "text/latex": [
       "\\begin{enumerate*}\n",
       "\\item 7412\n",
       "\\item 6\n",
       "\\end{enumerate*}\n"
      ],
      "text/markdown": [
       "1. 7412\n",
       "2. 6\n",
       "\n",
       "\n"
      ],
      "text/plain": [
       "[1] 7412    6"
      ]
     },
     "metadata": {},
     "output_type": "display_data"
    }
   ],
   "source": [
    "nrow(upset_data[rowSums(upset_data) > 0,])"
   ]
  },
  {
   "cell_type": "code",
   "execution_count": 26,
   "id": "1368e09f",
   "metadata": {
    "scrolled": true,
    "vscode": {
     "languageId": "r"
    }
   },
   "outputs": [
    {
     "data": {
      "text/html": [
       "6878"
      ],
      "text/latex": [
       "6878"
      ],
      "text/markdown": [
       "6878"
      ],
      "text/plain": [
       "[1] 6878"
      ]
     },
     "metadata": {},
     "output_type": "display_data"
    }
   ],
   "source": [
    "sum(rowSums(upset_data[rowSums(upset_data) > 0,]) > 1)"
   ]
  },
  {
   "cell_type": "code",
   "execution_count": 28,
   "id": "2f2dc203",
   "metadata": {
    "vscode": {
     "languageId": "r"
    }
   },
   "outputs": [
    {
     "data": {
      "text/html": [
       "61.3194819212088"
      ],
      "text/latex": [
       "61.3194819212088"
      ],
      "text/markdown": [
       "61.3194819212088"
      ],
      "text/plain": [
       "[1] 61.31948"
      ]
     },
     "metadata": {},
     "output_type": "display_data"
    },
    {
     "data": {
      "text/html": [
       "92.7954668105774"
      ],
      "text/latex": [
       "92.7954668105774"
      ],
      "text/markdown": [
       "92.7954668105774"
      ],
      "text/plain": [
       "[1] 92.79547"
      ]
     },
     "metadata": {},
     "output_type": "display_data"
    }
   ],
   "source": [
    "sum(rowSums(upset_data[rowSums(upset_data) > 0,]) == 6) * 100 / nrow(upset_data[rowSums(upset_data) > 0,])\n",
    "sum(rowSums(upset_data[rowSums(upset_data) > 0,]) > 1) * 100 / nrow(upset_data[rowSums(upset_data) > 0,])"
   ]
  },
  {
   "cell_type": "code",
   "execution_count": null,
   "id": "8f43130a",
   "metadata": {
    "vscode": {
     "languageId": "r"
    }
   },
   "outputs": [],
   "source": []
  },
  {
   "cell_type": "code",
   "execution_count": null,
   "id": "cfd24aa0",
   "metadata": {
    "vscode": {
     "languageId": "r"
    }
   },
   "outputs": [],
   "source": [
    "all$sig_effect <- NA\n",
    "all[all$qtl,]$sig_effect <- all[all$qtl,]$Effect_size\n",
    "\n",
    "head(all)"
   ]
  },
  {
   "cell_type": "code",
   "execution_count": null,
   "id": "b55d6c45",
   "metadata": {
    "vscode": {
     "languageId": "r"
    }
   },
   "outputs": [],
   "source": []
  },
  {
   "cell_type": "code",
   "execution_count": 37,
   "id": "bc5388c1",
   "metadata": {
    "vscode": {
     "languageId": "r"
    }
   },
   "outputs": [
    {
     "data": {
      "text/html": [
       "<style>\n",
       ".list-inline {list-style: none; margin:0; padding: 0}\n",
       ".list-inline>li {display: inline-block}\n",
       ".list-inline>li:not(:last-child)::after {content: \"\\00b7\"; padding: 0 .5ex}\n",
       "</style>\n",
       "<ol class=list-inline><li>10667262</li><li>8</li></ol>\n"
      ],
      "text/latex": [
       "\\begin{enumerate*}\n",
       "\\item 10667262\n",
       "\\item 8\n",
       "\\end{enumerate*}\n"
      ],
      "text/markdown": [
       "1. 10667262\n",
       "2. 8\n",
       "\n",
       "\n"
      ],
      "text/plain": [
       "[1] 10667262        8"
      ]
     },
     "metadata": {},
     "output_type": "display_data"
    },
    {
     "data": {
      "text/html": [
       "<table class=\"dataframe\">\n",
       "<caption>A tibble: 6 × 8</caption>\n",
       "<thead>\n",
       "\t<tr><th scope=col>Feature</th><th scope=col>rsID</th><th scope=col>acinar</th><th scope=col>alpha</th><th scope=col>beta</th><th scope=col>delta</th><th scope=col>ductal</th><th scope=col>gamma</th></tr>\n",
       "\t<tr><th scope=col>&lt;chr&gt;</th><th scope=col>&lt;chr&gt;</th><th scope=col>&lt;dbl&gt;</th><th scope=col>&lt;dbl&gt;</th><th scope=col>&lt;dbl&gt;</th><th scope=col>&lt;dbl&gt;</th><th scope=col>&lt;dbl&gt;</th><th scope=col>&lt;dbl&gt;</th></tr>\n",
       "</thead>\n",
       "<tbody>\n",
       "\t<tr><td>chr6:32622377-32623439</td><td>chr6:32620608:T:A</td><td>0.891920</td><td>0.766910</td><td>0.747362</td><td>NA</td><td>NA</td><td>NA</td></tr>\n",
       "\t<tr><td>chr6:32622377-32623439</td><td>chr6:32620292:C:T</td><td>0.892051</td><td>0.763815</td><td>0.744102</td><td>NA</td><td>NA</td><td>NA</td></tr>\n",
       "\t<tr><td>chr6:32622377-32623439</td><td>chr6:32620069:C:T</td><td>0.892051</td><td>0.763815</td><td>0.744102</td><td>NA</td><td>NA</td><td>NA</td></tr>\n",
       "\t<tr><td>chr6:32622377-32623439</td><td>chr6:32620254:G:A</td><td>0.892031</td><td>0.763815</td><td>0.744097</td><td>NA</td><td>NA</td><td>NA</td></tr>\n",
       "\t<tr><td>chr6:32622377-32623439</td><td>chr6:32623176:T:C</td><td>0.893393</td><td>0.742162</td><td>0.739113</td><td>NA</td><td>NA</td><td>NA</td></tr>\n",
       "\t<tr><td>chr6:32622377-32623439</td><td>chr6:32623122:G:T</td><td>0.893389</td><td>0.729961</td><td>0.735243</td><td>NA</td><td>NA</td><td>NA</td></tr>\n",
       "</tbody>\n",
       "</table>\n"
      ],
      "text/latex": [
       "A tibble: 6 × 8\n",
       "\\begin{tabular}{llllllll}\n",
       " Feature & rsID & acinar & alpha & beta & delta & ductal & gamma\\\\\n",
       " <chr> & <chr> & <dbl> & <dbl> & <dbl> & <dbl> & <dbl> & <dbl>\\\\\n",
       "\\hline\n",
       "\t chr6:32622377-32623439 & chr6:32620608:T:A & 0.891920 & 0.766910 & 0.747362 & NA & NA & NA\\\\\n",
       "\t chr6:32622377-32623439 & chr6:32620292:C:T & 0.892051 & 0.763815 & 0.744102 & NA & NA & NA\\\\\n",
       "\t chr6:32622377-32623439 & chr6:32620069:C:T & 0.892051 & 0.763815 & 0.744102 & NA & NA & NA\\\\\n",
       "\t chr6:32622377-32623439 & chr6:32620254:G:A & 0.892031 & 0.763815 & 0.744097 & NA & NA & NA\\\\\n",
       "\t chr6:32622377-32623439 & chr6:32623176:T:C & 0.893393 & 0.742162 & 0.739113 & NA & NA & NA\\\\\n",
       "\t chr6:32622377-32623439 & chr6:32623122:G:T & 0.893389 & 0.729961 & 0.735243 & NA & NA & NA\\\\\n",
       "\\end{tabular}\n"
      ],
      "text/markdown": [
       "\n",
       "A tibble: 6 × 8\n",
       "\n",
       "| Feature &lt;chr&gt; | rsID &lt;chr&gt; | acinar &lt;dbl&gt; | alpha &lt;dbl&gt; | beta &lt;dbl&gt; | delta &lt;dbl&gt; | ductal &lt;dbl&gt; | gamma &lt;dbl&gt; |\n",
       "|---|---|---|---|---|---|---|---|\n",
       "| chr6:32622377-32623439 | chr6:32620608:T:A | 0.891920 | 0.766910 | 0.747362 | NA | NA | NA |\n",
       "| chr6:32622377-32623439 | chr6:32620292:C:T | 0.892051 | 0.763815 | 0.744102 | NA | NA | NA |\n",
       "| chr6:32622377-32623439 | chr6:32620069:C:T | 0.892051 | 0.763815 | 0.744102 | NA | NA | NA |\n",
       "| chr6:32622377-32623439 | chr6:32620254:G:A | 0.892031 | 0.763815 | 0.744097 | NA | NA | NA |\n",
       "| chr6:32622377-32623439 | chr6:32623176:T:C | 0.893393 | 0.742162 | 0.739113 | NA | NA | NA |\n",
       "| chr6:32622377-32623439 | chr6:32623122:G:T | 0.893389 | 0.729961 | 0.735243 | NA | NA | NA |\n",
       "\n"
      ],
      "text/plain": [
       "  Feature                rsID              acinar   alpha    beta     delta\n",
       "1 chr6:32622377-32623439 chr6:32620608:T:A 0.891920 0.766910 0.747362 NA   \n",
       "2 chr6:32622377-32623439 chr6:32620292:C:T 0.892051 0.763815 0.744102 NA   \n",
       "3 chr6:32622377-32623439 chr6:32620069:C:T 0.892051 0.763815 0.744102 NA   \n",
       "4 chr6:32622377-32623439 chr6:32620254:G:A 0.892031 0.763815 0.744097 NA   \n",
       "5 chr6:32622377-32623439 chr6:32623176:T:C 0.893393 0.742162 0.739113 NA   \n",
       "6 chr6:32622377-32623439 chr6:32623122:G:T 0.893389 0.729961 0.735243 NA   \n",
       "  ductal gamma\n",
       "1 NA     NA   \n",
       "2 NA     NA   \n",
       "3 NA     NA   \n",
       "4 NA     NA   \n",
       "5 NA     NA   \n",
       "6 NA     NA   "
      ]
     },
     "metadata": {},
     "output_type": "display_data"
    },
    {
     "data": {
      "text/html": [
       "11650739"
      ],
      "text/latex": [
       "11650739"
      ],
      "text/markdown": [
       "11650739"
      ],
      "text/plain": [
       "[1] 11650739"
      ]
     },
     "metadata": {},
     "output_type": "display_data"
    }
   ],
   "source": [
    "sig_effects_wide <- select(all, Feature, rsID, sig_effect, cell) %>%\n",
    "    filter(cell %in% c('acinar','alpha','beta','delta','gamma','ductal')) %>%\n",
    "    pivot_wider(names_from = cell, values_from=sig_effect)\n",
    "\n",
    "dim(sig_effects_wide)\n",
    "head(sig_effects_wide)"
   ]
  },
  {
   "cell_type": "code",
   "execution_count": 43,
   "id": "e1b3cd00",
   "metadata": {
    "vscode": {
     "languageId": "r"
    }
   },
   "outputs": [],
   "source": [
    "?any"
   ]
  },
  {
   "cell_type": "code",
   "execution_count": 50,
   "id": "e47a4822",
   "metadata": {
    "collapsed": true,
    "vscode": {
     "languageId": "r"
    }
   },
   "outputs": [
    {
     "data": {
      "text/html": [
       "<style>\n",
       ".list-inline {list-style: none; margin:0; padding: 0}\n",
       ".list-inline>li {display: inline-block}\n",
       ".list-inline>li:not(:last-child)::after {content: \"\\00b7\"; padding: 0 .5ex}\n",
       "</style>\n",
       "<ol class=list-inline><li>10667262</li><li>11</li></ol>\n"
      ],
      "text/latex": [
       "\\begin{enumerate*}\n",
       "\\item 10667262\n",
       "\\item 11\n",
       "\\end{enumerate*}\n"
      ],
      "text/markdown": [
       "1. 10667262\n",
       "2. 11\n",
       "\n",
       "\n"
      ],
      "text/plain": [
       "[1] 10667262       11"
      ]
     },
     "metadata": {},
     "output_type": "display_data"
    },
    {
     "data": {
      "text/html": [
       "<table class=\"dataframe\">\n",
       "<caption>A tibble: 6 × 11</caption>\n",
       "<thead>\n",
       "\t<tr><th scope=col>Feature</th><th scope=col>rsID</th><th scope=col>acinar</th><th scope=col>alpha</th><th scope=col>beta</th><th scope=col>delta</th><th scope=col>ductal</th><th scope=col>gamma</th><th scope=col>any_up</th><th scope=col>any_down</th><th scope=col>opposing</th></tr>\n",
       "\t<tr><th scope=col>&lt;chr&gt;</th><th scope=col>&lt;chr&gt;</th><th scope=col>&lt;dbl&gt;</th><th scope=col>&lt;dbl&gt;</th><th scope=col>&lt;dbl&gt;</th><th scope=col>&lt;dbl&gt;</th><th scope=col>&lt;dbl&gt;</th><th scope=col>&lt;dbl&gt;</th><th scope=col>&lt;lgl&gt;</th><th scope=col>&lt;lgl&gt;</th><th scope=col>&lt;lgl&gt;</th></tr>\n",
       "</thead>\n",
       "<tbody>\n",
       "\t<tr><td>chr6:32622377-32623439</td><td>chr6:32620608:T:A</td><td>0.891920</td><td>0.766910</td><td>0.747362</td><td>NA</td><td>NA</td><td>NA</td><td>TRUE</td><td>NA</td><td>NA</td></tr>\n",
       "\t<tr><td>chr6:32622377-32623439</td><td>chr6:32620292:C:T</td><td>0.892051</td><td>0.763815</td><td>0.744102</td><td>NA</td><td>NA</td><td>NA</td><td>TRUE</td><td>NA</td><td>NA</td></tr>\n",
       "\t<tr><td>chr6:32622377-32623439</td><td>chr6:32620069:C:T</td><td>0.892051</td><td>0.763815</td><td>0.744102</td><td>NA</td><td>NA</td><td>NA</td><td>TRUE</td><td>NA</td><td>NA</td></tr>\n",
       "\t<tr><td>chr6:32622377-32623439</td><td>chr6:32620254:G:A</td><td>0.892031</td><td>0.763815</td><td>0.744097</td><td>NA</td><td>NA</td><td>NA</td><td>TRUE</td><td>NA</td><td>NA</td></tr>\n",
       "\t<tr><td>chr6:32622377-32623439</td><td>chr6:32623176:T:C</td><td>0.893393</td><td>0.742162</td><td>0.739113</td><td>NA</td><td>NA</td><td>NA</td><td>TRUE</td><td>NA</td><td>NA</td></tr>\n",
       "\t<tr><td>chr6:32622377-32623439</td><td>chr6:32623122:G:T</td><td>0.893389</td><td>0.729961</td><td>0.735243</td><td>NA</td><td>NA</td><td>NA</td><td>TRUE</td><td>NA</td><td>NA</td></tr>\n",
       "</tbody>\n",
       "</table>\n"
      ],
      "text/latex": [
       "A tibble: 6 × 11\n",
       "\\begin{tabular}{lllllllllll}\n",
       " Feature & rsID & acinar & alpha & beta & delta & ductal & gamma & any\\_up & any\\_down & opposing\\\\\n",
       " <chr> & <chr> & <dbl> & <dbl> & <dbl> & <dbl> & <dbl> & <dbl> & <lgl> & <lgl> & <lgl>\\\\\n",
       "\\hline\n",
       "\t chr6:32622377-32623439 & chr6:32620608:T:A & 0.891920 & 0.766910 & 0.747362 & NA & NA & NA & TRUE & NA & NA\\\\\n",
       "\t chr6:32622377-32623439 & chr6:32620292:C:T & 0.892051 & 0.763815 & 0.744102 & NA & NA & NA & TRUE & NA & NA\\\\\n",
       "\t chr6:32622377-32623439 & chr6:32620069:C:T & 0.892051 & 0.763815 & 0.744102 & NA & NA & NA & TRUE & NA & NA\\\\\n",
       "\t chr6:32622377-32623439 & chr6:32620254:G:A & 0.892031 & 0.763815 & 0.744097 & NA & NA & NA & TRUE & NA & NA\\\\\n",
       "\t chr6:32622377-32623439 & chr6:32623176:T:C & 0.893393 & 0.742162 & 0.739113 & NA & NA & NA & TRUE & NA & NA\\\\\n",
       "\t chr6:32622377-32623439 & chr6:32623122:G:T & 0.893389 & 0.729961 & 0.735243 & NA & NA & NA & TRUE & NA & NA\\\\\n",
       "\\end{tabular}\n"
      ],
      "text/markdown": [
       "\n",
       "A tibble: 6 × 11\n",
       "\n",
       "| Feature &lt;chr&gt; | rsID &lt;chr&gt; | acinar &lt;dbl&gt; | alpha &lt;dbl&gt; | beta &lt;dbl&gt; | delta &lt;dbl&gt; | ductal &lt;dbl&gt; | gamma &lt;dbl&gt; | any_up &lt;lgl&gt; | any_down &lt;lgl&gt; | opposing &lt;lgl&gt; |\n",
       "|---|---|---|---|---|---|---|---|---|---|---|\n",
       "| chr6:32622377-32623439 | chr6:32620608:T:A | 0.891920 | 0.766910 | 0.747362 | NA | NA | NA | TRUE | NA | NA |\n",
       "| chr6:32622377-32623439 | chr6:32620292:C:T | 0.892051 | 0.763815 | 0.744102 | NA | NA | NA | TRUE | NA | NA |\n",
       "| chr6:32622377-32623439 | chr6:32620069:C:T | 0.892051 | 0.763815 | 0.744102 | NA | NA | NA | TRUE | NA | NA |\n",
       "| chr6:32622377-32623439 | chr6:32620254:G:A | 0.892031 | 0.763815 | 0.744097 | NA | NA | NA | TRUE | NA | NA |\n",
       "| chr6:32622377-32623439 | chr6:32623176:T:C | 0.893393 | 0.742162 | 0.739113 | NA | NA | NA | TRUE | NA | NA |\n",
       "| chr6:32622377-32623439 | chr6:32623122:G:T | 0.893389 | 0.729961 | 0.735243 | NA | NA | NA | TRUE | NA | NA |\n",
       "\n"
      ],
      "text/plain": [
       "  Feature                rsID              acinar   alpha    beta     delta\n",
       "1 chr6:32622377-32623439 chr6:32620608:T:A 0.891920 0.766910 0.747362 NA   \n",
       "2 chr6:32622377-32623439 chr6:32620292:C:T 0.892051 0.763815 0.744102 NA   \n",
       "3 chr6:32622377-32623439 chr6:32620069:C:T 0.892051 0.763815 0.744102 NA   \n",
       "4 chr6:32622377-32623439 chr6:32620254:G:A 0.892031 0.763815 0.744097 NA   \n",
       "5 chr6:32622377-32623439 chr6:32623176:T:C 0.893393 0.742162 0.739113 NA   \n",
       "6 chr6:32622377-32623439 chr6:32623122:G:T 0.893389 0.729961 0.735243 NA   \n",
       "  ductal gamma any_up any_down opposing\n",
       "1 NA     NA    TRUE   NA       NA      \n",
       "2 NA     NA    TRUE   NA       NA      \n",
       "3 NA     NA    TRUE   NA       NA      \n",
       "4 NA     NA    TRUE   NA       NA      \n",
       "5 NA     NA    TRUE   NA       NA      \n",
       "6 NA     NA    TRUE   NA       NA      "
      ]
     },
     "metadata": {},
     "output_type": "display_data"
    },
    {
     "data": {
      "text/html": [
       "1662"
      ],
      "text/latex": [
       "1662"
      ],
      "text/markdown": [
       "1662"
      ],
      "text/plain": [
       "[1] 1662"
      ]
     },
     "metadata": {},
     "output_type": "display_data"
    }
   ],
   "source": [
    "sig_effects_wide_mutate <- mutate(sig_effects_wide, \n",
    "       any_up   = acinar > 0.5 | alpha > 0.5 | beta > 0.5 | delta > 0.5 | gamma > 0.5 | ductal > 0.5,\n",
    "       any_down = acinar < 0.5 | alpha < 0.5 | beta < 0.5 | delta < 0.5 | gamma < 0.5 | ductal < 0.5,\n",
    "       opposing = any_up & any_down)\n",
    "\n",
    "dim(sig_effects_wide_mutate)\n",
    "head(sig_effects_wide_mutate)\n",
    "sum(sig_effects_wide_mutate$opposing, na.rm=T)"
   ]
  },
  {
   "cell_type": "code",
   "execution_count": 52,
   "id": "9a32c137",
   "metadata": {
    "collapsed": true,
    "vscode": {
     "languageId": "r"
    }
   },
   "outputs": [
    {
     "data": {
      "text/html": [
       "<style>\n",
       ".list-inline {list-style: none; margin:0; padding: 0}\n",
       ".list-inline>li {display: inline-block}\n",
       ".list-inline>li:not(:last-child)::after {content: \"\\00b7\"; padding: 0 .5ex}\n",
       "</style>\n",
       "<ol class=list-inline><li>1662</li><li>11</li></ol>\n"
      ],
      "text/latex": [
       "\\begin{enumerate*}\n",
       "\\item 1662\n",
       "\\item 11\n",
       "\\end{enumerate*}\n"
      ],
      "text/markdown": [
       "1. 1662\n",
       "2. 11\n",
       "\n",
       "\n"
      ],
      "text/plain": [
       "[1] 1662   11"
      ]
     },
     "metadata": {},
     "output_type": "display_data"
    },
    {
     "data": {
      "text/html": [
       "<table class=\"dataframe\">\n",
       "<caption>A tibble: 6 × 11</caption>\n",
       "<thead>\n",
       "\t<tr><th scope=col>Feature</th><th scope=col>rsID</th><th scope=col>acinar</th><th scope=col>alpha</th><th scope=col>beta</th><th scope=col>delta</th><th scope=col>ductal</th><th scope=col>gamma</th><th scope=col>any_up</th><th scope=col>any_down</th><th scope=col>opposing</th></tr>\n",
       "\t<tr><th scope=col>&lt;chr&gt;</th><th scope=col>&lt;chr&gt;</th><th scope=col>&lt;dbl&gt;</th><th scope=col>&lt;dbl&gt;</th><th scope=col>&lt;dbl&gt;</th><th scope=col>&lt;dbl&gt;</th><th scope=col>&lt;dbl&gt;</th><th scope=col>&lt;dbl&gt;</th><th scope=col>&lt;lgl&gt;</th><th scope=col>&lt;lgl&gt;</th><th scope=col>&lt;lgl&gt;</th></tr>\n",
       "</thead>\n",
       "<tbody>\n",
       "\t<tr><td>chr6:32622377-32623439</td><td>chr6:32625850:G:A</td><td>0.889509</td><td>0.270358</td><td>0.743465</td><td>NA</td><td>NA</td><td>NA</td><td>TRUE</td><td>TRUE</td><td>TRUE</td></tr>\n",
       "\t<tr><td>chr6:32622377-32623439</td><td>chr6:32619458:C:T</td><td>0.122557</td><td>0.754524</td><td>      NA</td><td>NA</td><td>NA</td><td>NA</td><td>TRUE</td><td>TRUE</td><td>TRUE</td></tr>\n",
       "\t<tr><td>chr6:32622377-32623439</td><td>chr6:32619218:C:T</td><td>0.154995</td><td>0.259386</td><td>0.737914</td><td>NA</td><td>NA</td><td>NA</td><td>TRUE</td><td>TRUE</td><td>TRUE</td></tr>\n",
       "\t<tr><td>chr6:32622377-32623439</td><td>chr6:32619215:G:T</td><td>0.154995</td><td>0.259386</td><td>0.737914</td><td>NA</td><td>NA</td><td>NA</td><td>TRUE</td><td>TRUE</td><td>TRUE</td></tr>\n",
       "\t<tr><td>chr6:32622377-32623439</td><td>chr6:32615965:G:A</td><td>0.159731</td><td>0.257125</td><td>0.726948</td><td>NA</td><td>NA</td><td>NA</td><td>TRUE</td><td>TRUE</td><td>TRUE</td></tr>\n",
       "\t<tr><td>chr6:32622377-32623439</td><td>chr6:32619010:A:G</td><td>0.138192</td><td>0.251616</td><td>0.743434</td><td>NA</td><td>NA</td><td>NA</td><td>TRUE</td><td>TRUE</td><td>TRUE</td></tr>\n",
       "</tbody>\n",
       "</table>\n"
      ],
      "text/latex": [
       "A tibble: 6 × 11\n",
       "\\begin{tabular}{lllllllllll}\n",
       " Feature & rsID & acinar & alpha & beta & delta & ductal & gamma & any\\_up & any\\_down & opposing\\\\\n",
       " <chr> & <chr> & <dbl> & <dbl> & <dbl> & <dbl> & <dbl> & <dbl> & <lgl> & <lgl> & <lgl>\\\\\n",
       "\\hline\n",
       "\t chr6:32622377-32623439 & chr6:32625850:G:A & 0.889509 & 0.270358 & 0.743465 & NA & NA & NA & TRUE & TRUE & TRUE\\\\\n",
       "\t chr6:32622377-32623439 & chr6:32619458:C:T & 0.122557 & 0.754524 &       NA & NA & NA & NA & TRUE & TRUE & TRUE\\\\\n",
       "\t chr6:32622377-32623439 & chr6:32619218:C:T & 0.154995 & 0.259386 & 0.737914 & NA & NA & NA & TRUE & TRUE & TRUE\\\\\n",
       "\t chr6:32622377-32623439 & chr6:32619215:G:T & 0.154995 & 0.259386 & 0.737914 & NA & NA & NA & TRUE & TRUE & TRUE\\\\\n",
       "\t chr6:32622377-32623439 & chr6:32615965:G:A & 0.159731 & 0.257125 & 0.726948 & NA & NA & NA & TRUE & TRUE & TRUE\\\\\n",
       "\t chr6:32622377-32623439 & chr6:32619010:A:G & 0.138192 & 0.251616 & 0.743434 & NA & NA & NA & TRUE & TRUE & TRUE\\\\\n",
       "\\end{tabular}\n"
      ],
      "text/markdown": [
       "\n",
       "A tibble: 6 × 11\n",
       "\n",
       "| Feature &lt;chr&gt; | rsID &lt;chr&gt; | acinar &lt;dbl&gt; | alpha &lt;dbl&gt; | beta &lt;dbl&gt; | delta &lt;dbl&gt; | ductal &lt;dbl&gt; | gamma &lt;dbl&gt; | any_up &lt;lgl&gt; | any_down &lt;lgl&gt; | opposing &lt;lgl&gt; |\n",
       "|---|---|---|---|---|---|---|---|---|---|---|\n",
       "| chr6:32622377-32623439 | chr6:32625850:G:A | 0.889509 | 0.270358 | 0.743465 | NA | NA | NA | TRUE | TRUE | TRUE |\n",
       "| chr6:32622377-32623439 | chr6:32619458:C:T | 0.122557 | 0.754524 |       NA | NA | NA | NA | TRUE | TRUE | TRUE |\n",
       "| chr6:32622377-32623439 | chr6:32619218:C:T | 0.154995 | 0.259386 | 0.737914 | NA | NA | NA | TRUE | TRUE | TRUE |\n",
       "| chr6:32622377-32623439 | chr6:32619215:G:T | 0.154995 | 0.259386 | 0.737914 | NA | NA | NA | TRUE | TRUE | TRUE |\n",
       "| chr6:32622377-32623439 | chr6:32615965:G:A | 0.159731 | 0.257125 | 0.726948 | NA | NA | NA | TRUE | TRUE | TRUE |\n",
       "| chr6:32622377-32623439 | chr6:32619010:A:G | 0.138192 | 0.251616 | 0.743434 | NA | NA | NA | TRUE | TRUE | TRUE |\n",
       "\n"
      ],
      "text/plain": [
       "  Feature                rsID              acinar   alpha    beta     delta\n",
       "1 chr6:32622377-32623439 chr6:32625850:G:A 0.889509 0.270358 0.743465 NA   \n",
       "2 chr6:32622377-32623439 chr6:32619458:C:T 0.122557 0.754524       NA NA   \n",
       "3 chr6:32622377-32623439 chr6:32619218:C:T 0.154995 0.259386 0.737914 NA   \n",
       "4 chr6:32622377-32623439 chr6:32619215:G:T 0.154995 0.259386 0.737914 NA   \n",
       "5 chr6:32622377-32623439 chr6:32615965:G:A 0.159731 0.257125 0.726948 NA   \n",
       "6 chr6:32622377-32623439 chr6:32619010:A:G 0.138192 0.251616 0.743434 NA   \n",
       "  ductal gamma any_up any_down opposing\n",
       "1 NA     NA    TRUE   TRUE     TRUE    \n",
       "2 NA     NA    TRUE   TRUE     TRUE    \n",
       "3 NA     NA    TRUE   TRUE     TRUE    \n",
       "4 NA     NA    TRUE   TRUE     TRUE    \n",
       "5 NA     NA    TRUE   TRUE     TRUE    \n",
       "6 NA     NA    TRUE   TRUE     TRUE    "
      ]
     },
     "metadata": {},
     "output_type": "display_data"
    },
    {
     "data": {
      "text/html": [
       "86"
      ],
      "text/latex": [
       "86"
      ],
      "text/markdown": [
       "86"
      ],
      "text/plain": [
       "[1] 86"
      ]
     },
     "metadata": {},
     "output_type": "display_data"
    }
   ],
   "source": [
    "sig_effects_wide_opposing <- filter(sig_effects_wide_mutate, opposing)\n",
    "\n",
    "dim(sig_effects_wide_opposing)\n",
    "head(sig_effects_wide_opposing)\n",
    "length(unique(sig_effects_wide_opposing$Feature))"
   ]
  },
  {
   "cell_type": "code",
   "execution_count": null,
   "id": "aaeb5762",
   "metadata": {
    "scrolled": true,
    "vscode": {
     "languageId": "r"
    }
   },
   "outputs": [],
   "source": [
    "upset_data[unique(sig_effects_wide_opposing$Feature),]"
   ]
  },
  {
   "cell_type": "code",
   "execution_count": 59,
   "id": "63f33381",
   "metadata": {
    "vscode": {
     "languageId": "r"
    }
   },
   "outputs": [
    {
     "data": {
      "text/html": [
       "1.16028062601187"
      ],
      "text/latex": [
       "1.16028062601187"
      ],
      "text/markdown": [
       "1.16028062601187"
      ],
      "text/plain": [
       "[1] 1.160281"
      ]
     },
     "metadata": {},
     "output_type": "display_data"
    }
   ],
   "source": [
    "length(unique(sig_effects_wide_opposing$Feature)) * 100 / nrow(upset_data[rowSums(upset_data) > 0,])"
   ]
  },
  {
   "cell_type": "code",
   "execution_count": null,
   "id": "12ea9dfc",
   "metadata": {
    "vscode": {
     "languageId": "r"
    }
   },
   "outputs": [],
   "source": []
  },
  {
   "cell_type": "code",
   "execution_count": 76,
   "id": "907d6251",
   "metadata": {
    "vscode": {
     "languageId": "r"
    }
   },
   "outputs": [
    {
     "data": {
      "text/html": [
       "<style>\n",
       ".list-inline {list-style: none; margin:0; padding: 0}\n",
       ".list-inline>li {display: inline-block}\n",
       ".list-inline>li:not(:last-child)::after {content: \"\\00b7\"; padding: 0 .5ex}\n",
       "</style>\n",
       "<ol class=list-inline><li>434607</li><li>36</li></ol>\n"
      ],
      "text/latex": [
       "\\begin{enumerate*}\n",
       "\\item 434607\n",
       "\\item 36\n",
       "\\end{enumerate*}\n"
      ],
      "text/markdown": [
       "1. 434607\n",
       "2. 36\n",
       "\n",
       "\n"
      ],
      "text/plain": [
       "[1] 434607     36"
      ]
     },
     "metadata": {},
     "output_type": "display_data"
    },
    {
     "data": {
      "text/html": [
       "<table class=\"dataframe\">\n",
       "<caption>A spec_tbl_df: 6 × 36</caption>\n",
       "<thead>\n",
       "\t<tr><th scope=col>Feature</th><th scope=col>rsID</th><th scope=col>Chromosome</th><th scope=col>position</th><th scope=col>Ref</th><th scope=col>Alt</th><th scope=col>Af</th><th scope=col>HWEChi_square</th><th scope=col>IA</th><th scope=col>Log10_qval</th><th scope=col>⋯</th><th scope=col>dist</th><th scope=col>flag_fdr10</th><th scope=col>flag_fdr05</th><th scope=col>flag_fdr01</th><th scope=col>cell</th><th scope=col>is_ct_peak</th><th scope=col>exclude</th><th scope=col>qtl</th><th scope=col>feature_snp</th><th scope=col>sig_effect</th></tr>\n",
       "\t<tr><th scope=col>&lt;chr&gt;</th><th scope=col>&lt;chr&gt;</th><th scope=col>&lt;chr&gt;</th><th scope=col>&lt;dbl&gt;</th><th scope=col>&lt;chr&gt;</th><th scope=col>&lt;chr&gt;</th><th scope=col>&lt;dbl&gt;</th><th scope=col>&lt;dbl&gt;</th><th scope=col>&lt;dbl&gt;</th><th scope=col>&lt;dbl&gt;</th><th scope=col>⋯</th><th scope=col>&lt;dbl&gt;</th><th scope=col>&lt;lgl&gt;</th><th scope=col>&lt;lgl&gt;</th><th scope=col>&lt;lgl&gt;</th><th scope=col>&lt;chr&gt;</th><th scope=col>&lt;lgl&gt;</th><th scope=col>&lt;lgl&gt;</th><th scope=col>&lt;lgl&gt;</th><th scope=col>&lt;chr&gt;</th><th scope=col>&lt;dbl&gt;</th></tr>\n",
       "</thead>\n",
       "<tbody>\n",
       "\t<tr><td>chr6:32622377-32623439</td><td>chr6:32620608:T:A</td><td>chr6</td><td>32620608</td><td>T</td><td>A</td><td>0.425926</td><td>2.231991</td><td>0.998678</td><td>-67.03611</td><td>⋯</td><td>-2300</td><td>TRUE</td><td>TRUE</td><td>TRUE</td><td>acinar</td><td>TRUE</td><td>FALSE</td><td>TRUE</td><td>chr6:32622377-32623439_chr6:32620608:T:A</td><td>0.891920</td></tr>\n",
       "\t<tr><td>chr6:32622377-32623439</td><td>chr6:32620292:C:T</td><td>chr6</td><td>32620292</td><td>C</td><td>T</td><td>0.481481</td><td>3.033058</td><td>0.997176</td><td>-67.03611</td><td>⋯</td><td>-2616</td><td>TRUE</td><td>TRUE</td><td>TRUE</td><td>acinar</td><td>TRUE</td><td>FALSE</td><td>TRUE</td><td>chr6:32622377-32623439_chr6:32620292:C:T</td><td>0.892051</td></tr>\n",
       "\t<tr><td>chr6:32622377-32623439</td><td>chr6:32620069:C:T</td><td>chr6</td><td>32620069</td><td>C</td><td>T</td><td>0.481481</td><td>3.033058</td><td>0.997249</td><td>-67.03611</td><td>⋯</td><td>-2839</td><td>TRUE</td><td>TRUE</td><td>TRUE</td><td>acinar</td><td>TRUE</td><td>FALSE</td><td>TRUE</td><td>chr6:32622377-32623439_chr6:32620069:C:T</td><td>0.892051</td></tr>\n",
       "\t<tr><td>chr6:32622377-32623439</td><td>chr6:32620254:G:A</td><td>chr6</td><td>32620254</td><td>G</td><td>A</td><td>0.481481</td><td>3.033058</td><td>0.997319</td><td>-67.03611</td><td>⋯</td><td>-2654</td><td>TRUE</td><td>TRUE</td><td>TRUE</td><td>acinar</td><td>TRUE</td><td>FALSE</td><td>TRUE</td><td>chr6:32622377-32623439_chr6:32620254:G:A</td><td>0.892031</td></tr>\n",
       "\t<tr><td>chr6:32622377-32623439</td><td>chr6:32623176:T:C</td><td>chr6</td><td>32623176</td><td>T</td><td>C</td><td>0.462963</td><td>1.913385</td><td>0.999952</td><td>-66.25852</td><td>⋯</td><td>  268</td><td>TRUE</td><td>TRUE</td><td>TRUE</td><td>acinar</td><td>TRUE</td><td>FALSE</td><td>TRUE</td><td>chr6:32622377-32623439_chr6:32623176:T:C</td><td>0.893393</td></tr>\n",
       "\t<tr><td>chr6:32622377-32623439</td><td>chr6:32623122:G:T</td><td>chr6</td><td>32623122</td><td>G</td><td>T</td><td>0.462963</td><td>1.913385</td><td>0.999952</td><td>-66.25852</td><td>⋯</td><td>  214</td><td>TRUE</td><td>TRUE</td><td>TRUE</td><td>acinar</td><td>TRUE</td><td>FALSE</td><td>TRUE</td><td>chr6:32622377-32623439_chr6:32623122:G:T</td><td>0.893389</td></tr>\n",
       "</tbody>\n",
       "</table>\n"
      ],
      "text/latex": [
       "A spec\\_tbl\\_df: 6 × 36\n",
       "\\begin{tabular}{lllllllllllllllllllll}\n",
       " Feature & rsID & Chromosome & position & Ref & Alt & Af & HWEChi\\_square & IA & Log10\\_qval & ⋯ & dist & flag\\_fdr10 & flag\\_fdr05 & flag\\_fdr01 & cell & is\\_ct\\_peak & exclude & qtl & feature\\_snp & sig\\_effect\\\\\n",
       " <chr> & <chr> & <chr> & <dbl> & <chr> & <chr> & <dbl> & <dbl> & <dbl> & <dbl> & ⋯ & <dbl> & <lgl> & <lgl> & <lgl> & <chr> & <lgl> & <lgl> & <lgl> & <chr> & <dbl>\\\\\n",
       "\\hline\n",
       "\t chr6:32622377-32623439 & chr6:32620608:T:A & chr6 & 32620608 & T & A & 0.425926 & 2.231991 & 0.998678 & -67.03611 & ⋯ & -2300 & TRUE & TRUE & TRUE & acinar & TRUE & FALSE & TRUE & chr6:32622377-32623439\\_chr6:32620608:T:A & 0.891920\\\\\n",
       "\t chr6:32622377-32623439 & chr6:32620292:C:T & chr6 & 32620292 & C & T & 0.481481 & 3.033058 & 0.997176 & -67.03611 & ⋯ & -2616 & TRUE & TRUE & TRUE & acinar & TRUE & FALSE & TRUE & chr6:32622377-32623439\\_chr6:32620292:C:T & 0.892051\\\\\n",
       "\t chr6:32622377-32623439 & chr6:32620069:C:T & chr6 & 32620069 & C & T & 0.481481 & 3.033058 & 0.997249 & -67.03611 & ⋯ & -2839 & TRUE & TRUE & TRUE & acinar & TRUE & FALSE & TRUE & chr6:32622377-32623439\\_chr6:32620069:C:T & 0.892051\\\\\n",
       "\t chr6:32622377-32623439 & chr6:32620254:G:A & chr6 & 32620254 & G & A & 0.481481 & 3.033058 & 0.997319 & -67.03611 & ⋯ & -2654 & TRUE & TRUE & TRUE & acinar & TRUE & FALSE & TRUE & chr6:32622377-32623439\\_chr6:32620254:G:A & 0.892031\\\\\n",
       "\t chr6:32622377-32623439 & chr6:32623176:T:C & chr6 & 32623176 & T & C & 0.462963 & 1.913385 & 0.999952 & -66.25852 & ⋯ &   268 & TRUE & TRUE & TRUE & acinar & TRUE & FALSE & TRUE & chr6:32622377-32623439\\_chr6:32623176:T:C & 0.893393\\\\\n",
       "\t chr6:32622377-32623439 & chr6:32623122:G:T & chr6 & 32623122 & G & T & 0.462963 & 1.913385 & 0.999952 & -66.25852 & ⋯ &   214 & TRUE & TRUE & TRUE & acinar & TRUE & FALSE & TRUE & chr6:32622377-32623439\\_chr6:32623122:G:T & 0.893389\\\\\n",
       "\\end{tabular}\n"
      ],
      "text/markdown": [
       "\n",
       "A spec_tbl_df: 6 × 36\n",
       "\n",
       "| Feature &lt;chr&gt; | rsID &lt;chr&gt; | Chromosome &lt;chr&gt; | position &lt;dbl&gt; | Ref &lt;chr&gt; | Alt &lt;chr&gt; | Af &lt;dbl&gt; | HWEChi_square &lt;dbl&gt; | IA &lt;dbl&gt; | Log10_qval &lt;dbl&gt; | ⋯ ⋯ | dist &lt;dbl&gt; | flag_fdr10 &lt;lgl&gt; | flag_fdr05 &lt;lgl&gt; | flag_fdr01 &lt;lgl&gt; | cell &lt;chr&gt; | is_ct_peak &lt;lgl&gt; | exclude &lt;lgl&gt; | qtl &lt;lgl&gt; | feature_snp &lt;chr&gt; | sig_effect &lt;dbl&gt; |\n",
       "|---|---|---|---|---|---|---|---|---|---|---|---|---|---|---|---|---|---|---|---|---|\n",
       "| chr6:32622377-32623439 | chr6:32620608:T:A | chr6 | 32620608 | T | A | 0.425926 | 2.231991 | 0.998678 | -67.03611 | ⋯ | -2300 | TRUE | TRUE | TRUE | acinar | TRUE | FALSE | TRUE | chr6:32622377-32623439_chr6:32620608:T:A | 0.891920 |\n",
       "| chr6:32622377-32623439 | chr6:32620292:C:T | chr6 | 32620292 | C | T | 0.481481 | 3.033058 | 0.997176 | -67.03611 | ⋯ | -2616 | TRUE | TRUE | TRUE | acinar | TRUE | FALSE | TRUE | chr6:32622377-32623439_chr6:32620292:C:T | 0.892051 |\n",
       "| chr6:32622377-32623439 | chr6:32620069:C:T | chr6 | 32620069 | C | T | 0.481481 | 3.033058 | 0.997249 | -67.03611 | ⋯ | -2839 | TRUE | TRUE | TRUE | acinar | TRUE | FALSE | TRUE | chr6:32622377-32623439_chr6:32620069:C:T | 0.892051 |\n",
       "| chr6:32622377-32623439 | chr6:32620254:G:A | chr6 | 32620254 | G | A | 0.481481 | 3.033058 | 0.997319 | -67.03611 | ⋯ | -2654 | TRUE | TRUE | TRUE | acinar | TRUE | FALSE | TRUE | chr6:32622377-32623439_chr6:32620254:G:A | 0.892031 |\n",
       "| chr6:32622377-32623439 | chr6:32623176:T:C | chr6 | 32623176 | T | C | 0.462963 | 1.913385 | 0.999952 | -66.25852 | ⋯ |   268 | TRUE | TRUE | TRUE | acinar | TRUE | FALSE | TRUE | chr6:32622377-32623439_chr6:32623176:T:C | 0.893393 |\n",
       "| chr6:32622377-32623439 | chr6:32623122:G:T | chr6 | 32623122 | G | T | 0.462963 | 1.913385 | 0.999952 | -66.25852 | ⋯ |   214 | TRUE | TRUE | TRUE | acinar | TRUE | FALSE | TRUE | chr6:32622377-32623439_chr6:32623122:G:T | 0.893389 |\n",
       "\n"
      ],
      "text/plain": [
       "  Feature                rsID              Chromosome position Ref Alt Af      \n",
       "1 chr6:32622377-32623439 chr6:32620608:T:A chr6       32620608 T   A   0.425926\n",
       "2 chr6:32622377-32623439 chr6:32620292:C:T chr6       32620292 C   T   0.481481\n",
       "3 chr6:32622377-32623439 chr6:32620069:C:T chr6       32620069 C   T   0.481481\n",
       "4 chr6:32622377-32623439 chr6:32620254:G:A chr6       32620254 G   A   0.481481\n",
       "5 chr6:32622377-32623439 chr6:32623176:T:C chr6       32623176 T   C   0.462963\n",
       "6 chr6:32622377-32623439 chr6:32623122:G:T chr6       32623122 G   T   0.462963\n",
       "  HWEChi_square IA       Log10_qval ⋯ dist  flag_fdr10 flag_fdr05 flag_fdr01\n",
       "1 2.231991      0.998678 -67.03611  ⋯ -2300 TRUE       TRUE       TRUE      \n",
       "2 3.033058      0.997176 -67.03611  ⋯ -2616 TRUE       TRUE       TRUE      \n",
       "3 3.033058      0.997249 -67.03611  ⋯ -2839 TRUE       TRUE       TRUE      \n",
       "4 3.033058      0.997319 -67.03611  ⋯ -2654 TRUE       TRUE       TRUE      \n",
       "5 1.913385      0.999952 -66.25852  ⋯   268 TRUE       TRUE       TRUE      \n",
       "6 1.913385      0.999952 -66.25852  ⋯   214 TRUE       TRUE       TRUE      \n",
       "  cell   is_ct_peak exclude qtl  feature_snp                             \n",
       "1 acinar TRUE       FALSE   TRUE chr6:32622377-32623439_chr6:32620608:T:A\n",
       "2 acinar TRUE       FALSE   TRUE chr6:32622377-32623439_chr6:32620292:C:T\n",
       "3 acinar TRUE       FALSE   TRUE chr6:32622377-32623439_chr6:32620069:C:T\n",
       "4 acinar TRUE       FALSE   TRUE chr6:32622377-32623439_chr6:32620254:G:A\n",
       "5 acinar TRUE       FALSE   TRUE chr6:32622377-32623439_chr6:32623176:T:C\n",
       "6 acinar TRUE       FALSE   TRUE chr6:32622377-32623439_chr6:32623122:G:T\n",
       "  sig_effect\n",
       "1 0.891920  \n",
       "2 0.892051  \n",
       "3 0.892051  \n",
       "4 0.892031  \n",
       "5 0.893393  \n",
       "6 0.893389  "
      ]
     },
     "metadata": {},
     "output_type": "display_data"
    }
   ],
   "source": [
    "sig <- filter(all, flag_fdr05) %>%\n",
    "       filter(cell %in% c('acinar','alpha','beta','delta','ductal','gamma'))\n",
    "\n",
    "dim(sig)\n",
    "head(sig)"
   ]
  },
  {
   "cell_type": "code",
   "execution_count": 63,
   "id": "72fea1c6",
   "metadata": {
    "vscode": {
     "languageId": "r"
    }
   },
   "outputs": [],
   "source": [
    "library(stringr)"
   ]
  },
  {
   "cell_type": "code",
   "execution_count": 77,
   "id": "63652811",
   "metadata": {
    "scrolled": true,
    "vscode": {
     "languageId": "r"
    }
   },
   "outputs": [
    {
     "data": {
      "text/html": [
       "<style>\n",
       ".list-inline {list-style: none; margin:0; padding: 0}\n",
       ".list-inline>li {display: inline-block}\n",
       ".list-inline>li:not(:last-child)::after {content: \"\\00b7\"; padding: 0 .5ex}\n",
       "</style>\n",
       "<ol class=list-inline><li>434607</li><li>39</li></ol>\n"
      ],
      "text/latex": [
       "\\begin{enumerate*}\n",
       "\\item 434607\n",
       "\\item 39\n",
       "\\end{enumerate*}\n"
      ],
      "text/markdown": [
       "1. 434607\n",
       "2. 39\n",
       "\n",
       "\n"
      ],
      "text/plain": [
       "[1] 434607     39"
      ]
     },
     "metadata": {},
     "output_type": "display_data"
    },
    {
     "data": {
      "text/html": [
       "<table class=\"dataframe\">\n",
       "<caption>A spec_tbl_df: 6 × 39</caption>\n",
       "<thead>\n",
       "\t<tr><th scope=col>Feature</th><th scope=col>rsID</th><th scope=col>Chromosome</th><th scope=col>position</th><th scope=col>Ref</th><th scope=col>Alt</th><th scope=col>Af</th><th scope=col>HWEChi_square</th><th scope=col>IA</th><th scope=col>Log10_qval</th><th scope=col>⋯</th><th scope=col>flag_fdr01</th><th scope=col>cell</th><th scope=col>is_ct_peak</th><th scope=col>exclude</th><th scope=col>qtl</th><th scope=col>feature_snp</th><th scope=col>sig_effect</th><th scope=col>start</th><th scope=col>end</th><th scope=col>is_in_peak</th></tr>\n",
       "\t<tr><th scope=col>&lt;chr&gt;</th><th scope=col>&lt;chr&gt;</th><th scope=col>&lt;chr&gt;</th><th scope=col>&lt;dbl&gt;</th><th scope=col>&lt;chr&gt;</th><th scope=col>&lt;chr&gt;</th><th scope=col>&lt;dbl&gt;</th><th scope=col>&lt;dbl&gt;</th><th scope=col>&lt;dbl&gt;</th><th scope=col>&lt;dbl&gt;</th><th scope=col>⋯</th><th scope=col>&lt;lgl&gt;</th><th scope=col>&lt;chr&gt;</th><th scope=col>&lt;lgl&gt;</th><th scope=col>&lt;lgl&gt;</th><th scope=col>&lt;lgl&gt;</th><th scope=col>&lt;chr&gt;</th><th scope=col>&lt;dbl&gt;</th><th scope=col>&lt;chr&gt;</th><th scope=col>&lt;chr&gt;</th><th scope=col>&lt;lgl&gt;</th></tr>\n",
       "</thead>\n",
       "<tbody>\n",
       "\t<tr><td>chr6:32622377-32623439</td><td>chr6:32620608:T:A</td><td>chr6</td><td>32620608</td><td>T</td><td>A</td><td>0.425926</td><td>2.231991</td><td>0.998678</td><td>-67.03611</td><td>⋯</td><td>TRUE</td><td>acinar</td><td>TRUE</td><td>FALSE</td><td>TRUE</td><td>chr6:32622377-32623439_chr6:32620608:T:A</td><td>0.891920</td><td>32622377</td><td>32623439</td><td>FALSE</td></tr>\n",
       "\t<tr><td>chr6:32622377-32623439</td><td>chr6:32620292:C:T</td><td>chr6</td><td>32620292</td><td>C</td><td>T</td><td>0.481481</td><td>3.033058</td><td>0.997176</td><td>-67.03611</td><td>⋯</td><td>TRUE</td><td>acinar</td><td>TRUE</td><td>FALSE</td><td>TRUE</td><td>chr6:32622377-32623439_chr6:32620292:C:T</td><td>0.892051</td><td>32622377</td><td>32623439</td><td>FALSE</td></tr>\n",
       "\t<tr><td>chr6:32622377-32623439</td><td>chr6:32620069:C:T</td><td>chr6</td><td>32620069</td><td>C</td><td>T</td><td>0.481481</td><td>3.033058</td><td>0.997249</td><td>-67.03611</td><td>⋯</td><td>TRUE</td><td>acinar</td><td>TRUE</td><td>FALSE</td><td>TRUE</td><td>chr6:32622377-32623439_chr6:32620069:C:T</td><td>0.892051</td><td>32622377</td><td>32623439</td><td>FALSE</td></tr>\n",
       "\t<tr><td>chr6:32622377-32623439</td><td>chr6:32620254:G:A</td><td>chr6</td><td>32620254</td><td>G</td><td>A</td><td>0.481481</td><td>3.033058</td><td>0.997319</td><td>-67.03611</td><td>⋯</td><td>TRUE</td><td>acinar</td><td>TRUE</td><td>FALSE</td><td>TRUE</td><td>chr6:32622377-32623439_chr6:32620254:G:A</td><td>0.892031</td><td>32622377</td><td>32623439</td><td>FALSE</td></tr>\n",
       "\t<tr><td>chr6:32622377-32623439</td><td>chr6:32623176:T:C</td><td>chr6</td><td>32623176</td><td>T</td><td>C</td><td>0.462963</td><td>1.913385</td><td>0.999952</td><td>-66.25852</td><td>⋯</td><td>TRUE</td><td>acinar</td><td>TRUE</td><td>FALSE</td><td>TRUE</td><td>chr6:32622377-32623439_chr6:32623176:T:C</td><td>0.893393</td><td>32622377</td><td>32623439</td><td> TRUE</td></tr>\n",
       "\t<tr><td>chr6:32622377-32623439</td><td>chr6:32623122:G:T</td><td>chr6</td><td>32623122</td><td>G</td><td>T</td><td>0.462963</td><td>1.913385</td><td>0.999952</td><td>-66.25852</td><td>⋯</td><td>TRUE</td><td>acinar</td><td>TRUE</td><td>FALSE</td><td>TRUE</td><td>chr6:32622377-32623439_chr6:32623122:G:T</td><td>0.893389</td><td>32622377</td><td>32623439</td><td> TRUE</td></tr>\n",
       "</tbody>\n",
       "</table>\n"
      ],
      "text/latex": [
       "A spec\\_tbl\\_df: 6 × 39\n",
       "\\begin{tabular}{lllllllllllllllllllll}\n",
       " Feature & rsID & Chromosome & position & Ref & Alt & Af & HWEChi\\_square & IA & Log10\\_qval & ⋯ & flag\\_fdr01 & cell & is\\_ct\\_peak & exclude & qtl & feature\\_snp & sig\\_effect & start & end & is\\_in\\_peak\\\\\n",
       " <chr> & <chr> & <chr> & <dbl> & <chr> & <chr> & <dbl> & <dbl> & <dbl> & <dbl> & ⋯ & <lgl> & <chr> & <lgl> & <lgl> & <lgl> & <chr> & <dbl> & <chr> & <chr> & <lgl>\\\\\n",
       "\\hline\n",
       "\t chr6:32622377-32623439 & chr6:32620608:T:A & chr6 & 32620608 & T & A & 0.425926 & 2.231991 & 0.998678 & -67.03611 & ⋯ & TRUE & acinar & TRUE & FALSE & TRUE & chr6:32622377-32623439\\_chr6:32620608:T:A & 0.891920 & 32622377 & 32623439 & FALSE\\\\\n",
       "\t chr6:32622377-32623439 & chr6:32620292:C:T & chr6 & 32620292 & C & T & 0.481481 & 3.033058 & 0.997176 & -67.03611 & ⋯ & TRUE & acinar & TRUE & FALSE & TRUE & chr6:32622377-32623439\\_chr6:32620292:C:T & 0.892051 & 32622377 & 32623439 & FALSE\\\\\n",
       "\t chr6:32622377-32623439 & chr6:32620069:C:T & chr6 & 32620069 & C & T & 0.481481 & 3.033058 & 0.997249 & -67.03611 & ⋯ & TRUE & acinar & TRUE & FALSE & TRUE & chr6:32622377-32623439\\_chr6:32620069:C:T & 0.892051 & 32622377 & 32623439 & FALSE\\\\\n",
       "\t chr6:32622377-32623439 & chr6:32620254:G:A & chr6 & 32620254 & G & A & 0.481481 & 3.033058 & 0.997319 & -67.03611 & ⋯ & TRUE & acinar & TRUE & FALSE & TRUE & chr6:32622377-32623439\\_chr6:32620254:G:A & 0.892031 & 32622377 & 32623439 & FALSE\\\\\n",
       "\t chr6:32622377-32623439 & chr6:32623176:T:C & chr6 & 32623176 & T & C & 0.462963 & 1.913385 & 0.999952 & -66.25852 & ⋯ & TRUE & acinar & TRUE & FALSE & TRUE & chr6:32622377-32623439\\_chr6:32623176:T:C & 0.893393 & 32622377 & 32623439 &  TRUE\\\\\n",
       "\t chr6:32622377-32623439 & chr6:32623122:G:T & chr6 & 32623122 & G & T & 0.462963 & 1.913385 & 0.999952 & -66.25852 & ⋯ & TRUE & acinar & TRUE & FALSE & TRUE & chr6:32622377-32623439\\_chr6:32623122:G:T & 0.893389 & 32622377 & 32623439 &  TRUE\\\\\n",
       "\\end{tabular}\n"
      ],
      "text/markdown": [
       "\n",
       "A spec_tbl_df: 6 × 39\n",
       "\n",
       "| Feature &lt;chr&gt; | rsID &lt;chr&gt; | Chromosome &lt;chr&gt; | position &lt;dbl&gt; | Ref &lt;chr&gt; | Alt &lt;chr&gt; | Af &lt;dbl&gt; | HWEChi_square &lt;dbl&gt; | IA &lt;dbl&gt; | Log10_qval &lt;dbl&gt; | ⋯ ⋯ | flag_fdr01 &lt;lgl&gt; | cell &lt;chr&gt; | is_ct_peak &lt;lgl&gt; | exclude &lt;lgl&gt; | qtl &lt;lgl&gt; | feature_snp &lt;chr&gt; | sig_effect &lt;dbl&gt; | start &lt;chr&gt; | end &lt;chr&gt; | is_in_peak &lt;lgl&gt; |\n",
       "|---|---|---|---|---|---|---|---|---|---|---|---|---|---|---|---|---|---|---|---|---|\n",
       "| chr6:32622377-32623439 | chr6:32620608:T:A | chr6 | 32620608 | T | A | 0.425926 | 2.231991 | 0.998678 | -67.03611 | ⋯ | TRUE | acinar | TRUE | FALSE | TRUE | chr6:32622377-32623439_chr6:32620608:T:A | 0.891920 | 32622377 | 32623439 | FALSE |\n",
       "| chr6:32622377-32623439 | chr6:32620292:C:T | chr6 | 32620292 | C | T | 0.481481 | 3.033058 | 0.997176 | -67.03611 | ⋯ | TRUE | acinar | TRUE | FALSE | TRUE | chr6:32622377-32623439_chr6:32620292:C:T | 0.892051 | 32622377 | 32623439 | FALSE |\n",
       "| chr6:32622377-32623439 | chr6:32620069:C:T | chr6 | 32620069 | C | T | 0.481481 | 3.033058 | 0.997249 | -67.03611 | ⋯ | TRUE | acinar | TRUE | FALSE | TRUE | chr6:32622377-32623439_chr6:32620069:C:T | 0.892051 | 32622377 | 32623439 | FALSE |\n",
       "| chr6:32622377-32623439 | chr6:32620254:G:A | chr6 | 32620254 | G | A | 0.481481 | 3.033058 | 0.997319 | -67.03611 | ⋯ | TRUE | acinar | TRUE | FALSE | TRUE | chr6:32622377-32623439_chr6:32620254:G:A | 0.892031 | 32622377 | 32623439 | FALSE |\n",
       "| chr6:32622377-32623439 | chr6:32623176:T:C | chr6 | 32623176 | T | C | 0.462963 | 1.913385 | 0.999952 | -66.25852 | ⋯ | TRUE | acinar | TRUE | FALSE | TRUE | chr6:32622377-32623439_chr6:32623176:T:C | 0.893393 | 32622377 | 32623439 |  TRUE |\n",
       "| chr6:32622377-32623439 | chr6:32623122:G:T | chr6 | 32623122 | G | T | 0.462963 | 1.913385 | 0.999952 | -66.25852 | ⋯ | TRUE | acinar | TRUE | FALSE | TRUE | chr6:32622377-32623439_chr6:32623122:G:T | 0.893389 | 32622377 | 32623439 |  TRUE |\n",
       "\n"
      ],
      "text/plain": [
       "  Feature                rsID              Chromosome position Ref Alt Af      \n",
       "1 chr6:32622377-32623439 chr6:32620608:T:A chr6       32620608 T   A   0.425926\n",
       "2 chr6:32622377-32623439 chr6:32620292:C:T chr6       32620292 C   T   0.481481\n",
       "3 chr6:32622377-32623439 chr6:32620069:C:T chr6       32620069 C   T   0.481481\n",
       "4 chr6:32622377-32623439 chr6:32620254:G:A chr6       32620254 G   A   0.481481\n",
       "5 chr6:32622377-32623439 chr6:32623176:T:C chr6       32623176 T   C   0.462963\n",
       "6 chr6:32622377-32623439 chr6:32623122:G:T chr6       32623122 G   T   0.462963\n",
       "  HWEChi_square IA       Log10_qval ⋯ flag_fdr01 cell   is_ct_peak exclude qtl \n",
       "1 2.231991      0.998678 -67.03611  ⋯ TRUE       acinar TRUE       FALSE   TRUE\n",
       "2 3.033058      0.997176 -67.03611  ⋯ TRUE       acinar TRUE       FALSE   TRUE\n",
       "3 3.033058      0.997249 -67.03611  ⋯ TRUE       acinar TRUE       FALSE   TRUE\n",
       "4 3.033058      0.997319 -67.03611  ⋯ TRUE       acinar TRUE       FALSE   TRUE\n",
       "5 1.913385      0.999952 -66.25852  ⋯ TRUE       acinar TRUE       FALSE   TRUE\n",
       "6 1.913385      0.999952 -66.25852  ⋯ TRUE       acinar TRUE       FALSE   TRUE\n",
       "  feature_snp                              sig_effect start    end     \n",
       "1 chr6:32622377-32623439_chr6:32620608:T:A 0.891920   32622377 32623439\n",
       "2 chr6:32622377-32623439_chr6:32620292:C:T 0.892051   32622377 32623439\n",
       "3 chr6:32622377-32623439_chr6:32620069:C:T 0.892051   32622377 32623439\n",
       "4 chr6:32622377-32623439_chr6:32620254:G:A 0.892031   32622377 32623439\n",
       "5 chr6:32622377-32623439_chr6:32623176:T:C 0.893393   32622377 32623439\n",
       "6 chr6:32622377-32623439_chr6:32623122:G:T 0.893389   32622377 32623439\n",
       "  is_in_peak\n",
       "1 FALSE     \n",
       "2 FALSE     \n",
       "3 FALSE     \n",
       "4 FALSE     \n",
       "5  TRUE     \n",
       "6  TRUE     "
      ]
     },
     "metadata": {},
     "output_type": "display_data"
    }
   ],
   "source": [
    "sig$start <- str_split(str_split(sig$Feature, \":\", simplify=T)[,2], \"-\", simplify=T)[,1]\n",
    "sig$end <- str_split(str_split(sig$Feature, \":\", simplify=T)[,2], \"-\", simplify=T)[,2]\n",
    "sig$is_in_peak <- (sig$start < sig$position) & (sig$end > sig$position)\n",
    "\n",
    "dim(sig)\n",
    "head(sig)"
   ]
  },
  {
   "cell_type": "code",
   "execution_count": 78,
   "id": "0e39d37f",
   "metadata": {
    "vscode": {
     "languageId": "r"
    }
   },
   "outputs": [
    {
     "data": {
      "text/plain": [
       "\n",
       " FALSE   TRUE \n",
       "392424  42183 "
      ]
     },
     "metadata": {},
     "output_type": "display_data"
    },
    {
     "data": {
      "text/html": [
       "<strong>TRUE:</strong> 9.70601025754302"
      ],
      "text/latex": [
       "\\textbf{TRUE:} 9.70601025754302"
      ],
      "text/markdown": [
       "**TRUE:** 9.70601025754302"
      ],
      "text/plain": [
       "   TRUE \n",
       "9.70601 "
      ]
     },
     "metadata": {},
     "output_type": "display_data"
    }
   ],
   "source": [
    "table(sig$is_in_peak)\n",
    "table(sig$is_in_peak)[2] * 100 / nrow(sig)"
   ]
  },
  {
   "cell_type": "code",
   "execution_count": 124,
   "id": "b4c441c4",
   "metadata": {
    "scrolled": false,
    "vscode": {
     "languageId": "r"
    }
   },
   "outputs": [
    {
     "data": {
      "text/html": [
       "<style>\n",
       ".list-inline {list-style: none; margin:0; padding: 0}\n",
       ".list-inline>li {display: inline-block}\n",
       ".list-inline>li:not(:last-child)::after {content: \"\\00b7\"; padding: 0 .5ex}\n",
       "</style>\n",
       "<ol class=list-inline><li>10832</li><li>2</li></ol>\n"
      ],
      "text/latex": [
       "\\begin{enumerate*}\n",
       "\\item 10832\n",
       "\\item 2\n",
       "\\end{enumerate*}\n"
      ],
      "text/markdown": [
       "1. 10832\n",
       "2. 2\n",
       "\n",
       "\n"
      ],
      "text/plain": [
       "[1] 10832     2"
      ]
     },
     "metadata": {},
     "output_type": "display_data"
    },
    {
     "data": {
      "text/html": [
       "<table class=\"dataframe\">\n",
       "<caption>A tibble: 6 × 2</caption>\n",
       "<thead>\n",
       "\t<tr><th scope=col>Feature</th><th scope=col>is_in_peak</th></tr>\n",
       "\t<tr><th scope=col>&lt;chr&gt;</th><th scope=col>&lt;lgl&gt;</th></tr>\n",
       "</thead>\n",
       "<tbody>\n",
       "\t<tr><td>chr10:100006062-100006793</td><td> TRUE</td></tr>\n",
       "\t<tr><td>chr10:100101427-100102098</td><td> TRUE</td></tr>\n",
       "\t<tr><td>chr10:100346335-100347694</td><td>FALSE</td></tr>\n",
       "\t<tr><td>chr10:100561831-100563289</td><td> TRUE</td></tr>\n",
       "\t<tr><td>chr10:100655787-100656966</td><td>FALSE</td></tr>\n",
       "\t<tr><td>chr10:101118690-101118974</td><td> TRUE</td></tr>\n",
       "</tbody>\n",
       "</table>\n"
      ],
      "text/latex": [
       "A tibble: 6 × 2\n",
       "\\begin{tabular}{ll}\n",
       " Feature & is\\_in\\_peak\\\\\n",
       " <chr> & <lgl>\\\\\n",
       "\\hline\n",
       "\t chr10:100006062-100006793 &  TRUE\\\\\n",
       "\t chr10:100101427-100102098 &  TRUE\\\\\n",
       "\t chr10:100346335-100347694 & FALSE\\\\\n",
       "\t chr10:100561831-100563289 &  TRUE\\\\\n",
       "\t chr10:100655787-100656966 & FALSE\\\\\n",
       "\t chr10:101118690-101118974 &  TRUE\\\\\n",
       "\\end{tabular}\n"
      ],
      "text/markdown": [
       "\n",
       "A tibble: 6 × 2\n",
       "\n",
       "| Feature &lt;chr&gt; | is_in_peak &lt;lgl&gt; |\n",
       "|---|---|\n",
       "| chr10:100006062-100006793 |  TRUE |\n",
       "| chr10:100101427-100102098 |  TRUE |\n",
       "| chr10:100346335-100347694 | FALSE |\n",
       "| chr10:100561831-100563289 |  TRUE |\n",
       "| chr10:100655787-100656966 | FALSE |\n",
       "| chr10:101118690-101118974 |  TRUE |\n",
       "\n"
      ],
      "text/plain": [
       "  Feature                   is_in_peak\n",
       "1 chr10:100006062-100006793  TRUE     \n",
       "2 chr10:100101427-100102098  TRUE     \n",
       "3 chr10:100346335-100347694 FALSE     \n",
       "4 chr10:100561831-100563289  TRUE     \n",
       "5 chr10:100655787-100656966 FALSE     \n",
       "6 chr10:101118690-101118974  TRUE     "
      ]
     },
     "metadata": {},
     "output_type": "display_data"
    },
    {
     "data": {
      "text/html": [
       "9179"
      ],
      "text/latex": [
       "9179"
      ],
      "text/markdown": [
       "9179"
      ],
      "text/plain": [
       "[1] 9179"
      ]
     },
     "metadata": {},
     "output_type": "display_data"
    },
    {
     "data": {
      "text/html": [
       "84.7396602658789"
      ],
      "text/latex": [
       "84.7396602658789"
      ],
      "text/markdown": [
       "84.7396602658789"
      ],
      "text/plain": [
       "[1] 84.73966"
      ]
     },
     "metadata": {},
     "output_type": "display_data"
    }
   ],
   "source": [
    "any_in <- group_by(sig, Feature) %>%\n",
    "    summarise(is_in_peak=any(is_in_peak))\n",
    "\n",
    "dim(any_in)\n",
    "head(any_in)\n",
    "sum(any_in$is_in_peak)\n",
    "\n",
    "sum(any_in$is_in_peak) * 100 / nrow(any_in)"
   ]
  },
  {
   "cell_type": "code",
   "execution_count": 123,
   "id": "66e120aa",
   "metadata": {
    "scrolled": true,
    "vscode": {
     "languageId": "r"
    }
   },
   "outputs": [
    {
     "name": "stderr",
     "output_type": "stream",
     "text": [
      "\u001b[1m\u001b[22m`summarise()` has grouped output by 'Feature'. You can override using the `.groups` argument.\n"
     ]
    },
    {
     "data": {
      "text/html": [
       "<style>\n",
       ".list-inline {list-style: none; margin:0; padding: 0}\n",
       ".list-inline>li {display: inline-block}\n",
       ".list-inline>li:not(:last-child)::after {content: \"\\00b7\"; padding: 0 .5ex}\n",
       "</style>\n",
       "<ol class=list-inline><li>10832</li><li>7</li></ol>\n"
      ],
      "text/latex": [
       "\\begin{enumerate*}\n",
       "\\item 10832\n",
       "\\item 7\n",
       "\\end{enumerate*}\n"
      ],
      "text/markdown": [
       "1. 10832\n",
       "2. 7\n",
       "\n",
       "\n"
      ],
      "text/plain": [
       "[1] 10832     7"
      ]
     },
     "metadata": {},
     "output_type": "display_data"
    },
    {
     "data": {
      "text/html": [
       "<table class=\"dataframe\">\n",
       "<caption>A grouped_df: 6 × 7</caption>\n",
       "<thead>\n",
       "\t<tr><th scope=col>Feature</th><th scope=col>beta</th><th scope=col>alpha</th><th scope=col>gamma</th><th scope=col>acinar</th><th scope=col>ductal</th><th scope=col>delta</th></tr>\n",
       "\t<tr><th scope=col>&lt;chr&gt;</th><th scope=col>&lt;lgl&gt;</th><th scope=col>&lt;lgl&gt;</th><th scope=col>&lt;lgl&gt;</th><th scope=col>&lt;lgl&gt;</th><th scope=col>&lt;lgl&gt;</th><th scope=col>&lt;lgl&gt;</th></tr>\n",
       "</thead>\n",
       "<tbody>\n",
       "\t<tr><td>chr10:100006062-100006793</td><td> TRUE</td><td>  NA</td><td>  NA</td><td>   NA</td><td>NA</td><td>NA</td></tr>\n",
       "\t<tr><td>chr10:100101427-100102098</td><td>   NA</td><td>TRUE</td><td>  NA</td><td>   NA</td><td>NA</td><td>NA</td></tr>\n",
       "\t<tr><td>chr10:100346335-100347694</td><td>FALSE</td><td>  NA</td><td>  NA</td><td>   NA</td><td>NA</td><td>NA</td></tr>\n",
       "\t<tr><td>chr10:100561831-100563289</td><td> TRUE</td><td>  NA</td><td>TRUE</td><td>   NA</td><td>NA</td><td>NA</td></tr>\n",
       "\t<tr><td>chr10:100655787-100656966</td><td>   NA</td><td>  NA</td><td>  NA</td><td>FALSE</td><td>NA</td><td>NA</td></tr>\n",
       "\t<tr><td>chr10:101118690-101118974</td><td>   NA</td><td>  NA</td><td>  NA</td><td> TRUE</td><td>NA</td><td>NA</td></tr>\n",
       "</tbody>\n",
       "</table>\n"
      ],
      "text/latex": [
       "A grouped\\_df: 6 × 7\n",
       "\\begin{tabular}{lllllll}\n",
       " Feature & beta & alpha & gamma & acinar & ductal & delta\\\\\n",
       " <chr> & <lgl> & <lgl> & <lgl> & <lgl> & <lgl> & <lgl>\\\\\n",
       "\\hline\n",
       "\t chr10:100006062-100006793 &  TRUE &   NA &   NA &    NA & NA & NA\\\\\n",
       "\t chr10:100101427-100102098 &    NA & TRUE &   NA &    NA & NA & NA\\\\\n",
       "\t chr10:100346335-100347694 & FALSE &   NA &   NA &    NA & NA & NA\\\\\n",
       "\t chr10:100561831-100563289 &  TRUE &   NA & TRUE &    NA & NA & NA\\\\\n",
       "\t chr10:100655787-100656966 &    NA &   NA &   NA & FALSE & NA & NA\\\\\n",
       "\t chr10:101118690-101118974 &    NA &   NA &   NA &  TRUE & NA & NA\\\\\n",
       "\\end{tabular}\n"
      ],
      "text/markdown": [
       "\n",
       "A grouped_df: 6 × 7\n",
       "\n",
       "| Feature &lt;chr&gt; | beta &lt;lgl&gt; | alpha &lt;lgl&gt; | gamma &lt;lgl&gt; | acinar &lt;lgl&gt; | ductal &lt;lgl&gt; | delta &lt;lgl&gt; |\n",
       "|---|---|---|---|---|---|---|\n",
       "| chr10:100006062-100006793 |  TRUE |   NA |   NA |    NA | NA | NA |\n",
       "| chr10:100101427-100102098 |    NA | TRUE |   NA |    NA | NA | NA |\n",
       "| chr10:100346335-100347694 | FALSE |   NA |   NA |    NA | NA | NA |\n",
       "| chr10:100561831-100563289 |  TRUE |   NA | TRUE |    NA | NA | NA |\n",
       "| chr10:100655787-100656966 |    NA |   NA |   NA | FALSE | NA | NA |\n",
       "| chr10:101118690-101118974 |    NA |   NA |   NA |  TRUE | NA | NA |\n",
       "\n"
      ],
      "text/plain": [
       "  Feature                   beta  alpha gamma acinar ductal delta\n",
       "1 chr10:100006062-100006793  TRUE   NA    NA     NA  NA     NA   \n",
       "2 chr10:100101427-100102098    NA TRUE    NA     NA  NA     NA   \n",
       "3 chr10:100346335-100347694 FALSE   NA    NA     NA  NA     NA   \n",
       "4 chr10:100561831-100563289  TRUE   NA  TRUE     NA  NA     NA   \n",
       "5 chr10:100655787-100656966    NA   NA    NA  FALSE  NA     NA   \n",
       "6 chr10:101118690-101118974    NA   NA    NA   TRUE  NA     NA   "
      ]
     },
     "metadata": {},
     "output_type": "display_data"
    },
    {
     "data": {
      "text/html": [
       "<table class=\"dataframe\">\n",
       "<caption>A tibble: 1 × 6</caption>\n",
       "<thead>\n",
       "\t<tr><th scope=col>beta</th><th scope=col>alpha</th><th scope=col>gamma</th><th scope=col>acinar</th><th scope=col>ductal</th><th scope=col>delta</th></tr>\n",
       "\t<tr><th scope=col>&lt;int&gt;</th><th scope=col>&lt;int&gt;</th><th scope=col>&lt;int&gt;</th><th scope=col>&lt;int&gt;</th><th scope=col>&lt;int&gt;</th><th scope=col>&lt;int&gt;</th></tr>\n",
       "</thead>\n",
       "<tbody>\n",
       "\t<tr><td>6161</td><td>4228</td><td>456</td><td>1940</td><td>238</td><td>762</td></tr>\n",
       "</tbody>\n",
       "</table>\n"
      ],
      "text/latex": [
       "A tibble: 1 × 6\n",
       "\\begin{tabular}{llllll}\n",
       " beta & alpha & gamma & acinar & ductal & delta\\\\\n",
       " <int> & <int> & <int> & <int> & <int> & <int>\\\\\n",
       "\\hline\n",
       "\t 6161 & 4228 & 456 & 1940 & 238 & 762\\\\\n",
       "\\end{tabular}\n"
      ],
      "text/markdown": [
       "\n",
       "A tibble: 1 × 6\n",
       "\n",
       "| beta &lt;int&gt; | alpha &lt;int&gt; | gamma &lt;int&gt; | acinar &lt;int&gt; | ductal &lt;int&gt; | delta &lt;int&gt; |\n",
       "|---|---|---|---|---|---|\n",
       "| 6161 | 4228 | 456 | 1940 | 238 | 762 |\n",
       "\n"
      ],
      "text/plain": [
       "  beta alpha gamma acinar ductal delta\n",
       "1 6161 4228  456   1940   238    762  "
      ]
     },
     "metadata": {},
     "output_type": "display_data"
    },
    {
     "data": {
      "text/html": [
       "<table class=\"dataframe\">\n",
       "<caption>A data.frame: 1 × 6</caption>\n",
       "<thead>\n",
       "\t<tr><th scope=col>beta</th><th scope=col>alpha</th><th scope=col>gamma</th><th scope=col>acinar</th><th scope=col>ductal</th><th scope=col>delta</th></tr>\n",
       "\t<tr><th scope=col>&lt;int&gt;</th><th scope=col>&lt;int&gt;</th><th scope=col>&lt;int&gt;</th><th scope=col>&lt;int&gt;</th><th scope=col>&lt;int&gt;</th><th scope=col>&lt;int&gt;</th></tr>\n",
       "</thead>\n",
       "<tbody>\n",
       "\t<tr><td>7205</td><td>4954</td><td>528</td><td>2225</td><td>268</td><td>882</td></tr>\n",
       "</tbody>\n",
       "</table>\n"
      ],
      "text/latex": [
       "A data.frame: 1 × 6\n",
       "\\begin{tabular}{llllll}\n",
       " beta & alpha & gamma & acinar & ductal & delta\\\\\n",
       " <int> & <int> & <int> & <int> & <int> & <int>\\\\\n",
       "\\hline\n",
       "\t 7205 & 4954 & 528 & 2225 & 268 & 882\\\\\n",
       "\\end{tabular}\n"
      ],
      "text/markdown": [
       "\n",
       "A data.frame: 1 × 6\n",
       "\n",
       "| beta &lt;int&gt; | alpha &lt;int&gt; | gamma &lt;int&gt; | acinar &lt;int&gt; | ductal &lt;int&gt; | delta &lt;int&gt; |\n",
       "|---|---|---|---|---|---|\n",
       "| 7205 | 4954 | 528 | 2225 | 268 | 882 |\n",
       "\n"
      ],
      "text/plain": [
       "  beta alpha gamma acinar ductal delta\n",
       "1 7205 4954  528   2225   268    882  "
      ]
     },
     "metadata": {},
     "output_type": "display_data"
    },
    {
     "data": {
      "text/html": [
       "<table class=\"dataframe\">\n",
       "<caption>A data.frame: 1 × 6</caption>\n",
       "<thead>\n",
       "\t<tr><th scope=col>beta</th><th scope=col>alpha</th><th scope=col>gamma</th><th scope=col>acinar</th><th scope=col>ductal</th><th scope=col>delta</th></tr>\n",
       "\t<tr><th scope=col>&lt;dbl&gt;</th><th scope=col>&lt;dbl&gt;</th><th scope=col>&lt;dbl&gt;</th><th scope=col>&lt;dbl&gt;</th><th scope=col>&lt;dbl&gt;</th><th scope=col>&lt;dbl&gt;</th></tr>\n",
       "</thead>\n",
       "<tbody>\n",
       "\t<tr><td>85.51006</td><td>85.34518</td><td>86.36364</td><td>87.19101</td><td>88.80597</td><td>86.39456</td></tr>\n",
       "</tbody>\n",
       "</table>\n"
      ],
      "text/latex": [
       "A data.frame: 1 × 6\n",
       "\\begin{tabular}{llllll}\n",
       " beta & alpha & gamma & acinar & ductal & delta\\\\\n",
       " <dbl> & <dbl> & <dbl> & <dbl> & <dbl> & <dbl>\\\\\n",
       "\\hline\n",
       "\t 85.51006 & 85.34518 & 86.36364 & 87.19101 & 88.80597 & 86.39456\\\\\n",
       "\\end{tabular}\n"
      ],
      "text/markdown": [
       "\n",
       "A data.frame: 1 × 6\n",
       "\n",
       "| beta &lt;dbl&gt; | alpha &lt;dbl&gt; | gamma &lt;dbl&gt; | acinar &lt;dbl&gt; | ductal &lt;dbl&gt; | delta &lt;dbl&gt; |\n",
       "|---|---|---|---|---|---|\n",
       "| 85.51006 | 85.34518 | 86.36364 | 87.19101 | 88.80597 | 86.39456 |\n",
       "\n"
      ],
      "text/plain": [
       "  beta     alpha    gamma    acinar   ductal   delta   \n",
       "1 85.51006 85.34518 86.36364 87.19101 88.80597 86.39456"
      ]
     },
     "metadata": {},
     "output_type": "display_data"
    }
   ],
   "source": [
    "any_in <- group_by(sig, Feature, cell) %>%\n",
    "    summarise(is_in_peak=any(is_in_peak)) %>%\n",
    "    pivot_wider(values_from = is_in_peak, names_from = cell)\n",
    "\n",
    "dim(any_in)\n",
    "head(any_in)\n",
    "\n",
    "count_ct <- ungroup(any_in) %>%\n",
    "    select(-Feature) %>%\n",
    "    summarise_all(base::sum, na.rm=T)\n",
    "\n",
    "sum_ct <- nrow(any_in) - ungroup(any_in) %>%\n",
    "    select(-Feature) %>%\n",
    "    is.na() %>%\n",
    "    data.frame() %>%\n",
    "    summarise_all(base::sum, na.rm=T)\n",
    "\n",
    "count_ct\n",
    "sum_ct\n",
    "\n",
    "count_ct * 100 / sum_ct"
   ]
  },
  {
   "cell_type": "code",
   "execution_count": null,
   "id": "20700ffe",
   "metadata": {
    "vscode": {
     "languageId": "r"
    }
   },
   "outputs": [],
   "source": []
  },
  {
   "cell_type": "code",
   "execution_count": null,
   "id": "6a5cc1d8",
   "metadata": {
    "vscode": {
     "languageId": "r"
    }
   },
   "outputs": [],
   "source": []
  },
  {
   "cell_type": "code",
   "execution_count": null,
   "id": "24efa23d",
   "metadata": {
    "vscode": {
     "languageId": "r"
    }
   },
   "outputs": [],
   "source": []
  },
  {
   "cell_type": "code",
   "execution_count": 61,
   "id": "e0fbc639",
   "metadata": {
    "vscode": {
     "languageId": "r"
    }
   },
   "outputs": [
    {
     "name": "stderr",
     "output_type": "stream",
     "text": [
      "\u001b[1mRows: \u001b[22m\u001b[34m773267\u001b[39m \u001b[1mColumns: \u001b[22m\u001b[34m34\u001b[39m\n",
      "\u001b[36m──\u001b[39m \u001b[1mColumn specification\u001b[22m \u001b[36m────────────────────────────────────────────────────────────────────────────────────────────────\u001b[39m\n",
      "\u001b[1mDelimiter:\u001b[22m \"\\t\"\n",
      "\u001b[31mchr\u001b[39m  (7): Feature, rsID, Chromosome, Ref, Alt, cell, feature_snp\n",
      "\u001b[32mdbl\u001b[39m (22): position, Af, HWEChi_square, IA, Log10_qval, Chi_square, Effect_si...\n",
      "\u001b[33mlgl\u001b[39m  (5): flag_fdr10, flag_fdr05, flag_fdr01, exclude, qtl\n",
      "\n",
      "\u001b[36mℹ\u001b[39m Use `spec()` to retrieve the full column specification for this data.\n",
      "\u001b[36mℹ\u001b[39m Specify the column types or set `show_col_types = FALSE` to quiet this message.\n"
     ]
    },
    {
     "data": {
      "text/html": [
       "<style>\n",
       ".list-inline {list-style: none; margin:0; padding: 0}\n",
       ".list-inline>li {display: inline-block}\n",
       ".list-inline>li:not(:last-child)::after {content: \"\\00b7\"; padding: 0 .5ex}\n",
       "</style>\n",
       "<ol class=list-inline><li>773267</li><li>34</li></ol>\n"
      ],
      "text/latex": [
       "\\begin{enumerate*}\n",
       "\\item 773267\n",
       "\\item 34\n",
       "\\end{enumerate*}\n"
      ],
      "text/markdown": [
       "1. 773267\n",
       "2. 34\n",
       "\n",
       "\n"
      ],
      "text/plain": [
       "[1] 773267     34"
      ]
     },
     "metadata": {},
     "output_type": "display_data"
    },
    {
     "data": {
      "text/html": [
       "<table class=\"dataframe\">\n",
       "<caption>A spec_tbl_df: 6 × 34</caption>\n",
       "<thead>\n",
       "\t<tr><th scope=col>Feature</th><th scope=col>rsID</th><th scope=col>Chromosome</th><th scope=col>position</th><th scope=col>Ref</th><th scope=col>Alt</th><th scope=col>Af</th><th scope=col>HWEChi_square</th><th scope=col>IA</th><th scope=col>Log10_qval</th><th scope=col>⋯</th><th scope=col>r2_rSNP</th><th scope=col>P_VAl</th><th scope=col>dist</th><th scope=col>flag_fdr10</th><th scope=col>flag_fdr05</th><th scope=col>flag_fdr01</th><th scope=col>cell</th><th scope=col>exclude</th><th scope=col>qtl</th><th scope=col>feature_snp</th></tr>\n",
       "\t<tr><th scope=col>&lt;chr&gt;</th><th scope=col>&lt;chr&gt;</th><th scope=col>&lt;chr&gt;</th><th scope=col>&lt;dbl&gt;</th><th scope=col>&lt;chr&gt;</th><th scope=col>&lt;chr&gt;</th><th scope=col>&lt;dbl&gt;</th><th scope=col>&lt;dbl&gt;</th><th scope=col>&lt;dbl&gt;</th><th scope=col>&lt;dbl&gt;</th><th scope=col>⋯</th><th scope=col>&lt;dbl&gt;</th><th scope=col>&lt;dbl&gt;</th><th scope=col>&lt;dbl&gt;</th><th scope=col>&lt;lgl&gt;</th><th scope=col>&lt;lgl&gt;</th><th scope=col>&lt;lgl&gt;</th><th scope=col>&lt;chr&gt;</th><th scope=col>&lt;lgl&gt;</th><th scope=col>&lt;lgl&gt;</th><th scope=col>&lt;chr&gt;</th></tr>\n",
       "</thead>\n",
       "<tbody>\n",
       "\t<tr><td>chr6:32622377-32623439 </td><td>chr6:32620608:T:A </td><td>chr6 </td><td>32620608</td><td>T</td><td>A</td><td>0.425926</td><td>2.231991</td><td>0.998678</td><td>-67.03611</td><td>⋯</td><td>0.824496</td><td>8.976233e-71</td><td>-2300</td><td>TRUE</td><td>TRUE</td><td>TRUE</td><td>acinar</td><td>FALSE</td><td>TRUE</td><td>chr6:32622377-32623439_chr6:32620608:T:A  </td></tr>\n",
       "\t<tr><td>chr9:6931452-6932441   </td><td>chr9:6929401:T:A  </td><td>chr9 </td><td> 6929401</td><td>T</td><td>A</td><td>0.333333</td><td>0.750000</td><td>0.993936</td><td>-36.60879</td><td>⋯</td><td>0.985795</td><td>1.925609e-38</td><td>-2545</td><td>TRUE</td><td>TRUE</td><td>TRUE</td><td>acinar</td><td>FALSE</td><td>TRUE</td><td>chr9:6931452-6932441_chr9:6929401:T:A     </td></tr>\n",
       "\t<tr><td>chr4:7164816-7165698   </td><td>chr4:7160692:T:C  </td><td>chr4 </td><td> 7160692</td><td>T</td><td>C</td><td>0.277778</td><td>0.006391</td><td>0.999935</td><td>-32.46831</td><td>⋯</td><td>0.902371</td><td>1.502522e-34</td><td>-4565</td><td>TRUE</td><td>TRUE</td><td>TRUE</td><td>acinar</td><td>FALSE</td><td>TRUE</td><td>chr4:7164816-7165698_chr4:7160692:T:C     </td></tr>\n",
       "\t<tr><td>chr9:93230239-93231938 </td><td>chr9:93231475:G:A </td><td>chr9 </td><td>93231475</td><td>G</td><td>A</td><td>0.222222</td><td>0.137755</td><td>0.999392</td><td>-30.83427</td><td>⋯</td><td>0.992117</td><td>3.105136e-32</td><td>  387</td><td>TRUE</td><td>TRUE</td><td>TRUE</td><td>acinar</td><td>FALSE</td><td>TRUE</td><td>chr9:93230239-93231938_chr9:93231475:G:A  </td></tr>\n",
       "\t<tr><td>chr17:76968760-76970675</td><td>chr17:76972946:C:A</td><td>chr17</td><td>76972946</td><td>C</td><td>A</td><td>0.296296</td><td>0.337734</td><td>0.980182</td><td>-29.73370</td><td>⋯</td><td>0.940828</td><td>4.969777e-32</td><td> 3228</td><td>TRUE</td><td>TRUE</td><td>TRUE</td><td>acinar</td><td>FALSE</td><td>TRUE</td><td>chr17:76968760-76970675_chr17:76972946:C:A</td></tr>\n",
       "\t<tr><td>chr21:13979625-13980808</td><td>chr21:13980560:G:C</td><td>chr21</td><td>13980560</td><td>G</td><td>C</td><td>0.314815</td><td>0.083599</td><td>0.930667</td><td>-27.70426</td><td>⋯</td><td>0.870565</td><td>7.793799e-30</td><td>  344</td><td>TRUE</td><td>TRUE</td><td>TRUE</td><td>acinar</td><td>FALSE</td><td>TRUE</td><td>chr21:13979625-13980808_chr21:13980560:G:C</td></tr>\n",
       "</tbody>\n",
       "</table>\n"
      ],
      "text/latex": [
       "A spec\\_tbl\\_df: 6 × 34\n",
       "\\begin{tabular}{lllllllllllllllllllll}\n",
       " Feature & rsID & Chromosome & position & Ref & Alt & Af & HWEChi\\_square & IA & Log10\\_qval & ⋯ & r2\\_rSNP & P\\_VAl & dist & flag\\_fdr10 & flag\\_fdr05 & flag\\_fdr01 & cell & exclude & qtl & feature\\_snp\\\\\n",
       " <chr> & <chr> & <chr> & <dbl> & <chr> & <chr> & <dbl> & <dbl> & <dbl> & <dbl> & ⋯ & <dbl> & <dbl> & <dbl> & <lgl> & <lgl> & <lgl> & <chr> & <lgl> & <lgl> & <chr>\\\\\n",
       "\\hline\n",
       "\t chr6:32622377-32623439  & chr6:32620608:T:A  & chr6  & 32620608 & T & A & 0.425926 & 2.231991 & 0.998678 & -67.03611 & ⋯ & 0.824496 & 8.976233e-71 & -2300 & TRUE & TRUE & TRUE & acinar & FALSE & TRUE & chr6:32622377-32623439\\_chr6:32620608:T:A  \\\\\n",
       "\t chr9:6931452-6932441    & chr9:6929401:T:A   & chr9  &  6929401 & T & A & 0.333333 & 0.750000 & 0.993936 & -36.60879 & ⋯ & 0.985795 & 1.925609e-38 & -2545 & TRUE & TRUE & TRUE & acinar & FALSE & TRUE & chr9:6931452-6932441\\_chr9:6929401:T:A     \\\\\n",
       "\t chr4:7164816-7165698    & chr4:7160692:T:C   & chr4  &  7160692 & T & C & 0.277778 & 0.006391 & 0.999935 & -32.46831 & ⋯ & 0.902371 & 1.502522e-34 & -4565 & TRUE & TRUE & TRUE & acinar & FALSE & TRUE & chr4:7164816-7165698\\_chr4:7160692:T:C     \\\\\n",
       "\t chr9:93230239-93231938  & chr9:93231475:G:A  & chr9  & 93231475 & G & A & 0.222222 & 0.137755 & 0.999392 & -30.83427 & ⋯ & 0.992117 & 3.105136e-32 &   387 & TRUE & TRUE & TRUE & acinar & FALSE & TRUE & chr9:93230239-93231938\\_chr9:93231475:G:A  \\\\\n",
       "\t chr17:76968760-76970675 & chr17:76972946:C:A & chr17 & 76972946 & C & A & 0.296296 & 0.337734 & 0.980182 & -29.73370 & ⋯ & 0.940828 & 4.969777e-32 &  3228 & TRUE & TRUE & TRUE & acinar & FALSE & TRUE & chr17:76968760-76970675\\_chr17:76972946:C:A\\\\\n",
       "\t chr21:13979625-13980808 & chr21:13980560:G:C & chr21 & 13980560 & G & C & 0.314815 & 0.083599 & 0.930667 & -27.70426 & ⋯ & 0.870565 & 7.793799e-30 &   344 & TRUE & TRUE & TRUE & acinar & FALSE & TRUE & chr21:13979625-13980808\\_chr21:13980560:G:C\\\\\n",
       "\\end{tabular}\n"
      ],
      "text/markdown": [
       "\n",
       "A spec_tbl_df: 6 × 34\n",
       "\n",
       "| Feature &lt;chr&gt; | rsID &lt;chr&gt; | Chromosome &lt;chr&gt; | position &lt;dbl&gt; | Ref &lt;chr&gt; | Alt &lt;chr&gt; | Af &lt;dbl&gt; | HWEChi_square &lt;dbl&gt; | IA &lt;dbl&gt; | Log10_qval &lt;dbl&gt; | ⋯ ⋯ | r2_rSNP &lt;dbl&gt; | P_VAl &lt;dbl&gt; | dist &lt;dbl&gt; | flag_fdr10 &lt;lgl&gt; | flag_fdr05 &lt;lgl&gt; | flag_fdr01 &lt;lgl&gt; | cell &lt;chr&gt; | exclude &lt;lgl&gt; | qtl &lt;lgl&gt; | feature_snp &lt;chr&gt; |\n",
       "|---|---|---|---|---|---|---|---|---|---|---|---|---|---|---|---|---|---|---|---|---|\n",
       "| chr6:32622377-32623439  | chr6:32620608:T:A  | chr6  | 32620608 | T | A | 0.425926 | 2.231991 | 0.998678 | -67.03611 | ⋯ | 0.824496 | 8.976233e-71 | -2300 | TRUE | TRUE | TRUE | acinar | FALSE | TRUE | chr6:32622377-32623439_chr6:32620608:T:A   |\n",
       "| chr9:6931452-6932441    | chr9:6929401:T:A   | chr9  |  6929401 | T | A | 0.333333 | 0.750000 | 0.993936 | -36.60879 | ⋯ | 0.985795 | 1.925609e-38 | -2545 | TRUE | TRUE | TRUE | acinar | FALSE | TRUE | chr9:6931452-6932441_chr9:6929401:T:A      |\n",
       "| chr4:7164816-7165698    | chr4:7160692:T:C   | chr4  |  7160692 | T | C | 0.277778 | 0.006391 | 0.999935 | -32.46831 | ⋯ | 0.902371 | 1.502522e-34 | -4565 | TRUE | TRUE | TRUE | acinar | FALSE | TRUE | chr4:7164816-7165698_chr4:7160692:T:C      |\n",
       "| chr9:93230239-93231938  | chr9:93231475:G:A  | chr9  | 93231475 | G | A | 0.222222 | 0.137755 | 0.999392 | -30.83427 | ⋯ | 0.992117 | 3.105136e-32 |   387 | TRUE | TRUE | TRUE | acinar | FALSE | TRUE | chr9:93230239-93231938_chr9:93231475:G:A   |\n",
       "| chr17:76968760-76970675 | chr17:76972946:C:A | chr17 | 76972946 | C | A | 0.296296 | 0.337734 | 0.980182 | -29.73370 | ⋯ | 0.940828 | 4.969777e-32 |  3228 | TRUE | TRUE | TRUE | acinar | FALSE | TRUE | chr17:76968760-76970675_chr17:76972946:C:A |\n",
       "| chr21:13979625-13980808 | chr21:13980560:G:C | chr21 | 13980560 | G | C | 0.314815 | 0.083599 | 0.930667 | -27.70426 | ⋯ | 0.870565 | 7.793799e-30 |   344 | TRUE | TRUE | TRUE | acinar | FALSE | TRUE | chr21:13979625-13980808_chr21:13980560:G:C |\n",
       "\n"
      ],
      "text/plain": [
       "  Feature                 rsID               Chromosome position Ref Alt\n",
       "1 chr6:32622377-32623439  chr6:32620608:T:A  chr6       32620608 T   A  \n",
       "2 chr9:6931452-6932441    chr9:6929401:T:A   chr9        6929401 T   A  \n",
       "3 chr4:7164816-7165698    chr4:7160692:T:C   chr4        7160692 T   C  \n",
       "4 chr9:93230239-93231938  chr9:93231475:G:A  chr9       93231475 G   A  \n",
       "5 chr17:76968760-76970675 chr17:76972946:C:A chr17      76972946 C   A  \n",
       "6 chr21:13979625-13980808 chr21:13980560:G:C chr21      13980560 G   C  \n",
       "  Af       HWEChi_square IA       Log10_qval ⋯ r2_rSNP  P_VAl        dist \n",
       "1 0.425926 2.231991      0.998678 -67.03611  ⋯ 0.824496 8.976233e-71 -2300\n",
       "2 0.333333 0.750000      0.993936 -36.60879  ⋯ 0.985795 1.925609e-38 -2545\n",
       "3 0.277778 0.006391      0.999935 -32.46831  ⋯ 0.902371 1.502522e-34 -4565\n",
       "4 0.222222 0.137755      0.999392 -30.83427  ⋯ 0.992117 3.105136e-32   387\n",
       "5 0.296296 0.337734      0.980182 -29.73370  ⋯ 0.940828 4.969777e-32  3228\n",
       "6 0.314815 0.083599      0.930667 -27.70426  ⋯ 0.870565 7.793799e-30   344\n",
       "  flag_fdr10 flag_fdr05 flag_fdr01 cell   exclude qtl \n",
       "1 TRUE       TRUE       TRUE       acinar FALSE   TRUE\n",
       "2 TRUE       TRUE       TRUE       acinar FALSE   TRUE\n",
       "3 TRUE       TRUE       TRUE       acinar FALSE   TRUE\n",
       "4 TRUE       TRUE       TRUE       acinar FALSE   TRUE\n",
       "5 TRUE       TRUE       TRUE       acinar FALSE   TRUE\n",
       "6 TRUE       TRUE       TRUE       acinar FALSE   TRUE\n",
       "  feature_snp                               \n",
       "1 chr6:32622377-32623439_chr6:32620608:T:A  \n",
       "2 chr9:6931452-6932441_chr9:6929401:T:A     \n",
       "3 chr4:7164816-7165698_chr4:7160692:T:C     \n",
       "4 chr9:93230239-93231938_chr9:93231475:G:A  \n",
       "5 chr17:76968760-76970675_chr17:76972946:C:A\n",
       "6 chr21:13979625-13980808_chr21:13980560:G:C"
      ]
     },
     "metadata": {},
     "output_type": "display_data"
    }
   ],
   "source": [
    "leads = vroom('/path/to/caQTL/stuff/caQTLs_rasqual/Summary_allCells_leads_run1F.tsv')\n",
    "\n",
    "dim(leads)\n",
    "head(leads)"
   ]
  },
  {
   "cell_type": "code",
   "execution_count": 125,
   "id": "336b757a",
   "metadata": {
    "scrolled": true,
    "vscode": {
     "languageId": "r"
    }
   },
   "outputs": [
    {
     "data": {
      "text/html": [
       "<style>\n",
       ".list-inline {list-style: none; margin:0; padding: 0}\n",
       ".list-inline>li {display: inline-block}\n",
       ".list-inline>li:not(:last-child)::after {content: \"\\00b7\"; padding: 0 .5ex}\n",
       "</style>\n",
       "<ol class=list-inline><li>13962</li><li>34</li></ol>\n"
      ],
      "text/latex": [
       "\\begin{enumerate*}\n",
       "\\item 13962\n",
       "\\item 34\n",
       "\\end{enumerate*}\n"
      ],
      "text/markdown": [
       "1. 13962\n",
       "2. 34\n",
       "\n",
       "\n"
      ],
      "text/plain": [
       "[1] 13962    34"
      ]
     },
     "metadata": {},
     "output_type": "display_data"
    },
    {
     "data": {
      "text/html": [
       "<table class=\"dataframe\">\n",
       "<caption>A spec_tbl_df: 6 × 34</caption>\n",
       "<thead>\n",
       "\t<tr><th scope=col>Feature</th><th scope=col>rsID</th><th scope=col>Chromosome</th><th scope=col>position</th><th scope=col>Ref</th><th scope=col>Alt</th><th scope=col>Af</th><th scope=col>HWEChi_square</th><th scope=col>IA</th><th scope=col>Log10_qval</th><th scope=col>⋯</th><th scope=col>r2_rSNP</th><th scope=col>P_VAl</th><th scope=col>dist</th><th scope=col>flag_fdr10</th><th scope=col>flag_fdr05</th><th scope=col>flag_fdr01</th><th scope=col>cell</th><th scope=col>exclude</th><th scope=col>qtl</th><th scope=col>feature_snp</th></tr>\n",
       "\t<tr><th scope=col>&lt;chr&gt;</th><th scope=col>&lt;chr&gt;</th><th scope=col>&lt;chr&gt;</th><th scope=col>&lt;dbl&gt;</th><th scope=col>&lt;chr&gt;</th><th scope=col>&lt;chr&gt;</th><th scope=col>&lt;dbl&gt;</th><th scope=col>&lt;dbl&gt;</th><th scope=col>&lt;dbl&gt;</th><th scope=col>&lt;dbl&gt;</th><th scope=col>⋯</th><th scope=col>&lt;dbl&gt;</th><th scope=col>&lt;dbl&gt;</th><th scope=col>&lt;dbl&gt;</th><th scope=col>&lt;lgl&gt;</th><th scope=col>&lt;lgl&gt;</th><th scope=col>&lt;lgl&gt;</th><th scope=col>&lt;chr&gt;</th><th scope=col>&lt;lgl&gt;</th><th scope=col>&lt;lgl&gt;</th><th scope=col>&lt;chr&gt;</th></tr>\n",
       "</thead>\n",
       "<tbody>\n",
       "\t<tr><td>chr6:32622377-32623439 </td><td>chr6:32620608:T:A </td><td>chr6 </td><td>32620608</td><td>T</td><td>A</td><td>0.425926</td><td>2.231991</td><td>0.998678</td><td>-67.03611</td><td>⋯</td><td>0.824496</td><td>8.976233e-71</td><td>-2300</td><td>TRUE</td><td>TRUE</td><td>TRUE</td><td>acinar</td><td>FALSE</td><td>TRUE</td><td>chr6:32622377-32623439_chr6:32620608:T:A  </td></tr>\n",
       "\t<tr><td>chr9:6931452-6932441   </td><td>chr9:6929401:T:A  </td><td>chr9 </td><td> 6929401</td><td>T</td><td>A</td><td>0.333333</td><td>0.750000</td><td>0.993936</td><td>-36.60879</td><td>⋯</td><td>0.985795</td><td>1.925609e-38</td><td>-2545</td><td>TRUE</td><td>TRUE</td><td>TRUE</td><td>acinar</td><td>FALSE</td><td>TRUE</td><td>chr9:6931452-6932441_chr9:6929401:T:A     </td></tr>\n",
       "\t<tr><td>chr4:7164816-7165698   </td><td>chr4:7160692:T:C  </td><td>chr4 </td><td> 7160692</td><td>T</td><td>C</td><td>0.277778</td><td>0.006391</td><td>0.999935</td><td>-32.46831</td><td>⋯</td><td>0.902371</td><td>1.502522e-34</td><td>-4565</td><td>TRUE</td><td>TRUE</td><td>TRUE</td><td>acinar</td><td>FALSE</td><td>TRUE</td><td>chr4:7164816-7165698_chr4:7160692:T:C     </td></tr>\n",
       "\t<tr><td>chr9:93230239-93231938 </td><td>chr9:93231475:G:A </td><td>chr9 </td><td>93231475</td><td>G</td><td>A</td><td>0.222222</td><td>0.137755</td><td>0.999392</td><td>-30.83427</td><td>⋯</td><td>0.992117</td><td>3.105136e-32</td><td>  387</td><td>TRUE</td><td>TRUE</td><td>TRUE</td><td>acinar</td><td>FALSE</td><td>TRUE</td><td>chr9:93230239-93231938_chr9:93231475:G:A  </td></tr>\n",
       "\t<tr><td>chr17:76968760-76970675</td><td>chr17:76972946:C:A</td><td>chr17</td><td>76972946</td><td>C</td><td>A</td><td>0.296296</td><td>0.337734</td><td>0.980182</td><td>-29.73370</td><td>⋯</td><td>0.940828</td><td>4.969777e-32</td><td> 3228</td><td>TRUE</td><td>TRUE</td><td>TRUE</td><td>acinar</td><td>FALSE</td><td>TRUE</td><td>chr17:76968760-76970675_chr17:76972946:C:A</td></tr>\n",
       "\t<tr><td>chr21:13979625-13980808</td><td>chr21:13980560:G:C</td><td>chr21</td><td>13980560</td><td>G</td><td>C</td><td>0.314815</td><td>0.083599</td><td>0.930667</td><td>-27.70426</td><td>⋯</td><td>0.870565</td><td>7.793799e-30</td><td>  344</td><td>TRUE</td><td>TRUE</td><td>TRUE</td><td>acinar</td><td>FALSE</td><td>TRUE</td><td>chr21:13979625-13980808_chr21:13980560:G:C</td></tr>\n",
       "</tbody>\n",
       "</table>\n"
      ],
      "text/latex": [
       "A spec\\_tbl\\_df: 6 × 34\n",
       "\\begin{tabular}{lllllllllllllllllllll}\n",
       " Feature & rsID & Chromosome & position & Ref & Alt & Af & HWEChi\\_square & IA & Log10\\_qval & ⋯ & r2\\_rSNP & P\\_VAl & dist & flag\\_fdr10 & flag\\_fdr05 & flag\\_fdr01 & cell & exclude & qtl & feature\\_snp\\\\\n",
       " <chr> & <chr> & <chr> & <dbl> & <chr> & <chr> & <dbl> & <dbl> & <dbl> & <dbl> & ⋯ & <dbl> & <dbl> & <dbl> & <lgl> & <lgl> & <lgl> & <chr> & <lgl> & <lgl> & <chr>\\\\\n",
       "\\hline\n",
       "\t chr6:32622377-32623439  & chr6:32620608:T:A  & chr6  & 32620608 & T & A & 0.425926 & 2.231991 & 0.998678 & -67.03611 & ⋯ & 0.824496 & 8.976233e-71 & -2300 & TRUE & TRUE & TRUE & acinar & FALSE & TRUE & chr6:32622377-32623439\\_chr6:32620608:T:A  \\\\\n",
       "\t chr9:6931452-6932441    & chr9:6929401:T:A   & chr9  &  6929401 & T & A & 0.333333 & 0.750000 & 0.993936 & -36.60879 & ⋯ & 0.985795 & 1.925609e-38 & -2545 & TRUE & TRUE & TRUE & acinar & FALSE & TRUE & chr9:6931452-6932441\\_chr9:6929401:T:A     \\\\\n",
       "\t chr4:7164816-7165698    & chr4:7160692:T:C   & chr4  &  7160692 & T & C & 0.277778 & 0.006391 & 0.999935 & -32.46831 & ⋯ & 0.902371 & 1.502522e-34 & -4565 & TRUE & TRUE & TRUE & acinar & FALSE & TRUE & chr4:7164816-7165698\\_chr4:7160692:T:C     \\\\\n",
       "\t chr9:93230239-93231938  & chr9:93231475:G:A  & chr9  & 93231475 & G & A & 0.222222 & 0.137755 & 0.999392 & -30.83427 & ⋯ & 0.992117 & 3.105136e-32 &   387 & TRUE & TRUE & TRUE & acinar & FALSE & TRUE & chr9:93230239-93231938\\_chr9:93231475:G:A  \\\\\n",
       "\t chr17:76968760-76970675 & chr17:76972946:C:A & chr17 & 76972946 & C & A & 0.296296 & 0.337734 & 0.980182 & -29.73370 & ⋯ & 0.940828 & 4.969777e-32 &  3228 & TRUE & TRUE & TRUE & acinar & FALSE & TRUE & chr17:76968760-76970675\\_chr17:76972946:C:A\\\\\n",
       "\t chr21:13979625-13980808 & chr21:13980560:G:C & chr21 & 13980560 & G & C & 0.314815 & 0.083599 & 0.930667 & -27.70426 & ⋯ & 0.870565 & 7.793799e-30 &   344 & TRUE & TRUE & TRUE & acinar & FALSE & TRUE & chr21:13979625-13980808\\_chr21:13980560:G:C\\\\\n",
       "\\end{tabular}\n"
      ],
      "text/markdown": [
       "\n",
       "A spec_tbl_df: 6 × 34\n",
       "\n",
       "| Feature &lt;chr&gt; | rsID &lt;chr&gt; | Chromosome &lt;chr&gt; | position &lt;dbl&gt; | Ref &lt;chr&gt; | Alt &lt;chr&gt; | Af &lt;dbl&gt; | HWEChi_square &lt;dbl&gt; | IA &lt;dbl&gt; | Log10_qval &lt;dbl&gt; | ⋯ ⋯ | r2_rSNP &lt;dbl&gt; | P_VAl &lt;dbl&gt; | dist &lt;dbl&gt; | flag_fdr10 &lt;lgl&gt; | flag_fdr05 &lt;lgl&gt; | flag_fdr01 &lt;lgl&gt; | cell &lt;chr&gt; | exclude &lt;lgl&gt; | qtl &lt;lgl&gt; | feature_snp &lt;chr&gt; |\n",
       "|---|---|---|---|---|---|---|---|---|---|---|---|---|---|---|---|---|---|---|---|---|\n",
       "| chr6:32622377-32623439  | chr6:32620608:T:A  | chr6  | 32620608 | T | A | 0.425926 | 2.231991 | 0.998678 | -67.03611 | ⋯ | 0.824496 | 8.976233e-71 | -2300 | TRUE | TRUE | TRUE | acinar | FALSE | TRUE | chr6:32622377-32623439_chr6:32620608:T:A   |\n",
       "| chr9:6931452-6932441    | chr9:6929401:T:A   | chr9  |  6929401 | T | A | 0.333333 | 0.750000 | 0.993936 | -36.60879 | ⋯ | 0.985795 | 1.925609e-38 | -2545 | TRUE | TRUE | TRUE | acinar | FALSE | TRUE | chr9:6931452-6932441_chr9:6929401:T:A      |\n",
       "| chr4:7164816-7165698    | chr4:7160692:T:C   | chr4  |  7160692 | T | C | 0.277778 | 0.006391 | 0.999935 | -32.46831 | ⋯ | 0.902371 | 1.502522e-34 | -4565 | TRUE | TRUE | TRUE | acinar | FALSE | TRUE | chr4:7164816-7165698_chr4:7160692:T:C      |\n",
       "| chr9:93230239-93231938  | chr9:93231475:G:A  | chr9  | 93231475 | G | A | 0.222222 | 0.137755 | 0.999392 | -30.83427 | ⋯ | 0.992117 | 3.105136e-32 |   387 | TRUE | TRUE | TRUE | acinar | FALSE | TRUE | chr9:93230239-93231938_chr9:93231475:G:A   |\n",
       "| chr17:76968760-76970675 | chr17:76972946:C:A | chr17 | 76972946 | C | A | 0.296296 | 0.337734 | 0.980182 | -29.73370 | ⋯ | 0.940828 | 4.969777e-32 |  3228 | TRUE | TRUE | TRUE | acinar | FALSE | TRUE | chr17:76968760-76970675_chr17:76972946:C:A |\n",
       "| chr21:13979625-13980808 | chr21:13980560:G:C | chr21 | 13980560 | G | C | 0.314815 | 0.083599 | 0.930667 | -27.70426 | ⋯ | 0.870565 | 7.793799e-30 |   344 | TRUE | TRUE | TRUE | acinar | FALSE | TRUE | chr21:13979625-13980808_chr21:13980560:G:C |\n",
       "\n"
      ],
      "text/plain": [
       "  Feature                 rsID               Chromosome position Ref Alt\n",
       "1 chr6:32622377-32623439  chr6:32620608:T:A  chr6       32620608 T   A  \n",
       "2 chr9:6931452-6932441    chr9:6929401:T:A   chr9        6929401 T   A  \n",
       "3 chr4:7164816-7165698    chr4:7160692:T:C   chr4        7160692 T   C  \n",
       "4 chr9:93230239-93231938  chr9:93231475:G:A  chr9       93231475 G   A  \n",
       "5 chr17:76968760-76970675 chr17:76972946:C:A chr17      76972946 C   A  \n",
       "6 chr21:13979625-13980808 chr21:13980560:G:C chr21      13980560 G   C  \n",
       "  Af       HWEChi_square IA       Log10_qval ⋯ r2_rSNP  P_VAl        dist \n",
       "1 0.425926 2.231991      0.998678 -67.03611  ⋯ 0.824496 8.976233e-71 -2300\n",
       "2 0.333333 0.750000      0.993936 -36.60879  ⋯ 0.985795 1.925609e-38 -2545\n",
       "3 0.277778 0.006391      0.999935 -32.46831  ⋯ 0.902371 1.502522e-34 -4565\n",
       "4 0.222222 0.137755      0.999392 -30.83427  ⋯ 0.992117 3.105136e-32   387\n",
       "5 0.296296 0.337734      0.980182 -29.73370  ⋯ 0.940828 4.969777e-32  3228\n",
       "6 0.314815 0.083599      0.930667 -27.70426  ⋯ 0.870565 7.793799e-30   344\n",
       "  flag_fdr10 flag_fdr05 flag_fdr01 cell   exclude qtl \n",
       "1 TRUE       TRUE       TRUE       acinar FALSE   TRUE\n",
       "2 TRUE       TRUE       TRUE       acinar FALSE   TRUE\n",
       "3 TRUE       TRUE       TRUE       acinar FALSE   TRUE\n",
       "4 TRUE       TRUE       TRUE       acinar FALSE   TRUE\n",
       "5 TRUE       TRUE       TRUE       acinar FALSE   TRUE\n",
       "6 TRUE       TRUE       TRUE       acinar FALSE   TRUE\n",
       "  feature_snp                               \n",
       "1 chr6:32622377-32623439_chr6:32620608:T:A  \n",
       "2 chr9:6931452-6932441_chr9:6929401:T:A     \n",
       "3 chr4:7164816-7165698_chr4:7160692:T:C     \n",
       "4 chr9:93230239-93231938_chr9:93231475:G:A  \n",
       "5 chr17:76968760-76970675_chr17:76972946:C:A\n",
       "6 chr21:13979625-13980808_chr21:13980560:G:C"
      ]
     },
     "metadata": {},
     "output_type": "display_data"
    }
   ],
   "source": [
    "sig_leads <- filter(leads, flag_fdr05) %>%\n",
    "       filter(cell %in% c('acinar','alpha','beta','delta','ductal','gamma'))\n",
    "\n",
    "dim(sig_leads)\n",
    "head(sig_leads)"
   ]
  },
  {
   "cell_type": "code",
   "execution_count": 126,
   "id": "f421fe94",
   "metadata": {
    "vscode": {
     "languageId": "r"
    }
   },
   "outputs": [
    {
     "data": {
      "text/html": [
       "<style>\n",
       ".list-inline {list-style: none; margin:0; padding: 0}\n",
       ".list-inline>li {display: inline-block}\n",
       ".list-inline>li:not(:last-child)::after {content: \"\\00b7\"; padding: 0 .5ex}\n",
       "</style>\n",
       "<ol class=list-inline><li>13962</li><li>37</li></ol>\n"
      ],
      "text/latex": [
       "\\begin{enumerate*}\n",
       "\\item 13962\n",
       "\\item 37\n",
       "\\end{enumerate*}\n"
      ],
      "text/markdown": [
       "1. 13962\n",
       "2. 37\n",
       "\n",
       "\n"
      ],
      "text/plain": [
       "[1] 13962    37"
      ]
     },
     "metadata": {},
     "output_type": "display_data"
    },
    {
     "data": {
      "text/html": [
       "<table class=\"dataframe\">\n",
       "<caption>A spec_tbl_df: 6 × 37</caption>\n",
       "<thead>\n",
       "\t<tr><th scope=col>Feature</th><th scope=col>rsID</th><th scope=col>Chromosome</th><th scope=col>position</th><th scope=col>Ref</th><th scope=col>Alt</th><th scope=col>Af</th><th scope=col>HWEChi_square</th><th scope=col>IA</th><th scope=col>Log10_qval</th><th scope=col>⋯</th><th scope=col>flag_fdr10</th><th scope=col>flag_fdr05</th><th scope=col>flag_fdr01</th><th scope=col>cell</th><th scope=col>exclude</th><th scope=col>qtl</th><th scope=col>feature_snp</th><th scope=col>start</th><th scope=col>end</th><th scope=col>is_in_peak</th></tr>\n",
       "\t<tr><th scope=col>&lt;chr&gt;</th><th scope=col>&lt;chr&gt;</th><th scope=col>&lt;chr&gt;</th><th scope=col>&lt;dbl&gt;</th><th scope=col>&lt;chr&gt;</th><th scope=col>&lt;chr&gt;</th><th scope=col>&lt;dbl&gt;</th><th scope=col>&lt;dbl&gt;</th><th scope=col>&lt;dbl&gt;</th><th scope=col>&lt;dbl&gt;</th><th scope=col>⋯</th><th scope=col>&lt;lgl&gt;</th><th scope=col>&lt;lgl&gt;</th><th scope=col>&lt;lgl&gt;</th><th scope=col>&lt;chr&gt;</th><th scope=col>&lt;lgl&gt;</th><th scope=col>&lt;lgl&gt;</th><th scope=col>&lt;chr&gt;</th><th scope=col>&lt;chr&gt;</th><th scope=col>&lt;chr&gt;</th><th scope=col>&lt;lgl&gt;</th></tr>\n",
       "</thead>\n",
       "<tbody>\n",
       "\t<tr><td>chr6:32622377-32623439 </td><td>chr6:32620608:T:A </td><td>chr6 </td><td>32620608</td><td>T</td><td>A</td><td>0.425926</td><td>2.231991</td><td>0.998678</td><td>-67.03611</td><td>⋯</td><td>TRUE</td><td>TRUE</td><td>TRUE</td><td>acinar</td><td>FALSE</td><td>TRUE</td><td>chr6:32622377-32623439_chr6:32620608:T:A  </td><td>32622377</td><td>32623439</td><td>FALSE</td></tr>\n",
       "\t<tr><td>chr9:6931452-6932441   </td><td>chr9:6929401:T:A  </td><td>chr9 </td><td> 6929401</td><td>T</td><td>A</td><td>0.333333</td><td>0.750000</td><td>0.993936</td><td>-36.60879</td><td>⋯</td><td>TRUE</td><td>TRUE</td><td>TRUE</td><td>acinar</td><td>FALSE</td><td>TRUE</td><td>chr9:6931452-6932441_chr9:6929401:T:A     </td><td>6931452 </td><td>6932441 </td><td>FALSE</td></tr>\n",
       "\t<tr><td>chr4:7164816-7165698   </td><td>chr4:7160692:T:C  </td><td>chr4 </td><td> 7160692</td><td>T</td><td>C</td><td>0.277778</td><td>0.006391</td><td>0.999935</td><td>-32.46831</td><td>⋯</td><td>TRUE</td><td>TRUE</td><td>TRUE</td><td>acinar</td><td>FALSE</td><td>TRUE</td><td>chr4:7164816-7165698_chr4:7160692:T:C     </td><td>7164816 </td><td>7165698 </td><td>FALSE</td></tr>\n",
       "\t<tr><td>chr9:93230239-93231938 </td><td>chr9:93231475:G:A </td><td>chr9 </td><td>93231475</td><td>G</td><td>A</td><td>0.222222</td><td>0.137755</td><td>0.999392</td><td>-30.83427</td><td>⋯</td><td>TRUE</td><td>TRUE</td><td>TRUE</td><td>acinar</td><td>FALSE</td><td>TRUE</td><td>chr9:93230239-93231938_chr9:93231475:G:A  </td><td>93230239</td><td>93231938</td><td> TRUE</td></tr>\n",
       "\t<tr><td>chr17:76968760-76970675</td><td>chr17:76972946:C:A</td><td>chr17</td><td>76972946</td><td>C</td><td>A</td><td>0.296296</td><td>0.337734</td><td>0.980182</td><td>-29.73370</td><td>⋯</td><td>TRUE</td><td>TRUE</td><td>TRUE</td><td>acinar</td><td>FALSE</td><td>TRUE</td><td>chr17:76968760-76970675_chr17:76972946:C:A</td><td>76968760</td><td>76970675</td><td>FALSE</td></tr>\n",
       "\t<tr><td>chr21:13979625-13980808</td><td>chr21:13980560:G:C</td><td>chr21</td><td>13980560</td><td>G</td><td>C</td><td>0.314815</td><td>0.083599</td><td>0.930667</td><td>-27.70426</td><td>⋯</td><td>TRUE</td><td>TRUE</td><td>TRUE</td><td>acinar</td><td>FALSE</td><td>TRUE</td><td>chr21:13979625-13980808_chr21:13980560:G:C</td><td>13979625</td><td>13980808</td><td> TRUE</td></tr>\n",
       "</tbody>\n",
       "</table>\n"
      ],
      "text/latex": [
       "A spec\\_tbl\\_df: 6 × 37\n",
       "\\begin{tabular}{lllllllllllllllllllll}\n",
       " Feature & rsID & Chromosome & position & Ref & Alt & Af & HWEChi\\_square & IA & Log10\\_qval & ⋯ & flag\\_fdr10 & flag\\_fdr05 & flag\\_fdr01 & cell & exclude & qtl & feature\\_snp & start & end & is\\_in\\_peak\\\\\n",
       " <chr> & <chr> & <chr> & <dbl> & <chr> & <chr> & <dbl> & <dbl> & <dbl> & <dbl> & ⋯ & <lgl> & <lgl> & <lgl> & <chr> & <lgl> & <lgl> & <chr> & <chr> & <chr> & <lgl>\\\\\n",
       "\\hline\n",
       "\t chr6:32622377-32623439  & chr6:32620608:T:A  & chr6  & 32620608 & T & A & 0.425926 & 2.231991 & 0.998678 & -67.03611 & ⋯ & TRUE & TRUE & TRUE & acinar & FALSE & TRUE & chr6:32622377-32623439\\_chr6:32620608:T:A   & 32622377 & 32623439 & FALSE\\\\\n",
       "\t chr9:6931452-6932441    & chr9:6929401:T:A   & chr9  &  6929401 & T & A & 0.333333 & 0.750000 & 0.993936 & -36.60879 & ⋯ & TRUE & TRUE & TRUE & acinar & FALSE & TRUE & chr9:6931452-6932441\\_chr9:6929401:T:A      & 6931452  & 6932441  & FALSE\\\\\n",
       "\t chr4:7164816-7165698    & chr4:7160692:T:C   & chr4  &  7160692 & T & C & 0.277778 & 0.006391 & 0.999935 & -32.46831 & ⋯ & TRUE & TRUE & TRUE & acinar & FALSE & TRUE & chr4:7164816-7165698\\_chr4:7160692:T:C      & 7164816  & 7165698  & FALSE\\\\\n",
       "\t chr9:93230239-93231938  & chr9:93231475:G:A  & chr9  & 93231475 & G & A & 0.222222 & 0.137755 & 0.999392 & -30.83427 & ⋯ & TRUE & TRUE & TRUE & acinar & FALSE & TRUE & chr9:93230239-93231938\\_chr9:93231475:G:A   & 93230239 & 93231938 &  TRUE\\\\\n",
       "\t chr17:76968760-76970675 & chr17:76972946:C:A & chr17 & 76972946 & C & A & 0.296296 & 0.337734 & 0.980182 & -29.73370 & ⋯ & TRUE & TRUE & TRUE & acinar & FALSE & TRUE & chr17:76968760-76970675\\_chr17:76972946:C:A & 76968760 & 76970675 & FALSE\\\\\n",
       "\t chr21:13979625-13980808 & chr21:13980560:G:C & chr21 & 13980560 & G & C & 0.314815 & 0.083599 & 0.930667 & -27.70426 & ⋯ & TRUE & TRUE & TRUE & acinar & FALSE & TRUE & chr21:13979625-13980808\\_chr21:13980560:G:C & 13979625 & 13980808 &  TRUE\\\\\n",
       "\\end{tabular}\n"
      ],
      "text/markdown": [
       "\n",
       "A spec_tbl_df: 6 × 37\n",
       "\n",
       "| Feature &lt;chr&gt; | rsID &lt;chr&gt; | Chromosome &lt;chr&gt; | position &lt;dbl&gt; | Ref &lt;chr&gt; | Alt &lt;chr&gt; | Af &lt;dbl&gt; | HWEChi_square &lt;dbl&gt; | IA &lt;dbl&gt; | Log10_qval &lt;dbl&gt; | ⋯ ⋯ | flag_fdr10 &lt;lgl&gt; | flag_fdr05 &lt;lgl&gt; | flag_fdr01 &lt;lgl&gt; | cell &lt;chr&gt; | exclude &lt;lgl&gt; | qtl &lt;lgl&gt; | feature_snp &lt;chr&gt; | start &lt;chr&gt; | end &lt;chr&gt; | is_in_peak &lt;lgl&gt; |\n",
       "|---|---|---|---|---|---|---|---|---|---|---|---|---|---|---|---|---|---|---|---|---|\n",
       "| chr6:32622377-32623439  | chr6:32620608:T:A  | chr6  | 32620608 | T | A | 0.425926 | 2.231991 | 0.998678 | -67.03611 | ⋯ | TRUE | TRUE | TRUE | acinar | FALSE | TRUE | chr6:32622377-32623439_chr6:32620608:T:A   | 32622377 | 32623439 | FALSE |\n",
       "| chr9:6931452-6932441    | chr9:6929401:T:A   | chr9  |  6929401 | T | A | 0.333333 | 0.750000 | 0.993936 | -36.60879 | ⋯ | TRUE | TRUE | TRUE | acinar | FALSE | TRUE | chr9:6931452-6932441_chr9:6929401:T:A      | 6931452  | 6932441  | FALSE |\n",
       "| chr4:7164816-7165698    | chr4:7160692:T:C   | chr4  |  7160692 | T | C | 0.277778 | 0.006391 | 0.999935 | -32.46831 | ⋯ | TRUE | TRUE | TRUE | acinar | FALSE | TRUE | chr4:7164816-7165698_chr4:7160692:T:C      | 7164816  | 7165698  | FALSE |\n",
       "| chr9:93230239-93231938  | chr9:93231475:G:A  | chr9  | 93231475 | G | A | 0.222222 | 0.137755 | 0.999392 | -30.83427 | ⋯ | TRUE | TRUE | TRUE | acinar | FALSE | TRUE | chr9:93230239-93231938_chr9:93231475:G:A   | 93230239 | 93231938 |  TRUE |\n",
       "| chr17:76968760-76970675 | chr17:76972946:C:A | chr17 | 76972946 | C | A | 0.296296 | 0.337734 | 0.980182 | -29.73370 | ⋯ | TRUE | TRUE | TRUE | acinar | FALSE | TRUE | chr17:76968760-76970675_chr17:76972946:C:A | 76968760 | 76970675 | FALSE |\n",
       "| chr21:13979625-13980808 | chr21:13980560:G:C | chr21 | 13980560 | G | C | 0.314815 | 0.083599 | 0.930667 | -27.70426 | ⋯ | TRUE | TRUE | TRUE | acinar | FALSE | TRUE | chr21:13979625-13980808_chr21:13980560:G:C | 13979625 | 13980808 |  TRUE |\n",
       "\n"
      ],
      "text/plain": [
       "  Feature                 rsID               Chromosome position Ref Alt\n",
       "1 chr6:32622377-32623439  chr6:32620608:T:A  chr6       32620608 T   A  \n",
       "2 chr9:6931452-6932441    chr9:6929401:T:A   chr9        6929401 T   A  \n",
       "3 chr4:7164816-7165698    chr4:7160692:T:C   chr4        7160692 T   C  \n",
       "4 chr9:93230239-93231938  chr9:93231475:G:A  chr9       93231475 G   A  \n",
       "5 chr17:76968760-76970675 chr17:76972946:C:A chr17      76972946 C   A  \n",
       "6 chr21:13979625-13980808 chr21:13980560:G:C chr21      13980560 G   C  \n",
       "  Af       HWEChi_square IA       Log10_qval ⋯ flag_fdr10 flag_fdr05 flag_fdr01\n",
       "1 0.425926 2.231991      0.998678 -67.03611  ⋯ TRUE       TRUE       TRUE      \n",
       "2 0.333333 0.750000      0.993936 -36.60879  ⋯ TRUE       TRUE       TRUE      \n",
       "3 0.277778 0.006391      0.999935 -32.46831  ⋯ TRUE       TRUE       TRUE      \n",
       "4 0.222222 0.137755      0.999392 -30.83427  ⋯ TRUE       TRUE       TRUE      \n",
       "5 0.296296 0.337734      0.980182 -29.73370  ⋯ TRUE       TRUE       TRUE      \n",
       "6 0.314815 0.083599      0.930667 -27.70426  ⋯ TRUE       TRUE       TRUE      \n",
       "  cell   exclude qtl  feature_snp                                start   \n",
       "1 acinar FALSE   TRUE chr6:32622377-32623439_chr6:32620608:T:A   32622377\n",
       "2 acinar FALSE   TRUE chr9:6931452-6932441_chr9:6929401:T:A      6931452 \n",
       "3 acinar FALSE   TRUE chr4:7164816-7165698_chr4:7160692:T:C      7164816 \n",
       "4 acinar FALSE   TRUE chr9:93230239-93231938_chr9:93231475:G:A   93230239\n",
       "5 acinar FALSE   TRUE chr17:76968760-76970675_chr17:76972946:C:A 76968760\n",
       "6 acinar FALSE   TRUE chr21:13979625-13980808_chr21:13980560:G:C 13979625\n",
       "  end      is_in_peak\n",
       "1 32623439 FALSE     \n",
       "2 6932441  FALSE     \n",
       "3 7165698  FALSE     \n",
       "4 93231938  TRUE     \n",
       "5 76970675 FALSE     \n",
       "6 13980808  TRUE     "
      ]
     },
     "metadata": {},
     "output_type": "display_data"
    }
   ],
   "source": [
    "sig_leads$start <- str_split(str_split(sig_leads$Feature, \":\", simplify=T)[,2], \"-\", simplify=T)[,1]\n",
    "sig_leads$end <- str_split(str_split(sig_leads$Feature, \":\", simplify=T)[,2], \"-\", simplify=T)[,2]\n",
    "sig_leads$is_in_peak <- (sig_leads$start < sig_leads$position) & (sig_leads$end > sig_leads$position)\n",
    "\n",
    "dim(sig_leads)\n",
    "head(sig_leads)"
   ]
  },
  {
   "cell_type": "code",
   "execution_count": 128,
   "id": "0feec820",
   "metadata": {
    "vscode": {
     "languageId": "r"
    }
   },
   "outputs": [
    {
     "data": {
      "text/plain": [
       "\n",
       "FALSE  TRUE \n",
       " 8116  5846 "
      ]
     },
     "metadata": {},
     "output_type": "display_data"
    },
    {
     "data": {
      "text/html": [
       "<strong>TRUE:</strong> 41.8707921501218"
      ],
      "text/latex": [
       "\\textbf{TRUE:} 41.8707921501218"
      ],
      "text/markdown": [
       "**TRUE:** 41.8707921501218"
      ],
      "text/plain": [
       "    TRUE \n",
       "41.87079 "
      ]
     },
     "metadata": {},
     "output_type": "display_data"
    }
   ],
   "source": [
    "table(sig_leads$is_in_peak)\n",
    "table(sig_leads$is_in_peak)[2] * 100 / nrow(sig_leads)"
   ]
  },
  {
   "cell_type": "code",
   "execution_count": 129,
   "id": "cd1acd24",
   "metadata": {
    "vscode": {
     "languageId": "r"
    }
   },
   "outputs": [
    {
     "data": {
      "text/html": [
       "<style>\n",
       ".list-inline {list-style: none; margin:0; padding: 0}\n",
       ".list-inline>li {display: inline-block}\n",
       ".list-inline>li:not(:last-child)::after {content: \"\\00b7\"; padding: 0 .5ex}\n",
       "</style>\n",
       "<ol class=list-inline><li>9567</li><li>2</li></ol>\n"
      ],
      "text/latex": [
       "\\begin{enumerate*}\n",
       "\\item 9567\n",
       "\\item 2\n",
       "\\end{enumerate*}\n"
      ],
      "text/markdown": [
       "1. 9567\n",
       "2. 2\n",
       "\n",
       "\n"
      ],
      "text/plain": [
       "[1] 9567    2"
      ]
     },
     "metadata": {},
     "output_type": "display_data"
    },
    {
     "data": {
      "text/html": [
       "<table class=\"dataframe\">\n",
       "<caption>A tibble: 6 × 2</caption>\n",
       "<thead>\n",
       "\t<tr><th scope=col>Feature</th><th scope=col>is_in_peak</th></tr>\n",
       "\t<tr><th scope=col>&lt;chr&gt;</th><th scope=col>&lt;lgl&gt;</th></tr>\n",
       "</thead>\n",
       "<tbody>\n",
       "\t<tr><td>chr10:100101427-100102098</td><td>FALSE</td></tr>\n",
       "\t<tr><td>chr10:100346335-100347694</td><td>FALSE</td></tr>\n",
       "\t<tr><td>chr10:100561831-100563289</td><td> TRUE</td></tr>\n",
       "\t<tr><td>chr10:100655787-100656966</td><td>FALSE</td></tr>\n",
       "\t<tr><td>chr10:101118690-101118974</td><td>FALSE</td></tr>\n",
       "\t<tr><td>chr10:101330473-101331645</td><td>FALSE</td></tr>\n",
       "</tbody>\n",
       "</table>\n"
      ],
      "text/latex": [
       "A tibble: 6 × 2\n",
       "\\begin{tabular}{ll}\n",
       " Feature & is\\_in\\_peak\\\\\n",
       " <chr> & <lgl>\\\\\n",
       "\\hline\n",
       "\t chr10:100101427-100102098 & FALSE\\\\\n",
       "\t chr10:100346335-100347694 & FALSE\\\\\n",
       "\t chr10:100561831-100563289 &  TRUE\\\\\n",
       "\t chr10:100655787-100656966 & FALSE\\\\\n",
       "\t chr10:101118690-101118974 & FALSE\\\\\n",
       "\t chr10:101330473-101331645 & FALSE\\\\\n",
       "\\end{tabular}\n"
      ],
      "text/markdown": [
       "\n",
       "A tibble: 6 × 2\n",
       "\n",
       "| Feature &lt;chr&gt; | is_in_peak &lt;lgl&gt; |\n",
       "|---|---|\n",
       "| chr10:100101427-100102098 | FALSE |\n",
       "| chr10:100346335-100347694 | FALSE |\n",
       "| chr10:100561831-100563289 |  TRUE |\n",
       "| chr10:100655787-100656966 | FALSE |\n",
       "| chr10:101118690-101118974 | FALSE |\n",
       "| chr10:101330473-101331645 | FALSE |\n",
       "\n"
      ],
      "text/plain": [
       "  Feature                   is_in_peak\n",
       "1 chr10:100101427-100102098 FALSE     \n",
       "2 chr10:100346335-100347694 FALSE     \n",
       "3 chr10:100561831-100563289  TRUE     \n",
       "4 chr10:100655787-100656966 FALSE     \n",
       "5 chr10:101118690-101118974 FALSE     \n",
       "6 chr10:101330473-101331645 FALSE     "
      ]
     },
     "metadata": {},
     "output_type": "display_data"
    },
    {
     "data": {
      "text/html": [
       "4504"
      ],
      "text/latex": [
       "4504"
      ],
      "text/markdown": [
       "4504"
      ],
      "text/plain": [
       "[1] 4504"
      ]
     },
     "metadata": {},
     "output_type": "display_data"
    },
    {
     "data": {
      "text/html": [
       "47.0784990070032"
      ],
      "text/latex": [
       "47.0784990070032"
      ],
      "text/markdown": [
       "47.0784990070032"
      ],
      "text/plain": [
       "[1] 47.0785"
      ]
     },
     "metadata": {},
     "output_type": "display_data"
    }
   ],
   "source": [
    "any_in_leads <- group_by(sig_leads, Feature) %>%\n",
    "    summarise(is_in_peak=any(is_in_peak))\n",
    "\n",
    "dim(any_in_leads)\n",
    "head(any_in_leads)\n",
    "sum(any_in_leads$is_in_peak)\n",
    "\n",
    "sum(any_in_leads$is_in_peak) * 100 / nrow(any_in_leads)"
   ]
  },
  {
   "cell_type": "code",
   "execution_count": 131,
   "id": "1e80366f",
   "metadata": {
    "scrolled": true,
    "vscode": {
     "languageId": "r"
    }
   },
   "outputs": [
    {
     "name": "stderr",
     "output_type": "stream",
     "text": [
      "\u001b[1m\u001b[22m`summarise()` has grouped output by 'Feature'. You can override using the `.groups` argument.\n"
     ]
    },
    {
     "data": {
      "text/html": [
       "<style>\n",
       ".list-inline {list-style: none; margin:0; padding: 0}\n",
       ".list-inline>li {display: inline-block}\n",
       ".list-inline>li:not(:last-child)::after {content: \"\\00b7\"; padding: 0 .5ex}\n",
       "</style>\n",
       "<ol class=list-inline><li>9567</li><li>7</li></ol>\n"
      ],
      "text/latex": [
       "\\begin{enumerate*}\n",
       "\\item 9567\n",
       "\\item 7\n",
       "\\end{enumerate*}\n"
      ],
      "text/markdown": [
       "1. 9567\n",
       "2. 7\n",
       "\n",
       "\n"
      ],
      "text/plain": [
       "[1] 9567    7"
      ]
     },
     "metadata": {},
     "output_type": "display_data"
    },
    {
     "data": {
      "text/html": [
       "<table class=\"dataframe\">\n",
       "<caption>A grouped_df: 6 × 7</caption>\n",
       "<thead>\n",
       "\t<tr><th scope=col>Feature</th><th scope=col>alpha</th><th scope=col>beta</th><th scope=col>gamma</th><th scope=col>acinar</th><th scope=col>ductal</th><th scope=col>delta</th></tr>\n",
       "\t<tr><th scope=col>&lt;chr&gt;</th><th scope=col>&lt;lgl&gt;</th><th scope=col>&lt;lgl&gt;</th><th scope=col>&lt;lgl&gt;</th><th scope=col>&lt;lgl&gt;</th><th scope=col>&lt;lgl&gt;</th><th scope=col>&lt;lgl&gt;</th></tr>\n",
       "</thead>\n",
       "<tbody>\n",
       "\t<tr><td>chr10:100101427-100102098</td><td>FALSE</td><td>   NA</td><td>   NA</td><td>   NA</td><td>NA</td><td>NA</td></tr>\n",
       "\t<tr><td>chr10:100346335-100347694</td><td>   NA</td><td>FALSE</td><td>   NA</td><td>   NA</td><td>NA</td><td>NA</td></tr>\n",
       "\t<tr><td>chr10:100561831-100563289</td><td>   NA</td><td> TRUE</td><td>FALSE</td><td>   NA</td><td>NA</td><td>NA</td></tr>\n",
       "\t<tr><td>chr10:100655787-100656966</td><td>   NA</td><td>   NA</td><td>   NA</td><td>FALSE</td><td>NA</td><td>NA</td></tr>\n",
       "\t<tr><td>chr10:101118690-101118974</td><td>   NA</td><td>   NA</td><td>   NA</td><td>FALSE</td><td>NA</td><td>NA</td></tr>\n",
       "\t<tr><td>chr10:101330473-101331645</td><td>FALSE</td><td>   NA</td><td>   NA</td><td>   NA</td><td>NA</td><td>NA</td></tr>\n",
       "</tbody>\n",
       "</table>\n"
      ],
      "text/latex": [
       "A grouped\\_df: 6 × 7\n",
       "\\begin{tabular}{lllllll}\n",
       " Feature & alpha & beta & gamma & acinar & ductal & delta\\\\\n",
       " <chr> & <lgl> & <lgl> & <lgl> & <lgl> & <lgl> & <lgl>\\\\\n",
       "\\hline\n",
       "\t chr10:100101427-100102098 & FALSE &    NA &    NA &    NA & NA & NA\\\\\n",
       "\t chr10:100346335-100347694 &    NA & FALSE &    NA &    NA & NA & NA\\\\\n",
       "\t chr10:100561831-100563289 &    NA &  TRUE & FALSE &    NA & NA & NA\\\\\n",
       "\t chr10:100655787-100656966 &    NA &    NA &    NA & FALSE & NA & NA\\\\\n",
       "\t chr10:101118690-101118974 &    NA &    NA &    NA & FALSE & NA & NA\\\\\n",
       "\t chr10:101330473-101331645 & FALSE &    NA &    NA &    NA & NA & NA\\\\\n",
       "\\end{tabular}\n"
      ],
      "text/markdown": [
       "\n",
       "A grouped_df: 6 × 7\n",
       "\n",
       "| Feature &lt;chr&gt; | alpha &lt;lgl&gt; | beta &lt;lgl&gt; | gamma &lt;lgl&gt; | acinar &lt;lgl&gt; | ductal &lt;lgl&gt; | delta &lt;lgl&gt; |\n",
       "|---|---|---|---|---|---|---|\n",
       "| chr10:100101427-100102098 | FALSE |    NA |    NA |    NA | NA | NA |\n",
       "| chr10:100346335-100347694 |    NA | FALSE |    NA |    NA | NA | NA |\n",
       "| chr10:100561831-100563289 |    NA |  TRUE | FALSE |    NA | NA | NA |\n",
       "| chr10:100655787-100656966 |    NA |    NA |    NA | FALSE | NA | NA |\n",
       "| chr10:101118690-101118974 |    NA |    NA |    NA | FALSE | NA | NA |\n",
       "| chr10:101330473-101331645 | FALSE |    NA |    NA |    NA | NA | NA |\n",
       "\n"
      ],
      "text/plain": [
       "  Feature                   alpha beta  gamma acinar ductal delta\n",
       "1 chr10:100101427-100102098 FALSE    NA    NA    NA  NA     NA   \n",
       "2 chr10:100346335-100347694    NA FALSE    NA    NA  NA     NA   \n",
       "3 chr10:100561831-100563289    NA  TRUE FALSE    NA  NA     NA   \n",
       "4 chr10:100655787-100656966    NA    NA    NA FALSE  NA     NA   \n",
       "5 chr10:101118690-101118974    NA    NA    NA FALSE  NA     NA   \n",
       "6 chr10:101330473-101331645 FALSE    NA    NA    NA  NA     NA   "
      ]
     },
     "metadata": {},
     "output_type": "display_data"
    },
    {
     "data": {
      "text/html": [
       "<table class=\"dataframe\">\n",
       "<caption>A tibble: 1 × 6</caption>\n",
       "<thead>\n",
       "\t<tr><th scope=col>alpha</th><th scope=col>beta</th><th scope=col>gamma</th><th scope=col>acinar</th><th scope=col>ductal</th><th scope=col>delta</th></tr>\n",
       "\t<tr><th scope=col>&lt;int&gt;</th><th scope=col>&lt;int&gt;</th><th scope=col>&lt;int&gt;</th><th scope=col>&lt;int&gt;</th><th scope=col>&lt;int&gt;</th><th scope=col>&lt;int&gt;</th></tr>\n",
       "</thead>\n",
       "<tbody>\n",
       "\t<tr><td>1750</td><td>2562</td><td>210</td><td>877</td><td>98</td><td>349</td></tr>\n",
       "</tbody>\n",
       "</table>\n"
      ],
      "text/latex": [
       "A tibble: 1 × 6\n",
       "\\begin{tabular}{llllll}\n",
       " alpha & beta & gamma & acinar & ductal & delta\\\\\n",
       " <int> & <int> & <int> & <int> & <int> & <int>\\\\\n",
       "\\hline\n",
       "\t 1750 & 2562 & 210 & 877 & 98 & 349\\\\\n",
       "\\end{tabular}\n"
      ],
      "text/markdown": [
       "\n",
       "A tibble: 1 × 6\n",
       "\n",
       "| alpha &lt;int&gt; | beta &lt;int&gt; | gamma &lt;int&gt; | acinar &lt;int&gt; | ductal &lt;int&gt; | delta &lt;int&gt; |\n",
       "|---|---|---|---|---|---|\n",
       "| 1750 | 2562 | 210 | 877 | 98 | 349 |\n",
       "\n"
      ],
      "text/plain": [
       "  alpha beta gamma acinar ductal delta\n",
       "1 1750  2562 210   877    98     349  "
      ]
     },
     "metadata": {},
     "output_type": "display_data"
    },
    {
     "data": {
      "text/html": [
       "<table class=\"dataframe\">\n",
       "<caption>A data.frame: 1 × 6</caption>\n",
       "<thead>\n",
       "\t<tr><th scope=col>alpha</th><th scope=col>beta</th><th scope=col>gamma</th><th scope=col>acinar</th><th scope=col>ductal</th><th scope=col>delta</th></tr>\n",
       "\t<tr><th scope=col>&lt;int&gt;</th><th scope=col>&lt;int&gt;</th><th scope=col>&lt;int&gt;</th><th scope=col>&lt;int&gt;</th><th scope=col>&lt;int&gt;</th><th scope=col>&lt;int&gt;</th></tr>\n",
       "</thead>\n",
       "<tbody>\n",
       "\t<tr><td>4218</td><td>5932</td><td>524</td><td>2144</td><td>267</td><td>877</td></tr>\n",
       "</tbody>\n",
       "</table>\n"
      ],
      "text/latex": [
       "A data.frame: 1 × 6\n",
       "\\begin{tabular}{llllll}\n",
       " alpha & beta & gamma & acinar & ductal & delta\\\\\n",
       " <int> & <int> & <int> & <int> & <int> & <int>\\\\\n",
       "\\hline\n",
       "\t 4218 & 5932 & 524 & 2144 & 267 & 877\\\\\n",
       "\\end{tabular}\n"
      ],
      "text/markdown": [
       "\n",
       "A data.frame: 1 × 6\n",
       "\n",
       "| alpha &lt;int&gt; | beta &lt;int&gt; | gamma &lt;int&gt; | acinar &lt;int&gt; | ductal &lt;int&gt; | delta &lt;int&gt; |\n",
       "|---|---|---|---|---|---|\n",
       "| 4218 | 5932 | 524 | 2144 | 267 | 877 |\n",
       "\n"
      ],
      "text/plain": [
       "  alpha beta gamma acinar ductal delta\n",
       "1 4218  5932 524   2144   267    877  "
      ]
     },
     "metadata": {},
     "output_type": "display_data"
    },
    {
     "data": {
      "text/html": [
       "<table class=\"dataframe\">\n",
       "<caption>A data.frame: 1 × 6</caption>\n",
       "<thead>\n",
       "\t<tr><th scope=col>alpha</th><th scope=col>beta</th><th scope=col>gamma</th><th scope=col>acinar</th><th scope=col>ductal</th><th scope=col>delta</th></tr>\n",
       "\t<tr><th scope=col>&lt;dbl&gt;</th><th scope=col>&lt;dbl&gt;</th><th scope=col>&lt;dbl&gt;</th><th scope=col>&lt;dbl&gt;</th><th scope=col>&lt;dbl&gt;</th><th scope=col>&lt;dbl&gt;</th></tr>\n",
       "</thead>\n",
       "<tbody>\n",
       "\t<tr><td>41.48886</td><td>43.18948</td><td>40.07634</td><td>40.90485</td><td>36.70412</td><td>39.79475</td></tr>\n",
       "</tbody>\n",
       "</table>\n"
      ],
      "text/latex": [
       "A data.frame: 1 × 6\n",
       "\\begin{tabular}{llllll}\n",
       " alpha & beta & gamma & acinar & ductal & delta\\\\\n",
       " <dbl> & <dbl> & <dbl> & <dbl> & <dbl> & <dbl>\\\\\n",
       "\\hline\n",
       "\t 41.48886 & 43.18948 & 40.07634 & 40.90485 & 36.70412 & 39.79475\\\\\n",
       "\\end{tabular}\n"
      ],
      "text/markdown": [
       "\n",
       "A data.frame: 1 × 6\n",
       "\n",
       "| alpha &lt;dbl&gt; | beta &lt;dbl&gt; | gamma &lt;dbl&gt; | acinar &lt;dbl&gt; | ductal &lt;dbl&gt; | delta &lt;dbl&gt; |\n",
       "|---|---|---|---|---|---|\n",
       "| 41.48886 | 43.18948 | 40.07634 | 40.90485 | 36.70412 | 39.79475 |\n",
       "\n"
      ],
      "text/plain": [
       "  alpha    beta     gamma    acinar   ductal   delta   \n",
       "1 41.48886 43.18948 40.07634 40.90485 36.70412 39.79475"
      ]
     },
     "metadata": {},
     "output_type": "display_data"
    }
   ],
   "source": [
    "any_in_leads <- group_by(sig_leads, Feature, cell) %>%\n",
    "    summarise(is_in_peak=any(is_in_peak)) %>%\n",
    "    pivot_wider(values_from = is_in_peak, names_from = cell)\n",
    "\n",
    "dim(any_in_leads)\n",
    "head(any_in_leads)\n",
    "\n",
    "count_ct <- ungroup(any_in_leads) %>%\n",
    "    select(-Feature) %>%\n",
    "    summarise_all(base::sum, na.rm=T)\n",
    "\n",
    "sum_ct <- nrow(any_in_leads) - ungroup(any_in_leads) %>%\n",
    "    select(-Feature) %>%\n",
    "    is.na() %>%\n",
    "    data.frame() %>%\n",
    "    summarise_all(base::sum, na.rm=T)\n",
    "\n",
    "count_ct\n",
    "sum_ct\n",
    "\n",
    "count_ct * 100 / sum_ct"
   ]
  },
  {
   "cell_type": "code",
   "execution_count": 139,
   "id": "e1459bc5",
   "metadata": {
    "vscode": {
     "languageId": "r"
    }
   },
   "outputs": [
    {
     "data": {
      "text/html": [
       "<style>\n",
       ".list-inline {list-style: none; margin:0; padding: 0}\n",
       ".list-inline>li {display: inline-block}\n",
       ".list-inline>li:not(:last-child)::after {content: \"\\00b7\"; padding: 0 .5ex}\n",
       "</style>\n",
       "<ol class=list-inline><li>'Feature'</li><li>'rsID'</li><li>'Chromosome'</li><li>'position'</li><li>'Ref'</li><li>'Alt'</li><li>'Af'</li><li>'HWEChi_square'</li><li>'IA'</li><li>'Log10_qval'</li><li>'Chi_square'</li><li>'Effect_size'</li><li>'Sequencing_mapping_error_rate'</li><li>'Ref_allele_bias'</li><li>'Overdispersion'</li><li>'SNPid_within_region'</li><li>'No_fSNPs'</li><li>'No_tested_SNPs'</li><li>'No_iterations_for_H0'</li><li>'No_iterations_for_H1'</li><li>'ties'</li><li>'Log_likelihood_H0'</li><li>'Convergence_status'</li><li>'r2_fSNPs'</li><li>'r2_rSNP'</li><li>'P_VAl'</li><li>'dist'</li><li>'flag_fdr10'</li><li>'flag_fdr05'</li><li>'flag_fdr01'</li><li>'cell'</li><li>'is_ct_peak'</li><li>'exclude'</li><li>'qtl'</li><li>'feature_snp'</li><li>'sig_effect'</li></ol>\n"
      ],
      "text/latex": [
       "\\begin{enumerate*}\n",
       "\\item 'Feature'\n",
       "\\item 'rsID'\n",
       "\\item 'Chromosome'\n",
       "\\item 'position'\n",
       "\\item 'Ref'\n",
       "\\item 'Alt'\n",
       "\\item 'Af'\n",
       "\\item 'HWEChi\\_square'\n",
       "\\item 'IA'\n",
       "\\item 'Log10\\_qval'\n",
       "\\item 'Chi\\_square'\n",
       "\\item 'Effect\\_size'\n",
       "\\item 'Sequencing\\_mapping\\_error\\_rate'\n",
       "\\item 'Ref\\_allele\\_bias'\n",
       "\\item 'Overdispersion'\n",
       "\\item 'SNPid\\_within\\_region'\n",
       "\\item 'No\\_fSNPs'\n",
       "\\item 'No\\_tested\\_SNPs'\n",
       "\\item 'No\\_iterations\\_for\\_H0'\n",
       "\\item 'No\\_iterations\\_for\\_H1'\n",
       "\\item 'ties'\n",
       "\\item 'Log\\_likelihood\\_H0'\n",
       "\\item 'Convergence\\_status'\n",
       "\\item 'r2\\_fSNPs'\n",
       "\\item 'r2\\_rSNP'\n",
       "\\item 'P\\_VAl'\n",
       "\\item 'dist'\n",
       "\\item 'flag\\_fdr10'\n",
       "\\item 'flag\\_fdr05'\n",
       "\\item 'flag\\_fdr01'\n",
       "\\item 'cell'\n",
       "\\item 'is\\_ct\\_peak'\n",
       "\\item 'exclude'\n",
       "\\item 'qtl'\n",
       "\\item 'feature\\_snp'\n",
       "\\item 'sig\\_effect'\n",
       "\\end{enumerate*}\n"
      ],
      "text/markdown": [
       "1. 'Feature'\n",
       "2. 'rsID'\n",
       "3. 'Chromosome'\n",
       "4. 'position'\n",
       "5. 'Ref'\n",
       "6. 'Alt'\n",
       "7. 'Af'\n",
       "8. 'HWEChi_square'\n",
       "9. 'IA'\n",
       "10. 'Log10_qval'\n",
       "11. 'Chi_square'\n",
       "12. 'Effect_size'\n",
       "13. 'Sequencing_mapping_error_rate'\n",
       "14. 'Ref_allele_bias'\n",
       "15. 'Overdispersion'\n",
       "16. 'SNPid_within_region'\n",
       "17. 'No_fSNPs'\n",
       "18. 'No_tested_SNPs'\n",
       "19. 'No_iterations_for_H0'\n",
       "20. 'No_iterations_for_H1'\n",
       "21. 'ties'\n",
       "22. 'Log_likelihood_H0'\n",
       "23. 'Convergence_status'\n",
       "24. 'r2_fSNPs'\n",
       "25. 'r2_rSNP'\n",
       "26. 'P_VAl'\n",
       "27. 'dist'\n",
       "28. 'flag_fdr10'\n",
       "29. 'flag_fdr05'\n",
       "30. 'flag_fdr01'\n",
       "31. 'cell'\n",
       "32. 'is_ct_peak'\n",
       "33. 'exclude'\n",
       "34. 'qtl'\n",
       "35. 'feature_snp'\n",
       "36. 'sig_effect'\n",
       "\n",
       "\n"
      ],
      "text/plain": [
       " [1] \"Feature\"                       \"rsID\"                         \n",
       " [3] \"Chromosome\"                    \"position\"                     \n",
       " [5] \"Ref\"                           \"Alt\"                          \n",
       " [7] \"Af\"                            \"HWEChi_square\"                \n",
       " [9] \"IA\"                            \"Log10_qval\"                   \n",
       "[11] \"Chi_square\"                    \"Effect_size\"                  \n",
       "[13] \"Sequencing_mapping_error_rate\" \"Ref_allele_bias\"              \n",
       "[15] \"Overdispersion\"                \"SNPid_within_region\"          \n",
       "[17] \"No_fSNPs\"                      \"No_tested_SNPs\"               \n",
       "[19] \"No_iterations_for_H0\"          \"No_iterations_for_H1\"         \n",
       "[21] \"ties\"                          \"Log_likelihood_H0\"            \n",
       "[23] \"Convergence_status\"            \"r2_fSNPs\"                     \n",
       "[25] \"r2_rSNP\"                       \"P_VAl\"                        \n",
       "[27] \"dist\"                          \"flag_fdr10\"                   \n",
       "[29] \"flag_fdr05\"                    \"flag_fdr01\"                   \n",
       "[31] \"cell\"                          \"is_ct_peak\"                   \n",
       "[33] \"exclude\"                       \"qtl\"                          \n",
       "[35] \"feature_snp\"                   \"sig_effect\"                   "
      ]
     },
     "metadata": {},
     "output_type": "display_data"
    }
   ],
   "source": [
    "colnames(all)"
   ]
  },
  {
   "cell_type": "code",
   "execution_count": 141,
   "id": "a4e14b28",
   "metadata": {
    "scrolled": true,
    "vscode": {
     "languageId": "r"
    }
   },
   "outputs": [
    {
     "data": {
      "text/html": [
       "<table class=\"dataframe\">\n",
       "<caption>A spec_tbl_df: 2 × 6</caption>\n",
       "<thead>\n",
       "\t<tr><th scope=col>Feature</th><th scope=col>rsID</th><th scope=col>Effect_size</th><th scope=col>Log10_qval</th><th scope=col>flag_fdr05</th><th scope=col>P_VAl</th></tr>\n",
       "\t<tr><th scope=col>&lt;chr&gt;</th><th scope=col>&lt;chr&gt;</th><th scope=col>&lt;dbl&gt;</th><th scope=col>&lt;dbl&gt;</th><th scope=col>&lt;lgl&gt;</th><th scope=col>&lt;dbl&gt;</th></tr>\n",
       "</thead>\n",
       "<tbody>\n",
       "\t<tr><td>chr15:70140098-70143608</td><td>chr15:70140778:G:C</td><td>0.296461</td><td>-12.0154156</td><td> TRUE</td><td>6.251057e-14</td></tr>\n",
       "\t<tr><td>chr15:70133274-70133960</td><td>chr15:70140778:G:C</td><td>0.453546</td><td> -0.2202083</td><td>FALSE</td><td>3.589647e-01</td></tr>\n",
       "</tbody>\n",
       "</table>\n"
      ],
      "text/latex": [
       "A spec\\_tbl\\_df: 2 × 6\n",
       "\\begin{tabular}{llllll}\n",
       " Feature & rsID & Effect\\_size & Log10\\_qval & flag\\_fdr05 & P\\_VAl\\\\\n",
       " <chr> & <chr> & <dbl> & <dbl> & <lgl> & <dbl>\\\\\n",
       "\\hline\n",
       "\t chr15:70140098-70143608 & chr15:70140778:G:C & 0.296461 & -12.0154156 &  TRUE & 6.251057e-14\\\\\n",
       "\t chr15:70133274-70133960 & chr15:70140778:G:C & 0.453546 &  -0.2202083 & FALSE & 3.589647e-01\\\\\n",
       "\\end{tabular}\n"
      ],
      "text/markdown": [
       "\n",
       "A spec_tbl_df: 2 × 6\n",
       "\n",
       "| Feature &lt;chr&gt; | rsID &lt;chr&gt; | Effect_size &lt;dbl&gt; | Log10_qval &lt;dbl&gt; | flag_fdr05 &lt;lgl&gt; | P_VAl &lt;dbl&gt; |\n",
       "|---|---|---|---|---|---|\n",
       "| chr15:70140098-70143608 | chr15:70140778:G:C | 0.296461 | -12.0154156 |  TRUE | 6.251057e-14 |\n",
       "| chr15:70133274-70133960 | chr15:70140778:G:C | 0.453546 |  -0.2202083 | FALSE | 3.589647e-01 |\n",
       "\n"
      ],
      "text/plain": [
       "  Feature                 rsID               Effect_size Log10_qval  flag_fdr05\n",
       "1 chr15:70140098-70143608 chr15:70140778:G:C 0.296461    -12.0154156  TRUE     \n",
       "2 chr15:70133274-70133960 chr15:70140778:G:C 0.453546     -0.2202083 FALSE     \n",
       "  P_VAl       \n",
       "1 6.251057e-14\n",
       "2 3.589647e-01"
      ]
     },
     "metadata": {},
     "output_type": "display_data"
    },
    {
     "data": {
      "text/html": [
       "<table class=\"dataframe\">\n",
       "<caption>A spec_tbl_df: 3 × 6</caption>\n",
       "<thead>\n",
       "\t<tr><th scope=col>Feature</th><th scope=col>rsID</th><th scope=col>Effect_size</th><th scope=col>Log10_qval</th><th scope=col>flag_fdr05</th><th scope=col>P_VAl</th></tr>\n",
       "\t<tr><th scope=col>&lt;chr&gt;</th><th scope=col>&lt;chr&gt;</th><th scope=col>&lt;dbl&gt;</th><th scope=col>&lt;dbl&gt;</th><th scope=col>&lt;lgl&gt;</th><th scope=col>&lt;dbl&gt;</th></tr>\n",
       "</thead>\n",
       "<tbody>\n",
       "\t<tr><td>chr15:70140098-70143608</td><td>chr15:70140778:G:C</td><td>0.631639</td><td>-11.71472774</td><td> TRUE</td><td>1.258652e-13</td></tr>\n",
       "\t<tr><td>chr15:70132038-70132506</td><td>chr15:70140778:G:C</td><td>0.519880</td><td> -0.02446078</td><td>FALSE</td><td>5.472976e-01</td></tr>\n",
       "\t<tr><td>chr15:70133274-70133960</td><td>chr15:70140778:G:C</td><td>0.493290</td><td> -0.01853737</td><td>FALSE</td><td>8.286017e-01</td></tr>\n",
       "</tbody>\n",
       "</table>\n"
      ],
      "text/latex": [
       "A spec\\_tbl\\_df: 3 × 6\n",
       "\\begin{tabular}{llllll}\n",
       " Feature & rsID & Effect\\_size & Log10\\_qval & flag\\_fdr05 & P\\_VAl\\\\\n",
       " <chr> & <chr> & <dbl> & <dbl> & <lgl> & <dbl>\\\\\n",
       "\\hline\n",
       "\t chr15:70140098-70143608 & chr15:70140778:G:C & 0.631639 & -11.71472774 &  TRUE & 1.258652e-13\\\\\n",
       "\t chr15:70132038-70132506 & chr15:70140778:G:C & 0.519880 &  -0.02446078 & FALSE & 5.472976e-01\\\\\n",
       "\t chr15:70133274-70133960 & chr15:70140778:G:C & 0.493290 &  -0.01853737 & FALSE & 8.286017e-01\\\\\n",
       "\\end{tabular}\n"
      ],
      "text/markdown": [
       "\n",
       "A spec_tbl_df: 3 × 6\n",
       "\n",
       "| Feature &lt;chr&gt; | rsID &lt;chr&gt; | Effect_size &lt;dbl&gt; | Log10_qval &lt;dbl&gt; | flag_fdr05 &lt;lgl&gt; | P_VAl &lt;dbl&gt; |\n",
       "|---|---|---|---|---|---|\n",
       "| chr15:70140098-70143608 | chr15:70140778:G:C | 0.631639 | -11.71472774 |  TRUE | 1.258652e-13 |\n",
       "| chr15:70132038-70132506 | chr15:70140778:G:C | 0.519880 |  -0.02446078 | FALSE | 5.472976e-01 |\n",
       "| chr15:70133274-70133960 | chr15:70140778:G:C | 0.493290 |  -0.01853737 | FALSE | 8.286017e-01 |\n",
       "\n"
      ],
      "text/plain": [
       "  Feature                 rsID               Effect_size Log10_qval  \n",
       "1 chr15:70140098-70143608 chr15:70140778:G:C 0.631639    -11.71472774\n",
       "2 chr15:70132038-70132506 chr15:70140778:G:C 0.519880     -0.02446078\n",
       "3 chr15:70133274-70133960 chr15:70140778:G:C 0.493290     -0.01853737\n",
       "  flag_fdr05 P_VAl       \n",
       "1  TRUE      1.258652e-13\n",
       "2 FALSE      5.472976e-01\n",
       "3 FALSE      8.286017e-01"
      ]
     },
     "metadata": {},
     "output_type": "display_data"
    }
   ],
   "source": [
    "filter(all, cell == 'acinar' & rsID=='chr15:70140778:G:C') %>%\n",
    "    select(Feature, rsID, Effect_size, Log10_qval, flag_fdr05, P_VAl)\n",
    "filter(all, cell == 'alpha' & rsID=='chr15:70140778:G:C') %>%\n",
    "    select(Feature, rsID, Effect_size, Log10_qval, flag_fdr05, P_VAl)"
   ]
  },
  {
   "cell_type": "code",
   "execution_count": 146,
   "id": "835838a8",
   "metadata": {
    "vscode": {
     "languageId": "r"
    }
   },
   "outputs": [
    {
     "data": {
      "text/html": [
       "1.92873366090561e-12"
      ],
      "text/latex": [
       "1.92873366090561e-12"
      ],
      "text/markdown": [
       "1.92873366090561e-12"
      ],
      "text/plain": [
       "[1] 1.928734e-12"
      ]
     },
     "metadata": {},
     "output_type": "display_data"
    }
   ],
   "source": [
    "10^-11.71472774"
   ]
  },
  {
   "cell_type": "code",
   "execution_count": 148,
   "id": "8ca83a46",
   "metadata": {
    "vscode": {
     "languageId": "r"
    }
   },
   "outputs": [
    {
     "data": {
      "text/html": [
       "<table class=\"dataframe\">\n",
       "<caption>A spec_tbl_df: 3 × 7</caption>\n",
       "<thead>\n",
       "\t<tr><th scope=col>Feature</th><th scope=col>rsID</th><th scope=col>Effect_size</th><th scope=col>Log10_qval</th><th scope=col>flag_fdr05</th><th scope=col>flag_fdr10</th><th scope=col>P_VAl</th></tr>\n",
       "\t<tr><th scope=col>&lt;chr&gt;</th><th scope=col>&lt;chr&gt;</th><th scope=col>&lt;dbl&gt;</th><th scope=col>&lt;dbl&gt;</th><th scope=col>&lt;lgl&gt;</th><th scope=col>&lt;lgl&gt;</th><th scope=col>&lt;dbl&gt;</th></tr>\n",
       "</thead>\n",
       "<tbody>\n",
       "\t<tr><td>chr15:70140098-70143608</td><td>chr15:70140778:G:C</td><td>0.538147</td><td>-1.33008624</td><td>FALSE</td><td>FALSE</td><td>0.00328170</td></tr>\n",
       "\t<tr><td>chr15:70133274-70133960</td><td>chr15:70140778:G:C</td><td>0.533516</td><td>-0.05821433</td><td>FALSE</td><td>FALSE</td><td>0.08290024</td></tr>\n",
       "\t<tr><td>chr15:70132038-70132506</td><td>chr15:70140778:G:C</td><td>0.505957</td><td>-0.04383447</td><td>FALSE</td><td>FALSE</td><td>0.75655449</td></tr>\n",
       "</tbody>\n",
       "</table>\n"
      ],
      "text/latex": [
       "A spec\\_tbl\\_df: 3 × 7\n",
       "\\begin{tabular}{lllllll}\n",
       " Feature & rsID & Effect\\_size & Log10\\_qval & flag\\_fdr05 & flag\\_fdr10 & P\\_VAl\\\\\n",
       " <chr> & <chr> & <dbl> & <dbl> & <lgl> & <lgl> & <dbl>\\\\\n",
       "\\hline\n",
       "\t chr15:70140098-70143608 & chr15:70140778:G:C & 0.538147 & -1.33008624 & FALSE & FALSE & 0.00328170\\\\\n",
       "\t chr15:70133274-70133960 & chr15:70140778:G:C & 0.533516 & -0.05821433 & FALSE & FALSE & 0.08290024\\\\\n",
       "\t chr15:70132038-70132506 & chr15:70140778:G:C & 0.505957 & -0.04383447 & FALSE & FALSE & 0.75655449\\\\\n",
       "\\end{tabular}\n"
      ],
      "text/markdown": [
       "\n",
       "A spec_tbl_df: 3 × 7\n",
       "\n",
       "| Feature &lt;chr&gt; | rsID &lt;chr&gt; | Effect_size &lt;dbl&gt; | Log10_qval &lt;dbl&gt; | flag_fdr05 &lt;lgl&gt; | flag_fdr10 &lt;lgl&gt; | P_VAl &lt;dbl&gt; |\n",
       "|---|---|---|---|---|---|---|\n",
       "| chr15:70140098-70143608 | chr15:70140778:G:C | 0.538147 | -1.33008624 | FALSE | FALSE | 0.00328170 |\n",
       "| chr15:70133274-70133960 | chr15:70140778:G:C | 0.533516 | -0.05821433 | FALSE | FALSE | 0.08290024 |\n",
       "| chr15:70132038-70132506 | chr15:70140778:G:C | 0.505957 | -0.04383447 | FALSE | FALSE | 0.75655449 |\n",
       "\n"
      ],
      "text/plain": [
       "  Feature                 rsID               Effect_size Log10_qval  flag_fdr05\n",
       "1 chr15:70140098-70143608 chr15:70140778:G:C 0.538147    -1.33008624 FALSE     \n",
       "2 chr15:70133274-70133960 chr15:70140778:G:C 0.533516    -0.05821433 FALSE     \n",
       "3 chr15:70132038-70132506 chr15:70140778:G:C 0.505957    -0.04383447 FALSE     \n",
       "  flag_fdr10 P_VAl     \n",
       "1 FALSE      0.00328170\n",
       "2 FALSE      0.08290024\n",
       "3 FALSE      0.75655449"
      ]
     },
     "metadata": {},
     "output_type": "display_data"
    }
   ],
   "source": [
    "filter(all, cell == 'bulk' & rsID=='chr15:70140778:G:C') %>%\n",
    "    select(Feature, rsID, Effect_size, Log10_qval, flag_fdr05, flag_fdr10, P_VAl)"
   ]
  },
  {
   "cell_type": "code",
   "execution_count": null,
   "id": "971fb95c",
   "metadata": {
    "scrolled": true,
    "vscode": {
     "languageId": "r"
    }
   },
   "outputs": [],
   "source": [
    "beta_only_mash <- mash[mash$beta & (rowSums(mash) == 1),]\n",
    "beta_only_mash"
   ]
  },
  {
   "cell_type": "code",
   "execution_count": null,
   "id": "5cbc73ab",
   "metadata": {
    "scrolled": true,
    "vscode": {
     "languageId": "r"
    }
   },
   "outputs": [],
   "source": [
    "beta_leads <- filter(leads, cell=='beta')\n",
    "beta_only_mash_leads <- beta_only_mash[rownames(beta_only_mash) %in% paste0(beta_leads$Feature, \"::\", beta_leads$rsID),]\n",
    "\n",
    "dim(beta_only_mash_leads)\n",
    "head(beta_only_mash_leads)"
   ]
  },
  {
   "cell_type": "code",
   "execution_count": null,
   "id": "23107875",
   "metadata": {
    "vscode": {
     "languageId": "r"
    }
   },
   "outputs": [],
   "source": [
    "dim(sig_effects_wide)"
   ]
  },
  {
   "cell_type": "code",
   "execution_count": null,
   "id": "22a12306",
   "metadata": {
    "vscode": {
     "languageId": "r"
    }
   },
   "outputs": [],
   "source": [
    "effects_wide <- select(all, Feature, rsID, Effect_size, cell) %>%\n",
    "    filter(cell %in% c('acinar','alpha','beta','delta','gamma','ductal')) %>%\n",
    "    pivot_wider(names_from = cell, values_from=Effect_size)\n",
    "\n",
    "dim(effects_wide)\n",
    "head(effects_wide)"
   ]
  },
  {
   "cell_type": "code",
   "execution_count": null,
   "id": "efbf7170",
   "metadata": {
    "vscode": {
     "languageId": "r"
    }
   },
   "outputs": [],
   "source": [
    "beta_mash_effects <- filter(effects_wide, Feature %in% str_split(rownames(beta_only_mash_leads), \"::\", simplify=T)[,1]) %>%\n",
    "    filter(rsID %in% str_split(rownames(beta_only_mash_leads), \"::\", simplify=T)[,2]) %>%\n",
    "    arrange(beta)\n",
    "\n",
    "dim(beta_mash_effects)\n",
    "head(beta_mash_effects, n=20)\n",
    "tail(beta_mash_effects, n=20)"
   ]
  },
  {
   "cell_type": "code",
   "execution_count": null,
   "id": "2b9ed4e6",
   "metadata": {
    "scrolled": true,
    "vscode": {
     "languageId": "r"
    }
   },
   "outputs": [],
   "source": [
    "head(beta_mash_effects, n=30)\n",
    "tail(beta_mash_effects, n=30)"
   ]
  },
  {
   "cell_type": "code",
   "execution_count": null,
   "id": "16f70822",
   "metadata": {
    "scrolled": true,
    "vscode": {
     "languageId": "r"
    }
   },
   "outputs": [],
   "source": [
    "beta_mash_sig_effects <- filter(sig_effects_wide, Feature %in% str_split(rownames(beta_only_mash_leads), \"::\", simplify=T)[,1]) %>%\n",
    "    filter(rsID %in% str_split(rownames(beta_only_mash_leads), \"::\", simplify=T)[,2]) %>%\n",
    "    arrange(beta)\n",
    "\n",
    "dim(beta_mash_sig_effects)\n",
    "head(beta_mash_sig_effects, n=20)\n",
    "tail(beta_mash_sig_effects, n=20)"
   ]
  },
  {
   "cell_type": "code",
   "execution_count": null,
   "id": "ee8544b4",
   "metadata": {
    "vscode": {
     "languageId": "r"
    }
   },
   "outputs": [],
   "source": [
    "mutate(rowwise(beta_mash_effects), other_avg= mean(c(alpha,acinar,ductal,gamma,delta),\n",
    "                                       na.rm=T)) %>%\n",
    "    filter(other_avg < 0.52) %>%\n",
    "    filter(other_avg > 0.48)"
   ]
  },
  {
   "cell_type": "code",
   "execution_count": 199,
   "id": "b21bdcfa",
   "metadata": {
    "vscode": {
     "languageId": "r"
    }
   },
   "outputs": [
    {
     "data": {
      "text/html": [
       "<table class=\"dataframe\">\n",
       "<caption>A matrix: 2 × 6 of type dbl</caption>\n",
       "<thead>\n",
       "\t<tr><th></th><th scope=col>used</th><th scope=col>(Mb)</th><th scope=col>gc trigger</th><th scope=col>(Mb)</th><th scope=col>max used</th><th scope=col>(Mb)</th></tr>\n",
       "</thead>\n",
       "<tbody>\n",
       "\t<tr><th scope=row>Ncells</th><td>  29089331</td><td> 1553.6</td><td>  81444724</td><td> 4349.7</td><td>  81444724</td><td> 4349.7</td></tr>\n",
       "\t<tr><th scope=row>Vcells</th><td>2043044514</td><td>15587.2</td><td>3994409819</td><td>30475.0</td><td>3994409819</td><td>30475.0</td></tr>\n",
       "</tbody>\n",
       "</table>\n"
      ],
      "text/latex": [
       "A matrix: 2 × 6 of type dbl\n",
       "\\begin{tabular}{r|llllll}\n",
       "  & used & (Mb) & gc trigger & (Mb) & max used & (Mb)\\\\\n",
       "\\hline\n",
       "\tNcells &   29089331 &  1553.6 &   81444724 &  4349.7 &   81444724 &  4349.7\\\\\n",
       "\tVcells & 2043044514 & 15587.2 & 3994409819 & 30475.0 & 3994409819 & 30475.0\\\\\n",
       "\\end{tabular}\n"
      ],
      "text/markdown": [
       "\n",
       "A matrix: 2 × 6 of type dbl\n",
       "\n",
       "| <!--/--> | used | (Mb) | gc trigger | (Mb) | max used | (Mb) |\n",
       "|---|---|---|---|---|---|---|\n",
       "| Ncells |   29089331 |  1553.6 |   81444724 |  4349.7 |   81444724 |  4349.7 |\n",
       "| Vcells | 2043044514 | 15587.2 | 3994409819 | 30475.0 | 3994409819 | 30475.0 |\n",
       "\n"
      ],
      "text/plain": [
       "       used       (Mb)    gc trigger (Mb)    max used   (Mb)   \n",
       "Ncells   29089331  1553.6   81444724  4349.7   81444724  4349.7\n",
       "Vcells 2043044514 15587.2 3994409819 30475.0 3994409819 30475.0"
      ]
     },
     "metadata": {},
     "output_type": "display_data"
    }
   ],
   "source": [
    "gc()"
   ]
  },
  {
   "cell_type": "code",
   "execution_count": 201,
   "id": "ea800874",
   "metadata": {
    "vscode": {
     "languageId": "r"
    }
   },
   "outputs": [],
   "source": [
    "library(ggplot2)"
   ]
  },
  {
   "cell_type": "code",
   "execution_count": 209,
   "id": "da26eafb",
   "metadata": {
    "scrolled": true,
    "vscode": {
     "languageId": "r"
    }
   },
   "outputs": [
    {
     "data": {
      "image/png": "[encoded data removed]",
      "text/plain": [
       "plot without title"
      ]
     },
     "metadata": {
      "image/png": {
       "height": 360,
       "width": 660
      }
     },
     "output_type": "display_data"
    },
    {
     "data": {
      "image/png": "[encoded data removed]",
      "text/plain": [
       "plot without title"
      ]
     },
     "metadata": {
      "image/png": {
       "height": 360,
       "width": 660
      }
     },
     "output_type": "display_data"
    }
   ],
   "source": [
    "ggplot(sig, aes(x=dist)) + geom_histogram(binwidth=100) + theme_classic()\n",
    "ggplot(sig, aes(x=dist, fill=is_in_peak)) + geom_histogram(binwidth=100) + theme_classic()"
   ]
  },
  {
   "cell_type": "code",
   "execution_count": 210,
   "id": "0f79ab8b",
   "metadata": {
    "vscode": {
     "languageId": "r"
    }
   },
   "outputs": [
    {
     "data": {
      "image/png": "[encoded data removed]",
      "text/plain": [
       "plot without title"
      ]
     },
     "metadata": {
      "image/png": {
       "height": 360,
       "width": 660
      }
     },
     "output_type": "display_data"
    },
    {
     "data": {
      "image/png": "[encoded data removed]",
      "text/plain": [
       "plot without title"
      ]
     },
     "metadata": {
      "image/png": {
       "height": 360,
       "width": 660
      }
     },
     "output_type": "display_data"
    }
   ],
   "source": [
    "ggplot(sig_leads, aes(x=dist)) + geom_histogram(binwidth=100) + theme_classic()\n",
    "ggplot(sig_leads, aes(x=dist, fill=is_in_peak)) + geom_histogram(binwidth=100) + theme_classic()"
   ]
  },
  {
   "cell_type": "code",
   "execution_count": null,
   "id": "244cd150",
   "metadata": {
    "vscode": {
     "languageId": "r"
    }
   },
   "outputs": [],
   "source": []
  },
  {
   "cell_type": "code",
   "execution_count": null,
   "id": "83b66cef",
   "metadata": {
    "vscode": {
     "languageId": "r"
    }
   },
   "outputs": [],
   "source": []
  },
  {
   "cell_type": "code",
   "execution_count": 222,
   "id": "22d9b92e",
   "metadata": {
    "scrolled": true,
    "vscode": {
     "languageId": "r"
    }
   },
   "outputs": [
    {
     "data": {
      "text/html": [
       "<table class=\"dataframe\">\n",
       "<caption>A data.frame: 6 × 16</caption>\n",
       "<thead>\n",
       "\t<tr><th></th><th scope=col>cre</th><th scope=col>sig_caqtls_num_cts</th><th scope=col>sig_caqtls_cts</th><th scope=col>sig_caqtls_cts_spec</th><th scope=col>mash_num_cts</th><th scope=col>mash_cts</th><th scope=col>mash_cts_spec</th><th scope=col>peak_num_cts</th><th scope=col>peak_cts</th><th scope=col>peak_ct_spec</th><th scope=col>cpm6_num_cts</th><th scope=col>cpm6_cts</th><th scope=col>cpm6_ct_spec</th><th scope=col>cpm10_num_cts</th><th scope=col>cpm10_cts</th><th scope=col>cpm10_ct_spec</th></tr>\n",
       "\t<tr><th></th><th scope=col>&lt;chr&gt;</th><th scope=col>&lt;int&gt;</th><th scope=col>&lt;chr&gt;</th><th scope=col>&lt;lgl&gt;</th><th scope=col>&lt;int&gt;</th><th scope=col>&lt;chr&gt;</th><th scope=col>&lt;lgl&gt;</th><th scope=col>&lt;int&gt;</th><th scope=col>&lt;chr&gt;</th><th scope=col>&lt;lgl&gt;</th><th scope=col>&lt;int&gt;</th><th scope=col>&lt;chr&gt;</th><th scope=col>&lt;lgl&gt;</th><th scope=col>&lt;int&gt;</th><th scope=col>&lt;chr&gt;</th><th scope=col>&lt;lgl&gt;</th></tr>\n",
       "</thead>\n",
       "<tbody>\n",
       "\t<tr><th scope=row>chr10:100006062-100006793</th><td>chr10:100006062-100006793</td><td> 2</td><td>beta, bulk</td><td>FALSE</td><td>NA</td><td>NA</td><td>NA</td><td>4</td><td>alpha, delta, gamma, ductal              </td><td>FALSE</td><td> 2</td><td>gamma, ductal                            </td><td>FALSE</td><td>NA</td><td>NA                                       </td><td>   NA</td></tr>\n",
       "\t<tr><th scope=row>chr10:100009188-100010635</th><td>chr10:100009188-100010635</td><td>NA</td><td>NA        </td><td>   NA</td><td>NA</td><td>NA</td><td>NA</td><td>6</td><td>beta, alpha, delta, gamma, acinar, ductal</td><td>FALSE</td><td> 6</td><td>beta, alpha, delta, gamma, acinar, ductal</td><td>FALSE</td><td> 6</td><td>beta, alpha, delta, gamma, acinar, ductal</td><td>FALSE</td></tr>\n",
       "\t<tr><th scope=row>chr10:100019905-100021214</th><td>chr10:100019905-100021214</td><td>NA</td><td>NA        </td><td>   NA</td><td>NA</td><td>NA</td><td>NA</td><td>3</td><td>alpha, delta, gamma                      </td><td>FALSE</td><td>NA</td><td>NA                                       </td><td>   NA</td><td>NA</td><td>NA                                       </td><td>   NA</td></tr>\n",
       "\t<tr><th scope=row>chr10:100037925-100038813</th><td>chr10:100037925-100038813</td><td>NA</td><td>NA        </td><td>   NA</td><td>NA</td><td>NA</td><td>NA</td><td>3</td><td>alpha, acinar, ductal                    </td><td>FALSE</td><td>NA</td><td>NA                                       </td><td>   NA</td><td>NA</td><td>NA                                       </td><td>   NA</td></tr>\n",
       "\t<tr><th scope=row>chr10:100043372-100044999</th><td>chr10:100043372-100044999</td><td>NA</td><td>NA        </td><td>   NA</td><td>NA</td><td>NA</td><td>NA</td><td>3</td><td>gamma, acinar, ductal                    </td><td>FALSE</td><td>NA</td><td>NA                                       </td><td>   NA</td><td>NA</td><td>NA                                       </td><td>   NA</td></tr>\n",
       "\t<tr><th scope=row>chr10:100046018-100046622</th><td>chr10:100046018-100046622</td><td>NA</td><td>NA        </td><td>   NA</td><td>NA</td><td>NA</td><td>NA</td><td>6</td><td>beta, alpha, delta, gamma, acinar, ductal</td><td>FALSE</td><td>NA</td><td>NA                                       </td><td>   NA</td><td>NA</td><td>NA                                       </td><td>   NA</td></tr>\n",
       "</tbody>\n",
       "</table>\n"
      ],
      "text/latex": [
       "A data.frame: 6 × 16\n",
       "\\begin{tabular}{r|llllllllllllllll}\n",
       "  & cre & sig\\_caqtls\\_num\\_cts & sig\\_caqtls\\_cts & sig\\_caqtls\\_cts\\_spec & mash\\_num\\_cts & mash\\_cts & mash\\_cts\\_spec & peak\\_num\\_cts & peak\\_cts & peak\\_ct\\_spec & cpm6\\_num\\_cts & cpm6\\_cts & cpm6\\_ct\\_spec & cpm10\\_num\\_cts & cpm10\\_cts & cpm10\\_ct\\_spec\\\\\n",
       "  & <chr> & <int> & <chr> & <lgl> & <int> & <chr> & <lgl> & <int> & <chr> & <lgl> & <int> & <chr> & <lgl> & <int> & <chr> & <lgl>\\\\\n",
       "\\hline\n",
       "\tchr10:100006062-100006793 & chr10:100006062-100006793 &  2 & beta, bulk & FALSE & NA & NA & NA & 4 & alpha, delta, gamma, ductal               & FALSE &  2 & gamma, ductal                             & FALSE & NA & NA                                        &    NA\\\\\n",
       "\tchr10:100009188-100010635 & chr10:100009188-100010635 & NA & NA         &    NA & NA & NA & NA & 6 & beta, alpha, delta, gamma, acinar, ductal & FALSE &  6 & beta, alpha, delta, gamma, acinar, ductal & FALSE &  6 & beta, alpha, delta, gamma, acinar, ductal & FALSE\\\\\n",
       "\tchr10:100019905-100021214 & chr10:100019905-100021214 & NA & NA         &    NA & NA & NA & NA & 3 & alpha, delta, gamma                       & FALSE & NA & NA                                        &    NA & NA & NA                                        &    NA\\\\\n",
       "\tchr10:100037925-100038813 & chr10:100037925-100038813 & NA & NA         &    NA & NA & NA & NA & 3 & alpha, acinar, ductal                     & FALSE & NA & NA                                        &    NA & NA & NA                                        &    NA\\\\\n",
       "\tchr10:100043372-100044999 & chr10:100043372-100044999 & NA & NA         &    NA & NA & NA & NA & 3 & gamma, acinar, ductal                     & FALSE & NA & NA                                        &    NA & NA & NA                                        &    NA\\\\\n",
       "\tchr10:100046018-100046622 & chr10:100046018-100046622 & NA & NA         &    NA & NA & NA & NA & 6 & beta, alpha, delta, gamma, acinar, ductal & FALSE & NA & NA                                        &    NA & NA & NA                                        &    NA\\\\\n",
       "\\end{tabular}\n"
      ],
      "text/markdown": [
       "\n",
       "A data.frame: 6 × 16\n",
       "\n",
       "| <!--/--> | cre &lt;chr&gt; | sig_caqtls_num_cts &lt;int&gt; | sig_caqtls_cts &lt;chr&gt; | sig_caqtls_cts_spec &lt;lgl&gt; | mash_num_cts &lt;int&gt; | mash_cts &lt;chr&gt; | mash_cts_spec &lt;lgl&gt; | peak_num_cts &lt;int&gt; | peak_cts &lt;chr&gt; | peak_ct_spec &lt;lgl&gt; | cpm6_num_cts &lt;int&gt; | cpm6_cts &lt;chr&gt; | cpm6_ct_spec &lt;lgl&gt; | cpm10_num_cts &lt;int&gt; | cpm10_cts &lt;chr&gt; | cpm10_ct_spec &lt;lgl&gt; |\n",
       "|---|---|---|---|---|---|---|---|---|---|---|---|---|---|---|---|---|\n",
       "| chr10:100006062-100006793 | chr10:100006062-100006793 |  2 | beta, bulk | FALSE | NA | NA | NA | 4 | alpha, delta, gamma, ductal               | FALSE |  2 | gamma, ductal                             | FALSE | NA | NA                                        |    NA |\n",
       "| chr10:100009188-100010635 | chr10:100009188-100010635 | NA | NA         |    NA | NA | NA | NA | 6 | beta, alpha, delta, gamma, acinar, ductal | FALSE |  6 | beta, alpha, delta, gamma, acinar, ductal | FALSE |  6 | beta, alpha, delta, gamma, acinar, ductal | FALSE |\n",
       "| chr10:100019905-100021214 | chr10:100019905-100021214 | NA | NA         |    NA | NA | NA | NA | 3 | alpha, delta, gamma                       | FALSE | NA | NA                                        |    NA | NA | NA                                        |    NA |\n",
       "| chr10:100037925-100038813 | chr10:100037925-100038813 | NA | NA         |    NA | NA | NA | NA | 3 | alpha, acinar, ductal                     | FALSE | NA | NA                                        |    NA | NA | NA                                        |    NA |\n",
       "| chr10:100043372-100044999 | chr10:100043372-100044999 | NA | NA         |    NA | NA | NA | NA | 3 | gamma, acinar, ductal                     | FALSE | NA | NA                                        |    NA | NA | NA                                        |    NA |\n",
       "| chr10:100046018-100046622 | chr10:100046018-100046622 | NA | NA         |    NA | NA | NA | NA | 6 | beta, alpha, delta, gamma, acinar, ductal | FALSE | NA | NA                                        |    NA | NA | NA                                        |    NA |\n",
       "\n"
      ],
      "text/plain": [
       "                          cre                       sig_caqtls_num_cts\n",
       "chr10:100006062-100006793 chr10:100006062-100006793  2                \n",
       "chr10:100009188-100010635 chr10:100009188-100010635 NA                \n",
       "chr10:100019905-100021214 chr10:100019905-100021214 NA                \n",
       "chr10:100037925-100038813 chr10:100037925-100038813 NA                \n",
       "chr10:100043372-100044999 chr10:100043372-100044999 NA                \n",
       "chr10:100046018-100046622 chr10:100046018-100046622 NA                \n",
       "                          sig_caqtls_cts sig_caqtls_cts_spec mash_num_cts\n",
       "chr10:100006062-100006793 beta, bulk     FALSE               NA          \n",
       "chr10:100009188-100010635 NA                NA               NA          \n",
       "chr10:100019905-100021214 NA                NA               NA          \n",
       "chr10:100037925-100038813 NA                NA               NA          \n",
       "chr10:100043372-100044999 NA                NA               NA          \n",
       "chr10:100046018-100046622 NA                NA               NA          \n",
       "                          mash_cts mash_cts_spec peak_num_cts\n",
       "chr10:100006062-100006793 NA       NA            4           \n",
       "chr10:100009188-100010635 NA       NA            6           \n",
       "chr10:100019905-100021214 NA       NA            3           \n",
       "chr10:100037925-100038813 NA       NA            3           \n",
       "chr10:100043372-100044999 NA       NA            3           \n",
       "chr10:100046018-100046622 NA       NA            6           \n",
       "                          peak_cts                                 \n",
       "chr10:100006062-100006793 alpha, delta, gamma, ductal              \n",
       "chr10:100009188-100010635 beta, alpha, delta, gamma, acinar, ductal\n",
       "chr10:100019905-100021214 alpha, delta, gamma                      \n",
       "chr10:100037925-100038813 alpha, acinar, ductal                    \n",
       "chr10:100043372-100044999 gamma, acinar, ductal                    \n",
       "chr10:100046018-100046622 beta, alpha, delta, gamma, acinar, ductal\n",
       "                          peak_ct_spec cpm6_num_cts\n",
       "chr10:100006062-100006793 FALSE         2          \n",
       "chr10:100009188-100010635 FALSE         6          \n",
       "chr10:100019905-100021214 FALSE        NA          \n",
       "chr10:100037925-100038813 FALSE        NA          \n",
       "chr10:100043372-100044999 FALSE        NA          \n",
       "chr10:100046018-100046622 FALSE        NA          \n",
       "                          cpm6_cts                                 \n",
       "chr10:100006062-100006793 gamma, ductal                            \n",
       "chr10:100009188-100010635 beta, alpha, delta, gamma, acinar, ductal\n",
       "chr10:100019905-100021214 NA                                       \n",
       "chr10:100037925-100038813 NA                                       \n",
       "chr10:100043372-100044999 NA                                       \n",
       "chr10:100046018-100046622 NA                                       \n",
       "                          cpm6_ct_spec cpm10_num_cts\n",
       "chr10:100006062-100006793 FALSE        NA           \n",
       "chr10:100009188-100010635 FALSE         6           \n",
       "chr10:100019905-100021214    NA        NA           \n",
       "chr10:100037925-100038813    NA        NA           \n",
       "chr10:100043372-100044999    NA        NA           \n",
       "chr10:100046018-100046622    NA        NA           \n",
       "                          cpm10_cts                                \n",
       "chr10:100006062-100006793 NA                                       \n",
       "chr10:100009188-100010635 beta, alpha, delta, gamma, acinar, ductal\n",
       "chr10:100019905-100021214 NA                                       \n",
       "chr10:100037925-100038813 NA                                       \n",
       "chr10:100043372-100044999 NA                                       \n",
       "chr10:100046018-100046622 NA                                       \n",
       "                          cpm10_ct_spec\n",
       "chr10:100006062-100006793    NA        \n",
       "chr10:100009188-100010635 FALSE        \n",
       "chr10:100019905-100021214    NA        \n",
       "chr10:100037925-100038813    NA        \n",
       "chr10:100043372-100044999    NA        \n",
       "chr10:100046018-100046622    NA        "
      ]
     },
     "metadata": {},
     "output_type": "display_data"
    }
   ],
   "source": [
    "rownames(spec) <- spec$cre\n",
    "head(spec)"
   ]
  },
  {
   "cell_type": "code",
   "execution_count": 229,
   "id": "7d7b92ea",
   "metadata": {
    "scrolled": true,
    "vscode": {
     "languageId": "r"
    }
   },
   "outputs": [
    {
     "data": {
      "text/plain": [
       "        cpm6_cts\n",
       "mash_cts acinar acinar, ductal alpha alpha, delta alpha, delta, gamma\n",
       "    beta      6              3     1            1                   2\n",
       "        cpm6_cts\n",
       "mash_cts alpha, delta, gamma, acinar beta beta, acinar, ductal beta, alpha\n",
       "    beta                           1   16                    2           1\n",
       "        cpm6_cts\n",
       "mash_cts beta, alpha, delta, acinar, ductal beta, alpha, delta, gamma\n",
       "    beta                                  1                         9\n",
       "        cpm6_cts\n",
       "mash_cts beta, alpha, delta, gamma, acinar\n",
       "    beta                                 2\n",
       "        cpm6_cts\n",
       "mash_cts beta, alpha, delta, gamma, acinar, ductal\n",
       "    beta                                         9\n",
       "        cpm6_cts\n",
       "mash_cts beta, alpha, delta, gamma, ductal beta, alpha, gamma beta, delta\n",
       "    beta                                 4                  2           3\n",
       "        cpm6_cts\n",
       "mash_cts beta, delta, gamma, acinar, ductal beta, delta, gamma, ductal\n",
       "    beta                                  1                          2\n",
       "        cpm6_cts\n",
       "mash_cts beta, ductal beta, gamma beta, gamma, acinar, ductal delta, gamma\n",
       "    beta            1           1                           1            1\n",
       "        cpm6_cts\n",
       "mash_cts ductal\n",
       "    beta      3"
      ]
     },
     "metadata": {},
     "output_type": "display_data"
    }
   ],
   "source": [
    "table(filter(spec, mash_num_cts==1 & mash_cts=='beta')[,c('mash_cts','cpm6_cts')])"
   ]
  },
  {
   "cell_type": "code",
   "execution_count": 237,
   "id": "7ebc74a5",
   "metadata": {
    "scrolled": true,
    "vscode": {
     "languageId": "r"
    }
   },
   "outputs": [
    {
     "data": {
      "text/html": [
       "<table class=\"dataframe\">\n",
       "<caption>A matrix: 157 × 6 of type chr</caption>\n",
       "<tbody>\n",
       "\t<tr><td>NA    </td><td>      </td><td>      </td><td>     </td><td>      </td><td>      </td></tr>\n",
       "\t<tr><td>beta  </td><td>      </td><td>      </td><td>     </td><td>      </td><td>      </td></tr>\n",
       "\t<tr><td>acinar</td><td>ductal</td><td>      </td><td>     </td><td>      </td><td>      </td></tr>\n",
       "\t<tr><td>beta  </td><td>alpha </td><td>gamma </td><td>     </td><td>      </td><td>      </td></tr>\n",
       "\t<tr><td>beta  </td><td>      </td><td>      </td><td>     </td><td>      </td><td>      </td></tr>\n",
       "\t<tr><td>NA    </td><td>      </td><td>      </td><td>     </td><td>      </td><td>      </td></tr>\n",
       "\t<tr><td>beta  </td><td>delta </td><td>      </td><td>     </td><td>      </td><td>      </td></tr>\n",
       "\t<tr><td>beta  </td><td>delta </td><td>      </td><td>     </td><td>      </td><td>      </td></tr>\n",
       "\t<tr><td>beta  </td><td>alpha </td><td>delta </td><td>gamma</td><td>      </td><td>      </td></tr>\n",
       "\t<tr><td>acinar</td><td>      </td><td>      </td><td>     </td><td>      </td><td>      </td></tr>\n",
       "\t<tr><td>acinar</td><td>      </td><td>      </td><td>     </td><td>      </td><td>      </td></tr>\n",
       "\t<tr><td>ductal</td><td>      </td><td>      </td><td>     </td><td>      </td><td>      </td></tr>\n",
       "\t<tr><td>NA    </td><td>      </td><td>      </td><td>     </td><td>      </td><td>      </td></tr>\n",
       "\t<tr><td>NA    </td><td>      </td><td>      </td><td>     </td><td>      </td><td>      </td></tr>\n",
       "\t<tr><td>beta  </td><td>      </td><td>      </td><td>     </td><td>      </td><td>      </td></tr>\n",
       "\t<tr><td>NA    </td><td>      </td><td>      </td><td>     </td><td>      </td><td>      </td></tr>\n",
       "\t<tr><td>NA    </td><td>      </td><td>      </td><td>     </td><td>      </td><td>      </td></tr>\n",
       "\t<tr><td>beta  </td><td>alpha </td><td>delta </td><td>gamma</td><td>acinar</td><td>ductal</td></tr>\n",
       "\t<tr><td>NA    </td><td>      </td><td>      </td><td>     </td><td>      </td><td>      </td></tr>\n",
       "\t<tr><td>beta  </td><td>acinar</td><td>ductal</td><td>     </td><td>      </td><td>      </td></tr>\n",
       "\t<tr><td>NA    </td><td>      </td><td>      </td><td>     </td><td>      </td><td>      </td></tr>\n",
       "\t<tr><td>beta  </td><td>alpha </td><td>delta </td><td>gamma</td><td>      </td><td>      </td></tr>\n",
       "\t<tr><td>NA    </td><td>      </td><td>      </td><td>     </td><td>      </td><td>      </td></tr>\n",
       "\t<tr><td>beta  </td><td>alpha </td><td>delta </td><td>gamma</td><td>acinar</td><td>ductal</td></tr>\n",
       "\t<tr><td>beta  </td><td>alpha </td><td>delta </td><td>gamma</td><td>      </td><td>      </td></tr>\n",
       "\t<tr><td>NA    </td><td>      </td><td>      </td><td>     </td><td>      </td><td>      </td></tr>\n",
       "\t<tr><td>NA    </td><td>      </td><td>      </td><td>     </td><td>      </td><td>      </td></tr>\n",
       "\t<tr><td>beta  </td><td>alpha </td><td>delta </td><td>gamma</td><td>      </td><td>      </td></tr>\n",
       "\t<tr><td>beta  </td><td>alpha </td><td>delta </td><td>gamma</td><td>      </td><td>      </td></tr>\n",
       "\t<tr><td>acinar</td><td>      </td><td>      </td><td>     </td><td>      </td><td>      </td></tr>\n",
       "\t<tr><td>⋮</td><td>⋮</td><td>⋮</td><td>⋮</td><td>⋮</td><td>⋮</td></tr>\n",
       "\t<tr><td>NA   </td><td>      </td><td></td><td></td><td></td><td></td></tr>\n",
       "\t<tr><td>NA   </td><td>      </td><td></td><td></td><td></td><td></td></tr>\n",
       "\t<tr><td>NA   </td><td>      </td><td></td><td></td><td></td><td></td></tr>\n",
       "\t<tr><td>NA   </td><td>      </td><td></td><td></td><td></td><td></td></tr>\n",
       "\t<tr><td>NA   </td><td>      </td><td></td><td></td><td></td><td></td></tr>\n",
       "\t<tr><td>NA   </td><td>      </td><td></td><td></td><td></td><td></td></tr>\n",
       "\t<tr><td>NA   </td><td>      </td><td></td><td></td><td></td><td></td></tr>\n",
       "\t<tr><td>NA   </td><td>      </td><td></td><td></td><td></td><td></td></tr>\n",
       "\t<tr><td>NA   </td><td>      </td><td></td><td></td><td></td><td></td></tr>\n",
       "\t<tr><td>NA   </td><td>      </td><td></td><td></td><td></td><td></td></tr>\n",
       "\t<tr><td>NA   </td><td>      </td><td></td><td></td><td></td><td></td></tr>\n",
       "\t<tr><td>NA   </td><td>      </td><td></td><td></td><td></td><td></td></tr>\n",
       "\t<tr><td>NA   </td><td>      </td><td></td><td></td><td></td><td></td></tr>\n",
       "\t<tr><td>delta</td><td>gamma </td><td></td><td></td><td></td><td></td></tr>\n",
       "\t<tr><td>alpha</td><td>delta </td><td></td><td></td><td></td><td></td></tr>\n",
       "\t<tr><td>NA   </td><td>      </td><td></td><td></td><td></td><td></td></tr>\n",
       "\t<tr><td>NA   </td><td>      </td><td></td><td></td><td></td><td></td></tr>\n",
       "\t<tr><td>NA   </td><td>      </td><td></td><td></td><td></td><td></td></tr>\n",
       "\t<tr><td>NA   </td><td>      </td><td></td><td></td><td></td><td></td></tr>\n",
       "\t<tr><td>NA   </td><td>      </td><td></td><td></td><td></td><td></td></tr>\n",
       "\t<tr><td>NA   </td><td>      </td><td></td><td></td><td></td><td></td></tr>\n",
       "\t<tr><td>NA   </td><td>      </td><td></td><td></td><td></td><td></td></tr>\n",
       "\t<tr><td>NA   </td><td>      </td><td></td><td></td><td></td><td></td></tr>\n",
       "\t<tr><td>NA   </td><td>      </td><td></td><td></td><td></td><td></td></tr>\n",
       "\t<tr><td>NA   </td><td>      </td><td></td><td></td><td></td><td></td></tr>\n",
       "\t<tr><td>beta </td><td>ductal</td><td></td><td></td><td></td><td></td></tr>\n",
       "\t<tr><td>NA   </td><td>      </td><td></td><td></td><td></td><td></td></tr>\n",
       "\t<tr><td>NA   </td><td>      </td><td></td><td></td><td></td><td></td></tr>\n",
       "\t<tr><td>NA   </td><td>      </td><td></td><td></td><td></td><td></td></tr>\n",
       "\t<tr><td>NA   </td><td>      </td><td></td><td></td><td></td><td></td></tr>\n",
       "</tbody>\n",
       "</table>\n"
      ],
      "text/latex": [
       "A matrix: 157 × 6 of type chr\n",
       "\\begin{tabular}{llllll}\n",
       "\t NA     &        &        &       &        &       \\\\\n",
       "\t beta   &        &        &       &        &       \\\\\n",
       "\t acinar & ductal &        &       &        &       \\\\\n",
       "\t beta   & alpha  & gamma  &       &        &       \\\\\n",
       "\t beta   &        &        &       &        &       \\\\\n",
       "\t NA     &        &        &       &        &       \\\\\n",
       "\t beta   & delta  &        &       &        &       \\\\\n",
       "\t beta   & delta  &        &       &        &       \\\\\n",
       "\t beta   & alpha  & delta  & gamma &        &       \\\\\n",
       "\t acinar &        &        &       &        &       \\\\\n",
       "\t acinar &        &        &       &        &       \\\\\n",
       "\t ductal &        &        &       &        &       \\\\\n",
       "\t NA     &        &        &       &        &       \\\\\n",
       "\t NA     &        &        &       &        &       \\\\\n",
       "\t beta   &        &        &       &        &       \\\\\n",
       "\t NA     &        &        &       &        &       \\\\\n",
       "\t NA     &        &        &       &        &       \\\\\n",
       "\t beta   & alpha  & delta  & gamma & acinar & ductal\\\\\n",
       "\t NA     &        &        &       &        &       \\\\\n",
       "\t beta   & acinar & ductal &       &        &       \\\\\n",
       "\t NA     &        &        &       &        &       \\\\\n",
       "\t beta   & alpha  & delta  & gamma &        &       \\\\\n",
       "\t NA     &        &        &       &        &       \\\\\n",
       "\t beta   & alpha  & delta  & gamma & acinar & ductal\\\\\n",
       "\t beta   & alpha  & delta  & gamma &        &       \\\\\n",
       "\t NA     &        &        &       &        &       \\\\\n",
       "\t NA     &        &        &       &        &       \\\\\n",
       "\t beta   & alpha  & delta  & gamma &        &       \\\\\n",
       "\t beta   & alpha  & delta  & gamma &        &       \\\\\n",
       "\t acinar &        &        &       &        &       \\\\\n",
       "\t ⋮ & ⋮ & ⋮ & ⋮ & ⋮ & ⋮\\\\\n",
       "\t NA    &        &  &  &  & \\\\\n",
       "\t NA    &        &  &  &  & \\\\\n",
       "\t NA    &        &  &  &  & \\\\\n",
       "\t NA    &        &  &  &  & \\\\\n",
       "\t NA    &        &  &  &  & \\\\\n",
       "\t NA    &        &  &  &  & \\\\\n",
       "\t NA    &        &  &  &  & \\\\\n",
       "\t NA    &        &  &  &  & \\\\\n",
       "\t NA    &        &  &  &  & \\\\\n",
       "\t NA    &        &  &  &  & \\\\\n",
       "\t NA    &        &  &  &  & \\\\\n",
       "\t NA    &        &  &  &  & \\\\\n",
       "\t NA    &        &  &  &  & \\\\\n",
       "\t delta & gamma  &  &  &  & \\\\\n",
       "\t alpha & delta  &  &  &  & \\\\\n",
       "\t NA    &        &  &  &  & \\\\\n",
       "\t NA    &        &  &  &  & \\\\\n",
       "\t NA    &        &  &  &  & \\\\\n",
       "\t NA    &        &  &  &  & \\\\\n",
       "\t NA    &        &  &  &  & \\\\\n",
       "\t NA    &        &  &  &  & \\\\\n",
       "\t NA    &        &  &  &  & \\\\\n",
       "\t NA    &        &  &  &  & \\\\\n",
       "\t NA    &        &  &  &  & \\\\\n",
       "\t NA    &        &  &  &  & \\\\\n",
       "\t beta  & ductal &  &  &  & \\\\\n",
       "\t NA    &        &  &  &  & \\\\\n",
       "\t NA    &        &  &  &  & \\\\\n",
       "\t NA    &        &  &  &  & \\\\\n",
       "\t NA    &        &  &  &  & \\\\\n",
       "\\end{tabular}\n"
      ],
      "text/markdown": [
       "\n",
       "A matrix: 157 × 6 of type chr\n",
       "\n",
       "| NA     | <!----> | <!----> | <!----> | <!----> | <!----> |\n",
       "| beta   | <!----> | <!----> | <!----> | <!----> | <!----> |\n",
       "| acinar | ductal | <!----> | <!----> | <!----> | <!----> |\n",
       "| beta   | alpha  | gamma  | <!----> | <!----> | <!----> |\n",
       "| beta   | <!----> | <!----> | <!----> | <!----> | <!----> |\n",
       "| NA     | <!----> | <!----> | <!----> | <!----> | <!----> |\n",
       "| beta   | delta  | <!----> | <!----> | <!----> | <!----> |\n",
       "| beta   | delta  | <!----> | <!----> | <!----> | <!----> |\n",
       "| beta   | alpha  | delta  | gamma | <!----> | <!----> |\n",
       "| acinar | <!----> | <!----> | <!----> | <!----> | <!----> |\n",
       "| acinar | <!----> | <!----> | <!----> | <!----> | <!----> |\n",
       "| ductal | <!----> | <!----> | <!----> | <!----> | <!----> |\n",
       "| NA     | <!----> | <!----> | <!----> | <!----> | <!----> |\n",
       "| NA     | <!----> | <!----> | <!----> | <!----> | <!----> |\n",
       "| beta   | <!----> | <!----> | <!----> | <!----> | <!----> |\n",
       "| NA     | <!----> | <!----> | <!----> | <!----> | <!----> |\n",
       "| NA     | <!----> | <!----> | <!----> | <!----> | <!----> |\n",
       "| beta   | alpha  | delta  | gamma | acinar | ductal |\n",
       "| NA     | <!----> | <!----> | <!----> | <!----> | <!----> |\n",
       "| beta   | acinar | ductal | <!----> | <!----> | <!----> |\n",
       "| NA     | <!----> | <!----> | <!----> | <!----> | <!----> |\n",
       "| beta   | alpha  | delta  | gamma | <!----> | <!----> |\n",
       "| NA     | <!----> | <!----> | <!----> | <!----> | <!----> |\n",
       "| beta   | alpha  | delta  | gamma | acinar | ductal |\n",
       "| beta   | alpha  | delta  | gamma | <!----> | <!----> |\n",
       "| NA     | <!----> | <!----> | <!----> | <!----> | <!----> |\n",
       "| NA     | <!----> | <!----> | <!----> | <!----> | <!----> |\n",
       "| beta   | alpha  | delta  | gamma | <!----> | <!----> |\n",
       "| beta   | alpha  | delta  | gamma | <!----> | <!----> |\n",
       "| acinar | <!----> | <!----> | <!----> | <!----> | <!----> |\n",
       "| ⋮ | ⋮ | ⋮ | ⋮ | ⋮ | ⋮ |\n",
       "| NA    | <!----> | <!----> | <!----> | <!----> | <!----> |\n",
       "| NA    | <!----> | <!----> | <!----> | <!----> | <!----> |\n",
       "| NA    | <!----> | <!----> | <!----> | <!----> | <!----> |\n",
       "| NA    | <!----> | <!----> | <!----> | <!----> | <!----> |\n",
       "| NA    | <!----> | <!----> | <!----> | <!----> | <!----> |\n",
       "| NA    | <!----> | <!----> | <!----> | <!----> | <!----> |\n",
       "| NA    | <!----> | <!----> | <!----> | <!----> | <!----> |\n",
       "| NA    | <!----> | <!----> | <!----> | <!----> | <!----> |\n",
       "| NA    | <!----> | <!----> | <!----> | <!----> | <!----> |\n",
       "| NA    | <!----> | <!----> | <!----> | <!----> | <!----> |\n",
       "| NA    | <!----> | <!----> | <!----> | <!----> | <!----> |\n",
       "| NA    | <!----> | <!----> | <!----> | <!----> | <!----> |\n",
       "| NA    | <!----> | <!----> | <!----> | <!----> | <!----> |\n",
       "| delta | gamma  | <!----> | <!----> | <!----> | <!----> |\n",
       "| alpha | delta  | <!----> | <!----> | <!----> | <!----> |\n",
       "| NA    | <!----> | <!----> | <!----> | <!----> | <!----> |\n",
       "| NA    | <!----> | <!----> | <!----> | <!----> | <!----> |\n",
       "| NA    | <!----> | <!----> | <!----> | <!----> | <!----> |\n",
       "| NA    | <!----> | <!----> | <!----> | <!----> | <!----> |\n",
       "| NA    | <!----> | <!----> | <!----> | <!----> | <!----> |\n",
       "| NA    | <!----> | <!----> | <!----> | <!----> | <!----> |\n",
       "| NA    | <!----> | <!----> | <!----> | <!----> | <!----> |\n",
       "| NA    | <!----> | <!----> | <!----> | <!----> | <!----> |\n",
       "| NA    | <!----> | <!----> | <!----> | <!----> | <!----> |\n",
       "| NA    | <!----> | <!----> | <!----> | <!----> | <!----> |\n",
       "| beta  | ductal | <!----> | <!----> | <!----> | <!----> |\n",
       "| NA    | <!----> | <!----> | <!----> | <!----> | <!----> |\n",
       "| NA    | <!----> | <!----> | <!----> | <!----> | <!----> |\n",
       "| NA    | <!----> | <!----> | <!----> | <!----> | <!----> |\n",
       "| NA    | <!----> | <!----> | <!----> | <!----> | <!----> |\n",
       "\n"
      ],
      "text/plain": [
       "      [,1]   [,2]   [,3]   [,4]  [,5]   [,6]  \n",
       " [1,] NA                                      \n",
       " [2,] beta                                    \n",
       " [3,] acinar ductal                           \n",
       " [4,] beta   alpha  gamma                     \n",
       " [5,] beta                                    \n",
       " [6,] NA                                      \n",
       " [7,] beta   delta                            \n",
       " [8,] beta   delta                            \n",
       " [9,] beta   alpha  delta  gamma              \n",
       "[10,] acinar                                  \n",
       "[11,] acinar                                  \n",
       "[12,] ductal                                  \n",
       "[13,] NA                                      \n",
       "[14,] NA                                      \n",
       "[15,] beta                                    \n",
       "[16,] NA                                      \n",
       "[17,] NA                                      \n",
       "[18,] beta   alpha  delta  gamma acinar ductal\n",
       "[19,] NA                                      \n",
       "[20,] beta   acinar ductal                    \n",
       "[21,] NA                                      \n",
       "[22,] beta   alpha  delta  gamma              \n",
       "[23,] NA                                      \n",
       "[24,] beta   alpha  delta  gamma acinar ductal\n",
       "[25,] beta   alpha  delta  gamma              \n",
       "[26,] NA                                      \n",
       "[27,] NA                                      \n",
       "[28,] beta   alpha  delta  gamma              \n",
       "[29,] beta   alpha  delta  gamma              \n",
       "[30,] acinar                                  \n",
       "[31,] ⋮      ⋮      ⋮      ⋮     ⋮      ⋮     \n",
       "[32,] NA                                      \n",
       "[33,] NA                                      \n",
       "[34,] NA                                      \n",
       "[35,] NA                                      \n",
       "[36,] NA                                      \n",
       "[37,] NA                                      \n",
       "[38,] NA                                      \n",
       "[39,] NA                                      \n",
       "[40,] NA                                      \n",
       "[41,] NA                                      \n",
       "[42,] NA                                      \n",
       "[43,] NA                                      \n",
       "[44,] NA                                      \n",
       "[45,] delta  gamma                            \n",
       "[46,] alpha  delta                            \n",
       "[47,] NA                                      \n",
       "[48,] NA                                      \n",
       "[49,] NA                                      \n",
       "[50,] NA                                      \n",
       "[51,] NA                                      \n",
       "[52,] NA                                      \n",
       "[53,] NA                                      \n",
       "[54,] NA                                      \n",
       "[55,] NA                                      \n",
       "[56,] NA                                      \n",
       "[57,] beta   ductal                           \n",
       "[58,] NA                                      \n",
       "[59,] NA                                      \n",
       "[60,] NA                                      \n",
       "[61,] NA                                      "
      ]
     },
     "metadata": {},
     "output_type": "display_data"
    }
   ],
   "source": [
    "str_split(filter(spec, mash_num_cts==1 & mash_cts=='beta')$cpm6_cts, \", \", simplify=T)"
   ]
  },
  {
   "cell_type": "code",
   "execution_count": 233,
   "id": "efb2b789",
   "metadata": {
    "scrolled": true,
    "vscode": {
     "languageId": "r"
    }
   },
   "outputs": [
    {
     "data": {
      "text/html": [
       "157"
      ],
      "text/latex": [
       "157"
      ],
      "text/markdown": [
       "157"
      ],
      "text/plain": [
       "[1] 157"
      ]
     },
     "metadata": {},
     "output_type": "display_data"
    },
    {
     "data": {
      "text/html": [
       "3"
      ],
      "text/latex": [
       "3"
      ],
      "text/markdown": [
       "3"
      ],
      "text/plain": [
       "[1] 3"
      ]
     },
     "metadata": {},
     "output_type": "display_data"
    }
   ],
   "source": [
    "nrow(filter(spec, mash_num_cts==1 & mash_cts=='beta')[,c('mash_cts','cpm6_cts')])\n",
    "sum(is.na(filter(spec, mash_num_cts==1 & mash_cts=='beta')[,c('mash_cts','cpm6_cts')]$cpm6_cts))"
   ]
  },
  {
   "cell_type": "code",
   "execution_count": 264,
   "id": "c7a97cca",
   "metadata": {
    "scrolled": true,
    "vscode": {
     "languageId": "r"
    }
   },
   "outputs": [
    {
     "data": {
      "text/html": [
       "<table class=\"dataframe\">\n",
       "<caption>A data.frame: 6 × 16</caption>\n",
       "<thead>\n",
       "\t<tr><th></th><th scope=col>cre</th><th scope=col>sig_caqtls_num_cts</th><th scope=col>sig_caqtls_cts</th><th scope=col>sig_caqtls_cts_spec</th><th scope=col>mash_num_cts</th><th scope=col>mash_cts</th><th scope=col>mash_cts_spec</th><th scope=col>peak_num_cts</th><th scope=col>peak_cts</th><th scope=col>peak_ct_spec</th><th scope=col>cpm6_num_cts</th><th scope=col>cpm6_cts</th><th scope=col>cpm6_ct_spec</th><th scope=col>cpm10_num_cts</th><th scope=col>cpm10_cts</th><th scope=col>cpm10_ct_spec</th></tr>\n",
       "\t<tr><th></th><th scope=col>&lt;chr&gt;</th><th scope=col>&lt;int&gt;</th><th scope=col>&lt;chr&gt;</th><th scope=col>&lt;lgl&gt;</th><th scope=col>&lt;int&gt;</th><th scope=col>&lt;chr&gt;</th><th scope=col>&lt;lgl&gt;</th><th scope=col>&lt;int&gt;</th><th scope=col>&lt;chr&gt;</th><th scope=col>&lt;lgl&gt;</th><th scope=col>&lt;int&gt;</th><th scope=col>&lt;chr&gt;</th><th scope=col>&lt;lgl&gt;</th><th scope=col>&lt;int&gt;</th><th scope=col>&lt;chr&gt;</th><th scope=col>&lt;lgl&gt;</th></tr>\n",
       "</thead>\n",
       "<tbody>\n",
       "\t<tr><th scope=row>chr10:120635775-120636947</th><td>chr10:120635775-120636947</td><td>2</td><td>beta, bulk</td><td>FALSE</td><td>1</td><td>beta</td><td>TRUE</td><td>5</td><td>beta, delta, gamma, acinar, ductal       </td><td>FALSE</td><td>NA</td><td>NA                </td><td>   NA</td><td>NA</td><td>NA          </td><td>   NA</td></tr>\n",
       "\t<tr><th scope=row>chr10:125990587-125992224</th><td>chr10:125990587-125992224</td><td>2</td><td>beta, bulk</td><td>FALSE</td><td>1</td><td>beta</td><td>TRUE</td><td>6</td><td>beta, alpha, delta, gamma, acinar, ductal</td><td>FALSE</td><td> 1</td><td>beta              </td><td> TRUE</td><td>NA</td><td>NA          </td><td>   NA</td></tr>\n",
       "\t<tr><th scope=row>chr10:14056650-14057465</th><td>chr10:14056650-14057465  </td><td>2</td><td>beta, bulk</td><td>FALSE</td><td>1</td><td>beta</td><td>TRUE</td><td>3</td><td>beta, acinar, ductal                     </td><td>FALSE</td><td> 2</td><td>acinar, ductal    </td><td>FALSE</td><td>NA</td><td>NA          </td><td>   NA</td></tr>\n",
       "\t<tr><th scope=row>chr10:3894888-3895899</th><td>chr10:3894888-3895899    </td><td>2</td><td>beta, bulk</td><td>FALSE</td><td>1</td><td>beta</td><td>TRUE</td><td>6</td><td>beta, alpha, delta, gamma, acinar, ductal</td><td>FALSE</td><td> 3</td><td>beta, alpha, gamma</td><td>FALSE</td><td> 2</td><td>alpha, gamma</td><td>FALSE</td></tr>\n",
       "\t<tr><th scope=row>chr10:4651443-4652570</th><td>chr10:4651443-4652570    </td><td>2</td><td>beta, bulk</td><td>FALSE</td><td>1</td><td>beta</td><td>TRUE</td><td>6</td><td>beta, alpha, delta, gamma, acinar, ductal</td><td>FALSE</td><td> 1</td><td>beta              </td><td> TRUE</td><td>NA</td><td>NA          </td><td>   NA</td></tr>\n",
       "\t<tr><th scope=row>chr10:60905337-60905921</th><td>chr10:60905337-60905921  </td><td>2</td><td>beta, bulk</td><td>FALSE</td><td>1</td><td>beta</td><td>TRUE</td><td>2</td><td>beta, acinar                             </td><td>FALSE</td><td>NA</td><td>NA                </td><td>   NA</td><td>NA</td><td>NA          </td><td>   NA</td></tr>\n",
       "</tbody>\n",
       "</table>\n"
      ],
      "text/latex": [
       "A data.frame: 6 × 16\n",
       "\\begin{tabular}{r|llllllllllllllll}\n",
       "  & cre & sig\\_caqtls\\_num\\_cts & sig\\_caqtls\\_cts & sig\\_caqtls\\_cts\\_spec & mash\\_num\\_cts & mash\\_cts & mash\\_cts\\_spec & peak\\_num\\_cts & peak\\_cts & peak\\_ct\\_spec & cpm6\\_num\\_cts & cpm6\\_cts & cpm6\\_ct\\_spec & cpm10\\_num\\_cts & cpm10\\_cts & cpm10\\_ct\\_spec\\\\\n",
       "  & <chr> & <int> & <chr> & <lgl> & <int> & <chr> & <lgl> & <int> & <chr> & <lgl> & <int> & <chr> & <lgl> & <int> & <chr> & <lgl>\\\\\n",
       "\\hline\n",
       "\tchr10:120635775-120636947 & chr10:120635775-120636947 & 2 & beta, bulk & FALSE & 1 & beta & TRUE & 5 & beta, delta, gamma, acinar, ductal        & FALSE & NA & NA                 &    NA & NA & NA           &    NA\\\\\n",
       "\tchr10:125990587-125992224 & chr10:125990587-125992224 & 2 & beta, bulk & FALSE & 1 & beta & TRUE & 6 & beta, alpha, delta, gamma, acinar, ductal & FALSE &  1 & beta               &  TRUE & NA & NA           &    NA\\\\\n",
       "\tchr10:14056650-14057465 & chr10:14056650-14057465   & 2 & beta, bulk & FALSE & 1 & beta & TRUE & 3 & beta, acinar, ductal                      & FALSE &  2 & acinar, ductal     & FALSE & NA & NA           &    NA\\\\\n",
       "\tchr10:3894888-3895899 & chr10:3894888-3895899     & 2 & beta, bulk & FALSE & 1 & beta & TRUE & 6 & beta, alpha, delta, gamma, acinar, ductal & FALSE &  3 & beta, alpha, gamma & FALSE &  2 & alpha, gamma & FALSE\\\\\n",
       "\tchr10:4651443-4652570 & chr10:4651443-4652570     & 2 & beta, bulk & FALSE & 1 & beta & TRUE & 6 & beta, alpha, delta, gamma, acinar, ductal & FALSE &  1 & beta               &  TRUE & NA & NA           &    NA\\\\\n",
       "\tchr10:60905337-60905921 & chr10:60905337-60905921   & 2 & beta, bulk & FALSE & 1 & beta & TRUE & 2 & beta, acinar                              & FALSE & NA & NA                 &    NA & NA & NA           &    NA\\\\\n",
       "\\end{tabular}\n"
      ],
      "text/markdown": [
       "\n",
       "A data.frame: 6 × 16\n",
       "\n",
       "| <!--/--> | cre &lt;chr&gt; | sig_caqtls_num_cts &lt;int&gt; | sig_caqtls_cts &lt;chr&gt; | sig_caqtls_cts_spec &lt;lgl&gt; | mash_num_cts &lt;int&gt; | mash_cts &lt;chr&gt; | mash_cts_spec &lt;lgl&gt; | peak_num_cts &lt;int&gt; | peak_cts &lt;chr&gt; | peak_ct_spec &lt;lgl&gt; | cpm6_num_cts &lt;int&gt; | cpm6_cts &lt;chr&gt; | cpm6_ct_spec &lt;lgl&gt; | cpm10_num_cts &lt;int&gt; | cpm10_cts &lt;chr&gt; | cpm10_ct_spec &lt;lgl&gt; |\n",
       "|---|---|---|---|---|---|---|---|---|---|---|---|---|---|---|---|---|\n",
       "| chr10:120635775-120636947 | chr10:120635775-120636947 | 2 | beta, bulk | FALSE | 1 | beta | TRUE | 5 | beta, delta, gamma, acinar, ductal        | FALSE | NA | NA                 |    NA | NA | NA           |    NA |\n",
       "| chr10:125990587-125992224 | chr10:125990587-125992224 | 2 | beta, bulk | FALSE | 1 | beta | TRUE | 6 | beta, alpha, delta, gamma, acinar, ductal | FALSE |  1 | beta               |  TRUE | NA | NA           |    NA |\n",
       "| chr10:14056650-14057465 | chr10:14056650-14057465   | 2 | beta, bulk | FALSE | 1 | beta | TRUE | 3 | beta, acinar, ductal                      | FALSE |  2 | acinar, ductal     | FALSE | NA | NA           |    NA |\n",
       "| chr10:3894888-3895899 | chr10:3894888-3895899     | 2 | beta, bulk | FALSE | 1 | beta | TRUE | 6 | beta, alpha, delta, gamma, acinar, ductal | FALSE |  3 | beta, alpha, gamma | FALSE |  2 | alpha, gamma | FALSE |\n",
       "| chr10:4651443-4652570 | chr10:4651443-4652570     | 2 | beta, bulk | FALSE | 1 | beta | TRUE | 6 | beta, alpha, delta, gamma, acinar, ductal | FALSE |  1 | beta               |  TRUE | NA | NA           |    NA |\n",
       "| chr10:60905337-60905921 | chr10:60905337-60905921   | 2 | beta, bulk | FALSE | 1 | beta | TRUE | 2 | beta, acinar                              | FALSE | NA | NA                 |    NA | NA | NA           |    NA |\n",
       "\n"
      ],
      "text/plain": [
       "                          cre                       sig_caqtls_num_cts\n",
       "chr10:120635775-120636947 chr10:120635775-120636947 2                 \n",
       "chr10:125990587-125992224 chr10:125990587-125992224 2                 \n",
       "chr10:14056650-14057465   chr10:14056650-14057465   2                 \n",
       "chr10:3894888-3895899     chr10:3894888-3895899     2                 \n",
       "chr10:4651443-4652570     chr10:4651443-4652570     2                 \n",
       "chr10:60905337-60905921   chr10:60905337-60905921   2                 \n",
       "                          sig_caqtls_cts sig_caqtls_cts_spec mash_num_cts\n",
       "chr10:120635775-120636947 beta, bulk     FALSE               1           \n",
       "chr10:125990587-125992224 beta, bulk     FALSE               1           \n",
       "chr10:14056650-14057465   beta, bulk     FALSE               1           \n",
       "chr10:3894888-3895899     beta, bulk     FALSE               1           \n",
       "chr10:4651443-4652570     beta, bulk     FALSE               1           \n",
       "chr10:60905337-60905921   beta, bulk     FALSE               1           \n",
       "                          mash_cts mash_cts_spec peak_num_cts\n",
       "chr10:120635775-120636947 beta     TRUE          5           \n",
       "chr10:125990587-125992224 beta     TRUE          6           \n",
       "chr10:14056650-14057465   beta     TRUE          3           \n",
       "chr10:3894888-3895899     beta     TRUE          6           \n",
       "chr10:4651443-4652570     beta     TRUE          6           \n",
       "chr10:60905337-60905921   beta     TRUE          2           \n",
       "                          peak_cts                                 \n",
       "chr10:120635775-120636947 beta, delta, gamma, acinar, ductal       \n",
       "chr10:125990587-125992224 beta, alpha, delta, gamma, acinar, ductal\n",
       "chr10:14056650-14057465   beta, acinar, ductal                     \n",
       "chr10:3894888-3895899     beta, alpha, delta, gamma, acinar, ductal\n",
       "chr10:4651443-4652570     beta, alpha, delta, gamma, acinar, ductal\n",
       "chr10:60905337-60905921   beta, acinar                             \n",
       "                          peak_ct_spec cpm6_num_cts cpm6_cts          \n",
       "chr10:120635775-120636947 FALSE        NA           NA                \n",
       "chr10:125990587-125992224 FALSE         1           beta              \n",
       "chr10:14056650-14057465   FALSE         2           acinar, ductal    \n",
       "chr10:3894888-3895899     FALSE         3           beta, alpha, gamma\n",
       "chr10:4651443-4652570     FALSE         1           beta              \n",
       "chr10:60905337-60905921   FALSE        NA           NA                \n",
       "                          cpm6_ct_spec cpm10_num_cts cpm10_cts    cpm10_ct_spec\n",
       "chr10:120635775-120636947    NA        NA            NA              NA        \n",
       "chr10:125990587-125992224  TRUE        NA            NA              NA        \n",
       "chr10:14056650-14057465   FALSE        NA            NA              NA        \n",
       "chr10:3894888-3895899     FALSE         2            alpha, gamma FALSE        \n",
       "chr10:4651443-4652570      TRUE        NA            NA              NA        \n",
       "chr10:60905337-60905921      NA        NA            NA              NA        "
      ]
     },
     "metadata": {},
     "output_type": "display_data"
    }
   ],
   "source": [
    "head(filter(spec, mash_num_cts==1 & mash_cts=='beta'))"
   ]
  },
  {
   "cell_type": "code",
   "execution_count": 265,
   "id": "6fe3d98e",
   "metadata": {
    "scrolled": true,
    "vscode": {
     "languageId": "r"
    }
   },
   "outputs": [
    {
     "data": {
      "text/html": [
       "<style>\n",
       ".list-inline {list-style: none; margin:0; padding: 0}\n",
       ".list-inline>li {display: inline-block}\n",
       ".list-inline>li:not(:last-child)::after {content: \"\\00b7\"; padding: 0 .5ex}\n",
       "</style>\n",
       "<ol class=list-inline><li>157</li><li>6</li></ol>\n"
      ],
      "text/latex": [
       "\\begin{enumerate*}\n",
       "\\item 157\n",
       "\\item 6\n",
       "\\end{enumerate*}\n"
      ],
      "text/markdown": [
       "1. 157\n",
       "2. 6\n",
       "\n",
       "\n"
      ],
      "text/plain": [
       "[1] 157   6"
      ]
     },
     "metadata": {},
     "output_type": "display_data"
    },
    {
     "data": {
      "text/html": [
       "<table class=\"dataframe\">\n",
       "<caption>A data.frame: 6 × 6</caption>\n",
       "<thead>\n",
       "\t<tr><th></th><th scope=col>acinar</th><th scope=col>alpha</th><th scope=col>beta</th><th scope=col>delta</th><th scope=col>ductal</th><th scope=col>gamma</th></tr>\n",
       "\t<tr><th></th><th scope=col>&lt;dbl&gt;</th><th scope=col>&lt;dbl&gt;</th><th scope=col>&lt;dbl&gt;</th><th scope=col>&lt;dbl&gt;</th><th scope=col>&lt;dbl&gt;</th><th scope=col>&lt;dbl&gt;</th></tr>\n",
       "</thead>\n",
       "<tbody>\n",
       "\t<tr><th scope=row>chr10:120635775-120636947</th><td>NA</td><td>NA</td><td>NA</td><td>NA</td><td>NA</td><td>NA</td></tr>\n",
       "\t<tr><th scope=row>chr10:125990587-125992224</th><td> 0</td><td> 0</td><td> 1</td><td> 0</td><td> 0</td><td> 0</td></tr>\n",
       "\t<tr><th scope=row>chr10:14056650-14057465</th><td> 1</td><td> 0</td><td> 0</td><td> 0</td><td> 1</td><td> 0</td></tr>\n",
       "\t<tr><th scope=row>chr10:3894888-3895899</th><td> 0</td><td> 1</td><td> 1</td><td> 0</td><td> 0</td><td> 1</td></tr>\n",
       "\t<tr><th scope=row>chr10:4651443-4652570</th><td> 0</td><td> 0</td><td> 1</td><td> 0</td><td> 0</td><td> 0</td></tr>\n",
       "\t<tr><th scope=row>chr10:60905337-60905921</th><td>NA</td><td>NA</td><td>NA</td><td>NA</td><td>NA</td><td>NA</td></tr>\n",
       "</tbody>\n",
       "</table>\n"
      ],
      "text/latex": [
       "A data.frame: 6 × 6\n",
       "\\begin{tabular}{r|llllll}\n",
       "  & acinar & alpha & beta & delta & ductal & gamma\\\\\n",
       "  & <dbl> & <dbl> & <dbl> & <dbl> & <dbl> & <dbl>\\\\\n",
       "\\hline\n",
       "\tchr10:120635775-120636947 & NA & NA & NA & NA & NA & NA\\\\\n",
       "\tchr10:125990587-125992224 &  0 &  0 &  1 &  0 &  0 &  0\\\\\n",
       "\tchr10:14056650-14057465 &  1 &  0 &  0 &  0 &  1 &  0\\\\\n",
       "\tchr10:3894888-3895899 &  0 &  1 &  1 &  0 &  0 &  1\\\\\n",
       "\tchr10:4651443-4652570 &  0 &  0 &  1 &  0 &  0 &  0\\\\\n",
       "\tchr10:60905337-60905921 & NA & NA & NA & NA & NA & NA\\\\\n",
       "\\end{tabular}\n"
      ],
      "text/markdown": [
       "\n",
       "A data.frame: 6 × 6\n",
       "\n",
       "| <!--/--> | acinar &lt;dbl&gt; | alpha &lt;dbl&gt; | beta &lt;dbl&gt; | delta &lt;dbl&gt; | ductal &lt;dbl&gt; | gamma &lt;dbl&gt; |\n",
       "|---|---|---|---|---|---|---|\n",
       "| chr10:120635775-120636947 | NA | NA | NA | NA | NA | NA |\n",
       "| chr10:125990587-125992224 |  0 |  0 |  1 |  0 |  0 |  0 |\n",
       "| chr10:14056650-14057465 |  1 |  0 |  0 |  0 |  1 |  0 |\n",
       "| chr10:3894888-3895899 |  0 |  1 |  1 |  0 |  0 |  1 |\n",
       "| chr10:4651443-4652570 |  0 |  0 |  1 |  0 |  0 |  0 |\n",
       "| chr10:60905337-60905921 | NA | NA | NA | NA | NA | NA |\n",
       "\n"
      ],
      "text/plain": [
       "                          acinar alpha beta delta ductal gamma\n",
       "chr10:120635775-120636947 NA     NA    NA   NA    NA     NA   \n",
       "chr10:125990587-125992224  0      0     1    0     0      0   \n",
       "chr10:14056650-14057465    1      0     0    0     1      0   \n",
       "chr10:3894888-3895899      0      1     1    0     0      1   \n",
       "chr10:4651443-4652570      0      0     1    0     0      0   \n",
       "chr10:60905337-60905921   NA     NA    NA   NA    NA     NA   "
      ]
     },
     "metadata": {},
     "output_type": "display_data"
    }
   ],
   "source": [
    "spec_upset <- data.frame(acinar=as.numeric(str_detect(filter(spec, mash_num_cts==1 & mash_cts=='beta')$cpm6_cts, \"acinar\")),\n",
    "           alpha=as.numeric(str_detect(filter(spec, mash_num_cts==1 & mash_cts=='beta')$cpm6_cts, \"alpha\")),\n",
    "           beta=as.numeric(str_detect(filter(spec, mash_num_cts==1 & mash_cts=='beta')$cpm6_cts, \"beta\")),\n",
    "           delta=as.numeric(str_detect(filter(spec, mash_num_cts==1 & mash_cts=='beta')$cpm6_cts, \"delta\")),\n",
    "           ductal=as.numeric(str_detect(filter(spec, mash_num_cts==1 & mash_cts=='beta')$cpm6_cts, \"ductal\")),\n",
    "           gamma=as.numeric(str_detect(filter(spec, mash_num_cts==1 & mash_cts=='beta')$cpm6_cts, \"gamma\")))\n",
    "\n",
    "rownames(spec_upset) <- rownames(filter(spec, mash_num_cts==1 & mash_cts=='beta'))\n",
    "dim(spec_upset)\n",
    "head(spec_upset)"
   ]
  },
  {
   "cell_type": "code",
   "execution_count": 260,
   "id": "4d5270e4",
   "metadata": {
    "scrolled": true,
    "vscode": {
     "languageId": "r"
    }
   },
   "outputs": [
    {
     "data": {
      "text/html": [
       "<style>\n",
       ".list-inline {list-style: none; margin:0; padding: 0}\n",
       ".list-inline>li {display: inline-block}\n",
       ".list-inline>li:not(:last-child)::after {content: \"\\00b7\"; padding: 0 .5ex}\n",
       "</style>\n",
       "<ol class=list-inline><li>157</li><li>6</li></ol>\n"
      ],
      "text/latex": [
       "\\begin{enumerate*}\n",
       "\\item 157\n",
       "\\item 6\n",
       "\\end{enumerate*}\n"
      ],
      "text/markdown": [
       "1. 157\n",
       "2. 6\n",
       "\n",
       "\n"
      ],
      "text/plain": [
       "[1] 157   6"
      ]
     },
     "metadata": {},
     "output_type": "display_data"
    },
    {
     "data": {
      "text/html": [
       "84"
      ],
      "text/latex": [
       "84"
      ],
      "text/markdown": [
       "84"
      ],
      "text/plain": [
       "[1] 84"
      ]
     },
     "metadata": {},
     "output_type": "display_data"
    },
    {
     "name": "stderr",
     "output_type": "stream",
     "text": [
      "Warning message:\n",
      "“\u001b[1m\u001b[22mRemoved 6 rows containing missing values or values outside the scale range (`geom_bar()`).”\n"
     ]
    },
    {
     "data": {
      "image/png": "[encoded data removed]",
      "text/plain": [
       "plot without title"
      ]
     },
     "metadata": {
      "image/png": {
       "height": 360,
       "width": 660
      }
     },
     "output_type": "display_data"
    }
   ],
   "source": [
    "spec_param <- 'cpm6_cts'\n",
    "#spec_param <- 'cpm10_cts'\n",
    "#spec_param <- 'peak_cts'\n",
    "\n",
    "ct <- 'beta'\n",
    "#ct <- 'alpha'\n",
    "\n",
    "spec_upset <- data.frame(acinar=as.numeric(str_detect(filter(spec, mash_num_cts==1 & mash_cts==ct)[[spec_param]], \"acinar\")),\n",
    "                         alpha =as.numeric(str_detect(filter(spec, mash_num_cts==1 & mash_cts==ct)[[spec_param]], \"alpha\")),\n",
    "                         beta  =as.numeric(str_detect(filter(spec, mash_num_cts==1 & mash_cts==ct)[[spec_param]], \"beta\")),\n",
    "                         delta =as.numeric(str_detect(filter(spec, mash_num_cts==1 & mash_cts==ct)[[spec_param]], \"delta\")),\n",
    "                         ductal=as.numeric(str_detect(filter(spec, mash_num_cts==1 & mash_cts==ct)[[spec_param]], \"ductal\")),\n",
    "                         gamma =as.numeric(str_detect(filter(spec, mash_num_cts==1 & mash_cts==ct)[[spec_param]], \"gamma\")))\n",
    "dim(spec_upset)\n",
    "#head(spec_upset)\n",
    "sum(is.na(filter(spec, mash_num_cts==1 & mash_cts==ct)[,c('mash_cts',spec_param)][[spec_param]]))\n",
    "\n",
    "options(repr.plot.width=11, repr.plot.height=6)\n",
    "p1 <- upset(spec_upset, nsets=6, order.by = \"freq\", nintersects=10, mainbar.y.label=\"Number of caQTL Peaks\", \n",
    "      sets.x.label=\"Num. of caQTL Peaks\", text.scale=2)\n",
    "\n",
    "p1"
   ]
  },
  {
   "cell_type": "code",
   "execution_count": 286,
   "id": "0613b142",
   "metadata": {
    "scrolled": true,
    "vscode": {
     "languageId": "r"
    }
   },
   "outputs": [
    {
     "name": "stdout",
     "output_type": "stream",
     "text": [
      "[1] \"acinar\"\n",
      "[1] 92\n",
      "[1] 321\n",
      "[1] 28.66044\n",
      "[1] \"alpha\"\n",
      "[1] 5\n",
      "[1] 54\n",
      "[1] 9.259259\n",
      "[1] \"beta\"\n",
      "[1] 16\n",
      "[1] 157\n",
      "[1] 10.19108\n",
      "[1] \"delta\"\n",
      "[1] 0\n",
      "[1] 0\n",
      "[1] NaN\n",
      "[1] \"ductal\"\n",
      "[1] 1\n",
      "[1] 2\n",
      "[1] 50\n",
      "[1] \"gamma\"\n",
      "[1] 0\n",
      "[1] 0\n",
      "[1] NaN\n"
     ]
    }
   ],
   "source": [
    "for (ct in c('acinar','alpha','beta','delta','ductal','gamma')) {\n",
    "    spec_upset <- data.frame(acinar=as.numeric(str_detect(filter(spec, mash_num_cts==1 & mash_cts==ct)[[spec_param]], \"acinar\")),\n",
    "                         alpha =as.numeric(str_detect(filter(spec, mash_num_cts==1 & mash_cts==ct)[[spec_param]], \"alpha\")),\n",
    "                         beta  =as.numeric(str_detect(filter(spec, mash_num_cts==1 & mash_cts==ct)[[spec_param]], \"beta\")),\n",
    "                         delta =as.numeric(str_detect(filter(spec, mash_num_cts==1 & mash_cts==ct)[[spec_param]], \"delta\")),\n",
    "                         ductal=as.numeric(str_detect(filter(spec, mash_num_cts==1 & mash_cts==ct)[[spec_param]], \"ductal\")),\n",
    "                         gamma =as.numeric(str_detect(filter(spec, mash_num_cts==1 & mash_cts==ct)[[spec_param]], \"gamma\")))\n",
    "    \n",
    "    print(ct)\n",
    "    print(nrow(filter(spec_upset, rowSums(spec_upset) == 1 & !!as.symbol(ct)==1)))\n",
    "    print(nrow(spec_upset))\n",
    "    print(nrow(filter(spec_upset, rowSums(spec_upset) == 1 & !!as.symbol(ct)==1)) * 100 / nrow(spec_upset))\n",
    "}\n"
   ]
  }
 ],
 "metadata": {
  "kernelspec": {
   "display_name": "R 4.1\n",
   "language": "R",
   "name": "ir41"
  },
  "language_info": {
   "codemirror_mode": "r",
   "file_extension": ".r",
   "mimetype": "text/x-r-source",
   "name": "R",
   "pygments_lexer": "r",
   "version": "4.1.1"
  }
 },
 "nbformat": 4,
 "nbformat_minor": 5
}
