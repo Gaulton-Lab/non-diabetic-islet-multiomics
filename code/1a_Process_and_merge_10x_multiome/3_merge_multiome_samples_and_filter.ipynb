{
 "cells": [
  {
   "cell_type": "markdown",
   "metadata": {},
   "source": [
    "#### Summary:\n",
    "Use this notebook to read in all results from the individual sample processing pipeline and combine donor data into one Seurat object. Then remove doublets and low quality barcodes and cluster. Normally we'd cluster the data and visualize the outputs at each step, but to streamline this notebook I've only kept plots at the end.\n",
    "\n",
    "Required inputs:\n",
    "- Text file of 50k windows to use to combine ATAC data (format: chr#-start-end), we have generated this previously by merging a subset of samples and then running FindVariableFeatures()\n",
    "- Text files of all sample barcodes identified as doublets by AMULET or Scrublet (2 separate files, each line is different doublet barcode)"
   ]
  },
  {
   "cell_type": "code",
   "execution_count": 1,
   "metadata": {},
   "outputs": [
    {
     "data": {
      "text/html": [
       "TRUE"
      ],
      "text/latex": [
       "TRUE"
      ],
      "text/markdown": [
       "TRUE"
      ],
      "text/plain": [
       "[1] TRUE"
      ]
     },
     "metadata": {},
     "output_type": "display_data"
    },
    {
     "data": {
      "text/plain": [
       "Module(leidenalg)"
      ]
     },
     "metadata": {},
     "output_type": "display_data"
    }
   ],
   "source": [
    "#always run this first!!\n",
    "#essential reticulate functions that allow us to use python packages in R\n",
    "#you'll need a conda env with 'leidenalg' and 'pandas' installed to do this\n",
    "#then route reticulate to the python installed in that conda env with the below functions\n",
    "Sys.setenv(RETICULATE_PYTHON=\"/path/to/.conda/envs/reticulate/bin/python\")\n",
    "library(reticulate)\n",
    "reticulate::use_python(\"/path/to/.conda/envs/reticulate/bin/python\")\n",
    "reticulate::use_condaenv(\"/path/to/.conda/envs/reticulate/bin/python\")\n",
    "reticulate::py_module_available(module='leidenalg') #needs to be TRUE\n",
    "reticulate::import('leidenalg') #good to make sure this doesn't error"
   ]
  },
  {
   "cell_type": "code",
   "execution_count": 2,
   "metadata": {
    "scrolled": true
   },
   "outputs": [],
   "source": [
    "suppressMessages(library(hdf5r))\n",
    "suppressMessages(library(Seurat))\n",
    "suppressMessages(library(Signac))\n",
    "suppressMessages(library(EnsDb.Hsapiens.v86))\n",
    "suppressMessages(library(dplyr))\n",
    "suppressMessages(library(ggplot2))\n",
    "suppressMessages(library(Matrix))\n",
    "suppressMessages(library(harmony))\n",
    "suppressMessages(library(data.table))\n",
    "suppressMessages(library(ggpubr))\n",
    "suppressMessages(library(future))"
   ]
  },
  {
   "cell_type": "code",
   "execution_count": null,
   "metadata": {},
   "outputs": [],
   "source": [
    "suppressMessages(library(textclean))\n",
    "suppressMessages(library(ggplot2))\n",
    "suppressMessages(library(MASS))\n",
    "suppressMessages(library(stringr))\n",
    "suppressMessages(library(mclust))"
   ]
  },
  {
   "cell_type": "code",
   "execution_count": null,
   "metadata": {},
   "outputs": [],
   "source": [
    "samples <- c('R207', 'R217', 'R218', 'R221', 'R223',\n",
    "             'R226', 'R228', 'R234', 'R237', 'R238',\n",
    "             'R246', 'R247', 'R275', 'R284', 'R290', \n",
    "             'R292', 'R316', 'R317', 'R319', 'R325',\n",
    "             'R326', 'R327', 'R332', 'R353', 'R354',\n",
    "             'R362', 'R363', 'R364')"
   ]
  },
  {
   "cell_type": "code",
   "execution_count": null,
   "metadata": {},
   "outputs": [],
   "source": [
    "#input files paths -- CHANGE THESE\n",
    "cellranger_outs_dir <- '/path/to/cellranger/outputs'\n",
    "pipeline_outdir <- '/path/to/processing/pipeline/outputs'\n",
    "outdir <- '/path/to/save/outputs'\n",
    "\n",
    "hvw_fp <- '/path/to/50k/windows/fp/ex/4samples_VariableFeatures_HVWs.txt'\n",
    "amulet_doublet_fp <- '/path/to/amulet/doublets/list'\n",
    "scrublet_doublet_fp <- '/path/to/scrublet/doublets/list'"
   ]
  },
  {
   "cell_type": "markdown",
   "metadata": {},
   "source": [
    "# Read in individually processed data and combine"
   ]
  },
  {
   "cell_type": "code",
   "execution_count": 4,
   "metadata": {},
   "outputs": [],
   "source": [
    "#make the merged fragment file (update all filepaths and variables!)\n",
    "system(sprintf('for SAMPLE in %s; do zcat %s/$SAMPLE/outs/atac_fragments.tsv.gz | awk -v SAMPLE=$SAMPLE \\'BEGIN{FS=OFS=\"\\t\"} {print $1,$2,$3,SAMPLE\"_\"$4,$5}\\'; done | sort -k1,1 -k2,2n -S 64G | bgzip -c -@ 16 > %s/merged.atac_fragments.tsv.gz', paste0(samples, collapse=' '),cellranger_outs_dir, outdir))\n",
    "system('tabix -p bed /nfs/lab/hmummey/multiomic_islet/intermediates/211010_ATAC_HVW_tests/31samples_merged.atac_fragments.tsv.gz')\n",
    "frag.file <- file.path(outdir,'3merged.atac_fragments.tsv.gz')"
   ]
  },
  {
   "cell_type": "markdown",
   "metadata": {},
   "source": [
    "## Read in and merge RNA data"
   ]
  },
  {
   "cell_type": "code",
   "execution_count": 6,
   "metadata": {
    "scrolled": true
   },
   "outputs": [
    {
     "data": {
      "text/plain": [
       "$R207\n",
       "An object of class Seurat \n",
       "36601 features across 9678 samples within 1 assay \n",
       "Active assay: RNA (36601 features, 0 variable features)\n",
       " 3 dimensional reductions calculated: umap.rna, umap.atac, umap.wnn\n",
       "\n",
       "$R217\n",
       "An object of class Seurat \n",
       "36601 features across 10672 samples within 1 assay \n",
       "Active assay: RNA (36601 features, 0 variable features)\n",
       " 3 dimensional reductions calculated: umap.rna, umap.atac, umap.wnn\n",
       "\n",
       "$R218\n",
       "An object of class Seurat \n",
       "36601 features across 5649 samples within 1 assay \n",
       "Active assay: RNA (36601 features, 0 variable features)\n",
       " 3 dimensional reductions calculated: umap.rna, umap.atac, umap.wnn\n",
       "\n",
       "$R221\n",
       "An object of class Seurat \n",
       "36601 features across 7127 samples within 1 assay \n",
       "Active assay: RNA (36601 features, 0 variable features)\n",
       " 3 dimensional reductions calculated: umap.rna, umap.atac, umap.wnn\n",
       "\n",
       "$R223\n",
       "An object of class Seurat \n",
       "36601 features across 9469 samples within 1 assay \n",
       "Active assay: RNA (36601 features, 0 variable features)\n",
       " 3 dimensional reductions calculated: umap.rna, umap.atac, umap.wnn\n",
       "\n",
       "$R226\n",
       "An object of class Seurat \n",
       "36601 features across 7842 samples within 1 assay \n",
       "Active assay: RNA (36601 features, 0 variable features)\n",
       " 3 dimensional reductions calculated: umap.rna, umap.atac, umap.wnn\n",
       "\n",
       "$R228\n",
       "An object of class Seurat \n",
       "36601 features across 7475 samples within 1 assay \n",
       "Active assay: RNA (36601 features, 0 variable features)\n",
       " 3 dimensional reductions calculated: umap.rna, umap.atac, umap.wnn\n",
       "\n",
       "$R234\n",
       "An object of class Seurat \n",
       "36601 features across 8505 samples within 1 assay \n",
       "Active assay: RNA (36601 features, 0 variable features)\n",
       " 3 dimensional reductions calculated: umap.rna, umap.atac, umap.wnn\n",
       "\n",
       "$R237\n",
       "An object of class Seurat \n",
       "36601 features across 7857 samples within 1 assay \n",
       "Active assay: RNA (36601 features, 0 variable features)\n",
       " 3 dimensional reductions calculated: umap.rna, umap.atac, umap.wnn\n",
       "\n",
       "$R238\n",
       "An object of class Seurat \n",
       "36601 features across 7817 samples within 1 assay \n",
       "Active assay: RNA (36601 features, 0 variable features)\n",
       " 3 dimensional reductions calculated: umap.rna, umap.atac, umap.wnn\n",
       "\n",
       "$R246\n",
       "An object of class Seurat \n",
       "36601 features across 2221 samples within 1 assay \n",
       "Active assay: RNA (36601 features, 0 variable features)\n",
       " 3 dimensional reductions calculated: umap.rna, umap.atac, umap.wnn\n",
       "\n",
       "$R247\n",
       "An object of class Seurat \n",
       "36601 features across 7293 samples within 1 assay \n",
       "Active assay: RNA (36601 features, 0 variable features)\n",
       " 3 dimensional reductions calculated: umap.rna, umap.atac, umap.wnn\n",
       "\n",
       "$R275\n",
       "An object of class Seurat \n",
       "36601 features across 6166 samples within 1 assay \n",
       "Active assay: RNA (36601 features, 0 variable features)\n",
       " 3 dimensional reductions calculated: umap.rna, umap.atac, umap.wnn\n",
       "\n",
       "$R277\n",
       "An object of class Seurat \n",
       "36601 features across 8029 samples within 1 assay \n",
       "Active assay: RNA (36601 features, 0 variable features)\n",
       " 3 dimensional reductions calculated: umap.rna, umap.atac, umap.wnn\n",
       "\n",
       "$R284\n",
       "An object of class Seurat \n",
       "36601 features across 7417 samples within 1 assay \n",
       "Active assay: RNA (36601 features, 0 variable features)\n",
       " 3 dimensional reductions calculated: umap.rna, umap.atac, umap.wnn\n",
       "\n",
       "$R290\n",
       "An object of class Seurat \n",
       "36601 features across 9380 samples within 1 assay \n",
       "Active assay: RNA (36601 features, 0 variable features)\n",
       " 3 dimensional reductions calculated: umap.rna, umap.atac, umap.wnn\n",
       "\n",
       "$R292\n",
       "An object of class Seurat \n",
       "36601 features across 8103 samples within 1 assay \n",
       "Active assay: RNA (36601 features, 0 variable features)\n",
       " 3 dimensional reductions calculated: umap.rna, umap.atac, umap.wnn\n",
       "\n",
       "$R316\n",
       "An object of class Seurat \n",
       "36601 features across 13171 samples within 1 assay \n",
       "Active assay: RNA (36601 features, 0 variable features)\n",
       " 3 dimensional reductions calculated: umap.rna, umap.atac, umap.wnn\n",
       "\n",
       "$R317\n",
       "An object of class Seurat \n",
       "36601 features across 12520 samples within 1 assay \n",
       "Active assay: RNA (36601 features, 0 variable features)\n",
       " 3 dimensional reductions calculated: umap.rna, umap.atac, umap.wnn\n",
       "\n",
       "$R319\n",
       "An object of class Seurat \n",
       "36601 features across 11438 samples within 1 assay \n",
       "Active assay: RNA (36601 features, 0 variable features)\n",
       " 3 dimensional reductions calculated: umap.rna, umap.atac, umap.wnn\n",
       "\n",
       "$R325\n",
       "An object of class Seurat \n",
       "36601 features across 2164 samples within 1 assay \n",
       "Active assay: RNA (36601 features, 0 variable features)\n",
       " 3 dimensional reductions calculated: umap.rna, umap.atac, umap.wnn\n",
       "\n",
       "$R326\n",
       "An object of class Seurat \n",
       "36601 features across 12198 samples within 1 assay \n",
       "Active assay: RNA (36601 features, 0 variable features)\n",
       " 3 dimensional reductions calculated: umap.rna, umap.atac, umap.wnn\n",
       "\n",
       "$R327\n",
       "An object of class Seurat \n",
       "36601 features across 7811 samples within 1 assay \n",
       "Active assay: RNA (36601 features, 0 variable features)\n",
       " 3 dimensional reductions calculated: umap.rna, umap.atac, umap.wnn\n",
       "\n",
       "$R332\n",
       "An object of class Seurat \n",
       "36601 features across 10156 samples within 1 assay \n",
       "Active assay: RNA (36601 features, 0 variable features)\n",
       " 3 dimensional reductions calculated: umap.rna, umap.atac, umap.wnn\n",
       "\n",
       "$R343\n",
       "An object of class Seurat \n",
       "36601 features across 5808 samples within 1 assay \n",
       "Active assay: RNA (36601 features, 0 variable features)\n",
       " 3 dimensional reductions calculated: umap.rna, umap.atac, umap.wnn\n",
       "\n",
       "$R349\n",
       "An object of class Seurat \n",
       "36601 features across 6113 samples within 1 assay \n",
       "Active assay: RNA (36601 features, 0 variable features)\n",
       " 3 dimensional reductions calculated: umap.rna, umap.atac, umap.wnn\n",
       "\n",
       "$R353\n",
       "An object of class Seurat \n",
       "36601 features across 7850 samples within 1 assay \n",
       "Active assay: RNA (36601 features, 0 variable features)\n",
       " 3 dimensional reductions calculated: umap.rna, umap.atac, umap.wnn\n",
       "\n",
       "$R354\n",
       "An object of class Seurat \n",
       "36601 features across 6957 samples within 1 assay \n",
       "Active assay: RNA (36601 features, 0 variable features)\n",
       " 3 dimensional reductions calculated: umap.rna, umap.atac, umap.wnn\n",
       "\n",
       "$R362\n",
       "An object of class Seurat \n",
       "36601 features across 8720 samples within 1 assay \n",
       "Active assay: RNA (36601 features, 0 variable features)\n",
       " 3 dimensional reductions calculated: umap.rna, umap.atac, umap.wnn\n",
       "\n",
       "$R363\n",
       "An object of class Seurat \n",
       "36601 features across 10646 samples within 1 assay \n",
       "Active assay: RNA (36601 features, 0 variable features)\n",
       " 3 dimensional reductions calculated: umap.rna, umap.atac, umap.wnn\n",
       "\n",
       "$R364\n",
       "An object of class Seurat \n",
       "36601 features across 5353 samples within 1 assay \n",
       "Active assay: RNA (36601 features, 0 variable features)\n",
       " 3 dimensional reductions calculated: umap.rna, umap.atac, umap.wnn\n"
      ]
     },
     "metadata": {},
     "output_type": "display_data"
    }
   ],
   "source": [
    "#read in the RDS files\n",
    "#wipe out the ATAC and SCT componenets, just keep raw RNA\n",
    "adatas <- list()\n",
    "for (sample in samples){\n",
    "    adata <- readRDS(file = sprintf(\"/nfs/lab/projects/multiomic_islet/outputs/multiome/indv_sample_processing/%s/final_filtered.rds\",sample))\n",
    "    adatas[[sample]] <- adata\n",
    "    DefaultAssay(adatas[[sample]]) <- \"RNA\"\n",
    "    adatas[[sample]][['ATAC']] <- NULL\n",
    "    adatas[[sample]][['SCT']] <- NULL\n",
    "}\n",
    "adatas\n",
    "#adatas[1]"
   ]
  },
  {
   "cell_type": "code",
   "execution_count": 8,
   "metadata": {},
   "outputs": [
    {
     "data": {
      "text/plain": [
       "An object of class Seurat \n",
       "36601 features across 251605 samples within 1 assay \n",
       "Active assay: RNA (36601 features, 0 variable features)"
      ]
     },
     "metadata": {},
     "output_type": "display_data"
    }
   ],
   "source": [
    "# load in and merge RNA, making sure to add sample prefix to barcodes\n",
    "adata <- merge(adatas[[samples[[1]]]], y=adatas[samples[2:length(samples)]], add.cell.ids=samples, project='multiomic')\n",
    "adata$library <- sapply(strsplit(rownames(adata[[]]), '_'), '[[', 1)\n",
    "adata\n",
    "adatas <- NULL"
   ]
  },
  {
   "cell_type": "markdown",
   "metadata": {},
   "source": [
    "## Modified ATAC read in method"
   ]
  },
  {
   "cell_type": "code",
   "execution_count": 11,
   "metadata": {},
   "outputs": [],
   "source": [
    "#read in ATAC data from the lfm matrices (sm workaround method for now)\n",
    "# load in starting ATAC long format matrices to a list(CellRanger filtered for now)\n",
    "atacs <- list()\n",
    "for (sample in samples) {\n",
    "    #print(sample)\n",
    "    wd <- file.path(pipeline_outdir,sample)\n",
    "    atacs[[sample]] <- read.table(file.path(wd, 'atac.long_fmt.filtered_barcode.mtx.gz'), sep='\\t', header=FALSE, stringsAsFactors=FALSE)\n",
    "    atacs[[sample]]$V1 <- as.factor(atacs[[sample]]$V1)\n",
    "    atacs[[sample]]$V2 <- as.factor(paste0(sample, '_', atacs[[sample]]$V2))\n",
    "}"
   ]
  },
  {
   "cell_type": "code",
   "execution_count": 13,
   "metadata": {},
   "outputs": [
    {
     "name": "stdout",
     "output_type": "stream",
     "text": [
      "[1] \"chr17-2050000-2055000\"    \"chr2-218960000-218965000\"\n",
      "[3] \"chr2-181680000-181685000\" \"chr16-705000-710000\"     \n",
      "[5] \"chr7-101165000-101170000\" \"chr16-70700000-70705000\" \n",
      "[1] \"chr1-10050000-10055000\"   \"chr1-10055000-10060000\"  \n",
      "[3] \"chr1-10070000-10075000\"   \"chr1-10075000-10080000\"  \n",
      "[5] \"chr1-100790000-100795000\" \"chr1-10125000-10130000\"  \n"
     ]
    }
   ],
   "source": [
    "#read in the HVWs set, we'll cut down all samples to be these windows\n",
    "hvws2 <- scan(hvw_fp, what=\"\", sep=\"\\n\")\n",
    "print(head(hvws2))\n",
    "\n",
    "#sort alphanumerically\n",
    "hvws_fin2 <- sort(hvws2)\n",
    "print(head(hvws_fin2))"
   ]
  },
  {
   "cell_type": "code",
   "execution_count": 15,
   "metadata": {},
   "outputs": [],
   "source": [
    "#function which takes in a list of long format atac_fragment dfs with \n",
    "#sample names (df), an overall windows file (windows) and then makes these \n",
    "#into sparse matrices and merges them together\n",
    "\n",
    "#modified to take in the hvws set and use those... will also check if \n",
    "#there's any missing windows and add those\n",
    "\n",
    "merge_sparse_matrices_hvws <- function(dfs, windows){\n",
    "    samples <- names(dfs)\n",
    "    for (sample in samples){\n",
    "        #get missing windows list for this sample\n",
    "        print(paste(sample,Sys.time(),sep=': '))\n",
    "        df <- dfs[[sample]]\n",
    "        mis_windows <- windows[!windows %in% levels(df$V1)]\n",
    "        \n",
    "        #if there are missing_windows, add these in with filler data\n",
    "        if (length(mis_windows) > 0){\n",
    "            print('Adding missing windows')\n",
    "            #create a new long format matrix (sm) with the missing windows added as 0 counts\n",
    "            filler_bc <- as.character(df$V2[[1]])\n",
    "            print(paste(\"Using filler BC:\",filler_bc,sep=\" \"))\n",
    "            new_rows <- cbind(as.data.frame(mis_windows),\n",
    "                              as.data.frame(rep(filler_bc),length(mis_windows)),\n",
    "                              as.data.frame(rep(0,length(mis_windows))))\n",
    "            colnames(new_rows) <- c(\"V1\",\"V2\",\"V3\")\n",
    "            lfm <- rbind(df,new_rows)\n",
    "        #if there aren't, set lfm to df\n",
    "        } else {\n",
    "            print('No windows were missing')\n",
    "            lfm <- df\n",
    "        }\n",
    "        \n",
    "        #cut down lfm to just be the hvws (windows)\n",
    "        lfm_cut <- lfm[lfm$V1 %in% windows,]\n",
    "        \n",
    "        #set the levels of the lfm based on the desired bc order and reorder V1\n",
    "        lfm_cut$V1 <- factor(lfm_cut$V1, levels=windows)\n",
    "        lfm2 <- lfm_cut[order(lfm_cut$V1),]\n",
    "        lfm2$V2 <- as.factor(lfm2$V2)\n",
    "        \n",
    "        if (sample == samples[1]){\n",
    "            #if first sample, will make the overall sparse matrix \n",
    "            overall_sm <- with(lfm2,sparseMatrix(i=as.numeric(V1), j=as.numeric(V2), x=V3, dimnames=list(levels(V1), levels(V2))))\n",
    "            print(dim(overall_sm))\n",
    "            \n",
    "        } else {\n",
    "            #otherwise, convert into a sparse matrix and add to the overall one\n",
    "            sm = with(lfm2,sparseMatrix(i=as.numeric(V1), j=as.numeric(V2), x=V3, dimnames=list(levels(V1), levels(V2))))\n",
    "            print(dim(sm))\n",
    "            overall_sm = cbind(overall_sm, sm) \n",
    "        }\n",
    "    }\n",
    "    return(overall_sm)\n",
    "}"
   ]
  },
  {
   "cell_type": "code",
   "execution_count": 16,
   "metadata": {
    "scrolled": true
   },
   "outputs": [
    {
     "name": "stdout",
     "output_type": "stream",
     "text": [
      "[1] \"R207: 2021-10-13 23:45:15\"\n",
      "[1] \"Adding missing windows\"\n",
      "[1] \"Using filler BC: R207_AAACAGCCATTGTGTG-1\"\n"
     ]
    },
    {
     "name": "stderr",
     "output_type": "stream",
     "text": [
      "Warning message in as.data.frame.vector(x, ..., nm = nm):\n",
      "\"'row.names' is not a character vector of length 1 -- omitting it. Will be an error!\"\n"
     ]
    },
    {
     "name": "stdout",
     "output_type": "stream",
     "text": [
      "[1] 50000  9678\n",
      "[1] \"R217: 2021-10-13 23:46:08\"\n",
      "[1] \"Adding missing windows\"\n",
      "[1] \"Using filler BC: R217_AAAGCACCATTAAAGG-1\"\n"
     ]
    },
    {
     "name": "stderr",
     "output_type": "stream",
     "text": [
      "Warning message in as.data.frame.vector(x, ..., nm = nm):\n",
      "\"'row.names' is not a character vector of length 1 -- omitting it. Will be an error!\"\n"
     ]
    },
    {
     "name": "stdout",
     "output_type": "stream",
     "text": [
      "[1] 50000 10672\n",
      "[1] \"R218: 2021-10-13 23:46:56\"\n",
      "[1] \"Adding missing windows\"\n",
      "[1] \"Using filler BC: R218_AAACCGGCAGTACCGT-1\"\n"
     ]
    },
    {
     "name": "stderr",
     "output_type": "stream",
     "text": [
      "Warning message in as.data.frame.vector(x, ..., nm = nm):\n",
      "\"'row.names' is not a character vector of length 1 -- omitting it. Will be an error!\"\n"
     ]
    },
    {
     "name": "stdout",
     "output_type": "stream",
     "text": [
      "[1] 50000  5649\n",
      "[1] \"R221: 2021-10-13 23:47:30\"\n",
      "[1] \"Adding missing windows\"\n",
      "[1] \"Using filler BC: R221_AAAGCTTGTTAGTGAT-1\"\n"
     ]
    },
    {
     "name": "stderr",
     "output_type": "stream",
     "text": [
      "Warning message in as.data.frame.vector(x, ..., nm = nm):\n",
      "\"'row.names' is not a character vector of length 1 -- omitting it. Will be an error!\"\n"
     ]
    },
    {
     "name": "stdout",
     "output_type": "stream",
     "text": [
      "[1] 50000  7127\n",
      "[1] \"R223: 2021-10-13 23:47:58\"\n",
      "[1] \"Adding missing windows\"\n",
      "[1] \"Using filler BC: R223_AAACGCGCAGCATTAT-1\"\n"
     ]
    },
    {
     "name": "stderr",
     "output_type": "stream",
     "text": [
      "Warning message in as.data.frame.vector(x, ..., nm = nm):\n",
      "\"'row.names' is not a character vector of length 1 -- omitting it. Will be an error!\"\n"
     ]
    },
    {
     "name": "stdout",
     "output_type": "stream",
     "text": [
      "[1] 50000  9469\n",
      "[1] \"R226: 2021-10-13 23:48:42\"\n",
      "[1] \"Adding missing windows\"\n",
      "[1] \"Using filler BC: R226_AAACGTACATATAACC-1\"\n"
     ]
    },
    {
     "name": "stderr",
     "output_type": "stream",
     "text": [
      "Warning message in as.data.frame.vector(x, ..., nm = nm):\n",
      "\"'row.names' is not a character vector of length 1 -- omitting it. Will be an error!\"\n"
     ]
    },
    {
     "name": "stdout",
     "output_type": "stream",
     "text": [
      "[1] 50000  7842\n",
      "[1] \"R228: 2021-10-13 23:49:25\"\n",
      "[1] \"Adding missing windows\"\n",
      "[1] \"Using filler BC: R228_AAACGGATCATGTTTC-1\"\n"
     ]
    },
    {
     "name": "stderr",
     "output_type": "stream",
     "text": [
      "Warning message in as.data.frame.vector(x, ..., nm = nm):\n",
      "\"'row.names' is not a character vector of length 1 -- omitting it. Will be an error!\"\n"
     ]
    },
    {
     "name": "stdout",
     "output_type": "stream",
     "text": [
      "[1] 50000  7475\n",
      "[1] \"R234: 2021-10-13 23:50:02\"\n",
      "[1] \"Adding missing windows\"\n",
      "[1] \"Using filler BC: R234_AAACCGAAGCCATCAG-1\"\n"
     ]
    },
    {
     "name": "stderr",
     "output_type": "stream",
     "text": [
      "Warning message in as.data.frame.vector(x, ..., nm = nm):\n",
      "\"'row.names' is not a character vector of length 1 -- omitting it. Will be an error!\"\n"
     ]
    },
    {
     "name": "stdout",
     "output_type": "stream",
     "text": [
      "[1] 50000  8505\n",
      "[1] \"R237: 2021-10-13 23:50:41\"\n",
      "[1] \"Adding missing windows\"\n",
      "[1] \"Using filler BC: R237_AAACCGCGTACAAAGA-1\"\n"
     ]
    },
    {
     "name": "stderr",
     "output_type": "stream",
     "text": [
      "Warning message in as.data.frame.vector(x, ..., nm = nm):\n",
      "\"'row.names' is not a character vector of length 1 -- omitting it. Will be an error!\"\n"
     ]
    },
    {
     "name": "stdout",
     "output_type": "stream",
     "text": [
      "[1] 50000  7857\n",
      "[1] \"R238: 2021-10-13 23:51:32\"\n",
      "[1] \"Adding missing windows\"\n",
      "[1] \"Using filler BC: R238_AAACCAACAGCATGTC-1\"\n"
     ]
    },
    {
     "name": "stderr",
     "output_type": "stream",
     "text": [
      "Warning message in as.data.frame.vector(x, ..., nm = nm):\n",
      "\"'row.names' is not a character vector of length 1 -- omitting it. Will be an error!\"\n"
     ]
    },
    {
     "name": "stdout",
     "output_type": "stream",
     "text": [
      "[1] 50000  7817\n",
      "[1] \"R246: 2021-10-13 23:52:08\"\n",
      "[1] \"Adding missing windows\"\n",
      "[1] \"Using filler BC: R246_AAGACAAGTATTCGTC-1\"\n"
     ]
    },
    {
     "name": "stderr",
     "output_type": "stream",
     "text": [
      "Warning message in as.data.frame.vector(x, ..., nm = nm):\n",
      "\"'row.names' is not a character vector of length 1 -- omitting it. Will be an error!\"\n"
     ]
    },
    {
     "name": "stdout",
     "output_type": "stream",
     "text": [
      "[1] 50000  2221\n",
      "[1] \"R247: 2021-10-13 23:52:25\"\n",
      "[1] \"Adding missing windows\"\n",
      "[1] \"Using filler BC: R247_AAAGCTTGTTAATGCG-1\"\n"
     ]
    },
    {
     "name": "stderr",
     "output_type": "stream",
     "text": [
      "Warning message in as.data.frame.vector(x, ..., nm = nm):\n",
      "\"'row.names' is not a character vector of length 1 -- omitting it. Will be an error!\"\n"
     ]
    },
    {
     "name": "stdout",
     "output_type": "stream",
     "text": [
      "[1] 50000  7293\n",
      "[1] \"R275: 2021-10-13 23:53:09\"\n",
      "[1] \"Adding missing windows\"\n",
      "[1] \"Using filler BC: R275_AAACAGCCATTGTCAG-1\"\n"
     ]
    },
    {
     "name": "stderr",
     "output_type": "stream",
     "text": [
      "Warning message in as.data.frame.vector(x, ..., nm = nm):\n",
      "\"'row.names' is not a character vector of length 1 -- omitting it. Will be an error!\"\n"
     ]
    },
    {
     "name": "stdout",
     "output_type": "stream",
     "text": [
      "[1] 50000  6166\n",
      "[1] \"R277: 2021-10-13 23:53:37\"\n",
      "[1] \"Adding missing windows\"\n",
      "[1] \"Using filler BC: R277_AACATAGCACCTGGTG-1\"\n"
     ]
    },
    {
     "name": "stderr",
     "output_type": "stream",
     "text": [
      "Warning message in as.data.frame.vector(x, ..., nm = nm):\n",
      "\"'row.names' is not a character vector of length 1 -- omitting it. Will be an error!\"\n"
     ]
    },
    {
     "name": "stdout",
     "output_type": "stream",
     "text": [
      "[1] 50000  8029\n",
      "[1] \"R284: 2021-10-13 23:54:08\"\n",
      "[1] \"Adding missing windows\"\n",
      "[1] \"Using filler BC: R284_AACCTTAAGTGAACAG-1\"\n"
     ]
    },
    {
     "name": "stderr",
     "output_type": "stream",
     "text": [
      "Warning message in as.data.frame.vector(x, ..., nm = nm):\n",
      "\"'row.names' is not a character vector of length 1 -- omitting it. Will be an error!\"\n"
     ]
    },
    {
     "name": "stdout",
     "output_type": "stream",
     "text": [
      "[1] 50000  7417\n",
      "[1] \"R290: 2021-10-13 23:54:57\"\n",
      "[1] \"Adding missing windows\"\n",
      "[1] \"Using filler BC: R290_AAATCCGGTCCTCCAA-1\"\n"
     ]
    },
    {
     "name": "stderr",
     "output_type": "stream",
     "text": [
      "Warning message in as.data.frame.vector(x, ..., nm = nm):\n",
      "\"'row.names' is not a character vector of length 1 -- omitting it. Will be an error!\"\n"
     ]
    },
    {
     "name": "stdout",
     "output_type": "stream",
     "text": [
      "[1] 50000  9380\n",
      "[1] \"R292: 2021-10-13 23:55:45\"\n",
      "[1] \"Adding missing windows\"\n",
      "[1] \"Using filler BC: R292_AAACATGCATGAATCT-1\"\n"
     ]
    },
    {
     "name": "stderr",
     "output_type": "stream",
     "text": [
      "Warning message in as.data.frame.vector(x, ..., nm = nm):\n",
      "\"'row.names' is not a character vector of length 1 -- omitting it. Will be an error!\"\n"
     ]
    },
    {
     "name": "stdout",
     "output_type": "stream",
     "text": [
      "[1] 50000  8103\n",
      "[1] \"R316: 2021-10-13 23:56:40\"\n",
      "[1] \"Adding missing windows\"\n",
      "[1] \"Using filler BC: R316_AAACAGCCATGAATAG-1\"\n"
     ]
    },
    {
     "name": "stderr",
     "output_type": "stream",
     "text": [
      "Warning message in as.data.frame.vector(x, ..., nm = nm):\n",
      "\"'row.names' is not a character vector of length 1 -- omitting it. Will be an error!\"\n"
     ]
    },
    {
     "name": "stdout",
     "output_type": "stream",
     "text": [
      "[1] 50000 13171\n",
      "[1] \"R317: 2021-10-13 23:58:03\"\n",
      "[1] \"Adding missing windows\"\n",
      "[1] \"Using filler BC: R317_AAAGCCGCACAAACTT-1\"\n"
     ]
    },
    {
     "name": "stderr",
     "output_type": "stream",
     "text": [
      "Warning message in as.data.frame.vector(x, ..., nm = nm):\n",
      "\"'row.names' is not a character vector of length 1 -- omitting it. Will be an error!\"\n"
     ]
    },
    {
     "name": "stdout",
     "output_type": "stream",
     "text": [
      "[1] 50000 12520\n",
      "[1] \"R319: 2021-10-13 23:59:07\"\n",
      "[1] \"Adding missing windows\"\n",
      "[1] \"Using filler BC: R319_AAACGGATCCCTGGAA-1\"\n"
     ]
    },
    {
     "name": "stderr",
     "output_type": "stream",
     "text": [
      "Warning message in as.data.frame.vector(x, ..., nm = nm):\n",
      "\"'row.names' is not a character vector of length 1 -- omitting it. Will be an error!\"\n"
     ]
    },
    {
     "name": "stdout",
     "output_type": "stream",
     "text": [
      "[1] 50000 11438\n",
      "[1] \"R325: 2021-10-14 00:00:19\"\n",
      "[1] \"Adding missing windows\"\n",
      "[1] \"Using filler BC: R325_AATCCATCACTAAGCC-1\"\n"
     ]
    },
    {
     "name": "stderr",
     "output_type": "stream",
     "text": [
      "Warning message in as.data.frame.vector(x, ..., nm = nm):\n",
      "\"'row.names' is not a character vector of length 1 -- omitting it. Will be an error!\"\n"
     ]
    },
    {
     "name": "stdout",
     "output_type": "stream",
     "text": [
      "[1] 50000  2164\n",
      "[1] \"R326: 2021-10-14 00:00:38\"\n",
      "[1] \"Adding missing windows\"\n",
      "[1] \"Using filler BC: R326_AAATGCCTCTTGTCCA-1\"\n"
     ]
    },
    {
     "name": "stderr",
     "output_type": "stream",
     "text": [
      "Warning message in as.data.frame.vector(x, ..., nm = nm):\n",
      "\"'row.names' is not a character vector of length 1 -- omitting it. Will be an error!\"\n"
     ]
    },
    {
     "name": "stdout",
     "output_type": "stream",
     "text": [
      "[1] 50000 12198\n",
      "[1] \"R327: 2021-10-14 00:01:58\"\n",
      "[1] \"Adding missing windows\"\n",
      "[1] \"Using filler BC: R327_AAATGGCCAGTCTAGC-1\"\n"
     ]
    },
    {
     "name": "stderr",
     "output_type": "stream",
     "text": [
      "Warning message in as.data.frame.vector(x, ..., nm = nm):\n",
      "\"'row.names' is not a character vector of length 1 -- omitting it. Will be an error!\"\n"
     ]
    },
    {
     "name": "stdout",
     "output_type": "stream",
     "text": [
      "[1] 50000  7811\n",
      "[1] \"R332: 2021-10-14 00:02:52\"\n",
      "[1] \"Adding missing windows\"\n",
      "[1] \"Using filler BC: R332_AAACCGAAGCTGCACA-1\"\n"
     ]
    },
    {
     "name": "stderr",
     "output_type": "stream",
     "text": [
      "Warning message in as.data.frame.vector(x, ..., nm = nm):\n",
      "\"'row.names' is not a character vector of length 1 -- omitting it. Will be an error!\"\n"
     ]
    },
    {
     "name": "stdout",
     "output_type": "stream",
     "text": [
      "[1] 50000 10156\n",
      "[1] \"R343: 2021-10-14 00:04:00\"\n",
      "[1] \"Adding missing windows\"\n",
      "[1] \"Using filler BC: R343_AACAGATAGCGGGCAA-1\"\n"
     ]
    },
    {
     "name": "stderr",
     "output_type": "stream",
     "text": [
      "Warning message in as.data.frame.vector(x, ..., nm = nm):\n",
      "\"'row.names' is not a character vector of length 1 -- omitting it. Will be an error!\"\n"
     ]
    },
    {
     "name": "stdout",
     "output_type": "stream",
     "text": [
      "[1] 50000  5808\n",
      "[1] \"R349: 2021-10-14 00:04:39\"\n",
      "[1] \"Adding missing windows\"\n",
      "[1] \"Using filler BC: R349_AACAGCAAGAGGCTAA-1\"\n"
     ]
    },
    {
     "name": "stderr",
     "output_type": "stream",
     "text": [
      "Warning message in as.data.frame.vector(x, ..., nm = nm):\n",
      "\"'row.names' is not a character vector of length 1 -- omitting it. Will be an error!\"\n"
     ]
    },
    {
     "name": "stdout",
     "output_type": "stream",
     "text": [
      "[1] 50000  6113\n",
      "[1] \"R353: 2021-10-14 00:05:19\"\n",
      "[1] \"Adding missing windows\"\n",
      "[1] \"Using filler BC: R353_AAAGCCCGTAATCGCA-1\"\n"
     ]
    },
    {
     "name": "stderr",
     "output_type": "stream",
     "text": [
      "Warning message in as.data.frame.vector(x, ..., nm = nm):\n",
      "\"'row.names' is not a character vector of length 1 -- omitting it. Will be an error!\"\n"
     ]
    },
    {
     "name": "stdout",
     "output_type": "stream",
     "text": [
      "[1] 50000  8720\n",
      "[1] \"R363: 2021-10-14 00:08:17\"\n",
      "[1] \"Adding missing windows\"\n",
      "[1] \"Using filler BC: R363_AAACCGCGTTAGGCTA-1\"\n"
     ]
    },
    {
     "name": "stderr",
     "output_type": "stream",
     "text": [
      "Warning message in as.data.frame.vector(x, ..., nm = nm):\n",
      "\"'row.names' is not a character vector of length 1 -- omitting it. Will be an error!\"\n"
     ]
    },
    {
     "name": "stdout",
     "output_type": "stream",
     "text": [
      "[1] 50000 10646\n",
      "[1] \"R364: 2021-10-14 00:09:27\"\n",
      "[1] \"Adding missing windows\"\n",
      "[1] \"Using filler BC: R364_AAATCCGGTACCAGGT-1\"\n"
     ]
    },
    {
     "name": "stderr",
     "output_type": "stream",
     "text": [
      "Warning message in as.data.frame.vector(x, ..., nm = nm):\n",
      "\"'row.names' is not a character vector of length 1 -- omitting it. Will be an error!\"\n"
     ]
    },
    {
     "name": "stdout",
     "output_type": "stream",
     "text": [
      "[1] 50000  5353\n"
     ]
    },
    {
     "data": {
      "text/html": [
       "<style>\n",
       ".list-inline {list-style: none; margin:0; padding: 0}\n",
       ".list-inline>li {display: inline-block}\n",
       ".list-inline>li:not(:last-child)::after {content: \"\\00b7\"; padding: 0 .5ex}\n",
       "</style>\n",
       "<ol class=list-inline><li>50000</li><li>251605</li></ol>\n"
      ],
      "text/latex": [
       "\\begin{enumerate*}\n",
       "\\item 50000\n",
       "\\item 251605\n",
       "\\end{enumerate*}\n"
      ],
      "text/markdown": [
       "1. 50000\n",
       "2. 251605\n",
       "\n",
       "\n"
      ],
      "text/plain": [
       "[1]  50000 251605"
      ]
     },
     "metadata": {},
     "output_type": "display_data"
    },
    {
     "name": "stderr",
     "output_type": "stream",
     "text": [
      "   [[ suppressing 34 column names 'R207_AAACAGCCAAACGGGC-1', 'R207_AAACAGCCACAAAGAC-1', 'R207_AAACAGCCAGCAAGTG-1' ... ]]\n",
      "\n"
     ]
    },
    {
     "data": {
      "text/plain": [
       "6 x 251605 sparse Matrix of class \"dgCMatrix\"\n",
       "                                                                              \n",
       "chr1-10050000-10055000   2 . . . . . . . . . . . 2 . . . . . . . . . . . . . .\n",
       "chr1-10055000-10060000   2 2 . . . . . . 2 . . . 2 . . . . . . . . 2 . . . . .\n",
       "chr1-10070000-10075000   . . . . . . . . . . . . . . . . 2 . . 2 . . . 4 . . .\n",
       "chr1-10075000-10080000   . . . . . . . . . . . . . . . . 2 . . . . . . 4 . . .\n",
       "chr1-100790000-100795000 1 . . . . . 1 . . . . . 2 . . . . . . 2 . . . . . . .\n",
       "chr1-10125000-10130000   . . . . . . . 2 . 1 . . . . . . . . . . . . . . . . .\n",
       "                                             \n",
       "chr1-10050000-10055000   . . . . . . . ......\n",
       "chr1-10055000-10060000   . . 2 . . . . ......\n",
       "chr1-10070000-10075000   . . . . . . . ......\n",
       "chr1-10075000-10080000   . . . . . . . ......\n",
       "chr1-100790000-100795000 . 2 . . . . . ......\n",
       "chr1-10125000-10130000   . . . . . . . ......\n",
       "\n",
       " .....suppressing 251571 columns in show(); maybe adjust 'options(max.print= *, width = *)'\n",
       " .............................."
      ]
     },
     "metadata": {},
     "output_type": "display_data"
    }
   ],
   "source": [
    "overall_sm2 <- merge_sparse_matrices_hvws(atacs,hvws_fin2)\n",
    "dim(overall_sm2)\n",
    "head(overall_sm2)"
   ]
  },
  {
   "cell_type": "code",
   "execution_count": 17,
   "metadata": {},
   "outputs": [
    {
     "data": {
      "text/plain": [
       "\n",
       " TRUE \n",
       "50000 "
      ]
     },
     "metadata": {},
     "output_type": "display_data"
    }
   ],
   "source": [
    "#check if the windows of overall_sm are sorted (they should be)\n",
    "sorted_windows2 <- sort(row.names(overall_sm2))\n",
    "table(sorted_windows2 == row.names(overall_sm2))"
   ]
  },
  {
   "cell_type": "code",
   "execution_count": null,
   "metadata": {
    "scrolled": true
   },
   "outputs": [],
   "source": [
    "#continue to make Seurat compatible object\n",
    "atac <- overall_sm2\n",
    "suppressMessages(annotations <- GetGRangesFromEnsDb(ensdb=EnsDb.Hsapiens.v86))\n",
    "seqlevelsStyle(annotations) <- 'UCSC'\n",
    "genome(annotations) <- 'hg38'\n",
    "atac_assay <- CreateChromatinAssay(counts=atac, sep=c('-', '-'), genome='hg38', fragments=frag.file, min.cells=10, min.features=-1, annotation=annotations)"
   ]
  },
  {
   "cell_type": "code",
   "execution_count": 20,
   "metadata": {},
   "outputs": [
    {
     "data": {
      "text/html": [
       "<table class=\"dataframe\">\n",
       "<caption>A matrix: 2 × 6 of type dbl</caption>\n",
       "<thead>\n",
       "\t<tr><th></th><th scope=col>used</th><th scope=col>(Mb)</th><th scope=col>gc trigger</th><th scope=col>(Mb)</th><th scope=col>max used</th><th scope=col>(Mb)</th></tr>\n",
       "</thead>\n",
       "<tbody>\n",
       "\t<tr><th scope=row>Ncells</th><td>   12981029</td><td>  693.3</td><td>   24077121</td><td>  1285.9</td><td>   24077121</td><td>  1285.9</td></tr>\n",
       "\t<tr><th scope=row>Vcells</th><td>10784178389</td><td>82276.8</td><td>16929649958</td><td>129163.0</td><td>16927236741</td><td>129144.6</td></tr>\n",
       "</tbody>\n",
       "</table>\n"
      ],
      "text/latex": [
       "A matrix: 2 × 6 of type dbl\n",
       "\\begin{tabular}{r|llllll}\n",
       "  & used & (Mb) & gc trigger & (Mb) & max used & (Mb)\\\\\n",
       "\\hline\n",
       "\tNcells &    12981029 &   693.3 &    24077121 &   1285.9 &    24077121 &   1285.9\\\\\n",
       "\tVcells & 10784178389 & 82276.8 & 16929649958 & 129163.0 & 16927236741 & 129144.6\\\\\n",
       "\\end{tabular}\n"
      ],
      "text/markdown": [
       "\n",
       "A matrix: 2 × 6 of type dbl\n",
       "\n",
       "| <!--/--> | used | (Mb) | gc trigger | (Mb) | max used | (Mb) |\n",
       "|---|---|---|---|---|---|---|\n",
       "| Ncells |    12981029 |   693.3 |    24077121 |   1285.9 |    24077121 |   1285.9 |\n",
       "| Vcells | 10784178389 | 82276.8 | 16929649958 | 129163.0 | 16927236741 | 129144.6 |\n",
       "\n"
      ],
      "text/plain": [
       "       used        (Mb)    gc trigger  (Mb)     max used    (Mb)    \n",
       "Ncells    12981029   693.3    24077121   1285.9    24077121   1285.9\n",
       "Vcells 10784178389 82276.8 16929649958 129163.0 16927236741 129144.6"
      ]
     },
     "metadata": {},
     "output_type": "display_data"
    }
   ],
   "source": [
    "#this will only run if the barcodes perfectly match what's already in the object, otherwise it'll hang indefinitely\n",
    "suppressMessages(adata[['ATAC']] <- atac_assay)\n",
    "#atacs <- atac <- NULL\n",
    "gc()"
   ]
  },
  {
   "cell_type": "code",
   "execution_count": 22,
   "metadata": {},
   "outputs": [
    {
     "data": {
      "text/plain": [
       "An object of class Seurat \n",
       "86601 features across 251605 samples within 2 assays \n",
       "Active assay: RNA (36601 features, 0 variable features)\n",
       " 1 other assay present: ATAC"
      ]
     },
     "metadata": {},
     "output_type": "display_data"
    },
    {
     "data": {
      "text/plain": [
       "ChromatinAssay data with 50000 features for 251605 cells\n",
       "Variable features: 0 \n",
       "Genome: hg38 \n",
       "Annotation present: TRUE \n",
       "Motifs present: FALSE \n",
       "Fragment files: 1 "
      ]
     },
     "metadata": {},
     "output_type": "display_data"
    }
   ],
   "source": [
    "adata\n",
    "adata[[\"ATAC\"]]"
   ]
  },
  {
   "cell_type": "markdown",
   "metadata": {},
   "source": [
    "## Cluster initial object"
   ]
  },
  {
   "cell_type": "code",
   "execution_count": null,
   "metadata": {
    "scrolled": true
   },
   "outputs": [
    {
     "name": "stderr",
     "output_type": "stream",
     "text": [
      "PC_ 1 \n",
      "Positive:  GP2, NEAT1, PRSS2, CPA1, CD44, CELA3A, REG1A, CEL, CTRB2, PNLIPRP1 \n",
      "\t   PRSS1, CTRB1, MECOM, CPA2, CPB1, SPINK1, CUZD1, CHRM3, NIBAN1, CLPS \n",
      "\t   AKAP13, RAB27B, CELA3B, CA12, REG1B, TC2N, RBPJL, LGR4, ZFP36L1, SH3RF2 \n",
      "Negative:  INS, ZNF385D, PAM, SST, TRPM3, RIMS2, PDE4D, RFX3, MAGI2, ENPP2 \n",
      "\t   KCNMB2, NRXN1, CADM1, GPC6, DPP6, LINC01099, RGS7, GCG, AGBL4, MAPK10 \n",
      "\t   NOL4, NRG1, SPAG16, DGKB, SNTG1, SYT16, CADPS, NBEA, SEC24D, FGF14 \n",
      "PC_ 2 \n",
      "Positive:  MT-CO3, MT-CO2, MT-ATP6, MT-ND3, MT-CO1, PKHD1, CFTR, SLC4A4, MT-CYB, BICC1 \n",
      "\t   MT-ND4, MT-ND1, MT-ND2, BARX2, THSD4, MACC1, ADAMTS9, ADAMTS9-AS2, MT-ND5, CD44 \n",
      "\t   MYOF, NCEH1, ABTB2, ZEB2, RUNX1, TJP2, TFPI2, CXCL8, PMEPA1, TGFA \n",
      "Negative:  GP2, PRSS2, CPA1, CELA3A, CTRB2, PNLIPRP1, CEL, REG1A, PRSS1, CPB1 \n",
      "\t   CPA2, CTRB1, CLPS, CUZD1, ZNF385D, CELA3B, MECOM, SPINK1, REG1B, CHRM3 \n",
      "\t   PNLIP, PAM, PLA2G1B, RBPJL, CA12, HSPH1, TRPM3, TRHDE, CTRC, MBNL2 \n",
      "PC_ 3 \n",
      "Positive:  MT-CO3, MT-CO2, INS, MT-ND3, MT-ATP6, MT-CO1, MT-CYB, MT-ND1, PRSS2, MT-ND4 \n",
      "\t   GP2, MT-ND2, CPA1, CTRB2, CELA3A, PRSS1, REG1A, CLPS, CEL, CPB1 \n",
      "\t   MT-ND5, REG1B, PLA2G1B, CELA3B, PNLIP, CTRB1, SST, CTRC, MT-ND4L, MT-ATP8 \n",
      "Negative:  NEAT1, CD44, CFTR, PKHD1, MACC1, SLC4A4, BICC1, BARX2, ABTB2, ADAMTS9 \n",
      "\t   NCEH1, ANKRD36C, ANO6, THSD4, TJP2, KIAA1217, CXCL8, SMAD3, CYP3A5, ADAMTS9-AS2 \n",
      "\t   MYOF, EPS8, CLDN1, TGFA, WWTR1, TFPI2, SAT1, RBM47, TFPI, LINC00342 \n",
      "PC_ 4 \n",
      "Positive:  SST, PDE4C, IL12RB1, EYS, LRFN5, LEKR1, GP2, ERBB4, SCN11A, PRSS2 \n",
      "\t   AC092944.1, C2, KCNT2, LEPROTL1, DNAH12, CPA1, AL390957.1, CELA3A, COL21A1, CTRB2 \n",
      "\t   SCAI, CADM2, TSBP1-AS1, LINC01033, DPP10, SLC4A4, PRSS1, EFCAB2, NLRC5, LINC01091 \n",
      "Negative:  INS, NEAT1, MT-CO3, CD44, MT-CO2, MT-ATP6, MT-ND3, MT-CO1, MT-CYB, MACC1 \n",
      "\t   ZNF385D, MT-ND4, MT-ND1, MT-ND2, ABTB2, ADAMTS9, ANKRD36C, CXCL8, PAM, SMAD3 \n",
      "\t   NCEH1, ANO6, RAB27B, SAT1, CYP3A5, BARX2, MYOF, PELI1, TGFA, LINC00342 \n",
      "PC_ 5 \n",
      "Positive:  SST, GCG, GPC6, TTR, DMD, SEMA3E, AL591501.1, HS6ST3, SNTG1, STK32B \n",
      "\t   PTPRT, DSCAM, MT-CO2, SLC35F4, SPOCK3, PAPPA2, AC083837.1, ABCB1, TENM2, KCNMB2 \n",
      "\t   LINC02388, POU6F2, FSTL5, RGS7, LRFN5, EYS, FRMD5, MT-CO3, ERBB4, MT-ATP6 \n",
      "Negative:  INS, ZNF385D, TRPM3, SLC4A4, LINC01099, PKHD1, CFTR, SYT16, MEG8, NRG1 \n",
      "\t   DACH2, DGKB, BICC1, GLIS3, DLG2, MEG3, HDAC9, GPM6A, LRRTM3, IL12RB1 \n",
      "\t   NRG3, UNC5C, PDE3A, CCSER1, SCAI, SCN11A, FGF14, G6PC2, THSD4, PCDH7 \n",
      "\n",
      "Warning message:\n",
      "\"Quick-TRANSfer stage steps exceeded maximum (= 11650150)\"\n",
      "Warning message:\n",
      "\"Quick-TRANSfer stage steps exceeded maximum (= 11650150)\"\n",
      "Warning message:\n",
      "\"Quick-TRANSfer stage steps exceeded maximum (= 11650150)\"\n",
      "Warning message:\n",
      "\"Quick-TRANSfer stage steps exceeded maximum (= 11650150)\"\n",
      "Warning message:\n",
      "\"Quick-TRANSfer stage steps exceeded maximum (= 11650150)\"\n",
      "Warning message:\n",
      "\"Quick-TRANSfer stage steps exceeded maximum (= 11650150)\"\n",
      "Harmony 1/10\n",
      "\n",
      "Harmony 2/10\n",
      "\n",
      "Harmony 3/10\n",
      "\n",
      "Harmony 4/10\n",
      "\n",
      "Harmony 5/10\n",
      "\n",
      "Harmony 6/10\n",
      "\n",
      "Harmony 7/10\n",
      "\n",
      "Harmony 8/10\n",
      "\n",
      "Harmony converged after 8 iterations\n",
      "\n",
      "Warning message:\n",
      "\"Invalid name supplied, making object name syntactically valid. New object name is Seurat..ProjectDim.SCT.harmony.rna; see ?make.names for more details on syntax validity\"\n",
      "Warning message:\n",
      "\"The default method for RunUMAP has changed from calling Python UMAP via reticulate to the R-native UWOT using the cosine metric\n",
      "To use Python UMAP via reticulate, set umap.method to 'umap-learn' and metric to 'correlation'\n",
      "This message will be shown once per session\"\n",
      "17:39:49 UMAP embedding parameters a = 0.9922 b = 1.112\n",
      "\n",
      "17:39:49 Read 233003 rows and found 50 numeric columns\n",
      "\n",
      "17:39:49 Using Annoy for neighbor search, n_neighbors = 30\n",
      "\n",
      "17:39:49 Building Annoy index with metric = cosine, n_trees = 50\n",
      "\n",
      "0%   10   20   30   40   50   60   70   80   90   100%\n",
      "\n",
      "[----|----|----|----|----|----|----|----|----|----|\n",
      "\n",
      "*\n",
      "*\n",
      "*\n",
      "*\n",
      "*\n",
      "*\n",
      "*\n",
      "*\n",
      "*\n",
      "*\n",
      "*\n",
      "*\n",
      "*\n",
      "*\n",
      "*\n",
      "*\n",
      "*\n",
      "*\n",
      "*\n",
      "*\n",
      "*\n",
      "*\n",
      "*\n",
      "*\n",
      "*\n",
      "*\n",
      "*\n",
      "*\n",
      "*\n",
      "*\n",
      "*\n",
      "*\n",
      "*\n",
      "*\n",
      "*\n",
      "*\n",
      "*\n",
      "*\n",
      "*\n",
      "*\n",
      "*\n",
      "*\n",
      "*\n",
      "*\n",
      "*\n",
      "*\n",
      "*\n",
      "*\n",
      "*\n",
      "*\n",
      "|\n",
      "\n",
      "17:40:32 Writing NN index file to temp file /tmp/Rtmpl3bWp0/filecabd94f38f4b2\n",
      "\n",
      "17:40:32 Searching Annoy index using 1 thread, search_k = 3000\n",
      "\n",
      "17:42:31 Annoy recall = 100%\n",
      "\n",
      "17:42:43 Commencing smooth kNN distance calibration using 1 thread\n",
      "\n",
      "17:42:56 Initializing from normalized Laplacian + noise\n",
      "\n",
      "17:43:44 Commencing optimization for 200 epochs, with 11083762 positive edges\n",
      "\n",
      "17:46:04 Optimization finished\n",
      "\n",
      "Performing TF-IDF normalization\n",
      "\n",
      "Running SVD\n",
      "\n",
      "Scaling cell embeddings\n",
      "\n",
      "Warning message:\n",
      "\"Quick-TRANSfer stage steps exceeded maximum (= 11650150)\"\n",
      "Warning message:\n",
      "\"Quick-TRANSfer stage steps exceeded maximum (= 11650150)\"\n",
      "Warning message:\n",
      "\"Quick-TRANSfer stage steps exceeded maximum (= 11650150)\"\n",
      "Warning message:\n",
      "\"Quick-TRANSfer stage steps exceeded maximum (= 11650150)\"\n",
      "Warning message:\n",
      "\"Quick-TRANSfer stage steps exceeded maximum (= 11650150)\"\n",
      "Warning message:\n",
      "\"Quick-TRANSfer stage steps exceeded maximum (= 11650150)\"\n",
      "Warning message:\n",
      "\"Quick-TRANSfer stage steps exceeded maximum (= 11650150)\"\n",
      "Warning message:\n",
      "\"Quick-TRANSfer stage steps exceeded maximum (= 11650150)\"\n",
      "Warning message:\n",
      "\"Quick-TRANSfer stage steps exceeded maximum (= 11650150)\"\n",
      "Harmony 1/10\n",
      "\n",
      "Harmony 2/10\n",
      "\n",
      "Harmony 3/10\n",
      "\n",
      "Harmony 4/10\n",
      "\n",
      "Harmony 5/10\n",
      "\n",
      "Harmony 6/10\n",
      "\n",
      "Harmony converged after 6 iterations\n",
      "\n",
      "Warning message:\n",
      "\"Cannot add objects with duplicate keys (offending key: atac_) setting key to original value 'harmonyatac_'\"\n",
      "18:44:30 UMAP embedding parameters a = 0.9922 b = 1.112\n",
      "\n",
      "18:44:31 Read 233003 rows and found 49 numeric columns\n",
      "\n",
      "18:44:31 Using Annoy for neighbor search, n_neighbors = 30\n",
      "\n",
      "18:44:31 Building Annoy index with metric = cosine, n_trees = 50\n",
      "\n",
      "0%   10   20   30   40   50   60   70   80   90   100%\n",
      "\n",
      "[----|----|----|----|----|----|----|----|----|----|\n",
      "\n",
      "*\n",
      "*\n",
      "*\n",
      "*\n",
      "*\n",
      "*\n",
      "*\n",
      "*\n",
      "*\n",
      "*\n",
      "*\n",
      "*\n",
      "*\n",
      "*\n",
      "*\n",
      "*\n",
      "*\n",
      "*\n",
      "*\n",
      "*\n",
      "*\n",
      "*\n",
      "*\n",
      "*\n",
      "*\n",
      "*\n",
      "*\n",
      "*\n",
      "*\n",
      "*\n",
      "*\n",
      "*\n",
      "*\n",
      "*\n",
      "*\n",
      "*\n",
      "*\n",
      "*\n",
      "*\n",
      "*\n",
      "*\n",
      "*\n",
      "*\n",
      "*\n",
      "*\n",
      "*\n",
      "*\n",
      "*\n",
      "*\n",
      "*\n",
      "|\n",
      "\n",
      "18:45:07 Writing NN index file to temp file /tmp/Rtmpl3bWp0/filecabd933315d7f\n",
      "\n",
      "18:45:07 Searching Annoy index using 1 thread, search_k = 3000\n",
      "\n",
      "18:47:32 Annoy recall = 100%\n",
      "\n",
      "18:47:34 Commencing smooth kNN distance calibration using 1 thread\n",
      "\n",
      "18:47:49 Initializing from normalized Laplacian + noise\n",
      "\n",
      "18:48:03 Commencing optimization for 200 epochs, with 10903680 positive edges\n",
      "\n",
      "18:50:22 Optimization finished\n",
      "\n"
     ]
    },
    {
     "data": {
      "text/plain": [
       "An object of class Seurat \n",
       "119928 features across 233003 samples within 3 assays \n",
       "Active assay: ATAC (50000 features, 50000 variable features)\n",
       " 2 other assays present: RNA, SCT\n",
       " 7 dimensional reductions calculated: pca, harmony.rna, umap.rna, lsi, harmony.atac, umap.atac, umap.wnn"
      ]
     },
     "metadata": {},
     "output_type": "display_data"
    },
    {
     "name": "stderr",
     "output_type": "stream",
     "text": [
      "Calculating cell-specific modality weights\n",
      "\n",
      "Finding 20 nearest neighbors for each modality.\n",
      "\n",
      "Calculating kernel bandwidths\n",
      "\n",
      "Finding multimodal neighbors\n",
      "\n",
      "Constructing multimodal KNN graph\n",
      "\n",
      "Constructing multimodal SNN graph\n",
      "\n",
      "19:10:48 UMAP embedding parameters a = 0.9922 b = 1.112\n",
      "\n",
      "19:10:52 Commencing smooth kNN distance calibration using 1 thread\n",
      "\n",
      "19:10:53 4 smooth knn distance failures\n",
      "\n",
      "19:11:01 Initializing from normalized Laplacian + noise\n",
      "\n",
      "19:11:39 Commencing optimization for 200 epochs, with 7804974 positive edges\n",
      "\n",
      "19:13:53 Optimization finished\n",
      "\n"
     ]
    }
   ],
   "source": [
    "# RNA analysis\n",
    "DefaultAssay(adata) <- 'RNA'\n",
    "suppressWarnings(adata <- SCTransform(adata, verbose=FALSE))\n",
    "adata <- RunPCA(adata)\n",
    "adata <- RunHarmony(adata, group.by.vars='library', assay.use='SCT', reduction.save='harmony.rna')\n",
    "adata <- RunUMAP(adata, dims=1:50, reduction='harmony.rna', reduction.name='umap.rna', reduction.key='rnaUMAP_')\n",
    "\n",
    "# ATAC analysis\n",
    "# We exclude the first dimension as this is typically correlated with sequencing depth\n",
    "DefaultAssay(adata) <- 'ATAC'\n",
    "adata <- RunTFIDF(adata)\n",
    "adata <- FindTopFeatures(adata, min.cutoff='q0', verbose=FALSE)\n",
    "adata <- RunSVD(adata)\n",
    "hm_atac <- HarmonyMatrix(Embeddings(adata, reduction='lsi'), adata$library, do_pca=FALSE)\n",
    "adata[['harmony.atac']] <- CreateDimReducObject(embeddings=hm_atac, key='atac_', assay='ATAC')\n",
    "adata <- RunUMAP(adata, dims=2:50, reduction='harmony.atac', reduction.name='umap.atac', reduction.key='atacUMAP_')\n",
    "adata\n",
    "\n",
    "# Combining Modalities\n",
    "adata <- FindMultiModalNeighbors(adata, reduction.list=list('harmony.rna', 'harmony.atac'), dims.list=list(1:50, 2:50))\n",
    "adata <- RunUMAP(adata, nn.name='weighted.nn', reduction.name='umap.wnn', reduction.key='wnnUMAP_')\n",
    "adata <- FindClusters(adata, graph.name='wsnn', algorithm=4,  resolution = 0.25, verbose=FALSE, method = 'igraph')\n",
    "\n",
    "adata$log_nCount_ATAC=log(adata$nCount_ATAC)\n",
    "adata$log_nCount_SCT=log(adata$nCount_SCT)\n",
    "adata$log_nFeature_ATAC=log(adata$nFeature_ATAC)\n",
    "adata$log_nFeature_SCT=log(adata$nFeature_SCT)\n",
    "adata"
   ]
  },
  {
   "cell_type": "markdown",
   "metadata": {},
   "source": [
    "# Remove doublets from Scrublet and AMULET"
   ]
  },
  {
   "cell_type": "markdown",
   "metadata": {},
   "source": [
    "## Remove AMULET Doublets"
   ]
  },
  {
   "cell_type": "code",
   "execution_count": 99,
   "metadata": {},
   "outputs": [
    {
     "data": {
      "text/html": [
       "<style>\n",
       ".list-inline {list-style: none; margin:0; padding: 0}\n",
       ".list-inline>li {display: inline-block}\n",
       ".list-inline>li:not(:last-child)::after {content: \"\\00b7\"; padding: 0 .5ex}\n",
       "</style>\n",
       "<ol class=list-inline><li>'R226_AAACCGCGTTGCACAA-1'</li><li>'R226_AACAGGATCGGCTATG-1'</li><li>'R226_AGAGATTAGGCATTAC-1'</li><li>'R226_AGCACTTAGTAGCGGG-1'</li><li>'R226_AGCACTTAGTATCGCG-1'</li><li>'R226_AGCAGGTAGGTTTGAC-1'</li></ol>\n"
      ],
      "text/latex": [
       "\\begin{enumerate*}\n",
       "\\item 'R226\\_AAACCGCGTTGCACAA-1'\n",
       "\\item 'R226\\_AACAGGATCGGCTATG-1'\n",
       "\\item 'R226\\_AGAGATTAGGCATTAC-1'\n",
       "\\item 'R226\\_AGCACTTAGTAGCGGG-1'\n",
       "\\item 'R226\\_AGCACTTAGTATCGCG-1'\n",
       "\\item 'R226\\_AGCAGGTAGGTTTGAC-1'\n",
       "\\end{enumerate*}\n"
      ],
      "text/markdown": [
       "1. 'R226_AAACCGCGTTGCACAA-1'\n",
       "2. 'R226_AACAGGATCGGCTATG-1'\n",
       "3. 'R226_AGAGATTAGGCATTAC-1'\n",
       "4. 'R226_AGCACTTAGTAGCGGG-1'\n",
       "5. 'R226_AGCACTTAGTATCGCG-1'\n",
       "6. 'R226_AGCAGGTAGGTTTGAC-1'\n",
       "\n",
       "\n"
      ],
      "text/plain": [
       "[1] \"R226_AAACCGCGTTGCACAA-1\" \"R226_AACAGGATCGGCTATG-1\"\n",
       "[3] \"R226_AGAGATTAGGCATTAC-1\" \"R226_AGCACTTAGTAGCGGG-1\"\n",
       "[5] \"R226_AGCACTTAGTATCGCG-1\" \"R226_AGCAGGTAGGTTTGAC-1\""
      ]
     },
     "metadata": {},
     "output_type": "display_data"
    },
    {
     "data": {
      "text/html": [
       "18615"
      ],
      "text/latex": [
       "18615"
      ],
      "text/markdown": [
       "18615"
      ],
      "text/plain": [
       "[1] 18615"
      ]
     },
     "metadata": {},
     "output_type": "display_data"
    }
   ],
   "source": [
    "#read in multiplet barcodes from amulet outputs\n",
    "multiplets <- read.table(amulet_doublet_fp) %>% t() %>% as.vector()\n",
    "head(multiplets)\n",
    "length(multiplets)"
   ]
  },
  {
   "cell_type": "code",
   "execution_count": 111,
   "metadata": {},
   "outputs": [
    {
     "name": "stderr",
     "output_type": "stream",
     "text": [
      "Warning message:\n",
      "\"Keys should be one or more alphanumeric characters followed by an underscore, setting key from harmony.atac_ to harmonyatac_\"\n"
     ]
    },
    {
     "data": {
      "text/plain": [
       "An object of class Seurat \n",
       "120106 features across 233003 samples within 3 assays \n",
       "Active assay: ATAC (50000 features, 50000 variable features)\n",
       " 2 other assays present: RNA, SCT\n",
       " 7 dimensional reductions calculated: pca, harmony.rna, umap.rna, lsi, harmony.atac, umap.atac, umap.wnn"
      ]
     },
     "metadata": {},
     "output_type": "display_data"
    }
   ],
   "source": [
    "#remove multiplet cells from amulet output\n",
    "adata$remove_cells <- (Cells(adata) %in% multiplets)\n",
    "adata <- subset(adata, subset=remove_cells==FALSE)\n",
    "adata"
   ]
  },
  {
   "cell_type": "markdown",
   "metadata": {},
   "source": [
    "## Remove Scrublet doublets"
   ]
  },
  {
   "cell_type": "code",
   "execution_count": null,
   "metadata": {},
   "outputs": [],
   "source": [
    "#read in scrublet doublet calls\n",
    "scrub_df = read.table(scrublet_doublet_fp, sep='\\t')\n",
    "scrub_doublets = scrub_df[scrub_df$V2 == \"True\",1]\n",
    "\n",
    "#add scrub_doublets to adata metadata col\n",
    "cells = Cells(adata)\n",
    "scrub = rep('singlet', length(cells))\n",
    "names(scrub) = cells\n",
    "scrub[scrub_doublets] = 'doublet'\n",
    "adata <- AddMetaData(adata, scrub, col.name=\"scrublet\")\n",
    "\n",
    "#remove scrub_doublets from adata\n",
    "adata <- subset(adata, subset=scrublet==\"singlet\")"
   ]
  },
  {
   "cell_type": "markdown",
   "metadata": {},
   "source": [
    "# Apply QC filters\n",
    "Total filters: \n",
    "- 1000 < ATAC fragments < 50000\n",
    "- 500 < RNA genes < 4000\n",
    "- percent MT (RNA) < 1\n",
    "- atac MT fragments < 5000\n",
    "- TSSe > 2"
   ]
  },
  {
   "cell_type": "markdown",
   "metadata": {},
   "source": [
    "## Remove cells with high mitochondrial counts"
   ]
  },
  {
   "cell_type": "code",
   "execution_count": 8,
   "metadata": {},
   "outputs": [
    {
     "data": {
      "text/html": [
       "206646"
      ],
      "text/latex": [
       "206646"
      ],
      "text/markdown": [
       "206646"
      ],
      "text/plain": [
       "[1] 206646"
      ]
     },
     "metadata": {},
     "output_type": "display_data"
    },
    {
     "data": {
      "text/plain": [
       "\n",
       " FALSE   TRUE \n",
       "206646  26357 "
      ]
     },
     "metadata": {},
     "output_type": "display_data"
    },
    {
     "name": "stdout",
     "output_type": "stream",
     "text": [
      "402.083 sec elapsed\n"
     ]
    },
    {
     "data": {
      "text/plain": [
       "An object of class Seurat \n",
       "119928 features across 206646 samples within 3 assays \n",
       "Active assay: ATAC (50000 features, 50000 variable features)\n",
       " 2 other assays present: RNA, SCT\n",
       " 7 dimensional reductions calculated: pca, harmony.rna, umap.rna, lsi, harmony.atac, umap.atac, umap.wnn"
      ]
     },
     "metadata": {},
     "output_type": "display_data"
    }
   ],
   "source": [
    "#identify all cells passing a cutoff and then subset adata\n",
    "cutoff1 <- 1\n",
    "cutoff2 <- 5000\n",
    "\n",
    "below_cutoff1 <- Cells(adata)[adata$percent.mt < cutoff1]\n",
    "below_cutoff2 <- Cells(adata)[adata$atac_mitochondrial_reads < cutoff2]\n",
    "below_cutoff <- below_cutoff1[below_cutoff1 %in% below_cutoff2]\n",
    "\n",
    "length(below_cutoff)\n",
    "adata$remove_cells2 <- (!Cells(adata) %in% below_cutoff)\n",
    "table(adata$remove_cells2)\n",
    "\n",
    "tic()\n",
    "adata <- subset(adata, subset=remove_cells2==FALSE)\n",
    "toc()\n",
    "adata"
   ]
  },
  {
   "cell_type": "markdown",
   "metadata": {},
   "source": [
    "## Remove cells with low TSSe or very high counts"
   ]
  },
  {
   "cell_type": "code",
   "execution_count": 41,
   "metadata": {},
   "outputs": [
    {
     "data": {
      "text/html": [
       "206646"
      ],
      "text/latex": [
       "206646"
      ],
      "text/markdown": [
       "206646"
      ],
      "text/plain": [
       "[1] 206646"
      ]
     },
     "metadata": {},
     "output_type": "display_data"
    },
    {
     "data": {
      "text/html": [
       "200955"
      ],
      "text/latex": [
       "200955"
      ],
      "text/markdown": [
       "200955"
      ],
      "text/plain": [
       "[1] 200955"
      ]
     },
     "metadata": {},
     "output_type": "display_data"
    },
    {
     "data": {
      "text/html": [
       "204271"
      ],
      "text/latex": [
       "204271"
      ],
      "text/markdown": [
       "204271"
      ],
      "text/plain": [
       "[1] 204271"
      ]
     },
     "metadata": {},
     "output_type": "display_data"
    },
    {
     "data": {
      "text/html": [
       "203302"
      ],
      "text/latex": [
       "203302"
      ],
      "text/markdown": [
       "203302"
      ],
      "text/plain": [
       "[1] 203302"
      ]
     },
     "metadata": {},
     "output_type": "display_data"
    },
    {
     "data": {
      "text/html": [
       "195531"
      ],
      "text/latex": [
       "195531"
      ],
      "text/markdown": [
       "195531"
      ],
      "text/plain": [
       "[1] 195531"
      ]
     },
     "metadata": {},
     "output_type": "display_data"
    },
    {
     "data": {
      "text/html": [
       "<style>\n",
       ".list-inline {list-style: none; margin:0; padding: 0}\n",
       ".list-inline>li {display: inline-block}\n",
       ".list-inline>li:not(:last-child)::after {content: \"\\00b7\"; padding: 0 .5ex}\n",
       "</style>\n",
       "<ol class=list-inline><li>'R207_AAACAGCCAAACGGGC-1'</li><li>'R207_AAACAGCCACAAAGAC-1'</li><li>'R207_AAACAGCCAGCAAGTG-1'</li><li>'R207_AAACAGCCAGTTATCG-1'</li><li>'R207_AAACAGCCATAATCCG-1'</li><li>'R207_AAACAGCCATACCCGG-1'</li></ol>\n"
      ],
      "text/latex": [
       "\\begin{enumerate*}\n",
       "\\item 'R207\\_AAACAGCCAAACGGGC-1'\n",
       "\\item 'R207\\_AAACAGCCACAAAGAC-1'\n",
       "\\item 'R207\\_AAACAGCCAGCAAGTG-1'\n",
       "\\item 'R207\\_AAACAGCCAGTTATCG-1'\n",
       "\\item 'R207\\_AAACAGCCATAATCCG-1'\n",
       "\\item 'R207\\_AAACAGCCATACCCGG-1'\n",
       "\\end{enumerate*}\n"
      ],
      "text/markdown": [
       "1. 'R207_AAACAGCCAAACGGGC-1'\n",
       "2. 'R207_AAACAGCCACAAAGAC-1'\n",
       "3. 'R207_AAACAGCCAGCAAGTG-1'\n",
       "4. 'R207_AAACAGCCAGTTATCG-1'\n",
       "5. 'R207_AAACAGCCATAATCCG-1'\n",
       "6. 'R207_AAACAGCCATACCCGG-1'\n",
       "\n",
       "\n"
      ],
      "text/plain": [
       "[1] \"R207_AAACAGCCAAACGGGC-1\" \"R207_AAACAGCCACAAAGAC-1\"\n",
       "[3] \"R207_AAACAGCCAGCAAGTG-1\" \"R207_AAACAGCCAGTTATCG-1\"\n",
       "[5] \"R207_AAACAGCCATAATCCG-1\" \"R207_AAACAGCCATACCCGG-1\""
      ]
     },
     "metadata": {},
     "output_type": "display_data"
    },
    {
     "data": {
      "text/plain": [
       "\n",
       " FALSE   TRUE \n",
       "195531  11115 "
      ]
     },
     "metadata": {},
     "output_type": "display_data"
    },
    {
     "name": "stdout",
     "output_type": "stream",
     "text": [
      "520.791 sec elapsed\n"
     ]
    },
    {
     "data": {
      "text/plain": [
       "An object of class Seurat \n",
       "119715 features across 195531 samples within 3 assays \n",
       "Active assay: ATAC (50000 features, 50000 variable features)\n",
       " 2 other assays present: RNA, SCT\n",
       " 7 dimensional reductions calculated: pca, harmony.rna, umap.rna, lsi, harmony.atac, umap.atac, umap.wnn"
      ]
     },
     "metadata": {},
     "output_type": "display_data"
    }
   ],
   "source": [
    "#identify all cells passing a cutoff and then subset adata\n",
    "cutoff1 <- 2\n",
    "cutoff2 <- 50000\n",
    "cutoff3 <- 4000\n",
    "\n",
    "below_cutoff1 <- Cells(adata)[adata$TSS.enrichment > cutoff1]\n",
    "below_cutoff2 <- Cells(adata)[adata$atac_fragments < cutoff2]\n",
    "below_cutoff3 <- Cells(adata)[adata$nFeature_RNA < cutoff3]\n",
    "below_cutoff <- Reduce(intersect, list(below_cutoff1, below_cutoff2, below_cutoff3))\n",
    "length(Cells(adata))\n",
    "length(below_cutoff1)\n",
    "length(below_cutoff2)\n",
    "length(below_cutoff3)\n",
    "length(below_cutoff)\n",
    "head(below_cutoff)\n",
    "\n",
    "adata$remove_cells <- (!Cells(adata) %in% below_cutoff)\n",
    "table(adata$remove_cells)\n",
    "\n",
    "tic()\n",
    "adata <- subset(adata, subset=remove_cells==FALSE)\n",
    "toc()\n",
    "adata"
   ]
  },
  {
   "cell_type": "markdown",
   "metadata": {},
   "source": [
    "# Cluster final object and visualize resulting UMAP"
   ]
  },
  {
   "cell_type": "code",
   "execution_count": null,
   "metadata": {
    "scrolled": true
   },
   "outputs": [],
   "source": [
    "# RNA analysis\n",
    "DefaultAssay(adata) <- 'RNA'\n",
    "suppressWarnings(adata <- SCTransform(adata, verbose=FALSE))\n",
    "adata <- RunPCA(adata)\n",
    "adata <- RunHarmony(adata, group.by.vars='library', assay.use='SCT', reduction.save='harmony.rna')\n",
    "adata <- RunUMAP(adata, dims=1:50, reduction='harmony.rna', reduction.name='umap.rna', reduction.key='rnaUMAP_')\n",
    "\n",
    "# ATAC analysis\n",
    "# We exclude the first dimension as this is typically correlated with sequencing depth\n",
    "DefaultAssay(adata) <- 'ATAC'\n",
    "adata <- RunTFIDF(adata)\n",
    "adata <- FindTopFeatures(adata, min.cutoff='q0', verbose=FALSE)\n",
    "adata <- RunSVD(adata)\n",
    "hm_atac <- HarmonyMatrix(Embeddings(adata, reduction='lsi'), adata$library, do_pca=FALSE)\n",
    "adata[['harmony.atac']] <- CreateDimReducObject(embeddings=hm_atac, key='atac_', assay='ATAC')\n",
    "adata <- RunUMAP(adata, dims=2:50, reduction='harmony.atac', reduction.name='umap.atac', reduction.key='atacUMAP_')\n",
    "adata\n",
    "\n",
    "# Combining Modalities\n",
    "adata <- FindMultiModalNeighbors(adata, reduction.list=list('harmony.rna', 'harmony.atac'), dims.list=list(1:50, 2:50))\n",
    "adata <- RunUMAP(adata, nn.name='weighted.nn', reduction.name='umap.wnn', reduction.key='wnnUMAP_')\n",
    "adata <- FindClusters(adata, graph.name='wsnn', algorithm=4,  resolution = 0.25, verbose=FALSE, method = 'igraph')\n",
    "\n",
    "adata$log_nCount_ATAC=log(adata$nCount_ATAC)\n",
    "adata$log_nCount_SCT=log(adata$nCount_SCT)\n",
    "adata$log_nFeature_ATAC=log(adata$nFeature_ATAC)\n",
    "adata$log_nFeature_SCT=log(adata$nFeature_SCT)\n",
    "adata"
   ]
  },
  {
   "cell_type": "code",
   "execution_count": 30,
   "metadata": {},
   "outputs": [
    {
     "name": "stderr",
     "output_type": "stream",
     "text": [
      "Rasterizing points since number of points exceeds 100,000.\n",
      "To disable this behavior set `raster=FALSE`\n",
      "\n",
      "Rasterizing points since number of points exceeds 100,000.\n",
      "To disable this behavior set `raster=FALSE`\n",
      "\n",
      "Rasterizing points since number of points exceeds 100,000.\n",
      "To disable this behavior set `raster=FALSE`\n",
      "\n"
     ]
    },
    {
     "data": {
      "image/png": "[encoded data removed]",
      "text/plain": [
       "plot without title"
      ]
     },
     "metadata": {
      "image/png": {
       "height": 360,
       "width": 1080
      }
     },
     "output_type": "display_data"
    }
   ],
   "source": [
    "#basic UMAPs colored by cluster\n",
    "options(repr.plot.width=18, repr.plot.height=6)\n",
    "p1 <- DimPlot(adata, reduction='umap.rna', group.by='seurat_clusters', label=TRUE, label.size=6, repel=TRUE) + ggtitle('RNA')\n",
    "p1 <- p1 + xlab('UMAP 1') + ylab('UMAP 2') + ggtitle('RNA only')\n",
    "p2 <- DimPlot(adata, reduction='umap.atac', group.by='seurat_clusters', label=TRUE, label.size=6, repel=TRUE) + ggtitle('ATAC')\n",
    "p2 <- p2 + xlab('UMAP 1') + ylab('UMAP 2') + ggtitle('ATAC only')\n",
    "p3 <- DimPlot(adata, reduction='umap.wnn', group.by='seurat_clusters', label=TRUE, label.size=6, repel=TRUE) + ggtitle('WNN')\n",
    "p3 <- p3 + xlab('UMAP 1') + ylab('UMAP 2') + ggtitle('Combined')\n",
    "p1 + p2 + p3 & NoLegend() & theme(plot.title=element_text(hjust=0.5))"
   ]
  },
  {
   "cell_type": "code",
   "execution_count": null,
   "metadata": {},
   "outputs": [],
   "source": []
  }
 ],
 "metadata": {
  "kernelspec": {
   "display_name": "R 4.1",
   "language": "R",
   "name": "ir411"
  },
  "language_info": {
   "codemirror_mode": "r",
   "file_extension": ".r",
   "mimetype": "text/x-r-source",
   "name": "R",
   "pygments_lexer": "r",
   "version": "4.1.1"
  }
 },
 "nbformat": 4,
 "nbformat_minor": 4
}
