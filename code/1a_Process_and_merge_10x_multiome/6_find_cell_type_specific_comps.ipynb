{
 "cells": [
  {
   "cell_type": "markdown",
   "id": "31ca8f34-5d49-4f3c-947a-b23671166743",
   "metadata": {},
   "source": [
    "#### Summary: \n",
    "In this notebook we identify genes, cREs and motifs with cell type-specific expression, accessibility, or motif accessibility, respectively. We first create per cell type- normalized pseudobulk counts matrices and then use Shannon's Entropy to find genes and cREs that are specific to one cell type. Then we find motifs enriched in cell type specific cREs with homer and perform correlation between motif accesssibility (from ChromVAR) and gene expression to identify active TFs. Because the last part requires ChromVAR outputs, you'll need to run the first ChromVAR notebook before running that. \n",
    "\n",
    "Required inputs:\n",
    "- Matrix of per-cell type pseudobulk TPM values (RNA)\n",
    "- Matrix of per-cell type pseudobulk CPM values (ATAC)\n",
    "- List of all peaks accessible in each cell type (to use as background for HOMER)\n",
    "- Per-donor cell type TPM matrix\n",
    "- Per-donor cell type average ChromVAR devscore matrix"
   ]
  },
  {
   "cell_type": "code",
   "execution_count": 1,
   "id": "96364d14-a92d-497f-8795-884e0cd3c9ef",
   "metadata": {
    "tags": []
   },
   "outputs": [],
   "source": [
    "suppressMessages(library(hdf5r))\n",
    "suppressMessages(library(Seurat))\n",
    "suppressMessages(library(Signac))\n",
    "\n",
    "suppressMessages(library(dplyr))\n",
    "suppressMessages(library(stringr))\n",
    "suppressMessages(library(data.table))\n",
    "suppressMessages(library(tictoc))"
   ]
  },
  {
   "cell_type": "code",
   "execution_count": 1,
   "id": "8426df56-768d-4203-b26b-74e7c564bba4",
   "metadata": {},
   "outputs": [],
   "source": [
    "suppressMessages(library('DescTools'))"
   ]
  },
  {
   "cell_type": "code",
   "execution_count": 3,
   "id": "f34e9610-6506-4969-a189-0c109c4f2754",
   "metadata": {
    "tags": []
   },
   "outputs": [],
   "source": [
    "rna_celltypes <- c('beta','alpha','delta','acinar','ductal','stellate','immune')\n",
    "atac_celltypes <- c('beta','alpha','delta','gamma','acinar','ductal')\n",
    "joint_celltypes <- c('beta', 'alpha', 'delta', 'gamma', 'acinar','ductal', 'endothelial', 'immune','stellate')"
   ]
  },
  {
   "cell_type": "code",
   "execution_count": 4,
   "id": "b552832f-3689-412a-b291-ce60617106cf",
   "metadata": {},
   "outputs": [],
   "source": [
    "alberta_samples <- c('R207','R217','R218','R221','R223',\n",
    "                      'R226','R228','R234','R237','R238',\n",
    "                      'R246', 'R247', 'R275', 'R284', \n",
    "                      'R290', 'R292', 'R316', 'R317', 'R319',\n",
    "                      'R325','R326','R327','R332',\n",
    "                      'R353','R354','R362','R363','R364')"
   ]
  },
  {
   "cell_type": "markdown",
   "id": "1a40f5fc-0e49-4d0c-bdcb-ef04aefb1632",
   "metadata": {},
   "source": [
    "## Input files"
   ]
  },
  {
   "cell_type": "code",
   "execution_count": 5,
   "id": "a22e4630-875c-4d92-92a2-1e274c2f9fb6",
   "metadata": {},
   "outputs": [],
   "source": [
    "prev_rna_dir <- '/dir/with/cell/type/TPM/matrix'\n",
    "prev_atac_dir <- '/dir/with/cell/type/CPM/matrix'\n",
    "outdir <- '/place/to/save/entropy_outputs'"
   ]
  },
  {
   "cell_type": "code",
   "execution_count": null,
   "id": "87886fac-7c34-4bac-9fd7-b10a6ff2a4ab",
   "metadata": {},
   "outputs": [],
   "source": [
    "atac_ct_peaks_dir <- '/dir/with/cell/type/peaks/beds'"
   ]
  },
  {
   "cell_type": "code",
   "execution_count": 167,
   "id": "af9a920b-e7d1-4ca1-8750-f2b879953941",
   "metadata": {},
   "outputs": [],
   "source": [
    "#directories for inputs\n",
    "tpm_dir <- '/path/to/per/donor/tpm/matrices'\n",
    "motif_dir <- '/path/to/per/donor/avg/motif/devscores'"
   ]
  },
  {
   "cell_type": "code",
   "execution_count": 8,
   "id": "8db4034f-375b-46f6-a94e-26c7d6e4b4b5",
   "metadata": {},
   "outputs": [],
   "source": [
    "#motif family maps\n",
    "lookup_fp <- 'non-diabetic-islet-multiomics/references/220907_WE_Chromvar_to_Gene_By_Subfam_Complete(JAPRAR2022_TFClass).csv'"
   ]
  },
  {
   "cell_type": "markdown",
   "id": "88319e4f-aa9b-44eb-a54a-281212df1e09",
   "metadata": {},
   "source": [
    "# Find cell type-specific genes"
   ]
  },
  {
   "cell_type": "code",
   "execution_count": 51,
   "id": "80c2c5f7-4a39-47b5-84fc-b6f3137acb9c",
   "metadata": {},
   "outputs": [
    {
     "data": {
      "text/html": [
       "<table class=\"dataframe\">\n",
       "<caption>A data.frame: 6 × 9</caption>\n",
       "<thead>\n",
       "\t<tr><th></th><th scope=col>beta</th><th scope=col>alpha</th><th scope=col>delta</th><th scope=col>gamma</th><th scope=col>acinar</th><th scope=col>ductal</th><th scope=col>endothelial</th><th scope=col>immune</th><th scope=col>stellate</th></tr>\n",
       "\t<tr><th></th><th scope=col>&lt;dbl&gt;</th><th scope=col>&lt;dbl&gt;</th><th scope=col>&lt;dbl&gt;</th><th scope=col>&lt;dbl&gt;</th><th scope=col>&lt;dbl&gt;</th><th scope=col>&lt;dbl&gt;</th><th scope=col>&lt;dbl&gt;</th><th scope=col>&lt;dbl&gt;</th><th scope=col>&lt;dbl&gt;</th></tr>\n",
       "</thead>\n",
       "<tbody>\n",
       "\t<tr><th scope=row>TSPAN6</th><td>2.792134e-01</td><td>  1.248374</td><td>  1.046538</td><td>  1.466022</td><td>   1.4362978</td><td>  2.495515</td><td>  5.84893</td><td>  0.000000</td><td>  1.457858</td></tr>\n",
       "\t<tr><th scope=row>TNMD</th><td>8.964312e-03</td><td>  0.000000</td><td>  0.000000</td><td>  0.000000</td><td>   0.0000000</td><td>  0.000000</td><td>  0.00000</td><td>  0.000000</td><td>  0.000000</td></tr>\n",
       "\t<tr><th scope=row>DPM1</th><td>5.989624e+02</td><td>454.651649</td><td>522.208820</td><td>634.440533</td><td>1093.3209236</td><td>286.313021</td><td>481.25220</td><td>350.184105</td><td>380.589776</td></tr>\n",
       "\t<tr><th scope=row>SCYL3</th><td>7.442227e+00</td><td>  6.978980</td><td>  9.241753</td><td> 10.661821</td><td>   6.8632041</td><td>  7.634989</td><td> 12.74722</td><td>  5.253001</td><td> 10.653084</td></tr>\n",
       "\t<tr><th scope=row>C1orf112</th><td>7.810353e+00</td><td> 10.512773</td><td> 13.304809</td><td>  8.727198</td><td>   4.7928538</td><td> 24.511730</td><td> 13.28311</td><td>  2.008828</td><td>  9.374402</td></tr>\n",
       "\t<tr><th scope=row>FGR</th><td>2.065146e+00</td><td>  2.966342</td><td>  2.416901</td><td>  2.175784</td><td>   0.6314084</td><td>  4.657305</td><td> 21.66379</td><td> 80.794243</td><td>  3.914960</td></tr>\n",
       "</tbody>\n",
       "</table>\n"
      ],
      "text/latex": [
       "A data.frame: 6 × 9\n",
       "\\begin{tabular}{r|lllllllll}\n",
       "  & beta & alpha & delta & gamma & acinar & ductal & endothelial & immune & stellate\\\\\n",
       "  & <dbl> & <dbl> & <dbl> & <dbl> & <dbl> & <dbl> & <dbl> & <dbl> & <dbl>\\\\\n",
       "\\hline\n",
       "\tTSPAN6 & 2.792134e-01 &   1.248374 &   1.046538 &   1.466022 &    1.4362978 &   2.495515 &   5.84893 &   0.000000 &   1.457858\\\\\n",
       "\tTNMD & 8.964312e-03 &   0.000000 &   0.000000 &   0.000000 &    0.0000000 &   0.000000 &   0.00000 &   0.000000 &   0.000000\\\\\n",
       "\tDPM1 & 5.989624e+02 & 454.651649 & 522.208820 & 634.440533 & 1093.3209236 & 286.313021 & 481.25220 & 350.184105 & 380.589776\\\\\n",
       "\tSCYL3 & 7.442227e+00 &   6.978980 &   9.241753 &  10.661821 &    6.8632041 &   7.634989 &  12.74722 &   5.253001 &  10.653084\\\\\n",
       "\tC1orf112 & 7.810353e+00 &  10.512773 &  13.304809 &   8.727198 &    4.7928538 &  24.511730 &  13.28311 &   2.008828 &   9.374402\\\\\n",
       "\tFGR & 2.065146e+00 &   2.966342 &   2.416901 &   2.175784 &    0.6314084 &   4.657305 &  21.66379 &  80.794243 &   3.914960\\\\\n",
       "\\end{tabular}\n"
      ],
      "text/markdown": [
       "\n",
       "A data.frame: 6 × 9\n",
       "\n",
       "| <!--/--> | beta &lt;dbl&gt; | alpha &lt;dbl&gt; | delta &lt;dbl&gt; | gamma &lt;dbl&gt; | acinar &lt;dbl&gt; | ductal &lt;dbl&gt; | endothelial &lt;dbl&gt; | immune &lt;dbl&gt; | stellate &lt;dbl&gt; |\n",
       "|---|---|---|---|---|---|---|---|---|---|\n",
       "| TSPAN6 | 2.792134e-01 |   1.248374 |   1.046538 |   1.466022 |    1.4362978 |   2.495515 |   5.84893 |   0.000000 |   1.457858 |\n",
       "| TNMD | 8.964312e-03 |   0.000000 |   0.000000 |   0.000000 |    0.0000000 |   0.000000 |   0.00000 |   0.000000 |   0.000000 |\n",
       "| DPM1 | 5.989624e+02 | 454.651649 | 522.208820 | 634.440533 | 1093.3209236 | 286.313021 | 481.25220 | 350.184105 | 380.589776 |\n",
       "| SCYL3 | 7.442227e+00 |   6.978980 |   9.241753 |  10.661821 |    6.8632041 |   7.634989 |  12.74722 |   5.253001 |  10.653084 |\n",
       "| C1orf112 | 7.810353e+00 |  10.512773 |  13.304809 |   8.727198 |    4.7928538 |  24.511730 |  13.28311 |   2.008828 |   9.374402 |\n",
       "| FGR | 2.065146e+00 |   2.966342 |   2.416901 |   2.175784 |    0.6314084 |   4.657305 |  21.66379 |  80.794243 |   3.914960 |\n",
       "\n"
      ],
      "text/plain": [
       "         beta         alpha      delta      gamma      acinar       ductal    \n",
       "TSPAN6   2.792134e-01   1.248374   1.046538   1.466022    1.4362978   2.495515\n",
       "TNMD     8.964312e-03   0.000000   0.000000   0.000000    0.0000000   0.000000\n",
       "DPM1     5.989624e+02 454.651649 522.208820 634.440533 1093.3209236 286.313021\n",
       "SCYL3    7.442227e+00   6.978980   9.241753  10.661821    6.8632041   7.634989\n",
       "C1orf112 7.810353e+00  10.512773  13.304809   8.727198    4.7928538  24.511730\n",
       "FGR      2.065146e+00   2.966342   2.416901   2.175784    0.6314084   4.657305\n",
       "         endothelial immune     stellate  \n",
       "TSPAN6     5.84893     0.000000   1.457858\n",
       "TNMD       0.00000     0.000000   0.000000\n",
       "DPM1     481.25220   350.184105 380.589776\n",
       "SCYL3     12.74722     5.253001  10.653084\n",
       "C1orf112  13.28311     2.008828   9.374402\n",
       "FGR       21.66379    80.794243   3.914960"
      ]
     },
     "metadata": {},
     "output_type": "display_data"
    },
    {
     "data": {
      "text/html": [
       "1830"
      ],
      "text/latex": [
       "1830"
      ],
      "text/markdown": [
       "1830"
      ],
      "text/plain": [
       "[1] 1830"
      ]
     },
     "metadata": {},
     "output_type": "display_data"
    }
   ],
   "source": [
    "#read in the all cell types CPM matrix\n",
    "mtx_fp <- file.path(prev_rna_dir,'major_celltype_TPM_values.txt')\n",
    "tpm <- read.table(mtx_fp, sep='\\t', header=1)\n",
    "tpm <- tpm[,joint_celltypes]\n",
    "head(tpm)\n",
    "\n",
    "#remove any genes not expressed in any cell type\n",
    "not_expressed <- row.names(tpm[rowSums(tpm)==0,])\n",
    "length(not_expressed)\n",
    "tpm_fin <- tpm[rowSums(tpm)>0,]"
   ]
  },
  {
   "cell_type": "code",
   "execution_count": 52,
   "id": "2947eee5-09b1-4a1a-b4db-13efba22c5e4",
   "metadata": {},
   "outputs": [
    {
     "data": {
      "text/html": [
       "<table class=\"dataframe\">\n",
       "<caption>A data.frame: 6 × 9</caption>\n",
       "<thead>\n",
       "\t<tr><th></th><th scope=col>beta</th><th scope=col>alpha</th><th scope=col>delta</th><th scope=col>gamma</th><th scope=col>acinar</th><th scope=col>ductal</th><th scope=col>endothelial</th><th scope=col>immune</th><th scope=col>stellate</th></tr>\n",
       "\t<tr><th></th><th scope=col>&lt;dbl&gt;</th><th scope=col>&lt;dbl&gt;</th><th scope=col>&lt;dbl&gt;</th><th scope=col>&lt;dbl&gt;</th><th scope=col>&lt;dbl&gt;</th><th scope=col>&lt;dbl&gt;</th><th scope=col>&lt;dbl&gt;</th><th scope=col>&lt;dbl&gt;</th><th scope=col>&lt;dbl&gt;</th></tr>\n",
       "</thead>\n",
       "<tbody>\n",
       "\t<tr><th scope=row>TSPAN6</th><td>0.01827463</td><td>0.08170657</td><td>0.06849630</td><td>0.09595168</td><td>0.094006252</td><td>0.16333243</td><td>0.3828148</td><td>0.00000000</td><td>0.09541736</td></tr>\n",
       "\t<tr><th scope=row>TNMD</th><td>1.00000000</td><td>0.00000000</td><td>0.00000000</td><td>0.00000000</td><td>0.000000000</td><td>0.00000000</td><td>0.0000000</td><td>0.00000000</td><td>0.00000000</td></tr>\n",
       "\t<tr><th scope=row>DPM1</th><td>0.12473385</td><td>0.09468115</td><td>0.10874993</td><td>0.13212217</td><td>0.227683957</td><td>0.05962465</td><td>0.1002207</td><td>0.07292580</td><td>0.07925778</td></tr>\n",
       "\t<tr><th scope=row>SCYL3</th><td>0.09605814</td><td>0.09007893</td><td>0.11928494</td><td>0.13761400</td><td>0.088584587</td><td>0.09854615</td><td>0.1645306</td><td>0.06780142</td><td>0.13750124</td></tr>\n",
       "\t<tr><th scope=row>C1orf112</th><td>0.08280165</td><td>0.11145142</td><td>0.14105126</td><td>0.09252160</td><td>0.050811557</td><td>0.25986170</td><td>0.1408212</td><td>0.02129664</td><td>0.09938295</td></tr>\n",
       "\t<tr><th scope=row>FGR</th><td>0.01702710</td><td>0.02445744</td><td>0.01992731</td><td>0.01793930</td><td>0.005205951</td><td>0.03839940</td><td>0.1786176</td><td>0.66614712</td><td>0.03227878</td></tr>\n",
       "</tbody>\n",
       "</table>\n"
      ],
      "text/latex": [
       "A data.frame: 6 × 9\n",
       "\\begin{tabular}{r|lllllllll}\n",
       "  & beta & alpha & delta & gamma & acinar & ductal & endothelial & immune & stellate\\\\\n",
       "  & <dbl> & <dbl> & <dbl> & <dbl> & <dbl> & <dbl> & <dbl> & <dbl> & <dbl>\\\\\n",
       "\\hline\n",
       "\tTSPAN6 & 0.01827463 & 0.08170657 & 0.06849630 & 0.09595168 & 0.094006252 & 0.16333243 & 0.3828148 & 0.00000000 & 0.09541736\\\\\n",
       "\tTNMD & 1.00000000 & 0.00000000 & 0.00000000 & 0.00000000 & 0.000000000 & 0.00000000 & 0.0000000 & 0.00000000 & 0.00000000\\\\\n",
       "\tDPM1 & 0.12473385 & 0.09468115 & 0.10874993 & 0.13212217 & 0.227683957 & 0.05962465 & 0.1002207 & 0.07292580 & 0.07925778\\\\\n",
       "\tSCYL3 & 0.09605814 & 0.09007893 & 0.11928494 & 0.13761400 & 0.088584587 & 0.09854615 & 0.1645306 & 0.06780142 & 0.13750124\\\\\n",
       "\tC1orf112 & 0.08280165 & 0.11145142 & 0.14105126 & 0.09252160 & 0.050811557 & 0.25986170 & 0.1408212 & 0.02129664 & 0.09938295\\\\\n",
       "\tFGR & 0.01702710 & 0.02445744 & 0.01992731 & 0.01793930 & 0.005205951 & 0.03839940 & 0.1786176 & 0.66614712 & 0.03227878\\\\\n",
       "\\end{tabular}\n"
      ],
      "text/markdown": [
       "\n",
       "A data.frame: 6 × 9\n",
       "\n",
       "| <!--/--> | beta &lt;dbl&gt; | alpha &lt;dbl&gt; | delta &lt;dbl&gt; | gamma &lt;dbl&gt; | acinar &lt;dbl&gt; | ductal &lt;dbl&gt; | endothelial &lt;dbl&gt; | immune &lt;dbl&gt; | stellate &lt;dbl&gt; |\n",
       "|---|---|---|---|---|---|---|---|---|---|\n",
       "| TSPAN6 | 0.01827463 | 0.08170657 | 0.06849630 | 0.09595168 | 0.094006252 | 0.16333243 | 0.3828148 | 0.00000000 | 0.09541736 |\n",
       "| TNMD | 1.00000000 | 0.00000000 | 0.00000000 | 0.00000000 | 0.000000000 | 0.00000000 | 0.0000000 | 0.00000000 | 0.00000000 |\n",
       "| DPM1 | 0.12473385 | 0.09468115 | 0.10874993 | 0.13212217 | 0.227683957 | 0.05962465 | 0.1002207 | 0.07292580 | 0.07925778 |\n",
       "| SCYL3 | 0.09605814 | 0.09007893 | 0.11928494 | 0.13761400 | 0.088584587 | 0.09854615 | 0.1645306 | 0.06780142 | 0.13750124 |\n",
       "| C1orf112 | 0.08280165 | 0.11145142 | 0.14105126 | 0.09252160 | 0.050811557 | 0.25986170 | 0.1408212 | 0.02129664 | 0.09938295 |\n",
       "| FGR | 0.01702710 | 0.02445744 | 0.01992731 | 0.01793930 | 0.005205951 | 0.03839940 | 0.1786176 | 0.66614712 | 0.03227878 |\n",
       "\n"
      ],
      "text/plain": [
       "         beta       alpha      delta      gamma      acinar      ductal    \n",
       "TSPAN6   0.01827463 0.08170657 0.06849630 0.09595168 0.094006252 0.16333243\n",
       "TNMD     1.00000000 0.00000000 0.00000000 0.00000000 0.000000000 0.00000000\n",
       "DPM1     0.12473385 0.09468115 0.10874993 0.13212217 0.227683957 0.05962465\n",
       "SCYL3    0.09605814 0.09007893 0.11928494 0.13761400 0.088584587 0.09854615\n",
       "C1orf112 0.08280165 0.11145142 0.14105126 0.09252160 0.050811557 0.25986170\n",
       "FGR      0.01702710 0.02445744 0.01992731 0.01793930 0.005205951 0.03839940\n",
       "         endothelial immune     stellate  \n",
       "TSPAN6   0.3828148   0.00000000 0.09541736\n",
       "TNMD     0.0000000   0.00000000 0.00000000\n",
       "DPM1     0.1002207   0.07292580 0.07925778\n",
       "SCYL3    0.1645306   0.06780142 0.13750124\n",
       "C1orf112 0.1408212   0.02129664 0.09938295\n",
       "FGR      0.1786176   0.66614712 0.03227878"
      ]
     },
     "metadata": {},
     "output_type": "display_data"
    }
   ],
   "source": [
    "#convert TPM values to prob values (based on rowSums)\n",
    "probs <- list()\n",
    "rowsums <- rowSums(tpm_fin)\n",
    "\n",
    "for(celltype in joint_celltypes){\n",
    "    probs[[celltype]] <- tpm_fin[,celltype]/rowsums\n",
    "}\n",
    "\n",
    "prob_df <- as.data.frame(probs)\n",
    "head(prob_df)"
   ]
  },
  {
   "cell_type": "code",
   "execution_count": 54,
   "id": "31dbfd60-7495-443a-8f6a-ff01e2f67e91",
   "metadata": {},
   "outputs": [
    {
     "data": {
      "text/html": [
       "3.16786759947343"
      ],
      "text/latex": [
       "3.16786759947343"
      ],
      "text/markdown": [
       "3.16786759947343"
      ],
      "text/plain": [
       "[1] 3.167868"
      ]
     },
     "metadata": {},
     "output_type": "display_data"
    },
    {
     "data": {
      "text/html": [
       "0"
      ],
      "text/latex": [
       "0"
      ],
      "text/markdown": [
       "0"
      ],
      "text/plain": [
       "[1] 0"
      ]
     },
     "metadata": {},
     "output_type": "display_data"
    },
    {
     "data": {
      "text/html": [
       "3.16992500144231"
      ],
      "text/latex": [
       "3.16992500144231"
      ],
      "text/markdown": [
       "3.16992500144231"
      ],
      "text/plain": [
       "[1] 3.169925"
      ]
     },
     "metadata": {},
     "output_type": "display_data"
    },
    {
     "data": {
      "text/plain": [
       "\n",
       "FALSE  TRUE \n",
       "25113  9648 "
      ]
     },
     "metadata": {},
     "output_type": "display_data"
    },
    {
     "data": {
      "image/png": "[encoded data removed]",
      "text/plain": [
       "Plot with title “Histogram of entropy”"
      ]
     },
     "metadata": {
      "image/png": {
       "height": 420,
       "width": 420
      }
     },
     "output_type": "display_data"
    }
   ],
   "source": [
    "#calculate entropy with DescTools::Entropy function\n",
    "entropy <- apply(prob_df, 1, Entropy)\n",
    "hist(entropy)\n",
    "max(entropy)\n",
    "min(entropy)\n",
    "log2(9)\n",
    "\n",
    "entropy_cutoff <- 2\n",
    "table(entropy < entropy_cutoff)"
   ]
  },
  {
   "cell_type": "code",
   "execution_count": null,
   "id": "c804b110-9d8c-4d54-8935-2b6c49d8685d",
   "metadata": {},
   "outputs": [],
   "source": [
    "#add entropy into the TPM df and save to file\n",
    "ent_df <- copy(tpm_fin)\n",
    "ent_df$entropy <- entropy\n",
    "ent_df <- ent_df %>% arrange(entropy)\n",
    "\n",
    "fp <- file.path(outdir,'RNA_TPM_all_ct_probs_entropy.txt')\n",
    "write.table(ent_df, fp, sep='\\t', quote=F)"
   ]
  },
  {
   "cell_type": "code",
   "execution_count": 58,
   "id": "a275ee83-ceb1-43e1-8d22-331e71c7b83a",
   "metadata": {},
   "outputs": [
    {
     "data": {
      "text/html": [
       "<table class=\"dataframe\">\n",
       "<caption>A grouped_df: 6 × 12</caption>\n",
       "<thead>\n",
       "\t<tr><th scope=col>gene</th><th scope=col>beta</th><th scope=col>alpha</th><th scope=col>delta</th><th scope=col>gamma</th><th scope=col>acinar</th><th scope=col>ductal</th><th scope=col>endothelial</th><th scope=col>immune</th><th scope=col>stellate</th><th scope=col>entropy</th><th scope=col>max_prob</th></tr>\n",
       "\t<tr><th scope=col>&lt;chr&gt;</th><th scope=col>&lt;dbl&gt;</th><th scope=col>&lt;dbl&gt;</th><th scope=col>&lt;dbl&gt;</th><th scope=col>&lt;dbl&gt;</th><th scope=col>&lt;dbl&gt;</th><th scope=col>&lt;dbl&gt;</th><th scope=col>&lt;dbl&gt;</th><th scope=col>&lt;dbl&gt;</th><th scope=col>&lt;dbl&gt;</th><th scope=col>&lt;dbl&gt;</th><th scope=col>&lt;dbl&gt;</th></tr>\n",
       "</thead>\n",
       "<tbody>\n",
       "\t<tr><td>TNMD  </td><td>0.008964312</td><td>0.00000000</td><td>0</td><td>0.000000</td><td>0</td><td>0</td><td>0</td><td>0.000000</td><td>0</td><td>0</td><td>0.008964312</td></tr>\n",
       "\t<tr><td>HOXA11</td><td>0.005735295</td><td>0.00000000</td><td>0</td><td>0.000000</td><td>0</td><td>0</td><td>0</td><td>0.000000</td><td>0</td><td>0</td><td>0.005735295</td></tr>\n",
       "\t<tr><td>GUCA1A</td><td>0.000000000</td><td>0.03057408</td><td>0</td><td>0.000000</td><td>0</td><td>0</td><td>0</td><td>0.000000</td><td>0</td><td>0</td><td>0.030574076</td></tr>\n",
       "\t<tr><td>NME8  </td><td>0.000000000</td><td>0.00000000</td><td>0</td><td>0.000000</td><td>0</td><td>0</td><td>0</td><td>1.307914</td><td>0</td><td>0</td><td>1.307913736</td></tr>\n",
       "\t<tr><td>HBQ1  </td><td>0.000000000</td><td>0.00000000</td><td>0</td><td>0.464607</td><td>0</td><td>0</td><td>0</td><td>0.000000</td><td>0</td><td>0</td><td>0.464606953</td></tr>\n",
       "\t<tr><td>CTSG  </td><td>0.000000000</td><td>0.02193601</td><td>0</td><td>0.000000</td><td>0</td><td>0</td><td>0</td><td>0.000000</td><td>0</td><td>0</td><td>0.021936005</td></tr>\n",
       "</tbody>\n",
       "</table>\n"
      ],
      "text/latex": [
       "A grouped\\_df: 6 × 12\n",
       "\\begin{tabular}{llllllllllll}\n",
       " gene & beta & alpha & delta & gamma & acinar & ductal & endothelial & immune & stellate & entropy & max\\_prob\\\\\n",
       " <chr> & <dbl> & <dbl> & <dbl> & <dbl> & <dbl> & <dbl> & <dbl> & <dbl> & <dbl> & <dbl> & <dbl>\\\\\n",
       "\\hline\n",
       "\t TNMD   & 0.008964312 & 0.00000000 & 0 & 0.000000 & 0 & 0 & 0 & 0.000000 & 0 & 0 & 0.008964312\\\\\n",
       "\t HOXA11 & 0.005735295 & 0.00000000 & 0 & 0.000000 & 0 & 0 & 0 & 0.000000 & 0 & 0 & 0.005735295\\\\\n",
       "\t GUCA1A & 0.000000000 & 0.03057408 & 0 & 0.000000 & 0 & 0 & 0 & 0.000000 & 0 & 0 & 0.030574076\\\\\n",
       "\t NME8   & 0.000000000 & 0.00000000 & 0 & 0.000000 & 0 & 0 & 0 & 1.307914 & 0 & 0 & 1.307913736\\\\\n",
       "\t HBQ1   & 0.000000000 & 0.00000000 & 0 & 0.464607 & 0 & 0 & 0 & 0.000000 & 0 & 0 & 0.464606953\\\\\n",
       "\t CTSG   & 0.000000000 & 0.02193601 & 0 & 0.000000 & 0 & 0 & 0 & 0.000000 & 0 & 0 & 0.021936005\\\\\n",
       "\\end{tabular}\n"
      ],
      "text/markdown": [
       "\n",
       "A grouped_df: 6 × 12\n",
       "\n",
       "| gene &lt;chr&gt; | beta &lt;dbl&gt; | alpha &lt;dbl&gt; | delta &lt;dbl&gt; | gamma &lt;dbl&gt; | acinar &lt;dbl&gt; | ductal &lt;dbl&gt; | endothelial &lt;dbl&gt; | immune &lt;dbl&gt; | stellate &lt;dbl&gt; | entropy &lt;dbl&gt; | max_prob &lt;dbl&gt; |\n",
       "|---|---|---|---|---|---|---|---|---|---|---|---|\n",
       "| TNMD   | 0.008964312 | 0.00000000 | 0 | 0.000000 | 0 | 0 | 0 | 0.000000 | 0 | 0 | 0.008964312 |\n",
       "| HOXA11 | 0.005735295 | 0.00000000 | 0 | 0.000000 | 0 | 0 | 0 | 0.000000 | 0 | 0 | 0.005735295 |\n",
       "| GUCA1A | 0.000000000 | 0.03057408 | 0 | 0.000000 | 0 | 0 | 0 | 0.000000 | 0 | 0 | 0.030574076 |\n",
       "| NME8   | 0.000000000 | 0.00000000 | 0 | 0.000000 | 0 | 0 | 0 | 1.307914 | 0 | 0 | 1.307913736 |\n",
       "| HBQ1   | 0.000000000 | 0.00000000 | 0 | 0.464607 | 0 | 0 | 0 | 0.000000 | 0 | 0 | 0.464606953 |\n",
       "| CTSG   | 0.000000000 | 0.02193601 | 0 | 0.000000 | 0 | 0 | 0 | 0.000000 | 0 | 0 | 0.021936005 |\n",
       "\n"
      ],
      "text/plain": [
       "  gene   beta        alpha      delta gamma    acinar ductal endothelial\n",
       "1 TNMD   0.008964312 0.00000000 0     0.000000 0      0      0          \n",
       "2 HOXA11 0.005735295 0.00000000 0     0.000000 0      0      0          \n",
       "3 GUCA1A 0.000000000 0.03057408 0     0.000000 0      0      0          \n",
       "4 NME8   0.000000000 0.00000000 0     0.000000 0      0      0          \n",
       "5 HBQ1   0.000000000 0.00000000 0     0.464607 0      0      0          \n",
       "6 CTSG   0.000000000 0.02193601 0     0.000000 0      0      0          \n",
       "  immune   stellate entropy max_prob   \n",
       "1 0.000000 0        0       0.008964312\n",
       "2 0.000000 0        0       0.005735295\n",
       "3 0.000000 0        0       0.030574076\n",
       "4 1.307914 0        0       1.307913736\n",
       "5 0.000000 0        0       0.464606953\n",
       "6 0.000000 0        0       0.021936005"
      ]
     },
     "metadata": {},
     "output_type": "display_data"
    }
   ],
   "source": [
    "#manipulate df before extracting cell type-specific genes\n",
    "ent_df <- ent_df %>% tibble::rownames_to_column(var='gene') %>%\n",
    "        group_by(gene) %>%\n",
    "        mutate(max_prob=max(beta,alpha,delta,gamma,acinar,ductal,endothelial,immune,stellate)) \n",
    "max_prob <- ent_df$max_prob\n",
    "head(ent_df)"
   ]
  },
  {
   "cell_type": "code",
   "execution_count": null,
   "id": "cb63c5cd-6e7d-464d-b98e-823519dea9b3",
   "metadata": {
    "scrolled": true
   },
   "outputs": [],
   "source": [
    "entropy_cutoff <- 2\n",
    "\n",
    "for(celltype in joint_celltypes){\n",
    "    ct_genes <- ent_df[which(ent_df[,celltype]==max_prob & ent_df$entropy < entropy_cutoff),]$gene\n",
    "    gene_entropy <- ent_df[which(ent_df[,celltype]==max_prob & ent_df$entropy < entropy_cutoff),]$entropy\n",
    "    ct_tpm <- tpm[ct_genes,celltype]\n",
    "    ct_genes_df <- data.frame(gene=ct_genes, entropy=gene_entropy, ct_tpm=ct_tpm)\n",
    "\n",
    "    #also filter for CPM > 1\n",
    "    out_fp <- file.path(outdir,'RNA_ct_spec_genes',sprintf('%s_entropy2_genes_TPM1.txt',celltype))\n",
    "    write.table(subset(ct_genes_df,ct_tpm>=1) %>% arrange(-ct_tpm), out_fp, row.names=F, quote=F)\n",
    "}"
   ]
  },
  {
   "cell_type": "markdown",
   "id": "37d15f99-b1c7-4a1c-84c9-f81c4e06130d",
   "metadata": {},
   "source": [
    "# Find cell type-specific accessible cREs"
   ]
  },
  {
   "cell_type": "code",
   "execution_count": 66,
   "id": "2424485b-006d-44b7-ab82-b765ef8a4d46",
   "metadata": {},
   "outputs": [
    {
     "data": {
      "text/html": [
       "<table class=\"dataframe\">\n",
       "<caption>A data.frame: 6 × 9</caption>\n",
       "<thead>\n",
       "\t<tr><th></th><th scope=col>beta</th><th scope=col>alpha</th><th scope=col>delta</th><th scope=col>gamma</th><th scope=col>acinar</th><th scope=col>ductal</th><th scope=col>endothelial</th><th scope=col>immune</th><th scope=col>stellate</th></tr>\n",
       "\t<tr><th></th><th scope=col>&lt;dbl&gt;</th><th scope=col>&lt;dbl&gt;</th><th scope=col>&lt;dbl&gt;</th><th scope=col>&lt;dbl&gt;</th><th scope=col>&lt;dbl&gt;</th><th scope=col>&lt;dbl&gt;</th><th scope=col>&lt;dbl&gt;</th><th scope=col>&lt;dbl&gt;</th><th scope=col>&lt;dbl&gt;</th></tr>\n",
       "</thead>\n",
       "<tbody>\n",
       "\t<tr><th scope=row>chr1-1000073-1000373</th><td>10.5893770</td><td>16.4472833</td><td>12.1852990</td><td>18.0613641</td><td>17.4654329</td><td>37.2103811</td><td>38.5004091</td><td>18.426905</td><td>39.5686054</td></tr>\n",
       "\t<tr><th scope=row>chr1-100036794-100037094</th><td> 2.1424088</td><td> 2.9736072</td><td> 2.5644981</td><td> 3.3451681</td><td> 8.6527831</td><td> 6.2230054</td><td> 4.8125511</td><td> 3.071151</td><td> 3.4727765</td></tr>\n",
       "\t<tr><th scope=row>chr1-100037929-100038229</th><td>32.6932427</td><td>32.3645557</td><td>35.5804438</td><td>33.7696632</td><td>37.2222880</td><td>35.7902594</td><td>35.1686429</td><td>39.583723</td><td>31.7811671</td></tr>\n",
       "\t<tr><th scope=row>chr1-100046138-100046438</th><td> 0.6797782</td><td> 0.6794615</td><td> 0.7866558</td><td> 0.5596479</td><td> 0.5328889</td><td> 0.5106056</td><td> 0.0000000</td><td> 3.071151</td><td> 0.2104713</td></tr>\n",
       "\t<tr><th scope=row>chr1-100046907-100047207</th><td> 0.7726301</td><td> 0.8920822</td><td> 0.6765240</td><td> 1.0556995</td><td> 0.5795167</td><td> 1.5158603</td><td> 0.3701962</td><td> 1.706195</td><td> 0.3157070</td></tr>\n",
       "\t<tr><th scope=row>chr1-100050188-100050403</th><td> 0.7871116</td><td> 0.5484996</td><td> 0.7237234</td><td> 0.5596479</td><td> 0.2797667</td><td> 0.2233899</td><td> 0.0000000</td><td> 0.000000</td><td> 0.1052357</td></tr>\n",
       "</tbody>\n",
       "</table>\n"
      ],
      "text/latex": [
       "A data.frame: 6 × 9\n",
       "\\begin{tabular}{r|lllllllll}\n",
       "  & beta & alpha & delta & gamma & acinar & ductal & endothelial & immune & stellate\\\\\n",
       "  & <dbl> & <dbl> & <dbl> & <dbl> & <dbl> & <dbl> & <dbl> & <dbl> & <dbl>\\\\\n",
       "\\hline\n",
       "\tchr1-1000073-1000373 & 10.5893770 & 16.4472833 & 12.1852990 & 18.0613641 & 17.4654329 & 37.2103811 & 38.5004091 & 18.426905 & 39.5686054\\\\\n",
       "\tchr1-100036794-100037094 &  2.1424088 &  2.9736072 &  2.5644981 &  3.3451681 &  8.6527831 &  6.2230054 &  4.8125511 &  3.071151 &  3.4727765\\\\\n",
       "\tchr1-100037929-100038229 & 32.6932427 & 32.3645557 & 35.5804438 & 33.7696632 & 37.2222880 & 35.7902594 & 35.1686429 & 39.583723 & 31.7811671\\\\\n",
       "\tchr1-100046138-100046438 &  0.6797782 &  0.6794615 &  0.7866558 &  0.5596479 &  0.5328889 &  0.5106056 &  0.0000000 &  3.071151 &  0.2104713\\\\\n",
       "\tchr1-100046907-100047207 &  0.7726301 &  0.8920822 &  0.6765240 &  1.0556995 &  0.5795167 &  1.5158603 &  0.3701962 &  1.706195 &  0.3157070\\\\\n",
       "\tchr1-100050188-100050403 &  0.7871116 &  0.5484996 &  0.7237234 &  0.5596479 &  0.2797667 &  0.2233899 &  0.0000000 &  0.000000 &  0.1052357\\\\\n",
       "\\end{tabular}\n"
      ],
      "text/markdown": [
       "\n",
       "A data.frame: 6 × 9\n",
       "\n",
       "| <!--/--> | beta &lt;dbl&gt; | alpha &lt;dbl&gt; | delta &lt;dbl&gt; | gamma &lt;dbl&gt; | acinar &lt;dbl&gt; | ductal &lt;dbl&gt; | endothelial &lt;dbl&gt; | immune &lt;dbl&gt; | stellate &lt;dbl&gt; |\n",
       "|---|---|---|---|---|---|---|---|---|---|\n",
       "| chr1-1000073-1000373 | 10.5893770 | 16.4472833 | 12.1852990 | 18.0613641 | 17.4654329 | 37.2103811 | 38.5004091 | 18.426905 | 39.5686054 |\n",
       "| chr1-100036794-100037094 |  2.1424088 |  2.9736072 |  2.5644981 |  3.3451681 |  8.6527831 |  6.2230054 |  4.8125511 |  3.071151 |  3.4727765 |\n",
       "| chr1-100037929-100038229 | 32.6932427 | 32.3645557 | 35.5804438 | 33.7696632 | 37.2222880 | 35.7902594 | 35.1686429 | 39.583723 | 31.7811671 |\n",
       "| chr1-100046138-100046438 |  0.6797782 |  0.6794615 |  0.7866558 |  0.5596479 |  0.5328889 |  0.5106056 |  0.0000000 |  3.071151 |  0.2104713 |\n",
       "| chr1-100046907-100047207 |  0.7726301 |  0.8920822 |  0.6765240 |  1.0556995 |  0.5795167 |  1.5158603 |  0.3701962 |  1.706195 |  0.3157070 |\n",
       "| chr1-100050188-100050403 |  0.7871116 |  0.5484996 |  0.7237234 |  0.5596479 |  0.2797667 |  0.2233899 |  0.0000000 |  0.000000 |  0.1052357 |\n",
       "\n"
      ],
      "text/plain": [
       "                         beta       alpha      delta      gamma      acinar    \n",
       "chr1-1000073-1000373     10.5893770 16.4472833 12.1852990 18.0613641 17.4654329\n",
       "chr1-100036794-100037094  2.1424088  2.9736072  2.5644981  3.3451681  8.6527831\n",
       "chr1-100037929-100038229 32.6932427 32.3645557 35.5804438 33.7696632 37.2222880\n",
       "chr1-100046138-100046438  0.6797782  0.6794615  0.7866558  0.5596479  0.5328889\n",
       "chr1-100046907-100047207  0.7726301  0.8920822  0.6765240  1.0556995  0.5795167\n",
       "chr1-100050188-100050403  0.7871116  0.5484996  0.7237234  0.5596479  0.2797667\n",
       "                         ductal     endothelial immune    stellate  \n",
       "chr1-1000073-1000373     37.2103811 38.5004091  18.426905 39.5686054\n",
       "chr1-100036794-100037094  6.2230054  4.8125511   3.071151  3.4727765\n",
       "chr1-100037929-100038229 35.7902594 35.1686429  39.583723 31.7811671\n",
       "chr1-100046138-100046438  0.5106056  0.0000000   3.071151  0.2104713\n",
       "chr1-100046907-100047207  1.5158603  0.3701962   1.706195  0.3157070\n",
       "chr1-100050188-100050403  0.2233899  0.0000000   0.000000  0.1052357"
      ]
     },
     "metadata": {},
     "output_type": "display_data"
    }
   ],
   "source": [
    "#read in the all cell types CPM matrix\n",
    "mtx_fp <- file.path(prev_atac_dir,'all_celltypes_UNION_peak_CPM.txt')\n",
    "cpm <- read.table(mtx_fp, sep='\\t', header=1)\n",
    "head(cpm)"
   ]
  },
  {
   "cell_type": "code",
   "execution_count": 67,
   "id": "59736211-bb1c-4bdc-bd87-b6677c3f4f0e",
   "metadata": {},
   "outputs": [
    {
     "data": {
      "text/html": [
       "<table class=\"dataframe\">\n",
       "<caption>A data.frame: 6 × 9</caption>\n",
       "<thead>\n",
       "\t<tr><th></th><th scope=col>beta</th><th scope=col>alpha</th><th scope=col>delta</th><th scope=col>gamma</th><th scope=col>acinar</th><th scope=col>ductal</th><th scope=col>endothelial</th><th scope=col>immune</th><th scope=col>stellate</th></tr>\n",
       "\t<tr><th></th><th scope=col>&lt;dbl&gt;</th><th scope=col>&lt;dbl&gt;</th><th scope=col>&lt;dbl&gt;</th><th scope=col>&lt;dbl&gt;</th><th scope=col>&lt;dbl&gt;</th><th scope=col>&lt;dbl&gt;</th><th scope=col>&lt;dbl&gt;</th><th scope=col>&lt;dbl&gt;</th><th scope=col>&lt;dbl&gt;</th></tr>\n",
       "</thead>\n",
       "<tbody>\n",
       "\t<tr><th scope=row>chr1-1000073-1000373</th><td>0.05079933</td><td>0.07890086</td><td>0.05845528</td><td>0.08664392</td><td>0.08378512</td><td>0.17850553</td><td>0.18469405</td><td>0.08839750</td><td>0.18981840</td></tr>\n",
       "\t<tr><th scope=row>chr1-100036794-100037094</th><td>0.05750206</td><td>0.07981135</td><td>0.06883090</td><td>0.08978401</td><td>0.23223992</td><td>0.16702490</td><td>0.12916844</td><td>0.08242941</td><td>0.09320901</td></tr>\n",
       "\t<tr><th scope=row>chr1-100037929-100038229</th><td>0.10413387</td><td>0.10308694</td><td>0.11333012</td><td>0.10756246</td><td>0.11855969</td><td>0.11399842</td><td>0.11201846</td><td>0.12608129</td><td>0.10122874</td></tr>\n",
       "\t<tr><th scope=row>chr1-100046138-100046438</th><td>0.09668768</td><td>0.09664264</td><td>0.11188933</td><td>0.07960105</td><td>0.07579500</td><td>0.07262555</td><td>0.00000000</td><td>0.43682255</td><td>0.02993621</td></tr>\n",
       "\t<tr><th scope=row>chr1-100046907-100047207</th><td>0.09799465</td><td>0.11314506</td><td>0.08580527</td><td>0.13389706</td><td>0.07350158</td><td>0.19226044</td><td>0.04695294</td><td>0.21640107</td><td>0.04004192</td></tr>\n",
       "\t<tr><th scope=row>chr1-100050188-100050403</th><td>0.24388603</td><td>0.16995224</td><td>0.22424523</td><td>0.17340655</td><td>0.08668552</td><td>0.06921723</td><td>0.00000000</td><td>0.00000000</td><td>0.03260720</td></tr>\n",
       "</tbody>\n",
       "</table>\n"
      ],
      "text/latex": [
       "A data.frame: 6 × 9\n",
       "\\begin{tabular}{r|lllllllll}\n",
       "  & beta & alpha & delta & gamma & acinar & ductal & endothelial & immune & stellate\\\\\n",
       "  & <dbl> & <dbl> & <dbl> & <dbl> & <dbl> & <dbl> & <dbl> & <dbl> & <dbl>\\\\\n",
       "\\hline\n",
       "\tchr1-1000073-1000373 & 0.05079933 & 0.07890086 & 0.05845528 & 0.08664392 & 0.08378512 & 0.17850553 & 0.18469405 & 0.08839750 & 0.18981840\\\\\n",
       "\tchr1-100036794-100037094 & 0.05750206 & 0.07981135 & 0.06883090 & 0.08978401 & 0.23223992 & 0.16702490 & 0.12916844 & 0.08242941 & 0.09320901\\\\\n",
       "\tchr1-100037929-100038229 & 0.10413387 & 0.10308694 & 0.11333012 & 0.10756246 & 0.11855969 & 0.11399842 & 0.11201846 & 0.12608129 & 0.10122874\\\\\n",
       "\tchr1-100046138-100046438 & 0.09668768 & 0.09664264 & 0.11188933 & 0.07960105 & 0.07579500 & 0.07262555 & 0.00000000 & 0.43682255 & 0.02993621\\\\\n",
       "\tchr1-100046907-100047207 & 0.09799465 & 0.11314506 & 0.08580527 & 0.13389706 & 0.07350158 & 0.19226044 & 0.04695294 & 0.21640107 & 0.04004192\\\\\n",
       "\tchr1-100050188-100050403 & 0.24388603 & 0.16995224 & 0.22424523 & 0.17340655 & 0.08668552 & 0.06921723 & 0.00000000 & 0.00000000 & 0.03260720\\\\\n",
       "\\end{tabular}\n"
      ],
      "text/markdown": [
       "\n",
       "A data.frame: 6 × 9\n",
       "\n",
       "| <!--/--> | beta &lt;dbl&gt; | alpha &lt;dbl&gt; | delta &lt;dbl&gt; | gamma &lt;dbl&gt; | acinar &lt;dbl&gt; | ductal &lt;dbl&gt; | endothelial &lt;dbl&gt; | immune &lt;dbl&gt; | stellate &lt;dbl&gt; |\n",
       "|---|---|---|---|---|---|---|---|---|---|\n",
       "| chr1-1000073-1000373 | 0.05079933 | 0.07890086 | 0.05845528 | 0.08664392 | 0.08378512 | 0.17850553 | 0.18469405 | 0.08839750 | 0.18981840 |\n",
       "| chr1-100036794-100037094 | 0.05750206 | 0.07981135 | 0.06883090 | 0.08978401 | 0.23223992 | 0.16702490 | 0.12916844 | 0.08242941 | 0.09320901 |\n",
       "| chr1-100037929-100038229 | 0.10413387 | 0.10308694 | 0.11333012 | 0.10756246 | 0.11855969 | 0.11399842 | 0.11201846 | 0.12608129 | 0.10122874 |\n",
       "| chr1-100046138-100046438 | 0.09668768 | 0.09664264 | 0.11188933 | 0.07960105 | 0.07579500 | 0.07262555 | 0.00000000 | 0.43682255 | 0.02993621 |\n",
       "| chr1-100046907-100047207 | 0.09799465 | 0.11314506 | 0.08580527 | 0.13389706 | 0.07350158 | 0.19226044 | 0.04695294 | 0.21640107 | 0.04004192 |\n",
       "| chr1-100050188-100050403 | 0.24388603 | 0.16995224 | 0.22424523 | 0.17340655 | 0.08668552 | 0.06921723 | 0.00000000 | 0.00000000 | 0.03260720 |\n",
       "\n"
      ],
      "text/plain": [
       "                         beta       alpha      delta      gamma      acinar    \n",
       "chr1-1000073-1000373     0.05079933 0.07890086 0.05845528 0.08664392 0.08378512\n",
       "chr1-100036794-100037094 0.05750206 0.07981135 0.06883090 0.08978401 0.23223992\n",
       "chr1-100037929-100038229 0.10413387 0.10308694 0.11333012 0.10756246 0.11855969\n",
       "chr1-100046138-100046438 0.09668768 0.09664264 0.11188933 0.07960105 0.07579500\n",
       "chr1-100046907-100047207 0.09799465 0.11314506 0.08580527 0.13389706 0.07350158\n",
       "chr1-100050188-100050403 0.24388603 0.16995224 0.22424523 0.17340655 0.08668552\n",
       "                         ductal     endothelial immune     stellate  \n",
       "chr1-1000073-1000373     0.17850553 0.18469405  0.08839750 0.18981840\n",
       "chr1-100036794-100037094 0.16702490 0.12916844  0.08242941 0.09320901\n",
       "chr1-100037929-100038229 0.11399842 0.11201846  0.12608129 0.10122874\n",
       "chr1-100046138-100046438 0.07262555 0.00000000  0.43682255 0.02993621\n",
       "chr1-100046907-100047207 0.19226044 0.04695294  0.21640107 0.04004192\n",
       "chr1-100050188-100050403 0.06921723 0.00000000  0.00000000 0.03260720"
      ]
     },
     "metadata": {},
     "output_type": "display_data"
    }
   ],
   "source": [
    "#convert CPM values to prob values (based on rowSums)\n",
    "probs <- list()\n",
    "rowsums <- rowSums(cpm)\n",
    "\n",
    "for(celltype in joint_celltypes){\n",
    "    probs[[celltype]] <- cpm[,celltype]/rowsums\n",
    "}\n",
    "\n",
    "prob_df <- as.data.frame(probs)\n",
    "head(prob_df)"
   ]
  },
  {
   "cell_type": "code",
   "execution_count": 68,
   "id": "8c2e3cd9-5892-459b-8d6f-efef6b3ea29d",
   "metadata": {},
   "outputs": [
    {
     "data": {
      "text/html": [
       "3.16942129528785"
      ],
      "text/latex": [
       "3.16942129528785"
      ],
      "text/markdown": [
       "3.16942129528785"
      ],
      "text/plain": [
       "[1] 3.169421"
      ]
     },
     "metadata": {},
     "output_type": "display_data"
    },
    {
     "data": {
      "text/html": [
       "0.247248896742563"
      ],
      "text/latex": [
       "0.247248896742563"
      ],
      "text/markdown": [
       "0.247248896742563"
      ],
      "text/plain": [
       "[1] 0.2472489"
      ]
     },
     "metadata": {},
     "output_type": "display_data"
    },
    {
     "data": {
      "text/html": [
       "3.16992500144231"
      ],
      "text/latex": [
       "3.16992500144231"
      ],
      "text/markdown": [
       "3.16992500144231"
      ],
      "text/plain": [
       "[1] 3.169925"
      ]
     },
     "metadata": {},
     "output_type": "display_data"
    },
    {
     "data": {
      "text/plain": [
       "\n",
       " FALSE   TRUE \n",
       "263402  28419 "
      ]
     },
     "metadata": {},
     "output_type": "display_data"
    },
    {
     "data": {
      "image/png": "[encoded data removed]",
      "text/plain": [
       "Plot with title “Histogram of entropy”"
      ]
     },
     "metadata": {
      "image/png": {
       "height": 420,
       "width": 420
      }
     },
     "output_type": "display_data"
    }
   ],
   "source": [
    "#calculate entropy with DescTools::Entropy function\n",
    "entropy <- apply(prob_df, 1, Entropy)\n",
    "hist(entropy)\n",
    "max(entropy)\n",
    "min(entropy)\n",
    "log2(9)\n",
    "\n",
    "entropy_cutoff <- 2\n",
    "table(entropy < entropy_cutoff)"
   ]
  },
  {
   "cell_type": "code",
   "execution_count": null,
   "id": "0df3dd25-ff5e-42d3-8ba5-db8abb7c4c5f",
   "metadata": {},
   "outputs": [],
   "source": [
    "#add entropy into the CPM df and save to file\n",
    "ent_df <- copy(prob_df)\n",
    "ent_df$entropy <- entropy\n",
    "ent_df <- ent_df %>% arrange(entropy)\n",
    "\n",
    "fp <- file.path(outdir,'ATAC_UNION_PEAKS_CPM_all_ct_probs_entropy.txt')\n",
    "write.table(ent_df, fp, sep='\\t', quote=F)"
   ]
  },
  {
   "cell_type": "code",
   "execution_count": 70,
   "id": "fc536a3f-0be3-4f11-bd05-e1269f17a88f",
   "metadata": {},
   "outputs": [
    {
     "data": {
      "text/html": [
       "<table class=\"dataframe\">\n",
       "<caption>A grouped_df: 6 × 12</caption>\n",
       "<thead>\n",
       "\t<tr><th scope=col>cre</th><th scope=col>beta</th><th scope=col>alpha</th><th scope=col>delta</th><th scope=col>gamma</th><th scope=col>acinar</th><th scope=col>ductal</th><th scope=col>endothelial</th><th scope=col>immune</th><th scope=col>stellate</th><th scope=col>entropy</th><th scope=col>max_prob</th></tr>\n",
       "\t<tr><th scope=col>&lt;chr&gt;</th><th scope=col>&lt;dbl&gt;</th><th scope=col>&lt;dbl&gt;</th><th scope=col>&lt;dbl&gt;</th><th scope=col>&lt;dbl&gt;</th><th scope=col>&lt;dbl&gt;</th><th scope=col>&lt;dbl&gt;</th><th scope=col>&lt;dbl&gt;</th><th scope=col>&lt;dbl&gt;</th><th scope=col>&lt;dbl&gt;</th><th scope=col>&lt;dbl&gt;</th><th scope=col>&lt;dbl&gt;</th></tr>\n",
       "</thead>\n",
       "<tbody>\n",
       "\t<tr><td>chr5-69596325-69596524  </td><td>0.007754572</td><td>0.008765966</td><td>0.008951345</td><td>0.000000000</td><td>0.003789834</td><td>0.000000000</td><td>0.0000000</td><td>0.9707383</td><td>0.000000000</td><td>0.2472489</td><td>0.9707383</td></tr>\n",
       "\t<tr><td>chr15-39397004-39397304 </td><td>0.005686707</td><td>0.005366315</td><td>0.001826600</td><td>0.005906781</td><td>0.005026766</td><td>0.005557577</td><td>0.0000000</td><td>0.9706293</td><td>0.000000000</td><td>0.2649941</td><td>0.9706293</td></tr>\n",
       "\t<tr><td>chrX-1239732-1240032    </td><td>0.005920107</td><td>0.006743326</td><td>0.003964627</td><td>0.008434632</td><td>0.004770615</td><td>0.003386020</td><td>0.0000000</td><td>0.9639892</td><td>0.002791431</td><td>0.3214528</td><td>0.9639892</td></tr>\n",
       "\t<tr><td>chr4-128916881-128917181</td><td>0.011673875</td><td>0.008779109</td><td>0.006808683</td><td>0.005504407</td><td>0.005044673</td><td>0.002301774</td><td>0.0000000</td><td>0.9598875</td><td>0.000000000</td><td>0.3406128</td><td>0.9598875</td></tr>\n",
       "\t<tr><td>chr2-71492140-71492440  </td><td>0.007533661</td><td>0.008054473</td><td>0.005565658</td><td>0.007499161</td><td>0.004712793</td><td>0.006271837</td><td>0.9603624</td><td>0.0000000</td><td>0.000000000</td><td>0.3421298</td><td>0.9603624</td></tr>\n",
       "\t<tr><td>chr19-54607017-54607317 </td><td>0.009086266</td><td>0.006660158</td><td>0.008390849</td><td>0.007140518</td><td>0.007292036</td><td>0.003583134</td><td>0.0000000</td><td>0.9578470</td><td>0.000000000</td><td>0.3589546</td><td>0.9578470</td></tr>\n",
       "</tbody>\n",
       "</table>\n"
      ],
      "text/latex": [
       "A grouped\\_df: 6 × 12\n",
       "\\begin{tabular}{llllllllllll}\n",
       " cre & beta & alpha & delta & gamma & acinar & ductal & endothelial & immune & stellate & entropy & max\\_prob\\\\\n",
       " <chr> & <dbl> & <dbl> & <dbl> & <dbl> & <dbl> & <dbl> & <dbl> & <dbl> & <dbl> & <dbl> & <dbl>\\\\\n",
       "\\hline\n",
       "\t chr5-69596325-69596524   & 0.007754572 & 0.008765966 & 0.008951345 & 0.000000000 & 0.003789834 & 0.000000000 & 0.0000000 & 0.9707383 & 0.000000000 & 0.2472489 & 0.9707383\\\\\n",
       "\t chr15-39397004-39397304  & 0.005686707 & 0.005366315 & 0.001826600 & 0.005906781 & 0.005026766 & 0.005557577 & 0.0000000 & 0.9706293 & 0.000000000 & 0.2649941 & 0.9706293\\\\\n",
       "\t chrX-1239732-1240032     & 0.005920107 & 0.006743326 & 0.003964627 & 0.008434632 & 0.004770615 & 0.003386020 & 0.0000000 & 0.9639892 & 0.002791431 & 0.3214528 & 0.9639892\\\\\n",
       "\t chr4-128916881-128917181 & 0.011673875 & 0.008779109 & 0.006808683 & 0.005504407 & 0.005044673 & 0.002301774 & 0.0000000 & 0.9598875 & 0.000000000 & 0.3406128 & 0.9598875\\\\\n",
       "\t chr2-71492140-71492440   & 0.007533661 & 0.008054473 & 0.005565658 & 0.007499161 & 0.004712793 & 0.006271837 & 0.9603624 & 0.0000000 & 0.000000000 & 0.3421298 & 0.9603624\\\\\n",
       "\t chr19-54607017-54607317  & 0.009086266 & 0.006660158 & 0.008390849 & 0.007140518 & 0.007292036 & 0.003583134 & 0.0000000 & 0.9578470 & 0.000000000 & 0.3589546 & 0.9578470\\\\\n",
       "\\end{tabular}\n"
      ],
      "text/markdown": [
       "\n",
       "A grouped_df: 6 × 12\n",
       "\n",
       "| cre &lt;chr&gt; | beta &lt;dbl&gt; | alpha &lt;dbl&gt; | delta &lt;dbl&gt; | gamma &lt;dbl&gt; | acinar &lt;dbl&gt; | ductal &lt;dbl&gt; | endothelial &lt;dbl&gt; | immune &lt;dbl&gt; | stellate &lt;dbl&gt; | entropy &lt;dbl&gt; | max_prob &lt;dbl&gt; |\n",
       "|---|---|---|---|---|---|---|---|---|---|---|---|\n",
       "| chr5-69596325-69596524   | 0.007754572 | 0.008765966 | 0.008951345 | 0.000000000 | 0.003789834 | 0.000000000 | 0.0000000 | 0.9707383 | 0.000000000 | 0.2472489 | 0.9707383 |\n",
       "| chr15-39397004-39397304  | 0.005686707 | 0.005366315 | 0.001826600 | 0.005906781 | 0.005026766 | 0.005557577 | 0.0000000 | 0.9706293 | 0.000000000 | 0.2649941 | 0.9706293 |\n",
       "| chrX-1239732-1240032     | 0.005920107 | 0.006743326 | 0.003964627 | 0.008434632 | 0.004770615 | 0.003386020 | 0.0000000 | 0.9639892 | 0.002791431 | 0.3214528 | 0.9639892 |\n",
       "| chr4-128916881-128917181 | 0.011673875 | 0.008779109 | 0.006808683 | 0.005504407 | 0.005044673 | 0.002301774 | 0.0000000 | 0.9598875 | 0.000000000 | 0.3406128 | 0.9598875 |\n",
       "| chr2-71492140-71492440   | 0.007533661 | 0.008054473 | 0.005565658 | 0.007499161 | 0.004712793 | 0.006271837 | 0.9603624 | 0.0000000 | 0.000000000 | 0.3421298 | 0.9603624 |\n",
       "| chr19-54607017-54607317  | 0.009086266 | 0.006660158 | 0.008390849 | 0.007140518 | 0.007292036 | 0.003583134 | 0.0000000 | 0.9578470 | 0.000000000 | 0.3589546 | 0.9578470 |\n",
       "\n"
      ],
      "text/plain": [
       "  cre                      beta        alpha       delta       gamma      \n",
       "1 chr5-69596325-69596524   0.007754572 0.008765966 0.008951345 0.000000000\n",
       "2 chr15-39397004-39397304  0.005686707 0.005366315 0.001826600 0.005906781\n",
       "3 chrX-1239732-1240032     0.005920107 0.006743326 0.003964627 0.008434632\n",
       "4 chr4-128916881-128917181 0.011673875 0.008779109 0.006808683 0.005504407\n",
       "5 chr2-71492140-71492440   0.007533661 0.008054473 0.005565658 0.007499161\n",
       "6 chr19-54607017-54607317  0.009086266 0.006660158 0.008390849 0.007140518\n",
       "  acinar      ductal      endothelial immune    stellate    entropy   max_prob \n",
       "1 0.003789834 0.000000000 0.0000000   0.9707383 0.000000000 0.2472489 0.9707383\n",
       "2 0.005026766 0.005557577 0.0000000   0.9706293 0.000000000 0.2649941 0.9706293\n",
       "3 0.004770615 0.003386020 0.0000000   0.9639892 0.002791431 0.3214528 0.9639892\n",
       "4 0.005044673 0.002301774 0.0000000   0.9598875 0.000000000 0.3406128 0.9598875\n",
       "5 0.004712793 0.006271837 0.9603624   0.0000000 0.000000000 0.3421298 0.9603624\n",
       "6 0.007292036 0.003583134 0.0000000   0.9578470 0.000000000 0.3589546 0.9578470"
      ]
     },
     "metadata": {},
     "output_type": "display_data"
    }
   ],
   "source": [
    "#manipulate df before extracting cell type-specific peaks\n",
    "ent_df <- ent_df %>% tibble::rownames_to_column(var='cre') %>%\n",
    "        group_by(cre) %>%\n",
    "        mutate(max_prob=max(beta,alpha,delta,gamma,acinar,ductal,endothelial,immune,stellate)) \n",
    "max_prob <- ent_df$max_prob\n",
    "head(ent_df)"
   ]
  },
  {
   "cell_type": "code",
   "execution_count": 71,
   "id": "9dcc2541-838a-43c9-b8ee-e50114acc90e",
   "metadata": {
    "scrolled": true
   },
   "outputs": [
    {
     "name": "stdout",
     "output_type": "stream",
     "text": [
      "                       peak   entropy   ct_cpm\n",
      "1  chr2-185705081-185705372 0.7300637 1.039260\n",
      "2    chr2-77450066-77450366 1.0811692 1.741186\n",
      "3 chr10-120173974-120174274 1.1651095 3.056446\n",
      "4  chr5-156561453-156561753 1.1794913 3.277076\n",
      "5 chr10-131163200-131163500 1.1820711 5.977448\n",
      "6   chr22-34614292-34614592 1.2864244 1.997594\n",
      "                      peak  entropy    ct_cpm\n",
      "1   chrX-56833718-56834012 1.021953  1.642417\n",
      "2 chr9-120005219-120005519 1.044550 13.675512\n",
      "3   chrX-32807894-32808184 1.071386  1.130895\n",
      "4     chr8-2946000-2946300 1.160333  2.805668\n",
      "5  chr20-56326750-56327050 1.212782  6.031954\n",
      "6  chr10-24177671-24177955 1.214171  2.193998\n",
      "                       peak   entropy   ct_cpm\n",
      "1  chr3-103325978-103326278 0.6403994 5.545924\n",
      "2 chr11-121991470-121991770 0.9986194 1.581178\n",
      "3   chr18-36561213-36561513 1.0571681 5.349260\n",
      "4    chr6-64473363-64473663 1.0641459 2.352101\n",
      "5   chr15-96598604-96598904 1.0736357 1.636244\n",
      "6    chr2-15664714-15665014 1.0802340 7.134969\n",
      "                      peak   entropy    ct_cpm\n",
      "1  chr13-36666576-36666876 0.9399695 12.642955\n",
      "2  chr20-51051736-51052036 1.2413624 10.569714\n",
      "3 chr8-104509359-104509659 1.3126856  5.939899\n",
      "4 chr9-111250892-111251192 1.3752684  3.268853\n",
      "5  chr16-82584756-82585056 1.3771797  5.367532\n",
      "6   chr1-99193266-99193566 1.3916491  2.251311\n",
      "                      peak   entropy     ct_cpm\n",
      "1   chr9-63344510-63344810 0.5329787  4.7860082\n",
      "2   chr2-87014833-87015032 0.6292653  0.9258944\n",
      "3  chr19-33902850-33903150 0.6449485 10.5978275\n",
      "4   chr4-92059658-92059958 0.6736123  3.6369666\n",
      "5 chrX-131565925-131566225 0.6854878  4.3030777\n",
      "6 chrX-141781475-141781775 0.7052201  1.2256444\n",
      "                       peak   entropy    ct_cpm\n",
      "1    chr7-71824378-71824678 0.4253123  5.249664\n",
      "2   chr11-71103449-71103749 0.4672753 31.051201\n",
      "3   chr17-53582602-53582902 0.6236877  5.217751\n",
      "4 chr10-121002677-121002977 0.6347839 10.882281\n",
      "5   chr22-33337616-33337916 0.6448940 15.318167\n",
      "6   chr20-23879880-23880180 0.6530442 13.355527\n",
      "                       peak   entropy    ct_cpm\n",
      "1    chr2-71492140-71492440 0.3421298 24.432952\n",
      "2   chr22-49575424-49575724 0.3673472 19.990597\n",
      "3  chr1-179663764-179664064 0.3804467  7.774121\n",
      "4    chr7-97397011-97397210 0.4019774  2.221177\n",
      "5 chr10-129417918-129418151 0.4466161  5.923140\n",
      "6   chr14-40642776-40643064 0.4715140  2.961570\n",
      "                      peak   entropy    ct_cpm\n",
      "1   chr5-69596325-69596524 0.2472489  1.706195\n",
      "2  chr15-39397004-39397304 0.2649941 16.720710\n",
      "3     chrX-1239732-1240032 0.3214528 36.341952\n",
      "4 chr4-128916881-128917181 0.3406128 13.308321\n",
      "5  chr19-54607017-54607317 0.3589546 17.061949\n",
      "6   chr9-79868831-79869131 0.3598204 10.919648\n",
      "                      peak   entropy    ct_cpm\n",
      "1   chr1-19967850-19968150 0.3927342 20.415717\n",
      "2  chr12-46617198-46617498 0.4284442 15.890584\n",
      "3 chr2-120749908-120750208 0.4302659 45.356566\n",
      "4 chr2-107337611-107337911 0.4403553 12.417807\n",
      "5  chr17-65925626-65925926 0.4632955  6.945553\n",
      "6    chr17-9838023-9838323 0.4688046 15.364405\n"
     ]
    }
   ],
   "source": [
    "entropy_cutoff <- 2\n",
    "\n",
    "for(celltype in joint_celltypes){\n",
    "    ct_peaks <- ent_df[which(ent_df[,celltype]==max_prob & ent_df$entropy < entropy_cutoff),]$cre\n",
    "    peak_entropy <- ent_df[which(ent_df[,celltype]==max_prob & ent_df$entropy < entropy_cutoff),]$entropy\n",
    "    ct_cpm <- cpm[ct_peaks,celltype]\n",
    "    ct_peaks_df <- data.frame(peak=ct_peaks, entropy=peak_entropy, ct_cpm=ct_cpm)\n",
    "\n",
    "    #also filter for CPM > 5\n",
    "    out_fp <- file.path(outdir,'ATAC_ct_spec_cREs',sprintf('%s_entropy2_UNION_cREs_CPM5.txt',celltype))\n",
    "    write.table(subset(ct_peaks_df,ct_cpm>=5) %>% arrange(-ct_cpm), out_fp, row.names=F, quote=F)\n",
    "}"
   ]
  },
  {
   "cell_type": "markdown",
   "id": "1dcc2f20-0df8-4e5d-bfce-cb9655349576",
   "metadata": {},
   "source": [
    "# Find cell type-specific TF motifs"
   ]
  },
  {
   "cell_type": "markdown",
   "id": "6d4c63bb-1048-42de-970e-4ae1a80e44b6",
   "metadata": {},
   "source": [
    "## Run HOMER on cell type-specific peaks\n",
    "This code writes all HOMER commands to a script and then you can run that in the terminal, either in parallel, in a screen, or both. To run this you'll need to have HOMER downloaded and installed somewhere on your computer or server. This will take an input of a file path to the HOMER install and then will run the `findMotifsGenome.pl` command in `homer/bin`."
   ]
  },
  {
   "cell_type": "code",
   "execution_count": 94,
   "id": "2bab42bd",
   "metadata": {},
   "outputs": [],
   "source": [
    "### Function to run HOMER on a set of peaks\n",
    "run_HOMER <- function(celltype, indir, homer_dir, homer_install_fp, script_fp){\n",
    "    #check if there are enough sig results for the association in the great_dir\n",
    "    bed_fp <- file.path(indir, sprintf('%s_entropy2_UNION_cREs_CPM5.bed',celltype))\n",
    "    \n",
    "    if(file.exists(bed_fp)){\n",
    "        #set up homer code\n",
    "        bg_fp <- file.path(homer_dir, 'all_ct_peaks', sprintf('%s_union_peaks.bed',celltype)) \n",
    "        log_fp <- file.path(homer_dir, 'log_HOMER.txt')\n",
    "        cmd <- sprintf('perl %s/bin/findMotifsGenome.pl %s hg38 %s -bg %s -size 200 -p 20 -bits > %s', homer_install_fp, bed_fp, file.path(homer_dir,celltype), bg_fp, log_fp)\n",
    "        write(cmd, script_fp, append=TRUE)\n",
    "    }\n",
    "}"
   ]
  },
  {
   "cell_type": "code",
   "execution_count": null,
   "id": "5a47685d-d55f-4b30-af78-c19c74a405cd",
   "metadata": {},
   "outputs": [],
   "source": [
    "homer_dir <- file.path(outdir,'HOMER_ATAC_ct_spec_cREs')\n",
    "dir.create(file.path(homer_dir,'ct_spec_peaks'), showWarnings = FALSE, recursive = TRUE)\n",
    "script_fp <- file.path(homer_dir,'HOMER_commands.sh') #in terminal: touch fp and add shebang first!!!\n",
    "homer_install_fp <- '/home/hmummey/homer'\n",
    "\n",
    "for(celltype in joint_celltypes){\n",
    "    #read in peak results and write to bed file\n",
    "    fp <- file.path(outdir,'ATAC_ct_spec_cREs',sprintf('%s_entropy2_UNION_cREs_CPM5.txt',celltype))\n",
    "    df <- read.table(fp, sep='\\t', header=1)\n",
    "    bed <- str_split_fixed(df$peak, '-', 3)\n",
    "    out_fp <- file.path(homer_dir,'ct_spec_peaks',sprintf('%s_entropy2_UNION_cREs_CPM5.bed',celltype))\n",
    "    write.table(bed, out_fp, sep='\\t', row.names=F, col.names=F, quote=F)\n",
    "\n",
    "    #also softlink all cell type accessible peaks to the homer dir\n",
    "    fp1 <- file.path(atac_ct_peaks_dir,sprintf('%s.peaks.bed',celltype))\n",
    "    fp2 <- file.path(homer_dir,'all_ct_peaks',sprintf('%s_union_peaks.bed',celltype))\n",
    "    cmd <- sprintf('ln -s %s %s', fp1, fp2)\n",
    "    system(cmd)\n",
    "\n",
    "    #now run homer equation to write script\n",
    "    dir.create(file.path(homer_dir,celltype), showWarnings = FALSE)\n",
    "    run_HOMER(celltype, file.path(homer_dir,'ct_spec_peaks'), homer_dir, homer_install_fp, script_fp)\n",
    "}"
   ]
  },
  {
   "cell_type": "markdown",
   "id": "11cfad40-2679-4835-bf5c-bcab81981489",
   "metadata": {},
   "source": [
    "## Correlate motif accessibility with expression"
   ]
  },
  {
   "cell_type": "code",
   "execution_count": 122,
   "id": "1232a130-9e5c-4c62-b305-340736d868e0",
   "metadata": {},
   "outputs": [],
   "source": [
    "### Function to run correlation test and return results \n",
    "cortest_motif_gene <- function(motif, gene, motif_df, tpm_df){\n",
    "    res <- cor.test(unlist(motif_df[motif,]), unlist(tpm_df[gene,]),alternative='two.sided', method='spearman')\n",
    "    avg_gex <- rowMeans(tpm_df[gene,])\n",
    "    results_vector <- c(res$estimate,res$p.value,avg_gex)\n",
    "    return(results_vector)\n",
    "}"
   ]
  },
  {
   "cell_type": "code",
   "execution_count": 168,
   "id": "79d31bd8-1f71-4cf4-953f-e8831a4bbbb4",
   "metadata": {},
   "outputs": [],
   "source": [
    "#Search JASPAR motifs for those that match a shortened homer motif\n",
    "get_motif_matches <- function(homer_motif, jaspar_motifs){\n",
    "    motifs <- jaspar_motifs[grepl(str_to_upper(homer_motif),jaspar_motifs)]\n",
    "    if(length(motifs) > 0) {\n",
    "        return(paste(motifs,collapse=','))\n",
    "    } else {\n",
    "        return(NA)\n",
    "    }\n",
    "}"
   ]
  },
  {
   "cell_type": "code",
   "execution_count": 203,
   "id": "ad3e0479-6e02-4621-9b61-41958d9bec32",
   "metadata": {},
   "outputs": [],
   "source": [
    "### Big wrapper function to read in entropy cRE homer results, map to jaspar motifs and genes,\n",
    "### then correlate gene expression with motif accessibility (by donor) and save out results\n",
    "motif_gene_cortest_wrapper <- function(celltype, outdir){\n",
    "    #read in per-donor tpm and devscore files\n",
    "    tpm_fp <- file.path(tpm_dir,sprintf('%s_sample_gex_TPM.txt',celltype))\n",
    "    tpm_df <- read.table(tpm_fp, sep='\\t')\n",
    "    motif_fp <- file.path(motif_dir,sprintf('%s_Alberta_donor_devscores_ChromVAR_fin.txt',celltype))\n",
    "    motif_df <- read.table(motif_fp, sep='\\t')\n",
    "\n",
    "    #read in the homer motif results and clean up a lot\n",
    "    homer_fp <- file.path(homer_dir,celltype,'knownResults.txt')\n",
    "    homer <- fread(homer_fp)\n",
    "    colnames(homer) <- c('motif','consensus','pval','log_pval','qval','target_seq_w_motif','perc_target_seq_w_motif','bg_seq_w_motif','perc_bg_seq_w_motif')    \n",
    "    homer$perc_target_seq_w_motif <- gsub(\"[%]\", \"\", homer$perc_target_seq_w_motif) #remove percents\n",
    "    homer$perc_bg_seq_w_motif <- gsub(\"[%]\", \"\", homer$perc_bg_seq_w_motif)\n",
    "    homer <- homer %>% select(-c(consensus,target_seq_w_motif,bg_seq_w_motif)) %>%\n",
    "                mutate(motif_short=gsub(\"/.*\",'',motif)) %>% mutate(motif_short=gsub(\"[(].*\", \"\", motif_short)) %>% #shorten motif names to TFs\n",
    "                mutate_at(c('perc_target_seq_w_motif','perc_bg_seq_w_motif'),as.numeric) %>% #convert percents to numeric\n",
    "                mutate(fc=(perc_target_seq_w_motif-perc_bg_seq_w_motif)/perc_bg_seq_w_motif) #calculate foldchange\n",
    "    homer$padj <- p.adjust(homer$pval,method='BH')\n",
    "\n",
    "    #map sig homer motifs to JASPAR motifs\n",
    "    homer_sig <- subset(homer, padj < 0.1)\n",
    "    matches <- lapply(homer_sig$motif_short, get_motif_matches, row.names(motif_df))\n",
    "    match_df <- data.frame(motif_short=homer_sig$motif_short, motif_jaspar=unlist(matches)) %>%\n",
    "                    tidyr::separate_rows(motif_jaspar, sep=',')\n",
    "    homer_fin <- left_join(homer_sig, match_df, by='motif_short')\n",
    "\n",
    "    #now map in all family member genes from motif_map\n",
    "    jaspar_motifs <- unique(subset(homer_fin, motif_jaspar!='') %>% pull(motif_jaspar))\n",
    "    gene_map <- subset(motif_map, full_jaspar_motif %in% jaspar_motifs) %>%\n",
    "                    select(full_jaspar_motif,gene) %>%\n",
    "                    rename(motif_jaspar=full_jaspar_motif)\n",
    "    homer_fin2 <- as.data.frame(left_join(homer_fin, gene_map, by='motif_jaspar'))\n",
    "        \n",
    "    #run cor.test on all motif and gene pairs, save to df\n",
    "    results_df <- data.frame()\n",
    "    for(row in seq(dim(homer_fin2)[1])){\n",
    "        motif <- unlist(homer_fin2[row,'motif_jaspar'])\n",
    "        gene <- unlist(homer_fin2[row,'gene'])\n",
    "        if((gene %in% row.names(tpm_df) & (motif %in% row.names(motif_df)))){\n",
    "            cor_res <- suppressWarnings(cortest_motif_gene(motif, gene, motif_df, tpm_df))\n",
    "            results <- c(cor_res, motif, gene)\n",
    "            results_df <- rbind(results_df,results)\n",
    "        }\n",
    "    }\n",
    "    colnames(results_df) <- c('cor_estimate','cor_pvalue','avg_TPM','motif_jaspar','gene')\n",
    "    results <- left_join(homer_fin2, results_df, by=c('motif_jaspar','gene'))\n",
    "    results$cor_padj <- p.adjust(results$cor_pvalue, method='BH')\n",
    "    \n",
    "    #write results to a file\n",
    "    fp <- file.path(outdir,sprintf('%s_sig_avg_TPM1_pos_corr_entropy_cRE_HOMER_motif_gene_corrs.txt',celltype))\n",
    "    write.table(subset(results, avg_TPM > 1 & cor_padj < 0.1 & cor_estimate > 0), fp, sep='\\t', row.names=FALSE, quote=FALSE)\n",
    "}"
   ]
  },
  {
   "cell_type": "code",
   "execution_count": 9,
   "id": "676f54d1-ea46-4cf4-a156-9d9f9d1d0e71",
   "metadata": {},
   "outputs": [
    {
     "data": {
      "text/html": [
       "<table class=\"dataframe\">\n",
       "<caption>A data.frame: 6 × 4</caption>\n",
       "<thead>\n",
       "\t<tr><th></th><th scope=col>full_jaspar_motif</th><th scope=col>jaspar_motif</th><th scope=col>lowest_level_family</th><th scope=col>gene</th></tr>\n",
       "\t<tr><th></th><th scope=col>&lt;chr&gt;</th><th scope=col>&lt;chr&gt;</th><th scope=col>&lt;chr&gt;</th><th scope=col>&lt;chr&gt;</th></tr>\n",
       "</thead>\n",
       "<tbody>\n",
       "\t<tr><th scope=row>1</th><td>MA0030.1_FOXF2</td><td>FOXF2</td><td>FOXF</td><td>FOXF2  </td></tr>\n",
       "\t<tr><th scope=row>2</th><td>MA0030.1_FOXF2</td><td>FOXF2</td><td>FOXF</td><td>FOXF1  </td></tr>\n",
       "\t<tr><th scope=row>3</th><td>MA0031.1_FOXD1</td><td>FOXD1</td><td>FOXD</td><td>FOXD1  </td></tr>\n",
       "\t<tr><th scope=row>4</th><td>MA0031.1_FOXD1</td><td>FOXD1</td><td>FOXD</td><td>FOXD2  </td></tr>\n",
       "\t<tr><th scope=row>5</th><td>MA0031.1_FOXD1</td><td>FOXD1</td><td>FOXD</td><td>FOXD3  </td></tr>\n",
       "\t<tr><th scope=row>6</th><td>MA0031.1_FOXD1</td><td>FOXD1</td><td>FOXD</td><td>FOXD4L1</td></tr>\n",
       "</tbody>\n",
       "</table>\n"
      ],
      "text/latex": [
       "A data.frame: 6 × 4\n",
       "\\begin{tabular}{r|llll}\n",
       "  & full\\_jaspar\\_motif & jaspar\\_motif & lowest\\_level\\_family & gene\\\\\n",
       "  & <chr> & <chr> & <chr> & <chr>\\\\\n",
       "\\hline\n",
       "\t1 & MA0030.1\\_FOXF2 & FOXF2 & FOXF & FOXF2  \\\\\n",
       "\t2 & MA0030.1\\_FOXF2 & FOXF2 & FOXF & FOXF1  \\\\\n",
       "\t3 & MA0031.1\\_FOXD1 & FOXD1 & FOXD & FOXD1  \\\\\n",
       "\t4 & MA0031.1\\_FOXD1 & FOXD1 & FOXD & FOXD2  \\\\\n",
       "\t5 & MA0031.1\\_FOXD1 & FOXD1 & FOXD & FOXD3  \\\\\n",
       "\t6 & MA0031.1\\_FOXD1 & FOXD1 & FOXD & FOXD4L1\\\\\n",
       "\\end{tabular}\n"
      ],
      "text/markdown": [
       "\n",
       "A data.frame: 6 × 4\n",
       "\n",
       "| <!--/--> | full_jaspar_motif &lt;chr&gt; | jaspar_motif &lt;chr&gt; | lowest_level_family &lt;chr&gt; | gene &lt;chr&gt; |\n",
       "|---|---|---|---|---|\n",
       "| 1 | MA0030.1_FOXF2 | FOXF2 | FOXF | FOXF2   |\n",
       "| 2 | MA0030.1_FOXF2 | FOXF2 | FOXF | FOXF1   |\n",
       "| 3 | MA0031.1_FOXD1 | FOXD1 | FOXD | FOXD1   |\n",
       "| 4 | MA0031.1_FOXD1 | FOXD1 | FOXD | FOXD2   |\n",
       "| 5 | MA0031.1_FOXD1 | FOXD1 | FOXD | FOXD3   |\n",
       "| 6 | MA0031.1_FOXD1 | FOXD1 | FOXD | FOXD4L1 |\n",
       "\n"
      ],
      "text/plain": [
       "  full_jaspar_motif jaspar_motif lowest_level_family gene   \n",
       "1 MA0030.1_FOXF2    FOXF2        FOXF                FOXF2  \n",
       "2 MA0030.1_FOXF2    FOXF2        FOXF                FOXF1  \n",
       "3 MA0031.1_FOXD1    FOXD1        FOXD                FOXD1  \n",
       "4 MA0031.1_FOXD1    FOXD1        FOXD                FOXD2  \n",
       "5 MA0031.1_FOXD1    FOXD1        FOXD                FOXD3  \n",
       "6 MA0031.1_FOXD1    FOXD1        FOXD                FOXD4L1"
      ]
     },
     "metadata": {},
     "output_type": "display_data"
    }
   ],
   "source": [
    "#read in motif family map and reformat a bit\n",
    "motif_map <- read.table(lookup_fp, sep=',', header=1)\n",
    "head(motif_map)"
   ]
  },
  {
   "cell_type": "code",
   "execution_count": 204,
   "id": "257c4f9b-c525-4783-91d4-8bf5fa2dcc10",
   "metadata": {},
   "outputs": [],
   "source": [
    "motif_corr_outdir <- '/nfs/lab/projects/multiomic_islet/outputs/multiome/entropy_outputs/HOMER_ATAC_ct_spec_cREs/motif_gene_corrs'\n",
    "for(celltype in celltypes){\n",
    "    motif_gene_cortest_wrapper(celltype,motif_corr_outdir)\n",
    "}"
   ]
  },
  {
   "cell_type": "code",
   "execution_count": null,
   "id": "127af5f6-8f56-4022-bd96-5956c0fba444",
   "metadata": {},
   "outputs": [],
   "source": []
  }
 ],
 "metadata": {
  "kernelspec": {
   "display_name": "R 4.1",
   "language": "R",
   "name": "ir411"
  },
  "language_info": {
   "codemirror_mode": "r",
   "file_extension": ".r",
   "mimetype": "text/x-r-source",
   "name": "R",
   "pygments_lexer": "r",
   "version": "4.1.1"
  }
 },
 "nbformat": 4,
 "nbformat_minor": 5
}
