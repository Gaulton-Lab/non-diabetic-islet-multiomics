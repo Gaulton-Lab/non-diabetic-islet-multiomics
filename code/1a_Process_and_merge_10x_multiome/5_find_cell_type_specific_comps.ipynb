{
 "cells": [
  {
   "cell_type": "markdown",
   "id": "370f1423-9f5e-4c41-845d-93852463c7fe",
   "metadata": {},
   "source": [
    "# TO DO: add in RNA and ATAC entropy stuff here, rename notebook"
   ]
  },
  {
   "cell_type": "markdown",
   "id": "31ca8f34-5d49-4f3c-947a-b23671166743",
   "metadata": {},
   "source": [
    "#### Summary: \n",
    "We initially found cell type-specific motifs by running HOMER on the entropy cREs, however these results were confusing... Many motifs were for TFs not expressed in the cell type, or there were repeats across cell types. Because we know TF motifs can be super similar between family members, it's likely multiple TFs could bind these motifs. To figure out which, I'll try correlating the chromvar devscores per donor against the per donor gene expression of family members. If that doesn't work, the easiest thing would be to just take any family members with some cell type expression."
   ]
  },
  {
   "cell_type": "code",
   "execution_count": 1,
   "id": "56c94baa-99c8-46c4-8b3c-db997eef0b43",
   "metadata": {
    "tags": []
   },
   "outputs": [],
   "source": [
    "# suppressMessages(library(hdf5r))\n",
    "# suppressMessages(library(Seurat))\n",
    "# suppressMessages(library(Signac))\n",
    "\n",
    "suppressMessages(library(dplyr))\n",
    "suppressMessages(library(stringr))\n",
    "suppressMessages(library(data.table))\n",
    "suppressMessages(library(tictoc))\n",
    "\n",
    "suppressMessages(library(ggplot2))\n",
    "suppressMessages(library(ggpubr))\n",
    "suppressMessages(library(ggrepel))\n",
    "suppressMessages(library(RColorBrewer))\n",
    "suppressMessages(library(shadowtext))\n",
    "suppressMessages(library(forcats))\n",
    "\n",
    "#suppressMessages(library(pheatmap))\n",
    "#suppressMessages(library(pracma))\n",
    "#suppressMessages(library(GenomicRanges))"
   ]
  },
  {
   "cell_type": "code",
   "execution_count": 2,
   "id": "369cd327-8b2f-4902-bbf4-8b290d4f45c1",
   "metadata": {},
   "outputs": [],
   "source": [
    "celltypes <- c('beta','alpha','delta','gamma','acinar','ductal','endothelial','stellate','immune')\n",
    "rna_celltypes <- c('beta','alpha','delta','acinar','ductal','stellate','immune')\n",
    "atac_celltypes <- c('beta','alpha','delta','gamma','acinar','ductal')"
   ]
  },
  {
   "cell_type": "code",
   "execution_count": 3,
   "id": "80f1e2af-178a-4446-81f8-61f59ecce5e6",
   "metadata": {},
   "outputs": [],
   "source": [
    "traits <- c('scaled_age','scaled_BMI','scaled_HbA1c','sex')\n",
    "traits2 <- c('Age','BMI','HbA1c','Sex')\n",
    "names(traits2) <- traits"
   ]
  },
  {
   "cell_type": "code",
   "execution_count": 4,
   "id": "b71b7a5c-6e69-4777-a495-c8a8484e9686",
   "metadata": {
    "tags": []
   },
   "outputs": [],
   "source": [
    "# Set up color palettes\n",
    "\n",
    "major_colors = c('acinar'='#09850B', 'alpha'='#F51646', 'beta'='#3F98E0',\n",
    "                 'delta'='#FFA946', 'ductal'='#F5DE6C', 'endothelial'='#752BBA', \n",
    "                 'gamma'='#A1D99B', 'immune'='#F598C9', 'stellate'='#AB7345')\n",
    "# options(repr.plot.width=5, repr.plot.height=5)\n",
    "# scales::show_col(major_colors, cex_label=2)"
   ]
  },
  {
   "cell_type": "code",
   "execution_count": 5,
   "id": "4af4423b-0691-446b-85f9-ae52ed9d982c",
   "metadata": {
    "scrolled": true,
    "tags": []
   },
   "outputs": [],
   "source": [
    "#make RNA and ATAC specific diverging color palettes\n",
    "rna_pal <- c('#D73027','#E6938E','#F5F5F5','#94B5E1','#3375CC')\n",
    "atac_pal <- c('#E67925','#EEB78D','#F5F5F5','#9A96CB','#3E37A1')\n",
    "\n",
    "# par(mfrow=c(1,2))\n",
    "# scales::show_col(rna_pal, cex_label=2)\n",
    "# scales::show_col(atac_pal, cex_label=2)"
   ]
  },
  {
   "cell_type": "code",
   "execution_count": 6,
   "id": "adcd40e6-cd6d-4ae5-b464-6729255d76fb",
   "metadata": {},
   "outputs": [],
   "source": [
    "theme_set(theme_classic())"
   ]
  },
  {
   "cell_type": "markdown",
   "id": "492c748f-f347-494b-8ac1-3d698c87edb3",
   "metadata": {},
   "source": [
    "# Inputs"
   ]
  },
  {
   "cell_type": "code",
   "execution_count": 167,
   "id": "af9a920b-e7d1-4ca1-8750-f2b879953941",
   "metadata": {},
   "outputs": [],
   "source": [
    "#directories for inputs\n",
    "tpm_dir <- '/nfs/lab/projects/multiomic_islet/outputs/multiome/rna_profiles/recluster_final_clustering_v2/sample_TPM'\n",
    "motif_dir <- '/nfs/lab/projects/multiomic_islet/outputs/multiome/atac_profiles/recluster_final_clustering_v2/donor_motif_devscores'\n",
    "homer_dir <- '/nfs/lab/projects/multiomic_islet/outputs/multiome/entropy_outputs/HOMER_ATAC_ct_spec_cREs'"
   ]
  },
  {
   "cell_type": "code",
   "execution_count": 8,
   "id": "8db4034f-375b-46f6-a94e-26c7d6e4b4b5",
   "metadata": {},
   "outputs": [],
   "source": [
    "#motif family maps from Weston\n",
    "lookup_fp <- '/nfs/lab/welison/References/220907_WE_Chromvar_to_Gene_By_Subfam_Complete(JAPRAR2022_TFClass).csv'\n",
    "full_fp <- '/nfs/lab/welison/References/220907_WE_Chromvar_to_Gene_Jaspar2022.csv'"
   ]
  },
  {
   "cell_type": "code",
   "execution_count": 9,
   "id": "676f54d1-ea46-4cf4-a156-9d9f9d1d0e71",
   "metadata": {},
   "outputs": [
    {
     "data": {
      "text/html": [
       "<table class=\"dataframe\">\n",
       "<caption>A data.frame: 6 × 4</caption>\n",
       "<thead>\n",
       "\t<tr><th></th><th scope=col>full_jaspar_motif</th><th scope=col>jaspar_motif</th><th scope=col>lowest_level_family</th><th scope=col>gene</th></tr>\n",
       "\t<tr><th></th><th scope=col>&lt;chr&gt;</th><th scope=col>&lt;chr&gt;</th><th scope=col>&lt;chr&gt;</th><th scope=col>&lt;chr&gt;</th></tr>\n",
       "</thead>\n",
       "<tbody>\n",
       "\t<tr><th scope=row>1</th><td>MA0030.1_FOXF2</td><td>FOXF2</td><td>FOXF</td><td>FOXF2  </td></tr>\n",
       "\t<tr><th scope=row>2</th><td>MA0030.1_FOXF2</td><td>FOXF2</td><td>FOXF</td><td>FOXF1  </td></tr>\n",
       "\t<tr><th scope=row>3</th><td>MA0031.1_FOXD1</td><td>FOXD1</td><td>FOXD</td><td>FOXD1  </td></tr>\n",
       "\t<tr><th scope=row>4</th><td>MA0031.1_FOXD1</td><td>FOXD1</td><td>FOXD</td><td>FOXD2  </td></tr>\n",
       "\t<tr><th scope=row>5</th><td>MA0031.1_FOXD1</td><td>FOXD1</td><td>FOXD</td><td>FOXD3  </td></tr>\n",
       "\t<tr><th scope=row>6</th><td>MA0031.1_FOXD1</td><td>FOXD1</td><td>FOXD</td><td>FOXD4L1</td></tr>\n",
       "</tbody>\n",
       "</table>\n"
      ],
      "text/latex": [
       "A data.frame: 6 × 4\n",
       "\\begin{tabular}{r|llll}\n",
       "  & full\\_jaspar\\_motif & jaspar\\_motif & lowest\\_level\\_family & gene\\\\\n",
       "  & <chr> & <chr> & <chr> & <chr>\\\\\n",
       "\\hline\n",
       "\t1 & MA0030.1\\_FOXF2 & FOXF2 & FOXF & FOXF2  \\\\\n",
       "\t2 & MA0030.1\\_FOXF2 & FOXF2 & FOXF & FOXF1  \\\\\n",
       "\t3 & MA0031.1\\_FOXD1 & FOXD1 & FOXD & FOXD1  \\\\\n",
       "\t4 & MA0031.1\\_FOXD1 & FOXD1 & FOXD & FOXD2  \\\\\n",
       "\t5 & MA0031.1\\_FOXD1 & FOXD1 & FOXD & FOXD3  \\\\\n",
       "\t6 & MA0031.1\\_FOXD1 & FOXD1 & FOXD & FOXD4L1\\\\\n",
       "\\end{tabular}\n"
      ],
      "text/markdown": [
       "\n",
       "A data.frame: 6 × 4\n",
       "\n",
       "| <!--/--> | full_jaspar_motif &lt;chr&gt; | jaspar_motif &lt;chr&gt; | lowest_level_family &lt;chr&gt; | gene &lt;chr&gt; |\n",
       "|---|---|---|---|---|\n",
       "| 1 | MA0030.1_FOXF2 | FOXF2 | FOXF | FOXF2   |\n",
       "| 2 | MA0030.1_FOXF2 | FOXF2 | FOXF | FOXF1   |\n",
       "| 3 | MA0031.1_FOXD1 | FOXD1 | FOXD | FOXD1   |\n",
       "| 4 | MA0031.1_FOXD1 | FOXD1 | FOXD | FOXD2   |\n",
       "| 5 | MA0031.1_FOXD1 | FOXD1 | FOXD | FOXD3   |\n",
       "| 6 | MA0031.1_FOXD1 | FOXD1 | FOXD | FOXD4L1 |\n",
       "\n"
      ],
      "text/plain": [
       "  full_jaspar_motif jaspar_motif lowest_level_family gene   \n",
       "1 MA0030.1_FOXF2    FOXF2        FOXF                FOXF2  \n",
       "2 MA0030.1_FOXF2    FOXF2        FOXF                FOXF1  \n",
       "3 MA0031.1_FOXD1    FOXD1        FOXD                FOXD1  \n",
       "4 MA0031.1_FOXD1    FOXD1        FOXD                FOXD2  \n",
       "5 MA0031.1_FOXD1    FOXD1        FOXD                FOXD3  \n",
       "6 MA0031.1_FOXD1    FOXD1        FOXD                FOXD4L1"
      ]
     },
     "metadata": {},
     "output_type": "display_data"
    }
   ],
   "source": [
    "#read in motif family map and reformat a bit\n",
    "motif_map <- read.table(lookup_fp, sep=',', header=1)\n",
    "head(motif_map)"
   ]
  },
  {
   "cell_type": "markdown",
   "id": "184d63c2-20c6-4ace-87f1-991784ccb19f",
   "metadata": {},
   "source": [
    "# Functions"
   ]
  },
  {
   "cell_type": "code",
   "execution_count": 122,
   "id": "1232a130-9e5c-4c62-b305-340736d868e0",
   "metadata": {},
   "outputs": [],
   "source": [
    "### Function to run correlation test and return results \n",
    "cortest_motif_gene <- function(motif, gene, motif_df, tpm_df){\n",
    "    res <- cor.test(unlist(motif_df[motif,]), unlist(tpm_df[gene,]),alternative='two.sided', method='spearman')\n",
    "    avg_gex <- rowMeans(tpm_df[gene,])\n",
    "    results_vector <- c(res$estimate,res$p.value,avg_gex)\n",
    "    return(results_vector)\n",
    "}"
   ]
  },
  {
   "cell_type": "code",
   "execution_count": 168,
   "id": "79d31bd8-1f71-4cf4-953f-e8831a4bbbb4",
   "metadata": {},
   "outputs": [],
   "source": [
    "get_motif_matches <- function(homer_motif, jaspar_motifs){\n",
    "    motifs <- jaspar_motifs[grepl(str_to_upper(homer_motif),jaspar_motifs)]\n",
    "    if(length(motifs) > 0) {\n",
    "        return(paste(motifs,collapse=','))\n",
    "    } else {\n",
    "        return(NA)\n",
    "    }\n",
    "}"
   ]
  },
  {
   "cell_type": "code",
   "execution_count": 203,
   "id": "ad3e0479-6e02-4621-9b61-41958d9bec32",
   "metadata": {},
   "outputs": [],
   "source": [
    "### Big wrapper function to read in entropy cRE homer results, map to jaspar motifs and genes,\n",
    "### then correlate gene expression with motif accessibility (by donor) and save out results\n",
    "motif_gene_cortest_wrapper <- function(celltype, outdir){\n",
    "    #read in per-donor tpm and devscore files\n",
    "    tpm_fp <- file.path(tpm_dir,sprintf('%s_sample_gex_TPM_wHPAPND.txt',celltype))\n",
    "    tpm_df <- read.table(tpm_fp, sep='\\t')\n",
    "    tpm_df <- tpm_df[,grepl('R',colnames(tpm_df))]\n",
    "    motif_fp <- file.path(motif_dir,sprintf('%s_Alberta_donor_devscores_ChromVAR_fin.txt',celltype))\n",
    "    motif_df <- read.table(motif_fp, sep='\\t')\n",
    "\n",
    "    #read in the homer motif results and clean up a lot\n",
    "    homer_fp <- file.path(homer_dir,celltype,'knownResults.txt')\n",
    "    homer <- fread(homer_fp)\n",
    "    colnames(homer) <- c('motif','consensus','pval','log_pval','qval','target_seq_w_motif','perc_target_seq_w_motif','bg_seq_w_motif','perc_bg_seq_w_motif')    \n",
    "    homer$perc_target_seq_w_motif <- gsub(\"[%]\", \"\", homer$perc_target_seq_w_motif) #remove percents\n",
    "    homer$perc_bg_seq_w_motif <- gsub(\"[%]\", \"\", homer$perc_bg_seq_w_motif)\n",
    "    homer <- homer %>% select(-c(consensus,target_seq_w_motif,bg_seq_w_motif)) %>%\n",
    "                mutate(motif_short=gsub(\"/.*\",'',motif)) %>% mutate(motif_short=gsub(\"[(].*\", \"\", motif_short)) %>% #shorten motif names to TFs\n",
    "                mutate_at(c('perc_target_seq_w_motif','perc_bg_seq_w_motif'),as.numeric) %>% #convert percents to numeric\n",
    "                mutate(fc=(perc_target_seq_w_motif-perc_bg_seq_w_motif)/perc_bg_seq_w_motif) #calculate foldchange\n",
    "    homer$padj <- p.adjust(homer$pval,method='BH')\n",
    "\n",
    "    #map sig homer motifs to JASPAR motifs\n",
    "    homer_sig <- subset(homer, padj < 0.1)\n",
    "    matches <- lapply(homer_sig$motif_short, get_motif_matches, row.names(motif_df))\n",
    "    match_df <- data.frame(motif_short=homer_sig$motif_short, motif_jaspar=unlist(matches)) %>%\n",
    "                    tidyr::separate_rows(motif_jaspar, sep=',')\n",
    "    homer_fin <- left_join(homer_sig, match_df, by='motif_short')\n",
    "\n",
    "    #now map in all family member genes\n",
    "    jaspar_motifs <- unique(subset(homer_fin, motif_jaspar!='') %>% pull(motif_jaspar))\n",
    "    gene_map <- subset(motif_map, full_jaspar_motif %in% jaspar_motifs) %>%\n",
    "                    select(full_jaspar_motif,gene) %>%\n",
    "                    rename(motif_jaspar=full_jaspar_motif)\n",
    "    homer_fin2 <- as.data.frame(left_join(homer_fin, gene_map, by='motif_jaspar'))\n",
    "        \n",
    "    #run cor.test on all motif and gene pairs, save to df\n",
    "    results_df <- data.frame()\n",
    "    for(row in seq(dim(homer_fin2)[1])){\n",
    "        motif <- unlist(homer_fin2[row,'motif_jaspar'])\n",
    "        gene <- unlist(homer_fin2[row,'gene'])\n",
    "        if((gene %in% row.names(tpm_df) & (motif %in% row.names(motif_df)))){\n",
    "            cor_res <- suppressWarnings(cortest_motif_gene(motif, gene, motif_df, tpm_df))\n",
    "            results <- c(cor_res, motif, gene)\n",
    "            results_df <- rbind(results_df,results)\n",
    "        }\n",
    "    }\n",
    "    colnames(results_df) <- c('cor_estimate','cor_pvalue','avg_TPM','motif_jaspar','gene')\n",
    "    results <- left_join(homer_fin2, results_df, by=c('motif_jaspar','gene'))\n",
    "    results$cor_padj <- p.adjust(results$cor_pvalue, method='BH')\n",
    "    \n",
    "    #write results to a file!\n",
    "    fp1 <- file.path(outdir,sprintf('%s_all_entropy_cRE_HOMER_motif_gene_corrs.txt',celltype))\n",
    "    fp2 <- file.path(outdir,sprintf('%s_sig_avg_TPM1_pos_corr_entropy_cRE_HOMER_motif_gene_corrs.txt',celltype))\n",
    "    write.table(results, fp1, sep='\\t', row.names=FALSE, quote=FALSE)\n",
    "    write.table(subset(results, avg_TPM > 1 & cor_padj < 0.1 & cor_estimate > 0), fp2, sep='\\t', row.names=FALSE, quote=FALSE)\n",
    "}"
   ]
  },
  {
   "cell_type": "markdown",
   "id": "0e75fa75-8df7-4337-a744-597a4f6cb416",
   "metadata": {},
   "source": [
    "## Test code -- convert to wrapper"
   ]
  },
  {
   "cell_type": "code",
   "execution_count": 170,
   "id": "f6fd543f-e6b5-45c0-8b02-121acf0d797e",
   "metadata": {},
   "outputs": [],
   "source": [
    "outdir <- '/nfs/lab/projects/multiomic_islet/outputs/multiome/entropy_outputs/HOMER_ATAC_ct_spec_cREs/motif_gene_corrs'"
   ]
  },
  {
   "cell_type": "code",
   "execution_count": 204,
   "id": "257c4f9b-c525-4783-91d4-8bf5fa2dcc10",
   "metadata": {},
   "outputs": [],
   "source": [
    "for(celltype in celltypes){\n",
    "    motif_gene_cortest_wrapper(celltype,outdir)\n",
    "}"
   ]
  },
  {
   "cell_type": "code",
   "execution_count": 205,
   "id": "24333762-65da-4a75-bec6-a1b5e1982296",
   "metadata": {},
   "outputs": [
    {
     "name": "stdout",
     "output_type": "stream",
     "text": [
      "[1] \"beta\"\n",
      "[1] \"ASCL2\"   \"FOXO1\"   \"GLIS3\"   \"NEUROD1\" \"RFX6\"    \"TCF3\"    \"TCF4\"   \n",
      "[1] \"alpha\"\n",
      "logical(0)\n",
      "[1] \"delta\"\n",
      "[1] \"RFX6\"\n",
      "[1] \"gamma\"\n",
      "[1] \"TGIF1\"\n",
      "[1] \"acinar\"\n",
      "[1] \"GATA4\"\n",
      "[1] \"ductal\"\n",
      "[1] \"ESRRG\"  \"ZNF337\" \"ZNF667\"\n",
      "[1] \"endothelial\"\n",
      "logical(0)\n",
      "[1] \"stellate\"\n",
      "[1] \"CEBPB\" \"CEBPD\" \"EBF2\"  \"HNF4A\"\n",
      "[1] \"immune\"\n",
      "logical(0)\n"
     ]
    }
   ],
   "source": [
    "#summarize sig results\n",
    "for(celltype in celltypes){\n",
    "    print(celltype)\n",
    "    \n",
    "    #read in sig results\n",
    "    res_fp <- file.path(outdir,sprintf('%s_sig_avg_TPM1_pos_corr_entropy_cRE_HOMER_motif_gene_corrs.txt',celltype))\n",
    "    if(file.exists(res_fp)){\n",
    "        res <- read.table(res_fp, sep='\\t', header=1)\n",
    "\n",
    "        #print unique genes in sig results\n",
    "        unique_tfs <- sort(unique(res$gene))\n",
    "        print(unique_tfs)\n",
    "    \n",
    "        #write this to another file\n",
    "        out_fp <- file.path(outdir,sprintf('%s_sig_avg_TPM1_TFs.txt',celltype))\n",
    "        write(unique_tfs, out_fp, sep='\\n')\n",
    "    }\n",
    "}"
   ]
  },
  {
   "cell_type": "code",
   "execution_count": null,
   "id": "127af5f6-8f56-4022-bd96-5956c0fba444",
   "metadata": {},
   "outputs": [],
   "source": []
  }
 ],
 "metadata": {
  "kernelspec": {
   "display_name": "R 4.1",
   "language": "R",
   "name": "ir411"
  },
  "language_info": {
   "codemirror_mode": "r",
   "file_extension": ".r",
   "mimetype": "text/x-r-source",
   "name": "R",
   "pygments_lexer": "r",
   "version": "4.1.1"
  }
 },
 "nbformat": 4,
 "nbformat_minor": 5
}
