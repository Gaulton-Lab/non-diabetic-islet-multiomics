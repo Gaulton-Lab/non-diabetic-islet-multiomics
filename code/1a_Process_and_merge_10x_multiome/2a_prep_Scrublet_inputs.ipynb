{
 "cells": [
  {
   "cell_type": "markdown",
   "id": "b95ce8e7",
   "metadata": {},
   "source": [
    "#### Summary:\n",
    "This notebook contains code to prepare the inputs for Scrublet (MM files) and also reads in the output files and merges them into one to use later."
   ]
  },
  {
   "cell_type": "code",
   "execution_count": 12,
   "id": "0ecdb821",
   "metadata": {},
   "outputs": [],
   "source": [
    "suppressMessages(library(hdf5r))\n",
    "suppressMessages(library(Seurat))\n",
    "suppressMessages(library(Signac))\n",
    "suppressMessages(library(EnsDb.Hsapiens.v86))\n",
    "suppressMessages(library(dplyr))\n",
    "suppressMessages(library(ggplot2))\n",
    "suppressMessages(library(Matrix))\n",
    "suppressMessages(library(harmony))\n",
    "suppressMessages(library(data.table))\n",
    "suppressMessages(library(ggpubr))\n",
    "suppressMessages(library(future))"
   ]
  },
  {
   "cell_type": "code",
   "execution_count": 13,
   "id": "c05e8208",
   "metadata": {},
   "outputs": [],
   "source": [
    "suppressMessages(library(tictoc))\n",
    "suppressMessages(library(plyr))\n",
    "suppressMessages(library(enrichR))\n",
    "suppressMessages(library(stringr))\n",
    "suppressMessages(library(ggrepel))"
   ]
  },
  {
   "cell_type": "code",
   "execution_count": 22,
   "id": "aaaffffa",
   "metadata": {},
   "outputs": [],
   "source": [
    "### UPDATE THESE PATHS\n",
    "rds_indir = '/path/to/multiome/processing/pipeline/outputs/dir'\n",
    "outdir = \"/dir/to/save/doublets/list/to\""
   ]
  },
  {
   "cell_type": "markdown",
   "id": "77ccaa73",
   "metadata": {},
   "source": [
    "# Exporting RDS Objects as MM files for Scrublet"
   ]
  },
  {
   "cell_type": "code",
   "execution_count": 4,
   "id": "7edbde28",
   "metadata": {},
   "outputs": [],
   "source": [
    "samples <- c('R207','R217','R218','R221','R223',\n",
    "             'R226','R228','R234','R237','R238',\n",
    "             'R246', 'R247', 'R275', 'R277', 'R284', \n",
    "             'R290', 'R292', 'R316', 'R317', 'R319',\n",
    "             'R325','R326','R327','R332','R343',\n",
    "             'R349','R353','R354','R362','R363','R364')"
   ]
  },
  {
   "cell_type": "code",
   "execution_count": 8,
   "id": "8cf0ba3d",
   "metadata": {
    "scrolled": true
   },
   "outputs": [
    {
     "name": "stdout",
     "output_type": "stream",
     "text": [
      "[1] \"R207 2022-08-25 11:59:34\"\n",
      "[1] \"R217 2022-08-25 12:02:55\"\n",
      "[1] \"R218 2022-08-25 12:06:10\"\n",
      "[1] \"R221 2022-08-25 12:08:01\"\n",
      "[1] \"R223 2022-08-25 12:09:46\"\n",
      "[1] \"R226 2022-08-25 12:13:02\"\n",
      "[1] \"R228 2022-08-25 12:16:00\"\n",
      "[1] \"R234 2022-08-25 12:18:36\"\n",
      "[1] \"R237 2022-08-25 12:21:33\"\n",
      "[1] \"R238 2022-08-25 12:24:23\"\n",
      "[1] \"R246 2022-08-25 12:27:13\"\n",
      "[1] \"R247 2022-08-25 12:28:09\"\n",
      "[1] \"R275 2022-08-25 12:30:32\"\n",
      "[1] \"R277 2022-08-25 12:32:15\"\n",
      "[1] \"R284 2022-08-25 12:34:51\"\n",
      "[1] \"R290 2022-08-25 12:37:05\"\n",
      "[1] \"R292 2022-08-25 12:39:55\"\n",
      "[1] \"R316 2022-08-25 12:42:40\"\n",
      "[1] \"R317 2022-08-25 12:46:24\"\n",
      "[1] \"R319 2022-08-25 12:50:43\"\n",
      "[1] \"R325 2022-08-25 12:54:43\"\n",
      "[1] \"R326 2022-08-25 12:55:32\"\n",
      "[1] \"R327 2022-08-25 12:59:36\"\n",
      "[1] \"R332 2022-08-25 13:01:56\"\n",
      "[1] \"R343 2022-08-25 13:04:40\"\n",
      "[1] \"R349 2022-08-25 13:06:15\"\n",
      "[1] \"R353 2022-08-25 13:07:39\"\n",
      "[1] \"R354 2022-08-25 13:09:55\"\n",
      "[1] \"R362 2022-08-25 13:12:06\"\n",
      "[1] \"R363 2022-08-25 13:15:12\"\n",
      "[1] \"R364 2022-08-25 13:18:28\"\n"
     ]
    }
   ],
   "source": [
    "for (sample in samples){\n",
    "    print(paste(sample, Sys.time()))\n",
    "    #set up necessary file structures -- this dir should be the sample's output dir from the multiome processing pipeline scripts\n",
    "    sample_dir <- file.path(rds_indir, sample)\n",
    "    mm_outdir <- file.path(sample_dir,'matrix_market')\n",
    "    dir.create(mm_outdir)\n",
    "    \n",
    "    #read in RDS\n",
    "    adata <- readRDS(file = file.path(sample_dir,\"final_filtered.rds\"))\n",
    "    \n",
    "    #pull out RNA counts to a separate object and writeMM\n",
    "    DefaultAssay(adata) <- 'RNA'\n",
    "    rna.counts <- GetAssayData(adata,slot='counts')\n",
    "    mm.fp <- file.path(mm_outdir,'matrix.mtx')\n",
    "    writeMM(rna.counts,mm.fp)\n",
    "    \n",
    "    #also export the gene list and barcodes lists\n",
    "    genes.fp <- file.path(mm_outdir,'genes.tsv')\n",
    "    write(row.names(rna.counts),genes.fp,sep='\\n')\n",
    "\n",
    "    barcodes.fp <- file.path(mm_outdir,'barcodes.tsv')\n",
    "    write(colnames(rna.counts),barcodes.fp,sep='\\n')\n",
    "}"
   ]
  },
  {
   "cell_type": "markdown",
   "id": "86754c07",
   "metadata": {},
   "source": [
    "# Read in Scrublet outputs and merge into one file"
   ]
  },
  {
   "cell_type": "code",
   "execution_count": 3,
   "id": "a050227f",
   "metadata": {},
   "outputs": [],
   "source": [
    "#samples for which I manually set a Scrublet threshold of 0.25\n",
    "redo_samples = c('R218','R221','R238','R275', 'R277',\n",
    "                 'R317', 'R319','R343','R349','R364')"
   ]
  },
  {
   "cell_type": "code",
   "execution_count": 6,
   "id": "62a6919c",
   "metadata": {
    "scrolled": true
   },
   "outputs": [
    {
     "name": "stdout",
     "output_type": "stream",
     "text": [
      "[1] \"R207\"             \"1662063138.78032\"\n",
      "[1] \"0.2557159026533267\"\n",
      "[1] \"R217\"             \"1662063138.81173\"\n",
      "[1] \"0.17592480680131617\"\n",
      "[1] \"R218\"             \"1662063138.86208\"\n",
      "[1] \"0.25\"\n",
      "[1] \"R221\"             \"1662063138.88525\"\n",
      "[1] \"0.25\"\n",
      "[1] \"R223\"             \"1662063138.91489\"\n",
      "[1] \"0.20057109796338418\"\n",
      "[1] \"R226\"             \"1662063138.95066\"\n",
      "[1] \"0.21798500551758931\"\n",
      "[1] \"R228\"             \"1662063138.98634\"\n",
      "[1] \"0.18229496603578663\"\n",
      "[1] \"R234\"             \"1662063139.05762\"\n",
      "[1] \"0.20616746937851066\"\n",
      "[1] \"R237\"             \"1662063139.10211\"\n",
      "[1] \"0.21591387236966297\"\n",
      "[1] \"R238\"             \"1662063139.15696\"\n",
      "[1] \"0.25\"\n",
      "[1] \"R246\"             \"1662063139.19769\"\n",
      "[1] \"0.21450430034488194\"\n",
      "[1] \"R247\"             \"1662063139.24848\"\n",
      "[1] \"0.206563350297425\"\n",
      "[1] \"R275\"             \"1662063139.33675\"\n",
      "[1] \"0.25\"\n",
      "[1] \"R277\"            \"1662063139.3739\"\n",
      "[1] \"0.25\"\n",
      "[1] \"R284\"             \"1662063139.41574\"\n",
      "[1] \"0.17801217813100262\"\n",
      "[1] \"R290\"             \"1662063139.46352\"\n",
      "[1] \"0.17703093285732843\"\n",
      "[1] \"R292\"             \"1662063139.51499\"\n",
      "[1] \"0.24735820062933223\"\n",
      "[1] \"R316\"             \"1662063139.59036\"\n",
      "[1] \"0.17039126969717594\"\n",
      "[1] \"R317\"             \"1662063139.64933\"\n",
      "[1] \"0.25\"\n",
      "[1] \"R319\"             \"1662063139.74982\"\n",
      "[1] \"0.25\"\n",
      "[1] \"R325\"           \"1662063139.835\"\n",
      "[1] \"0.20025657670066127\"\n",
      "[1] \"R326\"             \"1662063139.96878\"\n",
      "[1] \"0.17792640580413635\"\n",
      "[1] \"R327\"             \"1662063140.03047\"\n",
      "[1] \"0.26261129679479317\"\n",
      "[1] \"R332\"             \"1662063140.10426\"\n",
      "[1] \"0.17897881757117817\"\n",
      "[1] \"R343\"             \"1662063140.20516\"\n",
      "[1] \"0.25\"\n",
      "[1] \"R349\"             \"1662063140.25932\"\n",
      "[1] \"0.25\"\n",
      "[1] \"R353\"             \"1662063140.38611\"\n",
      "[1] \"0.19953090838268311\"\n",
      "[1] \"R354\"            \"1662063140.4369\"\n",
      "[1] \"0.2268391698711363\"\n",
      "[1] \"R362\"             \"1662063140.52182\"\n",
      "[1] \"0.27520463239107873\"\n",
      "[1] \"R363\"             \"1662063140.62373\"\n",
      "[1] \"0.16752320888746958\"\n",
      "[1] \"R364\"             \"1662063140.71958\"\n",
      "[1] \"0.25\"\n"
     ]
    }
   ],
   "source": [
    "fin_scrub_df = data.frame()\n",
    "\n",
    "for (sample in samples){\n",
    "    print(c(sample, Sys.time()))\n",
    "    #get the cutoff number\n",
    "    outdir = file.path(rds_indir, sample, 'matrix_market')\n",
    "    if (sample %in% redo_samples){\n",
    "        cutoff = '0.25'\n",
    "        print(cutoff)\n",
    "    } else {\n",
    "        files = list.files(outdir)\n",
    "        fp = files[grep('scrub',files)]\n",
    "        cutoff = substr(fp, unlist(gregexpr('cutoff',fp))+6, unlist(gregexpr('.txt',fp))-1)\n",
    "        print(cutoff)\n",
    "    }\n",
    "        \n",
    "    #read in scrublet file\n",
    "    scrub_fp = file.path(outdir,sprintf('scrublet_predicted_doublets_cutoff%s.txt',cutoff))\n",
    "    scrub_df = read.table(scrub_fp, sep='\\t', header=FALSE)\n",
    "    \n",
    "    #add on sample BC prefix\n",
    "    scrub_df$V1 = paste(sample, '_', scrub_df$V1, sep='')\n",
    "\n",
    "    #add to overall dataframe\n",
    "    fin_scrub_df = rbind(fin_scrub_df,scrub_df)\n",
    "}\n",
    "\n",
    "out_fp = file.path(outdir,'indiv_samples_combined.scrublet_predicted_doublets.txt')\n",
    "write.table(fin_scrub_df[,c(1,2,3)],out_fp, sep='\\t', row.names=FALSE, col.names=FALSE, quote=FALSE)"
   ]
  },
  {
   "cell_type": "code",
   "execution_count": null,
   "id": "043d9b2d",
   "metadata": {},
   "outputs": [],
   "source": []
  }
 ],
 "metadata": {
  "kernelspec": {
   "display_name": "R 4.1",
   "language": "R",
   "name": "ir411"
  },
  "language_info": {
   "codemirror_mode": "r",
   "file_extension": ".r",
   "mimetype": "text/x-r-source",
   "name": "R",
   "pygments_lexer": "r",
   "version": "4.1.1"
  }
 },
 "nbformat": 4,
 "nbformat_minor": 5
}
