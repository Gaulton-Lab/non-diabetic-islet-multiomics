{
 "cells": [
  {
   "cell_type": "markdown",
   "id": "a3773a27",
   "metadata": {},
   "source": [
    "#### Summary: \n",
    "In this notebook we will combine all links from the three methods into one bedpe output file per cell type and then perform basic comparisons between methods, and make some plots.\n",
    "\n",
    "Inputs:\n",
    "- SMORES outputs and reprocessed ABC and Cicero outputs (all bedpe files)"
   ]
  },
  {
   "cell_type": "markdown",
   "id": "440dc6af",
   "metadata": {},
   "source": [
    "# 1. Basic Preparation"
   ]
  },
  {
   "cell_type": "code",
   "execution_count": 1,
   "id": "91382e5a",
   "metadata": {},
   "outputs": [],
   "source": [
    "# Import necessary libraries\n",
    "suppressMessages(library(tidyverse))\n",
    "suppressMessages(library(stringr))\n",
    "suppressMessages(library(data.table))\n",
    "suppressMessages(library(grid))\n",
    "\n",
    "suppressMessages(library(tictoc))\n",
    "suppressMessages(library(UpSetR))\n",
    "suppressMessages(library(cicero))\n",
    "suppressMessages(library(pheatmap))\n",
    "suppressMessages(library(RColorBrewer))"
   ]
  },
  {
   "cell_type": "code",
   "execution_count": 2,
   "id": "34d2dabf",
   "metadata": {},
   "outputs": [],
   "source": [
    "# Define celltypes list\n",
    "celltypes <- c('beta','alpha','delta','gamma','ductal','acinar')\n",
    "\n",
    "# Define colors for each celltype (same order as celltypes)\n",
    "colors <- c('#3F98E0', '#F51646', '#E39E14', '#A1D99B', '#09850B', '#F5DE6C')"
   ]
  },
  {
   "cell_type": "code",
   "execution_count": 16,
   "id": "26e7d766-c47d-4934-9503-b1e986be60c3",
   "metadata": {
    "tags": []
   },
   "outputs": [],
   "source": [
    "method_colors <- c('#000000', #All 3 links (black)\n",
    "            '#99C899', #ABC + Cicero (green)\n",
    "            '#E8A082', #HM + Cicero (orange)\n",
    "            '#999BD1', #HM + ABC (purple)\n",
    "            '#E8CD4A', #Cicero (yellow)\n",
    "            '#4AC3E8', #ABC (blue)\n",
    "            '#E773B9') #HM (pink)\n",
    "\n",
    "link_methods <- c('hm_abc_cic','abc_cic','hm_cic','hm_abc','cic','abc','hm')\n",
    "names(method_colors) <- link_methods"
   ]
  },
  {
   "cell_type": "code",
   "execution_count": 3,
   "id": "5ad6ad3c",
   "metadata": {},
   "outputs": [],
   "source": [
    "set.seed(8)"
   ]
  },
  {
   "cell_type": "markdown",
   "id": "af6a1c20",
   "metadata": {},
   "source": [
    "### Define necessary reference files"
   ]
  },
  {
   "cell_type": "code",
   "execution_count": null,
   "id": "1d30c02d-1ce5-4b34-af36-4a16e3361b67",
   "metadata": {},
   "outputs": [],
   "source": [
    "# read in the gene coords ref file\n",
    "ref_df <- read.table('non-diabetic-islet-multiomics/references/gene_coords.gencodev32.hg38.bed', sep='\\t', header=FALSE) #read in gene coords ref\n",
    "promoter_df <- read.table('non-diabetic-islet-multiomics/references/gene_coords.gencodev32.hg38.TSS500bp.bed', sep='\\t', header=FALSE) #read in promoter ref"
   ]
  },
  {
   "cell_type": "markdown",
   "id": "b546682d",
   "metadata": {},
   "source": [
    "### Establish file naming practices for links files"
   ]
  },
  {
   "cell_type": "code",
   "execution_count": 5,
   "id": "e36bad61",
   "metadata": {},
   "outputs": [],
   "source": [
    "# SMORES links (CP cut) = hm_prefix2 + celltype + hm_suffix2\n",
    "hm_prefix <- '/dir/with/smores/CP/outputs/'\n",
    "hm_suffix1 <- '_sig_CP_links.bedpe'\n",
    "hm_suffix2 <- '_all_CP_links.bedpe'\n",
    "\n",
    "# Processed ABC links\n",
    "abc_indir <- '/dir/with/ABC/reprocessed/outputs'\n",
    "abc_outdir <- '/overall/dir/with/initial/ABC/outputs'\n",
    "\n",
    "# Processed Cicero links\n",
    "cic_indir <- '/dir/with/Cicero/reprocessed/outputs'"
   ]
  },
  {
   "cell_type": "code",
   "execution_count": 6,
   "id": "2200c829",
   "metadata": {},
   "outputs": [],
   "source": [
    "# ABC background files = abc_bg_dir + celltype + abc_bg_suffix\n",
    "abc_bg_dir <- '/dir/with/reprocesed/ABC/background/files'\n",
    "abc_bg_suffix <- '_nonsig_mapped_links.bedpe'\n",
    "\n",
    "# Cicero background files = cic_bg_dir + celltype + cic_bg_suffix\n",
    "cic_bg_dir <- '/dir/with/reprocessed/Cicero/background/files'\n",
    "cic_bg_suffix <- '_links.final_filt.bedpe'"
   ]
  },
  {
   "cell_type": "code",
   "execution_count": 10,
   "id": "ebf5e298",
   "metadata": {},
   "outputs": [],
   "source": [
    "overlap_dir <- '/dir/to/save/merged/links/outputs'\n",
    "overlap_suffix <- '_all_methods_links.wHeader.bedpe'"
   ]
  },
  {
   "cell_type": "markdown",
   "id": "9fd246eb-3913-4117-8dee-8e902fa9e87e",
   "metadata": {},
   "source": [
    "# 2. Make one summary bedpe file with all links per cell type\n",
    "Columns:\n",
    "- Left coords: cRE (coords from merged overlap, should be what we're already using)\n",
    "- Right coords: gene promoter (just 1bp window from ref_df (actual TSS)\n",
    "- Gene name\n",
    "- Method scores (SMORES, ABC, Cicero), NA if not found by method\n",
    "- Found methods (string of all link methods which found this link)"
   ]
  },
  {
   "cell_type": "code",
   "execution_count": 137,
   "id": "d6f97d35",
   "metadata": {},
   "outputs": [],
   "source": [
    "### Function to process links into a common format list\n",
    "get_formatted_links <- function(row){\n",
    "    cre = paste(row[[1]],row[[2]],row[[3]],sep='-')\n",
    "    gene = row[[7]]\n",
    "    return(paste(cre,gene,sep=\"_\"))\n",
    "}"
   ]
  },
  {
   "cell_type": "code",
   "execution_count": 138,
   "id": "0a11ed8d",
   "metadata": {},
   "outputs": [],
   "source": [
    "### Function to pull the necessary sig link score for a cRE-gene pair in a links df\n",
    "get_link_score <- function(row, method_col, link_df){\n",
    "    # Pull out relevant info for the link method of choice\n",
    "    link <- paste(paste(row[[1]],row[[2]],row[[3]],sep='-'),row[[7]],sep='_')\n",
    "\n",
    "    # Check if the link is found in the method of interest\n",
    "    found <- ifelse(row[[method_col]] == 1, TRUE, FALSE)\n",
    "    if (found == TRUE){\n",
    "        # Get link score (if more than one link due to mapping overlap, take top score)\n",
    "        if(dim(link_df[link_df$links==link,])[1] > 1){\n",
    "            score <- max(link_df[link_df$links==link,]$V8)\n",
    "        } else {\n",
    "            score <- link_df[link_df$links==link,]$V8\n",
    "        }\n",
    "    } else {\n",
    "        score <- NA\n",
    "    }\n",
    "    return(score)\n",
    "}"
   ]
  },
  {
   "cell_type": "code",
   "execution_count": 139,
   "id": "1ae55953",
   "metadata": {},
   "outputs": [],
   "source": [
    "### Function to compare the celltype links from 3 methods using Upset (returns upset object for further work)\n",
    "### Also writes outputs to files (using _ not - or & to separate link method names!!!)\n",
    "\n",
    "### New method that makes combined bedpe for all sig links per cell type (with info on which methods they were called in)\n",
    "compare_links_write_bedpe <- function(celltype, tss_df, overlap_outdir){\n",
    "    # Set up file paths for each links set\n",
    "    hm_fp <- paste0(hm_prefix, celltype, hm_suffix1)\n",
    "    abc_fp <- file.path(abc_indir, sprintf('%s_mapped_links.bedpe',celltype))\n",
    "    cic_fp <- file.path(cic_indir, sprintf('%s_links.CP_reformat.bedpe',celltype))\n",
    "    \n",
    "    # Read in links and convert to basic format (add links info back to dfs for use later)\n",
    "    hm_df <- read.table(hm_fp, sep='\\t')\n",
    "    hm_links <- gsub(\" \",\"\",apply(hm_df, 1, get_formatted_links))\n",
    "    hm_df$links <- hm_links\n",
    "    print(paste0('Total number of HM links: ', length(hm_links)))\n",
    "    abc_df <- read.table(abc_fp, sep='\\t')\n",
    "    abc_links <- gsub(\" \",\"\",apply(abc_df, 1, get_formatted_links))\n",
    "    abc_df$links <- abc_links\n",
    "    print(paste0('Total number of ABC links: ', length(abc_links)))\n",
    "    cic_df <- read.table(cic_fp, sep='\\t')\n",
    "    cic_links <- gsub(\" \",\"\",apply(cic_df, 1, get_formatted_links))\n",
    "    cic_df$links <- cic_links\n",
    "    print(paste0('Total number of Cicero links: ', length(cic_links)))\n",
    "    \n",
    "    # Make Upset plot object\n",
    "    listInput <- list(hm = hm_links, abc = abc_links, cic=cic_links)\n",
    "    p1 <- upset(fromList(listInput), order.by = \"degree\", sets.x.label=\"Links datasets\",\n",
    "                text.scale=c(1.5,1.5,1.5,1.5,2,2), point.size=5, line.size=2) #, main.bar.color=colors) \n",
    "    \n",
    "    # Pull out links overlap table (which sets each link appears in)\n",
    "    overlaps <- p1$New_data\n",
    "    all_links <- unlist(listInput, use.names=FALSE)\n",
    "    all_links <- all_links[!duplicated(all_links)]\n",
    "    row.names(overlaps) <- all_links\n",
    "    \n",
    "    # Get cRE coords into columns\n",
    "    all_links_coords <- str_split_fixed(all_links,'_',2)[,1]\n",
    "    coords <- str_split_fixed(all_links_coords, '-', 3)\n",
    "    colnames(coords) <- c('chr','start','end')\n",
    "    overlaps_fin <- cbind(coords, overlaps)\n",
    "\n",
    "    # Get gene coords from the TSS df\n",
    "    overlaps_fin$gene <- str_split_fixed(row.names(overlaps_fin),'_',2)[,2]\n",
    "    bedpe <- cbind(overlaps_fin[,c(1,2,3)], tss_df[overlaps_fin$gene,], overlaps_fin[,c(7,4,5,6)])\n",
    "    \n",
    "    # Extract link scores from each method (takes about 10mins)\n",
    "    bedpe$hm_score <- unlist(apply(bedpe, 1, get_link_score, 8, hm_df))\n",
    "    bedpe$abc_score <- unlist(apply(bedpe, 1, get_link_score, 9, abc_df))\n",
    "    bedpe$cic_score <- unlist(apply(bedpe, 1, get_link_score, 10, cic_df))\n",
    "    \n",
    "    # Create a max score column (for genome browser don't want any NAs in score col)\n",
    "    scores <- bedpe[,c(11,12,13)]\n",
    "    bedpe$max_score <- unlist(apply(scores, 1, max, na.rm=T))\n",
    "\n",
    "    # Add column with string of which method/s called the link\n",
    "    methods <- c('hm_abc_cic','hm_abc','hm_cic','abc_cic','hm','abc','cic')\n",
    "    names(methods) <- c('111','110','101','011','100','010','001')\n",
    "    methods_bin <- paste0(as.character(bedpe$hm),as.character(bedpe$abc),as.character(bedpe$cic))\n",
    "    bedpe$method_str <- methods[methods_bin]\n",
    "\n",
    "    #rm binary columns and put max score before the other scores\n",
    "    bedpe_fin <- bedpe[,c(1,2,3,4,5,6,7,14,11,12,13,15)] \n",
    "\n",
    "    #write to a file\n",
    "    fp1 <- file.path(overlap_dir,sprintf('%s_all_methods_links.bedpe',celltype))\n",
    "    write.table(bedpe_fin,fp1,sep='\\t',row.names=F,col.names=F,quote=F)\n",
    "\n",
    "    #also write version with header\n",
    "    fp2 <- gsub('links.bedpe','links.wHeader.bedpe',fp1)\n",
    "    write.table(bedpe_fin,fp2,sep='\\t',row.names=F,col.names=T,quote=F)\n",
    "}"
   ]
  },
  {
   "cell_type": "code",
   "execution_count": 140,
   "id": "b16ab1b8",
   "metadata": {},
   "outputs": [
    {
     "data": {
      "text/html": [
       "<table class=\"dataframe\">\n",
       "<caption>A data.frame: 6 × 3</caption>\n",
       "<thead>\n",
       "\t<tr><th></th><th scope=col>chr2</th><th scope=col>start2</th><th scope=col>end2</th></tr>\n",
       "\t<tr><th></th><th scope=col>&lt;chr&gt;</th><th scope=col>&lt;chr&gt;</th><th scope=col>&lt;chr&gt;</th></tr>\n",
       "</thead>\n",
       "<tbody>\n",
       "\t<tr><th scope=row>MIR1302-2HG</th><td>chr1</td><td>29554 </td><td>29555 </td></tr>\n",
       "\t<tr><th scope=row>FAM138A</th><td>chr1</td><td>36081 </td><td>36082 </td></tr>\n",
       "\t<tr><th scope=row>OR4F5</th><td>chr1</td><td>65419 </td><td>65420 </td></tr>\n",
       "\t<tr><th scope=row>AL627309.1</th><td>chr1</td><td>133723</td><td>133724</td></tr>\n",
       "\t<tr><th scope=row>AL627309.3</th><td>chr1</td><td>91105 </td><td>91106 </td></tr>\n",
       "\t<tr><th scope=row>AL627309.2</th><td>chr1</td><td>140339</td><td>140340</td></tr>\n",
       "</tbody>\n",
       "</table>\n"
      ],
      "text/latex": [
       "A data.frame: 6 × 3\n",
       "\\begin{tabular}{r|lll}\n",
       "  & chr2 & start2 & end2\\\\\n",
       "  & <chr> & <chr> & <chr>\\\\\n",
       "\\hline\n",
       "\tMIR1302-2HG & chr1 & 29554  & 29555 \\\\\n",
       "\tFAM138A & chr1 & 36081  & 36082 \\\\\n",
       "\tOR4F5 & chr1 & 65419  & 65420 \\\\\n",
       "\tAL627309.1 & chr1 & 133723 & 133724\\\\\n",
       "\tAL627309.3 & chr1 & 91105  & 91106 \\\\\n",
       "\tAL627309.2 & chr1 & 140339 & 140340\\\\\n",
       "\\end{tabular}\n"
      ],
      "text/markdown": [
       "\n",
       "A data.frame: 6 × 3\n",
       "\n",
       "| <!--/--> | chr2 &lt;chr&gt; | start2 &lt;chr&gt; | end2 &lt;chr&gt; |\n",
       "|---|---|---|---|\n",
       "| MIR1302-2HG | chr1 | 29554  | 29555  |\n",
       "| FAM138A | chr1 | 36081  | 36082  |\n",
       "| OR4F5 | chr1 | 65419  | 65420  |\n",
       "| AL627309.1 | chr1 | 133723 | 133724 |\n",
       "| AL627309.3 | chr1 | 91105  | 91106  |\n",
       "| AL627309.2 | chr1 | 140339 | 140340 |\n",
       "\n"
      ],
      "text/plain": [
       "            chr2 start2 end2  \n",
       "MIR1302-2HG chr1 29554  29555 \n",
       "FAM138A     chr1 36081  36082 \n",
       "OR4F5       chr1 65419  65420 \n",
       "AL627309.1  chr1 133723 133724\n",
       "AL627309.3  chr1 91105  91106 \n",
       "AL627309.2  chr1 140339 140340"
      ]
     },
     "metadata": {},
     "output_type": "display_data"
    }
   ],
   "source": [
    "# Build gene TSS coords reference -- should be +249 and +250 (to get 0-indexed, what the epigenome browser does) \n",
    "promoter_df$tss <- paste(promoter_df$V1, promoter_df$V2 + 250, promoter_df$V2 + 251, sep='-')\n",
    "tss_df <- as.data.frame(str_split_fixed(promoter_df$tss, '-', 3))\n",
    "colnames(tss_df) <- c('chr2','start2','end2')\n",
    "row.names(tss_df) <- promoter_df$V4\n",
    "head(tss_df)"
   ]
  },
  {
   "cell_type": "code",
   "execution_count": 141,
   "id": "fcd96bb0",
   "metadata": {},
   "outputs": [],
   "source": [
    "for (celltype in celltypes){\n",
    "    tic()\n",
    "    compare_links_write_bedpe(celltype, tss_df, overlap_outdir2)\n",
    "    toc()\n",
    "}"
   ]
  },
  {
   "cell_type": "markdown",
   "id": "6362e187-ec04-4b6f-9d44-40f40015a504",
   "metadata": {},
   "source": [
    "# 3. Make an overall summary barplot (all cell types)"
   ]
  },
  {
   "cell_type": "code",
   "execution_count": 13,
   "id": "91577899-1da7-45d0-a8ea-919f12a2b1f1",
   "metadata": {
    "tags": []
   },
   "outputs": [],
   "source": [
    "# Read in all cell type plots and summarize number of links for each type of overlap\n",
    "link_distribs <- list()\n",
    "for (celltype in celltypes){\n",
    "    fp <- paste0(overlap_dir,'/',celltype,overlap_suffix)\n",
    "    df <- read.table(fp, sep='\\t', header=1)\n",
    "    link_distribs[[celltype]] <- table(df$method_str)\n",
    "}"
   ]
  },
  {
   "cell_type": "code",
   "execution_count": 14,
   "id": "e5ca3574-8045-4871-a5d2-8275e85362dd",
   "metadata": {
    "tags": []
   },
   "outputs": [],
   "source": [
    "data <- as_tibble(link_distribs) %>% mutate(set=names(link_distribs[[1]])) %>%\n",
    "            pivot_longer(cols=!set, names_to=\"celltype\", values_to=\"links\") %>%\n",
    "            mutate(links2=as.integer(links))"
   ]
  },
  {
   "cell_type": "code",
   "execution_count": 17,
   "id": "257e7c1e-c686-48e8-8f4c-35f11d3a6bfc",
   "metadata": {},
   "outputs": [],
   "source": [
    "#map link sets to names for output\n",
    "link_methods2 <- c('hm_abc_cic','hm_abc','hm_cic','abc_cic','hm','abc','cic')\n",
    "id_map <- c('SMORES-ABC-Cicero', 'SMORES-ABC', 'SMORES-Cicero', 'ABC-Cicero', 'SMORES only', 'ABC only', 'Cicero only')\n",
    "names(id_map) <- link_methods2\n",
    "data$set2 <- plyr::mapvalues(x=data$set, from=names(id_map), to=id_map)\n",
    "#head(data)\n",
    "\n",
    "#also make alt color vector\n",
    "method_colors2 <- copy(method_colors)\n",
    "names(method_colors2) <- id_map"
   ]
  },
  {
   "cell_type": "code",
   "execution_count": 18,
   "id": "d3db0fb4-d6ba-44de-bc46-a93c15d17236",
   "metadata": {
    "tags": []
   },
   "outputs": [
    {
     "name": "stderr",
     "output_type": "stream",
     "text": [
      "Warning message:\n",
      "\"\u001b[1m\u001b[22mThe `size` argument of `element_rect()` is deprecated as of ggplot2 3.4.0.\n",
      "\u001b[36mℹ\u001b[39m Please use the `linewidth` argument instead.\"\n",
      "Warning message:\n",
      "\"\u001b[1m\u001b[22mThe `size` argument of `element_line()` is deprecated as of ggplot2 3.4.0.\n",
      "\u001b[36mℹ\u001b[39m Please use the `linewidth` argument instead.\"\n"
     ]
    },
    {
     "data": {
      "image/png": "[encoded data removed]",
      "text/plain": [
       "plot without title"
      ]
     },
     "metadata": {
      "image/png": {
       "height": 360,
       "width": 540
      }
     },
     "output_type": "display_data"
    }
   ],
   "source": [
    "options(repr.plot.width=9, repr.plot.height=6)\n",
    "theme_set(theme_classic())\n",
    "p1 <- ggplot(data, aes(fill=set2, y=links2, x=celltype)) + \n",
    "        geom_bar(position='stack', stat='identity') +\n",
    "        scale_fill_manual(values=method_colors2) + labs(fill='Link method') + \n",
    "        ylab('Number of cRE-gene Links') + xlab('Cell types') + \n",
    "        theme(axis.title=element_text(size=20),\n",
    "              axis.text.y=element_text(size=15),\n",
    "              axis.text.x=element_text(size=15, angle=30, vjust=0.5),\n",
    "              legend.title=element_text(size=15),\n",
    "              legend.text=element_text(size=15),\n",
    "              panel.grid.major.y=element_line(color='grey', size=0.5, linetype=2),\n",
    "              panel.border=element_rect(color='black',fill=NA, size=1))\n",
    "p1$data$celltype <- factor(x = p1$data$celltype, levels = celltypes)\n",
    "p1$data$set2 <- factor(x=p1$data$set2, levels=id_map)\n",
    "p1"
   ]
  },
  {
   "cell_type": "markdown",
   "id": "a6c1c231",
   "metadata": {},
   "source": [
    "# 4. Compare Methods Distribution of Distances"
   ]
  },
  {
   "cell_type": "code",
   "execution_count": 19,
   "id": "54695198-be4f-4491-bbbf-6328497cb6d7",
   "metadata": {
    "tags": []
   },
   "outputs": [],
   "source": [
    "### Function to calculate link distances from a bedpe style dataframe row\n",
    "calc_link_distance <- function(link_df_row){\n",
    "    CRE_start <- as.integer(link_df_row[2])\n",
    "    CRE_end <- as.integer(link_df_row[3])\n",
    "    gene_start <- as.integer(link_df_row[5])\n",
    "    CRE_center <- CRE_start + (CRE_end - CRE_start)/2\n",
    "    distance <- abs(CRE_center - gene_start)\n",
    "    return(distance)\n",
    "}"
   ]
  },
  {
   "cell_type": "code",
   "execution_count": 21,
   "id": "9690306c-25aa-415b-b824-a07b48a66d19",
   "metadata": {
    "tags": []
   },
   "outputs": [
    {
     "name": "stderr",
     "output_type": "stream",
     "text": [
      "The following `from` values were not present in `x`: hm, cic\n",
      "\n",
      "The following `from` values were not present in `x`: hm, abc\n",
      "\n",
      "The following `from` values were not present in `x`: abc, cic\n",
      "\n"
     ]
    }
   ],
   "source": [
    "### One cell type example\n",
    "celltype <- 'beta'\n",
    "\n",
    "#read in links\n",
    "fp <- paste0(overlap_dir,'/',celltype,overlap_suffix)\n",
    "df <- read.table(fp, sep='\\t', header=1)\n",
    "\n",
    "# Get link distances for each method\n",
    "distances1 <- unlist(apply(subset(df, !is.na(hm_score)), 1, calc_link_distance))\n",
    "distances2 <- unlist(apply(subset(df, !is.na(abc_score)), 1, calc_link_distance))\n",
    "distances3 <- unlist(apply(subset(df, !is.na(cic_score)), 1, calc_link_distance))\n",
    "\n",
    "# Make ggplot2 formatted dataframe\n",
    "data <- data.frame(distance = c(distances1, distances2, distances3),\n",
    "                   method = c(rep('hm', dim(subset(df, !is.na(hm_score)))[1]), rep('abc', dim(subset(df, !is.na(abc_score)))[1]), rep('cic', dim(subset(df, !is.na(cic_score)))[1])))\n",
    "distance_cap <- 750000\n",
    "data$distance[data$distance>distance_cap] <- distance_cap\n",
    "#head(data)\n",
    "\n",
    "#make per bin summary dataframe\n",
    "distance_bins <- c('250000-1000000', '100000-250000', '50000-100000', '10000-50000', '0-10000')\n",
    "meta <- data %>% group_by(method) %>% \n",
    "        mutate(bin1=sum(distance<10000), bin2=sum(distance>=10000 & distance<50000),\n",
    "               bin3=sum(distance>=50000 & distance<100000),bin4=sum(distance>=100000 & distance<250000),\n",
    "               bin5=sum(distance>=250000)) %>% \n",
    "        select(-distance) %>%\n",
    "        distinct(method, .keep_all=TRUE) %>% pivot_longer(!method, names_to='distance_bin', values_to='count') %>%\n",
    "        mutate(distance_bin2=plyr::mapvalues(distance_bin, from=c('bin1','bin2','bin3','bin4','bin5'),to=rev(distance_bins))) %>%\n",
    "        mutate(Method=plyr::mapvalues(method, from=c('hm','abc','cic'), to=c('SMORES','ABC','Cicero')))\n",
    "#head(meta)"
   ]
  },
  {
   "cell_type": "code",
   "execution_count": 22,
   "id": "308a7f78-c730-4f08-9c99-d09030565ec8",
   "metadata": {},
   "outputs": [],
   "source": [
    "method_colors3 <- c('SMORES'='#E773B9','ABC'='#4AC3E8','Cicero'='#E8CD4A')"
   ]
  },
  {
   "cell_type": "code",
   "execution_count": 23,
   "id": "ad5afe20-4313-4bb5-9581-a149a0fffa24",
   "metadata": {},
   "outputs": [
    {
     "data": {
      "image/png": "[encoded data removed]",
      "text/plain": [
       "plot without title"
      ]
     },
     "metadata": {
      "image/png": {
       "height": 300,
       "width": 480
      }
     },
     "output_type": "display_data"
    }
   ],
   "source": [
    "options(repr.plot.width=8, repr.plot.height=5)\n",
    "theme_set(theme_classic())\n",
    "\n",
    "p1 <- ggplot(meta, aes(x=distance_bin2, y=count, fill=Method)) + \n",
    "        geom_bar(stat='identity', position=position_dodge(0.7), width=0.7) + \n",
    "        scale_fill_manual(values=method_colors3) + \n",
    "        ylab('Count') + xlab('Links distance') + labs(fill='Link method') + \n",
    "        theme(title=element_blank(),\n",
    "              axis.title=element_text(size=18),\n",
    "              axis.text.x=element_text(size=15, angle=30, vjust=0.5),axis.text.y=element_text(size=15),\n",
    "              legend.title=element_text(size=15),\n",
    "              legend.text=element_text(size=15),\n",
    "              panel.grid.major.y=element_line(color='grey', size=0.5, linetype=2),\n",
    "              panel.border=element_rect(color='black',fill=NA, size=1))\n",
    "p1"
   ]
  },
  {
   "cell_type": "markdown",
   "id": "8946bdc3-ddf6-4fab-802c-6f4fb26606c6",
   "metadata": {},
   "source": [
    "# 5. Compare the number of genes with different numbers of links by methods"
   ]
  },
  {
   "cell_type": "code",
   "execution_count": 24,
   "id": "37466ab1-0ac4-49d4-a619-f7e8ad7d1ed1",
   "metadata": {
    "tags": []
   },
   "outputs": [],
   "source": [
    "### Function to summarize number of links per gene for a link method\n",
    "summarize_links_per_gene <- function(links_df, method_col, cap=20){\n",
    "    links_per_gene <- links_df %>% subset(!is.na(df[,method_col])) %>% mutate(cre=paste(chr,start,end,sep='-')) %>%\n",
    "                        group_by(gene) %>% mutate(links_per_gene=length(unique(cre))) %>% select(gene,links_per_gene) %>% \n",
    "                        distinct(gene, .keep_all=T) %>% pull(links_per_gene)\n",
    "    link_data <- data.frame(links_per_gene=links_per_gene, method=gsub('_score','',method_col))\n",
    "    link_data$links_per_gene_cap <- ifelse(link_data$links_per_gene > cap, cap, link_data$links_per_gene)\n",
    "    return(link_data)\n",
    "}"
   ]
  },
  {
   "cell_type": "code",
   "execution_count": 26,
   "id": "bcfe5a61-f4a1-4ed8-b3c2-f41ba36b5f75",
   "metadata": {
    "tags": []
   },
   "outputs": [
    {
     "data": {
      "text/html": [
       "<style>\n",
       ".list-inline {list-style: none; margin:0; padding: 0}\n",
       ".list-inline>li {display: inline-block}\n",
       ".list-inline>li:not(:last-child)::after {content: \"\\00b7\"; padding: 0 .5ex}\n",
       "</style>\n",
       "<ol class=list-inline><li>39847</li><li>3</li></ol>\n"
      ],
      "text/latex": [
       "\\begin{enumerate*}\n",
       "\\item 39847\n",
       "\\item 3\n",
       "\\end{enumerate*}\n"
      ],
      "text/markdown": [
       "1. 39847\n",
       "2. 3\n",
       "\n",
       "\n"
      ],
      "text/plain": [
       "[1] 39847     3"
      ]
     },
     "metadata": {},
     "output_type": "display_data"
    },
    {
     "name": "stderr",
     "output_type": "stream",
     "text": [
      "The following `from` values were not present in `x`: hm, cic\n",
      "\n",
      "The following `from` values were not present in `x`: hm, abc\n",
      "\n",
      "The following `from` values were not present in `x`: abc, cic\n",
      "\n"
     ]
    },
    {
     "data": {
      "text/html": [
       "<table class=\"dataframe\">\n",
       "<caption>A grouped_df: 6 × 5</caption>\n",
       "<thead>\n",
       "\t<tr><th scope=col>method</th><th scope=col>num_targets</th><th scope=col>count</th><th scope=col>targets</th><th scope=col>Method</th></tr>\n",
       "\t<tr><th scope=col>&lt;chr&gt;</th><th scope=col>&lt;chr&gt;</th><th scope=col>&lt;int&gt;</th><th scope=col>&lt;chr&gt;</th><th scope=col>&lt;chr&gt;</th></tr>\n",
       "</thead>\n",
       "<tbody>\n",
       "\t<tr><td>hm </td><td>bin0_5  </td><td>10167</td><td>0-5  </td><td>SMORES</td></tr>\n",
       "\t<tr><td>hm </td><td>bin5_10 </td><td> 2853</td><td>5-10 </td><td>SMORES</td></tr>\n",
       "\t<tr><td>hm </td><td>bin10_15</td><td> 1223</td><td>10-15</td><td>SMORES</td></tr>\n",
       "\t<tr><td>hm </td><td>bin15_20</td><td>  743</td><td>15-20</td><td>SMORES</td></tr>\n",
       "\t<tr><td>hm </td><td>bin20   </td><td> 1495</td><td>20+  </td><td>SMORES</td></tr>\n",
       "\t<tr><td>abc</td><td>bin0_5  </td><td>14084</td><td>0-5  </td><td>ABC   </td></tr>\n",
       "</tbody>\n",
       "</table>\n"
      ],
      "text/latex": [
       "A grouped\\_df: 6 × 5\n",
       "\\begin{tabular}{lllll}\n",
       " method & num\\_targets & count & targets & Method\\\\\n",
       " <chr> & <chr> & <int> & <chr> & <chr>\\\\\n",
       "\\hline\n",
       "\t hm  & bin0\\_5   & 10167 & 0-5   & SMORES\\\\\n",
       "\t hm  & bin5\\_10  &  2853 & 5-10  & SMORES\\\\\n",
       "\t hm  & bin10\\_15 &  1223 & 10-15 & SMORES\\\\\n",
       "\t hm  & bin15\\_20 &   743 & 15-20 & SMORES\\\\\n",
       "\t hm  & bin20    &  1495 & 20+   & SMORES\\\\\n",
       "\t abc & bin0\\_5   & 14084 & 0-5   & ABC   \\\\\n",
       "\\end{tabular}\n"
      ],
      "text/markdown": [
       "\n",
       "A grouped_df: 6 × 5\n",
       "\n",
       "| method &lt;chr&gt; | num_targets &lt;chr&gt; | count &lt;int&gt; | targets &lt;chr&gt; | Method &lt;chr&gt; |\n",
       "|---|---|---|---|---|\n",
       "| hm  | bin0_5   | 10167 | 0-5   | SMORES |\n",
       "| hm  | bin5_10  |  2853 | 5-10  | SMORES |\n",
       "| hm  | bin10_15 |  1223 | 10-15 | SMORES |\n",
       "| hm  | bin15_20 |   743 | 15-20 | SMORES |\n",
       "| hm  | bin20    |  1495 | 20+   | SMORES |\n",
       "| abc | bin0_5   | 14084 | 0-5   | ABC    |\n",
       "\n"
      ],
      "text/plain": [
       "  method num_targets count targets Method\n",
       "1 hm     bin0_5      10167 0-5     SMORES\n",
       "2 hm     bin5_10      2853 5-10    SMORES\n",
       "3 hm     bin10_15     1223 10-15   SMORES\n",
       "4 hm     bin15_20      743 15-20   SMORES\n",
       "5 hm     bin20        1495 20+     SMORES\n",
       "6 abc    bin0_5      14084 0-5     ABC   "
      ]
     },
     "metadata": {},
     "output_type": "display_data"
    }
   ],
   "source": [
    "#one cell type example\n",
    "celltype <- 'beta'\n",
    "fp <- paste0(overlap_dir,'/',celltype,overlap_suffix)\n",
    "df <- read.table(fp, sep='\\t', header=1)\n",
    "\n",
    "#get # links per gene by method\n",
    "summaries <- list()\n",
    "for(method_col in c('hm_score','abc_score','cic_score')){\n",
    "    summaries[[method_col]] <- summarize_links_per_gene(df, method_col, 20)\n",
    "}\n",
    "\n",
    "data <- rbindlist(summaries)\n",
    "dim(data)\n",
    "\n",
    "#make per bin summary dataframe\n",
    "bins <- c(0,5,10,15,20)\n",
    "meta <- data %>% group_by(method) %>% \n",
    "        mutate(bin0_5=sum(links_per_gene_cap<5), bin5_10=sum(links_per_gene_cap>=5 & links_per_gene_cap<10),\n",
    "               bin10_15=sum(links_per_gene_cap>=10 & links_per_gene_cap<15),bin15_20=sum(links_per_gene_cap>=15 & links_per_gene_cap<20),\n",
    "               bin20=sum(links_per_gene_cap>=20)) %>% \n",
    "        select(-links_per_gene,-links_per_gene_cap) %>%\n",
    "        distinct(method, .keep_all=TRUE) %>% pivot_longer(!method, names_to='num_targets', values_to='count') %>%\n",
    "        mutate(targets=plyr::mapvalues(num_targets, from=c('bin0_5','bin5_10','bin10_15','bin15_20','bin20'),to=c('0-5','5-10','10-15','15-20','20+'))) %>%\n",
    "        mutate(Method=plyr::mapvalues(method, from=c('hm','abc','cic'), to=c('SMORES','ABC','Cicero')))\n",
    "head(meta)"
   ]
  },
  {
   "cell_type": "code",
   "execution_count": 27,
   "id": "45ec05ad-efbd-4836-8e6a-ce3e6f741310",
   "metadata": {},
   "outputs": [
    {
     "data": {
      "text/html": [
       "<strong>null device:</strong> 1"
      ],
      "text/latex": [
       "\\textbf{null device:} 1"
      ],
      "text/markdown": [
       "**null device:** 1"
      ],
      "text/plain": [
       "null device \n",
       "          1 "
      ]
     },
     "metadata": {},
     "output_type": "display_data"
    },
    {
     "data": {
      "image/png": "[encoded data removed]",
      "text/plain": [
       "plot without title"
      ]
     },
     "metadata": {
      "image/png": {
       "height": 240,
       "width": 480
      }
     },
     "output_type": "display_data"
    }
   ],
   "source": [
    "options(repr.plot.width=8, repr.plot.height=4)\n",
    "theme_set(theme_classic())\n",
    "\n",
    "p1 <- ggplot(meta, aes(x=targets, y=count, fill=Method)) + \n",
    "        geom_bar(stat='identity', position=position_dodge(0.7), width=0.7) + \n",
    "        scale_fill_manual(values=method_colors3) + labs(title=celltype, fill='Link method') + \n",
    "        ylab('Count') + xlab('Links per gene') + \n",
    "        theme(title=element_blank(),\n",
    "              axis.title=element_text(size=18),\n",
    "              axis.text=element_text(size=15),\n",
    "              legend.title=element_text(size=15),\n",
    "              legend.text=element_text(size=15),\n",
    "              panel.grid.major.y=element_line(color='grey', size=0.5, linetype=2),\n",
    "              panel.border=element_rect(color='black',fill=NA, size=1))\n",
    "print(p1)\n",
    "dev.off()"
   ]
  },
  {
   "cell_type": "code",
   "execution_count": 2,
   "id": "9867e433-fea9-443f-aed1-121240520f28",
   "metadata": {},
   "outputs": [
    {
     "data": {
      "text/plain": [
       "R version 4.1.1 (2021-08-10)\n",
       "Platform: x86_64-pc-linux-gnu (64-bit)\n",
       "Running under: Ubuntu 20.04.2 LTS\n",
       "\n",
       "Matrix products: default\n",
       "BLAS:   /usr/lib/x86_64-linux-gnu/blas/libblas.so.3.9.0\n",
       "LAPACK: /usr/lib/x86_64-linux-gnu/lapack/liblapack.so.3.9.0\n",
       "\n",
       "locale:\n",
       " [1] LC_CTYPE=en_US.UTF-8       LC_NUMERIC=C              \n",
       " [3] LC_TIME=en_US.UTF-8        LC_COLLATE=en_US.UTF-8    \n",
       " [5] LC_MONETARY=en_US.UTF-8    LC_MESSAGES=en_US.UTF-8   \n",
       " [7] LC_PAPER=en_US.UTF-8       LC_NAME=C                 \n",
       " [9] LC_ADDRESS=C               LC_TELEPHONE=C            \n",
       "[11] LC_MEASUREMENT=en_US.UTF-8 LC_IDENTIFICATION=C       \n",
       "\n",
       "attached base packages:\n",
       " [1] splines   stats4    grid      stats     graphics  grDevices utils    \n",
       " [8] datasets  methods   base     \n",
       "\n",
       "other attached packages:\n",
       " [1] RColorBrewer_1.1-3   pheatmap_1.0.12      cicero_1.12.0       \n",
       " [4] Gviz_1.38.4          GenomicRanges_1.46.1 GenomeInfoDb_1.30.1 \n",
       " [7] IRanges_2.28.0       S4Vectors_0.32.4     monocle_2.22.0      \n",
       "[10] DDRTree_0.1.5        irlba_2.3.5.1        VGAM_1.1-7          \n",
       "[13] Biobase_2.54.0       BiocGenerics_0.40.0  Matrix_1.5-1        \n",
       "[16] UpSetR_1.4.0         tictoc_1.1           data.table_1.14.8   \n",
       "[19] forcats_0.5.2        stringr_1.4.1        dplyr_1.0.10        \n",
       "[22] purrr_0.3.5          readr_2.1.1          tidyr_1.2.1         \n",
       "[25] tibble_3.1.8         ggplot2_3.4.4        tidyverse_1.3.2     \n",
       "\n",
       "loaded via a namespace (and not attached):\n",
       "  [1] readxl_1.4.1                uuid_1.1-0                 \n",
       "  [3] backports_1.4.1             Hmisc_4.7-2                \n",
       "  [5] BiocFileCache_2.2.0         plyr_1.8.9                 \n",
       "  [7] igraph_1.3.5                lazyeval_0.2.2             \n",
       "  [9] repr_1.1.4                  BiocParallel_1.28.3        \n",
       " [11] densityClust_0.3.2          fastICA_1.2-3              \n",
       " [13] digest_0.6.36               ensembldb_2.18.2           \n",
       " [15] htmltools_0.5.8.1           viridis_0.6.2              \n",
       " [17] fansi_1.0.6                 checkmate_2.1.0            \n",
       " [19] magrittr_2.0.3              memoise_2.0.1              \n",
       " [21] BSgenome_1.62.0             googlesheets4_1.0.1        \n",
       " [23] cluster_2.1.4               tzdb_0.3.0                 \n",
       " [25] limma_3.50.3                Biostrings_2.62.0          \n",
       " [27] modelr_0.1.10               matrixStats_1.3.0          \n",
       " [29] docopt_0.7.1                timechange_0.1.1           \n",
       " [31] prettyunits_1.2.0           jpeg_0.1-10                \n",
       " [33] colorspace_2.1-1            rappdirs_0.3.3             \n",
       " [35] blob_1.2.3                  rvest_1.0.3                \n",
       " [37] ggrepel_0.9.4               xfun_0.46                  \n",
       " [39] haven_2.5.1                 sparsesvd_0.2-1            \n",
       " [41] crayon_1.5.3                RCurl_1.98-1.13            \n",
       " [43] jsonlite_1.8.8              VariantAnnotation_1.40.0   \n",
       " [45] survival_3.4-0              glue_1.7.0                 \n",
       " [47] gtable_0.3.1                gargle_1.2.1               \n",
       " [49] zlibbioc_1.40.0             XVector_0.34.0             \n",
       " [51] DelayedArray_0.20.0         scales_1.2.1               \n",
       " [53] DBI_1.1.3                   Rcpp_1.0.13                \n",
       " [55] htmlTable_2.4.1             viridisLite_0.4.2          \n",
       " [57] progress_1.2.2              foreign_0.8-84             \n",
       " [59] bit_4.0.5                   Formula_1.2-4              \n",
       " [61] htmlwidgets_1.5.4           httr_1.4.4                 \n",
       " [63] FNN_1.1.4                   ellipsis_0.3.2             \n",
       " [65] pkgconfig_2.0.3             XML_3.99-0.16              \n",
       " [67] nnet_7.3-18                 deldir_2.0-4               \n",
       " [69] dbplyr_2.2.1                utf8_1.2.4                 \n",
       " [71] tidyselect_1.2.0            rlang_1.1.4                \n",
       " [73] reshape2_1.4.4              AnnotationDbi_1.56.2       \n",
       " [75] munsell_0.5.1               cellranger_1.1.0           \n",
       " [77] tools_4.1.1                 cachem_1.1.0               \n",
       " [79] cli_3.6.3                   generics_0.1.3             \n",
       " [81] RSQLite_2.2.9               broom_1.0.0                \n",
       " [83] evaluate_0.24.0             fastmap_1.2.0              \n",
       " [85] yaml_2.3.10                 knitr_1.37                 \n",
       " [87] bit64_4.0.5                 fs_1.6.3                   \n",
       " [89] RANN_2.6.1                  AnnotationFilter_1.18.0    \n",
       " [91] KEGGREST_1.34.0             slam_0.1-50                \n",
       " [93] xml2_1.3.3                  biomaRt_2.50.3             \n",
       " [95] rstudioapi_0.14             compiler_4.1.1             \n",
       " [97] filelock_1.0.2              curl_5.2.1                 \n",
       " [99] png_0.1-8                   reprex_2.0.2               \n",
       "[101] stringi_1.8.2               GenomicFeatures_1.46.1     \n",
       "[103] lattice_0.20-45             IRdisplay_1.1              \n",
       "[105] ProtGenerics_1.26.0         HSMMSingleCell_1.14.0      \n",
       "[107] vctrs_0.5.1                 pillar_1.8.1               \n",
       "[109] lifecycle_1.0.4             combinat_0.0-8             \n",
       "[111] bitops_1.0-8                rtracklayer_1.54.0         \n",
       "[113] latticeExtra_0.6-30         R6_2.5.1                   \n",
       "[115] BiocIO_1.4.0                gridExtra_2.3              \n",
       "[117] dichromat_2.0-0.1           assertthat_0.2.1           \n",
       "[119] SummarizedExperiment_1.24.0 rjson_0.2.21               \n",
       "[121] withr_3.0.1                 GenomicAlignments_1.30.0   \n",
       "[123] qlcMatrix_0.9.7             Rsamtools_2.10.0           \n",
       "[125] GenomeInfoDbData_1.2.7      parallel_4.1.1             \n",
       "[127] hms_1.1.2                   rpart_4.1.19               \n",
       "[129] IRkernel_1.3.1              MatrixGenerics_1.6.0       \n",
       "[131] googledrive_2.0.0           Rtsne_0.16                 \n",
       "[133] biovizBase_1.42.0           pbdZMQ_0.3-8               \n",
       "[135] lubridate_1.9.0             base64enc_0.1-3            \n",
       "[137] interp_1.1-3                restfulr_0.0.15            "
      ]
     },
     "metadata": {},
     "output_type": "display_data"
    }
   ],
   "source": [
    "sessionInfo()"
   ]
  }
 ],
 "metadata": {
  "kernelspec": {
   "display_name": "R 4.1",
   "language": "R",
   "name": "ir411"
  },
  "language_info": {
   "codemirror_mode": "r",
   "file_extension": ".r",
   "mimetype": "text/x-r-source",
   "name": "R",
   "pygments_lexer": "r",
   "version": "4.1.1"
  }
 },
 "nbformat": 4,
 "nbformat_minor": 5
}
