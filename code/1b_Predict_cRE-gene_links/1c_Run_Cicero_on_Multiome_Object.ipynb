{
 "cells": [
  {
   "cell_type": "markdown",
   "id": "0a45f99f",
   "metadata": {},
   "source": [
    "#### Summary:\n",
    "\n",
    "This notebook contains code for running Cicero on a 10X Multiome object. This assumes you have merged all your samples into one Seurat object (called `adata` here) and have also made a new assay from the final cell type peak calls. You can use other peak calls, just create the `atac.counts` object from a different assay.\n",
    "\n",
    "This is based off of code initially developed by Jackie to run Cicero on snATAC-seq, I (Hannah) just made necessary updates and streamlined the code into easy to automate functions. Jackie's notebook I used as reference can be found here: `/nfs/lab/jnewsome/scripts/cicero/cicero_scriptPAOLAFIX-islet_1.ipynb`\n",
    "\n",
    "**Important Note: currently there is no way to limit the memory used by Cicero's functions. When running it on a group of ~80k cells this took over 300GB of memory. Be aware of your available resources when running this!**"
   ]
  },
  {
   "cell_type": "code",
   "execution_count": 5,
   "id": "a373f52f",
   "metadata": {},
   "outputs": [],
   "source": [
    "suppressMessages(library(hdf5r))\n",
    "suppressMessages(library(Seurat))\n",
    "suppressMessages(library(Signac))\n",
    "suppressMessages(library(dplyr))\n",
    "suppressMessages(library(stringr))\n",
    "suppressMessages(library(tictoc))\n",
    "suppressMessages(library(cicero))"
   ]
  },
  {
   "cell_type": "code",
   "execution_count": 6,
   "id": "a8eb3f6b",
   "metadata": {},
   "outputs": [],
   "source": [
    "set.seed(8)"
   ]
  },
  {
   "cell_type": "markdown",
   "id": "533021fa",
   "metadata": {},
   "source": [
    "# Read in Relevant Data"
   ]
  },
  {
   "cell_type": "code",
   "execution_count": 8,
   "id": "9980b40a",
   "metadata": {},
   "outputs": [
    {
     "name": "stdout",
     "output_type": "stream",
     "text": [
      "694.275 sec elapsed\n"
     ]
    },
    {
     "data": {
      "text/plain": [
       "An object of class Seurat \n",
       "543177 features across 174819 samples within 4 assays \n",
       "Active assay: ATAC (210485 features, 210485 variable features)\n",
       " 3 other assays present: RNA, SCT, ATAC_CTpeaks\n",
       " 7 dimensional reductions calculated: pca, harmony.rna, umap.rna, lsi, harmony.atac, umap.atac, umap.wnn"
      ]
     },
     "metadata": {},
     "output_type": "display_data"
    }
   ],
   "source": [
    "# Read in the adata object that includes the celltype ATAC peaks\n",
    "indir <- \"/nfs/lab/hmummey/multiomic_islet/intermediates/220720_multiome_clustering_redo\"\n",
    "rds_fp <- file.path(indir,\"221125_28sample_combined.noDoublets.QCfilters.ATAC_peaks.FINAL_v2.w_mergedPeaks_SM.rds\")\n",
    "tic()\n",
    "adata <- readRDS(rds_fp)\n",
    "toc()\n",
    "adata"
   ]
  },
  {
   "cell_type": "code",
   "execution_count": 9,
   "id": "9fbb12a3",
   "metadata": {},
   "outputs": [
    {
     "name": "stderr",
     "output_type": "stream",
     "text": [
      "   [[ suppressing 34 column names 'R207_AAACAGCCAAACGGGC-1', 'R207_AAACAGCCACAAAGAC-1', 'R207_AAACAGCCAGCAAGTG-1' ... ]]\n",
      "\n"
     ]
    },
    {
     "data": {
      "text/plain": [
       "6 x 174819 sparse Matrix of class \"dgCMatrix\"\n",
       "                                                                              \n",
       "chr1-100036775-100037124 . . . . . . . . . . . . . . . . . . . . . . . . . . .\n",
       "chr1-100037591-100039086 . . . . . . 2 2 2 . . . . . . . . . . . . 2 . . 4 4 .\n",
       "chr1-100046104-100046480 . . . . . . . . . . . . . . . . . . . . . . . . . 2 .\n",
       "chr1-100046883-100047599 . . . . . . . . . . . . . . . . . . . . . . 2 . . . .\n",
       "chr1-100050187-100050403 . . . . . . . . . . . . . . . . . . . . . . . . . . .\n",
       "chr1-100053889-100054089 . . . . . . . . . . . . . . . . . . . . . . . . . . .\n",
       "                                             \n",
       "chr1-100036775-100037124 . . . . . . . ......\n",
       "chr1-100037591-100039086 . 4 . . . . . ......\n",
       "chr1-100046104-100046480 . . . . . . . ......\n",
       "chr1-100046883-100047599 . . . . . . . ......\n",
       "chr1-100050187-100050403 . . . . . . . ......\n",
       "chr1-100053889-100054089 . . . . . . . ......\n",
       "\n",
       " .....suppressing 174785 columns in show(); maybe adjust 'options(max.print= *, width = *)'\n",
       " .............................."
      ]
     },
     "metadata": {},
     "output_type": "display_data"
    }
   ],
   "source": [
    "# Extract the ATAC counts data -- this notebook assumes peaks are written in this format: chr-start-end\n",
    "DefaultAssay(adata) <- 'ATAC_CTpeaks'\n",
    "atac.counts = GetAssayData(adata,slot='counts')\n",
    "head(atac.counts)"
   ]
  },
  {
   "cell_type": "code",
   "execution_count": 10,
   "id": "c2b3b3df",
   "metadata": {},
   "outputs": [],
   "source": [
    "# Create a cell type specific peaks reference object\n",
    "# This is a list where each celltype corresponds to a vector of peak names called in that celltype\n",
    "celltypes <- unique(adata@meta.data[['major_celltypes']]) #celltypes you want to run ABC on\n",
    "\n",
    "ct_peaks_list <- list()\n",
    "for (celltype in celltypes){\n",
    "    peak.fp <- sprintf('/nfs/lab/projects/multiomic_islet/outputs/multiome/call_peaks/recluster_final_majorCTs_v2/%s.merged_peaks.anno.mergedOverlap.bed',celltype)\n",
    "    ct.peaks <- read.table(peak.fp,sep='\\t')\n",
    "    ct_peaks <- paste(ct.peaks$V1,ct.peaks$V2,ct.peaks$V3,sep=\"_\")\n",
    "    ct_peaks_list[[celltype]] = ct_peaks\n",
    "}"
   ]
  },
  {
   "cell_type": "markdown",
   "id": "7a15edd4",
   "metadata": {},
   "source": [
    "# Functions"
   ]
  },
  {
   "cell_type": "markdown",
   "id": "894c4389",
   "metadata": {},
   "source": [
    "### Prepare inputs to make a CellDataSet Object"
   ]
  },
  {
   "cell_type": "code",
   "execution_count": 14,
   "id": "351fbbe9",
   "metadata": {},
   "outputs": [],
   "source": [
    "# Function to extract the ATAC counts data for a specific celltype\n",
    "extract_CT_ATAC_mat <- function(adata, atac.counts, celltype, ct_col){\n",
    "    celltype_bcs <- row.names(adata@meta.data)[adata@meta.data[[ct_col]] == celltype]\n",
    "    celltype_peaks <- ct_peaks_list[[celltype]]\n",
    "    celltype_peaks <- unique(gsub('_','-',celltype_peaks)) #reformat peaks to match atac.counts, make sure no repeats\n",
    "    sc.data.subset <- atac.counts[celltype_peaks, celltype_bcs]\n",
    "    print(paste('Cell type specific peaks matrix dimensions: ', dim(sc.data.subset)[1], dim(sc.data.subset)[2]))\n",
    "    return (sc.data.subset)\n",
    "}\n",
    "\n",
    "\n",
    "# Function to prepare the CDS datastructure from the celltype specific ATAC counts data\n",
    "prepare_cic_CDS <- function(sc.data.subset){\n",
    "    # Make a dataframe with information on cell barcodes\n",
    "    cellinfo <-data.frame(cells=colnames(sc.data.subset))\n",
    "    row.names(cellinfo) <- cellinfo$cells\n",
    "    \n",
    "    # Make a dataframe with information on peaks\n",
    "    dhsinfo <- data.frame(site_name=rownames(sc.data.subset))\n",
    "    row.names(dhsinfo) <- dhsinfo$site_name\n",
    "    dhsinfo <- cbind(dhsinfo, stringr::str_split_fixed(dhsinfo$site_name, \"-\", 3))\n",
    "    names(dhsinfo) <- c('site_name','chr','bp1','bp2')\n",
    "    dhsinfo$chr <- gsub('chr','', dhsinfo$chr)\n",
    "    dhsinfo$bp1 <- as.numeric(as.character(dhsinfo$bp1))\n",
    "    dhsinfo$bp2 <- as.numeric(as.character(dhsinfo$bp2))\n",
    "    \n",
    "    # Make the CellDataSet object\n",
    "    input_cds <- suppressWarnings(newCellDataSet(as(sc.data.subset, 'dgCMatrix'),\n",
    "                                                 phenoData = methods::new('AnnotatedDataFrame', data = cellinfo),\n",
    "                                                 featureData = methods::new('AnnotatedDataFrame', data = dhsinfo),\n",
    "                                                 expressionFamily=negbinomial.size(),\n",
    "                                                 lowerDetectionLimit=0))\n",
    "    input_cds@expressionFamily <- binomialff()\n",
    "    input_cds@expressionFamily@vfamily <- 'binomialff'\n",
    "    input_cds <- detectGenes(input_cds)\n",
    "    input_cds <- estimateSizeFactors(input_cds)\n",
    "    input_cds <- input_cds[fData(input_cds)$num_cells_expressed > 0,]\n",
    "    return(input_cds)\n",
    "}\n",
    "\n",
    "\n",
    "# Function to prepare the UMAP coordinate datastructure\n",
    "prepare_UMAP_coords <- function(sc.data.subset){\n",
    "    umap_coords <- Embeddings(adata[['umap.wnn']])[colnames(sc.data.subset),]\n",
    "    colnames(umap_coords) <- NULL\n",
    "    return(umap_coords)\n",
    "}"
   ]
  },
  {
   "cell_type": "markdown",
   "id": "f1ffd51d",
   "metadata": {},
   "source": [
    "### Run Cicero"
   ]
  },
  {
   "cell_type": "code",
   "execution_count": 15,
   "id": "3cd2c91c",
   "metadata": {},
   "outputs": [],
   "source": [
    "# Function to do everything necessary to run Cicero and output a connections object\n",
    "run_cicero <- function(input_cds, umap_coords, celltype){\n",
    "    #run cicero with our standard settings\n",
    "    tic()\n",
    "    cicero_cds <- make_cicero_cds(input_cds, reduced_coordinates = umap_coords, k=30)\n",
    "    window <- 1e6\n",
    "    chromsizes <- '/nfs/lab/publicdata/hg38.chrom.sizes'\n",
    "    distance_parameters <- estimate_distance_parameter(cicero_cds, window=window, maxit=100, sample_num=100, distance_constraint=500000, genomic_coords=chromsizes)\n",
    "    mean_distance_parameter <- mean(unlist(distance_parameters))\n",
    "    cicero_out <- generate_cicero_models(cicero_cds, distance_parameter=mean_distance_parameter, window=window, genomic_coords=chromsizes)\n",
    "    conns <- assemble_connections(cicero_out, silent=FALSE)\n",
    "    time <- toc()\n",
    "    print(sprintf('Time to run cicero on %s cells: %s', celltype, time$callback_msg))\n",
    "    return(conns)\n",
    "}"
   ]
  },
  {
   "cell_type": "markdown",
   "id": "839d1000",
   "metadata": {},
   "source": [
    "### Output Results"
   ]
  },
  {
   "cell_type": "code",
   "execution_count": 27,
   "id": "340095b3",
   "metadata": {},
   "outputs": [],
   "source": [
    "# Output all connection results to a file\n",
    "output_raw_results <- function(conns, outdir, celltype){\n",
    "    # Make bedpe format df with the peaks and coaccess scores\n",
    "    out_df <- cbind(as.data.frame(str_split_fixed(conns$Peak1, '-', 3)), \n",
    "                    as.data.frame(str_split_fixed(conns$Peak2, '-', 3)), \n",
    "                    conns$coaccess)\n",
    "    \n",
    "    # Remove links with no score (if they exist)\n",
    "    out_df <- out_df[!is.na(out_df[,7]),]\n",
    "    \n",
    "    # Output the total df\n",
    "    out_fp = file.path(outdir,sprintf('Cicero_links.%s.all.bedpe',celltype))\n",
    "    write.table(out_df, out_fp, sep='\\t', col.names=FALSE, row.names=FALSE, quote=FALSE)\n",
    "    return(out_df)\n",
    "}\n",
    "\n",
    "\n",
    "# Remove duplicate connections, threshold connections and output as filtered results\n",
    "output_filt_results <- function(out_df, threshold, outdir, celltype){\n",
    "    # Subset connections df to scores > threshold before removing duplicates (takes too long otherwise)\n",
    "    colnames(out_df) <- paste('V', seq(1,7), sep='')\n",
    "    out_df_cut = out_df[out_df$V7 > threshold,]\n",
    "    \n",
    "    # Check if any links pass the threshold \n",
    "    if (dim(out_df_cut)[1] < 1){\n",
    "        print(paste('No results pass threshold ', threshold, sep=''))\n",
    "    } else {\n",
    "        # Remove duplicated links (same peaks and score, diff order)\n",
    "        get_ordered_peaks <- function(row){\n",
    "            if (row[2] < row[5]){\n",
    "                peak1 = paste(row[[1]], as.character(row[[2]]), as.character(row[[3]]), sep='-')\n",
    "                peak2 = paste(row[[4]], as.character(row[[5]]), as.character(row[[6]]), sep='-')\n",
    "            } else {\n",
    "                peak1 = paste(row[[4]], as.character(row[[5]]), as.character(row[[6]]), sep='-')\n",
    "                peak2 = paste(row[[1]], as.character(row[[2]]), as.character(row[[3]]), sep='-')\n",
    "            }\n",
    "            return(paste(peak1,peak2,sep='_'))\n",
    "        }\n",
    "\n",
    "        out_df_cut$ordered_peaks = apply(out_df_cut,1,get_ordered_peaks)\n",
    "        out_df_fin = out_df_cut[!duplicated(out_df_cut$ordered_peaks),]\n",
    "\n",
    "        # Output the thresholded and dedup df\n",
    "        out_fp2 = file.path(outdir,sprintf('Cicero_links.%s.above%s.dedup.bedpe',celltype, threshold))\n",
    "        write.table(out_df_fin, out_fp2, sep='\\t', col.names=FALSE, row.names=FALSE, quote=FALSE)\n",
    "    }\n",
    "}"
   ]
  },
  {
   "cell_type": "markdown",
   "id": "e602b202",
   "metadata": {},
   "source": [
    "# Use Functions to Run Cicero\n",
    "Note that Cicero can actually take quite a lot of memory to run on larger groups of cells. For example, when running it on a 80k cell cluster it took about 20% of Ophelia's memory. So far I have not figured out how to limit Cicero's memory usage... "
   ]
  },
  {
   "cell_type": "code",
   "execution_count": 12,
   "id": "3b55598b",
   "metadata": {},
   "outputs": [],
   "source": [
    "# Final necessary inputs\n",
    "ct_col <- \"major_celltypes\" #name of whichever column in adata@meta.data corresponds to your desired celltypes\n",
    "outdir <- '/nfs/lab/projects/multiomic_islet/outputs/multiome/cRE-gene_links/cicero/230111_final_map'\n",
    "threshold <- 0.05"
   ]
  },
  {
   "cell_type": "code",
   "execution_count": 28,
   "id": "7eabc53d",
   "metadata": {
    "scrolled": false
   },
   "outputs": [
    {
     "name": "stdout",
     "output_type": "stream",
     "text": [
      "[1] \"Cell type specific peaks matrix dimensions:  61472 633\"\n"
     ]
    },
    {
     "name": "stderr",
     "output_type": "stream",
     "text": [
      "Overlap QC metrics:\n",
      "Cells per bin: 30\n",
      "Maximum shared cells bin-bin: 26\n",
      "Mean shared cells bin-bin: 1.6385035729298\n",
      "Median shared cells bin-bin: 0\n",
      "\n",
      "Warning message in if (isSparseMatrix(counts)) {:\n",
      "\"the condition has length > 1 and only the first element will be used\"\n"
     ]
    },
    {
     "name": "stdout",
     "output_type": "stream",
     "text": [
      "[1] \"Successful cicero models:  4877\"\n",
      "[1] \"Other models: \"\n",
      "\n",
      "Zero or one element in range \n",
      "                        1866 \n",
      "[1] \"Models with errors:  0\"\n",
      "177.449 sec elapsed\n",
      "[1] \"Time to run cicero on immune cells: 177.449 sec elapsed\"\n",
      "400.727 sec elapsed\n",
      "[1] \"Total time to run all Cicero functions on immune: 400.727 sec elapsed\"\n",
      "[1] \"\"\n"
     ]
    }
   ],
   "source": [
    "# Testing the functions on one cell type, but you can easily loop through all of them instead\n",
    "\n",
    "celltypes_cut <- c('immune')\n",
    "for (celltype in celltypes_cut){\n",
    "    tic()\n",
    "    # Prepare inputs\n",
    "    sc.data.subset <- extract_CT_ATAC_mat(adata, atac.counts, celltype, ct_col)\n",
    "    input_cds      <- prepare_cic_CDS(sc.data.subset)\n",
    "    umap_coords    <- prepare_UMAP_coords(sc.data.subset)\n",
    "\n",
    "    # Run ABC\n",
    "    conns <- run_cicero(input_cds, umap_coords, celltype)\n",
    "\n",
    "    # Output results\n",
    "    out_df <- output_raw_results(conns, outdir, celltype)\n",
    "    output_filt_results(out_df, threshold, outdir, celltype)\n",
    "    total_time <- toc()\n",
    "    print(sprintf('Total time to run all Cicero functions on %s: %s',celltype,total_time$callback_msg))\n",
    "    print('')\n",
    "}"
   ]
  },
  {
   "cell_type": "code",
   "execution_count": null,
   "id": "27d3ec73",
   "metadata": {
    "scrolled": true
   },
   "outputs": [],
   "source": [
    "for (celltype in celltypes[-6]){\n",
    "    tic()\n",
    "    # Prepare inputs\n",
    "    sc.data.subset <- extract_CT_ATAC_mat(adata, atac.counts, celltype, ct_col)\n",
    "    input_cds      <- prepare_cic_CDS(sc.data.subset)\n",
    "    umap_coords    <- prepare_UMAP_coords(sc.data.subset)\n",
    "\n",
    "    # Run ABC\n",
    "    conns <- run_cicero(input_cds, umap_coords, celltype)\n",
    "\n",
    "    # Output results\n",
    "    out_df <- output_raw_results(conns, outdir, celltype)\n",
    "    output_filt_results(out_df, threshold, outdir, celltype)\n",
    "    total_time <- toc()\n",
    "    print(sprintf('Total time to run all Cicero functions on %s: %s',celltype,total_time$callback_msg))\n",
    "    print('')\n",
    "}"
   ]
  },
  {
   "cell_type": "markdown",
   "id": "484b9ae8",
   "metadata": {},
   "source": [
    "## Filtering down output files without running other commands\n",
    "In the case that the output_filt_results errors in the loop, this will allow you to read in all Cicero results and filter them on their own, using a fp as input instead of a df"
   ]
  },
  {
   "cell_type": "code",
   "execution_count": 16,
   "id": "d5ae2fd9",
   "metadata": {},
   "outputs": [],
   "source": [
    "# Remove duplicate connections, threshold connections and output as filtered results\n",
    "output_filt_results2 <- function(out_fp, threshold, outdir, celltype){\n",
    "    # Subset connections df to scores > threshold before removing duplicates (takes too long otherwise)\n",
    "    out_df <- read.table(out_fp, sep='\\t')\n",
    "    colnames(out_df) <- paste('V', seq(1,7), sep='')\n",
    "    out_df_cut = out_df[out_df$V7 > threshold,]\n",
    "    \n",
    "    # Check if any links pass the threshold \n",
    "    if (dim(out_df_cut)[1] < 1){\n",
    "        print(paste('No results pass threshold ', threshold, sep=''))\n",
    "    } else {\n",
    "        # Remove duplicated links (same peaks and score, diff order)\n",
    "        get_ordered_peaks <- function(row){\n",
    "            if (row[2] < row[5]){\n",
    "                peak1 = paste(row[[1]], as.character(row[[2]]), as.character(row[[3]]), sep='-')\n",
    "                peak2 = paste(row[[4]], as.character(row[[5]]), as.character(row[[6]]), sep='-')\n",
    "            } else {\n",
    "                peak1 = paste(row[[4]], as.character(row[[5]]), as.character(row[[6]]), sep='-')\n",
    "                peak2 = paste(row[[1]], as.character(row[[2]]), as.character(row[[3]]), sep='-')\n",
    "            }\n",
    "            return(paste(peak1,peak2,sep='_'))\n",
    "        }\n",
    "\n",
    "        out_df_cut$ordered_peaks = apply(out_df_cut,1,get_ordered_peaks)\n",
    "        out_df_fin = out_df_cut[!duplicated(out_df_cut$ordered_peaks),]\n",
    "        out_df_fin2 = out_df_fin[,seq(1,7)]\n",
    "\n",
    "        # Output the thresholded and dedup df\n",
    "        out_fp2 = file.path(outdir,sprintf('Cicero_links.%s.above%s.dedup.bedpe',celltype, threshold))\n",
    "        write.table(out_df_fin, out_fp2, sep='\\t', col.names=FALSE, row.names=FALSE, quote=FALSE)\n",
    "    }\n",
    "}"
   ]
  },
  {
   "cell_type": "code",
   "execution_count": 14,
   "id": "9b626adb",
   "metadata": {},
   "outputs": [],
   "source": [
    "celltypes <- c('acinar','alpha','beta','delta','ductal',\n",
    "               'endothelial','gamma','immune','schwann','stellate')"
   ]
  },
  {
   "cell_type": "code",
   "execution_count": 17,
   "id": "69e9bb65",
   "metadata": {},
   "outputs": [
    {
     "data": {
      "text/html": [
       "'/nfs/lab/projects/multiomic_islet/outputs/multiome/cRE-gene_links/cicero/230111_final_map'"
      ],
      "text/latex": [
       "'/nfs/lab/projects/multiomic\\_islet/outputs/multiome/cRE-gene\\_links/cicero/230111\\_final\\_map'"
      ],
      "text/markdown": [
       "'/nfs/lab/projects/multiomic_islet/outputs/multiome/cRE-gene_links/cicero/230111_final_map'"
      ],
      "text/plain": [
       "[1] \"/nfs/lab/projects/multiomic_islet/outputs/multiome/cRE-gene_links/cicero/230111_final_map\""
      ]
     },
     "metadata": {},
     "output_type": "display_data"
    }
   ],
   "source": [
    "outdir\n",
    "for (celltype in celltypes[-6]){\n",
    "    threshold <- 0.05\n",
    "    fp <- file.path(outdir,sprintf('Cicero_links.%s.all.bedpe',celltype))\n",
    "    output_filt_results2(fp, threshold, outdir, celltype)\n",
    "}"
   ]
  }
 ],
 "metadata": {
  "kernelspec": {
   "display_name": "R 4.1",
   "language": "R",
   "name": "ir411"
  },
  "language_info": {
   "codemirror_mode": "r",
   "file_extension": ".r",
   "mimetype": "text/x-r-source",
   "name": "R",
   "pygments_lexer": "r",
   "version": "4.1.1"
  }
 },
 "nbformat": 4,
 "nbformat_minor": 5
}
