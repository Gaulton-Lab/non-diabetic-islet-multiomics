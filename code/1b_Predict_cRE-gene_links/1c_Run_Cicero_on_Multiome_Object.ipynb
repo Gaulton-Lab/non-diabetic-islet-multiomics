{
 "cells": [
  {
   "cell_type": "markdown",
   "id": "0a45f99f",
   "metadata": {},
   "source": [
    "#### Summary:\n",
    "\n",
    "This notebook contains code for running Cicero on a 10X Multiome object. This assumes you have merged all your samples into one Seurat object (called `adata` here) and have also made a new assay from the final cell type peak calls. You can use other peak calls, just create the `atac.counts` object from a different assay.\n",
    "\n",
    "Required inputs:\n",
    "- Seurat object with ATAC counts, or just a sparse matrix with ATAC counts\n",
    "- Per cell type bed files of accessible peaks"
   ]
  },
  {
   "cell_type": "code",
   "execution_count": 1,
   "id": "a373f52f",
   "metadata": {},
   "outputs": [],
   "source": [
    "suppressMessages(library(hdf5r))\n",
    "suppressMessages(library(Seurat))\n",
    "suppressMessages(library(Signac))\n",
    "suppressMessages(library(dplyr))\n",
    "suppressMessages(library(stringr))\n",
    "suppressMessages(library(tictoc))\n",
    "suppressMessages(library(cicero))"
   ]
  },
  {
   "cell_type": "code",
   "execution_count": 6,
   "id": "a8eb3f6b",
   "metadata": {},
   "outputs": [],
   "source": [
    "set.seed(8)"
   ]
  },
  {
   "cell_type": "code",
   "execution_count": null,
   "id": "f88b8ae2-b3d8-4351-98d2-6709c226c877",
   "metadata": {},
   "outputs": [],
   "source": [
    "peaks_dir <- '/dir/with/per/celltype/accessible/cres/beds'"
   ]
  },
  {
   "cell_type": "markdown",
   "id": "533021fa",
   "metadata": {},
   "source": [
    "# Read in Relevant Data"
   ]
  },
  {
   "cell_type": "code",
   "execution_count": 8,
   "id": "9980b40a",
   "metadata": {},
   "outputs": [
    {
     "name": "stdout",
     "output_type": "stream",
     "text": [
      "694.275 sec elapsed\n"
     ]
    },
    {
     "data": {
      "text/plain": [
       "An object of class Seurat \n",
       "543177 features across 174819 samples within 4 assays \n",
       "Active assay: ATAC (210485 features, 210485 variable features)\n",
       " 3 other assays present: RNA, SCT, ATAC_CTpeaks\n",
       " 7 dimensional reductions calculated: pca, harmony.rna, umap.rna, lsi, harmony.atac, umap.atac, umap.wnn"
      ]
     },
     "metadata": {},
     "output_type": "display_data"
    }
   ],
   "source": [
    "# Read in the adata object that includes the celltype ATAC peaks\n",
    "indir <- \"/path/to/dir/with/seurat/object\"\n",
    "rds_fp <- file.path(indir,\"final_object.rds\")\n",
    "tic()\n",
    "adata <- readRDS(rds_fp)\n",
    "toc()\n",
    "adata"
   ]
  },
  {
   "cell_type": "code",
   "execution_count": 9,
   "id": "9fbb12a3",
   "metadata": {},
   "outputs": [
    {
     "name": "stderr",
     "output_type": "stream",
     "text": [
      "   [[ suppressing 34 column names 'R207_AAACAGCCAAACGGGC-1', 'R207_AAACAGCCACAAAGAC-1', 'R207_AAACAGCCAGCAAGTG-1' ... ]]\n",
      "\n"
     ]
    },
    {
     "data": {
      "text/plain": [
       "6 x 174819 sparse Matrix of class \"dgCMatrix\"\n",
       "                                                                              \n",
       "chr1-100036775-100037124 . . . . . . . . . . . . . . . . . . . . . . . . . . .\n",
       "chr1-100037591-100039086 . . . . . . 2 2 2 . . . . . . . . . . . . 2 . . 4 4 .\n",
       "chr1-100046104-100046480 . . . . . . . . . . . . . . . . . . . . . . . . . 2 .\n",
       "chr1-100046883-100047599 . . . . . . . . . . . . . . . . . . . . . . 2 . . . .\n",
       "chr1-100050187-100050403 . . . . . . . . . . . . . . . . . . . . . . . . . . .\n",
       "chr1-100053889-100054089 . . . . . . . . . . . . . . . . . . . . . . . . . . .\n",
       "                                             \n",
       "chr1-100036775-100037124 . . . . . . . ......\n",
       "chr1-100037591-100039086 . 4 . . . . . ......\n",
       "chr1-100046104-100046480 . . . . . . . ......\n",
       "chr1-100046883-100047599 . . . . . . . ......\n",
       "chr1-100050187-100050403 . . . . . . . ......\n",
       "chr1-100053889-100054089 . . . . . . . ......\n",
       "\n",
       " .....suppressing 174785 columns in show(); maybe adjust 'options(max.print= *, width = *)'\n",
       " .............................."
      ]
     },
     "metadata": {},
     "output_type": "display_data"
    }
   ],
   "source": [
    "# Extract the ATAC counts data -- this notebook assumes peaks are written in this format: chr-start-end\n",
    "DefaultAssay(adata) <- 'ATAC_CTpeaks'\n",
    "atac.counts = GetAssayData(adata,slot='counts')\n",
    "head(atac.counts)"
   ]
  },
  {
   "cell_type": "code",
   "execution_count": 10,
   "id": "c2b3b3df",
   "metadata": {},
   "outputs": [],
   "source": [
    "# Create a cell type specific peaks reference object\n",
    "# This is a list where each celltype corresponds to a vector of peak names called in that celltype\n",
    "celltypes <- unique(adata@meta.data[['major_celltypes']]) #celltypes you want to run ABC on\n",
    "\n",
    "ct_peaks_list <- list()\n",
    "for (celltype in celltypes){\n",
    "    peak.fp <- file.path(peaks_dir,sprintf('%s.merged_peaks.anno.mergedOverlap.bed',celltype))\n",
    "    ct.peaks <- read.table(peak.fp,sep='\\t')\n",
    "    ct_peaks <- paste(ct.peaks$V1,ct.peaks$V2,ct.peaks$V3,sep=\"_\")\n",
    "    ct_peaks_list[[celltype]] = ct_peaks\n",
    "}"
   ]
  },
  {
   "cell_type": "markdown",
   "id": "7a15edd4",
   "metadata": {},
   "source": [
    "# Functions"
   ]
  },
  {
   "cell_type": "markdown",
   "id": "894c4389",
   "metadata": {},
   "source": [
    "### Prepare inputs to make a CellDataSet Object"
   ]
  },
  {
   "cell_type": "code",
   "execution_count": 14,
   "id": "351fbbe9",
   "metadata": {},
   "outputs": [],
   "source": [
    "# Function to extract the ATAC counts data for a specific celltype\n",
    "extract_CT_ATAC_mat <- function(adata, atac.counts, celltype, ct_col){\n",
    "    celltype_bcs <- row.names(adata@meta.data)[adata@meta.data[[ct_col]] == celltype]\n",
    "    celltype_peaks <- ct_peaks_list[[celltype]]\n",
    "    celltype_peaks <- unique(gsub('_','-',celltype_peaks)) #reformat peaks to match atac.counts, make sure no repeats\n",
    "    sc.data.subset <- atac.counts[celltype_peaks, celltype_bcs]\n",
    "    print(paste('Cell type specific peaks matrix dimensions: ', dim(sc.data.subset)[1], dim(sc.data.subset)[2]))\n",
    "    return (sc.data.subset)\n",
    "}\n",
    "\n",
    "\n",
    "# Function to prepare the CDS datastructure from the celltype specific ATAC counts data\n",
    "prepare_cic_CDS <- function(sc.data.subset){\n",
    "    # Make a dataframe with information on cell barcodes\n",
    "    cellinfo <-data.frame(cells=colnames(sc.data.subset))\n",
    "    row.names(cellinfo) <- cellinfo$cells\n",
    "    \n",
    "    # Make a dataframe with information on peaks\n",
    "    dhsinfo <- data.frame(site_name=rownames(sc.data.subset))\n",
    "    row.names(dhsinfo) <- dhsinfo$site_name\n",
    "    dhsinfo <- cbind(dhsinfo, stringr::str_split_fixed(dhsinfo$site_name, \"-\", 3))\n",
    "    names(dhsinfo) <- c('site_name','chr','bp1','bp2')\n",
    "    dhsinfo$chr <- gsub('chr','', dhsinfo$chr)\n",
    "    dhsinfo$bp1 <- as.numeric(as.character(dhsinfo$bp1))\n",
    "    dhsinfo$bp2 <- as.numeric(as.character(dhsinfo$bp2))\n",
    "    \n",
    "    # Make the CellDataSet object\n",
    "    input_cds <- suppressWarnings(newCellDataSet(as(sc.data.subset, 'dgCMatrix'),\n",
    "                                                 phenoData = methods::new('AnnotatedDataFrame', data = cellinfo),\n",
    "                                                 featureData = methods::new('AnnotatedDataFrame', data = dhsinfo),\n",
    "                                                 expressionFamily=negbinomial.size(),\n",
    "                                                 lowerDetectionLimit=0))\n",
    "    input_cds@expressionFamily <- binomialff()\n",
    "    input_cds@expressionFamily@vfamily <- 'binomialff'\n",
    "    input_cds <- detectGenes(input_cds)\n",
    "    input_cds <- estimateSizeFactors(input_cds)\n",
    "    input_cds <- input_cds[fData(input_cds)$num_cells_expressed > 0,]\n",
    "    return(input_cds)\n",
    "}\n",
    "\n",
    "\n",
    "# Function to prepare the UMAP coordinate datastructure\n",
    "prepare_UMAP_coords <- function(sc.data.subset){\n",
    "    umap_coords <- Embeddings(adata[['umap.wnn']])[colnames(sc.data.subset),]\n",
    "    colnames(umap_coords) <- NULL\n",
    "    return(umap_coords)\n",
    "}"
   ]
  },
  {
   "cell_type": "markdown",
   "id": "f1ffd51d",
   "metadata": {},
   "source": [
    "### Run Cicero"
   ]
  },
  {
   "cell_type": "code",
   "execution_count": 15,
   "id": "3cd2c91c",
   "metadata": {},
   "outputs": [],
   "source": [
    "# Function to do everything necessary to run Cicero and output a connections object\n",
    "run_cicero <- function(input_cds, umap_coords, celltype){\n",
    "    #run cicero with our standard settings\n",
    "    tic()\n",
    "    cicero_cds <- make_cicero_cds(input_cds, reduced_coordinates = umap_coords, k=30)\n",
    "    window <- 1e6\n",
    "    chromsizes <- 'non-diabetic-islet-multiomics/references/hg38.chrom.sizes'\n",
    "    distance_parameters <- estimate_distance_parameter(cicero_cds, window=window, maxit=100, sample_num=100, distance_constraint=500000, genomic_coords=chromsizes)\n",
    "    mean_distance_parameter <- mean(unlist(distance_parameters))\n",
    "    cicero_out <- generate_cicero_models(cicero_cds, distance_parameter=mean_distance_parameter, window=window, genomic_coords=chromsizes)\n",
    "    conns <- assemble_connections(cicero_out, silent=FALSE)\n",
    "    time <- toc()\n",
    "    print(sprintf('Time to run cicero on %s cells: %s', celltype, time$callback_msg))\n",
    "    return(conns)\n",
    "}"
   ]
  },
  {
   "cell_type": "markdown",
   "id": "839d1000",
   "metadata": {},
   "source": [
    "### Output Results"
   ]
  },
  {
   "cell_type": "code",
   "execution_count": 27,
   "id": "340095b3",
   "metadata": {},
   "outputs": [],
   "source": [
    "# Output all connection results to a file\n",
    "output_raw_results <- function(conns, outdir, celltype){\n",
    "    # Make bedpe format df with the peaks and coaccess scores\n",
    "    out_df <- cbind(as.data.frame(str_split_fixed(conns$Peak1, '-', 3)), \n",
    "                    as.data.frame(str_split_fixed(conns$Peak2, '-', 3)), \n",
    "                    conns$coaccess)\n",
    "    \n",
    "    # Remove links with no score (if they exist)\n",
    "    out_df <- out_df[!is.na(out_df[,7]),]\n",
    "    \n",
    "    # Output the total df\n",
    "    out_fp = file.path(outdir,sprintf('Cicero_links.%s.all.bedpe',celltype))\n",
    "    write.table(out_df, out_fp, sep='\\t', col.names=FALSE, row.names=FALSE, quote=FALSE)\n",
    "    return(out_df)\n",
    "}\n",
    "\n",
    "\n",
    "# Remove duplicate connections, threshold connections and output as filtered results\n",
    "output_filt_results <- function(out_df, threshold, outdir, celltype){\n",
    "    # Subset connections df to scores > threshold before removing duplicates (takes too long otherwise)\n",
    "    colnames(out_df) <- paste('V', seq(1,7), sep='')\n",
    "    out_df_cut = out_df[out_df$V7 > threshold,]\n",
    "    \n",
    "    # Check if any links pass the threshold \n",
    "    if (dim(out_df_cut)[1] < 1){\n",
    "        print(paste('No results pass threshold ', threshold, sep=''))\n",
    "    } else {\n",
    "        # Remove duplicated links (same peaks and score, diff order)\n",
    "        get_ordered_peaks <- function(row){\n",
    "            if (row[2] < row[5]){\n",
    "                peak1 = paste(row[[1]], as.character(row[[2]]), as.character(row[[3]]), sep='-')\n",
    "                peak2 = paste(row[[4]], as.character(row[[5]]), as.character(row[[6]]), sep='-')\n",
    "            } else {\n",
    "                peak1 = paste(row[[4]], as.character(row[[5]]), as.character(row[[6]]), sep='-')\n",
    "                peak2 = paste(row[[1]], as.character(row[[2]]), as.character(row[[3]]), sep='-')\n",
    "            }\n",
    "            return(paste(peak1,peak2,sep='_'))\n",
    "        }\n",
    "\n",
    "        out_df_cut$ordered_peaks = apply(out_df_cut,1,get_ordered_peaks)\n",
    "        out_df_fin = out_df_cut[!duplicated(out_df_cut$ordered_peaks),]\n",
    "\n",
    "        # Output the thresholded and dedup df\n",
    "        out_fp2 = file.path(outdir,sprintf('Cicero_links.%s.above%s.dedup.bedpe',celltype, threshold))\n",
    "        write.table(out_df_fin, out_fp2, sep='\\t', col.names=FALSE, row.names=FALSE, quote=FALSE)\n",
    "    }\n",
    "}"
   ]
  },
  {
   "cell_type": "markdown",
   "id": "e602b202",
   "metadata": {},
   "source": [
    "# Use Functions to Run Cicero\n",
    "Note that Cicero can actually take quite a lot of memory to run on larger groups of cells. For example, when running it on a 80k cell cluster it took about 300GB."
   ]
  },
  {
   "cell_type": "code",
   "execution_count": 12,
   "id": "3b55598b",
   "metadata": {},
   "outputs": [],
   "source": [
    "# Final necessary inputs\n",
    "ct_col <- \"major_celltypes\" #name of whichever column in adata@meta.data corresponds to your desired celltypes\n",
    "outdir <- '/dir/to/save/outputs/to'\n",
    "threshold <- 0.05"
   ]
  },
  {
   "cell_type": "code",
   "execution_count": 28,
   "id": "7eabc53d",
   "metadata": {},
   "outputs": [
    {
     "name": "stdout",
     "output_type": "stream",
     "text": [
      "[1] \"Cell type specific peaks matrix dimensions:  61472 633\"\n"
     ]
    },
    {
     "name": "stderr",
     "output_type": "stream",
     "text": [
      "Overlap QC metrics:\n",
      "Cells per bin: 30\n",
      "Maximum shared cells bin-bin: 26\n",
      "Mean shared cells bin-bin: 1.6385035729298\n",
      "Median shared cells bin-bin: 0\n",
      "\n",
      "Warning message in if (isSparseMatrix(counts)) {:\n",
      "\"the condition has length > 1 and only the first element will be used\"\n"
     ]
    },
    {
     "name": "stdout",
     "output_type": "stream",
     "text": [
      "[1] \"Successful cicero models:  4877\"\n",
      "[1] \"Other models: \"\n",
      "\n",
      "Zero or one element in range \n",
      "                        1866 \n",
      "[1] \"Models with errors:  0\"\n",
      "177.449 sec elapsed\n",
      "[1] \"Time to run cicero on immune cells: 177.449 sec elapsed\"\n",
      "400.727 sec elapsed\n",
      "[1] \"Total time to run all Cicero functions on immune: 400.727 sec elapsed\"\n",
      "[1] \"\"\n"
     ]
    }
   ],
   "source": [
    "# Testing the functions on one cell type, but you can easily loop through all of them instead\n",
    "\n",
    "celltypes_cut <- c('immune')\n",
    "for (celltype in celltypes_cut){\n",
    "    tic()\n",
    "    # Prepare inputs\n",
    "    sc.data.subset <- extract_CT_ATAC_mat(adata, atac.counts, celltype, ct_col)\n",
    "    input_cds      <- prepare_cic_CDS(sc.data.subset)\n",
    "    umap_coords    <- prepare_UMAP_coords(sc.data.subset)\n",
    "\n",
    "    # Run ABC\n",
    "    conns <- run_cicero(input_cds, umap_coords, celltype)\n",
    "\n",
    "    # Output results\n",
    "    out_df <- output_raw_results(conns, outdir, celltype)\n",
    "    output_filt_results(out_df, threshold, outdir, celltype)\n",
    "    total_time <- toc()\n",
    "    print(sprintf('Total time to run all Cicero functions on %s: %s',celltype,total_time$callback_msg))\n",
    "    print('')\n",
    "}"
   ]
  },
  {
   "cell_type": "code",
   "execution_count": null,
   "id": "27d3ec73",
   "metadata": {
    "scrolled": true
   },
   "outputs": [],
   "source": [
    "#Run on the rest of the cell types\n",
    "for (celltype in celltypes[-6]){\n",
    "    tic()\n",
    "    # Prepare inputs\n",
    "    sc.data.subset <- extract_CT_ATAC_mat(adata, atac.counts, celltype, ct_col)\n",
    "    input_cds      <- prepare_cic_CDS(sc.data.subset)\n",
    "    umap_coords    <- prepare_UMAP_coords(sc.data.subset)\n",
    "\n",
    "    # Run ABC\n",
    "    conns <- run_cicero(input_cds, umap_coords, celltype)\n",
    "\n",
    "    # Output results\n",
    "    out_df <- output_raw_results(conns, outdir, celltype)\n",
    "    output_filt_results(out_df, threshold, outdir, celltype)\n",
    "    total_time <- toc()\n",
    "    print(sprintf('Total time to run all Cicero functions on %s: %s',celltype,total_time$callback_msg))\n",
    "    print('')\n",
    "}"
   ]
  },
  {
   "cell_type": "code",
   "execution_count": 2,
   "id": "1cb61aa8-aac5-439a-b103-199f7710d8d1",
   "metadata": {},
   "outputs": [
    {
     "data": {
      "text/plain": [
       "R version 4.1.1 (2021-08-10)\n",
       "Platform: x86_64-pc-linux-gnu (64-bit)\n",
       "Running under: Ubuntu 20.04.2 LTS\n",
       "\n",
       "Matrix products: default\n",
       "BLAS:   /usr/lib/x86_64-linux-gnu/blas/libblas.so.3.9.0\n",
       "LAPACK: /usr/lib/x86_64-linux-gnu/lapack/liblapack.so.3.9.0\n",
       "\n",
       "locale:\n",
       " [1] LC_CTYPE=en_US.UTF-8       LC_NUMERIC=C              \n",
       " [3] LC_TIME=en_US.UTF-8        LC_COLLATE=en_US.UTF-8    \n",
       " [5] LC_MONETARY=en_US.UTF-8    LC_MESSAGES=en_US.UTF-8   \n",
       " [7] LC_PAPER=en_US.UTF-8       LC_NAME=C                 \n",
       " [9] LC_ADDRESS=C               LC_TELEPHONE=C            \n",
       "[11] LC_MEASUREMENT=en_US.UTF-8 LC_IDENTIFICATION=C       \n",
       "\n",
       "attached base packages:\n",
       " [1] grid      splines   stats4    stats     graphics  grDevices utils    \n",
       " [8] datasets  methods   base     \n",
       "\n",
       "other attached packages:\n",
       " [1] cicero_1.12.0        Gviz_1.38.4          GenomicRanges_1.46.1\n",
       " [4] GenomeInfoDb_1.30.1  IRanges_2.28.0       S4Vectors_0.32.4    \n",
       " [7] monocle_2.22.0       DDRTree_0.1.5        irlba_2.3.5.1       \n",
       "[10] VGAM_1.1-7           ggplot2_3.4.4        Biobase_2.54.0      \n",
       "[13] BiocGenerics_0.40.0  Matrix_1.5-1         tictoc_1.1          \n",
       "[16] stringr_1.4.1        dplyr_1.0.10         Signac_1.5.0        \n",
       "[19] sp_1.5-1             SeuratObject_4.1.2   Seurat_4.2.0        \n",
       "[22] hdf5r_1.3.7         \n",
       "\n",
       "loaded via a namespace (and not attached):\n",
       "  [1] rappdirs_0.3.3              SnowballC_0.7.0            \n",
       "  [3] rtracklayer_1.54.0          pbdZMQ_0.3-8               \n",
       "  [5] scattermore_0.8             tidyr_1.2.1                \n",
       "  [7] bit64_4.0.5                 knitr_1.37                 \n",
       "  [9] DelayedArray_0.20.0         data.table_1.14.8          \n",
       " [11] rpart_4.1.19                KEGGREST_1.34.0            \n",
       " [13] RCurl_1.98-1.13             AnnotationFilter_1.18.0    \n",
       " [15] generics_0.1.3              GenomicFeatures_1.46.1     \n",
       " [17] cowplot_1.1.1               RSQLite_2.2.9              \n",
       " [19] RANN_2.6.1                  combinat_0.0-8             \n",
       " [21] future_1.34.0               bit_4.0.5                  \n",
       " [23] spatstat.data_3.1-2         xml2_1.3.3                 \n",
       " [25] httpuv_1.6.6                SummarizedExperiment_1.24.0\n",
       " [27] assertthat_0.2.1            viridis_0.6.2              \n",
       " [29] xfun_0.46                   hms_1.1.2                  \n",
       " [31] evaluate_0.24.0             promises_1.2.0.1           \n",
       " [33] fansi_1.0.6                 restfulr_0.0.15            \n",
       " [35] progress_1.2.2              dbplyr_2.2.1               \n",
       " [37] igraph_1.3.5                DBI_1.1.3                  \n",
       " [39] htmlwidgets_1.5.4           sparsesvd_0.2-1            \n",
       " [41] spatstat.geom_2.4-0         purrr_0.3.5                \n",
       " [43] ellipsis_0.3.2              backports_1.4.1            \n",
       " [45] biomaRt_2.50.3              deldir_2.0-4               \n",
       " [47] MatrixGenerics_1.6.0        vctrs_0.5.1                \n",
       " [49] ensembldb_2.18.2            ROCR_1.0-11                \n",
       " [51] abind_1.4-5                 cachem_1.1.0               \n",
       " [53] withr_3.0.1                 ggforce_0.4.1              \n",
       " [55] BSgenome_1.62.0             progressr_0.11.0           \n",
       " [57] checkmate_2.1.0             sctransform_0.3.5          \n",
       " [59] GenomicAlignments_1.30.0    prettyunits_1.2.0          \n",
       " [61] goftest_1.2-3               cluster_2.1.4              \n",
       " [63] IRdisplay_1.1               lazyeval_0.2.2             \n",
       " [65] crayon_1.5.3                pkgconfig_2.0.3            \n",
       " [67] slam_0.1-50                 tweenr_2.0.2               \n",
       " [69] nlme_3.1-160                ProtGenerics_1.26.0        \n",
       " [71] nnet_7.3-18                 rlang_1.1.4                \n",
       " [73] globals_0.16.3              lifecycle_1.0.4            \n",
       " [75] miniUI_0.1.1.1              filelock_1.0.2             \n",
       " [77] BiocFileCache_2.2.0         dichromat_2.0-0.1          \n",
       " [79] polyclip_1.10-4             matrixStats_1.3.0          \n",
       " [81] lmtest_0.9-40               ggseqlogo_0.1              \n",
       " [83] IRkernel_1.3.1              zoo_1.8-12                 \n",
       " [85] base64enc_0.1-3             ggridges_0.5.4             \n",
       " [87] pheatmap_1.0.12             png_0.1-8                  \n",
       " [89] viridisLite_0.4.2           rjson_0.2.21               \n",
       " [91] bitops_1.0-8                KernSmooth_2.23-20         \n",
       " [93] Biostrings_2.62.0           blob_1.2.3                 \n",
       " [95] parallelly_1.38.0           spatstat.random_3.0-1      \n",
       " [97] jpeg_0.1-10                 scales_1.2.1               \n",
       " [99] memoise_2.0.1               magrittr_2.0.3             \n",
       "[101] plyr_1.8.9                  ica_1.0-3                  \n",
       "[103] zlibbioc_1.40.0             compiler_4.1.1             \n",
       "[105] HSMMSingleCell_1.14.0       BiocIO_1.4.0               \n",
       "[107] RColorBrewer_1.1-3          fitdistrplus_1.1-8         \n",
       "[109] Rsamtools_2.10.0            cli_3.6.3                  \n",
       "[111] XVector_0.34.0              listenv_0.9.1              \n",
       "[113] patchwork_1.1.2             pbapply_1.6-0              \n",
       "[115] htmlTable_2.4.1             Formula_1.2-4              \n",
       "[117] MASS_7.3-58.1               mgcv_1.8-41                \n",
       "[119] tidyselect_1.2.0            stringi_1.8.2              \n",
       "[121] densityClust_0.3.2          yaml_2.3.10                \n",
       "[123] latticeExtra_0.6-30         ggrepel_0.9.4              \n",
       "[125] VariantAnnotation_1.40.0    fastmatch_1.1-3            \n",
       "[127] tools_4.1.1                 future.apply_1.9.1         \n",
       "[129] parallel_4.1.1              rstudioapi_0.14            \n",
       "[131] uuid_1.1-0                  foreign_0.8-84             \n",
       "[133] lsa_0.73.3                  gridExtra_2.3              \n",
       "[135] farver_2.1.2                Rtsne_0.16                 \n",
       "[137] digest_0.6.36               rgeos_0.5-9                \n",
       "[139] FNN_1.1.4                   shiny_1.7.3                \n",
       "[141] qlcMatrix_0.9.7             Rcpp_1.0.13                \n",
       "[143] later_1.3.2                 RcppAnnoy_0.0.22           \n",
       "[145] httr_1.4.4                  AnnotationDbi_1.56.2       \n",
       "[147] biovizBase_1.42.0           colorspace_2.1-1           \n",
       "[149] XML_3.99-0.16               tensor_1.5                 \n",
       "[151] reticulate_1.26             uwot_0.1.14                \n",
       "[153] RcppRoll_0.3.0              spatstat.utils_3.0-5       \n",
       "[155] plotly_4.10.1               xtable_1.8-4               \n",
       "[157] jsonlite_1.8.8              R6_2.5.1                   \n",
       "[159] Hmisc_4.7-2                 pillar_1.8.1               \n",
       "[161] htmltools_0.5.8.1           mime_0.12                  \n",
       "[163] glue_1.7.0                  fastmap_1.2.0              \n",
       "[165] BiocParallel_1.28.3         codetools_0.2-18           \n",
       "[167] utf8_1.2.4                  lattice_0.20-45            \n",
       "[169] spatstat.sparse_3.1-0       tibble_3.1.8               \n",
       "[171] curl_5.2.1                  leiden_0.4.3               \n",
       "[173] interp_1.1-3                survival_3.4-0             \n",
       "[175] limma_3.50.3                repr_1.1.4                 \n",
       "[177] docopt_0.7.1                fastICA_1.2-3              \n",
       "[179] munsell_0.5.1               GenomeInfoDbData_1.2.7     \n",
       "[181] reshape2_1.4.4              gtable_0.3.1               \n",
       "[183] spatstat.core_2.4-4        "
      ]
     },
     "metadata": {},
     "output_type": "display_data"
    }
   ],
   "source": [
    "sessionInfo()"
   ]
  }
 ],
 "metadata": {
  "kernelspec": {
   "display_name": "R 4.1",
   "language": "R",
   "name": "ir411"
  },
  "language_info": {
   "codemirror_mode": "r",
   "file_extension": ".r",
   "mimetype": "text/x-r-source",
   "name": "R",
   "pygments_lexer": "r",
   "version": "4.1.1"
  }
 },
 "nbformat": 4,
 "nbformat_minor": 5
}
