{
 "cells": [
  {
   "cell_type": "markdown",
   "id": "cc78dbfc",
   "metadata": {},
   "source": [
    "#### Summary:\n",
    "In this notebook we will read in a Seurat object with multiome data, assign each barcode to a celltype and then run the SMORES method by cell type to link cREs to putative target genes. This Seurat object should consist of your final combined clusters with the cell types defined in a metadata column. Briefly, the SMORES method __________. \n",
    "\n",
    "### To dos\n",
    "- only run on cell types with > 1000 cells?"
   ]
  },
  {
   "cell_type": "code",
   "execution_count": 1,
   "id": "8ce0e8b9",
   "metadata": {},
   "outputs": [],
   "source": [
    "suppressMessages(library(hdf5r))\n",
    "suppressMessages(library(Seurat))\n",
    "\n",
    "suppressMessages(library(dplyr))\n",
    "suppressMessages(library(plyr))\n",
    "suppressMessages(library(ggplot2))\n",
    "\n",
    "suppressMessages(library(Matrix))\n",
    "suppressMessages(library(matrixStats))\n",
    "suppressMessages(library(MASS))\n",
    "suppressMessages(library(data.table))\n",
    "suppressMessages(library(stringr))\n",
    "\n",
    "suppressMessages(library(qvalue))\n",
    "suppressMessages(library(parallel))\n",
    "suppressMessages(library(bettermc))\n",
    "\n",
    "suppressMessages(library(tictoc))"
   ]
  },
  {
   "cell_type": "code",
   "execution_count": 2,
   "id": "f433083a",
   "metadata": {},
   "outputs": [],
   "source": [
    "set.seed(8)"
   ]
  },
  {
   "cell_type": "markdown",
   "id": "7baf7bd0",
   "metadata": {},
   "source": [
    "# 1. Read in adata and prepare SMORES inputs"
   ]
  },
  {
   "cell_type": "markdown",
   "id": "d38bf548",
   "metadata": {},
   "source": [
    "### Read in reference files"
   ]
  },
  {
   "cell_type": "code",
   "execution_count": 19,
   "id": "091583b2",
   "metadata": {},
   "outputs": [],
   "source": [
    "# Read in all celltype_peak files into a list\n",
    "\n",
    "ct_peaks_list = list()\n",
    "\n",
    "for (celltype in unique_cell_types){\n",
    "    peak.fp <- sprintf('/nfs/lab/projects/multiomic_islet/outputs/multiome/call_peaks/recluster_final_majorCTs_v2/%s.merged_peaks.anno.mergedOverlap.bed',celltype)\n",
    "    ct.peaks <- read.table(peak.fp,sep='\\t')\n",
    "    ct_peaks <- paste(ct.peaks$V1,ct.peaks$V2,ct.peaks$V3,sep=\"_\")\n",
    "    ct_peaks_list[[celltype]] = ct_peaks\n",
    "}"
   ]
  },
  {
   "cell_type": "code",
   "execution_count": 20,
   "id": "c6d94f87",
   "metadata": {},
   "outputs": [],
   "source": [
    "# Read in the gene coords ref file\n",
    "ref_df = read.table('/nfs/lab/ABC/references/gene_coords.gencodev32.hg38.bed', sep='\\t', header=FALSE) #read in gene coords ref"
   ]
  },
  {
   "cell_type": "markdown",
   "id": "fa03f05d",
   "metadata": {},
   "source": [
    "I had to regenerate the TPM1 gene lists real quick. Here's how I did it\n",
    "```\n",
    "cd /nfs/lab/projects/multiomic_islet/outputs/multiome/rna_profiles/recluster_final_clustering_v2/major_celltype_TPM\n",
    "for ct in acinar alpha beta delta ductal endothelial gamma immune schwann stellate\n",
    "do\n",
    "    fp=${ct}_expressed_genes_values.txt\n",
    "    echo $fp\n",
    "    out_fp=${ct}_expressed_genes_TPM1.txt\n",
    "    tail -n+2 $fp | cut -f1 > $out_fp\n",
    "done\n",
    "\n",
    "```"
   ]
  },
  {
   "cell_type": "markdown",
   "id": "e503c5f5",
   "metadata": {},
   "source": [
    "### Read in the cell type labeled adata object"
   ]
  },
  {
   "cell_type": "code",
   "execution_count": 12,
   "id": "6aef33f8",
   "metadata": {},
   "outputs": [
    {
     "name": "stdout",
     "output_type": "stream",
     "text": [
      "elapsed time is 489.557000 seconds \n"
     ]
    },
    {
     "data": {
      "text/plain": [
       "An object of class Seurat \n",
       "543177 features across 174819 samples within 4 assays \n",
       "Active assay: ATAC (210485 features, 210485 variable features)\n",
       " 3 other assays present: RNA, SCT, ATAC_CTpeaks\n",
       " 7 dimensional reductions calculated: pca, harmony.rna, umap.rna, lsi, harmony.atac, umap.atac, umap.wnn"
      ]
     },
     "metadata": {},
     "output_type": "display_data"
    }
   ],
   "source": [
    "# Read in the adata object \n",
    "indir = \"/nfs/lab/hmummey/multiomic_islet/intermediates/220720_multiome_clustering_redo\"\n",
    "rds_fp = file.path(indir,\"221125_28sample_combined.noDoublets.QCfilters.ATAC_peaks.FINAL_v2.w_mergedPeaks_SM.rds\")\n",
    "tic()\n",
    "adata = readRDS(rds_fp)\n",
    "toc()\n",
    "adata"
   ]
  },
  {
   "cell_type": "code",
   "execution_count": 13,
   "id": "d678d063",
   "metadata": {},
   "outputs": [],
   "source": [
    "# Assign celltypes to Idents (just take from metadata col! ours is called major_celltype)\n",
    "Idents(adata) <- adata@meta.data$major_celltype"
   ]
  },
  {
   "cell_type": "code",
   "execution_count": 14,
   "id": "1e709511",
   "metadata": {},
   "outputs": [
    {
     "name": "stdout",
     "output_type": "stream",
     "text": [
      "[1] \"All cell types we can perform analyses on:\"\n",
      "beta, alpha, acinar, delta, gamma, immune, ductal, stellate, endothelial, schwannNULL\n"
     ]
    }
   ],
   "source": [
    "# Pull out list of unique cell types -- modify this to be the cell types you want to run SMORES on\n",
    "cell_types <- levels(Idents(adata))\n",
    "unique_cell_types <- unique(cell_types)\n",
    "\n",
    "print(\"All cell types we can perform analyses on:\")\n",
    "print(cat(unique_cell_types,sep=\", \")) #ignore NULL at the end"
   ]
  },
  {
   "cell_type": "markdown",
   "id": "cccb4ba2",
   "metadata": {},
   "source": [
    "### Extract RNA counts"
   ]
  },
  {
   "cell_type": "code",
   "execution_count": 15,
   "id": "c2a9706b",
   "metadata": {},
   "outputs": [
    {
     "data": {
      "text/html": [
       "<style>\n",
       ".list-inline {list-style: none; margin:0; padding: 0}\n",
       ".list-inline>li {display: inline-block}\n",
       ".list-inline>li:not(:last-child)::after {content: \"\\00b7\"; padding: 0 .5ex}\n",
       "</style>\n",
       "<ol class=list-inline><li>36601</li><li>174819</li></ol>\n"
      ],
      "text/latex": [
       "\\begin{enumerate*}\n",
       "\\item 36601\n",
       "\\item 174819\n",
       "\\end{enumerate*}\n"
      ],
      "text/markdown": [
       "1. 36601\n",
       "2. 174819\n",
       "\n",
       "\n"
      ],
      "text/plain": [
       "[1]  36601 174819"
      ]
     },
     "metadata": {},
     "output_type": "display_data"
    }
   ],
   "source": [
    "# Pull out rna counts obj\n",
    "DefaultAssay(adata) <- 'RNA'\n",
    "rna.counts <- GetAssayData(adata,slot='counts')\n",
    "dim(rna.counts)\n",
    "\n",
    "# Pull out sequencing depth vector\n",
    "seq_depth_rna <- colSums(rna.counts)\n",
    "\n",
    "# Read in gene coords ref file here just in case\n",
    "ref_df <- read.table('/nfs/lab/ABC/references/gene_coords.gencodev32.hg38.bed', sep='\\t', header=FALSE) #read in gene coords ref"
   ]
  },
  {
   "cell_type": "markdown",
   "id": "0b86f388",
   "metadata": {},
   "source": [
    "### Extract and binarize ATAC counts, set up peaks reference"
   ]
  },
  {
   "cell_type": "code",
   "execution_count": 16,
   "id": "ecf30a65",
   "metadata": {},
   "outputs": [],
   "source": [
    "# Extract and binarize the ATAC counts data\n",
    "DefaultAssay(adata) <- 'ATAC_CTpeaks'\n",
    "atac.counts <- GetAssayData(adata,slot='counts')\n",
    "atac.counts.bin <- BinarizeCounts(atac.counts)"
   ]
  },
  {
   "cell_type": "code",
   "execution_count": 17,
   "id": "1ac13215",
   "metadata": {},
   "outputs": [],
   "source": [
    "# Get data frame of all peaks in ATAC matrix\n",
    "make_peaks_mtx <- function(atac.counts.bin){\n",
    "    #extract peaks and modify naming convention\n",
    "    peaks <- data.frame(names=row.names(atac.counts.bin))\n",
    "    peaks$names <- gsub(\"-\",\"_\",peaks$names)\n",
    "    \n",
    "    #extract chr as seqnames\n",
    "    getchr <- function(x){ return(strsplit(x,'_')[[1]][1])}\n",
    "    peaks$seqnames <- lapply(peaks$names, getchr)\n",
    "    peaks$seqnames <- as.character(peaks$seqnames)\n",
    "    \n",
    "    #extract start position\n",
    "    getstart <- function(x){ return(strsplit(x,'_')[[1]][2])}\n",
    "    peaks$start <- lapply(peaks$names, getstart)\n",
    "    peaks$start <- as.numeric(peaks$start)\n",
    "    \n",
    "    #extract end position\n",
    "    getend <- function(x){ return(strsplit(x,'_')[[1]][3])}\n",
    "    peaks$end <- lapply(peaks$names, getend)\n",
    "    peaks$end <- as.numeric(peaks$end)\n",
    "\n",
    "    peaks <- data.table(peaks)\n",
    "    peaks <- peaks[complete.cases(peaks),]\n",
    "    return(peaks)\n",
    "}"
   ]
  },
  {
   "cell_type": "code",
   "execution_count": 18,
   "id": "4d15d019",
   "metadata": {},
   "outputs": [],
   "source": [
    "# Remake the peak names with _ instead of -\n",
    "peak_names <- gsub('-','_',row.names(atac.counts.bin))\n",
    "row.names(atac.counts.bin) <- peak_names\n",
    "\n",
    "# Create the overall peaks matrix (position info for all peaks)\n",
    "peaks <- make_peaks_mtx(atac.counts.bin)\n",
    "total_npeaks <- nrow(peaks)"
   ]
  },
  {
   "cell_type": "markdown",
   "id": "8fa20bca",
   "metadata": {},
   "source": [
    "### Quick check that all data structures agree with each other\n",
    "- Are the barcodes the same across RNA and ATAC objects?\n",
    "- Do the ct_peaks match the ATAC object peaks?"
   ]
  },
  {
   "cell_type": "code",
   "execution_count": 21,
   "id": "f157205c",
   "metadata": {},
   "outputs": [
    {
     "data": {
      "text/plain": [
       "\n",
       "  TRUE \n",
       "174819 "
      ]
     },
     "metadata": {},
     "output_type": "display_data"
    },
    {
     "data": {
      "text/plain": [
       "\n",
       "  TRUE \n",
       "112687 "
      ]
     },
     "metadata": {},
     "output_type": "display_data"
    },
    {
     "data": {
      "text/plain": [
       "\n",
       "  TRUE \n",
       "109718 "
      ]
     },
     "metadata": {},
     "output_type": "display_data"
    }
   ],
   "source": [
    "table(colnames(atac.counts.bin) == colnames(rna.counts))\n",
    "table(ct_peaks_list[['beta']] %in% row.names(atac.counts.bin))\n",
    "table(ct_peaks_list[['gamma']] %in% row.names(atac.counts.bin))\n",
    "\n",
    "### looks good!"
   ]
  },
  {
   "cell_type": "markdown",
   "id": "bb0320aa",
   "metadata": {},
   "source": [
    "# 2. SMORES Functions"
   ]
  },
  {
   "cell_type": "markdown",
   "id": "033e31cb",
   "metadata": {},
   "source": [
    "### Celltype and gene specific data processing"
   ]
  },
  {
   "cell_type": "code",
   "execution_count": 6,
   "id": "08c5aa39",
   "metadata": {},
   "outputs": [],
   "source": [
    "### Make a genomic range around a given gene using a coords file\n",
    "get_ir_fin <- function(gene, ref_df, b_away=1000000){\n",
    "    if (gene %in% ref_df$V4 == TRUE){\n",
    "        ref_df_cut <- ref_df[ref_df$V4 ==gene,]\n",
    "        chr        <- as.character(ref_df_cut$V1)\n",
    "        if (ref_df_cut$V6 == '-'){\n",
    "            tss <- max(c(ref_df_cut$V2,ref_df_cut$V3))\n",
    "        } else {\n",
    "            tss <- min((c(ref_df_cut$V2,ref_df_cut$V3)))\n",
    "        }\n",
    "        start  <- tss - b_away\n",
    "        end    <- tss + b_away\n",
    "        ir     <- IRanges(start = start, end = end, seqnames=chr)\n",
    "        ir     <- data.table(data.frame(ir))\n",
    "        return(ir)\n",
    "    } else {\n",
    "        ir <- IRanges(start = 0, end = 1, seqnames=NA)\n",
    "        ir <- data.table(data.frame(ir))\n",
    "        return(ir)\n",
    "    }\n",
    "}\n",
    "    \n",
    "### Find overlaps between ir (IRanges obj for one range) and the peaks list\n",
    "get_overlaps <- function(ir, peaks){\n",
    "    setkey(ir, seqnames, start, end)\n",
    "    setkey(peaks, seqnames, start, end)\n",
    "    overlaps <- foverlaps(peaks, ir, type=\"any\")\n",
    "    overlaps <- overlaps[complete.cases(overlaps),]\n",
    "    return(overlaps)\n",
    "}\n",
    "\n",
    "### Create a matrix of peaks in the vicinity of a gene (from overlaps) that were called in\n",
    "### a specific cell type (list is an input)\n",
    "### Returns a sparse matrix of binarized ATAC counts for peaks active in a cell type overlapping a gene of interest\n",
    "get_celltype_peaks_for_gene <- function(overlaps, atac.counts.bin, celltype.bcs, celltype, ct_peaks_list){\n",
    "    overlapping_peaks <- overlaps$names\n",
    "    \n",
    "    # Read in peaks for celltype and use to filter overlapping_peaks    \n",
    "    ct_peaks <- ct_peaks_list[[celltype]]    \n",
    "    overlapping_peaks_ct <- overlapping_peaks[overlapping_peaks %in% ct_peaks]\n",
    "\n",
    "    # Cut down atac df to filtered overlapping peaks\n",
    "    # Check if there even are any overlapping peaks for this celltype\n",
    "    if (length(overlapping_peaks_ct) < 1){\n",
    "        fin_peaks_for_gene <- -1\n",
    "    # If there's only one overlapping peak, gotta do a bit of a workaround...\n",
    "    } else if (length(overlapping_peaks_ct) == 1){\n",
    "        fin_peaks_for_gene <- as.data.frame(atac.counts.bin[overlapping_peaks_ct, celltype.bcs])\n",
    "        colnames(fin_peaks_for_gene) <- overlapping_peaks_ct\n",
    "    } else {\n",
    "        peaks_for_gene <- atac.counts.bin[overlapping_peaks_ct,celltype.bcs]\n",
    "        fin_peaks_for_gene <- t(as.data.frame(peaks_for_gene)) #transpose so that BCs are rownames and peaks are cols\n",
    "    }\n",
    "    return(fin_peaks_for_gene)    \n",
    "}"
   ]
  },
  {
   "cell_type": "markdown",
   "id": "00783e46",
   "metadata": {},
   "source": [
    "### Normalization and Scaling"
   ]
  },
  {
   "cell_type": "code",
   "execution_count": 7,
   "id": "306ea978",
   "metadata": {},
   "outputs": [],
   "source": [
    "### Function to normalize gex for seq_depth \n",
    "### This returns the counts of the gene/million (similar to TPM but not normalized by gene length)\n",
    "norm_gex <- function(gex, seq_depth){\n",
    "    return(gex/(seq_depth/1e6))\n",
    "}"
   ]
  },
  {
   "cell_type": "markdown",
   "id": "d035ef40",
   "metadata": {},
   "source": [
    "### Actually running the method (with background permutations)"
   ]
  },
  {
   "cell_type": "code",
   "execution_count": 8,
   "id": "d5a75224",
   "metadata": {},
   "outputs": [],
   "source": [
    "### Take the gex x cells and peaks x cells matrices and shuffle cell labels for both\n",
    "### shuffles within sample using data.table\n",
    "shuffle_BCs_vect <- function(y){\n",
    "    dt <- data.table(sample=substr(y,1,4), barcode=y)\n",
    "    dt <- setDT(dt)[, barcode2:=sample(barcode), by=sample]\n",
    "    return(dt$barcode2)\n",
    "}\n",
    "\n",
    "### This is the function to parallelize and call for each iteration of permuting BCs\n",
    "### It permutes the barcodes and the performs correlation between all peaks and the normalized gene expression\n",
    "perform_cor_permuted_BCs <- function(iteration, peaks, gex){\n",
    "    # Shuffle BCs for both objects within sample (peaks is a matrix, gex is a vector)\n",
    "    peaks_perm <- peaks\n",
    "    rownames(peaks_perm) <- shuffle_BCs_vect(rownames(peaks_perm))\n",
    "    peaks_perm <- peaks_perm[rownames(peaks),]\n",
    "    \n",
    "    # If there's only one peak gotta do some extra df manipulation\n",
    "    if (dim(peaks)[2] == 1){\n",
    "        peaks_perm <- as.data.frame(peaks_perm)\n",
    "        colnames(peaks_perm) <- colnames(peaks)\n",
    "    }\n",
    "    \n",
    "    gex_perm <- gex\n",
    "    new_bcs <- shuffle_BCs_vect(names(gex))\n",
    "    names(gex_perm) <- new_bcs\n",
    "    gex_perm <- gex_perm[names(gex)]\n",
    "    \n",
    "    # Perform correlation\n",
    "    peak_cors <- apply(peaks_perm, 2, cor, x=gex_perm, method=\"spearman\")\n",
    "    return (peak_cors)\n",
    "}"
   ]
  },
  {
   "cell_type": "code",
   "execution_count": 9,
   "id": "a326b1cd",
   "metadata": {},
   "outputs": [],
   "source": [
    "### This function compares the real correlation values to the shuffled background values\n",
    "### To generate an empirical 2-sided pvalue for a correlation which it returns\n",
    "### This assumes the REAL value is the first value in the distrib vector\n",
    "get_cor_pvalue <- function(distrib, N){\n",
    "    distrib <- abs(distrib)\n",
    "    value <- distrib[1]\n",
    "    background <- distrib[-1]\n",
    "    \n",
    "    # Compare value to ordered background to see significance\n",
    "    pvalue <- length(background[background > value])/N\n",
    "    return(pvalue)    \n",
    "}\n",
    "\n",
    "### Function to write the pvalues of ALL connections to a celltype specific bedpe file\n",
    "extract_peak_pvalues <- function(cors, pvalues, peaks, ir, outdir, celltype, gene, b_away=1000000){\n",
    "    # Get peak coords from pvalues names and gene coords from IR\n",
    "    peak.info <- as.data.frame(str_split_fixed(peaks, '_', 3))\n",
    "    gene.info <- ir[,c(4,1,2)]\n",
    "    gene.info <- rbind(gene.info, gene.info[rep(1,length(pvalues)-1),])\n",
    "    tss <- gene.info$start + b_away\n",
    "    gene.info$start <- tss\n",
    "    gene.info$end <- tss + 1\n",
    "    bedpe.info <- cbind(peak.info, gene.info, as.data.frame(rep(gene,length(pvalues))), \n",
    "                       as.data.frame(cors), as.data.frame(pvalues))\n",
    "    out_fp <- file.path(outdir, sprintf('%s_gene_tables',celltype), sprintf('%s_ALL_gene-peaks_corr_pvalues.bedpe', gene))\n",
    "    write.table(bedpe.info, out_fp, sep='\\t', col.names=FALSE, row.names=FALSE, quote=FALSE)\n",
    "}"
   ]
  },
  {
   "cell_type": "code",
   "execution_count": 10,
   "id": "b790718f",
   "metadata": {},
   "outputs": [],
   "source": [
    "### This function organizes all the steps for each celltype-gene pair to correlate nearby cell type links\n",
    "### with the gene's normalized expression and calculate an empirical p-value based on permutations\n",
    "perform_cor_permuted_BCs_wrapper <- function(gene, celltype, adata, peaks, ct_peaks_list, ref_df, outdir, N){\n",
    "    log_file = file.path(outdir, sprintf('%s_log.txt',celltype))\n",
    "    #need to make SURE gene is in ref_df (otherwise get_ir_gin fails)\n",
    "    if (!gene %in% ref_df$V4){\n",
    "        write(sprintf('%s not in ref_df, cannot perform analysis %s', gene, Sys.time()), file=log_file, append=TRUE)\n",
    "    } else {\n",
    "        # Run basic analysis on correct BCs first\n",
    "        # Read in gene expression data and normalize by seq_depth\n",
    "        celltype.bcs <- names(Idents(adata)[Idents(adata) == celltype])\n",
    "        gex_counts <- rna.counts[gene,celltype.bcs] #pull out counts for gene for celltype\n",
    "        gex_counts_norm <- norm_gex(gex_counts, seq_depth_rna[celltype.bcs]) #normalize relevant counts by seq_depth\n",
    "\n",
    "        # Set up necessary data structures for peaks (to correlate with gex)\n",
    "        ir <- get_ir_fin(gene, ref_df) #get genomic range of gene\n",
    "        overlaps <- get_overlaps(ir, peaks) #create a list of nearby peaks\n",
    "        ctpeaks_for_gene <- get_celltype_peaks_for_gene(overlaps, atac.counts.bin, celltype.bcs, celltype, ct_peaks_list)\n",
    "\n",
    "        # Quick check if we were able to get any ct peaks nearby the gene\n",
    "        if (ctpeaks_for_gene == -1){\n",
    "            write(sprintf('%s doesn\\'t have any nearby peaks called in %s cells, cannot perform analysis %s', gene, celltype, Sys.time()), file=log_file, append=TRUE)\n",
    "        } else {\n",
    "            write(paste(gene, Sys.time()), file=log_file, append=TRUE)\n",
    "            # Perform correlation between normalized gex counts and the penalized peaks\n",
    "            real_peak_cors <- apply(ctpeaks_for_gene, 2, cor, x=gex_counts_norm, method=\"spearman\")\n",
    "\n",
    "            ### For N times, shuffle barcodes (WITHIN EACH SAMPLE) and repeat ^ steps to get underlying distribution\n",
    "            cor_distribs <- lapply(seq(1:N),\n",
    "                                     perform_cor_permuted_BCs, ctpeaks_for_gene, gex_counts_norm)\n",
    "\n",
    "            # Convert background correlation runs into a data frame (rows are peaks, cols are correlation coefs)\n",
    "            # Add in the real results as the first column\n",
    "            all_cor_results <- data.frame(real_peak_cors)\n",
    "            all_cor_results <- cbind(all_cor_results, as.data.frame(cor_distribs))\n",
    "            colnames(all_cor_results) <- seq(0,N,1)    \n",
    "\n",
    "            # Compare the real_peak_cors to the corresponding cor_distribs to calculate significance\n",
    "            # Calculate empirical p-values based on assumption that correlation is positive/negative\n",
    "            pvalues <- unlist(apply(all_cor_results, 1, get_cor_pvalue, N))\n",
    "\n",
    "            # Write peak, gene coords, gene name and pvalue to a celltype file\n",
    "            extract_peak_pvalues(real_peak_cors, pvalues, colnames(ctpeaks_for_gene), ir, outdir, celltype, gene)\n",
    "        }   \n",
    "    }\n",
    "}\n",
    "\n",
    "\n",
    "### Function which reads in the output file from a round of correlation permutation cRE-gene links for multiple genes\n",
    "### and one celltype. It will then FDR correct all pvalues together, and output results to one file\n",
    "fdr_correct_celltype_links <- function(celltype, genes, outdir, fdr=0.1){\n",
    "    # Read in data into a list and then rbind\n",
    "    gene_dfs <- list()\n",
    "    missing_genes <- c()\n",
    "    for (gene in genes){\n",
    "        fp <- file.path(outdir, sprintf('%s_gene_tables',celltype), sprintf('%s_ALL_gene-peaks_corr_pvalues.bedpe', gene))\n",
    "        if (file.exists(fp) == TRUE){\n",
    "            gene_dfs[[gene]] <- read.table(fp, sep='\\t', header=FALSE)\n",
    "        } else {\n",
    "            print(paste(gene,'not found', sep=' '))\n",
    "            missing_genes <- c(missing_genes, gene)\n",
    "        }  \n",
    "    }\n",
    "    # Write out missing genes to a file? ### maybe add this in later if I want TO DO\n",
    "    \n",
    "    # Make one df with all results and save to file\n",
    "    df <- rbindlist(gene_dfs)\n",
    "    colnames(df) <- c('chr1','start1','end1','chr2','start2','end2','gene','corr_coef','pvalue')\n",
    "    out_fp1 <- file.path(outdir, sprintf('%s_ALL_ct_peaks_corr_pvalues.bedpe', celltype))\n",
    "    write.table(df, out_fp1, sep='\\t', col.names=FALSE, row.names=FALSE, quote=FALSE)\n",
    "    \n",
    "    # Calculate qvalues with Storey's method, then add to the df and write a new filtered file (based on fdr threshold)\n",
    "    qvalues <- try(suppressWarnings(qvalue(df$pvalue, fdr.level=fdr)))\n",
    "    df$qvalue <- qvalues$qvalue\n",
    "    signif_df <- df[df$qvalue < fdr,]\n",
    "    return(signif_df)\n",
    "}"
   ]
  },
  {
   "cell_type": "code",
   "execution_count": 11,
   "id": "a2379c7a",
   "metadata": {},
   "outputs": [],
   "source": [
    "### Function which loops through a list of celltypes and genes and runs the correlation + permutation method\n",
    "### on all pairs of them (every gene for every celltype)\n",
    "### After looping through all genes, FDR corrects ALL peak p-values for a celltype together\n",
    "perform_ct_gene_cor_wrapper <- function(adata, peaks, ct_peaks_list, celltypes, genes, outdir, num_genes_parallel){\n",
    "    fdr <- 0.1\n",
    "    num_cores <- num_genes_parallel\n",
    "    \n",
    "    for (celltype in celltypes){\n",
    "        dir.create(sprintf('%s/%s_gene_tables',outdir,celltype), showWarnings=FALSE)\n",
    "        bettermc::mclapply(genes, perform_cor_permuted_BCs_wrapper, celltype, adata, peaks, \n",
    "                   ct_peaks_list, ref_df, outdir, N=100,\n",
    "                   mc.cores = num_cores, mc.preschedule=FALSE)\n",
    "        \n",
    "        # FDR correct pvalues together and write output file\n",
    "        signif_df <- fdr_correct_celltype_links(celltype, genes, outdir, fdr)\n",
    "        out_fp <- file.path(outdir, sprintf('%s_linked_ct_peaks_fdr%s_corr.bedpe',celltype, fdr))\n",
    "        write.table(signif_df, out_fp, sep='\\t', col.names=FALSE, row.names=FALSE, quote=FALSE)                \n",
    "\n",
    "        # Delete all individual gene files (whole dir)\n",
    "        gene_dir <- file.path(outdir, sprintf('%s_gene_tables', celltype))\n",
    "        system(sprintf('rm -r %s', gene_dir))\n",
    "    }\n",
    "}"
   ]
  },
  {
   "cell_type": "markdown",
   "id": "922a1893",
   "metadata": {},
   "source": [
    "# 3. Run SMORES method"
   ]
  },
  {
   "cell_type": "code",
   "execution_count": 22,
   "id": "ff833a30",
   "metadata": {},
   "outputs": [],
   "source": [
    "### Function for running SMORES on an individual cell type (gets genes list, etc)\n",
    "run_link_corr_ct <- function(celltype, genes_dir, outdir, log_fp){\n",
    "    # Write time to overall log file\n",
    "    write(sprintf('Starting cRE-gene correlation for %s cells: %s', celltype, Sys.time()), file=log_fp, append=TRUE)\n",
    "\n",
    "    # Make a subdir of outdir for this celltype\n",
    "    ct_outdir <- file.path(outdir, celltype)\n",
    "    print(ct_outdir)\n",
    "    dir.create(ct_outdir, showWarnings=FALSE)\n",
    "    \n",
    "    # Get all genes expressed in the celltype\n",
    "    fp <- file.path(genes_dir, sprintf('%s_expressed_genes_TPM1.txt', celltype))\n",
    "    ct_genes <- scan(fp, what='', sep='\\n')\n",
    "    ct_genes <- ct_genes[ct_genes %in% ref_df$V4]\n",
    "\n",
    "    # Remove any genes with '/' in the name\n",
    "    ct_genes <- ct_genes[!grepl('/',ct_genes)]\n",
    "    write(sprintf('Number of genes expressed in %s cells: %s', celltype, length(ct_genes)), file=log_fp, append=TRUE)\n",
    "    \n",
    "    # Get the number of cells within this celltype (just for fun)\n",
    "    num_cells <- length(Idents(adata)[Idents(adata) == celltype])\n",
    "    write(sprintf('Number of cells classified as %s cells: %s', celltype, num_cells), file=log_fp, append=TRUE)\n",
    "    \n",
    "    # Run the correlation-based links method for all genes in parallel!\n",
    "    perform_ct_gene_cor_wrapper(adata, peaks, ct_peaks_list, c(celltype), ct_genes, ct_outdir, 10)\n",
    "    \n",
    "    # Write time to overall log file\n",
    "    write(sprintf('Finished cRE-gene correlation for %s cells: %s', celltype, Sys.time()), file=log_fp, append=TRUE)\n",
    "    write(' ', file=log_fp, append=TRUE)\n",
    "}"
   ]
  },
  {
   "cell_type": "code",
   "execution_count": null,
   "id": "71eb2961",
   "metadata": {},
   "outputs": [],
   "source": [
    "### Ex 1: One cell type SMORES run (beta cells)\n",
    "\n",
    "ct <- 'beta'\n",
    "genes_dir <- '/nfs/lab/projects/multiomic_islet/outputs/multiome/rna_profiles/recluster_final_clustering_v2/major_celltype_TPM'\n",
    "outdir <- '/nfs/lab/projects/multiomic_islet/outputs/multiome/cRE-gene_links/230109_final_map_spearman'\n",
    "log_fp <- file.path(outdir, 'all_genes_log.txt')\n",
    "\n",
    "run_link_corr_ct(ct, genes_dir, outdir, log_fp)"
   ]
  },
  {
   "cell_type": "code",
   "execution_count": null,
   "id": "d8a9fb39",
   "metadata": {},
   "outputs": [],
   "source": [
    "### Ex 2: Run SMORES on multiple cell types (one after the other)\n",
    "for (ct in celltypes[-1]){\n",
    "    genes_dir <- '/nfs/lab/projects/multiomic_islet/outputs/multiome/rna_profiles/recluster_final_clustering_v2/major_celltype_TPM'\n",
    "    outdir <- '/nfs/lab/projects/multiomic_islet/outputs/multiome/cRE-gene_links/230109_final_map_spearman'\n",
    "    log_fp <- file.path(outdir, 'all_genes_log.txt')\n",
    "\n",
    "    run_link_corr_ct(ct, genes_dir, outdir, log_fp)\n",
    "}"
   ]
  },
  {
   "cell_type": "markdown",
   "id": "d036ddc1",
   "metadata": {},
   "source": [
    "# TO DO: get rid of the warning message that outputs for EVERY gene! (LOL)"
   ]
  },
  {
   "cell_type": "code",
   "execution_count": null,
   "id": "fc884024",
   "metadata": {},
   "outputs": [],
   "source": []
  }
 ],
 "metadata": {
  "kernelspec": {
   "display_name": "R 4.1",
   "language": "R",
   "name": "ir411"
  },
  "language_info": {
   "codemirror_mode": "r",
   "file_extension": ".r",
   "mimetype": "text/x-r-source",
   "name": "R",
   "pygments_lexer": "r",
   "version": "4.1.1"
  }
 },
 "nbformat": 4,
 "nbformat_minor": 5
}
