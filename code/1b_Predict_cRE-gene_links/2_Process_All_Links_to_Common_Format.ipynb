{
 "cells": [
  {
   "cell_type": "markdown",
   "id": "431a7b5a",
   "metadata": {},
   "source": [
    "### Summary:\n",
    "In this notebook we will process the ABC and Cicero links into a format that matches our other cRE-gene link outputs and subset SMORES links to be only CP links (cRE-promoter). In this notebook we will also process both the significant and non-significant links files from ABC and Cicero to a format that can be used in downstream analyses when building background sets for enrichment. \n",
    "\n",
    "Required inputs:\n",
    "- cRE-gene links from SMORES, ABC, and Cicero\n",
    "- Bed file of all cREs in our final map\n",
    "- Bed files of per cell type accessible peaks"
   ]
  },
  {
   "cell_type": "markdown",
   "id": "0fe037dc",
   "metadata": {},
   "source": [
    "# 1. Basic Preparation"
   ]
  },
  {
   "cell_type": "code",
   "execution_count": 1,
   "id": "d9abd3d9",
   "metadata": {},
   "outputs": [],
   "source": [
    "# Import necessary libraries\n",
    "suppressMessages(library(tidyverse))\n",
    "suppressMessages(library(stringr))\n",
    "suppressMessages(library(tictoc))\n",
    "suppressMessages(library(parallel))"
   ]
  },
  {
   "cell_type": "code",
   "execution_count": 2,
   "id": "79f9aa4f",
   "metadata": {},
   "outputs": [],
   "source": [
    "# Define celltypes list\n",
    "celltypes <- c('beta','alpha','delta','gamma','ductal','acinar')"
   ]
  },
  {
   "cell_type": "markdown",
   "id": "c6265659",
   "metadata": {},
   "source": [
    "### Define necessary reference files"
   ]
  },
  {
   "cell_type": "code",
   "execution_count": 3,
   "id": "b275ef88",
   "metadata": {},
   "outputs": [],
   "source": [
    "# Read in the gene coords reference file\n",
    "ref_df <- read.table('non-diabetic-islet-multiomics/references/gene_coords.gencodev32.hg38.bed', sep='\\t', header=FALSE) #read in gene coords ref\n",
    "\n",
    "# Read in the TSS500bp version of the gene coords reference file\n",
    "TSS_ref_fp <- 'non-diabetic-islet-multiomics/references/gene_coords.gencodev32.hg38.TSS500bp.bed'\n",
    "TSS_ref_df <- read.table(TSS_ref_fp, sep='\\t')"
   ]
  },
  {
   "cell_type": "code",
   "execution_count": 4,
   "id": "ff8cac91",
   "metadata": {},
   "outputs": [],
   "source": [
    "# All CREs (merged list)\n",
    "cres_fp <- '/path/to/all/peaks/bed'\n",
    "\n",
    "# Celltype specific CREs file path = ct_cres_prefix + celltype + ct_cres_suffix\n",
    "ct_cres_prefix <- '/dir/with/per/celltype/cREs/'\n",
    "ct_cres_suffix <- '.suffix.bed'"
   ]
  },
  {
   "cell_type": "markdown",
   "id": "a3d21446",
   "metadata": {},
   "source": [
    "### Establish file naming practices for links files"
   ]
  },
  {
   "cell_type": "code",
   "execution_count": 5,
   "id": "6321a906",
   "metadata": {},
   "outputs": [],
   "source": [
    "# HM method links files = hm_prefix + celltype + '/' + celltype + hm_suffix\n",
    "hm_prefix <- '/dir/with/smores/results/'\n",
    "hm_suffix1 <- '_linked_ct_peaks_fdr0.1_corr.bedpe'\n",
    "hm_suffix2 <- '_ALL_ct_peaks_corr_pvalues.bedpe'\n",
    "\n",
    "# Outdir for CP-only SMORES links\n",
    "hm_outdir <- '/dir/for/CP/smores/results'"
   ]
  },
  {
   "cell_type": "code",
   "execution_count": 6,
   "id": "c483298b",
   "metadata": {},
   "outputs": [],
   "source": [
    "# Celltype specific ABC files = abc_prefix + celltype + abc_suffix\n",
    "abc_prefix <- '/dir/with/ABC/results/'\n",
    "abc_suffix <- '/Prediction/EnhancerPredictions.hg38.mapped.bedpe'\n",
    "\n",
    "# Outdir for reformatted ABC links\n",
    "abc_outdir <- '/dir/to/save/reformatted/ABC/results'"
   ]
  },
  {
   "cell_type": "code",
   "execution_count": 7,
   "id": "bca8024c",
   "metadata": {},
   "outputs": [],
   "source": [
    "# Celltype specific Cicero files = cic_prefix + celltype + cic_suffix\n",
    "cic_prefix <- '/dir/with/Cicero/results/Cicero_links.'\n",
    "cic_suffix <- '.above0.05.dedup.bedpe'\n",
    "cic_suffix2 <- '.all.bedpe' #all links\n",
    "\n",
    "# Outdir for reformatted ABC links\n",
    "cic_outdir <- '/dir/to/save/reformatted/sig/Cicero/results'\n",
    "cic_outdir2 <- '/dir/to/save/reformatted/all/Cicero/results'"
   ]
  },
  {
   "cell_type": "code",
   "execution_count": 8,
   "id": "2116fd2b",
   "metadata": {},
   "outputs": [],
   "source": [
    "# Directory to write the 3 method combined background file to\n",
    "overlap_outdir <- '/dir/to/save/combined/background/file/to'"
   ]
  },
  {
   "cell_type": "markdown",
   "id": "39b3b6de",
   "metadata": {},
   "source": [
    "# 2. Reformat ABC Links\n",
    "Because ABC maps peaks to hg19, runs predictions, and then maps back the cREs the cRE coords may no longer match our original peak calls, so we need to remap to them.\n",
    "Considerations:\n",
    "- The bedtools intersect command to overlap ABC CREs with the peak calls list sometimes returns double outputs (aka one CRE is mapped to the same peak twice)"
   ]
  },
  {
   "cell_type": "markdown",
   "id": "d426c20a",
   "metadata": {},
   "source": [
    "## 2a. Reformat significant links"
   ]
  },
  {
   "cell_type": "markdown",
   "id": "2deb6731",
   "metadata": {},
   "source": [
    "### Functions"
   ]
  },
  {
   "cell_type": "code",
   "execution_count": 40,
   "id": "0d148031",
   "metadata": {},
   "outputs": [],
   "source": [
    "### Function to overlap the ABC CREs with the peaks list\n",
    "overlap_with_peaks <- function(celltype, abc_fp, abc_outdir){\n",
    "    # Get the left side coordinates from each ABC link (unique and sorted)\n",
    "    df <- read.table(abc_fp, sep='\\t')\n",
    "    sites <- df[,c(1,2,3)]\n",
    "    chr_names <- c(paste(\"chr\",seq(1:22),sep=''),'chrX','chrY')\n",
    "    sites_cut <- sites[sites$V1 %in% chr_names,]\n",
    "    all_sites_list = paste(sites_cut$V1,sites_cut$V2,sites_cut$V3,sep='_')\n",
    "    all_sites_list <- sort(unique(all_sites_list))\n",
    "    \n",
    "    # Output a bed file of these coordinates \n",
    "    fin_df <- as.data.frame(str_split_fixed(all_sites_list, '_', n=3))\n",
    "    out_fp <- file.path(abc_outdir, sprintf('%s_all_linked_sites.bed', celltype))\n",
    "    write.table(fin_df, out_fp, sep='\\t', row.names=FALSE, col.names=FALSE, quote=FALSE)\n",
    "    \n",
    "    # Overlap with celltype CREs list using bedtools in the terminal\n",
    "    # Previously used -f but this loses some overlaps (if ABC peak is larger than mapping peak)\n",
    "    abc_cres <- out_fp\n",
    "    cres_fp <- paste0(ct_cres_prefix, celltype, ct_cres_suffix)\n",
    "    overlap_fp <- file.path(abc_outdir, sprintf('%s_all_linked_sites.mergedPeaks.overlap.bed', celltype))\n",
    "    cmd <- paste('bedtools intersect -a', abc_cres, '-b', cres_fp, '-wo >',overlap_fp, sep=' ')\n",
    "    system(cmd)\n",
    "}\n",
    "\n",
    "\n",
    "### Function to map ABC cRE coords to overlapping peaks and output reformatted dataframe\n",
    "map_to_overlap_peaks <- function(celltype, abc_fp, abc_outdir){\n",
    "    # Read in the bedtools intersect output, cut out repeats, and get map\n",
    "    overlap_fp <- file.path(abc_outdir, sprintf('%s_all_linked_sites.mergedPeaks.overlap.bed', celltype))\n",
    "    abc_overlap <- read.table(overlap_fp, sep='\\t')\n",
    "    abc_overlap$peak1 <- paste(abc_overlap$V1, abc_overlap$V2, abc_overlap$V3, sep='-')\n",
    "    abc_overlap$peak2 <- paste(abc_overlap$V4, abc_overlap$V5, abc_overlap$V6, sep='-')\n",
    "    \n",
    "    # Decide between peaks that map to multiple peaks (based on bp overlap)\n",
    "    # Sort by the overlap # and then remove duplicate peak1\n",
    "    abc_overlap_sort <- abc_overlap[order(abc_overlap$V7, decreasing = TRUE),]\n",
    "    abc_overlap_cut <- abc_overlap_sort[!duplicated(abc_overlap_sort$peak1),c(8,9)]\n",
    "    \n",
    "    # Read in ABC output and map CRE coords\n",
    "    abc_df <- read.table(abc_fp, sep='\\t')\n",
    "    abc_df$peak1 <- paste(abc_df$V1, abc_df$V2, abc_df$V3, sep=\"-\")\n",
    "    abc_df_overlap <- merge(abc_df, abc_overlap_cut, by='peak1')\n",
    "    abc_nomap <- abc_df[!abc_df$peak1 %in% abc_overlap$peak1,seq(1,8)]\n",
    "\n",
    "    # Print out statistics\n",
    "    print(celltype)\n",
    "    print(paste('Number of unique peaks before mapping: ',length(unique(abc_df$peak1)), sep=''))\n",
    "    print(paste('Number of mapped links: ', dim(abc_df_overlap)[1], '/', dim(abc_df)[1], sep=''))\n",
    "    print(paste('Number of unmapped links: ', dim(abc_nomap)[1], '/', dim(abc_df)[1], sep=''))\n",
    "    print('')\n",
    "\n",
    "    # Now make final output ABC df where the CRE coords cols are altered to be the mapped ones\n",
    "    # Excludes any links for which the CRE did not map\n",
    "    fin_abc_df <- cbind(str_split_fixed(abc_df_overlap$peak2, '-', 3), abc_df_overlap[,c(5,6,7,8,9)])\n",
    "    mapped_abc_fp <- file.path(abc_outdir, sprintf('%s_mapped_links.bedpe',celltype))\n",
    "    write.table(fin_abc_df, mapped_abc_fp, sep='\\t', row.names=FALSE, col.names=FALSE, quote=FALSE)\n",
    "}"
   ]
  },
  {
   "cell_type": "markdown",
   "id": "5b9c8f55",
   "metadata": {},
   "source": [
    "### Run functions on all celltypes to reformat links"
   ]
  },
  {
   "cell_type": "code",
   "execution_count": 41,
   "id": "0633fcec",
   "metadata": {},
   "outputs": [
    {
     "name": "stdout",
     "output_type": "stream",
     "text": [
      "[1] \"beta\"\n",
      "[1] \"Number of unique peaks before mapping: 13213\"\n",
      "[1] \"Number of mapped links: 39306/39495\"\n",
      "[1] \"Number of unmapped links: 189/39495\"\n",
      "[1] \"\"\n",
      "[1] \"alpha\"\n",
      "[1] \"Number of unique peaks before mapping: 14026\"\n",
      "[1] \"Number of mapped links: 40883/41043\"\n",
      "[1] \"Number of unmapped links: 160/41043\"\n",
      "[1] \"\"\n",
      "[1] \"delta\"\n",
      "[1] \"Number of unique peaks before mapping: 13439\"\n",
      "[1] \"Number of mapped links: 40612/40774\"\n",
      "[1] \"Number of unmapped links: 162/40774\"\n",
      "[1] \"\"\n",
      "[1] \"gamma\"\n",
      "[1] \"Number of unique peaks before mapping: 13606\"\n",
      "[1] \"Number of mapped links: 40763/40868\"\n",
      "[1] \"Number of unmapped links: 105/40868\"\n",
      "[1] \"\"\n",
      "[1] \"ductal\"\n",
      "[1] \"Number of unique peaks before mapping: 15859\"\n",
      "[1] \"Number of mapped links: 56454/56518\"\n",
      "[1] \"Number of unmapped links: 64/56518\"\n",
      "[1] \"\"\n",
      "[1] \"acinar\"\n",
      "[1] \"Number of unique peaks before mapping: 14940\"\n",
      "[1] \"Number of mapped links: 48776/48905\"\n",
      "[1] \"Number of unmapped links: 129/48905\"\n",
      "[1] \"\"\n",
      "8.987 sec elapsed\n"
     ]
    }
   ],
   "source": [
    "tic()\n",
    "for (celltype in celltypes){\n",
    "    abc_fp <- paste0(abc_prefix1, celltype, abc_suffix)\n",
    "    overlap_with_peaks(celltype, abc_fp, abc_outdir)\n",
    "    map_to_overlap_peaks(celltype, abc_fp, abc_outdir)\n",
    "}\n",
    "toc()"
   ]
  },
  {
   "cell_type": "markdown",
   "id": "ed6b1a45",
   "metadata": {},
   "source": [
    "## 2b. Reformat non-significant links (huge files, this will take a while)\n",
    "Steps:\n",
    "1. Convert to bedpe \n",
    "    1. Map ABC CRE coords to peaks set (get garbled from repeated liftover)\n",
    "    2. Get gene coords from ref file\n",
    "    3. Reformat as a bedpe\n",
    "2. Remove links above distance threshold (1Mb)"
   ]
  },
  {
   "cell_type": "markdown",
   "id": "255090cf",
   "metadata": {},
   "source": [
    "### Functions"
   ]
  },
  {
   "cell_type": "code",
   "execution_count": 36,
   "id": "92062a24",
   "metadata": {},
   "outputs": [],
   "source": [
    "### Function to extract a gene's TSS from the reference file\n",
    "get_TSS <- function(gene, ref_df){\n",
    "    if (gene %in% ref_df$V4 == TRUE){\n",
    "        ref_df_cut = ref_df[ref_df$V4 ==gene,]\n",
    "        if (ref_df_cut$V6 == '-'){\n",
    "            tss = max(c(ref_df_cut$V2,ref_df_cut$V3))\n",
    "        } else {\n",
    "            tss = min((c(ref_df_cut$V2,ref_df_cut$V3)))\n",
    "        }\n",
    "        return(tss)\n",
    "    } else {\n",
    "        return(NA)\n",
    "    }\n",
    "}\n",
    "\n",
    "\n",
    "### Function to calculate link distances from a bedpe style dataframe row\n",
    "calc_link_distance <- function(link_df_row){\n",
    "    CRE_start <- as.integer(link_df_row[2])\n",
    "    CRE_end <- as.integer(link_df_row[3])\n",
    "    gene_start <- as.integer(link_df_row[5])\n",
    "    CRE_center <- CRE_start + (CRE_end - CRE_start)/2\n",
    "    distance <- abs(CRE_center - gene_start)\n",
    "    return(distance)\n",
    "}\n",
    "\n",
    "\n",
    "### Function to overlap the ABC CREs with the peaks list\n",
    "overlap_with_peaks <- function(celltype, abc_fp, abc_outdir){\n",
    "    # Get the left side coordinates from each ABC link (unique and sorted)\n",
    "    df <- read.table(abc_fp, sep='\\t')\n",
    "    sites <- df[,c(1,2,3)]\n",
    "    chr_names <- c(paste(\"chr\",seq(1:22),sep=''),'chrX','chrY')\n",
    "    sites_cut <- sites[sites$V1 %in% chr_names,]\n",
    "    all_sites_list = paste(sites_cut$V1,sites_cut$V2,sites_cut$V3,sep='_')\n",
    "    all_sites_list <- sort(unique(all_sites_list))\n",
    "    \n",
    "    # Output a bed file of these coordinates \n",
    "    fin_df <- as.data.frame(str_split_fixed(all_sites_list, '_', n=3))\n",
    "    abc_cres_fp <- file.path(abc_outdir, sprintf('%s_all_nonsig_linked_sites.bed', celltype))\n",
    "    write.table(fin_df, abc_cres_fp, sep='\\t', row.names=FALSE, col.names=FALSE, quote=FALSE)\n",
    "    \n",
    "    # Overlap with celltype CREs list using bedtools in the terminal\n",
    "    # Previously used -f but this loses some overlaps (if ABC peak is larger than mapping peak)\n",
    "    cres_fp <- paste0(ct_cres_prefix, celltype, ct_cres_suffix)\n",
    "    overlap_fp <- file.path(abc_outdir, sprintf('%s_all_nonsig_linked_sites.mergedPeaks.overlap.bed', celltype))\n",
    "    cmd <- paste('bedtools intersect -a', abc_cres_fp, '-b', cres_fp, '-wo >',overlap_fp, sep=' ')\n",
    "    system(cmd)\n",
    "}\n",
    "\n",
    "\n",
    "### Function to map ABC cRE coords to overlapping peaks and output reformatted dataframe\n",
    "map_to_overlap_peaks <- function(celltype, abc_fp, abc_outdir){\n",
    "    # Read in the bedtools intersect output, cut out repeats, and get map\n",
    "    overlap_fp <- file.path(abc_outdir, sprintf('%s_all_nonsig_linked_sites.mergedPeaks.overlap.bed', celltype))\n",
    "    abc_overlap <- read.table(overlap_fp, sep='\\t')\n",
    "    abc_overlap$peak1 <- paste(abc_overlap$V1, abc_overlap$V2, abc_overlap$V3, sep='-')\n",
    "    abc_overlap$peak2 <- paste(abc_overlap$V4, abc_overlap$V5, abc_overlap$V6, sep='-')\n",
    "    \n",
    "    # Decide between peaks that map to multiple peaks (based on bp overlap)\n",
    "    # Sort by the overlap # and then remove duplicate peak1\n",
    "    abc_overlap_sort <- abc_overlap[order(abc_overlap$V7, decreasing = TRUE),]\n",
    "    abc_overlap_cut <- abc_overlap_sort[!duplicated(abc_overlap_sort$peak1),c(8,9)]\n",
    "    \n",
    "    # Read in ABC output and map CRE coords\n",
    "    abc_df <- read.table(abc_fp, sep='\\t')\n",
    "    abc_df$peak1 <- paste(abc_df$V1, abc_df$V2, abc_df$V3, sep=\"-\")\n",
    "    abc_df_overlap <- merge(abc_df, abc_overlap_cut, by='peak1')\n",
    "    abc_nomap <- abc_df[!abc_df$peak1 %in% abc_overlap$peak1,seq(1,8)]\n",
    "\n",
    "    # Print out statistics\n",
    "    print(celltype)\n",
    "    print(paste('Number of mapped links: ', dim(abc_df_overlap)[1], '/', dim(abc_df)[1], sep=''))\n",
    "    print(paste('Number of unmapped links: ', dim(abc_nomap)[1], '/', dim(abc_df)[1], sep=''))\n",
    "    print('')\n",
    "\n",
    "    # Now make final output ABC df where the CRE coords cols are altered to be the mapped ones\n",
    "    # Excludes any links for which the CRE did not map (peak one is moved to leftmost col by merge)\n",
    "    fin_abc_df <- cbind(str_split_fixed(abc_df_overlap$peak2, '-', 3), abc_df_overlap[,c(5,6,7,8,9)])\n",
    "    mapped_abc_fp <- file.path(abc_outdir, sprintf('%s_nonsig_mapped_links.bedpe',celltype))\n",
    "    write.table(fin_abc_df, mapped_abc_fp, sep='\\t', row.names=FALSE, col.names=FALSE, quote=FALSE)\n",
    "}\n",
    "\n",
    "\n",
    "### Function to prepare ABC background links reference using R, not bash\n",
    "### Subset for links with score < 0.02, remove NaN links, select for 1Mb distance max\n",
    "### Output everything that passes this to a file in bedpe format for comparisons\n",
    "prep_ABC_background <- function(celltype, abc_dir, outdir, score_threshold=0.02, dist_threshold=1000000){\n",
    "    # Read in all putative links\n",
    "    all_links_fp <- file.path(abc_dir, 'EnhancerPredictionsAllPutative.txt.gz')\n",
    "    all_links <- read.table(all_links_fp, sep='\\t', header=TRUE)\n",
    "    print(paste0('Number of links in AllPutative: ', dim(all_links)[1]))\n",
    "\n",
    "    # Remove links that are NaN\n",
    "    all_links_cut <- all_links[!is.na(all_links$ABC.Score),]\n",
    "    print(paste0('Number of links that are not NaN: ', dim(all_links_cut)[1]))\n",
    "    \n",
    "    # Convert to bedpe format -- get TSS coords for each gene from ref_df\n",
    "    genes <- all_links_cut$TargetGene    \n",
    "    unique_genes <- unique(genes)\n",
    "    gene_tss <- sapply(unique_genes, get_TSS, ref_df)\n",
    "    tss_info <- data.frame(gene_tss, gene_tss+1)\n",
    "    tss_info$TargetGene <- unique_genes\n",
    "\n",
    "    # Merge TSS coords into all_links_cut and select cols to make a bedpe\n",
    "    merged_df <- merge(all_links_cut, tss_info, by='TargetGene')\n",
    "    all_links_bedpe <- merged_df[,c(2,3,4,2,25,26,1,21)] #TargetGene becomes col 1 in merge\n",
    "\n",
    "    # Remove links more than 1Mb apart (or whatever distance threshold you choose)\n",
    "    distances <- unlist(apply(all_links_bedpe, 1, calc_link_distance))\n",
    "    fin_links <- all_links_bedpe[distances <= dist_threshold,]\n",
    "    print(paste0('Number of links below distance threshold (', dist_threshold, 'bps): ', dim(fin_links)[1]))\n",
    "    \n",
    "    filt_fp <- file.path(abc_dir, 'EnhancerPredictionsAllPutative.filtered.txt')\n",
    "    write.table(fin_links, filt_fp, sep='\\t', row.names=FALSE, col.names=FALSE, quote=FALSE)\n",
    "    \n",
    "    # Map CRE coords to peak calls (gzip files)\n",
    "    overlap_with_peaks(celltype, filt_fp, outdir)\n",
    "    map_to_overlap_peaks(celltype, filt_fp, outdir)\n",
    "    system(sprintf('gzip %s', filt_fp))\n",
    "}"
   ]
  },
  {
   "cell_type": "markdown",
   "id": "8f8261b0",
   "metadata": {},
   "source": [
    "### Use functions to prepare the non-significant links files"
   ]
  },
  {
   "cell_type": "code",
   "execution_count": 53,
   "id": "559b5ce6",
   "metadata": {
    "scrolled": true
   },
   "outputs": [
    {
     "name": "stdout",
     "output_type": "stream",
     "text": [
      "[1] \"beta 2023-03-02 13:28:10\"\n",
      "[1] \"Number of links in AllPutative: 9334969\"\n",
      "[1] \"Number of links below threshold and not NaN: 9168946\"\n",
      "[1] \"Number of links below distance threshold (1e+06bps): 2085731\"\n",
      "[1] \"beta\"\n",
      "[1] \"Number of mapped links: 308002/2085731\"\n",
      "[1] \"Number of unmapped links: 1777729/2085731\"\n",
      "[1] \"\"\n",
      "[1] \"\"\n",
      "[1] \"alpha 2023-03-02 13:57:51\"\n",
      "[1] \"Number of links in AllPutative: 10141622\"\n",
      "[1] \"Number of links below threshold and not NaN: 9970018\"\n",
      "[1] \"Number of links below distance threshold (1e+06bps): 2285905\"\n",
      "[1] \"alpha\"\n",
      "[1] \"Number of mapped links: 349230/2285905\"\n",
      "[1] \"Number of unmapped links: 1936675/2285905\"\n",
      "[1] \"\"\n",
      "[1] \"\"\n",
      "[1] \"delta 2023-03-02 14:31:02\"\n",
      "[1] \"Number of links in AllPutative: 10155074\"\n",
      "[1] \"Number of links below threshold and not NaN: 9976711\"\n",
      "[1] \"Number of links below distance threshold (1e+06bps): 2257965\"\n",
      "[1] \"delta\"\n",
      "[1] \"Number of mapped links: 340528/2257965\"\n",
      "[1] \"Number of unmapped links: 1917437/2257965\"\n",
      "[1] \"\"\n",
      "[1] \"\"\n",
      "[1] \"gamma 2023-03-02 14:58:46\"\n",
      "[1] \"Number of links in AllPutative: 9839413\"\n",
      "[1] \"Number of links below threshold and not NaN: 9666028\"\n",
      "[1] \"Number of links below distance threshold (1e+06bps): 2216227\"\n",
      "[1] \"gamma\"\n",
      "[1] \"Number of mapped links: 336836/2216227\"\n",
      "[1] \"Number of unmapped links: 1879391/2216227\"\n",
      "[1] \"\"\n",
      "[1] \"\"\n",
      "[1] \"ductal 2023-03-02 15:22:30\"\n",
      "[1] \"Number of links in AllPutative: 12209686\"\n",
      "[1] \"Number of links below threshold and not NaN: 12009320\"\n",
      "[1] \"Number of links below distance threshold (1e+06bps): 2744784\"\n",
      "[1] \"ductal\"\n",
      "[1] \"Number of mapped links: 433061/2744784\"\n",
      "[1] \"Number of unmapped links: 2311723/2744784\"\n",
      "[1] \"\"\n",
      "[1] \"\"\n",
      "[1] \"acinar 2023-03-02 15:49:24\"\n",
      "[1] \"Number of links in AllPutative: 8979600\"\n",
      "[1] \"Number of links below threshold and not NaN: 8813390\"\n",
      "[1] \"Number of links below distance threshold (1e+06bps): 2028762\"\n",
      "[1] \"acinar\"\n",
      "[1] \"Number of mapped links: 306867/2028762\"\n",
      "[1] \"Number of unmapped links: 1721895/2028762\"\n",
      "[1] \"\"\n",
      "[1] \"\"\n",
      "9758.366 sec elapsed\n"
     ]
    }
   ],
   "source": [
    "# ABC prepare files for compare connections -- previously this only took like 5-15 mins per cell type\n",
    "\n",
    "tic()\n",
    "for (celltype in celltypes){\n",
    "    print(paste(celltype, Sys.time()))\n",
    "    abc_dir <- paste0(abc_prefix1, celltype, \"/Prediction\")\n",
    "    outdir <- file.path(abc_outdir, 'nonsig_links')\n",
    "    prep_ABC_background(celltype, abc_dir, outdir)\n",
    "    print('')\n",
    "}\n",
    "toc()"
   ]
  },
  {
   "cell_type": "markdown",
   "id": "18dab660",
   "metadata": {},
   "source": [
    "# 3. Reformat Cicero links\n",
    "Considerations:\n",
    "- Multimapping: some CREs overlap multiple gene promoters, this will count as separate links to all the genes\n",
    "- Need to make sure CRE coords are in the first 3 columns, may need to swap coords for some rows, if prom2 has the  gene/s\n",
    "- What to list as the gene coords? The gene coords from ref df or the coords of the CRE that overlaps the genes promoter? --> when we compare links we compare CRE_gene name so should be ok to leave as is"
   ]
  },
  {
   "cell_type": "markdown",
   "id": "855c52b5",
   "metadata": {},
   "source": [
    "## 3a. Reformat significant Cicero CP links"
   ]
  },
  {
   "cell_type": "markdown",
   "id": "1d37596f",
   "metadata": {},
   "source": [
    "### Functions"
   ]
  },
  {
   "cell_type": "code",
   "execution_count": 18,
   "id": "c5121b1e",
   "metadata": {},
   "outputs": [],
   "source": [
    "### Classify links\n",
    "classify_links <- function(celltype, cic_fp, cic_outdir){\n",
    "    # Write file of all unique CREs in cicero links\n",
    "    df <- read.table(cic_fp, sep='\\t')\n",
    "    sites1 <- df[,c(1,2,3)]\n",
    "    sites2 <- df[,c(4,5,6)]\n",
    "    colnames(sites2) <- c(\"V1\",\"V2\",\"V3\")\n",
    "    chr_names <- c(paste(\"chr\",seq(1:22),sep=''),'chrX','chrY')\n",
    "    all_sites <- rbind(sites1[sites1$V1 %in% chr_names,],sites2[sites2$V1 %in% chr_names,])\n",
    "    all_sites_list <- paste(all_sites$V1,all_sites$V2,all_sites$V3,sep='_')\n",
    "    all_sites_list <- sort(unique(all_sites_list))\n",
    "\n",
    "    fin_df <- as.data.frame(str_split_fixed(all_sites_list,'_',n=3))\n",
    "    print(paste('Number of unique peaks: ', dim(fin_df)[1]))\n",
    "    out_fp <- file.path(cic_outdir,sprintf('%s_links.unique_peaks.bedpe',celltype))\n",
    "    write.table(fin_df, out_fp, sep='\\t', row.names=FALSE, col.names=FALSE, quote=FALSE)\n",
    "    \n",
    "    # Overlap peaks with gene promoters\n",
    "    cic_peaks <- out_fp\n",
    "    overlap_fp <- file.path(cic_outdir, sprintf('%s_links.unique_peaks.gencodev32_TSS500.overlap.bed',celltype))\n",
    "    cmd <- paste('bedtools intersect -a', cic_peaks, '-b', TSS_ref_fp, '-wa -wb >', overlap_fp, sep=' ')\n",
    "    system(cmd)\n",
    "    \n",
    "    # Read in gene overlaps and classify all Cicero links\n",
    "    gene_overlaps <- read.table(overlap_fp, sep='\\t')\n",
    "    gene_overlaps$peak1 <- paste(gene_overlaps$V1, gene_overlaps$V2, gene_overlaps$V3, sep='-')\n",
    "    print(paste('Number of Cicero links that overlap gene TSS regions: ',dim(gene_overlaps)[1]))\n",
    "    print(paste('Number of unique Cicero peaks that overlap at least one promoter', length(unique(gene_overlaps$peak1))))\n",
    "    \n",
    "    # Make a reference for each peak (which genes it overlaps)\n",
    "    get_genes <- function(peak, gene_overlaps){\n",
    "        gene <- gene_overlaps[gene_overlaps$peak1 == peak,7]\n",
    "        return(paste(gene, collapse=\",\"))\n",
    "    }\n",
    "    unique_peaks <- unique(gene_overlaps$peak1)\n",
    "    genes_key <- unlist(lapply(unique_peaks, get_genes, gene_overlaps))\n",
    "    names(genes_key) <- unique_peaks\n",
    "\n",
    "    # Add in promoter classifications to all the links\n",
    "    get_overlap_prom <- function(peak, genes_key){\n",
    "        if (peak %in% names(genes_key)){\n",
    "            return(genes_key[peak])\n",
    "        } else {\n",
    "            return(NA)\n",
    "        }\n",
    "    }\n",
    "    df$peak1 = paste(df$V1, df$V2, df$V3, sep='-')\n",
    "    df$peak2 = paste(df$V4, df$V5, df$V6, sep='-')\n",
    "    df$prom1 = unlist(lapply(df$peak1, get_overlap_prom, genes_key))\n",
    "    df$prom2 = unlist(lapply(df$peak2, get_overlap_prom, genes_key))\n",
    "\n",
    "    # Classify each link based on prom1 and prom2\n",
    "    classify_link <- function(df_row){\n",
    "        prom1 = df_row[['prom1']]\n",
    "        prom2 = df_row[['prom2']]\n",
    "        if (is.na(prom1) && is.na(prom2)){\n",
    "            return('CC')\n",
    "        } else if (!is.na(prom1) && is.na(prom2)){\n",
    "            return('CP')\n",
    "        } else if (!is.na(prom1) && !is.na(prom2)){\n",
    "            return('PP')\n",
    "        } else if (is.na(prom1) && !is.na(prom2)){\n",
    "            return('CP')\n",
    "        }\n",
    "    }\n",
    "    df$class = apply(df,1, classify_link)\n",
    "    print(table(df$class))\n",
    "    out_fp = file.path(cic_outdir,sprintf('%s_links.wClass.bedpe',celltype))\n",
    "    write.table(df[,-8],out_fp, sep='\\t', col.names=FALSE, row.names=FALSE, quote=FALSE)\n",
    "    print('')\n",
    "}\n",
    "\n",
    "\n",
    "### Cut down links to CP (CRE-gene promoter links)\n",
    "cut_links_to_CP <- function(celltype, cic_outdir){\n",
    "    # Read in classified cicero outputs\n",
    "    cic_fp <- file.path(cic_outdir,sprintf('%s_links.wClass.bedpe',celltype))\n",
    "    print(cic_fp)\n",
    "    cic_df <- read.table(cic_fp, sep='\\t')\n",
    "    colnames(cic_df) <- c('chrom1', 'start1', 'end1', 'chrom2', 'start2', 'end2', 'Cicero_score', \n",
    "                          'peak1', 'peak2', 'prom1', 'prom2', 'class')\n",
    "\n",
    "    # Cut down to just CP links\n",
    "    cic_cp <- cic_df[cic_df$class == 'CP',]\n",
    "    print(paste('CP links: ', dim(cic_cp)[1], '/', dim(cic_df)[1], sep=''))\n",
    "    return(cic_cp)\n",
    "}\n",
    "\n",
    "\n",
    "### Reformat links to be: CRE coords, gene coords, gene name, score\n",
    "reformat_CP_links <- function(cic_cp, celltype, cic_outdir){\n",
    "    # Extract gene name from either prom1 or prom2 column\n",
    "    get_gene <- function(row){\n",
    "        gene1 <- row[[\"prom1\"]]\n",
    "        gene2 <- row[[\"prom2\"]]\n",
    "        if (is.na(gene1)){\n",
    "            return(gene2)\n",
    "        } else {\n",
    "            return(gene1)\n",
    "        }\n",
    "    }\n",
    "    cic_cp$gene <- apply(cic_cp, 1, get_gene)\n",
    "\n",
    "    # Separate out multigene rows into new df for further work\n",
    "    cic_cp1 <- cic_cp[!grepl(',', cic_cp$gene),]\n",
    "    cic_cp2 <- cic_cp[grepl(',', cic_cp$gene),]\n",
    "    multigenes <- cic_cp2$gene\n",
    "    cic_cp2_split <- data.frame()\n",
    "\n",
    "    # Go through every row from multigene rows and split up each gene to a new row\n",
    "    for(i in seq(1,dim(cic_cp2)[1])){\n",
    "        genes <- unlist(strsplit(multigenes[[i]], ','))\n",
    "        df_row <- cic_cp2[i,seq(1,12)]\n",
    "        new_rows <- rbind(df_row, rep(df_row[rep(1,length(genes)-1),]))\n",
    "        new_rows$gene <- genes\n",
    "        cic_cp2_split <- rbind(cic_cp2_split, new_rows)\n",
    "    }\n",
    "\n",
    "    # Combine split multigenes with the one gene rows in cic_cp1\n",
    "    cic_cp_combo <- rbind(cic_cp1, cic_cp2_split)\n",
    "\n",
    "    # Swap coords for links where prom2 has the gene\n",
    "    cic_left <- cic_cp_combo[!is.na(cic_cp_combo$prom1),]\n",
    "    cic_right <- cic_cp_combo[!is.na(cic_cp_combo$prom2),]\n",
    "    cic_left <- cic_left[,c(4,5,6,1,2,3,seq(7,13))]\n",
    "    colnames(cic_left) <- c('chrom1', 'start1', 'end1', 'chrom2', 'start2', 'end2', 'Cicero_score', \n",
    "                          'peak1', 'peak2', 'prom1', 'prom2', 'class', 'gene')\n",
    "    cic_fin <- rbind(cic_right, cic_left)\n",
    "\n",
    "    # Make final df for output (sort by CRE positions, cut out unnecessary cols)\n",
    "    cic_fin <- cic_fin[order(cic_fin$chrom1,cic_fin$start1),]\n",
    "    cic_fin2 <- cic_fin[,c(seq(1,6),13,7)] #order: coords, gene, score\n",
    "    print(paste('Final number of distinct CRE-gene links: ',dim(cic_fin2)[1], sep=''))\n",
    "\n",
    "    # Output to a file!\n",
    "    out_fp <- file.path(cic_outdir, sprintf('%s_links.CP_reformat.bedpe',celltype))\n",
    "    write.table(cic_fin2, out_fp, sep='\\t', row.names=FALSE, col.names=FALSE, quote=FALSE)\n",
    "}"
   ]
  },
  {
   "cell_type": "markdown",
   "id": "793ed3a3",
   "metadata": {},
   "source": [
    "### Run functions on all celltypes to reformat links"
   ]
  },
  {
   "cell_type": "code",
   "execution_count": null,
   "id": "9fe56fd7-d27f-4b57-a3f2-3a4e6fe0fc5b",
   "metadata": {},
   "outputs": [],
   "source": [
    "# Run function to create classified output file (input is already FDR thresholded)\n",
    "tic()\n",
    "for (celltype in celltypes){\n",
    "    cic_fp <- paste0(cic_prefix, celltype, cic_suffix)\n",
    "    print(cic_fp)\n",
    "    classify_links(celltype, cic_fp, cic_outdir)\n",
    "}\n",
    "toc()"
   ]
  },
  {
   "cell_type": "code",
   "execution_count": null,
   "id": "1e2f4c15-4c48-45b9-8f60-a95093ddb744",
   "metadata": {
    "scrolled": true
   },
   "outputs": [],
   "source": [
    "# Cut down Cicero outputs to CP links and reformat\n",
    "tic()\n",
    "for (celltype in celltypes){\n",
    "    print(celltype)\n",
    "    cic_cp <- cut_links_to_CP(celltype, cic_outdir)\n",
    "    reformat_CP_links(cic_cp, celltype, cic_outdir)\n",
    "    print('')\n",
    "}\n",
    "toc()"
   ]
  },
  {
   "cell_type": "markdown",
   "id": "9cbed5b7",
   "metadata": {},
   "source": [
    "## 3b. Process non-significant links to CP bedpe files with gene names\n",
    "Steps:\n",
    "1. Deduplicate links (remove repeated links, generally where CREs are swapped)\n",
    "2. Overlap all CREs with a gene TSS file and then classify links as CC, CP, PP \n",
    "3. Reformat CP links to have gene names listed and separate lines, also with gene coords (just using TSS500 coords here)"
   ]
  },
  {
   "cell_type": "markdown",
   "id": "5ffe0b7f",
   "metadata": {},
   "source": [
    "### Functions"
   ]
  },
  {
   "cell_type": "code",
   "execution_count": 12,
   "id": "1d85fa0e",
   "metadata": {},
   "outputs": [],
   "source": [
    "### Function to remove duplicate connections, from all links file\n",
    "dedup_all_links <- function(all_links_fp, outdir, celltype){\n",
    "    # Read in all_links file\n",
    "    out_df_cut <- read.table(all_links_fp, sep='\\t')\n",
    "    \n",
    "    # Remove duplicated links (same peaks and score, diff order)\n",
    "    get_ordered_peaks <- function(row){\n",
    "        if (row[2] < row[5]){\n",
    "            peak1 = paste(row[[1]], as.character(row[[2]]), as.character(row[[3]]), sep='-')\n",
    "            peak2 = paste(row[[4]], as.character(row[[5]]), as.character(row[[6]]), sep='-')\n",
    "        } else {\n",
    "            peak1 = paste(row[[4]], as.character(row[[5]]), as.character(row[[6]]), sep='-')\n",
    "            peak2 = paste(row[[1]], as.character(row[[2]]), as.character(row[[3]]), sep='-')\n",
    "        }\n",
    "        return(paste(peak1,peak2,sep='_'))\n",
    "    }\n",
    "\n",
    "    out_df_cut$ordered_peaks = apply(out_df_cut,1,get_ordered_peaks)\n",
    "    out_df_fin = out_df_cut[!duplicated(out_df_cut$ordered_peaks),]\n",
    "\n",
    "    # Output the thresholded and dedup df\n",
    "    out_fp2 = file.path(outdir,sprintf('Cicero_links.%s.all.dedup.bedpe',celltype))\n",
    "    write.table(out_df_fin, out_fp2, sep='\\t', col.names=FALSE, row.names=FALSE, quote=FALSE)\n",
    "}\n",
    "\n",
    "\n"
   ]
  },
  {
   "cell_type": "markdown",
   "id": "c7fc912b",
   "metadata": {},
   "source": [
    "### Use functions to deduplicate all links and select for CP links, add gene name\n",
    "One cell type example"
   ]
  },
  {
   "cell_type": "code",
   "execution_count": 16,
   "id": "4f0f2b3d",
   "metadata": {},
   "outputs": [
    {
     "name": "stdout",
     "output_type": "stream",
     "text": [
      "[1] \"beta 2023-02-24 12:11:48\"\n",
      "[1] \"2023-02-24 12:31:04 PST\"\n"
     ]
    }
   ],
   "source": [
    "# Deduplicate all links -- took about 20 mins\n",
    "for (celltype in c('beta')){\n",
    "    print(paste(celltype, Sys.time()))\n",
    "    cic_fp <- paste0(cic_prefix, celltype, cic_suffix2)\n",
    "    dedup_all_links(cic_fp, cic_outdir2, celltype)\n",
    "}\n",
    "\n",
    "print(Sys.time())"
   ]
  },
  {
   "cell_type": "code",
   "execution_count": 19,
   "id": "cf4b442d",
   "metadata": {
    "scrolled": true
   },
   "outputs": [
    {
     "name": "stdout",
     "output_type": "stream",
     "text": [
      "[1] \"Number of unique peaks:  109918\"\n",
      "[1] \"Number of Cicero links that overlap gene TSS regions:  18632\"\n",
      "[1] \"Number of unique Cicero peaks that overlap at least one promoter 15024\"\n",
      "\n",
      "     CC      CP      PP \n",
      "3287657 1027391  114743 \n",
      "[1] \"\"\n",
      "8965.603 sec elapsed\n"
     ]
    }
   ],
   "source": [
    "# Run function to create classified output file (same functions, diff outdir) -- took 2.5 hours to run\n",
    "tic()\n",
    "for (celltype in c('beta')){\n",
    "    cic_fp <- file.path(cic_outdir2,sprintf('Cicero_links.%s.all.dedup.bedpe',celltype))\n",
    "    classify_links(celltype, cic_fp, cic_outdir2)\n",
    "}\n",
    "toc()"
   ]
  },
  {
   "cell_type": "code",
   "execution_count": 20,
   "id": "0df5de2c",
   "metadata": {
    "scrolled": true
   },
   "outputs": [
    {
     "name": "stdout",
     "output_type": "stream",
     "text": [
      "[1] \"beta\"\n",
      "[1] \"/nfs/lab/projects/multiomic_islet/outputs/multiome/cRE-gene_links/cicero/230111_final_map/reprocessed_all_links/beta_links.wClass.bedpe\"\n",
      "[1] \"CP links: 1027391/4429791\"\n",
      "[1] \"Final number of distinct CRE-gene links: 1270478\"\n",
      "[1] \"\"\n",
      "115584.908 sec elapsed\n"
     ]
    }
   ],
   "source": [
    "# Cut down Cicero outputs to CP links and reformat (same functions, diff outdir -- took 32 hours to run\n",
    "tic()\n",
    "for (celltype in c('beta')){\n",
    "    print(celltype)\n",
    "    cic_cp <- cut_links_to_CP(celltype, cic_outdir2)\n",
    "    reformat_CP_links(cic_cp, celltype, cic_outdir2)\n",
    "    print('')\n",
    "}\n",
    "toc()"
   ]
  },
  {
   "cell_type": "markdown",
   "id": "22b1165f",
   "metadata": {},
   "source": [
    "### Also filter all tested Cicero links for score <=0.02 and distance <=1Mb"
   ]
  },
  {
   "cell_type": "code",
   "execution_count": 49,
   "id": "898c264b",
   "metadata": {},
   "outputs": [],
   "source": [
    "### Function to calculate link distances from a bedpe style dataframe row\n",
    "calc_link_distance <- function(link_df_row){\n",
    "    CRE_start <- as.integer(link_df_row[2])\n",
    "    CRE_end <- as.integer(link_df_row[3])\n",
    "    gene_start <- as.integer(link_df_row[5])\n",
    "    CRE_center <- CRE_start + (CRE_end - CRE_start)/2\n",
    "    distance <- abs(CRE_center - gene_start)\n",
    "    return(distance)\n",
    "}\n",
    "\n",
    "\n",
    "### Function to filter Cicero background links reference using R, not bash\n",
    "### Subset for links with score <= 0.02, select for 1Mb distance max\n",
    "### These files should already be in a bedpe format!\n",
    "filter_cicero_background <- function(celltype, cic_fp, outdir, score_threshold=0.02, dist_threshold=1000000){\n",
    "    # Read in the processed background bedpe file\n",
    "    all_links <- read.table(cic_fp, sep='\\t', header=TRUE)\n",
    "    colnames(all_links) <- c('CRE_chr','CRE_start','CRE_end','gene_chr','gene_start','gene_end','gene','score')\n",
    "\n",
    "    # Remove links passing the significance threshold (0.02) and which are not NaN\n",
    "    all_links_cut <- all_links[all_links$score <= score_threshold,]\n",
    "    \n",
    "    # Remove links more than 1Mb apart (or whatever distance threshold you choose)\n",
    "    distances <- unlist(apply(all_links_cut, 1, calc_link_distance))\n",
    "    fin_links <- all_links_cut[distances <= dist_threshold,]\n",
    "    \n",
    "    filt_fp <- str_replace(cic_fp, \"CP_reformat\", \"final_filt\")\n",
    "    write.table(fin_links, filt_fp, sep='\\t', row.names=FALSE, col.names=FALSE, quote=FALSE)\n",
    "}"
   ]
  },
  {
   "cell_type": "code",
   "execution_count": 50,
   "id": "9f52582c",
   "metadata": {},
   "outputs": [
    {
     "name": "stdout",
     "output_type": "stream",
     "text": [
      "[1] \"beta 2023-03-02 11:05:40\"\n",
      "[1] \"/nfs/lab/projects/multiomic_islet/outputs/multiome/cRE-gene_links/cicero/230111_final_map/reprocessed_all_links/beta_links.CP_reformat.bedpe\"\n",
      "[1] \"\"\n",
      "[1] \"alpha 2023-03-02 11:06:07\"\n",
      "[1] \"/nfs/lab/projects/multiomic_islet/outputs/multiome/cRE-gene_links/cicero/230111_final_map/reprocessed_all_links/alpha_links.CP_reformat.bedpe\"\n",
      "[1] \"\"\n",
      "[1] \"delta 2023-03-02 11:06:45\"\n",
      "[1] \"/nfs/lab/projects/multiomic_islet/outputs/multiome/cRE-gene_links/cicero/230111_final_map/reprocessed_all_links/delta_links.CP_reformat.bedpe\"\n",
      "[1] \"\"\n",
      "[1] \"gamma 2023-03-02 11:07:19\"\n",
      "[1] \"/nfs/lab/projects/multiomic_islet/outputs/multiome/cRE-gene_links/cicero/230111_final_map/reprocessed_all_links/gamma_links.CP_reformat.bedpe\"\n",
      "[1] \"\"\n",
      "[1] \"ductal 2023-03-02 11:07:54\"\n",
      "[1] \"/nfs/lab/projects/multiomic_islet/outputs/multiome/cRE-gene_links/cicero/230111_final_map/reprocessed_all_links/ductal_links.CP_reformat.bedpe\"\n",
      "[1] \"\"\n",
      "[1] \"acinar 2023-03-02 11:08:32\"\n",
      "[1] \"/nfs/lab/projects/multiomic_islet/outputs/multiome/cRE-gene_links/cicero/230111_final_map/reprocessed_all_links/acinar_links.CP_reformat.bedpe\"\n",
      "[1] \"\"\n",
      "199.92 sec elapsed\n"
     ]
    }
   ],
   "source": [
    "tic()\n",
    "for (celltype in celltypes){\n",
    "    print(paste(celltype, Sys.time()))\n",
    "    cic_fp <- file.path(cic_outdir2,sprintf('%s_links.CP_reformat.bedpe',celltype))\n",
    "    print(cic_fp)\n",
    "    filter_cicero_background(celltype, cic_fp, outdir)\n",
    "    print('')\n",
    "}\n",
    "toc()"
   ]
  },
  {
   "cell_type": "markdown",
   "id": "f3fe6da8",
   "metadata": {},
   "source": [
    "# 4. Subset SMORES links to CP links"
   ]
  },
  {
   "cell_type": "markdown",
   "id": "29264e30",
   "metadata": {},
   "source": [
    "## 4a. Classify links as CP or PP"
   ]
  },
  {
   "cell_type": "markdown",
   "id": "080c09db",
   "metadata": {},
   "source": [
    "### Functions"
   ]
  },
  {
   "cell_type": "code",
   "execution_count": null,
   "id": "a40067b5",
   "metadata": {},
   "outputs": [],
   "source": [
    "### Classify links -- based on function used to classify Cicero links (very similar)\n",
    "### celltype_prefix contains cell type name AND sig/all (for link set)\n",
    "classify_links <- function(celltype_prefix, fp, outdir){\n",
    "    # Write file of all unique CREs in links (only left set of coords here!)\n",
    "    df <- read.table(fp, sep='\\t')\n",
    "    sites <- df[,c(1,2,3)]\n",
    "    chr_names <- c(paste(\"chr\",seq(1:22),sep=''),'chrX','chrY')\n",
    "    all_sites <- sites[sites$V1 %in% chr_names,]\n",
    "    all_sites_list <- paste(all_sites$V1,all_sites$V2,all_sites$V3,sep='_')\n",
    "    all_sites_list <- sort(unique(all_sites_list))\n",
    "\n",
    "    fin_df <- as.data.frame(str_split_fixed(all_sites_list,'_',n=3))\n",
    "    print(paste('Number of unique peaks: ', dim(fin_df)[1]))\n",
    "    peaks_fp <- file.path(outdir,sprintf('%s_links.unique_peaks.bedpe',celltype_prefix))\n",
    "    write.table(fin_df, peaks_fp, sep='\\t', row.names=FALSE, col.names=FALSE, quote=FALSE)\n",
    "    \n",
    "    # Overlap peaks with gene promoters\n",
    "    overlap_fp <- file.path(outdir, sprintf('%s_links.unique_peaks.gencodev32_TSS500.overlap.bed',celltype_prefix))\n",
    "    cmd <- paste('bedtools intersect -a', peaks_fp, '-b', TSS_ref_fp, '-wa -wb >', overlap_fp, sep=' ')\n",
    "    system(cmd)\n",
    "    \n",
    "    # Read in gene overlaps and classify all links\n",
    "    gene_overlaps <- read.table(overlap_fp, sep='\\t')\n",
    "    gene_overlaps$peak1 <- paste(gene_overlaps$V1, gene_overlaps$V2, gene_overlaps$V3, sep='-')\n",
    "    print(paste('Number of TSS regions overlapping a linked CRE: ',dim(gene_overlaps)[1]))\n",
    "    print(paste('Number of linked CREs that overlap at least one promoter', length(unique(gene_overlaps$peak1))))\n",
    "    \n",
    "    # Make a reference for each peak (which genes it overlaps)\n",
    "    get_genes <- function(peak, gene_overlaps){\n",
    "        gene <- gene_overlaps[gene_overlaps$peak1 == peak,7] \n",
    "        return(paste(gene, collapse=\",\"))\n",
    "    }\n",
    "    unique_peaks <- unique(gene_overlaps$peak1)\n",
    "    genes_key <- unlist(lapply(unique_peaks, get_genes, gene_overlaps))\n",
    "    names(genes_key) <- unique_peaks\n",
    "\n",
    "    # Add in promoter classifications to all the links\n",
    "    get_overlap_prom <- function(peak, genes_key){\n",
    "        if (peak %in% names(genes_key)){\n",
    "            return(genes_key[peak])\n",
    "        } else {\n",
    "            return(NA)\n",
    "        }\n",
    "    }\n",
    "    df$peak1 = paste(df$V1, df$V2, df$V3, sep='-')\n",
    "    df$prom1 = unlist(lapply(df$peak1, get_overlap_prom, genes_key))\n",
    "\n",
    "    # Classify each link based on prom1 and prom2\n",
    "    classify_link <- function(df_row){\n",
    "        prom1 = df_row[['prom1']]\n",
    "        if(is.na(prom1)){\n",
    "            return('CP')\n",
    "        } else if(!is.na(prom1)){\n",
    "            return('PP')\n",
    "        }\n",
    "    }\n",
    "    df$class = apply(df,1, classify_link)\n",
    "    fin_df <- df[order(df$V1,df$V2),]\n",
    "    out_fp = file.path(outdir,sprintf('%s_links.wClass.bedpe',celltype_prefix))\n",
    "    write.table(fin_df,out_fp, sep='\\t', col.names=FALSE, row.names=FALSE, quote=FALSE)\n",
    "}"
   ]
  },
  {
   "cell_type": "markdown",
   "id": "1f5bbc2c",
   "metadata": {},
   "source": [
    "### Run functions to classify links"
   ]
  },
  {
   "cell_type": "code",
   "execution_count": null,
   "id": "efa14f9c",
   "metadata": {},
   "outputs": [],
   "source": [
    "# First classify significant links\n",
    "for (celltype in celltypes){\n",
    "    print(paste(celltype, Sys.time()))\n",
    "    link_fp <- paste0(hm_prefix,celltype,'/',celltype,hm_suffix1)\n",
    "    prefix <- paste0(celltype,'_sig')\n",
    "    classify_links(prefix, link_fp, file.path(hm_outdir,'intermediates'))\n",
    "    print(\"\")\n",
    "}"
   ]
  },
  {
   "cell_type": "code",
   "execution_count": null,
   "id": "b3a7aa9e",
   "metadata": {},
   "outputs": [],
   "source": [
    "# Then classify all links tested\n",
    "for (celltype in celltypes){\n",
    "    print(paste(celltype, Sys.time()))\n",
    "    link_fp2 <- paste0(hm_prefix,celltype,'/',celltype,hm_suffix2)\n",
    "    prefix2 <- paste0(celltype,'_all')\n",
    "    classify_links(prefix2, link_fp2, file.path(hm_outdir,'intermediates'))\n",
    "    print(\"\")\n",
    "}"
   ]
  },
  {
   "cell_type": "markdown",
   "id": "05e0d95f",
   "metadata": {},
   "source": [
    "## 4b. Summarize proportion of links which are PP and output CP links-only file"
   ]
  },
  {
   "cell_type": "code",
   "execution_count": null,
   "id": "9cbc23b9",
   "metadata": {},
   "outputs": [],
   "source": [
    "# Significant links\n",
    "for (celltype in celltypes){\n",
    "    # Read in classified links file\n",
    "    celltype_prefix <- paste0(celltype, '_sig')\n",
    "    classified_fp <- file.path(hm_outdir,'intermediates',sprintf('%s_links.wClass.bedpe',celltype_prefix))\n",
    "    df <- read.table(classified_fp, sep='\\t')\n",
    "    colnames(df) <- c('CRE_chr','CRE_start','CRE_end','gene_chr','gene_start','gene_end','gene',\n",
    "                      'corr','pvalue','qvalue','CRE_peak','overlap_gene','class')\n",
    "    \n",
    "    # Write out stats\n",
    "    class_prop <- table(df$class)\n",
    "    print(class_prop)\n",
    "    pp_links <- class_prop[['PP']]\n",
    "    all_links <- dim(df)[1]\n",
    "    print(paste0('Percentage of ', celltype_prefix, ' links which are PP: ', pp_links, '/', all_links, ' = ', pp_links/all_links))\n",
    "    \n",
    "    # Filter links file to CP links and output\n",
    "    cp_links <- df[df$class =='CP',seq(1,10)]\n",
    "    out_fp <- file.path(hm_outdir,sprintf('%s_CP_links.bedpe',celltype_prefix))\n",
    "    write.table(cp_links, out_fp, sep='\\t', col.names=FALSE, row.names=FALSE, quote=FALSE)\n",
    "}"
   ]
  },
  {
   "cell_type": "code",
   "execution_count": null,
   "id": "720a2076",
   "metadata": {},
   "outputs": [],
   "source": [
    "# All links\n",
    "for (celltype in celltypes){\n",
    "    # Read in classified links file\n",
    "    celltype_prefix <- paste0(celltype, '_all')\n",
    "    classified_fp <- file.path(hm_outdir,'intermediates',sprintf('%s_links.wClass.bedpe',celltype_prefix))\n",
    "    df <- read.table(classified_fp, sep='\\t')\n",
    "    colnames(df) <- c('CRE_chr','CRE_start','CRE_end','gene_chr','gene_start','gene_end','gene',\n",
    "                      'corr','pvalue','CRE_peak','overlap_gene','class')\n",
    "    \n",
    "    # Write out stats\n",
    "    class_prop <- table(df$class)\n",
    "    print(class_prop)\n",
    "    pp_links <- class_prop[['PP']]\n",
    "    all_links <- dim(df)[1]\n",
    "    print(paste0('Percentage of ', celltype_prefix, ' links which are PP: ', pp_links, '/', all_links, ' = ', pp_links/all_links))\n",
    "    \n",
    "    # Filter links file to CP links and output\n",
    "    cp_links <- df[df$class =='CP',seq(1,9)]\n",
    "    out_fp <- file.path(hm_outdir,sprintf('%s_CP_links.bedpe',celltype_prefix))\n",
    "    write.table(cp_links, out_fp, sep='\\t', col.names=FALSE, row.names=FALSE, quote=FALSE)\n",
    "}"
   ]
  },
  {
   "cell_type": "code",
   "execution_count": 2,
   "id": "0a2bac1f-6a47-4154-88e5-d8f2f496fa2e",
   "metadata": {},
   "outputs": [
    {
     "data": {
      "text/plain": [
       "R version 4.1.1 (2021-08-10)\n",
       "Platform: x86_64-pc-linux-gnu (64-bit)\n",
       "Running under: Ubuntu 20.04.2 LTS\n",
       "\n",
       "Matrix products: default\n",
       "BLAS:   /usr/lib/x86_64-linux-gnu/blas/libblas.so.3.9.0\n",
       "LAPACK: /usr/lib/x86_64-linux-gnu/lapack/liblapack.so.3.9.0\n",
       "\n",
       "locale:\n",
       " [1] LC_CTYPE=en_US.UTF-8       LC_NUMERIC=C              \n",
       " [3] LC_TIME=en_US.UTF-8        LC_COLLATE=en_US.UTF-8    \n",
       " [5] LC_MONETARY=en_US.UTF-8    LC_MESSAGES=en_US.UTF-8   \n",
       " [7] LC_PAPER=en_US.UTF-8       LC_NAME=C                 \n",
       " [9] LC_ADDRESS=C               LC_TELEPHONE=C            \n",
       "[11] LC_MEASUREMENT=en_US.UTF-8 LC_IDENTIFICATION=C       \n",
       "\n",
       "attached base packages:\n",
       "[1] parallel  stats     graphics  grDevices utils     datasets  methods  \n",
       "[8] base     \n",
       "\n",
       "other attached packages:\n",
       " [1] tictoc_1.1      forcats_0.5.2   stringr_1.4.1   dplyr_1.0.10   \n",
       " [5] purrr_0.3.5     readr_2.1.1     tidyr_1.2.1     tibble_3.1.8   \n",
       " [9] ggplot2_3.4.4   tidyverse_1.3.2\n",
       "\n",
       "loaded via a namespace (and not attached):\n",
       " [1] pbdZMQ_0.3-8        tidyselect_1.2.0    repr_1.1.4         \n",
       " [4] haven_2.5.1         gargle_1.2.1        colorspace_2.1-1   \n",
       " [7] vctrs_0.5.1         generics_0.1.3      htmltools_0.5.8.1  \n",
       "[10] base64enc_0.1-3     utf8_1.2.4          rlang_1.1.4        \n",
       "[13] pillar_1.8.1        withr_3.0.1         glue_1.7.0         \n",
       "[16] DBI_1.1.3           dbplyr_2.2.1        readxl_1.4.1       \n",
       "[19] modelr_0.1.10       uuid_1.1-0          lifecycle_1.0.4    \n",
       "[22] munsell_0.5.1       gtable_0.3.1        cellranger_1.1.0   \n",
       "[25] rvest_1.0.3         evaluate_0.24.0     tzdb_0.3.0         \n",
       "[28] fastmap_1.2.0       fansi_1.0.6         broom_1.0.0        \n",
       "[31] IRdisplay_1.1       backports_1.4.1     scales_1.2.1       \n",
       "[34] googlesheets4_1.0.1 IRkernel_1.3.1      jsonlite_1.8.8     \n",
       "[37] fs_1.6.3            hms_1.1.2           digest_0.6.36      \n",
       "[40] stringi_1.8.2       grid_4.1.1          cli_3.6.3          \n",
       "[43] tools_4.1.1         magrittr_2.0.3      crayon_1.5.3       \n",
       "[46] pkgconfig_2.0.3     ellipsis_0.3.2      xml2_1.3.3         \n",
       "[49] reprex_2.0.2        googledrive_2.0.0   lubridate_1.9.0    \n",
       "[52] timechange_0.1.1    assertthat_0.2.1    httr_1.4.4         \n",
       "[55] R6_2.5.1            compiler_4.1.1     "
      ]
     },
     "metadata": {},
     "output_type": "display_data"
    }
   ],
   "source": [
    "sessionInfo()"
   ]
  }
 ],
 "metadata": {
  "kernelspec": {
   "display_name": "R 4.1",
   "language": "R",
   "name": "ir411"
  },
  "language_info": {
   "codemirror_mode": "r",
   "file_extension": ".r",
   "mimetype": "text/x-r-source",
   "name": "R",
   "pygments_lexer": "r",
   "version": "4.1.1"
  }
 },
 "nbformat": 4,
 "nbformat_minor": 5
}
