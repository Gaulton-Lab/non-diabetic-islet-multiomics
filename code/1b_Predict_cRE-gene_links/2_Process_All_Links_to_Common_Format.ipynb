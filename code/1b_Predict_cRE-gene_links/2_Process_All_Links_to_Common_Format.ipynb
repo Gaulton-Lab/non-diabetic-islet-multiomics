{
 "cells": [
  {
   "cell_type": "markdown",
   "id": "431a7b5a",
   "metadata": {},
   "source": [
    "### Summary:\n",
    "In this notebook we will process the ABC and Cicero links into a format that matches our other cRE-gene link outputs and subset SMORES links to be only CP links (cRE-promoter). These functions are designed to work in an automated fashion and be easy to run on many outputs from different cell types. In this notebook we will also process both the significant and non-significant links files from ABC and Cicero to a format that can be used in downstream analyses when building background sets for enrichment. \n",
    "\n",
    "## TO DO: clean this up and make sure dedicated sections for background prep are good\n",
    "- I remove the sig ABC links from the AllPutative files before generating background files... but wouldn't this mean the background is incomplete? All the links in a selection should also be in the background right????\n",
    "- Pretty sure we do the same thing for Cicero non-sig too?"
   ]
  },
  {
   "cell_type": "markdown",
   "id": "0fe037dc",
   "metadata": {},
   "source": [
    "# 1. Basic Preparation"
   ]
  },
  {
   "cell_type": "code",
   "execution_count": 1,
   "id": "d9abd3d9",
   "metadata": {},
   "outputs": [],
   "source": [
    "# Import necessary libraries\n",
    "suppressMessages(library(tidyverse))\n",
    "suppressMessages(library(stringr))\n",
    "suppressMessages(library(tictoc))\n",
    "suppressMessages(library(parallel))"
   ]
  },
  {
   "cell_type": "code",
   "execution_count": 2,
   "id": "79f9aa4f",
   "metadata": {},
   "outputs": [],
   "source": [
    "# Define celltypes list\n",
    "celltypes <- c('beta','alpha','delta','gamma','ductal','acinar',\n",
    "              'stellate','endothelial','schwann','immune')\n",
    "\n",
    "h3k27ac_celltypes <- c('beta','alpha','delta','gamma','ductal','acinar')\n",
    "no_h3k27ac_celltypes <- c('stellate','endothelial','schwann','immune')"
   ]
  },
  {
   "cell_type": "markdown",
   "id": "c6265659",
   "metadata": {},
   "source": [
    "### Define necessary reference files"
   ]
  },
  {
   "cell_type": "code",
   "execution_count": 3,
   "id": "b275ef88",
   "metadata": {},
   "outputs": [],
   "source": [
    "# Read in the gene coords reference file\n",
    "ref_df <- read.table('/nfs/lab/ABC/references/gene_coords.gencodev32.hg38.bed', sep='\\t', header=FALSE) #read in gene coords ref\n",
    "\n",
    "# Read in the TSS500bp version of the gene coords reference file\n",
    "TSS_ref_fp <- '/nfs/lab/ABC/references/gene_coords.gencodev32.hg38.TSS500bp.bed'\n",
    "TSS_ref_df <- read.table(TSS_ref_fp, sep='\\t')"
   ]
  },
  {
   "cell_type": "code",
   "execution_count": 4,
   "id": "ff8cac91",
   "metadata": {},
   "outputs": [],
   "source": [
    "# All CREs (merged list)\n",
    "cres_fp <- '/nfs/lab/projects/multiomic_islet/outputs/multiome/call_peaks/recluster_final_majorCTs_v2/mergedPeak.txt'\n",
    "\n",
    "# Celltype specific CREs file path = ct_cres_prefix + celltype + ct_cres_suffix\n",
    "ct_cres_prefix <- '/nfs/lab/projects/multiomic_islet/outputs/multiome/call_peaks/recluster_final_majorCTs_v2/'\n",
    "ct_cres_suffix <- '.merged_peaks.anno.mergedOverlap.bed'"
   ]
  },
  {
   "cell_type": "markdown",
   "id": "a3d21446",
   "metadata": {},
   "source": [
    "### Establish file naming practices for links files"
   ]
  },
  {
   "cell_type": "code",
   "execution_count": 5,
   "id": "6321a906",
   "metadata": {},
   "outputs": [],
   "source": [
    "# HM method links files = hm_prefix + celltype + '/' + celltype + hm_suffix\n",
    "hm_prefix <- '/nfs/lab/projects/multiomic_islet/outputs/multiome/cRE-gene_links/230109_final_map_spearman/'\n",
    "hm_suffix1 <- '_linked_ct_peaks_fdr0.1_corr.bedpe'\n",
    "hm_suffix2 <- '_ALL_ct_peaks_corr_pvalues.bedpe'\n",
    "\n",
    "# Outdir for CP-only SMORES links\n",
    "hm_outdir <- '/nfs/lab/hmummey/multiomic_islet/intermediates/230228_SMORES_PP_investigation'"
   ]
  },
  {
   "cell_type": "code",
   "execution_count": 6,
   "id": "c483298b",
   "metadata": {},
   "outputs": [],
   "source": [
    "# Celltype specific ABC files = abc_prefix + celltype + abc_suffix\n",
    "abc_prefix1 <- '/nfs/lab/projects/multiomic_islet/outputs/multiome/run_abc/230110_allCTs/outputs/230116_H3K27ac_CTs/'\n",
    "abc_prefix2 <- '/nfs/lab/projects/multiomic_islet/outputs/multiome/run_abc/230110_allCTs/outputs/230116_no_H3K27ac_CTs/'\n",
    "abc_suffix <- '/Prediction/EnhancerPredictions.hg38.mapped.bedpe'\n",
    "\n",
    "# Outdir for reformatted ABC links\n",
    "abc_outdir <- '/nfs/lab/projects/multiomic_islet/outputs/multiome/run_abc/reprocessed_outputs/230110_allCTs'"
   ]
  },
  {
   "cell_type": "code",
   "execution_count": 7,
   "id": "bca8024c",
   "metadata": {},
   "outputs": [],
   "source": [
    "# Celltype specific Cicero files = cic_prefix + celltype + cic_suffix\n",
    "cic_prefix <- '/nfs/lab/projects/multiomic_islet/outputs/multiome/cRE-gene_links/cicero/230111_final_map/Cicero_links.'\n",
    "cic_suffix <- '.above0.05.dedup.bedpe'\n",
    "\n",
    "# Outdir for reformatted ABC links\n",
    "cic_outdir <- '/nfs/lab/projects/multiomic_islet/outputs/multiome/cRE-gene_links/cicero/230111_final_map/reprocessed_outputs'"
   ]
  },
  {
   "cell_type": "code",
   "execution_count": 8,
   "id": "2116fd2b",
   "metadata": {},
   "outputs": [],
   "source": [
    "# Directory to write the 3 method combined background file to\n",
    "overlap_outdir <- '/nfs/lab/projects/multiomic_islet/outputs/multiome/cRE-gene_links/method_overlaps/link_set_enrichment'"
   ]
  },
  {
   "cell_type": "markdown",
   "id": "39b3b6de",
   "metadata": {},
   "source": [
    "# 2. Reformat ABC Links\n",
    "Because ABC maps peaks to hg19, runs predictions, and then maps back the cREs the cRE coords may no longer match our original peak calls, so we need to remap to them.\n",
    "Considerations:\n",
    "- The bedtools intersect command to overlap ABC CREs with the peak calls list sometimes returns double outputs (aka one CRE is mapped to the same peak twice)"
   ]
  },
  {
   "cell_type": "markdown",
   "id": "d426c20a",
   "metadata": {},
   "source": [
    "## 2a. Reformat significant links"
   ]
  },
  {
   "cell_type": "markdown",
   "id": "2deb6731",
   "metadata": {},
   "source": [
    "### Functions"
   ]
  },
  {
   "cell_type": "code",
   "execution_count": 40,
   "id": "0d148031",
   "metadata": {},
   "outputs": [],
   "source": [
    "### Function to overlap the ABC CREs with the peaks list\n",
    "overlap_with_peaks <- function(celltype, abc_fp, abc_outdir){\n",
    "    # Get the left side coordinates from each ABC link (unique and sorted)\n",
    "    df <- read.table(abc_fp, sep='\\t')\n",
    "    sites <- df[,c(1,2,3)]\n",
    "    chr_names <- c(paste(\"chr\",seq(1:22),sep=''),'chrX','chrY')\n",
    "    sites_cut <- sites[sites$V1 %in% chr_names,]\n",
    "    all_sites_list = paste(sites_cut$V1,sites_cut$V2,sites_cut$V3,sep='_')\n",
    "    all_sites_list <- sort(unique(all_sites_list))\n",
    "    \n",
    "    # Output a bed file of these coordinates \n",
    "    fin_df <- as.data.frame(str_split_fixed(all_sites_list, '_', n=3))\n",
    "    out_fp <- file.path(abc_outdir, sprintf('%s_all_linked_sites.bed', celltype))\n",
    "    write.table(fin_df, out_fp, sep='\\t', row.names=FALSE, col.names=FALSE, quote=FALSE)\n",
    "    \n",
    "    # Overlap with celltype CREs list using bedtools in the terminal\n",
    "    # Previously used -f but this loses some overlaps (if ABC peak is larger than mapping peak)\n",
    "    abc_cres <- out_fp\n",
    "    cres_fp <- paste0(ct_cres_prefix, celltype, ct_cres_suffix)\n",
    "    overlap_fp <- file.path(abc_outdir, sprintf('%s_all_linked_sites.mergedPeaks.overlap.bed', celltype))\n",
    "    cmd <- paste('bedtools intersect -a', abc_cres, '-b', cres_fp, '-wo >',overlap_fp, sep=' ')\n",
    "    system(cmd)\n",
    "}\n",
    "\n",
    "\n",
    "### Function to map ABC cRE coords to overlapping peaks and output reformatted dataframe\n",
    "map_to_overlap_peaks <- function(celltype, abc_fp, abc_outdir){\n",
    "    # Read in the bedtools intersect output, cut out repeats, and get map\n",
    "    overlap_fp <- file.path(abc_outdir, sprintf('%s_all_linked_sites.mergedPeaks.overlap.bed', celltype))\n",
    "    abc_overlap <- read.table(overlap_fp, sep='\\t')\n",
    "    abc_overlap$peak1 <- paste(abc_overlap$V1, abc_overlap$V2, abc_overlap$V3, sep='-')\n",
    "    abc_overlap$peak2 <- paste(abc_overlap$V4, abc_overlap$V5, abc_overlap$V6, sep='-')\n",
    "    \n",
    "    # Decide between peaks that map to multiple peaks (based on bp overlap)\n",
    "    # Sort by the overlap # and then remove duplicate peak1\n",
    "    abc_overlap_sort <- abc_overlap[order(abc_overlap$V7, decreasing = TRUE),]\n",
    "    abc_overlap_cut <- abc_overlap_sort[!duplicated(abc_overlap_sort$peak1),c(8,9)]\n",
    "    \n",
    "    # Read in ABC output and map CRE coords\n",
    "    abc_df <- read.table(abc_fp, sep='\\t')\n",
    "    abc_df$peak1 <- paste(abc_df$V1, abc_df$V2, abc_df$V3, sep=\"-\")\n",
    "    abc_df_overlap <- merge(abc_df, abc_overlap_cut, by='peak1')\n",
    "    abc_nomap <- abc_df[!abc_df$peak1 %in% abc_overlap$peak1,seq(1,8)]\n",
    "\n",
    "    # Print out statistics\n",
    "    print(celltype)\n",
    "    print(paste('Number of unique peaks before mapping: ',length(unique(abc_df$peak1)), sep=''))\n",
    "    print(paste('Number of mapped links: ', dim(abc_df_overlap)[1], '/', dim(abc_df)[1], sep=''))\n",
    "    print(paste('Number of unmapped links: ', dim(abc_nomap)[1], '/', dim(abc_df)[1], sep=''))\n",
    "    print('')\n",
    "\n",
    "    # Now make final output ABC df where the CRE coords cols are altered to be the mapped ones\n",
    "    # Excludes any links for which the CRE did not map\n",
    "    fin_abc_df <- cbind(str_split_fixed(abc_df_overlap$peak2, '-', 3), abc_df_overlap[,c(5,6,7,8,9)])\n",
    "    mapped_abc_fp <- file.path(abc_outdir, sprintf('%s_mapped_links.bedpe',celltype))\n",
    "    write.table(fin_abc_df, mapped_abc_fp, sep='\\t', row.names=FALSE, col.names=FALSE, quote=FALSE)\n",
    "}"
   ]
  },
  {
   "cell_type": "markdown",
   "id": "5b9c8f55",
   "metadata": {},
   "source": [
    "### Run functions on all celltypes to reformat links"
   ]
  },
  {
   "cell_type": "code",
   "execution_count": 41,
   "id": "0633fcec",
   "metadata": {
    "scrolled": false
   },
   "outputs": [
    {
     "name": "stdout",
     "output_type": "stream",
     "text": [
      "[1] \"beta\"\n",
      "[1] \"Number of unique peaks before mapping: 13213\"\n",
      "[1] \"Number of mapped links: 39306/39495\"\n",
      "[1] \"Number of unmapped links: 189/39495\"\n",
      "[1] \"\"\n",
      "[1] \"alpha\"\n",
      "[1] \"Number of unique peaks before mapping: 14026\"\n",
      "[1] \"Number of mapped links: 40883/41043\"\n",
      "[1] \"Number of unmapped links: 160/41043\"\n",
      "[1] \"\"\n",
      "[1] \"delta\"\n",
      "[1] \"Number of unique peaks before mapping: 13439\"\n",
      "[1] \"Number of mapped links: 40612/40774\"\n",
      "[1] \"Number of unmapped links: 162/40774\"\n",
      "[1] \"\"\n",
      "[1] \"gamma\"\n",
      "[1] \"Number of unique peaks before mapping: 13606\"\n",
      "[1] \"Number of mapped links: 40763/40868\"\n",
      "[1] \"Number of unmapped links: 105/40868\"\n",
      "[1] \"\"\n",
      "[1] \"ductal\"\n",
      "[1] \"Number of unique peaks before mapping: 15859\"\n",
      "[1] \"Number of mapped links: 56454/56518\"\n",
      "[1] \"Number of unmapped links: 64/56518\"\n",
      "[1] \"\"\n",
      "[1] \"acinar\"\n",
      "[1] \"Number of unique peaks before mapping: 14940\"\n",
      "[1] \"Number of mapped links: 48776/48905\"\n",
      "[1] \"Number of unmapped links: 129/48905\"\n",
      "[1] \"\"\n",
      "8.987 sec elapsed\n"
     ]
    }
   ],
   "source": [
    "tic()\n",
    "for (celltype in h3k27ac_celltypes){\n",
    "    abc_fp <- paste0(abc_prefix1, celltype, abc_suffix)\n",
    "    overlap_with_peaks(celltype, abc_fp, abc_outdir)\n",
    "    map_to_overlap_peaks(celltype, abc_fp, abc_outdir)\n",
    "}\n",
    "toc()"
   ]
  },
  {
   "cell_type": "code",
   "execution_count": 42,
   "id": "36697993",
   "metadata": {},
   "outputs": [
    {
     "name": "stdout",
     "output_type": "stream",
     "text": [
      "[1] \"stellate\"\n",
      "[1] \"Number of unique peaks before mapping: 13641\"\n",
      "[1] \"Number of mapped links: 39203/39226\"\n",
      "[1] \"Number of unmapped links: 23/39226\"\n",
      "[1] \"\"\n",
      "[1] \"endothelial\"\n",
      "[1] \"Number of unique peaks before mapping: 10270\"\n",
      "[1] \"Number of mapped links: 39291/39315\"\n",
      "[1] \"Number of unmapped links: 24/39315\"\n",
      "[1] \"\"\n",
      "[1] \"schwann\"\n",
      "[1] \"Number of unique peaks before mapping: 8001\"\n",
      "[1] \"Number of mapped links: 34169/34250\"\n",
      "[1] \"Number of unmapped links: 81/34250\"\n",
      "[1] \"\"\n",
      "[1] \"immune\"\n",
      "[1] \"Number of unique peaks before mapping: 11458\"\n",
      "[1] \"Number of mapped links: 36135/36146\"\n",
      "[1] \"Number of unmapped links: 11/36146\"\n",
      "[1] \"\"\n",
      "4.651 sec elapsed\n"
     ]
    }
   ],
   "source": [
    "tic()\n",
    "for (celltype in no_h3k27ac_celltypes){\n",
    "    abc_fp <- paste0(abc_prefix2, celltype, abc_suffix)\n",
    "    overlap_with_peaks(celltype, abc_fp, abc_outdir)\n",
    "    map_to_overlap_peaks(celltype, abc_fp, abc_outdir)\n",
    "}\n",
    "toc()"
   ]
  },
  {
   "cell_type": "markdown",
   "id": "ed6b1a45",
   "metadata": {},
   "source": [
    "## 2b. Reformat non-significant links (huge files, this will take a while)\n",
    "Steps:\n",
    "1. Remove significant links from all links file -- tbh not necessary, but anything that reduces the df size here is valuable\n",
    "2. Convert to bedpe \n",
    "    1. Map ABC CRE coords to peaks set (get garbled from repeated liftover)\n",
    "    2. Get gene coords from ref file\n",
    "    3. Reformat as a bedpe\n",
    "3. Remove links above distance threshold (1Mb)"
   ]
  },
  {
   "cell_type": "markdown",
   "id": "255090cf",
   "metadata": {},
   "source": [
    "### Functions"
   ]
  },
  {
   "cell_type": "code",
   "execution_count": 36,
   "id": "92062a24",
   "metadata": {},
   "outputs": [],
   "source": [
    "### Function to extract a gene's TSS from the reference file\n",
    "get_TSS <- function(gene, ref_df){\n",
    "    if (gene %in% ref_df$V4 == TRUE){\n",
    "        ref_df_cut = ref_df[ref_df$V4 ==gene,]\n",
    "        if (ref_df_cut$V6 == '-'){\n",
    "            tss = max(c(ref_df_cut$V2,ref_df_cut$V3))\n",
    "        } else {\n",
    "            tss = min((c(ref_df_cut$V2,ref_df_cut$V3)))\n",
    "        }\n",
    "        return(tss)\n",
    "    } else {\n",
    "        return(NA)\n",
    "    }\n",
    "}\n",
    "\n",
    "\n",
    "### Function to calculate link distances from a bedpe style dataframe row\n",
    "calc_link_distance <- function(link_df_row){\n",
    "    CRE_start <- as.integer(link_df_row[2])\n",
    "    CRE_end <- as.integer(link_df_row[3])\n",
    "    gene_start <- as.integer(link_df_row[5])\n",
    "    CRE_center <- CRE_start + (CRE_end - CRE_start)/2\n",
    "    distance <- abs(CRE_center - gene_start)\n",
    "    return(distance)\n",
    "}\n",
    "\n",
    "\n",
    "### Function to overlap the ABC CREs with the peaks list\n",
    "overlap_with_peaks <- function(celltype, abc_fp, abc_outdir){\n",
    "    # Get the left side coordinates from each ABC link (unique and sorted)\n",
    "    df <- read.table(abc_fp, sep='\\t')\n",
    "    sites <- df[,c(1,2,3)]\n",
    "    chr_names <- c(paste(\"chr\",seq(1:22),sep=''),'chrX','chrY')\n",
    "    sites_cut <- sites[sites$V1 %in% chr_names,]\n",
    "    all_sites_list = paste(sites_cut$V1,sites_cut$V2,sites_cut$V3,sep='_')\n",
    "    all_sites_list <- sort(unique(all_sites_list))\n",
    "    \n",
    "    # Output a bed file of these coordinates \n",
    "    fin_df <- as.data.frame(str_split_fixed(all_sites_list, '_', n=3))\n",
    "    abc_cres_fp <- file.path(abc_outdir, sprintf('%s_all_nonsig_linked_sites.bed', celltype))\n",
    "    write.table(fin_df, abc_cres_fp, sep='\\t', row.names=FALSE, col.names=FALSE, quote=FALSE)\n",
    "    \n",
    "    # Overlap with celltype CREs list using bedtools in the terminal\n",
    "    # Previously used -f but this loses some overlaps (if ABC peak is larger than mapping peak)\n",
    "    cres_fp <- paste0(ct_cres_prefix, celltype, ct_cres_suffix)\n",
    "    overlap_fp <- file.path(abc_outdir, sprintf('%s_all_nonsig_linked_sites.mergedPeaks.overlap.bed', celltype))\n",
    "    cmd <- paste('bedtools intersect -a', abc_cres_fp, '-b', cres_fp, '-wo >',overlap_fp, sep=' ')\n",
    "    system(cmd)\n",
    "}\n",
    "\n",
    "\n",
    "### Function to map ABC cRE coords to overlapping peaks and output reformatted dataframe\n",
    "map_to_overlap_peaks <- function(celltype, abc_fp, abc_outdir){\n",
    "    # Read in the bedtools intersect output, cut out repeats, and get map\n",
    "    overlap_fp <- file.path(abc_outdir, sprintf('%s_all_nonsig_linked_sites.mergedPeaks.overlap.bed', celltype))\n",
    "    abc_overlap <- read.table(overlap_fp, sep='\\t')\n",
    "    abc_overlap$peak1 <- paste(abc_overlap$V1, abc_overlap$V2, abc_overlap$V3, sep='-')\n",
    "    abc_overlap$peak2 <- paste(abc_overlap$V4, abc_overlap$V5, abc_overlap$V6, sep='-')\n",
    "    \n",
    "    # Decide between peaks that map to multiple peaks (based on bp overlap)\n",
    "    # Sort by the overlap # and then remove duplicate peak1\n",
    "    abc_overlap_sort <- abc_overlap[order(abc_overlap$V7, decreasing = TRUE),]\n",
    "    abc_overlap_cut <- abc_overlap_sort[!duplicated(abc_overlap_sort$peak1),c(8,9)]\n",
    "    \n",
    "    # Read in ABC output and map CRE coords\n",
    "    abc_df <- read.table(abc_fp, sep='\\t')\n",
    "    abc_df$peak1 <- paste(abc_df$V1, abc_df$V2, abc_df$V3, sep=\"-\")\n",
    "    abc_df_overlap <- merge(abc_df, abc_overlap_cut, by='peak1')\n",
    "    abc_nomap <- abc_df[!abc_df$peak1 %in% abc_overlap$peak1,seq(1,8)]\n",
    "\n",
    "    # Print out statistics\n",
    "    print(celltype)\n",
    "    print(paste('Number of mapped links: ', dim(abc_df_overlap)[1], '/', dim(abc_df)[1], sep=''))\n",
    "    print(paste('Number of unmapped links: ', dim(abc_nomap)[1], '/', dim(abc_df)[1], sep=''))\n",
    "    print('')\n",
    "\n",
    "    # Now make final output ABC df where the CRE coords cols are altered to be the mapped ones\n",
    "    # Excludes any links for which the CRE did not map (peak one is moved to leftmost col by merge)\n",
    "    fin_abc_df <- cbind(str_split_fixed(abc_df_overlap$peak2, '-', 3), abc_df_overlap[,c(5,6,7,8,9)])\n",
    "    mapped_abc_fp <- file.path(abc_outdir, sprintf('%s_nonsig_mapped_links.bedpe',celltype))\n",
    "    write.table(fin_abc_df, mapped_abc_fp, sep='\\t', row.names=FALSE, col.names=FALSE, quote=FALSE)\n",
    "}\n",
    "\n",
    "\n",
    "### Function to prepare ABC background links reference using R, not bash\n",
    "### Subset for links with score < 0.02, remove NaN links, select for 1Mb distance max\n",
    "### Output everything that passes this to a file in bedpe format for comparisons\n",
    "prep_ABC_background <- function(celltype, abc_dir, outdir, score_threshold=0.02, dist_threshold=1000000){\n",
    "    # Read in all putative links\n",
    "    all_links_fp <- file.path(abc_dir, 'EnhancerPredictionsAllPutative.txt.gz')\n",
    "    all_links <- read.table(all_links_fp, sep='\\t', header=TRUE)\n",
    "    print(paste0('Number of links in AllPutative: ', dim(all_links)[1]))\n",
    "\n",
    "    # Remove links passing the significance threshold (0.02) and which are not NaN\n",
    "    all_links_cut <- all_links[!is.na(all_links$ABC.Score) & all_links$ABC.Score <= score_threshold,]\n",
    "    print(paste0('Number of links below threshold and not NaN: ', dim(all_links_cut)[1]))\n",
    "    \n",
    "    # Convert to bedpe format -- get TSS coords for each gene from ref_df\n",
    "    genes <- all_links_cut$TargetGene    \n",
    "    unique_genes <- unique(genes)\n",
    "    gene_tss <- sapply(unique_genes, get_TSS, ref_df)\n",
    "    tss_info <- data.frame(gene_tss, gene_tss+1)\n",
    "    tss_info$TargetGene <- unique_genes\n",
    "\n",
    "    # Merge TSS coords into all_links_cut and select cols to make a bedpe\n",
    "    merged_df <- merge(all_links_cut, tss_info, by='TargetGene')\n",
    "    all_links_bedpe <- merged_df[,c(2,3,4,2,25,26,1,21)] #TargetGene becomes col 1 in merge\n",
    "\n",
    "    # Remove links more than 1Mb apart (or whatever distance threshold you choose)\n",
    "    distances <- unlist(apply(all_links_bedpe, 1, calc_link_distance))\n",
    "    fin_links <- all_links_bedpe[distances <= dist_threshold,]\n",
    "    print(paste0('Number of links below distance threshold (', dist_threshold, 'bps): ', dim(fin_links)[1]))\n",
    "    \n",
    "    filt_fp <- file.path(abc_dir, 'EnhancerPredictionsAllPutative.filtered.txt')\n",
    "    write.table(fin_links, filt_fp, sep='\\t', row.names=FALSE, col.names=FALSE, quote=FALSE)\n",
    "    \n",
    "    # Map CRE coords to peak calls (gzip files)\n",
    "    overlap_with_peaks(celltype, filt_fp, outdir)\n",
    "    map_to_overlap_peaks(celltype, filt_fp, outdir)\n",
    "    system(sprintf('gzip %s', filt_fp))\n",
    "}"
   ]
  },
  {
   "cell_type": "markdown",
   "id": "8f8261b0",
   "metadata": {},
   "source": [
    "### Use functions to prepare the non-significant links files"
   ]
  },
  {
   "cell_type": "code",
   "execution_count": 52,
   "id": "202bd09d",
   "metadata": {},
   "outputs": [
    {
     "data": {
      "text/html": [
       "'/nfs/lab/projects/multiomic_islet/outputs/multiome/run_abc/reprocessed_outputs/230110_allCTs'"
      ],
      "text/latex": [
       "'/nfs/lab/projects/multiomic\\_islet/outputs/multiome/run\\_abc/reprocessed\\_outputs/230110\\_allCTs'"
      ],
      "text/markdown": [
       "'/nfs/lab/projects/multiomic_islet/outputs/multiome/run_abc/reprocessed_outputs/230110_allCTs'"
      ],
      "text/plain": [
       "[1] \"/nfs/lab/projects/multiomic_islet/outputs/multiome/run_abc/reprocessed_outputs/230110_allCTs\""
      ]
     },
     "metadata": {},
     "output_type": "display_data"
    }
   ],
   "source": [
    "abc_outdir"
   ]
  },
  {
   "cell_type": "code",
   "execution_count": 53,
   "id": "559b5ce6",
   "metadata": {
    "scrolled": true
   },
   "outputs": [
    {
     "name": "stdout",
     "output_type": "stream",
     "text": [
      "[1] \"beta 2023-03-02 13:28:10\"\n",
      "[1] \"Number of links in AllPutative: 9334969\"\n",
      "[1] \"Number of links below threshold and not NaN: 9168946\"\n",
      "[1] \"Number of links below distance threshold (1e+06bps): 2085731\"\n",
      "[1] \"beta\"\n",
      "[1] \"Number of mapped links: 308002/2085731\"\n",
      "[1] \"Number of unmapped links: 1777729/2085731\"\n",
      "[1] \"\"\n",
      "[1] \"\"\n",
      "[1] \"alpha 2023-03-02 13:57:51\"\n",
      "[1] \"Number of links in AllPutative: 10141622\"\n",
      "[1] \"Number of links below threshold and not NaN: 9970018\"\n",
      "[1] \"Number of links below distance threshold (1e+06bps): 2285905\"\n",
      "[1] \"alpha\"\n",
      "[1] \"Number of mapped links: 349230/2285905\"\n",
      "[1] \"Number of unmapped links: 1936675/2285905\"\n",
      "[1] \"\"\n",
      "[1] \"\"\n",
      "[1] \"delta 2023-03-02 14:31:02\"\n",
      "[1] \"Number of links in AllPutative: 10155074\"\n",
      "[1] \"Number of links below threshold and not NaN: 9976711\"\n",
      "[1] \"Number of links below distance threshold (1e+06bps): 2257965\"\n",
      "[1] \"delta\"\n",
      "[1] \"Number of mapped links: 340528/2257965\"\n",
      "[1] \"Number of unmapped links: 1917437/2257965\"\n",
      "[1] \"\"\n",
      "[1] \"\"\n",
      "[1] \"gamma 2023-03-02 14:58:46\"\n",
      "[1] \"Number of links in AllPutative: 9839413\"\n",
      "[1] \"Number of links below threshold and not NaN: 9666028\"\n",
      "[1] \"Number of links below distance threshold (1e+06bps): 2216227\"\n",
      "[1] \"gamma\"\n",
      "[1] \"Number of mapped links: 336836/2216227\"\n",
      "[1] \"Number of unmapped links: 1879391/2216227\"\n",
      "[1] \"\"\n",
      "[1] \"\"\n",
      "[1] \"ductal 2023-03-02 15:22:30\"\n",
      "[1] \"Number of links in AllPutative: 12209686\"\n",
      "[1] \"Number of links below threshold and not NaN: 12009320\"\n",
      "[1] \"Number of links below distance threshold (1e+06bps): 2744784\"\n",
      "[1] \"ductal\"\n",
      "[1] \"Number of mapped links: 433061/2744784\"\n",
      "[1] \"Number of unmapped links: 2311723/2744784\"\n",
      "[1] \"\"\n",
      "[1] \"\"\n",
      "[1] \"acinar 2023-03-02 15:49:24\"\n",
      "[1] \"Number of links in AllPutative: 8979600\"\n",
      "[1] \"Number of links below threshold and not NaN: 8813390\"\n",
      "[1] \"Number of links below distance threshold (1e+06bps): 2028762\"\n",
      "[1] \"acinar\"\n",
      "[1] \"Number of mapped links: 306867/2028762\"\n",
      "[1] \"Number of unmapped links: 1721895/2028762\"\n",
      "[1] \"\"\n",
      "[1] \"\"\n",
      "9758.366 sec elapsed\n"
     ]
    }
   ],
   "source": [
    "# ABC prepare files for compare connections -- previously this only took like 5-15 mins per cell type\n",
    "\n",
    "tic()\n",
    "for (celltype in h3k27ac_celltypes){\n",
    "    print(paste(celltype, Sys.time()))\n",
    "    abc_dir <- paste0(abc_prefix1, celltype, \"/Prediction\")\n",
    "    outdir <- file.path(abc_outdir, 'nonsig_links')\n",
    "    prep_ABC_background(celltype, abc_dir, outdir)\n",
    "    print('')\n",
    "}\n",
    "toc()"
   ]
  },
  {
   "cell_type": "code",
   "execution_count": 37,
   "id": "24a73a41",
   "metadata": {
    "scrolled": true
   },
   "outputs": [
    {
     "name": "stdout",
     "output_type": "stream",
     "text": [
      "[1] \"stellate 2023-03-01 16:00:01\"\n",
      "[1] \"Number of links in AllPutative: 8852236\"\n",
      "[1] \"Number of links below threshold and not NaN: 8671165\"\n",
      "[1] \"Number of links below distance threshold (1e+06bps): 1983537\"\n",
      "[1] \"stellate\"\n",
      "[1] \"Number of mapped links: 268012/1983537\"\n",
      "[1] \"Number of unmapped links: 1715525/1983537\"\n",
      "[1] \"\"\n",
      "[1] \"\"\n",
      "[1] \"endothelial 2023-03-01 16:09:04\"\n",
      "[1] \"Number of links in AllPutative: 4502790\"\n",
      "[1] \"Number of links below threshold and not NaN: 4329432\"\n",
      "[1] \"Number of links below distance threshold (1e+06bps): 995203\"\n",
      "[1] \"endothelial\"\n",
      "[1] \"Number of mapped links: 114712/995203\"\n",
      "[1] \"Number of unmapped links: 880491/995203\"\n",
      "[1] \"\"\n",
      "[1] \"\"\n",
      "[1] \"schwann 2023-03-01 16:11:55\"\n",
      "[1] \"Number of links in AllPutative: 1817472\"\n",
      "[1] \"Number of links below threshold and not NaN: 1687142\"\n",
      "[1] \"Number of links below distance threshold (1e+06bps): 368158\"\n",
      "[1] \"schwann\"\n",
      "[1] \"Number of mapped links: 32686/368158\"\n",
      "[1] \"Number of unmapped links: 335472/368158\"\n",
      "[1] \"\"\n",
      "[1] \"\"\n",
      "[1] \"immune 2023-03-01 16:13:05\"\n",
      "[1] \"Number of links in AllPutative: 5780233\"\n",
      "[1] \"Number of links below threshold and not NaN: 5611931\"\n",
      "[1] \"Number of links below distance threshold (1e+06bps): 1313812\"\n",
      "[1] \"immune\"\n",
      "[1] \"Number of mapped links: 158950/1313812\"\n",
      "[1] \"Number of unmapped links: 1154862/1313812\"\n",
      "[1] \"\"\n",
      "[1] \"\"\n",
      "1001.923 sec elapsed\n"
     ]
    }
   ],
   "source": [
    "tic()\n",
    "for (celltype in no_h3k27ac_celltypes){\n",
    "    print(paste(celltype, Sys.time()))\n",
    "    abc_dir <- paste0(abc_prefix2, celltype, \"/Prediction\")\n",
    "    outdir <- file.path(abc_outdir, 'nonsig_links')\n",
    "    prep_ABC_background(celltype, abc_dir, outdir)\n",
    "    print('')\n",
    "}\n",
    "toc()"
   ]
  },
  {
   "cell_type": "markdown",
   "id": "18dab660",
   "metadata": {},
   "source": [
    "# 3. Reformat Cicero links\n",
    "Considerations:\n",
    "- Multimapping: some CREs overlap multiple gene promoters, this will count as separate links to all the genes\n",
    "- Need to make sure CRE coords are in the first 3 columns, may need to swap coords for some rows, if prom2 has the  gene/s\n",
    "- What to list as the gene coords? The gene coords from ref df or the coords of the CRE that overlaps the genes promoter? --> when we compare links we compare CRE_gene name so should be ok to leave as is"
   ]
  },
  {
   "cell_type": "markdown",
   "id": "855c52b5",
   "metadata": {},
   "source": [
    "## 3a. Reformat significant Cicero CP links"
   ]
  },
  {
   "cell_type": "markdown",
   "id": "1d37596f",
   "metadata": {},
   "source": [
    "### Functions"
   ]
  },
  {
   "cell_type": "code",
   "execution_count": 18,
   "id": "c5121b1e",
   "metadata": {},
   "outputs": [],
   "source": [
    "### Classify links\n",
    "classify_links <- function(celltype, cic_fp, cic_outdir){\n",
    "    # Write file of all unique CREs in cicero links\n",
    "    df <- read.table(cic_fp, sep='\\t')\n",
    "    sites1 <- df[,c(1,2,3)]\n",
    "    sites2 <- df[,c(4,5,6)]\n",
    "    colnames(sites2) <- c(\"V1\",\"V2\",\"V3\")\n",
    "    chr_names <- c(paste(\"chr\",seq(1:22),sep=''),'chrX','chrY')\n",
    "    all_sites <- rbind(sites1[sites1$V1 %in% chr_names,],sites2[sites2$V1 %in% chr_names,])\n",
    "    all_sites_list <- paste(all_sites$V1,all_sites$V2,all_sites$V3,sep='_')\n",
    "    all_sites_list <- sort(unique(all_sites_list))\n",
    "\n",
    "    fin_df <- as.data.frame(str_split_fixed(all_sites_list,'_',n=3))\n",
    "    print(paste('Number of unique peaks: ', dim(fin_df)[1]))\n",
    "    out_fp <- file.path(cic_outdir,sprintf('%s_links.unique_peaks.bedpe',celltype))\n",
    "    write.table(fin_df, out_fp, sep='\\t', row.names=FALSE, col.names=FALSE, quote=FALSE)\n",
    "    \n",
    "    # Overlap peaks with gene promoters\n",
    "    cic_peaks <- out_fp\n",
    "    overlap_fp <- file.path(cic_outdir, sprintf('%s_links.unique_peaks.gencodev32_TSS500.overlap.bed',celltype))\n",
    "    cmd <- paste('bedtools intersect -a', cic_peaks, '-b', TSS_ref_fp, '-wa -wb >', overlap_fp, sep=' ')\n",
    "    system(cmd)\n",
    "    \n",
    "    # Read in gene overlaps and classify all Cicero links\n",
    "    gene_overlaps <- read.table(overlap_fp, sep='\\t')\n",
    "    gene_overlaps$peak1 <- paste(gene_overlaps$V1, gene_overlaps$V2, gene_overlaps$V3, sep='-')\n",
    "    print(paste('Number of Cicero links that overlap gene TSS regions: ',dim(gene_overlaps)[1]))\n",
    "    print(paste('Number of unique Cicero peaks that overlap at least one promoter', length(unique(gene_overlaps$peak1))))\n",
    "    \n",
    "    # Make a reference for each peak (which genes it overlaps)\n",
    "    get_genes <- function(peak, gene_overlaps){\n",
    "        gene <- gene_overlaps[gene_overlaps$peak1 == peak,7]\n",
    "        return(paste(gene, collapse=\",\"))\n",
    "    }\n",
    "    unique_peaks <- unique(gene_overlaps$peak1)\n",
    "    genes_key <- unlist(lapply(unique_peaks, get_genes, gene_overlaps))\n",
    "    names(genes_key) <- unique_peaks\n",
    "\n",
    "    # Add in promoter classifications to all the links\n",
    "    get_overlap_prom <- function(peak, genes_key){\n",
    "        if (peak %in% names(genes_key)){\n",
    "            return(genes_key[peak])\n",
    "        } else {\n",
    "            return(NA)\n",
    "        }\n",
    "    }\n",
    "    df$peak1 = paste(df$V1, df$V2, df$V3, sep='-')\n",
    "    df$peak2 = paste(df$V4, df$V5, df$V6, sep='-')\n",
    "    df$prom1 = unlist(lapply(df$peak1, get_overlap_prom, genes_key))\n",
    "    df$prom2 = unlist(lapply(df$peak2, get_overlap_prom, genes_key))\n",
    "\n",
    "    # Classify each link based on prom1 and prom2\n",
    "    classify_link <- function(df_row){\n",
    "        prom1 = df_row[['prom1']]\n",
    "        prom2 = df_row[['prom2']]\n",
    "        if (is.na(prom1) && is.na(prom2)){\n",
    "            return('CC')\n",
    "        } else if (!is.na(prom1) && is.na(prom2)){\n",
    "            return('CP')\n",
    "        } else if (!is.na(prom1) && !is.na(prom2)){\n",
    "            return('PP')\n",
    "        } else if (is.na(prom1) && !is.na(prom2)){\n",
    "            return('CP')\n",
    "        }\n",
    "    }\n",
    "    df$class = apply(df,1, classify_link)\n",
    "    print(table(df$class))\n",
    "    out_fp = file.path(cic_outdir,sprintf('%s_links.wClass.bedpe',celltype))\n",
    "    write.table(df[,-8],out_fp, sep='\\t', col.names=FALSE, row.names=FALSE, quote=FALSE)\n",
    "    print('')\n",
    "}\n",
    "\n",
    "\n",
    "### Cut down links to CP (CRE-gene promoter links)\n",
    "cut_links_to_CP <- function(celltype, cic_outdir){\n",
    "    # Read in classified cicero outputs\n",
    "    cic_fp <- file.path(cic_outdir,sprintf('%s_links.wClass.bedpe',celltype))\n",
    "    print(cic_fp)\n",
    "    cic_df <- read.table(cic_fp, sep='\\t')\n",
    "    colnames(cic_df) <- c('chrom1', 'start1', 'end1', 'chrom2', 'start2', 'end2', 'Cicero_score', \n",
    "                          'peak1', 'peak2', 'prom1', 'prom2', 'class')\n",
    "\n",
    "    # Cut down to just CP links\n",
    "    cic_cp <- cic_df[cic_df$class == 'CP',]\n",
    "    print(paste('CP links: ', dim(cic_cp)[1], '/', dim(cic_df)[1], sep=''))\n",
    "    return(cic_cp)\n",
    "}\n",
    "\n",
    "\n",
    "### Reformat links to be: CRE coords, gene coords, gene name, score\n",
    "reformat_CP_links <- function(cic_cp, celltype, cic_outdir){\n",
    "    # Extract gene name from either prom1 or prom2 column\n",
    "    get_gene <- function(row){\n",
    "        gene1 <- row[[\"prom1\"]]\n",
    "        gene2 <- row[[\"prom2\"]]\n",
    "        if (is.na(gene1)){\n",
    "            return(gene2)\n",
    "        } else {\n",
    "            return(gene1)\n",
    "        }\n",
    "    }\n",
    "    cic_cp$gene <- apply(cic_cp, 1, get_gene)\n",
    "\n",
    "    # Separate out multigene rows into new df for further work\n",
    "    cic_cp1 <- cic_cp[!grepl(',', cic_cp$gene),]\n",
    "    cic_cp2 <- cic_cp[grepl(',', cic_cp$gene),]\n",
    "    multigenes <- cic_cp2$gene\n",
    "    cic_cp2_split <- data.frame()\n",
    "\n",
    "    # Go through every row from multigene rows and split up each gene to a new row\n",
    "    for(i in seq(1,dim(cic_cp2)[1])){\n",
    "        genes <- unlist(strsplit(multigenes[[i]], ','))\n",
    "        df_row <- cic_cp2[i,seq(1,12)]\n",
    "        new_rows <- rbind(df_row, rep(df_row[rep(1,length(genes)-1),]))\n",
    "        new_rows$gene <- genes\n",
    "        cic_cp2_split <- rbind(cic_cp2_split, new_rows)\n",
    "    }\n",
    "\n",
    "    # Combine split multigenes with the one gene rows in cic_cp1\n",
    "    cic_cp_combo <- rbind(cic_cp1, cic_cp2_split)\n",
    "\n",
    "    # Swap coords for links where prom2 has the gene\n",
    "    cic_left <- cic_cp_combo[!is.na(cic_cp_combo$prom1),]\n",
    "    cic_right <- cic_cp_combo[!is.na(cic_cp_combo$prom2),]\n",
    "    cic_left <- cic_left[,c(4,5,6,1,2,3,seq(7,13))]\n",
    "    colnames(cic_left) <- c('chrom1', 'start1', 'end1', 'chrom2', 'start2', 'end2', 'Cicero_score', \n",
    "                          'peak1', 'peak2', 'prom1', 'prom2', 'class', 'gene')\n",
    "    cic_fin <- rbind(cic_right, cic_left)\n",
    "\n",
    "    # Make final df for output (sort by CRE positions, cut out unnecessary cols)\n",
    "    cic_fin <- cic_fin[order(cic_fin$chrom1,cic_fin$start1),]\n",
    "    cic_fin2 <- cic_fin[,c(seq(1,6),13,7)] #order: coords, gene, score\n",
    "    print(paste('Final number of distinct CRE-gene links: ',dim(cic_fin2)[1], sep=''))\n",
    "\n",
    "    # Output to a file!\n",
    "    out_fp <- file.path(cic_outdir, sprintf('%s_links.CP_reformat.bedpe',celltype))\n",
    "    write.table(cic_fin2, out_fp, sep='\\t', row.names=FALSE, col.names=FALSE, quote=FALSE)\n",
    "}"
   ]
  },
  {
   "cell_type": "markdown",
   "id": "793ed3a3",
   "metadata": {},
   "source": [
    "### Run functions on all celltypes to reformat links"
   ]
  },
  {
   "cell_type": "code",
   "execution_count": 60,
   "id": "df7245c8",
   "metadata": {
    "scrolled": true
   },
   "outputs": [
    {
     "name": "stdout",
     "output_type": "stream",
     "text": [
      "[1] \"/nfs/lab/projects/multiomic_islet/outputs/multiome/cRE-gene_links/cicero/230111_final_map/Cicero_links.beta.above0.05.dedup.bedpe\"\n",
      "[1] \"Number of unique peaks:  33921\"\n",
      "[1] \"Number of Cicero links that overlap gene TSS regions:  10962\"\n",
      "[1] \"Number of unique Cicero peaks that overlap at least one promoter 8543\"\n",
      "\n",
      "   CC    CP    PP \n",
      "37359 27356 24685 \n",
      "[1] \"\"\n",
      "[1] \"/nfs/lab/projects/multiomic_islet/outputs/multiome/cRE-gene_links/cicero/230111_final_map/Cicero_links.alpha.above0.05.dedup.bedpe\"\n",
      "[1] \"Number of unique peaks:  34242\"\n",
      "[1] \"Number of Cicero links that overlap gene TSS regions:  12002\"\n",
      "[1] \"Number of unique Cicero peaks that overlap at least one promoter 9390\"\n",
      "\n",
      "   CC    CP    PP \n",
      "31057 34764 29132 \n",
      "[1] \"\"\n",
      "[1] \"/nfs/lab/projects/multiomic_islet/outputs/multiome/cRE-gene_links/cicero/230111_final_map/Cicero_links.delta.above0.05.dedup.bedpe\"\n",
      "[1] \"Number of unique peaks:  40781\"\n",
      "[1] \"Number of Cicero links that overlap gene TSS regions:  14127\"\n",
      "[1] \"Number of unique Cicero peaks that overlap at least one promoter 11140\"\n",
      "\n",
      "   CC    CP    PP \n",
      "23259 26834 12170 \n",
      "[1] \"\"\n",
      "[1] \"/nfs/lab/projects/multiomic_islet/outputs/multiome/cRE-gene_links/cicero/230111_final_map/Cicero_links.gamma.above0.05.dedup.bedpe\"\n",
      "[1] \"Number of unique peaks:  37303\"\n",
      "[1] \"Number of Cicero links that overlap gene TSS regions:  14042\"\n",
      "[1] \"Number of unique Cicero peaks that overlap at least one promoter 11010\"\n",
      "\n",
      "   CC    CP    PP \n",
      "26385 39390 25587 \n",
      "[1] \"\"\n",
      "[1] \"/nfs/lab/projects/multiomic_islet/outputs/multiome/cRE-gene_links/cicero/230111_final_map/Cicero_links.ductal.above0.05.dedup.bedpe\"\n",
      "[1] \"Number of unique peaks:  44470\"\n",
      "[1] \"Number of Cicero links that overlap gene TSS regions:  15114\"\n",
      "[1] \"Number of unique Cicero peaks that overlap at least one promoter 11962\"\n",
      "\n",
      "   CC    CP    PP \n",
      "57276 62835 35646 \n",
      "[1] \"\"\n",
      "[1] \"/nfs/lab/projects/multiomic_islet/outputs/multiome/cRE-gene_links/cicero/230111_final_map/Cicero_links.acinar.above0.05.dedup.bedpe\"\n",
      "[1] \"Number of unique peaks:  37299\"\n",
      "[1] \"Number of Cicero links that overlap gene TSS regions:  12331\"\n",
      "[1] \"Number of unique Cicero peaks that overlap at least one promoter 9714\"\n",
      "\n",
      "   CC    CP    PP \n",
      "34339 21283 13837 \n",
      "[1] \"\"\n",
      "[1] \"/nfs/lab/projects/multiomic_islet/outputs/multiome/cRE-gene_links/cicero/230111_final_map/Cicero_links.stellate.above0.05.dedup.bedpe\"\n",
      "[1] \"Number of unique peaks:  51723\"\n",
      "[1] \"Number of Cicero links that overlap gene TSS regions:  15976\"\n",
      "[1] \"Number of unique Cicero peaks that overlap at least one promoter 12650\"\n",
      "\n",
      "   CC    CP    PP \n",
      "91925 81754 32283 \n",
      "[1] \"\"\n",
      "[1] \"/nfs/lab/projects/multiomic_islet/outputs/multiome/cRE-gene_links/cicero/230111_final_map/Cicero_links.endothelial.above0.05.dedup.bedpe\"\n",
      "[1] \"Number of unique peaks:  39591\"\n",
      "[1] \"Number of Cicero links that overlap gene TSS regions:  15678\"\n",
      "[1] \"Number of unique Cicero peaks that overlap at least one promoter 12338\"\n",
      "\n",
      "    CC     CP     PP \n",
      "118656 110843  35909 \n",
      "[1] \"\"\n",
      "[1] \"/nfs/lab/projects/multiomic_islet/outputs/multiome/cRE-gene_links/cicero/230111_final_map/Cicero_links.schwann.above0.05.dedup.bedpe\"\n",
      "[1] \"Number of unique peaks:  23540\"\n",
      "[1] \"Number of Cicero links that overlap gene TSS regions:  13471\"\n",
      "[1] \"Number of unique Cicero peaks that overlap at least one promoter 10390\"\n",
      "\n",
      "   CC    CP    PP \n",
      "40363 63523 29526 \n",
      "[1] \"\"\n",
      "[1] \"/nfs/lab/projects/multiomic_islet/outputs/multiome/cRE-gene_links/cicero/230111_final_map/Cicero_links.immune.above0.05.dedup.bedpe\"\n",
      "[1] \"Number of unique peaks:  52544\"\n",
      "[1] \"Number of Cicero links that overlap gene TSS regions:  16368\"\n",
      "[1] \"Number of unique Cicero peaks that overlap at least one promoter 12975\"\n",
      "\n",
      "    CC     CP     PP \n",
      "208477 140476  37882 \n",
      "[1] \"\"\n",
      "566.52 sec elapsed\n"
     ]
    }
   ],
   "source": [
    "# Run function to create classified output file (input is already FDR thresholded)\n",
    "tic()\n",
    "for (celltype in celltypes){\n",
    "    cic_fp <- paste0(cic_prefix, celltype, cic_suffix)\n",
    "    print(cic_fp)\n",
    "    classify_links(celltype, cic_fp, cic_outdir)\n",
    "}\n",
    "toc()"
   ]
  },
  {
   "cell_type": "code",
   "execution_count": 88,
   "id": "91124b54",
   "metadata": {
    "scrolled": true
   },
   "outputs": [
    {
     "name": "stdout",
     "output_type": "stream",
     "text": [
      "[1] \"beta\"\n",
      "[1] \"/nfs/lab/projects/multiomic_islet/outputs/multiome/cRE-gene_links/cicero/230111_final_map/reprocessed_outputs/beta_links.wClass.bedpe\"\n",
      "[1] \"CP links: 27356/89400\"\n",
      "[1] \"Final number of distinct CRE-gene links: 34789\"\n",
      "[1] \"\"\n",
      "[1] \"alpha\"\n",
      "[1] \"/nfs/lab/projects/multiomic_islet/outputs/multiome/cRE-gene_links/cicero/230111_final_map/reprocessed_outputs/alpha_links.wClass.bedpe\"\n",
      "[1] \"CP links: 34764/94953\"\n",
      "[1] \"Final number of distinct CRE-gene links: 44644\"\n",
      "[1] \"\"\n",
      "[1] \"delta\"\n",
      "[1] \"/nfs/lab/projects/multiomic_islet/outputs/multiome/cRE-gene_links/cicero/230111_final_map/reprocessed_outputs/delta_links.wClass.bedpe\"\n",
      "[1] \"CP links: 26834/62263\"\n",
      "[1] \"Final number of distinct CRE-gene links: 34556\"\n",
      "[1] \"\"\n",
      "[1] \"gamma\"\n",
      "[1] \"/nfs/lab/projects/multiomic_islet/outputs/multiome/cRE-gene_links/cicero/230111_final_map/reprocessed_outputs/gamma_links.wClass.bedpe\"\n",
      "[1] \"CP links: 39390/91362\"\n",
      "[1] \"Final number of distinct CRE-gene links: 51066\"\n",
      "[1] \"\"\n",
      "[1] \"ductal\"\n",
      "[1] \"/nfs/lab/projects/multiomic_islet/outputs/multiome/cRE-gene_links/cicero/230111_final_map/reprocessed_outputs/ductal_links.wClass.bedpe\"\n",
      "[1] \"CP links: 62835/155757\"\n",
      "[1] \"Final number of distinct CRE-gene links: 79465\"\n",
      "[1] \"\"\n",
      "[1] \"acinar\"\n",
      "[1] \"/nfs/lab/projects/multiomic_islet/outputs/multiome/cRE-gene_links/cicero/230111_final_map/reprocessed_outputs/acinar_links.wClass.bedpe\"\n",
      "[1] \"CP links: 21283/69459\"\n",
      "[1] \"Final number of distinct CRE-gene links: 26658\"\n",
      "[1] \"\"\n",
      "[1] \"stellate\"\n",
      "[1] \"/nfs/lab/projects/multiomic_islet/outputs/multiome/cRE-gene_links/cicero/230111_final_map/reprocessed_outputs/stellate_links.wClass.bedpe\"\n",
      "[1] \"CP links: 81754/205962\"\n",
      "[1] \"Final number of distinct CRE-gene links: 104174\"\n",
      "[1] \"\"\n",
      "[1] \"endothelial\"\n",
      "[1] \"/nfs/lab/projects/multiomic_islet/outputs/multiome/cRE-gene_links/cicero/230111_final_map/reprocessed_outputs/endothelial_links.wClass.bedpe\"\n",
      "[1] \"CP links: 110843/265408\"\n",
      "[1] \"Final number of distinct CRE-gene links: 140453\"\n",
      "[1] \"\"\n",
      "[1] \"schwann\"\n",
      "[1] \"/nfs/lab/projects/multiomic_islet/outputs/multiome/cRE-gene_links/cicero/230111_final_map/reprocessed_outputs/schwann_links.wClass.bedpe\"\n",
      "[1] \"CP links: 63523/133412\"\n",
      "[1] \"Final number of distinct CRE-gene links: 81840\"\n",
      "[1] \"\"\n",
      "[1] \"immune\"\n",
      "[1] \"/nfs/lab/projects/multiomic_islet/outputs/multiome/cRE-gene_links/cicero/230111_final_map/reprocessed_outputs/immune_links.wClass.bedpe\"\n",
      "[1] \"CP links: 140476/386835\"\n",
      "[1] \"Final number of distinct CRE-gene links: 176497\"\n",
      "[1] \"\"\n",
      "2695.667 sec elapsed\n"
     ]
    }
   ],
   "source": [
    "# Cut down Cicero outputs to CP links and reformat\n",
    "tic()\n",
    "for (celltype in celltypes){\n",
    "    print(celltype)\n",
    "    cic_cp <- cut_links_to_CP(celltype, cic_outdir)\n",
    "    reformat_CP_links(cic_cp, celltype, cic_outdir)\n",
    "    print('')\n",
    "}\n",
    "toc()"
   ]
  },
  {
   "cell_type": "markdown",
   "id": "9cbed5b7",
   "metadata": {},
   "source": [
    "## 3b. Process non-significant links to CP bedpe files with gene names\n",
    "Steps:\n",
    "1. Deduplicate links (remove repeated links, generally where CREs are swapped)\n",
    "2. Overlap all CREs with a gene TSS file and then classify links as CC, CP, PP \n",
    "3. Reformat CP links to have gene names listed and separate lines, also with gene coords (just using TSS500 coords here)"
   ]
  },
  {
   "cell_type": "markdown",
   "id": "5ffe0b7f",
   "metadata": {},
   "source": [
    "### Functions"
   ]
  },
  {
   "cell_type": "code",
   "execution_count": 9,
   "id": "92894902",
   "metadata": {},
   "outputs": [],
   "source": [
    "cic_suffix2 <- '.all.bedpe'"
   ]
  },
  {
   "cell_type": "code",
   "execution_count": 12,
   "id": "1d85fa0e",
   "metadata": {},
   "outputs": [],
   "source": [
    "### Function to remove duplicate connections, from all links file\n",
    "dedup_all_links <- function(all_links_fp, outdir, celltype){\n",
    "    # Read in all_links file\n",
    "    out_df_cut <- read.table(all_links_fp, sep='\\t')\n",
    "    \n",
    "    # Remove duplicated links (same peaks and score, diff order)\n",
    "    get_ordered_peaks <- function(row){\n",
    "        if (row[2] < row[5]){\n",
    "            peak1 = paste(row[[1]], as.character(row[[2]]), as.character(row[[3]]), sep='-')\n",
    "            peak2 = paste(row[[4]], as.character(row[[5]]), as.character(row[[6]]), sep='-')\n",
    "        } else {\n",
    "            peak1 = paste(row[[4]], as.character(row[[5]]), as.character(row[[6]]), sep='-')\n",
    "            peak2 = paste(row[[1]], as.character(row[[2]]), as.character(row[[3]]), sep='-')\n",
    "        }\n",
    "        return(paste(peak1,peak2,sep='_'))\n",
    "    }\n",
    "\n",
    "    out_df_cut$ordered_peaks = apply(out_df_cut,1,get_ordered_peaks)\n",
    "    out_df_fin = out_df_cut[!duplicated(out_df_cut$ordered_peaks),]\n",
    "\n",
    "    # Output the thresholded and dedup df\n",
    "    out_fp2 = file.path(outdir,sprintf('Cicero_links.%s.all.dedup.bedpe',celltype))\n",
    "    write.table(out_df_fin, out_fp2, sep='\\t', col.names=FALSE, row.names=FALSE, quote=FALSE)\n",
    "}\n",
    "\n",
    "\n"
   ]
  },
  {
   "cell_type": "markdown",
   "id": "c7fc912b",
   "metadata": {},
   "source": [
    "### Use functions to deduplicate all links and select for CP links, add gene name"
   ]
  },
  {
   "cell_type": "code",
   "execution_count": 14,
   "id": "8532c104",
   "metadata": {},
   "outputs": [],
   "source": [
    "cic_outdir2 <- '/nfs/lab/projects/multiomic_islet/outputs/multiome/cRE-gene_links/cicero/230111_final_map/reprocessed_all_links'"
   ]
  },
  {
   "cell_type": "code",
   "execution_count": 16,
   "id": "4f0f2b3d",
   "metadata": {},
   "outputs": [
    {
     "name": "stdout",
     "output_type": "stream",
     "text": [
      "[1] \"beta 2023-02-24 12:11:48\"\n",
      "[1] \"2023-02-24 12:31:04 PST\"\n"
     ]
    }
   ],
   "source": [
    "# Deduplicate all links -- took about 20 mins\n",
    "for (celltype in c('beta')){\n",
    "    print(paste(celltype, Sys.time()))\n",
    "    cic_fp <- paste0(cic_prefix, celltype, cic_suffix2)\n",
    "    dedup_all_links(cic_fp, cic_outdir2, celltype)\n",
    "}\n",
    "\n",
    "print(Sys.time())"
   ]
  },
  {
   "cell_type": "code",
   "execution_count": 19,
   "id": "cf4b442d",
   "metadata": {
    "scrolled": true
   },
   "outputs": [
    {
     "name": "stdout",
     "output_type": "stream",
     "text": [
      "[1] \"Number of unique peaks:  109918\"\n",
      "[1] \"Number of Cicero links that overlap gene TSS regions:  18632\"\n",
      "[1] \"Number of unique Cicero peaks that overlap at least one promoter 15024\"\n",
      "\n",
      "     CC      CP      PP \n",
      "3287657 1027391  114743 \n",
      "[1] \"\"\n",
      "8965.603 sec elapsed\n"
     ]
    }
   ],
   "source": [
    "# Run function to create classified output file (same functions, diff outdir) -- took 2.5 hours to run\n",
    "tic()\n",
    "for (celltype in c('beta')){\n",
    "    cic_fp <- file.path(cic_outdir2,sprintf('Cicero_links.%s.all.dedup.bedpe',celltype))\n",
    "    classify_links(celltype, cic_fp, cic_outdir2)\n",
    "}\n",
    "toc()"
   ]
  },
  {
   "cell_type": "code",
   "execution_count": 20,
   "id": "0df5de2c",
   "metadata": {
    "scrolled": true
   },
   "outputs": [
    {
     "name": "stdout",
     "output_type": "stream",
     "text": [
      "[1] \"beta\"\n",
      "[1] \"/nfs/lab/projects/multiomic_islet/outputs/multiome/cRE-gene_links/cicero/230111_final_map/reprocessed_all_links/beta_links.wClass.bedpe\"\n",
      "[1] \"CP links: 1027391/4429791\"\n",
      "[1] \"Final number of distinct CRE-gene links: 1270478\"\n",
      "[1] \"\"\n",
      "115584.908 sec elapsed\n"
     ]
    }
   ],
   "source": [
    "# Cut down Cicero outputs to CP links and reformat (same functions, diff outdir -- took 32 hours to run\n",
    "tic()\n",
    "for (celltype in c('beta')){\n",
    "    print(celltype)\n",
    "    cic_cp <- cut_links_to_CP(celltype, cic_outdir2)\n",
    "    reformat_CP_links(cic_cp, celltype, cic_outdir2)\n",
    "    print('')\n",
    "}\n",
    "toc()"
   ]
  },
  {
   "cell_type": "markdown",
   "id": "c3f3cbf9",
   "metadata": {},
   "source": [
    "### Running on remaining large cell types for now... do this in parallel with mclapply!"
   ]
  },
  {
   "cell_type": "code",
   "execution_count": 22,
   "id": "7cfada99",
   "metadata": {},
   "outputs": [],
   "source": [
    "### Function to remove duplicate connections, from all links file -- modified for parallel use and logging\n",
    "run_dedup_all_links <- function(celltype, outdir, log_fp){\n",
    "    # Read in all_links file\n",
    "    write(paste(celltype, 'start', Sys.time()), file=log_fp, append=TRUE)\n",
    "    all_links_fp <- paste0(cic_prefix, celltype, cic_suffix2)\n",
    "    out_df_cut <- read.table(all_links_fp, sep='\\t')\n",
    "    \n",
    "    # Remove duplicated links (same peaks and score, diff order)\n",
    "    get_ordered_peaks <- function(row){\n",
    "        if (row[2] < row[5]){\n",
    "            peak1 = paste(row[[1]], as.character(row[[2]]), as.character(row[[3]]), sep='-')\n",
    "            peak2 = paste(row[[4]], as.character(row[[5]]), as.character(row[[6]]), sep='-')\n",
    "        } else {\n",
    "            peak1 = paste(row[[4]], as.character(row[[5]]), as.character(row[[6]]), sep='-')\n",
    "            peak2 = paste(row[[1]], as.character(row[[2]]), as.character(row[[3]]), sep='-')\n",
    "        }\n",
    "        return(paste(peak1,peak2,sep='_'))\n",
    "    }\n",
    "\n",
    "    out_df_cut$ordered_peaks = apply(out_df_cut,1,get_ordered_peaks)\n",
    "    out_df_fin = out_df_cut[!duplicated(out_df_cut$ordered_peaks),]\n",
    "\n",
    "    # Output the thresholded and dedup df\n",
    "    out_fp2 = file.path(outdir,sprintf('Cicero_links.%s.all.dedup.bedpe',celltype))\n",
    "    write.table(out_df_fin, out_fp2, sep='\\t', col.names=FALSE, row.names=FALSE, quote=FALSE)\n",
    "    write(paste(celltype, 'done', Sys.time()), file=log_fp, append=TRUE)\n",
    "}\n",
    "\n",
    "\n",
    "### Classify links -- modified for parallel use and logging\n",
    "run_classify_links <- function(celltype, cic_outdir, log_fp){\n",
    "    write(paste(celltype, 'start', Sys.time()), file=log_fp, append=TRUE)\n",
    "    cic_fp <- file.path(cic_outdir,sprintf('Cicero_links.%s.all.dedup.bedpe',celltype))\n",
    "    \n",
    "    # Write file of all unique CREs in cicero links\n",
    "    df <- read.table(cic_fp, sep='\\t')\n",
    "    sites1 <- df[,c(1,2,3)]\n",
    "    sites2 <- df[,c(4,5,6)]\n",
    "    colnames(sites2) <- c(\"V1\",\"V2\",\"V3\")\n",
    "    chr_names <- c(paste(\"chr\",seq(1:22),sep=''),'chrX','chrY')\n",
    "    all_sites <- rbind(sites1[sites1$V1 %in% chr_names,],sites2[sites2$V1 %in% chr_names,])\n",
    "    all_sites_list <- paste(all_sites$V1,all_sites$V2,all_sites$V3,sep='_')\n",
    "    all_sites_list <- sort(unique(all_sites_list))\n",
    "\n",
    "    fin_df <- as.data.frame(str_split_fixed(all_sites_list,'_',n=3))\n",
    "    print(paste('Number of unique peaks: ', dim(fin_df)[1]))\n",
    "    out_fp <- file.path(cic_outdir,sprintf('%s_links.unique_peaks.bedpe',celltype))\n",
    "    write.table(fin_df, out_fp, sep='\\t', row.names=FALSE, col.names=FALSE, quote=FALSE)\n",
    "    \n",
    "    # Overlap peaks with gene promoters\n",
    "    cic_peaks <- out_fp\n",
    "    overlap_fp <- file.path(cic_outdir, sprintf('%s_links.unique_peaks.gencodev32_TSS500.overlap.bed',celltype))\n",
    "    cmd <- paste('bedtools intersect -a', cic_peaks, '-b', TSS_ref_fp, '-wa -wb >', overlap_fp, sep=' ')\n",
    "    system(cmd)\n",
    "    \n",
    "    # Read in gene overlaps and classify all Cicero links\n",
    "    gene_overlaps <- read.table(overlap_fp, sep='\\t')\n",
    "    gene_overlaps$peak1 <- paste(gene_overlaps$V1, gene_overlaps$V2, gene_overlaps$V3, sep='-')\n",
    "    print(paste('Number of Cicero links that overlap gene TSS regions: ',dim(gene_overlaps)[1]))\n",
    "    print(paste('Number of unique Cicero peaks that overlap at least one promoter', length(unique(gene_overlaps$peak1))))\n",
    "    \n",
    "    \n",
    "    # Make a reference for each peak (which genes it overlaps)\n",
    "    get_genes <- function(peak, gene_overlaps){\n",
    "        gene <- gene_overlaps[gene_overlaps$peak1 == peak,7]\n",
    "        return(paste(gene, collapse=\",\"))\n",
    "    }\n",
    "    unique_peaks <- unique(gene_overlaps$peak1)\n",
    "    genes_key <- unlist(lapply(unique_peaks, get_genes, gene_overlaps))\n",
    "    names(genes_key) <- unique_peaks\n",
    "\n",
    "    # Add in promoter classifications to all the links\n",
    "    get_overlap_prom <- function(peak, genes_key){\n",
    "        if (peak %in% names(genes_key)){\n",
    "            return(genes_key[peak])\n",
    "        } else {\n",
    "            return(NA)\n",
    "        }\n",
    "    }\n",
    "    df$peak1 = paste(df$V1, df$V2, df$V3, sep='-')\n",
    "    df$peak2 = paste(df$V4, df$V5, df$V6, sep='-')\n",
    "    df$prom1 = unlist(lapply(df$peak1, get_overlap_prom, genes_key))\n",
    "    df$prom2 = unlist(lapply(df$peak2, get_overlap_prom, genes_key))\n",
    "\n",
    "    # Classify each link based on prom1 and prom2\n",
    "    classify_link <- function(df_row){\n",
    "        prom1 = df_row[['prom1']]\n",
    "        prom2 = df_row[['prom2']]\n",
    "        if (is.na(prom1) && is.na(prom2)){\n",
    "            return('CC')\n",
    "        } else if (!is.na(prom1) && is.na(prom2)){\n",
    "            return('CP')\n",
    "        } else if (!is.na(prom1) && !is.na(prom2)){\n",
    "            return('PP')\n",
    "        } else if (is.na(prom1) && !is.na(prom2)){\n",
    "            return('CP')\n",
    "        }\n",
    "    }\n",
    "    df$class = apply(df,1, classify_link)\n",
    "    out_fp = file.path(cic_outdir,sprintf('%s_links.wClass.bedpe',celltype))\n",
    "    write.table(df[,-8],out_fp, sep='\\t', col.names=FALSE, row.names=FALSE, quote=FALSE)\n",
    "    write(paste(celltype, 'done', Sys.time()), file=log_fp, append=TRUE)\n",
    "}\n",
    "\n",
    "\n",
    "### Function to run the cut links to CP and reformat functions -- for parallel use\n",
    "run_reformat_CP <- function(celltype, outdir, log_fp){\n",
    "    write(paste(celltype, 'start', Sys.time()), file=log_fp, append=TRUE)\n",
    "    cic_cp <- cut_links_to_CP(celltype, outdir)\n",
    "    reformat_CP_links(cic_cp, celltype, outdir)\n",
    "    write(paste(celltype, 'done', Sys.time()), file=log_fp, append=TRUE)\n",
    "}"
   ]
  },
  {
   "cell_type": "code",
   "execution_count": 25,
   "id": "94a488e2",
   "metadata": {
    "scrolled": true
   },
   "outputs": [
    {
     "data": {
      "text/html": [
       "'/nfs/lab/projects/multiomic_islet/outputs/multiome/cRE-gene_links/cicero/230111_final_map/reprocessed_all_links'"
      ],
      "text/latex": [
       "'/nfs/lab/projects/multiomic\\_islet/outputs/multiome/cRE-gene\\_links/cicero/230111\\_final\\_map/reprocessed\\_all\\_links'"
      ],
      "text/markdown": [
       "'/nfs/lab/projects/multiomic_islet/outputs/multiome/cRE-gene_links/cicero/230111_final_map/reprocessed_all_links'"
      ],
      "text/plain": [
       "[1] \"/nfs/lab/projects/multiomic_islet/outputs/multiome/cRE-gene_links/cicero/230111_final_map/reprocessed_all_links\""
      ]
     },
     "metadata": {},
     "output_type": "display_data"
    },
    {
     "data": {
      "text/html": [
       "<ol>\n",
       "\t<li>NULL</li>\n",
       "\t<li>NULL</li>\n",
       "\t<li>NULL</li>\n",
       "\t<li>NULL</li>\n",
       "\t<li>NULL</li>\n",
       "</ol>\n"
      ],
      "text/latex": [
       "\\begin{enumerate}\n",
       "\\item NULL\n",
       "\\item NULL\n",
       "\\item NULL\n",
       "\\item NULL\n",
       "\\item NULL\n",
       "\\end{enumerate}\n"
      ],
      "text/markdown": [
       "1. NULL\n",
       "2. NULL\n",
       "3. NULL\n",
       "4. NULL\n",
       "5. NULL\n",
       "\n",
       "\n"
      ],
      "text/plain": [
       "[[1]]\n",
       "NULL\n",
       "\n",
       "[[2]]\n",
       "NULL\n",
       "\n",
       "[[3]]\n",
       "NULL\n",
       "\n",
       "[[4]]\n",
       "NULL\n",
       "\n",
       "[[5]]\n",
       "NULL\n"
      ]
     },
     "metadata": {},
     "output_type": "display_data"
    },
    {
     "data": {
      "text/html": [
       "<ol>\n",
       "\t<li>NULL</li>\n",
       "\t<li>NULL</li>\n",
       "\t<li>NULL</li>\n",
       "\t<li>NULL</li>\n",
       "\t<li>NULL</li>\n",
       "</ol>\n"
      ],
      "text/latex": [
       "\\begin{enumerate}\n",
       "\\item NULL\n",
       "\\item NULL\n",
       "\\item NULL\n",
       "\\item NULL\n",
       "\\item NULL\n",
       "\\end{enumerate}\n"
      ],
      "text/markdown": [
       "1. NULL\n",
       "2. NULL\n",
       "3. NULL\n",
       "4. NULL\n",
       "5. NULL\n",
       "\n",
       "\n"
      ],
      "text/plain": [
       "[[1]]\n",
       "NULL\n",
       "\n",
       "[[2]]\n",
       "NULL\n",
       "\n",
       "[[3]]\n",
       "NULL\n",
       "\n",
       "[[4]]\n",
       "NULL\n",
       "\n",
       "[[5]]\n",
       "NULL\n"
      ]
     },
     "metadata": {},
     "output_type": "display_data"
    },
    {
     "ename": "ERROR",
     "evalue": "Error in paste(\"Reformatting CP links:\", Sys.time): cannot coerce type 'closure' to vector of type 'character'\n",
     "output_type": "error",
     "traceback": [
      "Error in paste(\"Reformatting CP links:\", Sys.time): cannot coerce type 'closure' to vector of type 'character'\nTraceback:\n",
      "1. write(paste(\"Reformatting CP links:\", Sys.time), file = log_fp, \n .     append = TRUE)",
      "2. cat(x, file = file, sep = c(rep.int(sep, ncolumns - 1), \"\\n\"), \n .     append = append)",
      "3. paste(\"Reformatting CP links:\", Sys.time)"
     ]
    }
   ],
   "source": [
    "log_fp <- '/nfs/lab/projects/multiomic_islet/outputs/multiome/cRE-gene_links/cicero/230111_final_map/reprocessed_all_links/log.txt'\n",
    "celltypes_cut <- c('alpha','acinar','ductal','delta','gamma')\n",
    "cic_outdir2\n",
    "\n",
    "# Deduplicate all links -- took about 20 min for beta cells\n",
    "write(paste('Deduplicating links:', Sys.time()), file=log_fp, append=TRUE)\n",
    "mclapply(celltypes_cut, run_dedup_all_links, cic_outdir2, log_fp, mc.cores=5)\n",
    "write(\"\\n\", file=log_fp, append=TRUE)\n",
    "\n",
    "# Create classified output file (same functions, diff outdir) -- took 2.5 hours to run on beta cells\n",
    "write(paste('Classifying links:',Sys.time()), file=log_fp, append=TRUE)\n",
    "mclapply(celltypes_cut, run_classify_links, cic_outdir2, log_fp, mc.cores=5)\n",
    "write(\"\\n\", file=log_fp, append=TRUE)"
   ]
  },
  {
   "cell_type": "code",
   "execution_count": null,
   "id": "59a5cea4",
   "metadata": {},
   "outputs": [],
   "source": [
    "# Cut down Cicero outputs to CP links and reformat (same functions, diff outdir -- took 32 hours to run on beta cells\n",
    "write(paste('Reformatting CP links:',Sys.time()), file=log_fp, append=TRUE)\n",
    "mclapply(celltypes_cut, run_reformat_CP, cic_outdir2, log_fp, mc.cores=5)\n",
    "\n",
    "write(paste('Done',Sys.time()), file=log_fp, append=TRUE)"
   ]
  },
  {
   "cell_type": "markdown",
   "id": "22b1165f",
   "metadata": {},
   "source": [
    "### Also filter all tested Cicero links for score <=0.02 and distance <=1Mb"
   ]
  },
  {
   "cell_type": "code",
   "execution_count": 49,
   "id": "898c264b",
   "metadata": {},
   "outputs": [],
   "source": [
    "### Function to calculate link distances from a bedpe style dataframe row\n",
    "calc_link_distance <- function(link_df_row){\n",
    "    CRE_start <- as.integer(link_df_row[2])\n",
    "    CRE_end <- as.integer(link_df_row[3])\n",
    "    gene_start <- as.integer(link_df_row[5])\n",
    "    CRE_center <- CRE_start + (CRE_end - CRE_start)/2\n",
    "    distance <- abs(CRE_center - gene_start)\n",
    "    return(distance)\n",
    "}\n",
    "\n",
    "\n",
    "### Function to filter Cicero background links reference using R, not bash\n",
    "### Subset for links with score <= 0.02, select for 1Mb distance max\n",
    "### These files should already be in a bedpe format!\n",
    "filter_cicero_background <- function(celltype, cic_fp, outdir, score_threshold=0.02, dist_threshold=1000000){\n",
    "    # Read in the processed background bedpe file\n",
    "    all_links <- read.table(cic_fp, sep='\\t', header=TRUE)\n",
    "    colnames(all_links) <- c('CRE_chr','CRE_start','CRE_end','gene_chr','gene_start','gene_end','gene','score')\n",
    "\n",
    "    # Remove links passing the significance threshold (0.02) and which are not NaN\n",
    "    all_links_cut <- all_links[all_links$score <= score_threshold,]\n",
    "    \n",
    "    # Remove links more than 1Mb apart (or whatever distance threshold you choose)\n",
    "    distances <- unlist(apply(all_links_cut, 1, calc_link_distance))\n",
    "    fin_links <- all_links_cut[distances <= dist_threshold,]\n",
    "    \n",
    "    filt_fp <- str_replace(cic_fp, \"CP_reformat\", \"final_filt\")\n",
    "    write.table(fin_links, filt_fp, sep='\\t', row.names=FALSE, col.names=FALSE, quote=FALSE)\n",
    "}"
   ]
  },
  {
   "cell_type": "code",
   "execution_count": 51,
   "id": "7f48201f",
   "metadata": {},
   "outputs": [
    {
     "data": {
      "text/html": [
       "'/nfs/lab/projects/multiomic_islet/outputs/multiome/cRE-gene_links/cicero/230111_final_map/reprocessed_all_links'"
      ],
      "text/latex": [
       "'/nfs/lab/projects/multiomic\\_islet/outputs/multiome/cRE-gene\\_links/cicero/230111\\_final\\_map/reprocessed\\_all\\_links'"
      ],
      "text/markdown": [
       "'/nfs/lab/projects/multiomic_islet/outputs/multiome/cRE-gene_links/cicero/230111_final_map/reprocessed_all_links'"
      ],
      "text/plain": [
       "[1] \"/nfs/lab/projects/multiomic_islet/outputs/multiome/cRE-gene_links/cicero/230111_final_map/reprocessed_all_links\""
      ]
     },
     "metadata": {},
     "output_type": "display_data"
    }
   ],
   "source": [
    "cic_outdir2"
   ]
  },
  {
   "cell_type": "code",
   "execution_count": 50,
   "id": "9f52582c",
   "metadata": {},
   "outputs": [
    {
     "name": "stdout",
     "output_type": "stream",
     "text": [
      "[1] \"beta 2023-03-02 11:05:40\"\n",
      "[1] \"/nfs/lab/projects/multiomic_islet/outputs/multiome/cRE-gene_links/cicero/230111_final_map/reprocessed_all_links/beta_links.CP_reformat.bedpe\"\n",
      "[1] \"\"\n",
      "[1] \"alpha 2023-03-02 11:06:07\"\n",
      "[1] \"/nfs/lab/projects/multiomic_islet/outputs/multiome/cRE-gene_links/cicero/230111_final_map/reprocessed_all_links/alpha_links.CP_reformat.bedpe\"\n",
      "[1] \"\"\n",
      "[1] \"delta 2023-03-02 11:06:45\"\n",
      "[1] \"/nfs/lab/projects/multiomic_islet/outputs/multiome/cRE-gene_links/cicero/230111_final_map/reprocessed_all_links/delta_links.CP_reformat.bedpe\"\n",
      "[1] \"\"\n",
      "[1] \"gamma 2023-03-02 11:07:19\"\n",
      "[1] \"/nfs/lab/projects/multiomic_islet/outputs/multiome/cRE-gene_links/cicero/230111_final_map/reprocessed_all_links/gamma_links.CP_reformat.bedpe\"\n",
      "[1] \"\"\n",
      "[1] \"ductal 2023-03-02 11:07:54\"\n",
      "[1] \"/nfs/lab/projects/multiomic_islet/outputs/multiome/cRE-gene_links/cicero/230111_final_map/reprocessed_all_links/ductal_links.CP_reformat.bedpe\"\n",
      "[1] \"\"\n",
      "[1] \"acinar 2023-03-02 11:08:32\"\n",
      "[1] \"/nfs/lab/projects/multiomic_islet/outputs/multiome/cRE-gene_links/cicero/230111_final_map/reprocessed_all_links/acinar_links.CP_reformat.bedpe\"\n",
      "[1] \"\"\n",
      "199.92 sec elapsed\n"
     ]
    }
   ],
   "source": [
    "tic()\n",
    "for (celltype in celltypes[c(1,2,3,4,5,6)]){\n",
    "    print(paste(celltype, Sys.time()))\n",
    "    cic_fp <- file.path(cic_outdir2,sprintf('%s_links.CP_reformat.bedpe',celltype))\n",
    "    print(cic_fp)\n",
    "    filter_cicero_background(celltype, cic_fp, outdir)\n",
    "    print('')\n",
    "}\n",
    "toc()"
   ]
  },
  {
   "cell_type": "markdown",
   "id": "f3fe6da8",
   "metadata": {},
   "source": [
    "# 4. Subset SMORES links to CP links"
   ]
  },
  {
   "cell_type": "markdown",
   "id": "29264e30",
   "metadata": {},
   "source": [
    "## 4a. Classify links as CP or PP"
   ]
  },
  {
   "cell_type": "markdown",
   "id": "080c09db",
   "metadata": {},
   "source": [
    "### Functions"
   ]
  },
  {
   "cell_type": "code",
   "execution_count": null,
   "id": "a40067b5",
   "metadata": {},
   "outputs": [],
   "source": [
    "### Classify links -- based on function used to classify Cicero links (very similar)\n",
    "### celltype_prefix contains cell type name AND sig/all (for link set)\n",
    "classify_links <- function(celltype_prefix, fp, outdir){\n",
    "    # Write file of all unique CREs in links (only left set of coords here!)\n",
    "    df <- read.table(fp, sep='\\t')\n",
    "    sites <- df[,c(1,2,3)]\n",
    "    chr_names <- c(paste(\"chr\",seq(1:22),sep=''),'chrX','chrY')\n",
    "    all_sites <- sites[sites$V1 %in% chr_names,]\n",
    "    all_sites_list <- paste(all_sites$V1,all_sites$V2,all_sites$V3,sep='_')\n",
    "    all_sites_list <- sort(unique(all_sites_list))\n",
    "\n",
    "    fin_df <- as.data.frame(str_split_fixed(all_sites_list,'_',n=3))\n",
    "    print(paste('Number of unique peaks: ', dim(fin_df)[1]))\n",
    "    peaks_fp <- file.path(outdir,sprintf('%s_links.unique_peaks.bedpe',celltype_prefix))\n",
    "    write.table(fin_df, peaks_fp, sep='\\t', row.names=FALSE, col.names=FALSE, quote=FALSE)\n",
    "    \n",
    "    # Overlap peaks with gene promoters\n",
    "    overlap_fp <- file.path(outdir, sprintf('%s_links.unique_peaks.gencodev32_TSS500.overlap.bed',celltype_prefix))\n",
    "    cmd <- paste('bedtools intersect -a', peaks_fp, '-b', TSS_ref_fp, '-wa -wb >', overlap_fp, sep=' ')\n",
    "    system(cmd)\n",
    "    \n",
    "    # Read in gene overlaps and classify all links\n",
    "    gene_overlaps <- read.table(overlap_fp, sep='\\t')\n",
    "    gene_overlaps$peak1 <- paste(gene_overlaps$V1, gene_overlaps$V2, gene_overlaps$V3, sep='-')\n",
    "    print(paste('Number of TSS regions overlapping a linked CRE: ',dim(gene_overlaps)[1]))\n",
    "    print(paste('Number of linked CREs that overlap at least one promoter', length(unique(gene_overlaps$peak1))))\n",
    "    \n",
    "    # Make a reference for each peak (which genes it overlaps)\n",
    "    get_genes <- function(peak, gene_overlaps){\n",
    "        gene <- gene_overlaps[gene_overlaps$peak1 == peak,7] \n",
    "        return(paste(gene, collapse=\",\"))\n",
    "    }\n",
    "    unique_peaks <- unique(gene_overlaps$peak1)\n",
    "    genes_key <- unlist(lapply(unique_peaks, get_genes, gene_overlaps))\n",
    "    names(genes_key) <- unique_peaks\n",
    "\n",
    "    # Add in promoter classifications to all the links\n",
    "    get_overlap_prom <- function(peak, genes_key){\n",
    "        if (peak %in% names(genes_key)){\n",
    "            return(genes_key[peak])\n",
    "        } else {\n",
    "            return(NA)\n",
    "        }\n",
    "    }\n",
    "    df$peak1 = paste(df$V1, df$V2, df$V3, sep='-')\n",
    "    df$prom1 = unlist(lapply(df$peak1, get_overlap_prom, genes_key))\n",
    "\n",
    "    # Classify each link based on prom1 and prom2\n",
    "    classify_link <- function(df_row){\n",
    "        prom1 = df_row[['prom1']]\n",
    "        if(is.na(prom1)){\n",
    "            return('CP')\n",
    "        } else if(!is.na(prom1)){\n",
    "            return('PP')\n",
    "        }\n",
    "    }\n",
    "    df$class = apply(df,1, classify_link)\n",
    "    fin_df <- df[order(df$V1,df$V2),]\n",
    "    out_fp = file.path(outdir,sprintf('%s_links.wClass.bedpe',celltype_prefix))\n",
    "    write.table(fin_df,out_fp, sep='\\t', col.names=FALSE, row.names=FALSE, quote=FALSE)\n",
    "}"
   ]
  },
  {
   "cell_type": "markdown",
   "id": "1f5bbc2c",
   "metadata": {},
   "source": [
    "### Run functions to classify links"
   ]
  },
  {
   "cell_type": "code",
   "execution_count": null,
   "id": "efa14f9c",
   "metadata": {},
   "outputs": [],
   "source": [
    "# First classify significant links\n",
    "for (celltype in celltypes){\n",
    "    print(paste(celltype, Sys.time()))\n",
    "    link_fp <- paste0(hm_prefix,celltype,'/',celltype,hm_suffix1)\n",
    "    prefix <- paste0(celltype,'_sig')\n",
    "    classify_links(prefix, link_fp, file.path(hm_outdir,'intermediates'))\n",
    "    print(\"\")\n",
    "}"
   ]
  },
  {
   "cell_type": "code",
   "execution_count": null,
   "id": "b3a7aa9e",
   "metadata": {},
   "outputs": [],
   "source": [
    "# Then classify all links tested\n",
    "for (celltype in celltypes){\n",
    "    print(paste(celltype, Sys.time()))\n",
    "    link_fp2 <- paste0(hm_prefix,celltype,'/',celltype,hm_suffix2)\n",
    "    prefix2 <- paste0(celltype,'_all')\n",
    "    classify_links(prefix2, link_fp2, file.path(hm_outdir,'intermediates'))\n",
    "    print(\"\")\n",
    "}"
   ]
  },
  {
   "cell_type": "markdown",
   "id": "05e0d95f",
   "metadata": {},
   "source": [
    "## 4b. Summarize proportion of links which are PP and output CP links-only file"
   ]
  },
  {
   "cell_type": "code",
   "execution_count": null,
   "id": "9cbc23b9",
   "metadata": {},
   "outputs": [],
   "source": [
    "# Significant links\n",
    "for (celltype in celltypes){\n",
    "    # Read in classified links file\n",
    "    celltype_prefix <- paste0(celltype, '_sig')\n",
    "    classified_fp <- file.path(hm_outdir,'intermediates',sprintf('%s_links.wClass.bedpe',celltype_prefix))\n",
    "    df <- read.table(classified_fp, sep='\\t')\n",
    "    colnames(df) <- c('CRE_chr','CRE_start','CRE_end','gene_chr','gene_start','gene_end','gene',\n",
    "                      'corr','pvalue','qvalue','CRE_peak','overlap_gene','class')\n",
    "    \n",
    "    # Write out stats\n",
    "    class_prop <- table(df$class)\n",
    "    print(class_prop)\n",
    "    pp_links <- class_prop[['PP']]\n",
    "    all_links <- dim(df)[1]\n",
    "    print(paste0('Percentage of ', celltype_prefix, ' links which are PP: ', pp_links, '/', all_links, ' = ', pp_links/all_links))\n",
    "    \n",
    "    # Filter links file to CP links and output\n",
    "    cp_links <- df[df$class =='CP',seq(1,10)]\n",
    "    out_fp <- file.path(hm_outdir,sprintf('%s_CP_links.bedpe',celltype_prefix))\n",
    "    write.table(cp_links, out_fp, sep='\\t', col.names=FALSE, row.names=FALSE, quote=FALSE)\n",
    "}"
   ]
  },
  {
   "cell_type": "code",
   "execution_count": null,
   "id": "720a2076",
   "metadata": {},
   "outputs": [],
   "source": [
    "# All links\n",
    "for (celltype in celltypes){\n",
    "    # Read in classified links file\n",
    "    celltype_prefix <- paste0(celltype, '_all')\n",
    "    classified_fp <- file.path(hm_outdir,'intermediates',sprintf('%s_links.wClass.bedpe',celltype_prefix))\n",
    "    df <- read.table(classified_fp, sep='\\t')\n",
    "    colnames(df) <- c('CRE_chr','CRE_start','CRE_end','gene_chr','gene_start','gene_end','gene',\n",
    "                      'corr','pvalue','CRE_peak','overlap_gene','class')\n",
    "    \n",
    "    # Write out stats\n",
    "    class_prop <- table(df$class)\n",
    "    print(class_prop)\n",
    "    pp_links <- class_prop[['PP']]\n",
    "    all_links <- dim(df)[1]\n",
    "    print(paste0('Percentage of ', celltype_prefix, ' links which are PP: ', pp_links, '/', all_links, ' = ', pp_links/all_links))\n",
    "    \n",
    "    # Filter links file to CP links and output\n",
    "    cp_links <- df[df$class =='CP',seq(1,9)]\n",
    "    out_fp <- file.path(hm_outdir,sprintf('%s_CP_links.bedpe',celltype_prefix))\n",
    "    write.table(cp_links, out_fp, sep='\\t', col.names=FALSE, row.names=FALSE, quote=FALSE)\n",
    "}"
   ]
  },
  {
   "cell_type": "markdown",
   "id": "2ede8440",
   "metadata": {},
   "source": [
    "# 5. Merge the background link sets for all 3 methods"
   ]
  },
  {
   "cell_type": "markdown",
   "id": "ccb20fd1",
   "metadata": {},
   "source": [
    "### Functions"
   ]
  },
  {
   "cell_type": "code",
   "execution_count": null,
   "id": "e8aaf678",
   "metadata": {},
   "outputs": [],
   "source": [
    "### Function to extract a gene's TSS from the reference file\n",
    "get_TSS <- function(gene, ref_df){\n",
    "    if (gene %in% ref_df$V4 == TRUE){\n",
    "        ref_df_cut = ref_df[ref_df$V4 ==gene,]\n",
    "        if (ref_df_cut$V6 == '-'){\n",
    "            tss = max(c(ref_df_cut$V2,ref_df_cut$V3))\n",
    "        } else {\n",
    "            tss = min((c(ref_df_cut$V2,ref_df_cut$V3)))\n",
    "        }\n",
    "        return(tss)\n",
    "    } else {\n",
    "        return(NA)\n",
    "    }\n",
    "}\n",
    "\n",
    "\n",
    "### Function to calculate link distances from a bedpe style dataframe row\n",
    "calc_link_distance <- function(link_df_row){\n",
    "    CRE_start <- as.integer(link_df_row[2])\n",
    "    CRE_end <- as.integer(link_df_row[3])\n",
    "    gene_start <- as.integer(link_df_row[5])\n",
    "    CRE_center <- CRE_start + (CRE_end - CRE_start)/2\n",
    "    distance <- abs(CRE_center - gene_start)\n",
    "    return(distance)\n",
    "}\n",
    "\n",
    "\n",
    "### Function to read in the 3 method background files (created in notebooks 1 and 2),\n",
    "### merge them and then remove duplicates\n",
    "merge_backgrounds <- function(celltype, smores_fp, abc_fp, cic_fp, outdir, dist_threshold=1000000){\n",
    "    # Read in files and concatenate them\n",
    "    smores_df <- read.table(smores_fp, sep='\\t')[,-c(9)] ###removing p-value col so matches other dfs\n",
    "    abc_df <- read.table(abc_fp, sep='\\t')\n",
    "    cic_df <- read.table(cic_fp, sep='\\t')\n",
    "    all_df <- rbind(smores_df, abc_df, cic_df)\n",
    "    colnames(all_df) <- c('CRE_chr','CRE_start','CRE_end','gene_chr','gene_start','gene_end','gene','score')\n",
    "    \n",
    "    # Make link ID column and use this to remove duplicates\n",
    "    all_df$link <- paste(paste(all_df$CRE_chr, all_df$CRE_start, all_df$CRE_end, sep='-'), all_df$gene, sep='_')\n",
    "    all_df_cut <- all_df[!duplicated(all_df$link),]\n",
    "    print(paste('Number of unique links in combined background set:', dim(all_df_cut)[1]))\n",
    "    \n",
    "    # Rewrite the gene TSS coord info (since cicero file doesn't have correct values)\n",
    "    unique_genes <- unique(all_df_cut$gene)\n",
    "    gene_tss <- sapply(unique_genes, get_TSS, ref_df)\n",
    "    tss_info <- data.frame(gene_tss, gene_tss+1)\n",
    "    tss_info$gene <- unique_genes    \n",
    "    merged_df <- merge(all_df_cut, tss_info, by='gene')\n",
    "    all_df2 <- merged_df[,c(2,3,4,2,10,11,1)] #TargetGene becomes col 1 in merge, not saving score bc not consistent across methods\n",
    "    \n",
    "    # Remove links more than 1Mb apart (or whatever distance threshold you choose)\n",
    "    distances <- unlist(apply(all_df2, 1, calc_link_distance))\n",
    "    all_df2_cut <- all_df2[distances <= dist_threshold,]\n",
    "    fin_df <- all_df2_cut[order(all_df2_cut$CRE_chr, all_df2_cut$CRE_start),]\n",
    "\n",
    "    # Save to bedpe file\n",
    "    out_fp <- file.path(outdir, sprintf('%s_3method_merged_all_links.bedpe',celltype))\n",
    "    write.table(fin_df, out_fp, sep='\\t', row.names=FALSE, col.names=FALSE, quote=FALSE)\n",
    "}"
   ]
  },
  {
   "cell_type": "markdown",
   "id": "e02524a8",
   "metadata": {},
   "source": [
    "### Run functions to merge background files for celltype"
   ]
  },
  {
   "cell_type": "code",
   "execution_count": null,
   "id": "72861d59",
   "metadata": {},
   "outputs": [],
   "source": [
    "smores_fp <- paste0(hm_prefix,celltype,'/',celltype,hm_suffix2)\n",
    "abc_fp <- file.path(abc_dir, sprintf('%s_nonsig_mapped_links.bedpe',celltype))\n",
    "cic_fp <- file.path(cic_dir, sprintf('%s_links.CP_reformat.bedpe',celltype))\n",
    "\n",
    "tic()\n",
    "merge_backgrounds(celltype, smores_fp, abc_fp, cic_fp, overlap_outdir)\n",
    "toc()\n",
    "\n",
    "### previous run took 130 seconds"
   ]
  }
 ],
 "metadata": {
  "kernelspec": {
   "display_name": "R 4.1",
   "language": "R",
   "name": "ir411"
  },
  "language_info": {
   "codemirror_mode": "r",
   "file_extension": ".r",
   "mimetype": "text/x-r-source",
   "name": "R",
   "pygments_lexer": "r",
   "version": "4.1.1"
  }
 },
 "nbformat": 4,
 "nbformat_minor": 5
}
