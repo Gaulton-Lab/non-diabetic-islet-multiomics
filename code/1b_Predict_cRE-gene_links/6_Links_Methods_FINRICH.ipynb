{
 "cells": [
  {
   "cell_type": "markdown",
   "id": "706cf5e5",
   "metadata": {},
   "source": [
    "#### Summary:\n",
    "In this notebook I will test running FINRICH on different sets of linked cREs, to test for enrichment of GWAS variants. In this case we have credible sets for 6 traits (T1D, T2D, fasting glucose, fasting insulin, 2h glucose, and HbA1c). You can use any credible sets you'd like though!"
   ]
  },
  {
   "cell_type": "markdown",
   "id": "35f60738",
   "metadata": {},
   "source": [
    "# 1. Basic Preparation"
   ]
  },
  {
   "cell_type": "code",
   "execution_count": 1,
   "id": "97e400f4",
   "metadata": {},
   "outputs": [],
   "source": [
    "# Import necessary libraries\n",
    "suppressMessages(library(dplyr))\n",
    "suppressMessages(library(stringr))\n",
    "suppressMessages(library(data.table))\n",
    "suppressMessages(library(grid))\n",
    "\n",
    "suppressMessages(library(tictoc))\n",
    "suppressMessages(library(UpSetR))\n",
    "suppressMessages(library(ggplot2))\n",
    "#suppressMessages(library(cicero))\n",
    "#suppressMessages(library(pheatmap))\n",
    "suppressMessages(library(RColorBrewer))\n",
    "\n",
    "suppressMessages(library(parallel))"
   ]
  },
  {
   "cell_type": "code",
   "execution_count": 2,
   "id": "d633610a",
   "metadata": {},
   "outputs": [],
   "source": [
    "# Define celltypes list\n",
    "celltypes <- c('beta','alpha','delta','gamma','ductal','acinar')\n",
    "\n",
    "# Define colors for each celltype (same order as celltypes)\n",
    "colors <- c('#3F98E0', '#F51646', '#E39E14', '#A1D99B', '#09850B', '#F5DE6C')"
   ]
  },
  {
   "cell_type": "code",
   "execution_count": 22,
   "id": "493b928a-cc13-4d00-926d-6242494154ec",
   "metadata": {
    "tags": []
   },
   "outputs": [],
   "source": [
    "method_colors <- c('#000000', #All 3 links (black)\n",
    "            '#99C899', #ABC + Cicero (green)\n",
    "            '#E8A082', #HM + Cicero (orange)\n",
    "            '#999BD1', #HM + ABC (purple)\n",
    "            '#E8CD4A', #Cicero (yellow)\n",
    "            '#4AC3E8', #ABC (blue)\n",
    "            '#E773B9') #HM (pink)\n",
    "\n",
    "link_methods <- c('hm_abc_cic','abc_cic','hm_cic','hm_abc','cic','abc','hm')\n",
    "names(method_colors) <- link_methods"
   ]
  },
  {
   "cell_type": "code",
   "execution_count": 4,
   "id": "40b4dae7",
   "metadata": {},
   "outputs": [],
   "source": [
    "distance_bins <- c('250000-1000000', '100000-250000', '50000-100000', '10000-50000', '0-10000')"
   ]
  },
  {
   "cell_type": "code",
   "execution_count": 5,
   "id": "737d13fe",
   "metadata": {},
   "outputs": [],
   "source": [
    "# disable scientific notation for the filepath names of larger distances\n",
    "options(scipen = 999)\n",
    "set.seed(8)"
   ]
  },
  {
   "cell_type": "markdown",
   "id": "8eca0db1",
   "metadata": {},
   "source": [
    "### Important file paths"
   ]
  },
  {
   "cell_type": "code",
   "execution_count": 6,
   "id": "d5cf31cb-e2c8-4412-9205-3d56193789af",
   "metadata": {},
   "outputs": [],
   "source": [
    "#significant links are in one file now\n",
    "# sig links (w header) = links_dir + celltype + links_suffix\n",
    "links_dir <- '/path/to/3methods/combined/files'\n",
    "links_suffix <- '_all_methods_links.wHeader.bedpe'\n",
    "bg_dir <- '/dir/with/merged/all/methods/background/links'"
   ]
  },
  {
   "cell_type": "code",
   "execution_count": 7,
   "id": "cd89600d-03ea-4b9a-880c-a3fd0e9b033c",
   "metadata": {},
   "outputs": [],
   "source": [
    "#background links are in different places \n",
    "# SMORES links (CP cut) = hm_prefix + celltype + hm_suffix\n",
    "hm_prefix <- '/path/to/SMORES/background/links/'\n",
    "hm_suffix <- '_all_CP_links.bedpe'\n",
    "\n",
    "# ABC background files = abc_bg_dir + celltype + abc_bg_suffix\n",
    "abc_bg_dir <- '/path/to/reprocessed/ABC/background/links/'\n",
    "abc_bg_suffix <- '_nonsig_mapped_links.bedpe'\n",
    "\n",
    "# Cicero background files = cic_bg_dir + celltype + cic_bg_suffix\n",
    "cic_bg_dir <- '/path/to/reprocessed/Cicero/background/links'\n",
    "cic_bg_suffix <- '_links.final_filt.bedpe'"
   ]
  },
  {
   "cell_type": "code",
   "execution_count": 8,
   "id": "86949b2c",
   "metadata": {},
   "outputs": [],
   "source": [
    "peak_dir <- '/nfs/lab/projects/multiomic_islet/outputs/multiome/call_peaks/recluster_final_majorCTs_v2'"
   ]
  },
  {
   "cell_type": "code",
   "execution_count": 9,
   "id": "9a39d69a-4c56-4fb3-97e6-46cd2ab70279",
   "metadata": {},
   "outputs": [],
   "source": [
    "#final credible set files!\n",
    "credset_dir <- '/dir/with/hg38/credible/sets/'\n",
    "t1d_fp <- file.path(credset_dir,'T1D_Chiou_2021_cred_set.bed')\n",
    "t2d_fp <- file.path(credset_dir,'T2D_DIAMANTE_multiancestry.cred99.hg38.bed')\n",
    "glu2h_fp <- file.path(credset_dir,'2hGlu_MAGIC_trans_ancestry_pseudo_credset.LDproxyRsq0.8.bed')\n",
    "fg_fp <- file.path(credset_dir,'FG_MAGIC_trans_ancestry_pseudo_credset.LDproxyRsq0.8.bed')\n",
    "fi_fp <- file.path(credset_dir,'FI_MAGIC_trans_ancestry_pseudo_credset.LDproxyRsq0.8.bed')\n",
    "hba1c_fp <- file.path(credset_dir,'HbA1c_MAGIC_trans_ancestry_pseudo_credset.LDproxyRsq0.8.bed')"
   ]
  },
  {
   "cell_type": "code",
   "execution_count": 10,
   "id": "ed03cd7c-8f19-4284-9f53-42e0da1dcaae",
   "metadata": {},
   "outputs": [],
   "source": [
    "gwas_prefixes <- c('T1D','T2D','2hGlu','FG','FI','HbA1c')\n",
    "gwas_fps <- c(t1d_fp, t2d_fp, glu2h_fp, fg_fp, fi_fp, hba1c_fp)\n",
    "names(gwas_fps) <- gwas_prefixes"
   ]
  },
  {
   "cell_type": "code",
   "execution_count": 11,
   "id": "ce6f6cf9",
   "metadata": {},
   "outputs": [],
   "source": [
    "outdir <- '/dir/to/write/outputs/to'"
   ]
  },
  {
   "cell_type": "markdown",
   "id": "3df4ea75",
   "metadata": {},
   "source": [
    "# 1. FINRICH Prereqs:\n",
    "\n",
    "Install finrich: `pip3 install finrich` (https://pypi.org/project/finrich/)"
   ]
  },
  {
   "cell_type": "markdown",
   "id": "9bc13b9f",
   "metadata": {},
   "source": [
    "FINRICH inputs:\n",
    "- finemapped variants bed file\n",
    "- background.txt (bed file of peaks, tab separated, 3 cols)\n",
    "- signal.txt (bed file of peaks, tab separated, 3 cols)"
   ]
  },
  {
   "cell_type": "markdown",
   "id": "45886b48",
   "metadata": {},
   "source": [
    "## Check the overlap of cRE sets and credible sets\n",
    "It's important to do this, because if there's no overlap FINRICH won't run or produce meaningful results."
   ]
  },
  {
   "cell_type": "code",
   "execution_count": 12,
   "id": "e8df9a0b",
   "metadata": {},
   "outputs": [],
   "source": [
    "### Function to run FINRICH on all sets of sig results (will just use files from GREAT)\n",
    "### similar to great I'm going to just write all the commands to a script and then run that in the terminal\n",
    "check_overlap <- function(finemap_bed, bed_fp, log_fp){\n",
    "    system(sprintf('echo %s >> %s', bed_fp, log_fp))\n",
    "    cmd <- sprintf('bedtools intersect -a %s -b %s -wa -wb | wc -l >> %s', bed_fp, finemap_bed, log_fp)\n",
    "    system(cmd)\n",
    "}"
   ]
  },
  {
   "cell_type": "code",
   "execution_count": 13,
   "id": "de41066b",
   "metadata": {},
   "outputs": [],
   "source": [
    "log_dir <- file.path(outdir,'credset_overlaps')\n",
    "dir.create(log_dir, showWarnings=FALSE)"
   ]
  },
  {
   "cell_type": "markdown",
   "id": "471bbcbd",
   "metadata": {},
   "source": [
    "## Check overall overlap between cell type peak calls and credible sets"
   ]
  },
  {
   "cell_type": "code",
   "execution_count": 14,
   "id": "b13525de",
   "metadata": {},
   "outputs": [],
   "source": [
    "for (celltype in celltypes){\n",
    "    ct_peaks <- file.path(peak_dir, 'ct_peaks', sprintf('%s_peaks.bed',celltype))\n",
    "    log1 <- file.path(log_dir,'all_ct_peaks.T1D_overlap.txt')\n",
    "    check_overlap(t1d_fp, ct_peaks, log1)\n",
    "    log2 <- file.path(log_dir,'all_ct_peaks.T2D_overlap.txt')\n",
    "    check_overlap(t2d_fp, ct_peaks, log2)\n",
    "}"
   ]
  },
  {
   "cell_type": "code",
   "execution_count": 15,
   "id": "278a535b-4fa4-4be5-b6e4-03020115a23c",
   "metadata": {},
   "outputs": [],
   "source": [
    "for (celltype in celltypes){\n",
    "    ct_peaks <- file.path(peak_dir, 'ct_peaks', sprintf('%s_peaks.bed',celltype))\n",
    "    log1 <- file.path(log_dir,'all_ct_peaks.HbA1c_overlap.txt')\n",
    "    check_overlap(hba1c_fp, ct_peaks, log1)\n",
    "    log2 <- file.path(log_dir,'all_ct_peaks.FI_overlap.txt')\n",
    "    check_overlap(fi_fp, ct_peaks, log2)\n",
    "    log3 <- file.path(log_dir,'all_ct_peaks.FG_overlap.txt')\n",
    "    check_overlap(fg_fp, ct_peaks, log3)\n",
    "    log4 <- file.path(log_dir,'all_ct_peaks.2hGlu_overlap.txt')\n",
    "    check_overlap(glu2h_fp, ct_peaks, log4)\n",
    "}"
   ]
  },
  {
   "cell_type": "markdown",
   "id": "fe535cf7",
   "metadata": {},
   "source": [
    "## Check overall overlap between per method linked cRE calls and credible sets (T1D and T2D)"
   ]
  },
  {
   "cell_type": "code",
   "execution_count": 18,
   "id": "c34035ee",
   "metadata": {},
   "outputs": [],
   "source": [
    "for (celltype in celltypes){\n",
    "    #read in overall links methods\n",
    "    sig_links_fp <- paste0(links_dir, '/', celltype, links_suffix)\n",
    "    sig_links <- read.table(sig_links_fp, sep='\\t', header=1)\n",
    "    \n",
    "    #extract method links AND remove annoying columns\n",
    "    hm_links <- subset(sig_links, !is.na(hm_score)) %>% select(-c(hm_score,abc_score,cic_score,method_str)) %>% distinct(chr,start,end)\n",
    "    abc_links <- subset(sig_links, !is.na(abc_score)) %>% select(-c(hm_score,abc_score,cic_score,method_str)) %>% distinct(chr,start,end)\n",
    "    cic_links <- subset(sig_links, !is.na(cic_score)) %>% select(-c(hm_score,abc_score,cic_score,method_str)) %>% distinct(chr,start,end)\n",
    "\n",
    "    #write these links to temp bed files\n",
    "    fp1 <- file.path(log_dir,sprintf('SMORES_%s.bed',celltype))\n",
    "    write.table(hm_links, fp1, sep='\\t', row.names=FALSE, col.names=FALSE, quote=FALSE)\n",
    "    fp2 <- file.path(log_dir,sprintf('ABC_%s.bed',celltype))\n",
    "    write.table(abc_links, fp2, sep='\\t', row.names=FALSE, col.names=FALSE, quote=FALSE)\n",
    "    fp3 <- file.path(log_dir,sprintf('Cicero_%s.bed',celltype))\n",
    "    write.table(cic_links, fp3, sep='\\t', row.names=FALSE, col.names=FALSE, quote=FALSE)\n",
    "    \n",
    "    #then check for overlaps\n",
    "    log1 <- file.path(log_dir,'ct_linked_cREs.T1D_overlap.txt')\n",
    "    check_overlap(t1d_fp, fp1, log1)\n",
    "    check_overlap(t1d_fp, fp2, log1)\n",
    "    check_overlap(t1d_fp, fp3, log1)\n",
    "    \n",
    "    log2 <- file.path(log_dir,'ct_linked_cREs.T2D_overlap.txt')\n",
    "    check_overlap(t2d_fp, fp1, log2)\n",
    "    check_overlap(t2d_fp, fp2, log2)\n",
    "    check_overlap(t2d_fp, fp3, log2)\n",
    "\n",
    "    #and delete temp files\n",
    "    system(sprintf('rm %s %s %s',fp1,fp2,fp3))\n",
    "    \n",
    "}"
   ]
  },
  {
   "cell_type": "markdown",
   "id": "c932a232",
   "metadata": {},
   "source": [
    "# 2. Run FINRICH on sets of linked cREs"
   ]
  },
  {
   "cell_type": "code",
   "execution_count": 19,
   "id": "838746ba",
   "metadata": {},
   "outputs": [],
   "source": [
    "### Function to run FINRICH on all sets of sig results (will just use files from GREAT)\n",
    "### similar to great I'm going to just write all the commands to a script and then run that in the terminal\n",
    "run_FINRICH <- function(finemap_bed, prefix, cre_bed, bg_bed, out_dir){\n",
    "    #create overall output file\n",
    "    overall_out_fp <- file.path(out_dir,'combined_results.txt')\n",
    "    \n",
    "    #set up finrich code\n",
    "    temp_fp <- file.path(out_dir, paste0(prefix,'_temp.txt'))\n",
    "    cmd <- sprintf('finrich %s %s %s --permutations 1000 --processes 2 > %s', finemap_bed, cre_bed, bg_bed, temp_fp)\n",
    "    #print(cmd)\n",
    "    system(cmd)\n",
    "\n",
    "    #concat and reformat outputs slightly\n",
    "    cmd2 <- sprintf('awk -v prefix=%s \\'NR == 1 {print prefix \"|\" $0;}\\' %s >> %s', prefix, temp_fp, overall_out_fp)\n",
    "    system(cmd2)\n",
    "    system(sprintf('rm %s',temp_fp))\n",
    "}"
   ]
  },
  {
   "cell_type": "markdown",
   "id": "e78c2cae",
   "metadata": {},
   "source": [
    "## 2a. Run on all linked cREs"
   ]
  },
  {
   "cell_type": "code",
   "execution_count": 25,
   "id": "138dc4d7-cc63-4a24-b855-02155b0d80a6",
   "metadata": {},
   "outputs": [],
   "source": [
    "### Function to run FINRICH on a cell type (so I can parallelize by cell type)\n",
    "run_finrich_all_links_gen <- function(celltype, gwas_prefix, gwas_fp, outdir){\n",
    "    #set up file paths\n",
    "    gwas_dir <- file.path(outdir, gwas_prefix)\n",
    "    dir.create(gwas_dir, showWarnings=FALSE, recursive=TRUE)\n",
    "    \n",
    "    #read in overall links methods\n",
    "    sig_links_fp <- paste0(links_dir, '/', celltype, links_suffix)\n",
    "    sig_links <- read.table(sig_links_fp, sep='\\t', header=1)\n",
    "    \n",
    "    #extract method links AND remove annoying columns\n",
    "    hm_links <- subset(sig_links, !is.na(hm_score)) %>% select(-c(hm_score,abc_score,cic_score,method_str)) %>% distinct(chr,start,end)\n",
    "    abc_links <- subset(sig_links, !is.na(abc_score)) %>% select(-c(hm_score,abc_score,cic_score,method_str)) %>% distinct(chr,start,end)\n",
    "    cic_links <- subset(sig_links, !is.na(cic_score)) %>% select(-c(hm_score,abc_score,cic_score,method_str)) %>% distinct(chr,start,end)\n",
    "\n",
    "    #write these links to temp bed files\n",
    "    fp1 <- file.path(outdir,sprintf('SMORES_%s.bed',celltype))\n",
    "    write.table(hm_links, fp1, sep='\\t', row.names=FALSE, col.names=FALSE, quote=FALSE)\n",
    "    fp2 <- file.path(outdir,sprintf('ABC_%s.bed',celltype))\n",
    "    write.table(abc_links, fp2, sep='\\t', row.names=FALSE, col.names=FALSE, quote=FALSE)\n",
    "    fp3 <- file.path(outdir,sprintf('Cicero_%s.bed',celltype))\n",
    "    write.table(cic_links, fp3, sep='\\t', row.names=FALSE, col.names=FALSE, quote=FALSE)\n",
    "    \n",
    "    #run finrich with helper function\n",
    "    ct_peaks <- file.path(peak_dir, sprintf('%s.merged_peaks.anno.mergedOverlap.bed',celltype))\n",
    "    run_FINRICH(gwas_fp, paste('SMORES',celltype,sep='-'), fp1, ct_peaks, gwas_dir)\n",
    "    run_FINRICH(gwas_fp, paste('ABC',celltype,sep='-'), fp2, ct_peaks, gwas_dir)\n",
    "    run_FINRICH(gwas_fp, paste('Cicero',celltype,sep='-'), fp3, ct_peaks, gwas_dir)\n",
    "    \n",
    "    #and delete temp files\n",
    "    #system(sprintf('rm %s %s %s',fp1,fp2,fp3))\n",
    "}"
   ]
  },
  {
   "cell_type": "code",
   "execution_count": 28,
   "id": "34f8db28-79fe-48df-9220-b9c2c46a889e",
   "metadata": {},
   "outputs": [],
   "source": [
    "res_dir1 <- file.path(outdir, 'all_links')\n",
    "dir.create(res_dir1, showWarnings=F)"
   ]
  },
  {
   "cell_type": "code",
   "execution_count": 30,
   "id": "f8bc056a-cd65-4caa-b9c1-dd0f2ff516ff",
   "metadata": {},
   "outputs": [
    {
     "name": "stdout",
     "output_type": "stream",
     "text": [
      "[1] \"T1D 2024-07-02 20:39:42\"\n",
      "[1] \"T2D 2024-07-02 20:50:10\"\n",
      "[1] \"2hGlu 2024-07-02 20:53:29\"\n",
      "[1] \"FG 2024-07-02 20:54:37\"\n",
      "[1] \"FI 2024-07-02 20:56:14\"\n",
      "[1] \"HbA1c 2024-07-02 20:57:33\"\n"
     ]
    }
   ],
   "source": [
    "for(gwas_prefix in names(gwas_fps)){\n",
    "    print(paste(gwas_prefix, Sys.time()))\n",
    "    gwas_fp <- gwas_fps[[gwas_prefix]]\n",
    "    mclapply(celltypes, run_finrich_all_links_gen, gwas_prefix, gwas_fp, res_dir1)\n",
    "}"
   ]
  },
  {
   "cell_type": "markdown",
   "id": "fd713a3c",
   "metadata": {},
   "source": [
    "## 2b. Run on all sets of method overlaps"
   ]
  },
  {
   "cell_type": "code",
   "execution_count": 31,
   "id": "4ebb7f08-0049-40c6-a46c-6fba92b2bcdc",
   "metadata": {},
   "outputs": [],
   "source": [
    "### Function to run FINRICH on a cell type (so I can parallelize by cell type)\n",
    "### slightly modified to run for method overlap link sets\n",
    "run_finrich_method_overlaps_gen <- function(celltype, gwas_prefix, gwas_fp, outdir){\n",
    "    #set up file paths\n",
    "    gwas_dir <- file.path(outdir, gwas_prefix)\n",
    "    dir.create(gwas_dir, showWarnings=FALSE, recursive=TRUE)\n",
    "    \n",
    "    #read in overall links methods\n",
    "    sig_links_fp <- paste0(links_dir, '/', celltype, links_suffix)\n",
    "    sig_links <- read.table(sig_links_fp, sep='\\t', header=1)\n",
    "    \n",
    "    #extract each overlap set and run FINRICH separately\n",
    "    for(set in link_sets){\n",
    "        #extract links and write to temp bed file\n",
    "        sig_links_cut <- subset(sig_links, method_str==set) %>% select(-c(hm_score,abc_score,cic_score,method_str)) %>% distinct(chr,start,end)\n",
    "        fp <- file.path(outdir, sprintf('%s_%s.bed',celltype,set))\n",
    "        write.table(sig_links_cut, fp, sep='\\t', row.names=FALSE, col.names=FALSE, quote=FALSE)\n",
    "    \n",
    "        #run finrich with helper function\n",
    "        ct_peaks <- file.path(peak_dir, sprintf('%s.merged_peaks.anno.mergedOverlap.bed',celltype))\n",
    "        run_FINRICH(gwas_fp, paste(set,celltype,sep='-'), fp, ct_peaks, gwas_dir)\n",
    "\n",
    "        #delete temp file\n",
    "        system(sprintf('rm %s',fp))\n",
    "    }\n",
    "}"
   ]
  },
  {
   "cell_type": "code",
   "execution_count": 32,
   "id": "7cddd518-7b83-411a-82dc-de7f137c1145",
   "metadata": {},
   "outputs": [],
   "source": [
    "res_dir2 <- file.path(outdir, 'method_overlaps')\n",
    "dir.create(res_dir2, showWarnings=F)"
   ]
  },
  {
   "cell_type": "code",
   "execution_count": 33,
   "id": "0c8e9b89-0a89-4006-9cb3-6e4502743e49",
   "metadata": {},
   "outputs": [
    {
     "name": "stdout",
     "output_type": "stream",
     "text": [
      "[1] \"T1D 2024-07-02 20:59:08\"\n",
      "[1] \"T2D 2024-07-02 21:23:41\"\n",
      "[1] \"2hGlu 2024-07-02 21:30:03\"\n",
      "[1] \"FG 2024-07-02 21:31:38\"\n",
      "[1] \"FI 2024-07-02 21:34:25\"\n",
      "[1] \"HbA1c 2024-07-02 21:36:19\"\n"
     ]
    }
   ],
   "source": [
    "for(gwas_prefix in names(gwas_fps)){\n",
    "    print(paste(gwas_prefix, Sys.time()))\n",
    "    gwas_fp <- gwas_fps[[gwas_prefix]]\n",
    "    mclapply(celltypes, run_finrich_method_overlaps_gen, gwas_prefix, gwas_fp, res_dir2)\n",
    "}"
   ]
  },
  {
   "cell_type": "markdown",
   "id": "a696613f-cb0d-4204-ab18-54d24763cf6e",
   "metadata": {},
   "source": [
    "# Plot interesting outputs - Ex: T2D and fasting glucose"
   ]
  },
  {
   "cell_type": "code",
   "execution_count": 12,
   "id": "422c00f1-9323-4fd3-bc5e-31f99c38868e",
   "metadata": {},
   "outputs": [],
   "source": [
    "finrich_outdir <- outdir"
   ]
  },
  {
   "cell_type": "code",
   "execution_count": 23,
   "id": "2c683fa5-8401-48ee-b016-b1e3eb8752c9",
   "metadata": {},
   "outputs": [
    {
     "data": {
      "text/html": [
       "<style>\n",
       ".dl-inline {width: auto; margin:0; padding: 0}\n",
       ".dl-inline>dt, .dl-inline>dd {float: none; width: auto; display: inline-block}\n",
       ".dl-inline>dt::after {content: \":\\0020\"; padding-right: .5ex}\n",
       ".dl-inline>dt:not(:first-of-type) {padding-left: .5ex}\n",
       "</style><dl class=dl-inline><dt>hm_abc_cic</dt><dd>'SMORES-ABC-Cicero'</dd><dt>abc_cic</dt><dd>'ABC-Cicero'</dd><dt>hm_cic</dt><dd>'SMORES-Cicero'</dd><dt>hm_abc</dt><dd>'SMORES-ABC'</dd><dt>cic</dt><dd>'Cicero'</dd><dt>abc</dt><dd>'ABC'</dd><dt>hm</dt><dd>'SMORES'</dd></dl>\n"
      ],
      "text/latex": [
       "\\begin{description*}\n",
       "\\item[hm\\textbackslash{}\\_abc\\textbackslash{}\\_cic] 'SMORES-ABC-Cicero'\n",
       "\\item[abc\\textbackslash{}\\_cic] 'ABC-Cicero'\n",
       "\\item[hm\\textbackslash{}\\_cic] 'SMORES-Cicero'\n",
       "\\item[hm\\textbackslash{}\\_abc] 'SMORES-ABC'\n",
       "\\item[cic] 'Cicero'\n",
       "\\item[abc] 'ABC'\n",
       "\\item[hm] 'SMORES'\n",
       "\\end{description*}\n"
      ],
      "text/markdown": [
       "hm_abc_cic\n",
       ":   'SMORES-ABC-Cicero'abc_cic\n",
       ":   'ABC-Cicero'hm_cic\n",
       ":   'SMORES-Cicero'hm_abc\n",
       ":   'SMORES-ABC'cic\n",
       ":   'Cicero'abc\n",
       ":   'ABC'hm\n",
       ":   'SMORES'\n",
       "\n"
      ],
      "text/plain": [
       "         hm_abc_cic             abc_cic              hm_cic              hm_abc \n",
       "\"SMORES-ABC-Cicero\"        \"ABC-Cicero\"     \"SMORES-Cicero\"        \"SMORES-ABC\" \n",
       "                cic                 abc                  hm \n",
       "           \"Cicero\"               \"ABC\"            \"SMORES\" "
      ]
     },
     "metadata": {},
     "output_type": "display_data"
    }
   ],
   "source": [
    "label_map <- c('SMORES-ABC-Cicero','ABC-Cicero','SMORES-Cicero','SMORES-ABC','Cicero','ABC','SMORES')\n",
    "names(label_map) <- link_methods\n",
    "label_map"
   ]
  },
  {
   "cell_type": "code",
   "execution_count": 24,
   "id": "822ad263-c4f6-4cf4-b6ef-8c83b259314b",
   "metadata": {},
   "outputs": [],
   "source": [
    "label_order <- paste(label_map, rep(c('T2D','MAGIC_FG'),each=7))"
   ]
  },
  {
   "cell_type": "code",
   "execution_count": 33,
   "id": "b09ce9bb-6146-454a-a645-b33a2a1e593c",
   "metadata": {},
   "outputs": [
    {
     "data": {
      "text/html": [
       "<style>\n",
       ".dl-inline {width: auto; margin:0; padding: 0}\n",
       ".dl-inline>dt, .dl-inline>dd {float: none; width: auto; display: inline-block}\n",
       ".dl-inline>dt::after {content: \":\\0020\"; padding-right: .5ex}\n",
       ".dl-inline>dt:not(:first-of-type) {padding-left: .5ex}\n",
       "</style><dl class=dl-inline><dt>SMORES-ABC-Cicero</dt><dd>'#000000'</dd><dt>ABC-Cicero</dt><dd>'#99C899'</dd><dt>SMORES-Cicero</dt><dd>'#E8A082'</dd><dt>SMORES-ABC</dt><dd>'#999BD1'</dd><dt>Cicero</dt><dd>'#E8CD4A'</dd><dt>ABC</dt><dd>'#4AC3E8'</dd><dt>SMORES</dt><dd>'#E773B9'</dd></dl>\n"
      ],
      "text/latex": [
       "\\begin{description*}\n",
       "\\item[SMORES-ABC-Cicero] '\\#000000'\n",
       "\\item[ABC-Cicero] '\\#99C899'\n",
       "\\item[SMORES-Cicero] '\\#E8A082'\n",
       "\\item[SMORES-ABC] '\\#999BD1'\n",
       "\\item[Cicero] '\\#E8CD4A'\n",
       "\\item[ABC] '\\#4AC3E8'\n",
       "\\item[SMORES] '\\#E773B9'\n",
       "\\end{description*}\n"
      ],
      "text/markdown": [
       "SMORES-ABC-Cicero\n",
       ":   '#000000'ABC-Cicero\n",
       ":   '#99C899'SMORES-Cicero\n",
       ":   '#E8A082'SMORES-ABC\n",
       ":   '#999BD1'Cicero\n",
       ":   '#E8CD4A'ABC\n",
       ":   '#4AC3E8'SMORES\n",
       ":   '#E773B9'\n",
       "\n"
      ],
      "text/plain": [
       "SMORES-ABC-Cicero        ABC-Cicero     SMORES-Cicero        SMORES-ABC \n",
       "        \"#000000\"         \"#99C899\"         \"#E8A082\"         \"#999BD1\" \n",
       "           Cicero               ABC            SMORES \n",
       "        \"#E8CD4A\"         \"#4AC3E8\"         \"#E773B9\" "
      ]
     },
     "metadata": {},
     "output_type": "display_data"
    }
   ],
   "source": [
    "colors2 <- copy(method_colors)\n",
    "names(colors2) <- label_map\n",
    "colors2"
   ]
  },
  {
   "cell_type": "code",
   "execution_count": 35,
   "id": "6efb2dcc-76fc-42bc-9017-ba4614b8f149",
   "metadata": {},
   "outputs": [],
   "source": [
    "#example for one cell types\n",
    "indir <- file.path(finrich_outdir, 'method_overlaps')\n",
    "ct <- 'beta'\n",
    "sig_cutoff=0.1\n",
    "\n",
    "# FIRST READ IN FG RESULTS\n",
    "fp1 <- file.path(indir, 'MAGIC_FG', 'combined_results_reformat.txt')\n",
    "data1 <- read.table(fp1, sep='\\t', header = TRUE)\n",
    "data1 <- data1 %>% subset(celltype==ct)\n",
    "data1$qval <- p.adjust(data1$pval, method='BH')\n",
    "\n",
    "# Sort data_cut by celltype (use to refactor later on) -- maybe don't do this\n",
    "data_cut_sort1 <- data1[order(data1$method, data1$celltype),]\n",
    "data_cut_sort1$sig <- ifelse(data_cut_sort1$qval < sig_cutoff, '*', '')\n",
    "data_cut_sort1$gwas <- 'FG'\n",
    "\n",
    "# THEN READ IN T2D RESULTS\n",
    "fp2 <- file.path(indir, 'T2D', 'combined_results_reformat.txt')\n",
    "data2 <- read.table(fp2, sep='\\t', header = TRUE)\n",
    "data2 <- data2 %>% subset(celltype==ct)\n",
    "data2$qval <- p.adjust(data2$pval, method='BH')\n",
    "\n",
    "# Sort data_cut by celltype (use to refactor later on) -- maybe don't do this\n",
    "data_cut_sort2 <- data2[order(data2$method, data2$celltype),]\n",
    "data_cut_sort2$sig <- ifelse(data_cut_sort2$qval < sig_cutoff, '*', '')\n",
    "data_cut_sort2$gwas <- 'T2D'"
   ]
  },
  {
   "cell_type": "code",
   "execution_count": 36,
   "id": "560950b5-16f7-4ba1-b90d-993ee2cfb67a",
   "metadata": {},
   "outputs": [
    {
     "data": {
      "text/html": [
       "9"
      ],
      "text/latex": [
       "9"
      ],
      "text/markdown": [
       "9"
      ],
      "text/plain": [
       "[1] 9"
      ]
     },
     "metadata": {},
     "output_type": "display_data"
    }
   ],
   "source": [
    "# MERGE INTO ONE DF\n",
    "data <- rbind(data_cut_sort1,data_cut_sort2)\n",
    "\n",
    "#Prepare strings for y-labels (get rid of underscore in rownames)\n",
    "data$y_labels <- paste(plyr::mapvalues(x=data$method, from=names(label_map), to=label_map),data$gwas, sep=' ')\n",
    "data$link_set <- plyr::mapvalues(x=data$method, from=names(label_map), to=label_map)\n",
    "data$color <- colors2[data$link_set] \n",
    "xmax <- ceiling(max(data$fold_enrich) + 0.5)\n",
    "xmax"
   ]
  },
  {
   "cell_type": "code",
   "execution_count": 37,
   "id": "e094b1ea-8236-495d-b224-b9c88e3e2e9b",
   "metadata": {},
   "outputs": [
    {
     "data": {
      "image/png": "[encoded data removed]",
      "text/plain": [
       "plot without title"
      ]
     },
     "metadata": {
      "image/png": {
       "height": 360,
       "width": 420
      }
     },
     "output_type": "display_data"
    }
   ],
   "source": [
    "# Make a bar plot with the subsetted data\n",
    "options(repr.plot.width = 7, repr.plot.height = 6)\n",
    "theme_set(\n",
    "    theme_classic())\n",
    "\n",
    "p1 <- ggplot(data=data, aes(x=fold_enrich, y=gwas, fill=link_set)) + \n",
    "        geom_vline(xintercept=seq(0, xmax, 2.5), linetype='dashed', color='black', alpha=0.5, size=0.5) + \n",
    "        geom_bar(position=position_dodge(0.9), stat='identity') + \n",
    "        scale_fill_manual(values=colors2) + \n",
    "        geom_vline(xintercept=1, color='black', size=0.5) + \n",
    "        geom_text(aes(fold_enrich, gwas, label=sig), size=10, position=position_dodge(0.9), hjust=-0.5, vjust=0.65) +\n",
    "        xlim(0,xmax) + \n",
    "        xlab('Fold enrichment') + ylab('GWAS') + labs(title='Enrichment of GWAS Results') + \n",
    "        theme(plot.title=element_text(size=18, hjust=0.5),\n",
    "              axis.text.x=element_text(size=15, vjust=0.5),\n",
    "              axis.text.y=element_text(size=15, vjust=0.5),\n",
    "              axis.title.x = element_text(size=18, vjust=-0.35),\n",
    "              axis.title.y = element_text(size=18, vjust=0.5),\n",
    "              legend.text=element_text(size=15),\n",
    "              legend.title=element_text(size=18),\n",
    "              panel.border=element_rect(color='black',fill=NA, size=1))    \n",
    "p1$data$link_set <- factor(x = p1$data$link_set, levels=rev(label_map))\n",
    "print(p1)"
   ]
  },
  {
   "cell_type": "code",
   "execution_count": null,
   "id": "71d6e448-35a7-4183-b685-ac79c057837d",
   "metadata": {},
   "outputs": [],
   "source": []
  }
 ],
 "metadata": {
  "kernelspec": {
   "display_name": "R 4.1",
   "language": "R",
   "name": "ir411"
  },
  "language_info": {
   "codemirror_mode": "r",
   "file_extension": ".r",
   "mimetype": "text/x-r-source",
   "name": "R",
   "pygments_lexer": "r",
   "version": "4.1.1"
  }
 },
 "nbformat": 4,
 "nbformat_minor": 5
}
